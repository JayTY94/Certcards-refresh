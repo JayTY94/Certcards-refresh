{
 "cells": [
  {
   "cell_type": "code",
   "execution_count": 31,
   "id": "00d66a02",
   "metadata": {},
   "outputs": [],
   "source": [
    "import re\n",
    "from random import sample"
   ]
  },
  {
   "cell_type": "code",
   "execution_count": null,
   "id": "4b8d4c7d",
   "metadata": {},
   "outputs": [],
   "source": []
  },
  {
   "cell_type": "code",
   "execution_count": 32,
   "id": "98883856",
   "metadata": {},
   "outputs": [],
   "source": [
    "suggested_module_text = '''Because you scored lower in \"Develop Azure compute solutions\":\n",
    "\n",
    "Build and store container images with Azure Container Registry\n",
    "42 mins\n",
    "Control Azure services with the CLI\n",
    "71 mins\n",
    "Execute an Azure Function with triggers\n",
    "83 mins\n",
    "Host a web application with Azure App Service\n",
    "31 mins\n",
    "Run Docker containers with Azure Container Instances\n",
    "55 mins\n",
    "Configure web app settings\n",
    "30 mins\n",
    "Run container images in Azure Container Instances\n",
    "36 mins\n",
    "Develop Azure Functions\n",
    "38 mins\n",
    "Explore Azure Functions\n",
    "20 mins\n",
    "Explore Azure App Service\n",
    "44 mins\n",
    "Manage container images in Azure Container Registry\n",
    "41 mins\n",
    "Explore Azure App Service deployment slots\n",
    "57 mins\n",
    "Because you scored lower in \"Develop for Azure storage\":\n",
    "\n",
    "Consume an Azure Cosmos DB for NoSQL change feed using the SDK\n",
    "39 mins\n",
    "Explore Azure Cosmos DB\n",
    "39 mins\n",
    "Handle events with Azure Functions and Azure Cosmos DB for NoSQL change feed\n",
    "46 mins\n",
    "Manage the Azure Blob storage lifecycle\n",
    "21 mins\n",
    "Work with Azure Blob storage\n",
    "53 mins\n",
    "Work with Azure Cosmos DB\n",
    "55 mins\n",
    "Because you scored lower in \"Implement Azure security\":\n",
    "\n",
    "Access user photo information by using Microsoft Graph\n",
    "17 mins\n",
    "Secure your Azure Storage account\n",
    "45 mins\n",
    "Control Azure services with the CLI\n",
    "71 mins\n",
    "Store application data with Azure Blob Storage\n",
    "50 mins\n",
    "Explore the Microsoft identity platform\n",
    "21 mins\n",
    "Implement authentication by using the Microsoft Authentication Library\n",
    "30 mins\n",
    "Implement Azure App Configuration\n",
    "36 mins\n",
    "Implement Azure Key Vault\n",
    "48 mins\n",
    "Implement managed identities\n",
    "23 mins\n",
    "Implement shared access signatures\n",
    "18 mins\n",
    "Explore Microsoft Graph\n",
    "36 mins\n",
    "Because you scored lower in \"Monitor, troubleshoot, and optimize Azure solutions\":\n",
    "\n",
    "Monitor app performance\n",
    "44 mins\n",
    "Because you scored lower in \"Connect to and consume Azure services and third-party services\":\n",
    "\n",
    "Control Azure services with the CLI\n",
    "71 mins\n",
    "Explore Azure Event Grid\n",
    "59 mins\n",
    "Explore Azure Event Hubs\n",
    "58 mins\n",
    "Discover Azure message queues\n",
    "87 mins\n",
    "Explore API Management\n",
    "47 mins\n",
    "Explore Microsoft Graph\n",
    "36 mins'''\n"
   ]
  },
  {
   "cell_type": "code",
   "execution_count": 33,
   "id": "d4a6f3b5",
   "metadata": {},
   "outputs": [],
   "source": [
    "modules = re.split(r'\\d{2} mins', suggested_module_text, maxsplit=0)"
   ]
  },
  {
   "cell_type": "code",
   "execution_count": 34,
   "id": "4c7835a5",
   "metadata": {},
   "outputs": [],
   "source": [
    "modules = [name.strip() for name in modules if name]"
   ]
  },
  {
   "cell_type": "code",
   "execution_count": 35,
   "id": "f59bcd32",
   "metadata": {},
   "outputs": [
    {
     "data": {
      "text/plain": [
       "['Store application data with Azure Blob Storage',\n",
       " 'Because you scored lower in \"Develop for Azure storage\":\\n\\nConsume an Azure Cosmos DB for NoSQL change feed using the SDK',\n",
       " 'Execute an Azure Function with triggers',\n",
       " 'Secure your Azure Storage account',\n",
       " 'Explore Azure Cosmos DB']"
      ]
     },
     "execution_count": 35,
     "metadata": {},
     "output_type": "execute_result"
    }
   ],
   "source": [
    "sample(modules, 5)"
   ]
  }
 ],
 "metadata": {
  "kernelspec": {
   "display_name": "Python 3",
   "language": "python",
   "name": "python3"
  },
  "language_info": {
   "codemirror_mode": {
    "name": "ipython",
    "version": 3
   },
   "file_extension": ".py",
   "mimetype": "text/x-python",
   "name": "python",
   "nbconvert_exporter": "python",
   "pygments_lexer": "ipython3",
   "version": "3.10.10"
  }
 },
 "nbformat": 4,
 "nbformat_minor": 5
}
