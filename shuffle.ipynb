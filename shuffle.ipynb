{
 "cells": [
  {
   "cell_type": "code",
   "execution_count": 92,
   "metadata": {},
   "outputs": [],
   "source": [
    "import re\n",
    "import random\n",
    "import pandas as pd\n",
    "import hashlib"
   ]
  },
  {
   "cell_type": "code",
   "execution_count": 93,
   "metadata": {},
   "outputs": [],
   "source": [
    "with open('certcards2.txt', mode='r', encoding='utf8') as f:\n",
    "    all_cards = f.read()\n",
    "    \n",
    "card_split_pattern = r'\\n\\n\\n\\d+\\n'\n",
    "all_cards = re.split(card_split_pattern, all_cards)\n",
    "# Use re.DOTALL to allow . to match newline characters\n",
    "card_pattern = re.compile(r'(.+?)\\n([\\s\\S]+)', re.DOTALL)\n",
    "cards = [(match.group(1), match.group(2)) for cstring in all_cards if (match := re.search(card_pattern, cstring))]\n",
    "\n",
    "# removing the cards that have no content and trimming\n",
    "cards = [(subject, stripped_content) for subject, content in cards if len(stripped_content := content.strip()) > 5]\n",
    "\n",
    "def hash_string_md5(s):\n",
    "    \"\"\"\n",
    "    Hashes a string using MD5 and returns a truncated hash for efficiency.\n",
    "\n",
    "    Parameters:\n",
    "    - s (str): The input string to hash.\n",
    "\n",
    "    Returns:\n",
    "    - str: The truncated hexadecimal hash string.\n",
    "    \"\"\"\n",
    "    if pd.isnull(s):\n",
    "        return None  # Handle NaN values gracefully\n",
    "    return hashlib.md5(s.encode('utf-8')).hexdigest()\n",
    "\n",
    "\n",
    "def remake_card_document(existing_cards: pd.DataFrame, filename: str='certcards2.txt'):\n",
    "    with open(filename, mode='w', encoding='utf8') as f:\n",
    "        i = 1\n",
    "        for _, row in existing_cards.iterrows():\n",
    "            f.write('\\n'*6)\n",
    "            f.write(str(i)+'\\n')  \n",
    "            f.write(row['head']+'\\n')\n",
    "            f.write(row['body'])\n",
    "            i+=1\n",
    "    print(F\"Cards found: {existing_cards.shape[0]}\")\n",
    "\n",
    "\n",
    "existing_cards = pd.DataFrame(cards, columns=['head', 'body'])\n",
    "\n",
    "\n",
    "# existing_cards['age'] = [random.random() for _ in existing_cards.index]\n",
    "existing_cards['hash'] = existing_cards['body'].apply(hash_string_md5)\n",
    "existing_cards\n",
    "\n",
    "card_ages = pd.read_json('card_ages.json')\n",
    "card_ages = card_ages.drop_duplicates(subset=['hash'], keep='first')\n",
    "\n",
    "cards_to_age = pd.merge(\n",
    "    left=existing_cards,\n",
    "    right=card_ages[['hash', 'age']],\n",
    "    left_on='hash', right_on='hash',\n",
    "    how='left'\n",
    ")\n",
    "\n",
    "cards_to_age['head'] = cards_to_age['head'].str.strip()\n",
    "\n",
    "if cards_to_age['age'].sum() > 2e4: age_factor = 1\n",
    "else: age_factor = 1.00\n",
    "\n",
    "cards_to_age['age'] = cards_to_age['age'].fillna(0)\n",
    "cards_to_age['age'] = cards_to_age['age'] * age_factor\n",
    "cards_to_age['age'] = cards_to_age['age'] + [random.expovariate(.60) for _ in cards_to_age.index]\n",
    "# cards_to_age['age'] = cards_to_age['age'] * [random.expovariate(.5) for _ in cards_to_age.index]\n",
    "\n",
    "# Adding priority age growth to cards for upcoming certifications\n",
    "priority_headers = ['Azure Developer Associate']\n",
    "priority_cards_mask = cards_to_age['head'].isin(priority_headers)\n",
    "cards_to_age.loc[priority_cards_mask, 'age'] = cards_to_age.loc[priority_cards_mask, 'age'] * 1.1\n",
    "\n",
    "\n",
    "cards_to_age = cards_to_age.drop_duplicates(subset=['hash'], keep='first')\n",
    "\n",
    "cards_to_age['subject_mean_age'] = cards_to_age.groupby('head')['age'].transform('mean')\n",
    "cards_to_age['subject_highest_age'] = cards_to_age.groupby('head')['age'].transform('max')\n",
    "cards_to_age['subject_age_sum'] = cards_to_age.groupby('head')['age'].transform('sum')\n",
    "cards_to_age['head_random_roll'] = cards_to_age.groupby('head')['head'].transform(lambda x: random.random())\n",
    "\n",
    "\n",
    "cards_to_age.sort_values('hash')[['age', 'head', 'hash']].to_json('card_ages.json', indent=2)\n",
    "\n",
    "existing_cards = cards_to_age"
   ]
  },
  {
   "cell_type": "code",
   "execution_count": 94,
   "metadata": {},
   "outputs": [
    {
     "data": {
      "application/vnd.microsoft.datawrangler.viewer.v0+json": {
       "columns": [
        {
         "name": "index",
         "rawType": "object",
         "type": "string"
        },
        {
         "name": "age_sum",
         "rawType": "float64",
         "type": "float"
        },
        {
         "name": "age_mean",
         "rawType": "float64",
         "type": "float"
        },
        {
         "name": "age_max",
         "rawType": "float64",
         "type": "float"
        },
        {
         "name": "head_count",
         "rawType": "int64",
         "type": "integer"
        }
       ],
       "conversionMethod": "pd.DataFrame",
       "ref": "92923e1a-a8ad-429c-9e8a-a503b625f2de",
       "rows": [
        [
         "Azure Developer Associate",
         "532.2708990059158",
         "12.378393000137576",
         "36.78808309144095",
         "43"
        ],
        [
         "OData",
         "770.4433098506028",
         "192.6108274626507",
         "294.9660095052249",
         "4"
        ],
        [
         "Python",
         "1134.378506068989",
         "24.135712895084872",
         "36.74426376358398",
         "47"
        ],
        [
         "Todd Ideas",
         "1161.8465530981773",
         "77.45643687321181",
         "165.2314107243553",
         "15"
        ],
        [
         "Email Auth and Security",
         "1597.600070671119",
         "133.13333922259326",
         "494.6042405648599",
         "12"
        ],
        [
         "SharePoint",
         "1866.4516608444583",
         "155.53763840370485",
         "595.5841068569413",
         "12"
        ],
        [
         "Audit Report Tracker (Sharepoint List)",
         "1999.108979573673",
         "153.77761381335947",
         "388.9856708515755",
         "13"
        ],
        [
         "Azure Functions + Visual Studio",
         "2160.4357433320906",
         "154.31683880943504",
         "498.71313683727254",
         "14"
        ],
        [
         "Debugging in VS Code",
         "2227.882302862817",
         "111.39411514314085",
         "278.8617459485966",
         "20"
        ],
        [
         "IW Migration",
         "2334.7161845794008",
         "166.76544175567147",
         "478.94599177968763",
         "14"
        ],
        [
         "Terraform",
         "2472.589866315249",
         "98.90359465260995",
         "270.7836827733273",
         "25"
        ],
        [
         "Open Source/GitHub",
         "2530.4035049720314",
         "158.15021906075197",
         "381.4638861217603",
         "16"
        ],
        [
         "FSLogix",
         "2805.4995183202673",
         "116.89581326334446",
         "279.06120599362043",
         "24"
        ],
        [
         "Azure Functions",
         "3078.31353798826",
         "279.84668527166",
         "766.2059873918213",
         "11"
        ],
        [
         "Home Network Project",
         "3237.519228132694",
         "202.34495175829338",
         "474.38715727218175",
         "16"
        ],
        [
         "DNS",
         "3420.90427531246",
         "213.80651720702875",
         "423.0166040818477",
         "16"
        ],
        [
         "WSL + Kali Linux",
         "3585.075160937427",
         "188.68816636512773",
         "421.24386830427807",
         "19"
        ],
        [
         "Azure Functions + PP365",
         "3840.9570541941785",
         "166.99813279105123",
         "436.3692612391649",
         "23"
        ],
        [
         "Azure AI Search",
         "4013.9901531540886",
         "286.71358236814916",
         "747.0233470556552",
         "14"
        ],
        [
         "Powershell Modules",
         "5221.354626823241",
         "174.04515422744137",
         "692.332009148228",
         "30"
        ],
        [
         "Logging in Python",
         "5761.326017254371",
         "117.5780819847831",
         "694.1489166797055",
         "49"
        ],
        [
         "PnP Powershell",
         "7228.650019191487",
         "190.22763208398652",
         "671.4621200257941",
         "38"
        ],
        [
         "Vocab",
         "7772.569002932839",
         "105.03471625584918",
         "882.226889240093",
         "74"
        ],
        [
         "JavaScript Concepts",
         "7990.5042198096035",
         "130.99187245589513",
         "448.84689832668084",
         "61"
        ]
       ],
       "shape": {
        "columns": 4,
        "rows": 24
       }
      },
      "text/html": [
       "<div>\n",
       "<style scoped>\n",
       "    .dataframe tbody tr th:only-of-type {\n",
       "        vertical-align: middle;\n",
       "    }\n",
       "\n",
       "    .dataframe tbody tr th {\n",
       "        vertical-align: top;\n",
       "    }\n",
       "\n",
       "    .dataframe thead th {\n",
       "        text-align: right;\n",
       "    }\n",
       "</style>\n",
       "<table border=\"1\" class=\"dataframe\">\n",
       "  <thead>\n",
       "    <tr style=\"text-align: right;\">\n",
       "      <th></th>\n",
       "      <th>age_sum</th>\n",
       "      <th>age_mean</th>\n",
       "      <th>age_max</th>\n",
       "      <th>head_count</th>\n",
       "    </tr>\n",
       "  </thead>\n",
       "  <tbody>\n",
       "    <tr>\n",
       "      <th>Azure Developer Associate</th>\n",
       "      <td>532.270899</td>\n",
       "      <td>12.378393</td>\n",
       "      <td>36.788083</td>\n",
       "      <td>43</td>\n",
       "    </tr>\n",
       "    <tr>\n",
       "      <th>OData</th>\n",
       "      <td>770.443310</td>\n",
       "      <td>192.610827</td>\n",
       "      <td>294.966010</td>\n",
       "      <td>4</td>\n",
       "    </tr>\n",
       "    <tr>\n",
       "      <th>Python</th>\n",
       "      <td>1134.378506</td>\n",
       "      <td>24.135713</td>\n",
       "      <td>36.744264</td>\n",
       "      <td>47</td>\n",
       "    </tr>\n",
       "    <tr>\n",
       "      <th>Todd Ideas</th>\n",
       "      <td>1161.846553</td>\n",
       "      <td>77.456437</td>\n",
       "      <td>165.231411</td>\n",
       "      <td>15</td>\n",
       "    </tr>\n",
       "    <tr>\n",
       "      <th>Email Auth and Security</th>\n",
       "      <td>1597.600071</td>\n",
       "      <td>133.133339</td>\n",
       "      <td>494.604241</td>\n",
       "      <td>12</td>\n",
       "    </tr>\n",
       "    <tr>\n",
       "      <th>SharePoint</th>\n",
       "      <td>1866.451661</td>\n",
       "      <td>155.537638</td>\n",
       "      <td>595.584107</td>\n",
       "      <td>12</td>\n",
       "    </tr>\n",
       "    <tr>\n",
       "      <th>Audit Report Tracker (Sharepoint List)</th>\n",
       "      <td>1999.108980</td>\n",
       "      <td>153.777614</td>\n",
       "      <td>388.985671</td>\n",
       "      <td>13</td>\n",
       "    </tr>\n",
       "    <tr>\n",
       "      <th>Azure Functions + Visual Studio</th>\n",
       "      <td>2160.435743</td>\n",
       "      <td>154.316839</td>\n",
       "      <td>498.713137</td>\n",
       "      <td>14</td>\n",
       "    </tr>\n",
       "    <tr>\n",
       "      <th>Debugging in VS Code</th>\n",
       "      <td>2227.882303</td>\n",
       "      <td>111.394115</td>\n",
       "      <td>278.861746</td>\n",
       "      <td>20</td>\n",
       "    </tr>\n",
       "    <tr>\n",
       "      <th>IW Migration</th>\n",
       "      <td>2334.716185</td>\n",
       "      <td>166.765442</td>\n",
       "      <td>478.945992</td>\n",
       "      <td>14</td>\n",
       "    </tr>\n",
       "    <tr>\n",
       "      <th>Terraform</th>\n",
       "      <td>2472.589866</td>\n",
       "      <td>98.903595</td>\n",
       "      <td>270.783683</td>\n",
       "      <td>25</td>\n",
       "    </tr>\n",
       "    <tr>\n",
       "      <th>Open Source/GitHub</th>\n",
       "      <td>2530.403505</td>\n",
       "      <td>158.150219</td>\n",
       "      <td>381.463886</td>\n",
       "      <td>16</td>\n",
       "    </tr>\n",
       "    <tr>\n",
       "      <th>FSLogix</th>\n",
       "      <td>2805.499518</td>\n",
       "      <td>116.895813</td>\n",
       "      <td>279.061206</td>\n",
       "      <td>24</td>\n",
       "    </tr>\n",
       "    <tr>\n",
       "      <th>Azure Functions</th>\n",
       "      <td>3078.313538</td>\n",
       "      <td>279.846685</td>\n",
       "      <td>766.205987</td>\n",
       "      <td>11</td>\n",
       "    </tr>\n",
       "    <tr>\n",
       "      <th>Home Network Project</th>\n",
       "      <td>3237.519228</td>\n",
       "      <td>202.344952</td>\n",
       "      <td>474.387157</td>\n",
       "      <td>16</td>\n",
       "    </tr>\n",
       "    <tr>\n",
       "      <th>DNS</th>\n",
       "      <td>3420.904275</td>\n",
       "      <td>213.806517</td>\n",
       "      <td>423.016604</td>\n",
       "      <td>16</td>\n",
       "    </tr>\n",
       "    <tr>\n",
       "      <th>WSL + Kali Linux</th>\n",
       "      <td>3585.075161</td>\n",
       "      <td>188.688166</td>\n",
       "      <td>421.243868</td>\n",
       "      <td>19</td>\n",
       "    </tr>\n",
       "    <tr>\n",
       "      <th>Azure Functions + PP365</th>\n",
       "      <td>3840.957054</td>\n",
       "      <td>166.998133</td>\n",
       "      <td>436.369261</td>\n",
       "      <td>23</td>\n",
       "    </tr>\n",
       "    <tr>\n",
       "      <th>Azure AI Search</th>\n",
       "      <td>4013.990153</td>\n",
       "      <td>286.713582</td>\n",
       "      <td>747.023347</td>\n",
       "      <td>14</td>\n",
       "    </tr>\n",
       "    <tr>\n",
       "      <th>Powershell Modules</th>\n",
       "      <td>5221.354627</td>\n",
       "      <td>174.045154</td>\n",
       "      <td>692.332009</td>\n",
       "      <td>30</td>\n",
       "    </tr>\n",
       "    <tr>\n",
       "      <th>Logging in Python</th>\n",
       "      <td>5761.326017</td>\n",
       "      <td>117.578082</td>\n",
       "      <td>694.148917</td>\n",
       "      <td>49</td>\n",
       "    </tr>\n",
       "    <tr>\n",
       "      <th>PnP Powershell</th>\n",
       "      <td>7228.650019</td>\n",
       "      <td>190.227632</td>\n",
       "      <td>671.462120</td>\n",
       "      <td>38</td>\n",
       "    </tr>\n",
       "    <tr>\n",
       "      <th>Vocab</th>\n",
       "      <td>7772.569003</td>\n",
       "      <td>105.034716</td>\n",
       "      <td>882.226889</td>\n",
       "      <td>74</td>\n",
       "    </tr>\n",
       "    <tr>\n",
       "      <th>JavaScript Concepts</th>\n",
       "      <td>7990.504220</td>\n",
       "      <td>130.991872</td>\n",
       "      <td>448.846898</td>\n",
       "      <td>61</td>\n",
       "    </tr>\n",
       "  </tbody>\n",
       "</table>\n",
       "</div>"
      ],
      "text/plain": [
       "                                            age_sum    age_mean     age_max  \\\n",
       "Azure Developer Associate                532.270899   12.378393   36.788083   \n",
       "OData                                    770.443310  192.610827  294.966010   \n",
       "Python                                  1134.378506   24.135713   36.744264   \n",
       "Todd Ideas                              1161.846553   77.456437  165.231411   \n",
       "Email Auth and Security                 1597.600071  133.133339  494.604241   \n",
       "SharePoint                              1866.451661  155.537638  595.584107   \n",
       "Audit Report Tracker (Sharepoint List)  1999.108980  153.777614  388.985671   \n",
       "Azure Functions + Visual Studio         2160.435743  154.316839  498.713137   \n",
       "Debugging in VS Code                    2227.882303  111.394115  278.861746   \n",
       "IW Migration                            2334.716185  166.765442  478.945992   \n",
       "Terraform                               2472.589866   98.903595  270.783683   \n",
       "Open Source/GitHub                      2530.403505  158.150219  381.463886   \n",
       "FSLogix                                 2805.499518  116.895813  279.061206   \n",
       "Azure Functions                         3078.313538  279.846685  766.205987   \n",
       "Home Network Project                    3237.519228  202.344952  474.387157   \n",
       "DNS                                     3420.904275  213.806517  423.016604   \n",
       "WSL + Kali Linux                        3585.075161  188.688166  421.243868   \n",
       "Azure Functions + PP365                 3840.957054  166.998133  436.369261   \n",
       "Azure AI Search                         4013.990153  286.713582  747.023347   \n",
       "Powershell Modules                      5221.354627  174.045154  692.332009   \n",
       "Logging in Python                       5761.326017  117.578082  694.148917   \n",
       "PnP Powershell                          7228.650019  190.227632  671.462120   \n",
       "Vocab                                   7772.569003  105.034716  882.226889   \n",
       "JavaScript Concepts                     7990.504220  130.991872  448.846898   \n",
       "\n",
       "                                        head_count  \n",
       "Azure Developer Associate                       43  \n",
       "OData                                            4  \n",
       "Python                                          47  \n",
       "Todd Ideas                                      15  \n",
       "Email Auth and Security                         12  \n",
       "SharePoint                                      12  \n",
       "Audit Report Tracker (Sharepoint List)          13  \n",
       "Azure Functions + Visual Studio                 14  \n",
       "Debugging in VS Code                            20  \n",
       "IW Migration                                    14  \n",
       "Terraform                                       25  \n",
       "Open Source/GitHub                              16  \n",
       "FSLogix                                         24  \n",
       "Azure Functions                                 11  \n",
       "Home Network Project                            16  \n",
       "DNS                                             16  \n",
       "WSL + Kali Linux                                19  \n",
       "Azure Functions + PP365                         23  \n",
       "Azure AI Search                                 14  \n",
       "Powershell Modules                              30  \n",
       "Logging in Python                               49  \n",
       "PnP Powershell                                  38  \n",
       "Vocab                                           74  \n",
       "JavaScript Concepts                             61  "
      ]
     },
     "execution_count": 94,
     "metadata": {},
     "output_type": "execute_result"
    }
   ],
   "source": [
    "stats = existing_cards.groupby('head').agg({'age': ['sum', 'mean', 'max'], 'head': 'count'}).sort_values(('age', 'sum'))\n",
    "stats.columns = stats.columns.to_flat_index()\n",
    "stats.columns = ['_'.join(col).strip() for col in stats.columns]\n",
    "stats.index.name = None\n",
    "stats"
   ]
  },
  {
   "cell_type": "markdown",
   "metadata": {},
   "source": [
    "# Histogram"
   ]
  },
  {
   "cell_type": "code",
   "execution_count": 95,
   "metadata": {},
   "outputs": [
    {
     "name": "stdout",
     "output_type": "stream",
     "text": [
      "78744.79\n"
     ]
    },
    {
     "data": {
      "text/plain": [
       "<Axes: >"
      ]
     },
     "execution_count": 95,
     "metadata": {},
     "output_type": "execute_result"
    },
    {
     "data": {
      "image/png": "[encoded data removed]",
      "text/plain": [
       "<Figure size 640x480 with 1 Axes>"
      ]
     },
     "metadata": {},
     "output_type": "display_data"
    }
   ],
   "source": [
    "print(f\"{existing_cards['age'].sum(0):.2f}\")\n",
    "existing_cards['age'].hist(bins=20)"
   ]
  },
  {
   "cell_type": "markdown",
   "metadata": {},
   "source": [
    "# Completely Random Shuffle"
   ]
  },
  {
   "cell_type": "code",
   "execution_count": 96,
   "metadata": {},
   "outputs": [],
   "source": [
    "# existing_cards = existing_cards.sample(frac=1)\n",
    "# remake_card_document(filename='certcards2.txt', existing_cards = existing_cards)"
   ]
  },
  {
   "cell_type": "markdown",
   "metadata": {},
   "source": [
    "# Age Sort"
   ]
  },
  {
   "cell_type": "code",
   "execution_count": 97,
   "metadata": {},
   "outputs": [],
   "source": [
    "# existing_cards = existing_cards.sort_values('age', ascending=False)\n",
    "# remake_card_document(filename='certcards2.txt', existing_cards=existing_cards)\n",
    "# existing_cards.head(10)"
   ]
  },
  {
   "cell_type": "markdown",
   "metadata": {},
   "source": [
    "# Headers with fewest notes first"
   ]
  },
  {
   "cell_type": "code",
   "execution_count": 98,
   "metadata": {},
   "outputs": [],
   "source": [
    "# frequency = existing_cards['head'].value_counts(ascending=True)\n",
    "\n",
    "# existing_cards = pd.merge(\n",
    "#     left=existing_cards,\n",
    "#     right=frequency.rename('frequency'),\n",
    "#     left_on='head', right_index=True,\n",
    "#     how='left'\n",
    "# )\n",
    "# existing_cards['oldest'] = existing_cards.groupby('head')['age'].transform('max')\n",
    "# existing_cards['subject_highest_age'] = existing_cards['subject_highest_age'] * -1\n",
    "# existing_cards['age'] = existing_cards['age'] * -1\n",
    "\n",
    "\n",
    "# existing_cards.sort_values(['frequency', 'subject_highest_age', 'age'], ascending=True, inplace=True)\n",
    "\n",
    "# remake_card_document(filename='certcards2.txt', existing_cards=existing_cards)\n",
    "\n",
    "# existing_cards.head(10)"
   ]
  },
  {
   "cell_type": "markdown",
   "metadata": {},
   "source": [
    "# Focus on one header"
   ]
  },
  {
   "cell_type": "code",
   "execution_count": 99,
   "metadata": {},
   "outputs": [],
   "source": [
    "# heads = existing_cards['head'].value_counts()\n",
    "# heads = heads[heads > 5].index.tolist()\n",
    "# one_header = random.sample(heads, 1)[0]\n",
    "# existing_cards['pick_head'] = existing_cards['head'].apply(\n",
    "#     lambda h: 0 if h == one_header else 1 \n",
    "# )\n",
    "\n",
    "# remake_card_document(existing_cards=existing_cards.sort_values('pick_head'))"
   ]
  },
  {
   "cell_type": "markdown",
   "metadata": {},
   "source": [
    "## Header with oldest cards first"
   ]
  },
  {
   "cell_type": "code",
   "execution_count": 100,
   "metadata": {},
   "outputs": [],
   "source": [
    "# existing_cards['oldest'] = existing_cards.groupby('head')['age'].transform('max')\n",
    "# existing_cards.sort_values(['oldest', 'age'], ascending=False, inplace=True)\n",
    "# remake_card_document(existing_cards)"
   ]
  },
  {
   "cell_type": "markdown",
   "metadata": {},
   "source": [
    "## Headers with greatest mean card age first"
   ]
  },
  {
   "cell_type": "code",
   "execution_count": 101,
   "metadata": {},
   "outputs": [],
   "source": [
    "# existing_cards.sort_values(['subject_mean_age', 'age'], ascending=False, inplace=True)\n",
    "# remake_card_document(existing_cards)"
   ]
  },
  {
   "cell_type": "markdown",
   "metadata": {},
   "source": [
    "## Headers with greatest age sum first"
   ]
  },
  {
   "cell_type": "code",
   "execution_count": 102,
   "metadata": {},
   "outputs": [],
   "source": [
    "# existing_cards.sort_values(['subject_age_sum', 'age'], ascending=False, inplace=True)\n",
    "# remake_card_document(existing_cards)"
   ]
  },
  {
   "cell_type": "markdown",
   "metadata": {},
   "source": [
    "# N-fold shuffle\n"
   ]
  },
  {
   "cell_type": "markdown",
   "metadata": {},
   "source": [
    "## Age Sum"
   ]
  },
  {
   "cell_type": "code",
   "execution_count": 103,
   "metadata": {},
   "outputs": [],
   "source": [
    "# n=3\n",
    "# existing_cards['count'] = existing_cards.sort_values('age', ascending=False).groupby('head').cumcount()\n",
    "# existing_cards['n_fold'] = existing_cards['count'] % n\n",
    "\n",
    "# existing_cards['subject_age_sum'] = existing_cards['subject_age_sum'] *-1\n",
    "# existing_cards['age'] = existing_cards['age'] *-1\n",
    "# existing_cards.sort_values(['n_fold', 'subject_age_sum', 'age'], inplace=True)\n",
    "\n",
    "# remake_card_document(existing_cards=existing_cards)\n",
    "# existing_cards.head(10)\n"
   ]
  },
  {
   "cell_type": "markdown",
   "metadata": {},
   "source": [
    "## Age Mean"
   ]
  },
  {
   "cell_type": "code",
   "execution_count": 104,
   "metadata": {},
   "outputs": [
    {
     "name": "stdout",
     "output_type": "stream",
     "text": [
      "Cards found: 610\n"
     ]
    },
    {
     "data": {
      "application/vnd.microsoft.datawrangler.viewer.v0+json": {
       "columns": [
        {
         "name": "index",
         "rawType": "int64",
         "type": "integer"
        },
        {
         "name": "head",
         "rawType": "object",
         "type": "string"
        },
        {
         "name": "body",
         "rawType": "object",
         "type": "string"
        },
        {
         "name": "hash",
         "rawType": "object",
         "type": "string"
        },
        {
         "name": "age",
         "rawType": "float64",
         "type": "float"
        },
        {
         "name": "subject_mean_age",
         "rawType": "float64",
         "type": "float"
        },
        {
         "name": "subject_highest_age",
         "rawType": "float64",
         "type": "float"
        },
        {
         "name": "subject_age_sum",
         "rawType": "float64",
         "type": "float"
        },
        {
         "name": "head_random_roll",
         "rawType": "float64",
         "type": "float"
        },
        {
         "name": "count",
         "rawType": "int64",
         "type": "integer"
        },
        {
         "name": "n_fold",
         "rawType": "int64",
         "type": "integer"
        }
       ],
       "conversionMethod": "pd.DataFrame",
       "ref": "308f697b-bfac-4a47-924f-46a5da60600b",
       "rows": [
        [
         "79",
         "Azure AI Search",
         "After the first indexer run, you can rerun it on demand or set up a schedule.\n\nYou can monitor indexer status in the Azure portal or through Get Indexer Status API. You should also run queries on the index to verify the result is what you expected.",
         "32962e9b2ebb8fe8f74b47cd3080634c",
         "-747.0233470556552",
         "-286.71358236814916",
         "747.0233470556552",
         "4013.9901531540886",
         "0.5550660989173282",
         "0",
         "0"
        ],
        [
         "80",
         "Azure AI Search",
         "You can run indexers on demand or on a recurring data refresh schedule that runs as often as every five minutes. More frequent updates preclude the use of indexers, requiring that you implement a 'push model' that simultaneously pushes data to both Azure AI Search and your external data source.",
         "d21f788db3aa4c9876a0cd1b9fc6575a",
         "-410.01986358360386",
         "-286.71358236814916",
         "747.0233470556552",
         "4013.9901531540886",
         "0.5550660989173282",
         "3",
         "0"
        ],
        [
         "81",
         "Azure AI Search",
         "A search service runs one indexer job per search unit. If you need concurrent processing, make sure you have sufficient replicas. Indexers don't run in the background, so you might detect more query throttling than usual if the service is under pressure.",
         "8ced20f45d99f3695593df15dc3bb81b",
         "-277.6990779913128",
         "-286.71358236814916",
         "747.0233470556552",
         "4013.9901531540886",
         "0.5550660989173282",
         "6",
         "0"
        ],
        [
         "82",
         "Azure AI Search",
         "Integrated vectorization is an extension of the indexing and query pipelines in Azure AI Search. It adds the following capabilities:\n\nData chunking during indexing\nText-to-vector conversion during indexing\nText-to-vector conversion during queries",
         "fefb72f4e20a03e6f44b64672d721418",
         "-122.5711383645533",
         "-286.71358236814916",
         "747.0233470556552",
         "4013.9901531540886",
         "0.5550660989173282",
         "9",
         "0"
        ],
        [
         "83",
         "Azure AI Search",
         "A quick way to perform a preliminary check on the document upload is to use Search explorer in the Azure portal.\nThe explorer lets you query an index without having to write any code. The search experience is based on default settings, such as the simple syntax and default searchMode query parameter. Results are returned in JSON so that you can inspect the entire document.",
         "9b368be497f64f7521778d6f8408af62",
         "-71.2257409367853",
         "-286.71358236814916",
         "747.0233470556552",
         "4013.9901531540886",
         "0.5550660989173282",
         "12",
         "0"
        ],
        [
         "111",
         "Azure Functions",
         "2. Suppose your Azure Function has a blob trigger associated with it and you want it to execute only when png images are uploaded. Which of the following blob trigger Path values should you use? \n\nsamples-workitems/{name}.png\nThe Path tells the blob trigger where it should monitor for changes, and if there are any filters applied. Adding a file extension to the Path specifies that uploaded files must have that file extension in order for the trigger to invoke the function.",
         "fc5054fcf13b3189012cf676692c4f29",
         "-766.2059873918213",
         "-279.84668527166",
         "766.2059873918213",
         "3078.31353798826",
         "0.33569880918804407",
         "0",
         "0"
        ],
        [
         "112",
         "Azure Functions",
         "Managed identities for Azure resources is the new name for the service formerly known as Managed Service Identity (MSI).",
         "d618a61eb92103d74592fcb5b08e7479",
         "-318.640479439062",
         "-279.84668527166",
         "766.2059873918213",
         "3078.31353798826",
         "0.33569880918804407",
         "3",
         "0"
        ],
        [
         "113",
         "Azure Functions",
         "Activity functions are the basic units of work in a Durable Functions orchestration. An activity function contains the actual work performed by the tasks being orchestrated.",
         "64379cd90c412b46bfd075ad3219f0fe",
         "-157.90218633162428",
         "-279.84668527166",
         "766.2059873918213",
         "3078.31353798826",
         "0.33569880918804407",
         "6",
         "0"
        ],
        [
         "114",
         "Azure Functions",
         "When you enable a system-assigned managed identity:\n\nA service principal of a special type is created in Microsoft Entra ID for the identity. The service principal is tied to the lifecycle of that Azure resource. When the Azure resource is deleted, Azure automatically deletes the service principal for you.",
         "9023717ae86ade1f00495acbc7c511ab",
         "-62.226995186786006",
         "-279.84668527166",
         "766.2059873918213",
         "3078.31353798826",
         "0.33569880918804407",
         "9",
         "0"
        ],
        [
         "99",
         "DNS",
         "Securing Zone Transfers\nMeasures taken to protect DNS zone data during transfers between DNS servers. This includes restricting transfers to authorized IP addresses and using security protocols like TSIG or IPsec to authenticate and encrypt the data, ensuring integrity and confidentiality.",
         "29d80ddfc54d4c7ce2121c00053c35cd",
         "-423.0166040818477",
         "-213.80651720702875",
         "423.0166040818477",
         "3420.90427531246",
         "0.6492715395811578",
         "0",
         "0"
        ]
       ],
       "shape": {
        "columns": 10,
        "rows": 10
       }
      },
      "text/html": [
       "<div>\n",
       "<style scoped>\n",
       "    .dataframe tbody tr th:only-of-type {\n",
       "        vertical-align: middle;\n",
       "    }\n",
       "\n",
       "    .dataframe tbody tr th {\n",
       "        vertical-align: top;\n",
       "    }\n",
       "\n",
       "    .dataframe thead th {\n",
       "        text-align: right;\n",
       "    }\n",
       "</style>\n",
       "<table border=\"1\" class=\"dataframe\">\n",
       "  <thead>\n",
       "    <tr style=\"text-align: right;\">\n",
       "      <th></th>\n",
       "      <th>head</th>\n",
       "      <th>body</th>\n",
       "      <th>hash</th>\n",
       "      <th>age</th>\n",
       "      <th>subject_mean_age</th>\n",
       "      <th>subject_highest_age</th>\n",
       "      <th>subject_age_sum</th>\n",
       "      <th>head_random_roll</th>\n",
       "      <th>count</th>\n",
       "      <th>n_fold</th>\n",
       "    </tr>\n",
       "  </thead>\n",
       "  <tbody>\n",
       "    <tr>\n",
       "      <th>79</th>\n",
       "      <td>Azure AI Search</td>\n",
       "      <td>After the first indexer run, you can rerun it ...</td>\n",
       "      <td>32962e9b2ebb8fe8f74b47cd3080634c</td>\n",
       "      <td>-747.023347</td>\n",
       "      <td>-286.713582</td>\n",
       "      <td>747.023347</td>\n",
       "      <td>4013.990153</td>\n",
       "      <td>0.555066</td>\n",
       "      <td>0</td>\n",
       "      <td>0</td>\n",
       "    </tr>\n",
       "    <tr>\n",
       "      <th>80</th>\n",
       "      <td>Azure AI Search</td>\n",
       "      <td>You can run indexers on demand or on a recurri...</td>\n",
       "      <td>d21f788db3aa4c9876a0cd1b9fc6575a</td>\n",
       "      <td>-410.019864</td>\n",
       "      <td>-286.713582</td>\n",
       "      <td>747.023347</td>\n",
       "      <td>4013.990153</td>\n",
       "      <td>0.555066</td>\n",
       "      <td>3</td>\n",
       "      <td>0</td>\n",
       "    </tr>\n",
       "    <tr>\n",
       "      <th>81</th>\n",
       "      <td>Azure AI Search</td>\n",
       "      <td>A search service runs one indexer job per sear...</td>\n",
       "      <td>8ced20f45d99f3695593df15dc3bb81b</td>\n",
       "      <td>-277.699078</td>\n",
       "      <td>-286.713582</td>\n",
       "      <td>747.023347</td>\n",
       "      <td>4013.990153</td>\n",
       "      <td>0.555066</td>\n",
       "      <td>6</td>\n",
       "      <td>0</td>\n",
       "    </tr>\n",
       "    <tr>\n",
       "      <th>82</th>\n",
       "      <td>Azure AI Search</td>\n",
       "      <td>Integrated vectorization is an extension of th...</td>\n",
       "      <td>fefb72f4e20a03e6f44b64672d721418</td>\n",
       "      <td>-122.571138</td>\n",
       "      <td>-286.713582</td>\n",
       "      <td>747.023347</td>\n",
       "      <td>4013.990153</td>\n",
       "      <td>0.555066</td>\n",
       "      <td>9</td>\n",
       "      <td>0</td>\n",
       "    </tr>\n",
       "    <tr>\n",
       "      <th>83</th>\n",
       "      <td>Azure AI Search</td>\n",
       "      <td>A quick way to perform a preliminary check on ...</td>\n",
       "      <td>9b368be497f64f7521778d6f8408af62</td>\n",
       "      <td>-71.225741</td>\n",
       "      <td>-286.713582</td>\n",
       "      <td>747.023347</td>\n",
       "      <td>4013.990153</td>\n",
       "      <td>0.555066</td>\n",
       "      <td>12</td>\n",
       "      <td>0</td>\n",
       "    </tr>\n",
       "    <tr>\n",
       "      <th>111</th>\n",
       "      <td>Azure Functions</td>\n",
       "      <td>2. Suppose your Azure Function has a blob trig...</td>\n",
       "      <td>fc5054fcf13b3189012cf676692c4f29</td>\n",
       "      <td>-766.205987</td>\n",
       "      <td>-279.846685</td>\n",
       "      <td>766.205987</td>\n",
       "      <td>3078.313538</td>\n",
       "      <td>0.335699</td>\n",
       "      <td>0</td>\n",
       "      <td>0</td>\n",
       "    </tr>\n",
       "    <tr>\n",
       "      <th>112</th>\n",
       "      <td>Azure Functions</td>\n",
       "      <td>Managed identities for Azure resources is the ...</td>\n",
       "      <td>d618a61eb92103d74592fcb5b08e7479</td>\n",
       "      <td>-318.640479</td>\n",
       "      <td>-279.846685</td>\n",
       "      <td>766.205987</td>\n",
       "      <td>3078.313538</td>\n",
       "      <td>0.335699</td>\n",
       "      <td>3</td>\n",
       "      <td>0</td>\n",
       "    </tr>\n",
       "    <tr>\n",
       "      <th>113</th>\n",
       "      <td>Azure Functions</td>\n",
       "      <td>Activity functions are the basic units of work...</td>\n",
       "      <td>64379cd90c412b46bfd075ad3219f0fe</td>\n",
       "      <td>-157.902186</td>\n",
       "      <td>-279.846685</td>\n",
       "      <td>766.205987</td>\n",
       "      <td>3078.313538</td>\n",
       "      <td>0.335699</td>\n",
       "      <td>6</td>\n",
       "      <td>0</td>\n",
       "    </tr>\n",
       "    <tr>\n",
       "      <th>114</th>\n",
       "      <td>Azure Functions</td>\n",
       "      <td>When you enable a system-assigned managed iden...</td>\n",
       "      <td>9023717ae86ade1f00495acbc7c511ab</td>\n",
       "      <td>-62.226995</td>\n",
       "      <td>-279.846685</td>\n",
       "      <td>766.205987</td>\n",
       "      <td>3078.313538</td>\n",
       "      <td>0.335699</td>\n",
       "      <td>9</td>\n",
       "      <td>0</td>\n",
       "    </tr>\n",
       "    <tr>\n",
       "      <th>99</th>\n",
       "      <td>DNS</td>\n",
       "      <td>Securing Zone Transfers\\nMeasures taken to pro...</td>\n",
       "      <td>29d80ddfc54d4c7ce2121c00053c35cd</td>\n",
       "      <td>-423.016604</td>\n",
       "      <td>-213.806517</td>\n",
       "      <td>423.016604</td>\n",
       "      <td>3420.904275</td>\n",
       "      <td>0.649272</td>\n",
       "      <td>0</td>\n",
       "      <td>0</td>\n",
       "    </tr>\n",
       "  </tbody>\n",
       "</table>\n",
       "</div>"
      ],
      "text/plain": [
       "                head                                               body  \\\n",
       "79   Azure AI Search  After the first indexer run, you can rerun it ...   \n",
       "80   Azure AI Search  You can run indexers on demand or on a recurri...   \n",
       "81   Azure AI Search  A search service runs one indexer job per sear...   \n",
       "82   Azure AI Search  Integrated vectorization is an extension of th...   \n",
       "83   Azure AI Search  A quick way to perform a preliminary check on ...   \n",
       "111  Azure Functions  2. Suppose your Azure Function has a blob trig...   \n",
       "112  Azure Functions  Managed identities for Azure resources is the ...   \n",
       "113  Azure Functions  Activity functions are the basic units of work...   \n",
       "114  Azure Functions  When you enable a system-assigned managed iden...   \n",
       "99               DNS  Securing Zone Transfers\\nMeasures taken to pro...   \n",
       "\n",
       "                                 hash         age  subject_mean_age  \\\n",
       "79   32962e9b2ebb8fe8f74b47cd3080634c -747.023347       -286.713582   \n",
       "80   d21f788db3aa4c9876a0cd1b9fc6575a -410.019864       -286.713582   \n",
       "81   8ced20f45d99f3695593df15dc3bb81b -277.699078       -286.713582   \n",
       "82   fefb72f4e20a03e6f44b64672d721418 -122.571138       -286.713582   \n",
       "83   9b368be497f64f7521778d6f8408af62  -71.225741       -286.713582   \n",
       "111  fc5054fcf13b3189012cf676692c4f29 -766.205987       -279.846685   \n",
       "112  d618a61eb92103d74592fcb5b08e7479 -318.640479       -279.846685   \n",
       "113  64379cd90c412b46bfd075ad3219f0fe -157.902186       -279.846685   \n",
       "114  9023717ae86ade1f00495acbc7c511ab  -62.226995       -279.846685   \n",
       "99   29d80ddfc54d4c7ce2121c00053c35cd -423.016604       -213.806517   \n",
       "\n",
       "     subject_highest_age  subject_age_sum  head_random_roll  count  n_fold  \n",
       "79            747.023347      4013.990153          0.555066      0       0  \n",
       "80            747.023347      4013.990153          0.555066      3       0  \n",
       "81            747.023347      4013.990153          0.555066      6       0  \n",
       "82            747.023347      4013.990153          0.555066      9       0  \n",
       "83            747.023347      4013.990153          0.555066     12       0  \n",
       "111           766.205987      3078.313538          0.335699      0       0  \n",
       "112           766.205987      3078.313538          0.335699      3       0  \n",
       "113           766.205987      3078.313538          0.335699      6       0  \n",
       "114           766.205987      3078.313538          0.335699      9       0  \n",
       "99            423.016604      3420.904275          0.649272      0       0  "
      ]
     },
     "execution_count": 104,
     "metadata": {},
     "output_type": "execute_result"
    }
   ],
   "source": [
    "n=3\n",
    "existing_cards['count'] = existing_cards.sort_values('age', ascending=False).groupby('head').cumcount()\n",
    "existing_cards['n_fold'] = existing_cards['count'] % n\n",
    "\n",
    "existing_cards['subject_mean_age'] = existing_cards['subject_mean_age'] *-1\n",
    "existing_cards['age'] = existing_cards['age'] *-1\n",
    "existing_cards.sort_values(['n_fold', 'subject_mean_age', 'age'], inplace=True)\n",
    "remake_card_document(existing_cards=existing_cards)\n",
    "\n",
    "existing_cards.head(10)\n",
    "\n"
   ]
  },
  {
   "cell_type": "markdown",
   "metadata": {},
   "source": [
    "## Age Max"
   ]
  },
  {
   "cell_type": "code",
   "execution_count": 105,
   "metadata": {},
   "outputs": [],
   "source": [
    "# n = 1\n",
    "# existing_cards['count'] = existing_cards.sort_values('age', ascending=False).groupby('head').cumcount()\n",
    "# existing_cards['n_fold'] = existing_cards['count'] // n\n",
    "\n",
    "# if existing_cards['age'].sum() > 0:\n",
    "#     existing_cards['subject_highest_age'] = existing_cards['subject_highest_age'] *-1\n",
    "#     existing_cards['age'] = existing_cards['age'] *-1\n",
    "# existing_cards.sort_values(['n_fold', 'subject_highest_age', 'age'], inplace=True)\n",
    "\n",
    "# remake_card_document(existing_cards=existing_cards)\n",
    "# existing_cards.head(10)\n"
   ]
  },
  {
   "cell_type": "markdown",
   "metadata": {},
   "source": [
    "## Card Count"
   ]
  },
  {
   "cell_type": "code",
   "execution_count": 106,
   "metadata": {},
   "outputs": [],
   "source": [
    "# n=10\n",
    "# existing_cards['frequency']  = existing_cards.groupby('head').transform('count')['body']\n",
    "# existing_cards['count'] = existing_cards.sort_values('age', ascending=False).groupby('head').cumcount()\n",
    "# existing_cards['n_fold'] = existing_cards['count'] // n\n",
    "\n",
    "# if existing_cards['age'].sum() > 0:\n",
    "#     # existing_cards['neg_subject_highest_age'] = existing_cards['subject_highest_age'] *-1\n",
    "#     existing_cards['neg_age'] = existing_cards['age'] *-1\n",
    "# existing_cards.sort_values(['n_fold', 'frequency', 'neg_age'], inplace=True)\n",
    "# remake_card_document(existing_cards=existing_cards)\n",
    "\n",
    "# existing_cards.head(10)\n",
    "\n"
   ]
  },
  {
   "cell_type": "markdown",
   "metadata": {},
   "source": [
    "\n",
    "## Random"
   ]
  },
  {
   "cell_type": "code",
   "execution_count": 107,
   "metadata": {},
   "outputs": [],
   "source": [
    "# n = 3\n",
    "# existing_cards['count'] = existing_cards.sort_values('age', ascending=False).groupby('head').cumcount()\n",
    "# existing_cards['n_fold'] = existing_cards['count'] % n\n",
    "# existing_cards['age'] *= -1\n",
    "# existing_cards.sort_values(['n_fold', 'head_random_roll', 'age'], inplace=True)\n",
    "# remake_card_document(existing_cards=existing_cards)\n",
    "# existing_cards.head(10)"
   ]
  },
  {
   "cell_type": "code",
   "execution_count": 108,
   "metadata": {},
   "outputs": [
    {
     "data": {
      "application/vnd.microsoft.datawrangler.viewer.v0+json": {
       "columns": [
        {
         "name": "index",
         "rawType": "int64",
         "type": "integer"
        },
        {
         "name": "head",
         "rawType": "object",
         "type": "string"
        },
        {
         "name": "body",
         "rawType": "object",
         "type": "string"
        },
        {
         "name": "hash",
         "rawType": "object",
         "type": "string"
        },
        {
         "name": "age",
         "rawType": "float64",
         "type": "float"
        },
        {
         "name": "subject_mean_age",
         "rawType": "float64",
         "type": "float"
        },
        {
         "name": "subject_highest_age",
         "rawType": "float64",
         "type": "float"
        },
        {
         "name": "subject_age_sum",
         "rawType": "float64",
         "type": "float"
        },
        {
         "name": "head_random_roll",
         "rawType": "float64",
         "type": "float"
        },
        {
         "name": "count",
         "rawType": "int64",
         "type": "integer"
        },
        {
         "name": "n_fold",
         "rawType": "int64",
         "type": "integer"
        }
       ],
       "conversionMethod": "pd.DataFrame",
       "ref": "f5107831-8897-4f81-8654-4b4c155cf254",
       "rows": [
        [
         "79",
         "Azure AI Search",
         "After the first indexer run, you can rerun it on demand or set up a schedule.\n\nYou can monitor indexer status in the Azure portal or through Get Indexer Status API. You should also run queries on the index to verify the result is what you expected.",
         "32962e9b2ebb8fe8f74b47cd3080634c",
         "-747.0233470556552",
         "-286.71358236814916",
         "747.0233470556552",
         "4013.9901531540886",
         "0.5550660989173282",
         "0",
         "0"
        ],
        [
         "80",
         "Azure AI Search",
         "You can run indexers on demand or on a recurring data refresh schedule that runs as often as every five minutes. More frequent updates preclude the use of indexers, requiring that you implement a 'push model' that simultaneously pushes data to both Azure AI Search and your external data source.",
         "d21f788db3aa4c9876a0cd1b9fc6575a",
         "-410.01986358360386",
         "-286.71358236814916",
         "747.0233470556552",
         "4013.9901531540886",
         "0.5550660989173282",
         "3",
         "0"
        ],
        [
         "81",
         "Azure AI Search",
         "A search service runs one indexer job per search unit. If you need concurrent processing, make sure you have sufficient replicas. Indexers don't run in the background, so you might detect more query throttling than usual if the service is under pressure.",
         "8ced20f45d99f3695593df15dc3bb81b",
         "-277.6990779913128",
         "-286.71358236814916",
         "747.0233470556552",
         "4013.9901531540886",
         "0.5550660989173282",
         "6",
         "0"
        ],
        [
         "82",
         "Azure AI Search",
         "Integrated vectorization is an extension of the indexing and query pipelines in Azure AI Search. It adds the following capabilities:\n\nData chunking during indexing\nText-to-vector conversion during indexing\nText-to-vector conversion during queries",
         "fefb72f4e20a03e6f44b64672d721418",
         "-122.5711383645533",
         "-286.71358236814916",
         "747.0233470556552",
         "4013.9901531540886",
         "0.5550660989173282",
         "9",
         "0"
        ],
        [
         "83",
         "Azure AI Search",
         "A quick way to perform a preliminary check on the document upload is to use Search explorer in the Azure portal.\nThe explorer lets you query an index without having to write any code. The search experience is based on default settings, such as the simple syntax and default searchMode query parameter. Results are returned in JSON so that you can inspect the entire document.",
         "9b368be497f64f7521778d6f8408af62",
         "-71.2257409367853",
         "-286.71358236814916",
         "747.0233470556552",
         "4013.9901531540886",
         "0.5550660989173282",
         "12",
         "0"
        ],
        [
         "111",
         "Azure Functions",
         "2. Suppose your Azure Function has a blob trigger associated with it and you want it to execute only when png images are uploaded. Which of the following blob trigger Path values should you use? \n\nsamples-workitems/{name}.png\nThe Path tells the blob trigger where it should monitor for changes, and if there are any filters applied. Adding a file extension to the Path specifies that uploaded files must have that file extension in order for the trigger to invoke the function.",
         "fc5054fcf13b3189012cf676692c4f29",
         "-766.2059873918213",
         "-279.84668527166",
         "766.2059873918213",
         "3078.31353798826",
         "0.33569880918804407",
         "0",
         "0"
        ],
        [
         "112",
         "Azure Functions",
         "Managed identities for Azure resources is the new name for the service formerly known as Managed Service Identity (MSI).",
         "d618a61eb92103d74592fcb5b08e7479",
         "-318.640479439062",
         "-279.84668527166",
         "766.2059873918213",
         "3078.31353798826",
         "0.33569880918804407",
         "3",
         "0"
        ],
        [
         "113",
         "Azure Functions",
         "Activity functions are the basic units of work in a Durable Functions orchestration. An activity function contains the actual work performed by the tasks being orchestrated.",
         "64379cd90c412b46bfd075ad3219f0fe",
         "-157.90218633162428",
         "-279.84668527166",
         "766.2059873918213",
         "3078.31353798826",
         "0.33569880918804407",
         "6",
         "0"
        ],
        [
         "114",
         "Azure Functions",
         "When you enable a system-assigned managed identity:\n\nA service principal of a special type is created in Microsoft Entra ID for the identity. The service principal is tied to the lifecycle of that Azure resource. When the Azure resource is deleted, Azure automatically deletes the service principal for you.",
         "9023717ae86ade1f00495acbc7c511ab",
         "-62.226995186786006",
         "-279.84668527166",
         "766.2059873918213",
         "3078.31353798826",
         "0.33569880918804407",
         "9",
         "0"
        ],
        [
         "99",
         "DNS",
         "Securing Zone Transfers\nMeasures taken to protect DNS zone data during transfers between DNS servers. This includes restricting transfers to authorized IP addresses and using security protocols like TSIG or IPsec to authenticate and encrypt the data, ensuring integrity and confidentiality.",
         "29d80ddfc54d4c7ce2121c00053c35cd",
         "-423.0166040818477",
         "-213.80651720702875",
         "423.0166040818477",
         "3420.90427531246",
         "0.6492715395811578",
         "0",
         "0"
        ]
       ],
       "shape": {
        "columns": 10,
        "rows": 10
       }
      },
      "text/html": [
       "<div>\n",
       "<style scoped>\n",
       "    .dataframe tbody tr th:only-of-type {\n",
       "        vertical-align: middle;\n",
       "    }\n",
       "\n",
       "    .dataframe tbody tr th {\n",
       "        vertical-align: top;\n",
       "    }\n",
       "\n",
       "    .dataframe thead th {\n",
       "        text-align: right;\n",
       "    }\n",
       "</style>\n",
       "<table border=\"1\" class=\"dataframe\">\n",
       "  <thead>\n",
       "    <tr style=\"text-align: right;\">\n",
       "      <th></th>\n",
       "      <th>head</th>\n",
       "      <th>body</th>\n",
       "      <th>hash</th>\n",
       "      <th>age</th>\n",
       "      <th>subject_mean_age</th>\n",
       "      <th>subject_highest_age</th>\n",
       "      <th>subject_age_sum</th>\n",
       "      <th>head_random_roll</th>\n",
       "      <th>count</th>\n",
       "      <th>n_fold</th>\n",
       "    </tr>\n",
       "  </thead>\n",
       "  <tbody>\n",
       "    <tr>\n",
       "      <th>79</th>\n",
       "      <td>Azure AI Search</td>\n",
       "      <td>After the first indexer run, you can rerun it ...</td>\n",
       "      <td>32962e9b2ebb8fe8f74b47cd3080634c</td>\n",
       "      <td>-747.023347</td>\n",
       "      <td>-286.713582</td>\n",
       "      <td>747.023347</td>\n",
       "      <td>4013.990153</td>\n",
       "      <td>0.555066</td>\n",
       "      <td>0</td>\n",
       "      <td>0</td>\n",
       "    </tr>\n",
       "    <tr>\n",
       "      <th>80</th>\n",
       "      <td>Azure AI Search</td>\n",
       "      <td>You can run indexers on demand or on a recurri...</td>\n",
       "      <td>d21f788db3aa4c9876a0cd1b9fc6575a</td>\n",
       "      <td>-410.019864</td>\n",
       "      <td>-286.713582</td>\n",
       "      <td>747.023347</td>\n",
       "      <td>4013.990153</td>\n",
       "      <td>0.555066</td>\n",
       "      <td>3</td>\n",
       "      <td>0</td>\n",
       "    </tr>\n",
       "    <tr>\n",
       "      <th>81</th>\n",
       "      <td>Azure AI Search</td>\n",
       "      <td>A search service runs one indexer job per sear...</td>\n",
       "      <td>8ced20f45d99f3695593df15dc3bb81b</td>\n",
       "      <td>-277.699078</td>\n",
       "      <td>-286.713582</td>\n",
       "      <td>747.023347</td>\n",
       "      <td>4013.990153</td>\n",
       "      <td>0.555066</td>\n",
       "      <td>6</td>\n",
       "      <td>0</td>\n",
       "    </tr>\n",
       "    <tr>\n",
       "      <th>82</th>\n",
       "      <td>Azure AI Search</td>\n",
       "      <td>Integrated vectorization is an extension of th...</td>\n",
       "      <td>fefb72f4e20a03e6f44b64672d721418</td>\n",
       "      <td>-122.571138</td>\n",
       "      <td>-286.713582</td>\n",
       "      <td>747.023347</td>\n",
       "      <td>4013.990153</td>\n",
       "      <td>0.555066</td>\n",
       "      <td>9</td>\n",
       "      <td>0</td>\n",
       "    </tr>\n",
       "    <tr>\n",
       "      <th>83</th>\n",
       "      <td>Azure AI Search</td>\n",
       "      <td>A quick way to perform a preliminary check on ...</td>\n",
       "      <td>9b368be497f64f7521778d6f8408af62</td>\n",
       "      <td>-71.225741</td>\n",
       "      <td>-286.713582</td>\n",
       "      <td>747.023347</td>\n",
       "      <td>4013.990153</td>\n",
       "      <td>0.555066</td>\n",
       "      <td>12</td>\n",
       "      <td>0</td>\n",
       "    </tr>\n",
       "    <tr>\n",
       "      <th>111</th>\n",
       "      <td>Azure Functions</td>\n",
       "      <td>2. Suppose your Azure Function has a blob trig...</td>\n",
       "      <td>fc5054fcf13b3189012cf676692c4f29</td>\n",
       "      <td>-766.205987</td>\n",
       "      <td>-279.846685</td>\n",
       "      <td>766.205987</td>\n",
       "      <td>3078.313538</td>\n",
       "      <td>0.335699</td>\n",
       "      <td>0</td>\n",
       "      <td>0</td>\n",
       "    </tr>\n",
       "    <tr>\n",
       "      <th>112</th>\n",
       "      <td>Azure Functions</td>\n",
       "      <td>Managed identities for Azure resources is the ...</td>\n",
       "      <td>d618a61eb92103d74592fcb5b08e7479</td>\n",
       "      <td>-318.640479</td>\n",
       "      <td>-279.846685</td>\n",
       "      <td>766.205987</td>\n",
       "      <td>3078.313538</td>\n",
       "      <td>0.335699</td>\n",
       "      <td>3</td>\n",
       "      <td>0</td>\n",
       "    </tr>\n",
       "    <tr>\n",
       "      <th>113</th>\n",
       "      <td>Azure Functions</td>\n",
       "      <td>Activity functions are the basic units of work...</td>\n",
       "      <td>64379cd90c412b46bfd075ad3219f0fe</td>\n",
       "      <td>-157.902186</td>\n",
       "      <td>-279.846685</td>\n",
       "      <td>766.205987</td>\n",
       "      <td>3078.313538</td>\n",
       "      <td>0.335699</td>\n",
       "      <td>6</td>\n",
       "      <td>0</td>\n",
       "    </tr>\n",
       "    <tr>\n",
       "      <th>114</th>\n",
       "      <td>Azure Functions</td>\n",
       "      <td>When you enable a system-assigned managed iden...</td>\n",
       "      <td>9023717ae86ade1f00495acbc7c511ab</td>\n",
       "      <td>-62.226995</td>\n",
       "      <td>-279.846685</td>\n",
       "      <td>766.205987</td>\n",
       "      <td>3078.313538</td>\n",
       "      <td>0.335699</td>\n",
       "      <td>9</td>\n",
       "      <td>0</td>\n",
       "    </tr>\n",
       "    <tr>\n",
       "      <th>99</th>\n",
       "      <td>DNS</td>\n",
       "      <td>Securing Zone Transfers\\nMeasures taken to pro...</td>\n",
       "      <td>29d80ddfc54d4c7ce2121c00053c35cd</td>\n",
       "      <td>-423.016604</td>\n",
       "      <td>-213.806517</td>\n",
       "      <td>423.016604</td>\n",
       "      <td>3420.904275</td>\n",
       "      <td>0.649272</td>\n",
       "      <td>0</td>\n",
       "      <td>0</td>\n",
       "    </tr>\n",
       "  </tbody>\n",
       "</table>\n",
       "</div>"
      ],
      "text/plain": [
       "                head                                               body  \\\n",
       "79   Azure AI Search  After the first indexer run, you can rerun it ...   \n",
       "80   Azure AI Search  You can run indexers on demand or on a recurri...   \n",
       "81   Azure AI Search  A search service runs one indexer job per sear...   \n",
       "82   Azure AI Search  Integrated vectorization is an extension of th...   \n",
       "83   Azure AI Search  A quick way to perform a preliminary check on ...   \n",
       "111  Azure Functions  2. Suppose your Azure Function has a blob trig...   \n",
       "112  Azure Functions  Managed identities for Azure resources is the ...   \n",
       "113  Azure Functions  Activity functions are the basic units of work...   \n",
       "114  Azure Functions  When you enable a system-assigned managed iden...   \n",
       "99               DNS  Securing Zone Transfers\\nMeasures taken to pro...   \n",
       "\n",
       "                                 hash         age  subject_mean_age  \\\n",
       "79   32962e9b2ebb8fe8f74b47cd3080634c -747.023347       -286.713582   \n",
       "80   d21f788db3aa4c9876a0cd1b9fc6575a -410.019864       -286.713582   \n",
       "81   8ced20f45d99f3695593df15dc3bb81b -277.699078       -286.713582   \n",
       "82   fefb72f4e20a03e6f44b64672d721418 -122.571138       -286.713582   \n",
       "83   9b368be497f64f7521778d6f8408af62  -71.225741       -286.713582   \n",
       "111  fc5054fcf13b3189012cf676692c4f29 -766.205987       -279.846685   \n",
       "112  d618a61eb92103d74592fcb5b08e7479 -318.640479       -279.846685   \n",
       "113  64379cd90c412b46bfd075ad3219f0fe -157.902186       -279.846685   \n",
       "114  9023717ae86ade1f00495acbc7c511ab  -62.226995       -279.846685   \n",
       "99   29d80ddfc54d4c7ce2121c00053c35cd -423.016604       -213.806517   \n",
       "\n",
       "     subject_highest_age  subject_age_sum  head_random_roll  count  n_fold  \n",
       "79            747.023347      4013.990153          0.555066      0       0  \n",
       "80            747.023347      4013.990153          0.555066      3       0  \n",
       "81            747.023347      4013.990153          0.555066      6       0  \n",
       "82            747.023347      4013.990153          0.555066      9       0  \n",
       "83            747.023347      4013.990153          0.555066     12       0  \n",
       "111           766.205987      3078.313538          0.335699      0       0  \n",
       "112           766.205987      3078.313538          0.335699      3       0  \n",
       "113           766.205987      3078.313538          0.335699      6       0  \n",
       "114           766.205987      3078.313538          0.335699      9       0  \n",
       "99            423.016604      3420.904275          0.649272      0       0  "
      ]
     },
     "execution_count": 108,
     "metadata": {},
     "output_type": "execute_result"
    }
   ],
   "source": [
    "existing_cards.head(10)"
   ]
  },
  {
   "cell_type": "code",
   "execution_count": 109,
   "metadata": {},
   "outputs": [
    {
     "data": {
      "text/plain": [
       "-129.0898203200417"
      ]
     },
     "execution_count": 109,
     "metadata": {},
     "output_type": "execute_result"
    }
   ],
   "source": [
    "existing_cards['age'].mean()"
   ]
  }
 ],
 "metadata": {
  "kernelspec": {
   "display_name": "Python 3",
   "language": "python",
   "name": "python3"
  },
  "language_info": {
   "codemirror_mode": {
    "name": "ipython",
    "version": 3
   },
   "file_extension": ".py",
   "mimetype": "text/x-python",
   "name": "python",
   "nbconvert_exporter": "python",
   "pygments_lexer": "ipython3",
   "version": "3.10.10"
  }
 },
 "nbformat": 4,
 "nbformat_minor": 2
}
