{
 "cells": [
  {
   "cell_type": "code",
   "execution_count": 19,
   "metadata": {},
   "outputs": [],
   "source": [
    "import re\n",
    "import random\n",
    "import pandas as pd\n",
    "import hashlib"
   ]
  },
  {
   "cell_type": "code",
   "execution_count": 20,
   "metadata": {},
   "outputs": [],
   "source": [
    "with open('certcards2.txt', mode='r', encoding='utf8') as f:\n",
    "    all_cards = f.read()\n",
    "    \n",
    "card_split_pattern = r'\\n\\n\\n\\d+\\n'\n",
    "all_cards = re.split(card_split_pattern, all_cards)\n",
    "# Use re.DOTALL to allow . to match newline characters\n",
    "card_pattern = re.compile(r'(.+?)\\n([\\s\\S]+)', re.DOTALL)\n",
    "cards = [(match.group(1), match.group(2)) for cstring in all_cards if (match := re.search(card_pattern, cstring))]\n",
    "\n",
    "# removing the cards that have no content and trimming\n",
    "cards = [(subject, stripped_content) for subject, content in cards if len(stripped_content := content.strip()) > 5]\n",
    "\n",
    "def hash_string_md5(s):\n",
    "    \"\"\"\n",
    "    Hashes a string using MD5 and returns a truncated hash for efficiency.\n",
    "\n",
    "    Parameters:\n",
    "    - s (str): The input string to hash.\n",
    "\n",
    "    Returns:\n",
    "    - str: The truncated hexadecimal hash string.\n",
    "    \"\"\"\n",
    "    if pd.isnull(s):\n",
    "        return None  # Handle NaN values gracefully\n",
    "    return hashlib.md5(s.encode('utf-8')).hexdigest()\n",
    "\n",
    "\n",
    "def remake_card_document(existing_cards: pd.DataFrame, filename: str='certcards2.txt'):\n",
    "    with open(filename, mode='w', encoding='utf8') as f:\n",
    "        i = 1\n",
    "        for _, row in existing_cards.iterrows():\n",
    "            f.write('\\n'*6)\n",
    "            f.write(str(i)+'\\n')  \n",
    "            f.write(row['head']+'\\n')\n",
    "            f.write(row['body'])\n",
    "            i+=1\n",
    "    print(F\"Cards found: {existing_cards.shape[0]}\")\n",
    "    print(F\"Total card age: {abs(existing_cards['age'].sum()):.2f}\")\n",
    "\n",
    "\n",
    "existing_cards = pd.DataFrame(cards, columns=['head', 'body'])\n",
    "\n",
    "\n",
    "# existing_cards['age'] = [random.random() for _ in existing_cards.index]\n",
    "existing_cards['hash'] = existing_cards['body'].apply(hash_string_md5)\n",
    "existing_cards\n",
    "\n",
    "card_ages = pd.read_json('card_ages.json')\n",
    "card_ages = card_ages.drop_duplicates(subset=['hash'], keep='first')\n",
    "\n",
    "cards_to_age = pd.merge(\n",
    "    left=existing_cards,\n",
    "    right=card_ages[['hash', 'age']],\n",
    "    left_on='hash', right_on='hash',\n",
    "    how='left'\n",
    ")\n",
    "\n",
    "cards_to_age['head'] = cards_to_age['head'].str.strip()\n",
    "\n",
    "if cards_to_age['age'].mean() > 80: age_factor = .5\n",
    "else: age_factor = 1\n",
    "\n",
    "cards_to_age['age'] = cards_to_age['age'].fillna(0)\n",
    "# cards_to_age['age'] = cards_to_age['age'] * age_factor\n",
    "cards_to_age['age'] = cards_to_age['age'] + [random.expovariate(.60) for _ in cards_to_age.index]\n",
    "# cards_to_age['age'] = cards_to_age['age'] * [random.expovariate(1/age_factor) for _ in cards_to_age.index]\n",
    "\n",
    "# Adding priority age growth to cards for upcoming certifications\n",
    "priority_headers = ['Azure Developer Associate']\n",
    "priority_cards_mask = cards_to_age['head'].isin(priority_headers)\n",
    "cards_to_age.loc[priority_cards_mask, 'age'] = cards_to_age.loc[priority_cards_mask, 'age'] * 1.05\n",
    "\n",
    "cards_to_age = cards_to_age.drop_duplicates(subset=['hash'], keep='first')\n",
    "\n",
    "cards_to_age['subject_mean_age'] = cards_to_age.groupby('head')['age'].transform('mean')\n",
    "cards_to_age['subject_highest_age'] = cards_to_age.groupby('head')['age'].transform('max')\n",
    "cards_to_age['subject_age_sum'] = cards_to_age.groupby('head')['age'].transform('sum')\n",
    "cards_to_age['head_random_roll'] = cards_to_age.groupby('head')['head'].transform(lambda x: random.random())\n",
    "\n",
    "\n",
    "cards_to_age.sort_values('hash')[['age', 'head', 'hash']].to_json('card_ages.json', indent=2)\n",
    "\n",
    "existing_cards = cards_to_age"
   ]
  },
  {
   "cell_type": "code",
   "execution_count": 21,
   "metadata": {},
   "outputs": [
    {
     "data": {
      "text/html": [
       "<div>\n",
       "<style scoped>\n",
       "    .dataframe tbody tr th:only-of-type {\n",
       "        vertical-align: middle;\n",
       "    }\n",
       "\n",
       "    .dataframe tbody tr th {\n",
       "        vertical-align: top;\n",
       "    }\n",
       "\n",
       "    .dataframe thead th {\n",
       "        text-align: right;\n",
       "    }\n",
       "</style>\n",
       "<table border=\"1\" class=\"dataframe\">\n",
       "  <thead>\n",
       "    <tr style=\"text-align: right;\">\n",
       "      <th></th>\n",
       "      <th>age_sum</th>\n",
       "      <th>age_mean</th>\n",
       "      <th>age_max</th>\n",
       "      <th>head_count</th>\n",
       "    </tr>\n",
       "  </thead>\n",
       "  <tbody>\n",
       "    <tr>\n",
       "      <th>SharePoint</th>\n",
       "      <td>82.064353</td>\n",
       "      <td>20.516088</td>\n",
       "      <td>25.474077</td>\n",
       "      <td>4</td>\n",
       "    </tr>\n",
       "    <tr>\n",
       "      <th>Asynchronous Python</th>\n",
       "      <td>242.536622</td>\n",
       "      <td>5.272535</td>\n",
       "      <td>16.381884</td>\n",
       "      <td>46</td>\n",
       "    </tr>\n",
       "    <tr>\n",
       "      <th>RAG Project</th>\n",
       "      <td>353.458610</td>\n",
       "      <td>14.727442</td>\n",
       "      <td>56.466534</td>\n",
       "      <td>24</td>\n",
       "    </tr>\n",
       "    <tr>\n",
       "      <th>Azure AD Authentication</th>\n",
       "      <td>443.664900</td>\n",
       "      <td>34.128069</td>\n",
       "      <td>90.221264</td>\n",
       "      <td>13</td>\n",
       "    </tr>\n",
       "    <tr>\n",
       "      <th>Azure DevOps Pipelines</th>\n",
       "      <td>495.487783</td>\n",
       "      <td>19.057222</td>\n",
       "      <td>92.426866</td>\n",
       "      <td>26</td>\n",
       "    </tr>\n",
       "    <tr>\n",
       "      <th>Azure Functions + Visual Studio</th>\n",
       "      <td>711.160006</td>\n",
       "      <td>54.704616</td>\n",
       "      <td>256.773341</td>\n",
       "      <td>13</td>\n",
       "    </tr>\n",
       "    <tr>\n",
       "      <th>Email Auth and Security</th>\n",
       "      <td>739.837855</td>\n",
       "      <td>61.653155</td>\n",
       "      <td>177.822770</td>\n",
       "      <td>12</td>\n",
       "    </tr>\n",
       "    <tr>\n",
       "      <th>Open Source/GitHub</th>\n",
       "      <td>774.004669</td>\n",
       "      <td>48.375292</td>\n",
       "      <td>159.429028</td>\n",
       "      <td>16</td>\n",
       "    </tr>\n",
       "    <tr>\n",
       "      <th>Audit Report Tracker (Sharepoint List)</th>\n",
       "      <td>965.378033</td>\n",
       "      <td>80.448169</td>\n",
       "      <td>358.600550</td>\n",
       "      <td>12</td>\n",
       "    </tr>\n",
       "    <tr>\n",
       "      <th>WSL + Kali Linux</th>\n",
       "      <td>1162.105886</td>\n",
       "      <td>83.007563</td>\n",
       "      <td>295.356865</td>\n",
       "      <td>14</td>\n",
       "    </tr>\n",
       "    <tr>\n",
       "      <th>Debugging in VS Code</th>\n",
       "      <td>1185.688909</td>\n",
       "      <td>62.404679</td>\n",
       "      <td>385.428580</td>\n",
       "      <td>19</td>\n",
       "    </tr>\n",
       "    <tr>\n",
       "      <th>Azure Functions + PP365</th>\n",
       "      <td>1308.618058</td>\n",
       "      <td>62.315146</td>\n",
       "      <td>177.185495</td>\n",
       "      <td>21</td>\n",
       "    </tr>\n",
       "    <tr>\n",
       "      <th>Terraform</th>\n",
       "      <td>1438.940160</td>\n",
       "      <td>57.557606</td>\n",
       "      <td>290.677384</td>\n",
       "      <td>25</td>\n",
       "    </tr>\n",
       "    <tr>\n",
       "      <th>Todd Ideas</th>\n",
       "      <td>1568.556521</td>\n",
       "      <td>104.570435</td>\n",
       "      <td>389.111141</td>\n",
       "      <td>15</td>\n",
       "    </tr>\n",
       "    <tr>\n",
       "      <th>IW Migration</th>\n",
       "      <td>1814.396486</td>\n",
       "      <td>129.599749</td>\n",
       "      <td>595.964264</td>\n",
       "      <td>14</td>\n",
       "    </tr>\n",
       "    <tr>\n",
       "      <th>FSLogix</th>\n",
       "      <td>1907.789822</td>\n",
       "      <td>82.947384</td>\n",
       "      <td>299.027545</td>\n",
       "      <td>23</td>\n",
       "    </tr>\n",
       "    <tr>\n",
       "      <th>Python</th>\n",
       "      <td>2189.382583</td>\n",
       "      <td>46.582608</td>\n",
       "      <td>140.336693</td>\n",
       "      <td>47</td>\n",
       "    </tr>\n",
       "    <tr>\n",
       "      <th>PnP PowerShell</th>\n",
       "      <td>2615.440815</td>\n",
       "      <td>36.325567</td>\n",
       "      <td>385.113459</td>\n",
       "      <td>72</td>\n",
       "    </tr>\n",
       "    <tr>\n",
       "      <th>JavaScript Concepts</th>\n",
       "      <td>3224.741501</td>\n",
       "      <td>60.844179</td>\n",
       "      <td>320.695209</td>\n",
       "      <td>53</td>\n",
       "    </tr>\n",
       "    <tr>\n",
       "      <th>Vocab</th>\n",
       "      <td>3361.665477</td>\n",
       "      <td>55.109270</td>\n",
       "      <td>321.884424</td>\n",
       "      <td>61</td>\n",
       "    </tr>\n",
       "    <tr>\n",
       "      <th>Logging in Python</th>\n",
       "      <td>3976.816230</td>\n",
       "      <td>107.481520</td>\n",
       "      <td>462.786137</td>\n",
       "      <td>37</td>\n",
       "    </tr>\n",
       "    <tr>\n",
       "      <th>Azure Developer Associate</th>\n",
       "      <td>4134.741560</td>\n",
       "      <td>53.009507</td>\n",
       "      <td>538.898906</td>\n",
       "      <td>78</td>\n",
       "    </tr>\n",
       "    <tr>\n",
       "      <th>Powershell Modules</th>\n",
       "      <td>4515.569702</td>\n",
       "      <td>96.075951</td>\n",
       "      <td>808.499710</td>\n",
       "      <td>47</td>\n",
       "    </tr>\n",
       "  </tbody>\n",
       "</table>\n",
       "</div>"
      ],
      "text/plain": [
       "                                            age_sum    age_mean     age_max  \\\n",
       "SharePoint                                82.064353   20.516088   25.474077   \n",
       "Asynchronous Python                      242.536622    5.272535   16.381884   \n",
       "RAG Project                              353.458610   14.727442   56.466534   \n",
       "Azure AD Authentication                  443.664900   34.128069   90.221264   \n",
       "Azure DevOps Pipelines                   495.487783   19.057222   92.426866   \n",
       "Azure Functions + Visual Studio          711.160006   54.704616  256.773341   \n",
       "Email Auth and Security                  739.837855   61.653155  177.822770   \n",
       "Open Source/GitHub                       774.004669   48.375292  159.429028   \n",
       "Audit Report Tracker (Sharepoint List)   965.378033   80.448169  358.600550   \n",
       "WSL + Kali Linux                        1162.105886   83.007563  295.356865   \n",
       "Debugging in VS Code                    1185.688909   62.404679  385.428580   \n",
       "Azure Functions + PP365                 1308.618058   62.315146  177.185495   \n",
       "Terraform                               1438.940160   57.557606  290.677384   \n",
       "Todd Ideas                              1568.556521  104.570435  389.111141   \n",
       "IW Migration                            1814.396486  129.599749  595.964264   \n",
       "FSLogix                                 1907.789822   82.947384  299.027545   \n",
       "Python                                  2189.382583   46.582608  140.336693   \n",
       "PnP PowerShell                          2615.440815   36.325567  385.113459   \n",
       "JavaScript Concepts                     3224.741501   60.844179  320.695209   \n",
       "Vocab                                   3361.665477   55.109270  321.884424   \n",
       "Logging in Python                       3976.816230  107.481520  462.786137   \n",
       "Azure Developer Associate               4134.741560   53.009507  538.898906   \n",
       "Powershell Modules                      4515.569702   96.075951  808.499710   \n",
       "\n",
       "                                        head_count  \n",
       "SharePoint                                       4  \n",
       "Asynchronous Python                             46  \n",
       "RAG Project                                     24  \n",
       "Azure AD Authentication                         13  \n",
       "Azure DevOps Pipelines                          26  \n",
       "Azure Functions + Visual Studio                 13  \n",
       "Email Auth and Security                         12  \n",
       "Open Source/GitHub                              16  \n",
       "Audit Report Tracker (Sharepoint List)          12  \n",
       "WSL + Kali Linux                                14  \n",
       "Debugging in VS Code                            19  \n",
       "Azure Functions + PP365                         21  \n",
       "Terraform                                       25  \n",
       "Todd Ideas                                      15  \n",
       "IW Migration                                    14  \n",
       "FSLogix                                         23  \n",
       "Python                                          47  \n",
       "PnP PowerShell                                  72  \n",
       "JavaScript Concepts                             53  \n",
       "Vocab                                           61  \n",
       "Logging in Python                               37  \n",
       "Azure Developer Associate                       78  \n",
       "Powershell Modules                              47  "
      ]
     },
     "execution_count": 21,
     "metadata": {},
     "output_type": "execute_result"
    }
   ],
   "source": [
    "stats = existing_cards.groupby('head').agg({'age': ['sum', 'mean', 'max'], 'head': 'count'}).sort_values(('age', 'sum'))\n",
    "stats.columns = stats.columns.to_flat_index()\n",
    "stats.columns = ['_'.join(col).strip() for col in stats.columns]\n",
    "stats.index.name = None\n",
    "stats"
   ]
  },
  {
   "cell_type": "markdown",
   "metadata": {},
   "source": [
    "# Histogram"
   ]
  },
  {
   "cell_type": "code",
   "execution_count": 22,
   "metadata": {},
   "outputs": [
    {
     "name": "stdout",
     "output_type": "stream",
     "text": [
      "sum of ages: ~39212.05\n"
     ]
    },
    {
     "data": {
      "text/plain": [
       "<Axes: >"
      ]
     },
     "execution_count": 22,
     "metadata": {},
     "output_type": "execute_result"
    },
    {
     "data": {
      "image/png": "[encoded data removed]",
      "text/plain": [
       "<Figure size 640x480 with 1 Axes>"
      ]
     },
     "metadata": {},
     "output_type": "display_data"
    }
   ],
   "source": [
    "print(f\"sum of ages: ~{existing_cards['age'].sum(0):.2f}\")\n",
    "existing_cards['age'].hist(bins=20)"
   ]
  },
  {
   "cell_type": "markdown",
   "metadata": {},
   "source": [
    "# Completely Random Shuffle"
   ]
  },
  {
   "cell_type": "code",
   "execution_count": 23,
   "metadata": {},
   "outputs": [],
   "source": [
    "# existing_cards = existing_cards.sample(frac=1)\n",
    "# remake_card_document(filename='certcards2.txt', existing_cards = existing_cards)"
   ]
  },
  {
   "cell_type": "markdown",
   "metadata": {},
   "source": [
    "# Age Sort"
   ]
  },
  {
   "cell_type": "code",
   "execution_count": 24,
   "metadata": {},
   "outputs": [],
   "source": [
    "# existing_cards = existing_cards.sort_values('age', ascending=False)\n",
    "# remake_card_document(filename='certcards2.txt', existing_cards=existing_cards)\n",
    "# existing_cards.head(10)"
   ]
  },
  {
   "cell_type": "markdown",
   "metadata": {},
   "source": [
    "# Headers with fewest notes first"
   ]
  },
  {
   "cell_type": "code",
   "execution_count": 25,
   "metadata": {},
   "outputs": [],
   "source": [
    "# frequency = existing_cards['head'].value_counts(ascending=True)\n",
    "\n",
    "# existing_cards = pd.merge(\n",
    "#     left=existing_cards,\n",
    "#     right=frequency.rename('frequency'),\n",
    "#     left_on='head', right_index=True,\n",
    "#     how='left'\n",
    "# )\n",
    "# existing_cards['oldest'] = existing_cards.groupby('head')['age'].transform('max')\n",
    "# existing_cards['subject_highest_age'] = existing_cards['subject_highest_age'] * -1\n",
    "# existing_cards['age'] = existing_cards['age'] * -1\n",
    "\n",
    "\n",
    "# existing_cards.sort_values(['frequency', 'subject_highest_age', 'age'], ascending=True, inplace=True)\n",
    "\n",
    "# remake_card_document(filename='certcards2.txt', existing_cards=existing_cards)\n",
    "\n",
    "# existing_cards.head(10)"
   ]
  },
  {
   "cell_type": "markdown",
   "metadata": {},
   "source": [
    "# Focus on one header"
   ]
  },
  {
   "cell_type": "code",
   "execution_count": 26,
   "metadata": {},
   "outputs": [],
   "source": [
    "# heads = existing_cards['head'].value_counts()\n",
    "# heads = heads[heads > 5].index.tolist()\n",
    "# one_header = random.sample(heads, 1)[0]\n",
    "# existing_cards['pick_head'] = existing_cards['head'].apply(\n",
    "#     lambda h: 0 if h == one_header else 1 \n",
    "# )\n",
    "\n",
    "# remake_card_document(existing_cards=existing_cards.sort_values('pick_head'))"
   ]
  },
  {
   "cell_type": "markdown",
   "metadata": {},
   "source": [
    "## Header with oldest cards first"
   ]
  },
  {
   "cell_type": "code",
   "execution_count": 27,
   "metadata": {},
   "outputs": [],
   "source": [
    "# existing_cards['oldest'] = existing_cards.groupby('head')['age'].transform('max')\n",
    "# existing_cards.sort_values(['oldest', 'age'], ascending=False, inplace=True)\n",
    "# remake_card_document(existing_cards)"
   ]
  },
  {
   "cell_type": "markdown",
   "metadata": {},
   "source": [
    "## Headers with greatest mean card age first"
   ]
  },
  {
   "cell_type": "code",
   "execution_count": 28,
   "metadata": {},
   "outputs": [],
   "source": [
    "# existing_cards.sort_values(['subject_mean_age', 'age'], ascending=False, inplace=True)\n",
    "# remake_card_document(existing_cards)"
   ]
  },
  {
   "cell_type": "markdown",
   "metadata": {},
   "source": [
    "## Headers with greatest age sum first"
   ]
  },
  {
   "cell_type": "code",
   "execution_count": 29,
   "metadata": {},
   "outputs": [],
   "source": [
    "# existing_cards.sort_values(['subject_age_sum', 'age'], ascending=False, inplace=True)\n",
    "# remake_card_document(existing_cards)"
   ]
  },
  {
   "cell_type": "markdown",
   "metadata": {},
   "source": [
    "# N-fold shuffle\n"
   ]
  },
  {
   "cell_type": "markdown",
   "metadata": {},
   "source": [
    "## Age Sum"
   ]
  },
  {
   "cell_type": "code",
   "execution_count": 30,
   "metadata": {},
   "outputs": [],
   "source": [
    "# n=3\n",
    "# existing_cards['count'] = existing_cards.sort_values('age', ascending=False).groupby('head').cumcount()\n",
    "# existing_cards['n_fold'] = existing_cards['count'] % n\n",
    "\n",
    "# existing_cards['subject_age_sum'] = existing_cards['subject_age_sum'] *-1\n",
    "# existing_cards['age'] = existing_cards['age'] *-1\n",
    "# existing_cards.sort_values(['n_fold', 'subject_age_sum', 'age'], inplace=True)\n",
    "\n",
    "# remake_card_document(existing_cards=existing_cards)\n",
    "# existing_cards.head(10)\n"
   ]
  },
  {
   "cell_type": "markdown",
   "metadata": {},
   "source": [
    "## Age Mean"
   ]
  },
  {
   "cell_type": "code",
   "execution_count": 31,
   "metadata": {},
   "outputs": [],
   "source": [
    "# n=3\n",
    "# existing_cards['count'] = existing_cards.sort_values('age', ascending=False).groupby('head').cumcount()\n",
    "# existing_cards['n_fold'] = existing_cards['count'] % n\n",
    "\n",
    "# existing_cards['subject_mean_age'] = existing_cards['subject_mean_age'] *-1\n",
    "# existing_cards['age'] = existing_cards['age'] *-1\n",
    "# existing_cards.sort_values(['n_fold', 'subject_mean_age', 'age'], inplace=True)\n",
    "# remake_card_document(existing_cards=existing_cards)\n",
    "\n",
    "# existing_cards.head(10)\n",
    "\n"
   ]
  },
  {
   "cell_type": "markdown",
   "metadata": {},
   "source": [
    "## Age Max"
   ]
  },
  {
   "cell_type": "code",
   "execution_count": 32,
   "metadata": {},
   "outputs": [],
   "source": [
    "# n = 1\n",
    "# existing_cards['count'] = existing_cards.sort_values('age', ascending=False).groupby('head').cumcount()\n",
    "# existing_cards['n_fold'] = existing_cards['count'] // n\n",
    "\n",
    "# if existing_cards['age'].sum() > 0:\n",
    "#     existing_cards['subject_highest_age'] = existing_cards['subject_highest_age'] *-1\n",
    "#     existing_cards['age'] = existing_cards['age'] *-1\n",
    "# # existing_cards.sort_values(['n_fold', 'subject_highest_age', 'age'], inplace=True)\n",
    "# existing_cards.sort_values(['age'], inplace=True)\n",
    "\n",
    "# remake_card_document(existing_cards=existing_cards)\n",
    "# existing_cards.head(10)\n"
   ]
  },
  {
   "cell_type": "markdown",
   "metadata": {},
   "source": [
    "## Card Count"
   ]
  },
  {
   "cell_type": "code",
   "execution_count": 33,
   "metadata": {},
   "outputs": [],
   "source": [
    "# n=10\n",
    "# existing_cards['frequency']  = existing_cards.groupby('head').transform('count')['body']\n",
    "# existing_cards['count'] = existing_cards.sort_values('age', ascending=False).groupby('head').cumcount()\n",
    "# existing_cards['n_fold'] = existing_cards['count'] // n\n",
    "\n",
    "# if existing_cards['age'].sum() > 0:\n",
    "#     # existing_cards['neg_subject_highest_age'] = existing_cards['subject_highest_age'] *-1\n",
    "#     existing_cards['neg_age'] = existing_cards['age'] *-1\n",
    "# existing_cards.sort_values(['n_fold', 'frequency', 'neg_age'], inplace=True)\n",
    "# remake_card_document(existing_cards=existing_cards)\n",
    "\n",
    "# existing_cards.head(10)\n",
    "\n"
   ]
  },
  {
   "cell_type": "markdown",
   "metadata": {},
   "source": [
    "\n",
    "## Random"
   ]
  },
  {
   "cell_type": "code",
   "execution_count": 34,
   "metadata": {},
   "outputs": [
    {
     "name": "stdout",
     "output_type": "stream",
     "text": [
      "Cards found: 692\n",
      "Total card age: 39212.05\n"
     ]
    },
    {
     "data": {
      "text/html": [
       "<div>\n",
       "<style scoped>\n",
       "    .dataframe tbody tr th:only-of-type {\n",
       "        vertical-align: middle;\n",
       "    }\n",
       "\n",
       "    .dataframe tbody tr th {\n",
       "        vertical-align: top;\n",
       "    }\n",
       "\n",
       "    .dataframe thead th {\n",
       "        text-align: right;\n",
       "    }\n",
       "</style>\n",
       "<table border=\"1\" class=\"dataframe\">\n",
       "  <thead>\n",
       "    <tr style=\"text-align: right;\">\n",
       "      <th></th>\n",
       "      <th>head</th>\n",
       "      <th>body</th>\n",
       "      <th>hash</th>\n",
       "      <th>age</th>\n",
       "      <th>subject_mean_age</th>\n",
       "      <th>subject_highest_age</th>\n",
       "      <th>subject_age_sum</th>\n",
       "      <th>head_random_roll</th>\n",
       "      <th>count</th>\n",
       "      <th>n_fold</th>\n",
       "    </tr>\n",
       "  </thead>\n",
       "  <tbody>\n",
       "    <tr>\n",
       "      <th>114</th>\n",
       "      <td>RAG Project</td>\n",
       "      <td>Mock\\nA fake object or function that replaces ...</td>\n",
       "      <td>784fa15510c601ca37e0a5bc7b680ca5</td>\n",
       "      <td>-56.466534</td>\n",
       "      <td>14.727442</td>\n",
       "      <td>56.466534</td>\n",
       "      <td>353.458610</td>\n",
       "      <td>0.025245</td>\n",
       "      <td>0</td>\n",
       "      <td>0</td>\n",
       "    </tr>\n",
       "    <tr>\n",
       "      <th>117</th>\n",
       "      <td>RAG Project</td>\n",
       "      <td>Dataclass\\nA Python feature that makes it easy...</td>\n",
       "      <td>2e10a6265b6ae054738f80710ed02b76</td>\n",
       "      <td>-24.537058</td>\n",
       "      <td>14.727442</td>\n",
       "      <td>56.466534</td>\n",
       "      <td>353.458610</td>\n",
       "      <td>0.025245</td>\n",
       "      <td>3</td>\n",
       "      <td>0</td>\n",
       "    </tr>\n",
       "    <tr>\n",
       "      <th>120</th>\n",
       "      <td>RAG Project</td>\n",
       "      <td>Async Test\\nA test defined with async def, usu...</td>\n",
       "      <td>a6bef175f456622b1275c8653b89340d</td>\n",
       "      <td>-17.198723</td>\n",
       "      <td>14.727442</td>\n",
       "      <td>56.466534</td>\n",
       "      <td>353.458610</td>\n",
       "      <td>0.025245</td>\n",
       "      <td>6</td>\n",
       "      <td>0</td>\n",
       "    </tr>\n",
       "    <tr>\n",
       "      <th>122</th>\n",
       "      <td>RAG Project</td>\n",
       "      <td>Route\\nA URL endpoint in your app (e.g., /uplo...</td>\n",
       "      <td>58d90747414cfbcdbc33f645b7bd4389</td>\n",
       "      <td>-15.312178</td>\n",
       "      <td>14.727442</td>\n",
       "      <td>56.466534</td>\n",
       "      <td>353.458610</td>\n",
       "      <td>0.025245</td>\n",
       "      <td>9</td>\n",
       "      <td>0</td>\n",
       "    </tr>\n",
       "    <tr>\n",
       "      <th>285</th>\n",
       "      <td>RAG Project</td>\n",
       "      <td>Middleware\\nFunctions that run before/after ev...</td>\n",
       "      <td>38eb1ee782f2b2e3982dfe7b1abea989</td>\n",
       "      <td>-10.182603</td>\n",
       "      <td>14.727442</td>\n",
       "      <td>56.466534</td>\n",
       "      <td>353.458610</td>\n",
       "      <td>0.025245</td>\n",
       "      <td>12</td>\n",
       "      <td>0</td>\n",
       "    </tr>\n",
       "    <tr>\n",
       "      <th>288</th>\n",
       "      <td>RAG Project</td>\n",
       "      <td>@authenticated / @authenticated_path\\nRoute de...</td>\n",
       "      <td>80e9bab229f6a92857b0202973322353</td>\n",
       "      <td>-8.294660</td>\n",
       "      <td>14.727442</td>\n",
       "      <td>56.466534</td>\n",
       "      <td>353.458610</td>\n",
       "      <td>0.025245</td>\n",
       "      <td>15</td>\n",
       "      <td>0</td>\n",
       "    </tr>\n",
       "    <tr>\n",
       "      <th>291</th>\n",
       "      <td>RAG Project</td>\n",
       "      <td>io.BytesIO()\\nIn-memory file-like object — oft...</td>\n",
       "      <td>07b4acfb35a83cced3f02a754678f53e</td>\n",
       "      <td>-6.050277</td>\n",
       "      <td>14.727442</td>\n",
       "      <td>56.466534</td>\n",
       "      <td>353.458610</td>\n",
       "      <td>0.025245</td>\n",
       "      <td>18</td>\n",
       "      <td>0</td>\n",
       "    </tr>\n",
       "    <tr>\n",
       "      <th>397</th>\n",
       "      <td>RAG Project</td>\n",
       "      <td>Generator / yield\\nFunctions that produce valu...</td>\n",
       "      <td>81b4e9718930539d46b5a6f9214e4793</td>\n",
       "      <td>-4.252370</td>\n",
       "      <td>14.727442</td>\n",
       "      <td>56.466534</td>\n",
       "      <td>353.458610</td>\n",
       "      <td>0.025245</td>\n",
       "      <td>21</td>\n",
       "      <td>0</td>\n",
       "    </tr>\n",
       "    <tr>\n",
       "      <th>84</th>\n",
       "      <td>Debugging in VS Code</td>\n",
       "      <td>Debugger API\\nAn application programming inter...</td>\n",
       "      <td>379ed80170d7da4e8ca2e7b1a4b9527c</td>\n",
       "      <td>-385.428580</td>\n",
       "      <td>62.404679</td>\n",
       "      <td>385.428580</td>\n",
       "      <td>1185.688909</td>\n",
       "      <td>0.042087</td>\n",
       "      <td>0</td>\n",
       "      <td>0</td>\n",
       "    </tr>\n",
       "    <tr>\n",
       "      <th>87</th>\n",
       "      <td>Debugging in VS Code</td>\n",
       "      <td>1. Debugger\\nA tool used to inspect, control, ...</td>\n",
       "      <td>e5f2354be4982ffd49ff5162d37e9a30</td>\n",
       "      <td>-79.543495</td>\n",
       "      <td>62.404679</td>\n",
       "      <td>385.428580</td>\n",
       "      <td>1185.688909</td>\n",
       "      <td>0.042087</td>\n",
       "      <td>3</td>\n",
       "      <td>0</td>\n",
       "    </tr>\n",
       "  </tbody>\n",
       "</table>\n",
       "</div>"
      ],
      "text/plain": [
       "                     head                                               body  \\\n",
       "114           RAG Project  Mock\\nA fake object or function that replaces ...   \n",
       "117           RAG Project  Dataclass\\nA Python feature that makes it easy...   \n",
       "120           RAG Project  Async Test\\nA test defined with async def, usu...   \n",
       "122           RAG Project  Route\\nA URL endpoint in your app (e.g., /uplo...   \n",
       "285           RAG Project  Middleware\\nFunctions that run before/after ev...   \n",
       "288           RAG Project  @authenticated / @authenticated_path\\nRoute de...   \n",
       "291           RAG Project  io.BytesIO()\\nIn-memory file-like object — oft...   \n",
       "397           RAG Project  Generator / yield\\nFunctions that produce valu...   \n",
       "84   Debugging in VS Code  Debugger API\\nAn application programming inter...   \n",
       "87   Debugging in VS Code  1. Debugger\\nA tool used to inspect, control, ...   \n",
       "\n",
       "                                 hash         age  subject_mean_age  \\\n",
       "114  784fa15510c601ca37e0a5bc7b680ca5  -56.466534         14.727442   \n",
       "117  2e10a6265b6ae054738f80710ed02b76  -24.537058         14.727442   \n",
       "120  a6bef175f456622b1275c8653b89340d  -17.198723         14.727442   \n",
       "122  58d90747414cfbcdbc33f645b7bd4389  -15.312178         14.727442   \n",
       "285  38eb1ee782f2b2e3982dfe7b1abea989  -10.182603         14.727442   \n",
       "288  80e9bab229f6a92857b0202973322353   -8.294660         14.727442   \n",
       "291  07b4acfb35a83cced3f02a754678f53e   -6.050277         14.727442   \n",
       "397  81b4e9718930539d46b5a6f9214e4793   -4.252370         14.727442   \n",
       "84   379ed80170d7da4e8ca2e7b1a4b9527c -385.428580         62.404679   \n",
       "87   e5f2354be4982ffd49ff5162d37e9a30  -79.543495         62.404679   \n",
       "\n",
       "     subject_highest_age  subject_age_sum  head_random_roll  count  n_fold  \n",
       "114            56.466534       353.458610          0.025245      0       0  \n",
       "117            56.466534       353.458610          0.025245      3       0  \n",
       "120            56.466534       353.458610          0.025245      6       0  \n",
       "122            56.466534       353.458610          0.025245      9       0  \n",
       "285            56.466534       353.458610          0.025245     12       0  \n",
       "288            56.466534       353.458610          0.025245     15       0  \n",
       "291            56.466534       353.458610          0.025245     18       0  \n",
       "397            56.466534       353.458610          0.025245     21       0  \n",
       "84            385.428580      1185.688909          0.042087      0       0  \n",
       "87            385.428580      1185.688909          0.042087      3       0  "
      ]
     },
     "execution_count": 34,
     "metadata": {},
     "output_type": "execute_result"
    }
   ],
   "source": [
    "n = 3\n",
    "existing_cards['count'] = existing_cards.sort_values('age', ascending=False).groupby('head').cumcount()\n",
    "existing_cards['n_fold'] = existing_cards['count'] % n\n",
    "existing_cards['age'] *= -1\n",
    "existing_cards.sort_values(['n_fold', 'head_random_roll', 'age'], inplace=True)\n",
    "remake_card_document(existing_cards=existing_cards)\n",
    "existing_cards.head(10)"
   ]
  },
  {
   "cell_type": "code",
   "execution_count": 35,
   "metadata": {},
   "outputs": [
    {
     "data": {
      "text/plain": [
       "head                   RAG ProjectRAG ProjectRAG ProjectRAG ProjectRA...\n",
       "body                   Mock\\nA fake object or function that replaces ...\n",
       "hash                   784fa15510c601ca37e0a5bc7b680ca52e10a6265b6ae0...\n",
       "age                                                          -607.266479\n",
       "subject_mean_age                                              242.628896\n",
       "subject_highest_age                                          1222.589431\n",
       "subject_age_sum                                              5199.046698\n",
       "head_random_roll                                                0.286131\n",
       "count                                                                 87\n",
       "n_fold                                                                 0\n",
       "dtype: object"
      ]
     },
     "execution_count": 35,
     "metadata": {},
     "output_type": "execute_result"
    }
   ],
   "source": [
    "existing_cards.head(10).sum()"
   ]
  },
  {
   "cell_type": "code",
   "execution_count": 36,
   "metadata": {},
   "outputs": [
    {
     "data": {
      "text/plain": [
       "-56.66480714019489"
      ]
     },
     "execution_count": 36,
     "metadata": {},
     "output_type": "execute_result"
    }
   ],
   "source": [
    "existing_cards['age'].mean()"
   ]
  }
 ],
 "metadata": {
  "kernelspec": {
   "display_name": "Python 3",
   "language": "python",
   "name": "python3"
  },
  "language_info": {
   "codemirror_mode": {
    "name": "ipython",
    "version": 3
   },
   "file_extension": ".py",
   "mimetype": "text/x-python",
   "name": "python",
   "nbconvert_exporter": "python",
   "pygments_lexer": "ipython3",
   "version": "3.10.10"
  }
 },
 "nbformat": 4,
 "nbformat_minor": 2
}
