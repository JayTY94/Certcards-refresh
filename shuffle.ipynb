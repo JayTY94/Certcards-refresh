{
 "cells": [
  {
   "cell_type": "code",
   "execution_count": 1,
   "metadata": {},
   "outputs": [],
   "source": [
    "import re\n",
    "import random\n",
    "import pandas as pd\n",
    "import hashlib"
   ]
  },
  {
   "cell_type": "code",
   "execution_count": 2,
   "metadata": {},
   "outputs": [],
   "source": [
    "with open('certcards2.txt', mode='r', encoding='utf8') as f:\n",
    "    all_cards = f.read()\n",
    "    \n",
    "card_split_pattern = r'\\n\\n\\n\\d+\\n'\n",
    "all_cards = re.split(card_split_pattern, all_cards)\n",
    "# Use re.DOTALL to allow . to match newline characters\n",
    "card_pattern = re.compile(r'(.+?)\\n([\\s\\S]+)', re.DOTALL)\n",
    "cards = [(match.group(1), match.group(2)) for cstring in all_cards if (match := re.search(card_pattern, cstring))]\n",
    "\n",
    "# removing the cards that have no content and trimming\n",
    "cards = [(subject, stripped_content) for subject, content in cards if len(stripped_content := content.strip()) > 5]\n",
    "\n",
    "def hash_string_md5(s):\n",
    "    \"\"\"\n",
    "    Hashes a string using MD5 and returns a truncated hash for efficiency.\n",
    "\n",
    "    Parameters:\n",
    "    - s (str): The input string to hash.\n",
    "\n",
    "    Returns:\n",
    "    - str: The truncated hexadecimal hash string.\n",
    "    \"\"\"\n",
    "    if pd.isnull(s):\n",
    "        return None  # Handle NaN values gracefully\n",
    "    return hashlib.md5(s.encode('utf-8')).hexdigest()\n",
    "\n",
    "\n",
    "def remake_card_document(existing_cards: pd.DataFrame, filename: str='certcards2.txt'):\n",
    "    with open(filename, mode='w', encoding='utf8') as f:\n",
    "        i = 1\n",
    "        for _, row in existing_cards.iterrows():\n",
    "            f.write('\\n'*6)\n",
    "            f.write(str(i)+'\\n')  \n",
    "            f.write(row['head']+'\\n')\n",
    "            f.write(row['body'])\n",
    "            i+=1\n",
    "    print(F\"Cards found: {existing_cards.shape[0]}\")\n",
    "\n",
    "\n",
    "existing_cards = pd.DataFrame(cards, columns=['head', 'body'])\n",
    "\n",
    "\n",
    "# existing_cards['age'] = [random.random() for _ in existing_cards.index]\n",
    "existing_cards['hash'] = existing_cards['body'].apply(hash_string_md5)\n",
    "existing_cards\n",
    "\n",
    "card_ages = pd.read_json('card_ages.json')\n",
    "card_ages = card_ages.drop_duplicates(subset=['hash'], keep='first')\n",
    "\n",
    "cards_to_age = pd.merge(\n",
    "    left=existing_cards,\n",
    "    right=card_ages[['hash', 'age']],\n",
    "    left_on='hash', right_on='hash',\n",
    "    how='left'\n",
    ")\n",
    "\n",
    "cards_to_age['head'] = cards_to_age['head'].str.strip()\n",
    "\n",
    "if cards_to_age['age'].sum() > 2e4: age_factor = 1\n",
    "else: age_factor = 1.00\n",
    "\n",
    "cards_to_age['age'] = cards_to_age['age'].fillna(0)\n",
    "cards_to_age['age'] = cards_to_age['age'] * age_factor\n",
    "cards_to_age['age'] = cards_to_age['age'] + [random.expovariate(.60) for _ in cards_to_age.index]\n",
    "# cards_to_age['age'] = cards_to_age['age'] * [random.expovariate(.5) for _ in cards_to_age.index]\n",
    "\n",
    "# Adding priority age growth to cards for upcoming certifications\n",
    "priority_headers = ['Azure Developer Associate']\n",
    "priority_cards_mask = cards_to_age['head'].isin(priority_headers)\n",
    "cards_to_age.loc[priority_cards_mask, 'age'] = cards_to_age.loc[priority_cards_mask, 'age'] * 1.1\n",
    "\n",
    "\n",
    "cards_to_age = cards_to_age.drop_duplicates(subset=['hash'], keep='first')\n",
    "\n",
    "cards_to_age['subject_mean_age'] = cards_to_age.groupby('head')['age'].transform('mean')\n",
    "cards_to_age['subject_highest_age'] = cards_to_age.groupby('head')['age'].transform('max')\n",
    "cards_to_age['subject_age_sum'] = cards_to_age.groupby('head')['age'].transform('sum')\n",
    "cards_to_age['head_random_roll'] = cards_to_age.groupby('head')['head'].transform(lambda x: random.random())\n",
    "\n",
    "\n",
    "cards_to_age.sort_values('hash')[['age', 'head', 'hash']].to_json('card_ages.json', indent=2)\n",
    "\n",
    "existing_cards = cards_to_age"
   ]
  },
  {
   "cell_type": "code",
   "execution_count": 3,
   "metadata": {},
   "outputs": [
    {
     "data": {
      "application/vnd.microsoft.datawrangler.viewer.v0+json": {
       "columns": [
        {
         "name": "index",
         "rawType": "object",
         "type": "string"
        },
        {
         "name": "age_sum",
         "rawType": "float64",
         "type": "float"
        },
        {
         "name": "age_mean",
         "rawType": "float64",
         "type": "float"
        },
        {
         "name": "age_max",
         "rawType": "float64",
         "type": "float"
        },
        {
         "name": "head_count",
         "rawType": "int64",
         "type": "integer"
        }
       ],
       "conversionMethod": "pd.DataFrame",
       "ref": "b5f73e88-3a97-4ab9-adad-0fce13c227e7",
       "rows": [
        [
         "Azure Developer Associate",
         "1217.683861135416",
         "28.318229328730606",
         "68.03640984049905",
         "43"
        ],
        [
         "Todd Ideas",
         "1261.468671656532",
         "84.09791144376881",
         "173.8083384147483",
         "15"
        ],
        [
         "Python",
         "1449.5382393106393",
         "30.84123913426892",
         "45.299675898529664",
         "47"
        ],
        [
         "Email Auth and Security",
         "1682.3304007058182",
         "140.19420005881818",
         "502.1220790389439",
         "12"
        ],
        [
         "Azure AI Search",
         "1746.2339789278126",
         "218.27924736597657",
         "425.3541833130563",
         "8"
        ],
        [
         "SharePoint",
         "1943.6948066158088",
         "161.97456721798406",
         "603.9997601954948",
         "12"
        ],
        [
         "Audit Report Tracker (Sharepoint List)",
         "2075.9526983418314",
         "159.6886691032178",
         "401.7741435460644",
         "13"
        ],
        [
         "Azure Functions + Visual Studio",
         "2257.7205209830317",
         "161.26575149878798",
         "513.4215233880088",
         "14"
        ],
        [
         "Azure Functions",
         "2361.383120569936",
         "236.1383120569936",
         "659.5282784079469",
         "10"
        ],
        [
         "Debugging in VS Code",
         "2387.360353786757",
         "119.36801768933785",
         "286.7377334912189",
         "20"
        ],
        [
         "IW Migration",
         "2424.3212577778254",
         "173.16580412698752",
         "487.50772990979897",
         "14"
        ],
        [
         "Open Source/GitHub",
         "2646.3147391352313",
         "165.39467119595196",
         "395.42812469951446",
         "16"
        ],
        [
         "Terraform",
         "2648.7180658087445",
         "105.94872263234979",
         "281.83646532184804",
         "25"
        ],
        [
         "FSLogix",
         "2961.347783060699",
         "123.38949096086246",
         "290.10730537989673",
         "24"
        ],
        [
         "Home Network Project",
         "3354.246050193557",
         "209.64037813709731",
         "487.5082560119666",
         "16"
        ],
        [
         "DNS",
         "3548.050683179386",
         "221.75316769871162",
         "435.349817219656",
         "16"
        ],
        [
         "WSL + Kali Linux",
         "3705.3366352252274",
         "195.01771764343303",
         "432.7465805303667",
         "19"
        ],
        [
         "Azure Functions + PP365",
         "3994.146680972208",
         "173.65855134661774",
         "439.12277011855383",
         "23"
        ],
        [
         "Powershell Modules",
         "5411.028964400927",
         "180.36763214669756",
         "698.0720223040756",
         "30"
        ],
        [
         "Logging in Python",
         "6086.764043976836",
         "124.2196743668742",
         "697.5985736963482",
         "49"
        ],
        [
         "Vocab",
         "7398.795036430294",
         "101.35335666342868",
         "567.7026304810357",
         "73"
        ],
        [
         "PnP Powershell",
         "7488.137404685498",
         "197.05624749172364",
         "677.5455522897247",
         "38"
        ],
        [
         "JavaScript Concepts",
         "8433.075381353161",
         "118.7757095965234",
         "461.34547948709303",
         "71"
        ]
       ],
       "shape": {
        "columns": 4,
        "rows": 23
       }
      },
      "text/html": [
       "<div>\n",
       "<style scoped>\n",
       "    .dataframe tbody tr th:only-of-type {\n",
       "        vertical-align: middle;\n",
       "    }\n",
       "\n",
       "    .dataframe tbody tr th {\n",
       "        vertical-align: top;\n",
       "    }\n",
       "\n",
       "    .dataframe thead th {\n",
       "        text-align: right;\n",
       "    }\n",
       "</style>\n",
       "<table border=\"1\" class=\"dataframe\">\n",
       "  <thead>\n",
       "    <tr style=\"text-align: right;\">\n",
       "      <th></th>\n",
       "      <th>age_sum</th>\n",
       "      <th>age_mean</th>\n",
       "      <th>age_max</th>\n",
       "      <th>head_count</th>\n",
       "    </tr>\n",
       "  </thead>\n",
       "  <tbody>\n",
       "    <tr>\n",
       "      <th>Azure Developer Associate</th>\n",
       "      <td>1217.683861</td>\n",
       "      <td>28.318229</td>\n",
       "      <td>68.036410</td>\n",
       "      <td>43</td>\n",
       "    </tr>\n",
       "    <tr>\n",
       "      <th>Todd Ideas</th>\n",
       "      <td>1261.468672</td>\n",
       "      <td>84.097911</td>\n",
       "      <td>173.808338</td>\n",
       "      <td>15</td>\n",
       "    </tr>\n",
       "    <tr>\n",
       "      <th>Python</th>\n",
       "      <td>1449.538239</td>\n",
       "      <td>30.841239</td>\n",
       "      <td>45.299676</td>\n",
       "      <td>47</td>\n",
       "    </tr>\n",
       "    <tr>\n",
       "      <th>Email Auth and Security</th>\n",
       "      <td>1682.330401</td>\n",
       "      <td>140.194200</td>\n",
       "      <td>502.122079</td>\n",
       "      <td>12</td>\n",
       "    </tr>\n",
       "    <tr>\n",
       "      <th>Azure AI Search</th>\n",
       "      <td>1746.233979</td>\n",
       "      <td>218.279247</td>\n",
       "      <td>425.354183</td>\n",
       "      <td>8</td>\n",
       "    </tr>\n",
       "    <tr>\n",
       "      <th>SharePoint</th>\n",
       "      <td>1943.694807</td>\n",
       "      <td>161.974567</td>\n",
       "      <td>603.999760</td>\n",
       "      <td>12</td>\n",
       "    </tr>\n",
       "    <tr>\n",
       "      <th>Audit Report Tracker (Sharepoint List)</th>\n",
       "      <td>2075.952698</td>\n",
       "      <td>159.688669</td>\n",
       "      <td>401.774144</td>\n",
       "      <td>13</td>\n",
       "    </tr>\n",
       "    <tr>\n",
       "      <th>Azure Functions + Visual Studio</th>\n",
       "      <td>2257.720521</td>\n",
       "      <td>161.265751</td>\n",
       "      <td>513.421523</td>\n",
       "      <td>14</td>\n",
       "    </tr>\n",
       "    <tr>\n",
       "      <th>Azure Functions</th>\n",
       "      <td>2361.383121</td>\n",
       "      <td>236.138312</td>\n",
       "      <td>659.528278</td>\n",
       "      <td>10</td>\n",
       "    </tr>\n",
       "    <tr>\n",
       "      <th>Debugging in VS Code</th>\n",
       "      <td>2387.360354</td>\n",
       "      <td>119.368018</td>\n",
       "      <td>286.737733</td>\n",
       "      <td>20</td>\n",
       "    </tr>\n",
       "    <tr>\n",
       "      <th>IW Migration</th>\n",
       "      <td>2424.321258</td>\n",
       "      <td>173.165804</td>\n",
       "      <td>487.507730</td>\n",
       "      <td>14</td>\n",
       "    </tr>\n",
       "    <tr>\n",
       "      <th>Open Source/GitHub</th>\n",
       "      <td>2646.314739</td>\n",
       "      <td>165.394671</td>\n",
       "      <td>395.428125</td>\n",
       "      <td>16</td>\n",
       "    </tr>\n",
       "    <tr>\n",
       "      <th>Terraform</th>\n",
       "      <td>2648.718066</td>\n",
       "      <td>105.948723</td>\n",
       "      <td>281.836465</td>\n",
       "      <td>25</td>\n",
       "    </tr>\n",
       "    <tr>\n",
       "      <th>FSLogix</th>\n",
       "      <td>2961.347783</td>\n",
       "      <td>123.389491</td>\n",
       "      <td>290.107305</td>\n",
       "      <td>24</td>\n",
       "    </tr>\n",
       "    <tr>\n",
       "      <th>Home Network Project</th>\n",
       "      <td>3354.246050</td>\n",
       "      <td>209.640378</td>\n",
       "      <td>487.508256</td>\n",
       "      <td>16</td>\n",
       "    </tr>\n",
       "    <tr>\n",
       "      <th>DNS</th>\n",
       "      <td>3548.050683</td>\n",
       "      <td>221.753168</td>\n",
       "      <td>435.349817</td>\n",
       "      <td>16</td>\n",
       "    </tr>\n",
       "    <tr>\n",
       "      <th>WSL + Kali Linux</th>\n",
       "      <td>3705.336635</td>\n",
       "      <td>195.017718</td>\n",
       "      <td>432.746581</td>\n",
       "      <td>19</td>\n",
       "    </tr>\n",
       "    <tr>\n",
       "      <th>Azure Functions + PP365</th>\n",
       "      <td>3994.146681</td>\n",
       "      <td>173.658551</td>\n",
       "      <td>439.122770</td>\n",
       "      <td>23</td>\n",
       "    </tr>\n",
       "    <tr>\n",
       "      <th>Powershell Modules</th>\n",
       "      <td>5411.028964</td>\n",
       "      <td>180.367632</td>\n",
       "      <td>698.072022</td>\n",
       "      <td>30</td>\n",
       "    </tr>\n",
       "    <tr>\n",
       "      <th>Logging in Python</th>\n",
       "      <td>6086.764044</td>\n",
       "      <td>124.219674</td>\n",
       "      <td>697.598574</td>\n",
       "      <td>49</td>\n",
       "    </tr>\n",
       "    <tr>\n",
       "      <th>Vocab</th>\n",
       "      <td>7398.795036</td>\n",
       "      <td>101.353357</td>\n",
       "      <td>567.702630</td>\n",
       "      <td>73</td>\n",
       "    </tr>\n",
       "    <tr>\n",
       "      <th>PnP Powershell</th>\n",
       "      <td>7488.137405</td>\n",
       "      <td>197.056247</td>\n",
       "      <td>677.545552</td>\n",
       "      <td>38</td>\n",
       "    </tr>\n",
       "    <tr>\n",
       "      <th>JavaScript Concepts</th>\n",
       "      <td>8433.075381</td>\n",
       "      <td>118.775710</td>\n",
       "      <td>461.345479</td>\n",
       "      <td>71</td>\n",
       "    </tr>\n",
       "  </tbody>\n",
       "</table>\n",
       "</div>"
      ],
      "text/plain": [
       "                                            age_sum    age_mean     age_max  \\\n",
       "Azure Developer Associate               1217.683861   28.318229   68.036410   \n",
       "Todd Ideas                              1261.468672   84.097911  173.808338   \n",
       "Python                                  1449.538239   30.841239   45.299676   \n",
       "Email Auth and Security                 1682.330401  140.194200  502.122079   \n",
       "Azure AI Search                         1746.233979  218.279247  425.354183   \n",
       "SharePoint                              1943.694807  161.974567  603.999760   \n",
       "Audit Report Tracker (Sharepoint List)  2075.952698  159.688669  401.774144   \n",
       "Azure Functions + Visual Studio         2257.720521  161.265751  513.421523   \n",
       "Azure Functions                         2361.383121  236.138312  659.528278   \n",
       "Debugging in VS Code                    2387.360354  119.368018  286.737733   \n",
       "IW Migration                            2424.321258  173.165804  487.507730   \n",
       "Open Source/GitHub                      2646.314739  165.394671  395.428125   \n",
       "Terraform                               2648.718066  105.948723  281.836465   \n",
       "FSLogix                                 2961.347783  123.389491  290.107305   \n",
       "Home Network Project                    3354.246050  209.640378  487.508256   \n",
       "DNS                                     3548.050683  221.753168  435.349817   \n",
       "WSL + Kali Linux                        3705.336635  195.017718  432.746581   \n",
       "Azure Functions + PP365                 3994.146681  173.658551  439.122770   \n",
       "Powershell Modules                      5411.028964  180.367632  698.072022   \n",
       "Logging in Python                       6086.764044  124.219674  697.598574   \n",
       "Vocab                                   7398.795036  101.353357  567.702630   \n",
       "PnP Powershell                          7488.137405  197.056247  677.545552   \n",
       "JavaScript Concepts                     8433.075381  118.775710  461.345479   \n",
       "\n",
       "                                        head_count  \n",
       "Azure Developer Associate                       43  \n",
       "Todd Ideas                                      15  \n",
       "Python                                          47  \n",
       "Email Auth and Security                         12  \n",
       "Azure AI Search                                  8  \n",
       "SharePoint                                      12  \n",
       "Audit Report Tracker (Sharepoint List)          13  \n",
       "Azure Functions + Visual Studio                 14  \n",
       "Azure Functions                                 10  \n",
       "Debugging in VS Code                            20  \n",
       "IW Migration                                    14  \n",
       "Open Source/GitHub                              16  \n",
       "Terraform                                       25  \n",
       "FSLogix                                         24  \n",
       "Home Network Project                            16  \n",
       "DNS                                             16  \n",
       "WSL + Kali Linux                                19  \n",
       "Azure Functions + PP365                         23  \n",
       "Powershell Modules                              30  \n",
       "Logging in Python                               49  \n",
       "Vocab                                           73  \n",
       "PnP Powershell                                  38  \n",
       "JavaScript Concepts                             71  "
      ]
     },
     "execution_count": 3,
     "metadata": {},
     "output_type": "execute_result"
    }
   ],
   "source": [
    "stats = existing_cards.groupby('head').agg({'age': ['sum', 'mean', 'max'], 'head': 'count'}).sort_values(('age', 'sum'))\n",
    "stats.columns = stats.columns.to_flat_index()\n",
    "stats.columns = ['_'.join(col).strip() for col in stats.columns]\n",
    "stats.index.name = None\n",
    "stats"
   ]
  },
  {
   "cell_type": "markdown",
   "metadata": {},
   "source": [
    "# Histogram"
   ]
  },
  {
   "cell_type": "code",
   "execution_count": 4,
   "metadata": {},
   "outputs": [
    {
     "name": "stdout",
     "output_type": "stream",
     "text": [
      "78483.65\n"
     ]
    },
    {
     "data": {
      "text/plain": [
       "<Axes: >"
      ]
     },
     "execution_count": 4,
     "metadata": {},
     "output_type": "execute_result"
    },
    {
     "data": {
      "image/png": "[encoded data removed]",
      "text/plain": [
       "<Figure size 640x480 with 1 Axes>"
      ]
     },
     "metadata": {},
     "output_type": "display_data"
    }
   ],
   "source": [
    "print(f\"{existing_cards['age'].sum(0):.2f}\")\n",
    "existing_cards['age'].hist(bins=20)"
   ]
  },
  {
   "cell_type": "markdown",
   "metadata": {},
   "source": [
    "# Completely Random Shuffle"
   ]
  },
  {
   "cell_type": "code",
   "execution_count": 5,
   "metadata": {},
   "outputs": [],
   "source": [
    "# existing_cards = existing_cards.sample(frac=1)\n",
    "# remake_card_document(filename='certcards2.txt', existing_cards = existing_cards)"
   ]
  },
  {
   "cell_type": "markdown",
   "metadata": {},
   "source": [
    "# Age Sort"
   ]
  },
  {
   "cell_type": "code",
   "execution_count": 6,
   "metadata": {},
   "outputs": [],
   "source": [
    "# existing_cards = existing_cards.sort_values('age', ascending=False)\n",
    "# remake_card_document(filename='certcards2.txt', existing_cards=existing_cards)\n",
    "# existing_cards.head(10)"
   ]
  },
  {
   "cell_type": "markdown",
   "metadata": {},
   "source": [
    "# Headers with fewest notes first"
   ]
  },
  {
   "cell_type": "code",
   "execution_count": 7,
   "metadata": {},
   "outputs": [],
   "source": [
    "# frequency = existing_cards['head'].value_counts(ascending=True)\n",
    "\n",
    "# existing_cards = pd.merge(\n",
    "#     left=existing_cards,\n",
    "#     right=frequency.rename('frequency'),\n",
    "#     left_on='head', right_index=True,\n",
    "#     how='left'\n",
    "# )\n",
    "# existing_cards['oldest'] = existing_cards.groupby('head')['age'].transform('max')\n",
    "# existing_cards['subject_highest_age'] = existing_cards['subject_highest_age'] * -1\n",
    "# existing_cards['age'] = existing_cards['age'] * -1\n",
    "\n",
    "\n",
    "# existing_cards.sort_values(['frequency', 'subject_highest_age', 'age'], ascending=True, inplace=True)\n",
    "\n",
    "# remake_card_document(filename='certcards2.txt', existing_cards=existing_cards)\n",
    "\n",
    "# existing_cards.head(10)"
   ]
  },
  {
   "cell_type": "markdown",
   "metadata": {},
   "source": [
    "# Focus on one header"
   ]
  },
  {
   "cell_type": "code",
   "execution_count": 8,
   "metadata": {},
   "outputs": [],
   "source": [
    "# heads = existing_cards['head'].value_counts()\n",
    "# heads = heads[heads > 5].index.tolist()\n",
    "# one_header = random.sample(heads, 1)[0]\n",
    "# existing_cards['pick_head'] = existing_cards['head'].apply(\n",
    "#     lambda h: 0 if h == one_header else 1 \n",
    "# )\n",
    "\n",
    "# remake_card_document(existing_cards=existing_cards.sort_values('pick_head'))"
   ]
  },
  {
   "cell_type": "markdown",
   "metadata": {},
   "source": [
    "## Header with oldest cards first"
   ]
  },
  {
   "cell_type": "code",
   "execution_count": 9,
   "metadata": {},
   "outputs": [],
   "source": [
    "# existing_cards['oldest'] = existing_cards.groupby('head')['age'].transform('max')\n",
    "# existing_cards.sort_values(['oldest', 'age'], ascending=False, inplace=True)\n",
    "# remake_card_document(existing_cards)"
   ]
  },
  {
   "cell_type": "markdown",
   "metadata": {},
   "source": [
    "## Headers with greatest mean card age first"
   ]
  },
  {
   "cell_type": "code",
   "execution_count": 10,
   "metadata": {},
   "outputs": [],
   "source": [
    "# existing_cards.sort_values(['subject_mean_age', 'age'], ascending=False, inplace=True)\n",
    "# remake_card_document(existing_cards)"
   ]
  },
  {
   "cell_type": "markdown",
   "metadata": {},
   "source": [
    "## Headers with greatest age sum first"
   ]
  },
  {
   "cell_type": "code",
   "execution_count": 11,
   "metadata": {},
   "outputs": [],
   "source": [
    "# existing_cards.sort_values(['subject_age_sum', 'age'], ascending=False, inplace=True)\n",
    "# remake_card_document(existing_cards)"
   ]
  },
  {
   "cell_type": "markdown",
   "metadata": {},
   "source": [
    "# N-fold shuffle\n"
   ]
  },
  {
   "cell_type": "markdown",
   "metadata": {},
   "source": [
    "## Age Sum"
   ]
  },
  {
   "cell_type": "code",
   "execution_count": 12,
   "metadata": {},
   "outputs": [
    {
     "name": "stdout",
     "output_type": "stream",
     "text": [
      "Cards found: 608\n"
     ]
    },
    {
     "data": {
      "application/vnd.microsoft.datawrangler.viewer.v0+json": {
       "columns": [
        {
         "name": "index",
         "rawType": "int64",
         "type": "integer"
        },
        {
         "name": "head",
         "rawType": "object",
         "type": "string"
        },
        {
         "name": "body",
         "rawType": "object",
         "type": "string"
        },
        {
         "name": "hash",
         "rawType": "object",
         "type": "string"
        },
        {
         "name": "age",
         "rawType": "float64",
         "type": "float"
        },
        {
         "name": "subject_mean_age",
         "rawType": "float64",
         "type": "float"
        },
        {
         "name": "subject_highest_age",
         "rawType": "float64",
         "type": "float"
        },
        {
         "name": "subject_age_sum",
         "rawType": "float64",
         "type": "float"
        },
        {
         "name": "head_random_roll",
         "rawType": "float64",
         "type": "float"
        },
        {
         "name": "count",
         "rawType": "int64",
         "type": "integer"
        },
        {
         "name": "n_fold",
         "rawType": "int64",
         "type": "integer"
        }
       ],
       "conversionMethod": "pd.DataFrame",
       "ref": "298c217b-edc6-4e98-b933-9914eab02d32",
       "rows": [
        [
         "208",
         "JavaScript Concepts",
         "MobX: A simple, scalable state management library that uses observable data structures, promoting reactive programming patterns.",
         "db0e0a9265d062fb61f33349110c0350",
         "-461.34547948709303",
         "118.7757095965234",
         "461.34547948709303",
         "-8433.075381353161",
         "0.1105559312980432",
         "0",
         "0"
        ],
        [
         "211",
         "JavaScript Concepts",
         "Spread Operator (...): Expanding elements of arrays or properties of objects, useful for copying or merging data structures.",
         "c2611b95601be43479f2a6044d56d65b",
         "-368.71171642789926",
         "118.7757095965234",
         "461.34547948709303",
         "-8433.075381353161",
         "0.1105559312980432",
         "3",
         "0"
        ],
        [
         "214",
         "JavaScript Concepts",
         "Flow: A static type checker for JavaScript, enabling developers to add type annotations and catch type-related errors during development.",
         "f5d6833a9a0e5003337489de2ad6f2d9",
         "-269.54508437561896",
         "118.7757095965234",
         "461.34547948709303",
         "-8433.075381353161",
         "0.1105559312980432",
         "6",
         "0"
        ],
        [
         "217",
         "JavaScript Concepts",
         "Immutable Data Structures: Data structures that cannot be altered after creation, promoting predictable state management, especially in libraries like Redux.",
         "ee373d626320d72bd5df0700a853f727",
         "-201.4833813928862",
         "118.7757095965234",
         "461.34547948709303",
         "-8433.075381353161",
         "0.1105559312980432",
         "9",
         "0"
        ],
        [
         "367",
         "JavaScript Concepts",
         "React Native: A framework for building native mobile applications using React, allowing code reuse across iOS and Android platforms.",
         "08281b39dcbdcf8a2bd663850d840f08",
         "-167.47162880765043",
         "118.7757095965234",
         "461.34547948709303",
         "-8433.075381353161",
         "0.1105559312980432",
         "12",
         "0"
        ],
        [
         "369",
         "JavaScript Concepts",
         "Material-UI (MUI): A React component library implementing Google's Material Design, offering pre-built, customizable UI components.",
         "e11c3b73d9ca9e3d7f43b82d176d4783",
         "-160.70844868244015",
         "118.7757095965234",
         "461.34547948709303",
         "-8433.075381353161",
         "0.1105559312980432",
         "15",
         "0"
        ],
        [
         "373",
         "JavaScript Concepts",
         "Arrow Functions: Concise syntax for writing functions using =>. They do not have their own this context, making them suitable for callbacks.",
         "6e07e6e7518323a21945152d2b9f2586",
         "-151.125823665021",
         "118.7757095965234",
         "461.34547948709303",
         "-8433.075381353161",
         "0.1105559312980432",
         "18",
         "0"
        ],
        [
         "448",
         "JavaScript Concepts",
         "Tailwind CSS: A utility-first CSS framework that provides low-level utility classes, enabling rapid and flexible UI development.",
         "5d50ff3777ff18aa489113653aba8887",
         "-136.78813115210377",
         "118.7757095965234",
         "461.34547948709303",
         "-8433.075381353161",
         "0.1105559312980432",
         "21",
         "0"
        ],
        [
         "450",
         "JavaScript Concepts",
         "Vercel: A cloud platform optimized for frontend frameworks like Next.js, offering easy deployments, serverless functions, and CDN integration.",
         "f1bf105677b5403338d9dd935fc34653",
         "-130.89193377231797",
         "118.7757095965234",
         "461.34547948709303",
         "-8433.075381353161",
         "0.1105559312980432",
         "24",
         "0"
        ],
        [
         "454",
         "JavaScript Concepts",
         "ES6 Classes: Syntactic sugar over JavaScript's prototype-based inheritance, providing a clearer and more familiar syntax for creating objects and handling inheritance.",
         "67a9ca9b8c0c3f9ccb345bbfffa6948b",
         "-127.1617345258885",
         "118.7757095965234",
         "461.34547948709303",
         "-8433.075381353161",
         "0.1105559312980432",
         "27",
         "0"
        ]
       ],
       "shape": {
        "columns": 10,
        "rows": 10
       }
      },
      "text/html": [
       "<div>\n",
       "<style scoped>\n",
       "    .dataframe tbody tr th:only-of-type {\n",
       "        vertical-align: middle;\n",
       "    }\n",
       "\n",
       "    .dataframe tbody tr th {\n",
       "        vertical-align: top;\n",
       "    }\n",
       "\n",
       "    .dataframe thead th {\n",
       "        text-align: right;\n",
       "    }\n",
       "</style>\n",
       "<table border=\"1\" class=\"dataframe\">\n",
       "  <thead>\n",
       "    <tr style=\"text-align: right;\">\n",
       "      <th></th>\n",
       "      <th>head</th>\n",
       "      <th>body</th>\n",
       "      <th>hash</th>\n",
       "      <th>age</th>\n",
       "      <th>subject_mean_age</th>\n",
       "      <th>subject_highest_age</th>\n",
       "      <th>subject_age_sum</th>\n",
       "      <th>head_random_roll</th>\n",
       "      <th>count</th>\n",
       "      <th>n_fold</th>\n",
       "    </tr>\n",
       "  </thead>\n",
       "  <tbody>\n",
       "    <tr>\n",
       "      <th>208</th>\n",
       "      <td>JavaScript Concepts</td>\n",
       "      <td>MobX: A simple, scalable state management libr...</td>\n",
       "      <td>db0e0a9265d062fb61f33349110c0350</td>\n",
       "      <td>-461.345479</td>\n",
       "      <td>118.77571</td>\n",
       "      <td>461.345479</td>\n",
       "      <td>-8433.075381</td>\n",
       "      <td>0.110556</td>\n",
       "      <td>0</td>\n",
       "      <td>0</td>\n",
       "    </tr>\n",
       "    <tr>\n",
       "      <th>211</th>\n",
       "      <td>JavaScript Concepts</td>\n",
       "      <td>Spread Operator (...): Expanding elements of a...</td>\n",
       "      <td>c2611b95601be43479f2a6044d56d65b</td>\n",
       "      <td>-368.711716</td>\n",
       "      <td>118.77571</td>\n",
       "      <td>461.345479</td>\n",
       "      <td>-8433.075381</td>\n",
       "      <td>0.110556</td>\n",
       "      <td>3</td>\n",
       "      <td>0</td>\n",
       "    </tr>\n",
       "    <tr>\n",
       "      <th>214</th>\n",
       "      <td>JavaScript Concepts</td>\n",
       "      <td>Flow: A static type checker for JavaScript, en...</td>\n",
       "      <td>f5d6833a9a0e5003337489de2ad6f2d9</td>\n",
       "      <td>-269.545084</td>\n",
       "      <td>118.77571</td>\n",
       "      <td>461.345479</td>\n",
       "      <td>-8433.075381</td>\n",
       "      <td>0.110556</td>\n",
       "      <td>6</td>\n",
       "      <td>0</td>\n",
       "    </tr>\n",
       "    <tr>\n",
       "      <th>217</th>\n",
       "      <td>JavaScript Concepts</td>\n",
       "      <td>Immutable Data Structures: Data structures tha...</td>\n",
       "      <td>ee373d626320d72bd5df0700a853f727</td>\n",
       "      <td>-201.483381</td>\n",
       "      <td>118.77571</td>\n",
       "      <td>461.345479</td>\n",
       "      <td>-8433.075381</td>\n",
       "      <td>0.110556</td>\n",
       "      <td>9</td>\n",
       "      <td>0</td>\n",
       "    </tr>\n",
       "    <tr>\n",
       "      <th>367</th>\n",
       "      <td>JavaScript Concepts</td>\n",
       "      <td>React Native: A framework for building native ...</td>\n",
       "      <td>08281b39dcbdcf8a2bd663850d840f08</td>\n",
       "      <td>-167.471629</td>\n",
       "      <td>118.77571</td>\n",
       "      <td>461.345479</td>\n",
       "      <td>-8433.075381</td>\n",
       "      <td>0.110556</td>\n",
       "      <td>12</td>\n",
       "      <td>0</td>\n",
       "    </tr>\n",
       "    <tr>\n",
       "      <th>369</th>\n",
       "      <td>JavaScript Concepts</td>\n",
       "      <td>Material-UI (MUI): A React component library i...</td>\n",
       "      <td>e11c3b73d9ca9e3d7f43b82d176d4783</td>\n",
       "      <td>-160.708449</td>\n",
       "      <td>118.77571</td>\n",
       "      <td>461.345479</td>\n",
       "      <td>-8433.075381</td>\n",
       "      <td>0.110556</td>\n",
       "      <td>15</td>\n",
       "      <td>0</td>\n",
       "    </tr>\n",
       "    <tr>\n",
       "      <th>373</th>\n",
       "      <td>JavaScript Concepts</td>\n",
       "      <td>Arrow Functions: Concise syntax for writing fu...</td>\n",
       "      <td>6e07e6e7518323a21945152d2b9f2586</td>\n",
       "      <td>-151.125824</td>\n",
       "      <td>118.77571</td>\n",
       "      <td>461.345479</td>\n",
       "      <td>-8433.075381</td>\n",
       "      <td>0.110556</td>\n",
       "      <td>18</td>\n",
       "      <td>0</td>\n",
       "    </tr>\n",
       "    <tr>\n",
       "      <th>448</th>\n",
       "      <td>JavaScript Concepts</td>\n",
       "      <td>Tailwind CSS: A utility-first CSS framework th...</td>\n",
       "      <td>5d50ff3777ff18aa489113653aba8887</td>\n",
       "      <td>-136.788131</td>\n",
       "      <td>118.77571</td>\n",
       "      <td>461.345479</td>\n",
       "      <td>-8433.075381</td>\n",
       "      <td>0.110556</td>\n",
       "      <td>21</td>\n",
       "      <td>0</td>\n",
       "    </tr>\n",
       "    <tr>\n",
       "      <th>450</th>\n",
       "      <td>JavaScript Concepts</td>\n",
       "      <td>Vercel: A cloud platform optimized for fronten...</td>\n",
       "      <td>f1bf105677b5403338d9dd935fc34653</td>\n",
       "      <td>-130.891934</td>\n",
       "      <td>118.77571</td>\n",
       "      <td>461.345479</td>\n",
       "      <td>-8433.075381</td>\n",
       "      <td>0.110556</td>\n",
       "      <td>24</td>\n",
       "      <td>0</td>\n",
       "    </tr>\n",
       "    <tr>\n",
       "      <th>454</th>\n",
       "      <td>JavaScript Concepts</td>\n",
       "      <td>ES6 Classes: Syntactic sugar over JavaScript's...</td>\n",
       "      <td>67a9ca9b8c0c3f9ccb345bbfffa6948b</td>\n",
       "      <td>-127.161735</td>\n",
       "      <td>118.77571</td>\n",
       "      <td>461.345479</td>\n",
       "      <td>-8433.075381</td>\n",
       "      <td>0.110556</td>\n",
       "      <td>27</td>\n",
       "      <td>0</td>\n",
       "    </tr>\n",
       "  </tbody>\n",
       "</table>\n",
       "</div>"
      ],
      "text/plain": [
       "                    head                                               body  \\\n",
       "208  JavaScript Concepts  MobX: A simple, scalable state management libr...   \n",
       "211  JavaScript Concepts  Spread Operator (...): Expanding elements of a...   \n",
       "214  JavaScript Concepts  Flow: A static type checker for JavaScript, en...   \n",
       "217  JavaScript Concepts  Immutable Data Structures: Data structures tha...   \n",
       "367  JavaScript Concepts  React Native: A framework for building native ...   \n",
       "369  JavaScript Concepts  Material-UI (MUI): A React component library i...   \n",
       "373  JavaScript Concepts  Arrow Functions: Concise syntax for writing fu...   \n",
       "448  JavaScript Concepts  Tailwind CSS: A utility-first CSS framework th...   \n",
       "450  JavaScript Concepts  Vercel: A cloud platform optimized for fronten...   \n",
       "454  JavaScript Concepts  ES6 Classes: Syntactic sugar over JavaScript's...   \n",
       "\n",
       "                                 hash         age  subject_mean_age  \\\n",
       "208  db0e0a9265d062fb61f33349110c0350 -461.345479         118.77571   \n",
       "211  c2611b95601be43479f2a6044d56d65b -368.711716         118.77571   \n",
       "214  f5d6833a9a0e5003337489de2ad6f2d9 -269.545084         118.77571   \n",
       "217  ee373d626320d72bd5df0700a853f727 -201.483381         118.77571   \n",
       "367  08281b39dcbdcf8a2bd663850d840f08 -167.471629         118.77571   \n",
       "369  e11c3b73d9ca9e3d7f43b82d176d4783 -160.708449         118.77571   \n",
       "373  6e07e6e7518323a21945152d2b9f2586 -151.125824         118.77571   \n",
       "448  5d50ff3777ff18aa489113653aba8887 -136.788131         118.77571   \n",
       "450  f1bf105677b5403338d9dd935fc34653 -130.891934         118.77571   \n",
       "454  67a9ca9b8c0c3f9ccb345bbfffa6948b -127.161735         118.77571   \n",
       "\n",
       "     subject_highest_age  subject_age_sum  head_random_roll  count  n_fold  \n",
       "208           461.345479     -8433.075381          0.110556      0       0  \n",
       "211           461.345479     -8433.075381          0.110556      3       0  \n",
       "214           461.345479     -8433.075381          0.110556      6       0  \n",
       "217           461.345479     -8433.075381          0.110556      9       0  \n",
       "367           461.345479     -8433.075381          0.110556     12       0  \n",
       "369           461.345479     -8433.075381          0.110556     15       0  \n",
       "373           461.345479     -8433.075381          0.110556     18       0  \n",
       "448           461.345479     -8433.075381          0.110556     21       0  \n",
       "450           461.345479     -8433.075381          0.110556     24       0  \n",
       "454           461.345479     -8433.075381          0.110556     27       0  "
      ]
     },
     "execution_count": 12,
     "metadata": {},
     "output_type": "execute_result"
    }
   ],
   "source": [
    "n=3\n",
    "existing_cards['count'] = existing_cards.sort_values('age', ascending=False).groupby('head').cumcount()\n",
    "existing_cards['n_fold'] = existing_cards['count'] % n\n",
    "\n",
    "existing_cards['subject_age_sum'] = existing_cards['subject_age_sum'] *-1\n",
    "existing_cards['age'] = existing_cards['age'] *-1\n",
    "existing_cards.sort_values(['n_fold', 'subject_age_sum', 'age'], inplace=True)\n",
    "\n",
    "remake_card_document(existing_cards=existing_cards)\n",
    "existing_cards.head(10)\n"
   ]
  },
  {
   "cell_type": "markdown",
   "metadata": {},
   "source": [
    "## Age Mean"
   ]
  },
  {
   "cell_type": "code",
   "execution_count": 13,
   "metadata": {},
   "outputs": [],
   "source": [
    "# n=3\n",
    "# existing_cards['count'] = existing_cards.sort_values('age', ascending=False).groupby('head').cumcount()\n",
    "# existing_cards['n_fold'] = existing_cards['count'] % n\n",
    "\n",
    "# existing_cards['subject_mean_age'] = existing_cards['subject_mean_age'] *-1\n",
    "# existing_cards['age'] = existing_cards['age'] *-1\n",
    "# existing_cards.sort_values(['n_fold', 'subject_mean_age', 'age'], inplace=True)\n",
    "# remake_card_document(existing_cards=existing_cards)\n",
    "\n",
    "# existing_cards.head(10)\n",
    "\n"
   ]
  },
  {
   "cell_type": "markdown",
   "metadata": {},
   "source": [
    "## Age Max"
   ]
  },
  {
   "cell_type": "code",
   "execution_count": 14,
   "metadata": {},
   "outputs": [],
   "source": [
    "# n = 1\n",
    "# existing_cards['count'] = existing_cards.sort_values('age', ascending=False).groupby('head').cumcount()\n",
    "# existing_cards['n_fold'] = existing_cards['count'] // n\n",
    "\n",
    "# if existing_cards['age'].sum() > 0:\n",
    "#     existing_cards['subject_highest_age'] = existing_cards['subject_highest_age'] *-1\n",
    "#     existing_cards['age'] = existing_cards['age'] *-1\n",
    "# existing_cards.sort_values(['n_fold', 'subject_highest_age', 'age'], inplace=True)\n",
    "\n",
    "# remake_card_document(existing_cards=existing_cards)\n",
    "# existing_cards.head(10)\n"
   ]
  },
  {
   "cell_type": "markdown",
   "metadata": {},
   "source": [
    "## Card Count"
   ]
  },
  {
   "cell_type": "code",
   "execution_count": 15,
   "metadata": {},
   "outputs": [],
   "source": [
    "# n=10\n",
    "# existing_cards['frequency']  = existing_cards.groupby('head').transform('count')['body']\n",
    "# existing_cards['count'] = existing_cards.sort_values('age', ascending=False).groupby('head').cumcount()\n",
    "# existing_cards['n_fold'] = existing_cards['count'] // n\n",
    "\n",
    "# if existing_cards['age'].sum() > 0:\n",
    "#     # existing_cards['neg_subject_highest_age'] = existing_cards['subject_highest_age'] *-1\n",
    "#     existing_cards['neg_age'] = existing_cards['age'] *-1\n",
    "# existing_cards.sort_values(['n_fold', 'frequency', 'neg_age'], inplace=True)\n",
    "# remake_card_document(existing_cards=existing_cards)\n",
    "\n",
    "# existing_cards.head(10)\n",
    "\n"
   ]
  },
  {
   "cell_type": "markdown",
   "metadata": {},
   "source": [
    "\n",
    "## Random"
   ]
  },
  {
   "cell_type": "code",
   "execution_count": 16,
   "metadata": {},
   "outputs": [],
   "source": [
    "# n = 3\n",
    "# existing_cards['count'] = existing_cards.sort_values('age', ascending=False).groupby('head').cumcount()\n",
    "# existing_cards['n_fold'] = existing_cards['count'] % n\n",
    "# existing_cards['age'] *= -1\n",
    "# existing_cards.sort_values(['n_fold', 'head_random_roll', 'age'], inplace=True)\n",
    "# remake_card_document(existing_cards=existing_cards)\n",
    "# existing_cards.head(10)"
   ]
  },
  {
   "cell_type": "code",
   "execution_count": 27,
   "metadata": {},
   "outputs": [
    {
     "data": {
      "text/plain": [
       "head                   Azure Developer AssociateAzure Developer Assoc...\n",
       "body                   Q: What is the typical Redis command to set a ...\n",
       "hash                   d8600762aa22e73f28ac0181be1b115a8f2e58ba188383...\n",
       "age                                                           183.868328\n",
       "subject_mean_age                                              283.182293\n",
       "subject_highest_age                                           680.364098\n",
       "subject_age_sum                                             12176.838611\n",
       "head_random_roll                                                0.128984\n",
       "count                                                                135\n",
       "n_fold                                                                 0\n",
       "dtype: object"
      ]
     },
     "execution_count": 27,
     "metadata": {},
     "output_type": "execute_result"
    }
   ],
   "source": [
    "existing_cards.head(10).sum()"
   ]
  },
  {
   "cell_type": "code",
   "execution_count": 18,
   "metadata": {},
   "outputs": [
    {
     "data": {
      "text/plain": [
       "-129.08494963525195"
      ]
     },
     "execution_count": 18,
     "metadata": {},
     "output_type": "execute_result"
    }
   ],
   "source": [
    "existing_cards['age'].mean()"
   ]
  }
 ],
 "metadata": {
  "kernelspec": {
   "display_name": "Python 3",
   "language": "python",
   "name": "python3"
  },
  "language_info": {
   "codemirror_mode": {
    "name": "ipython",
    "version": 3
   },
   "file_extension": ".py",
   "mimetype": "text/x-python",
   "name": "python",
   "nbconvert_exporter": "python",
   "pygments_lexer": "ipython3",
   "version": "3.10.10"
  }
 },
 "nbformat": 4,
 "nbformat_minor": 2
}
