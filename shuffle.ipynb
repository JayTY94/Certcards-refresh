{
 "cells": [
  {
   "cell_type": "code",
   "execution_count": 39,
   "metadata": {},
   "outputs": [],
   "source": [
    "import re\n",
    "import random\n",
    "import pandas as pd\n",
    "import hashlib"
   ]
  },
  {
   "cell_type": "code",
   "execution_count": 40,
   "metadata": {},
   "outputs": [],
   "source": [
    "with open('certcards2.txt', mode='r', encoding='utf8') as f:\n",
    "    all_cards = f.read()\n",
    "    \n",
    "card_split_pattern = r'\\n\\n\\n\\d+\\n'\n",
    "all_cards = re.split(card_split_pattern, all_cards)\n",
    "# Use re.DOTALL to allow . to match newline characters\n",
    "card_pattern = re.compile(r'(.+?)\\n([\\s\\S]+)', re.DOTALL)\n",
    "cards = [(match.group(1), match.group(2)) for cstring in all_cards if (match := re.search(card_pattern, cstring))]\n",
    "\n",
    "# removing the cards that have no content and trimming\n",
    "cards = [(subject, stripped_content) for subject, content in cards if len(stripped_content := content.strip()) > 5]\n",
    "\n",
    "def hash_string_md5(s):\n",
    "    \"\"\"\n",
    "    Hashes a string using MD5 and returns a truncated hash for efficiency.\n",
    "\n",
    "    Parameters:\n",
    "    - s (str): The input string to hash.\n",
    "\n",
    "    Returns:\n",
    "    - str: The truncated hexadecimal hash string.\n",
    "    \"\"\"\n",
    "    if pd.isnull(s):\n",
    "        return None  # Handle NaN values gracefully\n",
    "    return hashlib.md5(s.encode('utf-8')).hexdigest()  # Truncate to first 12 characters\n",
    "\n",
    "\n",
    "def remake_card_document(existing_cards: pd.DataFrame, filename: str='certcards2.txt'):\n",
    "    with open(filename, mode='w', encoding='utf8') as f:\n",
    "        i = 1\n",
    "        for _, row in existing_cards.iterrows():\n",
    "            f.write('\\n'*6)\n",
    "            f.write(str(i)+'\\n')  \n",
    "            f.write(row['head']+'\\n')\n",
    "            f.write(row['body'])\n",
    "            i+=1\n",
    "    print(F\"Cards found: {existing_cards.shape[0]}\")\n",
    "\n",
    "\n",
    "existing_cards = pd.DataFrame(cards, columns=['head', 'body'])\n",
    "\n",
    "\n",
    "# existing_cards['age'] = [random.random() for _ in existing_cards.index]\n",
    "existing_cards['hash'] = existing_cards['body'].apply(hash_string_md5)\n",
    "existing_cards\n",
    "\n",
    "card_ages = pd.read_json('card_ages.json')\n",
    "card_ages = card_ages.drop_duplicates(subset=['hash'], keep='first')\n",
    "\n",
    "cards_to_age = pd.merge(\n",
    "    left=existing_cards,\n",
    "    right=card_ages[['hash', 'age']],\n",
    "    left_on='hash', right_on='hash',\n",
    "    how='left'\n",
    ")\n",
    "\n",
    "cards_to_age['head'] = cards_to_age['head'].str.strip()\n",
    "\n",
    "if cards_to_age['age'].sum() > 2e4: age_factor = 1\n",
    "else: age_factor = 1.00\n",
    "\n",
    "cards_to_age['age'] = cards_to_age['age'].fillna(0)\n",
    "cards_to_age['age'] = cards_to_age['age'] * age_factor\n",
    "cards_to_age['age'] = cards_to_age['age'] + [random.expovariate(.60) for _ in cards_to_age.index]\n",
    "# cards_to_age['age'] = cards_to_age['age'] * [random.expovariate(.5) for _ in cards_to_age.index]\n",
    "\n",
    "\n",
    "cards_to_age = cards_to_age.drop_duplicates(subset=['hash'], keep='first')\n",
    "\n",
    "cards_to_age['subject_mean_age'] = cards_to_age.groupby('head')['age'].transform('mean')\n",
    "cards_to_age['subject_highest_age'] = cards_to_age.groupby('head')['age'].transform('max')\n",
    "cards_to_age['subject_age_sum'] = cards_to_age.groupby('head')['age'].transform('sum')\n",
    "cards_to_age['head_random_roll'] = cards_to_age.groupby('head')['head'].transform(lambda x: random.random())\n",
    "\n",
    "\n",
    "cards_to_age.sort_values('age')[['age', 'head', 'hash']].to_json('card_ages.json', indent=2)\n",
    "\n",
    "existing_cards = cards_to_age"
   ]
  },
  {
   "cell_type": "code",
   "execution_count": 41,
   "metadata": {},
   "outputs": [
    {
     "data": {
      "application/vnd.microsoft.datawrangler.viewer.v0+json": {
       "columns": [
        {
         "name": "index",
         "rawType": "object",
         "type": "string"
        },
        {
         "name": "age_sum",
         "rawType": "float64",
         "type": "float"
        },
        {
         "name": "age_mean",
         "rawType": "float64",
         "type": "float"
        },
        {
         "name": "age_max",
         "rawType": "float64",
         "type": "float"
        },
        {
         "name": "head_count",
         "rawType": "int64",
         "type": "integer"
        }
       ],
       "conversionMethod": "pd.DataFrame",
       "ref": "6408414e-c053-4c96-956b-e0d7e3b46cb0",
       "rows": [
        [
         "Powershell",
         "459.787209418619",
         "91.9574418837238",
         "241.9449599015114",
         "5"
        ],
        [
         "Todd Ideas",
         "820.9875008591208",
         "54.73250005727472",
         "144.48409191935394",
         "15"
        ],
        [
         "PEP 8",
         "1339.0450739914306",
         "167.38063424892883",
         "575.01461897785",
         "8"
        ],
        [
         "SharePoint",
         "1563.816748172765",
         "130.31806234773043",
         "568.7080221093903",
         "12"
        ],
        [
         "Debugging in VS Code",
         "1782.1145988289916",
         "89.10572994144958",
         "241.77420133651543",
         "20"
        ],
        [
         "Terraform",
         "1829.521000695579",
         "73.18084002782317",
         "246.59594955265982",
         "25"
        ],
        [
         "Azure Functions + Visual Studio",
         "1839.0221605489617",
         "131.35872575349725",
         "475.5845437680356",
         "14"
        ],
        [
         "IW Migration",
         "2000.3129233163575",
         "142.87949452259696",
         "452.0637727751241",
         "14"
        ],
        [
         "Open Source/GitHub",
         "2148.1024917638993",
         "134.2564057352437",
         "352.2816509582141",
         "16"
        ],
        [
         "FSLogix",
         "2183.6692768345592",
         "90.98621986810663",
         "257.23823463070556",
         "24"
        ],
        [
         "Email Auth and Security",
         "2245.740414140252",
         "172.74926262617325",
         "889.0415016634569",
         "13"
        ],
        [
         "Azure Functions",
         "2779.126311556282",
         "252.64784650511655",
         "733.1159081844066",
         "11"
        ],
        [
         "DNS",
         "2967.733781205773",
         "185.48336132536082",
         "386.0238360182122",
         "16"
        ],
        [
         "Azure AI Search",
         "3643.6099592315545",
         "260.25785423082533",
         "715.2614575882926",
         "14"
        ],
        [
         "Audit Report Tracker (Sharepoint List)",
         "3701.4144427489246",
         "231.33840267180778",
         "1236.3896605947218",
         "16"
        ],
        [
         "Powershell Modules",
         "4481.4698832278655",
         "149.38232944092886",
         "676.5681100621416",
         "30"
        ],
        [
         "Azure Functions + PP365",
         "5001.103124540533",
         "200.0441249816213",
         "1047.7410592215936",
         "25"
        ],
        [
         "OData",
         "5177.231399626155",
         "345.148759975077",
         "991.1297326549678",
         "15"
        ],
        [
         "Home Network Project",
         "5348.181898792964",
         "281.4832578312086",
         "1194.3809015363565",
         "19"
        ],
        [
         "WSL + Kali Linux",
         "5799.150260005827",
         "263.59773909117393",
         "1217.3132265211448",
         "22"
        ],
        [
         "Vocab",
         "5978.0929976038515",
         "90.57716663036139",
         "854.4994516692606",
         "66"
        ],
        [
         "PnP Powershell",
         "6303.31175100485",
         "165.8766250264434",
         "648.6163488104248",
         "38"
        ],
        [
         "JavaScript Concepts",
         "6542.965739713846",
         "107.26173343793191",
         "427.8996151944171",
         "61"
        ],
        [
         "Logging in Python",
         "8064.715439245082",
         "134.41192398741802",
         "1021.6573355907701",
         "60"
        ]
       ],
       "shape": {
        "columns": 4,
        "rows": 24
       }
      },
      "text/html": [
       "<div>\n",
       "<style scoped>\n",
       "    .dataframe tbody tr th:only-of-type {\n",
       "        vertical-align: middle;\n",
       "    }\n",
       "\n",
       "    .dataframe tbody tr th {\n",
       "        vertical-align: top;\n",
       "    }\n",
       "\n",
       "    .dataframe thead th {\n",
       "        text-align: right;\n",
       "    }\n",
       "</style>\n",
       "<table border=\"1\" class=\"dataframe\">\n",
       "  <thead>\n",
       "    <tr style=\"text-align: right;\">\n",
       "      <th></th>\n",
       "      <th>age_sum</th>\n",
       "      <th>age_mean</th>\n",
       "      <th>age_max</th>\n",
       "      <th>head_count</th>\n",
       "    </tr>\n",
       "  </thead>\n",
       "  <tbody>\n",
       "    <tr>\n",
       "      <th>Powershell</th>\n",
       "      <td>459.787209</td>\n",
       "      <td>91.957442</td>\n",
       "      <td>241.944960</td>\n",
       "      <td>5</td>\n",
       "    </tr>\n",
       "    <tr>\n",
       "      <th>Todd Ideas</th>\n",
       "      <td>820.987501</td>\n",
       "      <td>54.732500</td>\n",
       "      <td>144.484092</td>\n",
       "      <td>15</td>\n",
       "    </tr>\n",
       "    <tr>\n",
       "      <th>PEP 8</th>\n",
       "      <td>1339.045074</td>\n",
       "      <td>167.380634</td>\n",
       "      <td>575.014619</td>\n",
       "      <td>8</td>\n",
       "    </tr>\n",
       "    <tr>\n",
       "      <th>SharePoint</th>\n",
       "      <td>1563.816748</td>\n",
       "      <td>130.318062</td>\n",
       "      <td>568.708022</td>\n",
       "      <td>12</td>\n",
       "    </tr>\n",
       "    <tr>\n",
       "      <th>Debugging in VS Code</th>\n",
       "      <td>1782.114599</td>\n",
       "      <td>89.105730</td>\n",
       "      <td>241.774201</td>\n",
       "      <td>20</td>\n",
       "    </tr>\n",
       "    <tr>\n",
       "      <th>Terraform</th>\n",
       "      <td>1829.521001</td>\n",
       "      <td>73.180840</td>\n",
       "      <td>246.595950</td>\n",
       "      <td>25</td>\n",
       "    </tr>\n",
       "    <tr>\n",
       "      <th>Azure Functions + Visual Studio</th>\n",
       "      <td>1839.022161</td>\n",
       "      <td>131.358726</td>\n",
       "      <td>475.584544</td>\n",
       "      <td>14</td>\n",
       "    </tr>\n",
       "    <tr>\n",
       "      <th>IW Migration</th>\n",
       "      <td>2000.312923</td>\n",
       "      <td>142.879495</td>\n",
       "      <td>452.063773</td>\n",
       "      <td>14</td>\n",
       "    </tr>\n",
       "    <tr>\n",
       "      <th>Open Source/GitHub</th>\n",
       "      <td>2148.102492</td>\n",
       "      <td>134.256406</td>\n",
       "      <td>352.281651</td>\n",
       "      <td>16</td>\n",
       "    </tr>\n",
       "    <tr>\n",
       "      <th>FSLogix</th>\n",
       "      <td>2183.669277</td>\n",
       "      <td>90.986220</td>\n",
       "      <td>257.238235</td>\n",
       "      <td>24</td>\n",
       "    </tr>\n",
       "    <tr>\n",
       "      <th>Email Auth and Security</th>\n",
       "      <td>2245.740414</td>\n",
       "      <td>172.749263</td>\n",
       "      <td>889.041502</td>\n",
       "      <td>13</td>\n",
       "    </tr>\n",
       "    <tr>\n",
       "      <th>Azure Functions</th>\n",
       "      <td>2779.126312</td>\n",
       "      <td>252.647847</td>\n",
       "      <td>733.115908</td>\n",
       "      <td>11</td>\n",
       "    </tr>\n",
       "    <tr>\n",
       "      <th>DNS</th>\n",
       "      <td>2967.733781</td>\n",
       "      <td>185.483361</td>\n",
       "      <td>386.023836</td>\n",
       "      <td>16</td>\n",
       "    </tr>\n",
       "    <tr>\n",
       "      <th>Azure AI Search</th>\n",
       "      <td>3643.609959</td>\n",
       "      <td>260.257854</td>\n",
       "      <td>715.261458</td>\n",
       "      <td>14</td>\n",
       "    </tr>\n",
       "    <tr>\n",
       "      <th>Audit Report Tracker (Sharepoint List)</th>\n",
       "      <td>3701.414443</td>\n",
       "      <td>231.338403</td>\n",
       "      <td>1236.389661</td>\n",
       "      <td>16</td>\n",
       "    </tr>\n",
       "    <tr>\n",
       "      <th>Powershell Modules</th>\n",
       "      <td>4481.469883</td>\n",
       "      <td>149.382329</td>\n",
       "      <td>676.568110</td>\n",
       "      <td>30</td>\n",
       "    </tr>\n",
       "    <tr>\n",
       "      <th>Azure Functions + PP365</th>\n",
       "      <td>5001.103125</td>\n",
       "      <td>200.044125</td>\n",
       "      <td>1047.741059</td>\n",
       "      <td>25</td>\n",
       "    </tr>\n",
       "    <tr>\n",
       "      <th>OData</th>\n",
       "      <td>5177.231400</td>\n",
       "      <td>345.148760</td>\n",
       "      <td>991.129733</td>\n",
       "      <td>15</td>\n",
       "    </tr>\n",
       "    <tr>\n",
       "      <th>Home Network Project</th>\n",
       "      <td>5348.181899</td>\n",
       "      <td>281.483258</td>\n",
       "      <td>1194.380902</td>\n",
       "      <td>19</td>\n",
       "    </tr>\n",
       "    <tr>\n",
       "      <th>WSL + Kali Linux</th>\n",
       "      <td>5799.150260</td>\n",
       "      <td>263.597739</td>\n",
       "      <td>1217.313227</td>\n",
       "      <td>22</td>\n",
       "    </tr>\n",
       "    <tr>\n",
       "      <th>Vocab</th>\n",
       "      <td>5978.092998</td>\n",
       "      <td>90.577167</td>\n",
       "      <td>854.499452</td>\n",
       "      <td>66</td>\n",
       "    </tr>\n",
       "    <tr>\n",
       "      <th>PnP Powershell</th>\n",
       "      <td>6303.311751</td>\n",
       "      <td>165.876625</td>\n",
       "      <td>648.616349</td>\n",
       "      <td>38</td>\n",
       "    </tr>\n",
       "    <tr>\n",
       "      <th>JavaScript Concepts</th>\n",
       "      <td>6542.965740</td>\n",
       "      <td>107.261733</td>\n",
       "      <td>427.899615</td>\n",
       "      <td>61</td>\n",
       "    </tr>\n",
       "    <tr>\n",
       "      <th>Logging in Python</th>\n",
       "      <td>8064.715439</td>\n",
       "      <td>134.411924</td>\n",
       "      <td>1021.657336</td>\n",
       "      <td>60</td>\n",
       "    </tr>\n",
       "  </tbody>\n",
       "</table>\n",
       "</div>"
      ],
      "text/plain": [
       "                                            age_sum    age_mean      age_max  \\\n",
       "Powershell                               459.787209   91.957442   241.944960   \n",
       "Todd Ideas                               820.987501   54.732500   144.484092   \n",
       "PEP 8                                   1339.045074  167.380634   575.014619   \n",
       "SharePoint                              1563.816748  130.318062   568.708022   \n",
       "Debugging in VS Code                    1782.114599   89.105730   241.774201   \n",
       "Terraform                               1829.521001   73.180840   246.595950   \n",
       "Azure Functions + Visual Studio         1839.022161  131.358726   475.584544   \n",
       "IW Migration                            2000.312923  142.879495   452.063773   \n",
       "Open Source/GitHub                      2148.102492  134.256406   352.281651   \n",
       "FSLogix                                 2183.669277   90.986220   257.238235   \n",
       "Email Auth and Security                 2245.740414  172.749263   889.041502   \n",
       "Azure Functions                         2779.126312  252.647847   733.115908   \n",
       "DNS                                     2967.733781  185.483361   386.023836   \n",
       "Azure AI Search                         3643.609959  260.257854   715.261458   \n",
       "Audit Report Tracker (Sharepoint List)  3701.414443  231.338403  1236.389661   \n",
       "Powershell Modules                      4481.469883  149.382329   676.568110   \n",
       "Azure Functions + PP365                 5001.103125  200.044125  1047.741059   \n",
       "OData                                   5177.231400  345.148760   991.129733   \n",
       "Home Network Project                    5348.181899  281.483258  1194.380902   \n",
       "WSL + Kali Linux                        5799.150260  263.597739  1217.313227   \n",
       "Vocab                                   5978.092998   90.577167   854.499452   \n",
       "PnP Powershell                          6303.311751  165.876625   648.616349   \n",
       "JavaScript Concepts                     6542.965740  107.261733   427.899615   \n",
       "Logging in Python                       8064.715439  134.411924  1021.657336   \n",
       "\n",
       "                                        head_count  \n",
       "Powershell                                       5  \n",
       "Todd Ideas                                      15  \n",
       "PEP 8                                            8  \n",
       "SharePoint                                      12  \n",
       "Debugging in VS Code                            20  \n",
       "Terraform                                       25  \n",
       "Azure Functions + Visual Studio                 14  \n",
       "IW Migration                                    14  \n",
       "Open Source/GitHub                              16  \n",
       "FSLogix                                         24  \n",
       "Email Auth and Security                         13  \n",
       "Azure Functions                                 11  \n",
       "DNS                                             16  \n",
       "Azure AI Search                                 14  \n",
       "Audit Report Tracker (Sharepoint List)          16  \n",
       "Powershell Modules                              30  \n",
       "Azure Functions + PP365                         25  \n",
       "OData                                           15  \n",
       "Home Network Project                            19  \n",
       "WSL + Kali Linux                                22  \n",
       "Vocab                                           66  \n",
       "PnP Powershell                                  38  \n",
       "JavaScript Concepts                             61  \n",
       "Logging in Python                               60  "
      ]
     },
     "execution_count": 41,
     "metadata": {},
     "output_type": "execute_result"
    }
   ],
   "source": [
    "stats = existing_cards.groupby('head').agg({'age': ['sum', 'mean', 'max'], 'head': 'count'}).sort_values(('age', 'sum'))\n",
    "stats.columns = stats.columns.to_flat_index()\n",
    "stats.columns = ['_'.join(col).strip() for col in stats.columns]\n",
    "stats.index.name = None\n",
    "stats"
   ]
  },
  {
   "cell_type": "markdown",
   "metadata": {},
   "source": [
    "# Histogram"
   ]
  },
  {
   "cell_type": "code",
   "execution_count": 42,
   "metadata": {},
   "outputs": [
    {
     "name": "stdout",
     "output_type": "stream",
     "text": [
      "84000.23\n"
     ]
    },
    {
     "data": {
      "text/plain": [
       "<Axes: >"
      ]
     },
     "execution_count": 42,
     "metadata": {},
     "output_type": "execute_result"
    },
    {
     "data": {
      "image/png": "[encoded data removed]",
      "text/plain": [
       "<Figure size 640x480 with 1 Axes>"
      ]
     },
     "metadata": {},
     "output_type": "display_data"
    }
   ],
   "source": [
    "print(f\"{existing_cards['age'].sum(0):.2f}\")\n",
    "existing_cards['age'].hist(bins=20)"
   ]
  },
  {
   "cell_type": "markdown",
   "metadata": {},
   "source": [
    "# Completely Random Shuffle"
   ]
  },
  {
   "cell_type": "code",
   "execution_count": 43,
   "metadata": {},
   "outputs": [],
   "source": [
    "# existing_cards = existing_cards.sample(frac=1)\n",
    "# remake_card_document(filename='certcards2.txt', existing_cards = existing_cards)"
   ]
  },
  {
   "cell_type": "markdown",
   "metadata": {},
   "source": [
    "# Age Sort"
   ]
  },
  {
   "cell_type": "code",
   "execution_count": 44,
   "metadata": {},
   "outputs": [],
   "source": [
    "# existing_cards = existing_cards.sort_values('age', ascending=False)\n",
    "# remake_card_document(filename='certcards2.txt', existing_cards=existing_cards)\n",
    "# existing_cards.head(10)"
   ]
  },
  {
   "cell_type": "markdown",
   "metadata": {},
   "source": [
    "# Headers with fewest notes first"
   ]
  },
  {
   "cell_type": "code",
   "execution_count": 45,
   "metadata": {},
   "outputs": [],
   "source": [
    "# frequency = existing_cards['head'].value_counts(ascending=True)\n",
    "\n",
    "# existing_cards = pd.merge(\n",
    "#     left=existing_cards,\n",
    "#     right=frequency.rename('frequency'),\n",
    "#     left_on='head', right_index=True,\n",
    "#     how='left'\n",
    "# )\n",
    "# existing_cards['oldest'] = existing_cards.groupby('head')['age'].transform('max')\n",
    "# existing_cards['subject_highest_age'] = existing_cards['subject_highest_age'] * -1\n",
    "# existing_cards['age'] = existing_cards['age'] * -1\n",
    "\n",
    "\n",
    "# existing_cards.sort_values(['frequency', 'subject_highest_age', 'age'], ascending=True, inplace=True)\n",
    "\n",
    "# remake_card_document(filename='certcards2.txt', existing_cards=existing_cards)\n",
    "\n",
    "# existing_cards.head(10)"
   ]
  },
  {
   "cell_type": "markdown",
   "metadata": {},
   "source": [
    "# Focus on one header"
   ]
  },
  {
   "cell_type": "code",
   "execution_count": 46,
   "metadata": {},
   "outputs": [],
   "source": [
    "# heads = existing_cards['head'].value_counts()\n",
    "# heads = heads[heads > 5].index.tolist()\n",
    "# one_header = random.sample(heads, 1)[0]\n",
    "# existing_cards['pick_head'] = existing_cards['head'].apply(\n",
    "#     lambda h: 0 if h == one_header else 1 \n",
    "# )\n",
    "\n",
    "# remake_card_document(existing_cards=existing_cards.sort_values('pick_head'))"
   ]
  },
  {
   "cell_type": "markdown",
   "metadata": {},
   "source": [
    "## Header with oldest cards first"
   ]
  },
  {
   "cell_type": "code",
   "execution_count": 47,
   "metadata": {},
   "outputs": [],
   "source": [
    "# existing_cards['oldest'] = existing_cards.groupby('head')['age'].transform('max')\n",
    "# existing_cards.sort_values(['oldest', 'age'], ascending=False, inplace=True)\n",
    "# remake_card_document(existing_cards)"
   ]
  },
  {
   "cell_type": "markdown",
   "metadata": {},
   "source": [
    "## Headers with greatest mean card age first"
   ]
  },
  {
   "cell_type": "code",
   "execution_count": 48,
   "metadata": {},
   "outputs": [],
   "source": [
    "# existing_cards.sort_values(['subject_mean_age', 'age'], ascending=False, inplace=True)\n",
    "# remake_card_document(existing_cards)"
   ]
  },
  {
   "cell_type": "markdown",
   "metadata": {},
   "source": [
    "## Headers with greatest age sum first"
   ]
  },
  {
   "cell_type": "code",
   "execution_count": 49,
   "metadata": {},
   "outputs": [],
   "source": [
    "# existing_cards.sort_values(['subject_age_sum', 'age'], ascending=False, inplace=True)\n",
    "# remake_card_document(existing_cards)"
   ]
  },
  {
   "cell_type": "markdown",
   "metadata": {},
   "source": [
    "# N-fold shuffle\n"
   ]
  },
  {
   "cell_type": "markdown",
   "metadata": {},
   "source": [
    "## Age Sum"
   ]
  },
  {
   "cell_type": "code",
   "execution_count": 50,
   "metadata": {},
   "outputs": [],
   "source": [
    "# n=10\n",
    "# existing_cards['count'] = existing_cards.sort_values('age', ascending=False).groupby('head').cumcount()\n",
    "# existing_cards['n_fold'] = existing_cards['count'] // n\n",
    "\n",
    "# existing_cards['subject_age_sum'] = existing_cards['subject_age_sum'] *-1\n",
    "# existing_cards['age'] = existing_cards['age'] *-1\n",
    "# existing_cards.sort_values(['n_fold', 'subject_age_sum', 'age'], inplace=True)\n",
    "\n",
    "# remake_card_document(existing_cards=existing_cards)\n",
    "# existing_cards.head(10)\n"
   ]
  },
  {
   "cell_type": "markdown",
   "metadata": {},
   "source": [
    "## Age Mean"
   ]
  },
  {
   "cell_type": "code",
   "execution_count": 51,
   "metadata": {},
   "outputs": [],
   "source": [
    "# n=3\n",
    "# existing_cards['count'] = existing_cards.sort_values('age', ascending=False).groupby('head').cumcount()\n",
    "# existing_cards['n_fold'] = existing_cards['count'] % n\n",
    "\n",
    "# existing_cards['subject_mean_age'] = existing_cards['subject_mean_age'] *-1\n",
    "# existing_cards['age'] = existing_cards['age'] *-1\n",
    "# existing_cards.sort_values(['n_fold', 'subject_mean_age', 'age'], inplace=True)\n",
    "# remake_card_document(existing_cards=existing_cards)\n",
    "\n",
    "# existing_cards.head(10)\n",
    "\n"
   ]
  },
  {
   "cell_type": "markdown",
   "metadata": {},
   "source": [
    "## Age Max"
   ]
  },
  {
   "cell_type": "code",
   "execution_count": 52,
   "metadata": {},
   "outputs": [
    {
     "name": "stdout",
     "output_type": "stream",
     "text": [
      "Cards found: 559\n"
     ]
    },
    {
     "data": {
      "application/vnd.microsoft.datawrangler.viewer.v0+json": {
       "columns": [
        {
         "name": "index",
         "rawType": "int64",
         "type": "integer"
        },
        {
         "name": "head",
         "rawType": "object",
         "type": "string"
        },
        {
         "name": "body",
         "rawType": "object",
         "type": "string"
        },
        {
         "name": "hash",
         "rawType": "object",
         "type": "string"
        },
        {
         "name": "age",
         "rawType": "float64",
         "type": "float"
        },
        {
         "name": "subject_mean_age",
         "rawType": "float64",
         "type": "float"
        },
        {
         "name": "subject_highest_age",
         "rawType": "float64",
         "type": "float"
        },
        {
         "name": "subject_age_sum",
         "rawType": "float64",
         "type": "float"
        },
        {
         "name": "head_random_roll",
         "rawType": "float64",
         "type": "float"
        },
        {
         "name": "count",
         "rawType": "int64",
         "type": "integer"
        },
        {
         "name": "n_fold",
         "rawType": "int64",
         "type": "integer"
        }
       ],
       "conversionMethod": "pd.DataFrame",
       "ref": "4d19faa1-5268-4ae8-b6b0-34668a15359e",
       "rows": [
        [
         "0",
         "Audit Report Tracker (Sharepoint List)",
         "Power Automate (Flow) Owner\nDefinition: A user who has full control over a Flow, including the ability to edit, run, and manage its settings.\nContext: Necessary to inspect and modify automation workflows in Power Automate that are tied to SharePoint lists.",
         "8d5e063ee69a83e11e260335f0b685e8",
         "-1236.3896605947218",
         "231.33840267180778",
         "-1236.3896605947218",
         "3701.4144427489246",
         "0.26482749591201316",
         "0",
         "0"
        ],
        [
         "1",
         "Audit Report Tracker (Sharepoint List)",
         "Permissions Endpoint (for managing list permissions in SharePoint):\n\nEndpoint: GET https://graph.microsoft.com/v1.0/sites/{site-id}/lists/{list-id}/permissions\nDescription: Retrieves the permissions set for a specific SharePoint list.",
         "eda0eb7c1a3a9b0ebba749a597e46d22",
         "-422.11016367826466",
         "231.33840267180778",
         "-1236.3896605947218",
         "3701.4144427489246",
         "0.26482749591201316",
         "1",
         "0"
        ],
        [
         "2",
         "Audit Report Tracker (Sharepoint List)",
         "Site Collection Administrator\nDefinition: A user with full control over a SharePoint site collection, including managing permissions, lists, libraries, and settings.\nContext: Required to access and modify the structure, permissions, and content of a SharePoint site and its associated lists.",
         "c0359d229e67636a45dddedfe736bc8c",
         "-394.6038168802193",
         "231.33840267180778",
         "-1236.3896605947218",
         "3701.4144427489246",
         "0.26482749591201316",
         "2",
         "0"
        ],
        [
         "5",
         "WSL + Kali Linux",
         "wsl.exe and .bashrc\n.bashrc is a script that runs every time you launch a new terminal in WSL. You can use it to set environment variables, customize the prompt, or configure any other startup behavior you want.",
         "fec70ed50be50483db47053b6024bbb4",
         "-1217.3132265211448",
         "263.59773909117393",
         "-1217.3132265211448",
         "5799.150260005827",
         "0.40605924613997424",
         "0",
         "0"
        ],
        [
         "6",
         "WSL + Kali Linux",
         "wsl Command\nThe primary command-line interface for interacting with WSL instances. It is used to manage and run Linux distributions on Windows.\nCommon options:\nwsl --set-default <distro>: Sets the default Linux distribution for running wsl commands.\nwsl --terminate <distro>: Terminates a running WSL distribution.\nwsl --shutdown: Stops all running WSL instances.",
         "9b93a39837c69c7db3c9152b97cebefd",
         "-733.2513857358823",
         "263.59773909117393",
         "-1217.3132265211448",
         "5799.150260005827",
         "0.40605924613997424",
         "1",
         "0"
        ],
        [
         "7",
         "WSL + Kali Linux",
         "WSL Performance Tuning\nFor better performance, particularly when running heavier workloads or containers, use a .wslconfig file to adjust resource allocation for WSL 2 (memory, CPU, etc.).\nExample .wslconfig:\nmakefile\nCopy code\n[wsl2]\nmemory=4GB\nprocessors=2",
         "03fec1baebb903eda82ea95f03fe0716",
         "-715.3790633046455",
         "263.59773909117393",
         "-1217.3132265211448",
         "5799.150260005827",
         "0.40605924613997424",
         "2",
         "0"
        ],
        [
         "10",
         "Home Network Project",
         "Front: What is TLS Termination and why is it used in reverse proxies?\n\nBack: TLS Termination refers to the process of decrypting incoming TLS/SSL encrypted traffic at the reverse proxy level before forwarding it to backend servers. It offloads the computationally intensive decryption task from backend servers, improves performance, and allows for centralized management of SSL certificates.",
         "5297051eea9892af904815d3794faf15",
         "-1194.3809015363565",
         "281.4832578312086",
         "-1194.3809015363565",
         "5348.181898792964",
         "0.2395972724625467",
         "0",
         "0"
        ],
        [
         "11",
         "Home Network Project",
         "Front: Explain the difference between a Docker Image and a Docker Container.\n\nBack:\nDocker Image: A read-only template that contains the application and all its dependencies required to run it. Images are built from Dockerfiles and serve as the blueprint for containers.\nDocker Container: A runnable instance of a Docker image. Containers are created from images and can be started, stopped, moved, and deleted independently.",
         "cae03ba26ac3afa5df9d5bb453b94dfd",
         "-783.5202976733667",
         "281.4832578312086",
         "-1194.3809015363565",
         "5348.181898792964",
         "0.2395972724625467",
         "1",
         "0"
        ],
        [
         "12",
         "Home Network Project",
         "What is the command to update and upgrade packages on a Debian-based system like Raspberry Pi OS?\n\nbash\nsudo apt update && sudo apt upgrade -y",
         "d0a754737eef42e651e9fff08f6a6292",
         "-517.5919420430719",
         "281.4832578312086",
         "-1194.3809015363565",
         "5348.181898792964",
         "0.2395972724625467",
         "2",
         "0"
        ],
        [
         "15",
         "Azure Functions + PP365",
         "Azure SDK for Python\nA collection of libraries provided by Microsoft to interact with Azure services using Python. The Azure SDK for Python simplifies the integration of Azure Functions with services like Azure Storage, Cosmos DB, and Azure Key Vault, providing robust and consistent APIs for developers.",
         "80100a754471176d4959736d67f857f0",
         "-1047.7410592215936",
         "200.0441249816213",
         "-1047.7410592215936",
         "5001.103124540533",
         "0.380065265362599",
         "0",
         "0"
        ]
       ],
       "shape": {
        "columns": 10,
        "rows": 10
       }
      },
      "text/html": [
       "<div>\n",
       "<style scoped>\n",
       "    .dataframe tbody tr th:only-of-type {\n",
       "        vertical-align: middle;\n",
       "    }\n",
       "\n",
       "    .dataframe tbody tr th {\n",
       "        vertical-align: top;\n",
       "    }\n",
       "\n",
       "    .dataframe thead th {\n",
       "        text-align: right;\n",
       "    }\n",
       "</style>\n",
       "<table border=\"1\" class=\"dataframe\">\n",
       "  <thead>\n",
       "    <tr style=\"text-align: right;\">\n",
       "      <th></th>\n",
       "      <th>head</th>\n",
       "      <th>body</th>\n",
       "      <th>hash</th>\n",
       "      <th>age</th>\n",
       "      <th>subject_mean_age</th>\n",
       "      <th>subject_highest_age</th>\n",
       "      <th>subject_age_sum</th>\n",
       "      <th>head_random_roll</th>\n",
       "      <th>count</th>\n",
       "      <th>n_fold</th>\n",
       "    </tr>\n",
       "  </thead>\n",
       "  <tbody>\n",
       "    <tr>\n",
       "      <th>0</th>\n",
       "      <td>Audit Report Tracker (Sharepoint List)</td>\n",
       "      <td>Power Automate (Flow) Owner\\nDefinition: A use...</td>\n",
       "      <td>8d5e063ee69a83e11e260335f0b685e8</td>\n",
       "      <td>-1236.389661</td>\n",
       "      <td>231.338403</td>\n",
       "      <td>-1236.389661</td>\n",
       "      <td>3701.414443</td>\n",
       "      <td>0.264827</td>\n",
       "      <td>0</td>\n",
       "      <td>0</td>\n",
       "    </tr>\n",
       "    <tr>\n",
       "      <th>1</th>\n",
       "      <td>Audit Report Tracker (Sharepoint List)</td>\n",
       "      <td>Permissions Endpoint (for managing list permis...</td>\n",
       "      <td>eda0eb7c1a3a9b0ebba749a597e46d22</td>\n",
       "      <td>-422.110164</td>\n",
       "      <td>231.338403</td>\n",
       "      <td>-1236.389661</td>\n",
       "      <td>3701.414443</td>\n",
       "      <td>0.264827</td>\n",
       "      <td>1</td>\n",
       "      <td>0</td>\n",
       "    </tr>\n",
       "    <tr>\n",
       "      <th>2</th>\n",
       "      <td>Audit Report Tracker (Sharepoint List)</td>\n",
       "      <td>Site Collection Administrator\\nDefinition: A u...</td>\n",
       "      <td>c0359d229e67636a45dddedfe736bc8c</td>\n",
       "      <td>-394.603817</td>\n",
       "      <td>231.338403</td>\n",
       "      <td>-1236.389661</td>\n",
       "      <td>3701.414443</td>\n",
       "      <td>0.264827</td>\n",
       "      <td>2</td>\n",
       "      <td>0</td>\n",
       "    </tr>\n",
       "    <tr>\n",
       "      <th>5</th>\n",
       "      <td>WSL + Kali Linux</td>\n",
       "      <td>wsl.exe and .bashrc\\n.bashrc is a script that ...</td>\n",
       "      <td>fec70ed50be50483db47053b6024bbb4</td>\n",
       "      <td>-1217.313227</td>\n",
       "      <td>263.597739</td>\n",
       "      <td>-1217.313227</td>\n",
       "      <td>5799.150260</td>\n",
       "      <td>0.406059</td>\n",
       "      <td>0</td>\n",
       "      <td>0</td>\n",
       "    </tr>\n",
       "    <tr>\n",
       "      <th>6</th>\n",
       "      <td>WSL + Kali Linux</td>\n",
       "      <td>wsl Command\\nThe primary command-line interfac...</td>\n",
       "      <td>9b93a39837c69c7db3c9152b97cebefd</td>\n",
       "      <td>-733.251386</td>\n",
       "      <td>263.597739</td>\n",
       "      <td>-1217.313227</td>\n",
       "      <td>5799.150260</td>\n",
       "      <td>0.406059</td>\n",
       "      <td>1</td>\n",
       "      <td>0</td>\n",
       "    </tr>\n",
       "    <tr>\n",
       "      <th>7</th>\n",
       "      <td>WSL + Kali Linux</td>\n",
       "      <td>WSL Performance Tuning\\nFor better performance...</td>\n",
       "      <td>03fec1baebb903eda82ea95f03fe0716</td>\n",
       "      <td>-715.379063</td>\n",
       "      <td>263.597739</td>\n",
       "      <td>-1217.313227</td>\n",
       "      <td>5799.150260</td>\n",
       "      <td>0.406059</td>\n",
       "      <td>2</td>\n",
       "      <td>0</td>\n",
       "    </tr>\n",
       "    <tr>\n",
       "      <th>10</th>\n",
       "      <td>Home Network Project</td>\n",
       "      <td>Front: What is TLS Termination and why is it u...</td>\n",
       "      <td>5297051eea9892af904815d3794faf15</td>\n",
       "      <td>-1194.380902</td>\n",
       "      <td>281.483258</td>\n",
       "      <td>-1194.380902</td>\n",
       "      <td>5348.181899</td>\n",
       "      <td>0.239597</td>\n",
       "      <td>0</td>\n",
       "      <td>0</td>\n",
       "    </tr>\n",
       "    <tr>\n",
       "      <th>11</th>\n",
       "      <td>Home Network Project</td>\n",
       "      <td>Front: Explain the difference between a Docker...</td>\n",
       "      <td>cae03ba26ac3afa5df9d5bb453b94dfd</td>\n",
       "      <td>-783.520298</td>\n",
       "      <td>281.483258</td>\n",
       "      <td>-1194.380902</td>\n",
       "      <td>5348.181899</td>\n",
       "      <td>0.239597</td>\n",
       "      <td>1</td>\n",
       "      <td>0</td>\n",
       "    </tr>\n",
       "    <tr>\n",
       "      <th>12</th>\n",
       "      <td>Home Network Project</td>\n",
       "      <td>What is the command to update and upgrade pack...</td>\n",
       "      <td>d0a754737eef42e651e9fff08f6a6292</td>\n",
       "      <td>-517.591942</td>\n",
       "      <td>281.483258</td>\n",
       "      <td>-1194.380902</td>\n",
       "      <td>5348.181899</td>\n",
       "      <td>0.239597</td>\n",
       "      <td>2</td>\n",
       "      <td>0</td>\n",
       "    </tr>\n",
       "    <tr>\n",
       "      <th>15</th>\n",
       "      <td>Azure Functions + PP365</td>\n",
       "      <td>Azure SDK for Python\\nA collection of librarie...</td>\n",
       "      <td>80100a754471176d4959736d67f857f0</td>\n",
       "      <td>-1047.741059</td>\n",
       "      <td>200.044125</td>\n",
       "      <td>-1047.741059</td>\n",
       "      <td>5001.103125</td>\n",
       "      <td>0.380065</td>\n",
       "      <td>0</td>\n",
       "      <td>0</td>\n",
       "    </tr>\n",
       "  </tbody>\n",
       "</table>\n",
       "</div>"
      ],
      "text/plain": [
       "                                      head  \\\n",
       "0   Audit Report Tracker (Sharepoint List)   \n",
       "1   Audit Report Tracker (Sharepoint List)   \n",
       "2   Audit Report Tracker (Sharepoint List)   \n",
       "5                         WSL + Kali Linux   \n",
       "6                         WSL + Kali Linux   \n",
       "7                         WSL + Kali Linux   \n",
       "10                    Home Network Project   \n",
       "11                    Home Network Project   \n",
       "12                    Home Network Project   \n",
       "15                 Azure Functions + PP365   \n",
       "\n",
       "                                                 body  \\\n",
       "0   Power Automate (Flow) Owner\\nDefinition: A use...   \n",
       "1   Permissions Endpoint (for managing list permis...   \n",
       "2   Site Collection Administrator\\nDefinition: A u...   \n",
       "5   wsl.exe and .bashrc\\n.bashrc is a script that ...   \n",
       "6   wsl Command\\nThe primary command-line interfac...   \n",
       "7   WSL Performance Tuning\\nFor better performance...   \n",
       "10  Front: What is TLS Termination and why is it u...   \n",
       "11  Front: Explain the difference between a Docker...   \n",
       "12  What is the command to update and upgrade pack...   \n",
       "15  Azure SDK for Python\\nA collection of librarie...   \n",
       "\n",
       "                                hash          age  subject_mean_age  \\\n",
       "0   8d5e063ee69a83e11e260335f0b685e8 -1236.389661        231.338403   \n",
       "1   eda0eb7c1a3a9b0ebba749a597e46d22  -422.110164        231.338403   \n",
       "2   c0359d229e67636a45dddedfe736bc8c  -394.603817        231.338403   \n",
       "5   fec70ed50be50483db47053b6024bbb4 -1217.313227        263.597739   \n",
       "6   9b93a39837c69c7db3c9152b97cebefd  -733.251386        263.597739   \n",
       "7   03fec1baebb903eda82ea95f03fe0716  -715.379063        263.597739   \n",
       "10  5297051eea9892af904815d3794faf15 -1194.380902        281.483258   \n",
       "11  cae03ba26ac3afa5df9d5bb453b94dfd  -783.520298        281.483258   \n",
       "12  d0a754737eef42e651e9fff08f6a6292  -517.591942        281.483258   \n",
       "15  80100a754471176d4959736d67f857f0 -1047.741059        200.044125   \n",
       "\n",
       "    subject_highest_age  subject_age_sum  head_random_roll  count  n_fold  \n",
       "0          -1236.389661      3701.414443          0.264827      0       0  \n",
       "1          -1236.389661      3701.414443          0.264827      1       0  \n",
       "2          -1236.389661      3701.414443          0.264827      2       0  \n",
       "5          -1217.313227      5799.150260          0.406059      0       0  \n",
       "6          -1217.313227      5799.150260          0.406059      1       0  \n",
       "7          -1217.313227      5799.150260          0.406059      2       0  \n",
       "10         -1194.380902      5348.181899          0.239597      0       0  \n",
       "11         -1194.380902      5348.181899          0.239597      1       0  \n",
       "12         -1194.380902      5348.181899          0.239597      2       0  \n",
       "15         -1047.741059      5001.103125          0.380065      0       0  "
      ]
     },
     "execution_count": 52,
     "metadata": {},
     "output_type": "execute_result"
    }
   ],
   "source": [
    "n = 3\n",
    "existing_cards['count'] = existing_cards.sort_values('age', ascending=False).groupby('head').cumcount()\n",
    "existing_cards['n_fold'] = existing_cards['count'] // n\n",
    "\n",
    "existing_cards['subject_highest_age'] = existing_cards['subject_highest_age'] *-1\n",
    "existing_cards['age'] = existing_cards['age'] *-1\n",
    "existing_cards.sort_values(['n_fold', 'subject_highest_age', 'age'], inplace=True)\n",
    "\n",
    "remake_card_document(existing_cards=existing_cards)\n",
    "existing_cards.head(10)\n"
   ]
  },
  {
   "cell_type": "markdown",
   "metadata": {},
   "source": [
    "## Card Count"
   ]
  },
  {
   "cell_type": "code",
   "execution_count": 53,
   "metadata": {},
   "outputs": [],
   "source": [
    "# n=10\n",
    "# existing_cards['frequency']  = existing_cards.groupby('head').transform('count')['body']\n",
    "# existing_cards['count'] = existing_cards.sort_values('age', ascending=False).groupby('head').cumcount()\n",
    "# existing_cards['n_fold'] = existing_cards['count'] // n\n",
    "\n",
    "# existing_cards['subject_mean_age'] = existing_cards['subject_mean_age'] *-1\n",
    "# existing_cards['age'] = existing_cards['age'] *-1\n",
    "# existing_cards.sort_values(['n_fold', 'frequency', 'age'], inplace=True)\n",
    "# remake_card_document(existing_cards=existing_cards)\n",
    "\n",
    "# existing_cards.head(10)\n",
    "\n"
   ]
  },
  {
   "cell_type": "markdown",
   "metadata": {},
   "source": [
    "\n",
    "## Random"
   ]
  },
  {
   "cell_type": "code",
   "execution_count": 54,
   "metadata": {},
   "outputs": [],
   "source": [
    "# n = 3\n",
    "# existing_cards['count'] = existing_cards.sort_values('age', ascending=False).groupby('head').cumcount()\n",
    "# existing_cards['n_fold'] = existing_cards['count'] % n\n",
    "# existing_cards['age'] *= -1\n",
    "# existing_cards.sort_values(['n_fold', 'head_random_roll', 'age'], inplace=True)\n",
    "# remake_card_document(existing_cards=existing_cards)\n",
    "# existing_cards.head(10)"
   ]
  },
  {
   "cell_type": "code",
   "execution_count": 55,
   "metadata": {},
   "outputs": [
    {
     "data": {
      "application/vnd.microsoft.datawrangler.viewer.v0+json": {
       "columns": [
        {
         "name": "index",
         "rawType": "int64",
         "type": "integer"
        },
        {
         "name": "head",
         "rawType": "object",
         "type": "string"
        },
        {
         "name": "body",
         "rawType": "object",
         "type": "string"
        },
        {
         "name": "hash",
         "rawType": "object",
         "type": "string"
        },
        {
         "name": "age",
         "rawType": "float64",
         "type": "float"
        },
        {
         "name": "subject_mean_age",
         "rawType": "float64",
         "type": "float"
        },
        {
         "name": "subject_highest_age",
         "rawType": "float64",
         "type": "float"
        },
        {
         "name": "subject_age_sum",
         "rawType": "float64",
         "type": "float"
        },
        {
         "name": "head_random_roll",
         "rawType": "float64",
         "type": "float"
        },
        {
         "name": "count",
         "rawType": "int64",
         "type": "integer"
        },
        {
         "name": "n_fold",
         "rawType": "int64",
         "type": "integer"
        }
       ],
       "conversionMethod": "pd.DataFrame",
       "ref": "d89d4f43-5192-46cc-9335-222029ef9a11",
       "rows": [
        [
         "0",
         "Audit Report Tracker (Sharepoint List)",
         "Power Automate (Flow) Owner\nDefinition: A user who has full control over a Flow, including the ability to edit, run, and manage its settings.\nContext: Necessary to inspect and modify automation workflows in Power Automate that are tied to SharePoint lists.",
         "8d5e063ee69a83e11e260335f0b685e8",
         "-1236.3896605947218",
         "231.33840267180778",
         "-1236.3896605947218",
         "3701.4144427489246",
         "0.26482749591201316",
         "0",
         "0"
        ],
        [
         "1",
         "Audit Report Tracker (Sharepoint List)",
         "Permissions Endpoint (for managing list permissions in SharePoint):\n\nEndpoint: GET https://graph.microsoft.com/v1.0/sites/{site-id}/lists/{list-id}/permissions\nDescription: Retrieves the permissions set for a specific SharePoint list.",
         "eda0eb7c1a3a9b0ebba749a597e46d22",
         "-422.11016367826466",
         "231.33840267180778",
         "-1236.3896605947218",
         "3701.4144427489246",
         "0.26482749591201316",
         "1",
         "0"
        ],
        [
         "2",
         "Audit Report Tracker (Sharepoint List)",
         "Site Collection Administrator\nDefinition: A user with full control over a SharePoint site collection, including managing permissions, lists, libraries, and settings.\nContext: Required to access and modify the structure, permissions, and content of a SharePoint site and its associated lists.",
         "c0359d229e67636a45dddedfe736bc8c",
         "-394.6038168802193",
         "231.33840267180778",
         "-1236.3896605947218",
         "3701.4144427489246",
         "0.26482749591201316",
         "2",
         "0"
        ],
        [
         "5",
         "WSL + Kali Linux",
         "wsl.exe and .bashrc\n.bashrc is a script that runs every time you launch a new terminal in WSL. You can use it to set environment variables, customize the prompt, or configure any other startup behavior you want.",
         "fec70ed50be50483db47053b6024bbb4",
         "-1217.3132265211448",
         "263.59773909117393",
         "-1217.3132265211448",
         "5799.150260005827",
         "0.40605924613997424",
         "0",
         "0"
        ],
        [
         "6",
         "WSL + Kali Linux",
         "wsl Command\nThe primary command-line interface for interacting with WSL instances. It is used to manage and run Linux distributions on Windows.\nCommon options:\nwsl --set-default <distro>: Sets the default Linux distribution for running wsl commands.\nwsl --terminate <distro>: Terminates a running WSL distribution.\nwsl --shutdown: Stops all running WSL instances.",
         "9b93a39837c69c7db3c9152b97cebefd",
         "-733.2513857358823",
         "263.59773909117393",
         "-1217.3132265211448",
         "5799.150260005827",
         "0.40605924613997424",
         "1",
         "0"
        ],
        [
         "7",
         "WSL + Kali Linux",
         "WSL Performance Tuning\nFor better performance, particularly when running heavier workloads or containers, use a .wslconfig file to adjust resource allocation for WSL 2 (memory, CPU, etc.).\nExample .wslconfig:\nmakefile\nCopy code\n[wsl2]\nmemory=4GB\nprocessors=2",
         "03fec1baebb903eda82ea95f03fe0716",
         "-715.3790633046455",
         "263.59773909117393",
         "-1217.3132265211448",
         "5799.150260005827",
         "0.40605924613997424",
         "2",
         "0"
        ],
        [
         "10",
         "Home Network Project",
         "Front: What is TLS Termination and why is it used in reverse proxies?\n\nBack: TLS Termination refers to the process of decrypting incoming TLS/SSL encrypted traffic at the reverse proxy level before forwarding it to backend servers. It offloads the computationally intensive decryption task from backend servers, improves performance, and allows for centralized management of SSL certificates.",
         "5297051eea9892af904815d3794faf15",
         "-1194.3809015363565",
         "281.4832578312086",
         "-1194.3809015363565",
         "5348.181898792964",
         "0.2395972724625467",
         "0",
         "0"
        ],
        [
         "11",
         "Home Network Project",
         "Front: Explain the difference between a Docker Image and a Docker Container.\n\nBack:\nDocker Image: A read-only template that contains the application and all its dependencies required to run it. Images are built from Dockerfiles and serve as the blueprint for containers.\nDocker Container: A runnable instance of a Docker image. Containers are created from images and can be started, stopped, moved, and deleted independently.",
         "cae03ba26ac3afa5df9d5bb453b94dfd",
         "-783.5202976733667",
         "281.4832578312086",
         "-1194.3809015363565",
         "5348.181898792964",
         "0.2395972724625467",
         "1",
         "0"
        ],
        [
         "12",
         "Home Network Project",
         "What is the command to update and upgrade packages on a Debian-based system like Raspberry Pi OS?\n\nbash\nsudo apt update && sudo apt upgrade -y",
         "d0a754737eef42e651e9fff08f6a6292",
         "-517.5919420430719",
         "281.4832578312086",
         "-1194.3809015363565",
         "5348.181898792964",
         "0.2395972724625467",
         "2",
         "0"
        ],
        [
         "15",
         "Azure Functions + PP365",
         "Azure SDK for Python\nA collection of libraries provided by Microsoft to interact with Azure services using Python. The Azure SDK for Python simplifies the integration of Azure Functions with services like Azure Storage, Cosmos DB, and Azure Key Vault, providing robust and consistent APIs for developers.",
         "80100a754471176d4959736d67f857f0",
         "-1047.7410592215936",
         "200.0441249816213",
         "-1047.7410592215936",
         "5001.103124540533",
         "0.380065265362599",
         "0",
         "0"
        ]
       ],
       "shape": {
        "columns": 10,
        "rows": 10
       }
      },
      "text/html": [
       "<div>\n",
       "<style scoped>\n",
       "    .dataframe tbody tr th:only-of-type {\n",
       "        vertical-align: middle;\n",
       "    }\n",
       "\n",
       "    .dataframe tbody tr th {\n",
       "        vertical-align: top;\n",
       "    }\n",
       "\n",
       "    .dataframe thead th {\n",
       "        text-align: right;\n",
       "    }\n",
       "</style>\n",
       "<table border=\"1\" class=\"dataframe\">\n",
       "  <thead>\n",
       "    <tr style=\"text-align: right;\">\n",
       "      <th></th>\n",
       "      <th>head</th>\n",
       "      <th>body</th>\n",
       "      <th>hash</th>\n",
       "      <th>age</th>\n",
       "      <th>subject_mean_age</th>\n",
       "      <th>subject_highest_age</th>\n",
       "      <th>subject_age_sum</th>\n",
       "      <th>head_random_roll</th>\n",
       "      <th>count</th>\n",
       "      <th>n_fold</th>\n",
       "    </tr>\n",
       "  </thead>\n",
       "  <tbody>\n",
       "    <tr>\n",
       "      <th>0</th>\n",
       "      <td>Audit Report Tracker (Sharepoint List)</td>\n",
       "      <td>Power Automate (Flow) Owner\\nDefinition: A use...</td>\n",
       "      <td>8d5e063ee69a83e11e260335f0b685e8</td>\n",
       "      <td>-1236.389661</td>\n",
       "      <td>231.338403</td>\n",
       "      <td>-1236.389661</td>\n",
       "      <td>3701.414443</td>\n",
       "      <td>0.264827</td>\n",
       "      <td>0</td>\n",
       "      <td>0</td>\n",
       "    </tr>\n",
       "    <tr>\n",
       "      <th>1</th>\n",
       "      <td>Audit Report Tracker (Sharepoint List)</td>\n",
       "      <td>Permissions Endpoint (for managing list permis...</td>\n",
       "      <td>eda0eb7c1a3a9b0ebba749a597e46d22</td>\n",
       "      <td>-422.110164</td>\n",
       "      <td>231.338403</td>\n",
       "      <td>-1236.389661</td>\n",
       "      <td>3701.414443</td>\n",
       "      <td>0.264827</td>\n",
       "      <td>1</td>\n",
       "      <td>0</td>\n",
       "    </tr>\n",
       "    <tr>\n",
       "      <th>2</th>\n",
       "      <td>Audit Report Tracker (Sharepoint List)</td>\n",
       "      <td>Site Collection Administrator\\nDefinition: A u...</td>\n",
       "      <td>c0359d229e67636a45dddedfe736bc8c</td>\n",
       "      <td>-394.603817</td>\n",
       "      <td>231.338403</td>\n",
       "      <td>-1236.389661</td>\n",
       "      <td>3701.414443</td>\n",
       "      <td>0.264827</td>\n",
       "      <td>2</td>\n",
       "      <td>0</td>\n",
       "    </tr>\n",
       "    <tr>\n",
       "      <th>5</th>\n",
       "      <td>WSL + Kali Linux</td>\n",
       "      <td>wsl.exe and .bashrc\\n.bashrc is a script that ...</td>\n",
       "      <td>fec70ed50be50483db47053b6024bbb4</td>\n",
       "      <td>-1217.313227</td>\n",
       "      <td>263.597739</td>\n",
       "      <td>-1217.313227</td>\n",
       "      <td>5799.150260</td>\n",
       "      <td>0.406059</td>\n",
       "      <td>0</td>\n",
       "      <td>0</td>\n",
       "    </tr>\n",
       "    <tr>\n",
       "      <th>6</th>\n",
       "      <td>WSL + Kali Linux</td>\n",
       "      <td>wsl Command\\nThe primary command-line interfac...</td>\n",
       "      <td>9b93a39837c69c7db3c9152b97cebefd</td>\n",
       "      <td>-733.251386</td>\n",
       "      <td>263.597739</td>\n",
       "      <td>-1217.313227</td>\n",
       "      <td>5799.150260</td>\n",
       "      <td>0.406059</td>\n",
       "      <td>1</td>\n",
       "      <td>0</td>\n",
       "    </tr>\n",
       "    <tr>\n",
       "      <th>7</th>\n",
       "      <td>WSL + Kali Linux</td>\n",
       "      <td>WSL Performance Tuning\\nFor better performance...</td>\n",
       "      <td>03fec1baebb903eda82ea95f03fe0716</td>\n",
       "      <td>-715.379063</td>\n",
       "      <td>263.597739</td>\n",
       "      <td>-1217.313227</td>\n",
       "      <td>5799.150260</td>\n",
       "      <td>0.406059</td>\n",
       "      <td>2</td>\n",
       "      <td>0</td>\n",
       "    </tr>\n",
       "    <tr>\n",
       "      <th>10</th>\n",
       "      <td>Home Network Project</td>\n",
       "      <td>Front: What is TLS Termination and why is it u...</td>\n",
       "      <td>5297051eea9892af904815d3794faf15</td>\n",
       "      <td>-1194.380902</td>\n",
       "      <td>281.483258</td>\n",
       "      <td>-1194.380902</td>\n",
       "      <td>5348.181899</td>\n",
       "      <td>0.239597</td>\n",
       "      <td>0</td>\n",
       "      <td>0</td>\n",
       "    </tr>\n",
       "    <tr>\n",
       "      <th>11</th>\n",
       "      <td>Home Network Project</td>\n",
       "      <td>Front: Explain the difference between a Docker...</td>\n",
       "      <td>cae03ba26ac3afa5df9d5bb453b94dfd</td>\n",
       "      <td>-783.520298</td>\n",
       "      <td>281.483258</td>\n",
       "      <td>-1194.380902</td>\n",
       "      <td>5348.181899</td>\n",
       "      <td>0.239597</td>\n",
       "      <td>1</td>\n",
       "      <td>0</td>\n",
       "    </tr>\n",
       "    <tr>\n",
       "      <th>12</th>\n",
       "      <td>Home Network Project</td>\n",
       "      <td>What is the command to update and upgrade pack...</td>\n",
       "      <td>d0a754737eef42e651e9fff08f6a6292</td>\n",
       "      <td>-517.591942</td>\n",
       "      <td>281.483258</td>\n",
       "      <td>-1194.380902</td>\n",
       "      <td>5348.181899</td>\n",
       "      <td>0.239597</td>\n",
       "      <td>2</td>\n",
       "      <td>0</td>\n",
       "    </tr>\n",
       "    <tr>\n",
       "      <th>15</th>\n",
       "      <td>Azure Functions + PP365</td>\n",
       "      <td>Azure SDK for Python\\nA collection of librarie...</td>\n",
       "      <td>80100a754471176d4959736d67f857f0</td>\n",
       "      <td>-1047.741059</td>\n",
       "      <td>200.044125</td>\n",
       "      <td>-1047.741059</td>\n",
       "      <td>5001.103125</td>\n",
       "      <td>0.380065</td>\n",
       "      <td>0</td>\n",
       "      <td>0</td>\n",
       "    </tr>\n",
       "  </tbody>\n",
       "</table>\n",
       "</div>"
      ],
      "text/plain": [
       "                                      head  \\\n",
       "0   Audit Report Tracker (Sharepoint List)   \n",
       "1   Audit Report Tracker (Sharepoint List)   \n",
       "2   Audit Report Tracker (Sharepoint List)   \n",
       "5                         WSL + Kali Linux   \n",
       "6                         WSL + Kali Linux   \n",
       "7                         WSL + Kali Linux   \n",
       "10                    Home Network Project   \n",
       "11                    Home Network Project   \n",
       "12                    Home Network Project   \n",
       "15                 Azure Functions + PP365   \n",
       "\n",
       "                                                 body  \\\n",
       "0   Power Automate (Flow) Owner\\nDefinition: A use...   \n",
       "1   Permissions Endpoint (for managing list permis...   \n",
       "2   Site Collection Administrator\\nDefinition: A u...   \n",
       "5   wsl.exe and .bashrc\\n.bashrc is a script that ...   \n",
       "6   wsl Command\\nThe primary command-line interfac...   \n",
       "7   WSL Performance Tuning\\nFor better performance...   \n",
       "10  Front: What is TLS Termination and why is it u...   \n",
       "11  Front: Explain the difference between a Docker...   \n",
       "12  What is the command to update and upgrade pack...   \n",
       "15  Azure SDK for Python\\nA collection of librarie...   \n",
       "\n",
       "                                hash          age  subject_mean_age  \\\n",
       "0   8d5e063ee69a83e11e260335f0b685e8 -1236.389661        231.338403   \n",
       "1   eda0eb7c1a3a9b0ebba749a597e46d22  -422.110164        231.338403   \n",
       "2   c0359d229e67636a45dddedfe736bc8c  -394.603817        231.338403   \n",
       "5   fec70ed50be50483db47053b6024bbb4 -1217.313227        263.597739   \n",
       "6   9b93a39837c69c7db3c9152b97cebefd  -733.251386        263.597739   \n",
       "7   03fec1baebb903eda82ea95f03fe0716  -715.379063        263.597739   \n",
       "10  5297051eea9892af904815d3794faf15 -1194.380902        281.483258   \n",
       "11  cae03ba26ac3afa5df9d5bb453b94dfd  -783.520298        281.483258   \n",
       "12  d0a754737eef42e651e9fff08f6a6292  -517.591942        281.483258   \n",
       "15  80100a754471176d4959736d67f857f0 -1047.741059        200.044125   \n",
       "\n",
       "    subject_highest_age  subject_age_sum  head_random_roll  count  n_fold  \n",
       "0          -1236.389661      3701.414443          0.264827      0       0  \n",
       "1          -1236.389661      3701.414443          0.264827      1       0  \n",
       "2          -1236.389661      3701.414443          0.264827      2       0  \n",
       "5          -1217.313227      5799.150260          0.406059      0       0  \n",
       "6          -1217.313227      5799.150260          0.406059      1       0  \n",
       "7          -1217.313227      5799.150260          0.406059      2       0  \n",
       "10         -1194.380902      5348.181899          0.239597      0       0  \n",
       "11         -1194.380902      5348.181899          0.239597      1       0  \n",
       "12         -1194.380902      5348.181899          0.239597      2       0  \n",
       "15         -1047.741059      5001.103125          0.380065      0       0  "
      ]
     },
     "execution_count": 55,
     "metadata": {},
     "output_type": "execute_result"
    }
   ],
   "source": [
    "existing_cards.head(10)"
   ]
  },
  {
   "cell_type": "code",
   "execution_count": 56,
   "metadata": {},
   "outputs": [
    {
     "data": {
      "text/plain": [
       "-150.2687413006691"
      ]
     },
     "execution_count": 56,
     "metadata": {},
     "output_type": "execute_result"
    }
   ],
   "source": [
    "existing_cards['age'].mean()"
   ]
  }
 ],
 "metadata": {
  "kernelspec": {
   "display_name": "Python 3",
   "language": "python",
   "name": "python3"
  },
  "language_info": {
   "codemirror_mode": {
    "name": "ipython",
    "version": 3
   },
   "file_extension": ".py",
   "mimetype": "text/x-python",
   "name": "python",
   "nbconvert_exporter": "python",
   "pygments_lexer": "ipython3",
   "version": "3.10.10"
  }
 },
 "nbformat": 4,
 "nbformat_minor": 2
}
