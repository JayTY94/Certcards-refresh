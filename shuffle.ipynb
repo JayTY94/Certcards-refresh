{
 "cells": [
  {
   "cell_type": "code",
   "execution_count": 69,
   "metadata": {},
   "outputs": [],
   "source": [
    "import re\n",
    "import random\n",
    "import pandas as pd\n",
    "import hashlib"
   ]
  },
  {
   "cell_type": "code",
   "execution_count": 70,
   "metadata": {},
   "outputs": [],
   "source": [
    "with open('certcards2.txt', mode='r', encoding='utf8') as f:\n",
    "    all_cards = f.read()\n",
    "    \n",
    "card_split_pattern = r'\\n\\n\\n\\d+\\n'\n",
    "all_cards = re.split(card_split_pattern, all_cards)\n",
    "# Use re.DOTALL to allow . to match newline characters\n",
    "card_pattern = re.compile(r'(.+?)\\n([\\s\\S]+)', re.DOTALL)\n",
    "cards = [(match.group(1), match.group(2)) for cstring in all_cards if (match := re.search(card_pattern, cstring))]\n",
    "\n",
    "# removing the cards that have no content and trimming\n",
    "cards = [(subject, stripped_content) for subject, content in cards if len(stripped_content := content.strip()) > 5]\n",
    "\n",
    "def hash_string_md5(s):\n",
    "    \"\"\"\n",
    "    Hashes a string using MD5 and returns a truncated hash for efficiency.\n",
    "\n",
    "    Parameters:\n",
    "    - s (str): The input string to hash.\n",
    "\n",
    "    Returns:\n",
    "    - str: The truncated hexadecimal hash string.\n",
    "    \"\"\"\n",
    "    if pd.isnull(s):\n",
    "        return None  # Handle NaN values gracefully\n",
    "    return hashlib.md5(s.encode('utf-8')).hexdigest()  # Truncate to first 12 characters\n",
    "\n",
    "\n",
    "def remake_card_document(existing_cards: pd.DataFrame, filename: str='certcards2.txt'):\n",
    "    with open(filename, mode='w', encoding='utf8') as f:\n",
    "        i = 1\n",
    "        for _, row in existing_cards.iterrows():\n",
    "            f.write('\\n'*6)\n",
    "            f.write(str(i)+'\\n')  \n",
    "            f.write(row['head']+'\\n')\n",
    "            f.write(row['body'])\n",
    "            i+=1\n",
    "    print(F\"Cards found: {existing_cards.shape[0]}\")\n",
    "\n",
    "\n",
    "existing_cards = pd.DataFrame(cards, columns=['head', 'body'])\n",
    "\n",
    "\n",
    "# existing_cards['age'] = [random.random() for _ in existing_cards.index]\n",
    "existing_cards['hash'] = existing_cards['body'].apply(hash_string_md5)\n",
    "existing_cards\n",
    "\n",
    "card_ages = pd.read_json('card_ages.json')\n",
    "card_ages = card_ages.drop_duplicates(subset=['hash'], keep='first')\n",
    "\n",
    "cards_to_age = pd.merge(\n",
    "    left=existing_cards,\n",
    "    right=card_ages[['hash', 'age']],\n",
    "    left_on='hash', right_on='hash',\n",
    "    how='left'\n",
    ")\n",
    "\n",
    "cards_to_age['head'] = cards_to_age['head'].str.strip()\n",
    "\n",
    "if cards_to_age['age'].sum() > 2e4: age_factor = 1\n",
    "else: age_factor = 1.00\n",
    "\n",
    "cards_to_age['age'] = cards_to_age['age'].fillna(0)\n",
    "cards_to_age['age'] = cards_to_age['age'] * age_factor\n",
    "cards_to_age['age'] = cards_to_age['age'] + [random.expovariate(.75) for _ in cards_to_age.index]\n",
    "\n",
    "cards_to_age = cards_to_age.drop_duplicates(subset=['hash'], keep='first')\n",
    "\n",
    "cards_to_age['subject_mean_age'] = cards_to_age.groupby('head')['age'].transform('mean')\n",
    "cards_to_age['subject_highest_age'] = cards_to_age.groupby('head')['age'].transform('max')\n",
    "cards_to_age['subject_age_sum'] = cards_to_age.groupby('head')['age'].transform('sum')\n",
    "cards_to_age['head_random_roll'] = cards_to_age.groupby('head')['head'].transform(lambda x: random.random())\n",
    "\n",
    "\n",
    "cards_to_age.sort_values('age')[['age', 'head', 'hash']].to_json('card_ages.json', indent=2)\n",
    "\n",
    "existing_cards = cards_to_age"
   ]
  },
  {
   "cell_type": "code",
   "execution_count": 71,
   "metadata": {},
   "outputs": [
    {
     "data": {
      "text/html": [
       "<div>\n",
       "<style scoped>\n",
       "    .dataframe tbody tr th:only-of-type {\n",
       "        vertical-align: middle;\n",
       "    }\n",
       "\n",
       "    .dataframe tbody tr th {\n",
       "        vertical-align: top;\n",
       "    }\n",
       "\n",
       "    .dataframe thead th {\n",
       "        text-align: right;\n",
       "    }\n",
       "</style>\n",
       "<table border=\"1\" class=\"dataframe\">\n",
       "  <thead>\n",
       "    <tr style=\"text-align: right;\">\n",
       "      <th></th>\n",
       "      <th>age_sum</th>\n",
       "      <th>age_mean</th>\n",
       "      <th>head_count</th>\n",
       "    </tr>\n",
       "  </thead>\n",
       "  <tbody>\n",
       "    <tr>\n",
       "      <th>Open Source/GitHub</th>\n",
       "      <td>44.783020</td>\n",
       "      <td>1.947088</td>\n",
       "      <td>23</td>\n",
       "    </tr>\n",
       "    <tr>\n",
       "      <th>Conditional Access</th>\n",
       "      <td>112.891979</td>\n",
       "      <td>112.891979</td>\n",
       "      <td>1</td>\n",
       "    </tr>\n",
       "    <tr>\n",
       "      <th>Taxes</th>\n",
       "      <td>119.021800</td>\n",
       "      <td>11.902180</td>\n",
       "      <td>10</td>\n",
       "    </tr>\n",
       "    <tr>\n",
       "      <th>CDK Global Ransomeware, June 2024</th>\n",
       "      <td>261.901492</td>\n",
       "      <td>43.650249</td>\n",
       "      <td>6</td>\n",
       "    </tr>\n",
       "    <tr>\n",
       "      <th>Finance Junk</th>\n",
       "      <td>361.423479</td>\n",
       "      <td>45.177935</td>\n",
       "      <td>8</td>\n",
       "    </tr>\n",
       "    <tr>\n",
       "      <th>Powershell</th>\n",
       "      <td>473.803466</td>\n",
       "      <td>22.562070</td>\n",
       "      <td>21</td>\n",
       "    </tr>\n",
       "    <tr>\n",
       "      <th>Kali Linux</th>\n",
       "      <td>557.799986</td>\n",
       "      <td>111.559997</td>\n",
       "      <td>5</td>\n",
       "    </tr>\n",
       "    <tr>\n",
       "      <th>Azure AI Foundry</th>\n",
       "      <td>692.078664</td>\n",
       "      <td>46.138578</td>\n",
       "      <td>15</td>\n",
       "    </tr>\n",
       "    <tr>\n",
       "      <th>Dataverse Plugins</th>\n",
       "      <td>813.783005</td>\n",
       "      <td>116.254715</td>\n",
       "      <td>7</td>\n",
       "    </tr>\n",
       "    <tr>\n",
       "      <th>AKS</th>\n",
       "      <td>834.332777</td>\n",
       "      <td>104.291597</td>\n",
       "      <td>8</td>\n",
       "    </tr>\n",
       "    <tr>\n",
       "      <th>pandas</th>\n",
       "      <td>846.845801</td>\n",
       "      <td>105.855725</td>\n",
       "      <td>8</td>\n",
       "    </tr>\n",
       "    <tr>\n",
       "      <th>MS Identity Platform</th>\n",
       "      <td>985.859192</td>\n",
       "      <td>123.232399</td>\n",
       "      <td>8</td>\n",
       "    </tr>\n",
       "    <tr>\n",
       "      <th>Diffusers from Hugging Face</th>\n",
       "      <td>1125.249966</td>\n",
       "      <td>112.524997</td>\n",
       "      <td>10</td>\n",
       "    </tr>\n",
       "    <tr>\n",
       "      <th>Jane Eyre</th>\n",
       "      <td>1127.678097</td>\n",
       "      <td>46.986587</td>\n",
       "      <td>24</td>\n",
       "    </tr>\n",
       "    <tr>\n",
       "      <th>Email Auth and Security</th>\n",
       "      <td>1195.032435</td>\n",
       "      <td>54.319656</td>\n",
       "      <td>22</td>\n",
       "    </tr>\n",
       "    <tr>\n",
       "      <th>OData</th>\n",
       "      <td>1249.320081</td>\n",
       "      <td>48.050772</td>\n",
       "      <td>26</td>\n",
       "    </tr>\n",
       "    <tr>\n",
       "      <th>IW Migration</th>\n",
       "      <td>1263.475239</td>\n",
       "      <td>52.644802</td>\n",
       "      <td>24</td>\n",
       "    </tr>\n",
       "    <tr>\n",
       "      <th>sklearn</th>\n",
       "      <td>1350.394160</td>\n",
       "      <td>112.532847</td>\n",
       "      <td>12</td>\n",
       "    </tr>\n",
       "    <tr>\n",
       "      <th>PP365</th>\n",
       "      <td>1525.349673</td>\n",
       "      <td>89.726451</td>\n",
       "      <td>17</td>\n",
       "    </tr>\n",
       "    <tr>\n",
       "      <th>Diffusers Library</th>\n",
       "      <td>1568.709827</td>\n",
       "      <td>120.669987</td>\n",
       "      <td>13</td>\n",
       "    </tr>\n",
       "    <tr>\n",
       "      <th>Azure Functions</th>\n",
       "      <td>1694.728870</td>\n",
       "      <td>73.683864</td>\n",
       "      <td>23</td>\n",
       "    </tr>\n",
       "    <tr>\n",
       "      <th>DNS</th>\n",
       "      <td>1702.018887</td>\n",
       "      <td>77.364495</td>\n",
       "      <td>22</td>\n",
       "    </tr>\n",
       "    <tr>\n",
       "      <th>Home Network Project</th>\n",
       "      <td>1994.212281</td>\n",
       "      <td>71.221867</td>\n",
       "      <td>28</td>\n",
       "    </tr>\n",
       "    <tr>\n",
       "      <th>Python</th>\n",
       "      <td>2169.782551</td>\n",
       "      <td>108.489128</td>\n",
       "      <td>20</td>\n",
       "    </tr>\n",
       "    <tr>\n",
       "      <th>Azure Kubernetes Learning Path</th>\n",
       "      <td>2222.665145</td>\n",
       "      <td>67.353489</td>\n",
       "      <td>33</td>\n",
       "    </tr>\n",
       "    <tr>\n",
       "      <th>Search Engine Optimization</th>\n",
       "      <td>2229.409201</td>\n",
       "      <td>89.176368</td>\n",
       "      <td>25</td>\n",
       "    </tr>\n",
       "  </tbody>\n",
       "</table>\n",
       "</div>"
      ],
      "text/plain": [
       "                                       age_sum    age_mean  head_count\n",
       "Open Source/GitHub                   44.783020    1.947088          23\n",
       "Conditional Access                  112.891979  112.891979           1\n",
       "Taxes                               119.021800   11.902180          10\n",
       "CDK Global Ransomeware, June 2024   261.901492   43.650249           6\n",
       "Finance Junk                        361.423479   45.177935           8\n",
       "Powershell                          473.803466   22.562070          21\n",
       "Kali Linux                          557.799986  111.559997           5\n",
       "Azure AI Foundry                    692.078664   46.138578          15\n",
       "Dataverse Plugins                   813.783005  116.254715           7\n",
       "AKS                                 834.332777  104.291597           8\n",
       "pandas                              846.845801  105.855725           8\n",
       "MS Identity Platform                985.859192  123.232399           8\n",
       "Diffusers from Hugging Face        1125.249966  112.524997          10\n",
       "Jane Eyre                          1127.678097   46.986587          24\n",
       "Email Auth and Security            1195.032435   54.319656          22\n",
       "OData                              1249.320081   48.050772          26\n",
       "IW Migration                       1263.475239   52.644802          24\n",
       "sklearn                            1350.394160  112.532847          12\n",
       "PP365                              1525.349673   89.726451          17\n",
       "Diffusers Library                  1568.709827  120.669987          13\n",
       "Azure Functions                    1694.728870   73.683864          23\n",
       "DNS                                1702.018887   77.364495          22\n",
       "Home Network Project               1994.212281   71.221867          28\n",
       "Python                             2169.782551  108.489128          20\n",
       "Azure Kubernetes Learning Path     2222.665145   67.353489          33\n",
       "Search Engine Optimization         2229.409201   89.176368          25"
      ]
     },
     "execution_count": 71,
     "metadata": {},
     "output_type": "execute_result"
    }
   ],
   "source": [
    "stats = existing_cards.groupby('head').agg({'age': ['sum', 'mean'], 'head': 'count'}).sort_values(('age', 'sum'))\n",
    "stats.columns = stats.columns.to_flat_index()\n",
    "stats.columns = ['_'.join(col).strip() for col in stats.columns]\n",
    "stats.index.name = None\n",
    "stats"
   ]
  },
  {
   "cell_type": "markdown",
   "metadata": {},
   "source": [
    "# Histogram"
   ]
  },
  {
   "cell_type": "code",
   "execution_count": 72,
   "metadata": {},
   "outputs": [
    {
     "name": "stdout",
     "output_type": "stream",
     "text": [
      "28522.55\n"
     ]
    },
    {
     "data": {
      "text/plain": [
       "<Axes: >"
      ]
     },
     "execution_count": 72,
     "metadata": {},
     "output_type": "execute_result"
    },
    {
     "data": {
      "image/png": "[encoded data removed]",
      "text/plain": [
       "<Figure size 640x480 with 1 Axes>"
      ]
     },
     "metadata": {},
     "output_type": "display_data"
    }
   ],
   "source": [
    "print(f\"{existing_cards['age'].sum(0):.2f}\")\n",
    "existing_cards['age'].hist(bins=20)"
   ]
  },
  {
   "cell_type": "markdown",
   "metadata": {},
   "source": [
    "# Completely Random Shuffle"
   ]
  },
  {
   "cell_type": "code",
   "execution_count": 73,
   "metadata": {},
   "outputs": [],
   "source": [
    "# existing_cards = existing_cards.sample(frac=1)\n",
    "# remake_card_document(filename='certcards2.txt', existing_cards = existing_cards)"
   ]
  },
  {
   "cell_type": "markdown",
   "metadata": {},
   "source": [
    "# Age Sort"
   ]
  },
  {
   "cell_type": "code",
   "execution_count": 74,
   "metadata": {},
   "outputs": [],
   "source": [
    "# existing_cards = existing_cards.sort_values('age', ascending=False)\n",
    "# remake_card_document(filename='certcards2.txt', existing_cards=existing_cards)"
   ]
  },
  {
   "cell_type": "markdown",
   "metadata": {},
   "source": [
    "# Headers with fewest notes first"
   ]
  },
  {
   "cell_type": "code",
   "execution_count": 75,
   "metadata": {},
   "outputs": [],
   "source": [
    "# frequency = existing_cards['head'].value_counts(ascending=True)\n",
    "\n",
    "# existing_cards = pd.merge(\n",
    "#     left=existing_cards,\n",
    "#     right=frequency.rename('frequency'),\n",
    "#     left_on='head', right_index=True,\n",
    "#     how='left'\n",
    "# )\n",
    "# existing_cards['oldest'] = existing_cards.groupby('head')['age'].transform('max')\n",
    "# existing_cards['subject_highest_age'] = existing_cards['subject_highest_age'] * -1\n",
    "# existing_cards['age'] = existing_cards['age'] * -1\n",
    "\n",
    "\n",
    "# existing_cards.sort_values(['frequency', 'subject_highest_age', 'age'], ascending=True, inplace=True)\n",
    "\n",
    "# remake_card_document(filename='certcards2.txt', existing_cards=existing_cards)"
   ]
  },
  {
   "cell_type": "markdown",
   "metadata": {},
   "source": [
    "# Focus on one header"
   ]
  },
  {
   "cell_type": "code",
   "execution_count": 76,
   "metadata": {},
   "outputs": [],
   "source": [
    "# heads = existing_cards['head'].value_counts()\n",
    "# heads = heads[heads > 5].index.tolist()\n",
    "# one_header = random.sample(heads, 1)[0]\n",
    "# existing_cards['pick_head'] = existing_cards['head'].apply(\n",
    "#     lambda h: 0 if h == one_header else 1 \n",
    "# )\n",
    "\n",
    "# remake_card_document(existing_cards=existing_cards.sort_values('pick_head'))"
   ]
  },
  {
   "cell_type": "markdown",
   "metadata": {},
   "source": [
    "## Header with oldest cards first"
   ]
  },
  {
   "cell_type": "code",
   "execution_count": 77,
   "metadata": {},
   "outputs": [],
   "source": [
    "# existing_cards['oldest'] = existing_cards.groupby('head')['age'].transform('max')\n",
    "# existing_cards.sort_values(['oldest', 'age'], ascending=False, inplace=True)\n",
    "# remake_card_document(existing_cards)"
   ]
  },
  {
   "cell_type": "markdown",
   "metadata": {},
   "source": [
    "## Headers with greatest mean card age first"
   ]
  },
  {
   "cell_type": "code",
   "execution_count": 78,
   "metadata": {},
   "outputs": [],
   "source": [
    "# existing_cards.sort_values(['subject_mean_age', 'age'], ascending=False, inplace=True)\n",
    "# remake_card_document(existing_cards)"
   ]
  },
  {
   "cell_type": "markdown",
   "metadata": {},
   "source": [
    "# Headers with greatest age sum first"
   ]
  },
  {
   "cell_type": "code",
   "execution_count": 79,
   "metadata": {},
   "outputs": [],
   "source": [
    "# existing_cards.sort_values(['subject_age_sum', 'age'], ascending=False, inplace=True)\n",
    "# remake_card_document(existing_cards)"
   ]
  },
  {
   "cell_type": "markdown",
   "metadata": {},
   "source": [
    "# N-fold shuffle\n",
    "\n",
    "## Random"
   ]
  },
  {
   "cell_type": "code",
   "execution_count": 80,
   "metadata": {},
   "outputs": [],
   "source": [
    "# n = 5\n",
    "# existing_cards['count'] = existing_cards.sort_values('age', ascending=False).groupby('head').cumcount()\n",
    "# existing_cards['n_fold'] = existing_cards['count'] // n\n",
    "# existing_cards['age'] *= -1\n",
    "# existing_cards.sort_values(['n_fold', 'head_random_roll', 'age'], inplace=True)\n",
    "# remake_card_document(existing_cards=existing_cards)\n",
    "# existing_cards.head(10)"
   ]
  },
  {
   "cell_type": "markdown",
   "metadata": {},
   "source": [
    "## Age Sum"
   ]
  },
  {
   "cell_type": "code",
   "execution_count": 81,
   "metadata": {},
   "outputs": [],
   "source": [
    "# n=8\n",
    "# existing_cards['count'] = existing_cards.sort_values('age', ascending=False).groupby('head').cumcount()\n",
    "# existing_cards['n_fold'] = existing_cards['count'] // n\n",
    "\n",
    "# existing_cards['subject_age_sum'] = existing_cards['subject_age_sum'] *-1\n",
    "# existing_cards['age'] = existing_cards['age'] *-1\n",
    "# existing_cards.sort_values(['n_fold', 'subject_age_sum', 'age'], inplace=True)\n",
    "# existing_cards.head(10)\n",
    "\n",
    "# remake_card_document(existing_cards=existing_cards)"
   ]
  },
  {
   "cell_type": "markdown",
   "metadata": {},
   "source": [
    "## Age max"
   ]
  },
  {
   "cell_type": "code",
   "execution_count": 82,
   "metadata": {},
   "outputs": [
    {
     "name": "stdout",
     "output_type": "stream",
     "text": [
      "Cards found: 419\n"
     ]
    }
   ],
   "source": [
    "n=4\n",
    "existing_cards['count'] = existing_cards.sort_values('age', ascending=False).groupby('head').cumcount()\n",
    "existing_cards['n_fold'] = existing_cards['count'] // n\n",
    "\n",
    "existing_cards['subject_highest_age'] = existing_cards['subject_highest_age'] *-1\n",
    "existing_cards['age'] = existing_cards['age'] *-1\n",
    "existing_cards.sort_values(['n_fold', 'subject_highest_age', 'age'], inplace=True)\n",
    "existing_cards.head(10)\n",
    "\n",
    "remake_card_document(existing_cards=existing_cards)"
   ]
  },
  {
   "cell_type": "markdown",
   "metadata": {},
   "source": [
    "## Age Mean"
   ]
  },
  {
   "cell_type": "code",
   "execution_count": 83,
   "metadata": {},
   "outputs": [],
   "source": [
    "# n=3\n",
    "# existing_cards['count'] = existing_cards.sort_values('age', ascending=False).groupby('head').cumcount()\n",
    "# existing_cards['n_fold'] = existing_cards['count'] // n\n",
    "\n",
    "# existing_cards['subject_mean_age'] = existing_cards['subject_mean_age'] *-1\n",
    "# existing_cards['age'] = existing_cards['age'] *-1\n",
    "# existing_cards.sort_values(['n_fold', 'subject_mean_age', 'age'], inplace=True)\n",
    "# existing_cards.head(10)\n",
    "\n",
    "# remake_card_document(existing_cards=existing_cards)\n"
   ]
  },
  {
   "cell_type": "code",
   "execution_count": 84,
   "metadata": {},
   "outputs": [
    {
     "data": {
      "text/html": [
       "<div>\n",
       "<style scoped>\n",
       "    .dataframe tbody tr th:only-of-type {\n",
       "        vertical-align: middle;\n",
       "    }\n",
       "\n",
       "    .dataframe tbody tr th {\n",
       "        vertical-align: top;\n",
       "    }\n",
       "\n",
       "    .dataframe thead th {\n",
       "        text-align: right;\n",
       "    }\n",
       "</style>\n",
       "<table border=\"1\" class=\"dataframe\">\n",
       "  <thead>\n",
       "    <tr style=\"text-align: right;\">\n",
       "      <th></th>\n",
       "      <th>head</th>\n",
       "      <th>body</th>\n",
       "      <th>hash</th>\n",
       "      <th>age</th>\n",
       "      <th>subject_mean_age</th>\n",
       "      <th>subject_highest_age</th>\n",
       "      <th>subject_age_sum</th>\n",
       "      <th>head_random_roll</th>\n",
       "      <th>count</th>\n",
       "      <th>n_fold</th>\n",
       "    </tr>\n",
       "  </thead>\n",
       "  <tbody>\n",
       "    <tr>\n",
       "      <th>4</th>\n",
       "      <td>pandas</td>\n",
       "      <td>Custom Separators and Maximum Depth in json_no...</td>\n",
       "      <td>b7425cd6aefb5d15cc107d16e7be60c0</td>\n",
       "      <td>-142.469744</td>\n",
       "      <td>105.855725</td>\n",
       "      <td>-142.469744</td>\n",
       "      <td>846.845801</td>\n",
       "      <td>0.717206</td>\n",
       "      <td>0</td>\n",
       "      <td>0</td>\n",
       "    </tr>\n",
       "    <tr>\n",
       "      <th>5</th>\n",
       "      <td>pandas</td>\n",
       "      <td>Column-Specific Operation with explode: You ca...</td>\n",
       "      <td>2209d496d4e01dc0fa4f4e1edf4c8abb</td>\n",
       "      <td>-134.217169</td>\n",
       "      <td>105.855725</td>\n",
       "      <td>-142.469744</td>\n",
       "      <td>846.845801</td>\n",
       "      <td>0.717206</td>\n",
       "      <td>1</td>\n",
       "      <td>0</td>\n",
       "    </tr>\n",
       "    <tr>\n",
       "      <th>6</th>\n",
       "      <td>pandas</td>\n",
       "      <td>Error Handling and Performance with json_norma...</td>\n",
       "      <td>e2e87ecb91d52a80fb53edbd36660a5d</td>\n",
       "      <td>-132.091261</td>\n",
       "      <td>105.855725</td>\n",
       "      <td>-142.469744</td>\n",
       "      <td>846.845801</td>\n",
       "      <td>0.717206</td>\n",
       "      <td>2</td>\n",
       "      <td>0</td>\n",
       "    </tr>\n",
       "    <tr>\n",
       "      <th>7</th>\n",
       "      <td>pandas</td>\n",
       "      <td>Exploding Multiple Columns using explode: Star...</td>\n",
       "      <td>f4d23b3a726c224f403df2ffdfe2fffa</td>\n",
       "      <td>-124.441463</td>\n",
       "      <td>105.855725</td>\n",
       "      <td>-142.469744</td>\n",
       "      <td>846.845801</td>\n",
       "      <td>0.717206</td>\n",
       "      <td>3</td>\n",
       "      <td>0</td>\n",
       "    </tr>\n",
       "    <tr>\n",
       "      <th>0</th>\n",
       "      <td>PP365</td>\n",
       "      <td>Syntax for using the web api to get specific s...</td>\n",
       "      <td>37d2329f16107277a0416409bdbcae5a</td>\n",
       "      <td>-141.655754</td>\n",
       "      <td>89.726451</td>\n",
       "      <td>-141.655754</td>\n",
       "      <td>1525.349673</td>\n",
       "      <td>0.922036</td>\n",
       "      <td>0</td>\n",
       "      <td>0</td>\n",
       "    </tr>\n",
       "    <tr>\n",
       "      <th>1</th>\n",
       "      <td>PP365</td>\n",
       "      <td>Background operations (optional)\\tSelect to di...</td>\n",
       "      <td>3b26d9446d82006da773fec8b8c68920</td>\n",
       "      <td>-140.021581</td>\n",
       "      <td>89.726451</td>\n",
       "      <td>-141.655754</td>\n",
       "      <td>1525.349673</td>\n",
       "      <td>0.922036</td>\n",
       "      <td>1</td>\n",
       "      <td>0</td>\n",
       "    </tr>\n",
       "    <tr>\n",
       "      <th>2</th>\n",
       "      <td>PP365</td>\n",
       "      <td>Workflow in the context of Microsoft Dataverse...</td>\n",
       "      <td>232977ce805e82b6bdf3ae0f62cbdc4d</td>\n",
       "      <td>-136.415058</td>\n",
       "      <td>89.726451</td>\n",
       "      <td>-141.655754</td>\n",
       "      <td>1525.349673</td>\n",
       "      <td>0.922036</td>\n",
       "      <td>2</td>\n",
       "      <td>0</td>\n",
       "    </tr>\n",
       "    <tr>\n",
       "      <th>3</th>\n",
       "      <td>PP365</td>\n",
       "      <td>To support offline use, Power Apps allows data...</td>\n",
       "      <td>9d719133b73056252ab4fc277fb37135</td>\n",
       "      <td>-134.022972</td>\n",
       "      <td>89.726451</td>\n",
       "      <td>-141.655754</td>\n",
       "      <td>1525.349673</td>\n",
       "      <td>0.922036</td>\n",
       "      <td>3</td>\n",
       "      <td>0</td>\n",
       "    </tr>\n",
       "    <tr>\n",
       "      <th>8</th>\n",
       "      <td>Python</td>\n",
       "      <td>Many popular machine learning algorithms and d...</td>\n",
       "      <td>6c83d1ec0c1f3bc504757ba5f50c5ba7</td>\n",
       "      <td>-140.401135</td>\n",
       "      <td>108.489128</td>\n",
       "      <td>-140.401135</td>\n",
       "      <td>2169.782551</td>\n",
       "      <td>0.996654</td>\n",
       "      <td>0</td>\n",
       "      <td>0</td>\n",
       "    </tr>\n",
       "    <tr>\n",
       "      <th>9</th>\n",
       "      <td>Python</td>\n",
       "      <td>In Python, you can compare sequences of the sa...</td>\n",
       "      <td>d44782380f6e441bc4bd22c2220ec075</td>\n",
       "      <td>-138.424365</td>\n",
       "      <td>108.489128</td>\n",
       "      <td>-140.401135</td>\n",
       "      <td>2169.782551</td>\n",
       "      <td>0.996654</td>\n",
       "      <td>1</td>\n",
       "      <td>0</td>\n",
       "    </tr>\n",
       "  </tbody>\n",
       "</table>\n",
       "</div>"
      ],
      "text/plain": [
       "     head                                               body  \\\n",
       "4  pandas  Custom Separators and Maximum Depth in json_no...   \n",
       "5  pandas  Column-Specific Operation with explode: You ca...   \n",
       "6  pandas  Error Handling and Performance with json_norma...   \n",
       "7  pandas  Exploding Multiple Columns using explode: Star...   \n",
       "0   PP365  Syntax for using the web api to get specific s...   \n",
       "1   PP365  Background operations (optional)\\tSelect to di...   \n",
       "2   PP365  Workflow in the context of Microsoft Dataverse...   \n",
       "3   PP365  To support offline use, Power Apps allows data...   \n",
       "8  Python  Many popular machine learning algorithms and d...   \n",
       "9  Python  In Python, you can compare sequences of the sa...   \n",
       "\n",
       "                               hash         age  subject_mean_age  \\\n",
       "4  b7425cd6aefb5d15cc107d16e7be60c0 -142.469744        105.855725   \n",
       "5  2209d496d4e01dc0fa4f4e1edf4c8abb -134.217169        105.855725   \n",
       "6  e2e87ecb91d52a80fb53edbd36660a5d -132.091261        105.855725   \n",
       "7  f4d23b3a726c224f403df2ffdfe2fffa -124.441463        105.855725   \n",
       "0  37d2329f16107277a0416409bdbcae5a -141.655754         89.726451   \n",
       "1  3b26d9446d82006da773fec8b8c68920 -140.021581         89.726451   \n",
       "2  232977ce805e82b6bdf3ae0f62cbdc4d -136.415058         89.726451   \n",
       "3  9d719133b73056252ab4fc277fb37135 -134.022972         89.726451   \n",
       "8  6c83d1ec0c1f3bc504757ba5f50c5ba7 -140.401135        108.489128   \n",
       "9  d44782380f6e441bc4bd22c2220ec075 -138.424365        108.489128   \n",
       "\n",
       "   subject_highest_age  subject_age_sum  head_random_roll  count  n_fold  \n",
       "4          -142.469744       846.845801          0.717206      0       0  \n",
       "5          -142.469744       846.845801          0.717206      1       0  \n",
       "6          -142.469744       846.845801          0.717206      2       0  \n",
       "7          -142.469744       846.845801          0.717206      3       0  \n",
       "0          -141.655754      1525.349673          0.922036      0       0  \n",
       "1          -141.655754      1525.349673          0.922036      1       0  \n",
       "2          -141.655754      1525.349673          0.922036      2       0  \n",
       "3          -141.655754      1525.349673          0.922036      3       0  \n",
       "8          -140.401135      2169.782551          0.996654      0       0  \n",
       "9          -140.401135      2169.782551          0.996654      1       0  "
      ]
     },
     "execution_count": 84,
     "metadata": {},
     "output_type": "execute_result"
    }
   ],
   "source": [
    "existing_cards.head(10)"
   ]
  },
  {
   "cell_type": "code",
   "execution_count": 85,
   "metadata": {},
   "outputs": [
    {
     "data": {
      "text/plain": [
       "-1364.1605026840039"
      ]
     },
     "execution_count": 85,
     "metadata": {},
     "output_type": "execute_result"
    }
   ],
   "source": [
    "existing_cards.head(10)['age'].sum()"
   ]
  }
 ],
 "metadata": {
  "kernelspec": {
   "display_name": "Python 3",
   "language": "python",
   "name": "python3"
  },
  "language_info": {
   "codemirror_mode": {
    "name": "ipython",
    "version": 3
   },
   "file_extension": ".py",
   "mimetype": "text/x-python",
   "name": "python",
   "nbconvert_exporter": "python",
   "pygments_lexer": "ipython3",
   "version": "3.10.10"
  }
 },
 "nbformat": 4,
 "nbformat_minor": 2
}
