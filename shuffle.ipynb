{
 "cells": [
  {
   "cell_type": "code",
   "execution_count": 93,
   "metadata": {},
   "outputs": [],
   "source": [
    "import re\n",
    "import random\n",
    "import pandas as pd\n",
    "import hashlib"
   ]
  },
  {
   "cell_type": "code",
   "execution_count": 94,
   "metadata": {},
   "outputs": [],
   "source": [
    "with open('certcards2.txt', mode='r', encoding='utf8') as f:\n",
    "    all_cards = f.read()\n",
    "    \n",
    "card_split_pattern = r'\\n\\n\\n\\d+\\n'\n",
    "all_cards = re.split(card_split_pattern, all_cards)\n",
    "# Use re.DOTALL to allow . to match newline characters\n",
    "card_pattern = re.compile(r'(.+?)\\n([\\s\\S]+)', re.DOTALL)\n",
    "cards = [(match.group(1), match.group(2)) for cstring in all_cards if (match := re.search(card_pattern, cstring))]\n",
    "\n",
    "# removing the cards that have no content and trimming\n",
    "cards = [(subject, stripped_content) for subject, content in cards if len(stripped_content := content.strip()) > 5]\n",
    "\n",
    "def hash_string_md5(s):\n",
    "    \"\"\"\n",
    "    Hashes a string using MD5 and returns a truncated hash for efficiency.\n",
    "\n",
    "    Parameters:\n",
    "    - s (str): The input string to hash.\n",
    "\n",
    "    Returns:\n",
    "    - str: The truncated hexadecimal hash string.\n",
    "    \"\"\"\n",
    "    if pd.isnull(s):\n",
    "        return None  # Handle NaN values gracefully\n",
    "    return hashlib.md5(s.encode('utf-8')).hexdigest()  # Truncate to first 12 characters\n",
    "\n",
    "\n",
    "def remake_card_document(existing_cards: pd.DataFrame, filename: str='certcards2.txt'):\n",
    "    with open(filename, mode='w', encoding='utf8') as f:\n",
    "        i = 1\n",
    "        for _, row in existing_cards.iterrows():\n",
    "            f.write('\\n'*6)\n",
    "            f.write(str(i)+'\\n')  \n",
    "            f.write(row['head']+'\\n')\n",
    "            f.write(row['body'])\n",
    "            i+=1\n",
    "    print(F\"Cards found: {existing_cards.shape[0]}\")\n",
    "\n",
    "\n",
    "existing_cards = pd.DataFrame(cards, columns=['head', 'body'])\n",
    "\n",
    "\n",
    "# existing_cards['age'] = [random.random() for _ in existing_cards.index]\n",
    "existing_cards['hash'] = existing_cards['body'].apply(hash_string_md5)\n",
    "existing_cards\n",
    "\n",
    "card_ages = pd.read_json('card_ages.json')\n",
    "card_ages = card_ages.drop_duplicates(subset=['hash'], keep='first')\n",
    "\n",
    "cards_to_age = pd.merge(\n",
    "    left=existing_cards,\n",
    "    right=card_ages[['hash', 'age']],\n",
    "    left_on='hash', right_on='hash',\n",
    "    how='left'\n",
    ")\n",
    "\n",
    "cards_to_age['head'] = cards_to_age['head'].str.strip()\n",
    "\n",
    "if cards_to_age['age'].sum() > 2e4: age_factor = 1\n",
    "else: age_factor = 1.00\n",
    "\n",
    "cards_to_age['age'] = cards_to_age['age'].fillna(0)\n",
    "cards_to_age['age'] = cards_to_age['age'] * age_factor\n",
    "cards_to_age['age'] = cards_to_age['age'] + [random.expovariate(.60) for _ in cards_to_age.index]\n",
    "# cards_to_age['age'] = cards_to_age['age'] * [random.expovariate(.5) for _ in cards_to_age.index]\n",
    "\n",
    "\n",
    "cards_to_age = cards_to_age.drop_duplicates(subset=['hash'], keep='first')\n",
    "\n",
    "cards_to_age['subject_mean_age'] = cards_to_age.groupby('head')['age'].transform('mean')\n",
    "cards_to_age['subject_highest_age'] = cards_to_age.groupby('head')['age'].transform('max')\n",
    "cards_to_age['subject_age_sum'] = cards_to_age.groupby('head')['age'].transform('sum')\n",
    "cards_to_age['head_random_roll'] = cards_to_age.groupby('head')['head'].transform(lambda x: random.random())\n",
    "\n",
    "\n",
    "cards_to_age.sort_values('age')[['age', 'head', 'hash']].to_json('card_ages.json', indent=2)\n",
    "\n",
    "existing_cards = cards_to_age"
   ]
  },
  {
   "cell_type": "code",
   "execution_count": 95,
   "metadata": {},
   "outputs": [
    {
     "data": {
      "application/vnd.microsoft.datawrangler.viewer.v0+json": {
       "columns": [
        {
         "name": "index",
         "rawType": "object",
         "type": "string"
        },
        {
         "name": "age_sum",
         "rawType": "float64",
         "type": "float"
        },
        {
         "name": "age_mean",
         "rawType": "float64",
         "type": "float"
        },
        {
         "name": "age_max",
         "rawType": "float64",
         "type": "float"
        },
        {
         "name": "head_count",
         "rawType": "int64",
         "type": "integer"
        }
       ],
       "conversionMethod": "pd.DataFrame",
       "ref": "ef3f7077-bd3a-415d-be6f-735327823b3a",
       "rows": [
        [
         "Python",
         "151.78495883544184",
         "3.22946720926472",
         "11.227181711559952",
         "47"
        ],
        [
         "Powershell",
         "488.6601532738748",
         "97.73203065477496",
         "245.93494194808133",
         "5"
        ],
        [
         "Todd Ideas",
         "887.920842300599",
         "59.194722820039935",
         "148.1203505028049",
         "15"
        ],
        [
         "PEP 8",
         "1367.969341555848",
         "170.996167694481",
         "577.6279482341598",
         "8"
        ],
        [
         "SharePoint",
         "1613.2467994802344",
         "134.43723329001952",
         "574.063379779784",
         "12"
        ],
        [
         "Audit Report Tracker (Sharepoint List)",
         "1722.368457667428",
         "132.48988135903292",
         "361.550279401698",
         "13"
        ],
        [
         "Debugging in VS Code",
         "1864.262364562087",
         "93.21311822810435",
         "252.29907347365688",
         "20"
        ],
        [
         "Azure Functions + Visual Studio",
         "1905.6101149524231",
         "136.11500821088737",
         "480.73491141720297",
         "14"
        ],
        [
         "Terraform",
         "1932.2768500100306",
         "77.29107400040122",
         "249.39220172090404",
         "25"
        ],
        [
         "IW Migration",
         "2059.7400756086186",
         "147.12429111490133",
         "455.1440365166889",
         "14"
        ],
        [
         "Open Source/GitHub",
         "2218.3736526874995",
         "138.64835329296872",
         "355.68607083400474",
         "16"
        ],
        [
         "Email Auth and Security",
         "2304.8365908767355",
         "177.2951223751335",
         "894.6336302318255",
         "13"
        ],
        [
         "FSLogix",
         "2319.353406625458",
         "96.63972527606074",
         "261.03536573730213",
         "24"
        ],
        [
         "Azure Functions",
         "2838.5795149140604",
         "258.0526831740055",
         "738.9228297936396",
         "11"
        ],
        [
         "DNS",
         "3047.375543831266",
         "190.46097148945412",
         "389.00645151286574",
         "16"
        ],
        [
         "OData",
         "3123.324073114698",
         "312.3324073114698",
         "862.5853173734329",
         "10"
        ],
        [
         "Azure AI Search",
         "3716.8827417417624",
         "265.4916244101259",
         "719.1319966433102",
         "14"
        ],
        [
         "Powershell Modules",
         "4628.528990901482",
         "154.28429969671606",
         "677.8073559869724",
         "30"
        ],
        [
         "Azure Functions + PP365",
         "5114.80866382469",
         "204.59234655298758",
         "1049.7523777897002",
         "25"
        ],
        [
         "Home Network Project",
         "5438.497280112517",
         "286.2366989532904",
         "1195.8193124243799",
         "19"
        ],
        [
         "WSL + Kali Linux",
         "5916.866331049487",
         "268.9484695931585",
         "1229.283523283199",
         "22"
        ],
        [
         "Vocab",
         "6285.126353695303",
         "95.22918717720155",
         "856.5603254217611",
         "66"
        ],
        [
         "PnP Powershell",
         "6490.179555755224",
         "170.7941988356638",
         "650.8331922702191",
         "38"
        ],
        [
         "JavaScript Concepts",
         "6836.613730290265",
         "112.07563492279124",
         "429.66749648165074",
         "61"
        ],
        [
         "Logging in Python",
         "8419.324180847123",
         "140.32206968078538",
         "1024.146390916061",
         "60"
        ]
       ],
       "shape": {
        "columns": 4,
        "rows": 25
       }
      },
      "text/html": [
       "<div>\n",
       "<style scoped>\n",
       "    .dataframe tbody tr th:only-of-type {\n",
       "        vertical-align: middle;\n",
       "    }\n",
       "\n",
       "    .dataframe tbody tr th {\n",
       "        vertical-align: top;\n",
       "    }\n",
       "\n",
       "    .dataframe thead th {\n",
       "        text-align: right;\n",
       "    }\n",
       "</style>\n",
       "<table border=\"1\" class=\"dataframe\">\n",
       "  <thead>\n",
       "    <tr style=\"text-align: right;\">\n",
       "      <th></th>\n",
       "      <th>age_sum</th>\n",
       "      <th>age_mean</th>\n",
       "      <th>age_max</th>\n",
       "      <th>head_count</th>\n",
       "    </tr>\n",
       "  </thead>\n",
       "  <tbody>\n",
       "    <tr>\n",
       "      <th>Python</th>\n",
       "      <td>151.784959</td>\n",
       "      <td>3.229467</td>\n",
       "      <td>11.227182</td>\n",
       "      <td>47</td>\n",
       "    </tr>\n",
       "    <tr>\n",
       "      <th>Powershell</th>\n",
       "      <td>488.660153</td>\n",
       "      <td>97.732031</td>\n",
       "      <td>245.934942</td>\n",
       "      <td>5</td>\n",
       "    </tr>\n",
       "    <tr>\n",
       "      <th>Todd Ideas</th>\n",
       "      <td>887.920842</td>\n",
       "      <td>59.194723</td>\n",
       "      <td>148.120351</td>\n",
       "      <td>15</td>\n",
       "    </tr>\n",
       "    <tr>\n",
       "      <th>PEP 8</th>\n",
       "      <td>1367.969342</td>\n",
       "      <td>170.996168</td>\n",
       "      <td>577.627948</td>\n",
       "      <td>8</td>\n",
       "    </tr>\n",
       "    <tr>\n",
       "      <th>SharePoint</th>\n",
       "      <td>1613.246799</td>\n",
       "      <td>134.437233</td>\n",
       "      <td>574.063380</td>\n",
       "      <td>12</td>\n",
       "    </tr>\n",
       "    <tr>\n",
       "      <th>Audit Report Tracker (Sharepoint List)</th>\n",
       "      <td>1722.368458</td>\n",
       "      <td>132.489881</td>\n",
       "      <td>361.550279</td>\n",
       "      <td>13</td>\n",
       "    </tr>\n",
       "    <tr>\n",
       "      <th>Debugging in VS Code</th>\n",
       "      <td>1864.262365</td>\n",
       "      <td>93.213118</td>\n",
       "      <td>252.299073</td>\n",
       "      <td>20</td>\n",
       "    </tr>\n",
       "    <tr>\n",
       "      <th>Azure Functions + Visual Studio</th>\n",
       "      <td>1905.610115</td>\n",
       "      <td>136.115008</td>\n",
       "      <td>480.734911</td>\n",
       "      <td>14</td>\n",
       "    </tr>\n",
       "    <tr>\n",
       "      <th>Terraform</th>\n",
       "      <td>1932.276850</td>\n",
       "      <td>77.291074</td>\n",
       "      <td>249.392202</td>\n",
       "      <td>25</td>\n",
       "    </tr>\n",
       "    <tr>\n",
       "      <th>IW Migration</th>\n",
       "      <td>2059.740076</td>\n",
       "      <td>147.124291</td>\n",
       "      <td>455.144037</td>\n",
       "      <td>14</td>\n",
       "    </tr>\n",
       "    <tr>\n",
       "      <th>Open Source/GitHub</th>\n",
       "      <td>2218.373653</td>\n",
       "      <td>138.648353</td>\n",
       "      <td>355.686071</td>\n",
       "      <td>16</td>\n",
       "    </tr>\n",
       "    <tr>\n",
       "      <th>Email Auth and Security</th>\n",
       "      <td>2304.836591</td>\n",
       "      <td>177.295122</td>\n",
       "      <td>894.633630</td>\n",
       "      <td>13</td>\n",
       "    </tr>\n",
       "    <tr>\n",
       "      <th>FSLogix</th>\n",
       "      <td>2319.353407</td>\n",
       "      <td>96.639725</td>\n",
       "      <td>261.035366</td>\n",
       "      <td>24</td>\n",
       "    </tr>\n",
       "    <tr>\n",
       "      <th>Azure Functions</th>\n",
       "      <td>2838.579515</td>\n",
       "      <td>258.052683</td>\n",
       "      <td>738.922830</td>\n",
       "      <td>11</td>\n",
       "    </tr>\n",
       "    <tr>\n",
       "      <th>DNS</th>\n",
       "      <td>3047.375544</td>\n",
       "      <td>190.460971</td>\n",
       "      <td>389.006452</td>\n",
       "      <td>16</td>\n",
       "    </tr>\n",
       "    <tr>\n",
       "      <th>OData</th>\n",
       "      <td>3123.324073</td>\n",
       "      <td>312.332407</td>\n",
       "      <td>862.585317</td>\n",
       "      <td>10</td>\n",
       "    </tr>\n",
       "    <tr>\n",
       "      <th>Azure AI Search</th>\n",
       "      <td>3716.882742</td>\n",
       "      <td>265.491624</td>\n",
       "      <td>719.131997</td>\n",
       "      <td>14</td>\n",
       "    </tr>\n",
       "    <tr>\n",
       "      <th>Powershell Modules</th>\n",
       "      <td>4628.528991</td>\n",
       "      <td>154.284300</td>\n",
       "      <td>677.807356</td>\n",
       "      <td>30</td>\n",
       "    </tr>\n",
       "    <tr>\n",
       "      <th>Azure Functions + PP365</th>\n",
       "      <td>5114.808664</td>\n",
       "      <td>204.592347</td>\n",
       "      <td>1049.752378</td>\n",
       "      <td>25</td>\n",
       "    </tr>\n",
       "    <tr>\n",
       "      <th>Home Network Project</th>\n",
       "      <td>5438.497280</td>\n",
       "      <td>286.236699</td>\n",
       "      <td>1195.819312</td>\n",
       "      <td>19</td>\n",
       "    </tr>\n",
       "    <tr>\n",
       "      <th>WSL + Kali Linux</th>\n",
       "      <td>5916.866331</td>\n",
       "      <td>268.948470</td>\n",
       "      <td>1229.283523</td>\n",
       "      <td>22</td>\n",
       "    </tr>\n",
       "    <tr>\n",
       "      <th>Vocab</th>\n",
       "      <td>6285.126354</td>\n",
       "      <td>95.229187</td>\n",
       "      <td>856.560325</td>\n",
       "      <td>66</td>\n",
       "    </tr>\n",
       "    <tr>\n",
       "      <th>PnP Powershell</th>\n",
       "      <td>6490.179556</td>\n",
       "      <td>170.794199</td>\n",
       "      <td>650.833192</td>\n",
       "      <td>38</td>\n",
       "    </tr>\n",
       "    <tr>\n",
       "      <th>JavaScript Concepts</th>\n",
       "      <td>6836.613730</td>\n",
       "      <td>112.075635</td>\n",
       "      <td>429.667496</td>\n",
       "      <td>61</td>\n",
       "    </tr>\n",
       "    <tr>\n",
       "      <th>Logging in Python</th>\n",
       "      <td>8419.324181</td>\n",
       "      <td>140.322070</td>\n",
       "      <td>1024.146391</td>\n",
       "      <td>60</td>\n",
       "    </tr>\n",
       "  </tbody>\n",
       "</table>\n",
       "</div>"
      ],
      "text/plain": [
       "                                            age_sum    age_mean      age_max  \\\n",
       "Python                                   151.784959    3.229467    11.227182   \n",
       "Powershell                               488.660153   97.732031   245.934942   \n",
       "Todd Ideas                               887.920842   59.194723   148.120351   \n",
       "PEP 8                                   1367.969342  170.996168   577.627948   \n",
       "SharePoint                              1613.246799  134.437233   574.063380   \n",
       "Audit Report Tracker (Sharepoint List)  1722.368458  132.489881   361.550279   \n",
       "Debugging in VS Code                    1864.262365   93.213118   252.299073   \n",
       "Azure Functions + Visual Studio         1905.610115  136.115008   480.734911   \n",
       "Terraform                               1932.276850   77.291074   249.392202   \n",
       "IW Migration                            2059.740076  147.124291   455.144037   \n",
       "Open Source/GitHub                      2218.373653  138.648353   355.686071   \n",
       "Email Auth and Security                 2304.836591  177.295122   894.633630   \n",
       "FSLogix                                 2319.353407   96.639725   261.035366   \n",
       "Azure Functions                         2838.579515  258.052683   738.922830   \n",
       "DNS                                     3047.375544  190.460971   389.006452   \n",
       "OData                                   3123.324073  312.332407   862.585317   \n",
       "Azure AI Search                         3716.882742  265.491624   719.131997   \n",
       "Powershell Modules                      4628.528991  154.284300   677.807356   \n",
       "Azure Functions + PP365                 5114.808664  204.592347  1049.752378   \n",
       "Home Network Project                    5438.497280  286.236699  1195.819312   \n",
       "WSL + Kali Linux                        5916.866331  268.948470  1229.283523   \n",
       "Vocab                                   6285.126354   95.229187   856.560325   \n",
       "PnP Powershell                          6490.179556  170.794199   650.833192   \n",
       "JavaScript Concepts                     6836.613730  112.075635   429.667496   \n",
       "Logging in Python                       8419.324181  140.322070  1024.146391   \n",
       "\n",
       "                                        head_count  \n",
       "Python                                          47  \n",
       "Powershell                                       5  \n",
       "Todd Ideas                                      15  \n",
       "PEP 8                                            8  \n",
       "SharePoint                                      12  \n",
       "Audit Report Tracker (Sharepoint List)          13  \n",
       "Debugging in VS Code                            20  \n",
       "Azure Functions + Visual Studio                 14  \n",
       "Terraform                                       25  \n",
       "IW Migration                                    14  \n",
       "Open Source/GitHub                              16  \n",
       "Email Auth and Security                         13  \n",
       "FSLogix                                         24  \n",
       "Azure Functions                                 11  \n",
       "DNS                                             16  \n",
       "OData                                           10  \n",
       "Azure AI Search                                 14  \n",
       "Powershell Modules                              30  \n",
       "Azure Functions + PP365                         25  \n",
       "Home Network Project                            19  \n",
       "WSL + Kali Linux                                22  \n",
       "Vocab                                           66  \n",
       "PnP Powershell                                  38  \n",
       "JavaScript Concepts                             61  \n",
       "Logging in Python                               60  "
      ]
     },
     "execution_count": 95,
     "metadata": {},
     "output_type": "execute_result"
    }
   ],
   "source": [
    "stats = existing_cards.groupby('head').agg({'age': ['sum', 'mean', 'max'], 'head': 'count'}).sort_values(('age', 'sum'))\n",
    "stats.columns = stats.columns.to_flat_index()\n",
    "stats.columns = ['_'.join(col).strip() for col in stats.columns]\n",
    "stats.index.name = None\n",
    "stats"
   ]
  },
  {
   "cell_type": "code",
   "execution_count": null,
   "metadata": {},
   "outputs": [],
   "source": []
  },
  {
   "cell_type": "markdown",
   "metadata": {},
   "source": [
    "# Histogram"
   ]
  },
  {
   "cell_type": "code",
   "execution_count": 96,
   "metadata": {},
   "outputs": [
    {
     "name": "stdout",
     "output_type": "stream",
     "text": [
      "82692.51\n"
     ]
    },
    {
     "data": {
      "text/plain": [
       "<Axes: >"
      ]
     },
     "execution_count": 96,
     "metadata": {},
     "output_type": "execute_result"
    },
    {
     "data": {
      "image/png": "[encoded data removed]",
      "text/plain": [
       "<Figure size 640x480 with 1 Axes>"
      ]
     },
     "metadata": {},
     "output_type": "display_data"
    }
   ],
   "source": [
    "print(f\"{existing_cards['age'].sum(0):.2f}\")\n",
    "existing_cards['age'].hist(bins=20)"
   ]
  },
  {
   "cell_type": "markdown",
   "metadata": {},
   "source": [
    "# Completely Random Shuffle"
   ]
  },
  {
   "cell_type": "code",
   "execution_count": 97,
   "metadata": {},
   "outputs": [],
   "source": [
    "# existing_cards = existing_cards.sample(frac=1)\n",
    "# remake_card_document(filename='certcards2.txt', existing_cards = existing_cards)"
   ]
  },
  {
   "cell_type": "markdown",
   "metadata": {},
   "source": [
    "# Age Sort"
   ]
  },
  {
   "cell_type": "code",
   "execution_count": 98,
   "metadata": {},
   "outputs": [],
   "source": [
    "# existing_cards = existing_cards.sort_values('age', ascending=False)\n",
    "# remake_card_document(filename='certcards2.txt', existing_cards=existing_cards)\n",
    "# existing_cards.head(10)"
   ]
  },
  {
   "cell_type": "markdown",
   "metadata": {},
   "source": [
    "# Headers with fewest notes first"
   ]
  },
  {
   "cell_type": "code",
   "execution_count": 99,
   "metadata": {},
   "outputs": [],
   "source": [
    "# frequency = existing_cards['head'].value_counts(ascending=True)\n",
    "\n",
    "# existing_cards = pd.merge(\n",
    "#     left=existing_cards,\n",
    "#     right=frequency.rename('frequency'),\n",
    "#     left_on='head', right_index=True,\n",
    "#     how='left'\n",
    "# )\n",
    "# existing_cards['oldest'] = existing_cards.groupby('head')['age'].transform('max')\n",
    "# existing_cards['subject_highest_age'] = existing_cards['subject_highest_age'] * -1\n",
    "# existing_cards['age'] = existing_cards['age'] * -1\n",
    "\n",
    "\n",
    "# existing_cards.sort_values(['frequency', 'subject_highest_age', 'age'], ascending=True, inplace=True)\n",
    "\n",
    "# remake_card_document(filename='certcards2.txt', existing_cards=existing_cards)\n",
    "\n",
    "# existing_cards.head(10)"
   ]
  },
  {
   "cell_type": "markdown",
   "metadata": {},
   "source": [
    "# Focus on one header"
   ]
  },
  {
   "cell_type": "code",
   "execution_count": 100,
   "metadata": {},
   "outputs": [],
   "source": [
    "# heads = existing_cards['head'].value_counts()\n",
    "# heads = heads[heads > 5].index.tolist()\n",
    "# one_header = random.sample(heads, 1)[0]\n",
    "# existing_cards['pick_head'] = existing_cards['head'].apply(\n",
    "#     lambda h: 0 if h == one_header else 1 \n",
    "# )\n",
    "\n",
    "# remake_card_document(existing_cards=existing_cards.sort_values('pick_head'))"
   ]
  },
  {
   "cell_type": "markdown",
   "metadata": {},
   "source": [
    "## Header with oldest cards first"
   ]
  },
  {
   "cell_type": "code",
   "execution_count": 101,
   "metadata": {},
   "outputs": [],
   "source": [
    "# existing_cards['oldest'] = existing_cards.groupby('head')['age'].transform('max')\n",
    "# existing_cards.sort_values(['oldest', 'age'], ascending=False, inplace=True)\n",
    "# remake_card_document(existing_cards)"
   ]
  },
  {
   "cell_type": "markdown",
   "metadata": {},
   "source": [
    "## Headers with greatest mean card age first"
   ]
  },
  {
   "cell_type": "code",
   "execution_count": 102,
   "metadata": {},
   "outputs": [],
   "source": [
    "# existing_cards.sort_values(['subject_mean_age', 'age'], ascending=False, inplace=True)\n",
    "# remake_card_document(existing_cards)"
   ]
  },
  {
   "cell_type": "markdown",
   "metadata": {},
   "source": [
    "## Headers with greatest age sum first"
   ]
  },
  {
   "cell_type": "code",
   "execution_count": 103,
   "metadata": {},
   "outputs": [],
   "source": [
    "# existing_cards.sort_values(['subject_age_sum', 'age'], ascending=False, inplace=True)\n",
    "# remake_card_document(existing_cards)"
   ]
  },
  {
   "cell_type": "markdown",
   "metadata": {},
   "source": [
    "# N-fold shuffle\n"
   ]
  },
  {
   "cell_type": "markdown",
   "metadata": {},
   "source": [
    "## Age Sum"
   ]
  },
  {
   "cell_type": "code",
   "execution_count": 104,
   "metadata": {},
   "outputs": [],
   "source": [
    "# n=10\n",
    "# existing_cards['count'] = existing_cards.sort_values('age', ascending=False).groupby('head').cumcount()\n",
    "# existing_cards['n_fold'] = existing_cards['count'] // n\n",
    "\n",
    "# existing_cards['subject_age_sum'] = existing_cards['subject_age_sum'] *-1\n",
    "# existing_cards['age'] = existing_cards['age'] *-1\n",
    "# existing_cards.sort_values(['n_fold', 'subject_age_sum', 'age'], inplace=True)\n",
    "\n",
    "# remake_card_document(existing_cards=existing_cards)\n",
    "# existing_cards.head(10)\n"
   ]
  },
  {
   "cell_type": "markdown",
   "metadata": {},
   "source": [
    "## Age Mean"
   ]
  },
  {
   "cell_type": "code",
   "execution_count": 105,
   "metadata": {},
   "outputs": [],
   "source": [
    "# n=3\n",
    "# existing_cards['count'] = existing_cards.sort_values('age', ascending=False).groupby('head').cumcount()\n",
    "# existing_cards['n_fold'] = existing_cards['count'] % n\n",
    "\n",
    "# existing_cards['subject_mean_age'] = existing_cards['subject_mean_age'] *-1\n",
    "# existing_cards['age'] = existing_cards['age'] *-1\n",
    "# existing_cards.sort_values(['n_fold', 'subject_mean_age', 'age'], inplace=True)\n",
    "# remake_card_document(existing_cards=existing_cards)\n",
    "\n",
    "# existing_cards.head(10)\n",
    "\n"
   ]
  },
  {
   "cell_type": "markdown",
   "metadata": {},
   "source": [
    "## Age Max"
   ]
  },
  {
   "cell_type": "code",
   "execution_count": null,
   "metadata": {},
   "outputs": [
    {
     "name": "stdout",
     "output_type": "stream",
     "text": [
      "Cards found: 598\n"
     ]
    },
    {
     "data": {
      "application/vnd.microsoft.datawrangler.viewer.v0+json": {
       "columns": [
        {
         "name": "index",
         "rawType": "int64",
         "type": "integer"
        },
        {
         "name": "head",
         "rawType": "object",
         "type": "string"
        },
        {
         "name": "body",
         "rawType": "object",
         "type": "string"
        },
        {
         "name": "hash",
         "rawType": "object",
         "type": "string"
        },
        {
         "name": "age",
         "rawType": "float64",
         "type": "float"
        },
        {
         "name": "subject_mean_age",
         "rawType": "float64",
         "type": "float"
        },
        {
         "name": "subject_highest_age",
         "rawType": "float64",
         "type": "float"
        },
        {
         "name": "subject_age_sum",
         "rawType": "float64",
         "type": "float"
        },
        {
         "name": "head_random_roll",
         "rawType": "float64",
         "type": "float"
        },
        {
         "name": "count",
         "rawType": "int64",
         "type": "integer"
        },
        {
         "name": "n_fold",
         "rawType": "int64",
         "type": "integer"
        }
       ],
       "conversionMethod": "pd.DataFrame",
       "ref": "17deee85-c0e7-4a6c-84b0-083a8abbc64b",
       "rows": [
        [
         "7",
         "WSL + Kali Linux",
         "wsl.exe and .bashrc\n.bashrc is a script that runs every time you launch a new terminal in WSL. You can use it to set environment variables, customize the prompt, or configure any other startup behavior you want.",
         "fec70ed50be50483db47053b6024bbb4",
         "-1229.283523283199",
         "268.9484695931585",
         "-1229.283523283199",
         "5916.866331049487",
         "0.744219516258746",
         "0",
         "0"
        ],
        [
         "216",
         "WSL + Kali Linux",
         "wsl Command\nThe primary command-line interface for interacting with WSL instances. It is used to manage and run Linux distributions on Windows.\nCommon options:\nwsl --set-default <distro>: Sets the default Linux distribution for running wsl commands.\nwsl --terminate <distro>: Terminates a running WSL distribution.\nwsl --shutdown: Stops all running WSL instances.",
         "9b93a39837c69c7db3c9152b97cebefd",
         "-738.7410456996835",
         "268.9484695931585",
         "-1229.283523283199",
         "5916.866331049487",
         "0.744219516258746",
         "1",
         "0"
        ],
        [
         "417",
         "WSL + Kali Linux",
         "WSL Performance Tuning\nFor better performance, particularly when running heavier workloads or containers, use a .wslconfig file to adjust resource allocation for WSL 2 (memory, CPU, etc.).\nExample .wslconfig:\nmakefile\nCopy code\n[wsl2]\nmemory=4GB\nprocessors=2",
         "03fec1baebb903eda82ea95f03fe0716",
         "-718.8638555405194",
         "268.9484695931585",
         "-1229.283523283199",
         "5916.866331049487",
         "0.744219516258746",
         "2",
         "0"
        ],
        [
         "0",
         "Home Network Project",
         "Front: What is TLS Termination and why is it used in reverse proxies?\n\nBack: TLS Termination refers to the process of decrypting incoming TLS/SSL encrypted traffic at the reverse proxy level before forwarding it to backend servers. It offloads the computationally intensive decryption task from backend servers, improves performance, and allows for centralized management of SSL certificates.",
         "5297051eea9892af904815d3794faf15",
         "-1195.8193124243799",
         "286.2366989532904",
         "-1195.8193124243799",
         "5438.497280112517",
         "0.9049967598228387",
         "0",
         "0"
        ],
        [
         "210",
         "Home Network Project",
         "Front: Explain the difference between a Docker Image and a Docker Container.\n\nBack:\nDocker Image: A read-only template that contains the application and all its dependencies required to run it. Images are built from Dockerfiles and serve as the blueprint for containers.\nDocker Container: A runnable instance of a Docker image. Containers are created from images and can be started, stopped, moved, and deleted independently.",
         "cae03ba26ac3afa5df9d5bb453b94dfd",
         "-791.819138534968",
         "286.2366989532904",
         "-1195.8193124243799",
         "5438.497280112517",
         "0.9049967598228387",
         "1",
         "0"
        ],
        [
         "411",
         "Home Network Project",
         "What is the command to update and upgrade packages on a Debian-based system like Raspberry Pi OS?\n\nbash\nsudo apt update && sudo apt upgrade -y",
         "d0a754737eef42e651e9fff08f6a6292",
         "-523.0399157569452",
         "286.2366989532904",
         "-1195.8193124243799",
         "5438.497280112517",
         "0.9049967598228387",
         "2",
         "0"
        ],
        [
         "24",
         "Azure Functions + PP365",
         "Azure SDK for Python\nA collection of libraries provided by Microsoft to interact with Azure services using Python. The Azure SDK for Python simplifies the integration of Azure Functions with services like Azure Storage, Cosmos DB, and Azure Key Vault, providing robust and consistent APIs for developers.",
         "80100a754471176d4959736d67f857f0",
         "-1049.7523777897002",
         "204.59234655298758",
         "-1049.7523777897002",
         "5114.80866382469",
         "0.8644499515400843",
         "0",
         "0"
        ],
        [
         "232",
         "Azure Functions + PP365",
         "Managed Identity Credential Acquisition\nThe process by which an Azure service with a managed identity obtains an access token from Azure AD. This token is used to authenticate requests to other Azure services, ensuring secure and seamless communication without the need for manual credential management.",
         "ce72b3d8456df269fc6040c655b72f2a",
         "-674.7543899309197",
         "204.59234655298758",
         "-1049.7523777897002",
         "5114.80866382469",
         "0.8644499515400843",
         "1",
         "0"
        ],
        [
         "431",
         "Azure Functions + PP365",
         "Environment Variables\nVariables set in the operating environment that can be accessed by applications. In Python Azure Functions, environment variables are used to store configuration data, secrets, and connection strings securely, allowing functions to adapt to different environments without code changes.",
         "06639ebf4c2d551971c41702ef6dfed2",
         "-412.88832837238357",
         "204.59234655298758",
         "-1049.7523777897002",
         "5114.80866382469",
         "0.8644499515400843",
         "2",
         "0"
        ],
        [
         "75",
         "Logging in Python",
         "Q: What does the exc_info parameter do in logging methods like logger.error() from the logging module?\n\nA: exc_info=True\nThis includes exception traceback information in the log message, aiding in debugging.",
         "99985def14861364c32ddb3b87ea135b",
         "-1024.146390916061",
         "140.32206968078538",
         "-1024.146390916061",
         "8419.324180847123",
         "0.9879696199842202",
         "0",
         "0"
        ]
       ],
       "shape": {
        "columns": 10,
        "rows": 10
       }
      },
      "text/html": [
       "<div>\n",
       "<style scoped>\n",
       "    .dataframe tbody tr th:only-of-type {\n",
       "        vertical-align: middle;\n",
       "    }\n",
       "\n",
       "    .dataframe tbody tr th {\n",
       "        vertical-align: top;\n",
       "    }\n",
       "\n",
       "    .dataframe thead th {\n",
       "        text-align: right;\n",
       "    }\n",
       "</style>\n",
       "<table border=\"1\" class=\"dataframe\">\n",
       "  <thead>\n",
       "    <tr style=\"text-align: right;\">\n",
       "      <th></th>\n",
       "      <th>head</th>\n",
       "      <th>body</th>\n",
       "      <th>hash</th>\n",
       "      <th>age</th>\n",
       "      <th>subject_mean_age</th>\n",
       "      <th>subject_highest_age</th>\n",
       "      <th>subject_age_sum</th>\n",
       "      <th>head_random_roll</th>\n",
       "      <th>count</th>\n",
       "      <th>n_fold</th>\n",
       "    </tr>\n",
       "  </thead>\n",
       "  <tbody>\n",
       "    <tr>\n",
       "      <th>7</th>\n",
       "      <td>WSL + Kali Linux</td>\n",
       "      <td>wsl.exe and .bashrc\\n.bashrc is a script that ...</td>\n",
       "      <td>fec70ed50be50483db47053b6024bbb4</td>\n",
       "      <td>-1229.283523</td>\n",
       "      <td>268.948470</td>\n",
       "      <td>-1229.283523</td>\n",
       "      <td>5916.866331</td>\n",
       "      <td>0.744220</td>\n",
       "      <td>0</td>\n",
       "      <td>0</td>\n",
       "    </tr>\n",
       "    <tr>\n",
       "      <th>216</th>\n",
       "      <td>WSL + Kali Linux</td>\n",
       "      <td>wsl Command\\nThe primary command-line interfac...</td>\n",
       "      <td>9b93a39837c69c7db3c9152b97cebefd</td>\n",
       "      <td>-738.741046</td>\n",
       "      <td>268.948470</td>\n",
       "      <td>-1229.283523</td>\n",
       "      <td>5916.866331</td>\n",
       "      <td>0.744220</td>\n",
       "      <td>1</td>\n",
       "      <td>0</td>\n",
       "    </tr>\n",
       "    <tr>\n",
       "      <th>417</th>\n",
       "      <td>WSL + Kali Linux</td>\n",
       "      <td>WSL Performance Tuning\\nFor better performance...</td>\n",
       "      <td>03fec1baebb903eda82ea95f03fe0716</td>\n",
       "      <td>-718.863856</td>\n",
       "      <td>268.948470</td>\n",
       "      <td>-1229.283523</td>\n",
       "      <td>5916.866331</td>\n",
       "      <td>0.744220</td>\n",
       "      <td>2</td>\n",
       "      <td>0</td>\n",
       "    </tr>\n",
       "    <tr>\n",
       "      <th>0</th>\n",
       "      <td>Home Network Project</td>\n",
       "      <td>Front: What is TLS Termination and why is it u...</td>\n",
       "      <td>5297051eea9892af904815d3794faf15</td>\n",
       "      <td>-1195.819312</td>\n",
       "      <td>286.236699</td>\n",
       "      <td>-1195.819312</td>\n",
       "      <td>5438.497280</td>\n",
       "      <td>0.904997</td>\n",
       "      <td>0</td>\n",
       "      <td>0</td>\n",
       "    </tr>\n",
       "    <tr>\n",
       "      <th>210</th>\n",
       "      <td>Home Network Project</td>\n",
       "      <td>Front: Explain the difference between a Docker...</td>\n",
       "      <td>cae03ba26ac3afa5df9d5bb453b94dfd</td>\n",
       "      <td>-791.819139</td>\n",
       "      <td>286.236699</td>\n",
       "      <td>-1195.819312</td>\n",
       "      <td>5438.497280</td>\n",
       "      <td>0.904997</td>\n",
       "      <td>1</td>\n",
       "      <td>0</td>\n",
       "    </tr>\n",
       "    <tr>\n",
       "      <th>411</th>\n",
       "      <td>Home Network Project</td>\n",
       "      <td>What is the command to update and upgrade pack...</td>\n",
       "      <td>d0a754737eef42e651e9fff08f6a6292</td>\n",
       "      <td>-523.039916</td>\n",
       "      <td>286.236699</td>\n",
       "      <td>-1195.819312</td>\n",
       "      <td>5438.497280</td>\n",
       "      <td>0.904997</td>\n",
       "      <td>2</td>\n",
       "      <td>0</td>\n",
       "    </tr>\n",
       "    <tr>\n",
       "      <th>24</th>\n",
       "      <td>Azure Functions + PP365</td>\n",
       "      <td>Azure SDK for Python\\nA collection of librarie...</td>\n",
       "      <td>80100a754471176d4959736d67f857f0</td>\n",
       "      <td>-1049.752378</td>\n",
       "      <td>204.592347</td>\n",
       "      <td>-1049.752378</td>\n",
       "      <td>5114.808664</td>\n",
       "      <td>0.864450</td>\n",
       "      <td>0</td>\n",
       "      <td>0</td>\n",
       "    </tr>\n",
       "    <tr>\n",
       "      <th>232</th>\n",
       "      <td>Azure Functions + PP365</td>\n",
       "      <td>Managed Identity Credential Acquisition\\nThe p...</td>\n",
       "      <td>ce72b3d8456df269fc6040c655b72f2a</td>\n",
       "      <td>-674.754390</td>\n",
       "      <td>204.592347</td>\n",
       "      <td>-1049.752378</td>\n",
       "      <td>5114.808664</td>\n",
       "      <td>0.864450</td>\n",
       "      <td>1</td>\n",
       "      <td>0</td>\n",
       "    </tr>\n",
       "    <tr>\n",
       "      <th>431</th>\n",
       "      <td>Azure Functions + PP365</td>\n",
       "      <td>Environment Variables\\nVariables set in the op...</td>\n",
       "      <td>06639ebf4c2d551971c41702ef6dfed2</td>\n",
       "      <td>-412.888328</td>\n",
       "      <td>204.592347</td>\n",
       "      <td>-1049.752378</td>\n",
       "      <td>5114.808664</td>\n",
       "      <td>0.864450</td>\n",
       "      <td>2</td>\n",
       "      <td>0</td>\n",
       "    </tr>\n",
       "    <tr>\n",
       "      <th>75</th>\n",
       "      <td>Logging in Python</td>\n",
       "      <td>Q: What does the exc_info parameter do in logg...</td>\n",
       "      <td>99985def14861364c32ddb3b87ea135b</td>\n",
       "      <td>-1024.146391</td>\n",
       "      <td>140.322070</td>\n",
       "      <td>-1024.146391</td>\n",
       "      <td>8419.324181</td>\n",
       "      <td>0.987970</td>\n",
       "      <td>0</td>\n",
       "      <td>0</td>\n",
       "    </tr>\n",
       "  </tbody>\n",
       "</table>\n",
       "</div>"
      ],
      "text/plain": [
       "                        head  \\\n",
       "7           WSL + Kali Linux   \n",
       "216         WSL + Kali Linux   \n",
       "417         WSL + Kali Linux   \n",
       "0       Home Network Project   \n",
       "210     Home Network Project   \n",
       "411     Home Network Project   \n",
       "24   Azure Functions + PP365   \n",
       "232  Azure Functions + PP365   \n",
       "431  Azure Functions + PP365   \n",
       "75         Logging in Python   \n",
       "\n",
       "                                                  body  \\\n",
       "7    wsl.exe and .bashrc\\n.bashrc is a script that ...   \n",
       "216  wsl Command\\nThe primary command-line interfac...   \n",
       "417  WSL Performance Tuning\\nFor better performance...   \n",
       "0    Front: What is TLS Termination and why is it u...   \n",
       "210  Front: Explain the difference between a Docker...   \n",
       "411  What is the command to update and upgrade pack...   \n",
       "24   Azure SDK for Python\\nA collection of librarie...   \n",
       "232  Managed Identity Credential Acquisition\\nThe p...   \n",
       "431  Environment Variables\\nVariables set in the op...   \n",
       "75   Q: What does the exc_info parameter do in logg...   \n",
       "\n",
       "                                 hash          age  subject_mean_age  \\\n",
       "7    fec70ed50be50483db47053b6024bbb4 -1229.283523        268.948470   \n",
       "216  9b93a39837c69c7db3c9152b97cebefd  -738.741046        268.948470   \n",
       "417  03fec1baebb903eda82ea95f03fe0716  -718.863856        268.948470   \n",
       "0    5297051eea9892af904815d3794faf15 -1195.819312        286.236699   \n",
       "210  cae03ba26ac3afa5df9d5bb453b94dfd  -791.819139        286.236699   \n",
       "411  d0a754737eef42e651e9fff08f6a6292  -523.039916        286.236699   \n",
       "24   80100a754471176d4959736d67f857f0 -1049.752378        204.592347   \n",
       "232  ce72b3d8456df269fc6040c655b72f2a  -674.754390        204.592347   \n",
       "431  06639ebf4c2d551971c41702ef6dfed2  -412.888328        204.592347   \n",
       "75   99985def14861364c32ddb3b87ea135b -1024.146391        140.322070   \n",
       "\n",
       "     subject_highest_age  subject_age_sum  head_random_roll  count  n_fold  \n",
       "7           -1229.283523      5916.866331          0.744220      0       0  \n",
       "216         -1229.283523      5916.866331          0.744220      1       0  \n",
       "417         -1229.283523      5916.866331          0.744220      2       0  \n",
       "0           -1195.819312      5438.497280          0.904997      0       0  \n",
       "210         -1195.819312      5438.497280          0.904997      1       0  \n",
       "411         -1195.819312      5438.497280          0.904997      2       0  \n",
       "24          -1049.752378      5114.808664          0.864450      0       0  \n",
       "232         -1049.752378      5114.808664          0.864450      1       0  \n",
       "431         -1049.752378      5114.808664          0.864450      2       0  \n",
       "75          -1024.146391      8419.324181          0.987970      0       0  "
      ]
     },
     "execution_count": 106,
     "metadata": {},
     "output_type": "execute_result"
    }
   ],
   "source": [
    "n = 3\n",
    "existing_cards['count'] = existing_cards.sort_values('age', ascending=False).groupby('head').cumcount()\n",
    "existing_cards['n_fold'] = existing_cards['count'] // n\n",
    "\n",
    "if existing_cards['age'].sum() > 0:\n",
    "    existing_cards['subject_highest_age'] = existing_cards['subject_highest_age'] *-1\n",
    "    existing_cards['age'] = existing_cards['age'] *-1\n",
    "existing_cards.sort_values(['n_fold', 'subject_highest_age', 'age'], inplace=True)\n",
    "\n",
    "remake_card_document(existing_cards=existing_cards)\n",
    "existing_cards.head(10)\n"
   ]
  },
  {
   "cell_type": "markdown",
   "metadata": {},
   "source": [
    "## Card Count"
   ]
  },
  {
   "cell_type": "code",
   "execution_count": 107,
   "metadata": {},
   "outputs": [],
   "source": [
    "# n=10\n",
    "# existing_cards['frequency']  = existing_cards.groupby('head').transform('count')['body']\n",
    "# existing_cards['count'] = existing_cards.sort_values('age', ascending=False).groupby('head').cumcount()\n",
    "# existing_cards['n_fold'] = existing_cards['count'] // n\n",
    "\n",
    "# existing_cards['subject_mean_age'] = existing_cards['subject_mean_age'] *-1\n",
    "# existing_cards['age'] = existing_cards['age'] *-1\n",
    "# existing_cards.sort_values(['n_fold', 'frequency', 'age'], inplace=True)\n",
    "# remake_card_document(existing_cards=existing_cards)\n",
    "\n",
    "# existing_cards.head(10)\n",
    "\n"
   ]
  },
  {
   "cell_type": "markdown",
   "metadata": {},
   "source": [
    "\n",
    "## Random"
   ]
  },
  {
   "cell_type": "code",
   "execution_count": 108,
   "metadata": {},
   "outputs": [],
   "source": [
    "# n = 3\n",
    "# existing_cards['count'] = existing_cards.sort_values('age', ascending=False).groupby('head').cumcount()\n",
    "# existing_cards['n_fold'] = existing_cards['count'] % n\n",
    "# existing_cards['age'] *= -1\n",
    "# existing_cards.sort_values(['n_fold', 'head_random_roll', 'age'], inplace=True)\n",
    "# remake_card_document(existing_cards=existing_cards)\n",
    "# existing_cards.head(10)"
   ]
  },
  {
   "cell_type": "code",
   "execution_count": 109,
   "metadata": {},
   "outputs": [
    {
     "data": {
      "application/vnd.microsoft.datawrangler.viewer.v0+json": {
       "columns": [
        {
         "name": "index",
         "rawType": "int64",
         "type": "integer"
        },
        {
         "name": "head",
         "rawType": "object",
         "type": "string"
        },
        {
         "name": "body",
         "rawType": "object",
         "type": "string"
        },
        {
         "name": "hash",
         "rawType": "object",
         "type": "string"
        },
        {
         "name": "age",
         "rawType": "float64",
         "type": "float"
        },
        {
         "name": "subject_mean_age",
         "rawType": "float64",
         "type": "float"
        },
        {
         "name": "subject_highest_age",
         "rawType": "float64",
         "type": "float"
        },
        {
         "name": "subject_age_sum",
         "rawType": "float64",
         "type": "float"
        },
        {
         "name": "head_random_roll",
         "rawType": "float64",
         "type": "float"
        },
        {
         "name": "count",
         "rawType": "int64",
         "type": "integer"
        },
        {
         "name": "n_fold",
         "rawType": "int64",
         "type": "integer"
        }
       ],
       "conversionMethod": "pd.DataFrame",
       "ref": "e6777ca7-e7e3-4192-a39a-c65ded7ced42",
       "rows": [
        [
         "7",
         "WSL + Kali Linux",
         "wsl.exe and .bashrc\n.bashrc is a script that runs every time you launch a new terminal in WSL. You can use it to set environment variables, customize the prompt, or configure any other startup behavior you want.",
         "fec70ed50be50483db47053b6024bbb4",
         "-1229.283523283199",
         "268.9484695931585",
         "-1229.283523283199",
         "5916.866331049487",
         "0.744219516258746",
         "0",
         "0"
        ],
        [
         "216",
         "WSL + Kali Linux",
         "wsl Command\nThe primary command-line interface for interacting with WSL instances. It is used to manage and run Linux distributions on Windows.\nCommon options:\nwsl --set-default <distro>: Sets the default Linux distribution for running wsl commands.\nwsl --terminate <distro>: Terminates a running WSL distribution.\nwsl --shutdown: Stops all running WSL instances.",
         "9b93a39837c69c7db3c9152b97cebefd",
         "-738.7410456996835",
         "268.9484695931585",
         "-1229.283523283199",
         "5916.866331049487",
         "0.744219516258746",
         "1",
         "0"
        ],
        [
         "417",
         "WSL + Kali Linux",
         "WSL Performance Tuning\nFor better performance, particularly when running heavier workloads or containers, use a .wslconfig file to adjust resource allocation for WSL 2 (memory, CPU, etc.).\nExample .wslconfig:\nmakefile\nCopy code\n[wsl2]\nmemory=4GB\nprocessors=2",
         "03fec1baebb903eda82ea95f03fe0716",
         "-718.8638555405194",
         "268.9484695931585",
         "-1229.283523283199",
         "5916.866331049487",
         "0.744219516258746",
         "2",
         "0"
        ],
        [
         "0",
         "Home Network Project",
         "Front: What is TLS Termination and why is it used in reverse proxies?\n\nBack: TLS Termination refers to the process of decrypting incoming TLS/SSL encrypted traffic at the reverse proxy level before forwarding it to backend servers. It offloads the computationally intensive decryption task from backend servers, improves performance, and allows for centralized management of SSL certificates.",
         "5297051eea9892af904815d3794faf15",
         "-1195.8193124243799",
         "286.2366989532904",
         "-1195.8193124243799",
         "5438.497280112517",
         "0.9049967598228387",
         "0",
         "0"
        ],
        [
         "210",
         "Home Network Project",
         "Front: Explain the difference between a Docker Image and a Docker Container.\n\nBack:\nDocker Image: A read-only template that contains the application and all its dependencies required to run it. Images are built from Dockerfiles and serve as the blueprint for containers.\nDocker Container: A runnable instance of a Docker image. Containers are created from images and can be started, stopped, moved, and deleted independently.",
         "cae03ba26ac3afa5df9d5bb453b94dfd",
         "-791.819138534968",
         "286.2366989532904",
         "-1195.8193124243799",
         "5438.497280112517",
         "0.9049967598228387",
         "1",
         "0"
        ],
        [
         "411",
         "Home Network Project",
         "What is the command to update and upgrade packages on a Debian-based system like Raspberry Pi OS?\n\nbash\nsudo apt update && sudo apt upgrade -y",
         "d0a754737eef42e651e9fff08f6a6292",
         "-523.0399157569452",
         "286.2366989532904",
         "-1195.8193124243799",
         "5438.497280112517",
         "0.9049967598228387",
         "2",
         "0"
        ],
        [
         "24",
         "Azure Functions + PP365",
         "Azure SDK for Python\nA collection of libraries provided by Microsoft to interact with Azure services using Python. The Azure SDK for Python simplifies the integration of Azure Functions with services like Azure Storage, Cosmos DB, and Azure Key Vault, providing robust and consistent APIs for developers.",
         "80100a754471176d4959736d67f857f0",
         "-1049.7523777897002",
         "204.59234655298758",
         "-1049.7523777897002",
         "5114.80866382469",
         "0.8644499515400843",
         "0",
         "0"
        ],
        [
         "232",
         "Azure Functions + PP365",
         "Managed Identity Credential Acquisition\nThe process by which an Azure service with a managed identity obtains an access token from Azure AD. This token is used to authenticate requests to other Azure services, ensuring secure and seamless communication without the need for manual credential management.",
         "ce72b3d8456df269fc6040c655b72f2a",
         "-674.7543899309197",
         "204.59234655298758",
         "-1049.7523777897002",
         "5114.80866382469",
         "0.8644499515400843",
         "1",
         "0"
        ],
        [
         "431",
         "Azure Functions + PP365",
         "Environment Variables\nVariables set in the operating environment that can be accessed by applications. In Python Azure Functions, environment variables are used to store configuration data, secrets, and connection strings securely, allowing functions to adapt to different environments without code changes.",
         "06639ebf4c2d551971c41702ef6dfed2",
         "-412.88832837238357",
         "204.59234655298758",
         "-1049.7523777897002",
         "5114.80866382469",
         "0.8644499515400843",
         "2",
         "0"
        ],
        [
         "75",
         "Logging in Python",
         "Q: What does the exc_info parameter do in logging methods like logger.error() from the logging module?\n\nA: exc_info=True\nThis includes exception traceback information in the log message, aiding in debugging.",
         "99985def14861364c32ddb3b87ea135b",
         "-1024.146390916061",
         "140.32206968078538",
         "-1024.146390916061",
         "8419.324180847123",
         "0.9879696199842202",
         "0",
         "0"
        ]
       ],
       "shape": {
        "columns": 10,
        "rows": 10
       }
      },
      "text/html": [
       "<div>\n",
       "<style scoped>\n",
       "    .dataframe tbody tr th:only-of-type {\n",
       "        vertical-align: middle;\n",
       "    }\n",
       "\n",
       "    .dataframe tbody tr th {\n",
       "        vertical-align: top;\n",
       "    }\n",
       "\n",
       "    .dataframe thead th {\n",
       "        text-align: right;\n",
       "    }\n",
       "</style>\n",
       "<table border=\"1\" class=\"dataframe\">\n",
       "  <thead>\n",
       "    <tr style=\"text-align: right;\">\n",
       "      <th></th>\n",
       "      <th>head</th>\n",
       "      <th>body</th>\n",
       "      <th>hash</th>\n",
       "      <th>age</th>\n",
       "      <th>subject_mean_age</th>\n",
       "      <th>subject_highest_age</th>\n",
       "      <th>subject_age_sum</th>\n",
       "      <th>head_random_roll</th>\n",
       "      <th>count</th>\n",
       "      <th>n_fold</th>\n",
       "    </tr>\n",
       "  </thead>\n",
       "  <tbody>\n",
       "    <tr>\n",
       "      <th>7</th>\n",
       "      <td>WSL + Kali Linux</td>\n",
       "      <td>wsl.exe and .bashrc\\n.bashrc is a script that ...</td>\n",
       "      <td>fec70ed50be50483db47053b6024bbb4</td>\n",
       "      <td>-1229.283523</td>\n",
       "      <td>268.948470</td>\n",
       "      <td>-1229.283523</td>\n",
       "      <td>5916.866331</td>\n",
       "      <td>0.744220</td>\n",
       "      <td>0</td>\n",
       "      <td>0</td>\n",
       "    </tr>\n",
       "    <tr>\n",
       "      <th>216</th>\n",
       "      <td>WSL + Kali Linux</td>\n",
       "      <td>wsl Command\\nThe primary command-line interfac...</td>\n",
       "      <td>9b93a39837c69c7db3c9152b97cebefd</td>\n",
       "      <td>-738.741046</td>\n",
       "      <td>268.948470</td>\n",
       "      <td>-1229.283523</td>\n",
       "      <td>5916.866331</td>\n",
       "      <td>0.744220</td>\n",
       "      <td>1</td>\n",
       "      <td>0</td>\n",
       "    </tr>\n",
       "    <tr>\n",
       "      <th>417</th>\n",
       "      <td>WSL + Kali Linux</td>\n",
       "      <td>WSL Performance Tuning\\nFor better performance...</td>\n",
       "      <td>03fec1baebb903eda82ea95f03fe0716</td>\n",
       "      <td>-718.863856</td>\n",
       "      <td>268.948470</td>\n",
       "      <td>-1229.283523</td>\n",
       "      <td>5916.866331</td>\n",
       "      <td>0.744220</td>\n",
       "      <td>2</td>\n",
       "      <td>0</td>\n",
       "    </tr>\n",
       "    <tr>\n",
       "      <th>0</th>\n",
       "      <td>Home Network Project</td>\n",
       "      <td>Front: What is TLS Termination and why is it u...</td>\n",
       "      <td>5297051eea9892af904815d3794faf15</td>\n",
       "      <td>-1195.819312</td>\n",
       "      <td>286.236699</td>\n",
       "      <td>-1195.819312</td>\n",
       "      <td>5438.497280</td>\n",
       "      <td>0.904997</td>\n",
       "      <td>0</td>\n",
       "      <td>0</td>\n",
       "    </tr>\n",
       "    <tr>\n",
       "      <th>210</th>\n",
       "      <td>Home Network Project</td>\n",
       "      <td>Front: Explain the difference between a Docker...</td>\n",
       "      <td>cae03ba26ac3afa5df9d5bb453b94dfd</td>\n",
       "      <td>-791.819139</td>\n",
       "      <td>286.236699</td>\n",
       "      <td>-1195.819312</td>\n",
       "      <td>5438.497280</td>\n",
       "      <td>0.904997</td>\n",
       "      <td>1</td>\n",
       "      <td>0</td>\n",
       "    </tr>\n",
       "    <tr>\n",
       "      <th>411</th>\n",
       "      <td>Home Network Project</td>\n",
       "      <td>What is the command to update and upgrade pack...</td>\n",
       "      <td>d0a754737eef42e651e9fff08f6a6292</td>\n",
       "      <td>-523.039916</td>\n",
       "      <td>286.236699</td>\n",
       "      <td>-1195.819312</td>\n",
       "      <td>5438.497280</td>\n",
       "      <td>0.904997</td>\n",
       "      <td>2</td>\n",
       "      <td>0</td>\n",
       "    </tr>\n",
       "    <tr>\n",
       "      <th>24</th>\n",
       "      <td>Azure Functions + PP365</td>\n",
       "      <td>Azure SDK for Python\\nA collection of librarie...</td>\n",
       "      <td>80100a754471176d4959736d67f857f0</td>\n",
       "      <td>-1049.752378</td>\n",
       "      <td>204.592347</td>\n",
       "      <td>-1049.752378</td>\n",
       "      <td>5114.808664</td>\n",
       "      <td>0.864450</td>\n",
       "      <td>0</td>\n",
       "      <td>0</td>\n",
       "    </tr>\n",
       "    <tr>\n",
       "      <th>232</th>\n",
       "      <td>Azure Functions + PP365</td>\n",
       "      <td>Managed Identity Credential Acquisition\\nThe p...</td>\n",
       "      <td>ce72b3d8456df269fc6040c655b72f2a</td>\n",
       "      <td>-674.754390</td>\n",
       "      <td>204.592347</td>\n",
       "      <td>-1049.752378</td>\n",
       "      <td>5114.808664</td>\n",
       "      <td>0.864450</td>\n",
       "      <td>1</td>\n",
       "      <td>0</td>\n",
       "    </tr>\n",
       "    <tr>\n",
       "      <th>431</th>\n",
       "      <td>Azure Functions + PP365</td>\n",
       "      <td>Environment Variables\\nVariables set in the op...</td>\n",
       "      <td>06639ebf4c2d551971c41702ef6dfed2</td>\n",
       "      <td>-412.888328</td>\n",
       "      <td>204.592347</td>\n",
       "      <td>-1049.752378</td>\n",
       "      <td>5114.808664</td>\n",
       "      <td>0.864450</td>\n",
       "      <td>2</td>\n",
       "      <td>0</td>\n",
       "    </tr>\n",
       "    <tr>\n",
       "      <th>75</th>\n",
       "      <td>Logging in Python</td>\n",
       "      <td>Q: What does the exc_info parameter do in logg...</td>\n",
       "      <td>99985def14861364c32ddb3b87ea135b</td>\n",
       "      <td>-1024.146391</td>\n",
       "      <td>140.322070</td>\n",
       "      <td>-1024.146391</td>\n",
       "      <td>8419.324181</td>\n",
       "      <td>0.987970</td>\n",
       "      <td>0</td>\n",
       "      <td>0</td>\n",
       "    </tr>\n",
       "  </tbody>\n",
       "</table>\n",
       "</div>"
      ],
      "text/plain": [
       "                        head  \\\n",
       "7           WSL + Kali Linux   \n",
       "216         WSL + Kali Linux   \n",
       "417         WSL + Kali Linux   \n",
       "0       Home Network Project   \n",
       "210     Home Network Project   \n",
       "411     Home Network Project   \n",
       "24   Azure Functions + PP365   \n",
       "232  Azure Functions + PP365   \n",
       "431  Azure Functions + PP365   \n",
       "75         Logging in Python   \n",
       "\n",
       "                                                  body  \\\n",
       "7    wsl.exe and .bashrc\\n.bashrc is a script that ...   \n",
       "216  wsl Command\\nThe primary command-line interfac...   \n",
       "417  WSL Performance Tuning\\nFor better performance...   \n",
       "0    Front: What is TLS Termination and why is it u...   \n",
       "210  Front: Explain the difference between a Docker...   \n",
       "411  What is the command to update and upgrade pack...   \n",
       "24   Azure SDK for Python\\nA collection of librarie...   \n",
       "232  Managed Identity Credential Acquisition\\nThe p...   \n",
       "431  Environment Variables\\nVariables set in the op...   \n",
       "75   Q: What does the exc_info parameter do in logg...   \n",
       "\n",
       "                                 hash          age  subject_mean_age  \\\n",
       "7    fec70ed50be50483db47053b6024bbb4 -1229.283523        268.948470   \n",
       "216  9b93a39837c69c7db3c9152b97cebefd  -738.741046        268.948470   \n",
       "417  03fec1baebb903eda82ea95f03fe0716  -718.863856        268.948470   \n",
       "0    5297051eea9892af904815d3794faf15 -1195.819312        286.236699   \n",
       "210  cae03ba26ac3afa5df9d5bb453b94dfd  -791.819139        286.236699   \n",
       "411  d0a754737eef42e651e9fff08f6a6292  -523.039916        286.236699   \n",
       "24   80100a754471176d4959736d67f857f0 -1049.752378        204.592347   \n",
       "232  ce72b3d8456df269fc6040c655b72f2a  -674.754390        204.592347   \n",
       "431  06639ebf4c2d551971c41702ef6dfed2  -412.888328        204.592347   \n",
       "75   99985def14861364c32ddb3b87ea135b -1024.146391        140.322070   \n",
       "\n",
       "     subject_highest_age  subject_age_sum  head_random_roll  count  n_fold  \n",
       "7           -1229.283523      5916.866331          0.744220      0       0  \n",
       "216         -1229.283523      5916.866331          0.744220      1       0  \n",
       "417         -1229.283523      5916.866331          0.744220      2       0  \n",
       "0           -1195.819312      5438.497280          0.904997      0       0  \n",
       "210         -1195.819312      5438.497280          0.904997      1       0  \n",
       "411         -1195.819312      5438.497280          0.904997      2       0  \n",
       "24          -1049.752378      5114.808664          0.864450      0       0  \n",
       "232         -1049.752378      5114.808664          0.864450      1       0  \n",
       "431         -1049.752378      5114.808664          0.864450      2       0  \n",
       "75          -1024.146391      8419.324181          0.987970      0       0  "
      ]
     },
     "execution_count": 109,
     "metadata": {},
     "output_type": "execute_result"
    }
   ],
   "source": [
    "existing_cards.head(10)"
   ]
  },
  {
   "cell_type": "code",
   "execution_count": 110,
   "metadata": {},
   "outputs": [
    {
     "data": {
      "text/plain": [
       "-138.28179024835143"
      ]
     },
     "execution_count": 110,
     "metadata": {},
     "output_type": "execute_result"
    }
   ],
   "source": [
    "existing_cards['age'].mean()"
   ]
  }
 ],
 "metadata": {
  "kernelspec": {
   "display_name": "Python 3",
   "language": "python",
   "name": "python3"
  },
  "language_info": {
   "codemirror_mode": {
    "name": "ipython",
    "version": 3
   },
   "file_extension": ".py",
   "mimetype": "text/x-python",
   "name": "python",
   "nbconvert_exporter": "python",
   "pygments_lexer": "ipython3",
   "version": "3.10.10"
  }
 },
 "nbformat": 4,
 "nbformat_minor": 2
}
