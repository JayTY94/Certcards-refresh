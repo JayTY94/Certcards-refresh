{
 "cells": [
  {
   "cell_type": "code",
   "execution_count": 55,
   "metadata": {},
   "outputs": [],
   "source": [
    "import re\n",
    "import random\n",
    "import pandas as pd\n",
    "import hashlib"
   ]
  },
  {
   "cell_type": "code",
   "execution_count": 56,
   "metadata": {},
   "outputs": [],
   "source": [
    "with open('certcards2.txt', mode='r', encoding='utf8') as f:\n",
    "    all_cards = f.read()\n",
    "    \n",
    "card_split_pattern = r'\\n\\n\\n\\d+\\n'\n",
    "all_cards = re.split(card_split_pattern, all_cards)\n",
    "# Use re.DOTALL to allow . to match newline characters\n",
    "card_pattern = re.compile(r'(.+?)\\n([\\s\\S]+)', re.DOTALL)\n",
    "cards = [(match.group(1), match.group(2)) for cstring in all_cards if (match := re.search(card_pattern, cstring))]\n",
    "\n",
    "# removing the cards that have no content and trimming\n",
    "cards = [(subject, stripped_content) for subject, content in cards if len(stripped_content := content.strip()) > 5]\n",
    "\n",
    "def hash_string_md5(s):\n",
    "    \"\"\"\n",
    "    Hashes a string using MD5 and returns a truncated hash for efficiency.\n",
    "\n",
    "    Parameters:\n",
    "    - s (str): The input string to hash.\n",
    "\n",
    "    Returns:\n",
    "    - str: The truncated hexadecimal hash string.\n",
    "    \"\"\"\n",
    "    if pd.isnull(s):\n",
    "        return None  # Handle NaN values gracefully\n",
    "    return hashlib.md5(s.encode('utf-8')).hexdigest()  # Truncate to first 12 characters\n",
    "\n",
    "\n",
    "def remake_card_document(existing_cards: pd.DataFrame, filename: str='certcards2.txt'):\n",
    "    with open(filename, mode='w', encoding='utf8') as f:\n",
    "        i = 1\n",
    "        for _, row in existing_cards.iterrows():\n",
    "            f.write('\\n'*6)\n",
    "            f.write(str(i)+'\\n')  \n",
    "            f.write(row['head']+'\\n')\n",
    "            f.write(row['body'])\n",
    "            i+=1\n",
    "    print(F\"Cards found: {existing_cards.shape[0]}\")\n",
    "\n",
    "\n",
    "existing_cards = pd.DataFrame(cards, columns=['head', 'body'])\n",
    "\n",
    "\n",
    "# existing_cards['age'] = [random.random() for _ in existing_cards.index]\n",
    "existing_cards['hash'] = existing_cards['body'].apply(hash_string_md5)\n",
    "existing_cards\n",
    "\n",
    "card_ages = pd.read_json('card_ages.json')\n",
    "card_ages = card_ages.drop_duplicates(subset=['hash'], keep='first')\n",
    "\n",
    "cards_to_age = pd.merge(\n",
    "    left=existing_cards,\n",
    "    right=card_ages[['hash', 'age']],\n",
    "    left_on='hash', right_on='hash',\n",
    "    how='left'\n",
    ")\n",
    "\n",
    "cards_to_age['head'] = cards_to_age['head'].str.strip()\n",
    "\n",
    "if cards_to_age['age'].sum() > 2e4: age_factor = 1\n",
    "else: age_factor = 1.00\n",
    "\n",
    "cards_to_age['age'] = cards_to_age['age'].fillna(0)\n",
    "cards_to_age['age'] = cards_to_age['age'] * age_factor\n",
    "cards_to_age['age'] = cards_to_age['age'] + [random.expovariate(.60) for _ in cards_to_age.index]\n",
    "# cards_to_age['age'] = cards_to_age['age'] * [random.expovariate(.5) for _ in cards_to_age.index]\n",
    "\n",
    "\n",
    "cards_to_age = cards_to_age.drop_duplicates(subset=['hash'], keep='first')\n",
    "\n",
    "cards_to_age['subject_mean_age'] = cards_to_age.groupby('head')['age'].transform('mean')\n",
    "cards_to_age['subject_highest_age'] = cards_to_age.groupby('head')['age'].transform('max')\n",
    "cards_to_age['subject_age_sum'] = cards_to_age.groupby('head')['age'].transform('sum')\n",
    "cards_to_age['head_random_roll'] = cards_to_age.groupby('head')['head'].transform(lambda x: random.random())\n",
    "\n",
    "\n",
    "cards_to_age.sort_values('age')[['age', 'head', 'hash']].to_json('card_ages.json', indent=2)\n",
    "\n",
    "existing_cards = cards_to_age"
   ]
  },
  {
   "cell_type": "code",
   "execution_count": 57,
   "metadata": {},
   "outputs": [
    {
     "data": {
      "application/vnd.microsoft.datawrangler.viewer.v0+json": {
       "columns": [
        {
         "name": "index",
         "rawType": "object",
         "type": "string"
        },
        {
         "name": "age_sum",
         "rawType": "float64",
         "type": "float"
        },
        {
         "name": "age_mean",
         "rawType": "float64",
         "type": "float"
        },
        {
         "name": "head_count",
         "rawType": "int64",
         "type": "integer"
        }
       ],
       "conversionMethod": "pd.DataFrame",
       "ref": "b3edb967-f943-46ba-8539-db2c456e689e",
       "rows": [
        [
         "Todd Ideas",
         "249.87600499999917",
         "16.65840033333328",
         "15"
        ],
        [
         "Powershell",
         "513.5710848234281",
         "51.35710848234281",
         "10"
        ],
        [
         "Terraform",
         "655.5602847920051",
         "26.222411391680204",
         "25"
        ],
        [
         "Azure Functions",
         "745.5015540792042",
         "67.77286855265493",
         "11"
        ],
        [
         "FSLogix",
         "1197.4282207461263",
         "49.8928425310886",
         "24"
        ],
        [
         "Email Auth and Security",
         "1204.119603243156",
         "92.62458486485815",
         "13"
        ],
        [
         "Azure Functions + Visual Studio",
         "1236.0962545007096",
         "88.29258960719355",
         "14"
        ],
        [
         "Audit Report Tracker (Sharepoint List)",
         "1257.5624444424943",
         "78.5976527776559",
         "16"
        ],
        [
         "IW Migration",
         "1422.3582238914148",
         "101.59701599224391",
         "14"
        ],
        [
         "OData",
         "1439.1643073676555",
         "95.9442871578437",
         "15"
        ],
        [
         "DNS",
         "1471.9319399602007",
         "91.99574624751254",
         "16"
        ],
        [
         "Azure AI Search",
         "1507.399671092131",
         "107.67140507800936",
         "14"
        ],
        [
         "Home Network Project",
         "1592.1987339104126",
         "83.79993336370592",
         "19"
        ],
        [
         "Debugging in VS Code",
         "1846.1085183948933",
         "80.26558775629971",
         "23"
        ],
        [
         "Open Source/GitHub",
         "1990.1277796676745",
         "99.50638898338373",
         "20"
        ],
        [
         "Azure Functions + PP365",
         "2014.4500868363282",
         "80.57800347345312",
         "25"
        ],
        [
         "SharePoint",
         "2085.3124584751017",
         "122.66543873382952",
         "17"
        ],
        [
         "Vocab",
         "2356.8329792802847",
         "42.08630320143366",
         "56"
        ],
        [
         "WSL + Kali Linux",
         "2583.2996809692027",
         "117.4227127713274",
         "22"
        ],
        [
         "PEP 8",
         "2591.7308285732634",
         "136.40688571438227",
         "19"
        ],
        [
         "Powershell Modules",
         "2662.175288033874",
         "88.7391762677958",
         "30"
        ],
        [
         "Logging in Python",
         "2799.5394204789345",
         "111.98157681915738",
         "25"
        ],
        [
         "JavaScript Concepts",
         "2839.6688473501013",
         "39.995335878170444",
         "71"
        ],
        [
         "PnP Powershell",
         "2856.0357600781413",
         "75.15883579153004",
         "38"
        ]
       ],
       "shape": {
        "columns": 3,
        "rows": 24
       }
      },
      "text/html": [
       "<div>\n",
       "<style scoped>\n",
       "    .dataframe tbody tr th:only-of-type {\n",
       "        vertical-align: middle;\n",
       "    }\n",
       "\n",
       "    .dataframe tbody tr th {\n",
       "        vertical-align: top;\n",
       "    }\n",
       "\n",
       "    .dataframe thead th {\n",
       "        text-align: right;\n",
       "    }\n",
       "</style>\n",
       "<table border=\"1\" class=\"dataframe\">\n",
       "  <thead>\n",
       "    <tr style=\"text-align: right;\">\n",
       "      <th></th>\n",
       "      <th>age_sum</th>\n",
       "      <th>age_mean</th>\n",
       "      <th>head_count</th>\n",
       "    </tr>\n",
       "  </thead>\n",
       "  <tbody>\n",
       "    <tr>\n",
       "      <th>Todd Ideas</th>\n",
       "      <td>249.876005</td>\n",
       "      <td>16.658400</td>\n",
       "      <td>15</td>\n",
       "    </tr>\n",
       "    <tr>\n",
       "      <th>Powershell</th>\n",
       "      <td>513.571085</td>\n",
       "      <td>51.357108</td>\n",
       "      <td>10</td>\n",
       "    </tr>\n",
       "    <tr>\n",
       "      <th>Terraform</th>\n",
       "      <td>655.560285</td>\n",
       "      <td>26.222411</td>\n",
       "      <td>25</td>\n",
       "    </tr>\n",
       "    <tr>\n",
       "      <th>Azure Functions</th>\n",
       "      <td>745.501554</td>\n",
       "      <td>67.772869</td>\n",
       "      <td>11</td>\n",
       "    </tr>\n",
       "    <tr>\n",
       "      <th>FSLogix</th>\n",
       "      <td>1197.428221</td>\n",
       "      <td>49.892843</td>\n",
       "      <td>24</td>\n",
       "    </tr>\n",
       "    <tr>\n",
       "      <th>Email Auth and Security</th>\n",
       "      <td>1204.119603</td>\n",
       "      <td>92.624585</td>\n",
       "      <td>13</td>\n",
       "    </tr>\n",
       "    <tr>\n",
       "      <th>Azure Functions + Visual Studio</th>\n",
       "      <td>1236.096255</td>\n",
       "      <td>88.292590</td>\n",
       "      <td>14</td>\n",
       "    </tr>\n",
       "    <tr>\n",
       "      <th>Audit Report Tracker (Sharepoint List)</th>\n",
       "      <td>1257.562444</td>\n",
       "      <td>78.597653</td>\n",
       "      <td>16</td>\n",
       "    </tr>\n",
       "    <tr>\n",
       "      <th>IW Migration</th>\n",
       "      <td>1422.358224</td>\n",
       "      <td>101.597016</td>\n",
       "      <td>14</td>\n",
       "    </tr>\n",
       "    <tr>\n",
       "      <th>OData</th>\n",
       "      <td>1439.164307</td>\n",
       "      <td>95.944287</td>\n",
       "      <td>15</td>\n",
       "    </tr>\n",
       "    <tr>\n",
       "      <th>DNS</th>\n",
       "      <td>1471.931940</td>\n",
       "      <td>91.995746</td>\n",
       "      <td>16</td>\n",
       "    </tr>\n",
       "    <tr>\n",
       "      <th>Azure AI Search</th>\n",
       "      <td>1507.399671</td>\n",
       "      <td>107.671405</td>\n",
       "      <td>14</td>\n",
       "    </tr>\n",
       "    <tr>\n",
       "      <th>Home Network Project</th>\n",
       "      <td>1592.198734</td>\n",
       "      <td>83.799933</td>\n",
       "      <td>19</td>\n",
       "    </tr>\n",
       "    <tr>\n",
       "      <th>Debugging in VS Code</th>\n",
       "      <td>1846.108518</td>\n",
       "      <td>80.265588</td>\n",
       "      <td>23</td>\n",
       "    </tr>\n",
       "    <tr>\n",
       "      <th>Open Source/GitHub</th>\n",
       "      <td>1990.127780</td>\n",
       "      <td>99.506389</td>\n",
       "      <td>20</td>\n",
       "    </tr>\n",
       "    <tr>\n",
       "      <th>Azure Functions + PP365</th>\n",
       "      <td>2014.450087</td>\n",
       "      <td>80.578003</td>\n",
       "      <td>25</td>\n",
       "    </tr>\n",
       "    <tr>\n",
       "      <th>SharePoint</th>\n",
       "      <td>2085.312458</td>\n",
       "      <td>122.665439</td>\n",
       "      <td>17</td>\n",
       "    </tr>\n",
       "    <tr>\n",
       "      <th>Vocab</th>\n",
       "      <td>2356.832979</td>\n",
       "      <td>42.086303</td>\n",
       "      <td>56</td>\n",
       "    </tr>\n",
       "    <tr>\n",
       "      <th>WSL + Kali Linux</th>\n",
       "      <td>2583.299681</td>\n",
       "      <td>117.422713</td>\n",
       "      <td>22</td>\n",
       "    </tr>\n",
       "    <tr>\n",
       "      <th>PEP 8</th>\n",
       "      <td>2591.730829</td>\n",
       "      <td>136.406886</td>\n",
       "      <td>19</td>\n",
       "    </tr>\n",
       "    <tr>\n",
       "      <th>Powershell Modules</th>\n",
       "      <td>2662.175288</td>\n",
       "      <td>88.739176</td>\n",
       "      <td>30</td>\n",
       "    </tr>\n",
       "    <tr>\n",
       "      <th>Logging in Python</th>\n",
       "      <td>2799.539420</td>\n",
       "      <td>111.981577</td>\n",
       "      <td>25</td>\n",
       "    </tr>\n",
       "    <tr>\n",
       "      <th>JavaScript Concepts</th>\n",
       "      <td>2839.668847</td>\n",
       "      <td>39.995336</td>\n",
       "      <td>71</td>\n",
       "    </tr>\n",
       "    <tr>\n",
       "      <th>PnP Powershell</th>\n",
       "      <td>2856.035760</td>\n",
       "      <td>75.158836</td>\n",
       "      <td>38</td>\n",
       "    </tr>\n",
       "  </tbody>\n",
       "</table>\n",
       "</div>"
      ],
      "text/plain": [
       "                                            age_sum    age_mean  head_count\n",
       "Todd Ideas                               249.876005   16.658400          15\n",
       "Powershell                               513.571085   51.357108          10\n",
       "Terraform                                655.560285   26.222411          25\n",
       "Azure Functions                          745.501554   67.772869          11\n",
       "FSLogix                                 1197.428221   49.892843          24\n",
       "Email Auth and Security                 1204.119603   92.624585          13\n",
       "Azure Functions + Visual Studio         1236.096255   88.292590          14\n",
       "Audit Report Tracker (Sharepoint List)  1257.562444   78.597653          16\n",
       "IW Migration                            1422.358224  101.597016          14\n",
       "OData                                   1439.164307   95.944287          15\n",
       "DNS                                     1471.931940   91.995746          16\n",
       "Azure AI Search                         1507.399671  107.671405          14\n",
       "Home Network Project                    1592.198734   83.799933          19\n",
       "Debugging in VS Code                    1846.108518   80.265588          23\n",
       "Open Source/GitHub                      1990.127780   99.506389          20\n",
       "Azure Functions + PP365                 2014.450087   80.578003          25\n",
       "SharePoint                              2085.312458  122.665439          17\n",
       "Vocab                                   2356.832979   42.086303          56\n",
       "WSL + Kali Linux                        2583.299681  117.422713          22\n",
       "PEP 8                                   2591.730829  136.406886          19\n",
       "Powershell Modules                      2662.175288   88.739176          30\n",
       "Logging in Python                       2799.539420  111.981577          25\n",
       "JavaScript Concepts                     2839.668847   39.995336          71\n",
       "PnP Powershell                          2856.035760   75.158836          38"
      ]
     },
     "execution_count": 57,
     "metadata": {},
     "output_type": "execute_result"
    }
   ],
   "source": [
    "stats = existing_cards.groupby('head').agg({'age': ['sum', 'mean'], 'head': 'count'}).sort_values(('age', 'sum'))\n",
    "stats.columns = stats.columns.to_flat_index()\n",
    "stats.columns = ['_'.join(col).strip() for col in stats.columns]\n",
    "stats.index.name = None\n",
    "stats"
   ]
  },
  {
   "cell_type": "markdown",
   "metadata": {},
   "source": [
    "# Histogram"
   ]
  },
  {
   "cell_type": "code",
   "execution_count": 58,
   "metadata": {},
   "outputs": [
    {
     "name": "stdout",
     "output_type": "stream",
     "text": [
      "41118.05\n"
     ]
    },
    {
     "data": {
      "text/plain": [
       "<Axes: >"
      ]
     },
     "execution_count": 58,
     "metadata": {},
     "output_type": "execute_result"
    },
    {
     "data": {
      "image/png": "[encoded data removed]",
      "text/plain": [
       "<Figure size 640x480 with 1 Axes>"
      ]
     },
     "metadata": {},
     "output_type": "display_data"
    }
   ],
   "source": [
    "print(f\"{existing_cards['age'].sum(0):.2f}\")\n",
    "existing_cards['age'].hist(bins=20)"
   ]
  },
  {
   "cell_type": "markdown",
   "metadata": {},
   "source": [
    "# Completely Random Shuffle"
   ]
  },
  {
   "cell_type": "code",
   "execution_count": 59,
   "metadata": {},
   "outputs": [],
   "source": [
    "# existing_cards = existing_cards.sample(frac=1)\n",
    "# remake_card_document(filename='certcards2.txt', existing_cards = existing_cards)"
   ]
  },
  {
   "cell_type": "markdown",
   "metadata": {},
   "source": [
    "# Age Sort"
   ]
  },
  {
   "cell_type": "code",
   "execution_count": 60,
   "metadata": {},
   "outputs": [],
   "source": [
    "# existing_cards = existing_cards.sort_values('age', ascending=False)\n",
    "# remake_card_document(filename='certcards2.txt', existing_cards=existing_cards)\n",
    "# existing_cards.head(10)"
   ]
  },
  {
   "cell_type": "markdown",
   "metadata": {},
   "source": [
    "# Headers with fewest notes first"
   ]
  },
  {
   "cell_type": "code",
   "execution_count": 61,
   "metadata": {},
   "outputs": [],
   "source": [
    "# frequency = existing_cards['head'].value_counts(ascending=True)\n",
    "\n",
    "# existing_cards = pd.merge(\n",
    "#     left=existing_cards,\n",
    "#     right=frequency.rename('frequency'),\n",
    "#     left_on='head', right_index=True,\n",
    "#     how='left'\n",
    "# )\n",
    "# existing_cards['oldest'] = existing_cards.groupby('head')['age'].transform('max')\n",
    "# existing_cards['subject_highest_age'] = existing_cards['subject_highest_age'] * -1\n",
    "# existing_cards['age'] = existing_cards['age'] * -1\n",
    "\n",
    "\n",
    "# existing_cards.sort_values(['frequency', 'subject_highest_age', 'age'], ascending=True, inplace=True)\n",
    "\n",
    "# remake_card_document(filename='certcards2.txt', existing_cards=existing_cards)\n",
    "\n",
    "# existing_cards.head(10)"
   ]
  },
  {
   "cell_type": "markdown",
   "metadata": {},
   "source": [
    "# Focus on one header"
   ]
  },
  {
   "cell_type": "code",
   "execution_count": 62,
   "metadata": {},
   "outputs": [],
   "source": [
    "# heads = existing_cards['head'].value_counts()\n",
    "# heads = heads[heads > 5].index.tolist()\n",
    "# one_header = random.sample(heads, 1)[0]\n",
    "# existing_cards['pick_head'] = existing_cards['head'].apply(\n",
    "#     lambda h: 0 if h == one_header else 1 \n",
    "# )\n",
    "\n",
    "# remake_card_document(existing_cards=existing_cards.sort_values('pick_head'))"
   ]
  },
  {
   "cell_type": "markdown",
   "metadata": {},
   "source": [
    "## Header with oldest cards first"
   ]
  },
  {
   "cell_type": "code",
   "execution_count": 63,
   "metadata": {},
   "outputs": [],
   "source": [
    "# existing_cards['oldest'] = existing_cards.groupby('head')['age'].transform('max')\n",
    "# existing_cards.sort_values(['oldest', 'age'], ascending=False, inplace=True)\n",
    "# remake_card_document(existing_cards)"
   ]
  },
  {
   "cell_type": "markdown",
   "metadata": {},
   "source": [
    "## Headers with greatest mean card age first"
   ]
  },
  {
   "cell_type": "code",
   "execution_count": 64,
   "metadata": {},
   "outputs": [],
   "source": [
    "# existing_cards.sort_values(['subject_mean_age', 'age'], ascending=False, inplace=True)\n",
    "# remake_card_document(existing_cards)"
   ]
  },
  {
   "cell_type": "markdown",
   "metadata": {},
   "source": [
    "## Headers with greatest age sum first"
   ]
  },
  {
   "cell_type": "code",
   "execution_count": 65,
   "metadata": {},
   "outputs": [],
   "source": [
    "# existing_cards.sort_values(['subject_age_sum', 'age'], ascending=False, inplace=True)\n",
    "# remake_card_document(existing_cards)"
   ]
  },
  {
   "cell_type": "markdown",
   "metadata": {},
   "source": [
    "# N-fold shuffle\n"
   ]
  },
  {
   "cell_type": "markdown",
   "metadata": {},
   "source": [
    "## Age Sum"
   ]
  },
  {
   "cell_type": "code",
   "execution_count": 66,
   "metadata": {},
   "outputs": [],
   "source": [
    "# n=5\n",
    "# existing_cards['count'] = existing_cards.sort_values('age', ascending=False).groupby('head').cumcount()\n",
    "# existing_cards['n_fold'] = existing_cards['count'] // n\n",
    "\n",
    "# existing_cards['subject_age_sum'] = existing_cards['subject_age_sum'] *-1\n",
    "# existing_cards['age'] = existing_cards['age'] *-1\n",
    "# existing_cards.sort_values(['n_fold', 'subject_age_sum', 'age'], inplace=True)\n",
    "\n",
    "# remake_card_document(existing_cards=existing_cards)\n",
    "# existing_cards.head(10)\n"
   ]
  },
  {
   "cell_type": "markdown",
   "metadata": {},
   "source": [
    "## Age Mean"
   ]
  },
  {
   "cell_type": "code",
   "execution_count": 67,
   "metadata": {},
   "outputs": [
    {
     "name": "stdout",
     "output_type": "stream",
     "text": [
      "Cards found: 552\n"
     ]
    },
    {
     "data": {
      "application/vnd.microsoft.datawrangler.viewer.v0+json": {
       "columns": [
        {
         "name": "index",
         "rawType": "int64",
         "type": "integer"
        },
        {
         "name": "head",
         "rawType": "object",
         "type": "string"
        },
        {
         "name": "body",
         "rawType": "object",
         "type": "string"
        },
        {
         "name": "hash",
         "rawType": "object",
         "type": "string"
        },
        {
         "name": "age",
         "rawType": "float64",
         "type": "float"
        },
        {
         "name": "subject_mean_age",
         "rawType": "float64",
         "type": "float"
        },
        {
         "name": "subject_highest_age",
         "rawType": "float64",
         "type": "float"
        },
        {
         "name": "subject_age_sum",
         "rawType": "float64",
         "type": "float"
        },
        {
         "name": "head_random_roll",
         "rawType": "float64",
         "type": "float"
        },
        {
         "name": "count",
         "rawType": "int64",
         "type": "integer"
        },
        {
         "name": "n_fold",
         "rawType": "int64",
         "type": "integer"
        }
       ],
       "conversionMethod": "pd.DataFrame",
       "ref": "34ade876-573a-40f1-aab4-2d489f6f8839",
       "rows": [
        [
         "110",
         "PEP 8",
         "No Trailing Whitespace: Ensure that there are no unnecessary spaces at the end of lines. Trailing whitespace can clutter the codebase and cause issues with version control diffs. Most editors can be configured to remove trailing spaces automatically.",
         "722b5f984403e1f6cd11dcc77696eecf",
         "-405.6232399816211",
         "-136.40688571438227",
         "405.6232399816211",
         "2591.7308285732634",
         "0.7788947100601075",
         "0",
         "0"
        ],
        [
         "114",
         "PEP 8",
         "No Spaces Around = for Keyword Arguments: Do not use spaces around the = sign when passing keyword arguments in function calls. This rule differentiates keyword arguments from assignment statements.\n\npython\nCopy code\nmy_function(param1=value1, param2=value2)",
         "cdb0fcd9b19b266842b0c49519d735a6",
         "-206.47462627058638",
         "-136.40688571438227",
         "405.6232399816211",
         "2591.7308285732634",
         "0.7788947100601075",
         "3",
         "0"
        ],
        [
         "118",
         "PEP 8",
         "Spaces in Slices and Function Parameters: Do not add spaces inside slicing brackets or between function parameters unless necessary for clarity. Proper spacing maintains clean syntax.\n\npython\nmy_list[1:5]",
         "cd398c511bdf367e157ed38768447784",
         "-155.97463266242332",
         "-136.40688571438227",
         "405.6232399816211",
         "2591.7308285732634",
         "0.7788947100601075",
         "6",
         "0"
        ],
        [
         "124",
         "PEP 8",
         "Keep Imports at the Top: Ensure all import statements are placed at the beginning of the file, right after the module docstring and before any module-level variables or constants. This standard placement improves code organization and makes dependencies immediately visible.",
         "ac82992318dccd2ab7da3f6551edf66a",
         "-103.08103696412688",
         "-136.40688571438227",
         "405.6232399816211",
         "2591.7308285732634",
         "0.7788947100601075",
         "9",
         "0"
        ],
        [
         "288",
         "PEP 8",
         "Limit the Use of Inline Comments: Use inline comments sparingly and only when they add significant clarity. Overusing inline comments can clutter the code and make it harder to read.",
         "7d4f60b7dfcce1d879b0908ec82000aa",
         "-78.66951820340093",
         "-136.40688571438227",
         "405.6232399816211",
         "2591.7308285732634",
         "0.7788947100601075",
         "12",
         "0"
        ],
        [
         "291",
         "PEP 8",
         "Consistent Alignment in Continuation Lines: Align continuation lines either vertically with the opening delimiter or use an extra level of indentation. Consistent alignment improves the visual structure and readability of the code.\n\npython\nCopy code\nresult = some_function(\n    first_argument,\n    second_argument,\n    third_argument,\n)",
         "c4ec2816ddacfbb9db4d1d3c67c19f03",
         "-53.23115108771397",
         "-136.40688571438227",
         "405.6232399816211",
         "2591.7308285732634",
         "0.7788947100601075",
         "15",
         "0"
        ],
        [
         "298",
         "PEP 8",
         "Blank Lines Within Functions: Use single blank lines within functions to separate logical sections or blocks of code. This separation enhances readability without introducing excessive vertical space.\n\npython\ndef process_data(data):\n    cleaned_data = clean(data)\n    \n    result = compute(cleaned_data)\n    \n    return result",
         "17de6f65ae5e4b18f6bea7bc5a5d6b2e",
         "-38.308642683283736",
         "-136.40688571438227",
         "405.6232399816211",
         "2591.7308285732634",
         "0.7788947100601075",
         "18",
         "0"
        ],
        [
         "100",
         "SharePoint",
         "How can you delete a file named \"OldReport.docx\" from the \"Documents\" library using the SharePoint REST API?\n\nDELETE /_api/web/lists/getByTitle('Documents')/files('OldReport.docx')",
         "2a6301873609e19313c38a87765ebb41",
         "-415.5251290181782",
         "-122.66543873382952",
         "415.5251290181782",
         "2085.3124584751017",
         "0.227247267357645",
         "0",
         "0"
        ],
        [
         "103",
         "SharePoint",
         "Whenever possible, the URI for these REST endpoints closely mimics the API signature of the resource in the SharePoint client object model. The main entry points for the REST service represent the site collection and site of the specified context. \n\nTo access a specific site, use the following construction:\n\nhttps://{site_url}/_api/web",
         "9837f7465e8ca357b13ad53bca3256ec",
         "-163.167406313598",
         "-122.66543873382952",
         "415.5251290181782",
         "2085.3124584751017",
         "0.227247267357645",
         "3",
         "0"
        ],
        [
         "106",
         "SharePoint",
         "The __metadata property specifies the type information of the item being created or updated. This helps SharePoint understand the schema of the item, ensuring that the correct fields and data types are used.",
         "1dae8898917850f6d5ec6f2849f27234",
         "-130.47764881449174",
         "-122.66543873382952",
         "415.5251290181782",
         "2085.3124584751017",
         "0.227247267357645",
         "6",
         "0"
        ]
       ],
       "shape": {
        "columns": 10,
        "rows": 10
       }
      },
      "text/html": [
       "<div>\n",
       "<style scoped>\n",
       "    .dataframe tbody tr th:only-of-type {\n",
       "        vertical-align: middle;\n",
       "    }\n",
       "\n",
       "    .dataframe tbody tr th {\n",
       "        vertical-align: top;\n",
       "    }\n",
       "\n",
       "    .dataframe thead th {\n",
       "        text-align: right;\n",
       "    }\n",
       "</style>\n",
       "<table border=\"1\" class=\"dataframe\">\n",
       "  <thead>\n",
       "    <tr style=\"text-align: right;\">\n",
       "      <th></th>\n",
       "      <th>head</th>\n",
       "      <th>body</th>\n",
       "      <th>hash</th>\n",
       "      <th>age</th>\n",
       "      <th>subject_mean_age</th>\n",
       "      <th>subject_highest_age</th>\n",
       "      <th>subject_age_sum</th>\n",
       "      <th>head_random_roll</th>\n",
       "      <th>count</th>\n",
       "      <th>n_fold</th>\n",
       "    </tr>\n",
       "  </thead>\n",
       "  <tbody>\n",
       "    <tr>\n",
       "      <th>110</th>\n",
       "      <td>PEP 8</td>\n",
       "      <td>No Trailing Whitespace: Ensure that there are ...</td>\n",
       "      <td>722b5f984403e1f6cd11dcc77696eecf</td>\n",
       "      <td>-405.623240</td>\n",
       "      <td>-136.406886</td>\n",
       "      <td>405.623240</td>\n",
       "      <td>2591.730829</td>\n",
       "      <td>0.778895</td>\n",
       "      <td>0</td>\n",
       "      <td>0</td>\n",
       "    </tr>\n",
       "    <tr>\n",
       "      <th>114</th>\n",
       "      <td>PEP 8</td>\n",
       "      <td>No Spaces Around = for Keyword Arguments: Do n...</td>\n",
       "      <td>cdb0fcd9b19b266842b0c49519d735a6</td>\n",
       "      <td>-206.474626</td>\n",
       "      <td>-136.406886</td>\n",
       "      <td>405.623240</td>\n",
       "      <td>2591.730829</td>\n",
       "      <td>0.778895</td>\n",
       "      <td>3</td>\n",
       "      <td>0</td>\n",
       "    </tr>\n",
       "    <tr>\n",
       "      <th>118</th>\n",
       "      <td>PEP 8</td>\n",
       "      <td>Spaces in Slices and Function Parameters: Do n...</td>\n",
       "      <td>cd398c511bdf367e157ed38768447784</td>\n",
       "      <td>-155.974633</td>\n",
       "      <td>-136.406886</td>\n",
       "      <td>405.623240</td>\n",
       "      <td>2591.730829</td>\n",
       "      <td>0.778895</td>\n",
       "      <td>6</td>\n",
       "      <td>0</td>\n",
       "    </tr>\n",
       "    <tr>\n",
       "      <th>124</th>\n",
       "      <td>PEP 8</td>\n",
       "      <td>Keep Imports at the Top: Ensure all import sta...</td>\n",
       "      <td>ac82992318dccd2ab7da3f6551edf66a</td>\n",
       "      <td>-103.081037</td>\n",
       "      <td>-136.406886</td>\n",
       "      <td>405.623240</td>\n",
       "      <td>2591.730829</td>\n",
       "      <td>0.778895</td>\n",
       "      <td>9</td>\n",
       "      <td>0</td>\n",
       "    </tr>\n",
       "    <tr>\n",
       "      <th>288</th>\n",
       "      <td>PEP 8</td>\n",
       "      <td>Limit the Use of Inline Comments: Use inline c...</td>\n",
       "      <td>7d4f60b7dfcce1d879b0908ec82000aa</td>\n",
       "      <td>-78.669518</td>\n",
       "      <td>-136.406886</td>\n",
       "      <td>405.623240</td>\n",
       "      <td>2591.730829</td>\n",
       "      <td>0.778895</td>\n",
       "      <td>12</td>\n",
       "      <td>0</td>\n",
       "    </tr>\n",
       "    <tr>\n",
       "      <th>291</th>\n",
       "      <td>PEP 8</td>\n",
       "      <td>Consistent Alignment in Continuation Lines: Al...</td>\n",
       "      <td>c4ec2816ddacfbb9db4d1d3c67c19f03</td>\n",
       "      <td>-53.231151</td>\n",
       "      <td>-136.406886</td>\n",
       "      <td>405.623240</td>\n",
       "      <td>2591.730829</td>\n",
       "      <td>0.778895</td>\n",
       "      <td>15</td>\n",
       "      <td>0</td>\n",
       "    </tr>\n",
       "    <tr>\n",
       "      <th>298</th>\n",
       "      <td>PEP 8</td>\n",
       "      <td>Blank Lines Within Functions: Use single blank...</td>\n",
       "      <td>17de6f65ae5e4b18f6bea7bc5a5d6b2e</td>\n",
       "      <td>-38.308643</td>\n",
       "      <td>-136.406886</td>\n",
       "      <td>405.623240</td>\n",
       "      <td>2591.730829</td>\n",
       "      <td>0.778895</td>\n",
       "      <td>18</td>\n",
       "      <td>0</td>\n",
       "    </tr>\n",
       "    <tr>\n",
       "      <th>100</th>\n",
       "      <td>SharePoint</td>\n",
       "      <td>How can you delete a file named \"OldReport.doc...</td>\n",
       "      <td>2a6301873609e19313c38a87765ebb41</td>\n",
       "      <td>-415.525129</td>\n",
       "      <td>-122.665439</td>\n",
       "      <td>415.525129</td>\n",
       "      <td>2085.312458</td>\n",
       "      <td>0.227247</td>\n",
       "      <td>0</td>\n",
       "      <td>0</td>\n",
       "    </tr>\n",
       "    <tr>\n",
       "      <th>103</th>\n",
       "      <td>SharePoint</td>\n",
       "      <td>Whenever possible, the URI for these REST endp...</td>\n",
       "      <td>9837f7465e8ca357b13ad53bca3256ec</td>\n",
       "      <td>-163.167406</td>\n",
       "      <td>-122.665439</td>\n",
       "      <td>415.525129</td>\n",
       "      <td>2085.312458</td>\n",
       "      <td>0.227247</td>\n",
       "      <td>3</td>\n",
       "      <td>0</td>\n",
       "    </tr>\n",
       "    <tr>\n",
       "      <th>106</th>\n",
       "      <td>SharePoint</td>\n",
       "      <td>The __metadata property specifies the type inf...</td>\n",
       "      <td>1dae8898917850f6d5ec6f2849f27234</td>\n",
       "      <td>-130.477649</td>\n",
       "      <td>-122.665439</td>\n",
       "      <td>415.525129</td>\n",
       "      <td>2085.312458</td>\n",
       "      <td>0.227247</td>\n",
       "      <td>6</td>\n",
       "      <td>0</td>\n",
       "    </tr>\n",
       "  </tbody>\n",
       "</table>\n",
       "</div>"
      ],
      "text/plain": [
       "           head                                               body  \\\n",
       "110       PEP 8  No Trailing Whitespace: Ensure that there are ...   \n",
       "114       PEP 8  No Spaces Around = for Keyword Arguments: Do n...   \n",
       "118       PEP 8  Spaces in Slices and Function Parameters: Do n...   \n",
       "124       PEP 8  Keep Imports at the Top: Ensure all import sta...   \n",
       "288       PEP 8  Limit the Use of Inline Comments: Use inline c...   \n",
       "291       PEP 8  Consistent Alignment in Continuation Lines: Al...   \n",
       "298       PEP 8  Blank Lines Within Functions: Use single blank...   \n",
       "100  SharePoint  How can you delete a file named \"OldReport.doc...   \n",
       "103  SharePoint  Whenever possible, the URI for these REST endp...   \n",
       "106  SharePoint  The __metadata property specifies the type inf...   \n",
       "\n",
       "                                 hash         age  subject_mean_age  \\\n",
       "110  722b5f984403e1f6cd11dcc77696eecf -405.623240       -136.406886   \n",
       "114  cdb0fcd9b19b266842b0c49519d735a6 -206.474626       -136.406886   \n",
       "118  cd398c511bdf367e157ed38768447784 -155.974633       -136.406886   \n",
       "124  ac82992318dccd2ab7da3f6551edf66a -103.081037       -136.406886   \n",
       "288  7d4f60b7dfcce1d879b0908ec82000aa  -78.669518       -136.406886   \n",
       "291  c4ec2816ddacfbb9db4d1d3c67c19f03  -53.231151       -136.406886   \n",
       "298  17de6f65ae5e4b18f6bea7bc5a5d6b2e  -38.308643       -136.406886   \n",
       "100  2a6301873609e19313c38a87765ebb41 -415.525129       -122.665439   \n",
       "103  9837f7465e8ca357b13ad53bca3256ec -163.167406       -122.665439   \n",
       "106  1dae8898917850f6d5ec6f2849f27234 -130.477649       -122.665439   \n",
       "\n",
       "     subject_highest_age  subject_age_sum  head_random_roll  count  n_fold  \n",
       "110           405.623240      2591.730829          0.778895      0       0  \n",
       "114           405.623240      2591.730829          0.778895      3       0  \n",
       "118           405.623240      2591.730829          0.778895      6       0  \n",
       "124           405.623240      2591.730829          0.778895      9       0  \n",
       "288           405.623240      2591.730829          0.778895     12       0  \n",
       "291           405.623240      2591.730829          0.778895     15       0  \n",
       "298           405.623240      2591.730829          0.778895     18       0  \n",
       "100           415.525129      2085.312458          0.227247      0       0  \n",
       "103           415.525129      2085.312458          0.227247      3       0  \n",
       "106           415.525129      2085.312458          0.227247      6       0  "
      ]
     },
     "execution_count": 67,
     "metadata": {},
     "output_type": "execute_result"
    }
   ],
   "source": [
    "n=3\n",
    "existing_cards['count'] = existing_cards.sort_values('age', ascending=False).groupby('head').cumcount()\n",
    "existing_cards['n_fold'] = existing_cards['count'] % n\n",
    "\n",
    "existing_cards['subject_mean_age'] = existing_cards['subject_mean_age'] *-1\n",
    "existing_cards['age'] = existing_cards['age'] *-1\n",
    "existing_cards.sort_values(['n_fold', 'subject_mean_age', 'age'], inplace=True)\n",
    "remake_card_document(existing_cards=existing_cards)\n",
    "\n",
    "existing_cards.head(10)\n",
    "\n"
   ]
  },
  {
   "cell_type": "markdown",
   "metadata": {},
   "source": [
    "## Age Max"
   ]
  },
  {
   "cell_type": "code",
   "execution_count": 68,
   "metadata": {},
   "outputs": [],
   "source": [
    "# n = 5\n",
    "# existing_cards['count'] = existing_cards.sort_values('age', ascending=False).groupby('head').cumcount()\n",
    "# existing_cards['n_fold'] = existing_cards['count'] // n\n",
    "\n",
    "# existing_cards['subject_highest_age'] = existing_cards['subject_highest_age'] *-1\n",
    "# existing_cards['age'] = existing_cards['age'] *-1\n",
    "# existing_cards.sort_values(['n_fold', 'subject_highest_age', 'age'], inplace=True)\n",
    "\n",
    "# remake_card_document(existing_cards=existing_cards)\n",
    "# existing_cards.head(10)\n"
   ]
  },
  {
   "cell_type": "markdown",
   "metadata": {},
   "source": [
    "## Card Count"
   ]
  },
  {
   "cell_type": "code",
   "execution_count": 69,
   "metadata": {},
   "outputs": [],
   "source": [
    "# n=10\n",
    "# existing_cards['frequency']  = existing_cards.groupby('head').transform('count')['body']\n",
    "# existing_cards['count'] = existing_cards.sort_values('age', ascending=False).groupby('head').cumcount()\n",
    "# existing_cards['n_fold'] = existing_cards['count'] // n\n",
    "\n",
    "# existing_cards['subject_mean_age'] = existing_cards['subject_mean_age'] *-1\n",
    "# existing_cards['age'] = existing_cards['age'] *-1\n",
    "# existing_cards.sort_values(['n_fold', 'frequency', 'age'], inplace=True)\n",
    "# remake_card_document(existing_cards=existing_cards)\n",
    "\n",
    "# existing_cards.head(10)\n",
    "\n"
   ]
  },
  {
   "cell_type": "markdown",
   "metadata": {},
   "source": [
    "\n",
    "## Random"
   ]
  },
  {
   "cell_type": "code",
   "execution_count": 70,
   "metadata": {},
   "outputs": [],
   "source": [
    "# n = 3\n",
    "# existing_cards['count'] = existing_cards.sort_values('age', ascending=False).groupby('head').cumcount()\n",
    "# existing_cards['n_fold'] = existing_cards['count'] % n\n",
    "# existing_cards['age'] *= -1\n",
    "# existing_cards.sort_values(['n_fold', 'head_random_roll', 'age'], inplace=True)\n",
    "# remake_card_document(existing_cards=existing_cards)\n",
    "# existing_cards.head(10)"
   ]
  },
  {
   "cell_type": "code",
   "execution_count": 71,
   "metadata": {},
   "outputs": [
    {
     "data": {
      "application/vnd.microsoft.datawrangler.viewer.v0+json": {
       "columns": [
        {
         "name": "index",
         "rawType": "int64",
         "type": "integer"
        },
        {
         "name": "head",
         "rawType": "object",
         "type": "string"
        },
        {
         "name": "body",
         "rawType": "object",
         "type": "string"
        },
        {
         "name": "hash",
         "rawType": "object",
         "type": "string"
        },
        {
         "name": "age",
         "rawType": "float64",
         "type": "float"
        },
        {
         "name": "subject_mean_age",
         "rawType": "float64",
         "type": "float"
        },
        {
         "name": "subject_highest_age",
         "rawType": "float64",
         "type": "float"
        },
        {
         "name": "subject_age_sum",
         "rawType": "float64",
         "type": "float"
        },
        {
         "name": "head_random_roll",
         "rawType": "float64",
         "type": "float"
        },
        {
         "name": "count",
         "rawType": "int64",
         "type": "integer"
        },
        {
         "name": "n_fold",
         "rawType": "int64",
         "type": "integer"
        }
       ],
       "conversionMethod": "pd.DataFrame",
       "ref": "153fbaf0-7298-474a-bb91-460e15c2690c",
       "rows": [
        [
         "110",
         "PEP 8",
         "No Trailing Whitespace: Ensure that there are no unnecessary spaces at the end of lines. Trailing whitespace can clutter the codebase and cause issues with version control diffs. Most editors can be configured to remove trailing spaces automatically.",
         "722b5f984403e1f6cd11dcc77696eecf",
         "-405.6232399816211",
         "-136.40688571438227",
         "405.6232399816211",
         "2591.7308285732634",
         "0.7788947100601075",
         "0",
         "0"
        ],
        [
         "114",
         "PEP 8",
         "No Spaces Around = for Keyword Arguments: Do not use spaces around the = sign when passing keyword arguments in function calls. This rule differentiates keyword arguments from assignment statements.\n\npython\nCopy code\nmy_function(param1=value1, param2=value2)",
         "cdb0fcd9b19b266842b0c49519d735a6",
         "-206.47462627058638",
         "-136.40688571438227",
         "405.6232399816211",
         "2591.7308285732634",
         "0.7788947100601075",
         "3",
         "0"
        ],
        [
         "118",
         "PEP 8",
         "Spaces in Slices and Function Parameters: Do not add spaces inside slicing brackets or between function parameters unless necessary for clarity. Proper spacing maintains clean syntax.\n\npython\nmy_list[1:5]",
         "cd398c511bdf367e157ed38768447784",
         "-155.97463266242332",
         "-136.40688571438227",
         "405.6232399816211",
         "2591.7308285732634",
         "0.7788947100601075",
         "6",
         "0"
        ],
        [
         "124",
         "PEP 8",
         "Keep Imports at the Top: Ensure all import statements are placed at the beginning of the file, right after the module docstring and before any module-level variables or constants. This standard placement improves code organization and makes dependencies immediately visible.",
         "ac82992318dccd2ab7da3f6551edf66a",
         "-103.08103696412688",
         "-136.40688571438227",
         "405.6232399816211",
         "2591.7308285732634",
         "0.7788947100601075",
         "9",
         "0"
        ],
        [
         "288",
         "PEP 8",
         "Limit the Use of Inline Comments: Use inline comments sparingly and only when they add significant clarity. Overusing inline comments can clutter the code and make it harder to read.",
         "7d4f60b7dfcce1d879b0908ec82000aa",
         "-78.66951820340093",
         "-136.40688571438227",
         "405.6232399816211",
         "2591.7308285732634",
         "0.7788947100601075",
         "12",
         "0"
        ],
        [
         "291",
         "PEP 8",
         "Consistent Alignment in Continuation Lines: Align continuation lines either vertically with the opening delimiter or use an extra level of indentation. Consistent alignment improves the visual structure and readability of the code.\n\npython\nCopy code\nresult = some_function(\n    first_argument,\n    second_argument,\n    third_argument,\n)",
         "c4ec2816ddacfbb9db4d1d3c67c19f03",
         "-53.23115108771397",
         "-136.40688571438227",
         "405.6232399816211",
         "2591.7308285732634",
         "0.7788947100601075",
         "15",
         "0"
        ],
        [
         "298",
         "PEP 8",
         "Blank Lines Within Functions: Use single blank lines within functions to separate logical sections or blocks of code. This separation enhances readability without introducing excessive vertical space.\n\npython\ndef process_data(data):\n    cleaned_data = clean(data)\n    \n    result = compute(cleaned_data)\n    \n    return result",
         "17de6f65ae5e4b18f6bea7bc5a5d6b2e",
         "-38.308642683283736",
         "-136.40688571438227",
         "405.6232399816211",
         "2591.7308285732634",
         "0.7788947100601075",
         "18",
         "0"
        ],
        [
         "100",
         "SharePoint",
         "How can you delete a file named \"OldReport.docx\" from the \"Documents\" library using the SharePoint REST API?\n\nDELETE /_api/web/lists/getByTitle('Documents')/files('OldReport.docx')",
         "2a6301873609e19313c38a87765ebb41",
         "-415.5251290181782",
         "-122.66543873382952",
         "415.5251290181782",
         "2085.3124584751017",
         "0.227247267357645",
         "0",
         "0"
        ],
        [
         "103",
         "SharePoint",
         "Whenever possible, the URI for these REST endpoints closely mimics the API signature of the resource in the SharePoint client object model. The main entry points for the REST service represent the site collection and site of the specified context. \n\nTo access a specific site, use the following construction:\n\nhttps://{site_url}/_api/web",
         "9837f7465e8ca357b13ad53bca3256ec",
         "-163.167406313598",
         "-122.66543873382952",
         "415.5251290181782",
         "2085.3124584751017",
         "0.227247267357645",
         "3",
         "0"
        ],
        [
         "106",
         "SharePoint",
         "The __metadata property specifies the type information of the item being created or updated. This helps SharePoint understand the schema of the item, ensuring that the correct fields and data types are used.",
         "1dae8898917850f6d5ec6f2849f27234",
         "-130.47764881449174",
         "-122.66543873382952",
         "415.5251290181782",
         "2085.3124584751017",
         "0.227247267357645",
         "6",
         "0"
        ]
       ],
       "shape": {
        "columns": 10,
        "rows": 10
       }
      },
      "text/html": [
       "<div>\n",
       "<style scoped>\n",
       "    .dataframe tbody tr th:only-of-type {\n",
       "        vertical-align: middle;\n",
       "    }\n",
       "\n",
       "    .dataframe tbody tr th {\n",
       "        vertical-align: top;\n",
       "    }\n",
       "\n",
       "    .dataframe thead th {\n",
       "        text-align: right;\n",
       "    }\n",
       "</style>\n",
       "<table border=\"1\" class=\"dataframe\">\n",
       "  <thead>\n",
       "    <tr style=\"text-align: right;\">\n",
       "      <th></th>\n",
       "      <th>head</th>\n",
       "      <th>body</th>\n",
       "      <th>hash</th>\n",
       "      <th>age</th>\n",
       "      <th>subject_mean_age</th>\n",
       "      <th>subject_highest_age</th>\n",
       "      <th>subject_age_sum</th>\n",
       "      <th>head_random_roll</th>\n",
       "      <th>count</th>\n",
       "      <th>n_fold</th>\n",
       "    </tr>\n",
       "  </thead>\n",
       "  <tbody>\n",
       "    <tr>\n",
       "      <th>110</th>\n",
       "      <td>PEP 8</td>\n",
       "      <td>No Trailing Whitespace: Ensure that there are ...</td>\n",
       "      <td>722b5f984403e1f6cd11dcc77696eecf</td>\n",
       "      <td>-405.623240</td>\n",
       "      <td>-136.406886</td>\n",
       "      <td>405.623240</td>\n",
       "      <td>2591.730829</td>\n",
       "      <td>0.778895</td>\n",
       "      <td>0</td>\n",
       "      <td>0</td>\n",
       "    </tr>\n",
       "    <tr>\n",
       "      <th>114</th>\n",
       "      <td>PEP 8</td>\n",
       "      <td>No Spaces Around = for Keyword Arguments: Do n...</td>\n",
       "      <td>cdb0fcd9b19b266842b0c49519d735a6</td>\n",
       "      <td>-206.474626</td>\n",
       "      <td>-136.406886</td>\n",
       "      <td>405.623240</td>\n",
       "      <td>2591.730829</td>\n",
       "      <td>0.778895</td>\n",
       "      <td>3</td>\n",
       "      <td>0</td>\n",
       "    </tr>\n",
       "    <tr>\n",
       "      <th>118</th>\n",
       "      <td>PEP 8</td>\n",
       "      <td>Spaces in Slices and Function Parameters: Do n...</td>\n",
       "      <td>cd398c511bdf367e157ed38768447784</td>\n",
       "      <td>-155.974633</td>\n",
       "      <td>-136.406886</td>\n",
       "      <td>405.623240</td>\n",
       "      <td>2591.730829</td>\n",
       "      <td>0.778895</td>\n",
       "      <td>6</td>\n",
       "      <td>0</td>\n",
       "    </tr>\n",
       "    <tr>\n",
       "      <th>124</th>\n",
       "      <td>PEP 8</td>\n",
       "      <td>Keep Imports at the Top: Ensure all import sta...</td>\n",
       "      <td>ac82992318dccd2ab7da3f6551edf66a</td>\n",
       "      <td>-103.081037</td>\n",
       "      <td>-136.406886</td>\n",
       "      <td>405.623240</td>\n",
       "      <td>2591.730829</td>\n",
       "      <td>0.778895</td>\n",
       "      <td>9</td>\n",
       "      <td>0</td>\n",
       "    </tr>\n",
       "    <tr>\n",
       "      <th>288</th>\n",
       "      <td>PEP 8</td>\n",
       "      <td>Limit the Use of Inline Comments: Use inline c...</td>\n",
       "      <td>7d4f60b7dfcce1d879b0908ec82000aa</td>\n",
       "      <td>-78.669518</td>\n",
       "      <td>-136.406886</td>\n",
       "      <td>405.623240</td>\n",
       "      <td>2591.730829</td>\n",
       "      <td>0.778895</td>\n",
       "      <td>12</td>\n",
       "      <td>0</td>\n",
       "    </tr>\n",
       "    <tr>\n",
       "      <th>291</th>\n",
       "      <td>PEP 8</td>\n",
       "      <td>Consistent Alignment in Continuation Lines: Al...</td>\n",
       "      <td>c4ec2816ddacfbb9db4d1d3c67c19f03</td>\n",
       "      <td>-53.231151</td>\n",
       "      <td>-136.406886</td>\n",
       "      <td>405.623240</td>\n",
       "      <td>2591.730829</td>\n",
       "      <td>0.778895</td>\n",
       "      <td>15</td>\n",
       "      <td>0</td>\n",
       "    </tr>\n",
       "    <tr>\n",
       "      <th>298</th>\n",
       "      <td>PEP 8</td>\n",
       "      <td>Blank Lines Within Functions: Use single blank...</td>\n",
       "      <td>17de6f65ae5e4b18f6bea7bc5a5d6b2e</td>\n",
       "      <td>-38.308643</td>\n",
       "      <td>-136.406886</td>\n",
       "      <td>405.623240</td>\n",
       "      <td>2591.730829</td>\n",
       "      <td>0.778895</td>\n",
       "      <td>18</td>\n",
       "      <td>0</td>\n",
       "    </tr>\n",
       "    <tr>\n",
       "      <th>100</th>\n",
       "      <td>SharePoint</td>\n",
       "      <td>How can you delete a file named \"OldReport.doc...</td>\n",
       "      <td>2a6301873609e19313c38a87765ebb41</td>\n",
       "      <td>-415.525129</td>\n",
       "      <td>-122.665439</td>\n",
       "      <td>415.525129</td>\n",
       "      <td>2085.312458</td>\n",
       "      <td>0.227247</td>\n",
       "      <td>0</td>\n",
       "      <td>0</td>\n",
       "    </tr>\n",
       "    <tr>\n",
       "      <th>103</th>\n",
       "      <td>SharePoint</td>\n",
       "      <td>Whenever possible, the URI for these REST endp...</td>\n",
       "      <td>9837f7465e8ca357b13ad53bca3256ec</td>\n",
       "      <td>-163.167406</td>\n",
       "      <td>-122.665439</td>\n",
       "      <td>415.525129</td>\n",
       "      <td>2085.312458</td>\n",
       "      <td>0.227247</td>\n",
       "      <td>3</td>\n",
       "      <td>0</td>\n",
       "    </tr>\n",
       "    <tr>\n",
       "      <th>106</th>\n",
       "      <td>SharePoint</td>\n",
       "      <td>The __metadata property specifies the type inf...</td>\n",
       "      <td>1dae8898917850f6d5ec6f2849f27234</td>\n",
       "      <td>-130.477649</td>\n",
       "      <td>-122.665439</td>\n",
       "      <td>415.525129</td>\n",
       "      <td>2085.312458</td>\n",
       "      <td>0.227247</td>\n",
       "      <td>6</td>\n",
       "      <td>0</td>\n",
       "    </tr>\n",
       "  </tbody>\n",
       "</table>\n",
       "</div>"
      ],
      "text/plain": [
       "           head                                               body  \\\n",
       "110       PEP 8  No Trailing Whitespace: Ensure that there are ...   \n",
       "114       PEP 8  No Spaces Around = for Keyword Arguments: Do n...   \n",
       "118       PEP 8  Spaces in Slices and Function Parameters: Do n...   \n",
       "124       PEP 8  Keep Imports at the Top: Ensure all import sta...   \n",
       "288       PEP 8  Limit the Use of Inline Comments: Use inline c...   \n",
       "291       PEP 8  Consistent Alignment in Continuation Lines: Al...   \n",
       "298       PEP 8  Blank Lines Within Functions: Use single blank...   \n",
       "100  SharePoint  How can you delete a file named \"OldReport.doc...   \n",
       "103  SharePoint  Whenever possible, the URI for these REST endp...   \n",
       "106  SharePoint  The __metadata property specifies the type inf...   \n",
       "\n",
       "                                 hash         age  subject_mean_age  \\\n",
       "110  722b5f984403e1f6cd11dcc77696eecf -405.623240       -136.406886   \n",
       "114  cdb0fcd9b19b266842b0c49519d735a6 -206.474626       -136.406886   \n",
       "118  cd398c511bdf367e157ed38768447784 -155.974633       -136.406886   \n",
       "124  ac82992318dccd2ab7da3f6551edf66a -103.081037       -136.406886   \n",
       "288  7d4f60b7dfcce1d879b0908ec82000aa  -78.669518       -136.406886   \n",
       "291  c4ec2816ddacfbb9db4d1d3c67c19f03  -53.231151       -136.406886   \n",
       "298  17de6f65ae5e4b18f6bea7bc5a5d6b2e  -38.308643       -136.406886   \n",
       "100  2a6301873609e19313c38a87765ebb41 -415.525129       -122.665439   \n",
       "103  9837f7465e8ca357b13ad53bca3256ec -163.167406       -122.665439   \n",
       "106  1dae8898917850f6d5ec6f2849f27234 -130.477649       -122.665439   \n",
       "\n",
       "     subject_highest_age  subject_age_sum  head_random_roll  count  n_fold  \n",
       "110           405.623240      2591.730829          0.778895      0       0  \n",
       "114           405.623240      2591.730829          0.778895      3       0  \n",
       "118           405.623240      2591.730829          0.778895      6       0  \n",
       "124           405.623240      2591.730829          0.778895      9       0  \n",
       "288           405.623240      2591.730829          0.778895     12       0  \n",
       "291           405.623240      2591.730829          0.778895     15       0  \n",
       "298           405.623240      2591.730829          0.778895     18       0  \n",
       "100           415.525129      2085.312458          0.227247      0       0  \n",
       "103           415.525129      2085.312458          0.227247      3       0  \n",
       "106           415.525129      2085.312458          0.227247      6       0  "
      ]
     },
     "execution_count": 71,
     "metadata": {},
     "output_type": "execute_result"
    }
   ],
   "source": [
    "existing_cards.head(10)"
   ]
  },
  {
   "cell_type": "code",
   "execution_count": 72,
   "metadata": {},
   "outputs": [
    {
     "data": {
      "text/plain": [
       "-74.48922097099047"
      ]
     },
     "execution_count": 72,
     "metadata": {},
     "output_type": "execute_result"
    }
   ],
   "source": [
    "existing_cards['age'].mean()"
   ]
  }
 ],
 "metadata": {
  "kernelspec": {
   "display_name": "Python 3",
   "language": "python",
   "name": "python3"
  },
  "language_info": {
   "codemirror_mode": {
    "name": "ipython",
    "version": 3
   },
   "file_extension": ".py",
   "mimetype": "text/x-python",
   "name": "python",
   "nbconvert_exporter": "python",
   "pygments_lexer": "ipython3",
   "version": "3.10.10"
  }
 },
 "nbformat": 4,
 "nbformat_minor": 2
}
