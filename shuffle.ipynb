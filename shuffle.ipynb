{
 "cells": [
  {
   "cell_type": "code",
   "execution_count": 19,
   "metadata": {},
   "outputs": [],
   "source": [
    "import re\n",
    "import random\n",
    "import pandas as pd\n",
    "import hashlib"
   ]
  },
  {
   "cell_type": "code",
   "execution_count": 20,
   "metadata": {},
   "outputs": [],
   "source": [
    "with open('certcards2.txt', mode='r', encoding='utf8') as f:\n",
    "    all_cards = f.read()\n",
    "    \n",
    "card_split_pattern = r'\\n\\n\\n\\d+\\n'\n",
    "all_cards = re.split(card_split_pattern, all_cards)\n",
    "# Use re.DOTALL to allow . to match newline characters\n",
    "card_pattern = re.compile(r'(.+?)\\n([\\s\\S]+)', re.DOTALL)\n",
    "cards = [(match.group(1), match.group(2)) for cstring in all_cards if (match := re.search(card_pattern, cstring))]\n",
    "\n",
    "# removing the cards that have no content and trimming\n",
    "cards = [(subject, stripped_content) for subject, content in cards if len(stripped_content := content.strip()) > 5]\n",
    "\n",
    "def hash_string_md5(s):\n",
    "    \"\"\"\n",
    "    Hashes a string using MD5 and returns a truncated hash for efficiency.\n",
    "\n",
    "    Parameters:\n",
    "    - s (str): The input string to hash.\n",
    "\n",
    "    Returns:\n",
    "    - str: The truncated hexadecimal hash string.\n",
    "    \"\"\"\n",
    "    if pd.isnull(s):\n",
    "        return None  # Handle NaN values gracefully\n",
    "    return hashlib.md5(s.encode('utf-8')).hexdigest()\n",
    "\n",
    "\n",
    "def remake_card_document(existing_cards: pd.DataFrame, filename: str='certcards2.txt'):\n",
    "    with open(filename, mode='w', encoding='utf8') as f:\n",
    "        i = 1\n",
    "        for _, row in existing_cards.iterrows():\n",
    "            f.write('\\n'*6)\n",
    "            f.write(str(i)+'\\n')  \n",
    "            f.write(row['head']+'\\n')\n",
    "            f.write(row['body'])\n",
    "            i+=1\n",
    "    print(F\"Cards found: {existing_cards.shape[0]}\")\n",
    "    print(F\"Total card age: {abs(existing_cards['age'].sum()):.2f}\")\n",
    "\n",
    "\n",
    "existing_cards = pd.DataFrame(cards, columns=['head', 'body'])\n",
    "\n",
    "\n",
    "# existing_cards['age'] = [random.random() for _ in existing_cards.index]\n",
    "existing_cards['hash'] = existing_cards['body'].apply(hash_string_md5)\n",
    "existing_cards\n",
    "\n",
    "card_ages = pd.read_json('card_ages.json')\n",
    "card_ages = card_ages.drop_duplicates(subset=['hash'], keep='first')\n",
    "\n",
    "cards_to_age = pd.merge(\n",
    "    left=existing_cards,\n",
    "    right=card_ages[['hash', 'age']],\n",
    "    left_on='hash', right_on='hash',\n",
    "    how='left'\n",
    ")\n",
    "\n",
    "cards_to_age['head'] = cards_to_age['head'].str.strip()\n",
    "\n",
    "if cards_to_age['age'].mean() > 80: age_factor = .5\n",
    "else: age_factor = 1\n",
    "\n",
    "cards_to_age['age'] = cards_to_age['age'].fillna(0)\n",
    "# cards_to_age['age'] = cards_to_age['age'] * age_factor\n",
    "cards_to_age['age'] = cards_to_age['age'] + [random.expovariate(.60) for _ in cards_to_age.index]\n",
    "# cards_to_age['age'] = cards_to_age['age'] * [random.expovariate(1/age_factor) for _ in cards_to_age.index]\n",
    "\n",
    "# Adding priority age growth to cards for upcoming certifications\n",
    "priority_headers = ['Azure Developer Associate']\n",
    "priority_cards_mask = cards_to_age['head'].isin(priority_headers)\n",
    "cards_to_age.loc[priority_cards_mask, 'age'] = cards_to_age.loc[priority_cards_mask, 'age'] * 1.05\n",
    "\n",
    "cards_to_age = cards_to_age.drop_duplicates(subset=['hash'], keep='first')\n",
    "\n",
    "cards_to_age['subject_mean_age'] = cards_to_age.groupby('head')['age'].transform('mean')\n",
    "cards_to_age['subject_highest_age'] = cards_to_age.groupby('head')['age'].transform('max')\n",
    "cards_to_age['subject_age_sum'] = cards_to_age.groupby('head')['age'].transform('sum')\n",
    "cards_to_age['head_random_roll'] = cards_to_age.groupby('head')['head'].transform(lambda x: random.random())\n",
    "\n",
    "\n",
    "cards_to_age.sort_values('hash')[['age', 'head', 'hash']].to_json('card_ages.json', indent=2)\n",
    "\n",
    "existing_cards = cards_to_age"
   ]
  },
  {
   "cell_type": "code",
   "execution_count": 21,
   "metadata": {},
   "outputs": [
    {
     "data": {
      "text/html": [
       "<div>\n",
       "<style scoped>\n",
       "    .dataframe tbody tr th:only-of-type {\n",
       "        vertical-align: middle;\n",
       "    }\n",
       "\n",
       "    .dataframe tbody tr th {\n",
       "        vertical-align: top;\n",
       "    }\n",
       "\n",
       "    .dataframe thead th {\n",
       "        text-align: right;\n",
       "    }\n",
       "</style>\n",
       "<table border=\"1\" class=\"dataframe\">\n",
       "  <thead>\n",
       "    <tr style=\"text-align: right;\">\n",
       "      <th></th>\n",
       "      <th>age_sum</th>\n",
       "      <th>age_mean</th>\n",
       "      <th>age_max</th>\n",
       "      <th>head_count</th>\n",
       "    </tr>\n",
       "  </thead>\n",
       "  <tbody>\n",
       "    <tr>\n",
       "      <th>SharePoint</th>\n",
       "      <td>111.406145</td>\n",
       "      <td>27.851536</td>\n",
       "      <td>36.399930</td>\n",
       "      <td>4</td>\n",
       "    </tr>\n",
       "    <tr>\n",
       "      <th>RAG Project</th>\n",
       "      <td>293.534158</td>\n",
       "      <td>18.345885</td>\n",
       "      <td>37.369578</td>\n",
       "      <td>16</td>\n",
       "    </tr>\n",
       "    <tr>\n",
       "      <th>Asynchronous Python</th>\n",
       "      <td>470.938562</td>\n",
       "      <td>10.237795</td>\n",
       "      <td>24.317480</td>\n",
       "      <td>46</td>\n",
       "    </tr>\n",
       "    <tr>\n",
       "      <th>Azure AD Authentication</th>\n",
       "      <td>524.728434</td>\n",
       "      <td>40.363726</td>\n",
       "      <td>93.712630</td>\n",
       "      <td>13</td>\n",
       "    </tr>\n",
       "    <tr>\n",
       "      <th>Azure DevOps Pipelines</th>\n",
       "      <td>640.591026</td>\n",
       "      <td>24.638116</td>\n",
       "      <td>93.734438</td>\n",
       "      <td>26</td>\n",
       "    </tr>\n",
       "    <tr>\n",
       "      <th>Azure Functions + Visual Studio</th>\n",
       "      <td>772.933708</td>\n",
       "      <td>59.456439</td>\n",
       "      <td>263.891419</td>\n",
       "      <td>13</td>\n",
       "    </tr>\n",
       "    <tr>\n",
       "      <th>Email Auth and Security</th>\n",
       "      <td>807.065726</td>\n",
       "      <td>67.255477</td>\n",
       "      <td>181.338080</td>\n",
       "      <td>12</td>\n",
       "    </tr>\n",
       "    <tr>\n",
       "      <th>Open Source/GitHub</th>\n",
       "      <td>852.208205</td>\n",
       "      <td>53.263013</td>\n",
       "      <td>162.285687</td>\n",
       "      <td>16</td>\n",
       "    </tr>\n",
       "    <tr>\n",
       "      <th>Audit Report Tracker (Sharepoint List)</th>\n",
       "      <td>1028.723656</td>\n",
       "      <td>85.726971</td>\n",
       "      <td>362.116736</td>\n",
       "      <td>12</td>\n",
       "    </tr>\n",
       "    <tr>\n",
       "      <th>WSL + Kali Linux</th>\n",
       "      <td>1233.981997</td>\n",
       "      <td>88.141571</td>\n",
       "      <td>301.158420</td>\n",
       "      <td>14</td>\n",
       "    </tr>\n",
       "    <tr>\n",
       "      <th>Debugging in VS Code</th>\n",
       "      <td>1297.484470</td>\n",
       "      <td>68.288656</td>\n",
       "      <td>387.565197</td>\n",
       "      <td>19</td>\n",
       "    </tr>\n",
       "    <tr>\n",
       "      <th>Azure Functions + PP365</th>\n",
       "      <td>1439.524478</td>\n",
       "      <td>68.548785</td>\n",
       "      <td>179.900513</td>\n",
       "      <td>21</td>\n",
       "    </tr>\n",
       "    <tr>\n",
       "      <th>Terraform</th>\n",
       "      <td>1567.305139</td>\n",
       "      <td>62.692206</td>\n",
       "      <td>295.302690</td>\n",
       "      <td>25</td>\n",
       "    </tr>\n",
       "    <tr>\n",
       "      <th>Todd Ideas</th>\n",
       "      <td>1632.929988</td>\n",
       "      <td>108.861999</td>\n",
       "      <td>392.518396</td>\n",
       "      <td>15</td>\n",
       "    </tr>\n",
       "    <tr>\n",
       "      <th>IW Migration</th>\n",
       "      <td>1870.091368</td>\n",
       "      <td>133.577955</td>\n",
       "      <td>599.888165</td>\n",
       "      <td>14</td>\n",
       "    </tr>\n",
       "    <tr>\n",
       "      <th>FSLogix</th>\n",
       "      <td>2031.300913</td>\n",
       "      <td>88.317431</td>\n",
       "      <td>305.456764</td>\n",
       "      <td>23</td>\n",
       "    </tr>\n",
       "    <tr>\n",
       "      <th>Python</th>\n",
       "      <td>2433.622381</td>\n",
       "      <td>51.779200</td>\n",
       "      <td>149.142175</td>\n",
       "      <td>47</td>\n",
       "    </tr>\n",
       "    <tr>\n",
       "      <th>PnP PowerShell</th>\n",
       "      <td>2952.756936</td>\n",
       "      <td>41.010513</td>\n",
       "      <td>395.104037</td>\n",
       "      <td>72</td>\n",
       "    </tr>\n",
       "    <tr>\n",
       "      <th>JavaScript Concepts</th>\n",
       "      <td>3509.222614</td>\n",
       "      <td>66.211747</td>\n",
       "      <td>322.843963</td>\n",
       "      <td>53</td>\n",
       "    </tr>\n",
       "    <tr>\n",
       "      <th>Azure Developer Associate</th>\n",
       "      <td>3671.302393</td>\n",
       "      <td>51.708484</td>\n",
       "      <td>576.098575</td>\n",
       "      <td>71</td>\n",
       "    </tr>\n",
       "    <tr>\n",
       "      <th>Vocab</th>\n",
       "      <td>3769.876597</td>\n",
       "      <td>44.351489</td>\n",
       "      <td>327.736311</td>\n",
       "      <td>85</td>\n",
       "    </tr>\n",
       "    <tr>\n",
       "      <th>Logging in Python</th>\n",
       "      <td>4168.635982</td>\n",
       "      <td>112.665837</td>\n",
       "      <td>466.711367</td>\n",
       "      <td>37</td>\n",
       "    </tr>\n",
       "    <tr>\n",
       "      <th>Powershell Modules</th>\n",
       "      <td>4690.516630</td>\n",
       "      <td>99.798226</td>\n",
       "      <td>814.646835</td>\n",
       "      <td>47</td>\n",
       "    </tr>\n",
       "  </tbody>\n",
       "</table>\n",
       "</div>"
      ],
      "text/plain": [
       "                                            age_sum    age_mean     age_max  \\\n",
       "SharePoint                               111.406145   27.851536   36.399930   \n",
       "RAG Project                              293.534158   18.345885   37.369578   \n",
       "Asynchronous Python                      470.938562   10.237795   24.317480   \n",
       "Azure AD Authentication                  524.728434   40.363726   93.712630   \n",
       "Azure DevOps Pipelines                   640.591026   24.638116   93.734438   \n",
       "Azure Functions + Visual Studio          772.933708   59.456439  263.891419   \n",
       "Email Auth and Security                  807.065726   67.255477  181.338080   \n",
       "Open Source/GitHub                       852.208205   53.263013  162.285687   \n",
       "Audit Report Tracker (Sharepoint List)  1028.723656   85.726971  362.116736   \n",
       "WSL + Kali Linux                        1233.981997   88.141571  301.158420   \n",
       "Debugging in VS Code                    1297.484470   68.288656  387.565197   \n",
       "Azure Functions + PP365                 1439.524478   68.548785  179.900513   \n",
       "Terraform                               1567.305139   62.692206  295.302690   \n",
       "Todd Ideas                              1632.929988  108.861999  392.518396   \n",
       "IW Migration                            1870.091368  133.577955  599.888165   \n",
       "FSLogix                                 2031.300913   88.317431  305.456764   \n",
       "Python                                  2433.622381   51.779200  149.142175   \n",
       "PnP PowerShell                          2952.756936   41.010513  395.104037   \n",
       "JavaScript Concepts                     3509.222614   66.211747  322.843963   \n",
       "Azure Developer Associate               3671.302393   51.708484  576.098575   \n",
       "Vocab                                   3769.876597   44.351489  327.736311   \n",
       "Logging in Python                       4168.635982  112.665837  466.711367   \n",
       "Powershell Modules                      4690.516630   99.798226  814.646835   \n",
       "\n",
       "                                        head_count  \n",
       "SharePoint                                       4  \n",
       "RAG Project                                     16  \n",
       "Asynchronous Python                             46  \n",
       "Azure AD Authentication                         13  \n",
       "Azure DevOps Pipelines                          26  \n",
       "Azure Functions + Visual Studio                 13  \n",
       "Email Auth and Security                         12  \n",
       "Open Source/GitHub                              16  \n",
       "Audit Report Tracker (Sharepoint List)          12  \n",
       "WSL + Kali Linux                                14  \n",
       "Debugging in VS Code                            19  \n",
       "Azure Functions + PP365                         21  \n",
       "Terraform                                       25  \n",
       "Todd Ideas                                      15  \n",
       "IW Migration                                    14  \n",
       "FSLogix                                         23  \n",
       "Python                                          47  \n",
       "PnP PowerShell                                  72  \n",
       "JavaScript Concepts                             53  \n",
       "Azure Developer Associate                       71  \n",
       "Vocab                                           85  \n",
       "Logging in Python                               37  \n",
       "Powershell Modules                              47  "
      ]
     },
     "execution_count": 21,
     "metadata": {},
     "output_type": "execute_result"
    }
   ],
   "source": [
    "stats = existing_cards.groupby('head').agg({'age': ['sum', 'mean', 'max'], 'head': 'count'}).sort_values(('age', 'sum'))\n",
    "stats.columns = stats.columns.to_flat_index()\n",
    "stats.columns = ['_'.join(col).strip() for col in stats.columns]\n",
    "stats.index.name = None\n",
    "stats"
   ]
  },
  {
   "cell_type": "markdown",
   "metadata": {},
   "source": [
    "# Histogram"
   ]
  },
  {
   "cell_type": "code",
   "execution_count": 22,
   "metadata": {},
   "outputs": [
    {
     "name": "stdout",
     "output_type": "stream",
     "text": [
      "sum of ages: ~41770.68\n"
     ]
    },
    {
     "data": {
      "text/plain": [
       "<Axes: >"
      ]
     },
     "execution_count": 22,
     "metadata": {},
     "output_type": "execute_result"
    },
    {
     "data": {
      "image/png": "[encoded data removed]",
      "text/plain": [
       "<Figure size 640x480 with 1 Axes>"
      ]
     },
     "metadata": {},
     "output_type": "display_data"
    }
   ],
   "source": [
    "print(f\"sum of ages: ~{existing_cards['age'].sum(0):.2f}\")\n",
    "existing_cards['age'].hist(bins=20)"
   ]
  },
  {
   "cell_type": "markdown",
   "metadata": {},
   "source": [
    "# Completely Random Shuffle"
   ]
  },
  {
   "cell_type": "code",
   "execution_count": 23,
   "metadata": {},
   "outputs": [],
   "source": [
    "# existing_cards = existing_cards.sample(frac=1)\n",
    "# remake_card_document(filename='certcards2.txt', existing_cards = existing_cards)"
   ]
  },
  {
   "cell_type": "markdown",
   "metadata": {},
   "source": [
    "# Age Sort"
   ]
  },
  {
   "cell_type": "code",
   "execution_count": 24,
   "metadata": {},
   "outputs": [],
   "source": [
    "# existing_cards = existing_cards.sort_values('age', ascending=False)\n",
    "# remake_card_document(filename='certcards2.txt', existing_cards=existing_cards)\n",
    "# existing_cards.head(10)"
   ]
  },
  {
   "cell_type": "markdown",
   "metadata": {},
   "source": [
    "# Headers with fewest notes first"
   ]
  },
  {
   "cell_type": "code",
   "execution_count": 25,
   "metadata": {},
   "outputs": [],
   "source": [
    "# frequency = existing_cards['head'].value_counts(ascending=True)\n",
    "\n",
    "# existing_cards = pd.merge(\n",
    "#     left=existing_cards,\n",
    "#     right=frequency.rename('frequency'),\n",
    "#     left_on='head', right_index=True,\n",
    "#     how='left'\n",
    "# )\n",
    "# existing_cards['oldest'] = existing_cards.groupby('head')['age'].transform('max')\n",
    "# existing_cards['subject_highest_age'] = existing_cards['subject_highest_age'] * -1\n",
    "# existing_cards['age'] = existing_cards['age'] * -1\n",
    "\n",
    "\n",
    "# existing_cards.sort_values(['frequency', 'subject_highest_age', 'age'], ascending=True, inplace=True)\n",
    "\n",
    "# remake_card_document(filename='certcards2.txt', existing_cards=existing_cards)\n",
    "\n",
    "# existing_cards.head(10)"
   ]
  },
  {
   "cell_type": "markdown",
   "metadata": {},
   "source": [
    "# Focus on one header"
   ]
  },
  {
   "cell_type": "code",
   "execution_count": 26,
   "metadata": {},
   "outputs": [],
   "source": [
    "# heads = existing_cards['head'].value_counts()\n",
    "# heads = heads[heads > 5].index.tolist()\n",
    "# one_header = random.sample(heads, 1)[0]\n",
    "# existing_cards['pick_head'] = existing_cards['head'].apply(\n",
    "#     lambda h: 0 if h == one_header else 1 \n",
    "# )\n",
    "\n",
    "# remake_card_document(existing_cards=existing_cards.sort_values('pick_head'))"
   ]
  },
  {
   "cell_type": "markdown",
   "metadata": {},
   "source": [
    "## Header with oldest cards first"
   ]
  },
  {
   "cell_type": "code",
   "execution_count": 27,
   "metadata": {},
   "outputs": [],
   "source": [
    "# existing_cards['oldest'] = existing_cards.groupby('head')['age'].transform('max')\n",
    "# existing_cards.sort_values(['oldest', 'age'], ascending=False, inplace=True)\n",
    "# remake_card_document(existing_cards)"
   ]
  },
  {
   "cell_type": "markdown",
   "metadata": {},
   "source": [
    "## Headers with greatest mean card age first"
   ]
  },
  {
   "cell_type": "code",
   "execution_count": 28,
   "metadata": {},
   "outputs": [],
   "source": [
    "# existing_cards.sort_values(['subject_mean_age', 'age'], ascending=False, inplace=True)\n",
    "# remake_card_document(existing_cards)"
   ]
  },
  {
   "cell_type": "markdown",
   "metadata": {},
   "source": [
    "## Headers with greatest age sum first"
   ]
  },
  {
   "cell_type": "code",
   "execution_count": 29,
   "metadata": {},
   "outputs": [],
   "source": [
    "# existing_cards.sort_values(['subject_age_sum', 'age'], ascending=False, inplace=True)\n",
    "# remake_card_document(existing_cards)"
   ]
  },
  {
   "cell_type": "markdown",
   "metadata": {},
   "source": [
    "# N-fold shuffle\n"
   ]
  },
  {
   "cell_type": "markdown",
   "metadata": {},
   "source": [
    "## Age Sum"
   ]
  },
  {
   "cell_type": "code",
   "execution_count": 30,
   "metadata": {},
   "outputs": [],
   "source": [
    "# n=3\n",
    "# existing_cards['count'] = existing_cards.sort_values('age', ascending=False).groupby('head').cumcount()\n",
    "# existing_cards['n_fold'] = existing_cards['count'] % n\n",
    "\n",
    "# existing_cards['subject_age_sum'] = existing_cards['subject_age_sum'] *-1\n",
    "# existing_cards['age'] = existing_cards['age'] *-1\n",
    "# existing_cards.sort_values(['n_fold', 'subject_age_sum', 'age'], inplace=True)\n",
    "\n",
    "# remake_card_document(existing_cards=existing_cards)\n",
    "# existing_cards.head(10)\n"
   ]
  },
  {
   "cell_type": "markdown",
   "metadata": {},
   "source": [
    "## Age Mean"
   ]
  },
  {
   "cell_type": "code",
   "execution_count": null,
   "metadata": {},
   "outputs": [
    {
     "name": "stdout",
     "output_type": "stream",
     "text": [
      "Cards found: 701\n",
      "Total card age: 41770.68\n"
     ]
    },
    {
     "data": {
      "text/html": [
       "<div>\n",
       "<style scoped>\n",
       "    .dataframe tbody tr th:only-of-type {\n",
       "        vertical-align: middle;\n",
       "    }\n",
       "\n",
       "    .dataframe tbody tr th {\n",
       "        vertical-align: top;\n",
       "    }\n",
       "\n",
       "    .dataframe thead th {\n",
       "        text-align: right;\n",
       "    }\n",
       "</style>\n",
       "<table border=\"1\" class=\"dataframe\">\n",
       "  <thead>\n",
       "    <tr style=\"text-align: right;\">\n",
       "      <th></th>\n",
       "      <th>head</th>\n",
       "      <th>body</th>\n",
       "      <th>hash</th>\n",
       "      <th>age</th>\n",
       "      <th>subject_mean_age</th>\n",
       "      <th>subject_highest_age</th>\n",
       "      <th>subject_age_sum</th>\n",
       "      <th>head_random_roll</th>\n",
       "      <th>count</th>\n",
       "      <th>n_fold</th>\n",
       "    </tr>\n",
       "  </thead>\n",
       "  <tbody>\n",
       "    <tr>\n",
       "      <th>143</th>\n",
       "      <td>IW Migration</td>\n",
       "      <td>Linked Table Manager (in Access)\\nA feature in...</td>\n",
       "      <td>5c59183063f46f48886078e49c5fa8ff</td>\n",
       "      <td>-599.888165</td>\n",
       "      <td>-133.577955</td>\n",
       "      <td>599.888165</td>\n",
       "      <td>1870.091368</td>\n",
       "      <td>0.926548</td>\n",
       "      <td>0</td>\n",
       "      <td>0</td>\n",
       "    </tr>\n",
       "    <tr>\n",
       "      <th>144</th>\n",
       "      <td>IW Migration</td>\n",
       "      <td>Linked Server (SQL Server)\\nA configuration th...</td>\n",
       "      <td>fa3ffa381d1fcef8e1ca182752dc366d</td>\n",
       "      <td>-120.725297</td>\n",
       "      <td>-133.577955</td>\n",
       "      <td>599.888165</td>\n",
       "      <td>1870.091368</td>\n",
       "      <td>0.926548</td>\n",
       "      <td>3</td>\n",
       "      <td>0</td>\n",
       "    </tr>\n",
       "    <tr>\n",
       "      <th>145</th>\n",
       "      <td>IW Migration</td>\n",
       "      <td>Linked Table Manager (Access)\\nA utility in Ac...</td>\n",
       "      <td>f09b71e8ef09820da73ecb2ce02c5f85</td>\n",
       "      <td>-60.780175</td>\n",
       "      <td>-133.577955</td>\n",
       "      <td>599.888165</td>\n",
       "      <td>1870.091368</td>\n",
       "      <td>0.926548</td>\n",
       "      <td>6</td>\n",
       "      <td>0</td>\n",
       "    </tr>\n",
       "    <tr>\n",
       "      <th>146</th>\n",
       "      <td>IW Migration</td>\n",
       "      <td>Forms (Access)\\nUser-friendly interfaces for e...</td>\n",
       "      <td>b668285b9fd5fe65ab0229adb418cb78</td>\n",
       "      <td>-38.440038</td>\n",
       "      <td>-133.577955</td>\n",
       "      <td>599.888165</td>\n",
       "      <td>1870.091368</td>\n",
       "      <td>0.926548</td>\n",
       "      <td>9</td>\n",
       "      <td>0</td>\n",
       "    </tr>\n",
       "    <tr>\n",
       "      <th>147</th>\n",
       "      <td>IW Migration</td>\n",
       "      <td>Execution Plans (SQL Server)\\nVisual or textua...</td>\n",
       "      <td>1fa811a377ae8865555d72bc7e71165a</td>\n",
       "      <td>-20.222427</td>\n",
       "      <td>-133.577955</td>\n",
       "      <td>599.888165</td>\n",
       "      <td>1870.091368</td>\n",
       "      <td>0.926548</td>\n",
       "      <td>12</td>\n",
       "      <td>0</td>\n",
       "    </tr>\n",
       "    <tr>\n",
       "      <th>35</th>\n",
       "      <td>Logging in Python</td>\n",
       "      <td>Q: Why is it important to include timestamps i...</td>\n",
       "      <td>0e1d061a4c370db29ac13f252a5f6a6d</td>\n",
       "      <td>-466.711367</td>\n",
       "      <td>-112.665837</td>\n",
       "      <td>466.711367</td>\n",
       "      <td>4168.635982</td>\n",
       "      <td>0.369114</td>\n",
       "      <td>0</td>\n",
       "      <td>0</td>\n",
       "    </tr>\n",
       "    <tr>\n",
       "      <th>36</th>\n",
       "      <td>Logging in Python</td>\n",
       "      <td>Q: What is one of the main disadvantages of us...</td>\n",
       "      <td>3753dbeb5ebfb4e424ec2fccd2df3557</td>\n",
       "      <td>-305.527800</td>\n",
       "      <td>-112.665837</td>\n",
       "      <td>466.711367</td>\n",
       "      <td>4168.635982</td>\n",
       "      <td>0.369114</td>\n",
       "      <td>3</td>\n",
       "      <td>0</td>\n",
       "    </tr>\n",
       "    <tr>\n",
       "      <th>37</th>\n",
       "      <td>Logging in Python</td>\n",
       "      <td>Q: What is a potential issue with excessive lo...</td>\n",
       "      <td>11613d9bce463dce1d79c0586c44e3ac</td>\n",
       "      <td>-236.441619</td>\n",
       "      <td>-112.665837</td>\n",
       "      <td>466.711367</td>\n",
       "      <td>4168.635982</td>\n",
       "      <td>0.369114</td>\n",
       "      <td>6</td>\n",
       "      <td>0</td>\n",
       "    </tr>\n",
       "    <tr>\n",
       "      <th>38</th>\n",
       "      <td>Logging in Python</td>\n",
       "      <td>Q: Why might you choose to use Loguru over Pyt...</td>\n",
       "      <td>eef062671a42262fab39291ccdda1e48</td>\n",
       "      <td>-135.379379</td>\n",
       "      <td>-112.665837</td>\n",
       "      <td>466.711367</td>\n",
       "      <td>4168.635982</td>\n",
       "      <td>0.369114</td>\n",
       "      <td>9</td>\n",
       "      <td>0</td>\n",
       "    </tr>\n",
       "    <tr>\n",
       "      <th>39</th>\n",
       "      <td>Logging in Python</td>\n",
       "      <td>Q: Which logging level is appropriate for a me...</td>\n",
       "      <td>34aa335f159554e1fa43ef4942a6303b</td>\n",
       "      <td>-127.743098</td>\n",
       "      <td>-112.665837</td>\n",
       "      <td>466.711367</td>\n",
       "      <td>4168.635982</td>\n",
       "      <td>0.369114</td>\n",
       "      <td>12</td>\n",
       "      <td>0</td>\n",
       "    </tr>\n",
       "  </tbody>\n",
       "</table>\n",
       "</div>"
      ],
      "text/plain": [
       "                  head                                               body  \\\n",
       "143       IW Migration  Linked Table Manager (in Access)\\nA feature in...   \n",
       "144       IW Migration  Linked Server (SQL Server)\\nA configuration th...   \n",
       "145       IW Migration  Linked Table Manager (Access)\\nA utility in Ac...   \n",
       "146       IW Migration  Forms (Access)\\nUser-friendly interfaces for e...   \n",
       "147       IW Migration  Execution Plans (SQL Server)\\nVisual or textua...   \n",
       "35   Logging in Python  Q: Why is it important to include timestamps i...   \n",
       "36   Logging in Python  Q: What is one of the main disadvantages of us...   \n",
       "37   Logging in Python  Q: What is a potential issue with excessive lo...   \n",
       "38   Logging in Python  Q: Why might you choose to use Loguru over Pyt...   \n",
       "39   Logging in Python  Q: Which logging level is appropriate for a me...   \n",
       "\n",
       "                                 hash         age  subject_mean_age  \\\n",
       "143  5c59183063f46f48886078e49c5fa8ff -599.888165       -133.577955   \n",
       "144  fa3ffa381d1fcef8e1ca182752dc366d -120.725297       -133.577955   \n",
       "145  f09b71e8ef09820da73ecb2ce02c5f85  -60.780175       -133.577955   \n",
       "146  b668285b9fd5fe65ab0229adb418cb78  -38.440038       -133.577955   \n",
       "147  1fa811a377ae8865555d72bc7e71165a  -20.222427       -133.577955   \n",
       "35   0e1d061a4c370db29ac13f252a5f6a6d -466.711367       -112.665837   \n",
       "36   3753dbeb5ebfb4e424ec2fccd2df3557 -305.527800       -112.665837   \n",
       "37   11613d9bce463dce1d79c0586c44e3ac -236.441619       -112.665837   \n",
       "38   eef062671a42262fab39291ccdda1e48 -135.379379       -112.665837   \n",
       "39   34aa335f159554e1fa43ef4942a6303b -127.743098       -112.665837   \n",
       "\n",
       "     subject_highest_age  subject_age_sum  head_random_roll  count  n_fold  \n",
       "143           599.888165      1870.091368          0.926548      0       0  \n",
       "144           599.888165      1870.091368          0.926548      3       0  \n",
       "145           599.888165      1870.091368          0.926548      6       0  \n",
       "146           599.888165      1870.091368          0.926548      9       0  \n",
       "147           599.888165      1870.091368          0.926548     12       0  \n",
       "35            466.711367      4168.635982          0.369114      0       0  \n",
       "36            466.711367      4168.635982          0.369114      3       0  \n",
       "37            466.711367      4168.635982          0.369114      6       0  \n",
       "38            466.711367      4168.635982          0.369114      9       0  \n",
       "39            466.711367      4168.635982          0.369114     12       0  "
      ]
     },
     "execution_count": 31,
     "metadata": {},
     "output_type": "execute_result"
    }
   ],
   "source": [
    "n=3\n",
    "existing_cards['count'] = existing_cards.sort_values('age', ascending=False).groupby('head').cumcount()\n",
    "existing_cards['n_fold'] = existing_cards['count'] % n\n",
    "\n",
    "existing_cards['subject_mean_age'] = existing_cards['subject_mean_age'] *-1\n",
    "existing_cards['age'] = existing_cards['age'] *-1\n",
    "existing_cards.sort_values(['n_fold', 'subject_mean_age', 'age'], inplace=True)\n",
    "remake_card_document(existing_cards=existing_cards)\n",
    "\n",
    "existing_cards.head(10)\n",
    "\n"
   ]
  },
  {
   "cell_type": "markdown",
   "metadata": {},
   "source": [
    "## Age Max"
   ]
  },
  {
   "cell_type": "code",
   "execution_count": 32,
   "metadata": {},
   "outputs": [],
   "source": [
    "# n = 1\n",
    "# existing_cards['count'] = existing_cards.sort_values('age', ascending=False).groupby('head').cumcount()\n",
    "# existing_cards['n_fold'] = existing_cards['count'] // n\n",
    "\n",
    "# if existing_cards['age'].sum() > 0:\n",
    "#     existing_cards['subject_highest_age'] = existing_cards['subject_highest_age'] *-1\n",
    "#     existing_cards['age'] = existing_cards['age'] *-1\n",
    "# # existing_cards.sort_values(['n_fold', 'subject_highest_age', 'age'], inplace=True)\n",
    "# existing_cards.sort_values(['age'], inplace=True)\n",
    "\n",
    "# remake_card_document(existing_cards=existing_cards)\n",
    "# existing_cards.head(10)\n"
   ]
  },
  {
   "cell_type": "markdown",
   "metadata": {},
   "source": [
    "## Card Count"
   ]
  },
  {
   "cell_type": "code",
   "execution_count": 33,
   "metadata": {},
   "outputs": [],
   "source": [
    "# n=10\n",
    "# existing_cards['frequency']  = existing_cards.groupby('head').transform('count')['body']\n",
    "# existing_cards['count'] = existing_cards.sort_values('age', ascending=False).groupby('head').cumcount()\n",
    "# existing_cards['n_fold'] = existing_cards['count'] // n\n",
    "\n",
    "# if existing_cards['age'].sum() > 0:\n",
    "#     # existing_cards['neg_subject_highest_age'] = existing_cards['subject_highest_age'] *-1\n",
    "#     existing_cards['neg_age'] = existing_cards['age'] *-1\n",
    "# existing_cards.sort_values(['n_fold', 'frequency', 'neg_age'], inplace=True)\n",
    "# remake_card_document(existing_cards=existing_cards)\n",
    "\n",
    "# existing_cards.head(10)\n",
    "\n"
   ]
  },
  {
   "cell_type": "markdown",
   "metadata": {},
   "source": [
    "\n",
    "## Random"
   ]
  },
  {
   "cell_type": "code",
   "execution_count": 34,
   "metadata": {},
   "outputs": [],
   "source": [
    "# n = 3\n",
    "# existing_cards['count'] = existing_cards.sort_values('age', ascending=False).groupby('head').cumcount()\n",
    "# existing_cards['n_fold'] = existing_cards['count'] % n\n",
    "# existing_cards['age'] *= -1\n",
    "# existing_cards.sort_values(['n_fold', 'head_random_roll', 'age'], inplace=True)\n",
    "# remake_card_document(existing_cards=existing_cards)\n",
    "# existing_cards.head(10)"
   ]
  },
  {
   "cell_type": "code",
   "execution_count": 35,
   "metadata": {},
   "outputs": [
    {
     "data": {
      "text/plain": [
       "head                   IW MigrationIW MigrationIW MigrationIW Migrati...\n",
       "body                   Linked Table Manager (in Access)\\nA feature in...\n",
       "hash                   5c59183063f46f48886078e49c5fa8fffa3ffa381d1fce...\n",
       "age                                                         -2111.859364\n",
       "subject_mean_age                                            -1231.218961\n",
       "subject_highest_age                                           5332.99766\n",
       "subject_age_sum                                             30193.636751\n",
       "head_random_roll                                                6.478306\n",
       "count                                                                 60\n",
       "n_fold                                                                 0\n",
       "dtype: object"
      ]
     },
     "execution_count": 35,
     "metadata": {},
     "output_type": "execute_result"
    }
   ],
   "source": [
    "existing_cards.head(10).sum()"
   ]
  },
  {
   "cell_type": "code",
   "execution_count": 36,
   "metadata": {},
   "outputs": [
    {
     "data": {
      "text/plain": [
       "-59.587277470595794"
      ]
     },
     "execution_count": 36,
     "metadata": {},
     "output_type": "execute_result"
    }
   ],
   "source": [
    "existing_cards['age'].mean()"
   ]
  }
 ],
 "metadata": {
  "kernelspec": {
   "display_name": "Python 3",
   "language": "python",
   "name": "python3"
  },
  "language_info": {
   "codemirror_mode": {
    "name": "ipython",
    "version": 3
   },
   "file_extension": ".py",
   "mimetype": "text/x-python",
   "name": "python",
   "nbconvert_exporter": "python",
   "pygments_lexer": "ipython3",
   "version": "3.10.10"
  }
 },
 "nbformat": 4,
 "nbformat_minor": 2
}
