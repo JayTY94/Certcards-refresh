{
 "cells": [
  {
   "cell_type": "code",
   "execution_count": 19,
   "metadata": {},
   "outputs": [],
   "source": [
    "import re\n",
    "import random\n",
    "import pandas as pd\n",
    "import hashlib"
   ]
  },
  {
   "cell_type": "code",
   "execution_count": null,
   "metadata": {},
   "outputs": [],
   "source": [
    "with open('certcards2.txt', mode='r', encoding='utf8') as f:\n",
    "    all_cards = f.read()\n",
    "    \n",
    "card_split_pattern = r'\\n\\n\\n\\d+\\n'\n",
    "all_cards = re.split(card_split_pattern, all_cards)\n",
    "# Use re.DOTALL to allow . to match newline characters\n",
    "card_pattern = re.compile(r'(.+?)\\n([\\s\\S]+)', re.DOTALL)\n",
    "cards = [(match.group(1), match.group(2)) for cstring in all_cards if (match := re.search(card_pattern, cstring))]\n",
    "\n",
    "# removing the cards that have no content and trimming\n",
    "cards = [(subject, stripped_content) for subject, content in cards if len(stripped_content := content.strip()) > 5]\n",
    "\n",
    "def hash_string_md5(s):\n",
    "    \"\"\"\n",
    "    Hashes a string using MD5 and returns a truncated hash for efficiency.\n",
    "\n",
    "    Parameters:\n",
    "    - s (str): The input string to hash.\n",
    "\n",
    "    Returns:\n",
    "    - str: The truncated hexadecimal hash string.\n",
    "    \"\"\"\n",
    "    if pd.isnull(s):\n",
    "        return None  # Handle NaN values gracefully\n",
    "    return hashlib.md5(s.encode('utf-8')).hexdigest()\n",
    "\n",
    "\n",
    "def remake_card_document(existing_cards: pd.DataFrame, filename: str='certcards2.txt'):\n",
    "    with open(filename, mode='w', encoding='utf8') as f:\n",
    "        i = 1\n",
    "        for _, row in existing_cards.iterrows():\n",
    "            f.write('\\n'*6)\n",
    "            f.write(str(i)+'\\n')  \n",
    "            f.write(row['head']+'\\n')\n",
    "            f.write(row['body'])\n",
    "            i+=1\n",
    "    print(F\"Cards found: {existing_cards.shape[0]}\")\n",
    "\n",
    "\n",
    "existing_cards = pd.DataFrame(cards, columns=['head', 'body'])\n",
    "\n",
    "\n",
    "# existing_cards['age'] = [random.random() for _ in existing_cards.index]\n",
    "existing_cards['hash'] = existing_cards['body'].apply(hash_string_md5)\n",
    "existing_cards\n",
    "\n",
    "card_ages = pd.read_json('card_ages.json')\n",
    "card_ages = card_ages.drop_duplicates(subset=['hash'], keep='first')\n",
    "\n",
    "cards_to_age = pd.merge(\n",
    "    left=existing_cards,\n",
    "    right=card_ages[['hash', 'age']],\n",
    "    left_on='hash', right_on='hash',\n",
    "    how='left'\n",
    ")\n",
    "\n",
    "cards_to_age['head'] = cards_to_age['head'].str.strip()\n",
    "\n",
    "if cards_to_age['age'].sum() > 2e4: age_factor = .5\n",
    "else: age_factor = 1\n",
    "\n",
    "cards_to_age['age'] = cards_to_age['age'].fillna(0)\n",
    "# cards_to_age['age'] = cards_to_age['age'] * age_factor\n",
    "cards_to_age['age'] = cards_to_age['age'] + [random.expovariate(.60) for _ in cards_to_age.index]\n",
    "# cards_to_age['age'] = cards_to_age['age'] * [random.expovariate(1/age_factor) for _ in cards_to_age.index]\n",
    "\n",
    "# Adding priority age growth to cards for upcoming certifications\n",
    "priority_headers = ['Azure Developer Associate']\n",
    "priority_cards_mask = cards_to_age['head'].isin(priority_headers)\n",
    "cards_to_age.loc[priority_cards_mask, 'age'] = cards_to_age.loc[priority_cards_mask, 'age'] * 1.1\n",
    "\n",
    "\n",
    "cards_to_age = cards_to_age.drop_duplicates(subset=['hash'], keep='first')\n",
    "\n",
    "cards_to_age['subject_mean_age'] = cards_to_age.groupby('head')['age'].transform('mean')\n",
    "cards_to_age['subject_highest_age'] = cards_to_age.groupby('head')['age'].transform('max')\n",
    "cards_to_age['subject_age_sum'] = cards_to_age.groupby('head')['age'].transform('sum')\n",
    "cards_to_age['head_random_roll'] = cards_to_age.groupby('head')['head'].transform(lambda x: random.random())\n",
    "\n",
    "\n",
    "cards_to_age.sort_values('hash')[['age', 'head', 'hash']].to_json('card_ages.json', indent=2)\n",
    "\n",
    "existing_cards = cards_to_age"
   ]
  },
  {
   "cell_type": "code",
   "execution_count": 21,
   "metadata": {},
   "outputs": [
    {
     "data": {
      "application/vnd.microsoft.datawrangler.viewer.v0+json": {
       "columns": [
        {
         "name": "index",
         "rawType": "object",
         "type": "string"
        },
        {
         "name": "age_sum",
         "rawType": "float64",
         "type": "float"
        },
        {
         "name": "age_mean",
         "rawType": "float64",
         "type": "float"
        },
        {
         "name": "age_max",
         "rawType": "float64",
         "type": "float"
        },
        {
         "name": "head_count",
         "rawType": "int64",
         "type": "integer"
        }
       ],
       "conversionMethod": "pd.DataFrame",
       "ref": "6b706239-bd5e-4e06-a877-c2be49dd2b15",
       "rows": [
        [
         "Email Auth and Security",
         "1299.940362193368",
         "108.328363516114",
         "475.7711834254986",
         "12"
        ],
        [
         "Home Network Project",
         "1740.4655745481462",
         "193.3850638386829",
         "395.69640230955065",
         "9"
        ],
        [
         "Audit Report Tracker (Sharepoint List)",
         "2166.529446360398",
         "166.65611125849216",
         "645.773990105413",
         "13"
        ],
        [
         "IW Migration",
         "2227.8514481184147",
         "159.1322462941725",
         "520.487502753111",
         "14"
        ],
        [
         "Todd Ideas",
         "2292.6890978062893",
         "152.8459398537526",
         "549.9388469634936",
         "15"
        ],
        [
         "Open Source/GitHub",
         "2314.595818971082",
         "144.6622386856926",
         "608.1224791552235",
         "16"
        ],
        [
         "Debugging in VS Code",
         "2315.202596098637",
         "115.76012980493185",
         "369.22251825778017",
         "20"
        ],
        [
         "Terraform",
         "2483.7106371836453",
         "99.3484254873458",
         "378.7466304396348",
         "25"
        ],
        [
         "DNS",
         "2528.38464466174",
         "252.838464466174",
         "662.1120359191067",
         "10"
        ],
        [
         "Python",
         "2623.4312921830783",
         "55.81768706772507",
         "170.16419657109628",
         "47"
        ],
        [
         "Azure Functions + Visual Studio",
         "2719.2593287202544",
         "194.23280919430388",
         "631.9708967135314",
         "14"
        ],
        [
         "SharePoint",
         "2854.2784216847363",
         "237.8565351403947",
         "1235.7133045375774",
         "12"
        ],
        [
         "WSL + Kali Linux",
         "3168.4271013370835",
         "166.75932112300438",
         "822.0290135819098",
         "19"
        ],
        [
         "FSLogix",
         "4117.659750991833",
         "171.56915629132638",
         "533.4227890312062",
         "24"
        ],
        [
         "Azure Functions + PP365",
         "4685.668893818962",
         "203.7247345138679",
         "853.1972259755316",
         "23"
        ],
        [
         "Logging in Python",
         "5518.746555472654",
         "117.42013947814158",
         "608.2475983051029",
         "47"
        ],
        [
         "Powershell Modules",
         "6372.27892639591",
         "130.04650870195735",
         "911.6227110898408",
         "49"
        ],
        [
         "Azure Developer Associate",
         "6986.9854212688815",
         "110.90453049633145",
         "496.0690893440221",
         "63"
        ],
        [
         "Vocab",
         "7071.808510602424",
         "112.250928739721",
         "940.5975237979536",
         "63"
        ],
        [
         "PnP Powershell",
         "7203.365697441565",
         "194.68555939031256",
         "574.1143223621274",
         "37"
        ],
        [
         "JavaScript Concepts",
         "8076.852472016134",
         "132.40741757403498",
         "854.7331210888044",
         "61"
        ]
       ],
       "shape": {
        "columns": 4,
        "rows": 21
       }
      },
      "text/html": [
       "<div>\n",
       "<style scoped>\n",
       "    .dataframe tbody tr th:only-of-type {\n",
       "        vertical-align: middle;\n",
       "    }\n",
       "\n",
       "    .dataframe tbody tr th {\n",
       "        vertical-align: top;\n",
       "    }\n",
       "\n",
       "    .dataframe thead th {\n",
       "        text-align: right;\n",
       "    }\n",
       "</style>\n",
       "<table border=\"1\" class=\"dataframe\">\n",
       "  <thead>\n",
       "    <tr style=\"text-align: right;\">\n",
       "      <th></th>\n",
       "      <th>age_sum</th>\n",
       "      <th>age_mean</th>\n",
       "      <th>age_max</th>\n",
       "      <th>head_count</th>\n",
       "    </tr>\n",
       "  </thead>\n",
       "  <tbody>\n",
       "    <tr>\n",
       "      <th>Email Auth and Security</th>\n",
       "      <td>1299.940362</td>\n",
       "      <td>108.328364</td>\n",
       "      <td>475.771183</td>\n",
       "      <td>12</td>\n",
       "    </tr>\n",
       "    <tr>\n",
       "      <th>Home Network Project</th>\n",
       "      <td>1740.465575</td>\n",
       "      <td>193.385064</td>\n",
       "      <td>395.696402</td>\n",
       "      <td>9</td>\n",
       "    </tr>\n",
       "    <tr>\n",
       "      <th>Audit Report Tracker (Sharepoint List)</th>\n",
       "      <td>2166.529446</td>\n",
       "      <td>166.656111</td>\n",
       "      <td>645.773990</td>\n",
       "      <td>13</td>\n",
       "    </tr>\n",
       "    <tr>\n",
       "      <th>IW Migration</th>\n",
       "      <td>2227.851448</td>\n",
       "      <td>159.132246</td>\n",
       "      <td>520.487503</td>\n",
       "      <td>14</td>\n",
       "    </tr>\n",
       "    <tr>\n",
       "      <th>Todd Ideas</th>\n",
       "      <td>2292.689098</td>\n",
       "      <td>152.845940</td>\n",
       "      <td>549.938847</td>\n",
       "      <td>15</td>\n",
       "    </tr>\n",
       "    <tr>\n",
       "      <th>Open Source/GitHub</th>\n",
       "      <td>2314.595819</td>\n",
       "      <td>144.662239</td>\n",
       "      <td>608.122479</td>\n",
       "      <td>16</td>\n",
       "    </tr>\n",
       "    <tr>\n",
       "      <th>Debugging in VS Code</th>\n",
       "      <td>2315.202596</td>\n",
       "      <td>115.760130</td>\n",
       "      <td>369.222518</td>\n",
       "      <td>20</td>\n",
       "    </tr>\n",
       "    <tr>\n",
       "      <th>Terraform</th>\n",
       "      <td>2483.710637</td>\n",
       "      <td>99.348425</td>\n",
       "      <td>378.746630</td>\n",
       "      <td>25</td>\n",
       "    </tr>\n",
       "    <tr>\n",
       "      <th>DNS</th>\n",
       "      <td>2528.384645</td>\n",
       "      <td>252.838464</td>\n",
       "      <td>662.112036</td>\n",
       "      <td>10</td>\n",
       "    </tr>\n",
       "    <tr>\n",
       "      <th>Python</th>\n",
       "      <td>2623.431292</td>\n",
       "      <td>55.817687</td>\n",
       "      <td>170.164197</td>\n",
       "      <td>47</td>\n",
       "    </tr>\n",
       "    <tr>\n",
       "      <th>Azure Functions + Visual Studio</th>\n",
       "      <td>2719.259329</td>\n",
       "      <td>194.232809</td>\n",
       "      <td>631.970897</td>\n",
       "      <td>14</td>\n",
       "    </tr>\n",
       "    <tr>\n",
       "      <th>SharePoint</th>\n",
       "      <td>2854.278422</td>\n",
       "      <td>237.856535</td>\n",
       "      <td>1235.713305</td>\n",
       "      <td>12</td>\n",
       "    </tr>\n",
       "    <tr>\n",
       "      <th>WSL + Kali Linux</th>\n",
       "      <td>3168.427101</td>\n",
       "      <td>166.759321</td>\n",
       "      <td>822.029014</td>\n",
       "      <td>19</td>\n",
       "    </tr>\n",
       "    <tr>\n",
       "      <th>FSLogix</th>\n",
       "      <td>4117.659751</td>\n",
       "      <td>171.569156</td>\n",
       "      <td>533.422789</td>\n",
       "      <td>24</td>\n",
       "    </tr>\n",
       "    <tr>\n",
       "      <th>Azure Functions + PP365</th>\n",
       "      <td>4685.668894</td>\n",
       "      <td>203.724735</td>\n",
       "      <td>853.197226</td>\n",
       "      <td>23</td>\n",
       "    </tr>\n",
       "    <tr>\n",
       "      <th>Logging in Python</th>\n",
       "      <td>5518.746555</td>\n",
       "      <td>117.420139</td>\n",
       "      <td>608.247598</td>\n",
       "      <td>47</td>\n",
       "    </tr>\n",
       "    <tr>\n",
       "      <th>Powershell Modules</th>\n",
       "      <td>6372.278926</td>\n",
       "      <td>130.046509</td>\n",
       "      <td>911.622711</td>\n",
       "      <td>49</td>\n",
       "    </tr>\n",
       "    <tr>\n",
       "      <th>Azure Developer Associate</th>\n",
       "      <td>6986.985421</td>\n",
       "      <td>110.904530</td>\n",
       "      <td>496.069089</td>\n",
       "      <td>63</td>\n",
       "    </tr>\n",
       "    <tr>\n",
       "      <th>Vocab</th>\n",
       "      <td>7071.808511</td>\n",
       "      <td>112.250929</td>\n",
       "      <td>940.597524</td>\n",
       "      <td>63</td>\n",
       "    </tr>\n",
       "    <tr>\n",
       "      <th>PnP Powershell</th>\n",
       "      <td>7203.365697</td>\n",
       "      <td>194.685559</td>\n",
       "      <td>574.114322</td>\n",
       "      <td>37</td>\n",
       "    </tr>\n",
       "    <tr>\n",
       "      <th>JavaScript Concepts</th>\n",
       "      <td>8076.852472</td>\n",
       "      <td>132.407418</td>\n",
       "      <td>854.733121</td>\n",
       "      <td>61</td>\n",
       "    </tr>\n",
       "  </tbody>\n",
       "</table>\n",
       "</div>"
      ],
      "text/plain": [
       "                                            age_sum    age_mean      age_max  \\\n",
       "Email Auth and Security                 1299.940362  108.328364   475.771183   \n",
       "Home Network Project                    1740.465575  193.385064   395.696402   \n",
       "Audit Report Tracker (Sharepoint List)  2166.529446  166.656111   645.773990   \n",
       "IW Migration                            2227.851448  159.132246   520.487503   \n",
       "Todd Ideas                              2292.689098  152.845940   549.938847   \n",
       "Open Source/GitHub                      2314.595819  144.662239   608.122479   \n",
       "Debugging in VS Code                    2315.202596  115.760130   369.222518   \n",
       "Terraform                               2483.710637   99.348425   378.746630   \n",
       "DNS                                     2528.384645  252.838464   662.112036   \n",
       "Python                                  2623.431292   55.817687   170.164197   \n",
       "Azure Functions + Visual Studio         2719.259329  194.232809   631.970897   \n",
       "SharePoint                              2854.278422  237.856535  1235.713305   \n",
       "WSL + Kali Linux                        3168.427101  166.759321   822.029014   \n",
       "FSLogix                                 4117.659751  171.569156   533.422789   \n",
       "Azure Functions + PP365                 4685.668894  203.724735   853.197226   \n",
       "Logging in Python                       5518.746555  117.420139   608.247598   \n",
       "Powershell Modules                      6372.278926  130.046509   911.622711   \n",
       "Azure Developer Associate               6986.985421  110.904530   496.069089   \n",
       "Vocab                                   7071.808511  112.250929   940.597524   \n",
       "PnP Powershell                          7203.365697  194.685559   574.114322   \n",
       "JavaScript Concepts                     8076.852472  132.407418   854.733121   \n",
       "\n",
       "                                        head_count  \n",
       "Email Auth and Security                         12  \n",
       "Home Network Project                             9  \n",
       "Audit Report Tracker (Sharepoint List)          13  \n",
       "IW Migration                                    14  \n",
       "Todd Ideas                                      15  \n",
       "Open Source/GitHub                              16  \n",
       "Debugging in VS Code                            20  \n",
       "Terraform                                       25  \n",
       "DNS                                             10  \n",
       "Python                                          47  \n",
       "Azure Functions + Visual Studio                 14  \n",
       "SharePoint                                      12  \n",
       "WSL + Kali Linux                                19  \n",
       "FSLogix                                         24  \n",
       "Azure Functions + PP365                         23  \n",
       "Logging in Python                               47  \n",
       "Powershell Modules                              49  \n",
       "Azure Developer Associate                       63  \n",
       "Vocab                                           63  \n",
       "PnP Powershell                                  37  \n",
       "JavaScript Concepts                             61  "
      ]
     },
     "execution_count": 21,
     "metadata": {},
     "output_type": "execute_result"
    }
   ],
   "source": [
    "stats = existing_cards.groupby('head').agg({'age': ['sum', 'mean', 'max'], 'head': 'count'}).sort_values(('age', 'sum'))\n",
    "stats.columns = stats.columns.to_flat_index()\n",
    "stats.columns = ['_'.join(col).strip() for col in stats.columns]\n",
    "stats.index.name = None\n",
    "stats"
   ]
  },
  {
   "cell_type": "markdown",
   "metadata": {},
   "source": [
    "# Histogram"
   ]
  },
  {
   "cell_type": "code",
   "execution_count": 22,
   "metadata": {},
   "outputs": [
    {
     "name": "stdout",
     "output_type": "stream",
     "text": [
      "80768.13\n"
     ]
    },
    {
     "data": {
      "text/plain": [
       "<Axes: >"
      ]
     },
     "execution_count": 22,
     "metadata": {},
     "output_type": "execute_result"
    },
    {
     "data": {
      "image/png": "[encoded data removed]",
      "text/plain": [
       "<Figure size 640x480 with 1 Axes>"
      ]
     },
     "metadata": {},
     "output_type": "display_data"
    }
   ],
   "source": [
    "print(f\"{existing_cards['age'].sum(0):.2f}\")\n",
    "existing_cards['age'].hist(bins=20)"
   ]
  },
  {
   "cell_type": "markdown",
   "metadata": {},
   "source": [
    "# Completely Random Shuffle"
   ]
  },
  {
   "cell_type": "code",
   "execution_count": 23,
   "metadata": {},
   "outputs": [],
   "source": [
    "# existing_cards = existing_cards.sample(frac=1)\n",
    "# remake_card_document(filename='certcards2.txt', existing_cards = existing_cards)"
   ]
  },
  {
   "cell_type": "markdown",
   "metadata": {},
   "source": [
    "# Age Sort"
   ]
  },
  {
   "cell_type": "code",
   "execution_count": 24,
   "metadata": {},
   "outputs": [],
   "source": [
    "# existing_cards = existing_cards.sort_values('age', ascending=False)\n",
    "# remake_card_document(filename='certcards2.txt', existing_cards=existing_cards)\n",
    "# existing_cards.head(10)"
   ]
  },
  {
   "cell_type": "markdown",
   "metadata": {},
   "source": [
    "# Headers with fewest notes first"
   ]
  },
  {
   "cell_type": "code",
   "execution_count": 25,
   "metadata": {},
   "outputs": [],
   "source": [
    "# frequency = existing_cards['head'].value_counts(ascending=True)\n",
    "\n",
    "# existing_cards = pd.merge(\n",
    "#     left=existing_cards,\n",
    "#     right=frequency.rename('frequency'),\n",
    "#     left_on='head', right_index=True,\n",
    "#     how='left'\n",
    "# )\n",
    "# existing_cards['oldest'] = existing_cards.groupby('head')['age'].transform('max')\n",
    "# existing_cards['subject_highest_age'] = existing_cards['subject_highest_age'] * -1\n",
    "# existing_cards['age'] = existing_cards['age'] * -1\n",
    "\n",
    "\n",
    "# existing_cards.sort_values(['frequency', 'subject_highest_age', 'age'], ascending=True, inplace=True)\n",
    "\n",
    "# remake_card_document(filename='certcards2.txt', existing_cards=existing_cards)\n",
    "\n",
    "# existing_cards.head(10)"
   ]
  },
  {
   "cell_type": "markdown",
   "metadata": {},
   "source": [
    "# Focus on one header"
   ]
  },
  {
   "cell_type": "code",
   "execution_count": 26,
   "metadata": {},
   "outputs": [],
   "source": [
    "# heads = existing_cards['head'].value_counts()\n",
    "# heads = heads[heads > 5].index.tolist()\n",
    "# one_header = random.sample(heads, 1)[0]\n",
    "# existing_cards['pick_head'] = existing_cards['head'].apply(\n",
    "#     lambda h: 0 if h == one_header else 1 \n",
    "# )\n",
    "\n",
    "# remake_card_document(existing_cards=existing_cards.sort_values('pick_head'))"
   ]
  },
  {
   "cell_type": "markdown",
   "metadata": {},
   "source": [
    "## Header with oldest cards first"
   ]
  },
  {
   "cell_type": "code",
   "execution_count": 27,
   "metadata": {},
   "outputs": [],
   "source": [
    "# existing_cards['oldest'] = existing_cards.groupby('head')['age'].transform('max')\n",
    "# existing_cards.sort_values(['oldest', 'age'], ascending=False, inplace=True)\n",
    "# remake_card_document(existing_cards)"
   ]
  },
  {
   "cell_type": "markdown",
   "metadata": {},
   "source": [
    "## Headers with greatest mean card age first"
   ]
  },
  {
   "cell_type": "code",
   "execution_count": 28,
   "metadata": {},
   "outputs": [],
   "source": [
    "# existing_cards.sort_values(['subject_mean_age', 'age'], ascending=False, inplace=True)\n",
    "# remake_card_document(existing_cards)"
   ]
  },
  {
   "cell_type": "markdown",
   "metadata": {},
   "source": [
    "## Headers with greatest age sum first"
   ]
  },
  {
   "cell_type": "code",
   "execution_count": 29,
   "metadata": {},
   "outputs": [],
   "source": [
    "# existing_cards.sort_values(['subject_age_sum', 'age'], ascending=False, inplace=True)\n",
    "# remake_card_document(existing_cards)"
   ]
  },
  {
   "cell_type": "markdown",
   "metadata": {},
   "source": [
    "# N-fold shuffle\n"
   ]
  },
  {
   "cell_type": "markdown",
   "metadata": {},
   "source": [
    "## Age Sum"
   ]
  },
  {
   "cell_type": "code",
   "execution_count": 30,
   "metadata": {},
   "outputs": [],
   "source": [
    "# n=3\n",
    "# existing_cards['count'] = existing_cards.sort_values('age', ascending=False).groupby('head').cumcount()\n",
    "# existing_cards['n_fold'] = existing_cards['count'] % n\n",
    "\n",
    "# existing_cards['subject_age_sum'] = existing_cards['subject_age_sum'] *-1\n",
    "# existing_cards['age'] = existing_cards['age'] *-1\n",
    "# existing_cards.sort_values(['n_fold', 'subject_age_sum', 'age'], inplace=True)\n",
    "\n",
    "# remake_card_document(existing_cards=existing_cards)\n",
    "# existing_cards.head(10)\n"
   ]
  },
  {
   "cell_type": "markdown",
   "metadata": {},
   "source": [
    "## Age Mean"
   ]
  },
  {
   "cell_type": "code",
   "execution_count": 31,
   "metadata": {},
   "outputs": [],
   "source": [
    "# n=3\n",
    "# existing_cards['count'] = existing_cards.sort_values('age', ascending=False).groupby('head').cumcount()\n",
    "# existing_cards['n_fold'] = existing_cards['count'] % n\n",
    "\n",
    "# existing_cards['subject_mean_age'] = existing_cards['subject_mean_age'] *-1\n",
    "# existing_cards['age'] = existing_cards['age'] *-1\n",
    "# existing_cards.sort_values(['n_fold', 'subject_mean_age', 'age'], inplace=True)\n",
    "# remake_card_document(existing_cards=existing_cards)\n",
    "\n",
    "# existing_cards.head(10)\n",
    "\n"
   ]
  },
  {
   "cell_type": "markdown",
   "metadata": {},
   "source": [
    "## Age Max"
   ]
  },
  {
   "cell_type": "code",
   "execution_count": 32,
   "metadata": {},
   "outputs": [],
   "source": [
    "# n = 1\n",
    "# existing_cards['count'] = existing_cards.sort_values('age', ascending=False).groupby('head').cumcount()\n",
    "# existing_cards['n_fold'] = existing_cards['count'] // n\n",
    "\n",
    "# if existing_cards['age'].sum() > 0:\n",
    "#     existing_cards['subject_highest_age'] = existing_cards['subject_highest_age'] *-1\n",
    "#     existing_cards['age'] = existing_cards['age'] *-1\n",
    "# existing_cards.sort_values(['n_fold', 'subject_highest_age', 'age'], inplace=True)\n",
    "\n",
    "# remake_card_document(existing_cards=existing_cards)\n",
    "# existing_cards.head(10)\n"
   ]
  },
  {
   "cell_type": "markdown",
   "metadata": {},
   "source": [
    "## Card Count"
   ]
  },
  {
   "cell_type": "code",
   "execution_count": 33,
   "metadata": {},
   "outputs": [],
   "source": [
    "# n=10\n",
    "# existing_cards['frequency']  = existing_cards.groupby('head').transform('count')['body']\n",
    "# existing_cards['count'] = existing_cards.sort_values('age', ascending=False).groupby('head').cumcount()\n",
    "# existing_cards['n_fold'] = existing_cards['count'] // n\n",
    "\n",
    "# if existing_cards['age'].sum() > 0:\n",
    "#     # existing_cards['neg_subject_highest_age'] = existing_cards['subject_highest_age'] *-1\n",
    "#     existing_cards['neg_age'] = existing_cards['age'] *-1\n",
    "# existing_cards.sort_values(['n_fold', 'frequency', 'neg_age'], inplace=True)\n",
    "# remake_card_document(existing_cards=existing_cards)\n",
    "\n",
    "# existing_cards.head(10)\n",
    "\n"
   ]
  },
  {
   "cell_type": "markdown",
   "metadata": {},
   "source": [
    "\n",
    "## Random"
   ]
  },
  {
   "cell_type": "code",
   "execution_count": 34,
   "metadata": {},
   "outputs": [
    {
     "name": "stdout",
     "output_type": "stream",
     "text": [
      "Cards found: 593\n"
     ]
    },
    {
     "data": {
      "application/vnd.microsoft.datawrangler.viewer.v0+json": {
       "columns": [
        {
         "name": "index",
         "rawType": "int64",
         "type": "integer"
        },
        {
         "name": "head",
         "rawType": "object",
         "type": "string"
        },
        {
         "name": "body",
         "rawType": "object",
         "type": "string"
        },
        {
         "name": "hash",
         "rawType": "object",
         "type": "string"
        },
        {
         "name": "age",
         "rawType": "float64",
         "type": "float"
        },
        {
         "name": "subject_mean_age",
         "rawType": "float64",
         "type": "float"
        },
        {
         "name": "subject_highest_age",
         "rawType": "float64",
         "type": "float"
        },
        {
         "name": "subject_age_sum",
         "rawType": "float64",
         "type": "float"
        },
        {
         "name": "head_random_roll",
         "rawType": "float64",
         "type": "float"
        },
        {
         "name": "count",
         "rawType": "int64",
         "type": "integer"
        },
        {
         "name": "n_fold",
         "rawType": "int64",
         "type": "integer"
        }
       ],
       "conversionMethod": "pd.DataFrame",
       "ref": "1b3cdcad-433c-4699-86c9-8ce2705a0f26",
       "rows": [
        [
         "89",
         "WSL + Kali Linux",
         "wsl Command\nThe primary command-line interface for interacting with WSL instances. It is used to manage and run Linux distributions on Windows.\nCommon options:\nwsl --list or wsl -l: Lists installed distributions.\nwsl --set-version <distro> 2: Changes the version of a distribution to WSL 2.",
         "2ff6ec8cc28c0d5a7cf021f5b6848f5d",
         "-822.0290135819098",
         "166.75932112300438",
         "822.0290135819098",
         "3168.4271013370835",
         "0.029305514367227614",
         "0",
         "0"
        ],
        [
         "92",
         "WSL + Kali Linux",
         "wsl --export <distro> <file.tar>\nExports a WSL distribution to a .tar file. This can be used for backup or migration purposes.",
         "8f1e550954020ebd4cb9a9d8e38774c2",
         "-206.50683607205565",
         "166.75932112300438",
         "822.0290135819098",
         "3168.4271013370835",
         "0.029305514367227614",
         "3",
         "0"
        ],
        [
         "95",
         "WSL + Kali Linux",
         "WSL 1 vs. WSL 2\nWSL 1: A translation layer that converts Linux system calls into Windows system calls. It provides faster performance for file system operations but lacks full Linux kernel support.\nWSL 2: A full Linux kernel running in a lightweight VM, offering full system call compatibility, better performance for certain workloads (e.g., Docker), and improved compatibility with Linux software.",
         "6002ff15ed0ad2ec76aea40831992536",
         "-148.82533742449436",
         "166.75932112300438",
         "822.0290135819098",
         "3168.4271013370835",
         "0.029305514367227614",
         "6",
         "0"
        ],
        [
         "98",
         "WSL + Kali Linux",
         "Tools for Troubleshooting GUI Apps on WSL:\nxset: A command-line utility for managing X11 settings like display parameters and screen saver behavior.",
         "adb0c5b44a17f16e3e3af02d0c82ac18",
         "-113.86661883660261",
         "166.75932112300438",
         "822.0290135819098",
         "3168.4271013370835",
         "0.029305514367227614",
         "9",
         "0"
        ],
        [
         "237",
         "WSL + Kali Linux",
         "wsl --import <distro> <install-location> <tarball>\nImports a WSL distribution from a .tar file into the specified install location. This is useful for migrating or creating a custom Linux environment.",
         "ab2d754831f4f5b6db70c1f39a112e3e",
         "-89.30496431732858",
         "166.75932112300438",
         "822.0290135819098",
         "3168.4271013370835",
         "0.029305514367227614",
         "12",
         "0"
        ],
        [
         "240",
         "WSL + Kali Linux",
         "Xfwm4 (XFCE Window Manager)\nThe window manager for the XFCE desktop environment. It manages window placement, appearance, and focus within the XFCE session.",
         "594e6944d7db563ed70cf869889eebb7",
         "-38.232012062625394",
         "166.75932112300438",
         "822.0290135819098",
         "3168.4271013370835",
         "0.029305514367227614",
         "15",
         "0"
        ],
        [
         "243",
         "WSL + Kali Linux",
         "WSLg (Windows Subsystem for Linux GUI)\nA feature in WSL2 that allows graphical Linux applications to run natively on Windows, without requiring additional software like VNC or an X server.",
         "69051af876862485bdb54d8c645a8a40",
         "-4.077995557522302",
         "166.75932112300438",
         "822.0290135819098",
         "3168.4271013370835",
         "0.029305514367227614",
         "18",
         "0"
        ],
        [
         "79",
         "Open Source/GitHub",
         "Contributor\n\nAn individual who contributes code, documentation, or other resources to an open source project, helping to improve and maintain the project’s quality.",
         "38bb149465fee49766142779308d79d1",
         "-608.1224791552235",
         "144.6622386856926",
         "608.1224791552235",
         "2314.595818971082",
         "0.029470369293551846",
         "0",
         "0"
        ],
        [
         "82",
         "Open Source/GitHub",
         "Code Review\n\nThe process where project maintainers and contributors examine changes proposed in a pull request to ensure code quality, functionality, and adherence to guidelines.",
         "54e796254218626003c586dc6c486bed",
         "-239.97833445132525",
         "144.6622386856926",
         "608.1224791552235",
         "2314.595818971082",
         "0.029470369293551846",
         "3",
         "0"
        ],
        [
         "85",
         "Open Source/GitHub",
         "Hotfix\n\nAn urgent fix applied to a project to resolve critical bugs or security vulnerabilities, typically merged quickly into the main codebase.",
         "07a66c6061571c256143d25116985a42",
         "-113.68501115374966",
         "144.6622386856926",
         "608.1224791552235",
         "2314.595818971082",
         "0.029470369293551846",
         "6",
         "0"
        ]
       ],
       "shape": {
        "columns": 10,
        "rows": 10
       }
      },
      "text/html": [
       "<div>\n",
       "<style scoped>\n",
       "    .dataframe tbody tr th:only-of-type {\n",
       "        vertical-align: middle;\n",
       "    }\n",
       "\n",
       "    .dataframe tbody tr th {\n",
       "        vertical-align: top;\n",
       "    }\n",
       "\n",
       "    .dataframe thead th {\n",
       "        text-align: right;\n",
       "    }\n",
       "</style>\n",
       "<table border=\"1\" class=\"dataframe\">\n",
       "  <thead>\n",
       "    <tr style=\"text-align: right;\">\n",
       "      <th></th>\n",
       "      <th>head</th>\n",
       "      <th>body</th>\n",
       "      <th>hash</th>\n",
       "      <th>age</th>\n",
       "      <th>subject_mean_age</th>\n",
       "      <th>subject_highest_age</th>\n",
       "      <th>subject_age_sum</th>\n",
       "      <th>head_random_roll</th>\n",
       "      <th>count</th>\n",
       "      <th>n_fold</th>\n",
       "    </tr>\n",
       "  </thead>\n",
       "  <tbody>\n",
       "    <tr>\n",
       "      <th>89</th>\n",
       "      <td>WSL + Kali Linux</td>\n",
       "      <td>wsl Command\\nThe primary command-line interfac...</td>\n",
       "      <td>2ff6ec8cc28c0d5a7cf021f5b6848f5d</td>\n",
       "      <td>-822.029014</td>\n",
       "      <td>166.759321</td>\n",
       "      <td>822.029014</td>\n",
       "      <td>3168.427101</td>\n",
       "      <td>0.029306</td>\n",
       "      <td>0</td>\n",
       "      <td>0</td>\n",
       "    </tr>\n",
       "    <tr>\n",
       "      <th>92</th>\n",
       "      <td>WSL + Kali Linux</td>\n",
       "      <td>wsl --export &lt;distro&gt; &lt;file.tar&gt;\\nExports a WS...</td>\n",
       "      <td>8f1e550954020ebd4cb9a9d8e38774c2</td>\n",
       "      <td>-206.506836</td>\n",
       "      <td>166.759321</td>\n",
       "      <td>822.029014</td>\n",
       "      <td>3168.427101</td>\n",
       "      <td>0.029306</td>\n",
       "      <td>3</td>\n",
       "      <td>0</td>\n",
       "    </tr>\n",
       "    <tr>\n",
       "      <th>95</th>\n",
       "      <td>WSL + Kali Linux</td>\n",
       "      <td>WSL 1 vs. WSL 2\\nWSL 1: A translation layer th...</td>\n",
       "      <td>6002ff15ed0ad2ec76aea40831992536</td>\n",
       "      <td>-148.825337</td>\n",
       "      <td>166.759321</td>\n",
       "      <td>822.029014</td>\n",
       "      <td>3168.427101</td>\n",
       "      <td>0.029306</td>\n",
       "      <td>6</td>\n",
       "      <td>0</td>\n",
       "    </tr>\n",
       "    <tr>\n",
       "      <th>98</th>\n",
       "      <td>WSL + Kali Linux</td>\n",
       "      <td>Tools for Troubleshooting GUI Apps on WSL:\\nxs...</td>\n",
       "      <td>adb0c5b44a17f16e3e3af02d0c82ac18</td>\n",
       "      <td>-113.866619</td>\n",
       "      <td>166.759321</td>\n",
       "      <td>822.029014</td>\n",
       "      <td>3168.427101</td>\n",
       "      <td>0.029306</td>\n",
       "      <td>9</td>\n",
       "      <td>0</td>\n",
       "    </tr>\n",
       "    <tr>\n",
       "      <th>237</th>\n",
       "      <td>WSL + Kali Linux</td>\n",
       "      <td>wsl --import &lt;distro&gt; &lt;install-location&gt; &lt;tarb...</td>\n",
       "      <td>ab2d754831f4f5b6db70c1f39a112e3e</td>\n",
       "      <td>-89.304964</td>\n",
       "      <td>166.759321</td>\n",
       "      <td>822.029014</td>\n",
       "      <td>3168.427101</td>\n",
       "      <td>0.029306</td>\n",
       "      <td>12</td>\n",
       "      <td>0</td>\n",
       "    </tr>\n",
       "    <tr>\n",
       "      <th>240</th>\n",
       "      <td>WSL + Kali Linux</td>\n",
       "      <td>Xfwm4 (XFCE Window Manager)\\nThe window manage...</td>\n",
       "      <td>594e6944d7db563ed70cf869889eebb7</td>\n",
       "      <td>-38.232012</td>\n",
       "      <td>166.759321</td>\n",
       "      <td>822.029014</td>\n",
       "      <td>3168.427101</td>\n",
       "      <td>0.029306</td>\n",
       "      <td>15</td>\n",
       "      <td>0</td>\n",
       "    </tr>\n",
       "    <tr>\n",
       "      <th>243</th>\n",
       "      <td>WSL + Kali Linux</td>\n",
       "      <td>WSLg (Windows Subsystem for Linux GUI)\\nA feat...</td>\n",
       "      <td>69051af876862485bdb54d8c645a8a40</td>\n",
       "      <td>-4.077996</td>\n",
       "      <td>166.759321</td>\n",
       "      <td>822.029014</td>\n",
       "      <td>3168.427101</td>\n",
       "      <td>0.029306</td>\n",
       "      <td>18</td>\n",
       "      <td>0</td>\n",
       "    </tr>\n",
       "    <tr>\n",
       "      <th>79</th>\n",
       "      <td>Open Source/GitHub</td>\n",
       "      <td>Contributor\\n\\nAn individual who contributes c...</td>\n",
       "      <td>38bb149465fee49766142779308d79d1</td>\n",
       "      <td>-608.122479</td>\n",
       "      <td>144.662239</td>\n",
       "      <td>608.122479</td>\n",
       "      <td>2314.595819</td>\n",
       "      <td>0.029470</td>\n",
       "      <td>0</td>\n",
       "      <td>0</td>\n",
       "    </tr>\n",
       "    <tr>\n",
       "      <th>82</th>\n",
       "      <td>Open Source/GitHub</td>\n",
       "      <td>Code Review\\n\\nThe process where project maint...</td>\n",
       "      <td>54e796254218626003c586dc6c486bed</td>\n",
       "      <td>-239.978334</td>\n",
       "      <td>144.662239</td>\n",
       "      <td>608.122479</td>\n",
       "      <td>2314.595819</td>\n",
       "      <td>0.029470</td>\n",
       "      <td>3</td>\n",
       "      <td>0</td>\n",
       "    </tr>\n",
       "    <tr>\n",
       "      <th>85</th>\n",
       "      <td>Open Source/GitHub</td>\n",
       "      <td>Hotfix\\n\\nAn urgent fix applied to a project t...</td>\n",
       "      <td>07a66c6061571c256143d25116985a42</td>\n",
       "      <td>-113.685011</td>\n",
       "      <td>144.662239</td>\n",
       "      <td>608.122479</td>\n",
       "      <td>2314.595819</td>\n",
       "      <td>0.029470</td>\n",
       "      <td>6</td>\n",
       "      <td>0</td>\n",
       "    </tr>\n",
       "  </tbody>\n",
       "</table>\n",
       "</div>"
      ],
      "text/plain": [
       "                   head                                               body  \\\n",
       "89     WSL + Kali Linux  wsl Command\\nThe primary command-line interfac...   \n",
       "92     WSL + Kali Linux  wsl --export <distro> <file.tar>\\nExports a WS...   \n",
       "95     WSL + Kali Linux  WSL 1 vs. WSL 2\\nWSL 1: A translation layer th...   \n",
       "98     WSL + Kali Linux  Tools for Troubleshooting GUI Apps on WSL:\\nxs...   \n",
       "237    WSL + Kali Linux  wsl --import <distro> <install-location> <tarb...   \n",
       "240    WSL + Kali Linux  Xfwm4 (XFCE Window Manager)\\nThe window manage...   \n",
       "243    WSL + Kali Linux  WSLg (Windows Subsystem for Linux GUI)\\nA feat...   \n",
       "79   Open Source/GitHub  Contributor\\n\\nAn individual who contributes c...   \n",
       "82   Open Source/GitHub  Code Review\\n\\nThe process where project maint...   \n",
       "85   Open Source/GitHub  Hotfix\\n\\nAn urgent fix applied to a project t...   \n",
       "\n",
       "                                 hash         age  subject_mean_age  \\\n",
       "89   2ff6ec8cc28c0d5a7cf021f5b6848f5d -822.029014        166.759321   \n",
       "92   8f1e550954020ebd4cb9a9d8e38774c2 -206.506836        166.759321   \n",
       "95   6002ff15ed0ad2ec76aea40831992536 -148.825337        166.759321   \n",
       "98   adb0c5b44a17f16e3e3af02d0c82ac18 -113.866619        166.759321   \n",
       "237  ab2d754831f4f5b6db70c1f39a112e3e  -89.304964        166.759321   \n",
       "240  594e6944d7db563ed70cf869889eebb7  -38.232012        166.759321   \n",
       "243  69051af876862485bdb54d8c645a8a40   -4.077996        166.759321   \n",
       "79   38bb149465fee49766142779308d79d1 -608.122479        144.662239   \n",
       "82   54e796254218626003c586dc6c486bed -239.978334        144.662239   \n",
       "85   07a66c6061571c256143d25116985a42 -113.685011        144.662239   \n",
       "\n",
       "     subject_highest_age  subject_age_sum  head_random_roll  count  n_fold  \n",
       "89            822.029014      3168.427101          0.029306      0       0  \n",
       "92            822.029014      3168.427101          0.029306      3       0  \n",
       "95            822.029014      3168.427101          0.029306      6       0  \n",
       "98            822.029014      3168.427101          0.029306      9       0  \n",
       "237           822.029014      3168.427101          0.029306     12       0  \n",
       "240           822.029014      3168.427101          0.029306     15       0  \n",
       "243           822.029014      3168.427101          0.029306     18       0  \n",
       "79            608.122479      2314.595819          0.029470      0       0  \n",
       "82            608.122479      2314.595819          0.029470      3       0  \n",
       "85            608.122479      2314.595819          0.029470      6       0  "
      ]
     },
     "execution_count": 34,
     "metadata": {},
     "output_type": "execute_result"
    }
   ],
   "source": [
    "n = 3\n",
    "existing_cards['count'] = existing_cards.sort_values('age', ascending=False).groupby('head').cumcount()\n",
    "existing_cards['n_fold'] = existing_cards['count'] % n\n",
    "existing_cards['age'] *= -1\n",
    "existing_cards.sort_values(['n_fold', 'head_random_roll', 'age'], inplace=True)\n",
    "remake_card_document(existing_cards=existing_cards)\n",
    "existing_cards.head(10)"
   ]
  },
  {
   "cell_type": "code",
   "execution_count": 35,
   "metadata": {},
   "outputs": [
    {
     "data": {
      "text/plain": [
       "head                   WSL + Kali LinuxWSL + Kali LinuxWSL + Kali Lin...\n",
       "body                   wsl Command\\nThe primary command-line interfac...\n",
       "hash                   2ff6ec8cc28c0d5a7cf021f5b6848f5d8f1e550954020e...\n",
       "age                                                         -2384.628603\n",
       "subject_mean_age                                             1601.301964\n",
       "subject_highest_age                                          7578.570533\n",
       "subject_age_sum                                             29122.777166\n",
       "head_random_roll                                                 0.29355\n",
       "count                                                                 72\n",
       "n_fold                                                                 0\n",
       "dtype: object"
      ]
     },
     "execution_count": 35,
     "metadata": {},
     "output_type": "execute_result"
    }
   ],
   "source": [
    "existing_cards.head(10).sum()"
   ]
  },
  {
   "cell_type": "code",
   "execution_count": 36,
   "metadata": {},
   "outputs": [
    {
     "data": {
      "text/plain": [
       "-136.20258347027863"
      ]
     },
     "execution_count": 36,
     "metadata": {},
     "output_type": "execute_result"
    }
   ],
   "source": [
    "existing_cards['age'].mean()"
   ]
  }
 ],
 "metadata": {
  "kernelspec": {
   "display_name": "Python 3",
   "language": "python",
   "name": "python3"
  },
  "language_info": {
   "codemirror_mode": {
    "name": "ipython",
    "version": 3
   },
   "file_extension": ".py",
   "mimetype": "text/x-python",
   "name": "python",
   "nbconvert_exporter": "python",
   "pygments_lexer": "ipython3",
   "version": "3.10.10"
  }
 },
 "nbformat": 4,
 "nbformat_minor": 2
}
