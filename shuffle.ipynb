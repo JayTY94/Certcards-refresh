{
 "cells": [
  {
   "cell_type": "code",
   "execution_count": 57,
   "metadata": {},
   "outputs": [],
   "source": [
    "import re\n",
    "import random\n",
    "import pandas as pd\n",
    "import hashlib"
   ]
  },
  {
   "cell_type": "code",
   "execution_count": 58,
   "metadata": {},
   "outputs": [],
   "source": [
    "with open('certcards2.txt', mode='r', encoding='utf8') as f:\n",
    "    all_cards = f.read()\n",
    "    \n",
    "card_split_pattern = r'\\n\\n\\n\\d+\\n'\n",
    "all_cards = re.split(card_split_pattern, all_cards)\n",
    "# Use re.DOTALL to allow . to match newline characters\n",
    "card_pattern = re.compile(r'(.+?)\\n([\\s\\S]+)', re.DOTALL)\n",
    "cards = [(match.group(1), match.group(2)) for cstring in all_cards if (match := re.search(card_pattern, cstring))]\n",
    "\n",
    "# removing the cards that have no content and trimming\n",
    "cards = [(subject, stripped_content) for subject, content in cards if len(stripped_content := content.strip()) > 5]\n",
    "\n",
    "def hash_string_md5(s):\n",
    "    \"\"\"\n",
    "    Hashes a string using MD5 and returns a truncated hash for efficiency.\n",
    "\n",
    "    Parameters:\n",
    "    - s (str): The input string to hash.\n",
    "\n",
    "    Returns:\n",
    "    - str: The truncated hexadecimal hash string.\n",
    "    \"\"\"\n",
    "    if pd.isnull(s):\n",
    "        return None  # Handle NaN values gracefully\n",
    "    return hashlib.md5(s.encode('utf-8')).hexdigest()  # Truncate to first 12 characters\n",
    "\n",
    "\n",
    "def remake_card_document(existing_cards: pd.DataFrame, filename: str='certcards2.txt'):\n",
    "    with open(filename, mode='w', encoding='utf8') as f:\n",
    "        i = 1\n",
    "        for _, row in existing_cards.iterrows():\n",
    "            f.write('\\n'*6)\n",
    "            f.write(str(i)+'\\n')  \n",
    "            f.write(row['head']+'\\n')\n",
    "            f.write(row['body'])\n",
    "            i+=1\n",
    "    print(F\"Cards found: {existing_cards.shape[0]}\")\n",
    "\n",
    "\n",
    "existing_cards = pd.DataFrame(cards, columns=['head', 'body'])\n",
    "\n",
    "\n",
    "# existing_cards['age'] = [random.random() for _ in existing_cards.index]\n",
    "existing_cards['hash'] = existing_cards['body'].apply(hash_string_md5)\n",
    "existing_cards\n",
    "\n",
    "card_ages = pd.read_json('card_ages.json')\n",
    "card_ages = card_ages.drop_duplicates(subset=['hash'], keep='first')\n",
    "\n",
    "cards_to_age = pd.merge(\n",
    "    left=existing_cards,\n",
    "    right=card_ages[['hash', 'age']],\n",
    "    left_on='hash', right_on='hash',\n",
    "    how='left'\n",
    ")\n",
    "\n",
    "cards_to_age['head'] = cards_to_age['head'].str.strip()\n",
    "\n",
    "if cards_to_age['age'].sum() > 2e4: age_factor = 1\n",
    "else: age_factor = 1.00\n",
    "\n",
    "cards_to_age['age'] = cards_to_age['age'].fillna(0)\n",
    "cards_to_age['age'] = cards_to_age['age'] * age_factor\n",
    "cards_to_age['age'] = cards_to_age['age'] + [random.expovariate(.60) for _ in cards_to_age.index]\n",
    "# cards_to_age['age'] = cards_to_age['age'] * [random.expovariate(.5) for _ in cards_to_age.index]\n",
    "\n",
    "\n",
    "cards_to_age = cards_to_age.drop_duplicates(subset=['hash'], keep='first')\n",
    "\n",
    "cards_to_age['subject_mean_age'] = cards_to_age.groupby('head')['age'].transform('mean')\n",
    "cards_to_age['subject_highest_age'] = cards_to_age.groupby('head')['age'].transform('max')\n",
    "cards_to_age['subject_age_sum'] = cards_to_age.groupby('head')['age'].transform('sum')\n",
    "cards_to_age['head_random_roll'] = cards_to_age.groupby('head')['head'].transform(lambda x: random.random())\n",
    "\n",
    "\n",
    "cards_to_age.sort_values('age')[['age', 'head', 'hash']].to_json('card_ages.json', indent=2)\n",
    "\n",
    "existing_cards = cards_to_age"
   ]
  },
  {
   "cell_type": "code",
   "execution_count": 59,
   "metadata": {},
   "outputs": [
    {
     "data": {
      "application/vnd.microsoft.datawrangler.viewer.v0+json": {
       "columns": [
        {
         "name": "index",
         "rawType": "object",
         "type": "string"
        },
        {
         "name": "age_sum",
         "rawType": "float64",
         "type": "float"
        },
        {
         "name": "age_mean",
         "rawType": "float64",
         "type": "float"
        },
        {
         "name": "age_max",
         "rawType": "float64",
         "type": "float"
        },
        {
         "name": "head_count",
         "rawType": "int64",
         "type": "integer"
        }
       ],
       "conversionMethod": "pd.DataFrame",
       "ref": "257bcbc9-feb4-4a73-8feb-72eafc9d7ce8",
       "rows": [
        [
         "Powershell",
         "466.7296258332306",
         "93.34592516664613",
         "243.06038673503423",
         "5"
        ],
        [
         "Todd Ideas",
         "844.8294907485785",
         "56.32196604990523",
         "147.02770764819644",
         "15"
        ],
        [
         "PEP 8",
         "1347.5914922404459",
         "168.44893653005573",
         "575.3531653833825",
         "8"
        ],
        [
         "SharePoint",
         "1577.8394835600711",
         "131.48662363000594",
         "568.9357588878711",
         "12"
        ],
        [
         "Audit Report Tracker (Sharepoint List)",
         "1675.0360380799787",
         "128.8489260061522",
         "354.45413417733016",
         "13"
        ],
        [
         "Debugging in VS Code",
         "1801.7731121170555",
         "90.08865560585278",
         "242.06834166222106",
         "20"
        ],
        [
         "Terraform",
         "1856.4717684527063",
         "74.25887073810826",
         "247.5988290554803",
         "25"
        ],
        [
         "Azure Functions + Visual Studio",
         "1864.1938416606577",
         "133.15670297576125",
         "476.3889331712385",
         "14"
        ],
        [
         "IW Migration",
         "2019.3054986828702",
         "144.23610704877643",
         "452.76098770238303",
         "14"
        ],
        [
         "Open Source/GitHub",
         "2170.65494665394",
         "135.66593416587125",
         "353.02494943828384",
         "16"
        ],
        [
         "FSLogix",
         "2228.1561961752495",
         "92.83984150730207",
         "260.01846278115846",
         "24"
        ],
        [
         "Email Auth and Security",
         "2264.61979283461",
         "174.20152252573922",
         "893.1897347383504",
         "13"
        ],
        [
         "Azure Functions",
         "2796.0665226243673",
         "254.1878656931243",
         "733.4502246262929",
         "11"
        ],
        [
         "DNS",
         "2999.24965299229",
         "187.45310331201813",
         "386.58178238347807",
         "16"
        ],
        [
         "Azure AI Search",
         "3655.4321125116",
         "261.10229375082855",
         "715.3644375157672",
         "14"
        ],
        [
         "Powershell Modules",
         "4526.018786364241",
         "150.86729287880806",
         "677.1866153852344",
         "30"
        ],
        [
         "Azure Functions + PP365",
         "5025.752006794069",
         "201.03008027176276",
         "1049.1053945198275",
         "25"
        ],
        [
         "OData",
         "5203.242381177057",
         "346.88282541180376",
         "993.1738123688195",
         "15"
        ],
        [
         "Home Network Project",
         "5380.044712817204",
         "283.1602480430107",
         "1194.65344184401",
         "19"
        ],
        [
         "WSL + Kali Linux",
         "5838.814462071385",
         "265.40065736688115",
         "1217.8295856713917",
         "22"
        ],
        [
         "Vocab",
         "6082.757175780185",
         "92.16298751182099",
         "854.5457760187107",
         "66"
        ],
        [
         "PnP Powershell",
         "6358.0271525331245",
         "167.3165040140296",
         "648.6984928815534",
         "38"
        ],
        [
         "JavaScript Concepts",
         "6636.848806357924",
         "108.80080010422827",
         "428.0338358246879",
         "61"
        ],
        [
         "Logging in Python",
         "8195.04589802609",
         "136.58409830043485",
         "1021.77818326414",
         "60"
        ]
       ],
       "shape": {
        "columns": 4,
        "rows": 24
       }
      },
      "text/html": [
       "<div>\n",
       "<style scoped>\n",
       "    .dataframe tbody tr th:only-of-type {\n",
       "        vertical-align: middle;\n",
       "    }\n",
       "\n",
       "    .dataframe tbody tr th {\n",
       "        vertical-align: top;\n",
       "    }\n",
       "\n",
       "    .dataframe thead th {\n",
       "        text-align: right;\n",
       "    }\n",
       "</style>\n",
       "<table border=\"1\" class=\"dataframe\">\n",
       "  <thead>\n",
       "    <tr style=\"text-align: right;\">\n",
       "      <th></th>\n",
       "      <th>age_sum</th>\n",
       "      <th>age_mean</th>\n",
       "      <th>age_max</th>\n",
       "      <th>head_count</th>\n",
       "    </tr>\n",
       "  </thead>\n",
       "  <tbody>\n",
       "    <tr>\n",
       "      <th>Powershell</th>\n",
       "      <td>466.729626</td>\n",
       "      <td>93.345925</td>\n",
       "      <td>243.060387</td>\n",
       "      <td>5</td>\n",
       "    </tr>\n",
       "    <tr>\n",
       "      <th>Todd Ideas</th>\n",
       "      <td>844.829491</td>\n",
       "      <td>56.321966</td>\n",
       "      <td>147.027708</td>\n",
       "      <td>15</td>\n",
       "    </tr>\n",
       "    <tr>\n",
       "      <th>PEP 8</th>\n",
       "      <td>1347.591492</td>\n",
       "      <td>168.448937</td>\n",
       "      <td>575.353165</td>\n",
       "      <td>8</td>\n",
       "    </tr>\n",
       "    <tr>\n",
       "      <th>SharePoint</th>\n",
       "      <td>1577.839484</td>\n",
       "      <td>131.486624</td>\n",
       "      <td>568.935759</td>\n",
       "      <td>12</td>\n",
       "    </tr>\n",
       "    <tr>\n",
       "      <th>Audit Report Tracker (Sharepoint List)</th>\n",
       "      <td>1675.036038</td>\n",
       "      <td>128.848926</td>\n",
       "      <td>354.454134</td>\n",
       "      <td>13</td>\n",
       "    </tr>\n",
       "    <tr>\n",
       "      <th>Debugging in VS Code</th>\n",
       "      <td>1801.773112</td>\n",
       "      <td>90.088656</td>\n",
       "      <td>242.068342</td>\n",
       "      <td>20</td>\n",
       "    </tr>\n",
       "    <tr>\n",
       "      <th>Terraform</th>\n",
       "      <td>1856.471768</td>\n",
       "      <td>74.258871</td>\n",
       "      <td>247.598829</td>\n",
       "      <td>25</td>\n",
       "    </tr>\n",
       "    <tr>\n",
       "      <th>Azure Functions + Visual Studio</th>\n",
       "      <td>1864.193842</td>\n",
       "      <td>133.156703</td>\n",
       "      <td>476.388933</td>\n",
       "      <td>14</td>\n",
       "    </tr>\n",
       "    <tr>\n",
       "      <th>IW Migration</th>\n",
       "      <td>2019.305499</td>\n",
       "      <td>144.236107</td>\n",
       "      <td>452.760988</td>\n",
       "      <td>14</td>\n",
       "    </tr>\n",
       "    <tr>\n",
       "      <th>Open Source/GitHub</th>\n",
       "      <td>2170.654947</td>\n",
       "      <td>135.665934</td>\n",
       "      <td>353.024949</td>\n",
       "      <td>16</td>\n",
       "    </tr>\n",
       "    <tr>\n",
       "      <th>FSLogix</th>\n",
       "      <td>2228.156196</td>\n",
       "      <td>92.839842</td>\n",
       "      <td>260.018463</td>\n",
       "      <td>24</td>\n",
       "    </tr>\n",
       "    <tr>\n",
       "      <th>Email Auth and Security</th>\n",
       "      <td>2264.619793</td>\n",
       "      <td>174.201523</td>\n",
       "      <td>893.189735</td>\n",
       "      <td>13</td>\n",
       "    </tr>\n",
       "    <tr>\n",
       "      <th>Azure Functions</th>\n",
       "      <td>2796.066523</td>\n",
       "      <td>254.187866</td>\n",
       "      <td>733.450225</td>\n",
       "      <td>11</td>\n",
       "    </tr>\n",
       "    <tr>\n",
       "      <th>DNS</th>\n",
       "      <td>2999.249653</td>\n",
       "      <td>187.453103</td>\n",
       "      <td>386.581782</td>\n",
       "      <td>16</td>\n",
       "    </tr>\n",
       "    <tr>\n",
       "      <th>Azure AI Search</th>\n",
       "      <td>3655.432113</td>\n",
       "      <td>261.102294</td>\n",
       "      <td>715.364438</td>\n",
       "      <td>14</td>\n",
       "    </tr>\n",
       "    <tr>\n",
       "      <th>Powershell Modules</th>\n",
       "      <td>4526.018786</td>\n",
       "      <td>150.867293</td>\n",
       "      <td>677.186615</td>\n",
       "      <td>30</td>\n",
       "    </tr>\n",
       "    <tr>\n",
       "      <th>Azure Functions + PP365</th>\n",
       "      <td>5025.752007</td>\n",
       "      <td>201.030080</td>\n",
       "      <td>1049.105395</td>\n",
       "      <td>25</td>\n",
       "    </tr>\n",
       "    <tr>\n",
       "      <th>OData</th>\n",
       "      <td>5203.242381</td>\n",
       "      <td>346.882825</td>\n",
       "      <td>993.173812</td>\n",
       "      <td>15</td>\n",
       "    </tr>\n",
       "    <tr>\n",
       "      <th>Home Network Project</th>\n",
       "      <td>5380.044713</td>\n",
       "      <td>283.160248</td>\n",
       "      <td>1194.653442</td>\n",
       "      <td>19</td>\n",
       "    </tr>\n",
       "    <tr>\n",
       "      <th>WSL + Kali Linux</th>\n",
       "      <td>5838.814462</td>\n",
       "      <td>265.400657</td>\n",
       "      <td>1217.829586</td>\n",
       "      <td>22</td>\n",
       "    </tr>\n",
       "    <tr>\n",
       "      <th>Vocab</th>\n",
       "      <td>6082.757176</td>\n",
       "      <td>92.162988</td>\n",
       "      <td>854.545776</td>\n",
       "      <td>66</td>\n",
       "    </tr>\n",
       "    <tr>\n",
       "      <th>PnP Powershell</th>\n",
       "      <td>6358.027153</td>\n",
       "      <td>167.316504</td>\n",
       "      <td>648.698493</td>\n",
       "      <td>38</td>\n",
       "    </tr>\n",
       "    <tr>\n",
       "      <th>JavaScript Concepts</th>\n",
       "      <td>6636.848806</td>\n",
       "      <td>108.800800</td>\n",
       "      <td>428.033836</td>\n",
       "      <td>61</td>\n",
       "    </tr>\n",
       "    <tr>\n",
       "      <th>Logging in Python</th>\n",
       "      <td>8195.045898</td>\n",
       "      <td>136.584098</td>\n",
       "      <td>1021.778183</td>\n",
       "      <td>60</td>\n",
       "    </tr>\n",
       "  </tbody>\n",
       "</table>\n",
       "</div>"
      ],
      "text/plain": [
       "                                            age_sum    age_mean      age_max  \\\n",
       "Powershell                               466.729626   93.345925   243.060387   \n",
       "Todd Ideas                               844.829491   56.321966   147.027708   \n",
       "PEP 8                                   1347.591492  168.448937   575.353165   \n",
       "SharePoint                              1577.839484  131.486624   568.935759   \n",
       "Audit Report Tracker (Sharepoint List)  1675.036038  128.848926   354.454134   \n",
       "Debugging in VS Code                    1801.773112   90.088656   242.068342   \n",
       "Terraform                               1856.471768   74.258871   247.598829   \n",
       "Azure Functions + Visual Studio         1864.193842  133.156703   476.388933   \n",
       "IW Migration                            2019.305499  144.236107   452.760988   \n",
       "Open Source/GitHub                      2170.654947  135.665934   353.024949   \n",
       "FSLogix                                 2228.156196   92.839842   260.018463   \n",
       "Email Auth and Security                 2264.619793  174.201523   893.189735   \n",
       "Azure Functions                         2796.066523  254.187866   733.450225   \n",
       "DNS                                     2999.249653  187.453103   386.581782   \n",
       "Azure AI Search                         3655.432113  261.102294   715.364438   \n",
       "Powershell Modules                      4526.018786  150.867293   677.186615   \n",
       "Azure Functions + PP365                 5025.752007  201.030080  1049.105395   \n",
       "OData                                   5203.242381  346.882825   993.173812   \n",
       "Home Network Project                    5380.044713  283.160248  1194.653442   \n",
       "WSL + Kali Linux                        5838.814462  265.400657  1217.829586   \n",
       "Vocab                                   6082.757176   92.162988   854.545776   \n",
       "PnP Powershell                          6358.027153  167.316504   648.698493   \n",
       "JavaScript Concepts                     6636.848806  108.800800   428.033836   \n",
       "Logging in Python                       8195.045898  136.584098  1021.778183   \n",
       "\n",
       "                                        head_count  \n",
       "Powershell                                       5  \n",
       "Todd Ideas                                      15  \n",
       "PEP 8                                            8  \n",
       "SharePoint                                      12  \n",
       "Audit Report Tracker (Sharepoint List)          13  \n",
       "Debugging in VS Code                            20  \n",
       "Terraform                                       25  \n",
       "Azure Functions + Visual Studio                 14  \n",
       "IW Migration                                    14  \n",
       "Open Source/GitHub                              16  \n",
       "FSLogix                                         24  \n",
       "Email Auth and Security                         13  \n",
       "Azure Functions                                 11  \n",
       "DNS                                             16  \n",
       "Azure AI Search                                 14  \n",
       "Powershell Modules                              30  \n",
       "Azure Functions + PP365                         25  \n",
       "OData                                           15  \n",
       "Home Network Project                            19  \n",
       "WSL + Kali Linux                                22  \n",
       "Vocab                                           66  \n",
       "PnP Powershell                                  38  \n",
       "JavaScript Concepts                             61  \n",
       "Logging in Python                               60  "
      ]
     },
     "execution_count": 59,
     "metadata": {},
     "output_type": "execute_result"
    }
   ],
   "source": [
    "stats = existing_cards.groupby('head').agg({'age': ['sum', 'mean', 'max'], 'head': 'count'}).sort_values(('age', 'sum'))\n",
    "stats.columns = stats.columns.to_flat_index()\n",
    "stats.columns = ['_'.join(col).strip() for col in stats.columns]\n",
    "stats.index.name = None\n",
    "stats"
   ]
  },
  {
   "cell_type": "markdown",
   "metadata": {},
   "source": [
    "# Histogram"
   ]
  },
  {
   "cell_type": "code",
   "execution_count": 60,
   "metadata": {},
   "outputs": [
    {
     "name": "stdout",
     "output_type": "stream",
     "text": [
      "82814.50\n"
     ]
    },
    {
     "data": {
      "text/plain": [
       "<Axes: >"
      ]
     },
     "execution_count": 60,
     "metadata": {},
     "output_type": "execute_result"
    },
    {
     "data": {
      "image/png": "[encoded data removed]",
      "text/plain": [
       "<Figure size 640x480 with 1 Axes>"
      ]
     },
     "metadata": {},
     "output_type": "display_data"
    }
   ],
   "source": [
    "print(f\"{existing_cards['age'].sum(0):.2f}\")\n",
    "existing_cards['age'].hist(bins=20)"
   ]
  },
  {
   "cell_type": "markdown",
   "metadata": {},
   "source": [
    "# Completely Random Shuffle"
   ]
  },
  {
   "cell_type": "code",
   "execution_count": 61,
   "metadata": {},
   "outputs": [],
   "source": [
    "# existing_cards = existing_cards.sample(frac=1)\n",
    "# remake_card_document(filename='certcards2.txt', existing_cards = existing_cards)"
   ]
  },
  {
   "cell_type": "markdown",
   "metadata": {},
   "source": [
    "# Age Sort"
   ]
  },
  {
   "cell_type": "code",
   "execution_count": 62,
   "metadata": {},
   "outputs": [],
   "source": [
    "# existing_cards = existing_cards.sort_values('age', ascending=False)\n",
    "# remake_card_document(filename='certcards2.txt', existing_cards=existing_cards)\n",
    "# existing_cards.head(10)"
   ]
  },
  {
   "cell_type": "markdown",
   "metadata": {},
   "source": [
    "# Headers with fewest notes first"
   ]
  },
  {
   "cell_type": "code",
   "execution_count": 63,
   "metadata": {},
   "outputs": [],
   "source": [
    "# frequency = existing_cards['head'].value_counts(ascending=True)\n",
    "\n",
    "# existing_cards = pd.merge(\n",
    "#     left=existing_cards,\n",
    "#     right=frequency.rename('frequency'),\n",
    "#     left_on='head', right_index=True,\n",
    "#     how='left'\n",
    "# )\n",
    "# existing_cards['oldest'] = existing_cards.groupby('head')['age'].transform('max')\n",
    "# existing_cards['subject_highest_age'] = existing_cards['subject_highest_age'] * -1\n",
    "# existing_cards['age'] = existing_cards['age'] * -1\n",
    "\n",
    "\n",
    "# existing_cards.sort_values(['frequency', 'subject_highest_age', 'age'], ascending=True, inplace=True)\n",
    "\n",
    "# remake_card_document(filename='certcards2.txt', existing_cards=existing_cards)\n",
    "\n",
    "# existing_cards.head(10)"
   ]
  },
  {
   "cell_type": "markdown",
   "metadata": {},
   "source": [
    "# Focus on one header"
   ]
  },
  {
   "cell_type": "code",
   "execution_count": 64,
   "metadata": {},
   "outputs": [],
   "source": [
    "# heads = existing_cards['head'].value_counts()\n",
    "# heads = heads[heads > 5].index.tolist()\n",
    "# one_header = random.sample(heads, 1)[0]\n",
    "# existing_cards['pick_head'] = existing_cards['head'].apply(\n",
    "#     lambda h: 0 if h == one_header else 1 \n",
    "# )\n",
    "\n",
    "# remake_card_document(existing_cards=existing_cards.sort_values('pick_head'))"
   ]
  },
  {
   "cell_type": "markdown",
   "metadata": {},
   "source": [
    "## Header with oldest cards first"
   ]
  },
  {
   "cell_type": "code",
   "execution_count": 65,
   "metadata": {},
   "outputs": [],
   "source": [
    "# existing_cards['oldest'] = existing_cards.groupby('head')['age'].transform('max')\n",
    "# existing_cards.sort_values(['oldest', 'age'], ascending=False, inplace=True)\n",
    "# remake_card_document(existing_cards)"
   ]
  },
  {
   "cell_type": "markdown",
   "metadata": {},
   "source": [
    "## Headers with greatest mean card age first"
   ]
  },
  {
   "cell_type": "code",
   "execution_count": 66,
   "metadata": {},
   "outputs": [],
   "source": [
    "# existing_cards.sort_values(['subject_mean_age', 'age'], ascending=False, inplace=True)\n",
    "# remake_card_document(existing_cards)"
   ]
  },
  {
   "cell_type": "markdown",
   "metadata": {},
   "source": [
    "## Headers with greatest age sum first"
   ]
  },
  {
   "cell_type": "code",
   "execution_count": 67,
   "metadata": {},
   "outputs": [],
   "source": [
    "# existing_cards.sort_values(['subject_age_sum', 'age'], ascending=False, inplace=True)\n",
    "# remake_card_document(existing_cards)"
   ]
  },
  {
   "cell_type": "markdown",
   "metadata": {},
   "source": [
    "# N-fold shuffle\n"
   ]
  },
  {
   "cell_type": "markdown",
   "metadata": {},
   "source": [
    "## Age Sum"
   ]
  },
  {
   "cell_type": "code",
   "execution_count": 68,
   "metadata": {},
   "outputs": [],
   "source": [
    "# n=10\n",
    "# existing_cards['count'] = existing_cards.sort_values('age', ascending=False).groupby('head').cumcount()\n",
    "# existing_cards['n_fold'] = existing_cards['count'] // n\n",
    "\n",
    "# existing_cards['subject_age_sum'] = existing_cards['subject_age_sum'] *-1\n",
    "# existing_cards['age'] = existing_cards['age'] *-1\n",
    "# existing_cards.sort_values(['n_fold', 'subject_age_sum', 'age'], inplace=True)\n",
    "\n",
    "# remake_card_document(existing_cards=existing_cards)\n",
    "# existing_cards.head(10)\n"
   ]
  },
  {
   "cell_type": "markdown",
   "metadata": {},
   "source": [
    "## Age Mean"
   ]
  },
  {
   "cell_type": "code",
   "execution_count": 69,
   "metadata": {},
   "outputs": [
    {
     "name": "stdout",
     "output_type": "stream",
     "text": [
      "Cards found: 556\n"
     ]
    },
    {
     "data": {
      "application/vnd.microsoft.datawrangler.viewer.v0+json": {
       "columns": [
        {
         "name": "index",
         "rawType": "int64",
         "type": "integer"
        },
        {
         "name": "head",
         "rawType": "object",
         "type": "string"
        },
        {
         "name": "body",
         "rawType": "object",
         "type": "string"
        },
        {
         "name": "hash",
         "rawType": "object",
         "type": "string"
        },
        {
         "name": "age",
         "rawType": "float64",
         "type": "float"
        },
        {
         "name": "subject_mean_age",
         "rawType": "float64",
         "type": "float"
        },
        {
         "name": "subject_highest_age",
         "rawType": "float64",
         "type": "float"
        },
        {
         "name": "subject_age_sum",
         "rawType": "float64",
         "type": "float"
        },
        {
         "name": "head_random_roll",
         "rawType": "float64",
         "type": "float"
        },
        {
         "name": "count",
         "rawType": "int64",
         "type": "integer"
        },
        {
         "name": "n_fold",
         "rawType": "int64",
         "type": "integer"
        }
       ],
       "conversionMethod": "pd.DataFrame",
       "ref": "0e98c783-e994-4cd9-9926-7069b8139c27",
       "rows": [
        [
         "12",
         "OData",
         "IsSideEffecting Annotation (Org.OData.Core.V1.IsSideEffecting)\n\nDefinition: An OData annotation that indicates an operation (action or function) may cause data changes on the server.\nContext: Useful for clients to understand that the request cannot be treated as purely read-only or cached safely.",
         "d8914b66a46000e7d49d28751ef0ce4d",
         "-993.1738123688195",
         "-346.88282541180376",
         "993.1738123688195",
         "5203.242381177057",
         "0.4610996542864758",
         "0",
         "0"
        ],
        [
         "84",
         "OData",
         "Metadata in OData describes the structure, data types, relationships, and other aspects of the data model. The $metadata endpoint provides the service’s data model and schema definitions using CSDL, essential for understanding available entities and their relationships.",
         "6481d267891f44f7021eb148e72d7a2d",
         "-469.61051933380725",
         "-346.88282541180376",
         "993.1738123688195",
         "5203.242381177057",
         "0.4610996542864758",
         "3",
         "0"
        ],
        [
         "155",
         "OData",
         "Annotations provide additional metadata about entities, properties, or relationships in the OData model. They enrich the data with information like display names, validation rules, and formatting instructions, enhancing both data semantics and client-side interactions.",
         "e10bfb62a2d41b4902e31c6dfa97b22a",
         "-357.5812249045783",
         "-346.88282541180376",
         "993.1738123688195",
         "5203.242381177057",
         "0.4610996542864758",
         "6",
         "0"
        ],
        [
         "223",
         "OData",
         "OData-defined system query options are optionally prefixed with \"$\". Services may support additional custom query options not defined in the OData specification, but they MUST NOT begin with the \"$\" or \"@\" character and MUST NOT conflict with any OData-defined system query options defined in the OData version supported by the service.",
         "92d41ab5b340318de6b606ed3f94fda4",
         "-175.92269442804795",
         "-346.88282541180376",
         "993.1738123688195",
         "5203.242381177057",
         "0.4610996542864758",
         "9",
         "0"
        ],
        [
         "288",
         "OData",
         "OData services SHOULD NOT require any query options to be specified in a request. Services SHOULD fail any request that contains query options that they do not understand and MUST fail any request that contains unsupported OData query options defined in the version of this specification supported by the service.",
         "7b3849723952f8c81c62d569b4505b3e",
         "-131.38670700586883",
         "-346.88282541180376",
         "993.1738123688195",
         "5203.242381177057",
         "0.4610996542864758",
         "12",
         "0"
        ],
        [
         "3",
         "Home Network Project",
         "Front: What is TLS Termination and why is it used in reverse proxies?\n\nBack: TLS Termination refers to the process of decrypting incoming TLS/SSL encrypted traffic at the reverse proxy level before forwarding it to backend servers. It offloads the computationally intensive decryption task from backend servers, improves performance, and allows for centralized management of SSL certificates.",
         "5297051eea9892af904815d3794faf15",
         "-1194.65344184401",
         "-283.1602480430107",
         "1194.65344184401",
         "5380.044712817204",
         "0.6425777213907082",
         "0",
         "0"
        ],
        [
         "75",
         "Home Network Project",
         "Front: What is Bandwidth and how does it differ from Throughput?\n\nBack:\n\nBandwidth: The maximum rate of data transfer across a network path, typically measured in Mbps or Gbps. It represents the network's capacity.\nThroughput: The actual rate of successful data transfer achieved, often lower than the bandwidth due to factors like network congestion and protocol overhead.",
         "8d6d825a0008723089184f0a0131e2d6",
         "-455.200840069677",
         "-283.1602480430107",
         "1194.65344184401",
         "5380.044712817204",
         "0.6425777213907082",
         "3",
         "0"
        ],
        [
         "146",
         "Home Network Project",
         "Front: What is Rate Limiting and how does it help in preventing attacks?\n\nBack: Rate Limiting restricts the number of requests a user or IP address can make to a service within a specific time frame. It helps prevent various attacks, such as brute-force attacks, denial-of-service (DoS) attacks, and abuse of APIs, by limiting the potential impact of malicious activities.",
         "8178df4fba6be87bebbac33e10e32135",
         "-304.24885486434636",
         "-283.1602480430107",
         "1194.65344184401",
         "5380.044712817204",
         "0.6425777213907082",
         "6",
         "0"
        ],
        [
         "214",
         "Home Network Project",
         "Front: What is Fail2Ban and how does it protect a network?\n\nBack: Fail2Ban is an intrusion prevention software that monitors log files for suspicious activity, such as repeated failed login attempts. When such patterns are detected, Fail2Ban automatically updates firewall rules to temporarily or permanently ban offending IP addresses, protecting the network from brute-force attacks and unauthorized access.",
         "d7fc83e3380f6d95ec44141a17d86066",
         "-190.63542850766746",
         "-283.1602480430107",
         "1194.65344184401",
         "5380.044712817204",
         "0.6425777213907082",
         "9",
         "0"
        ],
        [
         "279",
         "Home Network Project",
         "How do you install Docker on a Raspberry Pi?\n\nbash\ncurl -fsSL https://get.docker.com -o get-docker.sh\nsudo sh get-docker.sh\nsudo usermod -aG docker pi",
         "7900b83a7ba7844a4c599eafecb06af7",
         "-90.04541472321323",
         "-283.1602480430107",
         "1194.65344184401",
         "5380.044712817204",
         "0.6425777213907082",
         "12",
         "0"
        ]
       ],
       "shape": {
        "columns": 10,
        "rows": 10
       }
      },
      "text/html": [
       "<div>\n",
       "<style scoped>\n",
       "    .dataframe tbody tr th:only-of-type {\n",
       "        vertical-align: middle;\n",
       "    }\n",
       "\n",
       "    .dataframe tbody tr th {\n",
       "        vertical-align: top;\n",
       "    }\n",
       "\n",
       "    .dataframe thead th {\n",
       "        text-align: right;\n",
       "    }\n",
       "</style>\n",
       "<table border=\"1\" class=\"dataframe\">\n",
       "  <thead>\n",
       "    <tr style=\"text-align: right;\">\n",
       "      <th></th>\n",
       "      <th>head</th>\n",
       "      <th>body</th>\n",
       "      <th>hash</th>\n",
       "      <th>age</th>\n",
       "      <th>subject_mean_age</th>\n",
       "      <th>subject_highest_age</th>\n",
       "      <th>subject_age_sum</th>\n",
       "      <th>head_random_roll</th>\n",
       "      <th>count</th>\n",
       "      <th>n_fold</th>\n",
       "    </tr>\n",
       "  </thead>\n",
       "  <tbody>\n",
       "    <tr>\n",
       "      <th>12</th>\n",
       "      <td>OData</td>\n",
       "      <td>IsSideEffecting Annotation (Org.OData.Core.V1....</td>\n",
       "      <td>d8914b66a46000e7d49d28751ef0ce4d</td>\n",
       "      <td>-993.173812</td>\n",
       "      <td>-346.882825</td>\n",
       "      <td>993.173812</td>\n",
       "      <td>5203.242381</td>\n",
       "      <td>0.461100</td>\n",
       "      <td>0</td>\n",
       "      <td>0</td>\n",
       "    </tr>\n",
       "    <tr>\n",
       "      <th>84</th>\n",
       "      <td>OData</td>\n",
       "      <td>Metadata in OData describes the structure, dat...</td>\n",
       "      <td>6481d267891f44f7021eb148e72d7a2d</td>\n",
       "      <td>-469.610519</td>\n",
       "      <td>-346.882825</td>\n",
       "      <td>993.173812</td>\n",
       "      <td>5203.242381</td>\n",
       "      <td>0.461100</td>\n",
       "      <td>3</td>\n",
       "      <td>0</td>\n",
       "    </tr>\n",
       "    <tr>\n",
       "      <th>155</th>\n",
       "      <td>OData</td>\n",
       "      <td>Annotations provide additional metadata about ...</td>\n",
       "      <td>e10bfb62a2d41b4902e31c6dfa97b22a</td>\n",
       "      <td>-357.581225</td>\n",
       "      <td>-346.882825</td>\n",
       "      <td>993.173812</td>\n",
       "      <td>5203.242381</td>\n",
       "      <td>0.461100</td>\n",
       "      <td>6</td>\n",
       "      <td>0</td>\n",
       "    </tr>\n",
       "    <tr>\n",
       "      <th>223</th>\n",
       "      <td>OData</td>\n",
       "      <td>OData-defined system query options are optiona...</td>\n",
       "      <td>92d41ab5b340318de6b606ed3f94fda4</td>\n",
       "      <td>-175.922694</td>\n",
       "      <td>-346.882825</td>\n",
       "      <td>993.173812</td>\n",
       "      <td>5203.242381</td>\n",
       "      <td>0.461100</td>\n",
       "      <td>9</td>\n",
       "      <td>0</td>\n",
       "    </tr>\n",
       "    <tr>\n",
       "      <th>288</th>\n",
       "      <td>OData</td>\n",
       "      <td>OData services SHOULD NOT require any query op...</td>\n",
       "      <td>7b3849723952f8c81c62d569b4505b3e</td>\n",
       "      <td>-131.386707</td>\n",
       "      <td>-346.882825</td>\n",
       "      <td>993.173812</td>\n",
       "      <td>5203.242381</td>\n",
       "      <td>0.461100</td>\n",
       "      <td>12</td>\n",
       "      <td>0</td>\n",
       "    </tr>\n",
       "    <tr>\n",
       "      <th>3</th>\n",
       "      <td>Home Network Project</td>\n",
       "      <td>Front: What is TLS Termination and why is it u...</td>\n",
       "      <td>5297051eea9892af904815d3794faf15</td>\n",
       "      <td>-1194.653442</td>\n",
       "      <td>-283.160248</td>\n",
       "      <td>1194.653442</td>\n",
       "      <td>5380.044713</td>\n",
       "      <td>0.642578</td>\n",
       "      <td>0</td>\n",
       "      <td>0</td>\n",
       "    </tr>\n",
       "    <tr>\n",
       "      <th>75</th>\n",
       "      <td>Home Network Project</td>\n",
       "      <td>Front: What is Bandwidth and how does it diffe...</td>\n",
       "      <td>8d6d825a0008723089184f0a0131e2d6</td>\n",
       "      <td>-455.200840</td>\n",
       "      <td>-283.160248</td>\n",
       "      <td>1194.653442</td>\n",
       "      <td>5380.044713</td>\n",
       "      <td>0.642578</td>\n",
       "      <td>3</td>\n",
       "      <td>0</td>\n",
       "    </tr>\n",
       "    <tr>\n",
       "      <th>146</th>\n",
       "      <td>Home Network Project</td>\n",
       "      <td>Front: What is Rate Limiting and how does it h...</td>\n",
       "      <td>8178df4fba6be87bebbac33e10e32135</td>\n",
       "      <td>-304.248855</td>\n",
       "      <td>-283.160248</td>\n",
       "      <td>1194.653442</td>\n",
       "      <td>5380.044713</td>\n",
       "      <td>0.642578</td>\n",
       "      <td>6</td>\n",
       "      <td>0</td>\n",
       "    </tr>\n",
       "    <tr>\n",
       "      <th>214</th>\n",
       "      <td>Home Network Project</td>\n",
       "      <td>Front: What is Fail2Ban and how does it protec...</td>\n",
       "      <td>d7fc83e3380f6d95ec44141a17d86066</td>\n",
       "      <td>-190.635429</td>\n",
       "      <td>-283.160248</td>\n",
       "      <td>1194.653442</td>\n",
       "      <td>5380.044713</td>\n",
       "      <td>0.642578</td>\n",
       "      <td>9</td>\n",
       "      <td>0</td>\n",
       "    </tr>\n",
       "    <tr>\n",
       "      <th>279</th>\n",
       "      <td>Home Network Project</td>\n",
       "      <td>How do you install Docker on a Raspberry Pi?\\n...</td>\n",
       "      <td>7900b83a7ba7844a4c599eafecb06af7</td>\n",
       "      <td>-90.045415</td>\n",
       "      <td>-283.160248</td>\n",
       "      <td>1194.653442</td>\n",
       "      <td>5380.044713</td>\n",
       "      <td>0.642578</td>\n",
       "      <td>12</td>\n",
       "      <td>0</td>\n",
       "    </tr>\n",
       "  </tbody>\n",
       "</table>\n",
       "</div>"
      ],
      "text/plain": [
       "                     head                                               body  \\\n",
       "12                  OData  IsSideEffecting Annotation (Org.OData.Core.V1....   \n",
       "84                  OData  Metadata in OData describes the structure, dat...   \n",
       "155                 OData  Annotations provide additional metadata about ...   \n",
       "223                 OData  OData-defined system query options are optiona...   \n",
       "288                 OData  OData services SHOULD NOT require any query op...   \n",
       "3    Home Network Project  Front: What is TLS Termination and why is it u...   \n",
       "75   Home Network Project  Front: What is Bandwidth and how does it diffe...   \n",
       "146  Home Network Project  Front: What is Rate Limiting and how does it h...   \n",
       "214  Home Network Project  Front: What is Fail2Ban and how does it protec...   \n",
       "279  Home Network Project  How do you install Docker on a Raspberry Pi?\\n...   \n",
       "\n",
       "                                 hash          age  subject_mean_age  \\\n",
       "12   d8914b66a46000e7d49d28751ef0ce4d  -993.173812       -346.882825   \n",
       "84   6481d267891f44f7021eb148e72d7a2d  -469.610519       -346.882825   \n",
       "155  e10bfb62a2d41b4902e31c6dfa97b22a  -357.581225       -346.882825   \n",
       "223  92d41ab5b340318de6b606ed3f94fda4  -175.922694       -346.882825   \n",
       "288  7b3849723952f8c81c62d569b4505b3e  -131.386707       -346.882825   \n",
       "3    5297051eea9892af904815d3794faf15 -1194.653442       -283.160248   \n",
       "75   8d6d825a0008723089184f0a0131e2d6  -455.200840       -283.160248   \n",
       "146  8178df4fba6be87bebbac33e10e32135  -304.248855       -283.160248   \n",
       "214  d7fc83e3380f6d95ec44141a17d86066  -190.635429       -283.160248   \n",
       "279  7900b83a7ba7844a4c599eafecb06af7   -90.045415       -283.160248   \n",
       "\n",
       "     subject_highest_age  subject_age_sum  head_random_roll  count  n_fold  \n",
       "12            993.173812      5203.242381          0.461100      0       0  \n",
       "84            993.173812      5203.242381          0.461100      3       0  \n",
       "155           993.173812      5203.242381          0.461100      6       0  \n",
       "223           993.173812      5203.242381          0.461100      9       0  \n",
       "288           993.173812      5203.242381          0.461100     12       0  \n",
       "3            1194.653442      5380.044713          0.642578      0       0  \n",
       "75           1194.653442      5380.044713          0.642578      3       0  \n",
       "146          1194.653442      5380.044713          0.642578      6       0  \n",
       "214          1194.653442      5380.044713          0.642578      9       0  \n",
       "279          1194.653442      5380.044713          0.642578     12       0  "
      ]
     },
     "execution_count": 69,
     "metadata": {},
     "output_type": "execute_result"
    }
   ],
   "source": [
    "n=3\n",
    "existing_cards['count'] = existing_cards.sort_values('age', ascending=False).groupby('head').cumcount()\n",
    "existing_cards['n_fold'] = existing_cards['count'] % n\n",
    "\n",
    "existing_cards['subject_mean_age'] = existing_cards['subject_mean_age'] *-1\n",
    "existing_cards['age'] = existing_cards['age'] *-1\n",
    "existing_cards.sort_values(['n_fold', 'subject_mean_age', 'age'], inplace=True)\n",
    "remake_card_document(existing_cards=existing_cards)\n",
    "\n",
    "existing_cards.head(10)\n",
    "\n"
   ]
  },
  {
   "cell_type": "markdown",
   "metadata": {},
   "source": [
    "## Age Max"
   ]
  },
  {
   "cell_type": "code",
   "execution_count": 70,
   "metadata": {},
   "outputs": [],
   "source": [
    "# n = 3\n",
    "# existing_cards['count'] = existing_cards.sort_values('age', ascending=False).groupby('head').cumcount()\n",
    "# existing_cards['n_fold'] = existing_cards['count'] // n\n",
    "\n",
    "# existing_cards['subject_highest_age'] = existing_cards['subject_highest_age'] *-1\n",
    "# existing_cards['age'] = existing_cards['age'] *-1\n",
    "# existing_cards.sort_values(['n_fold', 'subject_highest_age', 'age'], inplace=True)\n",
    "\n",
    "# remake_card_document(existing_cards=existing_cards)\n",
    "# existing_cards.head(10)\n"
   ]
  },
  {
   "cell_type": "markdown",
   "metadata": {},
   "source": [
    "## Card Count"
   ]
  },
  {
   "cell_type": "code",
   "execution_count": 71,
   "metadata": {},
   "outputs": [],
   "source": [
    "# n=10\n",
    "# existing_cards['frequency']  = existing_cards.groupby('head').transform('count')['body']\n",
    "# existing_cards['count'] = existing_cards.sort_values('age', ascending=False).groupby('head').cumcount()\n",
    "# existing_cards['n_fold'] = existing_cards['count'] // n\n",
    "\n",
    "# existing_cards['subject_mean_age'] = existing_cards['subject_mean_age'] *-1\n",
    "# existing_cards['age'] = existing_cards['age'] *-1\n",
    "# existing_cards.sort_values(['n_fold', 'frequency', 'age'], inplace=True)\n",
    "# remake_card_document(existing_cards=existing_cards)\n",
    "\n",
    "# existing_cards.head(10)\n",
    "\n"
   ]
  },
  {
   "cell_type": "markdown",
   "metadata": {},
   "source": [
    "\n",
    "## Random"
   ]
  },
  {
   "cell_type": "code",
   "execution_count": 72,
   "metadata": {},
   "outputs": [],
   "source": [
    "# n = 3\n",
    "# existing_cards['count'] = existing_cards.sort_values('age', ascending=False).groupby('head').cumcount()\n",
    "# existing_cards['n_fold'] = existing_cards['count'] % n\n",
    "# existing_cards['age'] *= -1\n",
    "# existing_cards.sort_values(['n_fold', 'head_random_roll', 'age'], inplace=True)\n",
    "# remake_card_document(existing_cards=existing_cards)\n",
    "# existing_cards.head(10)"
   ]
  },
  {
   "cell_type": "code",
   "execution_count": 73,
   "metadata": {},
   "outputs": [
    {
     "data": {
      "application/vnd.microsoft.datawrangler.viewer.v0+json": {
       "columns": [
        {
         "name": "index",
         "rawType": "int64",
         "type": "integer"
        },
        {
         "name": "head",
         "rawType": "object",
         "type": "string"
        },
        {
         "name": "body",
         "rawType": "object",
         "type": "string"
        },
        {
         "name": "hash",
         "rawType": "object",
         "type": "string"
        },
        {
         "name": "age",
         "rawType": "float64",
         "type": "float"
        },
        {
         "name": "subject_mean_age",
         "rawType": "float64",
         "type": "float"
        },
        {
         "name": "subject_highest_age",
         "rawType": "float64",
         "type": "float"
        },
        {
         "name": "subject_age_sum",
         "rawType": "float64",
         "type": "float"
        },
        {
         "name": "head_random_roll",
         "rawType": "float64",
         "type": "float"
        },
        {
         "name": "count",
         "rawType": "int64",
         "type": "integer"
        },
        {
         "name": "n_fold",
         "rawType": "int64",
         "type": "integer"
        }
       ],
       "conversionMethod": "pd.DataFrame",
       "ref": "956648f1-1613-4782-acbe-0e81caa1fe47",
       "rows": [
        [
         "12",
         "OData",
         "IsSideEffecting Annotation (Org.OData.Core.V1.IsSideEffecting)\n\nDefinition: An OData annotation that indicates an operation (action or function) may cause data changes on the server.\nContext: Useful for clients to understand that the request cannot be treated as purely read-only or cached safely.",
         "d8914b66a46000e7d49d28751ef0ce4d",
         "-993.1738123688195",
         "-346.88282541180376",
         "993.1738123688195",
         "5203.242381177057",
         "0.4610996542864758",
         "0",
         "0"
        ],
        [
         "84",
         "OData",
         "Metadata in OData describes the structure, data types, relationships, and other aspects of the data model. The $metadata endpoint provides the service’s data model and schema definitions using CSDL, essential for understanding available entities and their relationships.",
         "6481d267891f44f7021eb148e72d7a2d",
         "-469.61051933380725",
         "-346.88282541180376",
         "993.1738123688195",
         "5203.242381177057",
         "0.4610996542864758",
         "3",
         "0"
        ],
        [
         "155",
         "OData",
         "Annotations provide additional metadata about entities, properties, or relationships in the OData model. They enrich the data with information like display names, validation rules, and formatting instructions, enhancing both data semantics and client-side interactions.",
         "e10bfb62a2d41b4902e31c6dfa97b22a",
         "-357.5812249045783",
         "-346.88282541180376",
         "993.1738123688195",
         "5203.242381177057",
         "0.4610996542864758",
         "6",
         "0"
        ],
        [
         "223",
         "OData",
         "OData-defined system query options are optionally prefixed with \"$\". Services may support additional custom query options not defined in the OData specification, but they MUST NOT begin with the \"$\" or \"@\" character and MUST NOT conflict with any OData-defined system query options defined in the OData version supported by the service.",
         "92d41ab5b340318de6b606ed3f94fda4",
         "-175.92269442804795",
         "-346.88282541180376",
         "993.1738123688195",
         "5203.242381177057",
         "0.4610996542864758",
         "9",
         "0"
        ],
        [
         "288",
         "OData",
         "OData services SHOULD NOT require any query options to be specified in a request. Services SHOULD fail any request that contains query options that they do not understand and MUST fail any request that contains unsupported OData query options defined in the version of this specification supported by the service.",
         "7b3849723952f8c81c62d569b4505b3e",
         "-131.38670700586883",
         "-346.88282541180376",
         "993.1738123688195",
         "5203.242381177057",
         "0.4610996542864758",
         "12",
         "0"
        ],
        [
         "3",
         "Home Network Project",
         "Front: What is TLS Termination and why is it used in reverse proxies?\n\nBack: TLS Termination refers to the process of decrypting incoming TLS/SSL encrypted traffic at the reverse proxy level before forwarding it to backend servers. It offloads the computationally intensive decryption task from backend servers, improves performance, and allows for centralized management of SSL certificates.",
         "5297051eea9892af904815d3794faf15",
         "-1194.65344184401",
         "-283.1602480430107",
         "1194.65344184401",
         "5380.044712817204",
         "0.6425777213907082",
         "0",
         "0"
        ],
        [
         "75",
         "Home Network Project",
         "Front: What is Bandwidth and how does it differ from Throughput?\n\nBack:\n\nBandwidth: The maximum rate of data transfer across a network path, typically measured in Mbps or Gbps. It represents the network's capacity.\nThroughput: The actual rate of successful data transfer achieved, often lower than the bandwidth due to factors like network congestion and protocol overhead.",
         "8d6d825a0008723089184f0a0131e2d6",
         "-455.200840069677",
         "-283.1602480430107",
         "1194.65344184401",
         "5380.044712817204",
         "0.6425777213907082",
         "3",
         "0"
        ],
        [
         "146",
         "Home Network Project",
         "Front: What is Rate Limiting and how does it help in preventing attacks?\n\nBack: Rate Limiting restricts the number of requests a user or IP address can make to a service within a specific time frame. It helps prevent various attacks, such as brute-force attacks, denial-of-service (DoS) attacks, and abuse of APIs, by limiting the potential impact of malicious activities.",
         "8178df4fba6be87bebbac33e10e32135",
         "-304.24885486434636",
         "-283.1602480430107",
         "1194.65344184401",
         "5380.044712817204",
         "0.6425777213907082",
         "6",
         "0"
        ],
        [
         "214",
         "Home Network Project",
         "Front: What is Fail2Ban and how does it protect a network?\n\nBack: Fail2Ban is an intrusion prevention software that monitors log files for suspicious activity, such as repeated failed login attempts. When such patterns are detected, Fail2Ban automatically updates firewall rules to temporarily or permanently ban offending IP addresses, protecting the network from brute-force attacks and unauthorized access.",
         "d7fc83e3380f6d95ec44141a17d86066",
         "-190.63542850766746",
         "-283.1602480430107",
         "1194.65344184401",
         "5380.044712817204",
         "0.6425777213907082",
         "9",
         "0"
        ],
        [
         "279",
         "Home Network Project",
         "How do you install Docker on a Raspberry Pi?\n\nbash\ncurl -fsSL https://get.docker.com -o get-docker.sh\nsudo sh get-docker.sh\nsudo usermod -aG docker pi",
         "7900b83a7ba7844a4c599eafecb06af7",
         "-90.04541472321323",
         "-283.1602480430107",
         "1194.65344184401",
         "5380.044712817204",
         "0.6425777213907082",
         "12",
         "0"
        ]
       ],
       "shape": {
        "columns": 10,
        "rows": 10
       }
      },
      "text/html": [
       "<div>\n",
       "<style scoped>\n",
       "    .dataframe tbody tr th:only-of-type {\n",
       "        vertical-align: middle;\n",
       "    }\n",
       "\n",
       "    .dataframe tbody tr th {\n",
       "        vertical-align: top;\n",
       "    }\n",
       "\n",
       "    .dataframe thead th {\n",
       "        text-align: right;\n",
       "    }\n",
       "</style>\n",
       "<table border=\"1\" class=\"dataframe\">\n",
       "  <thead>\n",
       "    <tr style=\"text-align: right;\">\n",
       "      <th></th>\n",
       "      <th>head</th>\n",
       "      <th>body</th>\n",
       "      <th>hash</th>\n",
       "      <th>age</th>\n",
       "      <th>subject_mean_age</th>\n",
       "      <th>subject_highest_age</th>\n",
       "      <th>subject_age_sum</th>\n",
       "      <th>head_random_roll</th>\n",
       "      <th>count</th>\n",
       "      <th>n_fold</th>\n",
       "    </tr>\n",
       "  </thead>\n",
       "  <tbody>\n",
       "    <tr>\n",
       "      <th>12</th>\n",
       "      <td>OData</td>\n",
       "      <td>IsSideEffecting Annotation (Org.OData.Core.V1....</td>\n",
       "      <td>d8914b66a46000e7d49d28751ef0ce4d</td>\n",
       "      <td>-993.173812</td>\n",
       "      <td>-346.882825</td>\n",
       "      <td>993.173812</td>\n",
       "      <td>5203.242381</td>\n",
       "      <td>0.461100</td>\n",
       "      <td>0</td>\n",
       "      <td>0</td>\n",
       "    </tr>\n",
       "    <tr>\n",
       "      <th>84</th>\n",
       "      <td>OData</td>\n",
       "      <td>Metadata in OData describes the structure, dat...</td>\n",
       "      <td>6481d267891f44f7021eb148e72d7a2d</td>\n",
       "      <td>-469.610519</td>\n",
       "      <td>-346.882825</td>\n",
       "      <td>993.173812</td>\n",
       "      <td>5203.242381</td>\n",
       "      <td>0.461100</td>\n",
       "      <td>3</td>\n",
       "      <td>0</td>\n",
       "    </tr>\n",
       "    <tr>\n",
       "      <th>155</th>\n",
       "      <td>OData</td>\n",
       "      <td>Annotations provide additional metadata about ...</td>\n",
       "      <td>e10bfb62a2d41b4902e31c6dfa97b22a</td>\n",
       "      <td>-357.581225</td>\n",
       "      <td>-346.882825</td>\n",
       "      <td>993.173812</td>\n",
       "      <td>5203.242381</td>\n",
       "      <td>0.461100</td>\n",
       "      <td>6</td>\n",
       "      <td>0</td>\n",
       "    </tr>\n",
       "    <tr>\n",
       "      <th>223</th>\n",
       "      <td>OData</td>\n",
       "      <td>OData-defined system query options are optiona...</td>\n",
       "      <td>92d41ab5b340318de6b606ed3f94fda4</td>\n",
       "      <td>-175.922694</td>\n",
       "      <td>-346.882825</td>\n",
       "      <td>993.173812</td>\n",
       "      <td>5203.242381</td>\n",
       "      <td>0.461100</td>\n",
       "      <td>9</td>\n",
       "      <td>0</td>\n",
       "    </tr>\n",
       "    <tr>\n",
       "      <th>288</th>\n",
       "      <td>OData</td>\n",
       "      <td>OData services SHOULD NOT require any query op...</td>\n",
       "      <td>7b3849723952f8c81c62d569b4505b3e</td>\n",
       "      <td>-131.386707</td>\n",
       "      <td>-346.882825</td>\n",
       "      <td>993.173812</td>\n",
       "      <td>5203.242381</td>\n",
       "      <td>0.461100</td>\n",
       "      <td>12</td>\n",
       "      <td>0</td>\n",
       "    </tr>\n",
       "    <tr>\n",
       "      <th>3</th>\n",
       "      <td>Home Network Project</td>\n",
       "      <td>Front: What is TLS Termination and why is it u...</td>\n",
       "      <td>5297051eea9892af904815d3794faf15</td>\n",
       "      <td>-1194.653442</td>\n",
       "      <td>-283.160248</td>\n",
       "      <td>1194.653442</td>\n",
       "      <td>5380.044713</td>\n",
       "      <td>0.642578</td>\n",
       "      <td>0</td>\n",
       "      <td>0</td>\n",
       "    </tr>\n",
       "    <tr>\n",
       "      <th>75</th>\n",
       "      <td>Home Network Project</td>\n",
       "      <td>Front: What is Bandwidth and how does it diffe...</td>\n",
       "      <td>8d6d825a0008723089184f0a0131e2d6</td>\n",
       "      <td>-455.200840</td>\n",
       "      <td>-283.160248</td>\n",
       "      <td>1194.653442</td>\n",
       "      <td>5380.044713</td>\n",
       "      <td>0.642578</td>\n",
       "      <td>3</td>\n",
       "      <td>0</td>\n",
       "    </tr>\n",
       "    <tr>\n",
       "      <th>146</th>\n",
       "      <td>Home Network Project</td>\n",
       "      <td>Front: What is Rate Limiting and how does it h...</td>\n",
       "      <td>8178df4fba6be87bebbac33e10e32135</td>\n",
       "      <td>-304.248855</td>\n",
       "      <td>-283.160248</td>\n",
       "      <td>1194.653442</td>\n",
       "      <td>5380.044713</td>\n",
       "      <td>0.642578</td>\n",
       "      <td>6</td>\n",
       "      <td>0</td>\n",
       "    </tr>\n",
       "    <tr>\n",
       "      <th>214</th>\n",
       "      <td>Home Network Project</td>\n",
       "      <td>Front: What is Fail2Ban and how does it protec...</td>\n",
       "      <td>d7fc83e3380f6d95ec44141a17d86066</td>\n",
       "      <td>-190.635429</td>\n",
       "      <td>-283.160248</td>\n",
       "      <td>1194.653442</td>\n",
       "      <td>5380.044713</td>\n",
       "      <td>0.642578</td>\n",
       "      <td>9</td>\n",
       "      <td>0</td>\n",
       "    </tr>\n",
       "    <tr>\n",
       "      <th>279</th>\n",
       "      <td>Home Network Project</td>\n",
       "      <td>How do you install Docker on a Raspberry Pi?\\n...</td>\n",
       "      <td>7900b83a7ba7844a4c599eafecb06af7</td>\n",
       "      <td>-90.045415</td>\n",
       "      <td>-283.160248</td>\n",
       "      <td>1194.653442</td>\n",
       "      <td>5380.044713</td>\n",
       "      <td>0.642578</td>\n",
       "      <td>12</td>\n",
       "      <td>0</td>\n",
       "    </tr>\n",
       "  </tbody>\n",
       "</table>\n",
       "</div>"
      ],
      "text/plain": [
       "                     head                                               body  \\\n",
       "12                  OData  IsSideEffecting Annotation (Org.OData.Core.V1....   \n",
       "84                  OData  Metadata in OData describes the structure, dat...   \n",
       "155                 OData  Annotations provide additional metadata about ...   \n",
       "223                 OData  OData-defined system query options are optiona...   \n",
       "288                 OData  OData services SHOULD NOT require any query op...   \n",
       "3    Home Network Project  Front: What is TLS Termination and why is it u...   \n",
       "75   Home Network Project  Front: What is Bandwidth and how does it diffe...   \n",
       "146  Home Network Project  Front: What is Rate Limiting and how does it h...   \n",
       "214  Home Network Project  Front: What is Fail2Ban and how does it protec...   \n",
       "279  Home Network Project  How do you install Docker on a Raspberry Pi?\\n...   \n",
       "\n",
       "                                 hash          age  subject_mean_age  \\\n",
       "12   d8914b66a46000e7d49d28751ef0ce4d  -993.173812       -346.882825   \n",
       "84   6481d267891f44f7021eb148e72d7a2d  -469.610519       -346.882825   \n",
       "155  e10bfb62a2d41b4902e31c6dfa97b22a  -357.581225       -346.882825   \n",
       "223  92d41ab5b340318de6b606ed3f94fda4  -175.922694       -346.882825   \n",
       "288  7b3849723952f8c81c62d569b4505b3e  -131.386707       -346.882825   \n",
       "3    5297051eea9892af904815d3794faf15 -1194.653442       -283.160248   \n",
       "75   8d6d825a0008723089184f0a0131e2d6  -455.200840       -283.160248   \n",
       "146  8178df4fba6be87bebbac33e10e32135  -304.248855       -283.160248   \n",
       "214  d7fc83e3380f6d95ec44141a17d86066  -190.635429       -283.160248   \n",
       "279  7900b83a7ba7844a4c599eafecb06af7   -90.045415       -283.160248   \n",
       "\n",
       "     subject_highest_age  subject_age_sum  head_random_roll  count  n_fold  \n",
       "12            993.173812      5203.242381          0.461100      0       0  \n",
       "84            993.173812      5203.242381          0.461100      3       0  \n",
       "155           993.173812      5203.242381          0.461100      6       0  \n",
       "223           993.173812      5203.242381          0.461100      9       0  \n",
       "288           993.173812      5203.242381          0.461100     12       0  \n",
       "3            1194.653442      5380.044713          0.642578      0       0  \n",
       "75           1194.653442      5380.044713          0.642578      3       0  \n",
       "146          1194.653442      5380.044713          0.642578      6       0  \n",
       "214          1194.653442      5380.044713          0.642578      9       0  \n",
       "279          1194.653442      5380.044713          0.642578     12       0  "
      ]
     },
     "execution_count": 73,
     "metadata": {},
     "output_type": "execute_result"
    }
   ],
   "source": [
    "existing_cards.head(10)"
   ]
  },
  {
   "cell_type": "code",
   "execution_count": 74,
   "metadata": {},
   "outputs": [
    {
     "data": {
      "text/plain": [
       "-148.94694416742612"
      ]
     },
     "execution_count": 74,
     "metadata": {},
     "output_type": "execute_result"
    }
   ],
   "source": [
    "existing_cards['age'].mean()"
   ]
  }
 ],
 "metadata": {
  "kernelspec": {
   "display_name": "Python 3",
   "language": "python",
   "name": "python3"
  },
  "language_info": {
   "codemirror_mode": {
    "name": "ipython",
    "version": 3
   },
   "file_extension": ".py",
   "mimetype": "text/x-python",
   "name": "python",
   "nbconvert_exporter": "python",
   "pygments_lexer": "ipython3",
   "version": "3.10.10"
  }
 },
 "nbformat": 4,
 "nbformat_minor": 2
}
