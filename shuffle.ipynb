{
 "cells": [
  {
   "cell_type": "code",
   "execution_count": 71,
   "metadata": {},
   "outputs": [],
   "source": [
    "import re\n",
    "import random\n",
    "import pandas as pd\n",
    "import hashlib"
   ]
  },
  {
   "cell_type": "code",
   "execution_count": 72,
   "metadata": {},
   "outputs": [],
   "source": [
    "with open('certcards2.txt', mode='r', encoding='utf8') as f:\n",
    "    all_cards = f.read()\n",
    "    \n",
    "card_split_pattern = r'\\n\\n\\n\\d+\\n'\n",
    "all_cards = re.split(card_split_pattern, all_cards)\n",
    "# Use re.DOTALL to allow . to match newline characters\n",
    "card_pattern = re.compile(r'(.+?)\\n([\\s\\S]+)', re.DOTALL)\n",
    "cards = [(match.group(1), match.group(2)) for cstring in all_cards if (match := re.search(card_pattern, cstring))]\n",
    "\n",
    "# removing the cards that have no content and trimming\n",
    "cards = [(subject, stripped_content) for subject, content in cards if len(stripped_content := content.strip()) > 5]\n",
    "\n",
    "def hash_string_md5(s):\n",
    "    \"\"\"\n",
    "    Hashes a string using MD5 and returns a truncated hash for efficiency.\n",
    "\n",
    "    Parameters:\n",
    "    - s (str): The input string to hash.\n",
    "\n",
    "    Returns:\n",
    "    - str: The truncated hexadecimal hash string.\n",
    "    \"\"\"\n",
    "    if pd.isnull(s):\n",
    "        return None  # Handle NaN values gracefully\n",
    "    return hashlib.md5(s.encode('utf-8')).hexdigest()  # Truncate to first 12 characters\n",
    "\n",
    "\n",
    "def remake_card_document(existing_cards: pd.DataFrame, filename: str='certcards2.txt'):\n",
    "    with open(filename, mode='w', encoding='utf8') as f:\n",
    "        i = 1\n",
    "        for _, row in existing_cards.iterrows():\n",
    "            f.write('\\n'*6)\n",
    "            f.write(str(i)+'\\n')  \n",
    "            f.write(row['head']+'\\n')\n",
    "            f.write(row['body'])\n",
    "            i+=1\n",
    "    print(F\"Cards found: {existing_cards.shape[0]}\")\n",
    "\n",
    "\n",
    "existing_cards = pd.DataFrame(cards, columns=['head', 'body'])\n",
    "\n",
    "\n",
    "# existing_cards['age'] = [random.random() for _ in existing_cards.index]\n",
    "existing_cards['hash'] = existing_cards['body'].apply(hash_string_md5)\n",
    "existing_cards\n",
    "\n",
    "card_ages = pd.read_json('card_ages.json')\n",
    "card_ages = card_ages.drop_duplicates(subset=['hash'], keep='first')\n",
    "\n",
    "cards_to_age = pd.merge(\n",
    "    left=existing_cards,\n",
    "    right=card_ages[['hash', 'age']],\n",
    "    left_on='hash', right_on='hash',\n",
    "    how='left'\n",
    ")\n",
    "\n",
    "cards_to_age['head'] = cards_to_age['head'].str.strip()\n",
    "\n",
    "if cards_to_age['age'].sum() > 2e4: age_factor = 1\n",
    "else: age_factor = 1.00\n",
    "\n",
    "cards_to_age['age'] = cards_to_age['age'].fillna(0)\n",
    "cards_to_age['age'] = cards_to_age['age'] * age_factor\n",
    "cards_to_age['age'] = cards_to_age['age'] + [random.expovariate(.75) for _ in cards_to_age.index]\n",
    "\n",
    "cards_to_age = cards_to_age.drop_duplicates(subset=['hash'], keep='first')\n",
    "\n",
    "cards_to_age['subject_mean_age'] = cards_to_age.groupby('head')['age'].transform('mean')\n",
    "cards_to_age['subject_highest_age'] = cards_to_age.groupby('head')['age'].transform('max')\n",
    "cards_to_age['subject_age_sum'] = cards_to_age.groupby('head')['age'].transform('sum')\n",
    "cards_to_age['head_random_roll'] = cards_to_age.groupby('head')['head'].transform(lambda x: random.random())\n",
    "\n",
    "\n",
    "cards_to_age.sort_values('age')[['age', 'head', 'hash']].to_json('card_ages.json', indent=2)\n",
    "\n",
    "existing_cards = cards_to_age"
   ]
  },
  {
   "cell_type": "code",
   "execution_count": 73,
   "metadata": {},
   "outputs": [
    {
     "data": {
      "text/html": [
       "<div>\n",
       "<style scoped>\n",
       "    .dataframe tbody tr th:only-of-type {\n",
       "        vertical-align: middle;\n",
       "    }\n",
       "\n",
       "    .dataframe tbody tr th {\n",
       "        vertical-align: top;\n",
       "    }\n",
       "\n",
       "    .dataframe thead th {\n",
       "        text-align: right;\n",
       "    }\n",
       "</style>\n",
       "<table border=\"1\" class=\"dataframe\">\n",
       "  <thead>\n",
       "    <tr style=\"text-align: right;\">\n",
       "      <th></th>\n",
       "      <th>age_sum</th>\n",
       "      <th>age_mean</th>\n",
       "      <th>head_count</th>\n",
       "    </tr>\n",
       "  </thead>\n",
       "  <tbody>\n",
       "    <tr>\n",
       "      <th>PEP 8</th>\n",
       "      <td>281.107175</td>\n",
       "      <td>9.693351</td>\n",
       "      <td>29</td>\n",
       "    </tr>\n",
       "    <tr>\n",
       "      <th>Taxes</th>\n",
       "      <td>363.765114</td>\n",
       "      <td>36.376511</td>\n",
       "      <td>10</td>\n",
       "    </tr>\n",
       "    <tr>\n",
       "      <th>WSL + Kali Linux</th>\n",
       "      <td>454.944023</td>\n",
       "      <td>13.380707</td>\n",
       "      <td>34</td>\n",
       "    </tr>\n",
       "    <tr>\n",
       "      <th>Finance Junk</th>\n",
       "      <td>527.407658</td>\n",
       "      <td>65.925957</td>\n",
       "      <td>8</td>\n",
       "    </tr>\n",
       "    <tr>\n",
       "      <th>Open Source/GitHub</th>\n",
       "      <td>564.249131</td>\n",
       "      <td>24.532571</td>\n",
       "      <td>23</td>\n",
       "    </tr>\n",
       "    <tr>\n",
       "      <th>sklearn</th>\n",
       "      <td>862.546255</td>\n",
       "      <td>123.220894</td>\n",
       "      <td>7</td>\n",
       "    </tr>\n",
       "    <tr>\n",
       "      <th>PP365</th>\n",
       "      <td>863.694529</td>\n",
       "      <td>86.369453</td>\n",
       "      <td>10</td>\n",
       "    </tr>\n",
       "    <tr>\n",
       "      <th>Dataverse Plugins</th>\n",
       "      <td>971.357094</td>\n",
       "      <td>138.765299</td>\n",
       "      <td>7</td>\n",
       "    </tr>\n",
       "    <tr>\n",
       "      <th>Powershell</th>\n",
       "      <td>982.963871</td>\n",
       "      <td>46.807803</td>\n",
       "      <td>21</td>\n",
       "    </tr>\n",
       "    <tr>\n",
       "      <th>AKS</th>\n",
       "      <td>1025.492929</td>\n",
       "      <td>128.186616</td>\n",
       "      <td>8</td>\n",
       "    </tr>\n",
       "    <tr>\n",
       "      <th>Azure AI Foundry</th>\n",
       "      <td>1069.318983</td>\n",
       "      <td>71.287932</td>\n",
       "      <td>15</td>\n",
       "    </tr>\n",
       "    <tr>\n",
       "      <th>MS Identity Platform</th>\n",
       "      <td>1178.948016</td>\n",
       "      <td>147.368502</td>\n",
       "      <td>8</td>\n",
       "    </tr>\n",
       "    <tr>\n",
       "      <th>Azure Functions</th>\n",
       "      <td>1193.409611</td>\n",
       "      <td>74.588101</td>\n",
       "      <td>16</td>\n",
       "    </tr>\n",
       "    <tr>\n",
       "      <th>Email Auth and Security</th>\n",
       "      <td>1274.915747</td>\n",
       "      <td>74.995044</td>\n",
       "      <td>17</td>\n",
       "    </tr>\n",
       "    <tr>\n",
       "      <th>Diffusers from Hugging Face</th>\n",
       "      <td>1372.865184</td>\n",
       "      <td>137.286518</td>\n",
       "      <td>10</td>\n",
       "    </tr>\n",
       "    <tr>\n",
       "      <th>Jane Eyre</th>\n",
       "      <td>1694.142131</td>\n",
       "      <td>70.589255</td>\n",
       "      <td>24</td>\n",
       "    </tr>\n",
       "    <tr>\n",
       "      <th>Python</th>\n",
       "      <td>1734.215195</td>\n",
       "      <td>123.872514</td>\n",
       "      <td>14</td>\n",
       "    </tr>\n",
       "    <tr>\n",
       "      <th>IW Migration</th>\n",
       "      <td>1830.401726</td>\n",
       "      <td>76.266739</td>\n",
       "      <td>24</td>\n",
       "    </tr>\n",
       "    <tr>\n",
       "      <th>OData</th>\n",
       "      <td>1866.571540</td>\n",
       "      <td>71.791213</td>\n",
       "      <td>26</td>\n",
       "    </tr>\n",
       "    <tr>\n",
       "      <th>Diffusers Library</th>\n",
       "      <td>1890.044196</td>\n",
       "      <td>145.388015</td>\n",
       "      <td>13</td>\n",
       "    </tr>\n",
       "    <tr>\n",
       "      <th>DNS</th>\n",
       "      <td>2239.180985</td>\n",
       "      <td>101.780954</td>\n",
       "      <td>22</td>\n",
       "    </tr>\n",
       "    <tr>\n",
       "      <th>Search Engine Optimization</th>\n",
       "      <td>2251.448629</td>\n",
       "      <td>112.572431</td>\n",
       "      <td>20</td>\n",
       "    </tr>\n",
       "    <tr>\n",
       "      <th>Azure Kubernetes Learning Path</th>\n",
       "      <td>2388.285602</td>\n",
       "      <td>85.295914</td>\n",
       "      <td>28</td>\n",
       "    </tr>\n",
       "    <tr>\n",
       "      <th>Home Network Project</th>\n",
       "      <td>2713.839322</td>\n",
       "      <td>96.922833</td>\n",
       "      <td>28</td>\n",
       "    </tr>\n",
       "  </tbody>\n",
       "</table>\n",
       "</div>"
      ],
      "text/plain": [
       "                                    age_sum    age_mean  head_count\n",
       "PEP 8                            281.107175    9.693351          29\n",
       "Taxes                            363.765114   36.376511          10\n",
       "WSL + Kali Linux                 454.944023   13.380707          34\n",
       "Finance Junk                     527.407658   65.925957           8\n",
       "Open Source/GitHub               564.249131   24.532571          23\n",
       "sklearn                          862.546255  123.220894           7\n",
       "PP365                            863.694529   86.369453          10\n",
       "Dataverse Plugins                971.357094  138.765299           7\n",
       "Powershell                       982.963871   46.807803          21\n",
       "AKS                             1025.492929  128.186616           8\n",
       "Azure AI Foundry                1069.318983   71.287932          15\n",
       "MS Identity Platform            1178.948016  147.368502           8\n",
       "Azure Functions                 1193.409611   74.588101          16\n",
       "Email Auth and Security         1274.915747   74.995044          17\n",
       "Diffusers from Hugging Face     1372.865184  137.286518          10\n",
       "Jane Eyre                       1694.142131   70.589255          24\n",
       "Python                          1734.215195  123.872514          14\n",
       "IW Migration                    1830.401726   76.266739          24\n",
       "OData                           1866.571540   71.791213          26\n",
       "Diffusers Library               1890.044196  145.388015          13\n",
       "DNS                             2239.180985  101.780954          22\n",
       "Search Engine Optimization      2251.448629  112.572431          20\n",
       "Azure Kubernetes Learning Path  2388.285602   85.295914          28\n",
       "Home Network Project            2713.839322   96.922833          28"
      ]
     },
     "execution_count": 73,
     "metadata": {},
     "output_type": "execute_result"
    }
   ],
   "source": [
    "stats = existing_cards.groupby('head').agg({'age': ['sum', 'mean'], 'head': 'count'}).sort_values(('age', 'sum'))\n",
    "stats.columns = stats.columns.to_flat_index()\n",
    "stats.columns = ['_'.join(col).strip() for col in stats.columns]\n",
    "stats.index.name = None\n",
    "stats"
   ]
  },
  {
   "cell_type": "markdown",
   "metadata": {},
   "source": [
    "# Histogram"
   ]
  },
  {
   "cell_type": "code",
   "execution_count": 74,
   "metadata": {},
   "outputs": [
    {
     "name": "stdout",
     "output_type": "stream",
     "text": [
      "31595.11\n"
     ]
    },
    {
     "data": {
      "text/plain": [
       "<Axes: >"
      ]
     },
     "execution_count": 74,
     "metadata": {},
     "output_type": "execute_result"
    },
    {
     "data": {
      "image/png": "[encoded data removed]",
      "text/plain": [
       "<Figure size 640x480 with 1 Axes>"
      ]
     },
     "metadata": {},
     "output_type": "display_data"
    }
   ],
   "source": [
    "print(f\"{existing_cards['age'].sum(0):.2f}\")\n",
    "existing_cards['age'].hist(bins=20)"
   ]
  },
  {
   "cell_type": "markdown",
   "metadata": {},
   "source": [
    "# Completely Random Shuffle"
   ]
  },
  {
   "cell_type": "code",
   "execution_count": 75,
   "metadata": {},
   "outputs": [],
   "source": [
    "# existing_cards = existing_cards.sample(frac=1)\n",
    "# remake_card_document(filename='certcards2.txt', existing_cards = existing_cards)"
   ]
  },
  {
   "cell_type": "markdown",
   "metadata": {},
   "source": [
    "# Age Sort"
   ]
  },
  {
   "cell_type": "code",
   "execution_count": 76,
   "metadata": {},
   "outputs": [],
   "source": [
    "# existing_cards = existing_cards.sort_values('age', ascending=False)\n",
    "# remake_card_document(filename='certcards2.txt', existing_cards=existing_cards)"
   ]
  },
  {
   "cell_type": "markdown",
   "metadata": {},
   "source": [
    "# Headers with fewest notes first"
   ]
  },
  {
   "cell_type": "code",
   "execution_count": 77,
   "metadata": {},
   "outputs": [
    {
     "name": "stdout",
     "output_type": "stream",
     "text": [
      "Cards found: 422\n"
     ]
    }
   ],
   "source": [
    "frequency = existing_cards['head'].value_counts(ascending=True)\n",
    "\n",
    "existing_cards = pd.merge(\n",
    "    left=existing_cards,\n",
    "    right=frequency.rename('frequency'),\n",
    "    left_on='head', right_index=True,\n",
    "    how='left'\n",
    ")\n",
    "existing_cards['oldest'] = existing_cards.groupby('head')['age'].transform('max')\n",
    "existing_cards['subject_highest_age'] = existing_cards['subject_highest_age'] * -1\n",
    "existing_cards['age'] = existing_cards['age'] * -1\n",
    "\n",
    "\n",
    "existing_cards.sort_values(['frequency', 'subject_highest_age', 'age'], ascending=True, inplace=True)\n",
    "\n",
    "remake_card_document(filename='certcards2.txt', existing_cards=existing_cards)"
   ]
  },
  {
   "cell_type": "markdown",
   "metadata": {},
   "source": [
    "# Focus on one header"
   ]
  },
  {
   "cell_type": "code",
   "execution_count": 78,
   "metadata": {},
   "outputs": [],
   "source": [
    "# heads = existing_cards['head'].value_counts()\n",
    "# heads = heads[heads > 5].index.tolist()\n",
    "# one_header = random.sample(heads, 1)[0]\n",
    "# existing_cards['pick_head'] = existing_cards['head'].apply(\n",
    "#     lambda h: 0 if h == one_header else 1 \n",
    "# )\n",
    "\n",
    "# remake_card_document(existing_cards=existing_cards.sort_values('pick_head'))"
   ]
  },
  {
   "cell_type": "markdown",
   "metadata": {},
   "source": [
    "## Header with oldest cards first"
   ]
  },
  {
   "cell_type": "code",
   "execution_count": 79,
   "metadata": {},
   "outputs": [],
   "source": [
    "# existing_cards['oldest'] = existing_cards.groupby('head')['age'].transform('max')\n",
    "# existing_cards.sort_values(['oldest', 'age'], ascending=False, inplace=True)\n",
    "# remake_card_document(existing_cards)"
   ]
  },
  {
   "cell_type": "markdown",
   "metadata": {},
   "source": [
    "## Headers with greatest mean card age first"
   ]
  },
  {
   "cell_type": "code",
   "execution_count": 80,
   "metadata": {},
   "outputs": [],
   "source": [
    "# existing_cards.sort_values(['subject_mean_age', 'age'], ascending=False, inplace=True)\n",
    "# remake_card_document(existing_cards)"
   ]
  },
  {
   "cell_type": "markdown",
   "metadata": {},
   "source": [
    "# Headers with greatest age sum first"
   ]
  },
  {
   "cell_type": "code",
   "execution_count": 81,
   "metadata": {},
   "outputs": [],
   "source": [
    "# existing_cards.sort_values(['subject_age_sum', 'age'], ascending=False, inplace=True)\n",
    "# remake_card_document(existing_cards)"
   ]
  },
  {
   "cell_type": "markdown",
   "metadata": {},
   "source": [
    "# N-fold shuffle\n",
    "\n",
    "## Random"
   ]
  },
  {
   "cell_type": "code",
   "execution_count": 82,
   "metadata": {},
   "outputs": [],
   "source": [
    "# n = 8\n",
    "# existing_cards['count'] = existing_cards.sort_values('age', ascending=False).groupby('head').cumcount()\n",
    "# existing_cards['n_fold'] = existing_cards['count'] // n\n",
    "# existing_cards['age'] *= -1\n",
    "# existing_cards.sort_values(['n_fold', 'head_random_roll', 'age'], inplace=True)\n",
    "# remake_card_document(existing_cards=existing_cards)\n",
    "# existing_cards.head(10)"
   ]
  },
  {
   "cell_type": "markdown",
   "metadata": {},
   "source": [
    "## Age Sum"
   ]
  },
  {
   "cell_type": "code",
   "execution_count": 83,
   "metadata": {},
   "outputs": [],
   "source": [
    "# n=8\n",
    "# existing_cards['count'] = existing_cards.sort_values('age', ascending=False).groupby('head').cumcount()\n",
    "# existing_cards['n_fold'] = existing_cards['count'] // n\n",
    "\n",
    "# existing_cards['subject_age_sum'] = existing_cards['subject_age_sum'] *-1\n",
    "# existing_cards['age'] = existing_cards['age'] *-1\n",
    "# existing_cards.sort_values(['n_fold', 'subject_age_sum', 'age'], inplace=True)\n",
    "# existing_cards.head(10)\n",
    "\n",
    "# remake_card_document(existing_cards=existing_cards)"
   ]
  },
  {
   "cell_type": "markdown",
   "metadata": {},
   "source": [
    "## Age max"
   ]
  },
  {
   "cell_type": "code",
   "execution_count": 84,
   "metadata": {},
   "outputs": [],
   "source": [
    "# n=6\n",
    "# existing_cards['count'] = existing_cards.sort_values('age', ascending=False).groupby('head').cumcount()\n",
    "# existing_cards['n_fold'] = existing_cards['count'] // n\n",
    "\n",
    "# existing_cards['subject_highest_age'] = existing_cards['subject_highest_age'] *-1\n",
    "# existing_cards['age'] = existing_cards['age'] *-1\n",
    "# existing_cards.sort_values(['n_fold', 'subject_highest_age', 'age'], inplace=True)\n",
    "# existing_cards.head(10)\n",
    "\n",
    "# remake_card_document(existing_cards=existing_cards)"
   ]
  },
  {
   "cell_type": "markdown",
   "metadata": {},
   "source": [
    "## Age Mean"
   ]
  },
  {
   "cell_type": "code",
   "execution_count": 85,
   "metadata": {},
   "outputs": [],
   "source": [
    "# n=3\n",
    "# existing_cards['count'] = existing_cards.sort_values('age', ascending=False).groupby('head').cumcount()\n",
    "# existing_cards['n_fold'] = existing_cards['count'] // n\n",
    "\n",
    "# existing_cards['subject_mean_age'] = existing_cards['subject_mean_age'] *-1\n",
    "# existing_cards['age'] = existing_cards['age'] *-1\n",
    "# existing_cards.sort_values(['n_fold', 'subject_mean_age', 'age'], inplace=True)\n",
    "# existing_cards.head(10)\n",
    "\n",
    "# remake_card_document(existing_cards=existing_cards)\n"
   ]
  },
  {
   "cell_type": "code",
   "execution_count": 86,
   "metadata": {},
   "outputs": [
    {
     "data": {
      "text/html": [
       "<div>\n",
       "<style scoped>\n",
       "    .dataframe tbody tr th:only-of-type {\n",
       "        vertical-align: middle;\n",
       "    }\n",
       "\n",
       "    .dataframe tbody tr th {\n",
       "        vertical-align: top;\n",
       "    }\n",
       "\n",
       "    .dataframe thead th {\n",
       "        text-align: right;\n",
       "    }\n",
       "</style>\n",
       "<table border=\"1\" class=\"dataframe\">\n",
       "  <thead>\n",
       "    <tr style=\"text-align: right;\">\n",
       "      <th></th>\n",
       "      <th>head</th>\n",
       "      <th>body</th>\n",
       "      <th>hash</th>\n",
       "      <th>age</th>\n",
       "      <th>subject_mean_age</th>\n",
       "      <th>subject_highest_age</th>\n",
       "      <th>subject_age_sum</th>\n",
       "      <th>head_random_roll</th>\n",
       "      <th>frequency</th>\n",
       "      <th>oldest</th>\n",
       "    </tr>\n",
       "  </thead>\n",
       "  <tbody>\n",
       "    <tr>\n",
       "      <th>17</th>\n",
       "      <td>Dataverse Plugins</td>\n",
       "      <td>The Plugin Execution Pipeline defines the sequ...</td>\n",
       "      <td>00f25da99235c2fc081ffb70d3a059bf</td>\n",
       "      <td>-155.381398</td>\n",
       "      <td>138.765299</td>\n",
       "      <td>-155.381398</td>\n",
       "      <td>971.357094</td>\n",
       "      <td>0.023786</td>\n",
       "      <td>7</td>\n",
       "      <td>155.381398</td>\n",
       "    </tr>\n",
       "    <tr>\n",
       "      <th>18</th>\n",
       "      <td>Dataverse Plugins</td>\n",
       "      <td>Filtering Attributes are specific fields defin...</td>\n",
       "      <td>9d195b280dd11b161dc3796f40a74af0</td>\n",
       "      <td>-150.382536</td>\n",
       "      <td>138.765299</td>\n",
       "      <td>-155.381398</td>\n",
       "      <td>971.357094</td>\n",
       "      <td>0.023786</td>\n",
       "      <td>7</td>\n",
       "      <td>155.381398</td>\n",
       "    </tr>\n",
       "    <tr>\n",
       "      <th>19</th>\n",
       "      <td>Dataverse Plugins</td>\n",
       "      <td>Plugins are custom business logic components t...</td>\n",
       "      <td>d0c735c764135675bcdf7f5be3f431a2</td>\n",
       "      <td>-137.440291</td>\n",
       "      <td>138.765299</td>\n",
       "      <td>-155.381398</td>\n",
       "      <td>971.357094</td>\n",
       "      <td>0.023786</td>\n",
       "      <td>7</td>\n",
       "      <td>155.381398</td>\n",
       "    </tr>\n",
       "    <tr>\n",
       "      <th>20</th>\n",
       "      <td>Dataverse Plugins</td>\n",
       "      <td>SDK Message Processing Steps represent the reg...</td>\n",
       "      <td>f76d2d326e98af2c8c7519f89f4169fd</td>\n",
       "      <td>-137.098211</td>\n",
       "      <td>138.765299</td>\n",
       "      <td>-155.381398</td>\n",
       "      <td>971.357094</td>\n",
       "      <td>0.023786</td>\n",
       "      <td>7</td>\n",
       "      <td>155.381398</td>\n",
       "    </tr>\n",
       "    <tr>\n",
       "      <th>22</th>\n",
       "      <td>Dataverse Plugins</td>\n",
       "      <td>Error Handling in Dataverse involves interpret...</td>\n",
       "      <td>4d91b8058c808025e6e9f11b1fd376da</td>\n",
       "      <td>-133.847427</td>\n",
       "      <td>138.765299</td>\n",
       "      <td>-155.381398</td>\n",
       "      <td>971.357094</td>\n",
       "      <td>0.023786</td>\n",
       "      <td>7</td>\n",
       "      <td>155.381398</td>\n",
       "    </tr>\n",
       "  </tbody>\n",
       "</table>\n",
       "</div>"
      ],
      "text/plain": [
       "                 head                                               body  \\\n",
       "17  Dataverse Plugins  The Plugin Execution Pipeline defines the sequ...   \n",
       "18  Dataverse Plugins  Filtering Attributes are specific fields defin...   \n",
       "19  Dataverse Plugins  Plugins are custom business logic components t...   \n",
       "20  Dataverse Plugins  SDK Message Processing Steps represent the reg...   \n",
       "22  Dataverse Plugins  Error Handling in Dataverse involves interpret...   \n",
       "\n",
       "                                hash         age  subject_mean_age  \\\n",
       "17  00f25da99235c2fc081ffb70d3a059bf -155.381398        138.765299   \n",
       "18  9d195b280dd11b161dc3796f40a74af0 -150.382536        138.765299   \n",
       "19  d0c735c764135675bcdf7f5be3f431a2 -137.440291        138.765299   \n",
       "20  f76d2d326e98af2c8c7519f89f4169fd -137.098211        138.765299   \n",
       "22  4d91b8058c808025e6e9f11b1fd376da -133.847427        138.765299   \n",
       "\n",
       "    subject_highest_age  subject_age_sum  head_random_roll  frequency  \\\n",
       "17          -155.381398       971.357094          0.023786          7   \n",
       "18          -155.381398       971.357094          0.023786          7   \n",
       "19          -155.381398       971.357094          0.023786          7   \n",
       "20          -155.381398       971.357094          0.023786          7   \n",
       "22          -155.381398       971.357094          0.023786          7   \n",
       "\n",
       "        oldest  \n",
       "17  155.381398  \n",
       "18  155.381398  \n",
       "19  155.381398  \n",
       "20  155.381398  \n",
       "22  155.381398  "
      ]
     },
     "execution_count": 86,
     "metadata": {},
     "output_type": "execute_result"
    }
   ],
   "source": [
    "existing_cards.head()"
   ]
  },
  {
   "cell_type": "code",
   "execution_count": 87,
   "metadata": {},
   "outputs": [
    {
     "data": {
      "text/plain": [
       "np.float64(-1398.237750719784)"
      ]
     },
     "execution_count": 87,
     "metadata": {},
     "output_type": "execute_result"
    }
   ],
   "source": [
    "existing_cards.head(10)['age'].sum()"
   ]
  }
 ],
 "metadata": {
  "kernelspec": {
   "display_name": "Python 3",
   "language": "python",
   "name": "python3"
  },
  "language_info": {
   "codemirror_mode": {
    "name": "ipython",
    "version": 3
   },
   "file_extension": ".py",
   "mimetype": "text/x-python",
   "name": "python",
   "nbconvert_exporter": "python",
   "pygments_lexer": "ipython3",
   "version": "3.11.9"
  }
 },
 "nbformat": 4,
 "nbformat_minor": 2
}
