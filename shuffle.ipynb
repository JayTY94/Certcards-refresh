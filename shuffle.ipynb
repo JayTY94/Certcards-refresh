{
 "cells": [
  {
   "cell_type": "code",
   "execution_count": 75,
   "metadata": {},
   "outputs": [],
   "source": [
    "import re\n",
    "import random\n",
    "import pandas as pd\n",
    "import hashlib"
   ]
  },
  {
   "cell_type": "code",
   "execution_count": 76,
   "metadata": {},
   "outputs": [],
   "source": [
    "with open('certcards2.txt', mode='r', encoding='utf8') as f:\n",
    "    all_cards = f.read()\n",
    "    \n",
    "card_split_pattern = r'\\n\\n\\n\\d+\\n'\n",
    "all_cards = re.split(card_split_pattern, all_cards)\n",
    "# Use re.DOTALL to allow . to match newline characters\n",
    "card_pattern = re.compile(r'(.+?)\\n([\\s\\S]+)', re.DOTALL)\n",
    "cards = [(match.group(1), match.group(2)) for cstring in all_cards if (match := re.search(card_pattern, cstring))]\n",
    "\n",
    "# removing the cards that have no content and trimming\n",
    "cards = [(subject, stripped_content) for subject, content in cards if len(stripped_content := content.strip()) > 5]\n",
    "\n",
    "def hash_string_md5(s):\n",
    "    \"\"\"\n",
    "    Hashes a string using MD5 and returns a truncated hash for efficiency.\n",
    "\n",
    "    Parameters:\n",
    "    - s (str): The input string to hash.\n",
    "\n",
    "    Returns:\n",
    "    - str: The truncated hexadecimal hash string.\n",
    "    \"\"\"\n",
    "    if pd.isnull(s):\n",
    "        return None  # Handle NaN values gracefully\n",
    "    return hashlib.md5(s.encode('utf-8')).hexdigest()  # Truncate to first 12 characters\n",
    "\n",
    "\n",
    "def remake_card_document(existing_cards: pd.DataFrame, filename: str='certcards2.txt'):\n",
    "    with open(filename, mode='w', encoding='utf8') as f:\n",
    "        i = 1\n",
    "        for _, row in existing_cards.iterrows():\n",
    "            f.write('\\n'*6)\n",
    "            f.write(str(i)+'\\n')  \n",
    "            f.write(row['head']+'\\n')\n",
    "            f.write(row['body'])\n",
    "            i+=1\n",
    "    print(F\"Cards found: {existing_cards.shape[0]}\")\n",
    "\n",
    "\n",
    "existing_cards = pd.DataFrame(cards, columns=['head', 'body'])\n",
    "\n",
    "\n",
    "# existing_cards['age'] = [random.random() for _ in existing_cards.index]\n",
    "existing_cards['hash'] = existing_cards['body'].apply(hash_string_md5)\n",
    "existing_cards\n",
    "\n",
    "card_ages = pd.read_json('card_ages.json')\n",
    "card_ages = card_ages.drop_duplicates(subset=['hash'], keep='first')\n",
    "\n",
    "cards_to_age = pd.merge(\n",
    "    left=existing_cards,\n",
    "    right=card_ages[['hash', 'age']],\n",
    "    left_on='hash', right_on='hash',\n",
    "    how='left'\n",
    ")\n",
    "\n",
    "cards_to_age['head'] = cards_to_age['head'].str.strip()\n",
    "\n",
    "if cards_to_age['age'].sum() > 2e4: age_factor = 1\n",
    "else: age_factor = 1.00\n",
    "\n",
    "cards_to_age['age'] = cards_to_age['age'].fillna(0)\n",
    "cards_to_age['age'] = cards_to_age['age'] * age_factor\n",
    "cards_to_age['age'] = cards_to_age['age'] + [random.expovariate(.60) for _ in cards_to_age.index]\n",
    "# cards_to_age['age'] = cards_to_age['age'] * [random.expovariate(.5) for _ in cards_to_age.index]\n",
    "\n",
    "\n",
    "cards_to_age = cards_to_age.drop_duplicates(subset=['hash'], keep='first')\n",
    "\n",
    "cards_to_age['subject_mean_age'] = cards_to_age.groupby('head')['age'].transform('mean')\n",
    "cards_to_age['subject_highest_age'] = cards_to_age.groupby('head')['age'].transform('max')\n",
    "cards_to_age['subject_age_sum'] = cards_to_age.groupby('head')['age'].transform('sum')\n",
    "cards_to_age['head_random_roll'] = cards_to_age.groupby('head')['head'].transform(lambda x: random.random())\n",
    "\n",
    "\n",
    "cards_to_age.sort_values('age')[['age', 'head', 'hash']].to_json('card_ages.json', indent=2)\n",
    "\n",
    "existing_cards = cards_to_age"
   ]
  },
  {
   "cell_type": "code",
   "execution_count": 77,
   "metadata": {},
   "outputs": [
    {
     "data": {
      "application/vnd.microsoft.datawrangler.viewer.v0+json": {
       "columns": [
        {
         "name": "index",
         "rawType": "object",
         "type": "string"
        },
        {
         "name": "age_sum",
         "rawType": "float64",
         "type": "float"
        },
        {
         "name": "age_mean",
         "rawType": "float64",
         "type": "float"
        },
        {
         "name": "age_max",
         "rawType": "float64",
         "type": "float"
        },
        {
         "name": "head_count",
         "rawType": "int64",
         "type": "integer"
        }
       ],
       "conversionMethod": "pd.DataFrame",
       "ref": "aec224f1-0fe6-4894-978e-de38183d4f0e",
       "rows": [
        [
         "Python",
         "78.66278428913259",
         "1.6736762614709062",
         "10.062248160950078",
         "47"
        ],
        [
         "Powershell",
         "477.7107045212873",
         "95.54214090425747",
         "245.24355373652432",
         "5"
        ],
        [
         "Todd Ideas",
         "864.075679371974",
         "57.60504529146494",
         "147.29118344816672",
         "15"
        ],
        [
         "PEP 8",
         "1359.1545564287367",
         "169.89431955359208",
         "576.2974985916087",
         "8"
        ],
        [
         "SharePoint",
         "1592.1224020467946",
         "132.6768668372329",
         "573.7426274622662",
         "12"
        ],
        [
         "Audit Report Tracker (Sharepoint List)",
         "1702.9193157696081",
         "130.99379352073908",
         "356.71755145245436",
         "13"
        ],
        [
         "Debugging in VS Code",
         "1843.251216414634",
         "92.1625608207317",
         "249.67445428664897",
         "20"
        ],
        [
         "Azure Functions + Visual Studio",
         "1885.8518020062616",
         "134.7037001433044",
         "479.3334377262093",
         "14"
        ],
        [
         "Terraform",
         "1888.796931552031",
         "75.55187726208125",
         "248.69852696698777",
         "25"
        ],
        [
         "IW Migration",
         "2038.245170947105",
         "145.58894078193606",
         "452.8861150010427",
         "14"
        ],
        [
         "Open Source/GitHub",
         "2196.9376359714392",
         "137.30860224821495",
         "355.33094620621506",
         "16"
        ],
        [
         "FSLogix",
         "2276.296789480937",
         "94.84569956170571",
         "260.7883212204999",
         "24"
        ],
        [
         "Email Auth and Security",
         "2285.7783331360656",
         "175.82910254892812",
         "893.6555047122345",
         "13"
        ],
        [
         "Azure Functions",
         "2816.991533044254",
         "256.09013936765945",
         "736.5624374211823",
         "11"
        ],
        [
         "DNS",
         "3024.31410685501",
         "189.01963167843812",
         "386.6460314388841",
         "16"
        ],
        [
         "Azure AI Search",
         "3676.8904960964965",
         "262.63503543546403",
         "718.5252675600718",
         "14"
        ],
        [
         "Powershell Modules",
         "4588.310801694162",
         "152.94369338980542",
         "677.5604861813357",
         "30"
        ],
        [
         "Azure Functions + PP365",
         "5077.091362417052",
         "203.08365449668207",
         "1049.1933214704259",
         "25"
        ],
        [
         "OData",
         "5224.739273621664",
         "348.3159515747776",
         "995.1617916057149",
         "15"
        ],
        [
         "Home Network Project",
         "5416.235116343416",
         "285.0650061233377",
         "1195.2538571063112",
         "19"
        ],
        [
         "WSL + Kali Linux",
         "5884.330477686906",
         "267.46956716758666",
         "1228.836855513691",
         "22"
        ],
        [
         "Vocab",
         "6176.647224220703",
         "93.58556400334398",
         "856.3535585987772",
         "66"
        ],
        [
         "PnP Powershell",
         "6416.608755749944",
         "168.8581251513143",
         "650.0619156002516",
         "38"
        ],
        [
         "JavaScript Concepts",
         "6732.659275315096",
         "110.37146352975567",
         "429.08300277761896",
         "61"
        ],
        [
         "Logging in Python",
         "8306.206966567119",
         "138.43678277611863",
         "1023.8024863189942",
         "60"
        ]
       ],
       "shape": {
        "columns": 4,
        "rows": 25
       }
      },
      "text/html": [
       "<div>\n",
       "<style scoped>\n",
       "    .dataframe tbody tr th:only-of-type {\n",
       "        vertical-align: middle;\n",
       "    }\n",
       "\n",
       "    .dataframe tbody tr th {\n",
       "        vertical-align: top;\n",
       "    }\n",
       "\n",
       "    .dataframe thead th {\n",
       "        text-align: right;\n",
       "    }\n",
       "</style>\n",
       "<table border=\"1\" class=\"dataframe\">\n",
       "  <thead>\n",
       "    <tr style=\"text-align: right;\">\n",
       "      <th></th>\n",
       "      <th>age_sum</th>\n",
       "      <th>age_mean</th>\n",
       "      <th>age_max</th>\n",
       "      <th>head_count</th>\n",
       "    </tr>\n",
       "  </thead>\n",
       "  <tbody>\n",
       "    <tr>\n",
       "      <th>Python</th>\n",
       "      <td>78.662784</td>\n",
       "      <td>1.673676</td>\n",
       "      <td>10.062248</td>\n",
       "      <td>47</td>\n",
       "    </tr>\n",
       "    <tr>\n",
       "      <th>Powershell</th>\n",
       "      <td>477.710705</td>\n",
       "      <td>95.542141</td>\n",
       "      <td>245.243554</td>\n",
       "      <td>5</td>\n",
       "    </tr>\n",
       "    <tr>\n",
       "      <th>Todd Ideas</th>\n",
       "      <td>864.075679</td>\n",
       "      <td>57.605045</td>\n",
       "      <td>147.291183</td>\n",
       "      <td>15</td>\n",
       "    </tr>\n",
       "    <tr>\n",
       "      <th>PEP 8</th>\n",
       "      <td>1359.154556</td>\n",
       "      <td>169.894320</td>\n",
       "      <td>576.297499</td>\n",
       "      <td>8</td>\n",
       "    </tr>\n",
       "    <tr>\n",
       "      <th>SharePoint</th>\n",
       "      <td>1592.122402</td>\n",
       "      <td>132.676867</td>\n",
       "      <td>573.742627</td>\n",
       "      <td>12</td>\n",
       "    </tr>\n",
       "    <tr>\n",
       "      <th>Audit Report Tracker (Sharepoint List)</th>\n",
       "      <td>1702.919316</td>\n",
       "      <td>130.993794</td>\n",
       "      <td>356.717551</td>\n",
       "      <td>13</td>\n",
       "    </tr>\n",
       "    <tr>\n",
       "      <th>Debugging in VS Code</th>\n",
       "      <td>1843.251216</td>\n",
       "      <td>92.162561</td>\n",
       "      <td>249.674454</td>\n",
       "      <td>20</td>\n",
       "    </tr>\n",
       "    <tr>\n",
       "      <th>Azure Functions + Visual Studio</th>\n",
       "      <td>1885.851802</td>\n",
       "      <td>134.703700</td>\n",
       "      <td>479.333438</td>\n",
       "      <td>14</td>\n",
       "    </tr>\n",
       "    <tr>\n",
       "      <th>Terraform</th>\n",
       "      <td>1888.796932</td>\n",
       "      <td>75.551877</td>\n",
       "      <td>248.698527</td>\n",
       "      <td>25</td>\n",
       "    </tr>\n",
       "    <tr>\n",
       "      <th>IW Migration</th>\n",
       "      <td>2038.245171</td>\n",
       "      <td>145.588941</td>\n",
       "      <td>452.886115</td>\n",
       "      <td>14</td>\n",
       "    </tr>\n",
       "    <tr>\n",
       "      <th>Open Source/GitHub</th>\n",
       "      <td>2196.937636</td>\n",
       "      <td>137.308602</td>\n",
       "      <td>355.330946</td>\n",
       "      <td>16</td>\n",
       "    </tr>\n",
       "    <tr>\n",
       "      <th>FSLogix</th>\n",
       "      <td>2276.296789</td>\n",
       "      <td>94.845700</td>\n",
       "      <td>260.788321</td>\n",
       "      <td>24</td>\n",
       "    </tr>\n",
       "    <tr>\n",
       "      <th>Email Auth and Security</th>\n",
       "      <td>2285.778333</td>\n",
       "      <td>175.829103</td>\n",
       "      <td>893.655505</td>\n",
       "      <td>13</td>\n",
       "    </tr>\n",
       "    <tr>\n",
       "      <th>Azure Functions</th>\n",
       "      <td>2816.991533</td>\n",
       "      <td>256.090139</td>\n",
       "      <td>736.562437</td>\n",
       "      <td>11</td>\n",
       "    </tr>\n",
       "    <tr>\n",
       "      <th>DNS</th>\n",
       "      <td>3024.314107</td>\n",
       "      <td>189.019632</td>\n",
       "      <td>386.646031</td>\n",
       "      <td>16</td>\n",
       "    </tr>\n",
       "    <tr>\n",
       "      <th>Azure AI Search</th>\n",
       "      <td>3676.890496</td>\n",
       "      <td>262.635035</td>\n",
       "      <td>718.525268</td>\n",
       "      <td>14</td>\n",
       "    </tr>\n",
       "    <tr>\n",
       "      <th>Powershell Modules</th>\n",
       "      <td>4588.310802</td>\n",
       "      <td>152.943693</td>\n",
       "      <td>677.560486</td>\n",
       "      <td>30</td>\n",
       "    </tr>\n",
       "    <tr>\n",
       "      <th>Azure Functions + PP365</th>\n",
       "      <td>5077.091362</td>\n",
       "      <td>203.083654</td>\n",
       "      <td>1049.193321</td>\n",
       "      <td>25</td>\n",
       "    </tr>\n",
       "    <tr>\n",
       "      <th>OData</th>\n",
       "      <td>5224.739274</td>\n",
       "      <td>348.315952</td>\n",
       "      <td>995.161792</td>\n",
       "      <td>15</td>\n",
       "    </tr>\n",
       "    <tr>\n",
       "      <th>Home Network Project</th>\n",
       "      <td>5416.235116</td>\n",
       "      <td>285.065006</td>\n",
       "      <td>1195.253857</td>\n",
       "      <td>19</td>\n",
       "    </tr>\n",
       "    <tr>\n",
       "      <th>WSL + Kali Linux</th>\n",
       "      <td>5884.330478</td>\n",
       "      <td>267.469567</td>\n",
       "      <td>1228.836856</td>\n",
       "      <td>22</td>\n",
       "    </tr>\n",
       "    <tr>\n",
       "      <th>Vocab</th>\n",
       "      <td>6176.647224</td>\n",
       "      <td>93.585564</td>\n",
       "      <td>856.353559</td>\n",
       "      <td>66</td>\n",
       "    </tr>\n",
       "    <tr>\n",
       "      <th>PnP Powershell</th>\n",
       "      <td>6416.608756</td>\n",
       "      <td>168.858125</td>\n",
       "      <td>650.061916</td>\n",
       "      <td>38</td>\n",
       "    </tr>\n",
       "    <tr>\n",
       "      <th>JavaScript Concepts</th>\n",
       "      <td>6732.659275</td>\n",
       "      <td>110.371464</td>\n",
       "      <td>429.083003</td>\n",
       "      <td>61</td>\n",
       "    </tr>\n",
       "    <tr>\n",
       "      <th>Logging in Python</th>\n",
       "      <td>8306.206967</td>\n",
       "      <td>138.436783</td>\n",
       "      <td>1023.802486</td>\n",
       "      <td>60</td>\n",
       "    </tr>\n",
       "  </tbody>\n",
       "</table>\n",
       "</div>"
      ],
      "text/plain": [
       "                                            age_sum    age_mean      age_max  \\\n",
       "Python                                    78.662784    1.673676    10.062248   \n",
       "Powershell                               477.710705   95.542141   245.243554   \n",
       "Todd Ideas                               864.075679   57.605045   147.291183   \n",
       "PEP 8                                   1359.154556  169.894320   576.297499   \n",
       "SharePoint                              1592.122402  132.676867   573.742627   \n",
       "Audit Report Tracker (Sharepoint List)  1702.919316  130.993794   356.717551   \n",
       "Debugging in VS Code                    1843.251216   92.162561   249.674454   \n",
       "Azure Functions + Visual Studio         1885.851802  134.703700   479.333438   \n",
       "Terraform                               1888.796932   75.551877   248.698527   \n",
       "IW Migration                            2038.245171  145.588941   452.886115   \n",
       "Open Source/GitHub                      2196.937636  137.308602   355.330946   \n",
       "FSLogix                                 2276.296789   94.845700   260.788321   \n",
       "Email Auth and Security                 2285.778333  175.829103   893.655505   \n",
       "Azure Functions                         2816.991533  256.090139   736.562437   \n",
       "DNS                                     3024.314107  189.019632   386.646031   \n",
       "Azure AI Search                         3676.890496  262.635035   718.525268   \n",
       "Powershell Modules                      4588.310802  152.943693   677.560486   \n",
       "Azure Functions + PP365                 5077.091362  203.083654  1049.193321   \n",
       "OData                                   5224.739274  348.315952   995.161792   \n",
       "Home Network Project                    5416.235116  285.065006  1195.253857   \n",
       "WSL + Kali Linux                        5884.330478  267.469567  1228.836856   \n",
       "Vocab                                   6176.647224   93.585564   856.353559   \n",
       "PnP Powershell                          6416.608756  168.858125   650.061916   \n",
       "JavaScript Concepts                     6732.659275  110.371464   429.083003   \n",
       "Logging in Python                       8306.206967  138.436783  1023.802486   \n",
       "\n",
       "                                        head_count  \n",
       "Python                                          47  \n",
       "Powershell                                       5  \n",
       "Todd Ideas                                      15  \n",
       "PEP 8                                            8  \n",
       "SharePoint                                      12  \n",
       "Audit Report Tracker (Sharepoint List)          13  \n",
       "Debugging in VS Code                            20  \n",
       "Azure Functions + Visual Studio                 14  \n",
       "Terraform                                       25  \n",
       "IW Migration                                    14  \n",
       "Open Source/GitHub                              16  \n",
       "FSLogix                                         24  \n",
       "Email Auth and Security                         13  \n",
       "Azure Functions                                 11  \n",
       "DNS                                             16  \n",
       "Azure AI Search                                 14  \n",
       "Powershell Modules                              30  \n",
       "Azure Functions + PP365                         25  \n",
       "OData                                           15  \n",
       "Home Network Project                            19  \n",
       "WSL + Kali Linux                                22  \n",
       "Vocab                                           66  \n",
       "PnP Powershell                                  38  \n",
       "JavaScript Concepts                             61  \n",
       "Logging in Python                               60  "
      ]
     },
     "execution_count": 77,
     "metadata": {},
     "output_type": "execute_result"
    }
   ],
   "source": [
    "stats = existing_cards.groupby('head').agg({'age': ['sum', 'mean', 'max'], 'head': 'count'}).sort_values(('age', 'sum'))\n",
    "stats.columns = stats.columns.to_flat_index()\n",
    "stats.columns = ['_'.join(col).strip() for col in stats.columns]\n",
    "stats.index.name = None\n",
    "stats"
   ]
  },
  {
   "cell_type": "markdown",
   "metadata": {},
   "source": [
    "# Histogram"
   ]
  },
  {
   "cell_type": "code",
   "execution_count": 78,
   "metadata": {},
   "outputs": [
    {
     "name": "stdout",
     "output_type": "stream",
     "text": [
      "83830.83\n"
     ]
    },
    {
     "data": {
      "text/plain": [
       "<Axes: >"
      ]
     },
     "execution_count": 78,
     "metadata": {},
     "output_type": "execute_result"
    },
    {
     "data": {
      "image/png": "[encoded data removed]",
      "text/plain": [
       "<Figure size 640x480 with 1 Axes>"
      ]
     },
     "metadata": {},
     "output_type": "display_data"
    }
   ],
   "source": [
    "print(f\"{existing_cards['age'].sum(0):.2f}\")\n",
    "existing_cards['age'].hist(bins=20)"
   ]
  },
  {
   "cell_type": "markdown",
   "metadata": {},
   "source": [
    "# Completely Random Shuffle"
   ]
  },
  {
   "cell_type": "code",
   "execution_count": 79,
   "metadata": {},
   "outputs": [],
   "source": [
    "# existing_cards = existing_cards.sample(frac=1)\n",
    "# remake_card_document(filename='certcards2.txt', existing_cards = existing_cards)"
   ]
  },
  {
   "cell_type": "markdown",
   "metadata": {},
   "source": [
    "# Age Sort"
   ]
  },
  {
   "cell_type": "code",
   "execution_count": 80,
   "metadata": {},
   "outputs": [],
   "source": [
    "# existing_cards = existing_cards.sort_values('age', ascending=False)\n",
    "# remake_card_document(filename='certcards2.txt', existing_cards=existing_cards)\n",
    "# existing_cards.head(10)"
   ]
  },
  {
   "cell_type": "markdown",
   "metadata": {},
   "source": [
    "# Headers with fewest notes first"
   ]
  },
  {
   "cell_type": "code",
   "execution_count": 81,
   "metadata": {},
   "outputs": [],
   "source": [
    "# frequency = existing_cards['head'].value_counts(ascending=True)\n",
    "\n",
    "# existing_cards = pd.merge(\n",
    "#     left=existing_cards,\n",
    "#     right=frequency.rename('frequency'),\n",
    "#     left_on='head', right_index=True,\n",
    "#     how='left'\n",
    "# )\n",
    "# existing_cards['oldest'] = existing_cards.groupby('head')['age'].transform('max')\n",
    "# existing_cards['subject_highest_age'] = existing_cards['subject_highest_age'] * -1\n",
    "# existing_cards['age'] = existing_cards['age'] * -1\n",
    "\n",
    "\n",
    "# existing_cards.sort_values(['frequency', 'subject_highest_age', 'age'], ascending=True, inplace=True)\n",
    "\n",
    "# remake_card_document(filename='certcards2.txt', existing_cards=existing_cards)\n",
    "\n",
    "# existing_cards.head(10)"
   ]
  },
  {
   "cell_type": "markdown",
   "metadata": {},
   "source": [
    "# Focus on one header"
   ]
  },
  {
   "cell_type": "code",
   "execution_count": 82,
   "metadata": {},
   "outputs": [],
   "source": [
    "# heads = existing_cards['head'].value_counts()\n",
    "# heads = heads[heads > 5].index.tolist()\n",
    "# one_header = random.sample(heads, 1)[0]\n",
    "# existing_cards['pick_head'] = existing_cards['head'].apply(\n",
    "#     lambda h: 0 if h == one_header else 1 \n",
    "# )\n",
    "\n",
    "# remake_card_document(existing_cards=existing_cards.sort_values('pick_head'))"
   ]
  },
  {
   "cell_type": "markdown",
   "metadata": {},
   "source": [
    "## Header with oldest cards first"
   ]
  },
  {
   "cell_type": "code",
   "execution_count": 83,
   "metadata": {},
   "outputs": [],
   "source": [
    "# existing_cards['oldest'] = existing_cards.groupby('head')['age'].transform('max')\n",
    "# existing_cards.sort_values(['oldest', 'age'], ascending=False, inplace=True)\n",
    "# remake_card_document(existing_cards)"
   ]
  },
  {
   "cell_type": "markdown",
   "metadata": {},
   "source": [
    "## Headers with greatest mean card age first"
   ]
  },
  {
   "cell_type": "code",
   "execution_count": 84,
   "metadata": {},
   "outputs": [],
   "source": [
    "# existing_cards.sort_values(['subject_mean_age', 'age'], ascending=False, inplace=True)\n",
    "# remake_card_document(existing_cards)"
   ]
  },
  {
   "cell_type": "markdown",
   "metadata": {},
   "source": [
    "## Headers with greatest age sum first"
   ]
  },
  {
   "cell_type": "code",
   "execution_count": 85,
   "metadata": {},
   "outputs": [],
   "source": [
    "# existing_cards.sort_values(['subject_age_sum', 'age'], ascending=False, inplace=True)\n",
    "# remake_card_document(existing_cards)"
   ]
  },
  {
   "cell_type": "markdown",
   "metadata": {},
   "source": [
    "# N-fold shuffle\n"
   ]
  },
  {
   "cell_type": "markdown",
   "metadata": {},
   "source": [
    "## Age Sum"
   ]
  },
  {
   "cell_type": "code",
   "execution_count": 86,
   "metadata": {},
   "outputs": [],
   "source": [
    "# n=10\n",
    "# existing_cards['count'] = existing_cards.sort_values('age', ascending=False).groupby('head').cumcount()\n",
    "# existing_cards['n_fold'] = existing_cards['count'] // n\n",
    "\n",
    "# existing_cards['subject_age_sum'] = existing_cards['subject_age_sum'] *-1\n",
    "# existing_cards['age'] = existing_cards['age'] *-1\n",
    "# existing_cards.sort_values(['n_fold', 'subject_age_sum', 'age'], inplace=True)\n",
    "\n",
    "# remake_card_document(existing_cards=existing_cards)\n",
    "# existing_cards.head(10)\n"
   ]
  },
  {
   "cell_type": "markdown",
   "metadata": {},
   "source": [
    "## Age Mean"
   ]
  },
  {
   "cell_type": "code",
   "execution_count": 87,
   "metadata": {},
   "outputs": [
    {
     "name": "stdout",
     "output_type": "stream",
     "text": [
      "Cards found: 603\n"
     ]
    },
    {
     "data": {
      "application/vnd.microsoft.datawrangler.viewer.v0+json": {
       "columns": [
        {
         "name": "index",
         "rawType": "int64",
         "type": "integer"
        },
        {
         "name": "head",
         "rawType": "object",
         "type": "string"
        },
        {
         "name": "body",
         "rawType": "object",
         "type": "string"
        },
        {
         "name": "hash",
         "rawType": "object",
         "type": "string"
        },
        {
         "name": "age",
         "rawType": "float64",
         "type": "float"
        },
        {
         "name": "subject_mean_age",
         "rawType": "float64",
         "type": "float"
        },
        {
         "name": "subject_highest_age",
         "rawType": "float64",
         "type": "float"
        },
        {
         "name": "subject_age_sum",
         "rawType": "float64",
         "type": "float"
        },
        {
         "name": "head_random_roll",
         "rawType": "float64",
         "type": "float"
        },
        {
         "name": "count",
         "rawType": "int64",
         "type": "integer"
        },
        {
         "name": "n_fold",
         "rawType": "int64",
         "type": "integer"
        }
       ],
       "conversionMethod": "pd.DataFrame",
       "ref": "9ae7b392-b03b-49cf-a3ed-4b7bb9eff83b",
       "rows": [
        [
         "0",
         "OData",
         "IsSideEffecting Annotation (Org.OData.Core.V1.IsSideEffecting)\n\nDefinition: An OData annotation that indicates an operation (action or function) may cause data changes on the server.\nContext: Useful for clients to understand that the request cannot be treated as purely read-only or cached safely.",
         "d8914b66a46000e7d49d28751ef0ce4d",
         "-995.1617916057149",
         "-348.3159515747776",
         "995.1617916057149",
         "5224.739273621664",
         "0.5256645164173764",
         "0",
         "0"
        ],
        [
         "1",
         "OData",
         "Metadata in OData describes the structure, data types, relationships, and other aspects of the data model. The $metadata endpoint provides the service’s data model and schema definitions using CSDL, essential for understanding available entities and their relationships.",
         "6481d267891f44f7021eb148e72d7a2d",
         "-470.26963872105034",
         "-348.3159515747776",
         "995.1617916057149",
         "5224.739273621664",
         "0.5256645164173764",
         "3",
         "0"
        ],
        [
         "2",
         "OData",
         "Annotations provide additional metadata about entities, properties, or relationships in the OData model. They enrich the data with information like display names, validation rules, and formatting instructions, enhancing both data semantics and client-side interactions.",
         "e10bfb62a2d41b4902e31c6dfa97b22a",
         "-358.2447735053837",
         "-348.3159515747776",
         "995.1617916057149",
         "5224.739273621664",
         "0.5256645164173764",
         "6",
         "0"
        ],
        [
         "3",
         "OData",
         "OData-defined system query options are optionally prefixed with \"$\". Services may support additional custom query options not defined in the OData specification, but they MUST NOT begin with the \"$\" or \"@\" character and MUST NOT conflict with any OData-defined system query options defined in the OData version supported by the service.",
         "92d41ab5b340318de6b606ed3f94fda4",
         "-176.4887745761445",
         "-348.3159515747776",
         "995.1617916057149",
         "5224.739273621664",
         "0.5256645164173764",
         "9",
         "0"
        ],
        [
         "4",
         "OData",
         "OData services SHOULD NOT require any query options to be specified in a request. Services SHOULD fail any request that contains query options that they do not understand and MUST fail any request that contains unsupported OData query options defined in the version of this specification supported by the service.",
         "7b3849723952f8c81c62d569b4505b3e",
         "-132.6579336217228",
         "-348.3159515747776",
         "995.1617916057149",
         "5224.739273621664",
         "0.5256645164173764",
         "12",
         "0"
        ],
        [
         "5",
         "Home Network Project",
         "Front: What is TLS Termination and why is it used in reverse proxies?\n\nBack: TLS Termination refers to the process of decrypting incoming TLS/SSL encrypted traffic at the reverse proxy level before forwarding it to backend servers. It offloads the computationally intensive decryption task from backend servers, improves performance, and allows for centralized management of SSL certificates.",
         "5297051eea9892af904815d3794faf15",
         "-1195.2538571063112",
         "-285.0650061233377",
         "1195.2538571063112",
         "5416.235116343416",
         "0.12297847243493565",
         "0",
         "0"
        ],
        [
         "6",
         "Home Network Project",
         "Front: What is Bandwidth and how does it differ from Throughput?\n\nBack:\n\nBandwidth: The maximum rate of data transfer across a network path, typically measured in Mbps or Gbps. It represents the network's capacity.\nThroughput: The actual rate of successful data transfer achieved, often lower than the bandwidth due to factors like network congestion and protocol overhead.",
         "8d6d825a0008723089184f0a0131e2d6",
         "-457.19749784461044",
         "-285.0650061233377",
         "1195.2538571063112",
         "5416.235116343416",
         "0.12297847243493565",
         "3",
         "0"
        ],
        [
         "7",
         "Home Network Project",
         "Front: What is Rate Limiting and how does it help in preventing attacks?\n\nBack: Rate Limiting restricts the number of requests a user or IP address can make to a service within a specific time frame. It helps prevent various attacks, such as brute-force attacks, denial-of-service (DoS) attacks, and abuse of APIs, by limiting the potential impact of malicious activities.",
         "8178df4fba6be87bebbac33e10e32135",
         "-304.76213085622794",
         "-285.0650061233377",
         "1195.2538571063112",
         "5416.235116343416",
         "0.12297847243493565",
         "6",
         "0"
        ],
        [
         "8",
         "Home Network Project",
         "Front: What is Fail2Ban and how does it protect a network?\n\nBack: Fail2Ban is an intrusion prevention software that monitors log files for suspicious activity, such as repeated failed login attempts. When such patterns are detected, Fail2Ban automatically updates firewall rules to temporarily or permanently ban offending IP addresses, protecting the network from brute-force attacks and unauthorized access.",
         "d7fc83e3380f6d95ec44141a17d86066",
         "-193.44117561676936",
         "-285.0650061233377",
         "1195.2538571063112",
         "5416.235116343416",
         "0.12297847243493565",
         "9",
         "0"
        ],
        [
         "9",
         "Home Network Project",
         "How do you install Docker on a Raspberry Pi?\n\nbash\ncurl -fsSL https://get.docker.com -o get-docker.sh\nsudo sh get-docker.sh\nsudo usermod -aG docker pi",
         "7900b83a7ba7844a4c599eafecb06af7",
         "-91.77645976088003",
         "-285.0650061233377",
         "1195.2538571063112",
         "5416.235116343416",
         "0.12297847243493565",
         "12",
         "0"
        ]
       ],
       "shape": {
        "columns": 10,
        "rows": 10
       }
      },
      "text/html": [
       "<div>\n",
       "<style scoped>\n",
       "    .dataframe tbody tr th:only-of-type {\n",
       "        vertical-align: middle;\n",
       "    }\n",
       "\n",
       "    .dataframe tbody tr th {\n",
       "        vertical-align: top;\n",
       "    }\n",
       "\n",
       "    .dataframe thead th {\n",
       "        text-align: right;\n",
       "    }\n",
       "</style>\n",
       "<table border=\"1\" class=\"dataframe\">\n",
       "  <thead>\n",
       "    <tr style=\"text-align: right;\">\n",
       "      <th></th>\n",
       "      <th>head</th>\n",
       "      <th>body</th>\n",
       "      <th>hash</th>\n",
       "      <th>age</th>\n",
       "      <th>subject_mean_age</th>\n",
       "      <th>subject_highest_age</th>\n",
       "      <th>subject_age_sum</th>\n",
       "      <th>head_random_roll</th>\n",
       "      <th>count</th>\n",
       "      <th>n_fold</th>\n",
       "    </tr>\n",
       "  </thead>\n",
       "  <tbody>\n",
       "    <tr>\n",
       "      <th>0</th>\n",
       "      <td>OData</td>\n",
       "      <td>IsSideEffecting Annotation (Org.OData.Core.V1....</td>\n",
       "      <td>d8914b66a46000e7d49d28751ef0ce4d</td>\n",
       "      <td>-995.161792</td>\n",
       "      <td>-348.315952</td>\n",
       "      <td>995.161792</td>\n",
       "      <td>5224.739274</td>\n",
       "      <td>0.525665</td>\n",
       "      <td>0</td>\n",
       "      <td>0</td>\n",
       "    </tr>\n",
       "    <tr>\n",
       "      <th>1</th>\n",
       "      <td>OData</td>\n",
       "      <td>Metadata in OData describes the structure, dat...</td>\n",
       "      <td>6481d267891f44f7021eb148e72d7a2d</td>\n",
       "      <td>-470.269639</td>\n",
       "      <td>-348.315952</td>\n",
       "      <td>995.161792</td>\n",
       "      <td>5224.739274</td>\n",
       "      <td>0.525665</td>\n",
       "      <td>3</td>\n",
       "      <td>0</td>\n",
       "    </tr>\n",
       "    <tr>\n",
       "      <th>2</th>\n",
       "      <td>OData</td>\n",
       "      <td>Annotations provide additional metadata about ...</td>\n",
       "      <td>e10bfb62a2d41b4902e31c6dfa97b22a</td>\n",
       "      <td>-358.244774</td>\n",
       "      <td>-348.315952</td>\n",
       "      <td>995.161792</td>\n",
       "      <td>5224.739274</td>\n",
       "      <td>0.525665</td>\n",
       "      <td>6</td>\n",
       "      <td>0</td>\n",
       "    </tr>\n",
       "    <tr>\n",
       "      <th>3</th>\n",
       "      <td>OData</td>\n",
       "      <td>OData-defined system query options are optiona...</td>\n",
       "      <td>92d41ab5b340318de6b606ed3f94fda4</td>\n",
       "      <td>-176.488775</td>\n",
       "      <td>-348.315952</td>\n",
       "      <td>995.161792</td>\n",
       "      <td>5224.739274</td>\n",
       "      <td>0.525665</td>\n",
       "      <td>9</td>\n",
       "      <td>0</td>\n",
       "    </tr>\n",
       "    <tr>\n",
       "      <th>4</th>\n",
       "      <td>OData</td>\n",
       "      <td>OData services SHOULD NOT require any query op...</td>\n",
       "      <td>7b3849723952f8c81c62d569b4505b3e</td>\n",
       "      <td>-132.657934</td>\n",
       "      <td>-348.315952</td>\n",
       "      <td>995.161792</td>\n",
       "      <td>5224.739274</td>\n",
       "      <td>0.525665</td>\n",
       "      <td>12</td>\n",
       "      <td>0</td>\n",
       "    </tr>\n",
       "    <tr>\n",
       "      <th>5</th>\n",
       "      <td>Home Network Project</td>\n",
       "      <td>Front: What is TLS Termination and why is it u...</td>\n",
       "      <td>5297051eea9892af904815d3794faf15</td>\n",
       "      <td>-1195.253857</td>\n",
       "      <td>-285.065006</td>\n",
       "      <td>1195.253857</td>\n",
       "      <td>5416.235116</td>\n",
       "      <td>0.122978</td>\n",
       "      <td>0</td>\n",
       "      <td>0</td>\n",
       "    </tr>\n",
       "    <tr>\n",
       "      <th>6</th>\n",
       "      <td>Home Network Project</td>\n",
       "      <td>Front: What is Bandwidth and how does it diffe...</td>\n",
       "      <td>8d6d825a0008723089184f0a0131e2d6</td>\n",
       "      <td>-457.197498</td>\n",
       "      <td>-285.065006</td>\n",
       "      <td>1195.253857</td>\n",
       "      <td>5416.235116</td>\n",
       "      <td>0.122978</td>\n",
       "      <td>3</td>\n",
       "      <td>0</td>\n",
       "    </tr>\n",
       "    <tr>\n",
       "      <th>7</th>\n",
       "      <td>Home Network Project</td>\n",
       "      <td>Front: What is Rate Limiting and how does it h...</td>\n",
       "      <td>8178df4fba6be87bebbac33e10e32135</td>\n",
       "      <td>-304.762131</td>\n",
       "      <td>-285.065006</td>\n",
       "      <td>1195.253857</td>\n",
       "      <td>5416.235116</td>\n",
       "      <td>0.122978</td>\n",
       "      <td>6</td>\n",
       "      <td>0</td>\n",
       "    </tr>\n",
       "    <tr>\n",
       "      <th>8</th>\n",
       "      <td>Home Network Project</td>\n",
       "      <td>Front: What is Fail2Ban and how does it protec...</td>\n",
       "      <td>d7fc83e3380f6d95ec44141a17d86066</td>\n",
       "      <td>-193.441176</td>\n",
       "      <td>-285.065006</td>\n",
       "      <td>1195.253857</td>\n",
       "      <td>5416.235116</td>\n",
       "      <td>0.122978</td>\n",
       "      <td>9</td>\n",
       "      <td>0</td>\n",
       "    </tr>\n",
       "    <tr>\n",
       "      <th>9</th>\n",
       "      <td>Home Network Project</td>\n",
       "      <td>How do you install Docker on a Raspberry Pi?\\n...</td>\n",
       "      <td>7900b83a7ba7844a4c599eafecb06af7</td>\n",
       "      <td>-91.776460</td>\n",
       "      <td>-285.065006</td>\n",
       "      <td>1195.253857</td>\n",
       "      <td>5416.235116</td>\n",
       "      <td>0.122978</td>\n",
       "      <td>12</td>\n",
       "      <td>0</td>\n",
       "    </tr>\n",
       "  </tbody>\n",
       "</table>\n",
       "</div>"
      ],
      "text/plain": [
       "                   head                                               body  \\\n",
       "0                 OData  IsSideEffecting Annotation (Org.OData.Core.V1....   \n",
       "1                 OData  Metadata in OData describes the structure, dat...   \n",
       "2                 OData  Annotations provide additional metadata about ...   \n",
       "3                 OData  OData-defined system query options are optiona...   \n",
       "4                 OData  OData services SHOULD NOT require any query op...   \n",
       "5  Home Network Project  Front: What is TLS Termination and why is it u...   \n",
       "6  Home Network Project  Front: What is Bandwidth and how does it diffe...   \n",
       "7  Home Network Project  Front: What is Rate Limiting and how does it h...   \n",
       "8  Home Network Project  Front: What is Fail2Ban and how does it protec...   \n",
       "9  Home Network Project  How do you install Docker on a Raspberry Pi?\\n...   \n",
       "\n",
       "                               hash          age  subject_mean_age  \\\n",
       "0  d8914b66a46000e7d49d28751ef0ce4d  -995.161792       -348.315952   \n",
       "1  6481d267891f44f7021eb148e72d7a2d  -470.269639       -348.315952   \n",
       "2  e10bfb62a2d41b4902e31c6dfa97b22a  -358.244774       -348.315952   \n",
       "3  92d41ab5b340318de6b606ed3f94fda4  -176.488775       -348.315952   \n",
       "4  7b3849723952f8c81c62d569b4505b3e  -132.657934       -348.315952   \n",
       "5  5297051eea9892af904815d3794faf15 -1195.253857       -285.065006   \n",
       "6  8d6d825a0008723089184f0a0131e2d6  -457.197498       -285.065006   \n",
       "7  8178df4fba6be87bebbac33e10e32135  -304.762131       -285.065006   \n",
       "8  d7fc83e3380f6d95ec44141a17d86066  -193.441176       -285.065006   \n",
       "9  7900b83a7ba7844a4c599eafecb06af7   -91.776460       -285.065006   \n",
       "\n",
       "   subject_highest_age  subject_age_sum  head_random_roll  count  n_fold  \n",
       "0           995.161792      5224.739274          0.525665      0       0  \n",
       "1           995.161792      5224.739274          0.525665      3       0  \n",
       "2           995.161792      5224.739274          0.525665      6       0  \n",
       "3           995.161792      5224.739274          0.525665      9       0  \n",
       "4           995.161792      5224.739274          0.525665     12       0  \n",
       "5          1195.253857      5416.235116          0.122978      0       0  \n",
       "6          1195.253857      5416.235116          0.122978      3       0  \n",
       "7          1195.253857      5416.235116          0.122978      6       0  \n",
       "8          1195.253857      5416.235116          0.122978      9       0  \n",
       "9          1195.253857      5416.235116          0.122978     12       0  "
      ]
     },
     "execution_count": 87,
     "metadata": {},
     "output_type": "execute_result"
    }
   ],
   "source": [
    "n=3\n",
    "existing_cards['count'] = existing_cards.sort_values('age', ascending=False).groupby('head').cumcount()\n",
    "existing_cards['n_fold'] = existing_cards['count'] % n\n",
    "\n",
    "existing_cards['subject_mean_age'] = existing_cards['subject_mean_age'] *-1\n",
    "existing_cards['age'] = existing_cards['age'] *-1\n",
    "existing_cards.sort_values(['n_fold', 'subject_mean_age', 'age'], inplace=True)\n",
    "remake_card_document(existing_cards=existing_cards)\n",
    "\n",
    "existing_cards.head(10)\n",
    "\n"
   ]
  },
  {
   "cell_type": "markdown",
   "metadata": {},
   "source": [
    "## Age Max"
   ]
  },
  {
   "cell_type": "code",
   "execution_count": 88,
   "metadata": {},
   "outputs": [],
   "source": [
    "# n = 3\n",
    "# existing_cards['count'] = existing_cards.sort_values('age', ascending=False).groupby('head').cumcount()\n",
    "# existing_cards['n_fold'] = existing_cards['count'] // n\n",
    "\n",
    "# existing_cards['subject_highest_age'] = existing_cards['subject_highest_age'] *-1\n",
    "# existing_cards['age'] = existing_cards['age'] *-1\n",
    "# existing_cards.sort_values(['n_fold', 'subject_highest_age', 'age'], inplace=True)\n",
    "\n",
    "# remake_card_document(existing_cards=existing_cards)\n",
    "# existing_cards.head(10)\n"
   ]
  },
  {
   "cell_type": "markdown",
   "metadata": {},
   "source": [
    "## Card Count"
   ]
  },
  {
   "cell_type": "code",
   "execution_count": 89,
   "metadata": {},
   "outputs": [],
   "source": [
    "# n=10\n",
    "# existing_cards['frequency']  = existing_cards.groupby('head').transform('count')['body']\n",
    "# existing_cards['count'] = existing_cards.sort_values('age', ascending=False).groupby('head').cumcount()\n",
    "# existing_cards['n_fold'] = existing_cards['count'] // n\n",
    "\n",
    "# existing_cards['subject_mean_age'] = existing_cards['subject_mean_age'] *-1\n",
    "# existing_cards['age'] = existing_cards['age'] *-1\n",
    "# existing_cards.sort_values(['n_fold', 'frequency', 'age'], inplace=True)\n",
    "# remake_card_document(existing_cards=existing_cards)\n",
    "\n",
    "# existing_cards.head(10)\n",
    "\n"
   ]
  },
  {
   "cell_type": "markdown",
   "metadata": {},
   "source": [
    "\n",
    "## Random"
   ]
  },
  {
   "cell_type": "code",
   "execution_count": 90,
   "metadata": {},
   "outputs": [],
   "source": [
    "# n = 3\n",
    "# existing_cards['count'] = existing_cards.sort_values('age', ascending=False).groupby('head').cumcount()\n",
    "# existing_cards['n_fold'] = existing_cards['count'] % n\n",
    "# existing_cards['age'] *= -1\n",
    "# existing_cards.sort_values(['n_fold', 'head_random_roll', 'age'], inplace=True)\n",
    "# remake_card_document(existing_cards=existing_cards)\n",
    "# existing_cards.head(10)"
   ]
  },
  {
   "cell_type": "code",
   "execution_count": 91,
   "metadata": {},
   "outputs": [
    {
     "data": {
      "application/vnd.microsoft.datawrangler.viewer.v0+json": {
       "columns": [
        {
         "name": "index",
         "rawType": "int64",
         "type": "integer"
        },
        {
         "name": "head",
         "rawType": "object",
         "type": "string"
        },
        {
         "name": "body",
         "rawType": "object",
         "type": "string"
        },
        {
         "name": "hash",
         "rawType": "object",
         "type": "string"
        },
        {
         "name": "age",
         "rawType": "float64",
         "type": "float"
        },
        {
         "name": "subject_mean_age",
         "rawType": "float64",
         "type": "float"
        },
        {
         "name": "subject_highest_age",
         "rawType": "float64",
         "type": "float"
        },
        {
         "name": "subject_age_sum",
         "rawType": "float64",
         "type": "float"
        },
        {
         "name": "head_random_roll",
         "rawType": "float64",
         "type": "float"
        },
        {
         "name": "count",
         "rawType": "int64",
         "type": "integer"
        },
        {
         "name": "n_fold",
         "rawType": "int64",
         "type": "integer"
        }
       ],
       "conversionMethod": "pd.DataFrame",
       "ref": "cd8334c9-0c69-4545-8210-809f51e56544",
       "rows": [
        [
         "0",
         "OData",
         "IsSideEffecting Annotation (Org.OData.Core.V1.IsSideEffecting)\n\nDefinition: An OData annotation that indicates an operation (action or function) may cause data changes on the server.\nContext: Useful for clients to understand that the request cannot be treated as purely read-only or cached safely.",
         "d8914b66a46000e7d49d28751ef0ce4d",
         "-995.1617916057149",
         "-348.3159515747776",
         "995.1617916057149",
         "5224.739273621664",
         "0.5256645164173764",
         "0",
         "0"
        ],
        [
         "1",
         "OData",
         "Metadata in OData describes the structure, data types, relationships, and other aspects of the data model. The $metadata endpoint provides the service’s data model and schema definitions using CSDL, essential for understanding available entities and their relationships.",
         "6481d267891f44f7021eb148e72d7a2d",
         "-470.26963872105034",
         "-348.3159515747776",
         "995.1617916057149",
         "5224.739273621664",
         "0.5256645164173764",
         "3",
         "0"
        ],
        [
         "2",
         "OData",
         "Annotations provide additional metadata about entities, properties, or relationships in the OData model. They enrich the data with information like display names, validation rules, and formatting instructions, enhancing both data semantics and client-side interactions.",
         "e10bfb62a2d41b4902e31c6dfa97b22a",
         "-358.2447735053837",
         "-348.3159515747776",
         "995.1617916057149",
         "5224.739273621664",
         "0.5256645164173764",
         "6",
         "0"
        ],
        [
         "3",
         "OData",
         "OData-defined system query options are optionally prefixed with \"$\". Services may support additional custom query options not defined in the OData specification, but they MUST NOT begin with the \"$\" or \"@\" character and MUST NOT conflict with any OData-defined system query options defined in the OData version supported by the service.",
         "92d41ab5b340318de6b606ed3f94fda4",
         "-176.4887745761445",
         "-348.3159515747776",
         "995.1617916057149",
         "5224.739273621664",
         "0.5256645164173764",
         "9",
         "0"
        ],
        [
         "4",
         "OData",
         "OData services SHOULD NOT require any query options to be specified in a request. Services SHOULD fail any request that contains query options that they do not understand and MUST fail any request that contains unsupported OData query options defined in the version of this specification supported by the service.",
         "7b3849723952f8c81c62d569b4505b3e",
         "-132.6579336217228",
         "-348.3159515747776",
         "995.1617916057149",
         "5224.739273621664",
         "0.5256645164173764",
         "12",
         "0"
        ],
        [
         "5",
         "Home Network Project",
         "Front: What is TLS Termination and why is it used in reverse proxies?\n\nBack: TLS Termination refers to the process of decrypting incoming TLS/SSL encrypted traffic at the reverse proxy level before forwarding it to backend servers. It offloads the computationally intensive decryption task from backend servers, improves performance, and allows for centralized management of SSL certificates.",
         "5297051eea9892af904815d3794faf15",
         "-1195.2538571063112",
         "-285.0650061233377",
         "1195.2538571063112",
         "5416.235116343416",
         "0.12297847243493565",
         "0",
         "0"
        ],
        [
         "6",
         "Home Network Project",
         "Front: What is Bandwidth and how does it differ from Throughput?\n\nBack:\n\nBandwidth: The maximum rate of data transfer across a network path, typically measured in Mbps or Gbps. It represents the network's capacity.\nThroughput: The actual rate of successful data transfer achieved, often lower than the bandwidth due to factors like network congestion and protocol overhead.",
         "8d6d825a0008723089184f0a0131e2d6",
         "-457.19749784461044",
         "-285.0650061233377",
         "1195.2538571063112",
         "5416.235116343416",
         "0.12297847243493565",
         "3",
         "0"
        ],
        [
         "7",
         "Home Network Project",
         "Front: What is Rate Limiting and how does it help in preventing attacks?\n\nBack: Rate Limiting restricts the number of requests a user or IP address can make to a service within a specific time frame. It helps prevent various attacks, such as brute-force attacks, denial-of-service (DoS) attacks, and abuse of APIs, by limiting the potential impact of malicious activities.",
         "8178df4fba6be87bebbac33e10e32135",
         "-304.76213085622794",
         "-285.0650061233377",
         "1195.2538571063112",
         "5416.235116343416",
         "0.12297847243493565",
         "6",
         "0"
        ],
        [
         "8",
         "Home Network Project",
         "Front: What is Fail2Ban and how does it protect a network?\n\nBack: Fail2Ban is an intrusion prevention software that monitors log files for suspicious activity, such as repeated failed login attempts. When such patterns are detected, Fail2Ban automatically updates firewall rules to temporarily or permanently ban offending IP addresses, protecting the network from brute-force attacks and unauthorized access.",
         "d7fc83e3380f6d95ec44141a17d86066",
         "-193.44117561676936",
         "-285.0650061233377",
         "1195.2538571063112",
         "5416.235116343416",
         "0.12297847243493565",
         "9",
         "0"
        ],
        [
         "9",
         "Home Network Project",
         "How do you install Docker on a Raspberry Pi?\n\nbash\ncurl -fsSL https://get.docker.com -o get-docker.sh\nsudo sh get-docker.sh\nsudo usermod -aG docker pi",
         "7900b83a7ba7844a4c599eafecb06af7",
         "-91.77645976088003",
         "-285.0650061233377",
         "1195.2538571063112",
         "5416.235116343416",
         "0.12297847243493565",
         "12",
         "0"
        ]
       ],
       "shape": {
        "columns": 10,
        "rows": 10
       }
      },
      "text/html": [
       "<div>\n",
       "<style scoped>\n",
       "    .dataframe tbody tr th:only-of-type {\n",
       "        vertical-align: middle;\n",
       "    }\n",
       "\n",
       "    .dataframe tbody tr th {\n",
       "        vertical-align: top;\n",
       "    }\n",
       "\n",
       "    .dataframe thead th {\n",
       "        text-align: right;\n",
       "    }\n",
       "</style>\n",
       "<table border=\"1\" class=\"dataframe\">\n",
       "  <thead>\n",
       "    <tr style=\"text-align: right;\">\n",
       "      <th></th>\n",
       "      <th>head</th>\n",
       "      <th>body</th>\n",
       "      <th>hash</th>\n",
       "      <th>age</th>\n",
       "      <th>subject_mean_age</th>\n",
       "      <th>subject_highest_age</th>\n",
       "      <th>subject_age_sum</th>\n",
       "      <th>head_random_roll</th>\n",
       "      <th>count</th>\n",
       "      <th>n_fold</th>\n",
       "    </tr>\n",
       "  </thead>\n",
       "  <tbody>\n",
       "    <tr>\n",
       "      <th>0</th>\n",
       "      <td>OData</td>\n",
       "      <td>IsSideEffecting Annotation (Org.OData.Core.V1....</td>\n",
       "      <td>d8914b66a46000e7d49d28751ef0ce4d</td>\n",
       "      <td>-995.161792</td>\n",
       "      <td>-348.315952</td>\n",
       "      <td>995.161792</td>\n",
       "      <td>5224.739274</td>\n",
       "      <td>0.525665</td>\n",
       "      <td>0</td>\n",
       "      <td>0</td>\n",
       "    </tr>\n",
       "    <tr>\n",
       "      <th>1</th>\n",
       "      <td>OData</td>\n",
       "      <td>Metadata in OData describes the structure, dat...</td>\n",
       "      <td>6481d267891f44f7021eb148e72d7a2d</td>\n",
       "      <td>-470.269639</td>\n",
       "      <td>-348.315952</td>\n",
       "      <td>995.161792</td>\n",
       "      <td>5224.739274</td>\n",
       "      <td>0.525665</td>\n",
       "      <td>3</td>\n",
       "      <td>0</td>\n",
       "    </tr>\n",
       "    <tr>\n",
       "      <th>2</th>\n",
       "      <td>OData</td>\n",
       "      <td>Annotations provide additional metadata about ...</td>\n",
       "      <td>e10bfb62a2d41b4902e31c6dfa97b22a</td>\n",
       "      <td>-358.244774</td>\n",
       "      <td>-348.315952</td>\n",
       "      <td>995.161792</td>\n",
       "      <td>5224.739274</td>\n",
       "      <td>0.525665</td>\n",
       "      <td>6</td>\n",
       "      <td>0</td>\n",
       "    </tr>\n",
       "    <tr>\n",
       "      <th>3</th>\n",
       "      <td>OData</td>\n",
       "      <td>OData-defined system query options are optiona...</td>\n",
       "      <td>92d41ab5b340318de6b606ed3f94fda4</td>\n",
       "      <td>-176.488775</td>\n",
       "      <td>-348.315952</td>\n",
       "      <td>995.161792</td>\n",
       "      <td>5224.739274</td>\n",
       "      <td>0.525665</td>\n",
       "      <td>9</td>\n",
       "      <td>0</td>\n",
       "    </tr>\n",
       "    <tr>\n",
       "      <th>4</th>\n",
       "      <td>OData</td>\n",
       "      <td>OData services SHOULD NOT require any query op...</td>\n",
       "      <td>7b3849723952f8c81c62d569b4505b3e</td>\n",
       "      <td>-132.657934</td>\n",
       "      <td>-348.315952</td>\n",
       "      <td>995.161792</td>\n",
       "      <td>5224.739274</td>\n",
       "      <td>0.525665</td>\n",
       "      <td>12</td>\n",
       "      <td>0</td>\n",
       "    </tr>\n",
       "    <tr>\n",
       "      <th>5</th>\n",
       "      <td>Home Network Project</td>\n",
       "      <td>Front: What is TLS Termination and why is it u...</td>\n",
       "      <td>5297051eea9892af904815d3794faf15</td>\n",
       "      <td>-1195.253857</td>\n",
       "      <td>-285.065006</td>\n",
       "      <td>1195.253857</td>\n",
       "      <td>5416.235116</td>\n",
       "      <td>0.122978</td>\n",
       "      <td>0</td>\n",
       "      <td>0</td>\n",
       "    </tr>\n",
       "    <tr>\n",
       "      <th>6</th>\n",
       "      <td>Home Network Project</td>\n",
       "      <td>Front: What is Bandwidth and how does it diffe...</td>\n",
       "      <td>8d6d825a0008723089184f0a0131e2d6</td>\n",
       "      <td>-457.197498</td>\n",
       "      <td>-285.065006</td>\n",
       "      <td>1195.253857</td>\n",
       "      <td>5416.235116</td>\n",
       "      <td>0.122978</td>\n",
       "      <td>3</td>\n",
       "      <td>0</td>\n",
       "    </tr>\n",
       "    <tr>\n",
       "      <th>7</th>\n",
       "      <td>Home Network Project</td>\n",
       "      <td>Front: What is Rate Limiting and how does it h...</td>\n",
       "      <td>8178df4fba6be87bebbac33e10e32135</td>\n",
       "      <td>-304.762131</td>\n",
       "      <td>-285.065006</td>\n",
       "      <td>1195.253857</td>\n",
       "      <td>5416.235116</td>\n",
       "      <td>0.122978</td>\n",
       "      <td>6</td>\n",
       "      <td>0</td>\n",
       "    </tr>\n",
       "    <tr>\n",
       "      <th>8</th>\n",
       "      <td>Home Network Project</td>\n",
       "      <td>Front: What is Fail2Ban and how does it protec...</td>\n",
       "      <td>d7fc83e3380f6d95ec44141a17d86066</td>\n",
       "      <td>-193.441176</td>\n",
       "      <td>-285.065006</td>\n",
       "      <td>1195.253857</td>\n",
       "      <td>5416.235116</td>\n",
       "      <td>0.122978</td>\n",
       "      <td>9</td>\n",
       "      <td>0</td>\n",
       "    </tr>\n",
       "    <tr>\n",
       "      <th>9</th>\n",
       "      <td>Home Network Project</td>\n",
       "      <td>How do you install Docker on a Raspberry Pi?\\n...</td>\n",
       "      <td>7900b83a7ba7844a4c599eafecb06af7</td>\n",
       "      <td>-91.776460</td>\n",
       "      <td>-285.065006</td>\n",
       "      <td>1195.253857</td>\n",
       "      <td>5416.235116</td>\n",
       "      <td>0.122978</td>\n",
       "      <td>12</td>\n",
       "      <td>0</td>\n",
       "    </tr>\n",
       "  </tbody>\n",
       "</table>\n",
       "</div>"
      ],
      "text/plain": [
       "                   head                                               body  \\\n",
       "0                 OData  IsSideEffecting Annotation (Org.OData.Core.V1....   \n",
       "1                 OData  Metadata in OData describes the structure, dat...   \n",
       "2                 OData  Annotations provide additional metadata about ...   \n",
       "3                 OData  OData-defined system query options are optiona...   \n",
       "4                 OData  OData services SHOULD NOT require any query op...   \n",
       "5  Home Network Project  Front: What is TLS Termination and why is it u...   \n",
       "6  Home Network Project  Front: What is Bandwidth and how does it diffe...   \n",
       "7  Home Network Project  Front: What is Rate Limiting and how does it h...   \n",
       "8  Home Network Project  Front: What is Fail2Ban and how does it protec...   \n",
       "9  Home Network Project  How do you install Docker on a Raspberry Pi?\\n...   \n",
       "\n",
       "                               hash          age  subject_mean_age  \\\n",
       "0  d8914b66a46000e7d49d28751ef0ce4d  -995.161792       -348.315952   \n",
       "1  6481d267891f44f7021eb148e72d7a2d  -470.269639       -348.315952   \n",
       "2  e10bfb62a2d41b4902e31c6dfa97b22a  -358.244774       -348.315952   \n",
       "3  92d41ab5b340318de6b606ed3f94fda4  -176.488775       -348.315952   \n",
       "4  7b3849723952f8c81c62d569b4505b3e  -132.657934       -348.315952   \n",
       "5  5297051eea9892af904815d3794faf15 -1195.253857       -285.065006   \n",
       "6  8d6d825a0008723089184f0a0131e2d6  -457.197498       -285.065006   \n",
       "7  8178df4fba6be87bebbac33e10e32135  -304.762131       -285.065006   \n",
       "8  d7fc83e3380f6d95ec44141a17d86066  -193.441176       -285.065006   \n",
       "9  7900b83a7ba7844a4c599eafecb06af7   -91.776460       -285.065006   \n",
       "\n",
       "   subject_highest_age  subject_age_sum  head_random_roll  count  n_fold  \n",
       "0           995.161792      5224.739274          0.525665      0       0  \n",
       "1           995.161792      5224.739274          0.525665      3       0  \n",
       "2           995.161792      5224.739274          0.525665      6       0  \n",
       "3           995.161792      5224.739274          0.525665      9       0  \n",
       "4           995.161792      5224.739274          0.525665     12       0  \n",
       "5          1195.253857      5416.235116          0.122978      0       0  \n",
       "6          1195.253857      5416.235116          0.122978      3       0  \n",
       "7          1195.253857      5416.235116          0.122978      6       0  \n",
       "8          1195.253857      5416.235116          0.122978      9       0  \n",
       "9          1195.253857      5416.235116          0.122978     12       0  "
      ]
     },
     "execution_count": 91,
     "metadata": {},
     "output_type": "execute_result"
    }
   ],
   "source": [
    "existing_cards.head(10)"
   ]
  },
  {
   "cell_type": "code",
   "execution_count": 92,
   "metadata": {},
   "outputs": [
    {
     "data": {
      "text/plain": [
       "-139.0229331866465"
      ]
     },
     "execution_count": 92,
     "metadata": {},
     "output_type": "execute_result"
    }
   ],
   "source": [
    "existing_cards['age'].mean()"
   ]
  }
 ],
 "metadata": {
  "kernelspec": {
   "display_name": "Python 3",
   "language": "python",
   "name": "python3"
  },
  "language_info": {
   "codemirror_mode": {
    "name": "ipython",
    "version": 3
   },
   "file_extension": ".py",
   "mimetype": "text/x-python",
   "name": "python",
   "nbconvert_exporter": "python",
   "pygments_lexer": "ipython3",
   "version": "3.10.10"
  }
 },
 "nbformat": 4,
 "nbformat_minor": 2
}
