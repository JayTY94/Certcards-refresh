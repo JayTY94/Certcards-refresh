{
 "cells": [
  {
   "cell_type": "code",
   "execution_count": 1,
   "metadata": {},
   "outputs": [],
   "source": [
    "import re\n",
    "import random\n",
    "import pandas as pd\n",
    "import hashlib"
   ]
  },
  {
   "cell_type": "code",
   "execution_count": 2,
   "metadata": {},
   "outputs": [],
   "source": [
    "with open('certcards2.txt', mode='r', encoding='utf8') as f:\n",
    "    all_cards = f.read()\n",
    "    \n",
    "card_split_pattern = r'\\n\\n\\n\\d+\\n'\n",
    "all_cards = re.split(card_split_pattern, all_cards)\n",
    "# Use re.DOTALL to allow . to match newline characters\n",
    "card_pattern = re.compile(r'(.+?)\\n([\\s\\S]+)', re.DOTALL)\n",
    "cards = [(match.group(1), match.group(2)) for cstring in all_cards if (match := re.search(card_pattern, cstring))]\n",
    "\n",
    "# removing the cards that have no content and trimming\n",
    "cards = [(subject, stripped_content) for subject, content in cards if len(stripped_content := content.strip()) > 5]\n",
    "\n",
    "def hash_string_md5(s):\n",
    "    \"\"\"\n",
    "    Hashes a string using MD5 and returns a truncated hash for efficiency.\n",
    "\n",
    "    Parameters:\n",
    "    - s (str): The input string to hash.\n",
    "\n",
    "    Returns:\n",
    "    - str: The truncated hexadecimal hash string.\n",
    "    \"\"\"\n",
    "    if pd.isnull(s):\n",
    "        return None  # Handle NaN values gracefully\n",
    "    return hashlib.md5(s.encode('utf-8')).hexdigest()\n",
    "\n",
    "\n",
    "def remake_card_document(existing_cards: pd.DataFrame, filename: str='certcards2.txt'):\n",
    "    with open(filename, mode='w', encoding='utf8') as f:\n",
    "        i = 1\n",
    "        for _, row in existing_cards.iterrows():\n",
    "            f.write('\\n'*6)\n",
    "            f.write(str(i)+'\\n')  \n",
    "            f.write(row['head']+'\\n')\n",
    "            f.write(row['body'])\n",
    "            i+=1\n",
    "    print(F\"Cards found: {existing_cards.shape[0]}\")\n",
    "\n",
    "\n",
    "existing_cards = pd.DataFrame(cards, columns=['head', 'body'])\n",
    "\n",
    "\n",
    "# existing_cards['age'] = [random.random() for _ in existing_cards.index]\n",
    "existing_cards['hash'] = existing_cards['body'].apply(hash_string_md5)\n",
    "existing_cards\n",
    "\n",
    "card_ages = pd.read_json('card_ages.json')\n",
    "card_ages = card_ages.drop_duplicates(subset=['hash'], keep='first')\n",
    "\n",
    "cards_to_age = pd.merge(\n",
    "    left=existing_cards,\n",
    "    right=card_ages[['hash', 'age']],\n",
    "    left_on='hash', right_on='hash',\n",
    "    how='left'\n",
    ")\n",
    "\n",
    "cards_to_age['head'] = cards_to_age['head'].str.strip()\n",
    "\n",
    "if cards_to_age['age'].sum() > 2e4: age_factor = 1\n",
    "else: age_factor = 1.00\n",
    "\n",
    "cards_to_age['age'] = cards_to_age['age'].fillna(0)\n",
    "cards_to_age['age'] = cards_to_age['age'] * age_factor\n",
    "cards_to_age['age'] = cards_to_age['age'] + [random.expovariate(.60) for _ in cards_to_age.index]\n",
    "# cards_to_age['age'] = cards_to_age['age'] * [random.expovariate(.5) for _ in cards_to_age.index]\n",
    "\n",
    "# Adding priority age growth to cards for upcoming certifications\n",
    "priority_headers = ['Azure Developer Associate']\n",
    "priority_cards_mask = cards_to_age['head'].isin(priority_headers)\n",
    "cards_to_age.loc[priority_cards_mask, 'age'] = cards_to_age.loc[priority_cards_mask, 'age'] * 1.1\n",
    "\n",
    "\n",
    "cards_to_age = cards_to_age.drop_duplicates(subset=['hash'], keep='first')\n",
    "\n",
    "cards_to_age['subject_mean_age'] = cards_to_age.groupby('head')['age'].transform('mean')\n",
    "cards_to_age['subject_highest_age'] = cards_to_age.groupby('head')['age'].transform('max')\n",
    "cards_to_age['subject_age_sum'] = cards_to_age.groupby('head')['age'].transform('sum')\n",
    "cards_to_age['head_random_roll'] = cards_to_age.groupby('head')['head'].transform(lambda x: random.random())\n",
    "\n",
    "\n",
    "cards_to_age.sort_values('hash')[['age', 'head', 'hash']].to_json('card_ages.json', indent=2)\n",
    "\n",
    "existing_cards = cards_to_age"
   ]
  },
  {
   "cell_type": "code",
   "execution_count": 3,
   "metadata": {},
   "outputs": [
    {
     "data": {
      "application/vnd.microsoft.datawrangler.viewer.v0+json": {
       "columns": [
        {
         "name": "index",
         "rawType": "object",
         "type": "string"
        },
        {
         "name": "age_sum",
         "rawType": "float64",
         "type": "float"
        },
        {
         "name": "age_mean",
         "rawType": "float64",
         "type": "float"
        },
        {
         "name": "age_max",
         "rawType": "float64",
         "type": "float"
        },
        {
         "name": "head_count",
         "rawType": "int64",
         "type": "integer"
        }
       ],
       "conversionMethod": "pd.DataFrame",
       "ref": "6a156b7d-8e84-4f46-9d8a-0299ef0ddc52",
       "rows": [
        [
         "Azure Functions",
         "1330.716077007605",
         "221.78601283460083",
         "415.3543773057784",
         "6"
        ],
        [
         "Todd Ideas",
         "1356.2304812372006",
         "90.41536541581337",
         "175.09825658667708",
         "15"
        ],
        [
         "Python",
         "1753.388354494144",
         "37.30613520200306",
         "59.81429414703705",
         "47"
        ],
        [
         "Email Auth and Security",
         "1758.3907515142596",
         "146.5325626261883",
         "506.63344282881803",
         "12"
        ],
        [
         "Azure AI Search",
         "1802.7205559882184",
         "225.3400694985273",
         "434.13490735547856",
         "8"
        ],
        [
         "SharePoint",
         "2039.364756425197",
         "169.94706303543308",
         "607.9744956984699",
         "12"
        ],
        [
         "Audit Report Tracker (Sharepoint List)",
         "2161.422645270961",
         "166.26328040545852",
         "409.311900793075",
         "13"
        ],
        [
         "Azure Developer Associate",
         "2265.6115854765",
         "35.96208865835714",
         "108.38283631945902",
         "63"
        ],
        [
         "Azure Functions + Visual Studio",
         "2344.7453318662206",
         "167.48180941901575",
         "522.8290793772567",
         "14"
        ],
        [
         "IW Migration",
         "2498.5543125115582",
         "178.468165179397",
         "492.78169158462583",
         "14"
        ],
        [
         "Debugging in VS Code",
         "2536.4363857651315",
         "126.82181928825658",
         "294.99124091414006",
         "20"
        ],
        [
         "Open Source/GitHub",
         "2749.1404697997086",
         "171.8212793624818",
         "402.27196171444126",
         "16"
        ],
        [
         "Terraform",
         "2808.963904899492",
         "112.35855619597967",
         "298.3063992415318",
         "25"
        ],
        [
         "FSLogix",
         "3122.5070855416284",
         "130.10446189756786",
         "296.459075459621",
         "24"
        ],
        [
         "Home Network Project",
         "3494.2872712560134",
         "218.39295445350083",
         "493.4193460075976",
         "16"
        ],
        [
         "DNS",
         "3638.3318400092817",
         "227.3957400005801",
         "441.77305096228844",
         "16"
        ],
        [
         "WSL + Kali Linux",
         "3856.113418004056",
         "202.95333778968714",
         "441.64135460307256",
         "19"
        ],
        [
         "Azure Functions + PP365",
         "4139.50595943657",
         "179.97851997550305",
         "443.36529006354334",
         "23"
        ],
        [
         "Powershell Modules",
         "4918.738606815778",
         "169.6116760970958",
         "506.93112760200586",
         "29"
        ],
        [
         "Logging in Python",
         "5695.468222532689",
         "118.65558796943101",
         "672.3339019914331",
         "48"
        ],
        [
         "JavaScript Concepts",
         "6649.421562991395",
         "109.0069108687114",
         "453.2804506139314",
         "61"
        ],
        [
         "PnP Powershell",
         "7078.725019419999",
         "191.31689241675673",
         "480.1928665806747",
         "37"
        ],
        [
         "Vocab",
         "7878.466419174455",
         "107.92419752293775",
         "570.6506692704866",
         "73"
        ]
       ],
       "shape": {
        "columns": 4,
        "rows": 23
       }
      },
      "text/html": [
       "<div>\n",
       "<style scoped>\n",
       "    .dataframe tbody tr th:only-of-type {\n",
       "        vertical-align: middle;\n",
       "    }\n",
       "\n",
       "    .dataframe tbody tr th {\n",
       "        vertical-align: top;\n",
       "    }\n",
       "\n",
       "    .dataframe thead th {\n",
       "        text-align: right;\n",
       "    }\n",
       "</style>\n",
       "<table border=\"1\" class=\"dataframe\">\n",
       "  <thead>\n",
       "    <tr style=\"text-align: right;\">\n",
       "      <th></th>\n",
       "      <th>age_sum</th>\n",
       "      <th>age_mean</th>\n",
       "      <th>age_max</th>\n",
       "      <th>head_count</th>\n",
       "    </tr>\n",
       "  </thead>\n",
       "  <tbody>\n",
       "    <tr>\n",
       "      <th>Azure Functions</th>\n",
       "      <td>1330.716077</td>\n",
       "      <td>221.786013</td>\n",
       "      <td>415.354377</td>\n",
       "      <td>6</td>\n",
       "    </tr>\n",
       "    <tr>\n",
       "      <th>Todd Ideas</th>\n",
       "      <td>1356.230481</td>\n",
       "      <td>90.415365</td>\n",
       "      <td>175.098257</td>\n",
       "      <td>15</td>\n",
       "    </tr>\n",
       "    <tr>\n",
       "      <th>Python</th>\n",
       "      <td>1753.388354</td>\n",
       "      <td>37.306135</td>\n",
       "      <td>59.814294</td>\n",
       "      <td>47</td>\n",
       "    </tr>\n",
       "    <tr>\n",
       "      <th>Email Auth and Security</th>\n",
       "      <td>1758.390752</td>\n",
       "      <td>146.532563</td>\n",
       "      <td>506.633443</td>\n",
       "      <td>12</td>\n",
       "    </tr>\n",
       "    <tr>\n",
       "      <th>Azure AI Search</th>\n",
       "      <td>1802.720556</td>\n",
       "      <td>225.340069</td>\n",
       "      <td>434.134907</td>\n",
       "      <td>8</td>\n",
       "    </tr>\n",
       "    <tr>\n",
       "      <th>SharePoint</th>\n",
       "      <td>2039.364756</td>\n",
       "      <td>169.947063</td>\n",
       "      <td>607.974496</td>\n",
       "      <td>12</td>\n",
       "    </tr>\n",
       "    <tr>\n",
       "      <th>Audit Report Tracker (Sharepoint List)</th>\n",
       "      <td>2161.422645</td>\n",
       "      <td>166.263280</td>\n",
       "      <td>409.311901</td>\n",
       "      <td>13</td>\n",
       "    </tr>\n",
       "    <tr>\n",
       "      <th>Azure Developer Associate</th>\n",
       "      <td>2265.611585</td>\n",
       "      <td>35.962089</td>\n",
       "      <td>108.382836</td>\n",
       "      <td>63</td>\n",
       "    </tr>\n",
       "    <tr>\n",
       "      <th>Azure Functions + Visual Studio</th>\n",
       "      <td>2344.745332</td>\n",
       "      <td>167.481809</td>\n",
       "      <td>522.829079</td>\n",
       "      <td>14</td>\n",
       "    </tr>\n",
       "    <tr>\n",
       "      <th>IW Migration</th>\n",
       "      <td>2498.554313</td>\n",
       "      <td>178.468165</td>\n",
       "      <td>492.781692</td>\n",
       "      <td>14</td>\n",
       "    </tr>\n",
       "    <tr>\n",
       "      <th>Debugging in VS Code</th>\n",
       "      <td>2536.436386</td>\n",
       "      <td>126.821819</td>\n",
       "      <td>294.991241</td>\n",
       "      <td>20</td>\n",
       "    </tr>\n",
       "    <tr>\n",
       "      <th>Open Source/GitHub</th>\n",
       "      <td>2749.140470</td>\n",
       "      <td>171.821279</td>\n",
       "      <td>402.271962</td>\n",
       "      <td>16</td>\n",
       "    </tr>\n",
       "    <tr>\n",
       "      <th>Terraform</th>\n",
       "      <td>2808.963905</td>\n",
       "      <td>112.358556</td>\n",
       "      <td>298.306399</td>\n",
       "      <td>25</td>\n",
       "    </tr>\n",
       "    <tr>\n",
       "      <th>FSLogix</th>\n",
       "      <td>3122.507086</td>\n",
       "      <td>130.104462</td>\n",
       "      <td>296.459075</td>\n",
       "      <td>24</td>\n",
       "    </tr>\n",
       "    <tr>\n",
       "      <th>Home Network Project</th>\n",
       "      <td>3494.287271</td>\n",
       "      <td>218.392954</td>\n",
       "      <td>493.419346</td>\n",
       "      <td>16</td>\n",
       "    </tr>\n",
       "    <tr>\n",
       "      <th>DNS</th>\n",
       "      <td>3638.331840</td>\n",
       "      <td>227.395740</td>\n",
       "      <td>441.773051</td>\n",
       "      <td>16</td>\n",
       "    </tr>\n",
       "    <tr>\n",
       "      <th>WSL + Kali Linux</th>\n",
       "      <td>3856.113418</td>\n",
       "      <td>202.953338</td>\n",
       "      <td>441.641355</td>\n",
       "      <td>19</td>\n",
       "    </tr>\n",
       "    <tr>\n",
       "      <th>Azure Functions + PP365</th>\n",
       "      <td>4139.505959</td>\n",
       "      <td>179.978520</td>\n",
       "      <td>443.365290</td>\n",
       "      <td>23</td>\n",
       "    </tr>\n",
       "    <tr>\n",
       "      <th>Powershell Modules</th>\n",
       "      <td>4918.738607</td>\n",
       "      <td>169.611676</td>\n",
       "      <td>506.931128</td>\n",
       "      <td>29</td>\n",
       "    </tr>\n",
       "    <tr>\n",
       "      <th>Logging in Python</th>\n",
       "      <td>5695.468223</td>\n",
       "      <td>118.655588</td>\n",
       "      <td>672.333902</td>\n",
       "      <td>48</td>\n",
       "    </tr>\n",
       "    <tr>\n",
       "      <th>JavaScript Concepts</th>\n",
       "      <td>6649.421563</td>\n",
       "      <td>109.006911</td>\n",
       "      <td>453.280451</td>\n",
       "      <td>61</td>\n",
       "    </tr>\n",
       "    <tr>\n",
       "      <th>PnP Powershell</th>\n",
       "      <td>7078.725019</td>\n",
       "      <td>191.316892</td>\n",
       "      <td>480.192867</td>\n",
       "      <td>37</td>\n",
       "    </tr>\n",
       "    <tr>\n",
       "      <th>Vocab</th>\n",
       "      <td>7878.466419</td>\n",
       "      <td>107.924198</td>\n",
       "      <td>570.650669</td>\n",
       "      <td>73</td>\n",
       "    </tr>\n",
       "  </tbody>\n",
       "</table>\n",
       "</div>"
      ],
      "text/plain": [
       "                                            age_sum    age_mean     age_max  \\\n",
       "Azure Functions                         1330.716077  221.786013  415.354377   \n",
       "Todd Ideas                              1356.230481   90.415365  175.098257   \n",
       "Python                                  1753.388354   37.306135   59.814294   \n",
       "Email Auth and Security                 1758.390752  146.532563  506.633443   \n",
       "Azure AI Search                         1802.720556  225.340069  434.134907   \n",
       "SharePoint                              2039.364756  169.947063  607.974496   \n",
       "Audit Report Tracker (Sharepoint List)  2161.422645  166.263280  409.311901   \n",
       "Azure Developer Associate               2265.611585   35.962089  108.382836   \n",
       "Azure Functions + Visual Studio         2344.745332  167.481809  522.829079   \n",
       "IW Migration                            2498.554313  178.468165  492.781692   \n",
       "Debugging in VS Code                    2536.436386  126.821819  294.991241   \n",
       "Open Source/GitHub                      2749.140470  171.821279  402.271962   \n",
       "Terraform                               2808.963905  112.358556  298.306399   \n",
       "FSLogix                                 3122.507086  130.104462  296.459075   \n",
       "Home Network Project                    3494.287271  218.392954  493.419346   \n",
       "DNS                                     3638.331840  227.395740  441.773051   \n",
       "WSL + Kali Linux                        3856.113418  202.953338  441.641355   \n",
       "Azure Functions + PP365                 4139.505959  179.978520  443.365290   \n",
       "Powershell Modules                      4918.738607  169.611676  506.931128   \n",
       "Logging in Python                       5695.468223  118.655588  672.333902   \n",
       "JavaScript Concepts                     6649.421563  109.006911  453.280451   \n",
       "PnP Powershell                          7078.725019  191.316892  480.192867   \n",
       "Vocab                                   7878.466419  107.924198  570.650669   \n",
       "\n",
       "                                        head_count  \n",
       "Azure Functions                                  6  \n",
       "Todd Ideas                                      15  \n",
       "Python                                          47  \n",
       "Email Auth and Security                         12  \n",
       "Azure AI Search                                  8  \n",
       "SharePoint                                      12  \n",
       "Audit Report Tracker (Sharepoint List)          13  \n",
       "Azure Developer Associate                       63  \n",
       "Azure Functions + Visual Studio                 14  \n",
       "IW Migration                                    14  \n",
       "Debugging in VS Code                            20  \n",
       "Open Source/GitHub                              16  \n",
       "Terraform                                       25  \n",
       "FSLogix                                         24  \n",
       "Home Network Project                            16  \n",
       "DNS                                             16  \n",
       "WSL + Kali Linux                                19  \n",
       "Azure Functions + PP365                         23  \n",
       "Powershell Modules                              29  \n",
       "Logging in Python                               48  \n",
       "JavaScript Concepts                             61  \n",
       "PnP Powershell                                  37  \n",
       "Vocab                                           73  "
      ]
     },
     "execution_count": 3,
     "metadata": {},
     "output_type": "execute_result"
    }
   ],
   "source": [
    "stats = existing_cards.groupby('head').agg({'age': ['sum', 'mean', 'max'], 'head': 'count'}).sort_values(('age', 'sum'))\n",
    "stats.columns = stats.columns.to_flat_index()\n",
    "stats.columns = ['_'.join(col).strip() for col in stats.columns]\n",
    "stats.index.name = None\n",
    "stats"
   ]
  },
  {
   "cell_type": "markdown",
   "metadata": {},
   "source": [
    "# Histogram"
   ]
  },
  {
   "cell_type": "code",
   "execution_count": 4,
   "metadata": {},
   "outputs": [
    {
     "name": "stdout",
     "output_type": "stream",
     "text": [
      "77877.25\n"
     ]
    },
    {
     "data": {
      "text/plain": [
       "<Axes: >"
      ]
     },
     "execution_count": 4,
     "metadata": {},
     "output_type": "execute_result"
    },
    {
     "data": {
      "image/png": "[encoded data removed]",
      "text/plain": [
       "<Figure size 640x480 with 1 Axes>"
      ]
     },
     "metadata": {},
     "output_type": "display_data"
    }
   ],
   "source": [
    "print(f\"{existing_cards['age'].sum(0):.2f}\")\n",
    "existing_cards['age'].hist(bins=20)"
   ]
  },
  {
   "cell_type": "markdown",
   "metadata": {},
   "source": [
    "# Completely Random Shuffle"
   ]
  },
  {
   "cell_type": "code",
   "execution_count": 5,
   "metadata": {},
   "outputs": [],
   "source": [
    "# existing_cards = existing_cards.sample(frac=1)\n",
    "# remake_card_document(filename='certcards2.txt', existing_cards = existing_cards)"
   ]
  },
  {
   "cell_type": "markdown",
   "metadata": {},
   "source": [
    "# Age Sort"
   ]
  },
  {
   "cell_type": "code",
   "execution_count": 6,
   "metadata": {},
   "outputs": [],
   "source": [
    "# existing_cards = existing_cards.sort_values('age', ascending=False)\n",
    "# remake_card_document(filename='certcards2.txt', existing_cards=existing_cards)\n",
    "# existing_cards.head(10)"
   ]
  },
  {
   "cell_type": "markdown",
   "metadata": {},
   "source": [
    "# Headers with fewest notes first"
   ]
  },
  {
   "cell_type": "code",
   "execution_count": 7,
   "metadata": {},
   "outputs": [],
   "source": [
    "# frequency = existing_cards['head'].value_counts(ascending=True)\n",
    "\n",
    "# existing_cards = pd.merge(\n",
    "#     left=existing_cards,\n",
    "#     right=frequency.rename('frequency'),\n",
    "#     left_on='head', right_index=True,\n",
    "#     how='left'\n",
    "# )\n",
    "# existing_cards['oldest'] = existing_cards.groupby('head')['age'].transform('max')\n",
    "# existing_cards['subject_highest_age'] = existing_cards['subject_highest_age'] * -1\n",
    "# existing_cards['age'] = existing_cards['age'] * -1\n",
    "\n",
    "\n",
    "# existing_cards.sort_values(['frequency', 'subject_highest_age', 'age'], ascending=True, inplace=True)\n",
    "\n",
    "# remake_card_document(filename='certcards2.txt', existing_cards=existing_cards)\n",
    "\n",
    "# existing_cards.head(10)"
   ]
  },
  {
   "cell_type": "markdown",
   "metadata": {},
   "source": [
    "# Focus on one header"
   ]
  },
  {
   "cell_type": "code",
   "execution_count": 8,
   "metadata": {},
   "outputs": [],
   "source": [
    "# heads = existing_cards['head'].value_counts()\n",
    "# heads = heads[heads > 5].index.tolist()\n",
    "# one_header = random.sample(heads, 1)[0]\n",
    "# existing_cards['pick_head'] = existing_cards['head'].apply(\n",
    "#     lambda h: 0 if h == one_header else 1 \n",
    "# )\n",
    "\n",
    "# remake_card_document(existing_cards=existing_cards.sort_values('pick_head'))"
   ]
  },
  {
   "cell_type": "markdown",
   "metadata": {},
   "source": [
    "## Header with oldest cards first"
   ]
  },
  {
   "cell_type": "code",
   "execution_count": 9,
   "metadata": {},
   "outputs": [],
   "source": [
    "# existing_cards['oldest'] = existing_cards.groupby('head')['age'].transform('max')\n",
    "# existing_cards.sort_values(['oldest', 'age'], ascending=False, inplace=True)\n",
    "# remake_card_document(existing_cards)"
   ]
  },
  {
   "cell_type": "markdown",
   "metadata": {},
   "source": [
    "## Headers with greatest mean card age first"
   ]
  },
  {
   "cell_type": "code",
   "execution_count": 10,
   "metadata": {},
   "outputs": [],
   "source": [
    "# existing_cards.sort_values(['subject_mean_age', 'age'], ascending=False, inplace=True)\n",
    "# remake_card_document(existing_cards)"
   ]
  },
  {
   "cell_type": "markdown",
   "metadata": {},
   "source": [
    "## Headers with greatest age sum first"
   ]
  },
  {
   "cell_type": "code",
   "execution_count": 11,
   "metadata": {},
   "outputs": [],
   "source": [
    "# existing_cards.sort_values(['subject_age_sum', 'age'], ascending=False, inplace=True)\n",
    "# remake_card_document(existing_cards)"
   ]
  },
  {
   "cell_type": "markdown",
   "metadata": {},
   "source": [
    "# N-fold shuffle\n"
   ]
  },
  {
   "cell_type": "markdown",
   "metadata": {},
   "source": [
    "## Age Sum"
   ]
  },
  {
   "cell_type": "code",
   "execution_count": 12,
   "metadata": {},
   "outputs": [],
   "source": [
    "# n=3\n",
    "# existing_cards['count'] = existing_cards.sort_values('age', ascending=False).groupby('head').cumcount()\n",
    "# existing_cards['n_fold'] = existing_cards['count'] % n\n",
    "\n",
    "# existing_cards['subject_age_sum'] = existing_cards['subject_age_sum'] *-1\n",
    "# existing_cards['age'] = existing_cards['age'] *-1\n",
    "# existing_cards.sort_values(['n_fold', 'subject_age_sum', 'age'], inplace=True)\n",
    "\n",
    "# remake_card_document(existing_cards=existing_cards)\n",
    "# existing_cards.head(10)\n"
   ]
  },
  {
   "cell_type": "markdown",
   "metadata": {},
   "source": [
    "## Age Mean"
   ]
  },
  {
   "cell_type": "code",
   "execution_count": 13,
   "metadata": {},
   "outputs": [],
   "source": [
    "# n=3\n",
    "# existing_cards['count'] = existing_cards.sort_values('age', ascending=False).groupby('head').cumcount()\n",
    "# existing_cards['n_fold'] = existing_cards['count'] % n\n",
    "\n",
    "# existing_cards['subject_mean_age'] = existing_cards['subject_mean_age'] *-1\n",
    "# existing_cards['age'] = existing_cards['age'] *-1\n",
    "# existing_cards.sort_values(['n_fold', 'subject_mean_age', 'age'], inplace=True)\n",
    "# remake_card_document(existing_cards=existing_cards)\n",
    "\n",
    "# existing_cards.head(10)\n",
    "\n"
   ]
  },
  {
   "cell_type": "markdown",
   "metadata": {},
   "source": [
    "## Age Max"
   ]
  },
  {
   "cell_type": "code",
   "execution_count": 14,
   "metadata": {},
   "outputs": [],
   "source": [
    "# n = 1\n",
    "# existing_cards['count'] = existing_cards.sort_values('age', ascending=False).groupby('head').cumcount()\n",
    "# existing_cards['n_fold'] = existing_cards['count'] // n\n",
    "\n",
    "# if existing_cards['age'].sum() > 0:\n",
    "#     existing_cards['subject_highest_age'] = existing_cards['subject_highest_age'] *-1\n",
    "#     existing_cards['age'] = existing_cards['age'] *-1\n",
    "# existing_cards.sort_values(['n_fold', 'subject_highest_age', 'age'], inplace=True)\n",
    "\n",
    "# remake_card_document(existing_cards=existing_cards)\n",
    "# existing_cards.head(10)\n"
   ]
  },
  {
   "cell_type": "markdown",
   "metadata": {},
   "source": [
    "## Card Count"
   ]
  },
  {
   "cell_type": "code",
   "execution_count": 15,
   "metadata": {},
   "outputs": [
    {
     "name": "stdout",
     "output_type": "stream",
     "text": [
      "Cards found: 611\n"
     ]
    },
    {
     "data": {
      "application/vnd.microsoft.datawrangler.viewer.v0+json": {
       "columns": [
        {
         "name": "index",
         "rawType": "int64",
         "type": "integer"
        },
        {
         "name": "head",
         "rawType": "object",
         "type": "string"
        },
        {
         "name": "body",
         "rawType": "object",
         "type": "string"
        },
        {
         "name": "hash",
         "rawType": "object",
         "type": "string"
        },
        {
         "name": "age",
         "rawType": "float64",
         "type": "float"
        },
        {
         "name": "subject_mean_age",
         "rawType": "float64",
         "type": "float"
        },
        {
         "name": "subject_highest_age",
         "rawType": "float64",
         "type": "float"
        },
        {
         "name": "subject_age_sum",
         "rawType": "float64",
         "type": "float"
        },
        {
         "name": "head_random_roll",
         "rawType": "float64",
         "type": "float"
        },
        {
         "name": "frequency",
         "rawType": "int64",
         "type": "integer"
        },
        {
         "name": "count",
         "rawType": "int64",
         "type": "integer"
        },
        {
         "name": "n_fold",
         "rawType": "int64",
         "type": "integer"
        },
        {
         "name": "neg_age",
         "rawType": "float64",
         "type": "float"
        }
       ],
       "conversionMethod": "pd.DataFrame",
       "ref": "1d986cc4-ac85-43b6-98cc-148900d0afd7",
       "rows": [
        [
         "11",
         "Azure Functions",
         "Reasons to choose WebJobs over Azure Functions\n\nYou have specific customizations that you want to make to the JobHost that aren't supported by Azure Functions.\nYou want to control your app's retry policies.\nWebJobs only supports C# on Microsoft Windows.",
         "5dbe1e9c21756dabfafc61be2dab2409",
         "415.3543773057784",
         "221.78601283460083",
         "415.3543773057784",
         "1330.716077007605",
         "0.26094057249030245",
         "6",
         "0",
         "0",
         "-415.3543773057784"
        ],
        [
         "34",
         "Azure Functions",
         "Managed identities for Azure resources is the new name for the service formerly known as Managed Service Identity (MSI).",
         "d618a61eb92103d74592fcb5b08e7479",
         "342.64210737166957",
         "221.78601283460083",
         "415.3543773057784",
         "1330.716077007605",
         "0.26094057249030245",
         "6",
         "1",
         "0",
         "-342.64210737166957"
        ],
        [
         "57",
         "Azure Functions",
         "Here are some of the benefits of using managed identities:\n\nYou don't need to manage credentials. Credentials aren’t even accessible to you.\nYou can use managed identities to authenticate to any resource that supports Microsoft Entra authentication, including your own applications.\nManaged identities can be used at no extra cost.",
         "408c2a27d4a15f98e90519ef7a308b87",
         "245.46053836314292",
         "221.78601283460083",
         "415.3543773057784",
         "1330.716077007605",
         "0.26094057249030245",
         "6",
         "2",
         "0",
         "-245.46053836314292"
        ],
        [
         "80",
         "Azure Functions",
         "Activity functions are the basic units of work in a Durable Functions orchestration. An activity function contains the actual work performed by the tasks being orchestrated.",
         "64379cd90c412b46bfd075ad3219f0fe",
         "169.66481429336577",
         "221.78601283460083",
         "415.3543773057784",
         "1330.716077007605",
         "0.26094057249030245",
         "6",
         "3",
         "0",
         "-169.66481429336577"
        ],
        [
         "103",
         "Azure Functions",
         "You can use three durable function types: Client, Orchestrator, and Activity.",
         "5d1cbe24cc90a7011eab7ecef570111f",
         "82.79725521633081",
         "221.78601283460083",
         "415.3543773057784",
         "1330.716077007605",
         "0.26094057249030245",
         "6",
         "4",
         "0",
         "-82.79725521633081"
        ],
        [
         "126",
         "Azure Functions",
         "When you enable a system-assigned managed identity:\n\nA service principal of a special type is created in Microsoft Entra ID for the identity. The service principal is tied to the lifecycle of that Azure resource. When the Azure resource is deleted, Azure automatically deletes the service principal for you.",
         "9023717ae86ade1f00495acbc7c511ab",
         "74.7969844573175",
         "221.78601283460083",
         "415.3543773057784",
         "1330.716077007605",
         "0.26094057249030245",
         "6",
         "5",
         "0",
         "-74.7969844573175"
        ],
        [
         "10",
         "Azure AI Search",
         "Push model is an approach that uses APIs to upload documents into an existing search index. You can upload documents in batches of up to 1000 per batch, or 16 MB per batch, whichever limit comes first.",
         "e260075e27bc86ab26b7859dd5dc4058",
         "434.13490735547856",
         "225.3400694985273",
         "434.13490735547856",
         "1802.7205559882184",
         "0.05705077722890439",
         "8",
         "0",
         "0",
         "-434.13490735547856"
        ],
        [
         "33",
         "Azure AI Search",
         "Indexers drive skillset execution and AI enrichment, where you can configure skills to integrate extra processing of content en route to an index. A few examples are OCR over image files, text split skill for data chunking, and calling embedding models to generate vectors for vector search.",
         "00f9445dabceaa6785a03a2fe9ca3e6a",
         "348.5872338378617",
         "225.3400694985273",
         "434.13490735547856",
         "1802.7205559882184",
         "0.05705077722890439",
         "8",
         "1",
         "0",
         "-348.5872338378617"
        ],
        [
         "56",
         "Azure AI Search",
         "You can have multiple indexers writing into the same index, and you can reuse the same data source for multiple indexers. However, an indexer can only consume one data source at a time, and can only write to a single index.",
         "6fa6b72701d75c9f0303f4cb1e41a727",
         "317.82439338975075",
         "225.3400694985273",
         "434.13490735547856",
         "1802.7205559882184",
         "0.05705077722890439",
         "8",
         "2",
         "0",
         "-317.82439338975075"
        ],
        [
         "79",
         "Azure AI Search",
         "Indexers don't have dedicated processing resources. Based on this, indexers' status may show as idle before running (depending on other jobs in the queue) and run times may not be predictable. Other factors define indexer performance as well, such as document size, document complexity, image analysis, among others.",
         "c554c36d80ef8038cf5470f97ed43e20",
         "287.2093077152395",
         "225.3400694985273",
         "434.13490735547856",
         "1802.7205559882184",
         "0.05705077722890439",
         "8",
         "3",
         "0",
         "-287.2093077152395"
        ]
       ],
       "shape": {
        "columns": 12,
        "rows": 10
       }
      },
      "text/html": [
       "<div>\n",
       "<style scoped>\n",
       "    .dataframe tbody tr th:only-of-type {\n",
       "        vertical-align: middle;\n",
       "    }\n",
       "\n",
       "    .dataframe tbody tr th {\n",
       "        vertical-align: top;\n",
       "    }\n",
       "\n",
       "    .dataframe thead th {\n",
       "        text-align: right;\n",
       "    }\n",
       "</style>\n",
       "<table border=\"1\" class=\"dataframe\">\n",
       "  <thead>\n",
       "    <tr style=\"text-align: right;\">\n",
       "      <th></th>\n",
       "      <th>head</th>\n",
       "      <th>body</th>\n",
       "      <th>hash</th>\n",
       "      <th>age</th>\n",
       "      <th>subject_mean_age</th>\n",
       "      <th>subject_highest_age</th>\n",
       "      <th>subject_age_sum</th>\n",
       "      <th>head_random_roll</th>\n",
       "      <th>frequency</th>\n",
       "      <th>count</th>\n",
       "      <th>n_fold</th>\n",
       "      <th>neg_age</th>\n",
       "    </tr>\n",
       "  </thead>\n",
       "  <tbody>\n",
       "    <tr>\n",
       "      <th>11</th>\n",
       "      <td>Azure Functions</td>\n",
       "      <td>Reasons to choose WebJobs over Azure Functions...</td>\n",
       "      <td>5dbe1e9c21756dabfafc61be2dab2409</td>\n",
       "      <td>415.354377</td>\n",
       "      <td>221.786013</td>\n",
       "      <td>415.354377</td>\n",
       "      <td>1330.716077</td>\n",
       "      <td>0.260941</td>\n",
       "      <td>6</td>\n",
       "      <td>0</td>\n",
       "      <td>0</td>\n",
       "      <td>-415.354377</td>\n",
       "    </tr>\n",
       "    <tr>\n",
       "      <th>34</th>\n",
       "      <td>Azure Functions</td>\n",
       "      <td>Managed identities for Azure resources is the ...</td>\n",
       "      <td>d618a61eb92103d74592fcb5b08e7479</td>\n",
       "      <td>342.642107</td>\n",
       "      <td>221.786013</td>\n",
       "      <td>415.354377</td>\n",
       "      <td>1330.716077</td>\n",
       "      <td>0.260941</td>\n",
       "      <td>6</td>\n",
       "      <td>1</td>\n",
       "      <td>0</td>\n",
       "      <td>-342.642107</td>\n",
       "    </tr>\n",
       "    <tr>\n",
       "      <th>57</th>\n",
       "      <td>Azure Functions</td>\n",
       "      <td>Here are some of the benefits of using managed...</td>\n",
       "      <td>408c2a27d4a15f98e90519ef7a308b87</td>\n",
       "      <td>245.460538</td>\n",
       "      <td>221.786013</td>\n",
       "      <td>415.354377</td>\n",
       "      <td>1330.716077</td>\n",
       "      <td>0.260941</td>\n",
       "      <td>6</td>\n",
       "      <td>2</td>\n",
       "      <td>0</td>\n",
       "      <td>-245.460538</td>\n",
       "    </tr>\n",
       "    <tr>\n",
       "      <th>80</th>\n",
       "      <td>Azure Functions</td>\n",
       "      <td>Activity functions are the basic units of work...</td>\n",
       "      <td>64379cd90c412b46bfd075ad3219f0fe</td>\n",
       "      <td>169.664814</td>\n",
       "      <td>221.786013</td>\n",
       "      <td>415.354377</td>\n",
       "      <td>1330.716077</td>\n",
       "      <td>0.260941</td>\n",
       "      <td>6</td>\n",
       "      <td>3</td>\n",
       "      <td>0</td>\n",
       "      <td>-169.664814</td>\n",
       "    </tr>\n",
       "    <tr>\n",
       "      <th>103</th>\n",
       "      <td>Azure Functions</td>\n",
       "      <td>You can use three durable function types: Clie...</td>\n",
       "      <td>5d1cbe24cc90a7011eab7ecef570111f</td>\n",
       "      <td>82.797255</td>\n",
       "      <td>221.786013</td>\n",
       "      <td>415.354377</td>\n",
       "      <td>1330.716077</td>\n",
       "      <td>0.260941</td>\n",
       "      <td>6</td>\n",
       "      <td>4</td>\n",
       "      <td>0</td>\n",
       "      <td>-82.797255</td>\n",
       "    </tr>\n",
       "    <tr>\n",
       "      <th>126</th>\n",
       "      <td>Azure Functions</td>\n",
       "      <td>When you enable a system-assigned managed iden...</td>\n",
       "      <td>9023717ae86ade1f00495acbc7c511ab</td>\n",
       "      <td>74.796984</td>\n",
       "      <td>221.786013</td>\n",
       "      <td>415.354377</td>\n",
       "      <td>1330.716077</td>\n",
       "      <td>0.260941</td>\n",
       "      <td>6</td>\n",
       "      <td>5</td>\n",
       "      <td>0</td>\n",
       "      <td>-74.796984</td>\n",
       "    </tr>\n",
       "    <tr>\n",
       "      <th>10</th>\n",
       "      <td>Azure AI Search</td>\n",
       "      <td>Push model is an approach that uses APIs to up...</td>\n",
       "      <td>e260075e27bc86ab26b7859dd5dc4058</td>\n",
       "      <td>434.134907</td>\n",
       "      <td>225.340069</td>\n",
       "      <td>434.134907</td>\n",
       "      <td>1802.720556</td>\n",
       "      <td>0.057051</td>\n",
       "      <td>8</td>\n",
       "      <td>0</td>\n",
       "      <td>0</td>\n",
       "      <td>-434.134907</td>\n",
       "    </tr>\n",
       "    <tr>\n",
       "      <th>33</th>\n",
       "      <td>Azure AI Search</td>\n",
       "      <td>Indexers drive skillset execution and AI enric...</td>\n",
       "      <td>00f9445dabceaa6785a03a2fe9ca3e6a</td>\n",
       "      <td>348.587234</td>\n",
       "      <td>225.340069</td>\n",
       "      <td>434.134907</td>\n",
       "      <td>1802.720556</td>\n",
       "      <td>0.057051</td>\n",
       "      <td>8</td>\n",
       "      <td>1</td>\n",
       "      <td>0</td>\n",
       "      <td>-348.587234</td>\n",
       "    </tr>\n",
       "    <tr>\n",
       "      <th>56</th>\n",
       "      <td>Azure AI Search</td>\n",
       "      <td>You can have multiple indexers writing into th...</td>\n",
       "      <td>6fa6b72701d75c9f0303f4cb1e41a727</td>\n",
       "      <td>317.824393</td>\n",
       "      <td>225.340069</td>\n",
       "      <td>434.134907</td>\n",
       "      <td>1802.720556</td>\n",
       "      <td>0.057051</td>\n",
       "      <td>8</td>\n",
       "      <td>2</td>\n",
       "      <td>0</td>\n",
       "      <td>-317.824393</td>\n",
       "    </tr>\n",
       "    <tr>\n",
       "      <th>79</th>\n",
       "      <td>Azure AI Search</td>\n",
       "      <td>Indexers don't have dedicated processing resou...</td>\n",
       "      <td>c554c36d80ef8038cf5470f97ed43e20</td>\n",
       "      <td>287.209308</td>\n",
       "      <td>225.340069</td>\n",
       "      <td>434.134907</td>\n",
       "      <td>1802.720556</td>\n",
       "      <td>0.057051</td>\n",
       "      <td>8</td>\n",
       "      <td>3</td>\n",
       "      <td>0</td>\n",
       "      <td>-287.209308</td>\n",
       "    </tr>\n",
       "  </tbody>\n",
       "</table>\n",
       "</div>"
      ],
      "text/plain": [
       "                head                                               body  \\\n",
       "11   Azure Functions  Reasons to choose WebJobs over Azure Functions...   \n",
       "34   Azure Functions  Managed identities for Azure resources is the ...   \n",
       "57   Azure Functions  Here are some of the benefits of using managed...   \n",
       "80   Azure Functions  Activity functions are the basic units of work...   \n",
       "103  Azure Functions  You can use three durable function types: Clie...   \n",
       "126  Azure Functions  When you enable a system-assigned managed iden...   \n",
       "10   Azure AI Search  Push model is an approach that uses APIs to up...   \n",
       "33   Azure AI Search  Indexers drive skillset execution and AI enric...   \n",
       "56   Azure AI Search  You can have multiple indexers writing into th...   \n",
       "79   Azure AI Search  Indexers don't have dedicated processing resou...   \n",
       "\n",
       "                                 hash         age  subject_mean_age  \\\n",
       "11   5dbe1e9c21756dabfafc61be2dab2409  415.354377        221.786013   \n",
       "34   d618a61eb92103d74592fcb5b08e7479  342.642107        221.786013   \n",
       "57   408c2a27d4a15f98e90519ef7a308b87  245.460538        221.786013   \n",
       "80   64379cd90c412b46bfd075ad3219f0fe  169.664814        221.786013   \n",
       "103  5d1cbe24cc90a7011eab7ecef570111f   82.797255        221.786013   \n",
       "126  9023717ae86ade1f00495acbc7c511ab   74.796984        221.786013   \n",
       "10   e260075e27bc86ab26b7859dd5dc4058  434.134907        225.340069   \n",
       "33   00f9445dabceaa6785a03a2fe9ca3e6a  348.587234        225.340069   \n",
       "56   6fa6b72701d75c9f0303f4cb1e41a727  317.824393        225.340069   \n",
       "79   c554c36d80ef8038cf5470f97ed43e20  287.209308        225.340069   \n",
       "\n",
       "     subject_highest_age  subject_age_sum  head_random_roll  frequency  count  \\\n",
       "11            415.354377      1330.716077          0.260941          6      0   \n",
       "34            415.354377      1330.716077          0.260941          6      1   \n",
       "57            415.354377      1330.716077          0.260941          6      2   \n",
       "80            415.354377      1330.716077          0.260941          6      3   \n",
       "103           415.354377      1330.716077          0.260941          6      4   \n",
       "126           415.354377      1330.716077          0.260941          6      5   \n",
       "10            434.134907      1802.720556          0.057051          8      0   \n",
       "33            434.134907      1802.720556          0.057051          8      1   \n",
       "56            434.134907      1802.720556          0.057051          8      2   \n",
       "79            434.134907      1802.720556          0.057051          8      3   \n",
       "\n",
       "     n_fold     neg_age  \n",
       "11        0 -415.354377  \n",
       "34        0 -342.642107  \n",
       "57        0 -245.460538  \n",
       "80        0 -169.664814  \n",
       "103       0  -82.797255  \n",
       "126       0  -74.796984  \n",
       "10        0 -434.134907  \n",
       "33        0 -348.587234  \n",
       "56        0 -317.824393  \n",
       "79        0 -287.209308  "
      ]
     },
     "execution_count": 15,
     "metadata": {},
     "output_type": "execute_result"
    }
   ],
   "source": [
    "n=10\n",
    "existing_cards['frequency']  = existing_cards.groupby('head').transform('count')['body']\n",
    "existing_cards['count'] = existing_cards.sort_values('age', ascending=False).groupby('head').cumcount()\n",
    "existing_cards['n_fold'] = existing_cards['count'] // n\n",
    "\n",
    "if existing_cards['age'].sum() > 0:\n",
    "    # existing_cards['neg_subject_highest_age'] = existing_cards['subject_highest_age'] *-1\n",
    "    existing_cards['neg_age'] = existing_cards['age'] *-1\n",
    "existing_cards.sort_values(['n_fold', 'frequency', 'neg_age'], inplace=True)\n",
    "remake_card_document(existing_cards=existing_cards)\n",
    "\n",
    "existing_cards.head(10)\n",
    "\n"
   ]
  },
  {
   "cell_type": "markdown",
   "metadata": {},
   "source": [
    "\n",
    "## Random"
   ]
  },
  {
   "cell_type": "code",
   "execution_count": 16,
   "metadata": {},
   "outputs": [],
   "source": [
    "# n = 3\n",
    "# existing_cards['count'] = existing_cards.sort_values('age', ascending=False).groupby('head').cumcount()\n",
    "# existing_cards['n_fold'] = existing_cards['count'] % n\n",
    "# existing_cards['age'] *= -1\n",
    "# existing_cards.sort_values(['n_fold', 'head_random_roll', 'age'], inplace=True)\n",
    "# remake_card_document(existing_cards=existing_cards)\n",
    "# existing_cards.head(10)"
   ]
  },
  {
   "cell_type": "code",
   "execution_count": 17,
   "metadata": {},
   "outputs": [
    {
     "data": {
      "text/plain": [
       "head                   Azure FunctionsAzure FunctionsAzure FunctionsA...\n",
       "body                   Reasons to choose WebJobs over Azure Functions...\n",
       "hash                   5dbe1e9c21756dabfafc61be2dab2409d618a61eb92103...\n",
       "age                                                          2718.471919\n",
       "subject_mean_age                                             2232.076355\n",
       "subject_highest_age                                          4228.665893\n",
       "subject_age_sum                                             15195.178686\n",
       "head_random_roll                                                1.793847\n",
       "frequency                                                             68\n",
       "count                                                                 21\n",
       "n_fold                                                                 0\n",
       "neg_age                                                     -2718.471919\n",
       "dtype: object"
      ]
     },
     "execution_count": 17,
     "metadata": {},
     "output_type": "execute_result"
    }
   ],
   "source": [
    "existing_cards.head(10).sum()"
   ]
  },
  {
   "cell_type": "code",
   "execution_count": 18,
   "metadata": {},
   "outputs": [
    {
     "data": {
      "text/plain": [
       "np.float64(127.45867596962042)"
      ]
     },
     "execution_count": 18,
     "metadata": {},
     "output_type": "execute_result"
    }
   ],
   "source": [
    "existing_cards['age'].mean()"
   ]
  }
 ],
 "metadata": {
  "kernelspec": {
   "display_name": "Python 3",
   "language": "python",
   "name": "python3"
  },
  "language_info": {
   "codemirror_mode": {
    "name": "ipython",
    "version": 3
   },
   "file_extension": ".py",
   "mimetype": "text/x-python",
   "name": "python",
   "nbconvert_exporter": "python",
   "pygments_lexer": "ipython3",
   "version": "3.11.9"
  }
 },
 "nbformat": 4,
 "nbformat_minor": 2
}
