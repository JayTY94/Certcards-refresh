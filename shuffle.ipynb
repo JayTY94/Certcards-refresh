{
 "cells": [
  {
   "cell_type": "code",
   "execution_count": 1,
   "metadata": {},
   "outputs": [],
   "source": [
    "import re\n",
    "import random\n",
    "import pandas as pd\n",
    "import hashlib"
   ]
  },
  {
   "cell_type": "code",
   "execution_count": 2,
   "metadata": {},
   "outputs": [],
   "source": [
    "with open('certcards2.txt', mode='r', encoding='utf8') as f:\n",
    "    all_cards = f.read()\n",
    "    \n",
    "card_split_pattern = r'\\n\\n\\n\\d+\\n'\n",
    "all_cards = re.split(card_split_pattern, all_cards)\n",
    "# Use re.DOTALL to allow . to match newline characters\n",
    "card_pattern = re.compile(r'(.+?)\\n([\\s\\S]+)', re.DOTALL)\n",
    "cards = [(match.group(1), match.group(2)) for cstring in all_cards if (match := re.search(card_pattern, cstring))]\n",
    "\n",
    "# removing the cards that have no content and trimming\n",
    "cards = [(subject, stripped_content) for subject, content in cards if len(stripped_content := content.strip()) > 5]\n",
    "\n",
    "def hash_string_md5(s):\n",
    "    \"\"\"\n",
    "    Hashes a string using MD5 and returns a truncated hash for efficiency.\n",
    "\n",
    "    Parameters:\n",
    "    - s (str): The input string to hash.\n",
    "\n",
    "    Returns:\n",
    "    - str: The truncated hexadecimal hash string.\n",
    "    \"\"\"\n",
    "    if pd.isnull(s):\n",
    "        return None  # Handle NaN values gracefully\n",
    "    return hashlib.md5(s.encode('utf-8')).hexdigest()\n",
    "\n",
    "\n",
    "def remake_card_document(existing_cards: pd.DataFrame, filename: str='certcards2.txt'):\n",
    "    with open(filename, mode='w', encoding='utf8') as f:\n",
    "        i = 1\n",
    "        for _, row in existing_cards.iterrows():\n",
    "            f.write('\\n'*6)\n",
    "            f.write(str(i)+'\\n')  \n",
    "            f.write(row['head']+'\\n')\n",
    "            f.write(row['body'])\n",
    "            i+=1\n",
    "    print(F\"Cards found: {existing_cards.shape[0]}\")\n",
    "\n",
    "\n",
    "existing_cards = pd.DataFrame(cards, columns=['head', 'body'])\n",
    "\n",
    "\n",
    "# existing_cards['age'] = [random.random() for _ in existing_cards.index]\n",
    "existing_cards['hash'] = existing_cards['body'].apply(hash_string_md5)\n",
    "existing_cards\n",
    "\n",
    "card_ages = pd.read_json('card_ages.json')\n",
    "card_ages = card_ages.drop_duplicates(subset=['hash'], keep='first')\n",
    "\n",
    "cards_to_age = pd.merge(\n",
    "    left=existing_cards,\n",
    "    right=card_ages[['hash', 'age']],\n",
    "    left_on='hash', right_on='hash',\n",
    "    how='left'\n",
    ")\n",
    "\n",
    "cards_to_age['head'] = cards_to_age['head'].str.strip()\n",
    "\n",
    "if cards_to_age['age'].sum() > 2e4: age_factor = 1\n",
    "else: age_factor = 1.00\n",
    "\n",
    "cards_to_age['age'] = cards_to_age['age'].fillna(0)\n",
    "cards_to_age['age'] = cards_to_age['age'] * age_factor\n",
    "cards_to_age['age'] = cards_to_age['age'] + [random.expovariate(.60) for _ in cards_to_age.index]\n",
    "# cards_to_age['age'] = cards_to_age['age'] * [random.expovariate(.5) for _ in cards_to_age.index]\n",
    "\n",
    "# Adding priority age growth to cards for upcoming certifications\n",
    "priority_headers = ['Azure Developer Associate']\n",
    "priority_cards_mask = cards_to_age['head'].isin(priority_headers)\n",
    "cards_to_age.loc[priority_cards_mask, 'age'] = cards_to_age.loc[priority_cards_mask, 'age'] * 1.1\n",
    "\n",
    "\n",
    "cards_to_age = cards_to_age.drop_duplicates(subset=['hash'], keep='first')\n",
    "\n",
    "cards_to_age['subject_mean_age'] = cards_to_age.groupby('head')['age'].transform('mean')\n",
    "cards_to_age['subject_highest_age'] = cards_to_age.groupby('head')['age'].transform('max')\n",
    "cards_to_age['subject_age_sum'] = cards_to_age.groupby('head')['age'].transform('sum')\n",
    "cards_to_age['head_random_roll'] = cards_to_age.groupby('head')['head'].transform(lambda x: random.random())\n",
    "\n",
    "\n",
    "cards_to_age.sort_values('hash')[['age', 'head', 'hash']].to_json('card_ages.json', indent=2)\n",
    "\n",
    "existing_cards = cards_to_age"
   ]
  },
  {
   "cell_type": "code",
   "execution_count": 3,
   "metadata": {},
   "outputs": [
    {
     "data": {
      "application/vnd.microsoft.datawrangler.viewer.v0+json": {
       "columns": [
        {
         "name": "index",
         "rawType": "object",
         "type": "string"
        },
        {
         "name": "age_sum",
         "rawType": "float64",
         "type": "float"
        },
        {
         "name": "age_mean",
         "rawType": "float64",
         "type": "float"
        },
        {
         "name": "age_max",
         "rawType": "float64",
         "type": "float"
        },
        {
         "name": "head_count",
         "rawType": "int64",
         "type": "integer"
        }
       ],
       "conversionMethod": "pd.DataFrame",
       "ref": "f8f4d50d-ce26-4d8a-bb32-194e26b285de",
       "rows": [
        [
         "OData",
         "779.9183008685995",
         "194.9795752171499",
         "295.91283514685915",
         "4"
        ],
        [
         "Azure Developer Associate",
         "841.1977975638766",
         "19.562739478229688",
         "50.04434781943334",
         "43"
        ],
        [
         "Todd Ideas",
         "1208.45744831426",
         "80.56382988761735",
         "169.2001809415363",
         "15"
        ],
        [
         "Python",
         "1283.6522045705285",
         "27.3117490334155",
         "41.59145268863784",
         "47"
        ],
        [
         "Email Auth and Security",
         "1638.9768937687334",
         "136.58140781406112",
         "498.7712396249154",
         "12"
        ],
        [
         "SharePoint",
         "1900.8615523845908",
         "158.40512936538258",
         "599.2389455622099",
         "12"
        ],
        [
         "Audit Report Tracker (Sharepoint List)",
         "2038.8593337776442",
         "156.83533336751108",
         "398.042663550168",
         "13"
        ],
        [
         "Azure Functions + Visual Studio",
         "2210.7383085257893",
         "157.90987918041353",
         "506.60459686946507",
         "14"
        ],
        [
         "Debugging in VS Code",
         "2309.562236992276",
         "115.47811184961381",
         "284.4854492050043",
         "20"
        ],
        [
         "IW Migration",
         "2381.0812296617487",
         "170.0772306901249",
         "483.95677574630975",
         "14"
        ],
        [
         "Azure AI Search",
         "2421.403153480321",
         "269.0447948311468",
         "704.364976630193",
         "9"
        ],
        [
         "Terraform",
         "2564.355409998407",
         "102.57421639993629",
         "278.11659631566323",
         "25"
        ],
        [
         "Open Source/GitHub",
         "2589.227362679313",
         "161.82671016745707",
         "385.0776822643252",
         "16"
        ],
        [
         "FSLogix",
         "2885.1718223444527",
         "120.21549259768553",
         "286.65482895456876",
         "24"
        ],
        [
         "Azure Functions",
         "3108.4368732694893",
         "282.5851702972263",
         "767.8680253494524",
         "11"
        ],
        [
         "Home Network Project",
         "3303.4167487640043",
         "206.46354679775027",
         "481.31225282340245",
         "16"
        ],
        [
         "DNS",
         "3491.99908701886",
         "218.24994293867874",
         "430.56240152359584",
         "16"
        ],
        [
         "WSL + Kali Linux",
         "3646.0904126489627",
         "191.89949540257697",
         "426.84142062736174",
         "19"
        ],
        [
         "Azure Functions + PP365",
         "3909.775308071718",
         "169.99023078572688",
         "436.5200395784341",
         "23"
        ],
        [
         "Powershell Modules",
         "5322.989686447235",
         "177.43298954824115",
         "696.2066427569486",
         "30"
        ],
        [
         "Logging in Python",
         "5917.614005330719",
         "120.7676327618514",
         "695.8344873288366",
         "49"
        ],
        [
         "PnP Powershell",
         "7357.512573365706",
         "193.61875193067647",
         "674.7515928761503",
         "38"
        ],
        [
         "Vocab",
         "8060.971562591518",
         "108.93204814312863",
         "887.6966334353313",
         "74"
        ],
        [
         "JavaScript Concepts",
         "8227.33057469849",
         "115.87789541828859",
         "452.3744068708242",
         "71"
        ]
       ],
       "shape": {
        "columns": 4,
        "rows": 24
       }
      },
      "text/html": [
       "<div>\n",
       "<style scoped>\n",
       "    .dataframe tbody tr th:only-of-type {\n",
       "        vertical-align: middle;\n",
       "    }\n",
       "\n",
       "    .dataframe tbody tr th {\n",
       "        vertical-align: top;\n",
       "    }\n",
       "\n",
       "    .dataframe thead th {\n",
       "        text-align: right;\n",
       "    }\n",
       "</style>\n",
       "<table border=\"1\" class=\"dataframe\">\n",
       "  <thead>\n",
       "    <tr style=\"text-align: right;\">\n",
       "      <th></th>\n",
       "      <th>age_sum</th>\n",
       "      <th>age_mean</th>\n",
       "      <th>age_max</th>\n",
       "      <th>head_count</th>\n",
       "    </tr>\n",
       "  </thead>\n",
       "  <tbody>\n",
       "    <tr>\n",
       "      <th>OData</th>\n",
       "      <td>779.918301</td>\n",
       "      <td>194.979575</td>\n",
       "      <td>295.912835</td>\n",
       "      <td>4</td>\n",
       "    </tr>\n",
       "    <tr>\n",
       "      <th>Azure Developer Associate</th>\n",
       "      <td>841.197798</td>\n",
       "      <td>19.562739</td>\n",
       "      <td>50.044348</td>\n",
       "      <td>43</td>\n",
       "    </tr>\n",
       "    <tr>\n",
       "      <th>Todd Ideas</th>\n",
       "      <td>1208.457448</td>\n",
       "      <td>80.563830</td>\n",
       "      <td>169.200181</td>\n",
       "      <td>15</td>\n",
       "    </tr>\n",
       "    <tr>\n",
       "      <th>Python</th>\n",
       "      <td>1283.652205</td>\n",
       "      <td>27.311749</td>\n",
       "      <td>41.591453</td>\n",
       "      <td>47</td>\n",
       "    </tr>\n",
       "    <tr>\n",
       "      <th>Email Auth and Security</th>\n",
       "      <td>1638.976894</td>\n",
       "      <td>136.581408</td>\n",
       "      <td>498.771240</td>\n",
       "      <td>12</td>\n",
       "    </tr>\n",
       "    <tr>\n",
       "      <th>SharePoint</th>\n",
       "      <td>1900.861552</td>\n",
       "      <td>158.405129</td>\n",
       "      <td>599.238946</td>\n",
       "      <td>12</td>\n",
       "    </tr>\n",
       "    <tr>\n",
       "      <th>Audit Report Tracker (Sharepoint List)</th>\n",
       "      <td>2038.859334</td>\n",
       "      <td>156.835333</td>\n",
       "      <td>398.042664</td>\n",
       "      <td>13</td>\n",
       "    </tr>\n",
       "    <tr>\n",
       "      <th>Azure Functions + Visual Studio</th>\n",
       "      <td>2210.738309</td>\n",
       "      <td>157.909879</td>\n",
       "      <td>506.604597</td>\n",
       "      <td>14</td>\n",
       "    </tr>\n",
       "    <tr>\n",
       "      <th>Debugging in VS Code</th>\n",
       "      <td>2309.562237</td>\n",
       "      <td>115.478112</td>\n",
       "      <td>284.485449</td>\n",
       "      <td>20</td>\n",
       "    </tr>\n",
       "    <tr>\n",
       "      <th>IW Migration</th>\n",
       "      <td>2381.081230</td>\n",
       "      <td>170.077231</td>\n",
       "      <td>483.956776</td>\n",
       "      <td>14</td>\n",
       "    </tr>\n",
       "    <tr>\n",
       "      <th>Azure AI Search</th>\n",
       "      <td>2421.403153</td>\n",
       "      <td>269.044795</td>\n",
       "      <td>704.364977</td>\n",
       "      <td>9</td>\n",
       "    </tr>\n",
       "    <tr>\n",
       "      <th>Terraform</th>\n",
       "      <td>2564.355410</td>\n",
       "      <td>102.574216</td>\n",
       "      <td>278.116596</td>\n",
       "      <td>25</td>\n",
       "    </tr>\n",
       "    <tr>\n",
       "      <th>Open Source/GitHub</th>\n",
       "      <td>2589.227363</td>\n",
       "      <td>161.826710</td>\n",
       "      <td>385.077682</td>\n",
       "      <td>16</td>\n",
       "    </tr>\n",
       "    <tr>\n",
       "      <th>FSLogix</th>\n",
       "      <td>2885.171822</td>\n",
       "      <td>120.215493</td>\n",
       "      <td>286.654829</td>\n",
       "      <td>24</td>\n",
       "    </tr>\n",
       "    <tr>\n",
       "      <th>Azure Functions</th>\n",
       "      <td>3108.436873</td>\n",
       "      <td>282.585170</td>\n",
       "      <td>767.868025</td>\n",
       "      <td>11</td>\n",
       "    </tr>\n",
       "    <tr>\n",
       "      <th>Home Network Project</th>\n",
       "      <td>3303.416749</td>\n",
       "      <td>206.463547</td>\n",
       "      <td>481.312253</td>\n",
       "      <td>16</td>\n",
       "    </tr>\n",
       "    <tr>\n",
       "      <th>DNS</th>\n",
       "      <td>3491.999087</td>\n",
       "      <td>218.249943</td>\n",
       "      <td>430.562402</td>\n",
       "      <td>16</td>\n",
       "    </tr>\n",
       "    <tr>\n",
       "      <th>WSL + Kali Linux</th>\n",
       "      <td>3646.090413</td>\n",
       "      <td>191.899495</td>\n",
       "      <td>426.841421</td>\n",
       "      <td>19</td>\n",
       "    </tr>\n",
       "    <tr>\n",
       "      <th>Azure Functions + PP365</th>\n",
       "      <td>3909.775308</td>\n",
       "      <td>169.990231</td>\n",
       "      <td>436.520040</td>\n",
       "      <td>23</td>\n",
       "    </tr>\n",
       "    <tr>\n",
       "      <th>Powershell Modules</th>\n",
       "      <td>5322.989686</td>\n",
       "      <td>177.432990</td>\n",
       "      <td>696.206643</td>\n",
       "      <td>30</td>\n",
       "    </tr>\n",
       "    <tr>\n",
       "      <th>Logging in Python</th>\n",
       "      <td>5917.614005</td>\n",
       "      <td>120.767633</td>\n",
       "      <td>695.834487</td>\n",
       "      <td>49</td>\n",
       "    </tr>\n",
       "    <tr>\n",
       "      <th>PnP Powershell</th>\n",
       "      <td>7357.512573</td>\n",
       "      <td>193.618752</td>\n",
       "      <td>674.751593</td>\n",
       "      <td>38</td>\n",
       "    </tr>\n",
       "    <tr>\n",
       "      <th>Vocab</th>\n",
       "      <td>8060.971563</td>\n",
       "      <td>108.932048</td>\n",
       "      <td>887.696633</td>\n",
       "      <td>74</td>\n",
       "    </tr>\n",
       "    <tr>\n",
       "      <th>JavaScript Concepts</th>\n",
       "      <td>8227.330575</td>\n",
       "      <td>115.877895</td>\n",
       "      <td>452.374407</td>\n",
       "      <td>71</td>\n",
       "    </tr>\n",
       "  </tbody>\n",
       "</table>\n",
       "</div>"
      ],
      "text/plain": [
       "                                            age_sum    age_mean     age_max  \\\n",
       "OData                                    779.918301  194.979575  295.912835   \n",
       "Azure Developer Associate                841.197798   19.562739   50.044348   \n",
       "Todd Ideas                              1208.457448   80.563830  169.200181   \n",
       "Python                                  1283.652205   27.311749   41.591453   \n",
       "Email Auth and Security                 1638.976894  136.581408  498.771240   \n",
       "SharePoint                              1900.861552  158.405129  599.238946   \n",
       "Audit Report Tracker (Sharepoint List)  2038.859334  156.835333  398.042664   \n",
       "Azure Functions + Visual Studio         2210.738309  157.909879  506.604597   \n",
       "Debugging in VS Code                    2309.562237  115.478112  284.485449   \n",
       "IW Migration                            2381.081230  170.077231  483.956776   \n",
       "Azure AI Search                         2421.403153  269.044795  704.364977   \n",
       "Terraform                               2564.355410  102.574216  278.116596   \n",
       "Open Source/GitHub                      2589.227363  161.826710  385.077682   \n",
       "FSLogix                                 2885.171822  120.215493  286.654829   \n",
       "Azure Functions                         3108.436873  282.585170  767.868025   \n",
       "Home Network Project                    3303.416749  206.463547  481.312253   \n",
       "DNS                                     3491.999087  218.249943  430.562402   \n",
       "WSL + Kali Linux                        3646.090413  191.899495  426.841421   \n",
       "Azure Functions + PP365                 3909.775308  169.990231  436.520040   \n",
       "Powershell Modules                      5322.989686  177.432990  696.206643   \n",
       "Logging in Python                       5917.614005  120.767633  695.834487   \n",
       "PnP Powershell                          7357.512573  193.618752  674.751593   \n",
       "Vocab                                   8060.971563  108.932048  887.696633   \n",
       "JavaScript Concepts                     8227.330575  115.877895  452.374407   \n",
       "\n",
       "                                        head_count  \n",
       "OData                                            4  \n",
       "Azure Developer Associate                       43  \n",
       "Todd Ideas                                      15  \n",
       "Python                                          47  \n",
       "Email Auth and Security                         12  \n",
       "SharePoint                                      12  \n",
       "Audit Report Tracker (Sharepoint List)          13  \n",
       "Azure Functions + Visual Studio                 14  \n",
       "Debugging in VS Code                            20  \n",
       "IW Migration                                    14  \n",
       "Azure AI Search                                  9  \n",
       "Terraform                                       25  \n",
       "Open Source/GitHub                              16  \n",
       "FSLogix                                         24  \n",
       "Azure Functions                                 11  \n",
       "Home Network Project                            16  \n",
       "DNS                                             16  \n",
       "WSL + Kali Linux                                19  \n",
       "Azure Functions + PP365                         23  \n",
       "Powershell Modules                              30  \n",
       "Logging in Python                               49  \n",
       "PnP Powershell                                  38  \n",
       "Vocab                                           74  \n",
       "JavaScript Concepts                             71  "
      ]
     },
     "execution_count": 3,
     "metadata": {},
     "output_type": "execute_result"
    }
   ],
   "source": [
    "stats = existing_cards.groupby('head').agg({'age': ['sum', 'mean', 'max'], 'head': 'count'}).sort_values(('age', 'sum'))\n",
    "stats.columns = stats.columns.to_flat_index()\n",
    "stats.columns = ['_'.join(col).strip() for col in stats.columns]\n",
    "stats.index.name = None\n",
    "stats"
   ]
  },
  {
   "cell_type": "markdown",
   "metadata": {},
   "source": [
    "# Histogram"
   ]
  },
  {
   "cell_type": "code",
   "execution_count": 4,
   "metadata": {},
   "outputs": [
    {
     "name": "stdout",
     "output_type": "stream",
     "text": [
      "79399.60\n"
     ]
    },
    {
     "data": {
      "text/plain": [
       "<Axes: >"
      ]
     },
     "execution_count": 4,
     "metadata": {},
     "output_type": "execute_result"
    },
    {
     "data": {
      "image/png": "[encoded data removed]",
      "text/plain": [
       "<Figure size 640x480 with 1 Axes>"
      ]
     },
     "metadata": {},
     "output_type": "display_data"
    }
   ],
   "source": [
    "print(f\"{existing_cards['age'].sum(0):.2f}\")\n",
    "existing_cards['age'].hist(bins=20)"
   ]
  },
  {
   "cell_type": "markdown",
   "metadata": {},
   "source": [
    "# Completely Random Shuffle"
   ]
  },
  {
   "cell_type": "code",
   "execution_count": 5,
   "metadata": {},
   "outputs": [],
   "source": [
    "# existing_cards = existing_cards.sample(frac=1)\n",
    "# remake_card_document(filename='certcards2.txt', existing_cards = existing_cards)"
   ]
  },
  {
   "cell_type": "markdown",
   "metadata": {},
   "source": [
    "# Age Sort"
   ]
  },
  {
   "cell_type": "code",
   "execution_count": 6,
   "metadata": {},
   "outputs": [],
   "source": [
    "# existing_cards = existing_cards.sort_values('age', ascending=False)\n",
    "# remake_card_document(filename='certcards2.txt', existing_cards=existing_cards)\n",
    "# existing_cards.head(10)"
   ]
  },
  {
   "cell_type": "markdown",
   "metadata": {},
   "source": [
    "# Headers with fewest notes first"
   ]
  },
  {
   "cell_type": "code",
   "execution_count": 7,
   "metadata": {},
   "outputs": [],
   "source": [
    "# frequency = existing_cards['head'].value_counts(ascending=True)\n",
    "\n",
    "# existing_cards = pd.merge(\n",
    "#     left=existing_cards,\n",
    "#     right=frequency.rename('frequency'),\n",
    "#     left_on='head', right_index=True,\n",
    "#     how='left'\n",
    "# )\n",
    "# existing_cards['oldest'] = existing_cards.groupby('head')['age'].transform('max')\n",
    "# existing_cards['subject_highest_age'] = existing_cards['subject_highest_age'] * -1\n",
    "# existing_cards['age'] = existing_cards['age'] * -1\n",
    "\n",
    "\n",
    "# existing_cards.sort_values(['frequency', 'subject_highest_age', 'age'], ascending=True, inplace=True)\n",
    "\n",
    "# remake_card_document(filename='certcards2.txt', existing_cards=existing_cards)\n",
    "\n",
    "# existing_cards.head(10)"
   ]
  },
  {
   "cell_type": "markdown",
   "metadata": {},
   "source": [
    "# Focus on one header"
   ]
  },
  {
   "cell_type": "code",
   "execution_count": 8,
   "metadata": {},
   "outputs": [],
   "source": [
    "# heads = existing_cards['head'].value_counts()\n",
    "# heads = heads[heads > 5].index.tolist()\n",
    "# one_header = random.sample(heads, 1)[0]\n",
    "# existing_cards['pick_head'] = existing_cards['head'].apply(\n",
    "#     lambda h: 0 if h == one_header else 1 \n",
    "# )\n",
    "\n",
    "# remake_card_document(existing_cards=existing_cards.sort_values('pick_head'))"
   ]
  },
  {
   "cell_type": "markdown",
   "metadata": {},
   "source": [
    "## Header with oldest cards first"
   ]
  },
  {
   "cell_type": "code",
   "execution_count": 9,
   "metadata": {},
   "outputs": [],
   "source": [
    "# existing_cards['oldest'] = existing_cards.groupby('head')['age'].transform('max')\n",
    "# existing_cards.sort_values(['oldest', 'age'], ascending=False, inplace=True)\n",
    "# remake_card_document(existing_cards)"
   ]
  },
  {
   "cell_type": "markdown",
   "metadata": {},
   "source": [
    "## Headers with greatest mean card age first"
   ]
  },
  {
   "cell_type": "code",
   "execution_count": 10,
   "metadata": {},
   "outputs": [],
   "source": [
    "# existing_cards.sort_values(['subject_mean_age', 'age'], ascending=False, inplace=True)\n",
    "# remake_card_document(existing_cards)"
   ]
  },
  {
   "cell_type": "markdown",
   "metadata": {},
   "source": [
    "## Headers with greatest age sum first"
   ]
  },
  {
   "cell_type": "code",
   "execution_count": 11,
   "metadata": {},
   "outputs": [],
   "source": [
    "# existing_cards.sort_values(['subject_age_sum', 'age'], ascending=False, inplace=True)\n",
    "# remake_card_document(existing_cards)"
   ]
  },
  {
   "cell_type": "markdown",
   "metadata": {},
   "source": [
    "# N-fold shuffle\n"
   ]
  },
  {
   "cell_type": "markdown",
   "metadata": {},
   "source": [
    "## Age Sum"
   ]
  },
  {
   "cell_type": "code",
   "execution_count": 12,
   "metadata": {},
   "outputs": [],
   "source": [
    "# n=3\n",
    "# existing_cards['count'] = existing_cards.sort_values('age', ascending=False).groupby('head').cumcount()\n",
    "# existing_cards['n_fold'] = existing_cards['count'] % n\n",
    "\n",
    "# existing_cards['subject_age_sum'] = existing_cards['subject_age_sum'] *-1\n",
    "# existing_cards['age'] = existing_cards['age'] *-1\n",
    "# existing_cards.sort_values(['n_fold', 'subject_age_sum', 'age'], inplace=True)\n",
    "\n",
    "# remake_card_document(existing_cards=existing_cards)\n",
    "# existing_cards.head(10)\n"
   ]
  },
  {
   "cell_type": "markdown",
   "metadata": {},
   "source": [
    "## Age Mean"
   ]
  },
  {
   "cell_type": "code",
   "execution_count": 13,
   "metadata": {},
   "outputs": [],
   "source": [
    "# n=3\n",
    "# existing_cards['count'] = existing_cards.sort_values('age', ascending=False).groupby('head').cumcount()\n",
    "# existing_cards['n_fold'] = existing_cards['count'] % n\n",
    "\n",
    "# existing_cards['subject_mean_age'] = existing_cards['subject_mean_age'] *-1\n",
    "# existing_cards['age'] = existing_cards['age'] *-1\n",
    "# existing_cards.sort_values(['n_fold', 'subject_mean_age', 'age'], inplace=True)\n",
    "# remake_card_document(existing_cards=existing_cards)\n",
    "\n",
    "# existing_cards.head(10)\n",
    "\n"
   ]
  },
  {
   "cell_type": "markdown",
   "metadata": {},
   "source": [
    "## Age Max"
   ]
  },
  {
   "cell_type": "code",
   "execution_count": 14,
   "metadata": {},
   "outputs": [
    {
     "name": "stdout",
     "output_type": "stream",
     "text": [
      "Cards found: 615\n"
     ]
    },
    {
     "data": {
      "application/vnd.microsoft.datawrangler.viewer.v0+json": {
       "columns": [
        {
         "name": "index",
         "rawType": "int64",
         "type": "integer"
        },
        {
         "name": "head",
         "rawType": "object",
         "type": "string"
        },
        {
         "name": "body",
         "rawType": "object",
         "type": "string"
        },
        {
         "name": "hash",
         "rawType": "object",
         "type": "string"
        },
        {
         "name": "age",
         "rawType": "float64",
         "type": "float"
        },
        {
         "name": "subject_mean_age",
         "rawType": "float64",
         "type": "float"
        },
        {
         "name": "subject_highest_age",
         "rawType": "float64",
         "type": "float"
        },
        {
         "name": "subject_age_sum",
         "rawType": "float64",
         "type": "float"
        },
        {
         "name": "head_random_roll",
         "rawType": "float64",
         "type": "float"
        },
        {
         "name": "count",
         "rawType": "int64",
         "type": "integer"
        },
        {
         "name": "n_fold",
         "rawType": "int64",
         "type": "integer"
        }
       ],
       "conversionMethod": "pd.DataFrame",
       "ref": "b7b7ce5d-11c2-4bb9-bfed-db1d8dd20ab7",
       "rows": [
        [
         "0",
         "Vocab",
         "Boustrophedonic\nadjective\nSPA: boo-struh-fee-DON-ik\nIPA: /ˌbʊsˌtrɒfəˈdɒnɪk/\n\nOf or relating to a style of writing in which the direction alternates from left to right on one line and right to left on the next, continuing in this manner throughout the text.\nExample: The ancient script was written in a boustrophedonic manner, making it challenging to read for modern scholars.",
         "c778949e7f683ddbc9ae9910ad5c565c",
         "-887.6966334353313",
         "108.93204814312863",
         "-887.6966334353313",
         "8060.971562591518",
         "0.5474974802000897",
         "0",
         "0"
        ],
        [
         "1",
         "Azure Functions",
         "2. Suppose your Azure Function has a blob trigger associated with it and you want it to execute only when png images are uploaded. Which of the following blob trigger Path values should you use? \n\nsamples-workitems/{name}.png\nThe Path tells the blob trigger where it should monitor for changes, and if there are any filters applied. Adding a file extension to the Path specifies that uploaded files must have that file extension in order for the trigger to invoke the function.",
         "fc5054fcf13b3189012cf676692c4f29",
         "-767.8680253494524",
         "282.5851702972263",
         "-767.8680253494524",
         "3108.4368732694893",
         "0.05925528635828625",
         "0",
         "0"
        ],
        [
         "2",
         "Azure AI Search",
         "If you include a skillset, you'll need to specify output field mappings in the indexer definition. The output of a skillset is manifested internally as a tree structure referred to as an enriched document. Output field mappings allow you to select which parts of this tree to map into fields in your index.",
         "9e291c2452d2e6788d57e9973c39d8f9",
         "-704.364976630193",
         "269.0447948311468",
         "-704.364976630193",
         "2421.403153480321",
         "0.8783196583404701",
         "0",
         "0"
        ],
        [
         "3",
         "Powershell Modules",
         "PowerShell Gallery\n\nDefinition: The central repository for PowerShell modules, scripts, and other resources.\nExplanation: Accessible via the Find-Module and Install-Module cmdlets. Website: PowerShell Gallery.",
         "92931a76329cd1bec63d78a358648c4d",
         "-696.2066427569486",
         "177.43298954824115",
         "-696.2066427569486",
         "5322.989686447235",
         "0.1959423014658338",
         "0",
         "0"
        ],
        [
         "4",
         "Logging in Python",
         "Q: In TimedRotatingFileHandler from the logging.handlers module, what does the when parameter specify?\n\nA: when='midnight'\nThis parameter sets the interval type for rotating logs, such as daily at midnight.",
         "d53f8f76d58dd27e3ded74f30a190cb4",
         "-695.8344873288366",
         "120.7676327618514",
         "-695.8344873288366",
         "5917.614005330719",
         "0.5322831351825456",
         "0",
         "0"
        ],
        [
         "5",
         "PnP Powershell",
         "SharePoint REST API\nA set of web services provided by SharePoint to perform operations like CRUD actions on lists, libraries, and other SharePoint objects using standard HTTP methods.",
         "143745e569af1c6a779118128bf12b60",
         "-674.7515928761503",
         "193.61875193067647",
         "-674.7515928761503",
         "7357.512573365706",
         "0.5908897610643657",
         "0",
         "0"
        ],
        [
         "6",
         "SharePoint",
         "How can you retrieve the metadata of a specific file, including its properties, using the SharePoint REST API?\n\nGET /_api/web/GetFileByServerRelativeUrl('/Documents/Report.docx')?$expand=ListItemAllFields",
         "a9bef1ae5a68637d2ee73d72c0aa7e47",
         "-599.2389455622099",
         "158.40512936538258",
         "-599.2389455622099",
         "1900.8615523845908",
         "0.4930969075891276",
         "0",
         "0"
        ],
        [
         "7",
         "Azure Functions + Visual Studio",
         "ASP.NET includes a variety of built-in security features such as request validation, input sanitization, SQL injection prevention, and protection against cross-site scripting (XSS) and cross-site request forgery (CSRF). HTTPS and encryption are also supported for secure communication.",
         "22f41dbaa7f06bfee2174c4754c8f951",
         "-506.60459686946507",
         "157.90987918041353",
         "-506.60459686946507",
         "2210.7383085257893",
         "0.3955454866319882",
         "0",
         "0"
        ],
        [
         "8",
         "Email Auth and Security",
         "MUA (Mail User Agent)\n\nAn email client used by end-users to send, receive, and manage their emails.\nProvides the interface for users to interact with their email accounts.\nExamples include Microsoft Outlook, Mozilla Thunderbird, and Gmail.",
         "728b4872797d6311a0966fa924d6341d",
         "-498.7712396249154",
         "136.58140781406112",
         "-498.7712396249154",
         "1638.9768937687334",
         "0.2705998466846956",
         "0",
         "0"
        ],
        [
         "9",
         "IW Migration",
         "Linked Server (SQL Server)\nA configuration that allows SQL Server to run queries against remote data sources as if they were local tables. This enables federated queries, joining data across different servers and even different database platforms.",
         "fa3ffa381d1fcef8e1ca182752dc366d",
         "-483.95677574630975",
         "170.0772306901249",
         "-483.95677574630975",
         "2381.0812296617487",
         "0.09922050682693417",
         "0",
         "0"
        ]
       ],
       "shape": {
        "columns": 10,
        "rows": 10
       }
      },
      "text/html": [
       "<div>\n",
       "<style scoped>\n",
       "    .dataframe tbody tr th:only-of-type {\n",
       "        vertical-align: middle;\n",
       "    }\n",
       "\n",
       "    .dataframe tbody tr th {\n",
       "        vertical-align: top;\n",
       "    }\n",
       "\n",
       "    .dataframe thead th {\n",
       "        text-align: right;\n",
       "    }\n",
       "</style>\n",
       "<table border=\"1\" class=\"dataframe\">\n",
       "  <thead>\n",
       "    <tr style=\"text-align: right;\">\n",
       "      <th></th>\n",
       "      <th>head</th>\n",
       "      <th>body</th>\n",
       "      <th>hash</th>\n",
       "      <th>age</th>\n",
       "      <th>subject_mean_age</th>\n",
       "      <th>subject_highest_age</th>\n",
       "      <th>subject_age_sum</th>\n",
       "      <th>head_random_roll</th>\n",
       "      <th>count</th>\n",
       "      <th>n_fold</th>\n",
       "    </tr>\n",
       "  </thead>\n",
       "  <tbody>\n",
       "    <tr>\n",
       "      <th>0</th>\n",
       "      <td>Vocab</td>\n",
       "      <td>Boustrophedonic\\nadjective\\nSPA: boo-struh-fee...</td>\n",
       "      <td>c778949e7f683ddbc9ae9910ad5c565c</td>\n",
       "      <td>-887.696633</td>\n",
       "      <td>108.932048</td>\n",
       "      <td>-887.696633</td>\n",
       "      <td>8060.971563</td>\n",
       "      <td>0.547497</td>\n",
       "      <td>0</td>\n",
       "      <td>0</td>\n",
       "    </tr>\n",
       "    <tr>\n",
       "      <th>1</th>\n",
       "      <td>Azure Functions</td>\n",
       "      <td>2. Suppose your Azure Function has a blob trig...</td>\n",
       "      <td>fc5054fcf13b3189012cf676692c4f29</td>\n",
       "      <td>-767.868025</td>\n",
       "      <td>282.585170</td>\n",
       "      <td>-767.868025</td>\n",
       "      <td>3108.436873</td>\n",
       "      <td>0.059255</td>\n",
       "      <td>0</td>\n",
       "      <td>0</td>\n",
       "    </tr>\n",
       "    <tr>\n",
       "      <th>2</th>\n",
       "      <td>Azure AI Search</td>\n",
       "      <td>If you include a skillset, you'll need to spec...</td>\n",
       "      <td>9e291c2452d2e6788d57e9973c39d8f9</td>\n",
       "      <td>-704.364977</td>\n",
       "      <td>269.044795</td>\n",
       "      <td>-704.364977</td>\n",
       "      <td>2421.403153</td>\n",
       "      <td>0.878320</td>\n",
       "      <td>0</td>\n",
       "      <td>0</td>\n",
       "    </tr>\n",
       "    <tr>\n",
       "      <th>3</th>\n",
       "      <td>Powershell Modules</td>\n",
       "      <td>PowerShell Gallery\\n\\nDefinition: The central ...</td>\n",
       "      <td>92931a76329cd1bec63d78a358648c4d</td>\n",
       "      <td>-696.206643</td>\n",
       "      <td>177.432990</td>\n",
       "      <td>-696.206643</td>\n",
       "      <td>5322.989686</td>\n",
       "      <td>0.195942</td>\n",
       "      <td>0</td>\n",
       "      <td>0</td>\n",
       "    </tr>\n",
       "    <tr>\n",
       "      <th>4</th>\n",
       "      <td>Logging in Python</td>\n",
       "      <td>Q: In TimedRotatingFileHandler from the loggin...</td>\n",
       "      <td>d53f8f76d58dd27e3ded74f30a190cb4</td>\n",
       "      <td>-695.834487</td>\n",
       "      <td>120.767633</td>\n",
       "      <td>-695.834487</td>\n",
       "      <td>5917.614005</td>\n",
       "      <td>0.532283</td>\n",
       "      <td>0</td>\n",
       "      <td>0</td>\n",
       "    </tr>\n",
       "    <tr>\n",
       "      <th>5</th>\n",
       "      <td>PnP Powershell</td>\n",
       "      <td>SharePoint REST API\\nA set of web services pro...</td>\n",
       "      <td>143745e569af1c6a779118128bf12b60</td>\n",
       "      <td>-674.751593</td>\n",
       "      <td>193.618752</td>\n",
       "      <td>-674.751593</td>\n",
       "      <td>7357.512573</td>\n",
       "      <td>0.590890</td>\n",
       "      <td>0</td>\n",
       "      <td>0</td>\n",
       "    </tr>\n",
       "    <tr>\n",
       "      <th>6</th>\n",
       "      <td>SharePoint</td>\n",
       "      <td>How can you retrieve the metadata of a specifi...</td>\n",
       "      <td>a9bef1ae5a68637d2ee73d72c0aa7e47</td>\n",
       "      <td>-599.238946</td>\n",
       "      <td>158.405129</td>\n",
       "      <td>-599.238946</td>\n",
       "      <td>1900.861552</td>\n",
       "      <td>0.493097</td>\n",
       "      <td>0</td>\n",
       "      <td>0</td>\n",
       "    </tr>\n",
       "    <tr>\n",
       "      <th>7</th>\n",
       "      <td>Azure Functions + Visual Studio</td>\n",
       "      <td>ASP.NET includes a variety of built-in securit...</td>\n",
       "      <td>22f41dbaa7f06bfee2174c4754c8f951</td>\n",
       "      <td>-506.604597</td>\n",
       "      <td>157.909879</td>\n",
       "      <td>-506.604597</td>\n",
       "      <td>2210.738309</td>\n",
       "      <td>0.395545</td>\n",
       "      <td>0</td>\n",
       "      <td>0</td>\n",
       "    </tr>\n",
       "    <tr>\n",
       "      <th>8</th>\n",
       "      <td>Email Auth and Security</td>\n",
       "      <td>MUA (Mail User Agent)\\n\\nAn email client used ...</td>\n",
       "      <td>728b4872797d6311a0966fa924d6341d</td>\n",
       "      <td>-498.771240</td>\n",
       "      <td>136.581408</td>\n",
       "      <td>-498.771240</td>\n",
       "      <td>1638.976894</td>\n",
       "      <td>0.270600</td>\n",
       "      <td>0</td>\n",
       "      <td>0</td>\n",
       "    </tr>\n",
       "    <tr>\n",
       "      <th>9</th>\n",
       "      <td>IW Migration</td>\n",
       "      <td>Linked Server (SQL Server)\\nA configuration th...</td>\n",
       "      <td>fa3ffa381d1fcef8e1ca182752dc366d</td>\n",
       "      <td>-483.956776</td>\n",
       "      <td>170.077231</td>\n",
       "      <td>-483.956776</td>\n",
       "      <td>2381.081230</td>\n",
       "      <td>0.099221</td>\n",
       "      <td>0</td>\n",
       "      <td>0</td>\n",
       "    </tr>\n",
       "  </tbody>\n",
       "</table>\n",
       "</div>"
      ],
      "text/plain": [
       "                              head  \\\n",
       "0                            Vocab   \n",
       "1                  Azure Functions   \n",
       "2                  Azure AI Search   \n",
       "3               Powershell Modules   \n",
       "4                Logging in Python   \n",
       "5                   PnP Powershell   \n",
       "6                       SharePoint   \n",
       "7  Azure Functions + Visual Studio   \n",
       "8          Email Auth and Security   \n",
       "9                     IW Migration   \n",
       "\n",
       "                                                body  \\\n",
       "0  Boustrophedonic\\nadjective\\nSPA: boo-struh-fee...   \n",
       "1  2. Suppose your Azure Function has a blob trig...   \n",
       "2  If you include a skillset, you'll need to spec...   \n",
       "3  PowerShell Gallery\\n\\nDefinition: The central ...   \n",
       "4  Q: In TimedRotatingFileHandler from the loggin...   \n",
       "5  SharePoint REST API\\nA set of web services pro...   \n",
       "6  How can you retrieve the metadata of a specifi...   \n",
       "7  ASP.NET includes a variety of built-in securit...   \n",
       "8  MUA (Mail User Agent)\\n\\nAn email client used ...   \n",
       "9  Linked Server (SQL Server)\\nA configuration th...   \n",
       "\n",
       "                               hash         age  subject_mean_age  \\\n",
       "0  c778949e7f683ddbc9ae9910ad5c565c -887.696633        108.932048   \n",
       "1  fc5054fcf13b3189012cf676692c4f29 -767.868025        282.585170   \n",
       "2  9e291c2452d2e6788d57e9973c39d8f9 -704.364977        269.044795   \n",
       "3  92931a76329cd1bec63d78a358648c4d -696.206643        177.432990   \n",
       "4  d53f8f76d58dd27e3ded74f30a190cb4 -695.834487        120.767633   \n",
       "5  143745e569af1c6a779118128bf12b60 -674.751593        193.618752   \n",
       "6  a9bef1ae5a68637d2ee73d72c0aa7e47 -599.238946        158.405129   \n",
       "7  22f41dbaa7f06bfee2174c4754c8f951 -506.604597        157.909879   \n",
       "8  728b4872797d6311a0966fa924d6341d -498.771240        136.581408   \n",
       "9  fa3ffa381d1fcef8e1ca182752dc366d -483.956776        170.077231   \n",
       "\n",
       "   subject_highest_age  subject_age_sum  head_random_roll  count  n_fold  \n",
       "0          -887.696633      8060.971563          0.547497      0       0  \n",
       "1          -767.868025      3108.436873          0.059255      0       0  \n",
       "2          -704.364977      2421.403153          0.878320      0       0  \n",
       "3          -696.206643      5322.989686          0.195942      0       0  \n",
       "4          -695.834487      5917.614005          0.532283      0       0  \n",
       "5          -674.751593      7357.512573          0.590890      0       0  \n",
       "6          -599.238946      1900.861552          0.493097      0       0  \n",
       "7          -506.604597      2210.738309          0.395545      0       0  \n",
       "8          -498.771240      1638.976894          0.270600      0       0  \n",
       "9          -483.956776      2381.081230          0.099221      0       0  "
      ]
     },
     "execution_count": 14,
     "metadata": {},
     "output_type": "execute_result"
    }
   ],
   "source": [
    "n = 1\n",
    "existing_cards['count'] = existing_cards.sort_values('age', ascending=False).groupby('head').cumcount()\n",
    "existing_cards['n_fold'] = existing_cards['count'] // n\n",
    "\n",
    "if existing_cards['age'].sum() > 0:\n",
    "    existing_cards['subject_highest_age'] = existing_cards['subject_highest_age'] *-1\n",
    "    existing_cards['age'] = existing_cards['age'] *-1\n",
    "existing_cards.sort_values(['n_fold', 'subject_highest_age', 'age'], inplace=True)\n",
    "\n",
    "remake_card_document(existing_cards=existing_cards)\n",
    "existing_cards.head(10)\n"
   ]
  },
  {
   "cell_type": "markdown",
   "metadata": {},
   "source": [
    "## Card Count"
   ]
  },
  {
   "cell_type": "code",
   "execution_count": 15,
   "metadata": {},
   "outputs": [],
   "source": [
    "# n=10\n",
    "# existing_cards['frequency']  = existing_cards.groupby('head').transform('count')['body']\n",
    "# existing_cards['count'] = existing_cards.sort_values('age', ascending=False).groupby('head').cumcount()\n",
    "# existing_cards['n_fold'] = existing_cards['count'] // n\n",
    "\n",
    "# if existing_cards['age'].sum() > 0:\n",
    "#     # existing_cards['neg_subject_highest_age'] = existing_cards['subject_highest_age'] *-1\n",
    "#     existing_cards['neg_age'] = existing_cards['age'] *-1\n",
    "# existing_cards.sort_values(['n_fold', 'frequency', 'neg_age'], inplace=True)\n",
    "# remake_card_document(existing_cards=existing_cards)\n",
    "\n",
    "# existing_cards.head(10)\n",
    "\n"
   ]
  },
  {
   "cell_type": "markdown",
   "metadata": {},
   "source": [
    "\n",
    "## Random"
   ]
  },
  {
   "cell_type": "code",
   "execution_count": 16,
   "metadata": {},
   "outputs": [],
   "source": [
    "# n = 3\n",
    "# existing_cards['count'] = existing_cards.sort_values('age', ascending=False).groupby('head').cumcount()\n",
    "# existing_cards['n_fold'] = existing_cards['count'] % n\n",
    "# existing_cards['age'] *= -1\n",
    "# existing_cards.sort_values(['n_fold', 'head_random_roll', 'age'], inplace=True)\n",
    "# remake_card_document(existing_cards=existing_cards)\n",
    "# existing_cards.head(10)"
   ]
  },
  {
   "cell_type": "code",
   "execution_count": 17,
   "metadata": {},
   "outputs": [
    {
     "data": {
      "application/vnd.microsoft.datawrangler.viewer.v0+json": {
       "columns": [
        {
         "name": "index",
         "rawType": "int64",
         "type": "integer"
        },
        {
         "name": "head",
         "rawType": "object",
         "type": "string"
        },
        {
         "name": "body",
         "rawType": "object",
         "type": "string"
        },
        {
         "name": "hash",
         "rawType": "object",
         "type": "string"
        },
        {
         "name": "age",
         "rawType": "float64",
         "type": "float"
        },
        {
         "name": "subject_mean_age",
         "rawType": "float64",
         "type": "float"
        },
        {
         "name": "subject_highest_age",
         "rawType": "float64",
         "type": "float"
        },
        {
         "name": "subject_age_sum",
         "rawType": "float64",
         "type": "float"
        },
        {
         "name": "head_random_roll",
         "rawType": "float64",
         "type": "float"
        },
        {
         "name": "count",
         "rawType": "int64",
         "type": "integer"
        },
        {
         "name": "n_fold",
         "rawType": "int64",
         "type": "integer"
        }
       ],
       "conversionMethod": "pd.DataFrame",
       "ref": "8d2b3b32-4092-4206-8a4e-bbb28d8bac36",
       "rows": [
        [
         "0",
         "Vocab",
         "Boustrophedonic\nadjective\nSPA: boo-struh-fee-DON-ik\nIPA: /ˌbʊsˌtrɒfəˈdɒnɪk/\n\nOf or relating to a style of writing in which the direction alternates from left to right on one line and right to left on the next, continuing in this manner throughout the text.\nExample: The ancient script was written in a boustrophedonic manner, making it challenging to read for modern scholars.",
         "c778949e7f683ddbc9ae9910ad5c565c",
         "-887.6966334353313",
         "108.93204814312863",
         "-887.6966334353313",
         "8060.971562591518",
         "0.5474974802000897",
         "0",
         "0"
        ],
        [
         "1",
         "Azure Functions",
         "2. Suppose your Azure Function has a blob trigger associated with it and you want it to execute only when png images are uploaded. Which of the following blob trigger Path values should you use? \n\nsamples-workitems/{name}.png\nThe Path tells the blob trigger where it should monitor for changes, and if there are any filters applied. Adding a file extension to the Path specifies that uploaded files must have that file extension in order for the trigger to invoke the function.",
         "fc5054fcf13b3189012cf676692c4f29",
         "-767.8680253494524",
         "282.5851702972263",
         "-767.8680253494524",
         "3108.4368732694893",
         "0.05925528635828625",
         "0",
         "0"
        ],
        [
         "2",
         "Azure AI Search",
         "If you include a skillset, you'll need to specify output field mappings in the indexer definition. The output of a skillset is manifested internally as a tree structure referred to as an enriched document. Output field mappings allow you to select which parts of this tree to map into fields in your index.",
         "9e291c2452d2e6788d57e9973c39d8f9",
         "-704.364976630193",
         "269.0447948311468",
         "-704.364976630193",
         "2421.403153480321",
         "0.8783196583404701",
         "0",
         "0"
        ],
        [
         "3",
         "Powershell Modules",
         "PowerShell Gallery\n\nDefinition: The central repository for PowerShell modules, scripts, and other resources.\nExplanation: Accessible via the Find-Module and Install-Module cmdlets. Website: PowerShell Gallery.",
         "92931a76329cd1bec63d78a358648c4d",
         "-696.2066427569486",
         "177.43298954824115",
         "-696.2066427569486",
         "5322.989686447235",
         "0.1959423014658338",
         "0",
         "0"
        ],
        [
         "4",
         "Logging in Python",
         "Q: In TimedRotatingFileHandler from the logging.handlers module, what does the when parameter specify?\n\nA: when='midnight'\nThis parameter sets the interval type for rotating logs, such as daily at midnight.",
         "d53f8f76d58dd27e3ded74f30a190cb4",
         "-695.8344873288366",
         "120.7676327618514",
         "-695.8344873288366",
         "5917.614005330719",
         "0.5322831351825456",
         "0",
         "0"
        ],
        [
         "5",
         "PnP Powershell",
         "SharePoint REST API\nA set of web services provided by SharePoint to perform operations like CRUD actions on lists, libraries, and other SharePoint objects using standard HTTP methods.",
         "143745e569af1c6a779118128bf12b60",
         "-674.7515928761503",
         "193.61875193067647",
         "-674.7515928761503",
         "7357.512573365706",
         "0.5908897610643657",
         "0",
         "0"
        ],
        [
         "6",
         "SharePoint",
         "How can you retrieve the metadata of a specific file, including its properties, using the SharePoint REST API?\n\nGET /_api/web/GetFileByServerRelativeUrl('/Documents/Report.docx')?$expand=ListItemAllFields",
         "a9bef1ae5a68637d2ee73d72c0aa7e47",
         "-599.2389455622099",
         "158.40512936538258",
         "-599.2389455622099",
         "1900.8615523845908",
         "0.4930969075891276",
         "0",
         "0"
        ],
        [
         "7",
         "Azure Functions + Visual Studio",
         "ASP.NET includes a variety of built-in security features such as request validation, input sanitization, SQL injection prevention, and protection against cross-site scripting (XSS) and cross-site request forgery (CSRF). HTTPS and encryption are also supported for secure communication.",
         "22f41dbaa7f06bfee2174c4754c8f951",
         "-506.60459686946507",
         "157.90987918041353",
         "-506.60459686946507",
         "2210.7383085257893",
         "0.3955454866319882",
         "0",
         "0"
        ],
        [
         "8",
         "Email Auth and Security",
         "MUA (Mail User Agent)\n\nAn email client used by end-users to send, receive, and manage their emails.\nProvides the interface for users to interact with their email accounts.\nExamples include Microsoft Outlook, Mozilla Thunderbird, and Gmail.",
         "728b4872797d6311a0966fa924d6341d",
         "-498.7712396249154",
         "136.58140781406112",
         "-498.7712396249154",
         "1638.9768937687334",
         "0.2705998466846956",
         "0",
         "0"
        ],
        [
         "9",
         "IW Migration",
         "Linked Server (SQL Server)\nA configuration that allows SQL Server to run queries against remote data sources as if they were local tables. This enables federated queries, joining data across different servers and even different database platforms.",
         "fa3ffa381d1fcef8e1ca182752dc366d",
         "-483.95677574630975",
         "170.0772306901249",
         "-483.95677574630975",
         "2381.0812296617487",
         "0.09922050682693417",
         "0",
         "0"
        ]
       ],
       "shape": {
        "columns": 10,
        "rows": 10
       }
      },
      "text/html": [
       "<div>\n",
       "<style scoped>\n",
       "    .dataframe tbody tr th:only-of-type {\n",
       "        vertical-align: middle;\n",
       "    }\n",
       "\n",
       "    .dataframe tbody tr th {\n",
       "        vertical-align: top;\n",
       "    }\n",
       "\n",
       "    .dataframe thead th {\n",
       "        text-align: right;\n",
       "    }\n",
       "</style>\n",
       "<table border=\"1\" class=\"dataframe\">\n",
       "  <thead>\n",
       "    <tr style=\"text-align: right;\">\n",
       "      <th></th>\n",
       "      <th>head</th>\n",
       "      <th>body</th>\n",
       "      <th>hash</th>\n",
       "      <th>age</th>\n",
       "      <th>subject_mean_age</th>\n",
       "      <th>subject_highest_age</th>\n",
       "      <th>subject_age_sum</th>\n",
       "      <th>head_random_roll</th>\n",
       "      <th>count</th>\n",
       "      <th>n_fold</th>\n",
       "    </tr>\n",
       "  </thead>\n",
       "  <tbody>\n",
       "    <tr>\n",
       "      <th>0</th>\n",
       "      <td>Vocab</td>\n",
       "      <td>Boustrophedonic\\nadjective\\nSPA: boo-struh-fee...</td>\n",
       "      <td>c778949e7f683ddbc9ae9910ad5c565c</td>\n",
       "      <td>-887.696633</td>\n",
       "      <td>108.932048</td>\n",
       "      <td>-887.696633</td>\n",
       "      <td>8060.971563</td>\n",
       "      <td>0.547497</td>\n",
       "      <td>0</td>\n",
       "      <td>0</td>\n",
       "    </tr>\n",
       "    <tr>\n",
       "      <th>1</th>\n",
       "      <td>Azure Functions</td>\n",
       "      <td>2. Suppose your Azure Function has a blob trig...</td>\n",
       "      <td>fc5054fcf13b3189012cf676692c4f29</td>\n",
       "      <td>-767.868025</td>\n",
       "      <td>282.585170</td>\n",
       "      <td>-767.868025</td>\n",
       "      <td>3108.436873</td>\n",
       "      <td>0.059255</td>\n",
       "      <td>0</td>\n",
       "      <td>0</td>\n",
       "    </tr>\n",
       "    <tr>\n",
       "      <th>2</th>\n",
       "      <td>Azure AI Search</td>\n",
       "      <td>If you include a skillset, you'll need to spec...</td>\n",
       "      <td>9e291c2452d2e6788d57e9973c39d8f9</td>\n",
       "      <td>-704.364977</td>\n",
       "      <td>269.044795</td>\n",
       "      <td>-704.364977</td>\n",
       "      <td>2421.403153</td>\n",
       "      <td>0.878320</td>\n",
       "      <td>0</td>\n",
       "      <td>0</td>\n",
       "    </tr>\n",
       "    <tr>\n",
       "      <th>3</th>\n",
       "      <td>Powershell Modules</td>\n",
       "      <td>PowerShell Gallery\\n\\nDefinition: The central ...</td>\n",
       "      <td>92931a76329cd1bec63d78a358648c4d</td>\n",
       "      <td>-696.206643</td>\n",
       "      <td>177.432990</td>\n",
       "      <td>-696.206643</td>\n",
       "      <td>5322.989686</td>\n",
       "      <td>0.195942</td>\n",
       "      <td>0</td>\n",
       "      <td>0</td>\n",
       "    </tr>\n",
       "    <tr>\n",
       "      <th>4</th>\n",
       "      <td>Logging in Python</td>\n",
       "      <td>Q: In TimedRotatingFileHandler from the loggin...</td>\n",
       "      <td>d53f8f76d58dd27e3ded74f30a190cb4</td>\n",
       "      <td>-695.834487</td>\n",
       "      <td>120.767633</td>\n",
       "      <td>-695.834487</td>\n",
       "      <td>5917.614005</td>\n",
       "      <td>0.532283</td>\n",
       "      <td>0</td>\n",
       "      <td>0</td>\n",
       "    </tr>\n",
       "    <tr>\n",
       "      <th>5</th>\n",
       "      <td>PnP Powershell</td>\n",
       "      <td>SharePoint REST API\\nA set of web services pro...</td>\n",
       "      <td>143745e569af1c6a779118128bf12b60</td>\n",
       "      <td>-674.751593</td>\n",
       "      <td>193.618752</td>\n",
       "      <td>-674.751593</td>\n",
       "      <td>7357.512573</td>\n",
       "      <td>0.590890</td>\n",
       "      <td>0</td>\n",
       "      <td>0</td>\n",
       "    </tr>\n",
       "    <tr>\n",
       "      <th>6</th>\n",
       "      <td>SharePoint</td>\n",
       "      <td>How can you retrieve the metadata of a specifi...</td>\n",
       "      <td>a9bef1ae5a68637d2ee73d72c0aa7e47</td>\n",
       "      <td>-599.238946</td>\n",
       "      <td>158.405129</td>\n",
       "      <td>-599.238946</td>\n",
       "      <td>1900.861552</td>\n",
       "      <td>0.493097</td>\n",
       "      <td>0</td>\n",
       "      <td>0</td>\n",
       "    </tr>\n",
       "    <tr>\n",
       "      <th>7</th>\n",
       "      <td>Azure Functions + Visual Studio</td>\n",
       "      <td>ASP.NET includes a variety of built-in securit...</td>\n",
       "      <td>22f41dbaa7f06bfee2174c4754c8f951</td>\n",
       "      <td>-506.604597</td>\n",
       "      <td>157.909879</td>\n",
       "      <td>-506.604597</td>\n",
       "      <td>2210.738309</td>\n",
       "      <td>0.395545</td>\n",
       "      <td>0</td>\n",
       "      <td>0</td>\n",
       "    </tr>\n",
       "    <tr>\n",
       "      <th>8</th>\n",
       "      <td>Email Auth and Security</td>\n",
       "      <td>MUA (Mail User Agent)\\n\\nAn email client used ...</td>\n",
       "      <td>728b4872797d6311a0966fa924d6341d</td>\n",
       "      <td>-498.771240</td>\n",
       "      <td>136.581408</td>\n",
       "      <td>-498.771240</td>\n",
       "      <td>1638.976894</td>\n",
       "      <td>0.270600</td>\n",
       "      <td>0</td>\n",
       "      <td>0</td>\n",
       "    </tr>\n",
       "    <tr>\n",
       "      <th>9</th>\n",
       "      <td>IW Migration</td>\n",
       "      <td>Linked Server (SQL Server)\\nA configuration th...</td>\n",
       "      <td>fa3ffa381d1fcef8e1ca182752dc366d</td>\n",
       "      <td>-483.956776</td>\n",
       "      <td>170.077231</td>\n",
       "      <td>-483.956776</td>\n",
       "      <td>2381.081230</td>\n",
       "      <td>0.099221</td>\n",
       "      <td>0</td>\n",
       "      <td>0</td>\n",
       "    </tr>\n",
       "  </tbody>\n",
       "</table>\n",
       "</div>"
      ],
      "text/plain": [
       "                              head  \\\n",
       "0                            Vocab   \n",
       "1                  Azure Functions   \n",
       "2                  Azure AI Search   \n",
       "3               Powershell Modules   \n",
       "4                Logging in Python   \n",
       "5                   PnP Powershell   \n",
       "6                       SharePoint   \n",
       "7  Azure Functions + Visual Studio   \n",
       "8          Email Auth and Security   \n",
       "9                     IW Migration   \n",
       "\n",
       "                                                body  \\\n",
       "0  Boustrophedonic\\nadjective\\nSPA: boo-struh-fee...   \n",
       "1  2. Suppose your Azure Function has a blob trig...   \n",
       "2  If you include a skillset, you'll need to spec...   \n",
       "3  PowerShell Gallery\\n\\nDefinition: The central ...   \n",
       "4  Q: In TimedRotatingFileHandler from the loggin...   \n",
       "5  SharePoint REST API\\nA set of web services pro...   \n",
       "6  How can you retrieve the metadata of a specifi...   \n",
       "7  ASP.NET includes a variety of built-in securit...   \n",
       "8  MUA (Mail User Agent)\\n\\nAn email client used ...   \n",
       "9  Linked Server (SQL Server)\\nA configuration th...   \n",
       "\n",
       "                               hash         age  subject_mean_age  \\\n",
       "0  c778949e7f683ddbc9ae9910ad5c565c -887.696633        108.932048   \n",
       "1  fc5054fcf13b3189012cf676692c4f29 -767.868025        282.585170   \n",
       "2  9e291c2452d2e6788d57e9973c39d8f9 -704.364977        269.044795   \n",
       "3  92931a76329cd1bec63d78a358648c4d -696.206643        177.432990   \n",
       "4  d53f8f76d58dd27e3ded74f30a190cb4 -695.834487        120.767633   \n",
       "5  143745e569af1c6a779118128bf12b60 -674.751593        193.618752   \n",
       "6  a9bef1ae5a68637d2ee73d72c0aa7e47 -599.238946        158.405129   \n",
       "7  22f41dbaa7f06bfee2174c4754c8f951 -506.604597        157.909879   \n",
       "8  728b4872797d6311a0966fa924d6341d -498.771240        136.581408   \n",
       "9  fa3ffa381d1fcef8e1ca182752dc366d -483.956776        170.077231   \n",
       "\n",
       "   subject_highest_age  subject_age_sum  head_random_roll  count  n_fold  \n",
       "0          -887.696633      8060.971563          0.547497      0       0  \n",
       "1          -767.868025      3108.436873          0.059255      0       0  \n",
       "2          -704.364977      2421.403153          0.878320      0       0  \n",
       "3          -696.206643      5322.989686          0.195942      0       0  \n",
       "4          -695.834487      5917.614005          0.532283      0       0  \n",
       "5          -674.751593      7357.512573          0.590890      0       0  \n",
       "6          -599.238946      1900.861552          0.493097      0       0  \n",
       "7          -506.604597      2210.738309          0.395545      0       0  \n",
       "8          -498.771240      1638.976894          0.270600      0       0  \n",
       "9          -483.956776      2381.081230          0.099221      0       0  "
      ]
     },
     "execution_count": 17,
     "metadata": {},
     "output_type": "execute_result"
    }
   ],
   "source": [
    "existing_cards.head(10)"
   ]
  },
  {
   "cell_type": "code",
   "execution_count": 18,
   "metadata": {},
   "outputs": [
    {
     "data": {
      "text/plain": [
       "-129.10504046688982"
      ]
     },
     "execution_count": 18,
     "metadata": {},
     "output_type": "execute_result"
    }
   ],
   "source": [
    "existing_cards['age'].mean()"
   ]
  }
 ],
 "metadata": {
  "kernelspec": {
   "display_name": "Python 3",
   "language": "python",
   "name": "python3"
  },
  "language_info": {
   "codemirror_mode": {
    "name": "ipython",
    "version": 3
   },
   "file_extension": ".py",
   "mimetype": "text/x-python",
   "name": "python",
   "nbconvert_exporter": "python",
   "pygments_lexer": "ipython3",
   "version": "3.10.10"
  }
 },
 "nbformat": 4,
 "nbformat_minor": 2
}
