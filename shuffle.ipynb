{
 "cells": [
  {
   "cell_type": "code",
   "execution_count": 55,
   "metadata": {},
   "outputs": [],
   "source": [
    "import re\n",
    "import random\n",
    "import pandas as pd\n",
    "import hashlib"
   ]
  },
  {
   "cell_type": "code",
   "execution_count": null,
   "metadata": {},
   "outputs": [],
   "source": [
    "with open('certcards2.txt', mode='r', encoding='utf8') as f:\n",
    "    all_cards = f.read()\n",
    "    \n",
    "card_split_pattern = r'\\n\\n\\n\\d+\\n'\n",
    "all_cards = re.split(card_split_pattern, all_cards)\n",
    "# Use re.DOTALL to allow . to match newline characters\n",
    "card_pattern = re.compile(r'(.+?)\\n([\\s\\S]+)', re.DOTALL)\n",
    "cards = [(match.group(1), match.group(2)) for cstring in all_cards if (match := re.search(card_pattern, cstring))]\n",
    "\n",
    "# removing the cards that have no content and trimming\n",
    "cards = [(subject, stripped_content) for subject, content in cards if len(stripped_content := content.strip()) > 5]\n",
    "\n",
    "def hash_string_md5(s):\n",
    "    \"\"\"\n",
    "    Hashes a string using MD5 and returns a truncated hash for efficiency.\n",
    "\n",
    "    Parameters:\n",
    "    - s (str): The input string to hash.\n",
    "\n",
    "    Returns:\n",
    "    - str: The truncated hexadecimal hash string.\n",
    "    \"\"\"\n",
    "    if pd.isnull(s):\n",
    "        return None  # Handle NaN values gracefully\n",
    "    return hashlib.md5(s.encode('utf-8')).hexdigest()  # Truncate to first 12 characters\n",
    "\n",
    "\n",
    "def remake_card_document(existing_cards: pd.DataFrame, filename: str='certcards2.txt'):\n",
    "    with open(filename, mode='w', encoding='utf8') as f:\n",
    "        i = 1\n",
    "        for _, row in existing_cards.iterrows():\n",
    "            f.write('\\n'*6)\n",
    "            f.write(str(i)+'\\n')  \n",
    "            f.write(row['head']+'\\n')\n",
    "            f.write(row['body'])\n",
    "            i+=1\n",
    "    print(F\"Cards found: {existing_cards.shape[0]}\")\n",
    "\n",
    "\n",
    "existing_cards = pd.DataFrame(cards, columns=['head', 'body'])\n",
    "\n",
    "\n",
    "# existing_cards['age'] = [random.random() for _ in existing_cards.index]\n",
    "existing_cards['hash'] = existing_cards['body'].apply(hash_string_md5)\n",
    "existing_cards\n",
    "\n",
    "card_ages = pd.read_json('card_ages.json')\n",
    "card_ages = card_ages.drop_duplicates(subset=['hash'], keep='first')\n",
    "\n",
    "cards_to_age = pd.merge(\n",
    "    left=existing_cards,\n",
    "    right=card_ages[['hash', 'age']],\n",
    "    left_on='hash', right_on='hash',\n",
    "    how='left'\n",
    ")\n",
    "\n",
    "cards_to_age['head'] = cards_to_age['head'].str.strip()\n",
    "\n",
    "if cards_to_age['age'].sum() > 2e4: age_factor = 1\n",
    "else: age_factor = 1.00\n",
    "\n",
    "cards_to_age['age'] = cards_to_age['age'].fillna(0)\n",
    "cards_to_age['age'] = cards_to_age['age'] * age_factor\n",
    "cards_to_age['age'] = cards_to_age['age'] + [random.expovariate(.60) for _ in cards_to_age.index]\n",
    "# cards_to_age['age'] = cards_to_age['age'] * [random.expovariate(.5) for _ in cards_to_age.index]\n",
    "\n",
    "\n",
    "cards_to_age = cards_to_age.drop_duplicates(subset=['hash'], keep='first')\n",
    "\n",
    "cards_to_age['subject_mean_age'] = cards_to_age.groupby('head')['age'].transform('mean')\n",
    "cards_to_age['subject_highest_age'] = cards_to_age.groupby('head')['age'].transform('max')\n",
    "cards_to_age['subject_age_sum'] = cards_to_age.groupby('head')['age'].transform('sum')\n",
    "cards_to_age['head_random_roll'] = cards_to_age.groupby('head')['head'].transform(lambda x: random.random())\n",
    "\n",
    "\n",
    "cards_to_age.sort_values('age')[['age', 'head', 'hash']].to_json('card_ages.json', indent=2)\n",
    "\n",
    "existing_cards = cards_to_age"
   ]
  },
  {
   "cell_type": "code",
   "execution_count": 57,
   "metadata": {},
   "outputs": [
    {
     "data": {
      "application/vnd.microsoft.datawrangler.viewer.v0+json": {
       "columns": [
        {
         "name": "index",
         "rawType": "object",
         "type": "string"
        },
        {
         "name": "age_sum",
         "rawType": "float64",
         "type": "float"
        },
        {
         "name": "age_mean",
         "rawType": "float64",
         "type": "float"
        },
        {
         "name": "head_count",
         "rawType": "int64",
         "type": "integer"
        }
       ],
       "conversionMethod": "pd.DataFrame",
       "ref": "22bd3961-0b9b-495c-bedf-6f3024d620d0",
       "rows": [
        [
         "Powershell",
         "417.73518799317435",
         "83.54703759863487",
         "5"
        ],
        [
         "Todd Ideas",
         "722.5176868286568",
         "48.16784578857712",
         "15"
        ],
        [
         "PEP 8",
         "1286.7167503415844",
         "160.83959379269805",
         "8"
        ],
        [
         "SharePoint",
         "1478.6379420298385",
         "123.21982850248655",
         "12"
        ],
        [
         "Terraform",
         "1658.8999444262129",
         "66.35599777704851",
         "25"
        ],
        [
         "Azure Functions + Visual Studio",
         "1749.849692785168",
         "124.98926377036913",
         "14"
        ],
        [
         "IW Migration",
         "1924.487428988453",
         "137.4633877848895",
         "14"
        ],
        [
         "FSLogix",
         "2036.4949420881346",
         "84.85395592033895",
         "24"
        ],
        [
         "Open Source/GitHub",
         "2044.3975963170458",
         "127.77484976981536",
         "16"
        ],
        [
         "Email Auth and Security",
         "2174.90114218156",
         "167.30008786012",
         "13"
        ],
        [
         "Azure Functions",
         "2717.1007530918428",
         "247.0091593719857",
         "11"
        ],
        [
         "DNS",
         "2854.406129552999",
         "178.40038309706244",
         "16"
        ],
        [
         "Azure AI Search",
         "3552.8249244175295",
         "253.7732088869664",
         "14"
        ],
        [
         "Audit Report Tracker (Sharepoint List)",
         "3581.7378509123764",
         "223.85861568202353",
         "16"
        ],
        [
         "Powershell Modules",
         "4307.8241831802825",
         "143.59413943934274",
         "30"
        ],
        [
         "Debugging in VS Code",
         "4347.169378559587",
         "189.00736428519943",
         "23"
        ],
        [
         "Azure Functions + PP365",
         "4805.974587136915",
         "192.2389834854766",
         "25"
        ],
        [
         "OData",
         "5070.49910928788",
         "338.03327395252535",
         "15"
        ],
        [
         "Home Network Project",
         "5205.299297428096",
         "273.9631209172682",
         "19"
        ],
        [
         "Vocab",
         "5518.02714755165",
         "83.60647193260075",
         "66"
        ],
        [
         "WSL + Kali Linux",
         "5674.625426971183",
         "257.93751940778105",
         "22"
        ],
        [
         "PnP Powershell",
         "6064.123671309699",
         "159.58220187657102",
         "38"
        ],
        [
         "JavaScript Concepts",
         "6130.855984121683",
         "100.50583580527349",
         "61"
        ],
        [
         "Logging in Python",
         "7648.567685287464",
         "127.4761280881244",
         "60"
        ]
       ],
       "shape": {
        "columns": 3,
        "rows": 24
       }
      },
      "text/html": [
       "<div>\n",
       "<style scoped>\n",
       "    .dataframe tbody tr th:only-of-type {\n",
       "        vertical-align: middle;\n",
       "    }\n",
       "\n",
       "    .dataframe tbody tr th {\n",
       "        vertical-align: top;\n",
       "    }\n",
       "\n",
       "    .dataframe thead th {\n",
       "        text-align: right;\n",
       "    }\n",
       "</style>\n",
       "<table border=\"1\" class=\"dataframe\">\n",
       "  <thead>\n",
       "    <tr style=\"text-align: right;\">\n",
       "      <th></th>\n",
       "      <th>age_sum</th>\n",
       "      <th>age_mean</th>\n",
       "      <th>head_count</th>\n",
       "    </tr>\n",
       "  </thead>\n",
       "  <tbody>\n",
       "    <tr>\n",
       "      <th>Powershell</th>\n",
       "      <td>417.735188</td>\n",
       "      <td>83.547038</td>\n",
       "      <td>5</td>\n",
       "    </tr>\n",
       "    <tr>\n",
       "      <th>Todd Ideas</th>\n",
       "      <td>722.517687</td>\n",
       "      <td>48.167846</td>\n",
       "      <td>15</td>\n",
       "    </tr>\n",
       "    <tr>\n",
       "      <th>PEP 8</th>\n",
       "      <td>1286.716750</td>\n",
       "      <td>160.839594</td>\n",
       "      <td>8</td>\n",
       "    </tr>\n",
       "    <tr>\n",
       "      <th>SharePoint</th>\n",
       "      <td>1478.637942</td>\n",
       "      <td>123.219829</td>\n",
       "      <td>12</td>\n",
       "    </tr>\n",
       "    <tr>\n",
       "      <th>Terraform</th>\n",
       "      <td>1658.899944</td>\n",
       "      <td>66.355998</td>\n",
       "      <td>25</td>\n",
       "    </tr>\n",
       "    <tr>\n",
       "      <th>Azure Functions + Visual Studio</th>\n",
       "      <td>1749.849693</td>\n",
       "      <td>124.989264</td>\n",
       "      <td>14</td>\n",
       "    </tr>\n",
       "    <tr>\n",
       "      <th>IW Migration</th>\n",
       "      <td>1924.487429</td>\n",
       "      <td>137.463388</td>\n",
       "      <td>14</td>\n",
       "    </tr>\n",
       "    <tr>\n",
       "      <th>FSLogix</th>\n",
       "      <td>2036.494942</td>\n",
       "      <td>84.853956</td>\n",
       "      <td>24</td>\n",
       "    </tr>\n",
       "    <tr>\n",
       "      <th>Open Source/GitHub</th>\n",
       "      <td>2044.397596</td>\n",
       "      <td>127.774850</td>\n",
       "      <td>16</td>\n",
       "    </tr>\n",
       "    <tr>\n",
       "      <th>Email Auth and Security</th>\n",
       "      <td>2174.901142</td>\n",
       "      <td>167.300088</td>\n",
       "      <td>13</td>\n",
       "    </tr>\n",
       "    <tr>\n",
       "      <th>Azure Functions</th>\n",
       "      <td>2717.100753</td>\n",
       "      <td>247.009159</td>\n",
       "      <td>11</td>\n",
       "    </tr>\n",
       "    <tr>\n",
       "      <th>DNS</th>\n",
       "      <td>2854.406130</td>\n",
       "      <td>178.400383</td>\n",
       "      <td>16</td>\n",
       "    </tr>\n",
       "    <tr>\n",
       "      <th>Azure AI Search</th>\n",
       "      <td>3552.824924</td>\n",
       "      <td>253.773209</td>\n",
       "      <td>14</td>\n",
       "    </tr>\n",
       "    <tr>\n",
       "      <th>Audit Report Tracker (Sharepoint List)</th>\n",
       "      <td>3581.737851</td>\n",
       "      <td>223.858616</td>\n",
       "      <td>16</td>\n",
       "    </tr>\n",
       "    <tr>\n",
       "      <th>Powershell Modules</th>\n",
       "      <td>4307.824183</td>\n",
       "      <td>143.594139</td>\n",
       "      <td>30</td>\n",
       "    </tr>\n",
       "    <tr>\n",
       "      <th>Debugging in VS Code</th>\n",
       "      <td>4347.169379</td>\n",
       "      <td>189.007364</td>\n",
       "      <td>23</td>\n",
       "    </tr>\n",
       "    <tr>\n",
       "      <th>Azure Functions + PP365</th>\n",
       "      <td>4805.974587</td>\n",
       "      <td>192.238983</td>\n",
       "      <td>25</td>\n",
       "    </tr>\n",
       "    <tr>\n",
       "      <th>OData</th>\n",
       "      <td>5070.499109</td>\n",
       "      <td>338.033274</td>\n",
       "      <td>15</td>\n",
       "    </tr>\n",
       "    <tr>\n",
       "      <th>Home Network Project</th>\n",
       "      <td>5205.299297</td>\n",
       "      <td>273.963121</td>\n",
       "      <td>19</td>\n",
       "    </tr>\n",
       "    <tr>\n",
       "      <th>Vocab</th>\n",
       "      <td>5518.027148</td>\n",
       "      <td>83.606472</td>\n",
       "      <td>66</td>\n",
       "    </tr>\n",
       "    <tr>\n",
       "      <th>WSL + Kali Linux</th>\n",
       "      <td>5674.625427</td>\n",
       "      <td>257.937519</td>\n",
       "      <td>22</td>\n",
       "    </tr>\n",
       "    <tr>\n",
       "      <th>PnP Powershell</th>\n",
       "      <td>6064.123671</td>\n",
       "      <td>159.582202</td>\n",
       "      <td>38</td>\n",
       "    </tr>\n",
       "    <tr>\n",
       "      <th>JavaScript Concepts</th>\n",
       "      <td>6130.855984</td>\n",
       "      <td>100.505836</td>\n",
       "      <td>61</td>\n",
       "    </tr>\n",
       "    <tr>\n",
       "      <th>Logging in Python</th>\n",
       "      <td>7648.567685</td>\n",
       "      <td>127.476128</td>\n",
       "      <td>60</td>\n",
       "    </tr>\n",
       "  </tbody>\n",
       "</table>\n",
       "</div>"
      ],
      "text/plain": [
       "                                            age_sum    age_mean  head_count\n",
       "Powershell                               417.735188   83.547038           5\n",
       "Todd Ideas                               722.517687   48.167846          15\n",
       "PEP 8                                   1286.716750  160.839594           8\n",
       "SharePoint                              1478.637942  123.219829          12\n",
       "Terraform                               1658.899944   66.355998          25\n",
       "Azure Functions + Visual Studio         1749.849693  124.989264          14\n",
       "IW Migration                            1924.487429  137.463388          14\n",
       "FSLogix                                 2036.494942   84.853956          24\n",
       "Open Source/GitHub                      2044.397596  127.774850          16\n",
       "Email Auth and Security                 2174.901142  167.300088          13\n",
       "Azure Functions                         2717.100753  247.009159          11\n",
       "DNS                                     2854.406130  178.400383          16\n",
       "Azure AI Search                         3552.824924  253.773209          14\n",
       "Audit Report Tracker (Sharepoint List)  3581.737851  223.858616          16\n",
       "Powershell Modules                      4307.824183  143.594139          30\n",
       "Debugging in VS Code                    4347.169379  189.007364          23\n",
       "Azure Functions + PP365                 4805.974587  192.238983          25\n",
       "OData                                   5070.499109  338.033274          15\n",
       "Home Network Project                    5205.299297  273.963121          19\n",
       "Vocab                                   5518.027148   83.606472          66\n",
       "WSL + Kali Linux                        5674.625427  257.937519          22\n",
       "PnP Powershell                          6064.123671  159.582202          38\n",
       "JavaScript Concepts                     6130.855984  100.505836          61\n",
       "Logging in Python                       7648.567685  127.476128          60"
      ]
     },
     "execution_count": 57,
     "metadata": {},
     "output_type": "execute_result"
    }
   ],
   "source": [
    "stats = existing_cards.groupby('head').agg({'age': ['sum', 'mean'], 'head': 'count'}).sort_values(('age', 'sum'))\n",
    "stats.columns = stats.columns.to_flat_index()\n",
    "stats.columns = ['_'.join(col).strip() for col in stats.columns]\n",
    "stats.index.name = None\n",
    "stats"
   ]
  },
  {
   "cell_type": "markdown",
   "metadata": {},
   "source": [
    "# Histogram"
   ]
  },
  {
   "cell_type": "code",
   "execution_count": 58,
   "metadata": {},
   "outputs": [
    {
     "name": "stdout",
     "output_type": "stream",
     "text": [
      "82973.67\n"
     ]
    },
    {
     "data": {
      "text/plain": [
       "<Axes: >"
      ]
     },
     "execution_count": 58,
     "metadata": {},
     "output_type": "execute_result"
    },
    {
     "data": {
      "image/png": "[encoded data removed]",
      "text/plain": [
       "<Figure size 640x480 with 1 Axes>"
      ]
     },
     "metadata": {},
     "output_type": "display_data"
    }
   ],
   "source": [
    "print(f\"{existing_cards['age'].sum(0):.2f}\")\n",
    "existing_cards['age'].hist(bins=20)"
   ]
  },
  {
   "cell_type": "markdown",
   "metadata": {},
   "source": [
    "# Completely Random Shuffle"
   ]
  },
  {
   "cell_type": "code",
   "execution_count": 59,
   "metadata": {},
   "outputs": [],
   "source": [
    "# existing_cards = existing_cards.sample(frac=1)\n",
    "# remake_card_document(filename='certcards2.txt', existing_cards = existing_cards)"
   ]
  },
  {
   "cell_type": "markdown",
   "metadata": {},
   "source": [
    "# Age Sort"
   ]
  },
  {
   "cell_type": "code",
   "execution_count": 60,
   "metadata": {},
   "outputs": [],
   "source": [
    "# existing_cards = existing_cards.sort_values('age', ascending=False)\n",
    "# remake_card_document(filename='certcards2.txt', existing_cards=existing_cards)\n",
    "# existing_cards.head(10)"
   ]
  },
  {
   "cell_type": "markdown",
   "metadata": {},
   "source": [
    "# Headers with fewest notes first"
   ]
  },
  {
   "cell_type": "code",
   "execution_count": 61,
   "metadata": {},
   "outputs": [],
   "source": [
    "# frequency = existing_cards['head'].value_counts(ascending=True)\n",
    "\n",
    "# existing_cards = pd.merge(\n",
    "#     left=existing_cards,\n",
    "#     right=frequency.rename('frequency'),\n",
    "#     left_on='head', right_index=True,\n",
    "#     how='left'\n",
    "# )\n",
    "# existing_cards['oldest'] = existing_cards.groupby('head')['age'].transform('max')\n",
    "# existing_cards['subject_highest_age'] = existing_cards['subject_highest_age'] * -1\n",
    "# existing_cards['age'] = existing_cards['age'] * -1\n",
    "\n",
    "\n",
    "# existing_cards.sort_values(['frequency', 'subject_highest_age', 'age'], ascending=True, inplace=True)\n",
    "\n",
    "# remake_card_document(filename='certcards2.txt', existing_cards=existing_cards)\n",
    "\n",
    "# existing_cards.head(10)"
   ]
  },
  {
   "cell_type": "markdown",
   "metadata": {},
   "source": [
    "# Focus on one header"
   ]
  },
  {
   "cell_type": "code",
   "execution_count": 62,
   "metadata": {},
   "outputs": [],
   "source": [
    "# heads = existing_cards['head'].value_counts()\n",
    "# heads = heads[heads > 5].index.tolist()\n",
    "# one_header = random.sample(heads, 1)[0]\n",
    "# existing_cards['pick_head'] = existing_cards['head'].apply(\n",
    "#     lambda h: 0 if h == one_header else 1 \n",
    "# )\n",
    "\n",
    "# remake_card_document(existing_cards=existing_cards.sort_values('pick_head'))"
   ]
  },
  {
   "cell_type": "markdown",
   "metadata": {},
   "source": [
    "## Header with oldest cards first"
   ]
  },
  {
   "cell_type": "code",
   "execution_count": 63,
   "metadata": {},
   "outputs": [],
   "source": [
    "# existing_cards['oldest'] = existing_cards.groupby('head')['age'].transform('max')\n",
    "# existing_cards.sort_values(['oldest', 'age'], ascending=False, inplace=True)\n",
    "# remake_card_document(existing_cards)"
   ]
  },
  {
   "cell_type": "markdown",
   "metadata": {},
   "source": [
    "## Headers with greatest mean card age first"
   ]
  },
  {
   "cell_type": "code",
   "execution_count": 64,
   "metadata": {},
   "outputs": [],
   "source": [
    "# existing_cards.sort_values(['subject_mean_age', 'age'], ascending=False, inplace=True)\n",
    "# remake_card_document(existing_cards)"
   ]
  },
  {
   "cell_type": "markdown",
   "metadata": {},
   "source": [
    "## Headers with greatest age sum first"
   ]
  },
  {
   "cell_type": "code",
   "execution_count": 65,
   "metadata": {},
   "outputs": [],
   "source": [
    "# existing_cards.sort_values(['subject_age_sum', 'age'], ascending=False, inplace=True)\n",
    "# remake_card_document(existing_cards)"
   ]
  },
  {
   "cell_type": "markdown",
   "metadata": {},
   "source": [
    "# N-fold shuffle\n"
   ]
  },
  {
   "cell_type": "markdown",
   "metadata": {},
   "source": [
    "## Age Sum"
   ]
  },
  {
   "cell_type": "code",
   "execution_count": 66,
   "metadata": {},
   "outputs": [],
   "source": [
    "# n=10\n",
    "# existing_cards['count'] = existing_cards.sort_values('age', ascending=False).groupby('head').cumcount()\n",
    "# existing_cards['n_fold'] = existing_cards['count'] // n\n",
    "\n",
    "# existing_cards['subject_age_sum'] = existing_cards['subject_age_sum'] *-1\n",
    "# existing_cards['age'] = existing_cards['age'] *-1\n",
    "# existing_cards.sort_values(['n_fold', 'subject_age_sum', 'age'], inplace=True)\n",
    "\n",
    "# remake_card_document(existing_cards=existing_cards)\n",
    "# existing_cards.head(10)\n"
   ]
  },
  {
   "cell_type": "markdown",
   "metadata": {},
   "source": [
    "## Age Mean"
   ]
  },
  {
   "cell_type": "code",
   "execution_count": 67,
   "metadata": {},
   "outputs": [],
   "source": [
    "# n=3\n",
    "# existing_cards['count'] = existing_cards.sort_values('age', ascending=False).groupby('head').cumcount()\n",
    "# existing_cards['n_fold'] = existing_cards['count'] % n\n",
    "\n",
    "# existing_cards['subject_mean_age'] = existing_cards['subject_mean_age'] *-1\n",
    "# existing_cards['age'] = existing_cards['age'] *-1\n",
    "# existing_cards.sort_values(['n_fold', 'subject_mean_age', 'age'], inplace=True)\n",
    "# remake_card_document(existing_cards=existing_cards)\n",
    "\n",
    "# existing_cards.head(10)\n",
    "\n"
   ]
  },
  {
   "cell_type": "markdown",
   "metadata": {},
   "source": [
    "## Age Max"
   ]
  },
  {
   "cell_type": "code",
   "execution_count": 68,
   "metadata": {},
   "outputs": [],
   "source": [
    "# n = 5\n",
    "# existing_cards['count'] = existing_cards.sort_values('age', ascending=False).groupby('head').cumcount()\n",
    "# existing_cards['n_fold'] = existing_cards['count'] // n\n",
    "\n",
    "# existing_cards['subject_highest_age'] = existing_cards['subject_highest_age'] *-1\n",
    "# existing_cards['age'] = existing_cards['age'] *-1\n",
    "# existing_cards.sort_values(['n_fold', 'subject_highest_age', 'age'], inplace=True)\n",
    "\n",
    "# remake_card_document(existing_cards=existing_cards)\n",
    "# existing_cards.head(10)\n"
   ]
  },
  {
   "cell_type": "markdown",
   "metadata": {},
   "source": [
    "## Card Count"
   ]
  },
  {
   "cell_type": "code",
   "execution_count": 69,
   "metadata": {},
   "outputs": [
    {
     "name": "stdout",
     "output_type": "stream",
     "text": [
      "Cards found: 562\n"
     ]
    },
    {
     "data": {
      "application/vnd.microsoft.datawrangler.viewer.v0+json": {
       "columns": [
        {
         "name": "index",
         "rawType": "int64",
         "type": "integer"
        },
        {
         "name": "head",
         "rawType": "object",
         "type": "string"
        },
        {
         "name": "body",
         "rawType": "object",
         "type": "string"
        },
        {
         "name": "hash",
         "rawType": "object",
         "type": "string"
        },
        {
         "name": "age",
         "rawType": "float64",
         "type": "float"
        },
        {
         "name": "subject_mean_age",
         "rawType": "float64",
         "type": "float"
        },
        {
         "name": "subject_highest_age",
         "rawType": "float64",
         "type": "float"
        },
        {
         "name": "subject_age_sum",
         "rawType": "float64",
         "type": "float"
        },
        {
         "name": "head_random_roll",
         "rawType": "float64",
         "type": "float"
        },
        {
         "name": "frequency",
         "rawType": "int64",
         "type": "integer"
        },
        {
         "name": "count",
         "rawType": "int64",
         "type": "integer"
        },
        {
         "name": "n_fold",
         "rawType": "int64",
         "type": "integer"
        }
       ],
       "conversionMethod": "pd.DataFrame",
       "ref": "6cf71bad-cafd-4268-9d7b-6e69a980083b",
       "rows": [
        [
         "106",
         "Powershell",
         "error during connect\nIndicates the Docker CLI failed to connect to the Docker daemon, often due to the service not running or incorrect configuration.\n\n//./pipe/dockerDesktopLinuxEngine\nRefers to the Windows named pipe used for communicating with Docker Desktop's Linux container engine. Errors suggest the service isn’t available.",
         "fa14e849210808f8bf87d29005622d6d",
         "-233.08301925853405",
         "-83.54703759863487",
         "233.08301925853405",
         "417.73518799317435",
         "0.47695489870823415",
         "5",
         "0",
         "0"
        ],
        [
         "110",
         "Powershell",
         "NUL\nA virtual file in Windows that discards written data. Commonly used in Command Prompt, NOT POWERSHELL to create empty files (e.g., copy NUL filename).",
         "eb95bc3e9d7175749fa85f045565d15f",
         "-98.99750009285778",
         "-83.54703759863487",
         "233.08301925853405",
         "417.73518799317435",
         "0.47695489870823415",
         "5",
         "1",
         "0"
        ],
        [
         "108",
         "Powershell",
         "Get-Service\nDisplays the status of Windows services. Useful for checking if a service (e.g., Docker Desktop) is running, stopped, or paused.",
         "61dbfe3e3fd4becf9c271f621539b52a",
         "-66.85028265095069",
         "-83.54703759863487",
         "233.08301925853405",
         "417.73518799317435",
         "0.47695489870823415",
         "5",
         "2",
         "0"
        ],
        [
         "109",
         "Powershell",
         "-Force\nOverrides warnings or confirmation prompts, ensuring the command proceeds without manual intervention. Common in scripting for reliability.",
         "6d7a53df80e0774571798b7e4c583afe",
         "-14.810752371649313",
         "-83.54703759863487",
         "233.08301925853405",
         "417.73518799317435",
         "0.47695489870823415",
         "5",
         "3",
         "0"
        ],
        [
         "107",
         "Powershell",
         "az\nThe Azure CLI command-line tool for managing Azure resources like VMs, storage, and networks. It's cross-platform and integrates with scripting tools like PowerShell.",
         "9376de9d5b22a60393b68271da0c480e",
         "-3.993633619182493",
         "-83.54703759863487",
         "233.08301925853405",
         "417.73518799317435",
         "0.47695489870823415",
         "5",
         "4",
         "0"
        ],
        [
         "53",
         "PEP 8",
         "Use Parentheses for Multi-Line Imports: When importing multiple objects from a module, enclose them within parentheses and list each on a separate line. This enhances readability and adheres to line length restrictions without using backslashes.",
         "b2d69c860e3a1150436c552d740b2aa6",
         "-572.2913806548883",
         "-160.83959379269805",
         "572.2913806548883",
         "1286.7167503415844",
         "0.14292624560179545",
         "8",
         "0",
         "0"
        ],
        [
         "51",
         "PEP 8",
         "One Import Per Line: Place each import statement on its own line to improve clarity and simplify version control diffs. Avoid combining multiple imports in a single line, which can make the code harder to read and maintain.",
         "510a6ed6e688465b274d1e07eb0ae246",
         "-187.43212506052478",
         "-160.83959379269805",
         "572.2913806548883",
         "1286.7167503415844",
         "0.14292624560179545",
         "8",
         "1",
         "0"
        ],
        [
         "52",
         "PEP 8",
         "Prevent Circular Imports: Avoid scenarios where two modules depend on each other directly or indirectly. Refactor by combining modules, extracting common functionality, or using local imports within functions to defer the import until necessary.",
         "83d6663484104f7621d02d4be77e3d89",
         "-121.03136454990236",
         "-160.83959379269805",
         "572.2913806548883",
         "1286.7167503415844",
         "0.14292624560179545",
         "8",
         "2",
         "0"
        ],
        [
         "172",
         "PEP 8",
         "Spaces Around Assignment Operators: Use spaces around assignment operators (=) to differentiate them from keyword arguments and enhance clarity in variable assignments.\n\npython\nCopy code\ntotal = 100",
         "8f3054071b8a4967c311ba46c8feea17",
         "-104.01488908434492",
         "-160.83959379269805",
         "572.2913806548883",
         "1286.7167503415844",
         "0.14292624560179545",
         "8",
         "3",
         "0"
        ],
        [
         "55",
         "PEP 8",
         "Prefer Absolute Imports: Use full paths for imports starting from the project's root rather than relative imports. Absolute imports are more readable, less error-prone, and clearly indicate the module's location within the project structure.",
         "03079d188b068f5ee4f7d0ee2596bb63",
         "-100.75293785605808",
         "-160.83959379269805",
         "572.2913806548883",
         "1286.7167503415844",
         "0.14292624560179545",
         "8",
         "4",
         "0"
        ]
       ],
       "shape": {
        "columns": 11,
        "rows": 10
       }
      },
      "text/html": [
       "<div>\n",
       "<style scoped>\n",
       "    .dataframe tbody tr th:only-of-type {\n",
       "        vertical-align: middle;\n",
       "    }\n",
       "\n",
       "    .dataframe tbody tr th {\n",
       "        vertical-align: top;\n",
       "    }\n",
       "\n",
       "    .dataframe thead th {\n",
       "        text-align: right;\n",
       "    }\n",
       "</style>\n",
       "<table border=\"1\" class=\"dataframe\">\n",
       "  <thead>\n",
       "    <tr style=\"text-align: right;\">\n",
       "      <th></th>\n",
       "      <th>head</th>\n",
       "      <th>body</th>\n",
       "      <th>hash</th>\n",
       "      <th>age</th>\n",
       "      <th>subject_mean_age</th>\n",
       "      <th>subject_highest_age</th>\n",
       "      <th>subject_age_sum</th>\n",
       "      <th>head_random_roll</th>\n",
       "      <th>frequency</th>\n",
       "      <th>count</th>\n",
       "      <th>n_fold</th>\n",
       "    </tr>\n",
       "  </thead>\n",
       "  <tbody>\n",
       "    <tr>\n",
       "      <th>106</th>\n",
       "      <td>Powershell</td>\n",
       "      <td>error during connect\\nIndicates the Docker CLI...</td>\n",
       "      <td>fa14e849210808f8bf87d29005622d6d</td>\n",
       "      <td>-233.083019</td>\n",
       "      <td>-83.547038</td>\n",
       "      <td>233.083019</td>\n",
       "      <td>417.735188</td>\n",
       "      <td>0.476955</td>\n",
       "      <td>5</td>\n",
       "      <td>0</td>\n",
       "      <td>0</td>\n",
       "    </tr>\n",
       "    <tr>\n",
       "      <th>110</th>\n",
       "      <td>Powershell</td>\n",
       "      <td>NUL\\nA virtual file in Windows that discards w...</td>\n",
       "      <td>eb95bc3e9d7175749fa85f045565d15f</td>\n",
       "      <td>-98.997500</td>\n",
       "      <td>-83.547038</td>\n",
       "      <td>233.083019</td>\n",
       "      <td>417.735188</td>\n",
       "      <td>0.476955</td>\n",
       "      <td>5</td>\n",
       "      <td>1</td>\n",
       "      <td>0</td>\n",
       "    </tr>\n",
       "    <tr>\n",
       "      <th>108</th>\n",
       "      <td>Powershell</td>\n",
       "      <td>Get-Service\\nDisplays the status of Windows se...</td>\n",
       "      <td>61dbfe3e3fd4becf9c271f621539b52a</td>\n",
       "      <td>-66.850283</td>\n",
       "      <td>-83.547038</td>\n",
       "      <td>233.083019</td>\n",
       "      <td>417.735188</td>\n",
       "      <td>0.476955</td>\n",
       "      <td>5</td>\n",
       "      <td>2</td>\n",
       "      <td>0</td>\n",
       "    </tr>\n",
       "    <tr>\n",
       "      <th>109</th>\n",
       "      <td>Powershell</td>\n",
       "      <td>-Force\\nOverrides warnings or confirmation pro...</td>\n",
       "      <td>6d7a53df80e0774571798b7e4c583afe</td>\n",
       "      <td>-14.810752</td>\n",
       "      <td>-83.547038</td>\n",
       "      <td>233.083019</td>\n",
       "      <td>417.735188</td>\n",
       "      <td>0.476955</td>\n",
       "      <td>5</td>\n",
       "      <td>3</td>\n",
       "      <td>0</td>\n",
       "    </tr>\n",
       "    <tr>\n",
       "      <th>107</th>\n",
       "      <td>Powershell</td>\n",
       "      <td>az\\nThe Azure CLI command-line tool for managi...</td>\n",
       "      <td>9376de9d5b22a60393b68271da0c480e</td>\n",
       "      <td>-3.993634</td>\n",
       "      <td>-83.547038</td>\n",
       "      <td>233.083019</td>\n",
       "      <td>417.735188</td>\n",
       "      <td>0.476955</td>\n",
       "      <td>5</td>\n",
       "      <td>4</td>\n",
       "      <td>0</td>\n",
       "    </tr>\n",
       "    <tr>\n",
       "      <th>53</th>\n",
       "      <td>PEP 8</td>\n",
       "      <td>Use Parentheses for Multi-Line Imports: When i...</td>\n",
       "      <td>b2d69c860e3a1150436c552d740b2aa6</td>\n",
       "      <td>-572.291381</td>\n",
       "      <td>-160.839594</td>\n",
       "      <td>572.291381</td>\n",
       "      <td>1286.716750</td>\n",
       "      <td>0.142926</td>\n",
       "      <td>8</td>\n",
       "      <td>0</td>\n",
       "      <td>0</td>\n",
       "    </tr>\n",
       "    <tr>\n",
       "      <th>51</th>\n",
       "      <td>PEP 8</td>\n",
       "      <td>One Import Per Line: Place each import stateme...</td>\n",
       "      <td>510a6ed6e688465b274d1e07eb0ae246</td>\n",
       "      <td>-187.432125</td>\n",
       "      <td>-160.839594</td>\n",
       "      <td>572.291381</td>\n",
       "      <td>1286.716750</td>\n",
       "      <td>0.142926</td>\n",
       "      <td>8</td>\n",
       "      <td>1</td>\n",
       "      <td>0</td>\n",
       "    </tr>\n",
       "    <tr>\n",
       "      <th>52</th>\n",
       "      <td>PEP 8</td>\n",
       "      <td>Prevent Circular Imports: Avoid scenarios wher...</td>\n",
       "      <td>83d6663484104f7621d02d4be77e3d89</td>\n",
       "      <td>-121.031365</td>\n",
       "      <td>-160.839594</td>\n",
       "      <td>572.291381</td>\n",
       "      <td>1286.716750</td>\n",
       "      <td>0.142926</td>\n",
       "      <td>8</td>\n",
       "      <td>2</td>\n",
       "      <td>0</td>\n",
       "    </tr>\n",
       "    <tr>\n",
       "      <th>172</th>\n",
       "      <td>PEP 8</td>\n",
       "      <td>Spaces Around Assignment Operators: Use spaces...</td>\n",
       "      <td>8f3054071b8a4967c311ba46c8feea17</td>\n",
       "      <td>-104.014889</td>\n",
       "      <td>-160.839594</td>\n",
       "      <td>572.291381</td>\n",
       "      <td>1286.716750</td>\n",
       "      <td>0.142926</td>\n",
       "      <td>8</td>\n",
       "      <td>3</td>\n",
       "      <td>0</td>\n",
       "    </tr>\n",
       "    <tr>\n",
       "      <th>55</th>\n",
       "      <td>PEP 8</td>\n",
       "      <td>Prefer Absolute Imports: Use full paths for im...</td>\n",
       "      <td>03079d188b068f5ee4f7d0ee2596bb63</td>\n",
       "      <td>-100.752938</td>\n",
       "      <td>-160.839594</td>\n",
       "      <td>572.291381</td>\n",
       "      <td>1286.716750</td>\n",
       "      <td>0.142926</td>\n",
       "      <td>8</td>\n",
       "      <td>4</td>\n",
       "      <td>0</td>\n",
       "    </tr>\n",
       "  </tbody>\n",
       "</table>\n",
       "</div>"
      ],
      "text/plain": [
       "           head                                               body  \\\n",
       "106  Powershell  error during connect\\nIndicates the Docker CLI...   \n",
       "110  Powershell  NUL\\nA virtual file in Windows that discards w...   \n",
       "108  Powershell  Get-Service\\nDisplays the status of Windows se...   \n",
       "109  Powershell  -Force\\nOverrides warnings or confirmation pro...   \n",
       "107  Powershell  az\\nThe Azure CLI command-line tool for managi...   \n",
       "53        PEP 8  Use Parentheses for Multi-Line Imports: When i...   \n",
       "51        PEP 8  One Import Per Line: Place each import stateme...   \n",
       "52        PEP 8  Prevent Circular Imports: Avoid scenarios wher...   \n",
       "172       PEP 8  Spaces Around Assignment Operators: Use spaces...   \n",
       "55        PEP 8  Prefer Absolute Imports: Use full paths for im...   \n",
       "\n",
       "                                 hash         age  subject_mean_age  \\\n",
       "106  fa14e849210808f8bf87d29005622d6d -233.083019        -83.547038   \n",
       "110  eb95bc3e9d7175749fa85f045565d15f  -98.997500        -83.547038   \n",
       "108  61dbfe3e3fd4becf9c271f621539b52a  -66.850283        -83.547038   \n",
       "109  6d7a53df80e0774571798b7e4c583afe  -14.810752        -83.547038   \n",
       "107  9376de9d5b22a60393b68271da0c480e   -3.993634        -83.547038   \n",
       "53   b2d69c860e3a1150436c552d740b2aa6 -572.291381       -160.839594   \n",
       "51   510a6ed6e688465b274d1e07eb0ae246 -187.432125       -160.839594   \n",
       "52   83d6663484104f7621d02d4be77e3d89 -121.031365       -160.839594   \n",
       "172  8f3054071b8a4967c311ba46c8feea17 -104.014889       -160.839594   \n",
       "55   03079d188b068f5ee4f7d0ee2596bb63 -100.752938       -160.839594   \n",
       "\n",
       "     subject_highest_age  subject_age_sum  head_random_roll  frequency  count  \\\n",
       "106           233.083019       417.735188          0.476955          5      0   \n",
       "110           233.083019       417.735188          0.476955          5      1   \n",
       "108           233.083019       417.735188          0.476955          5      2   \n",
       "109           233.083019       417.735188          0.476955          5      3   \n",
       "107           233.083019       417.735188          0.476955          5      4   \n",
       "53            572.291381      1286.716750          0.142926          8      0   \n",
       "51            572.291381      1286.716750          0.142926          8      1   \n",
       "52            572.291381      1286.716750          0.142926          8      2   \n",
       "172           572.291381      1286.716750          0.142926          8      3   \n",
       "55            572.291381      1286.716750          0.142926          8      4   \n",
       "\n",
       "     n_fold  \n",
       "106       0  \n",
       "110       0  \n",
       "108       0  \n",
       "109       0  \n",
       "107       0  \n",
       "53        0  \n",
       "51        0  \n",
       "52        0  \n",
       "172       0  \n",
       "55        0  "
      ]
     },
     "execution_count": 69,
     "metadata": {},
     "output_type": "execute_result"
    }
   ],
   "source": [
    "n=10\n",
    "existing_cards['frequency']  = existing_cards.groupby('head').transform('count')['body']\n",
    "existing_cards['count'] = existing_cards.sort_values('age', ascending=False).groupby('head').cumcount()\n",
    "existing_cards['n_fold'] = existing_cards['count'] // n\n",
    "\n",
    "existing_cards['subject_mean_age'] = existing_cards['subject_mean_age'] *-1\n",
    "existing_cards['age'] = existing_cards['age'] *-1\n",
    "existing_cards.sort_values(['n_fold', 'frequency', 'age'], inplace=True)\n",
    "remake_card_document(existing_cards=existing_cards)\n",
    "\n",
    "existing_cards.head(10)\n",
    "\n"
   ]
  },
  {
   "cell_type": "markdown",
   "metadata": {},
   "source": [
    "\n",
    "## Random"
   ]
  },
  {
   "cell_type": "code",
   "execution_count": 70,
   "metadata": {},
   "outputs": [],
   "source": [
    "# n = 3\n",
    "# existing_cards['count'] = existing_cards.sort_values('age', ascending=False).groupby('head').cumcount()\n",
    "# existing_cards['n_fold'] = existing_cards['count'] % n\n",
    "# existing_cards['age'] *= -1\n",
    "# existing_cards.sort_values(['n_fold', 'head_random_roll', 'age'], inplace=True)\n",
    "# remake_card_document(existing_cards=existing_cards)\n",
    "# existing_cards.head(10)"
   ]
  },
  {
   "cell_type": "code",
   "execution_count": 71,
   "metadata": {},
   "outputs": [
    {
     "data": {
      "application/vnd.microsoft.datawrangler.viewer.v0+json": {
       "columns": [
        {
         "name": "index",
         "rawType": "int64",
         "type": "integer"
        },
        {
         "name": "head",
         "rawType": "object",
         "type": "string"
        },
        {
         "name": "body",
         "rawType": "object",
         "type": "string"
        },
        {
         "name": "hash",
         "rawType": "object",
         "type": "string"
        },
        {
         "name": "age",
         "rawType": "float64",
         "type": "float"
        },
        {
         "name": "subject_mean_age",
         "rawType": "float64",
         "type": "float"
        },
        {
         "name": "subject_highest_age",
         "rawType": "float64",
         "type": "float"
        },
        {
         "name": "subject_age_sum",
         "rawType": "float64",
         "type": "float"
        },
        {
         "name": "head_random_roll",
         "rawType": "float64",
         "type": "float"
        },
        {
         "name": "frequency",
         "rawType": "int64",
         "type": "integer"
        },
        {
         "name": "count",
         "rawType": "int64",
         "type": "integer"
        },
        {
         "name": "n_fold",
         "rawType": "int64",
         "type": "integer"
        }
       ],
       "conversionMethod": "pd.DataFrame",
       "ref": "4f0d004d-22b7-4dde-93a6-3ba067e64825",
       "rows": [
        [
         "106",
         "Powershell",
         "error during connect\nIndicates the Docker CLI failed to connect to the Docker daemon, often due to the service not running or incorrect configuration.\n\n//./pipe/dockerDesktopLinuxEngine\nRefers to the Windows named pipe used for communicating with Docker Desktop's Linux container engine. Errors suggest the service isn’t available.",
         "fa14e849210808f8bf87d29005622d6d",
         "-233.08301925853405",
         "-83.54703759863487",
         "233.08301925853405",
         "417.73518799317435",
         "0.47695489870823415",
         "5",
         "0",
         "0"
        ],
        [
         "110",
         "Powershell",
         "NUL\nA virtual file in Windows that discards written data. Commonly used in Command Prompt, NOT POWERSHELL to create empty files (e.g., copy NUL filename).",
         "eb95bc3e9d7175749fa85f045565d15f",
         "-98.99750009285778",
         "-83.54703759863487",
         "233.08301925853405",
         "417.73518799317435",
         "0.47695489870823415",
         "5",
         "1",
         "0"
        ],
        [
         "108",
         "Powershell",
         "Get-Service\nDisplays the status of Windows services. Useful for checking if a service (e.g., Docker Desktop) is running, stopped, or paused.",
         "61dbfe3e3fd4becf9c271f621539b52a",
         "-66.85028265095069",
         "-83.54703759863487",
         "233.08301925853405",
         "417.73518799317435",
         "0.47695489870823415",
         "5",
         "2",
         "0"
        ],
        [
         "109",
         "Powershell",
         "-Force\nOverrides warnings or confirmation prompts, ensuring the command proceeds without manual intervention. Common in scripting for reliability.",
         "6d7a53df80e0774571798b7e4c583afe",
         "-14.810752371649313",
         "-83.54703759863487",
         "233.08301925853405",
         "417.73518799317435",
         "0.47695489870823415",
         "5",
         "3",
         "0"
        ],
        [
         "107",
         "Powershell",
         "az\nThe Azure CLI command-line tool for managing Azure resources like VMs, storage, and networks. It's cross-platform and integrates with scripting tools like PowerShell.",
         "9376de9d5b22a60393b68271da0c480e",
         "-3.993633619182493",
         "-83.54703759863487",
         "233.08301925853405",
         "417.73518799317435",
         "0.47695489870823415",
         "5",
         "4",
         "0"
        ],
        [
         "53",
         "PEP 8",
         "Use Parentheses for Multi-Line Imports: When importing multiple objects from a module, enclose them within parentheses and list each on a separate line. This enhances readability and adheres to line length restrictions without using backslashes.",
         "b2d69c860e3a1150436c552d740b2aa6",
         "-572.2913806548883",
         "-160.83959379269805",
         "572.2913806548883",
         "1286.7167503415844",
         "0.14292624560179545",
         "8",
         "0",
         "0"
        ],
        [
         "51",
         "PEP 8",
         "One Import Per Line: Place each import statement on its own line to improve clarity and simplify version control diffs. Avoid combining multiple imports in a single line, which can make the code harder to read and maintain.",
         "510a6ed6e688465b274d1e07eb0ae246",
         "-187.43212506052478",
         "-160.83959379269805",
         "572.2913806548883",
         "1286.7167503415844",
         "0.14292624560179545",
         "8",
         "1",
         "0"
        ],
        [
         "52",
         "PEP 8",
         "Prevent Circular Imports: Avoid scenarios where two modules depend on each other directly or indirectly. Refactor by combining modules, extracting common functionality, or using local imports within functions to defer the import until necessary.",
         "83d6663484104f7621d02d4be77e3d89",
         "-121.03136454990236",
         "-160.83959379269805",
         "572.2913806548883",
         "1286.7167503415844",
         "0.14292624560179545",
         "8",
         "2",
         "0"
        ],
        [
         "172",
         "PEP 8",
         "Spaces Around Assignment Operators: Use spaces around assignment operators (=) to differentiate them from keyword arguments and enhance clarity in variable assignments.\n\npython\nCopy code\ntotal = 100",
         "8f3054071b8a4967c311ba46c8feea17",
         "-104.01488908434492",
         "-160.83959379269805",
         "572.2913806548883",
         "1286.7167503415844",
         "0.14292624560179545",
         "8",
         "3",
         "0"
        ],
        [
         "55",
         "PEP 8",
         "Prefer Absolute Imports: Use full paths for imports starting from the project's root rather than relative imports. Absolute imports are more readable, less error-prone, and clearly indicate the module's location within the project structure.",
         "03079d188b068f5ee4f7d0ee2596bb63",
         "-100.75293785605808",
         "-160.83959379269805",
         "572.2913806548883",
         "1286.7167503415844",
         "0.14292624560179545",
         "8",
         "4",
         "0"
        ]
       ],
       "shape": {
        "columns": 11,
        "rows": 10
       }
      },
      "text/html": [
       "<div>\n",
       "<style scoped>\n",
       "    .dataframe tbody tr th:only-of-type {\n",
       "        vertical-align: middle;\n",
       "    }\n",
       "\n",
       "    .dataframe tbody tr th {\n",
       "        vertical-align: top;\n",
       "    }\n",
       "\n",
       "    .dataframe thead th {\n",
       "        text-align: right;\n",
       "    }\n",
       "</style>\n",
       "<table border=\"1\" class=\"dataframe\">\n",
       "  <thead>\n",
       "    <tr style=\"text-align: right;\">\n",
       "      <th></th>\n",
       "      <th>head</th>\n",
       "      <th>body</th>\n",
       "      <th>hash</th>\n",
       "      <th>age</th>\n",
       "      <th>subject_mean_age</th>\n",
       "      <th>subject_highest_age</th>\n",
       "      <th>subject_age_sum</th>\n",
       "      <th>head_random_roll</th>\n",
       "      <th>frequency</th>\n",
       "      <th>count</th>\n",
       "      <th>n_fold</th>\n",
       "    </tr>\n",
       "  </thead>\n",
       "  <tbody>\n",
       "    <tr>\n",
       "      <th>106</th>\n",
       "      <td>Powershell</td>\n",
       "      <td>error during connect\\nIndicates the Docker CLI...</td>\n",
       "      <td>fa14e849210808f8bf87d29005622d6d</td>\n",
       "      <td>-233.083019</td>\n",
       "      <td>-83.547038</td>\n",
       "      <td>233.083019</td>\n",
       "      <td>417.735188</td>\n",
       "      <td>0.476955</td>\n",
       "      <td>5</td>\n",
       "      <td>0</td>\n",
       "      <td>0</td>\n",
       "    </tr>\n",
       "    <tr>\n",
       "      <th>110</th>\n",
       "      <td>Powershell</td>\n",
       "      <td>NUL\\nA virtual file in Windows that discards w...</td>\n",
       "      <td>eb95bc3e9d7175749fa85f045565d15f</td>\n",
       "      <td>-98.997500</td>\n",
       "      <td>-83.547038</td>\n",
       "      <td>233.083019</td>\n",
       "      <td>417.735188</td>\n",
       "      <td>0.476955</td>\n",
       "      <td>5</td>\n",
       "      <td>1</td>\n",
       "      <td>0</td>\n",
       "    </tr>\n",
       "    <tr>\n",
       "      <th>108</th>\n",
       "      <td>Powershell</td>\n",
       "      <td>Get-Service\\nDisplays the status of Windows se...</td>\n",
       "      <td>61dbfe3e3fd4becf9c271f621539b52a</td>\n",
       "      <td>-66.850283</td>\n",
       "      <td>-83.547038</td>\n",
       "      <td>233.083019</td>\n",
       "      <td>417.735188</td>\n",
       "      <td>0.476955</td>\n",
       "      <td>5</td>\n",
       "      <td>2</td>\n",
       "      <td>0</td>\n",
       "    </tr>\n",
       "    <tr>\n",
       "      <th>109</th>\n",
       "      <td>Powershell</td>\n",
       "      <td>-Force\\nOverrides warnings or confirmation pro...</td>\n",
       "      <td>6d7a53df80e0774571798b7e4c583afe</td>\n",
       "      <td>-14.810752</td>\n",
       "      <td>-83.547038</td>\n",
       "      <td>233.083019</td>\n",
       "      <td>417.735188</td>\n",
       "      <td>0.476955</td>\n",
       "      <td>5</td>\n",
       "      <td>3</td>\n",
       "      <td>0</td>\n",
       "    </tr>\n",
       "    <tr>\n",
       "      <th>107</th>\n",
       "      <td>Powershell</td>\n",
       "      <td>az\\nThe Azure CLI command-line tool for managi...</td>\n",
       "      <td>9376de9d5b22a60393b68271da0c480e</td>\n",
       "      <td>-3.993634</td>\n",
       "      <td>-83.547038</td>\n",
       "      <td>233.083019</td>\n",
       "      <td>417.735188</td>\n",
       "      <td>0.476955</td>\n",
       "      <td>5</td>\n",
       "      <td>4</td>\n",
       "      <td>0</td>\n",
       "    </tr>\n",
       "    <tr>\n",
       "      <th>53</th>\n",
       "      <td>PEP 8</td>\n",
       "      <td>Use Parentheses for Multi-Line Imports: When i...</td>\n",
       "      <td>b2d69c860e3a1150436c552d740b2aa6</td>\n",
       "      <td>-572.291381</td>\n",
       "      <td>-160.839594</td>\n",
       "      <td>572.291381</td>\n",
       "      <td>1286.716750</td>\n",
       "      <td>0.142926</td>\n",
       "      <td>8</td>\n",
       "      <td>0</td>\n",
       "      <td>0</td>\n",
       "    </tr>\n",
       "    <tr>\n",
       "      <th>51</th>\n",
       "      <td>PEP 8</td>\n",
       "      <td>One Import Per Line: Place each import stateme...</td>\n",
       "      <td>510a6ed6e688465b274d1e07eb0ae246</td>\n",
       "      <td>-187.432125</td>\n",
       "      <td>-160.839594</td>\n",
       "      <td>572.291381</td>\n",
       "      <td>1286.716750</td>\n",
       "      <td>0.142926</td>\n",
       "      <td>8</td>\n",
       "      <td>1</td>\n",
       "      <td>0</td>\n",
       "    </tr>\n",
       "    <tr>\n",
       "      <th>52</th>\n",
       "      <td>PEP 8</td>\n",
       "      <td>Prevent Circular Imports: Avoid scenarios wher...</td>\n",
       "      <td>83d6663484104f7621d02d4be77e3d89</td>\n",
       "      <td>-121.031365</td>\n",
       "      <td>-160.839594</td>\n",
       "      <td>572.291381</td>\n",
       "      <td>1286.716750</td>\n",
       "      <td>0.142926</td>\n",
       "      <td>8</td>\n",
       "      <td>2</td>\n",
       "      <td>0</td>\n",
       "    </tr>\n",
       "    <tr>\n",
       "      <th>172</th>\n",
       "      <td>PEP 8</td>\n",
       "      <td>Spaces Around Assignment Operators: Use spaces...</td>\n",
       "      <td>8f3054071b8a4967c311ba46c8feea17</td>\n",
       "      <td>-104.014889</td>\n",
       "      <td>-160.839594</td>\n",
       "      <td>572.291381</td>\n",
       "      <td>1286.716750</td>\n",
       "      <td>0.142926</td>\n",
       "      <td>8</td>\n",
       "      <td>3</td>\n",
       "      <td>0</td>\n",
       "    </tr>\n",
       "    <tr>\n",
       "      <th>55</th>\n",
       "      <td>PEP 8</td>\n",
       "      <td>Prefer Absolute Imports: Use full paths for im...</td>\n",
       "      <td>03079d188b068f5ee4f7d0ee2596bb63</td>\n",
       "      <td>-100.752938</td>\n",
       "      <td>-160.839594</td>\n",
       "      <td>572.291381</td>\n",
       "      <td>1286.716750</td>\n",
       "      <td>0.142926</td>\n",
       "      <td>8</td>\n",
       "      <td>4</td>\n",
       "      <td>0</td>\n",
       "    </tr>\n",
       "  </tbody>\n",
       "</table>\n",
       "</div>"
      ],
      "text/plain": [
       "           head                                               body  \\\n",
       "106  Powershell  error during connect\\nIndicates the Docker CLI...   \n",
       "110  Powershell  NUL\\nA virtual file in Windows that discards w...   \n",
       "108  Powershell  Get-Service\\nDisplays the status of Windows se...   \n",
       "109  Powershell  -Force\\nOverrides warnings or confirmation pro...   \n",
       "107  Powershell  az\\nThe Azure CLI command-line tool for managi...   \n",
       "53        PEP 8  Use Parentheses for Multi-Line Imports: When i...   \n",
       "51        PEP 8  One Import Per Line: Place each import stateme...   \n",
       "52        PEP 8  Prevent Circular Imports: Avoid scenarios wher...   \n",
       "172       PEP 8  Spaces Around Assignment Operators: Use spaces...   \n",
       "55        PEP 8  Prefer Absolute Imports: Use full paths for im...   \n",
       "\n",
       "                                 hash         age  subject_mean_age  \\\n",
       "106  fa14e849210808f8bf87d29005622d6d -233.083019        -83.547038   \n",
       "110  eb95bc3e9d7175749fa85f045565d15f  -98.997500        -83.547038   \n",
       "108  61dbfe3e3fd4becf9c271f621539b52a  -66.850283        -83.547038   \n",
       "109  6d7a53df80e0774571798b7e4c583afe  -14.810752        -83.547038   \n",
       "107  9376de9d5b22a60393b68271da0c480e   -3.993634        -83.547038   \n",
       "53   b2d69c860e3a1150436c552d740b2aa6 -572.291381       -160.839594   \n",
       "51   510a6ed6e688465b274d1e07eb0ae246 -187.432125       -160.839594   \n",
       "52   83d6663484104f7621d02d4be77e3d89 -121.031365       -160.839594   \n",
       "172  8f3054071b8a4967c311ba46c8feea17 -104.014889       -160.839594   \n",
       "55   03079d188b068f5ee4f7d0ee2596bb63 -100.752938       -160.839594   \n",
       "\n",
       "     subject_highest_age  subject_age_sum  head_random_roll  frequency  count  \\\n",
       "106           233.083019       417.735188          0.476955          5      0   \n",
       "110           233.083019       417.735188          0.476955          5      1   \n",
       "108           233.083019       417.735188          0.476955          5      2   \n",
       "109           233.083019       417.735188          0.476955          5      3   \n",
       "107           233.083019       417.735188          0.476955          5      4   \n",
       "53            572.291381      1286.716750          0.142926          8      0   \n",
       "51            572.291381      1286.716750          0.142926          8      1   \n",
       "52            572.291381      1286.716750          0.142926          8      2   \n",
       "172           572.291381      1286.716750          0.142926          8      3   \n",
       "55            572.291381      1286.716750          0.142926          8      4   \n",
       "\n",
       "     n_fold  \n",
       "106       0  \n",
       "110       0  \n",
       "108       0  \n",
       "109       0  \n",
       "107       0  \n",
       "53        0  \n",
       "51        0  \n",
       "52        0  \n",
       "172       0  \n",
       "55        0  "
      ]
     },
     "execution_count": 71,
     "metadata": {},
     "output_type": "execute_result"
    }
   ],
   "source": [
    "existing_cards.head(10)"
   ]
  },
  {
   "cell_type": "code",
   "execution_count": 72,
   "metadata": {},
   "outputs": [
    {
     "data": {
      "text/plain": [
       "-147.63999011172422"
      ]
     },
     "execution_count": 72,
     "metadata": {},
     "output_type": "execute_result"
    }
   ],
   "source": [
    "existing_cards['age'].mean()"
   ]
  }
 ],
 "metadata": {
  "kernelspec": {
   "display_name": "Python 3",
   "language": "python",
   "name": "python3"
  },
  "language_info": {
   "codemirror_mode": {
    "name": "ipython",
    "version": 3
   },
   "file_extension": ".py",
   "mimetype": "text/x-python",
   "name": "python",
   "nbconvert_exporter": "python",
   "pygments_lexer": "ipython3",
   "version": "3.10.10"
  }
 },
 "nbformat": 4,
 "nbformat_minor": 2
}
