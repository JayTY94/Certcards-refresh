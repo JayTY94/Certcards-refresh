{
 "cells": [
  {
   "cell_type": "code",
   "execution_count": 21,
   "metadata": {},
   "outputs": [],
   "source": [
    "import re\n",
    "import random\n",
    "import pandas as pd\n",
    "import hashlib"
   ]
  },
  {
   "cell_type": "code",
   "execution_count": 22,
   "metadata": {},
   "outputs": [],
   "source": [
    "with open('certcards2.txt', mode='r', encoding='utf8') as f:\n",
    "    all_cards = f.read()\n",
    "    \n",
    "card_split_pattern = r'\\n\\n\\n\\d+\\n'\n",
    "all_cards = re.split(card_split_pattern, all_cards)\n",
    "# Use re.DOTALL to allow . to match newline characters\n",
    "card_pattern = re.compile(r'(.+?)\\n([\\s\\S]+)', re.DOTALL)\n",
    "cards = [(match.group(1), match.group(2)) for cstring in all_cards if (match := re.search(card_pattern, cstring))]\n",
    "\n",
    "# removing the cards that have no content and trimming\n",
    "cards = [(subject, stripped_content) for subject, content in cards if len(stripped_content := content.strip()) > 5]\n",
    "\n",
    "def hash_string_md5(s):\n",
    "    \"\"\"\n",
    "    Hashes a string using MD5 and returns a truncated hash for efficiency.\n",
    "\n",
    "    Parameters:\n",
    "    - s (str): The input string to hash.\n",
    "\n",
    "    Returns:\n",
    "    - str: The truncated hexadecimal hash string.\n",
    "    \"\"\"\n",
    "    if pd.isnull(s):\n",
    "        return None  # Handle NaN values gracefully\n",
    "    return hashlib.md5(s.encode('utf-8')).hexdigest()\n",
    "\n",
    "\n",
    "def remake_card_document(existing_cards: pd.DataFrame, filename: str='certcards2.txt'):\n",
    "    with open(filename, mode='w', encoding='utf8') as f:\n",
    "        i = 1\n",
    "        for _, row in existing_cards.iterrows():\n",
    "            f.write('\\n'*6)\n",
    "            f.write(str(i)+'\\n')  \n",
    "            f.write(row['head']+'\\n')\n",
    "            f.write(row['body'])\n",
    "            i+=1\n",
    "    print(F\"Cards found: {existing_cards.shape[0]}\")\n",
    "    print(F\"Total card age: {abs(existing_cards['age'].sum()):.2f}\")\n",
    "\n",
    "\n",
    "existing_cards = pd.DataFrame(cards, columns=['head', 'body'])\n",
    "\n",
    "\n",
    "# existing_cards['age'] = [random.random() for _ in existing_cards.index]\n",
    "existing_cards['hash'] = existing_cards['body'].apply(hash_string_md5)\n",
    "existing_cards\n",
    "\n",
    "card_ages = pd.read_json('card_ages.json')\n",
    "card_ages = card_ages.drop_duplicates(subset=['hash'], keep='first')\n",
    "\n",
    "cards_to_age = pd.merge(\n",
    "    left=existing_cards,\n",
    "    right=card_ages[['hash', 'age']],\n",
    "    left_on='hash', right_on='hash',\n",
    "    how='left'\n",
    ")\n",
    "\n",
    "cards_to_age['head'] = cards_to_age['head'].str.strip()\n",
    "\n",
    "# if cards_to_age['age'].mean() > 80: age_factor = .5\n",
    "# else: age_factor = 1\n",
    "\n",
    "cards_to_age['age'] = cards_to_age['age'].fillna(0)\n",
    "# cards_to_age['age'] = cards_to_age['age'] * age_factor\n",
    "cards_to_age['age'] = cards_to_age['age'] + [random.expovariate(.60) for _ in cards_to_age.index]\n",
    "# cards_to_age['age'] = cards_to_age['age'] * [random.expovariate(1) for _ in cards_to_age.index]\n",
    "if cards_to_age['age'].mean() > 80: \n",
    "    cards_to_age['age'] = cards_to_age['age'] * [random.expovariate(1.3) for _ in cards_to_age.index]\n",
    "\n",
    "# Adding priority age growth to cards for upcoming certifications\n",
    "priority_headers = ['Azure Developer Associate', 'Jane Eyre, Bronte']\n",
    "priority_cards_mask = cards_to_age['head'].isin(priority_headers)\n",
    "cards_to_age.loc[priority_cards_mask, 'age'] = cards_to_age.loc[priority_cards_mask, 'age'] * 1.075\n",
    "\n",
    "cards_to_age = cards_to_age.drop_duplicates(subset=['hash'], keep='first')\n",
    "\n",
    "cards_to_age['subject_mean_age'] = cards_to_age.groupby('head')['age'].transform('mean')\n",
    "cards_to_age['subject_highest_age'] = cards_to_age.groupby('head')['age'].transform('max')\n",
    "cards_to_age['subject_age_sum'] = cards_to_age.groupby('head')['age'].transform('sum')\n",
    "cards_to_age['head_random_roll'] = cards_to_age.groupby('head')['head'].transform(lambda x: random.random())\n",
    "cards_to_age['head_count'] = cards_to_age.groupby('head')['head'].transform(\"count\")\n",
    "\n",
    "\n",
    "cards_to_age.sort_values('hash')[['age', 'head', 'hash']].to_json('card_ages.json', indent=2)\n",
    "\n",
    "existing_cards = cards_to_age"
   ]
  },
  {
   "cell_type": "code",
   "execution_count": 23,
   "metadata": {},
   "outputs": [
    {
     "data": {
      "text/html": [
       "<div>\n",
       "<style scoped>\n",
       "    .dataframe tbody tr th:only-of-type {\n",
       "        vertical-align: middle;\n",
       "    }\n",
       "\n",
       "    .dataframe tbody tr th {\n",
       "        vertical-align: top;\n",
       "    }\n",
       "\n",
       "    .dataframe thead th {\n",
       "        text-align: right;\n",
       "    }\n",
       "</style>\n",
       "<table border=\"1\" class=\"dataframe\">\n",
       "  <thead>\n",
       "    <tr style=\"text-align: right;\">\n",
       "      <th></th>\n",
       "      <th>age_sum</th>\n",
       "      <th>age_mean</th>\n",
       "      <th>age_max</th>\n",
       "      <th>head_count</th>\n",
       "    </tr>\n",
       "  </thead>\n",
       "  <tbody>\n",
       "    <tr>\n",
       "      <th>CCH Axcess</th>\n",
       "      <td>173.249156</td>\n",
       "      <td>5.774972</td>\n",
       "      <td>16.419945</td>\n",
       "      <td>30</td>\n",
       "    </tr>\n",
       "    <tr>\n",
       "      <th>Pandas</th>\n",
       "      <td>256.013952</td>\n",
       "      <td>25.601395</td>\n",
       "      <td>36.925603</td>\n",
       "      <td>10</td>\n",
       "    </tr>\n",
       "    <tr>\n",
       "      <th>DAX</th>\n",
       "      <td>419.059381</td>\n",
       "      <td>46.562153</td>\n",
       "      <td>127.068659</td>\n",
       "      <td>9</td>\n",
       "    </tr>\n",
       "    <tr>\n",
       "      <th>Jane Eyre, Bronte</th>\n",
       "      <td>540.488448</td>\n",
       "      <td>77.212635</td>\n",
       "      <td>173.828838</td>\n",
       "      <td>7</td>\n",
       "    </tr>\n",
       "    <tr>\n",
       "      <th>Logging in Python</th>\n",
       "      <td>597.716548</td>\n",
       "      <td>66.412950</td>\n",
       "      <td>206.862802</td>\n",
       "      <td>9</td>\n",
       "    </tr>\n",
       "    <tr>\n",
       "      <th>Azure Private DNS</th>\n",
       "      <td>865.904136</td>\n",
       "      <td>72.158678</td>\n",
       "      <td>182.883644</td>\n",
       "      <td>12</td>\n",
       "    </tr>\n",
       "    <tr>\n",
       "      <th>Terraform</th>\n",
       "      <td>924.963208</td>\n",
       "      <td>77.080267</td>\n",
       "      <td>260.632777</td>\n",
       "      <td>12</td>\n",
       "    </tr>\n",
       "    <tr>\n",
       "      <th>Microsoft Purview</th>\n",
       "      <td>963.339445</td>\n",
       "      <td>19.266789</td>\n",
       "      <td>32.594594</td>\n",
       "      <td>50</td>\n",
       "    </tr>\n",
       "    <tr>\n",
       "      <th>Azure AD Authentication</th>\n",
       "      <td>1070.963526</td>\n",
       "      <td>89.246961</td>\n",
       "      <td>149.260253</td>\n",
       "      <td>12</td>\n",
       "    </tr>\n",
       "    <tr>\n",
       "      <th>Azure Functions + PP365</th>\n",
       "      <td>1197.863197</td>\n",
       "      <td>74.866450</td>\n",
       "      <td>238.471079</td>\n",
       "      <td>16</td>\n",
       "    </tr>\n",
       "    <tr>\n",
       "      <th>TSQL</th>\n",
       "      <td>1328.896837</td>\n",
       "      <td>55.370702</td>\n",
       "      <td>158.733702</td>\n",
       "      <td>24</td>\n",
       "    </tr>\n",
       "    <tr>\n",
       "      <th>Azure VM + Developer</th>\n",
       "      <td>1579.945751</td>\n",
       "      <td>46.468993</td>\n",
       "      <td>131.618804</td>\n",
       "      <td>34</td>\n",
       "    </tr>\n",
       "    <tr>\n",
       "      <th>PowerShell Modules</th>\n",
       "      <td>2216.266823</td>\n",
       "      <td>82.083956</td>\n",
       "      <td>265.909442</td>\n",
       "      <td>27</td>\n",
       "    </tr>\n",
       "    <tr>\n",
       "      <th>Azure DevOps Pipelines</th>\n",
       "      <td>2324.888223</td>\n",
       "      <td>96.870343</td>\n",
       "      <td>312.641156</td>\n",
       "      <td>24</td>\n",
       "    </tr>\n",
       "    <tr>\n",
       "      <th>C# Basics</th>\n",
       "      <td>2480.875387</td>\n",
       "      <td>80.028238</td>\n",
       "      <td>325.225610</td>\n",
       "      <td>31</td>\n",
       "    </tr>\n",
       "    <tr>\n",
       "      <th>FSLogix</th>\n",
       "      <td>2490.893798</td>\n",
       "      <td>80.351413</td>\n",
       "      <td>301.276762</td>\n",
       "      <td>31</td>\n",
       "    </tr>\n",
       "    <tr>\n",
       "      <th>Azure Developer Associate</th>\n",
       "      <td>2561.336266</td>\n",
       "      <td>42.688938</td>\n",
       "      <td>263.636200</td>\n",
       "      <td>60</td>\n",
       "    </tr>\n",
       "    <tr>\n",
       "      <th>Azure Compute Gallery</th>\n",
       "      <td>2742.824953</td>\n",
       "      <td>78.366427</td>\n",
       "      <td>189.986788</td>\n",
       "      <td>35</td>\n",
       "    </tr>\n",
       "    <tr>\n",
       "      <th>Python</th>\n",
       "      <td>3061.081048</td>\n",
       "      <td>53.703176</td>\n",
       "      <td>274.136014</td>\n",
       "      <td>57</td>\n",
       "    </tr>\n",
       "    <tr>\n",
       "      <th>Asynchronous Python</th>\n",
       "      <td>3847.854504</td>\n",
       "      <td>93.850110</td>\n",
       "      <td>330.290193</td>\n",
       "      <td>41</td>\n",
       "    </tr>\n",
       "    <tr>\n",
       "      <th>JavaScript Concepts</th>\n",
       "      <td>3883.890690</td>\n",
       "      <td>56.288271</td>\n",
       "      <td>250.561336</td>\n",
       "      <td>69</td>\n",
       "    </tr>\n",
       "    <tr>\n",
       "      <th>VMWare</th>\n",
       "      <td>3988.514272</td>\n",
       "      <td>92.756146</td>\n",
       "      <td>256.835014</td>\n",
       "      <td>43</td>\n",
       "    </tr>\n",
       "    <tr>\n",
       "      <th>PnP PowerShell</th>\n",
       "      <td>4114.893516</td>\n",
       "      <td>82.297870</td>\n",
       "      <td>225.902854</td>\n",
       "      <td>50</td>\n",
       "    </tr>\n",
       "    <tr>\n",
       "      <th>Vocab</th>\n",
       "      <td>4127.714734</td>\n",
       "      <td>66.576044</td>\n",
       "      <td>211.017145</td>\n",
       "      <td>62</td>\n",
       "    </tr>\n",
       "  </tbody>\n",
       "</table>\n",
       "</div>"
      ],
      "text/plain": [
       "                               age_sum   age_mean     age_max  head_count\n",
       "CCH Axcess                  173.249156   5.774972   16.419945          30\n",
       "Pandas                      256.013952  25.601395   36.925603          10\n",
       "DAX                         419.059381  46.562153  127.068659           9\n",
       "Jane Eyre, Bronte           540.488448  77.212635  173.828838           7\n",
       "Logging in Python           597.716548  66.412950  206.862802           9\n",
       "Azure Private DNS           865.904136  72.158678  182.883644          12\n",
       "Terraform                   924.963208  77.080267  260.632777          12\n",
       "Microsoft Purview           963.339445  19.266789   32.594594          50\n",
       "Azure AD Authentication    1070.963526  89.246961  149.260253          12\n",
       "Azure Functions + PP365    1197.863197  74.866450  238.471079          16\n",
       "TSQL                       1328.896837  55.370702  158.733702          24\n",
       "Azure VM + Developer       1579.945751  46.468993  131.618804          34\n",
       "PowerShell Modules         2216.266823  82.083956  265.909442          27\n",
       "Azure DevOps Pipelines     2324.888223  96.870343  312.641156          24\n",
       "C# Basics                  2480.875387  80.028238  325.225610          31\n",
       "FSLogix                    2490.893798  80.351413  301.276762          31\n",
       "Azure Developer Associate  2561.336266  42.688938  263.636200          60\n",
       "Azure Compute Gallery      2742.824953  78.366427  189.986788          35\n",
       "Python                     3061.081048  53.703176  274.136014          57\n",
       "Asynchronous Python        3847.854504  93.850110  330.290193          41\n",
       "JavaScript Concepts        3883.890690  56.288271  250.561336          69\n",
       "VMWare                     3988.514272  92.756146  256.835014          43\n",
       "PnP PowerShell             4114.893516  82.297870  225.902854          50\n",
       "Vocab                      4127.714734  66.576044  211.017145          62"
      ]
     },
     "execution_count": 23,
     "metadata": {},
     "output_type": "execute_result"
    }
   ],
   "source": [
    "stats = existing_cards.groupby('head').agg({'age': ['sum', 'mean', 'max'], 'head': 'count'}).sort_values(('age', 'sum'))\n",
    "stats.columns = stats.columns.to_flat_index()\n",
    "stats.columns = ['_'.join(col).strip() for col in stats.columns]\n",
    "stats.index.name = None\n",
    "stats"
   ]
  },
  {
   "cell_type": "markdown",
   "metadata": {},
   "source": [
    "# Histogram"
   ]
  },
  {
   "cell_type": "code",
   "execution_count": 24,
   "metadata": {},
   "outputs": [
    {
     "name": "stdout",
     "output_type": "stream",
     "text": [
      "sum of ages: ~47759.44\n"
     ]
    },
    {
     "data": {
      "text/plain": [
       "<Axes: >"
      ]
     },
     "execution_count": 24,
     "metadata": {},
     "output_type": "execute_result"
    },
    {
     "data": {
      "image/png": "[encoded data removed]",
      "text/plain": [
       "<Figure size 640x480 with 1 Axes>"
      ]
     },
     "metadata": {},
     "output_type": "display_data"
    }
   ],
   "source": [
    "print(f\"sum of ages: ~{existing_cards['age'].sum(0):.2f}\")\n",
    "existing_cards['age'].hist(bins=20)"
   ]
  },
  {
   "cell_type": "code",
   "execution_count": 25,
   "metadata": {},
   "outputs": [
    {
     "name": "stdout",
     "output_type": "stream",
     "text": [
      "sum of ages: ~47759.44\n"
     ]
    },
    {
     "data": {
      "text/plain": [
       "<Axes: >"
      ]
     },
     "execution_count": 25,
     "metadata": {},
     "output_type": "execute_result"
    },
    {
     "data": {
      "image/png": "[encoded data removed]",
      "text/plain": [
       "<Figure size 640x480 with 1 Axes>"
      ]
     },
     "metadata": {},
     "output_type": "display_data"
    }
   ],
   "source": [
    "print(f\"sum of ages: ~{existing_cards['age'].sum(0):.2f}\")\n",
    "existing_cards[existing_cards['head']=='Azure Developer Associate']['age'].hist(bins=20)"
   ]
  },
  {
   "cell_type": "markdown",
   "metadata": {},
   "source": [
    "# Completely Random Shuffle"
   ]
  },
  {
   "cell_type": "code",
   "execution_count": 26,
   "metadata": {},
   "outputs": [],
   "source": [
    "# existing_cards = existing_cards.sample(frac=1)\n",
    "# remake_card_document(filename='certcards2.txt', existing_cards = existing_cards)"
   ]
  },
  {
   "cell_type": "markdown",
   "metadata": {},
   "source": [
    "# Age Sort"
   ]
  },
  {
   "cell_type": "code",
   "execution_count": 27,
   "metadata": {},
   "outputs": [],
   "source": [
    "# existing_cards = existing_cards.sort_values('age', ascending=False)\n",
    "# remake_card_document(filename='certcards2.txt', existing_cards=existing_cards)\n",
    "# existing_cards.head(10)"
   ]
  },
  {
   "cell_type": "markdown",
   "metadata": {},
   "source": [
    "# Headers with fewest notes first"
   ]
  },
  {
   "cell_type": "code",
   "execution_count": 28,
   "metadata": {},
   "outputs": [],
   "source": [
    "# frequency = existing_cards['head'].value_counts(ascending=True)\n",
    "\n",
    "# existing_cards = pd.merge(\n",
    "#     left=existing_cards,\n",
    "#     right=frequency.rename('frequency'),\n",
    "#     left_on='head', right_index=True,\n",
    "#     how='left'\n",
    "# )\n",
    "# existing_cards['oldest'] = existing_cards.groupby('head')['age'].transform('max')\n",
    "# existing_cards['subject_highest_age'] = existing_cards['subject_highest_age'] * -1\n",
    "# existing_cards['age'] = existing_cards['age'] * -1\n",
    "\n",
    "\n",
    "# existing_cards.sort_values(['frequency', 'subject_highest_age', 'age'], ascending=True, inplace=True)\n",
    "\n",
    "# remake_card_document(filename='certcards2.txt', existing_cards=existing_cards)\n",
    "\n",
    "# existing_cards.head(10)"
   ]
  },
  {
   "cell_type": "markdown",
   "metadata": {},
   "source": [
    "## Headers with greatest age sum first"
   ]
  },
  {
   "cell_type": "code",
   "execution_count": 29,
   "metadata": {},
   "outputs": [],
   "source": [
    "# existing_cards.sort_values(['subject_age_sum', 'age'], ascending=False, inplace=True)\n",
    "# remake_card_document(existing_cards)\n",
    "# existing_cards.head(10)"
   ]
  },
  {
   "cell_type": "markdown",
   "metadata": {},
   "source": [
    "## Header with oldest cards first"
   ]
  },
  {
   "cell_type": "code",
   "execution_count": 30,
   "metadata": {},
   "outputs": [],
   "source": [
    "# existing_cards['oldest'] = existing_cards.groupby('head')['age'].transform('max')\n",
    "# existing_cards.sort_values(['oldest', 'age'], ascending=False, inplace=True)\n",
    "# remake_card_document(existing_cards)"
   ]
  },
  {
   "cell_type": "markdown",
   "metadata": {},
   "source": [
    "# Focus on one header"
   ]
  },
  {
   "cell_type": "code",
   "execution_count": 31,
   "metadata": {},
   "outputs": [],
   "source": [
    "# heads = existing_cards['head'].value_counts()\n",
    "# heads = heads[heads > 5].index.tolist()\n",
    "# one_header = random.sample(heads, 1)[0]\n",
    "# existing_cards['pick_head'] = existing_cards['head'].apply(\n",
    "#     lambda h: 0 if h == one_header else 1 \n",
    "# )\n",
    "\n",
    "# remake_card_document(existing_cards=existing_cards.sort_values('pick_head'))"
   ]
  },
  {
   "cell_type": "markdown",
   "metadata": {},
   "source": [
    "## Headers with greatest mean card age first"
   ]
  },
  {
   "cell_type": "code",
   "execution_count": 32,
   "metadata": {},
   "outputs": [],
   "source": [
    "# existing_cards.sort_values(['subject_mean_age', 'age'], ascending=False, inplace=True)\n",
    "# remake_card_document(existing_cards)"
   ]
  },
  {
   "cell_type": "markdown",
   "metadata": {},
   "source": [
    "# N-fold shuffle\n"
   ]
  },
  {
   "cell_type": "markdown",
   "metadata": {},
   "source": [
    "## Age Sum"
   ]
  },
  {
   "cell_type": "code",
   "execution_count": 33,
   "metadata": {},
   "outputs": [],
   "source": [
    "# n=3\n",
    "# m=existing_cards.shape[0]//100\n",
    "# existing_cards['count'] = existing_cards.sort_values('age', ascending=False).groupby('head').cumcount()\n",
    "# existing_cards['n_fold'] = existing_cards['count'] % n\n",
    "\n",
    "# existing_cards['subject_age_sum'] = existing_cards['subject_age_sum'] *-1\n",
    "# existing_cards['age'] = existing_cards['age'] *-1\n",
    "# existing_cards.sort_values(['n_fold', 'subject_age_sum', 'age'], inplace=True)\n",
    "\n",
    "# remake_card_document(existing_cards=existing_cards)\n",
    "# existing_cards.head(10)\n"
   ]
  },
  {
   "cell_type": "markdown",
   "metadata": {},
   "source": [
    "## Age Mean"
   ]
  },
  {
   "cell_type": "code",
   "execution_count": 34,
   "metadata": {},
   "outputs": [],
   "source": [
    "# n=3\n",
    "# existing_cards['count'] = existing_cards.sort_values('age', ascending=False).groupby('head').cumcount()\n",
    "# existing_cards['n_fold'] = existing_cards['count'] % n\n",
    "\n",
    "# existing_cards['subject_mean_age'] = existing_cards['subject_mean_age'] *-1\n",
    "# existing_cards['age'] = existing_cards['age'] *-1\n",
    "# existing_cards.sort_values(['n_fold', 'subject_mean_age', 'age'], inplace=True)\n",
    "# remake_card_document(existing_cards=existing_cards)\n",
    "\n",
    "# existing_cards.head(10)"
   ]
  },
  {
   "cell_type": "markdown",
   "metadata": {},
   "source": [
    "## Age Max"
   ]
  },
  {
   "cell_type": "code",
   "execution_count": 35,
   "metadata": {},
   "outputs": [],
   "source": [
    "# n = 3\n",
    "# existing_cards['count'] = existing_cards.sort_values('age', ascending=False).groupby('head').cumcount()\n",
    "# existing_cards['n_fold'] = existing_cards['count'] % n\n",
    "\n",
    "# if existing_cards['age'].sum() > 0:\n",
    "#     existing_cards['subject_highest_age'] = existing_cards['subject_highest_age'] *-1\n",
    "#     existing_cards['neg_age'] = existing_cards['age'] *-1\n",
    "# existing_cards.sort_values(['n_fold', 'subject_highest_age', 'neg_age'], inplace=True)\n",
    "# # existing_cards.sort_values(['age'], inplace=True)\n",
    "\n",
    "# remake_card_document(existing_cards=existing_cards)\n",
    "# existing_cards.head(10)\n"
   ]
  },
  {
   "cell_type": "markdown",
   "metadata": {},
   "source": [
    "## Card Count"
   ]
  },
  {
   "cell_type": "code",
   "execution_count": 36,
   "metadata": {},
   "outputs": [],
   "source": [
    "# n=5\n",
    "# existing_cards['frequency']  = existing_cards.groupby('head').transform('count')['body']\n",
    "# existing_cards['count'] = existing_cards.sort_values('age', ascending=False).groupby('head').cumcount()\n",
    "# existing_cards['n_fold'] = existing_cards['count'] // n\n",
    "\n",
    "# if existing_cards['age'].sum() > 0:\n",
    "#     # existing_cards['neg_subject_highest_age'] = existing_cards['subject_highest_age'] *-1\n",
    "#     existing_cards['neg_age'] = existing_cards['age'] *-1\n",
    "# existing_cards.sort_values(['n_fold', 'frequency', 'subject_highest_age', 'neg_age'], inplace=True)\n",
    "# remake_card_document(existing_cards=existing_cards)\n",
    "\n",
    "# existing_cards.head(10)"
   ]
  },
  {
   "cell_type": "markdown",
   "metadata": {},
   "source": [
    "\n",
    "## Random"
   ]
  },
  {
   "cell_type": "code",
   "execution_count": 37,
   "metadata": {},
   "outputs": [],
   "source": [
    "# n = 3\n",
    "# existing_cards['count'] = existing_cards.sort_values('age', ascending=False).groupby('head').cumcount()\n",
    "# existing_cards['n_fold'] = existing_cards['count'] % n\n",
    "# existing_cards['age'] *= -1\n",
    "# existing_cards.sort_values(['n_fold', 'head_random_roll', 'age'], inplace=True)\n",
    "# remake_card_document(existing_cards=existing_cards)\n",
    "# existing_cards.head(10)"
   ]
  },
  {
   "cell_type": "code",
   "execution_count": 38,
   "metadata": {},
   "outputs": [
    {
     "data": {
      "text/html": [
       "<div>\n",
       "<style scoped>\n",
       "    .dataframe tbody tr th:only-of-type {\n",
       "        vertical-align: middle;\n",
       "    }\n",
       "\n",
       "    .dataframe tbody tr th {\n",
       "        vertical-align: top;\n",
       "    }\n",
       "\n",
       "    .dataframe thead th {\n",
       "        text-align: right;\n",
       "    }\n",
       "</style>\n",
       "<table border=\"1\" class=\"dataframe\">\n",
       "  <thead>\n",
       "    <tr style=\"text-align: right;\">\n",
       "      <th></th>\n",
       "      <th>head</th>\n",
       "      <th>body</th>\n",
       "      <th>hash</th>\n",
       "      <th>age</th>\n",
       "      <th>subject_mean_age</th>\n",
       "      <th>subject_highest_age</th>\n",
       "      <th>subject_age_sum</th>\n",
       "      <th>head_random_roll</th>\n",
       "      <th>head_count</th>\n",
       "    </tr>\n",
       "  </thead>\n",
       "  <tbody>\n",
       "    <tr>\n",
       "      <th>8</th>\n",
       "      <td>Asynchronous Python</td>\n",
       "      <td>asyncio.gather()\\nRuns multiple asynchronous P...</td>\n",
       "      <td>88e88ee301ac734f3b1f136e405d3cfd</td>\n",
       "      <td>330.290193</td>\n",
       "      <td>93.850110</td>\n",
       "      <td>330.290193</td>\n",
       "      <td>3847.854504</td>\n",
       "      <td>0.946340</td>\n",
       "      <td>41</td>\n",
       "    </tr>\n",
       "    <tr>\n",
       "      <th>22</th>\n",
       "      <td>C# Basics</td>\n",
       "      <td>What’s the difference between delegates and ev...</td>\n",
       "      <td>aafda82832da4aaff149c8153e06fc0a</td>\n",
       "      <td>325.225610</td>\n",
       "      <td>80.028238</td>\n",
       "      <td>325.225610</td>\n",
       "      <td>2480.875387</td>\n",
       "      <td>0.042792</td>\n",
       "      <td>31</td>\n",
       "    </tr>\n",
       "    <tr>\n",
       "      <th>33</th>\n",
       "      <td>Azure DevOps Pipelines</td>\n",
       "      <td>In Azure DevOps, what is the use of the strate...</td>\n",
       "      <td>22834b179fc5b8002c41682d03a4bac2</td>\n",
       "      <td>312.641156</td>\n",
       "      <td>96.870343</td>\n",
       "      <td>312.641156</td>\n",
       "      <td>2324.888223</td>\n",
       "      <td>0.706563</td>\n",
       "      <td>24</td>\n",
       "    </tr>\n",
       "    <tr>\n",
       "      <th>41</th>\n",
       "      <td>FSLogix</td>\n",
       "      <td>Cloud Cache uses the concept of a proxy file, ...</td>\n",
       "      <td>78203bab9238f47ee752697bba4135a5</td>\n",
       "      <td>301.276762</td>\n",
       "      <td>80.351413</td>\n",
       "      <td>301.276762</td>\n",
       "      <td>2490.893798</td>\n",
       "      <td>0.074449</td>\n",
       "      <td>31</td>\n",
       "    </tr>\n",
       "    <tr>\n",
       "      <th>264</th>\n",
       "      <td>Asynchronous Python</td>\n",
       "      <td>asyncio.wait_for()\\nRuns a coroutine with a ti...</td>\n",
       "      <td>0ccadcbce46e58eb4de4907f7e86cbf9</td>\n",
       "      <td>283.674227</td>\n",
       "      <td>93.850110</td>\n",
       "      <td>330.290193</td>\n",
       "      <td>3847.854504</td>\n",
       "      <td>0.946340</td>\n",
       "      <td>41</td>\n",
       "    </tr>\n",
       "    <tr>\n",
       "      <th>535</th>\n",
       "      <td>Azure DevOps Pipelines</td>\n",
       "      <td>What is the default working directory for a pi...</td>\n",
       "      <td>4874a140413af48140b5cb984340bd62</td>\n",
       "      <td>283.401512</td>\n",
       "      <td>96.870343</td>\n",
       "      <td>312.641156</td>\n",
       "      <td>2324.888223</td>\n",
       "      <td>0.706563</td>\n",
       "      <td>24</td>\n",
       "    </tr>\n",
       "    <tr>\n",
       "      <th>512</th>\n",
       "      <td>Asynchronous Python</td>\n",
       "      <td>async with (async context manager)\\nManages as...</td>\n",
       "      <td>359a45c84a774bead164891fd0454b3c</td>\n",
       "      <td>277.226548</td>\n",
       "      <td>93.850110</td>\n",
       "      <td>330.290193</td>\n",
       "      <td>3847.854504</td>\n",
       "      <td>0.946340</td>\n",
       "      <td>41</td>\n",
       "    </tr>\n",
       "    <tr>\n",
       "      <th>288</th>\n",
       "      <td>Azure DevOps Pipelines</td>\n",
       "      <td>How can you pass secrets securely in Azure Dev...</td>\n",
       "      <td>5b00153ed3bdf8955aa08ad4e2779a5c</td>\n",
       "      <td>276.615475</td>\n",
       "      <td>96.870343</td>\n",
       "      <td>312.641156</td>\n",
       "      <td>2324.888223</td>\n",
       "      <td>0.706563</td>\n",
       "      <td>24</td>\n",
       "    </tr>\n",
       "    <tr>\n",
       "      <th>52</th>\n",
       "      <td>Python</td>\n",
       "      <td>Q:\\nWhich itertools function can be used to cr...</td>\n",
       "      <td>e10c94072687976e9627c8fc187d9ea3</td>\n",
       "      <td>274.136014</td>\n",
       "      <td>53.703176</td>\n",
       "      <td>274.136014</td>\n",
       "      <td>3061.081048</td>\n",
       "      <td>0.531466</td>\n",
       "      <td>57</td>\n",
       "    </tr>\n",
       "    <tr>\n",
       "      <th>71</th>\n",
       "      <td>PowerShell Modules</td>\n",
       "      <td>Find-Module\\n\\nDefinition: Searches for module...</td>\n",
       "      <td>4441d462ea754e1bb6a659efa359382f</td>\n",
       "      <td>265.909442</td>\n",
       "      <td>82.083956</td>\n",
       "      <td>265.909442</td>\n",
       "      <td>2216.266823</td>\n",
       "      <td>0.096447</td>\n",
       "      <td>27</td>\n",
       "    </tr>\n",
       "  </tbody>\n",
       "</table>\n",
       "</div>"
      ],
      "text/plain": [
       "                       head  \\\n",
       "8       Asynchronous Python   \n",
       "22                C# Basics   \n",
       "33   Azure DevOps Pipelines   \n",
       "41                  FSLogix   \n",
       "264     Asynchronous Python   \n",
       "535  Azure DevOps Pipelines   \n",
       "512     Asynchronous Python   \n",
       "288  Azure DevOps Pipelines   \n",
       "52                   Python   \n",
       "71       PowerShell Modules   \n",
       "\n",
       "                                                  body  \\\n",
       "8    asyncio.gather()\\nRuns multiple asynchronous P...   \n",
       "22   What’s the difference between delegates and ev...   \n",
       "33   In Azure DevOps, what is the use of the strate...   \n",
       "41   Cloud Cache uses the concept of a proxy file, ...   \n",
       "264  asyncio.wait_for()\\nRuns a coroutine with a ti...   \n",
       "535  What is the default working directory for a pi...   \n",
       "512  async with (async context manager)\\nManages as...   \n",
       "288  How can you pass secrets securely in Azure Dev...   \n",
       "52   Q:\\nWhich itertools function can be used to cr...   \n",
       "71   Find-Module\\n\\nDefinition: Searches for module...   \n",
       "\n",
       "                                 hash         age  subject_mean_age  \\\n",
       "8    88e88ee301ac734f3b1f136e405d3cfd  330.290193         93.850110   \n",
       "22   aafda82832da4aaff149c8153e06fc0a  325.225610         80.028238   \n",
       "33   22834b179fc5b8002c41682d03a4bac2  312.641156         96.870343   \n",
       "41   78203bab9238f47ee752697bba4135a5  301.276762         80.351413   \n",
       "264  0ccadcbce46e58eb4de4907f7e86cbf9  283.674227         93.850110   \n",
       "535  4874a140413af48140b5cb984340bd62  283.401512         96.870343   \n",
       "512  359a45c84a774bead164891fd0454b3c  277.226548         93.850110   \n",
       "288  5b00153ed3bdf8955aa08ad4e2779a5c  276.615475         96.870343   \n",
       "52   e10c94072687976e9627c8fc187d9ea3  274.136014         53.703176   \n",
       "71   4441d462ea754e1bb6a659efa359382f  265.909442         82.083956   \n",
       "\n",
       "     subject_highest_age  subject_age_sum  head_random_roll  head_count  \n",
       "8             330.290193      3847.854504          0.946340          41  \n",
       "22            325.225610      2480.875387          0.042792          31  \n",
       "33            312.641156      2324.888223          0.706563          24  \n",
       "41            301.276762      2490.893798          0.074449          31  \n",
       "264           330.290193      3847.854504          0.946340          41  \n",
       "535           312.641156      2324.888223          0.706563          24  \n",
       "512           330.290193      3847.854504          0.946340          41  \n",
       "288           312.641156      2324.888223          0.706563          24  \n",
       "52            274.136014      3061.081048          0.531466          57  \n",
       "71            265.909442      2216.266823          0.096447          27  "
      ]
     },
     "execution_count": 38,
     "metadata": {},
     "output_type": "execute_result"
    }
   ],
   "source": [
    "if existing_cards.age.sum() < 0:\n",
    "    asc = True\n",
    "else: asc = False\n",
    "existing_cards.sort_values('age', ascending=asc).head(10)"
   ]
  },
  {
   "cell_type": "code",
   "execution_count": 39,
   "metadata": {},
   "outputs": [
    {
     "data": {
      "text/plain": [
       "63.25753351085866"
      ]
     },
     "execution_count": 39,
     "metadata": {},
     "output_type": "execute_result"
    }
   ],
   "source": [
    "existing_cards['age'].mean()"
   ]
  }
 ],
 "metadata": {
  "kernelspec": {
   "display_name": "Python 3",
   "language": "python",
   "name": "python3"
  },
  "language_info": {
   "codemirror_mode": {
    "name": "ipython",
    "version": 3
   },
   "file_extension": ".py",
   "mimetype": "text/x-python",
   "name": "python",
   "nbconvert_exporter": "python",
   "pygments_lexer": "ipython3",
   "version": "3.10.10"
  }
 },
 "nbformat": 4,
 "nbformat_minor": 2
}
