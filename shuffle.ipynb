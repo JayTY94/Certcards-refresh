{
 "cells": [
  {
   "cell_type": "code",
   "execution_count": 74,
   "metadata": {},
   "outputs": [],
   "source": [
    "import re\n",
    "import random\n",
    "import pandas as pd\n",
    "import hashlib"
   ]
  },
  {
   "cell_type": "code",
   "execution_count": 75,
   "metadata": {},
   "outputs": [],
   "source": [
    "with open('certcards2.txt', mode='r', encoding='utf8') as f:\n",
    "    all_cards = f.read()\n",
    "    \n",
    "card_split_pattern = r'\\n\\n\\n\\d+\\n'\n",
    "all_cards = re.split(card_split_pattern, all_cards)\n",
    "# Use re.DOTALL to allow . to match newline characters\n",
    "card_pattern = re.compile(r'(.+?)\\n([\\s\\S]+)', re.DOTALL)\n",
    "cards = [(match.group(1), match.group(2)) for cstring in all_cards if (match := re.search(card_pattern, cstring))]\n",
    "\n",
    "# removing the cards that have no content and trimming\n",
    "cards = [(subject, stripped_content) for subject, content in cards if len(stripped_content := content.strip()) > 5]\n",
    "\n",
    "def hash_string_md5(s):\n",
    "    \"\"\"\n",
    "    Hashes a string using MD5 and returns a truncated hash for efficiency.\n",
    "\n",
    "    Parameters:\n",
    "    - s (str): The input string to hash.\n",
    "\n",
    "    Returns:\n",
    "    - str: The truncated hexadecimal hash string.\n",
    "    \"\"\"\n",
    "    if pd.isnull(s):\n",
    "        return None  # Handle NaN values gracefully\n",
    "    return hashlib.md5(s.encode('utf-8')).hexdigest()\n",
    "\n",
    "\n",
    "def remake_card_document(existing_cards: pd.DataFrame, filename: str='certcards2.txt'):\n",
    "    with open(filename, mode='w', encoding='utf8') as f:\n",
    "        i = 1\n",
    "        for _, row in existing_cards.iterrows():\n",
    "            f.write('\\n'*6)\n",
    "            f.write(str(i)+'\\n')  \n",
    "            f.write(row['head']+'\\n')\n",
    "            f.write(row['body'])\n",
    "            i+=1\n",
    "    print(F\"Cards found: {existing_cards.shape[0]}\")\n",
    "\n",
    "\n",
    "existing_cards = pd.DataFrame(cards, columns=['head', 'body'])\n",
    "\n",
    "\n",
    "# existing_cards['age'] = [random.random() for _ in existing_cards.index]\n",
    "existing_cards['hash'] = existing_cards['body'].apply(hash_string_md5)\n",
    "existing_cards\n",
    "\n",
    "card_ages = pd.read_json('card_ages.json')\n",
    "card_ages = card_ages.drop_duplicates(subset=['hash'], keep='first')\n",
    "\n",
    "cards_to_age = pd.merge(\n",
    "    left=existing_cards,\n",
    "    right=card_ages[['hash', 'age']],\n",
    "    left_on='hash', right_on='hash',\n",
    "    how='left'\n",
    ")\n",
    "\n",
    "cards_to_age['head'] = cards_to_age['head'].str.strip()\n",
    "\n",
    "if cards_to_age['age'].sum() > 2e4: age_factor = 1\n",
    "else: age_factor = 1.00\n",
    "\n",
    "cards_to_age['age'] = cards_to_age['age'].fillna(0)\n",
    "cards_to_age['age'] = cards_to_age['age'] * age_factor\n",
    "cards_to_age['age'] = cards_to_age['age'] + [random.expovariate(.60) for _ in cards_to_age.index]\n",
    "# cards_to_age['age'] = cards_to_age['age'] * [random.expovariate(.5) for _ in cards_to_age.index]\n",
    "\n",
    "# Adding priority age growth to cards for upcoming certifications\n",
    "priority_headers = ['Azure Developer Associate']\n",
    "priority_cards_mask = cards_to_age['head'].isin(priority_headers)\n",
    "cards_to_age.loc[priority_cards_mask, 'age'] = cards_to_age.loc[priority_cards_mask, 'age'] * 1.1\n",
    "\n",
    "\n",
    "cards_to_age = cards_to_age.drop_duplicates(subset=['hash'], keep='first')\n",
    "\n",
    "cards_to_age['subject_mean_age'] = cards_to_age.groupby('head')['age'].transform('mean')\n",
    "cards_to_age['subject_highest_age'] = cards_to_age.groupby('head')['age'].transform('max')\n",
    "cards_to_age['subject_age_sum'] = cards_to_age.groupby('head')['age'].transform('sum')\n",
    "cards_to_age['head_random_roll'] = cards_to_age.groupby('head')['head'].transform(lambda x: random.random())\n",
    "\n",
    "\n",
    "cards_to_age.sort_values('hash')[['age', 'head', 'hash']].to_json('card_ages.json', indent=2)\n",
    "\n",
    "existing_cards = cards_to_age"
   ]
  },
  {
   "cell_type": "code",
   "execution_count": 76,
   "metadata": {},
   "outputs": [
    {
     "data": {
      "application/vnd.microsoft.datawrangler.viewer.v0+json": {
       "columns": [
        {
         "name": "index",
         "rawType": "object",
         "type": "string"
        },
        {
         "name": "age_sum",
         "rawType": "float64",
         "type": "float"
        },
        {
         "name": "age_mean",
         "rawType": "float64",
         "type": "float"
        },
        {
         "name": "age_max",
         "rawType": "float64",
         "type": "float"
        },
        {
         "name": "head_count",
         "rawType": "int64",
         "type": "integer"
        }
       ],
       "conversionMethod": "pd.DataFrame",
       "ref": "3212fc8c-56d6-4cda-8a7e-e55ae35aa101",
       "rows": [
        [
         "Azure Developer Associate",
         "424.1837772175638",
         "9.864739005059622",
         "33.04981614410991",
         "43"
        ],
        [
         "OData",
         "764.9373966423999",
         "191.23434916059998",
         "291.75118192178127",
         "4"
        ],
        [
         "Python",
         "1049.1102920182484",
         "22.32149557485635",
         "34.196187663923524",
         "47"
        ],
        [
         "Todd Ideas",
         "1136.7575897973238",
         "75.78383931982158",
         "160.80086446015943",
         "15"
        ],
        [
         "Email Auth and Security",
         "1586.3531103666783",
         "132.1960925305565",
         "493.6441623186634",
         "12"
        ],
        [
         "SharePoint",
         "1844.9302647458142",
         "153.74418872881785",
         "592.8301781064515",
         "12"
        ],
        [
         "Audit Report Tracker (Sharepoint List)",
         "1980.4451645298411",
         "152.3419357330647",
         "382.732872901505",
         "13"
        ],
        [
         "Azure Functions + Visual Studio",
         "2143.276725299391",
         "153.0911946642422",
         "496.8660894978991",
         "14"
        ],
        [
         "Debugging in VS Code",
         "2173.660871327507",
         "108.68304356637535",
         "275.19973127787523",
         "20"
        ],
        [
         "IW Migration",
         "2314.508632541066",
         "165.32204518150473",
         "475.21386392276213",
         "14"
        ],
        [
         "Terraform",
         "2432.259550049414",
         "97.29038200197655",
         "267.9415300103524",
         "25"
        ],
        [
         "Open Source/GitHub",
         "2510.925262914001",
         "156.93282893212506",
         "380.39779401038453",
         "16"
        ],
        [
         "FSLogix",
         "2770.6250468424128",
         "115.44271028510053",
         "278.91665899279917",
         "24"
        ],
        [
         "Azure Functions",
         "3059.1522451591536",
         "278.10474955992305",
         "764.4605475446957",
         "11"
        ],
        [
         "Home Network Project",
         "3214.6864263322627",
         "200.91790164576642",
         "474.26370248544566",
         "16"
        ],
        [
         "DNS",
         "3392.932809320526",
         "212.05830058253287",
         "421.6087887097346",
         "16"
        ],
        [
         "WSL + Kali Linux",
         "3566.891105742442",
         "187.7311108285496",
         "418.71260488598836",
         "19"
        ],
        [
         "Azure Functions + PP365",
         "3797.504525003415",
         "165.10889239145283",
         "435.5140688511123",
         "23"
        ],
        [
         "Azure AI Search",
         "3982.680463990797",
         "284.47717599934265",
         "741.2128063812078",
         "14"
        ],
        [
         "Powershell Modules",
         "5176.931002155587",
         "172.56436673851957",
         "690.390097025075",
         "30"
        ],
        [
         "PnP Powershell",
         "7189.695448067571",
         "189.20251179125188",
         "670.7244791393765",
         "38"
        ],
        [
         "Vocab",
         "7642.802798246901",
         "103.28111889522839",
         "878.5405865380509",
         "74"
        ],
        [
         "JavaScript Concepts",
         "7875.552903464425",
         "129.10742464695778",
         "444.72145019290696",
         "61"
        ],
        [
         "Logging in Python",
         "8446.43315948352",
         "143.15988405904272",
         "962.4888808982429",
         "59"
        ]
       ],
       "shape": {
        "columns": 4,
        "rows": 24
       }
      },
      "text/html": [
       "<div>\n",
       "<style scoped>\n",
       "    .dataframe tbody tr th:only-of-type {\n",
       "        vertical-align: middle;\n",
       "    }\n",
       "\n",
       "    .dataframe tbody tr th {\n",
       "        vertical-align: top;\n",
       "    }\n",
       "\n",
       "    .dataframe thead th {\n",
       "        text-align: right;\n",
       "    }\n",
       "</style>\n",
       "<table border=\"1\" class=\"dataframe\">\n",
       "  <thead>\n",
       "    <tr style=\"text-align: right;\">\n",
       "      <th></th>\n",
       "      <th>age_sum</th>\n",
       "      <th>age_mean</th>\n",
       "      <th>age_max</th>\n",
       "      <th>head_count</th>\n",
       "    </tr>\n",
       "  </thead>\n",
       "  <tbody>\n",
       "    <tr>\n",
       "      <th>Azure Developer Associate</th>\n",
       "      <td>424.183777</td>\n",
       "      <td>9.864739</td>\n",
       "      <td>33.049816</td>\n",
       "      <td>43</td>\n",
       "    </tr>\n",
       "    <tr>\n",
       "      <th>OData</th>\n",
       "      <td>764.937397</td>\n",
       "      <td>191.234349</td>\n",
       "      <td>291.751182</td>\n",
       "      <td>4</td>\n",
       "    </tr>\n",
       "    <tr>\n",
       "      <th>Python</th>\n",
       "      <td>1049.110292</td>\n",
       "      <td>22.321496</td>\n",
       "      <td>34.196188</td>\n",
       "      <td>47</td>\n",
       "    </tr>\n",
       "    <tr>\n",
       "      <th>Todd Ideas</th>\n",
       "      <td>1136.757590</td>\n",
       "      <td>75.783839</td>\n",
       "      <td>160.800864</td>\n",
       "      <td>15</td>\n",
       "    </tr>\n",
       "    <tr>\n",
       "      <th>Email Auth and Security</th>\n",
       "      <td>1586.353110</td>\n",
       "      <td>132.196093</td>\n",
       "      <td>493.644162</td>\n",
       "      <td>12</td>\n",
       "    </tr>\n",
       "    <tr>\n",
       "      <th>SharePoint</th>\n",
       "      <td>1844.930265</td>\n",
       "      <td>153.744189</td>\n",
       "      <td>592.830178</td>\n",
       "      <td>12</td>\n",
       "    </tr>\n",
       "    <tr>\n",
       "      <th>Audit Report Tracker (Sharepoint List)</th>\n",
       "      <td>1980.445165</td>\n",
       "      <td>152.341936</td>\n",
       "      <td>382.732873</td>\n",
       "      <td>13</td>\n",
       "    </tr>\n",
       "    <tr>\n",
       "      <th>Azure Functions + Visual Studio</th>\n",
       "      <td>2143.276725</td>\n",
       "      <td>153.091195</td>\n",
       "      <td>496.866089</td>\n",
       "      <td>14</td>\n",
       "    </tr>\n",
       "    <tr>\n",
       "      <th>Debugging in VS Code</th>\n",
       "      <td>2173.660871</td>\n",
       "      <td>108.683044</td>\n",
       "      <td>275.199731</td>\n",
       "      <td>20</td>\n",
       "    </tr>\n",
       "    <tr>\n",
       "      <th>IW Migration</th>\n",
       "      <td>2314.508633</td>\n",
       "      <td>165.322045</td>\n",
       "      <td>475.213864</td>\n",
       "      <td>14</td>\n",
       "    </tr>\n",
       "    <tr>\n",
       "      <th>Terraform</th>\n",
       "      <td>2432.259550</td>\n",
       "      <td>97.290382</td>\n",
       "      <td>267.941530</td>\n",
       "      <td>25</td>\n",
       "    </tr>\n",
       "    <tr>\n",
       "      <th>Open Source/GitHub</th>\n",
       "      <td>2510.925263</td>\n",
       "      <td>156.932829</td>\n",
       "      <td>380.397794</td>\n",
       "      <td>16</td>\n",
       "    </tr>\n",
       "    <tr>\n",
       "      <th>FSLogix</th>\n",
       "      <td>2770.625047</td>\n",
       "      <td>115.442710</td>\n",
       "      <td>278.916659</td>\n",
       "      <td>24</td>\n",
       "    </tr>\n",
       "    <tr>\n",
       "      <th>Azure Functions</th>\n",
       "      <td>3059.152245</td>\n",
       "      <td>278.104750</td>\n",
       "      <td>764.460548</td>\n",
       "      <td>11</td>\n",
       "    </tr>\n",
       "    <tr>\n",
       "      <th>Home Network Project</th>\n",
       "      <td>3214.686426</td>\n",
       "      <td>200.917902</td>\n",
       "      <td>474.263702</td>\n",
       "      <td>16</td>\n",
       "    </tr>\n",
       "    <tr>\n",
       "      <th>DNS</th>\n",
       "      <td>3392.932809</td>\n",
       "      <td>212.058301</td>\n",
       "      <td>421.608789</td>\n",
       "      <td>16</td>\n",
       "    </tr>\n",
       "    <tr>\n",
       "      <th>WSL + Kali Linux</th>\n",
       "      <td>3566.891106</td>\n",
       "      <td>187.731111</td>\n",
       "      <td>418.712605</td>\n",
       "      <td>19</td>\n",
       "    </tr>\n",
       "    <tr>\n",
       "      <th>Azure Functions + PP365</th>\n",
       "      <td>3797.504525</td>\n",
       "      <td>165.108892</td>\n",
       "      <td>435.514069</td>\n",
       "      <td>23</td>\n",
       "    </tr>\n",
       "    <tr>\n",
       "      <th>Azure AI Search</th>\n",
       "      <td>3982.680464</td>\n",
       "      <td>284.477176</td>\n",
       "      <td>741.212806</td>\n",
       "      <td>14</td>\n",
       "    </tr>\n",
       "    <tr>\n",
       "      <th>Powershell Modules</th>\n",
       "      <td>5176.931002</td>\n",
       "      <td>172.564367</td>\n",
       "      <td>690.390097</td>\n",
       "      <td>30</td>\n",
       "    </tr>\n",
       "    <tr>\n",
       "      <th>PnP Powershell</th>\n",
       "      <td>7189.695448</td>\n",
       "      <td>189.202512</td>\n",
       "      <td>670.724479</td>\n",
       "      <td>38</td>\n",
       "    </tr>\n",
       "    <tr>\n",
       "      <th>Vocab</th>\n",
       "      <td>7642.802798</td>\n",
       "      <td>103.281119</td>\n",
       "      <td>878.540587</td>\n",
       "      <td>74</td>\n",
       "    </tr>\n",
       "    <tr>\n",
       "      <th>JavaScript Concepts</th>\n",
       "      <td>7875.552903</td>\n",
       "      <td>129.107425</td>\n",
       "      <td>444.721450</td>\n",
       "      <td>61</td>\n",
       "    </tr>\n",
       "    <tr>\n",
       "      <th>Logging in Python</th>\n",
       "      <td>8446.433159</td>\n",
       "      <td>143.159884</td>\n",
       "      <td>962.488881</td>\n",
       "      <td>59</td>\n",
       "    </tr>\n",
       "  </tbody>\n",
       "</table>\n",
       "</div>"
      ],
      "text/plain": [
       "                                            age_sum    age_mean     age_max  \\\n",
       "Azure Developer Associate                424.183777    9.864739   33.049816   \n",
       "OData                                    764.937397  191.234349  291.751182   \n",
       "Python                                  1049.110292   22.321496   34.196188   \n",
       "Todd Ideas                              1136.757590   75.783839  160.800864   \n",
       "Email Auth and Security                 1586.353110  132.196093  493.644162   \n",
       "SharePoint                              1844.930265  153.744189  592.830178   \n",
       "Audit Report Tracker (Sharepoint List)  1980.445165  152.341936  382.732873   \n",
       "Azure Functions + Visual Studio         2143.276725  153.091195  496.866089   \n",
       "Debugging in VS Code                    2173.660871  108.683044  275.199731   \n",
       "IW Migration                            2314.508633  165.322045  475.213864   \n",
       "Terraform                               2432.259550   97.290382  267.941530   \n",
       "Open Source/GitHub                      2510.925263  156.932829  380.397794   \n",
       "FSLogix                                 2770.625047  115.442710  278.916659   \n",
       "Azure Functions                         3059.152245  278.104750  764.460548   \n",
       "Home Network Project                    3214.686426  200.917902  474.263702   \n",
       "DNS                                     3392.932809  212.058301  421.608789   \n",
       "WSL + Kali Linux                        3566.891106  187.731111  418.712605   \n",
       "Azure Functions + PP365                 3797.504525  165.108892  435.514069   \n",
       "Azure AI Search                         3982.680464  284.477176  741.212806   \n",
       "Powershell Modules                      5176.931002  172.564367  690.390097   \n",
       "PnP Powershell                          7189.695448  189.202512  670.724479   \n",
       "Vocab                                   7642.802798  103.281119  878.540587   \n",
       "JavaScript Concepts                     7875.552903  129.107425  444.721450   \n",
       "Logging in Python                       8446.433159  143.159884  962.488881   \n",
       "\n",
       "                                        head_count  \n",
       "Azure Developer Associate                       43  \n",
       "OData                                            4  \n",
       "Python                                          47  \n",
       "Todd Ideas                                      15  \n",
       "Email Auth and Security                         12  \n",
       "SharePoint                                      12  \n",
       "Audit Report Tracker (Sharepoint List)          13  \n",
       "Azure Functions + Visual Studio                 14  \n",
       "Debugging in VS Code                            20  \n",
       "IW Migration                                    14  \n",
       "Terraform                                       25  \n",
       "Open Source/GitHub                              16  \n",
       "FSLogix                                         24  \n",
       "Azure Functions                                 11  \n",
       "Home Network Project                            16  \n",
       "DNS                                             16  \n",
       "WSL + Kali Linux                                19  \n",
       "Azure Functions + PP365                         23  \n",
       "Azure AI Search                                 14  \n",
       "Powershell Modules                              30  \n",
       "PnP Powershell                                  38  \n",
       "Vocab                                           74  \n",
       "JavaScript Concepts                             61  \n",
       "Logging in Python                               59  "
      ]
     },
     "execution_count": 76,
     "metadata": {},
     "output_type": "execute_result"
    }
   ],
   "source": [
    "stats = existing_cards.groupby('head').agg({'age': ['sum', 'mean', 'max'], 'head': 'count'}).sort_values(('age', 'sum'))\n",
    "stats.columns = stats.columns.to_flat_index()\n",
    "stats.columns = ['_'.join(col).strip() for col in stats.columns]\n",
    "stats.index.name = None\n",
    "stats"
   ]
  },
  {
   "cell_type": "code",
   "execution_count": null,
   "metadata": {},
   "outputs": [],
   "source": []
  },
  {
   "cell_type": "markdown",
   "metadata": {},
   "source": [
    "# Histogram"
   ]
  },
  {
   "cell_type": "code",
   "execution_count": 77,
   "metadata": {},
   "outputs": [
    {
     "name": "stdout",
     "output_type": "stream",
     "text": [
      "80477.24\n"
     ]
    },
    {
     "data": {
      "text/plain": [
       "<Axes: >"
      ]
     },
     "execution_count": 77,
     "metadata": {},
     "output_type": "execute_result"
    },
    {
     "data": {
      "image/png": "[encoded data removed]",
      "text/plain": [
       "<Figure size 640x480 with 1 Axes>"
      ]
     },
     "metadata": {},
     "output_type": "display_data"
    }
   ],
   "source": [
    "print(f\"{existing_cards['age'].sum(0):.2f}\")\n",
    "existing_cards['age'].hist(bins=20)"
   ]
  },
  {
   "cell_type": "markdown",
   "metadata": {},
   "source": [
    "# Completely Random Shuffle"
   ]
  },
  {
   "cell_type": "code",
   "execution_count": 78,
   "metadata": {},
   "outputs": [],
   "source": [
    "# existing_cards = existing_cards.sample(frac=1)\n",
    "# remake_card_document(filename='certcards2.txt', existing_cards = existing_cards)"
   ]
  },
  {
   "cell_type": "markdown",
   "metadata": {},
   "source": [
    "# Age Sort"
   ]
  },
  {
   "cell_type": "code",
   "execution_count": 79,
   "metadata": {},
   "outputs": [],
   "source": [
    "# existing_cards = existing_cards.sort_values('age', ascending=False)\n",
    "# remake_card_document(filename='certcards2.txt', existing_cards=existing_cards)\n",
    "# existing_cards.head(10)"
   ]
  },
  {
   "cell_type": "markdown",
   "metadata": {},
   "source": [
    "# Headers with fewest notes first"
   ]
  },
  {
   "cell_type": "code",
   "execution_count": 80,
   "metadata": {},
   "outputs": [],
   "source": [
    "# frequency = existing_cards['head'].value_counts(ascending=True)\n",
    "\n",
    "# existing_cards = pd.merge(\n",
    "#     left=existing_cards,\n",
    "#     right=frequency.rename('frequency'),\n",
    "#     left_on='head', right_index=True,\n",
    "#     how='left'\n",
    "# )\n",
    "# existing_cards['oldest'] = existing_cards.groupby('head')['age'].transform('max')\n",
    "# existing_cards['subject_highest_age'] = existing_cards['subject_highest_age'] * -1\n",
    "# existing_cards['age'] = existing_cards['age'] * -1\n",
    "\n",
    "\n",
    "# existing_cards.sort_values(['frequency', 'subject_highest_age', 'age'], ascending=True, inplace=True)\n",
    "\n",
    "# remake_card_document(filename='certcards2.txt', existing_cards=existing_cards)\n",
    "\n",
    "# existing_cards.head(10)"
   ]
  },
  {
   "cell_type": "markdown",
   "metadata": {},
   "source": [
    "# Focus on one header"
   ]
  },
  {
   "cell_type": "code",
   "execution_count": 81,
   "metadata": {},
   "outputs": [],
   "source": [
    "# heads = existing_cards['head'].value_counts()\n",
    "# heads = heads[heads > 5].index.tolist()\n",
    "# one_header = random.sample(heads, 1)[0]\n",
    "# existing_cards['pick_head'] = existing_cards['head'].apply(\n",
    "#     lambda h: 0 if h == one_header else 1 \n",
    "# )\n",
    "\n",
    "# remake_card_document(existing_cards=existing_cards.sort_values('pick_head'))"
   ]
  },
  {
   "cell_type": "markdown",
   "metadata": {},
   "source": [
    "## Header with oldest cards first"
   ]
  },
  {
   "cell_type": "code",
   "execution_count": 82,
   "metadata": {},
   "outputs": [],
   "source": [
    "# existing_cards['oldest'] = existing_cards.groupby('head')['age'].transform('max')\n",
    "# existing_cards.sort_values(['oldest', 'age'], ascending=False, inplace=True)\n",
    "# remake_card_document(existing_cards)"
   ]
  },
  {
   "cell_type": "markdown",
   "metadata": {},
   "source": [
    "## Headers with greatest mean card age first"
   ]
  },
  {
   "cell_type": "code",
   "execution_count": 83,
   "metadata": {},
   "outputs": [],
   "source": [
    "# existing_cards.sort_values(['subject_mean_age', 'age'], ascending=False, inplace=True)\n",
    "# remake_card_document(existing_cards)"
   ]
  },
  {
   "cell_type": "markdown",
   "metadata": {},
   "source": [
    "## Headers with greatest age sum first"
   ]
  },
  {
   "cell_type": "code",
   "execution_count": 84,
   "metadata": {},
   "outputs": [],
   "source": [
    "# existing_cards.sort_values(['subject_age_sum', 'age'], ascending=False, inplace=True)\n",
    "# remake_card_document(existing_cards)"
   ]
  },
  {
   "cell_type": "markdown",
   "metadata": {},
   "source": [
    "# N-fold shuffle\n"
   ]
  },
  {
   "cell_type": "markdown",
   "metadata": {},
   "source": [
    "## Age Sum"
   ]
  },
  {
   "cell_type": "code",
   "execution_count": 85,
   "metadata": {},
   "outputs": [
    {
     "name": "stdout",
     "output_type": "stream",
     "text": [
      "Cards found: 620\n"
     ]
    },
    {
     "data": {
      "application/vnd.microsoft.datawrangler.viewer.v0+json": {
       "columns": [
        {
         "name": "index",
         "rawType": "int64",
         "type": "integer"
        },
        {
         "name": "head",
         "rawType": "object",
         "type": "string"
        },
        {
         "name": "body",
         "rawType": "object",
         "type": "string"
        },
        {
         "name": "hash",
         "rawType": "object",
         "type": "string"
        },
        {
         "name": "age",
         "rawType": "float64",
         "type": "float"
        },
        {
         "name": "subject_mean_age",
         "rawType": "float64",
         "type": "float"
        },
        {
         "name": "subject_highest_age",
         "rawType": "float64",
         "type": "float"
        },
        {
         "name": "subject_age_sum",
         "rawType": "float64",
         "type": "float"
        },
        {
         "name": "head_random_roll",
         "rawType": "float64",
         "type": "float"
        },
        {
         "name": "count",
         "rawType": "int64",
         "type": "integer"
        },
        {
         "name": "n_fold",
         "rawType": "int64",
         "type": "integer"
        }
       ],
       "conversionMethod": "pd.DataFrame",
       "ref": "6fd0030d-e81d-4d2f-acac-b5b3867d4fd0",
       "rows": [
        [
         "204",
         "Logging in Python",
         "Q: What is the primary purpose of TimedRotatingFileHandler from the logging.handlers module?\n\nA: To rotate log files at specific timed intervals, such as daily or hourly (when='midnight').\nThis ensures that log files are segmented based on time, facilitating organized log management.",
         "faa326e87e35a9c530e145d8221882e1",
         "-962.4888808982429",
         "143.15988405904272",
         "962.4888808982429",
         "-8446.43315948352",
         "0.9456374378924189",
         "0",
         "0"
        ],
        [
         "208",
         "Logging in Python",
         "Q: Name the four main types of file handlers available in Python's logging module.\n\nA: FileHandler, RotatingFileHandler, TimedRotatingFileHandler, WatchedFileHandler\nThese handlers manage log output to files with varying rotation and monitoring capabilities.",
         "d377706cdd0affd72c3fc3b394b0ec76",
         "-553.3074619240411",
         "143.15988405904272",
         "962.4888808982429",
         "-8446.43315948352",
         "0.9456374378924189",
         "3",
         "0"
        ],
        [
         "210",
         "Logging in Python",
         "Q: Which handler would you choose to limit the size of your log files and maintain a specific number of backup files?\n\nA: RotatingFileHandler from the logging.handlers module\nThis handler manages log file sizes and retains a set number of backup files to prevent excessive disk usage.",
         "e88425ccd534dce3464e2f2bd80e2b82",
         "-372.50731378090995",
         "143.15988405904272",
         "962.4888808982429",
         "-8446.43315948352",
         "0.9456374378924189",
         "6",
         "0"
        ],
        [
         "213",
         "Logging in Python",
         "Q: Which of the following is not a built-in logging level in Python: DEBUG, INFO, TRACE, CRITICAL?\n\nA: TRACE\nTRACE is not a standard logging level in Python's logging module.",
         "a3b8610205a18b6d3d01b6f8895bef1c",
         "-216.6783684509798",
         "143.15988405904272",
         "962.4888808982429",
         "-8446.43315948352",
         "0.9456374378924189",
         "9",
         "0"
        ],
        [
         "368",
         "Logging in Python",
         "Q: Which formatter attribute includes the name of the function where the log message originated in Python's logging.Formatter?\n\nA: %(funcName)s\nThis attribute inserts the function name into the log message, providing context about where the log was generated.",
         "2e0ab2ba9bf60dc9997a78bcad8c2208",
         "-159.21137639815305",
         "143.15988405904272",
         "962.4888808982429",
         "-8446.43315948352",
         "0.9456374378924189",
         "12",
         "0"
        ],
        [
         "371",
         "Logging in Python",
         "Q: What is a key benefit of using RotatingFileHandler from the logging.handlers module?\n\nA: It rotates log files when they reach a certain size, such as maxBytes=5*1024*1024 (5 MB).\nThis prevents log files from growing indefinitely, managing disk space effectively.",
         "fdae9af154f35eded0be02b8d268e70a",
         "-132.57974125921882",
         "143.15988405904272",
         "962.4888808982429",
         "-8446.43315948352",
         "0.9456374378924189",
         "15",
         "0"
        ],
        [
         "374",
         "Logging in Python",
         "Q: Which function is used to log a message with level WARNING in Python's logging module?\n\nA: logging.warning()\nThis function logs a message with a severity level of WARNING.",
         "872bc2349688e7f4f98af453609b062a",
         "-112.104509675138",
         "143.15988405904272",
         "962.4888808982429",
         "-8446.43315948352",
         "0.9456374378924189",
         "18",
         "0"
        ],
        [
         "448",
         "Logging in Python",
         "Q: What is the default logging level in Python's logging module?\n\nA: WARNING\nThis means that only messages with a severity of WARNING and above will be processed by default.",
         "0d5acf74cc5d8dc257dea30e6d4cb70e",
         "-93.70289000615459",
         "143.15988405904272",
         "962.4888808982429",
         "-8446.43315948352",
         "0.9456374378924189",
         "21",
         "0"
        ],
        [
         "452",
         "Logging in Python",
         "Q: What is the role of a QueueHandler and QueueListener in asynchronous logging within Python's logging module?\n\nA: QueueHandler sends log records to a thread-safe queue, while QueueListener retrieves and dispatches them to handlers, enabling non-blocking logging.\nThis setup is beneficial for applications where logging operations should not impede the main program flow.",
         "d301b31d9e75c42dcade4fdbaac4f5b9",
         "-83.20341849731207",
         "143.15988405904272",
         "962.4888808982429",
         "-8446.43315948352",
         "0.9456374378924189",
         "24",
         "0"
        ],
        [
         "455",
         "Logging in Python",
         "Q: How do you add a custom filter to a logger or handler in Python's logging module?\n\nA: Use the addFilter() method with a filter instance, e.g., logger.addFilter(SpecialFilter()).\nThis allows selective logging based on custom criteria defined within the filter.",
         "e8d0327146483afc39d93ca7a56f7796",
         "-74.68404872779821",
         "143.15988405904272",
         "962.4888808982429",
         "-8446.43315948352",
         "0.9456374378924189",
         "27",
         "0"
        ]
       ],
       "shape": {
        "columns": 10,
        "rows": 10
       }
      },
      "text/html": [
       "<div>\n",
       "<style scoped>\n",
       "    .dataframe tbody tr th:only-of-type {\n",
       "        vertical-align: middle;\n",
       "    }\n",
       "\n",
       "    .dataframe tbody tr th {\n",
       "        vertical-align: top;\n",
       "    }\n",
       "\n",
       "    .dataframe thead th {\n",
       "        text-align: right;\n",
       "    }\n",
       "</style>\n",
       "<table border=\"1\" class=\"dataframe\">\n",
       "  <thead>\n",
       "    <tr style=\"text-align: right;\">\n",
       "      <th></th>\n",
       "      <th>head</th>\n",
       "      <th>body</th>\n",
       "      <th>hash</th>\n",
       "      <th>age</th>\n",
       "      <th>subject_mean_age</th>\n",
       "      <th>subject_highest_age</th>\n",
       "      <th>subject_age_sum</th>\n",
       "      <th>head_random_roll</th>\n",
       "      <th>count</th>\n",
       "      <th>n_fold</th>\n",
       "    </tr>\n",
       "  </thead>\n",
       "  <tbody>\n",
       "    <tr>\n",
       "      <th>204</th>\n",
       "      <td>Logging in Python</td>\n",
       "      <td>Q: What is the primary purpose of TimedRotatin...</td>\n",
       "      <td>faa326e87e35a9c530e145d8221882e1</td>\n",
       "      <td>-962.488881</td>\n",
       "      <td>143.159884</td>\n",
       "      <td>962.488881</td>\n",
       "      <td>-8446.433159</td>\n",
       "      <td>0.945637</td>\n",
       "      <td>0</td>\n",
       "      <td>0</td>\n",
       "    </tr>\n",
       "    <tr>\n",
       "      <th>208</th>\n",
       "      <td>Logging in Python</td>\n",
       "      <td>Q: Name the four main types of file handlers a...</td>\n",
       "      <td>d377706cdd0affd72c3fc3b394b0ec76</td>\n",
       "      <td>-553.307462</td>\n",
       "      <td>143.159884</td>\n",
       "      <td>962.488881</td>\n",
       "      <td>-8446.433159</td>\n",
       "      <td>0.945637</td>\n",
       "      <td>3</td>\n",
       "      <td>0</td>\n",
       "    </tr>\n",
       "    <tr>\n",
       "      <th>210</th>\n",
       "      <td>Logging in Python</td>\n",
       "      <td>Q: Which handler would you choose to limit the...</td>\n",
       "      <td>e88425ccd534dce3464e2f2bd80e2b82</td>\n",
       "      <td>-372.507314</td>\n",
       "      <td>143.159884</td>\n",
       "      <td>962.488881</td>\n",
       "      <td>-8446.433159</td>\n",
       "      <td>0.945637</td>\n",
       "      <td>6</td>\n",
       "      <td>0</td>\n",
       "    </tr>\n",
       "    <tr>\n",
       "      <th>213</th>\n",
       "      <td>Logging in Python</td>\n",
       "      <td>Q: Which of the following is not a built-in lo...</td>\n",
       "      <td>a3b8610205a18b6d3d01b6f8895bef1c</td>\n",
       "      <td>-216.678368</td>\n",
       "      <td>143.159884</td>\n",
       "      <td>962.488881</td>\n",
       "      <td>-8446.433159</td>\n",
       "      <td>0.945637</td>\n",
       "      <td>9</td>\n",
       "      <td>0</td>\n",
       "    </tr>\n",
       "    <tr>\n",
       "      <th>368</th>\n",
       "      <td>Logging in Python</td>\n",
       "      <td>Q: Which formatter attribute includes the name...</td>\n",
       "      <td>2e0ab2ba9bf60dc9997a78bcad8c2208</td>\n",
       "      <td>-159.211376</td>\n",
       "      <td>143.159884</td>\n",
       "      <td>962.488881</td>\n",
       "      <td>-8446.433159</td>\n",
       "      <td>0.945637</td>\n",
       "      <td>12</td>\n",
       "      <td>0</td>\n",
       "    </tr>\n",
       "    <tr>\n",
       "      <th>371</th>\n",
       "      <td>Logging in Python</td>\n",
       "      <td>Q: What is a key benefit of using RotatingFile...</td>\n",
       "      <td>fdae9af154f35eded0be02b8d268e70a</td>\n",
       "      <td>-132.579741</td>\n",
       "      <td>143.159884</td>\n",
       "      <td>962.488881</td>\n",
       "      <td>-8446.433159</td>\n",
       "      <td>0.945637</td>\n",
       "      <td>15</td>\n",
       "      <td>0</td>\n",
       "    </tr>\n",
       "    <tr>\n",
       "      <th>374</th>\n",
       "      <td>Logging in Python</td>\n",
       "      <td>Q: Which function is used to log a message wit...</td>\n",
       "      <td>872bc2349688e7f4f98af453609b062a</td>\n",
       "      <td>-112.104510</td>\n",
       "      <td>143.159884</td>\n",
       "      <td>962.488881</td>\n",
       "      <td>-8446.433159</td>\n",
       "      <td>0.945637</td>\n",
       "      <td>18</td>\n",
       "      <td>0</td>\n",
       "    </tr>\n",
       "    <tr>\n",
       "      <th>448</th>\n",
       "      <td>Logging in Python</td>\n",
       "      <td>Q: What is the default logging level in Python...</td>\n",
       "      <td>0d5acf74cc5d8dc257dea30e6d4cb70e</td>\n",
       "      <td>-93.702890</td>\n",
       "      <td>143.159884</td>\n",
       "      <td>962.488881</td>\n",
       "      <td>-8446.433159</td>\n",
       "      <td>0.945637</td>\n",
       "      <td>21</td>\n",
       "      <td>0</td>\n",
       "    </tr>\n",
       "    <tr>\n",
       "      <th>452</th>\n",
       "      <td>Logging in Python</td>\n",
       "      <td>Q: What is the role of a QueueHandler and Queu...</td>\n",
       "      <td>d301b31d9e75c42dcade4fdbaac4f5b9</td>\n",
       "      <td>-83.203418</td>\n",
       "      <td>143.159884</td>\n",
       "      <td>962.488881</td>\n",
       "      <td>-8446.433159</td>\n",
       "      <td>0.945637</td>\n",
       "      <td>24</td>\n",
       "      <td>0</td>\n",
       "    </tr>\n",
       "    <tr>\n",
       "      <th>455</th>\n",
       "      <td>Logging in Python</td>\n",
       "      <td>Q: How do you add a custom filter to a logger ...</td>\n",
       "      <td>e8d0327146483afc39d93ca7a56f7796</td>\n",
       "      <td>-74.684049</td>\n",
       "      <td>143.159884</td>\n",
       "      <td>962.488881</td>\n",
       "      <td>-8446.433159</td>\n",
       "      <td>0.945637</td>\n",
       "      <td>27</td>\n",
       "      <td>0</td>\n",
       "    </tr>\n",
       "  </tbody>\n",
       "</table>\n",
       "</div>"
      ],
      "text/plain": [
       "                  head                                               body  \\\n",
       "204  Logging in Python  Q: What is the primary purpose of TimedRotatin...   \n",
       "208  Logging in Python  Q: Name the four main types of file handlers a...   \n",
       "210  Logging in Python  Q: Which handler would you choose to limit the...   \n",
       "213  Logging in Python  Q: Which of the following is not a built-in lo...   \n",
       "368  Logging in Python  Q: Which formatter attribute includes the name...   \n",
       "371  Logging in Python  Q: What is a key benefit of using RotatingFile...   \n",
       "374  Logging in Python  Q: Which function is used to log a message wit...   \n",
       "448  Logging in Python  Q: What is the default logging level in Python...   \n",
       "452  Logging in Python  Q: What is the role of a QueueHandler and Queu...   \n",
       "455  Logging in Python  Q: How do you add a custom filter to a logger ...   \n",
       "\n",
       "                                 hash         age  subject_mean_age  \\\n",
       "204  faa326e87e35a9c530e145d8221882e1 -962.488881        143.159884   \n",
       "208  d377706cdd0affd72c3fc3b394b0ec76 -553.307462        143.159884   \n",
       "210  e88425ccd534dce3464e2f2bd80e2b82 -372.507314        143.159884   \n",
       "213  a3b8610205a18b6d3d01b6f8895bef1c -216.678368        143.159884   \n",
       "368  2e0ab2ba9bf60dc9997a78bcad8c2208 -159.211376        143.159884   \n",
       "371  fdae9af154f35eded0be02b8d268e70a -132.579741        143.159884   \n",
       "374  872bc2349688e7f4f98af453609b062a -112.104510        143.159884   \n",
       "448  0d5acf74cc5d8dc257dea30e6d4cb70e  -93.702890        143.159884   \n",
       "452  d301b31d9e75c42dcade4fdbaac4f5b9  -83.203418        143.159884   \n",
       "455  e8d0327146483afc39d93ca7a56f7796  -74.684049        143.159884   \n",
       "\n",
       "     subject_highest_age  subject_age_sum  head_random_roll  count  n_fold  \n",
       "204           962.488881     -8446.433159          0.945637      0       0  \n",
       "208           962.488881     -8446.433159          0.945637      3       0  \n",
       "210           962.488881     -8446.433159          0.945637      6       0  \n",
       "213           962.488881     -8446.433159          0.945637      9       0  \n",
       "368           962.488881     -8446.433159          0.945637     12       0  \n",
       "371           962.488881     -8446.433159          0.945637     15       0  \n",
       "374           962.488881     -8446.433159          0.945637     18       0  \n",
       "448           962.488881     -8446.433159          0.945637     21       0  \n",
       "452           962.488881     -8446.433159          0.945637     24       0  \n",
       "455           962.488881     -8446.433159          0.945637     27       0  "
      ]
     },
     "execution_count": 85,
     "metadata": {},
     "output_type": "execute_result"
    }
   ],
   "source": [
    "n=3\n",
    "existing_cards['count'] = existing_cards.sort_values('age', ascending=False).groupby('head').cumcount()\n",
    "existing_cards['n_fold'] = existing_cards['count'] % n\n",
    "\n",
    "existing_cards['subject_age_sum'] = existing_cards['subject_age_sum'] *-1\n",
    "existing_cards['age'] = existing_cards['age'] *-1\n",
    "existing_cards.sort_values(['n_fold', 'subject_age_sum', 'age'], inplace=True)\n",
    "\n",
    "remake_card_document(existing_cards=existing_cards)\n",
    "existing_cards.head(10)\n"
   ]
  },
  {
   "cell_type": "markdown",
   "metadata": {},
   "source": [
    "## Age Mean"
   ]
  },
  {
   "cell_type": "code",
   "execution_count": 86,
   "metadata": {},
   "outputs": [],
   "source": [
    "# n=3\n",
    "# existing_cards['count'] = existing_cards.sort_values('age', ascending=False).groupby('head').cumcount()\n",
    "# existing_cards['n_fold'] = existing_cards['count'] % n\n",
    "\n",
    "# existing_cards['subject_mean_age'] = existing_cards['subject_mean_age'] *-1\n",
    "# existing_cards['age'] = existing_cards['age'] *-1\n",
    "# existing_cards.sort_values(['n_fold', 'subject_mean_age', 'age'], inplace=True)\n",
    "# remake_card_document(existing_cards=existing_cards)\n",
    "\n",
    "# existing_cards.head(10)\n",
    "\n"
   ]
  },
  {
   "cell_type": "markdown",
   "metadata": {},
   "source": [
    "## Age Max"
   ]
  },
  {
   "cell_type": "code",
   "execution_count": 87,
   "metadata": {},
   "outputs": [],
   "source": [
    "# n = 1\n",
    "# existing_cards['count'] = existing_cards.sort_values('age', ascending=False).groupby('head').cumcount()\n",
    "# existing_cards['n_fold'] = existing_cards['count'] // n\n",
    "\n",
    "# if existing_cards['age'].sum() > 0:\n",
    "#     existing_cards['subject_highest_age'] = existing_cards['subject_highest_age'] *-1\n",
    "#     existing_cards['age'] = existing_cards['age'] *-1\n",
    "# existing_cards.sort_values(['n_fold', 'subject_highest_age', 'age'], inplace=True)\n",
    "\n",
    "# remake_card_document(existing_cards=existing_cards)\n",
    "# existing_cards.head(10)\n"
   ]
  },
  {
   "cell_type": "markdown",
   "metadata": {},
   "source": [
    "## Card Count"
   ]
  },
  {
   "cell_type": "code",
   "execution_count": 88,
   "metadata": {},
   "outputs": [],
   "source": [
    "# n=10\n",
    "# existing_cards['frequency']  = existing_cards.groupby('head').transform('count')['body']\n",
    "# existing_cards['count'] = existing_cards.sort_values('age', ascending=False).groupby('head').cumcount()\n",
    "# existing_cards['n_fold'] = existing_cards['count'] // n\n",
    "\n",
    "# if existing_cards['age'].sum() > 0:\n",
    "#     # existing_cards['neg_subject_highest_age'] = existing_cards['subject_highest_age'] *-1\n",
    "#     existing_cards['neg_age'] = existing_cards['age'] *-1\n",
    "# existing_cards.sort_values(['n_fold', 'frequency', 'neg_age'], inplace=True)\n",
    "# remake_card_document(existing_cards=existing_cards)\n",
    "\n",
    "# existing_cards.head(10)\n",
    "\n"
   ]
  },
  {
   "cell_type": "markdown",
   "metadata": {},
   "source": [
    "\n",
    "## Random"
   ]
  },
  {
   "cell_type": "code",
   "execution_count": 89,
   "metadata": {},
   "outputs": [],
   "source": [
    "# n = 3\n",
    "# existing_cards['count'] = existing_cards.sort_values('age', ascending=False).groupby('head').cumcount()\n",
    "# existing_cards['n_fold'] = existing_cards['count'] % n\n",
    "# existing_cards['age'] *= -1\n",
    "# existing_cards.sort_values(['n_fold', 'head_random_roll', 'age'], inplace=True)\n",
    "# remake_card_document(existing_cards=existing_cards)\n",
    "# existing_cards.head(10)"
   ]
  },
  {
   "cell_type": "code",
   "execution_count": 90,
   "metadata": {},
   "outputs": [
    {
     "data": {
      "application/vnd.microsoft.datawrangler.viewer.v0+json": {
       "columns": [
        {
         "name": "index",
         "rawType": "int64",
         "type": "integer"
        },
        {
         "name": "head",
         "rawType": "object",
         "type": "string"
        },
        {
         "name": "body",
         "rawType": "object",
         "type": "string"
        },
        {
         "name": "hash",
         "rawType": "object",
         "type": "string"
        },
        {
         "name": "age",
         "rawType": "float64",
         "type": "float"
        },
        {
         "name": "subject_mean_age",
         "rawType": "float64",
         "type": "float"
        },
        {
         "name": "subject_highest_age",
         "rawType": "float64",
         "type": "float"
        },
        {
         "name": "subject_age_sum",
         "rawType": "float64",
         "type": "float"
        },
        {
         "name": "head_random_roll",
         "rawType": "float64",
         "type": "float"
        },
        {
         "name": "count",
         "rawType": "int64",
         "type": "integer"
        },
        {
         "name": "n_fold",
         "rawType": "int64",
         "type": "integer"
        }
       ],
       "conversionMethod": "pd.DataFrame",
       "ref": "1d8f73e5-7009-47d9-a7f1-1de2b9546ebe",
       "rows": [
        [
         "204",
         "Logging in Python",
         "Q: What is the primary purpose of TimedRotatingFileHandler from the logging.handlers module?\n\nA: To rotate log files at specific timed intervals, such as daily or hourly (when='midnight').\nThis ensures that log files are segmented based on time, facilitating organized log management.",
         "faa326e87e35a9c530e145d8221882e1",
         "-962.4888808982429",
         "143.15988405904272",
         "962.4888808982429",
         "-8446.43315948352",
         "0.9456374378924189",
         "0",
         "0"
        ],
        [
         "208",
         "Logging in Python",
         "Q: Name the four main types of file handlers available in Python's logging module.\n\nA: FileHandler, RotatingFileHandler, TimedRotatingFileHandler, WatchedFileHandler\nThese handlers manage log output to files with varying rotation and monitoring capabilities.",
         "d377706cdd0affd72c3fc3b394b0ec76",
         "-553.3074619240411",
         "143.15988405904272",
         "962.4888808982429",
         "-8446.43315948352",
         "0.9456374378924189",
         "3",
         "0"
        ],
        [
         "210",
         "Logging in Python",
         "Q: Which handler would you choose to limit the size of your log files and maintain a specific number of backup files?\n\nA: RotatingFileHandler from the logging.handlers module\nThis handler manages log file sizes and retains a set number of backup files to prevent excessive disk usage.",
         "e88425ccd534dce3464e2f2bd80e2b82",
         "-372.50731378090995",
         "143.15988405904272",
         "962.4888808982429",
         "-8446.43315948352",
         "0.9456374378924189",
         "6",
         "0"
        ],
        [
         "213",
         "Logging in Python",
         "Q: Which of the following is not a built-in logging level in Python: DEBUG, INFO, TRACE, CRITICAL?\n\nA: TRACE\nTRACE is not a standard logging level in Python's logging module.",
         "a3b8610205a18b6d3d01b6f8895bef1c",
         "-216.6783684509798",
         "143.15988405904272",
         "962.4888808982429",
         "-8446.43315948352",
         "0.9456374378924189",
         "9",
         "0"
        ],
        [
         "368",
         "Logging in Python",
         "Q: Which formatter attribute includes the name of the function where the log message originated in Python's logging.Formatter?\n\nA: %(funcName)s\nThis attribute inserts the function name into the log message, providing context about where the log was generated.",
         "2e0ab2ba9bf60dc9997a78bcad8c2208",
         "-159.21137639815305",
         "143.15988405904272",
         "962.4888808982429",
         "-8446.43315948352",
         "0.9456374378924189",
         "12",
         "0"
        ],
        [
         "371",
         "Logging in Python",
         "Q: What is a key benefit of using RotatingFileHandler from the logging.handlers module?\n\nA: It rotates log files when they reach a certain size, such as maxBytes=5*1024*1024 (5 MB).\nThis prevents log files from growing indefinitely, managing disk space effectively.",
         "fdae9af154f35eded0be02b8d268e70a",
         "-132.57974125921882",
         "143.15988405904272",
         "962.4888808982429",
         "-8446.43315948352",
         "0.9456374378924189",
         "15",
         "0"
        ],
        [
         "374",
         "Logging in Python",
         "Q: Which function is used to log a message with level WARNING in Python's logging module?\n\nA: logging.warning()\nThis function logs a message with a severity level of WARNING.",
         "872bc2349688e7f4f98af453609b062a",
         "-112.104509675138",
         "143.15988405904272",
         "962.4888808982429",
         "-8446.43315948352",
         "0.9456374378924189",
         "18",
         "0"
        ],
        [
         "448",
         "Logging in Python",
         "Q: What is the default logging level in Python's logging module?\n\nA: WARNING\nThis means that only messages with a severity of WARNING and above will be processed by default.",
         "0d5acf74cc5d8dc257dea30e6d4cb70e",
         "-93.70289000615459",
         "143.15988405904272",
         "962.4888808982429",
         "-8446.43315948352",
         "0.9456374378924189",
         "21",
         "0"
        ],
        [
         "452",
         "Logging in Python",
         "Q: What is the role of a QueueHandler and QueueListener in asynchronous logging within Python's logging module?\n\nA: QueueHandler sends log records to a thread-safe queue, while QueueListener retrieves and dispatches them to handlers, enabling non-blocking logging.\nThis setup is beneficial for applications where logging operations should not impede the main program flow.",
         "d301b31d9e75c42dcade4fdbaac4f5b9",
         "-83.20341849731207",
         "143.15988405904272",
         "962.4888808982429",
         "-8446.43315948352",
         "0.9456374378924189",
         "24",
         "0"
        ],
        [
         "455",
         "Logging in Python",
         "Q: How do you add a custom filter to a logger or handler in Python's logging module?\n\nA: Use the addFilter() method with a filter instance, e.g., logger.addFilter(SpecialFilter()).\nThis allows selective logging based on custom criteria defined within the filter.",
         "e8d0327146483afc39d93ca7a56f7796",
         "-74.68404872779821",
         "143.15988405904272",
         "962.4888808982429",
         "-8446.43315948352",
         "0.9456374378924189",
         "27",
         "0"
        ]
       ],
       "shape": {
        "columns": 10,
        "rows": 10
       }
      },
      "text/html": [
       "<div>\n",
       "<style scoped>\n",
       "    .dataframe tbody tr th:only-of-type {\n",
       "        vertical-align: middle;\n",
       "    }\n",
       "\n",
       "    .dataframe tbody tr th {\n",
       "        vertical-align: top;\n",
       "    }\n",
       "\n",
       "    .dataframe thead th {\n",
       "        text-align: right;\n",
       "    }\n",
       "</style>\n",
       "<table border=\"1\" class=\"dataframe\">\n",
       "  <thead>\n",
       "    <tr style=\"text-align: right;\">\n",
       "      <th></th>\n",
       "      <th>head</th>\n",
       "      <th>body</th>\n",
       "      <th>hash</th>\n",
       "      <th>age</th>\n",
       "      <th>subject_mean_age</th>\n",
       "      <th>subject_highest_age</th>\n",
       "      <th>subject_age_sum</th>\n",
       "      <th>head_random_roll</th>\n",
       "      <th>count</th>\n",
       "      <th>n_fold</th>\n",
       "    </tr>\n",
       "  </thead>\n",
       "  <tbody>\n",
       "    <tr>\n",
       "      <th>204</th>\n",
       "      <td>Logging in Python</td>\n",
       "      <td>Q: What is the primary purpose of TimedRotatin...</td>\n",
       "      <td>faa326e87e35a9c530e145d8221882e1</td>\n",
       "      <td>-962.488881</td>\n",
       "      <td>143.159884</td>\n",
       "      <td>962.488881</td>\n",
       "      <td>-8446.433159</td>\n",
       "      <td>0.945637</td>\n",
       "      <td>0</td>\n",
       "      <td>0</td>\n",
       "    </tr>\n",
       "    <tr>\n",
       "      <th>208</th>\n",
       "      <td>Logging in Python</td>\n",
       "      <td>Q: Name the four main types of file handlers a...</td>\n",
       "      <td>d377706cdd0affd72c3fc3b394b0ec76</td>\n",
       "      <td>-553.307462</td>\n",
       "      <td>143.159884</td>\n",
       "      <td>962.488881</td>\n",
       "      <td>-8446.433159</td>\n",
       "      <td>0.945637</td>\n",
       "      <td>3</td>\n",
       "      <td>0</td>\n",
       "    </tr>\n",
       "    <tr>\n",
       "      <th>210</th>\n",
       "      <td>Logging in Python</td>\n",
       "      <td>Q: Which handler would you choose to limit the...</td>\n",
       "      <td>e88425ccd534dce3464e2f2bd80e2b82</td>\n",
       "      <td>-372.507314</td>\n",
       "      <td>143.159884</td>\n",
       "      <td>962.488881</td>\n",
       "      <td>-8446.433159</td>\n",
       "      <td>0.945637</td>\n",
       "      <td>6</td>\n",
       "      <td>0</td>\n",
       "    </tr>\n",
       "    <tr>\n",
       "      <th>213</th>\n",
       "      <td>Logging in Python</td>\n",
       "      <td>Q: Which of the following is not a built-in lo...</td>\n",
       "      <td>a3b8610205a18b6d3d01b6f8895bef1c</td>\n",
       "      <td>-216.678368</td>\n",
       "      <td>143.159884</td>\n",
       "      <td>962.488881</td>\n",
       "      <td>-8446.433159</td>\n",
       "      <td>0.945637</td>\n",
       "      <td>9</td>\n",
       "      <td>0</td>\n",
       "    </tr>\n",
       "    <tr>\n",
       "      <th>368</th>\n",
       "      <td>Logging in Python</td>\n",
       "      <td>Q: Which formatter attribute includes the name...</td>\n",
       "      <td>2e0ab2ba9bf60dc9997a78bcad8c2208</td>\n",
       "      <td>-159.211376</td>\n",
       "      <td>143.159884</td>\n",
       "      <td>962.488881</td>\n",
       "      <td>-8446.433159</td>\n",
       "      <td>0.945637</td>\n",
       "      <td>12</td>\n",
       "      <td>0</td>\n",
       "    </tr>\n",
       "    <tr>\n",
       "      <th>371</th>\n",
       "      <td>Logging in Python</td>\n",
       "      <td>Q: What is a key benefit of using RotatingFile...</td>\n",
       "      <td>fdae9af154f35eded0be02b8d268e70a</td>\n",
       "      <td>-132.579741</td>\n",
       "      <td>143.159884</td>\n",
       "      <td>962.488881</td>\n",
       "      <td>-8446.433159</td>\n",
       "      <td>0.945637</td>\n",
       "      <td>15</td>\n",
       "      <td>0</td>\n",
       "    </tr>\n",
       "    <tr>\n",
       "      <th>374</th>\n",
       "      <td>Logging in Python</td>\n",
       "      <td>Q: Which function is used to log a message wit...</td>\n",
       "      <td>872bc2349688e7f4f98af453609b062a</td>\n",
       "      <td>-112.104510</td>\n",
       "      <td>143.159884</td>\n",
       "      <td>962.488881</td>\n",
       "      <td>-8446.433159</td>\n",
       "      <td>0.945637</td>\n",
       "      <td>18</td>\n",
       "      <td>0</td>\n",
       "    </tr>\n",
       "    <tr>\n",
       "      <th>448</th>\n",
       "      <td>Logging in Python</td>\n",
       "      <td>Q: What is the default logging level in Python...</td>\n",
       "      <td>0d5acf74cc5d8dc257dea30e6d4cb70e</td>\n",
       "      <td>-93.702890</td>\n",
       "      <td>143.159884</td>\n",
       "      <td>962.488881</td>\n",
       "      <td>-8446.433159</td>\n",
       "      <td>0.945637</td>\n",
       "      <td>21</td>\n",
       "      <td>0</td>\n",
       "    </tr>\n",
       "    <tr>\n",
       "      <th>452</th>\n",
       "      <td>Logging in Python</td>\n",
       "      <td>Q: What is the role of a QueueHandler and Queu...</td>\n",
       "      <td>d301b31d9e75c42dcade4fdbaac4f5b9</td>\n",
       "      <td>-83.203418</td>\n",
       "      <td>143.159884</td>\n",
       "      <td>962.488881</td>\n",
       "      <td>-8446.433159</td>\n",
       "      <td>0.945637</td>\n",
       "      <td>24</td>\n",
       "      <td>0</td>\n",
       "    </tr>\n",
       "    <tr>\n",
       "      <th>455</th>\n",
       "      <td>Logging in Python</td>\n",
       "      <td>Q: How do you add a custom filter to a logger ...</td>\n",
       "      <td>e8d0327146483afc39d93ca7a56f7796</td>\n",
       "      <td>-74.684049</td>\n",
       "      <td>143.159884</td>\n",
       "      <td>962.488881</td>\n",
       "      <td>-8446.433159</td>\n",
       "      <td>0.945637</td>\n",
       "      <td>27</td>\n",
       "      <td>0</td>\n",
       "    </tr>\n",
       "  </tbody>\n",
       "</table>\n",
       "</div>"
      ],
      "text/plain": [
       "                  head                                               body  \\\n",
       "204  Logging in Python  Q: What is the primary purpose of TimedRotatin...   \n",
       "208  Logging in Python  Q: Name the four main types of file handlers a...   \n",
       "210  Logging in Python  Q: Which handler would you choose to limit the...   \n",
       "213  Logging in Python  Q: Which of the following is not a built-in lo...   \n",
       "368  Logging in Python  Q: Which formatter attribute includes the name...   \n",
       "371  Logging in Python  Q: What is a key benefit of using RotatingFile...   \n",
       "374  Logging in Python  Q: Which function is used to log a message wit...   \n",
       "448  Logging in Python  Q: What is the default logging level in Python...   \n",
       "452  Logging in Python  Q: What is the role of a QueueHandler and Queu...   \n",
       "455  Logging in Python  Q: How do you add a custom filter to a logger ...   \n",
       "\n",
       "                                 hash         age  subject_mean_age  \\\n",
       "204  faa326e87e35a9c530e145d8221882e1 -962.488881        143.159884   \n",
       "208  d377706cdd0affd72c3fc3b394b0ec76 -553.307462        143.159884   \n",
       "210  e88425ccd534dce3464e2f2bd80e2b82 -372.507314        143.159884   \n",
       "213  a3b8610205a18b6d3d01b6f8895bef1c -216.678368        143.159884   \n",
       "368  2e0ab2ba9bf60dc9997a78bcad8c2208 -159.211376        143.159884   \n",
       "371  fdae9af154f35eded0be02b8d268e70a -132.579741        143.159884   \n",
       "374  872bc2349688e7f4f98af453609b062a -112.104510        143.159884   \n",
       "448  0d5acf74cc5d8dc257dea30e6d4cb70e  -93.702890        143.159884   \n",
       "452  d301b31d9e75c42dcade4fdbaac4f5b9  -83.203418        143.159884   \n",
       "455  e8d0327146483afc39d93ca7a56f7796  -74.684049        143.159884   \n",
       "\n",
       "     subject_highest_age  subject_age_sum  head_random_roll  count  n_fold  \n",
       "204           962.488881     -8446.433159          0.945637      0       0  \n",
       "208           962.488881     -8446.433159          0.945637      3       0  \n",
       "210           962.488881     -8446.433159          0.945637      6       0  \n",
       "213           962.488881     -8446.433159          0.945637      9       0  \n",
       "368           962.488881     -8446.433159          0.945637     12       0  \n",
       "371           962.488881     -8446.433159          0.945637     15       0  \n",
       "374           962.488881     -8446.433159          0.945637     18       0  \n",
       "448           962.488881     -8446.433159          0.945637     21       0  \n",
       "452           962.488881     -8446.433159          0.945637     24       0  \n",
       "455           962.488881     -8446.433159          0.945637     27       0  "
      ]
     },
     "execution_count": 90,
     "metadata": {},
     "output_type": "execute_result"
    }
   ],
   "source": [
    "existing_cards.head(10)"
   ]
  },
  {
   "cell_type": "code",
   "execution_count": 91,
   "metadata": {},
   "outputs": [
    {
     "data": {
      "text/plain": [
       "-129.8019944697714"
      ]
     },
     "execution_count": 91,
     "metadata": {},
     "output_type": "execute_result"
    }
   ],
   "source": [
    "existing_cards['age'].mean()"
   ]
  }
 ],
 "metadata": {
  "kernelspec": {
   "display_name": "Python 3",
   "language": "python",
   "name": "python3"
  },
  "language_info": {
   "codemirror_mode": {
    "name": "ipython",
    "version": 3
   },
   "file_extension": ".py",
   "mimetype": "text/x-python",
   "name": "python",
   "nbconvert_exporter": "python",
   "pygments_lexer": "ipython3",
   "version": "3.10.10"
  }
 },
 "nbformat": 4,
 "nbformat_minor": 2
}
