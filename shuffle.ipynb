{
 "cells": [
  {
   "cell_type": "code",
   "execution_count": 127,
   "metadata": {},
   "outputs": [],
   "source": [
    "import re\n",
    "import random\n",
    "import pandas as pd\n",
    "import hashlib"
   ]
  },
  {
   "cell_type": "code",
   "execution_count": 128,
   "metadata": {},
   "outputs": [],
   "source": [
    "with open('certcards2.txt', mode='r', encoding='utf8') as f:\n",
    "    all_cards = f.read()\n",
    "    \n",
    "card_split_pattern = r'\\n\\n\\n\\d+\\n'\n",
    "all_cards = re.split(card_split_pattern, all_cards)\n",
    "# Use re.DOTALL to allow . to match newline characters\n",
    "card_pattern = re.compile(r'(.+?)\\n([\\s\\S]+)', re.DOTALL)\n",
    "cards = [(match.group(1), match.group(2)) for cstring in all_cards if (match := re.search(card_pattern, cstring))]\n",
    "\n",
    "# removing the cards that have no content and trimming\n",
    "cards = [(subject, stripped_content) for subject, content in cards if len(stripped_content := content.strip()) > 5]\n",
    "\n",
    "def hash_string_md5(s):\n",
    "    \"\"\"\n",
    "    Hashes a string using MD5 and returns a truncated hash for efficiency.\n",
    "\n",
    "    Parameters:\n",
    "    - s (str): The input string to hash.\n",
    "\n",
    "    Returns:\n",
    "    - str: The truncated hexadecimal hash string.\n",
    "    \"\"\"\n",
    "    if pd.isnull(s):\n",
    "        return None  # Handle NaN values gracefully\n",
    "    return hashlib.md5(s.encode('utf-8')).hexdigest()\n",
    "\n",
    "\n",
    "def remake_card_document(existing_cards: pd.DataFrame, filename: str='certcards2.txt'):\n",
    "    with open(filename, mode='w', encoding='utf8') as f:\n",
    "        i = 1\n",
    "        for _, row in existing_cards.iterrows():\n",
    "            f.write('\\n'*6)\n",
    "            f.write(str(i)+'\\n')  \n",
    "            f.write(row['head']+'\\n')\n",
    "            f.write(row['body'])\n",
    "            i+=1\n",
    "    print(F\"Cards found: {existing_cards.shape[0]}\")\n",
    "    print(F\"Total card age: {abs(existing_cards['age'].sum()):.2f}\")\n",
    "\n",
    "\n",
    "existing_cards = pd.DataFrame(cards, columns=['head', 'body'])\n",
    "\n",
    "\n",
    "# existing_cards['age'] = [random.random() for _ in existing_cards.index]\n",
    "existing_cards['hash'] = existing_cards['body'].apply(hash_string_md5)\n",
    "existing_cards\n",
    "\n",
    "card_ages = pd.read_json('card_ages.json')\n",
    "card_ages = card_ages.drop_duplicates(subset=['hash'], keep='first')\n",
    "\n",
    "cards_to_age = pd.merge(\n",
    "    left=existing_cards,\n",
    "    right=card_ages[['hash', 'age']],\n",
    "    left_on='hash', right_on='hash',\n",
    "    how='left'\n",
    ")\n",
    "\n",
    "cards_to_age['head'] = cards_to_age['head'].str.strip()\n",
    "\n",
    "if cards_to_age['age'].sum() > 2e4: age_factor = .5\n",
    "else: age_factor = 1.5\n",
    "\n",
    "cards_to_age['age'] = cards_to_age['age'].fillna(0)\n",
    "# cards_to_age['age'] = cards_to_age['age'] * age_factor\n",
    "cards_to_age['age'] = cards_to_age['age'] + [random.expovariate(.60) for _ in cards_to_age.index]\n",
    "# cards_to_age['age'] = cards_to_age['age'] * [random.expovariate(1/age_factor) for _ in cards_to_age.index]\n",
    "\n",
    "# Adding priority age growth to cards for upcoming certifications\n",
    "priority_headers = ['Azure Developer Associate']\n",
    "priority_cards_mask = cards_to_age['head'].isin(priority_headers)\n",
    "cards_to_age.loc[priority_cards_mask, 'age'] = cards_to_age.loc[priority_cards_mask, 'age'] * 1.05\n",
    "\n",
    "cards_to_age = cards_to_age.drop_duplicates(subset=['hash'], keep='first')\n",
    "\n",
    "cards_to_age['subject_mean_age'] = cards_to_age.groupby('head')['age'].transform('mean')\n",
    "cards_to_age['subject_highest_age'] = cards_to_age.groupby('head')['age'].transform('max')\n",
    "cards_to_age['subject_age_sum'] = cards_to_age.groupby('head')['age'].transform('sum')\n",
    "cards_to_age['head_random_roll'] = cards_to_age.groupby('head')['head'].transform(lambda x: random.random())\n",
    "\n",
    "\n",
    "cards_to_age.sort_values('hash')[['age', 'head', 'hash']].to_json('card_ages.json', indent=2)\n",
    "\n",
    "existing_cards = cards_to_age"
   ]
  },
  {
   "cell_type": "code",
   "execution_count": 129,
   "metadata": {},
   "outputs": [
    {
     "data": {
      "text/html": [
       "<div>\n",
       "<style scoped>\n",
       "    .dataframe tbody tr th:only-of-type {\n",
       "        vertical-align: middle;\n",
       "    }\n",
       "\n",
       "    .dataframe tbody tr th {\n",
       "        vertical-align: top;\n",
       "    }\n",
       "\n",
       "    .dataframe thead th {\n",
       "        text-align: right;\n",
       "    }\n",
       "</style>\n",
       "<table border=\"1\" class=\"dataframe\">\n",
       "  <thead>\n",
       "    <tr style=\"text-align: right;\">\n",
       "      <th></th>\n",
       "      <th>age_sum</th>\n",
       "      <th>age_mean</th>\n",
       "      <th>age_max</th>\n",
       "      <th>head_count</th>\n",
       "    </tr>\n",
       "  </thead>\n",
       "  <tbody>\n",
       "    <tr>\n",
       "      <th>Azure AD Authentication</th>\n",
       "      <td>235.378825</td>\n",
       "      <td>18.106063</td>\n",
       "      <td>24.370478</td>\n",
       "      <td>13</td>\n",
       "    </tr>\n",
       "    <tr>\n",
       "      <th>Home Network Project</th>\n",
       "      <td>368.391547</td>\n",
       "      <td>122.797182</td>\n",
       "      <td>136.761203</td>\n",
       "      <td>3</td>\n",
       "    </tr>\n",
       "    <tr>\n",
       "      <th>Azure DevOps Pipelines</th>\n",
       "      <td>441.109825</td>\n",
       "      <td>16.965762</td>\n",
       "      <td>27.281566</td>\n",
       "      <td>26</td>\n",
       "    </tr>\n",
       "    <tr>\n",
       "      <th>RAG Project</th>\n",
       "      <td>441.309399</td>\n",
       "      <td>18.387892</td>\n",
       "      <td>28.158125</td>\n",
       "      <td>24</td>\n",
       "    </tr>\n",
       "    <tr>\n",
       "      <th>Email Auth and Security</th>\n",
       "      <td>1508.266102</td>\n",
       "      <td>125.688842</td>\n",
       "      <td>494.780498</td>\n",
       "      <td>12</td>\n",
       "    </tr>\n",
       "    <tr>\n",
       "      <th>SharePoint</th>\n",
       "      <td>1834.867036</td>\n",
       "      <td>166.806094</td>\n",
       "      <td>453.195105</td>\n",
       "      <td>11</td>\n",
       "    </tr>\n",
       "    <tr>\n",
       "      <th>WSL + Kali Linux</th>\n",
       "      <td>2002.174482</td>\n",
       "      <td>143.012463</td>\n",
       "      <td>461.088620</td>\n",
       "      <td>14</td>\n",
       "    </tr>\n",
       "    <tr>\n",
       "      <th>Audit Report Tracker (Sharepoint List)</th>\n",
       "      <td>2363.188455</td>\n",
       "      <td>181.783727</td>\n",
       "      <td>660.312273</td>\n",
       "      <td>13</td>\n",
       "    </tr>\n",
       "    <tr>\n",
       "      <th>IW Migration</th>\n",
       "      <td>2504.219429</td>\n",
       "      <td>178.872816</td>\n",
       "      <td>539.263689</td>\n",
       "      <td>14</td>\n",
       "    </tr>\n",
       "    <tr>\n",
       "      <th>Todd Ideas</th>\n",
       "      <td>2586.337140</td>\n",
       "      <td>172.422476</td>\n",
       "      <td>571.918537</td>\n",
       "      <td>15</td>\n",
       "    </tr>\n",
       "    <tr>\n",
       "      <th>Open Source/GitHub</th>\n",
       "      <td>2631.915950</td>\n",
       "      <td>164.494747</td>\n",
       "      <td>629.011190</td>\n",
       "      <td>16</td>\n",
       "    </tr>\n",
       "    <tr>\n",
       "      <th>Debugging in VS Code</th>\n",
       "      <td>2703.306874</td>\n",
       "      <td>135.165344</td>\n",
       "      <td>381.356513</td>\n",
       "      <td>20</td>\n",
       "    </tr>\n",
       "    <tr>\n",
       "      <th>Terraform</th>\n",
       "      <td>2918.815420</td>\n",
       "      <td>116.752617</td>\n",
       "      <td>395.329540</td>\n",
       "      <td>25</td>\n",
       "    </tr>\n",
       "    <tr>\n",
       "      <th>Azure Functions + Visual Studio</th>\n",
       "      <td>2923.488980</td>\n",
       "      <td>208.820641</td>\n",
       "      <td>641.563163</td>\n",
       "      <td>14</td>\n",
       "    </tr>\n",
       "    <tr>\n",
       "      <th>Python</th>\n",
       "      <td>3521.573525</td>\n",
       "      <td>74.927096</td>\n",
       "      <td>182.631867</td>\n",
       "      <td>47</td>\n",
       "    </tr>\n",
       "    <tr>\n",
       "      <th>Azure Functions + PP365</th>\n",
       "      <td>4220.391775</td>\n",
       "      <td>191.835990</td>\n",
       "      <td>687.068752</td>\n",
       "      <td>22</td>\n",
       "    </tr>\n",
       "    <tr>\n",
       "      <th>FSLogix</th>\n",
       "      <td>4536.250810</td>\n",
       "      <td>189.010450</td>\n",
       "      <td>551.994108</td>\n",
       "      <td>24</td>\n",
       "    </tr>\n",
       "    <tr>\n",
       "      <th>Powershell Modules</th>\n",
       "      <td>5488.363716</td>\n",
       "      <td>116.773696</td>\n",
       "      <td>558.773246</td>\n",
       "      <td>47</td>\n",
       "    </tr>\n",
       "    <tr>\n",
       "      <th>Logging in Python</th>\n",
       "      <td>6368.880812</td>\n",
       "      <td>135.508102</td>\n",
       "      <td>631.232155</td>\n",
       "      <td>47</td>\n",
       "    </tr>\n",
       "    <tr>\n",
       "      <th>Vocab</th>\n",
       "      <td>7260.188534</td>\n",
       "      <td>117.099815</td>\n",
       "      <td>641.563233</td>\n",
       "      <td>62</td>\n",
       "    </tr>\n",
       "    <tr>\n",
       "      <th>Azure Developer Associate</th>\n",
       "      <td>7452.970749</td>\n",
       "      <td>116.452668</td>\n",
       "      <td>764.988107</td>\n",
       "      <td>64</td>\n",
       "    </tr>\n",
       "    <tr>\n",
       "      <th>PnP Powershell</th>\n",
       "      <td>7919.089015</td>\n",
       "      <td>214.029433</td>\n",
       "      <td>598.366949</td>\n",
       "      <td>37</td>\n",
       "    </tr>\n",
       "    <tr>\n",
       "      <th>JavaScript Concepts</th>\n",
       "      <td>8383.980708</td>\n",
       "      <td>133.079059</td>\n",
       "      <td>644.054506</td>\n",
       "      <td>63</td>\n",
       "    </tr>\n",
       "  </tbody>\n",
       "</table>\n",
       "</div>"
      ],
      "text/plain": [
       "                                            age_sum    age_mean     age_max  \\\n",
       "Azure AD Authentication                  235.378825   18.106063   24.370478   \n",
       "Home Network Project                     368.391547  122.797182  136.761203   \n",
       "Azure DevOps Pipelines                   441.109825   16.965762   27.281566   \n",
       "RAG Project                              441.309399   18.387892   28.158125   \n",
       "Email Auth and Security                 1508.266102  125.688842  494.780498   \n",
       "SharePoint                              1834.867036  166.806094  453.195105   \n",
       "WSL + Kali Linux                        2002.174482  143.012463  461.088620   \n",
       "Audit Report Tracker (Sharepoint List)  2363.188455  181.783727  660.312273   \n",
       "IW Migration                            2504.219429  178.872816  539.263689   \n",
       "Todd Ideas                              2586.337140  172.422476  571.918537   \n",
       "Open Source/GitHub                      2631.915950  164.494747  629.011190   \n",
       "Debugging in VS Code                    2703.306874  135.165344  381.356513   \n",
       "Terraform                               2918.815420  116.752617  395.329540   \n",
       "Azure Functions + Visual Studio         2923.488980  208.820641  641.563163   \n",
       "Python                                  3521.573525   74.927096  182.631867   \n",
       "Azure Functions + PP365                 4220.391775  191.835990  687.068752   \n",
       "FSLogix                                 4536.250810  189.010450  551.994108   \n",
       "Powershell Modules                      5488.363716  116.773696  558.773246   \n",
       "Logging in Python                       6368.880812  135.508102  631.232155   \n",
       "Vocab                                   7260.188534  117.099815  641.563233   \n",
       "Azure Developer Associate               7452.970749  116.452668  764.988107   \n",
       "PnP Powershell                          7919.089015  214.029433  598.366949   \n",
       "JavaScript Concepts                     8383.980708  133.079059  644.054506   \n",
       "\n",
       "                                        head_count  \n",
       "Azure AD Authentication                         13  \n",
       "Home Network Project                             3  \n",
       "Azure DevOps Pipelines                          26  \n",
       "RAG Project                                     24  \n",
       "Email Auth and Security                         12  \n",
       "SharePoint                                      11  \n",
       "WSL + Kali Linux                                14  \n",
       "Audit Report Tracker (Sharepoint List)          13  \n",
       "IW Migration                                    14  \n",
       "Todd Ideas                                      15  \n",
       "Open Source/GitHub                              16  \n",
       "Debugging in VS Code                            20  \n",
       "Terraform                                       25  \n",
       "Azure Functions + Visual Studio                 14  \n",
       "Python                                          47  \n",
       "Azure Functions + PP365                         22  \n",
       "FSLogix                                         24  \n",
       "Powershell Modules                              47  \n",
       "Logging in Python                               47  \n",
       "Vocab                                           62  \n",
       "Azure Developer Associate                       64  \n",
       "PnP Powershell                                  37  \n",
       "JavaScript Concepts                             63  "
      ]
     },
     "execution_count": 129,
     "metadata": {},
     "output_type": "execute_result"
    }
   ],
   "source": [
    "stats = existing_cards.groupby('head').agg({'age': ['sum', 'mean', 'max'], 'head': 'count'}).sort_values(('age', 'sum'))\n",
    "stats.columns = stats.columns.to_flat_index()\n",
    "stats.columns = ['_'.join(col).strip() for col in stats.columns]\n",
    "stats.index.name = None\n",
    "stats"
   ]
  },
  {
   "cell_type": "markdown",
   "metadata": {},
   "source": [
    "# Histogram"
   ]
  },
  {
   "cell_type": "code",
   "execution_count": 130,
   "metadata": {},
   "outputs": [
    {
     "name": "stdout",
     "output_type": "stream",
     "text": [
      "sum of ages: ~ 80614.46\n"
     ]
    },
    {
     "data": {
      "text/plain": [
       "<Axes: >"
      ]
     },
     "execution_count": 130,
     "metadata": {},
     "output_type": "execute_result"
    },
    {
     "data": {
      "image/png": "[encoded data removed]",
      "text/plain": [
       "<Figure size 640x480 with 1 Axes>"
      ]
     },
     "metadata": {},
     "output_type": "display_data"
    }
   ],
   "source": [
    "print(f\"sum of ages: ~ {existing_cards['age'].sum(0):.2f}\")\n",
    "existing_cards['age'].hist(bins=20)"
   ]
  },
  {
   "cell_type": "markdown",
   "metadata": {},
   "source": [
    "# Completely Random Shuffle"
   ]
  },
  {
   "cell_type": "code",
   "execution_count": 131,
   "metadata": {},
   "outputs": [],
   "source": [
    "# existing_cards = existing_cards.sample(frac=1)\n",
    "# remake_card_document(filename='certcards2.txt', existing_cards = existing_cards)"
   ]
  },
  {
   "cell_type": "markdown",
   "metadata": {},
   "source": [
    "# Age Sort"
   ]
  },
  {
   "cell_type": "code",
   "execution_count": 132,
   "metadata": {},
   "outputs": [],
   "source": [
    "# existing_cards = existing_cards.sort_values('age', ascending=False)\n",
    "# remake_card_document(filename='certcards2.txt', existing_cards=existing_cards)\n",
    "# existing_cards.head(10)"
   ]
  },
  {
   "cell_type": "markdown",
   "metadata": {},
   "source": [
    "# Headers with fewest notes first"
   ]
  },
  {
   "cell_type": "code",
   "execution_count": 133,
   "metadata": {},
   "outputs": [],
   "source": [
    "# frequency = existing_cards['head'].value_counts(ascending=True)\n",
    "\n",
    "# existing_cards = pd.merge(\n",
    "#     left=existing_cards,\n",
    "#     right=frequency.rename('frequency'),\n",
    "#     left_on='head', right_index=True,\n",
    "#     how='left'\n",
    "# )\n",
    "# existing_cards['oldest'] = existing_cards.groupby('head')['age'].transform('max')\n",
    "# existing_cards['subject_highest_age'] = existing_cards['subject_highest_age'] * -1\n",
    "# existing_cards['age'] = existing_cards['age'] * -1\n",
    "\n",
    "\n",
    "# existing_cards.sort_values(['frequency', 'subject_highest_age', 'age'], ascending=True, inplace=True)\n",
    "\n",
    "# remake_card_document(filename='certcards2.txt', existing_cards=existing_cards)\n",
    "\n",
    "# existing_cards.head(10)"
   ]
  },
  {
   "cell_type": "markdown",
   "metadata": {},
   "source": [
    "# Focus on one header"
   ]
  },
  {
   "cell_type": "code",
   "execution_count": 134,
   "metadata": {},
   "outputs": [],
   "source": [
    "# heads = existing_cards['head'].value_counts()\n",
    "# heads = heads[heads > 5].index.tolist()\n",
    "# one_header = random.sample(heads, 1)[0]\n",
    "# existing_cards['pick_head'] = existing_cards['head'].apply(\n",
    "#     lambda h: 0 if h == one_header else 1 \n",
    "# )\n",
    "\n",
    "# remake_card_document(existing_cards=existing_cards.sort_values('pick_head'))"
   ]
  },
  {
   "cell_type": "markdown",
   "metadata": {},
   "source": [
    "## Header with oldest cards first"
   ]
  },
  {
   "cell_type": "code",
   "execution_count": 135,
   "metadata": {},
   "outputs": [],
   "source": [
    "# existing_cards['oldest'] = existing_cards.groupby('head')['age'].transform('max')\n",
    "# existing_cards.sort_values(['oldest', 'age'], ascending=False, inplace=True)\n",
    "# remake_card_document(existing_cards)"
   ]
  },
  {
   "cell_type": "markdown",
   "metadata": {},
   "source": [
    "## Headers with greatest mean card age first"
   ]
  },
  {
   "cell_type": "code",
   "execution_count": 136,
   "metadata": {},
   "outputs": [],
   "source": [
    "# existing_cards.sort_values(['subject_mean_age', 'age'], ascending=False, inplace=True)\n",
    "# remake_card_document(existing_cards)"
   ]
  },
  {
   "cell_type": "markdown",
   "metadata": {},
   "source": [
    "## Headers with greatest age sum first"
   ]
  },
  {
   "cell_type": "code",
   "execution_count": 137,
   "metadata": {},
   "outputs": [],
   "source": [
    "# existing_cards.sort_values(['subject_age_sum', 'age'], ascending=False, inplace=True)\n",
    "# remake_card_document(existing_cards)"
   ]
  },
  {
   "cell_type": "markdown",
   "metadata": {},
   "source": [
    "# N-fold shuffle\n"
   ]
  },
  {
   "cell_type": "markdown",
   "metadata": {},
   "source": [
    "## Age Sum"
   ]
  },
  {
   "cell_type": "code",
   "execution_count": 138,
   "metadata": {},
   "outputs": [],
   "source": [
    "# n=3\n",
    "# existing_cards['count'] = existing_cards.sort_values('age', ascending=False).groupby('head').cumcount()\n",
    "# existing_cards['n_fold'] = existing_cards['count'] % n\n",
    "\n",
    "# existing_cards['subject_age_sum'] = existing_cards['subject_age_sum'] *-1\n",
    "# existing_cards['age'] = existing_cards['age'] *-1\n",
    "# existing_cards.sort_values(['n_fold', 'subject_age_sum', 'age'], inplace=True)\n",
    "\n",
    "# remake_card_document(existing_cards=existing_cards)\n",
    "# existing_cards.head(10)\n"
   ]
  },
  {
   "cell_type": "markdown",
   "metadata": {},
   "source": [
    "## Age Mean"
   ]
  },
  {
   "cell_type": "code",
   "execution_count": 139,
   "metadata": {},
   "outputs": [],
   "source": [
    "# n=3\n",
    "# existing_cards['count'] = existing_cards.sort_values('age', ascending=False).groupby('head').cumcount()\n",
    "# existing_cards['n_fold'] = existing_cards['count'] % n\n",
    "\n",
    "# existing_cards['subject_mean_age'] = existing_cards['subject_mean_age'] *-1\n",
    "# existing_cards['age'] = existing_cards['age'] *-1\n",
    "# existing_cards.sort_values(['n_fold', 'subject_mean_age', 'age'], inplace=True)\n",
    "# remake_card_document(existing_cards=existing_cards)\n",
    "\n",
    "# existing_cards.head(10)\n",
    "\n"
   ]
  },
  {
   "cell_type": "markdown",
   "metadata": {},
   "source": [
    "## Age Max"
   ]
  },
  {
   "cell_type": "code",
   "execution_count": 140,
   "metadata": {},
   "outputs": [],
   "source": [
    "# n = 1\n",
    "# existing_cards['count'] = existing_cards.sort_values('age', ascending=False).groupby('head').cumcount()\n",
    "# existing_cards['n_fold'] = existing_cards['count'] // n\n",
    "\n",
    "# if existing_cards['age'].sum() > 0:\n",
    "#     existing_cards['subject_highest_age'] = existing_cards['subject_highest_age'] *-1\n",
    "#     existing_cards['age'] = existing_cards['age'] *-1\n",
    "# existing_cards.sort_values(['n_fold', 'subject_highest_age', 'age'], inplace=True)\n",
    "\n",
    "# remake_card_document(existing_cards=existing_cards)\n",
    "# existing_cards.head(10)\n"
   ]
  },
  {
   "cell_type": "markdown",
   "metadata": {},
   "source": [
    "## Card Count"
   ]
  },
  {
   "cell_type": "code",
   "execution_count": 141,
   "metadata": {},
   "outputs": [],
   "source": [
    "# n=10\n",
    "# existing_cards['frequency']  = existing_cards.groupby('head').transform('count')['body']\n",
    "# existing_cards['count'] = existing_cards.sort_values('age', ascending=False).groupby('head').cumcount()\n",
    "# existing_cards['n_fold'] = existing_cards['count'] // n\n",
    "\n",
    "# if existing_cards['age'].sum() > 0:\n",
    "#     # existing_cards['neg_subject_highest_age'] = existing_cards['subject_highest_age'] *-1\n",
    "#     existing_cards['neg_age'] = existing_cards['age'] *-1\n",
    "# existing_cards.sort_values(['n_fold', 'frequency', 'neg_age'], inplace=True)\n",
    "# remake_card_document(existing_cards=existing_cards)\n",
    "\n",
    "# existing_cards.head(10)\n",
    "\n"
   ]
  },
  {
   "cell_type": "markdown",
   "metadata": {},
   "source": [
    "\n",
    "## Random"
   ]
  },
  {
   "cell_type": "code",
   "execution_count": 142,
   "metadata": {},
   "outputs": [
    {
     "name": "stdout",
     "output_type": "stream",
     "text": [
      "Cards found: 633\n",
      "Total card age: 80614.46\n"
     ]
    },
    {
     "data": {
      "text/html": [
       "<div>\n",
       "<style scoped>\n",
       "    .dataframe tbody tr th:only-of-type {\n",
       "        vertical-align: middle;\n",
       "    }\n",
       "\n",
       "    .dataframe tbody tr th {\n",
       "        vertical-align: top;\n",
       "    }\n",
       "\n",
       "    .dataframe thead th {\n",
       "        text-align: right;\n",
       "    }\n",
       "</style>\n",
       "<table border=\"1\" class=\"dataframe\">\n",
       "  <thead>\n",
       "    <tr style=\"text-align: right;\">\n",
       "      <th></th>\n",
       "      <th>head</th>\n",
       "      <th>body</th>\n",
       "      <th>hash</th>\n",
       "      <th>age</th>\n",
       "      <th>subject_mean_age</th>\n",
       "      <th>subject_highest_age</th>\n",
       "      <th>subject_age_sum</th>\n",
       "      <th>head_random_roll</th>\n",
       "      <th>count</th>\n",
       "      <th>n_fold</th>\n",
       "    </tr>\n",
       "  </thead>\n",
       "  <tbody>\n",
       "    <tr>\n",
       "      <th>163</th>\n",
       "      <td>Logging in Python</td>\n",
       "      <td>Q: How can you configure multiple file handler...</td>\n",
       "      <td>c9e56724bc4f353bcbc7ff8a25bab595</td>\n",
       "      <td>-631.232155</td>\n",
       "      <td>135.508102</td>\n",
       "      <td>631.232155</td>\n",
       "      <td>6368.880812</td>\n",
       "      <td>0.028683</td>\n",
       "      <td>0</td>\n",
       "      <td>0</td>\n",
       "    </tr>\n",
       "    <tr>\n",
       "      <th>168</th>\n",
       "      <td>Logging in Python</td>\n",
       "      <td>Q: Why is it recommended to use named loggers ...</td>\n",
       "      <td>7e706e8322bf21530a4bf1c64ae3a0af</td>\n",
       "      <td>-323.869788</td>\n",
       "      <td>135.508102</td>\n",
       "      <td>631.232155</td>\n",
       "      <td>6368.880812</td>\n",
       "      <td>0.028683</td>\n",
       "      <td>3</td>\n",
       "      <td>0</td>\n",
       "    </tr>\n",
       "    <tr>\n",
       "      <th>179</th>\n",
       "      <td>Logging in Python</td>\n",
       "      <td>Q: What does setting propagate=True on a logge...</td>\n",
       "      <td>a89fcd6f768a3b084c2e8101a83816db</td>\n",
       "      <td>-223.504878</td>\n",
       "      <td>135.508102</td>\n",
       "      <td>631.232155</td>\n",
       "      <td>6368.880812</td>\n",
       "      <td>0.028683</td>\n",
       "      <td>6</td>\n",
       "      <td>0</td>\n",
       "    </tr>\n",
       "    <tr>\n",
       "      <th>327</th>\n",
       "      <td>Logging in Python</td>\n",
       "      <td>Q: What does WatchedFileHandler from the loggi...</td>\n",
       "      <td>88bf67b45cd4cc40aad695663132684d</td>\n",
       "      <td>-183.008189</td>\n",
       "      <td>135.508102</td>\n",
       "      <td>631.232155</td>\n",
       "      <td>6368.880812</td>\n",
       "      <td>0.028683</td>\n",
       "      <td>9</td>\n",
       "      <td>0</td>\n",
       "    </tr>\n",
       "    <tr>\n",
       "      <th>331</th>\n",
       "      <td>Logging in Python</td>\n",
       "      <td>Q: What does logging.disable(logging.CRITICAL)...</td>\n",
       "      <td>83dabe16cb1a23c5d573ec8071a60eed</td>\n",
       "      <td>-147.632453</td>\n",
       "      <td>135.508102</td>\n",
       "      <td>631.232155</td>\n",
       "      <td>6368.880812</td>\n",
       "      <td>0.028683</td>\n",
       "      <td>12</td>\n",
       "      <td>0</td>\n",
       "    </tr>\n",
       "    <tr>\n",
       "      <th>334</th>\n",
       "      <td>Logging in Python</td>\n",
       "      <td>Q: What should you avoid doing when configurin...</td>\n",
       "      <td>700be305dcf279b9fa8f121d5068dc59</td>\n",
       "      <td>-132.550297</td>\n",
       "      <td>135.508102</td>\n",
       "      <td>631.232155</td>\n",
       "      <td>6368.880812</td>\n",
       "      <td>0.028683</td>\n",
       "      <td>15</td>\n",
       "      <td>0</td>\n",
       "    </tr>\n",
       "    <tr>\n",
       "      <th>337</th>\n",
       "      <td>Logging in Python</td>\n",
       "      <td>Q: Name a handler you would use to send log me...</td>\n",
       "      <td>2d4d878af878aab495a7ad177d4d3027</td>\n",
       "      <td>-124.737674</td>\n",
       "      <td>135.508102</td>\n",
       "      <td>631.232155</td>\n",
       "      <td>6368.880812</td>\n",
       "      <td>0.028683</td>\n",
       "      <td>18</td>\n",
       "      <td>0</td>\n",
       "    </tr>\n",
       "    <tr>\n",
       "      <th>417</th>\n",
       "      <td>Logging in Python</td>\n",
       "      <td>Q: How can you configure logging using an exte...</td>\n",
       "      <td>72bd8783b66600aa46f6b731af09f038</td>\n",
       "      <td>-121.567601</td>\n",
       "      <td>135.508102</td>\n",
       "      <td>631.232155</td>\n",
       "      <td>6368.880812</td>\n",
       "      <td>0.028683</td>\n",
       "      <td>21</td>\n",
       "      <td>0</td>\n",
       "    </tr>\n",
       "    <tr>\n",
       "      <th>419</th>\n",
       "      <td>Logging in Python</td>\n",
       "      <td>Q: What is the purpose of logging.basicConfig(...</td>\n",
       "      <td>5d043e19b088ebed3907831c49e3f8f7</td>\n",
       "      <td>-102.153672</td>\n",
       "      <td>135.508102</td>\n",
       "      <td>631.232155</td>\n",
       "      <td>6368.880812</td>\n",
       "      <td>0.028683</td>\n",
       "      <td>24</td>\n",
       "      <td>0</td>\n",
       "    </tr>\n",
       "    <tr>\n",
       "      <th>423</th>\n",
       "      <td>Logging in Python</td>\n",
       "      <td>Q: How does TimedRotatingFileHandler from the ...</td>\n",
       "      <td>76ab03e3252fdeac53a0f26a90803b88</td>\n",
       "      <td>-87.816466</td>\n",
       "      <td>135.508102</td>\n",
       "      <td>631.232155</td>\n",
       "      <td>6368.880812</td>\n",
       "      <td>0.028683</td>\n",
       "      <td>27</td>\n",
       "      <td>0</td>\n",
       "    </tr>\n",
       "  </tbody>\n",
       "</table>\n",
       "</div>"
      ],
      "text/plain": [
       "                  head                                               body  \\\n",
       "163  Logging in Python  Q: How can you configure multiple file handler...   \n",
       "168  Logging in Python  Q: Why is it recommended to use named loggers ...   \n",
       "179  Logging in Python  Q: What does setting propagate=True on a logge...   \n",
       "327  Logging in Python  Q: What does WatchedFileHandler from the loggi...   \n",
       "331  Logging in Python  Q: What does logging.disable(logging.CRITICAL)...   \n",
       "334  Logging in Python  Q: What should you avoid doing when configurin...   \n",
       "337  Logging in Python  Q: Name a handler you would use to send log me...   \n",
       "417  Logging in Python  Q: How can you configure logging using an exte...   \n",
       "419  Logging in Python  Q: What is the purpose of logging.basicConfig(...   \n",
       "423  Logging in Python  Q: How does TimedRotatingFileHandler from the ...   \n",
       "\n",
       "                                 hash         age  subject_mean_age  \\\n",
       "163  c9e56724bc4f353bcbc7ff8a25bab595 -631.232155        135.508102   \n",
       "168  7e706e8322bf21530a4bf1c64ae3a0af -323.869788        135.508102   \n",
       "179  a89fcd6f768a3b084c2e8101a83816db -223.504878        135.508102   \n",
       "327  88bf67b45cd4cc40aad695663132684d -183.008189        135.508102   \n",
       "331  83dabe16cb1a23c5d573ec8071a60eed -147.632453        135.508102   \n",
       "334  700be305dcf279b9fa8f121d5068dc59 -132.550297        135.508102   \n",
       "337  2d4d878af878aab495a7ad177d4d3027 -124.737674        135.508102   \n",
       "417  72bd8783b66600aa46f6b731af09f038 -121.567601        135.508102   \n",
       "419  5d043e19b088ebed3907831c49e3f8f7 -102.153672        135.508102   \n",
       "423  76ab03e3252fdeac53a0f26a90803b88  -87.816466        135.508102   \n",
       "\n",
       "     subject_highest_age  subject_age_sum  head_random_roll  count  n_fold  \n",
       "163           631.232155      6368.880812          0.028683      0       0  \n",
       "168           631.232155      6368.880812          0.028683      3       0  \n",
       "179           631.232155      6368.880812          0.028683      6       0  \n",
       "327           631.232155      6368.880812          0.028683      9       0  \n",
       "331           631.232155      6368.880812          0.028683     12       0  \n",
       "334           631.232155      6368.880812          0.028683     15       0  \n",
       "337           631.232155      6368.880812          0.028683     18       0  \n",
       "417           631.232155      6368.880812          0.028683     21       0  \n",
       "419           631.232155      6368.880812          0.028683     24       0  \n",
       "423           631.232155      6368.880812          0.028683     27       0  "
      ]
     },
     "execution_count": 142,
     "metadata": {},
     "output_type": "execute_result"
    }
   ],
   "source": [
    "n = 3\n",
    "existing_cards['count'] = existing_cards.sort_values('age', ascending=False).groupby('head').cumcount()\n",
    "existing_cards['n_fold'] = existing_cards['count'] % n\n",
    "existing_cards['age'] *= -1\n",
    "existing_cards.sort_values(['n_fold', 'head_random_roll', 'age'], inplace=True)\n",
    "remake_card_document(existing_cards=existing_cards)\n",
    "existing_cards.head(10)"
   ]
  },
  {
   "cell_type": "code",
   "execution_count": 143,
   "metadata": {},
   "outputs": [
    {
     "data": {
      "text/plain": [
       "head                   Logging in PythonLogging in PythonLogging in P...\n",
       "body                   Q: How can you configure multiple file handler...\n",
       "hash                   c9e56724bc4f353bcbc7ff8a25bab5957e706e8322bf21...\n",
       "age                                                         -2078.073174\n",
       "subject_mean_age                                             1355.081024\n",
       "subject_highest_age                                          6312.321546\n",
       "subject_age_sum                                             63688.808117\n",
       "head_random_roll                                                0.286829\n",
       "count                                                                135\n",
       "n_fold                                                                 0\n",
       "dtype: object"
      ]
     },
     "execution_count": 143,
     "metadata": {},
     "output_type": "execute_result"
    }
   ],
   "source": [
    "existing_cards.head(10).sum()"
   ]
  },
  {
   "cell_type": "code",
   "execution_count": 144,
   "metadata": {},
   "outputs": [
    {
     "data": {
      "text/plain": [
       "-127.35301596612436"
      ]
     },
     "execution_count": 144,
     "metadata": {},
     "output_type": "execute_result"
    }
   ],
   "source": [
    "existing_cards['age'].mean()"
   ]
  }
 ],
 "metadata": {
  "kernelspec": {
   "display_name": "Python 3",
   "language": "python",
   "name": "python3"
  },
  "language_info": {
   "codemirror_mode": {
    "name": "ipython",
    "version": 3
   },
   "file_extension": ".py",
   "mimetype": "text/x-python",
   "name": "python",
   "nbconvert_exporter": "python",
   "pygments_lexer": "ipython3",
   "version": "3.11.9"
  }
 },
 "nbformat": 4,
 "nbformat_minor": 2
}
