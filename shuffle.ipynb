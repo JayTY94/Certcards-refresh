{
 "cells": [
  {
   "cell_type": "code",
   "execution_count": 1,
   "metadata": {},
   "outputs": [],
   "source": [
    "import re\n",
    "import random\n",
    "import pandas as pd\n",
    "import hashlib"
   ]
  },
  {
   "cell_type": "code",
   "execution_count": 2,
   "metadata": {},
   "outputs": [],
   "source": [
    "with open('certcards2.txt', mode='r', encoding='utf8') as f:\n",
    "    all_cards = f.read()\n",
    "    \n",
    "card_split_pattern = r'\\n\\n\\n\\d+\\n'\n",
    "all_cards = re.split(card_split_pattern, all_cards)\n",
    "# Use re.DOTALL to allow . to match newline characters\n",
    "card_pattern = re.compile(r'(.+?)\\n([\\s\\S]+)', re.DOTALL)\n",
    "cards = [(match.group(1), match.group(2)) for cstring in all_cards if (match := re.search(card_pattern, cstring))]\n",
    "\n",
    "# removing the cards that have no content and trimming\n",
    "cards = [(subject, stripped_content) for subject, content in cards if len(stripped_content := content.strip()) > 5]\n",
    "\n",
    "def hash_string_md5(s):\n",
    "    \"\"\"\n",
    "    Hashes a string using MD5 and returns a truncated hash for efficiency.\n",
    "\n",
    "    Parameters:\n",
    "    - s (str): The input string to hash.\n",
    "\n",
    "    Returns:\n",
    "    - str: The truncated hexadecimal hash string.\n",
    "    \"\"\"\n",
    "    if pd.isnull(s):\n",
    "        return None  # Handle NaN values gracefully\n",
    "    return hashlib.md5(s.encode('utf-8')).hexdigest()\n",
    "\n",
    "\n",
    "def remake_card_document(existing_cards: pd.DataFrame, filename: str='certcards2.txt'):\n",
    "    with open(filename, mode='w', encoding='utf8') as f:\n",
    "        i = 1\n",
    "        for _, row in existing_cards.iterrows():\n",
    "            f.write('\\n'*6)\n",
    "            f.write(str(i)+'\\n')  \n",
    "            f.write(row['head']+'\\n')\n",
    "            f.write(row['body'])\n",
    "            i+=1\n",
    "    print(F\"Cards found: {existing_cards.shape[0]}\")\n",
    "\n",
    "\n",
    "existing_cards = pd.DataFrame(cards, columns=['head', 'body'])\n",
    "\n",
    "\n",
    "# existing_cards['age'] = [random.random() for _ in existing_cards.index]\n",
    "existing_cards['hash'] = existing_cards['body'].apply(hash_string_md5)\n",
    "existing_cards\n",
    "\n",
    "card_ages = pd.read_json('card_ages.json')\n",
    "card_ages = card_ages.drop_duplicates(subset=['hash'], keep='first')\n",
    "\n",
    "cards_to_age = pd.merge(\n",
    "    left=existing_cards,\n",
    "    right=card_ages[['hash', 'age']],\n",
    "    left_on='hash', right_on='hash',\n",
    "    how='left'\n",
    ")\n",
    "\n",
    "cards_to_age['head'] = cards_to_age['head'].str.strip()\n",
    "\n",
    "if cards_to_age['age'].sum() > 2e4: age_factor = .5\n",
    "else: age_factor = 1\n",
    "\n",
    "cards_to_age['age'] = cards_to_age['age'].fillna(0)\n",
    "# cards_to_age['age'] = cards_to_age['age'] * age_factor\n",
    "cards_to_age['age'] = cards_to_age['age'] + [random.expovariate(.60) for _ in cards_to_age.index]\n",
    "# cards_to_age['age'] = cards_to_age['age'] * [random.expovariate(1/age_factor) for _ in cards_to_age.index]\n",
    "\n",
    "# Adding priority age growth to cards for upcoming certifications\n",
    "priority_headers = ['Azure Developer Associate']\n",
    "priority_cards_mask = cards_to_age['head'].isin(priority_headers)\n",
    "cards_to_age.loc[priority_cards_mask, 'age'] = cards_to_age.loc[priority_cards_mask, 'age'] * 1.1\n",
    "\n",
    "\n",
    "cards_to_age = cards_to_age.drop_duplicates(subset=['hash'], keep='first')\n",
    "\n",
    "cards_to_age['subject_mean_age'] = cards_to_age.groupby('head')['age'].transform('mean')\n",
    "cards_to_age['subject_highest_age'] = cards_to_age.groupby('head')['age'].transform('max')\n",
    "cards_to_age['subject_age_sum'] = cards_to_age.groupby('head')['age'].transform('sum')\n",
    "cards_to_age['head_random_roll'] = cards_to_age.groupby('head')['head'].transform(lambda x: random.random())\n",
    "\n",
    "\n",
    "cards_to_age.sort_values('hash')[['age', 'head', 'hash']].to_json('card_ages.json', indent=2)\n",
    "\n",
    "existing_cards = cards_to_age"
   ]
  },
  {
   "cell_type": "code",
   "execution_count": 3,
   "metadata": {},
   "outputs": [
    {
     "data": {
      "application/vnd.microsoft.datawrangler.viewer.v0+json": {
       "columns": [
        {
         "name": "index",
         "rawType": "object",
         "type": "string"
        },
        {
         "name": "age_sum",
         "rawType": "float64",
         "type": "float"
        },
        {
         "name": "age_mean",
         "rawType": "float64",
         "type": "float"
        },
        {
         "name": "age_max",
         "rawType": "float64",
         "type": "float"
        },
        {
         "name": "head_count",
         "rawType": "int64",
         "type": "integer"
        }
       ],
       "conversionMethod": "pd.DataFrame",
       "ref": "ba70fbab-2d21-44ff-b872-c8fdfb1dda3a",
       "rows": [
        [
         "Azure AD Authentication",
         "57.70595595954029",
         "4.438919689195407",
         "7.567273491515149",
         "13"
        ],
        [
         "Azure DevOps Pipelines",
         "77.096516544262",
         "2.9652506363177693",
         "7.067384521701138",
         "26"
        ],
        [
         "RAG Project",
         "94.60069372776144",
         "3.94169557199006",
         "9.426224170229784",
         "24"
        ],
        [
         "Email Auth and Security",
         "1330.6745472984378",
         "110.88954560820315",
         "480.2988481188686",
         "12"
        ],
        [
         "Home Network Project",
         "1770.238829043998",
         "196.6932032271109",
         "399.1441715987196",
         "9"
        ],
        [
         "WSL + Kali Linux",
         "1817.5408557716814",
         "129.82434684083438",
         "449.5899998331857",
         "14"
        ],
        [
         "Audit Report Tracker (Sharepoint List)",
         "2205.258176811244",
         "169.6352443700957",
         "650.4744790551135",
         "13"
        ],
        [
         "IW Migration",
         "2280.7139647569497",
         "162.90814033978214",
         "521.8129693092687",
         "14"
        ],
        [
         "Todd Ideas",
         "2349.9821302128494",
         "156.66547534752328",
         "552.1651381570293",
         "15"
        ],
        [
         "Debugging in VS Code",
         "2371.356341116231",
         "118.56781705581155",
         "372.05680417384525",
         "20"
        ],
        [
         "Open Source/GitHub",
         "2380.2280943015935",
         "148.7642558938496",
         "618.3066128418567",
         "16"
        ],
        [
         "DNS",
         "2558.5604236796726",
         "255.85604236796726",
         "668.5439252807587",
         "10"
        ],
        [
         "Terraform",
         "2572.3939463925703",
         "102.89575785570281",
         "378.9726212495403",
         "25"
        ],
        [
         "Azure Functions + Visual Studio",
         "2758.3087107474166",
         "197.02205076767262",
         "635.3410418738343",
         "14"
        ],
        [
         "Python",
         "2788.845852742324",
         "59.33714580302817",
         "170.8970118867707",
         "47"
        ],
        [
         "SharePoint",
         "2888.677249159768",
         "240.72310409664735",
         "1242.4870716447922",
         "12"
        ],
        [
         "FSLogix",
         "4199.851859609995",
         "174.99382748374978",
         "534.5281240708382",
         "24"
        ],
        [
         "Azure Functions + PP365",
         "4759.274715061005",
         "206.92498761134803",
         "854.6672562489593",
         "23"
        ],
        [
         "Logging in Python",
         "5690.218304736025",
         "121.0684745688516",
         "614.0929160959698",
         "47"
        ],
        [
         "Powershell Modules",
         "6540.01310532481",
         "133.4696552107104",
         "915.222378713541",
         "49"
        ],
        [
         "Vocab",
         "7271.179544308761",
         "115.41554832236129",
         "942.2273237095886",
         "63"
        ],
        [
         "PnP Powershell",
         "7339.950928829772",
         "198.3770521305344",
         "581.032400601708",
         "37"
        ],
        [
         "JavaScript Concepts",
         "8273.142296725571",
         "135.62528355287822",
         "856.7753522973773",
         "61"
        ],
        [
         "Azure Developer Associate",
         "8673.69951740269",
         "137.67777011750303",
         "606.6317528872872",
         "63"
        ]
       ],
       "shape": {
        "columns": 4,
        "rows": 24
       }
      },
      "text/html": [
       "<div>\n",
       "<style scoped>\n",
       "    .dataframe tbody tr th:only-of-type {\n",
       "        vertical-align: middle;\n",
       "    }\n",
       "\n",
       "    .dataframe tbody tr th {\n",
       "        vertical-align: top;\n",
       "    }\n",
       "\n",
       "    .dataframe thead th {\n",
       "        text-align: right;\n",
       "    }\n",
       "</style>\n",
       "<table border=\"1\" class=\"dataframe\">\n",
       "  <thead>\n",
       "    <tr style=\"text-align: right;\">\n",
       "      <th></th>\n",
       "      <th>age_sum</th>\n",
       "      <th>age_mean</th>\n",
       "      <th>age_max</th>\n",
       "      <th>head_count</th>\n",
       "    </tr>\n",
       "  </thead>\n",
       "  <tbody>\n",
       "    <tr>\n",
       "      <th>Azure AD Authentication</th>\n",
       "      <td>57.705956</td>\n",
       "      <td>4.438920</td>\n",
       "      <td>7.567273</td>\n",
       "      <td>13</td>\n",
       "    </tr>\n",
       "    <tr>\n",
       "      <th>Azure DevOps Pipelines</th>\n",
       "      <td>77.096517</td>\n",
       "      <td>2.965251</td>\n",
       "      <td>7.067385</td>\n",
       "      <td>26</td>\n",
       "    </tr>\n",
       "    <tr>\n",
       "      <th>RAG Project</th>\n",
       "      <td>94.600694</td>\n",
       "      <td>3.941696</td>\n",
       "      <td>9.426224</td>\n",
       "      <td>24</td>\n",
       "    </tr>\n",
       "    <tr>\n",
       "      <th>Email Auth and Security</th>\n",
       "      <td>1330.674547</td>\n",
       "      <td>110.889546</td>\n",
       "      <td>480.298848</td>\n",
       "      <td>12</td>\n",
       "    </tr>\n",
       "    <tr>\n",
       "      <th>Home Network Project</th>\n",
       "      <td>1770.238829</td>\n",
       "      <td>196.693203</td>\n",
       "      <td>399.144172</td>\n",
       "      <td>9</td>\n",
       "    </tr>\n",
       "    <tr>\n",
       "      <th>WSL + Kali Linux</th>\n",
       "      <td>1817.540856</td>\n",
       "      <td>129.824347</td>\n",
       "      <td>449.590000</td>\n",
       "      <td>14</td>\n",
       "    </tr>\n",
       "    <tr>\n",
       "      <th>Audit Report Tracker (Sharepoint List)</th>\n",
       "      <td>2205.258177</td>\n",
       "      <td>169.635244</td>\n",
       "      <td>650.474479</td>\n",
       "      <td>13</td>\n",
       "    </tr>\n",
       "    <tr>\n",
       "      <th>IW Migration</th>\n",
       "      <td>2280.713965</td>\n",
       "      <td>162.908140</td>\n",
       "      <td>521.812969</td>\n",
       "      <td>14</td>\n",
       "    </tr>\n",
       "    <tr>\n",
       "      <th>Todd Ideas</th>\n",
       "      <td>2349.982130</td>\n",
       "      <td>156.665475</td>\n",
       "      <td>552.165138</td>\n",
       "      <td>15</td>\n",
       "    </tr>\n",
       "    <tr>\n",
       "      <th>Debugging in VS Code</th>\n",
       "      <td>2371.356341</td>\n",
       "      <td>118.567817</td>\n",
       "      <td>372.056804</td>\n",
       "      <td>20</td>\n",
       "    </tr>\n",
       "    <tr>\n",
       "      <th>Open Source/GitHub</th>\n",
       "      <td>2380.228094</td>\n",
       "      <td>148.764256</td>\n",
       "      <td>618.306613</td>\n",
       "      <td>16</td>\n",
       "    </tr>\n",
       "    <tr>\n",
       "      <th>DNS</th>\n",
       "      <td>2558.560424</td>\n",
       "      <td>255.856042</td>\n",
       "      <td>668.543925</td>\n",
       "      <td>10</td>\n",
       "    </tr>\n",
       "    <tr>\n",
       "      <th>Terraform</th>\n",
       "      <td>2572.393946</td>\n",
       "      <td>102.895758</td>\n",
       "      <td>378.972621</td>\n",
       "      <td>25</td>\n",
       "    </tr>\n",
       "    <tr>\n",
       "      <th>Azure Functions + Visual Studio</th>\n",
       "      <td>2758.308711</td>\n",
       "      <td>197.022051</td>\n",
       "      <td>635.341042</td>\n",
       "      <td>14</td>\n",
       "    </tr>\n",
       "    <tr>\n",
       "      <th>Python</th>\n",
       "      <td>2788.845853</td>\n",
       "      <td>59.337146</td>\n",
       "      <td>170.897012</td>\n",
       "      <td>47</td>\n",
       "    </tr>\n",
       "    <tr>\n",
       "      <th>SharePoint</th>\n",
       "      <td>2888.677249</td>\n",
       "      <td>240.723104</td>\n",
       "      <td>1242.487072</td>\n",
       "      <td>12</td>\n",
       "    </tr>\n",
       "    <tr>\n",
       "      <th>FSLogix</th>\n",
       "      <td>4199.851860</td>\n",
       "      <td>174.993827</td>\n",
       "      <td>534.528124</td>\n",
       "      <td>24</td>\n",
       "    </tr>\n",
       "    <tr>\n",
       "      <th>Azure Functions + PP365</th>\n",
       "      <td>4759.274715</td>\n",
       "      <td>206.924988</td>\n",
       "      <td>854.667256</td>\n",
       "      <td>23</td>\n",
       "    </tr>\n",
       "    <tr>\n",
       "      <th>Logging in Python</th>\n",
       "      <td>5690.218305</td>\n",
       "      <td>121.068475</td>\n",
       "      <td>614.092916</td>\n",
       "      <td>47</td>\n",
       "    </tr>\n",
       "    <tr>\n",
       "      <th>Powershell Modules</th>\n",
       "      <td>6540.013105</td>\n",
       "      <td>133.469655</td>\n",
       "      <td>915.222379</td>\n",
       "      <td>49</td>\n",
       "    </tr>\n",
       "    <tr>\n",
       "      <th>Vocab</th>\n",
       "      <td>7271.179544</td>\n",
       "      <td>115.415548</td>\n",
       "      <td>942.227324</td>\n",
       "      <td>63</td>\n",
       "    </tr>\n",
       "    <tr>\n",
       "      <th>PnP Powershell</th>\n",
       "      <td>7339.950929</td>\n",
       "      <td>198.377052</td>\n",
       "      <td>581.032401</td>\n",
       "      <td>37</td>\n",
       "    </tr>\n",
       "    <tr>\n",
       "      <th>JavaScript Concepts</th>\n",
       "      <td>8273.142297</td>\n",
       "      <td>135.625284</td>\n",
       "      <td>856.775352</td>\n",
       "      <td>61</td>\n",
       "    </tr>\n",
       "    <tr>\n",
       "      <th>Azure Developer Associate</th>\n",
       "      <td>8673.699517</td>\n",
       "      <td>137.677770</td>\n",
       "      <td>606.631753</td>\n",
       "      <td>63</td>\n",
       "    </tr>\n",
       "  </tbody>\n",
       "</table>\n",
       "</div>"
      ],
      "text/plain": [
       "                                            age_sum    age_mean      age_max  \\\n",
       "Azure AD Authentication                   57.705956    4.438920     7.567273   \n",
       "Azure DevOps Pipelines                    77.096517    2.965251     7.067385   \n",
       "RAG Project                               94.600694    3.941696     9.426224   \n",
       "Email Auth and Security                 1330.674547  110.889546   480.298848   \n",
       "Home Network Project                    1770.238829  196.693203   399.144172   \n",
       "WSL + Kali Linux                        1817.540856  129.824347   449.590000   \n",
       "Audit Report Tracker (Sharepoint List)  2205.258177  169.635244   650.474479   \n",
       "IW Migration                            2280.713965  162.908140   521.812969   \n",
       "Todd Ideas                              2349.982130  156.665475   552.165138   \n",
       "Debugging in VS Code                    2371.356341  118.567817   372.056804   \n",
       "Open Source/GitHub                      2380.228094  148.764256   618.306613   \n",
       "DNS                                     2558.560424  255.856042   668.543925   \n",
       "Terraform                               2572.393946  102.895758   378.972621   \n",
       "Azure Functions + Visual Studio         2758.308711  197.022051   635.341042   \n",
       "Python                                  2788.845853   59.337146   170.897012   \n",
       "SharePoint                              2888.677249  240.723104  1242.487072   \n",
       "FSLogix                                 4199.851860  174.993827   534.528124   \n",
       "Azure Functions + PP365                 4759.274715  206.924988   854.667256   \n",
       "Logging in Python                       5690.218305  121.068475   614.092916   \n",
       "Powershell Modules                      6540.013105  133.469655   915.222379   \n",
       "Vocab                                   7271.179544  115.415548   942.227324   \n",
       "PnP Powershell                          7339.950929  198.377052   581.032401   \n",
       "JavaScript Concepts                     8273.142297  135.625284   856.775352   \n",
       "Azure Developer Associate               8673.699517  137.677770   606.631753   \n",
       "\n",
       "                                        head_count  \n",
       "Azure AD Authentication                         13  \n",
       "Azure DevOps Pipelines                          26  \n",
       "RAG Project                                     24  \n",
       "Email Auth and Security                         12  \n",
       "Home Network Project                             9  \n",
       "WSL + Kali Linux                                14  \n",
       "Audit Report Tracker (Sharepoint List)          13  \n",
       "IW Migration                                    14  \n",
       "Todd Ideas                                      15  \n",
       "Debugging in VS Code                            20  \n",
       "Open Source/GitHub                              16  \n",
       "DNS                                             10  \n",
       "Terraform                                       25  \n",
       "Azure Functions + Visual Studio                 14  \n",
       "Python                                          47  \n",
       "SharePoint                                      12  \n",
       "FSLogix                                         24  \n",
       "Azure Functions + PP365                         23  \n",
       "Logging in Python                               47  \n",
       "Powershell Modules                              49  \n",
       "Vocab                                           63  \n",
       "PnP Powershell                                  37  \n",
       "JavaScript Concepts                             61  \n",
       "Azure Developer Associate                       63  "
      ]
     },
     "execution_count": 3,
     "metadata": {},
     "output_type": "execute_result"
    }
   ],
   "source": [
    "stats = existing_cards.groupby('head').agg({'age': ['sum', 'mean', 'max'], 'head': 'count'}).sort_values(('age', 'sum'))\n",
    "stats.columns = stats.columns.to_flat_index()\n",
    "stats.columns = ['_'.join(col).strip() for col in stats.columns]\n",
    "stats.index.name = None\n",
    "stats"
   ]
  },
  {
   "cell_type": "markdown",
   "metadata": {},
   "source": [
    "# Histogram"
   ]
  },
  {
   "cell_type": "code",
   "execution_count": null,
   "metadata": {},
   "outputs": [
    {
     "name": "stdout",
     "output_type": "stream",
     "text": [
      "sum of ages: ~83049.51\n"
     ]
    },
    {
     "data": {
      "text/plain": [
       "<Axes: >"
      ]
     },
     "execution_count": 4,
     "metadata": {},
     "output_type": "execute_result"
    },
    {
     "data": {
      "image/png": "[encoded data removed]",
      "text/plain": [
       "<Figure size 640x480 with 1 Axes>"
      ]
     },
     "metadata": {},
     "output_type": "display_data"
    }
   ],
   "source": [
    "print(f\"sum of ages: ~ {existing_cards['age'].sum(0):.2f}\")\n",
    "existing_cards['age'].hist(bins=20)"
   ]
  },
  {
   "cell_type": "markdown",
   "metadata": {},
   "source": [
    "# Completely Random Shuffle"
   ]
  },
  {
   "cell_type": "code",
   "execution_count": 5,
   "metadata": {},
   "outputs": [],
   "source": [
    "# existing_cards = existing_cards.sample(frac=1)\n",
    "# remake_card_document(filename='certcards2.txt', existing_cards = existing_cards)"
   ]
  },
  {
   "cell_type": "markdown",
   "metadata": {},
   "source": [
    "# Age Sort"
   ]
  },
  {
   "cell_type": "code",
   "execution_count": 6,
   "metadata": {},
   "outputs": [],
   "source": [
    "# existing_cards = existing_cards.sort_values('age', ascending=False)\n",
    "# remake_card_document(filename='certcards2.txt', existing_cards=existing_cards)\n",
    "# existing_cards.head(10)"
   ]
  },
  {
   "cell_type": "markdown",
   "metadata": {},
   "source": [
    "# Headers with fewest notes first"
   ]
  },
  {
   "cell_type": "code",
   "execution_count": 7,
   "metadata": {},
   "outputs": [],
   "source": [
    "# frequency = existing_cards['head'].value_counts(ascending=True)\n",
    "\n",
    "# existing_cards = pd.merge(\n",
    "#     left=existing_cards,\n",
    "#     right=frequency.rename('frequency'),\n",
    "#     left_on='head', right_index=True,\n",
    "#     how='left'\n",
    "# )\n",
    "# existing_cards['oldest'] = existing_cards.groupby('head')['age'].transform('max')\n",
    "# existing_cards['subject_highest_age'] = existing_cards['subject_highest_age'] * -1\n",
    "# existing_cards['age'] = existing_cards['age'] * -1\n",
    "\n",
    "\n",
    "# existing_cards.sort_values(['frequency', 'subject_highest_age', 'age'], ascending=True, inplace=True)\n",
    "\n",
    "# remake_card_document(filename='certcards2.txt', existing_cards=existing_cards)\n",
    "\n",
    "# existing_cards.head(10)"
   ]
  },
  {
   "cell_type": "markdown",
   "metadata": {},
   "source": [
    "# Focus on one header"
   ]
  },
  {
   "cell_type": "code",
   "execution_count": 8,
   "metadata": {},
   "outputs": [],
   "source": [
    "# heads = existing_cards['head'].value_counts()\n",
    "# heads = heads[heads > 5].index.tolist()\n",
    "# one_header = random.sample(heads, 1)[0]\n",
    "# existing_cards['pick_head'] = existing_cards['head'].apply(\n",
    "#     lambda h: 0 if h == one_header else 1 \n",
    "# )\n",
    "\n",
    "# remake_card_document(existing_cards=existing_cards.sort_values('pick_head'))"
   ]
  },
  {
   "cell_type": "markdown",
   "metadata": {},
   "source": [
    "## Header with oldest cards first"
   ]
  },
  {
   "cell_type": "code",
   "execution_count": 9,
   "metadata": {},
   "outputs": [],
   "source": [
    "# existing_cards['oldest'] = existing_cards.groupby('head')['age'].transform('max')\n",
    "# existing_cards.sort_values(['oldest', 'age'], ascending=False, inplace=True)\n",
    "# remake_card_document(existing_cards)"
   ]
  },
  {
   "cell_type": "markdown",
   "metadata": {},
   "source": [
    "## Headers with greatest mean card age first"
   ]
  },
  {
   "cell_type": "code",
   "execution_count": 10,
   "metadata": {},
   "outputs": [],
   "source": [
    "# existing_cards.sort_values(['subject_mean_age', 'age'], ascending=False, inplace=True)\n",
    "# remake_card_document(existing_cards)"
   ]
  },
  {
   "cell_type": "markdown",
   "metadata": {},
   "source": [
    "## Headers with greatest age sum first"
   ]
  },
  {
   "cell_type": "code",
   "execution_count": 11,
   "metadata": {},
   "outputs": [],
   "source": [
    "# existing_cards.sort_values(['subject_age_sum', 'age'], ascending=False, inplace=True)\n",
    "# remake_card_document(existing_cards)"
   ]
  },
  {
   "cell_type": "markdown",
   "metadata": {},
   "source": [
    "# N-fold shuffle\n"
   ]
  },
  {
   "cell_type": "markdown",
   "metadata": {},
   "source": [
    "## Age Sum"
   ]
  },
  {
   "cell_type": "code",
   "execution_count": null,
   "metadata": {},
   "outputs": [
    {
     "name": "stdout",
     "output_type": "stream",
     "text": [
      "Cards found: 651\n"
     ]
    },
    {
     "data": {
      "application/vnd.microsoft.datawrangler.viewer.v0+json": {
       "columns": [
        {
         "name": "index",
         "rawType": "int64",
         "type": "integer"
        },
        {
         "name": "head",
         "rawType": "object",
         "type": "string"
        },
        {
         "name": "body",
         "rawType": "object",
         "type": "string"
        },
        {
         "name": "hash",
         "rawType": "object",
         "type": "string"
        },
        {
         "name": "age",
         "rawType": "float64",
         "type": "float"
        },
        {
         "name": "subject_mean_age",
         "rawType": "float64",
         "type": "float"
        },
        {
         "name": "subject_highest_age",
         "rawType": "float64",
         "type": "float"
        },
        {
         "name": "subject_age_sum",
         "rawType": "float64",
         "type": "float"
        },
        {
         "name": "head_random_roll",
         "rawType": "float64",
         "type": "float"
        },
        {
         "name": "count",
         "rawType": "int64",
         "type": "integer"
        },
        {
         "name": "n_fold",
         "rawType": "int64",
         "type": "integer"
        }
       ],
       "conversionMethod": "pd.DataFrame",
       "ref": "a3e4bd67-87f1-4ca1-9f54-5f1c33fe6a0d",
       "rows": [
        [
         "21",
         "Azure Developer Associate",
         "Azure blob storage rule run condition: \ndaysAfterLastTierChangeGreaterThan\n  Integer \n  value indicating the age in days after last blob tier change time\tThe minimum duration in days that a rehydrated blob is kept in hot, cool, or cold tiers before being returned to the archive tier. This condition applies only to tierToArchive actions.",
         "15adc00ac7fa8a3353775859becb68af",
         "-606.6317528872872",
         "137.67777011750303",
         "606.6317528872872",
         "-8673.69951740269",
         "0.17306750252522674",
         "0",
         "0"
        ],
        [
         "22",
         "Azure Developer Associate",
         "Q: Which Redis tier is best for development/testing?\nA: Basic Tier — single-node, no SLA, cheapest.",
         "beb15fe6b360deb0814dfc84463d8c97",
         "-510.5149591003438",
         "137.67777011750303",
         "606.6317528872872",
         "-8673.69951740269",
         "0.17306750252522674",
         "3",
         "0"
        ],
        [
         "23",
         "Azure Developer Associate",
         "Q: What is a good practice for naming Redis keys?\nA: Use namespaces (e.g., user:123:profile) to organize and avoid conflicts.",
         "a6a896c677563efaed9f082704aa0244",
         "-397.5375674716048",
         "137.67777011750303",
         "606.6317528872872",
         "-8673.69951740269",
         "0.17306750252522674",
         "6",
         "0"
        ],
        [
         "24",
         "Azure Developer Associate",
         "Rehydration priority options include:\n\nStandard priority: The rehydration request is processed in the order it was received and might take up to 15 hours.",
         "63222cc40d39968dda1c1e4dd2552e52",
         "-227.55541306473728",
         "137.67777011750303",
         "606.6317528872872",
         "-8673.69951740269",
         "0.17306750252522674",
         "9",
         "0"
        ],
        [
         "25",
         "Azure Developer Associate",
         "Q: Is SSL/TLS encryption supported in all Azure Cache for Redis tiers?\nA: Yes — encryption is available in all tiers.",
         "f25f2bf3344d5187dd72c0fa29e9aa7c",
         "-209.93497217595177",
         "137.67777011750303",
         "606.6317528872872",
         "-8673.69951740269",
         "0.17306750252522674",
         "12",
         "0"
        ],
        [
         "26",
         "Azure Developer Associate",
         "Azure blob rule filter type:\nblobTypes\n  An array of predefined enum values\n  Required",
         "443d50317013aa1b6d98e69e2a9ca9f9",
         "-168.04797160918847",
         "137.67777011750303",
         "606.6317528872872",
         "-8673.69951740269",
         "0.17306750252522674",
         "15",
         "0"
        ],
        [
         "251",
         "Azure Developer Associate",
         "When you rehydrate a blob, you can set the priority for the rehydration operation via the optional x-ms-rehydrate-priority header on a Set Blob Tier or Copy Blob/Copy Blob From URL operation.",
         "02dc3782d45805cd4af5a0ceb7544fb4",
         "-136.10118079279013",
         "137.67777011750303",
         "606.6317528872872",
         "-8673.69951740269",
         "0.17306750252522674",
         "18",
         "0"
        ],
        [
         "252",
         "Azure Developer Associate",
         "Q: How does Standard Tier provide high availability?\nA: Through a Primary/Replica architecture with automatic failover.",
         "1fbc33fb1105ab9eb9daebf9ec5c2384",
         "-123.99018369968378",
         "137.67777011750303",
         "606.6317528872872",
         "-8673.69951740269",
         "0.17306750252522674",
         "21",
         "0"
        ],
        [
         "29",
         "Azure Developer Associate",
         "Q: What happens when Redis memory is full?\nA: It evicts keys based on the configured eviction policy (e.g., LRU).",
         "b6ccb8caef9c060d81e7dd8c78863a57",
         "-113.78304193895123",
         "137.67777011750303",
         "606.6317528872872",
         "-8673.69951740269",
         "0.17306750252522674",
         "24",
         "0"
        ],
        [
         "30",
         "Azure Developer Associate",
         "Q: How do you access Azure Cache for Redis from your app?\nA: Use a Redis client library and connect using host, port (6380 for SSL), and access key.",
         "63244ec20fc5c8a4c6d531f2203c86fa",
         "-108.46382513686886",
         "137.67777011750303",
         "606.6317528872872",
         "-8673.69951740269",
         "0.17306750252522674",
         "27",
         "0"
        ]
       ],
       "shape": {
        "columns": 10,
        "rows": 10
       }
      },
      "text/html": [
       "<div>\n",
       "<style scoped>\n",
       "    .dataframe tbody tr th:only-of-type {\n",
       "        vertical-align: middle;\n",
       "    }\n",
       "\n",
       "    .dataframe tbody tr th {\n",
       "        vertical-align: top;\n",
       "    }\n",
       "\n",
       "    .dataframe thead th {\n",
       "        text-align: right;\n",
       "    }\n",
       "</style>\n",
       "<table border=\"1\" class=\"dataframe\">\n",
       "  <thead>\n",
       "    <tr style=\"text-align: right;\">\n",
       "      <th></th>\n",
       "      <th>head</th>\n",
       "      <th>body</th>\n",
       "      <th>hash</th>\n",
       "      <th>age</th>\n",
       "      <th>subject_mean_age</th>\n",
       "      <th>subject_highest_age</th>\n",
       "      <th>subject_age_sum</th>\n",
       "      <th>head_random_roll</th>\n",
       "      <th>count</th>\n",
       "      <th>n_fold</th>\n",
       "    </tr>\n",
       "  </thead>\n",
       "  <tbody>\n",
       "    <tr>\n",
       "      <th>21</th>\n",
       "      <td>Azure Developer Associate</td>\n",
       "      <td>Azure blob storage rule run condition: \\ndaysA...</td>\n",
       "      <td>15adc00ac7fa8a3353775859becb68af</td>\n",
       "      <td>-606.631753</td>\n",
       "      <td>137.67777</td>\n",
       "      <td>606.631753</td>\n",
       "      <td>-8673.699517</td>\n",
       "      <td>0.173068</td>\n",
       "      <td>0</td>\n",
       "      <td>0</td>\n",
       "    </tr>\n",
       "    <tr>\n",
       "      <th>22</th>\n",
       "      <td>Azure Developer Associate</td>\n",
       "      <td>Q: Which Redis tier is best for development/te...</td>\n",
       "      <td>beb15fe6b360deb0814dfc84463d8c97</td>\n",
       "      <td>-510.514959</td>\n",
       "      <td>137.67777</td>\n",
       "      <td>606.631753</td>\n",
       "      <td>-8673.699517</td>\n",
       "      <td>0.173068</td>\n",
       "      <td>3</td>\n",
       "      <td>0</td>\n",
       "    </tr>\n",
       "    <tr>\n",
       "      <th>23</th>\n",
       "      <td>Azure Developer Associate</td>\n",
       "      <td>Q: What is a good practice for naming Redis ke...</td>\n",
       "      <td>a6a896c677563efaed9f082704aa0244</td>\n",
       "      <td>-397.537567</td>\n",
       "      <td>137.67777</td>\n",
       "      <td>606.631753</td>\n",
       "      <td>-8673.699517</td>\n",
       "      <td>0.173068</td>\n",
       "      <td>6</td>\n",
       "      <td>0</td>\n",
       "    </tr>\n",
       "    <tr>\n",
       "      <th>24</th>\n",
       "      <td>Azure Developer Associate</td>\n",
       "      <td>Rehydration priority options include:\\n\\nStand...</td>\n",
       "      <td>63222cc40d39968dda1c1e4dd2552e52</td>\n",
       "      <td>-227.555413</td>\n",
       "      <td>137.67777</td>\n",
       "      <td>606.631753</td>\n",
       "      <td>-8673.699517</td>\n",
       "      <td>0.173068</td>\n",
       "      <td>9</td>\n",
       "      <td>0</td>\n",
       "    </tr>\n",
       "    <tr>\n",
       "      <th>25</th>\n",
       "      <td>Azure Developer Associate</td>\n",
       "      <td>Q: Is SSL/TLS encryption supported in all Azur...</td>\n",
       "      <td>f25f2bf3344d5187dd72c0fa29e9aa7c</td>\n",
       "      <td>-209.934972</td>\n",
       "      <td>137.67777</td>\n",
       "      <td>606.631753</td>\n",
       "      <td>-8673.699517</td>\n",
       "      <td>0.173068</td>\n",
       "      <td>12</td>\n",
       "      <td>0</td>\n",
       "    </tr>\n",
       "    <tr>\n",
       "      <th>26</th>\n",
       "      <td>Azure Developer Associate</td>\n",
       "      <td>Azure blob rule filter type:\\nblobTypes\\n  An ...</td>\n",
       "      <td>443d50317013aa1b6d98e69e2a9ca9f9</td>\n",
       "      <td>-168.047972</td>\n",
       "      <td>137.67777</td>\n",
       "      <td>606.631753</td>\n",
       "      <td>-8673.699517</td>\n",
       "      <td>0.173068</td>\n",
       "      <td>15</td>\n",
       "      <td>0</td>\n",
       "    </tr>\n",
       "    <tr>\n",
       "      <th>251</th>\n",
       "      <td>Azure Developer Associate</td>\n",
       "      <td>When you rehydrate a blob, you can set the pri...</td>\n",
       "      <td>02dc3782d45805cd4af5a0ceb7544fb4</td>\n",
       "      <td>-136.101181</td>\n",
       "      <td>137.67777</td>\n",
       "      <td>606.631753</td>\n",
       "      <td>-8673.699517</td>\n",
       "      <td>0.173068</td>\n",
       "      <td>18</td>\n",
       "      <td>0</td>\n",
       "    </tr>\n",
       "    <tr>\n",
       "      <th>252</th>\n",
       "      <td>Azure Developer Associate</td>\n",
       "      <td>Q: How does Standard Tier provide high availab...</td>\n",
       "      <td>1fbc33fb1105ab9eb9daebf9ec5c2384</td>\n",
       "      <td>-123.990184</td>\n",
       "      <td>137.67777</td>\n",
       "      <td>606.631753</td>\n",
       "      <td>-8673.699517</td>\n",
       "      <td>0.173068</td>\n",
       "      <td>21</td>\n",
       "      <td>0</td>\n",
       "    </tr>\n",
       "    <tr>\n",
       "      <th>29</th>\n",
       "      <td>Azure Developer Associate</td>\n",
       "      <td>Q: What happens when Redis memory is full?\\nA:...</td>\n",
       "      <td>b6ccb8caef9c060d81e7dd8c78863a57</td>\n",
       "      <td>-113.783042</td>\n",
       "      <td>137.67777</td>\n",
       "      <td>606.631753</td>\n",
       "      <td>-8673.699517</td>\n",
       "      <td>0.173068</td>\n",
       "      <td>24</td>\n",
       "      <td>0</td>\n",
       "    </tr>\n",
       "    <tr>\n",
       "      <th>30</th>\n",
       "      <td>Azure Developer Associate</td>\n",
       "      <td>Q: How do you access Azure Cache for Redis fro...</td>\n",
       "      <td>63244ec20fc5c8a4c6d531f2203c86fa</td>\n",
       "      <td>-108.463825</td>\n",
       "      <td>137.67777</td>\n",
       "      <td>606.631753</td>\n",
       "      <td>-8673.699517</td>\n",
       "      <td>0.173068</td>\n",
       "      <td>27</td>\n",
       "      <td>0</td>\n",
       "    </tr>\n",
       "  </tbody>\n",
       "</table>\n",
       "</div>"
      ],
      "text/plain": [
       "                          head  \\\n",
       "21   Azure Developer Associate   \n",
       "22   Azure Developer Associate   \n",
       "23   Azure Developer Associate   \n",
       "24   Azure Developer Associate   \n",
       "25   Azure Developer Associate   \n",
       "26   Azure Developer Associate   \n",
       "251  Azure Developer Associate   \n",
       "252  Azure Developer Associate   \n",
       "29   Azure Developer Associate   \n",
       "30   Azure Developer Associate   \n",
       "\n",
       "                                                  body  \\\n",
       "21   Azure blob storage rule run condition: \\ndaysA...   \n",
       "22   Q: Which Redis tier is best for development/te...   \n",
       "23   Q: What is a good practice for naming Redis ke...   \n",
       "24   Rehydration priority options include:\\n\\nStand...   \n",
       "25   Q: Is SSL/TLS encryption supported in all Azur...   \n",
       "26   Azure blob rule filter type:\\nblobTypes\\n  An ...   \n",
       "251  When you rehydrate a blob, you can set the pri...   \n",
       "252  Q: How does Standard Tier provide high availab...   \n",
       "29   Q: What happens when Redis memory is full?\\nA:...   \n",
       "30   Q: How do you access Azure Cache for Redis fro...   \n",
       "\n",
       "                                 hash         age  subject_mean_age  \\\n",
       "21   15adc00ac7fa8a3353775859becb68af -606.631753         137.67777   \n",
       "22   beb15fe6b360deb0814dfc84463d8c97 -510.514959         137.67777   \n",
       "23   a6a896c677563efaed9f082704aa0244 -397.537567         137.67777   \n",
       "24   63222cc40d39968dda1c1e4dd2552e52 -227.555413         137.67777   \n",
       "25   f25f2bf3344d5187dd72c0fa29e9aa7c -209.934972         137.67777   \n",
       "26   443d50317013aa1b6d98e69e2a9ca9f9 -168.047972         137.67777   \n",
       "251  02dc3782d45805cd4af5a0ceb7544fb4 -136.101181         137.67777   \n",
       "252  1fbc33fb1105ab9eb9daebf9ec5c2384 -123.990184         137.67777   \n",
       "29   b6ccb8caef9c060d81e7dd8c78863a57 -113.783042         137.67777   \n",
       "30   63244ec20fc5c8a4c6d531f2203c86fa -108.463825         137.67777   \n",
       "\n",
       "     subject_highest_age  subject_age_sum  head_random_roll  count  n_fold  \n",
       "21            606.631753     -8673.699517          0.173068      0       0  \n",
       "22            606.631753     -8673.699517          0.173068      3       0  \n",
       "23            606.631753     -8673.699517          0.173068      6       0  \n",
       "24            606.631753     -8673.699517          0.173068      9       0  \n",
       "25            606.631753     -8673.699517          0.173068     12       0  \n",
       "26            606.631753     -8673.699517          0.173068     15       0  \n",
       "251           606.631753     -8673.699517          0.173068     18       0  \n",
       "252           606.631753     -8673.699517          0.173068     21       0  \n",
       "29            606.631753     -8673.699517          0.173068     24       0  \n",
       "30            606.631753     -8673.699517          0.173068     27       0  "
      ]
     },
     "execution_count": 12,
     "metadata": {},
     "output_type": "execute_result"
    }
   ],
   "source": [
    "# n=3\n",
    "# existing_cards['count'] = existing_cards.sort_values('age', ascending=False).groupby('head').cumcount()\n",
    "# existing_cards['n_fold'] = existing_cards['count'] % n\n",
    "\n",
    "# existing_cards['subject_age_sum'] = existing_cards['subject_age_sum'] *-1\n",
    "# existing_cards['age'] = existing_cards['age'] *-1\n",
    "# existing_cards.sort_values(['n_fold', 'subject_age_sum', 'age'], inplace=True)\n",
    "\n",
    "# remake_card_document(existing_cards=existing_cards)\n",
    "# existing_cards.head(10)\n"
   ]
  },
  {
   "cell_type": "markdown",
   "metadata": {},
   "source": [
    "## Age Mean"
   ]
  },
  {
   "cell_type": "code",
   "execution_count": null,
   "metadata": {},
   "outputs": [],
   "source": [
    "n=3\n",
    "existing_cards['count'] = existing_cards.sort_values('age', ascending=False).groupby('head').cumcount()\n",
    "existing_cards['n_fold'] = existing_cards['count'] % n\n",
    "\n",
    "existing_cards['subject_mean_age'] = existing_cards['subject_mean_age'] *-1\n",
    "existing_cards['age'] = existing_cards['age'] *-1\n",
    "existing_cards.sort_values(['n_fold', 'subject_mean_age', 'age'], inplace=True)\n",
    "remake_card_document(existing_cards=existing_cards)\n",
    "\n",
    "existing_cards.head(10)\n",
    "\n"
   ]
  },
  {
   "cell_type": "markdown",
   "metadata": {},
   "source": [
    "## Age Max"
   ]
  },
  {
   "cell_type": "code",
   "execution_count": 14,
   "metadata": {},
   "outputs": [],
   "source": [
    "# n = 1\n",
    "# existing_cards['count'] = existing_cards.sort_values('age', ascending=False).groupby('head').cumcount()\n",
    "# existing_cards['n_fold'] = existing_cards['count'] // n\n",
    "\n",
    "# if existing_cards['age'].sum() > 0:\n",
    "#     existing_cards['subject_highest_age'] = existing_cards['subject_highest_age'] *-1\n",
    "#     existing_cards['age'] = existing_cards['age'] *-1\n",
    "# existing_cards.sort_values(['n_fold', 'subject_highest_age', 'age'], inplace=True)\n",
    "\n",
    "# remake_card_document(existing_cards=existing_cards)\n",
    "# existing_cards.head(10)\n"
   ]
  },
  {
   "cell_type": "markdown",
   "metadata": {},
   "source": [
    "## Card Count"
   ]
  },
  {
   "cell_type": "code",
   "execution_count": 15,
   "metadata": {},
   "outputs": [],
   "source": [
    "# n=10\n",
    "# existing_cards['frequency']  = existing_cards.groupby('head').transform('count')['body']\n",
    "# existing_cards['count'] = existing_cards.sort_values('age', ascending=False).groupby('head').cumcount()\n",
    "# existing_cards['n_fold'] = existing_cards['count'] // n\n",
    "\n",
    "# if existing_cards['age'].sum() > 0:\n",
    "#     # existing_cards['neg_subject_highest_age'] = existing_cards['subject_highest_age'] *-1\n",
    "#     existing_cards['neg_age'] = existing_cards['age'] *-1\n",
    "# existing_cards.sort_values(['n_fold', 'frequency', 'neg_age'], inplace=True)\n",
    "# remake_card_document(existing_cards=existing_cards)\n",
    "\n",
    "# existing_cards.head(10)\n",
    "\n"
   ]
  },
  {
   "cell_type": "markdown",
   "metadata": {},
   "source": [
    "\n",
    "## Random"
   ]
  },
  {
   "cell_type": "code",
   "execution_count": 16,
   "metadata": {},
   "outputs": [],
   "source": [
    "# n = 3\n",
    "# existing_cards['count'] = existing_cards.sort_values('age', ascending=False).groupby('head').cumcount()\n",
    "# existing_cards['n_fold'] = existing_cards['count'] % n\n",
    "# existing_cards['age'] *= -1\n",
    "# existing_cards.sort_values(['n_fold', 'head_random_roll', 'age'], inplace=True)\n",
    "# remake_card_document(existing_cards=existing_cards)\n",
    "# existing_cards.head(10)"
   ]
  },
  {
   "cell_type": "code",
   "execution_count": 17,
   "metadata": {},
   "outputs": [
    {
     "data": {
      "text/plain": [
       "head                   Azure Developer AssociateAzure Developer Assoc...\n",
       "body                   Azure blob storage rule run condition: \\ndaysA...\n",
       "hash                   15adc00ac7fa8a3353775859becb68afbeb15fe6b360de...\n",
       "age                                                         -2602.560868\n",
       "subject_mean_age                                             1376.777701\n",
       "subject_highest_age                                          6066.317529\n",
       "subject_age_sum                                            -86736.995174\n",
       "head_random_roll                                                1.730675\n",
       "count                                                                135\n",
       "n_fold                                                                 0\n",
       "dtype: object"
      ]
     },
     "execution_count": 17,
     "metadata": {},
     "output_type": "execute_result"
    }
   ],
   "source": [
    "existing_cards.head(10).sum()"
   ]
  },
  {
   "cell_type": "code",
   "execution_count": 18,
   "metadata": {},
   "outputs": [
    {
     "data": {
      "text/plain": [
       "-127.57221591438547"
      ]
     },
     "execution_count": 18,
     "metadata": {},
     "output_type": "execute_result"
    }
   ],
   "source": [
    "existing_cards['age'].mean()"
   ]
  }
 ],
 "metadata": {
  "kernelspec": {
   "display_name": "Python 3",
   "language": "python",
   "name": "python3"
  },
  "language_info": {
   "codemirror_mode": {
    "name": "ipython",
    "version": 3
   },
   "file_extension": ".py",
   "mimetype": "text/x-python",
   "name": "python",
   "nbconvert_exporter": "python",
   "pygments_lexer": "ipython3",
   "version": "3.10.10"
  }
 },
 "nbformat": 4,
 "nbformat_minor": 2
}
