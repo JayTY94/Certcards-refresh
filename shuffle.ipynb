{
 "cells": [
  {
   "cell_type": "code",
   "execution_count": 129,
   "metadata": {},
   "outputs": [],
   "source": [
    "import re\n",
    "import random\n",
    "import pandas as pd\n",
    "import hashlib"
   ]
  },
  {
   "cell_type": "code",
   "execution_count": 130,
   "metadata": {},
   "outputs": [],
   "source": [
    "with open('certcards2.txt', mode='r', encoding='utf8') as f:\n",
    "    all_cards = f.read()\n",
    "    \n",
    "card_split_pattern = r'\\n\\n\\n\\d+\\n'\n",
    "all_cards = re.split(card_split_pattern, all_cards)\n",
    "# Use re.DOTALL to allow . to match newline characters\n",
    "card_pattern = re.compile(r'(.+?)\\n([\\s\\S]+)', re.DOTALL)\n",
    "cards = [(match.group(1), match.group(2)) for cstring in all_cards if (match := re.search(card_pattern, cstring))]\n",
    "\n",
    "# removing the cards that have no content and trimming\n",
    "cards = [(subject, stripped_content) for subject, content in cards if len(stripped_content := content.strip()) > 5]\n",
    "\n",
    "def hash_string_md5(s):\n",
    "    \"\"\"\n",
    "    Hashes a string using MD5 and returns a truncated hash for efficiency.\n",
    "\n",
    "    Parameters:\n",
    "    - s (str): The input string to hash.\n",
    "\n",
    "    Returns:\n",
    "    - str: The truncated hexadecimal hash string.\n",
    "    \"\"\"\n",
    "    if pd.isnull(s):\n",
    "        return None  # Handle NaN values gracefully\n",
    "    return hashlib.md5(s.encode('utf-8')).hexdigest()  # Truncate to first 12 characters\n",
    "\n",
    "\n",
    "def remake_card_document(existing_cards: pd.DataFrame, filename: str='certcards2.txt'):\n",
    "    with open(filename, mode='w', encoding='utf8') as f:\n",
    "        i = 1\n",
    "        for _, row in existing_cards.iterrows():\n",
    "            f.write('\\n'*6)\n",
    "            f.write(str(i)+'\\n')  \n",
    "            f.write(row['head']+'\\n')\n",
    "            f.write(row['body'])\n",
    "            i+=1\n",
    "    print(F\"Cards found: {existing_cards.shape[0]}\")\n",
    "\n",
    "\n",
    "existing_cards = pd.DataFrame(cards, columns=['head', 'body'])\n",
    "\n",
    "\n",
    "# existing_cards['age'] = [random.random() for _ in existing_cards.index]\n",
    "existing_cards['hash'] = existing_cards['body'].apply(hash_string_md5)\n",
    "existing_cards\n",
    "\n",
    "card_ages = pd.read_json('card_ages.json')\n",
    "card_ages = card_ages.drop_duplicates(subset=['hash'], keep='first')\n",
    "\n",
    "cards_to_age = pd.merge(\n",
    "    left=existing_cards,\n",
    "    right=card_ages[['hash', 'age']],\n",
    "    left_on='hash', right_on='hash',\n",
    "    how='left'\n",
    ")\n",
    "\n",
    "cards_to_age['head'] = cards_to_age['head'].str.strip()\n",
    "\n",
    "if cards_to_age['age'].sum() > 2e4: age_factor = 1\n",
    "else: age_factor = 1.00\n",
    "\n",
    "cards_to_age['age'] = cards_to_age['age'].fillna(0)\n",
    "cards_to_age['age'] = cards_to_age['age'] * age_factor\n",
    "cards_to_age['age'] = cards_to_age['age'] + [random.expovariate(.60) for _ in cards_to_age.index]\n",
    "# cards_to_age['age'] = cards_to_age['age'] * [random.expovariate(.5) for _ in cards_to_age.index]\n",
    "\n",
    "\n",
    "cards_to_age = cards_to_age.drop_duplicates(subset=['hash'], keep='first')\n",
    "\n",
    "cards_to_age['subject_mean_age'] = cards_to_age.groupby('head')['age'].transform('mean')\n",
    "cards_to_age['subject_highest_age'] = cards_to_age.groupby('head')['age'].transform('max')\n",
    "cards_to_age['subject_age_sum'] = cards_to_age.groupby('head')['age'].transform('sum')\n",
    "cards_to_age['head_random_roll'] = cards_to_age.groupby('head')['head'].transform(lambda x: random.random())\n",
    "\n",
    "\n",
    "cards_to_age.sort_values('hash')[['age', 'head', 'hash']].to_json('card_ages.json', indent=2)\n",
    "\n",
    "existing_cards = cards_to_age"
   ]
  },
  {
   "cell_type": "code",
   "execution_count": 131,
   "metadata": {},
   "outputs": [
    {
     "data": {
      "application/vnd.microsoft.datawrangler.viewer.v0+json": {
       "columns": [
        {
         "name": "index",
         "rawType": "object",
         "type": "string"
        },
        {
         "name": "age_sum",
         "rawType": "float64",
         "type": "float"
        },
        {
         "name": "age_mean",
         "rawType": "float64",
         "type": "float"
        },
        {
         "name": "age_max",
         "rawType": "float64",
         "type": "float"
        },
        {
         "name": "head_count",
         "rawType": "int64",
         "type": "integer"
        }
       ],
       "conversionMethod": "pd.DataFrame",
       "ref": "5c17cb4d-5862-489e-9a30-24246afa1518",
       "rows": [
        [
         "Python",
         "326.7043949189699",
         "6.9511573387014876",
         "15.543925722002857",
         "47"
        ],
        [
         "Powershell",
         "505.5169992221112",
         "101.10339984442224",
         "246.56803636924823",
         "5"
        ],
        [
         "Todd Ideas",
         "938.2020968602202",
         "62.54680645734801",
         "152.47435798058996",
         "15"
        ],
        [
         "PEP 8",
         "1417.0714842082486",
         "177.13393552603108",
         "586.8157052663481",
         "8"
        ],
        [
         "SharePoint",
         "1654.0001124089815",
         "137.83334270074846",
         "577.9927809432887",
         "12"
        ],
        [
         "Audit Report Tracker (Sharepoint List)",
         "1781.7394015809223",
         "137.05687704468633",
         "365.46802042623216",
         "13"
        ],
        [
         "Debugging in VS Code",
         "1923.1563317065675",
         "96.15781658532838",
         "260.4885997609202",
         "20"
        ],
        [
         "Azure Functions + Visual Studio",
         "1941.4296004323212",
         "138.67354288802295",
         "481.55581654818747",
         "14"
        ],
        [
         "Terraform",
         "2050.518761138216",
         "82.02075044552865",
         "252.50164373322747",
         "25"
        ],
        [
         "IW Migration",
         "2117.5300480711608",
         "151.25214629079719",
         "459.5604681087675",
         "14"
        ],
        [
         "Open Source/GitHub",
         "2283.1141966318787",
         "142.69463728949242",
         "367.7142740092127",
         "16"
        ],
        [
         "Email Auth and Security",
         "2334.5233884594822",
         "179.57872218919096",
         "895.4435219178775",
         "13"
        ],
        [
         "FSLogix",
         "2398.0694743842673",
         "99.91956143267781",
         "263.4765861267587",
         "24"
        ],
        [
         "Azure Functions",
         "2879.1652862570327",
         "261.74229875063935",
         "740.48436121523",
         "11"
        ],
        [
         "DNS",
         "3116.5979003054294",
         "194.78736876908934",
         "397.70845122407076",
         "16"
        ],
        [
         "OData",
         "3153.6823691264744",
         "315.36823691264743",
         "864.490473706999",
         "10"
        ],
        [
         "WSL + Kali Linux",
         "3295.269234576939",
         "173.4352228724705",
         "411.48827462635865",
         "19"
        ],
        [
         "Azure AI Search",
         "3756.2708660120297",
         "268.30506185800215",
         "721.1094300421435",
         "14"
        ],
        [
         "Powershell Modules",
         "4730.84309998275",
         "157.69476999942498",
         "679.5432683119298",
         "30"
        ],
        [
         "Azure Functions + PP365",
         "5189.446084141499",
         "207.57784336566",
         "1052.5339891330534",
         "25"
        ],
        [
         "Home Network Project",
         "5504.767929767128",
         "289.72462788248043",
         "1196.8570712705414",
         "19"
        ],
        [
         "Vocab",
         "6520.783543506651",
         "98.79975065919167",
         "857.213001841163",
         "66"
        ],
        [
         "PnP Powershell",
         "6629.106664367218",
         "174.4501753780847",
         "653.070258342365",
         "38"
        ],
        [
         "JavaScript Concepts",
         "7034.078808346049",
         "115.31276734993523",
         "430.51856656123107",
         "61"
        ],
        [
         "Logging in Python",
         "8627.407443498318",
         "143.79012405830528",
         "1030.1217440400562",
         "60"
        ]
       ],
       "shape": {
        "columns": 4,
        "rows": 25
       }
      },
      "text/html": [
       "<div>\n",
       "<style scoped>\n",
       "    .dataframe tbody tr th:only-of-type {\n",
       "        vertical-align: middle;\n",
       "    }\n",
       "\n",
       "    .dataframe tbody tr th {\n",
       "        vertical-align: top;\n",
       "    }\n",
       "\n",
       "    .dataframe thead th {\n",
       "        text-align: right;\n",
       "    }\n",
       "</style>\n",
       "<table border=\"1\" class=\"dataframe\">\n",
       "  <thead>\n",
       "    <tr style=\"text-align: right;\">\n",
       "      <th></th>\n",
       "      <th>age_sum</th>\n",
       "      <th>age_mean</th>\n",
       "      <th>age_max</th>\n",
       "      <th>head_count</th>\n",
       "    </tr>\n",
       "  </thead>\n",
       "  <tbody>\n",
       "    <tr>\n",
       "      <th>Python</th>\n",
       "      <td>326.704395</td>\n",
       "      <td>6.951157</td>\n",
       "      <td>15.543926</td>\n",
       "      <td>47</td>\n",
       "    </tr>\n",
       "    <tr>\n",
       "      <th>Powershell</th>\n",
       "      <td>505.516999</td>\n",
       "      <td>101.103400</td>\n",
       "      <td>246.568036</td>\n",
       "      <td>5</td>\n",
       "    </tr>\n",
       "    <tr>\n",
       "      <th>Todd Ideas</th>\n",
       "      <td>938.202097</td>\n",
       "      <td>62.546806</td>\n",
       "      <td>152.474358</td>\n",
       "      <td>15</td>\n",
       "    </tr>\n",
       "    <tr>\n",
       "      <th>PEP 8</th>\n",
       "      <td>1417.071484</td>\n",
       "      <td>177.133936</td>\n",
       "      <td>586.815705</td>\n",
       "      <td>8</td>\n",
       "    </tr>\n",
       "    <tr>\n",
       "      <th>SharePoint</th>\n",
       "      <td>1654.000112</td>\n",
       "      <td>137.833343</td>\n",
       "      <td>577.992781</td>\n",
       "      <td>12</td>\n",
       "    </tr>\n",
       "    <tr>\n",
       "      <th>Audit Report Tracker (Sharepoint List)</th>\n",
       "      <td>1781.739402</td>\n",
       "      <td>137.056877</td>\n",
       "      <td>365.468020</td>\n",
       "      <td>13</td>\n",
       "    </tr>\n",
       "    <tr>\n",
       "      <th>Debugging in VS Code</th>\n",
       "      <td>1923.156332</td>\n",
       "      <td>96.157817</td>\n",
       "      <td>260.488600</td>\n",
       "      <td>20</td>\n",
       "    </tr>\n",
       "    <tr>\n",
       "      <th>Azure Functions + Visual Studio</th>\n",
       "      <td>1941.429600</td>\n",
       "      <td>138.673543</td>\n",
       "      <td>481.555817</td>\n",
       "      <td>14</td>\n",
       "    </tr>\n",
       "    <tr>\n",
       "      <th>Terraform</th>\n",
       "      <td>2050.518761</td>\n",
       "      <td>82.020750</td>\n",
       "      <td>252.501644</td>\n",
       "      <td>25</td>\n",
       "    </tr>\n",
       "    <tr>\n",
       "      <th>IW Migration</th>\n",
       "      <td>2117.530048</td>\n",
       "      <td>151.252146</td>\n",
       "      <td>459.560468</td>\n",
       "      <td>14</td>\n",
       "    </tr>\n",
       "    <tr>\n",
       "      <th>Open Source/GitHub</th>\n",
       "      <td>2283.114197</td>\n",
       "      <td>142.694637</td>\n",
       "      <td>367.714274</td>\n",
       "      <td>16</td>\n",
       "    </tr>\n",
       "    <tr>\n",
       "      <th>Email Auth and Security</th>\n",
       "      <td>2334.523388</td>\n",
       "      <td>179.578722</td>\n",
       "      <td>895.443522</td>\n",
       "      <td>13</td>\n",
       "    </tr>\n",
       "    <tr>\n",
       "      <th>FSLogix</th>\n",
       "      <td>2398.069474</td>\n",
       "      <td>99.919561</td>\n",
       "      <td>263.476586</td>\n",
       "      <td>24</td>\n",
       "    </tr>\n",
       "    <tr>\n",
       "      <th>Azure Functions</th>\n",
       "      <td>2879.165286</td>\n",
       "      <td>261.742299</td>\n",
       "      <td>740.484361</td>\n",
       "      <td>11</td>\n",
       "    </tr>\n",
       "    <tr>\n",
       "      <th>DNS</th>\n",
       "      <td>3116.597900</td>\n",
       "      <td>194.787369</td>\n",
       "      <td>397.708451</td>\n",
       "      <td>16</td>\n",
       "    </tr>\n",
       "    <tr>\n",
       "      <th>OData</th>\n",
       "      <td>3153.682369</td>\n",
       "      <td>315.368237</td>\n",
       "      <td>864.490474</td>\n",
       "      <td>10</td>\n",
       "    </tr>\n",
       "    <tr>\n",
       "      <th>WSL + Kali Linux</th>\n",
       "      <td>3295.269235</td>\n",
       "      <td>173.435223</td>\n",
       "      <td>411.488275</td>\n",
       "      <td>19</td>\n",
       "    </tr>\n",
       "    <tr>\n",
       "      <th>Azure AI Search</th>\n",
       "      <td>3756.270866</td>\n",
       "      <td>268.305062</td>\n",
       "      <td>721.109430</td>\n",
       "      <td>14</td>\n",
       "    </tr>\n",
       "    <tr>\n",
       "      <th>Powershell Modules</th>\n",
       "      <td>4730.843100</td>\n",
       "      <td>157.694770</td>\n",
       "      <td>679.543268</td>\n",
       "      <td>30</td>\n",
       "    </tr>\n",
       "    <tr>\n",
       "      <th>Azure Functions + PP365</th>\n",
       "      <td>5189.446084</td>\n",
       "      <td>207.577843</td>\n",
       "      <td>1052.533989</td>\n",
       "      <td>25</td>\n",
       "    </tr>\n",
       "    <tr>\n",
       "      <th>Home Network Project</th>\n",
       "      <td>5504.767930</td>\n",
       "      <td>289.724628</td>\n",
       "      <td>1196.857071</td>\n",
       "      <td>19</td>\n",
       "    </tr>\n",
       "    <tr>\n",
       "      <th>Vocab</th>\n",
       "      <td>6520.783544</td>\n",
       "      <td>98.799751</td>\n",
       "      <td>857.213002</td>\n",
       "      <td>66</td>\n",
       "    </tr>\n",
       "    <tr>\n",
       "      <th>PnP Powershell</th>\n",
       "      <td>6629.106664</td>\n",
       "      <td>174.450175</td>\n",
       "      <td>653.070258</td>\n",
       "      <td>38</td>\n",
       "    </tr>\n",
       "    <tr>\n",
       "      <th>JavaScript Concepts</th>\n",
       "      <td>7034.078808</td>\n",
       "      <td>115.312767</td>\n",
       "      <td>430.518567</td>\n",
       "      <td>61</td>\n",
       "    </tr>\n",
       "    <tr>\n",
       "      <th>Logging in Python</th>\n",
       "      <td>8627.407443</td>\n",
       "      <td>143.790124</td>\n",
       "      <td>1030.121744</td>\n",
       "      <td>60</td>\n",
       "    </tr>\n",
       "  </tbody>\n",
       "</table>\n",
       "</div>"
      ],
      "text/plain": [
       "                                            age_sum    age_mean      age_max  \\\n",
       "Python                                   326.704395    6.951157    15.543926   \n",
       "Powershell                               505.516999  101.103400   246.568036   \n",
       "Todd Ideas                               938.202097   62.546806   152.474358   \n",
       "PEP 8                                   1417.071484  177.133936   586.815705   \n",
       "SharePoint                              1654.000112  137.833343   577.992781   \n",
       "Audit Report Tracker (Sharepoint List)  1781.739402  137.056877   365.468020   \n",
       "Debugging in VS Code                    1923.156332   96.157817   260.488600   \n",
       "Azure Functions + Visual Studio         1941.429600  138.673543   481.555817   \n",
       "Terraform                               2050.518761   82.020750   252.501644   \n",
       "IW Migration                            2117.530048  151.252146   459.560468   \n",
       "Open Source/GitHub                      2283.114197  142.694637   367.714274   \n",
       "Email Auth and Security                 2334.523388  179.578722   895.443522   \n",
       "FSLogix                                 2398.069474   99.919561   263.476586   \n",
       "Azure Functions                         2879.165286  261.742299   740.484361   \n",
       "DNS                                     3116.597900  194.787369   397.708451   \n",
       "OData                                   3153.682369  315.368237   864.490474   \n",
       "WSL + Kali Linux                        3295.269235  173.435223   411.488275   \n",
       "Azure AI Search                         3756.270866  268.305062   721.109430   \n",
       "Powershell Modules                      4730.843100  157.694770   679.543268   \n",
       "Azure Functions + PP365                 5189.446084  207.577843  1052.533989   \n",
       "Home Network Project                    5504.767930  289.724628  1196.857071   \n",
       "Vocab                                   6520.783544   98.799751   857.213002   \n",
       "PnP Powershell                          6629.106664  174.450175   653.070258   \n",
       "JavaScript Concepts                     7034.078808  115.312767   430.518567   \n",
       "Logging in Python                       8627.407443  143.790124  1030.121744   \n",
       "\n",
       "                                        head_count  \n",
       "Python                                          47  \n",
       "Powershell                                       5  \n",
       "Todd Ideas                                      15  \n",
       "PEP 8                                            8  \n",
       "SharePoint                                      12  \n",
       "Audit Report Tracker (Sharepoint List)          13  \n",
       "Debugging in VS Code                            20  \n",
       "Azure Functions + Visual Studio                 14  \n",
       "Terraform                                       25  \n",
       "IW Migration                                    14  \n",
       "Open Source/GitHub                              16  \n",
       "Email Auth and Security                         13  \n",
       "FSLogix                                         24  \n",
       "Azure Functions                                 11  \n",
       "DNS                                             16  \n",
       "OData                                           10  \n",
       "WSL + Kali Linux                                19  \n",
       "Azure AI Search                                 14  \n",
       "Powershell Modules                              30  \n",
       "Azure Functions + PP365                         25  \n",
       "Home Network Project                            19  \n",
       "Vocab                                           66  \n",
       "PnP Powershell                                  38  \n",
       "JavaScript Concepts                             61  \n",
       "Logging in Python                               60  "
      ]
     },
     "execution_count": 131,
     "metadata": {},
     "output_type": "execute_result"
    }
   ],
   "source": [
    "stats = existing_cards.groupby('head').agg({'age': ['sum', 'mean', 'max'], 'head': 'count'}).sort_values(('age', 'sum'))\n",
    "stats.columns = stats.columns.to_flat_index()\n",
    "stats.columns = ['_'.join(col).strip() for col in stats.columns]\n",
    "stats.index.name = None\n",
    "stats"
   ]
  },
  {
   "cell_type": "code",
   "execution_count": null,
   "metadata": {},
   "outputs": [],
   "source": []
  },
  {
   "cell_type": "markdown",
   "metadata": {},
   "source": [
    "# Histogram"
   ]
  },
  {
   "cell_type": "code",
   "execution_count": 132,
   "metadata": {},
   "outputs": [
    {
     "name": "stdout",
     "output_type": "stream",
     "text": [
      "82109.00\n"
     ]
    },
    {
     "data": {
      "text/plain": [
       "<Axes: >"
      ]
     },
     "execution_count": 132,
     "metadata": {},
     "output_type": "execute_result"
    },
    {
     "data": {
      "image/png": "[encoded data removed]",
      "text/plain": [
       "<Figure size 640x480 with 1 Axes>"
      ]
     },
     "metadata": {},
     "output_type": "display_data"
    }
   ],
   "source": [
    "print(f\"{existing_cards['age'].sum(0):.2f}\")\n",
    "existing_cards['age'].hist(bins=20)"
   ]
  },
  {
   "cell_type": "markdown",
   "metadata": {},
   "source": [
    "# Completely Random Shuffle"
   ]
  },
  {
   "cell_type": "code",
   "execution_count": 133,
   "metadata": {},
   "outputs": [],
   "source": [
    "# existing_cards = existing_cards.sample(frac=1)\n",
    "# remake_card_document(filename='certcards2.txt', existing_cards = existing_cards)"
   ]
  },
  {
   "cell_type": "markdown",
   "metadata": {},
   "source": [
    "# Age Sort"
   ]
  },
  {
   "cell_type": "code",
   "execution_count": 134,
   "metadata": {},
   "outputs": [],
   "source": [
    "# existing_cards = existing_cards.sort_values('age', ascending=False)\n",
    "# remake_card_document(filename='certcards2.txt', existing_cards=existing_cards)\n",
    "# existing_cards.head(10)"
   ]
  },
  {
   "cell_type": "markdown",
   "metadata": {},
   "source": [
    "# Headers with fewest notes first"
   ]
  },
  {
   "cell_type": "code",
   "execution_count": 135,
   "metadata": {},
   "outputs": [],
   "source": [
    "# frequency = existing_cards['head'].value_counts(ascending=True)\n",
    "\n",
    "# existing_cards = pd.merge(\n",
    "#     left=existing_cards,\n",
    "#     right=frequency.rename('frequency'),\n",
    "#     left_on='head', right_index=True,\n",
    "#     how='left'\n",
    "# )\n",
    "# existing_cards['oldest'] = existing_cards.groupby('head')['age'].transform('max')\n",
    "# existing_cards['subject_highest_age'] = existing_cards['subject_highest_age'] * -1\n",
    "# existing_cards['age'] = existing_cards['age'] * -1\n",
    "\n",
    "\n",
    "# existing_cards.sort_values(['frequency', 'subject_highest_age', 'age'], ascending=True, inplace=True)\n",
    "\n",
    "# remake_card_document(filename='certcards2.txt', existing_cards=existing_cards)\n",
    "\n",
    "# existing_cards.head(10)"
   ]
  },
  {
   "cell_type": "markdown",
   "metadata": {},
   "source": [
    "# Focus on one header"
   ]
  },
  {
   "cell_type": "code",
   "execution_count": 136,
   "metadata": {},
   "outputs": [],
   "source": [
    "# heads = existing_cards['head'].value_counts()\n",
    "# heads = heads[heads > 5].index.tolist()\n",
    "# one_header = random.sample(heads, 1)[0]\n",
    "# existing_cards['pick_head'] = existing_cards['head'].apply(\n",
    "#     lambda h: 0 if h == one_header else 1 \n",
    "# )\n",
    "\n",
    "# remake_card_document(existing_cards=existing_cards.sort_values('pick_head'))"
   ]
  },
  {
   "cell_type": "markdown",
   "metadata": {},
   "source": [
    "## Header with oldest cards first"
   ]
  },
  {
   "cell_type": "code",
   "execution_count": 137,
   "metadata": {},
   "outputs": [],
   "source": [
    "# existing_cards['oldest'] = existing_cards.groupby('head')['age'].transform('max')\n",
    "# existing_cards.sort_values(['oldest', 'age'], ascending=False, inplace=True)\n",
    "# remake_card_document(existing_cards)"
   ]
  },
  {
   "cell_type": "markdown",
   "metadata": {},
   "source": [
    "## Headers with greatest mean card age first"
   ]
  },
  {
   "cell_type": "code",
   "execution_count": 138,
   "metadata": {},
   "outputs": [],
   "source": [
    "# existing_cards.sort_values(['subject_mean_age', 'age'], ascending=False, inplace=True)\n",
    "# remake_card_document(existing_cards)"
   ]
  },
  {
   "cell_type": "markdown",
   "metadata": {},
   "source": [
    "## Headers with greatest age sum first"
   ]
  },
  {
   "cell_type": "code",
   "execution_count": 139,
   "metadata": {},
   "outputs": [],
   "source": [
    "# existing_cards.sort_values(['subject_age_sum', 'age'], ascending=False, inplace=True)\n",
    "# remake_card_document(existing_cards)"
   ]
  },
  {
   "cell_type": "markdown",
   "metadata": {},
   "source": [
    "# N-fold shuffle\n"
   ]
  },
  {
   "cell_type": "markdown",
   "metadata": {},
   "source": [
    "## Age Sum"
   ]
  },
  {
   "cell_type": "code",
   "execution_count": 140,
   "metadata": {},
   "outputs": [],
   "source": [
    "# n=10\n",
    "# existing_cards['count'] = existing_cards.sort_values('age', ascending=False).groupby('head').cumcount()\n",
    "# existing_cards['n_fold'] = existing_cards['count'] // n\n",
    "\n",
    "# existing_cards['subject_age_sum'] = existing_cards['subject_age_sum'] *-1\n",
    "# existing_cards['age'] = existing_cards['age'] *-1\n",
    "# existing_cards.sort_values(['n_fold', 'subject_age_sum', 'age'], inplace=True)\n",
    "\n",
    "# remake_card_document(existing_cards=existing_cards)\n",
    "# existing_cards.head(10)\n"
   ]
  },
  {
   "cell_type": "markdown",
   "metadata": {},
   "source": [
    "## Age Mean"
   ]
  },
  {
   "cell_type": "code",
   "execution_count": 141,
   "metadata": {},
   "outputs": [],
   "source": [
    "# n=3\n",
    "# existing_cards['count'] = existing_cards.sort_values('age', ascending=False).groupby('head').cumcount()\n",
    "# existing_cards['n_fold'] = existing_cards['count'] % n\n",
    "\n",
    "# existing_cards['subject_mean_age'] = existing_cards['subject_mean_age'] *-1\n",
    "# existing_cards['age'] = existing_cards['age'] *-1\n",
    "# existing_cards.sort_values(['n_fold', 'subject_mean_age', 'age'], inplace=True)\n",
    "# remake_card_document(existing_cards=existing_cards)\n",
    "\n",
    "# existing_cards.head(10)\n",
    "\n"
   ]
  },
  {
   "cell_type": "markdown",
   "metadata": {},
   "source": [
    "## Age Max"
   ]
  },
  {
   "cell_type": "code",
   "execution_count": 142,
   "metadata": {},
   "outputs": [],
   "source": [
    "# n = 3\n",
    "# existing_cards['count'] = existing_cards.sort_values('age', ascending=False).groupby('head').cumcount()\n",
    "# existing_cards['n_fold'] = existing_cards['count'] // n\n",
    "\n",
    "# if existing_cards['age'].sum() > 0:\n",
    "#     existing_cards['subject_highest_age'] = existing_cards['subject_highest_age'] *-1\n",
    "#     existing_cards['age'] = existing_cards['age'] *-1\n",
    "# existing_cards.sort_values(['n_fold', 'subject_highest_age', 'age'], inplace=True)\n",
    "\n",
    "# remake_card_document(existing_cards=existing_cards)\n",
    "# existing_cards.head(10)\n"
   ]
  },
  {
   "cell_type": "markdown",
   "metadata": {},
   "source": [
    "## Card Count"
   ]
  },
  {
   "cell_type": "code",
   "execution_count": 143,
   "metadata": {},
   "outputs": [
    {
     "name": "stdout",
     "output_type": "stream",
     "text": [
      "Cards found: 595\n"
     ]
    },
    {
     "data": {
      "application/vnd.microsoft.datawrangler.viewer.v0+json": {
       "columns": [
        {
         "name": "index",
         "rawType": "int64",
         "type": "integer"
        },
        {
         "name": "head",
         "rawType": "object",
         "type": "string"
        },
        {
         "name": "body",
         "rawType": "object",
         "type": "string"
        },
        {
         "name": "hash",
         "rawType": "object",
         "type": "string"
        },
        {
         "name": "age",
         "rawType": "float64",
         "type": "float"
        },
        {
         "name": "subject_mean_age",
         "rawType": "float64",
         "type": "float"
        },
        {
         "name": "subject_highest_age",
         "rawType": "float64",
         "type": "float"
        },
        {
         "name": "subject_age_sum",
         "rawType": "float64",
         "type": "float"
        },
        {
         "name": "head_random_roll",
         "rawType": "float64",
         "type": "float"
        },
        {
         "name": "frequency",
         "rawType": "int64",
         "type": "integer"
        },
        {
         "name": "count",
         "rawType": "int64",
         "type": "integer"
        },
        {
         "name": "n_fold",
         "rawType": "int64",
         "type": "integer"
        }
       ],
       "conversionMethod": "pd.DataFrame",
       "ref": "76f66b2f-b907-4ea7-999f-3dd7b7208df0",
       "rows": [
        [
         "0",
         "Powershell",
         "error during connect\nIndicates the Docker CLI failed to connect to the Docker daemon, often due to the service not running or incorrect configuration.\n\n//./pipe/dockerDesktopLinuxEngine\nRefers to the Windows named pipe used for communicating with Docker Desktop's Linux container engine. Errors suggest the service isn’t available.",
         "fa14e849210808f8bf87d29005622d6d",
         "-246.56803636924823",
         "-101.10339984442224",
         "246.56803636924823",
         "505.5169992221112",
         "0.7956163595527486",
         "5",
         "0",
         "0"
        ],
        [
         "1",
         "Powershell",
         "NUL\nA virtual file in Windows that discards written data. Commonly used in Command Prompt, NOT POWERSHELL to create empty files (e.g., copy NUL filename).",
         "eb95bc3e9d7175749fa85f045565d15f",
         "-119.12947567819896",
         "-101.10339984442224",
         "246.56803636924823",
         "505.5169992221112",
         "0.7956163595527486",
         "5",
         "1",
         "0"
        ],
        [
         "2",
         "Powershell",
         "Get-Service\nDisplays the status of Windows services. Useful for checking if a service (e.g., Docker Desktop) is running, stopped, or paused.",
         "61dbfe3e3fd4becf9c271f621539b52a",
         "-83.72459027972876",
         "-101.10339984442224",
         "246.56803636924823",
         "505.5169992221112",
         "0.7956163595527486",
         "5",
         "2",
         "0"
        ],
        [
         "3",
         "Powershell",
         "-Force\nOverrides warnings or confirmation prompts, ensuring the command proceeds without manual intervention. Common in scripting for reliability.",
         "6d7a53df80e0774571798b7e4c583afe",
         "-31.82516901687995",
         "-101.10339984442224",
         "246.56803636924823",
         "505.5169992221112",
         "0.7956163595527486",
         "5",
         "3",
         "0"
        ],
        [
         "4",
         "Powershell",
         "az\nThe Azure CLI command-line tool for managing Azure resources like VMs, storage, and networks. It's cross-platform and integrates with scripting tools like PowerShell.",
         "9376de9d5b22a60393b68271da0c480e",
         "-24.269727878055345",
         "-101.10339984442224",
         "246.56803636924823",
         "505.5169992221112",
         "0.7956163595527486",
         "5",
         "4",
         "0"
        ],
        [
         "5",
         "PEP 8",
         "Use Parentheses for Multi-Line Imports: When importing multiple objects from a module, enclose them within parentheses and list each on a separate line. This enhances readability and adheres to line length restrictions without using backslashes.",
         "b2d69c860e3a1150436c552d740b2aa6",
         "-586.8157052663481",
         "-177.13393552603108",
         "586.8157052663481",
         "1417.0714842082486",
         "0.48265405550491713",
         "8",
         "0",
         "0"
        ],
        [
         "6",
         "PEP 8",
         "One Import Per Line: Place each import statement on its own line to improve clarity and simplify version control diffs. Avoid combining multiple imports in a single line, which can make the code harder to read and maintain.",
         "510a6ed6e688465b274d1e07eb0ae246",
         "-210.63208769549948",
         "-177.13393552603108",
         "586.8157052663481",
         "1417.0714842082486",
         "0.48265405550491713",
         "8",
         "1",
         "0"
        ],
        [
         "7",
         "PEP 8",
         "Prevent Circular Imports: Avoid scenarios where two modules depend on each other directly or indirectly. Refactor by combining modules, extracting common functionality, or using local imports within functions to defer the import until necessary.",
         "83d6663484104f7621d02d4be77e3d89",
         "-139.55328491437214",
         "-177.13393552603108",
         "586.8157052663481",
         "1417.0714842082486",
         "0.48265405550491713",
         "8",
         "2",
         "0"
        ],
        [
         "9",
         "PEP 8",
         "Prefer Absolute Imports: Use full paths for imports starting from the project's root rather than relative imports. Absolute imports are more readable, less error-prone, and clearly indicate the module's location within the project structure.",
         "03079d188b068f5ee4f7d0ee2596bb63",
         "-115.80191922044222",
         "-177.13393552603108",
         "586.8157052663481",
         "1417.0714842082486",
         "0.48265405550491713",
         "8",
         "3",
         "0"
        ],
        [
         "8",
         "PEP 8",
         "Spaces Around Assignment Operators: Use spaces around assignment operators (=) to differentiate them from keyword arguments and enhance clarity in variable assignments.\n\npython\nCopy code\ntotal = 100",
         "8f3054071b8a4967c311ba46c8feea17",
         "-114.87949111143952",
         "-177.13393552603108",
         "586.8157052663481",
         "1417.0714842082486",
         "0.48265405550491713",
         "8",
         "4",
         "0"
        ]
       ],
       "shape": {
        "columns": 11,
        "rows": 10
       }
      },
      "text/html": [
       "<div>\n",
       "<style scoped>\n",
       "    .dataframe tbody tr th:only-of-type {\n",
       "        vertical-align: middle;\n",
       "    }\n",
       "\n",
       "    .dataframe tbody tr th {\n",
       "        vertical-align: top;\n",
       "    }\n",
       "\n",
       "    .dataframe thead th {\n",
       "        text-align: right;\n",
       "    }\n",
       "</style>\n",
       "<table border=\"1\" class=\"dataframe\">\n",
       "  <thead>\n",
       "    <tr style=\"text-align: right;\">\n",
       "      <th></th>\n",
       "      <th>head</th>\n",
       "      <th>body</th>\n",
       "      <th>hash</th>\n",
       "      <th>age</th>\n",
       "      <th>subject_mean_age</th>\n",
       "      <th>subject_highest_age</th>\n",
       "      <th>subject_age_sum</th>\n",
       "      <th>head_random_roll</th>\n",
       "      <th>frequency</th>\n",
       "      <th>count</th>\n",
       "      <th>n_fold</th>\n",
       "    </tr>\n",
       "  </thead>\n",
       "  <tbody>\n",
       "    <tr>\n",
       "      <th>0</th>\n",
       "      <td>Powershell</td>\n",
       "      <td>error during connect\\nIndicates the Docker CLI...</td>\n",
       "      <td>fa14e849210808f8bf87d29005622d6d</td>\n",
       "      <td>-246.568036</td>\n",
       "      <td>-101.103400</td>\n",
       "      <td>246.568036</td>\n",
       "      <td>505.516999</td>\n",
       "      <td>0.795616</td>\n",
       "      <td>5</td>\n",
       "      <td>0</td>\n",
       "      <td>0</td>\n",
       "    </tr>\n",
       "    <tr>\n",
       "      <th>1</th>\n",
       "      <td>Powershell</td>\n",
       "      <td>NUL\\nA virtual file in Windows that discards w...</td>\n",
       "      <td>eb95bc3e9d7175749fa85f045565d15f</td>\n",
       "      <td>-119.129476</td>\n",
       "      <td>-101.103400</td>\n",
       "      <td>246.568036</td>\n",
       "      <td>505.516999</td>\n",
       "      <td>0.795616</td>\n",
       "      <td>5</td>\n",
       "      <td>1</td>\n",
       "      <td>0</td>\n",
       "    </tr>\n",
       "    <tr>\n",
       "      <th>2</th>\n",
       "      <td>Powershell</td>\n",
       "      <td>Get-Service\\nDisplays the status of Windows se...</td>\n",
       "      <td>61dbfe3e3fd4becf9c271f621539b52a</td>\n",
       "      <td>-83.724590</td>\n",
       "      <td>-101.103400</td>\n",
       "      <td>246.568036</td>\n",
       "      <td>505.516999</td>\n",
       "      <td>0.795616</td>\n",
       "      <td>5</td>\n",
       "      <td>2</td>\n",
       "      <td>0</td>\n",
       "    </tr>\n",
       "    <tr>\n",
       "      <th>3</th>\n",
       "      <td>Powershell</td>\n",
       "      <td>-Force\\nOverrides warnings or confirmation pro...</td>\n",
       "      <td>6d7a53df80e0774571798b7e4c583afe</td>\n",
       "      <td>-31.825169</td>\n",
       "      <td>-101.103400</td>\n",
       "      <td>246.568036</td>\n",
       "      <td>505.516999</td>\n",
       "      <td>0.795616</td>\n",
       "      <td>5</td>\n",
       "      <td>3</td>\n",
       "      <td>0</td>\n",
       "    </tr>\n",
       "    <tr>\n",
       "      <th>4</th>\n",
       "      <td>Powershell</td>\n",
       "      <td>az\\nThe Azure CLI command-line tool for managi...</td>\n",
       "      <td>9376de9d5b22a60393b68271da0c480e</td>\n",
       "      <td>-24.269728</td>\n",
       "      <td>-101.103400</td>\n",
       "      <td>246.568036</td>\n",
       "      <td>505.516999</td>\n",
       "      <td>0.795616</td>\n",
       "      <td>5</td>\n",
       "      <td>4</td>\n",
       "      <td>0</td>\n",
       "    </tr>\n",
       "    <tr>\n",
       "      <th>5</th>\n",
       "      <td>PEP 8</td>\n",
       "      <td>Use Parentheses for Multi-Line Imports: When i...</td>\n",
       "      <td>b2d69c860e3a1150436c552d740b2aa6</td>\n",
       "      <td>-586.815705</td>\n",
       "      <td>-177.133936</td>\n",
       "      <td>586.815705</td>\n",
       "      <td>1417.071484</td>\n",
       "      <td>0.482654</td>\n",
       "      <td>8</td>\n",
       "      <td>0</td>\n",
       "      <td>0</td>\n",
       "    </tr>\n",
       "    <tr>\n",
       "      <th>6</th>\n",
       "      <td>PEP 8</td>\n",
       "      <td>One Import Per Line: Place each import stateme...</td>\n",
       "      <td>510a6ed6e688465b274d1e07eb0ae246</td>\n",
       "      <td>-210.632088</td>\n",
       "      <td>-177.133936</td>\n",
       "      <td>586.815705</td>\n",
       "      <td>1417.071484</td>\n",
       "      <td>0.482654</td>\n",
       "      <td>8</td>\n",
       "      <td>1</td>\n",
       "      <td>0</td>\n",
       "    </tr>\n",
       "    <tr>\n",
       "      <th>7</th>\n",
       "      <td>PEP 8</td>\n",
       "      <td>Prevent Circular Imports: Avoid scenarios wher...</td>\n",
       "      <td>83d6663484104f7621d02d4be77e3d89</td>\n",
       "      <td>-139.553285</td>\n",
       "      <td>-177.133936</td>\n",
       "      <td>586.815705</td>\n",
       "      <td>1417.071484</td>\n",
       "      <td>0.482654</td>\n",
       "      <td>8</td>\n",
       "      <td>2</td>\n",
       "      <td>0</td>\n",
       "    </tr>\n",
       "    <tr>\n",
       "      <th>9</th>\n",
       "      <td>PEP 8</td>\n",
       "      <td>Prefer Absolute Imports: Use full paths for im...</td>\n",
       "      <td>03079d188b068f5ee4f7d0ee2596bb63</td>\n",
       "      <td>-115.801919</td>\n",
       "      <td>-177.133936</td>\n",
       "      <td>586.815705</td>\n",
       "      <td>1417.071484</td>\n",
       "      <td>0.482654</td>\n",
       "      <td>8</td>\n",
       "      <td>3</td>\n",
       "      <td>0</td>\n",
       "    </tr>\n",
       "    <tr>\n",
       "      <th>8</th>\n",
       "      <td>PEP 8</td>\n",
       "      <td>Spaces Around Assignment Operators: Use spaces...</td>\n",
       "      <td>8f3054071b8a4967c311ba46c8feea17</td>\n",
       "      <td>-114.879491</td>\n",
       "      <td>-177.133936</td>\n",
       "      <td>586.815705</td>\n",
       "      <td>1417.071484</td>\n",
       "      <td>0.482654</td>\n",
       "      <td>8</td>\n",
       "      <td>4</td>\n",
       "      <td>0</td>\n",
       "    </tr>\n",
       "  </tbody>\n",
       "</table>\n",
       "</div>"
      ],
      "text/plain": [
       "         head                                               body  \\\n",
       "0  Powershell  error during connect\\nIndicates the Docker CLI...   \n",
       "1  Powershell  NUL\\nA virtual file in Windows that discards w...   \n",
       "2  Powershell  Get-Service\\nDisplays the status of Windows se...   \n",
       "3  Powershell  -Force\\nOverrides warnings or confirmation pro...   \n",
       "4  Powershell  az\\nThe Azure CLI command-line tool for managi...   \n",
       "5       PEP 8  Use Parentheses for Multi-Line Imports: When i...   \n",
       "6       PEP 8  One Import Per Line: Place each import stateme...   \n",
       "7       PEP 8  Prevent Circular Imports: Avoid scenarios wher...   \n",
       "9       PEP 8  Prefer Absolute Imports: Use full paths for im...   \n",
       "8       PEP 8  Spaces Around Assignment Operators: Use spaces...   \n",
       "\n",
       "                               hash         age  subject_mean_age  \\\n",
       "0  fa14e849210808f8bf87d29005622d6d -246.568036       -101.103400   \n",
       "1  eb95bc3e9d7175749fa85f045565d15f -119.129476       -101.103400   \n",
       "2  61dbfe3e3fd4becf9c271f621539b52a  -83.724590       -101.103400   \n",
       "3  6d7a53df80e0774571798b7e4c583afe  -31.825169       -101.103400   \n",
       "4  9376de9d5b22a60393b68271da0c480e  -24.269728       -101.103400   \n",
       "5  b2d69c860e3a1150436c552d740b2aa6 -586.815705       -177.133936   \n",
       "6  510a6ed6e688465b274d1e07eb0ae246 -210.632088       -177.133936   \n",
       "7  83d6663484104f7621d02d4be77e3d89 -139.553285       -177.133936   \n",
       "9  03079d188b068f5ee4f7d0ee2596bb63 -115.801919       -177.133936   \n",
       "8  8f3054071b8a4967c311ba46c8feea17 -114.879491       -177.133936   \n",
       "\n",
       "   subject_highest_age  subject_age_sum  head_random_roll  frequency  count  \\\n",
       "0           246.568036       505.516999          0.795616          5      0   \n",
       "1           246.568036       505.516999          0.795616          5      1   \n",
       "2           246.568036       505.516999          0.795616          5      2   \n",
       "3           246.568036       505.516999          0.795616          5      3   \n",
       "4           246.568036       505.516999          0.795616          5      4   \n",
       "5           586.815705      1417.071484          0.482654          8      0   \n",
       "6           586.815705      1417.071484          0.482654          8      1   \n",
       "7           586.815705      1417.071484          0.482654          8      2   \n",
       "9           586.815705      1417.071484          0.482654          8      3   \n",
       "8           586.815705      1417.071484          0.482654          8      4   \n",
       "\n",
       "   n_fold  \n",
       "0       0  \n",
       "1       0  \n",
       "2       0  \n",
       "3       0  \n",
       "4       0  \n",
       "5       0  \n",
       "6       0  \n",
       "7       0  \n",
       "9       0  \n",
       "8       0  "
      ]
     },
     "execution_count": 143,
     "metadata": {},
     "output_type": "execute_result"
    }
   ],
   "source": [
    "n=10\n",
    "existing_cards['frequency']  = existing_cards.groupby('head').transform('count')['body']\n",
    "existing_cards['count'] = existing_cards.sort_values('age', ascending=False).groupby('head').cumcount()\n",
    "existing_cards['n_fold'] = existing_cards['count'] // n\n",
    "\n",
    "existing_cards['subject_mean_age'] = existing_cards['subject_mean_age'] *-1\n",
    "existing_cards['age'] = existing_cards['age'] *-1\n",
    "existing_cards.sort_values(['n_fold', 'frequency', 'age'], inplace=True)\n",
    "remake_card_document(existing_cards=existing_cards)\n",
    "\n",
    "existing_cards.head(10)\n",
    "\n"
   ]
  },
  {
   "cell_type": "markdown",
   "metadata": {},
   "source": [
    "\n",
    "## Random"
   ]
  },
  {
   "cell_type": "code",
   "execution_count": 144,
   "metadata": {},
   "outputs": [],
   "source": [
    "# n = 3\n",
    "# existing_cards['count'] = existing_cards.sort_values('age', ascending=False).groupby('head').cumcount()\n",
    "# existing_cards['n_fold'] = existing_cards['count'] % n\n",
    "# existing_cards['age'] *= -1\n",
    "# existing_cards.sort_values(['n_fold', 'head_random_roll', 'age'], inplace=True)\n",
    "# remake_card_document(existing_cards=existing_cards)\n",
    "# existing_cards.head(10)"
   ]
  },
  {
   "cell_type": "code",
   "execution_count": 145,
   "metadata": {},
   "outputs": [
    {
     "data": {
      "application/vnd.microsoft.datawrangler.viewer.v0+json": {
       "columns": [
        {
         "name": "index",
         "rawType": "int64",
         "type": "integer"
        },
        {
         "name": "head",
         "rawType": "object",
         "type": "string"
        },
        {
         "name": "body",
         "rawType": "object",
         "type": "string"
        },
        {
         "name": "hash",
         "rawType": "object",
         "type": "string"
        },
        {
         "name": "age",
         "rawType": "float64",
         "type": "float"
        },
        {
         "name": "subject_mean_age",
         "rawType": "float64",
         "type": "float"
        },
        {
         "name": "subject_highest_age",
         "rawType": "float64",
         "type": "float"
        },
        {
         "name": "subject_age_sum",
         "rawType": "float64",
         "type": "float"
        },
        {
         "name": "head_random_roll",
         "rawType": "float64",
         "type": "float"
        },
        {
         "name": "frequency",
         "rawType": "int64",
         "type": "integer"
        },
        {
         "name": "count",
         "rawType": "int64",
         "type": "integer"
        },
        {
         "name": "n_fold",
         "rawType": "int64",
         "type": "integer"
        }
       ],
       "conversionMethod": "pd.DataFrame",
       "ref": "b196a17c-2165-4d69-850f-c24e80071aa9",
       "rows": [
        [
         "0",
         "Powershell",
         "error during connect\nIndicates the Docker CLI failed to connect to the Docker daemon, often due to the service not running or incorrect configuration.\n\n//./pipe/dockerDesktopLinuxEngine\nRefers to the Windows named pipe used for communicating with Docker Desktop's Linux container engine. Errors suggest the service isn’t available.",
         "fa14e849210808f8bf87d29005622d6d",
         "-246.56803636924823",
         "-101.10339984442224",
         "246.56803636924823",
         "505.5169992221112",
         "0.7956163595527486",
         "5",
         "0",
         "0"
        ],
        [
         "1",
         "Powershell",
         "NUL\nA virtual file in Windows that discards written data. Commonly used in Command Prompt, NOT POWERSHELL to create empty files (e.g., copy NUL filename).",
         "eb95bc3e9d7175749fa85f045565d15f",
         "-119.12947567819896",
         "-101.10339984442224",
         "246.56803636924823",
         "505.5169992221112",
         "0.7956163595527486",
         "5",
         "1",
         "0"
        ],
        [
         "2",
         "Powershell",
         "Get-Service\nDisplays the status of Windows services. Useful for checking if a service (e.g., Docker Desktop) is running, stopped, or paused.",
         "61dbfe3e3fd4becf9c271f621539b52a",
         "-83.72459027972876",
         "-101.10339984442224",
         "246.56803636924823",
         "505.5169992221112",
         "0.7956163595527486",
         "5",
         "2",
         "0"
        ],
        [
         "3",
         "Powershell",
         "-Force\nOverrides warnings or confirmation prompts, ensuring the command proceeds without manual intervention. Common in scripting for reliability.",
         "6d7a53df80e0774571798b7e4c583afe",
         "-31.82516901687995",
         "-101.10339984442224",
         "246.56803636924823",
         "505.5169992221112",
         "0.7956163595527486",
         "5",
         "3",
         "0"
        ],
        [
         "4",
         "Powershell",
         "az\nThe Azure CLI command-line tool for managing Azure resources like VMs, storage, and networks. It's cross-platform and integrates with scripting tools like PowerShell.",
         "9376de9d5b22a60393b68271da0c480e",
         "-24.269727878055345",
         "-101.10339984442224",
         "246.56803636924823",
         "505.5169992221112",
         "0.7956163595527486",
         "5",
         "4",
         "0"
        ],
        [
         "5",
         "PEP 8",
         "Use Parentheses for Multi-Line Imports: When importing multiple objects from a module, enclose them within parentheses and list each on a separate line. This enhances readability and adheres to line length restrictions without using backslashes.",
         "b2d69c860e3a1150436c552d740b2aa6",
         "-586.8157052663481",
         "-177.13393552603108",
         "586.8157052663481",
         "1417.0714842082486",
         "0.48265405550491713",
         "8",
         "0",
         "0"
        ],
        [
         "6",
         "PEP 8",
         "One Import Per Line: Place each import statement on its own line to improve clarity and simplify version control diffs. Avoid combining multiple imports in a single line, which can make the code harder to read and maintain.",
         "510a6ed6e688465b274d1e07eb0ae246",
         "-210.63208769549948",
         "-177.13393552603108",
         "586.8157052663481",
         "1417.0714842082486",
         "0.48265405550491713",
         "8",
         "1",
         "0"
        ],
        [
         "7",
         "PEP 8",
         "Prevent Circular Imports: Avoid scenarios where two modules depend on each other directly or indirectly. Refactor by combining modules, extracting common functionality, or using local imports within functions to defer the import until necessary.",
         "83d6663484104f7621d02d4be77e3d89",
         "-139.55328491437214",
         "-177.13393552603108",
         "586.8157052663481",
         "1417.0714842082486",
         "0.48265405550491713",
         "8",
         "2",
         "0"
        ],
        [
         "9",
         "PEP 8",
         "Prefer Absolute Imports: Use full paths for imports starting from the project's root rather than relative imports. Absolute imports are more readable, less error-prone, and clearly indicate the module's location within the project structure.",
         "03079d188b068f5ee4f7d0ee2596bb63",
         "-115.80191922044222",
         "-177.13393552603108",
         "586.8157052663481",
         "1417.0714842082486",
         "0.48265405550491713",
         "8",
         "3",
         "0"
        ],
        [
         "8",
         "PEP 8",
         "Spaces Around Assignment Operators: Use spaces around assignment operators (=) to differentiate them from keyword arguments and enhance clarity in variable assignments.\n\npython\nCopy code\ntotal = 100",
         "8f3054071b8a4967c311ba46c8feea17",
         "-114.87949111143952",
         "-177.13393552603108",
         "586.8157052663481",
         "1417.0714842082486",
         "0.48265405550491713",
         "8",
         "4",
         "0"
        ]
       ],
       "shape": {
        "columns": 11,
        "rows": 10
       }
      },
      "text/html": [
       "<div>\n",
       "<style scoped>\n",
       "    .dataframe tbody tr th:only-of-type {\n",
       "        vertical-align: middle;\n",
       "    }\n",
       "\n",
       "    .dataframe tbody tr th {\n",
       "        vertical-align: top;\n",
       "    }\n",
       "\n",
       "    .dataframe thead th {\n",
       "        text-align: right;\n",
       "    }\n",
       "</style>\n",
       "<table border=\"1\" class=\"dataframe\">\n",
       "  <thead>\n",
       "    <tr style=\"text-align: right;\">\n",
       "      <th></th>\n",
       "      <th>head</th>\n",
       "      <th>body</th>\n",
       "      <th>hash</th>\n",
       "      <th>age</th>\n",
       "      <th>subject_mean_age</th>\n",
       "      <th>subject_highest_age</th>\n",
       "      <th>subject_age_sum</th>\n",
       "      <th>head_random_roll</th>\n",
       "      <th>frequency</th>\n",
       "      <th>count</th>\n",
       "      <th>n_fold</th>\n",
       "    </tr>\n",
       "  </thead>\n",
       "  <tbody>\n",
       "    <tr>\n",
       "      <th>0</th>\n",
       "      <td>Powershell</td>\n",
       "      <td>error during connect\\nIndicates the Docker CLI...</td>\n",
       "      <td>fa14e849210808f8bf87d29005622d6d</td>\n",
       "      <td>-246.568036</td>\n",
       "      <td>-101.103400</td>\n",
       "      <td>246.568036</td>\n",
       "      <td>505.516999</td>\n",
       "      <td>0.795616</td>\n",
       "      <td>5</td>\n",
       "      <td>0</td>\n",
       "      <td>0</td>\n",
       "    </tr>\n",
       "    <tr>\n",
       "      <th>1</th>\n",
       "      <td>Powershell</td>\n",
       "      <td>NUL\\nA virtual file in Windows that discards w...</td>\n",
       "      <td>eb95bc3e9d7175749fa85f045565d15f</td>\n",
       "      <td>-119.129476</td>\n",
       "      <td>-101.103400</td>\n",
       "      <td>246.568036</td>\n",
       "      <td>505.516999</td>\n",
       "      <td>0.795616</td>\n",
       "      <td>5</td>\n",
       "      <td>1</td>\n",
       "      <td>0</td>\n",
       "    </tr>\n",
       "    <tr>\n",
       "      <th>2</th>\n",
       "      <td>Powershell</td>\n",
       "      <td>Get-Service\\nDisplays the status of Windows se...</td>\n",
       "      <td>61dbfe3e3fd4becf9c271f621539b52a</td>\n",
       "      <td>-83.724590</td>\n",
       "      <td>-101.103400</td>\n",
       "      <td>246.568036</td>\n",
       "      <td>505.516999</td>\n",
       "      <td>0.795616</td>\n",
       "      <td>5</td>\n",
       "      <td>2</td>\n",
       "      <td>0</td>\n",
       "    </tr>\n",
       "    <tr>\n",
       "      <th>3</th>\n",
       "      <td>Powershell</td>\n",
       "      <td>-Force\\nOverrides warnings or confirmation pro...</td>\n",
       "      <td>6d7a53df80e0774571798b7e4c583afe</td>\n",
       "      <td>-31.825169</td>\n",
       "      <td>-101.103400</td>\n",
       "      <td>246.568036</td>\n",
       "      <td>505.516999</td>\n",
       "      <td>0.795616</td>\n",
       "      <td>5</td>\n",
       "      <td>3</td>\n",
       "      <td>0</td>\n",
       "    </tr>\n",
       "    <tr>\n",
       "      <th>4</th>\n",
       "      <td>Powershell</td>\n",
       "      <td>az\\nThe Azure CLI command-line tool for managi...</td>\n",
       "      <td>9376de9d5b22a60393b68271da0c480e</td>\n",
       "      <td>-24.269728</td>\n",
       "      <td>-101.103400</td>\n",
       "      <td>246.568036</td>\n",
       "      <td>505.516999</td>\n",
       "      <td>0.795616</td>\n",
       "      <td>5</td>\n",
       "      <td>4</td>\n",
       "      <td>0</td>\n",
       "    </tr>\n",
       "    <tr>\n",
       "      <th>5</th>\n",
       "      <td>PEP 8</td>\n",
       "      <td>Use Parentheses for Multi-Line Imports: When i...</td>\n",
       "      <td>b2d69c860e3a1150436c552d740b2aa6</td>\n",
       "      <td>-586.815705</td>\n",
       "      <td>-177.133936</td>\n",
       "      <td>586.815705</td>\n",
       "      <td>1417.071484</td>\n",
       "      <td>0.482654</td>\n",
       "      <td>8</td>\n",
       "      <td>0</td>\n",
       "      <td>0</td>\n",
       "    </tr>\n",
       "    <tr>\n",
       "      <th>6</th>\n",
       "      <td>PEP 8</td>\n",
       "      <td>One Import Per Line: Place each import stateme...</td>\n",
       "      <td>510a6ed6e688465b274d1e07eb0ae246</td>\n",
       "      <td>-210.632088</td>\n",
       "      <td>-177.133936</td>\n",
       "      <td>586.815705</td>\n",
       "      <td>1417.071484</td>\n",
       "      <td>0.482654</td>\n",
       "      <td>8</td>\n",
       "      <td>1</td>\n",
       "      <td>0</td>\n",
       "    </tr>\n",
       "    <tr>\n",
       "      <th>7</th>\n",
       "      <td>PEP 8</td>\n",
       "      <td>Prevent Circular Imports: Avoid scenarios wher...</td>\n",
       "      <td>83d6663484104f7621d02d4be77e3d89</td>\n",
       "      <td>-139.553285</td>\n",
       "      <td>-177.133936</td>\n",
       "      <td>586.815705</td>\n",
       "      <td>1417.071484</td>\n",
       "      <td>0.482654</td>\n",
       "      <td>8</td>\n",
       "      <td>2</td>\n",
       "      <td>0</td>\n",
       "    </tr>\n",
       "    <tr>\n",
       "      <th>9</th>\n",
       "      <td>PEP 8</td>\n",
       "      <td>Prefer Absolute Imports: Use full paths for im...</td>\n",
       "      <td>03079d188b068f5ee4f7d0ee2596bb63</td>\n",
       "      <td>-115.801919</td>\n",
       "      <td>-177.133936</td>\n",
       "      <td>586.815705</td>\n",
       "      <td>1417.071484</td>\n",
       "      <td>0.482654</td>\n",
       "      <td>8</td>\n",
       "      <td>3</td>\n",
       "      <td>0</td>\n",
       "    </tr>\n",
       "    <tr>\n",
       "      <th>8</th>\n",
       "      <td>PEP 8</td>\n",
       "      <td>Spaces Around Assignment Operators: Use spaces...</td>\n",
       "      <td>8f3054071b8a4967c311ba46c8feea17</td>\n",
       "      <td>-114.879491</td>\n",
       "      <td>-177.133936</td>\n",
       "      <td>586.815705</td>\n",
       "      <td>1417.071484</td>\n",
       "      <td>0.482654</td>\n",
       "      <td>8</td>\n",
       "      <td>4</td>\n",
       "      <td>0</td>\n",
       "    </tr>\n",
       "  </tbody>\n",
       "</table>\n",
       "</div>"
      ],
      "text/plain": [
       "         head                                               body  \\\n",
       "0  Powershell  error during connect\\nIndicates the Docker CLI...   \n",
       "1  Powershell  NUL\\nA virtual file in Windows that discards w...   \n",
       "2  Powershell  Get-Service\\nDisplays the status of Windows se...   \n",
       "3  Powershell  -Force\\nOverrides warnings or confirmation pro...   \n",
       "4  Powershell  az\\nThe Azure CLI command-line tool for managi...   \n",
       "5       PEP 8  Use Parentheses for Multi-Line Imports: When i...   \n",
       "6       PEP 8  One Import Per Line: Place each import stateme...   \n",
       "7       PEP 8  Prevent Circular Imports: Avoid scenarios wher...   \n",
       "9       PEP 8  Prefer Absolute Imports: Use full paths for im...   \n",
       "8       PEP 8  Spaces Around Assignment Operators: Use spaces...   \n",
       "\n",
       "                               hash         age  subject_mean_age  \\\n",
       "0  fa14e849210808f8bf87d29005622d6d -246.568036       -101.103400   \n",
       "1  eb95bc3e9d7175749fa85f045565d15f -119.129476       -101.103400   \n",
       "2  61dbfe3e3fd4becf9c271f621539b52a  -83.724590       -101.103400   \n",
       "3  6d7a53df80e0774571798b7e4c583afe  -31.825169       -101.103400   \n",
       "4  9376de9d5b22a60393b68271da0c480e  -24.269728       -101.103400   \n",
       "5  b2d69c860e3a1150436c552d740b2aa6 -586.815705       -177.133936   \n",
       "6  510a6ed6e688465b274d1e07eb0ae246 -210.632088       -177.133936   \n",
       "7  83d6663484104f7621d02d4be77e3d89 -139.553285       -177.133936   \n",
       "9  03079d188b068f5ee4f7d0ee2596bb63 -115.801919       -177.133936   \n",
       "8  8f3054071b8a4967c311ba46c8feea17 -114.879491       -177.133936   \n",
       "\n",
       "   subject_highest_age  subject_age_sum  head_random_roll  frequency  count  \\\n",
       "0           246.568036       505.516999          0.795616          5      0   \n",
       "1           246.568036       505.516999          0.795616          5      1   \n",
       "2           246.568036       505.516999          0.795616          5      2   \n",
       "3           246.568036       505.516999          0.795616          5      3   \n",
       "4           246.568036       505.516999          0.795616          5      4   \n",
       "5           586.815705      1417.071484          0.482654          8      0   \n",
       "6           586.815705      1417.071484          0.482654          8      1   \n",
       "7           586.815705      1417.071484          0.482654          8      2   \n",
       "9           586.815705      1417.071484          0.482654          8      3   \n",
       "8           586.815705      1417.071484          0.482654          8      4   \n",
       "\n",
       "   n_fold  \n",
       "0       0  \n",
       "1       0  \n",
       "2       0  \n",
       "3       0  \n",
       "4       0  \n",
       "5       0  \n",
       "6       0  \n",
       "7       0  \n",
       "9       0  \n",
       "8       0  "
      ]
     },
     "execution_count": 145,
     "metadata": {},
     "output_type": "execute_result"
    }
   ],
   "source": [
    "existing_cards.head(10)"
   ]
  },
  {
   "cell_type": "code",
   "execution_count": 146,
   "metadata": {},
   "outputs": [
    {
     "data": {
      "text/plain": [
       "-137.9983117981695"
      ]
     },
     "execution_count": 146,
     "metadata": {},
     "output_type": "execute_result"
    }
   ],
   "source": [
    "existing_cards['age'].mean()"
   ]
  }
 ],
 "metadata": {
  "kernelspec": {
   "display_name": "Python 3",
   "language": "python",
   "name": "python3"
  },
  "language_info": {
   "codemirror_mode": {
    "name": "ipython",
    "version": 3
   },
   "file_extension": ".py",
   "mimetype": "text/x-python",
   "name": "python",
   "nbconvert_exporter": "python",
   "pygments_lexer": "ipython3",
   "version": "3.10.10"
  }
 },
 "nbformat": 4,
 "nbformat_minor": 2
}
