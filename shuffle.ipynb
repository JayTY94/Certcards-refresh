{
 "cells": [
  {
   "cell_type": "code",
   "execution_count": 37,
   "metadata": {},
   "outputs": [],
   "source": [
    "import re\n",
    "import random\n",
    "import pandas as pd\n",
    "import hashlib"
   ]
  },
  {
   "cell_type": "code",
   "execution_count": 38,
   "metadata": {},
   "outputs": [],
   "source": [
    "with open('certcards2.txt', mode='r', encoding='utf8') as f:\n",
    "    all_cards = f.read()\n",
    "    \n",
    "card_split_pattern = r'\\n\\n\\n\\d+\\n'\n",
    "all_cards = re.split(card_split_pattern, all_cards)\n",
    "# Use re.DOTALL to allow . to match newline characters\n",
    "card_pattern = re.compile(r'(.+?)\\n([\\s\\S]+)', re.DOTALL)\n",
    "cards = [(match.group(1), match.group(2)) for cstring in all_cards if (match := re.search(card_pattern, cstring))]\n",
    "\n",
    "# removing the cards that have no content and trimming\n",
    "cards = [(subject, stripped_content) for subject, content in cards if len(stripped_content := content.strip()) > 5]\n",
    "\n",
    "def hash_string_md5(s):\n",
    "    \"\"\"\n",
    "    Hashes a string using MD5 and returns a truncated hash for efficiency.\n",
    "\n",
    "    Parameters:\n",
    "    - s (str): The input string to hash.\n",
    "\n",
    "    Returns:\n",
    "    - str: The truncated hexadecimal hash string.\n",
    "    \"\"\"\n",
    "    if pd.isnull(s):\n",
    "        return None  # Handle NaN values gracefully\n",
    "    return hashlib.md5(s.encode('utf-8')).hexdigest()\n",
    "\n",
    "\n",
    "def remake_card_document(existing_cards: pd.DataFrame, filename: str='certcards2.txt'):\n",
    "    with open(filename, mode='w', encoding='utf8') as f:\n",
    "        i = 1\n",
    "        for _, row in existing_cards.iterrows():\n",
    "            f.write('\\n'*6)\n",
    "            f.write(str(i)+'\\n')  \n",
    "            f.write(row['head']+'\\n')\n",
    "            f.write(row['body'])\n",
    "            i+=1\n",
    "    print(F\"Cards found: {existing_cards.shape[0]}\")\n",
    "    print(F\"Total card age: {abs(existing_cards['age'].sum()):.2f}\")\n",
    "\n",
    "\n",
    "existing_cards = pd.DataFrame(cards, columns=['head', 'body'])\n",
    "\n",
    "\n",
    "# existing_cards['age'] = [random.random() for _ in existing_cards.index]\n",
    "existing_cards['hash'] = existing_cards['body'].apply(hash_string_md5)\n",
    "existing_cards\n",
    "\n",
    "card_ages = pd.read_json('card_ages.json')\n",
    "card_ages = card_ages.drop_duplicates(subset=['hash'], keep='first')\n",
    "\n",
    "cards_to_age = pd.merge(\n",
    "    left=existing_cards,\n",
    "    right=card_ages[['hash', 'age']],\n",
    "    left_on='hash', right_on='hash',\n",
    "    how='left'\n",
    ")\n",
    "\n",
    "cards_to_age['head'] = cards_to_age['head'].str.strip()\n",
    "\n",
    "if cards_to_age['age'].mean() > 80: age_factor = .5\n",
    "else: age_factor = 1\n",
    "\n",
    "cards_to_age['age'] = cards_to_age['age'].fillna(0)\n",
    "# cards_to_age['age'] = cards_to_age['age'] * age_factor\n",
    "cards_to_age['age'] = cards_to_age['age'] + [random.expovariate(.60) for _ in cards_to_age.index]\n",
    "# cards_to_age['age'] = cards_to_age['age'] * [random.expovariate(1/age_factor) for _ in cards_to_age.index]\n",
    "\n",
    "# Adding priority age growth to cards for upcoming certifications\n",
    "priority_headers = ['Azure Developer Associate']\n",
    "priority_cards_mask = cards_to_age['head'].isin(priority_headers)\n",
    "cards_to_age.loc[priority_cards_mask, 'age'] = cards_to_age.loc[priority_cards_mask, 'age'] * 1.05\n",
    "\n",
    "cards_to_age = cards_to_age.drop_duplicates(subset=['hash'], keep='first')\n",
    "\n",
    "cards_to_age['subject_mean_age'] = cards_to_age.groupby('head')['age'].transform('mean')\n",
    "cards_to_age['subject_highest_age'] = cards_to_age.groupby('head')['age'].transform('max')\n",
    "cards_to_age['subject_age_sum'] = cards_to_age.groupby('head')['age'].transform('sum')\n",
    "cards_to_age['head_random_roll'] = cards_to_age.groupby('head')['head'].transform(lambda x: random.random())\n",
    "\n",
    "\n",
    "cards_to_age.sort_values('hash')[['age', 'head', 'hash']].to_json('card_ages.json', indent=2)\n",
    "\n",
    "existing_cards = cards_to_age"
   ]
  },
  {
   "cell_type": "code",
   "execution_count": 39,
   "metadata": {},
   "outputs": [
    {
     "data": {
      "text/html": [
       "<div>\n",
       "<style scoped>\n",
       "    .dataframe tbody tr th:only-of-type {\n",
       "        vertical-align: middle;\n",
       "    }\n",
       "\n",
       "    .dataframe tbody tr th {\n",
       "        vertical-align: top;\n",
       "    }\n",
       "\n",
       "    .dataframe thead th {\n",
       "        text-align: right;\n",
       "    }\n",
       "</style>\n",
       "<table border=\"1\" class=\"dataframe\">\n",
       "  <thead>\n",
       "    <tr style=\"text-align: right;\">\n",
       "      <th></th>\n",
       "      <th>age_sum</th>\n",
       "      <th>age_mean</th>\n",
       "      <th>age_max</th>\n",
       "      <th>head_count</th>\n",
       "    </tr>\n",
       "  </thead>\n",
       "  <tbody>\n",
       "    <tr>\n",
       "      <th>SharePoint</th>\n",
       "      <td>86.431807</td>\n",
       "      <td>21.607952</td>\n",
       "      <td>27.414016</td>\n",
       "      <td>4</td>\n",
       "    </tr>\n",
       "    <tr>\n",
       "      <th>RAG Project</th>\n",
       "      <td>236.532942</td>\n",
       "      <td>14.783309</td>\n",
       "      <td>33.027730</td>\n",
       "      <td>16</td>\n",
       "    </tr>\n",
       "    <tr>\n",
       "      <th>Asynchronous Python</th>\n",
       "      <td>323.519315</td>\n",
       "      <td>7.033029</td>\n",
       "      <td>20.006888</td>\n",
       "      <td>46</td>\n",
       "    </tr>\n",
       "    <tr>\n",
       "      <th>Azure AD Authentication</th>\n",
       "      <td>475.292140</td>\n",
       "      <td>36.560934</td>\n",
       "      <td>90.745474</td>\n",
       "      <td>13</td>\n",
       "    </tr>\n",
       "    <tr>\n",
       "      <th>Azure DevOps Pipelines</th>\n",
       "      <td>552.002666</td>\n",
       "      <td>21.230872</td>\n",
       "      <td>93.206761</td>\n",
       "      <td>26</td>\n",
       "    </tr>\n",
       "    <tr>\n",
       "      <th>Azure Functions + Visual Studio</th>\n",
       "      <td>742.662040</td>\n",
       "      <td>57.127849</td>\n",
       "      <td>258.528476</td>\n",
       "      <td>13</td>\n",
       "    </tr>\n",
       "    <tr>\n",
       "      <th>Email Auth and Security</th>\n",
       "      <td>756.949250</td>\n",
       "      <td>63.079104</td>\n",
       "      <td>178.312944</td>\n",
       "      <td>12</td>\n",
       "    </tr>\n",
       "    <tr>\n",
       "      <th>Open Source/GitHub</th>\n",
       "      <td>803.697849</td>\n",
       "      <td>50.231116</td>\n",
       "      <td>161.739390</td>\n",
       "      <td>16</td>\n",
       "    </tr>\n",
       "    <tr>\n",
       "      <th>Audit Report Tracker (Sharepoint List)</th>\n",
       "      <td>990.053583</td>\n",
       "      <td>82.504465</td>\n",
       "      <td>358.926868</td>\n",
       "      <td>12</td>\n",
       "    </tr>\n",
       "    <tr>\n",
       "      <th>WSL + Kali Linux</th>\n",
       "      <td>1186.161513</td>\n",
       "      <td>84.725822</td>\n",
       "      <td>299.834977</td>\n",
       "      <td>14</td>\n",
       "    </tr>\n",
       "    <tr>\n",
       "      <th>Debugging in VS Code</th>\n",
       "      <td>1226.242250</td>\n",
       "      <td>64.539066</td>\n",
       "      <td>386.506172</td>\n",
       "      <td>19</td>\n",
       "    </tr>\n",
       "    <tr>\n",
       "      <th>Azure Functions + PP365</th>\n",
       "      <td>1355.629439</td>\n",
       "      <td>64.553783</td>\n",
       "      <td>178.840585</td>\n",
       "      <td>21</td>\n",
       "    </tr>\n",
       "    <tr>\n",
       "      <th>Terraform</th>\n",
       "      <td>1470.224502</td>\n",
       "      <td>58.808980</td>\n",
       "      <td>291.304124</td>\n",
       "      <td>25</td>\n",
       "    </tr>\n",
       "    <tr>\n",
       "      <th>Todd Ideas</th>\n",
       "      <td>1591.465932</td>\n",
       "      <td>106.097729</td>\n",
       "      <td>390.646714</td>\n",
       "      <td>15</td>\n",
       "    </tr>\n",
       "    <tr>\n",
       "      <th>IW Migration</th>\n",
       "      <td>1832.330131</td>\n",
       "      <td>130.880724</td>\n",
       "      <td>599.472959</td>\n",
       "      <td>14</td>\n",
       "    </tr>\n",
       "    <tr>\n",
       "      <th>FSLogix</th>\n",
       "      <td>1952.109009</td>\n",
       "      <td>84.874305</td>\n",
       "      <td>299.146279</td>\n",
       "      <td>23</td>\n",
       "    </tr>\n",
       "    <tr>\n",
       "      <th>Python</th>\n",
       "      <td>2271.736050</td>\n",
       "      <td>48.334810</td>\n",
       "      <td>140.401917</td>\n",
       "      <td>47</td>\n",
       "    </tr>\n",
       "    <tr>\n",
       "      <th>PnP PowerShell</th>\n",
       "      <td>2730.601941</td>\n",
       "      <td>37.925027</td>\n",
       "      <td>386.741885</td>\n",
       "      <td>72</td>\n",
       "    </tr>\n",
       "    <tr>\n",
       "      <th>JavaScript Concepts</th>\n",
       "      <td>3308.206361</td>\n",
       "      <td>62.418988</td>\n",
       "      <td>321.799251</td>\n",
       "      <td>53</td>\n",
       "    </tr>\n",
       "    <tr>\n",
       "      <th>Vocab</th>\n",
       "      <td>3483.976574</td>\n",
       "      <td>57.114370</td>\n",
       "      <td>326.500996</td>\n",
       "      <td>61</td>\n",
       "    </tr>\n",
       "    <tr>\n",
       "      <th>Logging in Python</th>\n",
       "      <td>4042.650606</td>\n",
       "      <td>109.260827</td>\n",
       "      <td>463.489493</td>\n",
       "      <td>37</td>\n",
       "    </tr>\n",
       "    <tr>\n",
       "      <th>Azure Developer Associate</th>\n",
       "      <td>4475.592090</td>\n",
       "      <td>57.379386</td>\n",
       "      <td>569.498317</td>\n",
       "      <td>78</td>\n",
       "    </tr>\n",
       "    <tr>\n",
       "      <th>Powershell Modules</th>\n",
       "      <td>4606.077358</td>\n",
       "      <td>98.001646</td>\n",
       "      <td>808.738189</td>\n",
       "      <td>47</td>\n",
       "    </tr>\n",
       "  </tbody>\n",
       "</table>\n",
       "</div>"
      ],
      "text/plain": [
       "                                            age_sum    age_mean     age_max  \\\n",
       "SharePoint                                86.431807   21.607952   27.414016   \n",
       "RAG Project                              236.532942   14.783309   33.027730   \n",
       "Asynchronous Python                      323.519315    7.033029   20.006888   \n",
       "Azure AD Authentication                  475.292140   36.560934   90.745474   \n",
       "Azure DevOps Pipelines                   552.002666   21.230872   93.206761   \n",
       "Azure Functions + Visual Studio          742.662040   57.127849  258.528476   \n",
       "Email Auth and Security                  756.949250   63.079104  178.312944   \n",
       "Open Source/GitHub                       803.697849   50.231116  161.739390   \n",
       "Audit Report Tracker (Sharepoint List)   990.053583   82.504465  358.926868   \n",
       "WSL + Kali Linux                        1186.161513   84.725822  299.834977   \n",
       "Debugging in VS Code                    1226.242250   64.539066  386.506172   \n",
       "Azure Functions + PP365                 1355.629439   64.553783  178.840585   \n",
       "Terraform                               1470.224502   58.808980  291.304124   \n",
       "Todd Ideas                              1591.465932  106.097729  390.646714   \n",
       "IW Migration                            1832.330131  130.880724  599.472959   \n",
       "FSLogix                                 1952.109009   84.874305  299.146279   \n",
       "Python                                  2271.736050   48.334810  140.401917   \n",
       "PnP PowerShell                          2730.601941   37.925027  386.741885   \n",
       "JavaScript Concepts                     3308.206361   62.418988  321.799251   \n",
       "Vocab                                   3483.976574   57.114370  326.500996   \n",
       "Logging in Python                       4042.650606  109.260827  463.489493   \n",
       "Azure Developer Associate               4475.592090   57.379386  569.498317   \n",
       "Powershell Modules                      4606.077358   98.001646  808.738189   \n",
       "\n",
       "                                        head_count  \n",
       "SharePoint                                       4  \n",
       "RAG Project                                     16  \n",
       "Asynchronous Python                             46  \n",
       "Azure AD Authentication                         13  \n",
       "Azure DevOps Pipelines                          26  \n",
       "Azure Functions + Visual Studio                 13  \n",
       "Email Auth and Security                         12  \n",
       "Open Source/GitHub                              16  \n",
       "Audit Report Tracker (Sharepoint List)          12  \n",
       "WSL + Kali Linux                                14  \n",
       "Debugging in VS Code                            19  \n",
       "Azure Functions + PP365                         21  \n",
       "Terraform                                       25  \n",
       "Todd Ideas                                      15  \n",
       "IW Migration                                    14  \n",
       "FSLogix                                         23  \n",
       "Python                                          47  \n",
       "PnP PowerShell                                  72  \n",
       "JavaScript Concepts                             53  \n",
       "Vocab                                           61  \n",
       "Logging in Python                               37  \n",
       "Azure Developer Associate                       78  \n",
       "Powershell Modules                              47  "
      ]
     },
     "execution_count": 39,
     "metadata": {},
     "output_type": "execute_result"
    }
   ],
   "source": [
    "stats = existing_cards.groupby('head').agg({'age': ['sum', 'mean', 'max'], 'head': 'count'}).sort_values(('age', 'sum'))\n",
    "stats.columns = stats.columns.to_flat_index()\n",
    "stats.columns = ['_'.join(col).strip() for col in stats.columns]\n",
    "stats.index.name = None\n",
    "stats"
   ]
  },
  {
   "cell_type": "markdown",
   "metadata": {},
   "source": [
    "# Histogram"
   ]
  },
  {
   "cell_type": "code",
   "execution_count": 40,
   "metadata": {},
   "outputs": [
    {
     "name": "stdout",
     "output_type": "stream",
     "text": [
      "sum of ages: ~40500.15\n"
     ]
    },
    {
     "data": {
      "text/plain": [
       "<Axes: >"
      ]
     },
     "execution_count": 40,
     "metadata": {},
     "output_type": "execute_result"
    },
    {
     "data": {
      "image/png": "[encoded data removed]",
      "text/plain": [
       "<Figure size 640x480 with 1 Axes>"
      ]
     },
     "metadata": {},
     "output_type": "display_data"
    }
   ],
   "source": [
    "print(f\"sum of ages: ~{existing_cards['age'].sum(0):.2f}\")\n",
    "existing_cards['age'].hist(bins=20)"
   ]
  },
  {
   "cell_type": "markdown",
   "metadata": {},
   "source": [
    "# Completely Random Shuffle"
   ]
  },
  {
   "cell_type": "code",
   "execution_count": 41,
   "metadata": {},
   "outputs": [],
   "source": [
    "# existing_cards = existing_cards.sample(frac=1)\n",
    "# remake_card_document(filename='certcards2.txt', existing_cards = existing_cards)"
   ]
  },
  {
   "cell_type": "markdown",
   "metadata": {},
   "source": [
    "# Age Sort"
   ]
  },
  {
   "cell_type": "code",
   "execution_count": 42,
   "metadata": {},
   "outputs": [],
   "source": [
    "# existing_cards = existing_cards.sort_values('age', ascending=False)\n",
    "# remake_card_document(filename='certcards2.txt', existing_cards=existing_cards)\n",
    "# existing_cards.head(10)"
   ]
  },
  {
   "cell_type": "markdown",
   "metadata": {},
   "source": [
    "# Headers with fewest notes first"
   ]
  },
  {
   "cell_type": "code",
   "execution_count": 43,
   "metadata": {},
   "outputs": [],
   "source": [
    "# frequency = existing_cards['head'].value_counts(ascending=True)\n",
    "\n",
    "# existing_cards = pd.merge(\n",
    "#     left=existing_cards,\n",
    "#     right=frequency.rename('frequency'),\n",
    "#     left_on='head', right_index=True,\n",
    "#     how='left'\n",
    "# )\n",
    "# existing_cards['oldest'] = existing_cards.groupby('head')['age'].transform('max')\n",
    "# existing_cards['subject_highest_age'] = existing_cards['subject_highest_age'] * -1\n",
    "# existing_cards['age'] = existing_cards['age'] * -1\n",
    "\n",
    "\n",
    "# existing_cards.sort_values(['frequency', 'subject_highest_age', 'age'], ascending=True, inplace=True)\n",
    "\n",
    "# remake_card_document(filename='certcards2.txt', existing_cards=existing_cards)\n",
    "\n",
    "# existing_cards.head(10)"
   ]
  },
  {
   "cell_type": "markdown",
   "metadata": {},
   "source": [
    "# Focus on one header"
   ]
  },
  {
   "cell_type": "code",
   "execution_count": 44,
   "metadata": {},
   "outputs": [],
   "source": [
    "# heads = existing_cards['head'].value_counts()\n",
    "# heads = heads[heads > 5].index.tolist()\n",
    "# one_header = random.sample(heads, 1)[0]\n",
    "# existing_cards['pick_head'] = existing_cards['head'].apply(\n",
    "#     lambda h: 0 if h == one_header else 1 \n",
    "# )\n",
    "\n",
    "# remake_card_document(existing_cards=existing_cards.sort_values('pick_head'))"
   ]
  },
  {
   "cell_type": "markdown",
   "metadata": {},
   "source": [
    "## Header with oldest cards first"
   ]
  },
  {
   "cell_type": "code",
   "execution_count": 45,
   "metadata": {},
   "outputs": [],
   "source": [
    "# existing_cards['oldest'] = existing_cards.groupby('head')['age'].transform('max')\n",
    "# existing_cards.sort_values(['oldest', 'age'], ascending=False, inplace=True)\n",
    "# remake_card_document(existing_cards)"
   ]
  },
  {
   "cell_type": "markdown",
   "metadata": {},
   "source": [
    "## Headers with greatest mean card age first"
   ]
  },
  {
   "cell_type": "code",
   "execution_count": 46,
   "metadata": {},
   "outputs": [],
   "source": [
    "# existing_cards.sort_values(['subject_mean_age', 'age'], ascending=False, inplace=True)\n",
    "# remake_card_document(existing_cards)"
   ]
  },
  {
   "cell_type": "markdown",
   "metadata": {},
   "source": [
    "## Headers with greatest age sum first"
   ]
  },
  {
   "cell_type": "code",
   "execution_count": 47,
   "metadata": {},
   "outputs": [],
   "source": [
    "# existing_cards.sort_values(['subject_age_sum', 'age'], ascending=False, inplace=True)\n",
    "# remake_card_document(existing_cards)"
   ]
  },
  {
   "cell_type": "markdown",
   "metadata": {},
   "source": [
    "# N-fold shuffle\n"
   ]
  },
  {
   "cell_type": "markdown",
   "metadata": {},
   "source": [
    "## Age Sum"
   ]
  },
  {
   "cell_type": "code",
   "execution_count": 48,
   "metadata": {},
   "outputs": [
    {
     "name": "stdout",
     "output_type": "stream",
     "text": [
      "Cards found: 684\n",
      "Total card age: 40500.15\n"
     ]
    },
    {
     "data": {
      "text/html": [
       "<div>\n",
       "<style scoped>\n",
       "    .dataframe tbody tr th:only-of-type {\n",
       "        vertical-align: middle;\n",
       "    }\n",
       "\n",
       "    .dataframe tbody tr th {\n",
       "        vertical-align: top;\n",
       "    }\n",
       "\n",
       "    .dataframe thead th {\n",
       "        text-align: right;\n",
       "    }\n",
       "</style>\n",
       "<table border=\"1\" class=\"dataframe\">\n",
       "  <thead>\n",
       "    <tr style=\"text-align: right;\">\n",
       "      <th></th>\n",
       "      <th>head</th>\n",
       "      <th>body</th>\n",
       "      <th>hash</th>\n",
       "      <th>age</th>\n",
       "      <th>subject_mean_age</th>\n",
       "      <th>subject_highest_age</th>\n",
       "      <th>subject_age_sum</th>\n",
       "      <th>head_random_roll</th>\n",
       "      <th>count</th>\n",
       "      <th>n_fold</th>\n",
       "    </tr>\n",
       "  </thead>\n",
       "  <tbody>\n",
       "    <tr>\n",
       "      <th>215</th>\n",
       "      <td>Powershell Modules</td>\n",
       "      <td>Dot Sourcing\\n\\nDefinition: A method to load f...</td>\n",
       "      <td>a223ab01f0d9ca18a35c9f28bb74e4c6</td>\n",
       "      <td>-808.738189</td>\n",
       "      <td>98.001646</td>\n",
       "      <td>808.738189</td>\n",
       "      <td>-4606.077358</td>\n",
       "      <td>0.524562</td>\n",
       "      <td>0</td>\n",
       "      <td>0</td>\n",
       "    </tr>\n",
       "    <tr>\n",
       "      <th>216</th>\n",
       "      <td>Powershell Modules</td>\n",
       "      <td>Pester\\n\\nDefinition: A testing framework for ...</td>\n",
       "      <td>4e50001e9a04f06dcc20b5666ea220aa</td>\n",
       "      <td>-204.823594</td>\n",
       "      <td>98.001646</td>\n",
       "      <td>808.738189</td>\n",
       "      <td>-4606.077358</td>\n",
       "      <td>0.524562</td>\n",
       "      <td>3</td>\n",
       "      <td>0</td>\n",
       "    </tr>\n",
       "    <tr>\n",
       "      <th>217</th>\n",
       "      <td>Powershell Modules</td>\n",
       "      <td>Install-Module\\n\\nDefinition: A cmdlet used to...</td>\n",
       "      <td>abd837efe7378e3e46b08d09a459cae3</td>\n",
       "      <td>-155.811023</td>\n",
       "      <td>98.001646</td>\n",
       "      <td>808.738189</td>\n",
       "      <td>-4606.077358</td>\n",
       "      <td>0.524562</td>\n",
       "      <td>6</td>\n",
       "      <td>0</td>\n",
       "    </tr>\n",
       "    <tr>\n",
       "      <th>218</th>\n",
       "      <td>Powershell Modules</td>\n",
       "      <td>PowerShell Module\\n\\nDefinition: A package tha...</td>\n",
       "      <td>7b43eec001675e3d34313073b6c55297</td>\n",
       "      <td>-101.660468</td>\n",
       "      <td>98.001646</td>\n",
       "      <td>808.738189</td>\n",
       "      <td>-4606.077358</td>\n",
       "      <td>0.524562</td>\n",
       "      <td>9</td>\n",
       "      <td>0</td>\n",
       "    </tr>\n",
       "    <tr>\n",
       "      <th>219</th>\n",
       "      <td>Powershell Modules</td>\n",
       "      <td>Module Manifest\\n\\nDefinition: See Module Mani...</td>\n",
       "      <td>38f128ae4bc84b3b1baacd4c1aabeaeb</td>\n",
       "      <td>-81.822006</td>\n",
       "      <td>98.001646</td>\n",
       "      <td>808.738189</td>\n",
       "      <td>-4606.077358</td>\n",
       "      <td>0.524562</td>\n",
       "      <td>12</td>\n",
       "      <td>0</td>\n",
       "    </tr>\n",
       "    <tr>\n",
       "      <th>220</th>\n",
       "      <td>Powershell Modules</td>\n",
       "      <td>Module Path\\n\\nDefinition: The directories whe...</td>\n",
       "      <td>0ed10fbc284c0a9a7c52e763081c5d43</td>\n",
       "      <td>-71.183188</td>\n",
       "      <td>98.001646</td>\n",
       "      <td>808.738189</td>\n",
       "      <td>-4606.077358</td>\n",
       "      <td>0.524562</td>\n",
       "      <td>15</td>\n",
       "      <td>0</td>\n",
       "    </tr>\n",
       "    <tr>\n",
       "      <th>221</th>\n",
       "      <td>Powershell Modules</td>\n",
       "      <td>New-AzResourceGroup\\n\\nDefinition: Creates a n...</td>\n",
       "      <td>c0e68e58a2e41f56e0f36d35b5d6fb0f</td>\n",
       "      <td>-67.605917</td>\n",
       "      <td>98.001646</td>\n",
       "      <td>808.738189</td>\n",
       "      <td>-4606.077358</td>\n",
       "      <td>0.524562</td>\n",
       "      <td>18</td>\n",
       "      <td>0</td>\n",
       "    </tr>\n",
       "    <tr>\n",
       "      <th>675</th>\n",
       "      <td>Powershell Modules</td>\n",
       "      <td>Module Auto-Import\\n\\nDefinition: See Auto-Imp...</td>\n",
       "      <td>c2156a33b828bfb3ad22d6cd13f617e3</td>\n",
       "      <td>-59.279442</td>\n",
       "      <td>98.001646</td>\n",
       "      <td>808.738189</td>\n",
       "      <td>-4606.077358</td>\n",
       "      <td>0.524562</td>\n",
       "      <td>21</td>\n",
       "      <td>0</td>\n",
       "    </tr>\n",
       "    <tr>\n",
       "      <th>223</th>\n",
       "      <td>Powershell Modules</td>\n",
       "      <td>New-AzVM\\n\\nDefinition: Deploys a new Azure Vi...</td>\n",
       "      <td>f1d37bc533991e069d0b13a4a562c443</td>\n",
       "      <td>-52.630931</td>\n",
       "      <td>98.001646</td>\n",
       "      <td>808.738189</td>\n",
       "      <td>-4606.077358</td>\n",
       "      <td>0.524562</td>\n",
       "      <td>24</td>\n",
       "      <td>0</td>\n",
       "    </tr>\n",
       "    <tr>\n",
       "      <th>224</th>\n",
       "      <td>Powershell Modules</td>\n",
       "      <td>Find-Module\\n\\nDefinition: Searches for module...</td>\n",
       "      <td>4441d462ea754e1bb6a659efa359382f</td>\n",
       "      <td>-34.056068</td>\n",
       "      <td>98.001646</td>\n",
       "      <td>808.738189</td>\n",
       "      <td>-4606.077358</td>\n",
       "      <td>0.524562</td>\n",
       "      <td>27</td>\n",
       "      <td>0</td>\n",
       "    </tr>\n",
       "  </tbody>\n",
       "</table>\n",
       "</div>"
      ],
      "text/plain": [
       "                   head                                               body  \\\n",
       "215  Powershell Modules  Dot Sourcing\\n\\nDefinition: A method to load f...   \n",
       "216  Powershell Modules  Pester\\n\\nDefinition: A testing framework for ...   \n",
       "217  Powershell Modules  Install-Module\\n\\nDefinition: A cmdlet used to...   \n",
       "218  Powershell Modules  PowerShell Module\\n\\nDefinition: A package tha...   \n",
       "219  Powershell Modules  Module Manifest\\n\\nDefinition: See Module Mani...   \n",
       "220  Powershell Modules  Module Path\\n\\nDefinition: The directories whe...   \n",
       "221  Powershell Modules  New-AzResourceGroup\\n\\nDefinition: Creates a n...   \n",
       "675  Powershell Modules  Module Auto-Import\\n\\nDefinition: See Auto-Imp...   \n",
       "223  Powershell Modules  New-AzVM\\n\\nDefinition: Deploys a new Azure Vi...   \n",
       "224  Powershell Modules  Find-Module\\n\\nDefinition: Searches for module...   \n",
       "\n",
       "                                 hash         age  subject_mean_age  \\\n",
       "215  a223ab01f0d9ca18a35c9f28bb74e4c6 -808.738189         98.001646   \n",
       "216  4e50001e9a04f06dcc20b5666ea220aa -204.823594         98.001646   \n",
       "217  abd837efe7378e3e46b08d09a459cae3 -155.811023         98.001646   \n",
       "218  7b43eec001675e3d34313073b6c55297 -101.660468         98.001646   \n",
       "219  38f128ae4bc84b3b1baacd4c1aabeaeb  -81.822006         98.001646   \n",
       "220  0ed10fbc284c0a9a7c52e763081c5d43  -71.183188         98.001646   \n",
       "221  c0e68e58a2e41f56e0f36d35b5d6fb0f  -67.605917         98.001646   \n",
       "675  c2156a33b828bfb3ad22d6cd13f617e3  -59.279442         98.001646   \n",
       "223  f1d37bc533991e069d0b13a4a562c443  -52.630931         98.001646   \n",
       "224  4441d462ea754e1bb6a659efa359382f  -34.056068         98.001646   \n",
       "\n",
       "     subject_highest_age  subject_age_sum  head_random_roll  count  n_fold  \n",
       "215           808.738189     -4606.077358          0.524562      0       0  \n",
       "216           808.738189     -4606.077358          0.524562      3       0  \n",
       "217           808.738189     -4606.077358          0.524562      6       0  \n",
       "218           808.738189     -4606.077358          0.524562      9       0  \n",
       "219           808.738189     -4606.077358          0.524562     12       0  \n",
       "220           808.738189     -4606.077358          0.524562     15       0  \n",
       "221           808.738189     -4606.077358          0.524562     18       0  \n",
       "675           808.738189     -4606.077358          0.524562     21       0  \n",
       "223           808.738189     -4606.077358          0.524562     24       0  \n",
       "224           808.738189     -4606.077358          0.524562     27       0  "
      ]
     },
     "execution_count": 48,
     "metadata": {},
     "output_type": "execute_result"
    }
   ],
   "source": [
    "n=3\n",
    "existing_cards['count'] = existing_cards.sort_values('age', ascending=False).groupby('head').cumcount()\n",
    "existing_cards['n_fold'] = existing_cards['count'] % n\n",
    "\n",
    "existing_cards['subject_age_sum'] = existing_cards['subject_age_sum'] *-1\n",
    "existing_cards['age'] = existing_cards['age'] *-1\n",
    "existing_cards.sort_values(['n_fold', 'subject_age_sum', 'age'], inplace=True)\n",
    "\n",
    "remake_card_document(existing_cards=existing_cards)\n",
    "existing_cards.head(10)\n"
   ]
  },
  {
   "cell_type": "markdown",
   "metadata": {},
   "source": [
    "## Age Mean"
   ]
  },
  {
   "cell_type": "code",
   "execution_count": 49,
   "metadata": {},
   "outputs": [],
   "source": [
    "# n=3\n",
    "# existing_cards['count'] = existing_cards.sort_values('age', ascending=False).groupby('head').cumcount()\n",
    "# existing_cards['n_fold'] = existing_cards['count'] % n\n",
    "\n",
    "# existing_cards['subject_mean_age'] = existing_cards['subject_mean_age'] *-1\n",
    "# existing_cards['age'] = existing_cards['age'] *-1\n",
    "# existing_cards.sort_values(['n_fold', 'subject_mean_age', 'age'], inplace=True)\n",
    "# remake_card_document(existing_cards=existing_cards)\n",
    "\n",
    "# existing_cards.head(10)\n",
    "\n"
   ]
  },
  {
   "cell_type": "markdown",
   "metadata": {},
   "source": [
    "## Age Max"
   ]
  },
  {
   "cell_type": "code",
   "execution_count": 50,
   "metadata": {},
   "outputs": [],
   "source": [
    "# n = 1\n",
    "# existing_cards['count'] = existing_cards.sort_values('age', ascending=False).groupby('head').cumcount()\n",
    "# existing_cards['n_fold'] = existing_cards['count'] // n\n",
    "\n",
    "# if existing_cards['age'].sum() > 0:\n",
    "#     existing_cards['subject_highest_age'] = existing_cards['subject_highest_age'] *-1\n",
    "#     existing_cards['age'] = existing_cards['age'] *-1\n",
    "# # existing_cards.sort_values(['n_fold', 'subject_highest_age', 'age'], inplace=True)\n",
    "# existing_cards.sort_values(['age'], inplace=True)\n",
    "\n",
    "# remake_card_document(existing_cards=existing_cards)\n",
    "# existing_cards.head(10)\n"
   ]
  },
  {
   "cell_type": "markdown",
   "metadata": {},
   "source": [
    "## Card Count"
   ]
  },
  {
   "cell_type": "code",
   "execution_count": 51,
   "metadata": {},
   "outputs": [],
   "source": [
    "# n=10\n",
    "# existing_cards['frequency']  = existing_cards.groupby('head').transform('count')['body']\n",
    "# existing_cards['count'] = existing_cards.sort_values('age', ascending=False).groupby('head').cumcount()\n",
    "# existing_cards['n_fold'] = existing_cards['count'] // n\n",
    "\n",
    "# if existing_cards['age'].sum() > 0:\n",
    "#     # existing_cards['neg_subject_highest_age'] = existing_cards['subject_highest_age'] *-1\n",
    "#     existing_cards['neg_age'] = existing_cards['age'] *-1\n",
    "# existing_cards.sort_values(['n_fold', 'frequency', 'neg_age'], inplace=True)\n",
    "# remake_card_document(existing_cards=existing_cards)\n",
    "\n",
    "# existing_cards.head(10)\n",
    "\n"
   ]
  },
  {
   "cell_type": "markdown",
   "metadata": {},
   "source": [
    "\n",
    "## Random"
   ]
  },
  {
   "cell_type": "code",
   "execution_count": 52,
   "metadata": {},
   "outputs": [],
   "source": [
    "# n = 3\n",
    "# existing_cards['count'] = existing_cards.sort_values('age', ascending=False).groupby('head').cumcount()\n",
    "# existing_cards['n_fold'] = existing_cards['count'] % n\n",
    "# existing_cards['age'] *= -1\n",
    "# existing_cards.sort_values(['n_fold', 'head_random_roll', 'age'], inplace=True)\n",
    "# remake_card_document(existing_cards=existing_cards)\n",
    "# existing_cards.head(10)"
   ]
  },
  {
   "cell_type": "code",
   "execution_count": 53,
   "metadata": {},
   "outputs": [
    {
     "data": {
      "text/plain": [
       "head                   Powershell ModulesPowershell ModulesPowershell...\n",
       "body                   Dot Sourcing\\n\\nDefinition: A method to load f...\n",
       "hash                   a223ab01f0d9ca18a35c9f28bb74e4c64e50001e9a04f0...\n",
       "age                                                         -1637.610827\n",
       "subject_mean_age                                              980.016459\n",
       "subject_highest_age                                          8087.381891\n",
       "subject_age_sum                                            -46060.773579\n",
       "head_random_roll                                                5.245617\n",
       "count                                                                135\n",
       "n_fold                                                                 0\n",
       "dtype: object"
      ]
     },
     "execution_count": 53,
     "metadata": {},
     "output_type": "execute_result"
    }
   ],
   "source": [
    "existing_cards.head(10).sum()"
   ]
  },
  {
   "cell_type": "code",
   "execution_count": 54,
   "metadata": {},
   "outputs": [
    {
     "data": {
      "text/plain": [
       "-59.2107388132603"
      ]
     },
     "execution_count": 54,
     "metadata": {},
     "output_type": "execute_result"
    }
   ],
   "source": [
    "existing_cards['age'].mean()"
   ]
  }
 ],
 "metadata": {
  "kernelspec": {
   "display_name": "Python 3",
   "language": "python",
   "name": "python3"
  },
  "language_info": {
   "codemirror_mode": {
    "name": "ipython",
    "version": 3
   },
   "file_extension": ".py",
   "mimetype": "text/x-python",
   "name": "python",
   "nbconvert_exporter": "python",
   "pygments_lexer": "ipython3",
   "version": "3.10.10"
  }
 },
 "nbformat": 4,
 "nbformat_minor": 2
}
