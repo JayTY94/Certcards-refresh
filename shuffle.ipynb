{
 "cells": [
  {
   "cell_type": "code",
   "execution_count": 1,
   "metadata": {},
   "outputs": [],
   "source": [
    "import re\n",
    "import random\n",
    "import pandas as pd\n",
    "import hashlib"
   ]
  },
  {
   "cell_type": "code",
   "execution_count": 2,
   "metadata": {},
   "outputs": [],
   "source": [
    "with open('certcards2.txt', mode='r', encoding='utf8') as f:\n",
    "    all_cards = f.read()\n",
    "    \n",
    "card_split_pattern = r'\\n\\n\\n\\d+\\n'\n",
    "all_cards = re.split(card_split_pattern, all_cards)\n",
    "# Use re.DOTALL to allow . to match newline characters\n",
    "card_pattern = re.compile(r'(.+?)\\n([\\s\\S]+)', re.DOTALL)\n",
    "cards = [(match.group(1), match.group(2)) for cstring in all_cards if (match := re.search(card_pattern, cstring))]\n",
    "\n",
    "# removing the cards that have no content and trimming\n",
    "cards = [(subject, stripped_content) for subject, content in cards if len(stripped_content := content.strip()) > 5]\n",
    "\n",
    "def hash_string_md5(s):\n",
    "    \"\"\"\n",
    "    Hashes a string using MD5 and returns a truncated hash for efficiency.\n",
    "\n",
    "    Parameters:\n",
    "    - s (str): The input string to hash.\n",
    "\n",
    "    Returns:\n",
    "    - str: The truncated hexadecimal hash string.\n",
    "    \"\"\"\n",
    "    if pd.isnull(s):\n",
    "        return None  # Handle NaN values gracefully\n",
    "    return hashlib.md5(s.encode('utf-8')).hexdigest()\n",
    "\n",
    "\n",
    "def remake_card_document(existing_cards: pd.DataFrame, filename: str='certcards2.txt'):\n",
    "    with open(filename, mode='w', encoding='utf8') as f:\n",
    "        i = 1\n",
    "        for _, row in existing_cards.iterrows():\n",
    "            f.write('\\n'*6)\n",
    "            f.write(str(i)+'\\n')  \n",
    "            f.write(row['head']+'\\n')\n",
    "            f.write(row['body'])\n",
    "            i+=1\n",
    "    print(F\"Cards found: {existing_cards.shape[0]}\")\n",
    "\n",
    "\n",
    "existing_cards = pd.DataFrame(cards, columns=['head', 'body'])\n",
    "\n",
    "\n",
    "# existing_cards['age'] = [random.random() for _ in existing_cards.index]\n",
    "existing_cards['hash'] = existing_cards['body'].apply(hash_string_md5)\n",
    "existing_cards\n",
    "\n",
    "card_ages = pd.read_json('card_ages.json')\n",
    "card_ages = card_ages.drop_duplicates(subset=['hash'], keep='first')\n",
    "\n",
    "cards_to_age = pd.merge(\n",
    "    left=existing_cards,\n",
    "    right=card_ages[['hash', 'age']],\n",
    "    left_on='hash', right_on='hash',\n",
    "    how='left'\n",
    ")\n",
    "\n",
    "cards_to_age['head'] = cards_to_age['head'].str.strip()\n",
    "\n",
    "if cards_to_age['age'].sum() > 2e4: age_factor = 1\n",
    "else: age_factor = 1.00\n",
    "\n",
    "cards_to_age['age'] = cards_to_age['age'].fillna(0)\n",
    "cards_to_age['age'] = cards_to_age['age'] * age_factor\n",
    "cards_to_age['age'] = cards_to_age['age'] + [random.expovariate(.60) for _ in cards_to_age.index]\n",
    "# cards_to_age['age'] = cards_to_age['age'] * [random.expovariate(.5) for _ in cards_to_age.index]\n",
    "\n",
    "# Adding priority age growth to cards for upcoming certifications\n",
    "priority_headers = ['Azure Developer Associate']\n",
    "priority_cards_mask = cards_to_age['head'].isin(priority_headers)\n",
    "cards_to_age.loc[priority_cards_mask, 'age'] = cards_to_age.loc[priority_cards_mask, 'age'] * 1.1\n",
    "\n",
    "\n",
    "cards_to_age = cards_to_age.drop_duplicates(subset=['hash'], keep='first')\n",
    "\n",
    "cards_to_age['subject_mean_age'] = cards_to_age.groupby('head')['age'].transform('mean')\n",
    "cards_to_age['subject_highest_age'] = cards_to_age.groupby('head')['age'].transform('max')\n",
    "cards_to_age['subject_age_sum'] = cards_to_age.groupby('head')['age'].transform('sum')\n",
    "cards_to_age['head_random_roll'] = cards_to_age.groupby('head')['head'].transform(lambda x: random.random())\n",
    "\n",
    "\n",
    "cards_to_age.sort_values('hash')[['age', 'head', 'hash']].to_json('card_ages.json', indent=2)\n",
    "\n",
    "existing_cards = cards_to_age"
   ]
  },
  {
   "cell_type": "code",
   "execution_count": 3,
   "metadata": {},
   "outputs": [
    {
     "data": {
      "application/vnd.microsoft.datawrangler.viewer.v0+json": {
       "columns": [
        {
         "name": "index",
         "rawType": "object",
         "type": "string"
        },
        {
         "name": "age_sum",
         "rawType": "float64",
         "type": "float"
        },
        {
         "name": "age_mean",
         "rawType": "float64",
         "type": "float"
        },
        {
         "name": "age_max",
         "rawType": "float64",
         "type": "float"
        },
        {
         "name": "head_count",
         "rawType": "int64",
         "type": "integer"
        }
       ],
       "conversionMethod": "pd.DataFrame",
       "ref": "ac852123-5122-4d0b-87f9-92d46ca15f96",
       "rows": [
        [
         "Azure Functions",
         "1319.790741705196",
         "219.96512361753267",
         "413.68205328705636",
         "6"
        ],
        [
         "Todd Ideas",
         "1325.2733375817645",
         "88.35155583878431",
         "174.7119048638503",
         "15"
        ],
        [
         "Python",
         "1680.1501693100613",
         "35.74787594276726",
         "59.19886008635526",
         "47"
        ],
        [
         "Email Auth and Security",
         "1743.6725514924306",
         "145.30604595770254",
         "505.6840712380347",
         "12"
        ],
        [
         "Azure AI Search",
         "1791.943348384506",
         "223.99291854806324",
         "433.6214918883071",
         "8"
        ],
        [
         "Azure Developer Associate",
         "1942.9057059551408",
         "30.83977311039906",
         "95.10716533078664",
         "63"
        ],
        [
         "SharePoint",
         "2015.2735732004387",
         "167.9394644333699",
         "607.952650605117",
         "12"
        ],
        [
         "Audit Report Tracker (Sharepoint List)",
         "2142.6530841357117",
         "164.81946801043935",
         "408.89136445080044",
         "13"
        ],
        [
         "Azure Functions + Visual Studio",
         "2328.8906821045434",
         "166.34933443603882",
         "522.2710775545825",
         "14"
        ],
        [
         "IW Migration",
         "2475.0976124683993",
         "176.79268660488566",
         "491.03157423485123",
         "14"
        ],
        [
         "Debugging in VS Code",
         "2499.8069801591223",
         "124.99034900795611",
         "294.6873273156347",
         "20"
        ],
        [
         "Open Source/GitHub",
         "2718.496027345091",
         "169.9060017090682",
         "400.8027857453149",
         "16"
        ],
        [
         "Terraform",
         "2751.032438980579",
         "110.04129755922317",
         "291.1454205732057",
         "25"
        ],
        [
         "FSLogix",
         "3082.115147936416",
         "128.42146449735068",
         "295.1043981375994",
         "24"
        ],
        [
         "Home Network Project",
         "3462.189481189143",
         "216.38684257432143",
         "492.0030785399291",
         "16"
        ],
        [
         "DNS",
         "3614.941983629543",
         "225.93387397684643",
         "441.6656157247214",
         "16"
        ],
        [
         "WSL + Kali Linux",
         "3805.451619055241",
         "200.28692731869688",
         "440.40540814439544",
         "19"
        ],
        [
         "Azure Functions + PP365",
         "4104.99998781059",
         "178.47826033959086",
         "443.28101563221855",
         "23"
        ],
        [
         "Powershell Modules",
         "5571.737831619529",
         "185.72459438731764",
         "700.9293276583516",
         "30"
        ],
        [
         "Logging in Python",
         "6328.459468841991",
         "129.1522340579998",
         "707.4236462301415",
         "49"
        ],
        [
         "JavaScript Concepts",
         "6557.2188781511095",
         "107.49539144510015",
         "452.5752354677518",
         "61"
        ],
        [
         "PnP Powershell",
         "7696.537790897045",
         "202.54046818150118",
         "678.2688154539886",
         "38"
        ],
        [
         "Vocab",
         "7766.01819648494",
         "106.3838109107526",
         "570.2265336038159",
         "73"
        ]
       ],
       "shape": {
        "columns": 4,
        "rows": 23
       }
      },
      "text/html": [
       "<div>\n",
       "<style scoped>\n",
       "    .dataframe tbody tr th:only-of-type {\n",
       "        vertical-align: middle;\n",
       "    }\n",
       "\n",
       "    .dataframe tbody tr th {\n",
       "        vertical-align: top;\n",
       "    }\n",
       "\n",
       "    .dataframe thead th {\n",
       "        text-align: right;\n",
       "    }\n",
       "</style>\n",
       "<table border=\"1\" class=\"dataframe\">\n",
       "  <thead>\n",
       "    <tr style=\"text-align: right;\">\n",
       "      <th></th>\n",
       "      <th>age_sum</th>\n",
       "      <th>age_mean</th>\n",
       "      <th>age_max</th>\n",
       "      <th>head_count</th>\n",
       "    </tr>\n",
       "  </thead>\n",
       "  <tbody>\n",
       "    <tr>\n",
       "      <th>Azure Functions</th>\n",
       "      <td>1319.790742</td>\n",
       "      <td>219.965124</td>\n",
       "      <td>413.682053</td>\n",
       "      <td>6</td>\n",
       "    </tr>\n",
       "    <tr>\n",
       "      <th>Todd Ideas</th>\n",
       "      <td>1325.273338</td>\n",
       "      <td>88.351556</td>\n",
       "      <td>174.711905</td>\n",
       "      <td>15</td>\n",
       "    </tr>\n",
       "    <tr>\n",
       "      <th>Python</th>\n",
       "      <td>1680.150169</td>\n",
       "      <td>35.747876</td>\n",
       "      <td>59.198860</td>\n",
       "      <td>47</td>\n",
       "    </tr>\n",
       "    <tr>\n",
       "      <th>Email Auth and Security</th>\n",
       "      <td>1743.672551</td>\n",
       "      <td>145.306046</td>\n",
       "      <td>505.684071</td>\n",
       "      <td>12</td>\n",
       "    </tr>\n",
       "    <tr>\n",
       "      <th>Azure AI Search</th>\n",
       "      <td>1791.943348</td>\n",
       "      <td>223.992919</td>\n",
       "      <td>433.621492</td>\n",
       "      <td>8</td>\n",
       "    </tr>\n",
       "    <tr>\n",
       "      <th>Azure Developer Associate</th>\n",
       "      <td>1942.905706</td>\n",
       "      <td>30.839773</td>\n",
       "      <td>95.107165</td>\n",
       "      <td>63</td>\n",
       "    </tr>\n",
       "    <tr>\n",
       "      <th>SharePoint</th>\n",
       "      <td>2015.273573</td>\n",
       "      <td>167.939464</td>\n",
       "      <td>607.952651</td>\n",
       "      <td>12</td>\n",
       "    </tr>\n",
       "    <tr>\n",
       "      <th>Audit Report Tracker (Sharepoint List)</th>\n",
       "      <td>2142.653084</td>\n",
       "      <td>164.819468</td>\n",
       "      <td>408.891364</td>\n",
       "      <td>13</td>\n",
       "    </tr>\n",
       "    <tr>\n",
       "      <th>Azure Functions + Visual Studio</th>\n",
       "      <td>2328.890682</td>\n",
       "      <td>166.349334</td>\n",
       "      <td>522.271078</td>\n",
       "      <td>14</td>\n",
       "    </tr>\n",
       "    <tr>\n",
       "      <th>IW Migration</th>\n",
       "      <td>2475.097612</td>\n",
       "      <td>176.792687</td>\n",
       "      <td>491.031574</td>\n",
       "      <td>14</td>\n",
       "    </tr>\n",
       "    <tr>\n",
       "      <th>Debugging in VS Code</th>\n",
       "      <td>2499.806980</td>\n",
       "      <td>124.990349</td>\n",
       "      <td>294.687327</td>\n",
       "      <td>20</td>\n",
       "    </tr>\n",
       "    <tr>\n",
       "      <th>Open Source/GitHub</th>\n",
       "      <td>2718.496027</td>\n",
       "      <td>169.906002</td>\n",
       "      <td>400.802786</td>\n",
       "      <td>16</td>\n",
       "    </tr>\n",
       "    <tr>\n",
       "      <th>Terraform</th>\n",
       "      <td>2751.032439</td>\n",
       "      <td>110.041298</td>\n",
       "      <td>291.145421</td>\n",
       "      <td>25</td>\n",
       "    </tr>\n",
       "    <tr>\n",
       "      <th>FSLogix</th>\n",
       "      <td>3082.115148</td>\n",
       "      <td>128.421464</td>\n",
       "      <td>295.104398</td>\n",
       "      <td>24</td>\n",
       "    </tr>\n",
       "    <tr>\n",
       "      <th>Home Network Project</th>\n",
       "      <td>3462.189481</td>\n",
       "      <td>216.386843</td>\n",
       "      <td>492.003079</td>\n",
       "      <td>16</td>\n",
       "    </tr>\n",
       "    <tr>\n",
       "      <th>DNS</th>\n",
       "      <td>3614.941984</td>\n",
       "      <td>225.933874</td>\n",
       "      <td>441.665616</td>\n",
       "      <td>16</td>\n",
       "    </tr>\n",
       "    <tr>\n",
       "      <th>WSL + Kali Linux</th>\n",
       "      <td>3805.451619</td>\n",
       "      <td>200.286927</td>\n",
       "      <td>440.405408</td>\n",
       "      <td>19</td>\n",
       "    </tr>\n",
       "    <tr>\n",
       "      <th>Azure Functions + PP365</th>\n",
       "      <td>4104.999988</td>\n",
       "      <td>178.478260</td>\n",
       "      <td>443.281016</td>\n",
       "      <td>23</td>\n",
       "    </tr>\n",
       "    <tr>\n",
       "      <th>Powershell Modules</th>\n",
       "      <td>5571.737832</td>\n",
       "      <td>185.724594</td>\n",
       "      <td>700.929328</td>\n",
       "      <td>30</td>\n",
       "    </tr>\n",
       "    <tr>\n",
       "      <th>Logging in Python</th>\n",
       "      <td>6328.459469</td>\n",
       "      <td>129.152234</td>\n",
       "      <td>707.423646</td>\n",
       "      <td>49</td>\n",
       "    </tr>\n",
       "    <tr>\n",
       "      <th>JavaScript Concepts</th>\n",
       "      <td>6557.218878</td>\n",
       "      <td>107.495391</td>\n",
       "      <td>452.575235</td>\n",
       "      <td>61</td>\n",
       "    </tr>\n",
       "    <tr>\n",
       "      <th>PnP Powershell</th>\n",
       "      <td>7696.537791</td>\n",
       "      <td>202.540468</td>\n",
       "      <td>678.268815</td>\n",
       "      <td>38</td>\n",
       "    </tr>\n",
       "    <tr>\n",
       "      <th>Vocab</th>\n",
       "      <td>7766.018196</td>\n",
       "      <td>106.383811</td>\n",
       "      <td>570.226534</td>\n",
       "      <td>73</td>\n",
       "    </tr>\n",
       "  </tbody>\n",
       "</table>\n",
       "</div>"
      ],
      "text/plain": [
       "                                            age_sum    age_mean     age_max  \\\n",
       "Azure Functions                         1319.790742  219.965124  413.682053   \n",
       "Todd Ideas                              1325.273338   88.351556  174.711905   \n",
       "Python                                  1680.150169   35.747876   59.198860   \n",
       "Email Auth and Security                 1743.672551  145.306046  505.684071   \n",
       "Azure AI Search                         1791.943348  223.992919  433.621492   \n",
       "Azure Developer Associate               1942.905706   30.839773   95.107165   \n",
       "SharePoint                              2015.273573  167.939464  607.952651   \n",
       "Audit Report Tracker (Sharepoint List)  2142.653084  164.819468  408.891364   \n",
       "Azure Functions + Visual Studio         2328.890682  166.349334  522.271078   \n",
       "IW Migration                            2475.097612  176.792687  491.031574   \n",
       "Debugging in VS Code                    2499.806980  124.990349  294.687327   \n",
       "Open Source/GitHub                      2718.496027  169.906002  400.802786   \n",
       "Terraform                               2751.032439  110.041298  291.145421   \n",
       "FSLogix                                 3082.115148  128.421464  295.104398   \n",
       "Home Network Project                    3462.189481  216.386843  492.003079   \n",
       "DNS                                     3614.941984  225.933874  441.665616   \n",
       "WSL + Kali Linux                        3805.451619  200.286927  440.405408   \n",
       "Azure Functions + PP365                 4104.999988  178.478260  443.281016   \n",
       "Powershell Modules                      5571.737832  185.724594  700.929328   \n",
       "Logging in Python                       6328.459469  129.152234  707.423646   \n",
       "JavaScript Concepts                     6557.218878  107.495391  452.575235   \n",
       "PnP Powershell                          7696.537791  202.540468  678.268815   \n",
       "Vocab                                   7766.018196  106.383811  570.226534   \n",
       "\n",
       "                                        head_count  \n",
       "Azure Functions                                  6  \n",
       "Todd Ideas                                      15  \n",
       "Python                                          47  \n",
       "Email Auth and Security                         12  \n",
       "Azure AI Search                                  8  \n",
       "Azure Developer Associate                       63  \n",
       "SharePoint                                      12  \n",
       "Audit Report Tracker (Sharepoint List)          13  \n",
       "Azure Functions + Visual Studio                 14  \n",
       "IW Migration                                    14  \n",
       "Debugging in VS Code                            20  \n",
       "Open Source/GitHub                              16  \n",
       "Terraform                                       25  \n",
       "FSLogix                                         24  \n",
       "Home Network Project                            16  \n",
       "DNS                                             16  \n",
       "WSL + Kali Linux                                19  \n",
       "Azure Functions + PP365                         23  \n",
       "Powershell Modules                              30  \n",
       "Logging in Python                               49  \n",
       "JavaScript Concepts                             61  \n",
       "PnP Powershell                                  38  \n",
       "Vocab                                           73  "
      ]
     },
     "execution_count": 3,
     "metadata": {},
     "output_type": "execute_result"
    }
   ],
   "source": [
    "stats = existing_cards.groupby('head').agg({'age': ['sum', 'mean', 'max'], 'head': 'count'}).sort_values(('age', 'sum'))\n",
    "stats.columns = stats.columns.to_flat_index()\n",
    "stats.columns = ['_'.join(col).strip() for col in stats.columns]\n",
    "stats.index.name = None\n",
    "stats"
   ]
  },
  {
   "cell_type": "markdown",
   "metadata": {},
   "source": [
    "# Histogram"
   ]
  },
  {
   "cell_type": "code",
   "execution_count": 4,
   "metadata": {},
   "outputs": [
    {
     "name": "stdout",
     "output_type": "stream",
     "text": [
      "78724.66\n"
     ]
    },
    {
     "data": {
      "text/plain": [
       "<Axes: >"
      ]
     },
     "execution_count": 4,
     "metadata": {},
     "output_type": "execute_result"
    },
    {
     "data": {
      "image/png": "[encoded data removed]",
      "text/plain": [
       "<Figure size 640x480 with 1 Axes>"
      ]
     },
     "metadata": {},
     "output_type": "display_data"
    }
   ],
   "source": [
    "print(f\"{existing_cards['age'].sum(0):.2f}\")\n",
    "existing_cards['age'].hist(bins=20)"
   ]
  },
  {
   "cell_type": "markdown",
   "metadata": {},
   "source": [
    "# Completely Random Shuffle"
   ]
  },
  {
   "cell_type": "code",
   "execution_count": 5,
   "metadata": {},
   "outputs": [],
   "source": [
    "# existing_cards = existing_cards.sample(frac=1)\n",
    "# remake_card_document(filename='certcards2.txt', existing_cards = existing_cards)"
   ]
  },
  {
   "cell_type": "markdown",
   "metadata": {},
   "source": [
    "# Age Sort"
   ]
  },
  {
   "cell_type": "code",
   "execution_count": 6,
   "metadata": {},
   "outputs": [],
   "source": [
    "# existing_cards = existing_cards.sort_values('age', ascending=False)\n",
    "# remake_card_document(filename='certcards2.txt', existing_cards=existing_cards)\n",
    "# existing_cards.head(10)"
   ]
  },
  {
   "cell_type": "markdown",
   "metadata": {},
   "source": [
    "# Headers with fewest notes first"
   ]
  },
  {
   "cell_type": "code",
   "execution_count": 7,
   "metadata": {},
   "outputs": [],
   "source": [
    "# frequency = existing_cards['head'].value_counts(ascending=True)\n",
    "\n",
    "# existing_cards = pd.merge(\n",
    "#     left=existing_cards,\n",
    "#     right=frequency.rename('frequency'),\n",
    "#     left_on='head', right_index=True,\n",
    "#     how='left'\n",
    "# )\n",
    "# existing_cards['oldest'] = existing_cards.groupby('head')['age'].transform('max')\n",
    "# existing_cards['subject_highest_age'] = existing_cards['subject_highest_age'] * -1\n",
    "# existing_cards['age'] = existing_cards['age'] * -1\n",
    "\n",
    "\n",
    "# existing_cards.sort_values(['frequency', 'subject_highest_age', 'age'], ascending=True, inplace=True)\n",
    "\n",
    "# remake_card_document(filename='certcards2.txt', existing_cards=existing_cards)\n",
    "\n",
    "# existing_cards.head(10)"
   ]
  },
  {
   "cell_type": "markdown",
   "metadata": {},
   "source": [
    "# Focus on one header"
   ]
  },
  {
   "cell_type": "code",
   "execution_count": 8,
   "metadata": {},
   "outputs": [],
   "source": [
    "# heads = existing_cards['head'].value_counts()\n",
    "# heads = heads[heads > 5].index.tolist()\n",
    "# one_header = random.sample(heads, 1)[0]\n",
    "# existing_cards['pick_head'] = existing_cards['head'].apply(\n",
    "#     lambda h: 0 if h == one_header else 1 \n",
    "# )\n",
    "\n",
    "# remake_card_document(existing_cards=existing_cards.sort_values('pick_head'))"
   ]
  },
  {
   "cell_type": "markdown",
   "metadata": {},
   "source": [
    "## Header with oldest cards first"
   ]
  },
  {
   "cell_type": "code",
   "execution_count": 9,
   "metadata": {},
   "outputs": [],
   "source": [
    "# existing_cards['oldest'] = existing_cards.groupby('head')['age'].transform('max')\n",
    "# existing_cards.sort_values(['oldest', 'age'], ascending=False, inplace=True)\n",
    "# remake_card_document(existing_cards)"
   ]
  },
  {
   "cell_type": "markdown",
   "metadata": {},
   "source": [
    "## Headers with greatest mean card age first"
   ]
  },
  {
   "cell_type": "code",
   "execution_count": 10,
   "metadata": {},
   "outputs": [],
   "source": [
    "# existing_cards.sort_values(['subject_mean_age', 'age'], ascending=False, inplace=True)\n",
    "# remake_card_document(existing_cards)"
   ]
  },
  {
   "cell_type": "markdown",
   "metadata": {},
   "source": [
    "## Headers with greatest age sum first"
   ]
  },
  {
   "cell_type": "code",
   "execution_count": 11,
   "metadata": {},
   "outputs": [],
   "source": [
    "# existing_cards.sort_values(['subject_age_sum', 'age'], ascending=False, inplace=True)\n",
    "# remake_card_document(existing_cards)"
   ]
  },
  {
   "cell_type": "markdown",
   "metadata": {},
   "source": [
    "# N-fold shuffle\n"
   ]
  },
  {
   "cell_type": "markdown",
   "metadata": {},
   "source": [
    "## Age Sum"
   ]
  },
  {
   "cell_type": "code",
   "execution_count": 12,
   "metadata": {},
   "outputs": [],
   "source": [
    "# n=3\n",
    "# existing_cards['count'] = existing_cards.sort_values('age', ascending=False).groupby('head').cumcount()\n",
    "# existing_cards['n_fold'] = existing_cards['count'] % n\n",
    "\n",
    "# existing_cards['subject_age_sum'] = existing_cards['subject_age_sum'] *-1\n",
    "# existing_cards['age'] = existing_cards['age'] *-1\n",
    "# existing_cards.sort_values(['n_fold', 'subject_age_sum', 'age'], inplace=True)\n",
    "\n",
    "# remake_card_document(existing_cards=existing_cards)\n",
    "# existing_cards.head(10)\n"
   ]
  },
  {
   "cell_type": "markdown",
   "metadata": {},
   "source": [
    "## Age Mean"
   ]
  },
  {
   "cell_type": "code",
   "execution_count": 13,
   "metadata": {},
   "outputs": [],
   "source": [
    "# n=3\n",
    "# existing_cards['count'] = existing_cards.sort_values('age', ascending=False).groupby('head').cumcount()\n",
    "# existing_cards['n_fold'] = existing_cards['count'] % n\n",
    "\n",
    "# existing_cards['subject_mean_age'] = existing_cards['subject_mean_age'] *-1\n",
    "# existing_cards['age'] = existing_cards['age'] *-1\n",
    "# existing_cards.sort_values(['n_fold', 'subject_mean_age', 'age'], inplace=True)\n",
    "# remake_card_document(existing_cards=existing_cards)\n",
    "\n",
    "# existing_cards.head(10)\n",
    "\n"
   ]
  },
  {
   "cell_type": "markdown",
   "metadata": {},
   "source": [
    "## Age Max"
   ]
  },
  {
   "cell_type": "code",
   "execution_count": 14,
   "metadata": {},
   "outputs": [
    {
     "name": "stdout",
     "output_type": "stream",
     "text": [
      "Cards found: 614\n"
     ]
    },
    {
     "data": {
      "application/vnd.microsoft.datawrangler.viewer.v0+json": {
       "columns": [
        {
         "name": "index",
         "rawType": "int64",
         "type": "integer"
        },
        {
         "name": "head",
         "rawType": "object",
         "type": "string"
        },
        {
         "name": "body",
         "rawType": "object",
         "type": "string"
        },
        {
         "name": "hash",
         "rawType": "object",
         "type": "string"
        },
        {
         "name": "age",
         "rawType": "float64",
         "type": "float"
        },
        {
         "name": "subject_mean_age",
         "rawType": "float64",
         "type": "float"
        },
        {
         "name": "subject_highest_age",
         "rawType": "float64",
         "type": "float"
        },
        {
         "name": "subject_age_sum",
         "rawType": "float64",
         "type": "float"
        },
        {
         "name": "head_random_roll",
         "rawType": "float64",
         "type": "float"
        },
        {
         "name": "count",
         "rawType": "int64",
         "type": "integer"
        },
        {
         "name": "n_fold",
         "rawType": "int64",
         "type": "integer"
        }
       ],
       "conversionMethod": "pd.DataFrame",
       "ref": "b3d8d981-3cf9-4397-97e6-e07a16e0888c",
       "rows": [
        [
         "82",
         "Logging in Python",
         "Q: In TimedRotatingFileHandler from the logging.handlers module, what does the when parameter specify?\n\nA: when='midnight'\nThis parameter sets the interval type for rotating logs, such as daily at midnight.",
         "d53f8f76d58dd27e3ded74f30a190cb4",
         "-707.4236462301415",
         "129.1522340579998",
         "-707.4236462301415",
         "6328.459468841991",
         "0.6392077277341149",
         "0",
         "0"
        ],
        [
         "35",
         "Powershell Modules",
         "PowerShell Gallery\n\nDefinition: The central repository for PowerShell modules, scripts, and other resources.\nExplanation: Accessible via the Find-Module and Install-Module cmdlets. Website: PowerShell Gallery.",
         "92931a76329cd1bec63d78a358648c4d",
         "-700.9293276583516",
         "185.72459438731764",
         "-700.9293276583516",
         "5571.737831619529",
         "0.7815076992738313",
         "0",
         "0"
        ],
        [
         "15",
         "PnP Powershell",
         "SharePoint REST API\nA set of web services provided by SharePoint to perform operations like CRUD actions on lists, libraries, and other SharePoint objects using standard HTTP methods.",
         "143745e569af1c6a779118128bf12b60",
         "-678.2688154539886",
         "202.54046818150118",
         "-678.2688154539886",
         "7696.537790897045",
         "0.21600536551367688",
         "0",
         "0"
        ],
        [
         "64",
         "SharePoint",
         "How can you retrieve the metadata of a specific file, including its properties, using the SharePoint REST API?\n\nGET /_api/web/GetFileByServerRelativeUrl('/Documents/Report.docx')?$expand=ListItemAllFields",
         "a9bef1ae5a68637d2ee73d72c0aa7e47",
         "-607.952650605117",
         "167.9394644333699",
         "-607.952650605117",
         "2015.2735732004387",
         "0.3399067098616959",
         "0",
         "0"
        ],
        [
         "144",
         "Vocab",
         "Hieratic\nadjective\nSPA: hi-uh-RAT-ik\nIPA: /ˌhaɪəˈrætɪk/\n\nRelating to the simplified, cursive form of Egyptian hieroglyphs, used by priests in ancient Egypt for religious texts.\nExample: The hieratic script was employed for everyday purposes in ancient Egypt, in contrast to the more elaborate hieroglyphic script.",
         "ca40d5a4cd7caf50cb01f3c6d0964e6d",
         "-570.2265336038159",
         "106.3838109107526",
         "-570.2265336038159",
         "7766.01819648494",
         "0.7954406573517927",
         "0",
         "0"
        ],
        [
         "68",
         "Azure Functions + Visual Studio",
         "ASP.NET includes a variety of built-in security features such as request validation, input sanitization, SQL injection prevention, and protection against cross-site scripting (XSS) and cross-site request forgery (CSRF). HTTPS and encryption are also supported for secure communication.",
         "22f41dbaa7f06bfee2174c4754c8f951",
         "-522.2710775545825",
         "166.34933443603882",
         "-522.2710775545825",
         "2328.8906821045434",
         "0.8636374272435788",
         "0",
         "0"
        ],
        [
         "78",
         "Email Auth and Security",
         "MUA (Mail User Agent)\n\nAn email client used by end-users to send, receive, and manage their emails.\nProvides the interface for users to interact with their email accounts.\nExamples include Microsoft Outlook, Mozilla Thunderbird, and Gmail.",
         "728b4872797d6311a0966fa924d6341d",
         "-505.6840712380347",
         "145.30604595770254",
         "-505.6840712380347",
         "1743.6725514924306",
         "0.9290766085402984",
         "0",
         "0"
        ],
        [
         "9",
         "Home Network Project",
         "Front: What is Bandwidth and how does it differ from Throughput?\n\nBack:\n\nBandwidth: The maximum rate of data transfer across a network path, typically measured in Mbps or Gbps. It represents the network's capacity.\nThroughput: The actual rate of successful data transfer achieved, often lower than the bandwidth due to factors like network congestion and protocol overhead.",
         "8d6d825a0008723089184f0a0131e2d6",
         "-492.0030785399291",
         "216.38684257432143",
         "-492.0030785399291",
         "3462.189481189143",
         "0.06424742671278816",
         "0",
         "0"
        ],
        [
         "53",
         "IW Migration",
         "Linked Server (SQL Server)\nA configuration that allows SQL Server to run queries against remote data sources as if they were local tables. This enables federated queries, joining data across different servers and even different database platforms.",
         "fa3ffa381d1fcef8e1ca182752dc366d",
         "-491.03157423485123",
         "176.79268660488566",
         "-491.03157423485123",
         "2475.0976124683993",
         "0.19431690566002024",
         "0",
         "0"
        ],
        [
         "123",
         "JavaScript Concepts",
         "GraphQL: A query language for APIs that allows clients to request exactly the data they need, improving efficiency and flexibility over REST.",
         "7e7b34d3208558b7ef2938d10bb39b64",
         "-452.5752354677518",
         "107.49539144510015",
         "-452.5752354677518",
         "6557.2188781511095",
         "0.4050092032770968",
         "0",
         "0"
        ]
       ],
       "shape": {
        "columns": 10,
        "rows": 10
       }
      },
      "text/html": [
       "<div>\n",
       "<style scoped>\n",
       "    .dataframe tbody tr th:only-of-type {\n",
       "        vertical-align: middle;\n",
       "    }\n",
       "\n",
       "    .dataframe tbody tr th {\n",
       "        vertical-align: top;\n",
       "    }\n",
       "\n",
       "    .dataframe thead th {\n",
       "        text-align: right;\n",
       "    }\n",
       "</style>\n",
       "<table border=\"1\" class=\"dataframe\">\n",
       "  <thead>\n",
       "    <tr style=\"text-align: right;\">\n",
       "      <th></th>\n",
       "      <th>head</th>\n",
       "      <th>body</th>\n",
       "      <th>hash</th>\n",
       "      <th>age</th>\n",
       "      <th>subject_mean_age</th>\n",
       "      <th>subject_highest_age</th>\n",
       "      <th>subject_age_sum</th>\n",
       "      <th>head_random_roll</th>\n",
       "      <th>count</th>\n",
       "      <th>n_fold</th>\n",
       "    </tr>\n",
       "  </thead>\n",
       "  <tbody>\n",
       "    <tr>\n",
       "      <th>82</th>\n",
       "      <td>Logging in Python</td>\n",
       "      <td>Q: In TimedRotatingFileHandler from the loggin...</td>\n",
       "      <td>d53f8f76d58dd27e3ded74f30a190cb4</td>\n",
       "      <td>-707.423646</td>\n",
       "      <td>129.152234</td>\n",
       "      <td>-707.423646</td>\n",
       "      <td>6328.459469</td>\n",
       "      <td>0.639208</td>\n",
       "      <td>0</td>\n",
       "      <td>0</td>\n",
       "    </tr>\n",
       "    <tr>\n",
       "      <th>35</th>\n",
       "      <td>Powershell Modules</td>\n",
       "      <td>PowerShell Gallery\\n\\nDefinition: The central ...</td>\n",
       "      <td>92931a76329cd1bec63d78a358648c4d</td>\n",
       "      <td>-700.929328</td>\n",
       "      <td>185.724594</td>\n",
       "      <td>-700.929328</td>\n",
       "      <td>5571.737832</td>\n",
       "      <td>0.781508</td>\n",
       "      <td>0</td>\n",
       "      <td>0</td>\n",
       "    </tr>\n",
       "    <tr>\n",
       "      <th>15</th>\n",
       "      <td>PnP Powershell</td>\n",
       "      <td>SharePoint REST API\\nA set of web services pro...</td>\n",
       "      <td>143745e569af1c6a779118128bf12b60</td>\n",
       "      <td>-678.268815</td>\n",
       "      <td>202.540468</td>\n",
       "      <td>-678.268815</td>\n",
       "      <td>7696.537791</td>\n",
       "      <td>0.216005</td>\n",
       "      <td>0</td>\n",
       "      <td>0</td>\n",
       "    </tr>\n",
       "    <tr>\n",
       "      <th>64</th>\n",
       "      <td>SharePoint</td>\n",
       "      <td>How can you retrieve the metadata of a specifi...</td>\n",
       "      <td>a9bef1ae5a68637d2ee73d72c0aa7e47</td>\n",
       "      <td>-607.952651</td>\n",
       "      <td>167.939464</td>\n",
       "      <td>-607.952651</td>\n",
       "      <td>2015.273573</td>\n",
       "      <td>0.339907</td>\n",
       "      <td>0</td>\n",
       "      <td>0</td>\n",
       "    </tr>\n",
       "    <tr>\n",
       "      <th>144</th>\n",
       "      <td>Vocab</td>\n",
       "      <td>Hieratic\\nadjective\\nSPA: hi-uh-RAT-ik\\nIPA: /...</td>\n",
       "      <td>ca40d5a4cd7caf50cb01f3c6d0964e6d</td>\n",
       "      <td>-570.226534</td>\n",
       "      <td>106.383811</td>\n",
       "      <td>-570.226534</td>\n",
       "      <td>7766.018196</td>\n",
       "      <td>0.795441</td>\n",
       "      <td>0</td>\n",
       "      <td>0</td>\n",
       "    </tr>\n",
       "    <tr>\n",
       "      <th>68</th>\n",
       "      <td>Azure Functions + Visual Studio</td>\n",
       "      <td>ASP.NET includes a variety of built-in securit...</td>\n",
       "      <td>22f41dbaa7f06bfee2174c4754c8f951</td>\n",
       "      <td>-522.271078</td>\n",
       "      <td>166.349334</td>\n",
       "      <td>-522.271078</td>\n",
       "      <td>2328.890682</td>\n",
       "      <td>0.863637</td>\n",
       "      <td>0</td>\n",
       "      <td>0</td>\n",
       "    </tr>\n",
       "    <tr>\n",
       "      <th>78</th>\n",
       "      <td>Email Auth and Security</td>\n",
       "      <td>MUA (Mail User Agent)\\n\\nAn email client used ...</td>\n",
       "      <td>728b4872797d6311a0966fa924d6341d</td>\n",
       "      <td>-505.684071</td>\n",
       "      <td>145.306046</td>\n",
       "      <td>-505.684071</td>\n",
       "      <td>1743.672551</td>\n",
       "      <td>0.929077</td>\n",
       "      <td>0</td>\n",
       "      <td>0</td>\n",
       "    </tr>\n",
       "    <tr>\n",
       "      <th>9</th>\n",
       "      <td>Home Network Project</td>\n",
       "      <td>Front: What is Bandwidth and how does it diffe...</td>\n",
       "      <td>8d6d825a0008723089184f0a0131e2d6</td>\n",
       "      <td>-492.003079</td>\n",
       "      <td>216.386843</td>\n",
       "      <td>-492.003079</td>\n",
       "      <td>3462.189481</td>\n",
       "      <td>0.064247</td>\n",
       "      <td>0</td>\n",
       "      <td>0</td>\n",
       "    </tr>\n",
       "    <tr>\n",
       "      <th>53</th>\n",
       "      <td>IW Migration</td>\n",
       "      <td>Linked Server (SQL Server)\\nA configuration th...</td>\n",
       "      <td>fa3ffa381d1fcef8e1ca182752dc366d</td>\n",
       "      <td>-491.031574</td>\n",
       "      <td>176.792687</td>\n",
       "      <td>-491.031574</td>\n",
       "      <td>2475.097612</td>\n",
       "      <td>0.194317</td>\n",
       "      <td>0</td>\n",
       "      <td>0</td>\n",
       "    </tr>\n",
       "    <tr>\n",
       "      <th>123</th>\n",
       "      <td>JavaScript Concepts</td>\n",
       "      <td>GraphQL: A query language for APIs that allows...</td>\n",
       "      <td>7e7b34d3208558b7ef2938d10bb39b64</td>\n",
       "      <td>-452.575235</td>\n",
       "      <td>107.495391</td>\n",
       "      <td>-452.575235</td>\n",
       "      <td>6557.218878</td>\n",
       "      <td>0.405009</td>\n",
       "      <td>0</td>\n",
       "      <td>0</td>\n",
       "    </tr>\n",
       "  </tbody>\n",
       "</table>\n",
       "</div>"
      ],
      "text/plain": [
       "                                head  \\\n",
       "82                 Logging in Python   \n",
       "35                Powershell Modules   \n",
       "15                    PnP Powershell   \n",
       "64                        SharePoint   \n",
       "144                            Vocab   \n",
       "68   Azure Functions + Visual Studio   \n",
       "78           Email Auth and Security   \n",
       "9               Home Network Project   \n",
       "53                      IW Migration   \n",
       "123              JavaScript Concepts   \n",
       "\n",
       "                                                  body  \\\n",
       "82   Q: In TimedRotatingFileHandler from the loggin...   \n",
       "35   PowerShell Gallery\\n\\nDefinition: The central ...   \n",
       "15   SharePoint REST API\\nA set of web services pro...   \n",
       "64   How can you retrieve the metadata of a specifi...   \n",
       "144  Hieratic\\nadjective\\nSPA: hi-uh-RAT-ik\\nIPA: /...   \n",
       "68   ASP.NET includes a variety of built-in securit...   \n",
       "78   MUA (Mail User Agent)\\n\\nAn email client used ...   \n",
       "9    Front: What is Bandwidth and how does it diffe...   \n",
       "53   Linked Server (SQL Server)\\nA configuration th...   \n",
       "123  GraphQL: A query language for APIs that allows...   \n",
       "\n",
       "                                 hash         age  subject_mean_age  \\\n",
       "82   d53f8f76d58dd27e3ded74f30a190cb4 -707.423646        129.152234   \n",
       "35   92931a76329cd1bec63d78a358648c4d -700.929328        185.724594   \n",
       "15   143745e569af1c6a779118128bf12b60 -678.268815        202.540468   \n",
       "64   a9bef1ae5a68637d2ee73d72c0aa7e47 -607.952651        167.939464   \n",
       "144  ca40d5a4cd7caf50cb01f3c6d0964e6d -570.226534        106.383811   \n",
       "68   22f41dbaa7f06bfee2174c4754c8f951 -522.271078        166.349334   \n",
       "78   728b4872797d6311a0966fa924d6341d -505.684071        145.306046   \n",
       "9    8d6d825a0008723089184f0a0131e2d6 -492.003079        216.386843   \n",
       "53   fa3ffa381d1fcef8e1ca182752dc366d -491.031574        176.792687   \n",
       "123  7e7b34d3208558b7ef2938d10bb39b64 -452.575235        107.495391   \n",
       "\n",
       "     subject_highest_age  subject_age_sum  head_random_roll  count  n_fold  \n",
       "82           -707.423646      6328.459469          0.639208      0       0  \n",
       "35           -700.929328      5571.737832          0.781508      0       0  \n",
       "15           -678.268815      7696.537791          0.216005      0       0  \n",
       "64           -607.952651      2015.273573          0.339907      0       0  \n",
       "144          -570.226534      7766.018196          0.795441      0       0  \n",
       "68           -522.271078      2328.890682          0.863637      0       0  \n",
       "78           -505.684071      1743.672551          0.929077      0       0  \n",
       "9            -492.003079      3462.189481          0.064247      0       0  \n",
       "53           -491.031574      2475.097612          0.194317      0       0  \n",
       "123          -452.575235      6557.218878          0.405009      0       0  "
      ]
     },
     "execution_count": 14,
     "metadata": {},
     "output_type": "execute_result"
    }
   ],
   "source": [
    "n = 1\n",
    "existing_cards['count'] = existing_cards.sort_values('age', ascending=False).groupby('head').cumcount()\n",
    "existing_cards['n_fold'] = existing_cards['count'] // n\n",
    "\n",
    "if existing_cards['age'].sum() > 0:\n",
    "    existing_cards['subject_highest_age'] = existing_cards['subject_highest_age'] *-1\n",
    "    existing_cards['age'] = existing_cards['age'] *-1\n",
    "existing_cards.sort_values(['n_fold', 'subject_highest_age', 'age'], inplace=True)\n",
    "\n",
    "remake_card_document(existing_cards=existing_cards)\n",
    "existing_cards.head(10)\n"
   ]
  },
  {
   "cell_type": "markdown",
   "metadata": {},
   "source": [
    "## Card Count"
   ]
  },
  {
   "cell_type": "code",
   "execution_count": 15,
   "metadata": {},
   "outputs": [],
   "source": [
    "# n=10\n",
    "# existing_cards['frequency']  = existing_cards.groupby('head').transform('count')['body']\n",
    "# existing_cards['count'] = existing_cards.sort_values('age', ascending=False).groupby('head').cumcount()\n",
    "# existing_cards['n_fold'] = existing_cards['count'] // n\n",
    "\n",
    "# if existing_cards['age'].sum() > 0:\n",
    "#     # existing_cards['neg_subject_highest_age'] = existing_cards['subject_highest_age'] *-1\n",
    "#     existing_cards['neg_age'] = existing_cards['age'] *-1\n",
    "# existing_cards.sort_values(['n_fold', 'frequency', 'neg_age'], inplace=True)\n",
    "# remake_card_document(existing_cards=existing_cards)\n",
    "\n",
    "# existing_cards.head(10)\n",
    "\n"
   ]
  },
  {
   "cell_type": "markdown",
   "metadata": {},
   "source": [
    "\n",
    "## Random"
   ]
  },
  {
   "cell_type": "code",
   "execution_count": 16,
   "metadata": {},
   "outputs": [],
   "source": [
    "# n = 3\n",
    "# existing_cards['count'] = existing_cards.sort_values('age', ascending=False).groupby('head').cumcount()\n",
    "# existing_cards['n_fold'] = existing_cards['count'] % n\n",
    "# existing_cards['age'] *= -1\n",
    "# existing_cards.sort_values(['n_fold', 'head_random_roll', 'age'], inplace=True)\n",
    "# remake_card_document(existing_cards=existing_cards)\n",
    "# existing_cards.head(10)"
   ]
  },
  {
   "cell_type": "code",
   "execution_count": 17,
   "metadata": {},
   "outputs": [
    {
     "data": {
      "text/plain": [
       "head                   Logging in PythonPowershell ModulesPnP Powersh...\n",
       "body                   Q: In TimedRotatingFileHandler from the loggin...\n",
       "hash                   d53f8f76d58dd27e3ded74f30a190cb492931a76329cd1...\n",
       "age                                                         -5728.366011\n",
       "subject_mean_age                                             1604.070873\n",
       "subject_highest_age                                         -5728.366011\n",
       "subject_age_sum                                             45945.096066\n",
       "head_random_roll                                                5.228356\n",
       "count                                                                  0\n",
       "n_fold                                                                 0\n",
       "dtype: object"
      ]
     },
     "execution_count": 17,
     "metadata": {},
     "output_type": "execute_result"
    }
   ],
   "source": [
    "existing_cards.head(10).sum()"
   ]
  },
  {
   "cell_type": "code",
   "execution_count": 18,
   "metadata": {},
   "outputs": [
    {
     "data": {
      "text/plain": [
       "-128.216053157066"
      ]
     },
     "execution_count": 18,
     "metadata": {},
     "output_type": "execute_result"
    }
   ],
   "source": [
    "existing_cards['age'].mean()"
   ]
  }
 ],
 "metadata": {
  "kernelspec": {
   "display_name": "Python 3",
   "language": "python",
   "name": "python3"
  },
  "language_info": {
   "codemirror_mode": {
    "name": "ipython",
    "version": 3
   },
   "file_extension": ".py",
   "mimetype": "text/x-python",
   "name": "python",
   "nbconvert_exporter": "python",
   "pygments_lexer": "ipython3",
   "version": "3.10.10"
  }
 },
 "nbformat": 4,
 "nbformat_minor": 2
}
