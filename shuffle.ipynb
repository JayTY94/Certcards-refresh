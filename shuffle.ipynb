{
 "cells": [
  {
   "cell_type": "code",
   "execution_count": 145,
   "metadata": {},
   "outputs": [],
   "source": [
    "import re\n",
    "import random\n",
    "import pandas as pd\n",
    "import hashlib"
   ]
  },
  {
   "cell_type": "code",
   "execution_count": 146,
   "metadata": {},
   "outputs": [],
   "source": [
    "with open('certcards2.txt', mode='r', encoding='utf8') as f:\n",
    "    all_cards = f.read()\n",
    "    \n",
    "card_split_pattern = r'\\n\\n\\n\\d+\\n'\n",
    "all_cards = re.split(card_split_pattern, all_cards)\n",
    "# Use re.DOTALL to allow . to match newline characters\n",
    "card_pattern = re.compile(r'(.+?)\\n([\\s\\S]+)', re.DOTALL)\n",
    "cards = [(match.group(1), match.group(2)) for cstring in all_cards if (match := re.search(card_pattern, cstring))]\n",
    "\n",
    "# removing the cards that have no content and trimming\n",
    "cards = [(subject, stripped_content) for subject, content in cards if len(stripped_content := content.strip()) > 5]\n",
    "\n",
    "def hash_string_md5(s):\n",
    "    \"\"\"\n",
    "    Hashes a string using MD5 and returns a truncated hash for efficiency.\n",
    "\n",
    "    Parameters:\n",
    "    - s (str): The input string to hash.\n",
    "\n",
    "    Returns:\n",
    "    - str: The truncated hexadecimal hash string.\n",
    "    \"\"\"\n",
    "    if pd.isnull(s):\n",
    "        return None  # Handle NaN values gracefully\n",
    "    return hashlib.md5(s.encode('utf-8')).hexdigest()\n",
    "\n",
    "\n",
    "def remake_card_document(existing_cards: pd.DataFrame, filename: str='certcards2.txt'):\n",
    "    with open(filename, mode='w', encoding='utf8') as f:\n",
    "        i = 1\n",
    "        for _, row in existing_cards.iterrows():\n",
    "            f.write('\\n'*6)\n",
    "            f.write(str(i)+'\\n')  \n",
    "            f.write(row['head']+'\\n')\n",
    "            f.write(row['body'])\n",
    "            i+=1\n",
    "    print(F\"Cards found: {existing_cards.shape[0]}\")\n",
    "    print(F\"Total card age: {abs(existing_cards['age'].sum()):.2f}\")\n",
    "\n",
    "\n",
    "existing_cards = pd.DataFrame(cards, columns=['head', 'body'])\n",
    "\n",
    "\n",
    "# existing_cards['age'] = [random.random() for _ in existing_cards.index]\n",
    "existing_cards['hash'] = existing_cards['body'].apply(hash_string_md5)\n",
    "existing_cards\n",
    "\n",
    "card_ages = pd.read_json('card_ages.json')\n",
    "card_ages = card_ages.drop_duplicates(subset=['hash'], keep='first')\n",
    "\n",
    "cards_to_age = pd.merge(\n",
    "    left=existing_cards,\n",
    "    right=card_ages[['hash', 'age']],\n",
    "    left_on='hash', right_on='hash',\n",
    "    how='left'\n",
    ")\n",
    "\n",
    "cards_to_age['head'] = cards_to_age['head'].str.strip()\n",
    "\n",
    "if cards_to_age['age'].sum() > 2e4: age_factor = .5\n",
    "else: age_factor = 1.5\n",
    "\n",
    "cards_to_age['age'] = cards_to_age['age'].fillna(0)\n",
    "# cards_to_age['age'] = cards_to_age['age'] * age_factor\n",
    "cards_to_age['age'] = cards_to_age['age'] + [random.expovariate(.60) for _ in cards_to_age.index]\n",
    "# cards_to_age['age'] = cards_to_age['age'] * [random.expovariate(1/age_factor) for _ in cards_to_age.index]\n",
    "\n",
    "# Adding priority age growth to cards for upcoming certifications\n",
    "priority_headers = ['Azure Developer Associate']\n",
    "priority_cards_mask = cards_to_age['head'].isin(priority_headers)\n",
    "cards_to_age.loc[priority_cards_mask, 'age'] = cards_to_age.loc[priority_cards_mask, 'age'] * 1.05\n",
    "\n",
    "cards_to_age = cards_to_age.drop_duplicates(subset=['hash'], keep='first')\n",
    "\n",
    "cards_to_age['subject_mean_age'] = cards_to_age.groupby('head')['age'].transform('mean')\n",
    "cards_to_age['subject_highest_age'] = cards_to_age.groupby('head')['age'].transform('max')\n",
    "cards_to_age['subject_age_sum'] = cards_to_age.groupby('head')['age'].transform('sum')\n",
    "cards_to_age['head_random_roll'] = cards_to_age.groupby('head')['head'].transform(lambda x: random.random())\n",
    "\n",
    "\n",
    "cards_to_age.sort_values('hash')[['age', 'head', 'hash']].to_json('card_ages.json', indent=2)\n",
    "\n",
    "existing_cards = cards_to_age"
   ]
  },
  {
   "cell_type": "code",
   "execution_count": 147,
   "metadata": {},
   "outputs": [
    {
     "data": {
      "text/html": [
       "<div>\n",
       "<style scoped>\n",
       "    .dataframe tbody tr th:only-of-type {\n",
       "        vertical-align: middle;\n",
       "    }\n",
       "\n",
       "    .dataframe tbody tr th {\n",
       "        vertical-align: top;\n",
       "    }\n",
       "\n",
       "    .dataframe thead th {\n",
       "        text-align: right;\n",
       "    }\n",
       "</style>\n",
       "<table border=\"1\" class=\"dataframe\">\n",
       "  <thead>\n",
       "    <tr style=\"text-align: right;\">\n",
       "      <th></th>\n",
       "      <th>age_sum</th>\n",
       "      <th>age_mean</th>\n",
       "      <th>age_max</th>\n",
       "      <th>head_count</th>\n",
       "    </tr>\n",
       "  </thead>\n",
       "  <tbody>\n",
       "    <tr>\n",
       "      <th>Azure AD Authentication</th>\n",
       "      <td>251.574782</td>\n",
       "      <td>19.351906</td>\n",
       "      <td>25.509507</td>\n",
       "      <td>13</td>\n",
       "    </tr>\n",
       "    <tr>\n",
       "      <th>Home Network Project</th>\n",
       "      <td>372.819744</td>\n",
       "      <td>124.273248</td>\n",
       "      <td>136.866261</td>\n",
       "      <td>3</td>\n",
       "    </tr>\n",
       "    <tr>\n",
       "      <th>Azure DevOps Pipelines</th>\n",
       "      <td>471.594848</td>\n",
       "      <td>18.138263</td>\n",
       "      <td>28.893984</td>\n",
       "      <td>26</td>\n",
       "    </tr>\n",
       "    <tr>\n",
       "      <th>RAG Project</th>\n",
       "      <td>485.076418</td>\n",
       "      <td>20.211517</td>\n",
       "      <td>30.522899</td>\n",
       "      <td>24</td>\n",
       "    </tr>\n",
       "    <tr>\n",
       "      <th>Email Auth and Security</th>\n",
       "      <td>1535.034801</td>\n",
       "      <td>127.919567</td>\n",
       "      <td>495.389086</td>\n",
       "      <td>12</td>\n",
       "    </tr>\n",
       "    <tr>\n",
       "      <th>SharePoint</th>\n",
       "      <td>1843.806362</td>\n",
       "      <td>167.618760</td>\n",
       "      <td>453.964534</td>\n",
       "      <td>11</td>\n",
       "    </tr>\n",
       "    <tr>\n",
       "      <th>WSL + Kali Linux</th>\n",
       "      <td>2020.927153</td>\n",
       "      <td>144.351939</td>\n",
       "      <td>462.410583</td>\n",
       "      <td>14</td>\n",
       "    </tr>\n",
       "    <tr>\n",
       "      <th>Audit Report Tracker (Sharepoint List)</th>\n",
       "      <td>2378.121531</td>\n",
       "      <td>182.932425</td>\n",
       "      <td>662.828042</td>\n",
       "      <td>13</td>\n",
       "    </tr>\n",
       "    <tr>\n",
       "      <th>IW Migration</th>\n",
       "      <td>2519.218722</td>\n",
       "      <td>179.944194</td>\n",
       "      <td>539.431953</td>\n",
       "      <td>14</td>\n",
       "    </tr>\n",
       "    <tr>\n",
       "      <th>Todd Ideas</th>\n",
       "      <td>2610.129024</td>\n",
       "      <td>174.008602</td>\n",
       "      <td>579.270860</td>\n",
       "      <td>15</td>\n",
       "    </tr>\n",
       "    <tr>\n",
       "      <th>Open Source/GitHub</th>\n",
       "      <td>2653.121528</td>\n",
       "      <td>165.820096</td>\n",
       "      <td>629.382866</td>\n",
       "      <td>16</td>\n",
       "    </tr>\n",
       "    <tr>\n",
       "      <th>Debugging in VS Code</th>\n",
       "      <td>2743.024914</td>\n",
       "      <td>137.151246</td>\n",
       "      <td>382.681524</td>\n",
       "      <td>20</td>\n",
       "    </tr>\n",
       "    <tr>\n",
       "      <th>Azure Functions + Visual Studio</th>\n",
       "      <td>2936.917790</td>\n",
       "      <td>209.779842</td>\n",
       "      <td>644.634079</td>\n",
       "      <td>14</td>\n",
       "    </tr>\n",
       "    <tr>\n",
       "      <th>Terraform</th>\n",
       "      <td>2968.942630</td>\n",
       "      <td>118.757705</td>\n",
       "      <td>395.554646</td>\n",
       "      <td>25</td>\n",
       "    </tr>\n",
       "    <tr>\n",
       "      <th>Python</th>\n",
       "      <td>3597.845585</td>\n",
       "      <td>76.549906</td>\n",
       "      <td>184.125900</td>\n",
       "      <td>47</td>\n",
       "    </tr>\n",
       "    <tr>\n",
       "      <th>Azure Functions + PP365</th>\n",
       "      <td>4249.736778</td>\n",
       "      <td>193.169854</td>\n",
       "      <td>687.135772</td>\n",
       "      <td>22</td>\n",
       "    </tr>\n",
       "    <tr>\n",
       "      <th>Logging in Python</th>\n",
       "      <td>4355.243352</td>\n",
       "      <td>117.709280</td>\n",
       "      <td>413.777080</td>\n",
       "      <td>37</td>\n",
       "    </tr>\n",
       "    <tr>\n",
       "      <th>FSLogix</th>\n",
       "      <td>4587.434764</td>\n",
       "      <td>191.143115</td>\n",
       "      <td>555.106675</td>\n",
       "      <td>24</td>\n",
       "    </tr>\n",
       "    <tr>\n",
       "      <th>Powershell Modules</th>\n",
       "      <td>5558.648627</td>\n",
       "      <td>118.269120</td>\n",
       "      <td>562.252652</td>\n",
       "      <td>47</td>\n",
       "    </tr>\n",
       "    <tr>\n",
       "      <th>Vocab</th>\n",
       "      <td>7362.061005</td>\n",
       "      <td>118.742919</td>\n",
       "      <td>643.112409</td>\n",
       "      <td>62</td>\n",
       "    </tr>\n",
       "    <tr>\n",
       "      <th>Azure Developer Associate</th>\n",
       "      <td>7926.052009</td>\n",
       "      <td>123.844563</td>\n",
       "      <td>805.460850</td>\n",
       "      <td>64</td>\n",
       "    </tr>\n",
       "    <tr>\n",
       "      <th>PnP Powershell</th>\n",
       "      <td>7986.302483</td>\n",
       "      <td>215.846013</td>\n",
       "      <td>600.801901</td>\n",
       "      <td>37</td>\n",
       "    </tr>\n",
       "    <tr>\n",
       "      <th>JavaScript Concepts</th>\n",
       "      <td>8511.971694</td>\n",
       "      <td>135.110662</td>\n",
       "      <td>644.851196</td>\n",
       "      <td>63</td>\n",
       "    </tr>\n",
       "  </tbody>\n",
       "</table>\n",
       "</div>"
      ],
      "text/plain": [
       "                                            age_sum    age_mean     age_max  \\\n",
       "Azure AD Authentication                  251.574782   19.351906   25.509507   \n",
       "Home Network Project                     372.819744  124.273248  136.866261   \n",
       "Azure DevOps Pipelines                   471.594848   18.138263   28.893984   \n",
       "RAG Project                              485.076418   20.211517   30.522899   \n",
       "Email Auth and Security                 1535.034801  127.919567  495.389086   \n",
       "SharePoint                              1843.806362  167.618760  453.964534   \n",
       "WSL + Kali Linux                        2020.927153  144.351939  462.410583   \n",
       "Audit Report Tracker (Sharepoint List)  2378.121531  182.932425  662.828042   \n",
       "IW Migration                            2519.218722  179.944194  539.431953   \n",
       "Todd Ideas                              2610.129024  174.008602  579.270860   \n",
       "Open Source/GitHub                      2653.121528  165.820096  629.382866   \n",
       "Debugging in VS Code                    2743.024914  137.151246  382.681524   \n",
       "Azure Functions + Visual Studio         2936.917790  209.779842  644.634079   \n",
       "Terraform                               2968.942630  118.757705  395.554646   \n",
       "Python                                  3597.845585   76.549906  184.125900   \n",
       "Azure Functions + PP365                 4249.736778  193.169854  687.135772   \n",
       "Logging in Python                       4355.243352  117.709280  413.777080   \n",
       "FSLogix                                 4587.434764  191.143115  555.106675   \n",
       "Powershell Modules                      5558.648627  118.269120  562.252652   \n",
       "Vocab                                   7362.061005  118.742919  643.112409   \n",
       "Azure Developer Associate               7926.052009  123.844563  805.460850   \n",
       "PnP Powershell                          7986.302483  215.846013  600.801901   \n",
       "JavaScript Concepts                     8511.971694  135.110662  644.851196   \n",
       "\n",
       "                                        head_count  \n",
       "Azure AD Authentication                         13  \n",
       "Home Network Project                             3  \n",
       "Azure DevOps Pipelines                          26  \n",
       "RAG Project                                     24  \n",
       "Email Auth and Security                         12  \n",
       "SharePoint                                      11  \n",
       "WSL + Kali Linux                                14  \n",
       "Audit Report Tracker (Sharepoint List)          13  \n",
       "IW Migration                                    14  \n",
       "Todd Ideas                                      15  \n",
       "Open Source/GitHub                              16  \n",
       "Debugging in VS Code                            20  \n",
       "Azure Functions + Visual Studio                 14  \n",
       "Terraform                                       25  \n",
       "Python                                          47  \n",
       "Azure Functions + PP365                         22  \n",
       "Logging in Python                               37  \n",
       "FSLogix                                         24  \n",
       "Powershell Modules                              47  \n",
       "Vocab                                           62  \n",
       "Azure Developer Associate                       64  \n",
       "PnP Powershell                                  37  \n",
       "JavaScript Concepts                             63  "
      ]
     },
     "execution_count": 147,
     "metadata": {},
     "output_type": "execute_result"
    }
   ],
   "source": [
    "stats = existing_cards.groupby('head').agg({'age': ['sum', 'mean', 'max'], 'head': 'count'}).sort_values(('age', 'sum'))\n",
    "stats.columns = stats.columns.to_flat_index()\n",
    "stats.columns = ['_'.join(col).strip() for col in stats.columns]\n",
    "stats.index.name = None\n",
    "stats"
   ]
  },
  {
   "cell_type": "markdown",
   "metadata": {},
   "source": [
    "# Histogram"
   ]
  },
  {
   "cell_type": "code",
   "execution_count": 148,
   "metadata": {},
   "outputs": [
    {
     "name": "stdout",
     "output_type": "stream",
     "text": [
      "sum of ages: ~ 79925.61\n"
     ]
    },
    {
     "data": {
      "text/plain": [
       "<Axes: >"
      ]
     },
     "execution_count": 148,
     "metadata": {},
     "output_type": "execute_result"
    },
    {
     "data": {
      "image/png": "[encoded data removed]",
      "text/plain": [
       "<Figure size 640x480 with 1 Axes>"
      ]
     },
     "metadata": {},
     "output_type": "display_data"
    }
   ],
   "source": [
    "print(f\"sum of ages: ~ {existing_cards['age'].sum(0):.2f}\")\n",
    "existing_cards['age'].hist(bins=20)"
   ]
  },
  {
   "cell_type": "markdown",
   "metadata": {},
   "source": [
    "# Completely Random Shuffle"
   ]
  },
  {
   "cell_type": "code",
   "execution_count": 149,
   "metadata": {},
   "outputs": [],
   "source": [
    "# existing_cards = existing_cards.sample(frac=1)\n",
    "# remake_card_document(filename='certcards2.txt', existing_cards = existing_cards)"
   ]
  },
  {
   "cell_type": "markdown",
   "metadata": {},
   "source": [
    "# Age Sort"
   ]
  },
  {
   "cell_type": "code",
   "execution_count": 150,
   "metadata": {},
   "outputs": [],
   "source": [
    "# existing_cards = existing_cards.sort_values('age', ascending=False)\n",
    "# remake_card_document(filename='certcards2.txt', existing_cards=existing_cards)\n",
    "# existing_cards.head(10)"
   ]
  },
  {
   "cell_type": "markdown",
   "metadata": {},
   "source": [
    "# Headers with fewest notes first"
   ]
  },
  {
   "cell_type": "code",
   "execution_count": 151,
   "metadata": {},
   "outputs": [],
   "source": [
    "# frequency = existing_cards['head'].value_counts(ascending=True)\n",
    "\n",
    "# existing_cards = pd.merge(\n",
    "#     left=existing_cards,\n",
    "#     right=frequency.rename('frequency'),\n",
    "#     left_on='head', right_index=True,\n",
    "#     how='left'\n",
    "# )\n",
    "# existing_cards['oldest'] = existing_cards.groupby('head')['age'].transform('max')\n",
    "# existing_cards['subject_highest_age'] = existing_cards['subject_highest_age'] * -1\n",
    "# existing_cards['age'] = existing_cards['age'] * -1\n",
    "\n",
    "\n",
    "# existing_cards.sort_values(['frequency', 'subject_highest_age', 'age'], ascending=True, inplace=True)\n",
    "\n",
    "# remake_card_document(filename='certcards2.txt', existing_cards=existing_cards)\n",
    "\n",
    "# existing_cards.head(10)"
   ]
  },
  {
   "cell_type": "markdown",
   "metadata": {},
   "source": [
    "# Focus on one header"
   ]
  },
  {
   "cell_type": "code",
   "execution_count": 152,
   "metadata": {},
   "outputs": [],
   "source": [
    "# heads = existing_cards['head'].value_counts()\n",
    "# heads = heads[heads > 5].index.tolist()\n",
    "# one_header = random.sample(heads, 1)[0]\n",
    "# existing_cards['pick_head'] = existing_cards['head'].apply(\n",
    "#     lambda h: 0 if h == one_header else 1 \n",
    "# )\n",
    "\n",
    "# remake_card_document(existing_cards=existing_cards.sort_values('pick_head'))"
   ]
  },
  {
   "cell_type": "markdown",
   "metadata": {},
   "source": [
    "## Header with oldest cards first"
   ]
  },
  {
   "cell_type": "code",
   "execution_count": 153,
   "metadata": {},
   "outputs": [],
   "source": [
    "# existing_cards['oldest'] = existing_cards.groupby('head')['age'].transform('max')\n",
    "# existing_cards.sort_values(['oldest', 'age'], ascending=False, inplace=True)\n",
    "# remake_card_document(existing_cards)"
   ]
  },
  {
   "cell_type": "markdown",
   "metadata": {},
   "source": [
    "## Headers with greatest mean card age first"
   ]
  },
  {
   "cell_type": "code",
   "execution_count": 154,
   "metadata": {},
   "outputs": [],
   "source": [
    "# existing_cards.sort_values(['subject_mean_age', 'age'], ascending=False, inplace=True)\n",
    "# remake_card_document(existing_cards)"
   ]
  },
  {
   "cell_type": "markdown",
   "metadata": {},
   "source": [
    "## Headers with greatest age sum first"
   ]
  },
  {
   "cell_type": "code",
   "execution_count": 155,
   "metadata": {},
   "outputs": [],
   "source": [
    "# existing_cards.sort_values(['subject_age_sum', 'age'], ascending=False, inplace=True)\n",
    "# remake_card_document(existing_cards)"
   ]
  },
  {
   "cell_type": "markdown",
   "metadata": {},
   "source": [
    "# N-fold shuffle\n"
   ]
  },
  {
   "cell_type": "markdown",
   "metadata": {},
   "source": [
    "## Age Sum"
   ]
  },
  {
   "cell_type": "code",
   "execution_count": 156,
   "metadata": {},
   "outputs": [
    {
     "name": "stdout",
     "output_type": "stream",
     "text": [
      "Cards found: 623\n",
      "Total card age: 79925.61\n"
     ]
    },
    {
     "data": {
      "text/html": [
       "<div>\n",
       "<style scoped>\n",
       "    .dataframe tbody tr th:only-of-type {\n",
       "        vertical-align: middle;\n",
       "    }\n",
       "\n",
       "    .dataframe tbody tr th {\n",
       "        vertical-align: top;\n",
       "    }\n",
       "\n",
       "    .dataframe thead th {\n",
       "        text-align: right;\n",
       "    }\n",
       "</style>\n",
       "<table border=\"1\" class=\"dataframe\">\n",
       "  <thead>\n",
       "    <tr style=\"text-align: right;\">\n",
       "      <th></th>\n",
       "      <th>head</th>\n",
       "      <th>body</th>\n",
       "      <th>hash</th>\n",
       "      <th>age</th>\n",
       "      <th>subject_mean_age</th>\n",
       "      <th>subject_highest_age</th>\n",
       "      <th>subject_age_sum</th>\n",
       "      <th>head_random_roll</th>\n",
       "      <th>count</th>\n",
       "      <th>n_fold</th>\n",
       "    </tr>\n",
       "  </thead>\n",
       "  <tbody>\n",
       "    <tr>\n",
       "      <th>161</th>\n",
       "      <td>JavaScript Concepts</td>\n",
       "      <td>Vuex: A state management pattern and library f...</td>\n",
       "      <td>e338786606e82e2e0c1fdc669b4ae994</td>\n",
       "      <td>-644.851196</td>\n",
       "      <td>135.110662</td>\n",
       "      <td>644.851196</td>\n",
       "      <td>-8511.971694</td>\n",
       "      <td>0.886904</td>\n",
       "      <td>0</td>\n",
       "      <td>0</td>\n",
       "    </tr>\n",
       "    <tr>\n",
       "      <th>162</th>\n",
       "      <td>JavaScript Concepts</td>\n",
       "      <td>Vite: A modern build tool optimized for speed ...</td>\n",
       "      <td>4483b5834e528fefabe269abfd288787</td>\n",
       "      <td>-384.625076</td>\n",
       "      <td>135.110662</td>\n",
       "      <td>644.851196</td>\n",
       "      <td>-8511.971694</td>\n",
       "      <td>0.886904</td>\n",
       "      <td>3</td>\n",
       "      <td>0</td>\n",
       "    </tr>\n",
       "    <tr>\n",
       "      <th>163</th>\n",
       "      <td>JavaScript Concepts</td>\n",
       "      <td>Browser Storage (localStorage, sessionStorage,...</td>\n",
       "      <td>921f70334cff24bf149338ce9b57572d</td>\n",
       "      <td>-330.239765</td>\n",
       "      <td>135.110662</td>\n",
       "      <td>644.851196</td>\n",
       "      <td>-8511.971694</td>\n",
       "      <td>0.886904</td>\n",
       "      <td>6</td>\n",
       "      <td>0</td>\n",
       "    </tr>\n",
       "    <tr>\n",
       "      <th>164</th>\n",
       "      <td>JavaScript Concepts</td>\n",
       "      <td>Event Handling: Responding to user interaction...</td>\n",
       "      <td>a0e979e05318850ce1556e118b85003f</td>\n",
       "      <td>-242.133303</td>\n",
       "      <td>135.110662</td>\n",
       "      <td>644.851196</td>\n",
       "      <td>-8511.971694</td>\n",
       "      <td>0.886904</td>\n",
       "      <td>9</td>\n",
       "      <td>0</td>\n",
       "    </tr>\n",
       "    <tr>\n",
       "      <th>165</th>\n",
       "      <td>JavaScript Concepts</td>\n",
       "      <td>ESLint: A linter tool for identifying and fixi...</td>\n",
       "      <td>5e5bab3b2dcb85f9f652835a333824b0</td>\n",
       "      <td>-215.097200</td>\n",
       "      <td>135.110662</td>\n",
       "      <td>644.851196</td>\n",
       "      <td>-8511.971694</td>\n",
       "      <td>0.886904</td>\n",
       "      <td>12</td>\n",
       "      <td>0</td>\n",
       "    </tr>\n",
       "    <tr>\n",
       "      <th>166</th>\n",
       "      <td>JavaScript Concepts</td>\n",
       "      <td>Variable Declaration: Use let and const for va...</td>\n",
       "      <td>56491d17a18063d1e3f4b786f9941b7e</td>\n",
       "      <td>-170.891234</td>\n",
       "      <td>135.110662</td>\n",
       "      <td>644.851196</td>\n",
       "      <td>-8511.971694</td>\n",
       "      <td>0.886904</td>\n",
       "      <td>15</td>\n",
       "      <td>0</td>\n",
       "    </tr>\n",
       "    <tr>\n",
       "      <th>167</th>\n",
       "      <td>JavaScript Concepts</td>\n",
       "      <td>Bitbucket: A Git-based source code repository ...</td>\n",
       "      <td>57658bbf5ab3d6174813bb70baaa14f6</td>\n",
       "      <td>-153.550808</td>\n",
       "      <td>135.110662</td>\n",
       "      <td>644.851196</td>\n",
       "      <td>-8511.971694</td>\n",
       "      <td>0.886904</td>\n",
       "      <td>18</td>\n",
       "      <td>0</td>\n",
       "    </tr>\n",
       "    <tr>\n",
       "      <th>168</th>\n",
       "      <td>JavaScript Concepts</td>\n",
       "      <td>Mocha: A flexible testing framework for Node.j...</td>\n",
       "      <td>d8c432690308e291d5f457b23191b24c</td>\n",
       "      <td>-140.151800</td>\n",
       "      <td>135.110662</td>\n",
       "      <td>644.851196</td>\n",
       "      <td>-8511.971694</td>\n",
       "      <td>0.886904</td>\n",
       "      <td>21</td>\n",
       "      <td>0</td>\n",
       "    </tr>\n",
       "    <tr>\n",
       "      <th>169</th>\n",
       "      <td>JavaScript Concepts</td>\n",
       "      <td>Event Loop: The mechanism that handles asynchr...</td>\n",
       "      <td>cb989864bb9b920eb1db61a0391248e2</td>\n",
       "      <td>-121.316629</td>\n",
       "      <td>135.110662</td>\n",
       "      <td>644.851196</td>\n",
       "      <td>-8511.971694</td>\n",
       "      <td>0.886904</td>\n",
       "      <td>24</td>\n",
       "      <td>0</td>\n",
       "    </tr>\n",
       "    <tr>\n",
       "      <th>170</th>\n",
       "      <td>JavaScript Concepts</td>\n",
       "      <td>Single-Page Application (SPA): A web applicati...</td>\n",
       "      <td>a44b9857d13e32140d5324ea393be65d</td>\n",
       "      <td>-106.798676</td>\n",
       "      <td>135.110662</td>\n",
       "      <td>644.851196</td>\n",
       "      <td>-8511.971694</td>\n",
       "      <td>0.886904</td>\n",
       "      <td>27</td>\n",
       "      <td>0</td>\n",
       "    </tr>\n",
       "  </tbody>\n",
       "</table>\n",
       "</div>"
      ],
      "text/plain": [
       "                    head                                               body  \\\n",
       "161  JavaScript Concepts  Vuex: A state management pattern and library f...   \n",
       "162  JavaScript Concepts  Vite: A modern build tool optimized for speed ...   \n",
       "163  JavaScript Concepts  Browser Storage (localStorage, sessionStorage,...   \n",
       "164  JavaScript Concepts  Event Handling: Responding to user interaction...   \n",
       "165  JavaScript Concepts  ESLint: A linter tool for identifying and fixi...   \n",
       "166  JavaScript Concepts  Variable Declaration: Use let and const for va...   \n",
       "167  JavaScript Concepts  Bitbucket: A Git-based source code repository ...   \n",
       "168  JavaScript Concepts  Mocha: A flexible testing framework for Node.j...   \n",
       "169  JavaScript Concepts  Event Loop: The mechanism that handles asynchr...   \n",
       "170  JavaScript Concepts  Single-Page Application (SPA): A web applicati...   \n",
       "\n",
       "                                 hash         age  subject_mean_age  \\\n",
       "161  e338786606e82e2e0c1fdc669b4ae994 -644.851196        135.110662   \n",
       "162  4483b5834e528fefabe269abfd288787 -384.625076        135.110662   \n",
       "163  921f70334cff24bf149338ce9b57572d -330.239765        135.110662   \n",
       "164  a0e979e05318850ce1556e118b85003f -242.133303        135.110662   \n",
       "165  5e5bab3b2dcb85f9f652835a333824b0 -215.097200        135.110662   \n",
       "166  56491d17a18063d1e3f4b786f9941b7e -170.891234        135.110662   \n",
       "167  57658bbf5ab3d6174813bb70baaa14f6 -153.550808        135.110662   \n",
       "168  d8c432690308e291d5f457b23191b24c -140.151800        135.110662   \n",
       "169  cb989864bb9b920eb1db61a0391248e2 -121.316629        135.110662   \n",
       "170  a44b9857d13e32140d5324ea393be65d -106.798676        135.110662   \n",
       "\n",
       "     subject_highest_age  subject_age_sum  head_random_roll  count  n_fold  \n",
       "161           644.851196     -8511.971694          0.886904      0       0  \n",
       "162           644.851196     -8511.971694          0.886904      3       0  \n",
       "163           644.851196     -8511.971694          0.886904      6       0  \n",
       "164           644.851196     -8511.971694          0.886904      9       0  \n",
       "165           644.851196     -8511.971694          0.886904     12       0  \n",
       "166           644.851196     -8511.971694          0.886904     15       0  \n",
       "167           644.851196     -8511.971694          0.886904     18       0  \n",
       "168           644.851196     -8511.971694          0.886904     21       0  \n",
       "169           644.851196     -8511.971694          0.886904     24       0  \n",
       "170           644.851196     -8511.971694          0.886904     27       0  "
      ]
     },
     "execution_count": 156,
     "metadata": {},
     "output_type": "execute_result"
    }
   ],
   "source": [
    "n=3\n",
    "existing_cards['count'] = existing_cards.sort_values('age', ascending=False).groupby('head').cumcount()\n",
    "existing_cards['n_fold'] = existing_cards['count'] % n\n",
    "\n",
    "existing_cards['subject_age_sum'] = existing_cards['subject_age_sum'] *-1\n",
    "existing_cards['age'] = existing_cards['age'] *-1\n",
    "existing_cards.sort_values(['n_fold', 'subject_age_sum', 'age'], inplace=True)\n",
    "\n",
    "remake_card_document(existing_cards=existing_cards)\n",
    "existing_cards.head(10)\n"
   ]
  },
  {
   "cell_type": "markdown",
   "metadata": {},
   "source": [
    "## Age Mean"
   ]
  },
  {
   "cell_type": "code",
   "execution_count": 157,
   "metadata": {},
   "outputs": [],
   "source": [
    "# n=3\n",
    "# existing_cards['count'] = existing_cards.sort_values('age', ascending=False).groupby('head').cumcount()\n",
    "# existing_cards['n_fold'] = existing_cards['count'] % n\n",
    "\n",
    "# existing_cards['subject_mean_age'] = existing_cards['subject_mean_age'] *-1\n",
    "# existing_cards['age'] = existing_cards['age'] *-1\n",
    "# existing_cards.sort_values(['n_fold', 'subject_mean_age', 'age'], inplace=True)\n",
    "# remake_card_document(existing_cards=existing_cards)\n",
    "\n",
    "# existing_cards.head(10)\n",
    "\n"
   ]
  },
  {
   "cell_type": "markdown",
   "metadata": {},
   "source": [
    "## Age Max"
   ]
  },
  {
   "cell_type": "code",
   "execution_count": 158,
   "metadata": {},
   "outputs": [],
   "source": [
    "# n = 1\n",
    "# existing_cards['count'] = existing_cards.sort_values('age', ascending=False).groupby('head').cumcount()\n",
    "# existing_cards['n_fold'] = existing_cards['count'] // n\n",
    "\n",
    "# if existing_cards['age'].sum() > 0:\n",
    "#     existing_cards['subject_highest_age'] = existing_cards['subject_highest_age'] *-1\n",
    "#     existing_cards['age'] = existing_cards['age'] *-1\n",
    "# existing_cards.sort_values(['n_fold', 'subject_highest_age', 'age'], inplace=True)\n",
    "\n",
    "# remake_card_document(existing_cards=existing_cards)\n",
    "# existing_cards.head(10)\n"
   ]
  },
  {
   "cell_type": "markdown",
   "metadata": {},
   "source": [
    "## Card Count"
   ]
  },
  {
   "cell_type": "code",
   "execution_count": 159,
   "metadata": {},
   "outputs": [],
   "source": [
    "# n=10\n",
    "# existing_cards['frequency']  = existing_cards.groupby('head').transform('count')['body']\n",
    "# existing_cards['count'] = existing_cards.sort_values('age', ascending=False).groupby('head').cumcount()\n",
    "# existing_cards['n_fold'] = existing_cards['count'] // n\n",
    "\n",
    "# if existing_cards['age'].sum() > 0:\n",
    "#     # existing_cards['neg_subject_highest_age'] = existing_cards['subject_highest_age'] *-1\n",
    "#     existing_cards['neg_age'] = existing_cards['age'] *-1\n",
    "# existing_cards.sort_values(['n_fold', 'frequency', 'neg_age'], inplace=True)\n",
    "# remake_card_document(existing_cards=existing_cards)\n",
    "\n",
    "# existing_cards.head(10)\n",
    "\n"
   ]
  },
  {
   "cell_type": "markdown",
   "metadata": {},
   "source": [
    "\n",
    "## Random"
   ]
  },
  {
   "cell_type": "code",
   "execution_count": 160,
   "metadata": {},
   "outputs": [],
   "source": [
    "# n = 3\n",
    "# existing_cards['count'] = existing_cards.sort_values('age', ascending=False).groupby('head').cumcount()\n",
    "# existing_cards['n_fold'] = existing_cards['count'] % n\n",
    "# existing_cards['age'] *= -1\n",
    "# existing_cards.sort_values(['n_fold', 'head_random_roll', 'age'], inplace=True)\n",
    "# remake_card_document(existing_cards=existing_cards)\n",
    "# existing_cards.head(10)"
   ]
  },
  {
   "cell_type": "code",
   "execution_count": 161,
   "metadata": {},
   "outputs": [
    {
     "data": {
      "text/plain": [
       "head                   JavaScript ConceptsJavaScript ConceptsJavaScri...\n",
       "body                   Vuex: A state management pattern and library f...\n",
       "hash                   e338786606e82e2e0c1fdc669b4ae9944483b5834e528f...\n",
       "age                                                         -2509.655687\n",
       "subject_mean_age                                             1351.106618\n",
       "subject_highest_age                                          6448.511964\n",
       "subject_age_sum                                            -85119.716938\n",
       "head_random_roll                                                 8.86904\n",
       "count                                                                135\n",
       "n_fold                                                                 0\n",
       "dtype: object"
      ]
     },
     "execution_count": 161,
     "metadata": {},
     "output_type": "execute_result"
    }
   ],
   "source": [
    "existing_cards.head(10).sum()"
   ]
  },
  {
   "cell_type": "code",
   "execution_count": 162,
   "metadata": {},
   "outputs": [
    {
     "data": {
      "text/plain": [
       "-128.2915032807924"
      ]
     },
     "execution_count": 162,
     "metadata": {},
     "output_type": "execute_result"
    }
   ],
   "source": [
    "existing_cards['age'].mean()"
   ]
  }
 ],
 "metadata": {
  "kernelspec": {
   "display_name": "Python 3",
   "language": "python",
   "name": "python3"
  },
  "language_info": {
   "codemirror_mode": {
    "name": "ipython",
    "version": 3
   },
   "file_extension": ".py",
   "mimetype": "text/x-python",
   "name": "python",
   "nbconvert_exporter": "python",
   "pygments_lexer": "ipython3",
   "version": "3.11.9"
  }
 },
 "nbformat": 4,
 "nbformat_minor": 2
}
