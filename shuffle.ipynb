{
 "cells": [
  {
   "cell_type": "code",
   "execution_count": 147,
   "metadata": {},
   "outputs": [],
   "source": [
    "import re\n",
    "import random\n",
    "import pandas as pd\n",
    "import hashlib"
   ]
  },
  {
   "cell_type": "code",
   "execution_count": 148,
   "metadata": {},
   "outputs": [],
   "source": [
    "with open('certcards2.txt', mode='r', encoding='utf8') as f:\n",
    "    all_cards = f.read()\n",
    "    \n",
    "card_split_pattern = r'\\n\\n\\n\\d+\\n'\n",
    "all_cards = re.split(card_split_pattern, all_cards)\n",
    "# Use re.DOTALL to allow . to match newline characters\n",
    "card_pattern = re.compile(r'(.+?)\\n([\\s\\S]+)', re.DOTALL)\n",
    "cards = [(match.group(1), match.group(2)) for cstring in all_cards if (match := re.search(card_pattern, cstring))]\n",
    "\n",
    "# removing the cards that have no content and trimming\n",
    "cards = [(subject, stripped_content) for subject, content in cards if len(stripped_content := content.strip()) > 5]\n",
    "\n",
    "def hash_string_md5(s):\n",
    "    \"\"\"\n",
    "    Hashes a string using MD5 and returns a truncated hash for efficiency.\n",
    "\n",
    "    Parameters:\n",
    "    - s (str): The input string to hash.\n",
    "\n",
    "    Returns:\n",
    "    - str: The truncated hexadecimal hash string.\n",
    "    \"\"\"\n",
    "    if pd.isnull(s):\n",
    "        return None  # Handle NaN values gracefully\n",
    "    return hashlib.md5(s.encode('utf-8')).hexdigest()  # Truncate to first 12 characters\n",
    "\n",
    "\n",
    "def remake_card_document(existing_cards: pd.DataFrame, filename: str='certcards2.txt'):\n",
    "    with open(filename, mode='w', encoding='utf8') as f:\n",
    "        i = 1\n",
    "        for _, row in existing_cards.iterrows():\n",
    "            f.write('\\n'*6)\n",
    "            f.write(str(i)+'\\n')  \n",
    "            f.write(row['head']+'\\n')\n",
    "            f.write(row['body'])\n",
    "            i+=1\n",
    "    print(F\"Cards found: {existing_cards.shape[0]}\")\n",
    "\n",
    "\n",
    "existing_cards = pd.DataFrame(cards, columns=['head', 'body'])\n",
    "\n",
    "\n",
    "# existing_cards['age'] = [random.random() for _ in existing_cards.index]\n",
    "existing_cards['hash'] = existing_cards['body'].apply(hash_string_md5)\n",
    "existing_cards\n",
    "\n",
    "card_ages = pd.read_json('card_ages.json')\n",
    "card_ages = card_ages.drop_duplicates(subset=['hash'], keep='first')\n",
    "\n",
    "cards_to_age = pd.merge(\n",
    "    left=existing_cards,\n",
    "    right=card_ages[['hash', 'age']],\n",
    "    left_on='hash', right_on='hash',\n",
    "    how='left'\n",
    ")\n",
    "\n",
    "cards_to_age['head'] = cards_to_age['head'].str.strip()\n",
    "\n",
    "if cards_to_age['age'].sum() > 2e4: age_factor = 1\n",
    "else: age_factor = 1.00\n",
    "\n",
    "cards_to_age['age'] = cards_to_age['age'].fillna(0)\n",
    "cards_to_age['age'] = cards_to_age['age'] * age_factor\n",
    "cards_to_age['age'] = cards_to_age['age'] + [random.expovariate(.60) for _ in cards_to_age.index]\n",
    "# cards_to_age['age'] = cards_to_age['age'] * [random.expovariate(.5) for _ in cards_to_age.index]\n",
    "\n",
    "\n",
    "cards_to_age = cards_to_age.drop_duplicates(subset=['hash'], keep='first')\n",
    "\n",
    "cards_to_age['subject_mean_age'] = cards_to_age.groupby('head')['age'].transform('mean')\n",
    "cards_to_age['subject_highest_age'] = cards_to_age.groupby('head')['age'].transform('max')\n",
    "cards_to_age['subject_age_sum'] = cards_to_age.groupby('head')['age'].transform('sum')\n",
    "cards_to_age['head_random_roll'] = cards_to_age.groupby('head')['head'].transform(lambda x: random.random())\n",
    "\n",
    "\n",
    "cards_to_age.sort_values('hash')[['age', 'head', 'hash']].to_json('card_ages.json', indent=2)\n",
    "\n",
    "existing_cards = cards_to_age"
   ]
  },
  {
   "cell_type": "code",
   "execution_count": 149,
   "metadata": {},
   "outputs": [
    {
     "data": {
      "application/vnd.microsoft.datawrangler.viewer.v0+json": {
       "columns": [
        {
         "name": "index",
         "rawType": "object",
         "type": "string"
        },
        {
         "name": "age_sum",
         "rawType": "float64",
         "type": "float"
        },
        {
         "name": "age_mean",
         "rawType": "float64",
         "type": "float"
        },
        {
         "name": "age_max",
         "rawType": "float64",
         "type": "float"
        },
        {
         "name": "head_count",
         "rawType": "int64",
         "type": "integer"
        }
       ],
       "conversionMethod": "pd.DataFrame",
       "ref": "c21c6163-b2db-4cc6-9f23-1ec5add2acae",
       "rows": [
        [
         "PEP 8",
         "255.9007168930505",
         "85.30023896435016",
         "106.90752793212035",
         "3"
        ],
        [
         "Python",
         "413.9500717242934",
         "8.807448334559435",
         "16.904850063511066",
         "47"
        ],
        [
         "Todd Ideas",
         "963.0657318409147",
         "64.20438212272765",
         "154.1578786938182",
         "15"
        ],
        [
         "SharePoint",
         "1674.1465958841072",
         "139.5122163236756",
         "578.6391414362876",
         "12"
        ],
        [
         "Audit Report Tracker (Sharepoint List)",
         "1808.0488406387067",
         "139.08068004913127",
         "366.7270419218308",
         "13"
        ],
        [
         "Debugging in VS Code",
         "1963.5783111571202",
         "98.17891555785602",
         "261.0522771737035",
         "20"
        ],
        [
         "Azure Functions + Visual Studio",
         "1964.460635419994",
         "140.31861681571385",
         "481.9862962795801",
         "14"
        ],
        [
         "Terraform",
         "2087.9760513508127",
         "83.51904205403251",
         "252.57534462789593",
         "25"
        ],
        [
         "IW Migration",
         "2145.1862447708336",
         "153.2275889122024",
         "466.49978034635905",
         "14"
        ],
        [
         "Open Source/GitHub",
         "2305.0585536245208",
         "144.06615960153255",
         "369.33279806195543",
         "16"
        ],
        [
         "Email Auth and Security",
         "2352.867210126732",
         "180.989785394364",
         "897.3478829589826",
         "13"
        ],
        [
         "FSLogix",
         "2426.1425374244577",
         "101.08927239268574",
         "263.9370683091805",
         "24"
        ],
        [
         "Azure Functions",
         "2897.896564557195",
         "263.4451422324723",
         "740.8859623732808",
         "11"
        ],
        [
         "DNS",
         "3139.0468032958547",
         "196.19042520599092",
         "397.91545760448383",
         "16"
        ],
        [
         "OData",
         "3172.553067169321",
         "317.25530671693207",
         "869.9559963817288",
         "10"
        ],
        [
         "WSL + Kali Linux",
         "3324.873259220817",
         "174.99332943267459",
         "411.53347331878297",
         "19"
        ],
        [
         "Azure AI Search",
         "3779.039467912224",
         "269.9313905651589",
         "722.6328322175684",
         "14"
        ],
        [
         "Powershell Modules",
         "4778.848989081237",
         "159.2949663027079",
         "680.5926006454494",
         "30"
        ],
        [
         "Azure Functions + PP365",
         "5228.865754921529",
         "209.15463019686115",
         "1056.1019194344478",
         "25"
        ],
        [
         "Home Network Project",
         "5542.373112056019",
         "291.70384800294835",
         "1198.9062448650388",
         "19"
        ],
        [
         "Vocab",
         "6621.26096125305",
         "100.32213577656135",
         "859.3824930020762",
         "66"
        ],
        [
         "PnP Powershell",
         "6692.415525352559",
         "176.11619803559364",
         "653.8494681654374",
         "38"
        ],
        [
         "JavaScript Concepts",
         "7118.349797351495",
         "116.69425897297533",
         "431.6824125436951",
         "61"
        ],
        [
         "Logging in Python",
         "8726.804848345311",
         "145.44674747242186",
         "1032.039073429598",
         "60"
        ]
       ],
       "shape": {
        "columns": 4,
        "rows": 24
       }
      },
      "text/html": [
       "<div>\n",
       "<style scoped>\n",
       "    .dataframe tbody tr th:only-of-type {\n",
       "        vertical-align: middle;\n",
       "    }\n",
       "\n",
       "    .dataframe tbody tr th {\n",
       "        vertical-align: top;\n",
       "    }\n",
       "\n",
       "    .dataframe thead th {\n",
       "        text-align: right;\n",
       "    }\n",
       "</style>\n",
       "<table border=\"1\" class=\"dataframe\">\n",
       "  <thead>\n",
       "    <tr style=\"text-align: right;\">\n",
       "      <th></th>\n",
       "      <th>age_sum</th>\n",
       "      <th>age_mean</th>\n",
       "      <th>age_max</th>\n",
       "      <th>head_count</th>\n",
       "    </tr>\n",
       "  </thead>\n",
       "  <tbody>\n",
       "    <tr>\n",
       "      <th>PEP 8</th>\n",
       "      <td>255.900717</td>\n",
       "      <td>85.300239</td>\n",
       "      <td>106.907528</td>\n",
       "      <td>3</td>\n",
       "    </tr>\n",
       "    <tr>\n",
       "      <th>Python</th>\n",
       "      <td>413.950072</td>\n",
       "      <td>8.807448</td>\n",
       "      <td>16.904850</td>\n",
       "      <td>47</td>\n",
       "    </tr>\n",
       "    <tr>\n",
       "      <th>Todd Ideas</th>\n",
       "      <td>963.065732</td>\n",
       "      <td>64.204382</td>\n",
       "      <td>154.157879</td>\n",
       "      <td>15</td>\n",
       "    </tr>\n",
       "    <tr>\n",
       "      <th>SharePoint</th>\n",
       "      <td>1674.146596</td>\n",
       "      <td>139.512216</td>\n",
       "      <td>578.639141</td>\n",
       "      <td>12</td>\n",
       "    </tr>\n",
       "    <tr>\n",
       "      <th>Audit Report Tracker (Sharepoint List)</th>\n",
       "      <td>1808.048841</td>\n",
       "      <td>139.080680</td>\n",
       "      <td>366.727042</td>\n",
       "      <td>13</td>\n",
       "    </tr>\n",
       "    <tr>\n",
       "      <th>Debugging in VS Code</th>\n",
       "      <td>1963.578311</td>\n",
       "      <td>98.178916</td>\n",
       "      <td>261.052277</td>\n",
       "      <td>20</td>\n",
       "    </tr>\n",
       "    <tr>\n",
       "      <th>Azure Functions + Visual Studio</th>\n",
       "      <td>1964.460635</td>\n",
       "      <td>140.318617</td>\n",
       "      <td>481.986296</td>\n",
       "      <td>14</td>\n",
       "    </tr>\n",
       "    <tr>\n",
       "      <th>Terraform</th>\n",
       "      <td>2087.976051</td>\n",
       "      <td>83.519042</td>\n",
       "      <td>252.575345</td>\n",
       "      <td>25</td>\n",
       "    </tr>\n",
       "    <tr>\n",
       "      <th>IW Migration</th>\n",
       "      <td>2145.186245</td>\n",
       "      <td>153.227589</td>\n",
       "      <td>466.499780</td>\n",
       "      <td>14</td>\n",
       "    </tr>\n",
       "    <tr>\n",
       "      <th>Open Source/GitHub</th>\n",
       "      <td>2305.058554</td>\n",
       "      <td>144.066160</td>\n",
       "      <td>369.332798</td>\n",
       "      <td>16</td>\n",
       "    </tr>\n",
       "    <tr>\n",
       "      <th>Email Auth and Security</th>\n",
       "      <td>2352.867210</td>\n",
       "      <td>180.989785</td>\n",
       "      <td>897.347883</td>\n",
       "      <td>13</td>\n",
       "    </tr>\n",
       "    <tr>\n",
       "      <th>FSLogix</th>\n",
       "      <td>2426.142537</td>\n",
       "      <td>101.089272</td>\n",
       "      <td>263.937068</td>\n",
       "      <td>24</td>\n",
       "    </tr>\n",
       "    <tr>\n",
       "      <th>Azure Functions</th>\n",
       "      <td>2897.896565</td>\n",
       "      <td>263.445142</td>\n",
       "      <td>740.885962</td>\n",
       "      <td>11</td>\n",
       "    </tr>\n",
       "    <tr>\n",
       "      <th>DNS</th>\n",
       "      <td>3139.046803</td>\n",
       "      <td>196.190425</td>\n",
       "      <td>397.915458</td>\n",
       "      <td>16</td>\n",
       "    </tr>\n",
       "    <tr>\n",
       "      <th>OData</th>\n",
       "      <td>3172.553067</td>\n",
       "      <td>317.255307</td>\n",
       "      <td>869.955996</td>\n",
       "      <td>10</td>\n",
       "    </tr>\n",
       "    <tr>\n",
       "      <th>WSL + Kali Linux</th>\n",
       "      <td>3324.873259</td>\n",
       "      <td>174.993329</td>\n",
       "      <td>411.533473</td>\n",
       "      <td>19</td>\n",
       "    </tr>\n",
       "    <tr>\n",
       "      <th>Azure AI Search</th>\n",
       "      <td>3779.039468</td>\n",
       "      <td>269.931391</td>\n",
       "      <td>722.632832</td>\n",
       "      <td>14</td>\n",
       "    </tr>\n",
       "    <tr>\n",
       "      <th>Powershell Modules</th>\n",
       "      <td>4778.848989</td>\n",
       "      <td>159.294966</td>\n",
       "      <td>680.592601</td>\n",
       "      <td>30</td>\n",
       "    </tr>\n",
       "    <tr>\n",
       "      <th>Azure Functions + PP365</th>\n",
       "      <td>5228.865755</td>\n",
       "      <td>209.154630</td>\n",
       "      <td>1056.101919</td>\n",
       "      <td>25</td>\n",
       "    </tr>\n",
       "    <tr>\n",
       "      <th>Home Network Project</th>\n",
       "      <td>5542.373112</td>\n",
       "      <td>291.703848</td>\n",
       "      <td>1198.906245</td>\n",
       "      <td>19</td>\n",
       "    </tr>\n",
       "    <tr>\n",
       "      <th>Vocab</th>\n",
       "      <td>6621.260961</td>\n",
       "      <td>100.322136</td>\n",
       "      <td>859.382493</td>\n",
       "      <td>66</td>\n",
       "    </tr>\n",
       "    <tr>\n",
       "      <th>PnP Powershell</th>\n",
       "      <td>6692.415525</td>\n",
       "      <td>176.116198</td>\n",
       "      <td>653.849468</td>\n",
       "      <td>38</td>\n",
       "    </tr>\n",
       "    <tr>\n",
       "      <th>JavaScript Concepts</th>\n",
       "      <td>7118.349797</td>\n",
       "      <td>116.694259</td>\n",
       "      <td>431.682413</td>\n",
       "      <td>61</td>\n",
       "    </tr>\n",
       "    <tr>\n",
       "      <th>Logging in Python</th>\n",
       "      <td>8726.804848</td>\n",
       "      <td>145.446747</td>\n",
       "      <td>1032.039073</td>\n",
       "      <td>60</td>\n",
       "    </tr>\n",
       "  </tbody>\n",
       "</table>\n",
       "</div>"
      ],
      "text/plain": [
       "                                            age_sum    age_mean      age_max  \\\n",
       "PEP 8                                    255.900717   85.300239   106.907528   \n",
       "Python                                   413.950072    8.807448    16.904850   \n",
       "Todd Ideas                               963.065732   64.204382   154.157879   \n",
       "SharePoint                              1674.146596  139.512216   578.639141   \n",
       "Audit Report Tracker (Sharepoint List)  1808.048841  139.080680   366.727042   \n",
       "Debugging in VS Code                    1963.578311   98.178916   261.052277   \n",
       "Azure Functions + Visual Studio         1964.460635  140.318617   481.986296   \n",
       "Terraform                               2087.976051   83.519042   252.575345   \n",
       "IW Migration                            2145.186245  153.227589   466.499780   \n",
       "Open Source/GitHub                      2305.058554  144.066160   369.332798   \n",
       "Email Auth and Security                 2352.867210  180.989785   897.347883   \n",
       "FSLogix                                 2426.142537  101.089272   263.937068   \n",
       "Azure Functions                         2897.896565  263.445142   740.885962   \n",
       "DNS                                     3139.046803  196.190425   397.915458   \n",
       "OData                                   3172.553067  317.255307   869.955996   \n",
       "WSL + Kali Linux                        3324.873259  174.993329   411.533473   \n",
       "Azure AI Search                         3779.039468  269.931391   722.632832   \n",
       "Powershell Modules                      4778.848989  159.294966   680.592601   \n",
       "Azure Functions + PP365                 5228.865755  209.154630  1056.101919   \n",
       "Home Network Project                    5542.373112  291.703848  1198.906245   \n",
       "Vocab                                   6621.260961  100.322136   859.382493   \n",
       "PnP Powershell                          6692.415525  176.116198   653.849468   \n",
       "JavaScript Concepts                     7118.349797  116.694259   431.682413   \n",
       "Logging in Python                       8726.804848  145.446747  1032.039073   \n",
       "\n",
       "                                        head_count  \n",
       "PEP 8                                            3  \n",
       "Python                                          47  \n",
       "Todd Ideas                                      15  \n",
       "SharePoint                                      12  \n",
       "Audit Report Tracker (Sharepoint List)          13  \n",
       "Debugging in VS Code                            20  \n",
       "Azure Functions + Visual Studio                 14  \n",
       "Terraform                                       25  \n",
       "IW Migration                                    14  \n",
       "Open Source/GitHub                              16  \n",
       "Email Auth and Security                         13  \n",
       "FSLogix                                         24  \n",
       "Azure Functions                                 11  \n",
       "DNS                                             16  \n",
       "OData                                           10  \n",
       "WSL + Kali Linux                                19  \n",
       "Azure AI Search                                 14  \n",
       "Powershell Modules                              30  \n",
       "Azure Functions + PP365                         25  \n",
       "Home Network Project                            19  \n",
       "Vocab                                           66  \n",
       "PnP Powershell                                  38  \n",
       "JavaScript Concepts                             61  \n",
       "Logging in Python                               60  "
      ]
     },
     "execution_count": 149,
     "metadata": {},
     "output_type": "execute_result"
    }
   ],
   "source": [
    "stats = existing_cards.groupby('head').agg({'age': ['sum', 'mean', 'max'], 'head': 'count'}).sort_values(('age', 'sum'))\n",
    "stats.columns = stats.columns.to_flat_index()\n",
    "stats.columns = ['_'.join(col).strip() for col in stats.columns]\n",
    "stats.index.name = None\n",
    "stats"
   ]
  },
  {
   "cell_type": "code",
   "execution_count": null,
   "metadata": {},
   "outputs": [],
   "source": []
  },
  {
   "cell_type": "markdown",
   "metadata": {},
   "source": [
    "# Histogram"
   ]
  },
  {
   "cell_type": "code",
   "execution_count": 150,
   "metadata": {},
   "outputs": [
    {
     "name": "stdout",
     "output_type": "stream",
     "text": [
      "81382.71\n"
     ]
    },
    {
     "data": {
      "text/plain": [
       "<Axes: >"
      ]
     },
     "execution_count": 150,
     "metadata": {},
     "output_type": "execute_result"
    },
    {
     "data": {
      "image/png": "[encoded data removed]",
      "text/plain": [
       "<Figure size 640x480 with 1 Axes>"
      ]
     },
     "metadata": {},
     "output_type": "display_data"
    }
   ],
   "source": [
    "print(f\"{existing_cards['age'].sum(0):.2f}\")\n",
    "existing_cards['age'].hist(bins=20)"
   ]
  },
  {
   "cell_type": "markdown",
   "metadata": {},
   "source": [
    "# Completely Random Shuffle"
   ]
  },
  {
   "cell_type": "code",
   "execution_count": 151,
   "metadata": {},
   "outputs": [],
   "source": [
    "# existing_cards = existing_cards.sample(frac=1)\n",
    "# remake_card_document(filename='certcards2.txt', existing_cards = existing_cards)"
   ]
  },
  {
   "cell_type": "markdown",
   "metadata": {},
   "source": [
    "# Age Sort"
   ]
  },
  {
   "cell_type": "code",
   "execution_count": 152,
   "metadata": {},
   "outputs": [],
   "source": [
    "# existing_cards = existing_cards.sort_values('age', ascending=False)\n",
    "# remake_card_document(filename='certcards2.txt', existing_cards=existing_cards)\n",
    "# existing_cards.head(10)"
   ]
  },
  {
   "cell_type": "markdown",
   "metadata": {},
   "source": [
    "# Headers with fewest notes first"
   ]
  },
  {
   "cell_type": "code",
   "execution_count": 153,
   "metadata": {},
   "outputs": [],
   "source": [
    "# frequency = existing_cards['head'].value_counts(ascending=True)\n",
    "\n",
    "# existing_cards = pd.merge(\n",
    "#     left=existing_cards,\n",
    "#     right=frequency.rename('frequency'),\n",
    "#     left_on='head', right_index=True,\n",
    "#     how='left'\n",
    "# )\n",
    "# existing_cards['oldest'] = existing_cards.groupby('head')['age'].transform('max')\n",
    "# existing_cards['subject_highest_age'] = existing_cards['subject_highest_age'] * -1\n",
    "# existing_cards['age'] = existing_cards['age'] * -1\n",
    "\n",
    "\n",
    "# existing_cards.sort_values(['frequency', 'subject_highest_age', 'age'], ascending=True, inplace=True)\n",
    "\n",
    "# remake_card_document(filename='certcards2.txt', existing_cards=existing_cards)\n",
    "\n",
    "# existing_cards.head(10)"
   ]
  },
  {
   "cell_type": "markdown",
   "metadata": {},
   "source": [
    "# Focus on one header"
   ]
  },
  {
   "cell_type": "code",
   "execution_count": 154,
   "metadata": {},
   "outputs": [],
   "source": [
    "# heads = existing_cards['head'].value_counts()\n",
    "# heads = heads[heads > 5].index.tolist()\n",
    "# one_header = random.sample(heads, 1)[0]\n",
    "# existing_cards['pick_head'] = existing_cards['head'].apply(\n",
    "#     lambda h: 0 if h == one_header else 1 \n",
    "# )\n",
    "\n",
    "# remake_card_document(existing_cards=existing_cards.sort_values('pick_head'))"
   ]
  },
  {
   "cell_type": "markdown",
   "metadata": {},
   "source": [
    "## Header with oldest cards first"
   ]
  },
  {
   "cell_type": "code",
   "execution_count": 155,
   "metadata": {},
   "outputs": [],
   "source": [
    "# existing_cards['oldest'] = existing_cards.groupby('head')['age'].transform('max')\n",
    "# existing_cards.sort_values(['oldest', 'age'], ascending=False, inplace=True)\n",
    "# remake_card_document(existing_cards)"
   ]
  },
  {
   "cell_type": "markdown",
   "metadata": {},
   "source": [
    "## Headers with greatest mean card age first"
   ]
  },
  {
   "cell_type": "code",
   "execution_count": 156,
   "metadata": {},
   "outputs": [],
   "source": [
    "# existing_cards.sort_values(['subject_mean_age', 'age'], ascending=False, inplace=True)\n",
    "# remake_card_document(existing_cards)"
   ]
  },
  {
   "cell_type": "markdown",
   "metadata": {},
   "source": [
    "## Headers with greatest age sum first"
   ]
  },
  {
   "cell_type": "code",
   "execution_count": 157,
   "metadata": {},
   "outputs": [],
   "source": [
    "# existing_cards.sort_values(['subject_age_sum', 'age'], ascending=False, inplace=True)\n",
    "# remake_card_document(existing_cards)"
   ]
  },
  {
   "cell_type": "markdown",
   "metadata": {},
   "source": [
    "# N-fold shuffle\n"
   ]
  },
  {
   "cell_type": "markdown",
   "metadata": {},
   "source": [
    "## Age Sum"
   ]
  },
  {
   "cell_type": "code",
   "execution_count": 158,
   "metadata": {},
   "outputs": [],
   "source": [
    "# n=10\n",
    "# existing_cards['count'] = existing_cards.sort_values('age', ascending=False).groupby('head').cumcount()\n",
    "# existing_cards['n_fold'] = existing_cards['count'] // n\n",
    "\n",
    "# existing_cards['subject_age_sum'] = existing_cards['subject_age_sum'] *-1\n",
    "# existing_cards['age'] = existing_cards['age'] *-1\n",
    "# existing_cards.sort_values(['n_fold', 'subject_age_sum', 'age'], inplace=True)\n",
    "\n",
    "# remake_card_document(existing_cards=existing_cards)\n",
    "# existing_cards.head(10)\n"
   ]
  },
  {
   "cell_type": "markdown",
   "metadata": {},
   "source": [
    "## Age Mean"
   ]
  },
  {
   "cell_type": "code",
   "execution_count": 159,
   "metadata": {},
   "outputs": [],
   "source": [
    "# n=3\n",
    "# existing_cards['count'] = existing_cards.sort_values('age', ascending=False).groupby('head').cumcount()\n",
    "# existing_cards['n_fold'] = existing_cards['count'] % n\n",
    "\n",
    "# existing_cards['subject_mean_age'] = existing_cards['subject_mean_age'] *-1\n",
    "# existing_cards['age'] = existing_cards['age'] *-1\n",
    "# existing_cards.sort_values(['n_fold', 'subject_mean_age', 'age'], inplace=True)\n",
    "# remake_card_document(existing_cards=existing_cards)\n",
    "\n",
    "# existing_cards.head(10)\n",
    "\n"
   ]
  },
  {
   "cell_type": "markdown",
   "metadata": {},
   "source": [
    "## Age Max"
   ]
  },
  {
   "cell_type": "code",
   "execution_count": 160,
   "metadata": {},
   "outputs": [
    {
     "name": "stdout",
     "output_type": "stream",
     "text": [
      "Cards found: 585\n"
     ]
    },
    {
     "data": {
      "application/vnd.microsoft.datawrangler.viewer.v0+json": {
       "columns": [
        {
         "name": "index",
         "rawType": "int64",
         "type": "integer"
        },
        {
         "name": "head",
         "rawType": "object",
         "type": "string"
        },
        {
         "name": "body",
         "rawType": "object",
         "type": "string"
        },
        {
         "name": "hash",
         "rawType": "object",
         "type": "string"
        },
        {
         "name": "age",
         "rawType": "float64",
         "type": "float"
        },
        {
         "name": "subject_mean_age",
         "rawType": "float64",
         "type": "float"
        },
        {
         "name": "subject_highest_age",
         "rawType": "float64",
         "type": "float"
        },
        {
         "name": "subject_age_sum",
         "rawType": "float64",
         "type": "float"
        },
        {
         "name": "head_random_roll",
         "rawType": "float64",
         "type": "float"
        },
        {
         "name": "count",
         "rawType": "int64",
         "type": "integer"
        },
        {
         "name": "n_fold",
         "rawType": "int64",
         "type": "integer"
        }
       ],
       "conversionMethod": "pd.DataFrame",
       "ref": "191c7f62-3af8-44a8-9e86-bb6c65787715",
       "rows": [
        [
         "113",
         "Home Network Project",
         "Front: What is TLS Termination and why is it used in reverse proxies?\n\nBack: TLS Termination refers to the process of decrypting incoming TLS/SSL encrypted traffic at the reverse proxy level before forwarding it to backend servers. It offloads the computationally intensive decryption task from backend servers, improves performance, and allows for centralized management of SSL certificates.",
         "5297051eea9892af904815d3794faf15",
         "-1198.9062448650388",
         "291.70384800294835",
         "-1198.9062448650388",
         "5542.373112056019",
         "0.9961846092805701",
         "0",
         "0"
        ],
        [
         "114",
         "Home Network Project",
         "Front: Explain the difference between a Docker Image and a Docker Container.\n\nBack:\nDocker Image: A read-only template that contains the application and all its dependencies required to run it. Images are built from Dockerfiles and serve as the blueprint for containers.\nDocker Container: A runnable instance of a Docker image. Containers are created from images and can be started, stopped, moved, and deleted independently.",
         "cae03ba26ac3afa5df9d5bb453b94dfd",
         "-795.3262124370588",
         "291.70384800294835",
         "-1198.9062448650388",
         "5542.373112056019",
         "0.9961846092805701",
         "1",
         "0"
        ],
        [
         "115",
         "Home Network Project",
         "What is the command to update and upgrade packages on a Debian-based system like Raspberry Pi OS?\n\nbash\nsudo apt update && sudo apt upgrade -y",
         "d0a754737eef42e651e9fff08f6a6292",
         "-525.3192460800416",
         "291.70384800294835",
         "-1198.9062448650388",
         "5542.373112056019",
         "0.9961846092805701",
         "2",
         "0"
        ],
        [
         "153",
         "Azure Functions + PP365",
         "Azure SDK for Python\nA collection of libraries provided by Microsoft to interact with Azure services using Python. The Azure SDK for Python simplifies the integration of Azure Functions with services like Azure Storage, Cosmos DB, and Azure Key Vault, providing robust and consistent APIs for developers.",
         "80100a754471176d4959736d67f857f0",
         "-1056.1019194344478",
         "209.15463019686115",
         "-1056.1019194344478",
         "5228.865754921529",
         "0.775670342213831",
         "0",
         "0"
        ],
        [
         "154",
         "Azure Functions + PP365",
         "Managed Identity Credential Acquisition\nThe process by which an Azure service with a managed identity obtains an access token from Azure AD. This token is used to authenticate requests to other Azure services, ensuring secure and seamless communication without the need for manual credential management.",
         "ce72b3d8456df269fc6040c655b72f2a",
         "-680.4689498743187",
         "209.15463019686115",
         "-1056.1019194344478",
         "5228.865754921529",
         "0.775670342213831",
         "1",
         "0"
        ],
        [
         "155",
         "Azure Functions + PP365",
         "Environment Variables\nVariables set in the operating environment that can be accessed by applications. In Python Azure Functions, environment variables are used to store configuration data, secrets, and connection strings securely, allowing functions to adapt to different environments without code changes.",
         "06639ebf4c2d551971c41702ef6dfed2",
         "-417.39936141663804",
         "209.15463019686115",
         "-1056.1019194344478",
         "5228.865754921529",
         "0.775670342213831",
         "2",
         "0"
        ],
        [
         "203",
         "Logging in Python",
         "Q: What does the exc_info parameter do in logging methods like logger.error() from the logging module?\n\nA: exc_info=True\nThis includes exception traceback information in the log message, aiding in debugging.",
         "99985def14861364c32ddb3b87ea135b",
         "-1032.039073429598",
         "145.44674747242186",
         "-1032.039073429598",
         "8726.804848345311",
         "0.3661864663362062",
         "0",
         "0"
        ],
        [
         "204",
         "Logging in Python",
         "Q: What is the primary purpose of TimedRotatingFileHandler from the logging.handlers module?\n\nA: To rotate log files at specific timed intervals, such as daily or hourly (when='midnight').\nThis ensures that log files are segmented based on time, facilitating organized log management.",
         "faa326e87e35a9c530e145d8221882e1",
         "-955.5061916810472",
         "145.44674747242186",
         "-1032.039073429598",
         "8726.804848345311",
         "0.3661864663362062",
         "1",
         "0"
        ],
        [
         "205",
         "Logging in Python",
         "Q: In TimedRotatingFileHandler from the logging.handlers module, what does the when parameter specify?\n\nA: when='midnight'\nThis parameter sets the interval type for rotating logs, such as daily at midnight.",
         "d53f8f76d58dd27e3ded74f30a190cb4",
         "-684.0908126210982",
         "145.44674747242186",
         "-1032.039073429598",
         "8726.804848345311",
         "0.3661864663362062",
         "2",
         "0"
        ],
        [
         "33",
         "Email Auth and Security",
         "Identifier Alignment\n\nEnsuring that the domains used in SPF and DKIM authentication align with the domain in the email's \"From\" header.\nCritical for DMARC to function correctly.\nCan be achieved through relaxed alignment (subdomains are allowed) or strict alignment (exact match required).",
         "74a89604ca7b2e38b605e5efbb01fe47",
         "-897.3478829589826",
         "180.989785394364",
         "-897.3478829589826",
         "2352.867210126732",
         "0.5967585162730006",
         "0",
         "0"
        ]
       ],
       "shape": {
        "columns": 10,
        "rows": 10
       }
      },
      "text/html": [
       "<div>\n",
       "<style scoped>\n",
       "    .dataframe tbody tr th:only-of-type {\n",
       "        vertical-align: middle;\n",
       "    }\n",
       "\n",
       "    .dataframe tbody tr th {\n",
       "        vertical-align: top;\n",
       "    }\n",
       "\n",
       "    .dataframe thead th {\n",
       "        text-align: right;\n",
       "    }\n",
       "</style>\n",
       "<table border=\"1\" class=\"dataframe\">\n",
       "  <thead>\n",
       "    <tr style=\"text-align: right;\">\n",
       "      <th></th>\n",
       "      <th>head</th>\n",
       "      <th>body</th>\n",
       "      <th>hash</th>\n",
       "      <th>age</th>\n",
       "      <th>subject_mean_age</th>\n",
       "      <th>subject_highest_age</th>\n",
       "      <th>subject_age_sum</th>\n",
       "      <th>head_random_roll</th>\n",
       "      <th>count</th>\n",
       "      <th>n_fold</th>\n",
       "    </tr>\n",
       "  </thead>\n",
       "  <tbody>\n",
       "    <tr>\n",
       "      <th>113</th>\n",
       "      <td>Home Network Project</td>\n",
       "      <td>Front: What is TLS Termination and why is it u...</td>\n",
       "      <td>5297051eea9892af904815d3794faf15</td>\n",
       "      <td>-1198.906245</td>\n",
       "      <td>291.703848</td>\n",
       "      <td>-1198.906245</td>\n",
       "      <td>5542.373112</td>\n",
       "      <td>0.996185</td>\n",
       "      <td>0</td>\n",
       "      <td>0</td>\n",
       "    </tr>\n",
       "    <tr>\n",
       "      <th>114</th>\n",
       "      <td>Home Network Project</td>\n",
       "      <td>Front: Explain the difference between a Docker...</td>\n",
       "      <td>cae03ba26ac3afa5df9d5bb453b94dfd</td>\n",
       "      <td>-795.326212</td>\n",
       "      <td>291.703848</td>\n",
       "      <td>-1198.906245</td>\n",
       "      <td>5542.373112</td>\n",
       "      <td>0.996185</td>\n",
       "      <td>1</td>\n",
       "      <td>0</td>\n",
       "    </tr>\n",
       "    <tr>\n",
       "      <th>115</th>\n",
       "      <td>Home Network Project</td>\n",
       "      <td>What is the command to update and upgrade pack...</td>\n",
       "      <td>d0a754737eef42e651e9fff08f6a6292</td>\n",
       "      <td>-525.319246</td>\n",
       "      <td>291.703848</td>\n",
       "      <td>-1198.906245</td>\n",
       "      <td>5542.373112</td>\n",
       "      <td>0.996185</td>\n",
       "      <td>2</td>\n",
       "      <td>0</td>\n",
       "    </tr>\n",
       "    <tr>\n",
       "      <th>153</th>\n",
       "      <td>Azure Functions + PP365</td>\n",
       "      <td>Azure SDK for Python\\nA collection of librarie...</td>\n",
       "      <td>80100a754471176d4959736d67f857f0</td>\n",
       "      <td>-1056.101919</td>\n",
       "      <td>209.154630</td>\n",
       "      <td>-1056.101919</td>\n",
       "      <td>5228.865755</td>\n",
       "      <td>0.775670</td>\n",
       "      <td>0</td>\n",
       "      <td>0</td>\n",
       "    </tr>\n",
       "    <tr>\n",
       "      <th>154</th>\n",
       "      <td>Azure Functions + PP365</td>\n",
       "      <td>Managed Identity Credential Acquisition\\nThe p...</td>\n",
       "      <td>ce72b3d8456df269fc6040c655b72f2a</td>\n",
       "      <td>-680.468950</td>\n",
       "      <td>209.154630</td>\n",
       "      <td>-1056.101919</td>\n",
       "      <td>5228.865755</td>\n",
       "      <td>0.775670</td>\n",
       "      <td>1</td>\n",
       "      <td>0</td>\n",
       "    </tr>\n",
       "    <tr>\n",
       "      <th>155</th>\n",
       "      <td>Azure Functions + PP365</td>\n",
       "      <td>Environment Variables\\nVariables set in the op...</td>\n",
       "      <td>06639ebf4c2d551971c41702ef6dfed2</td>\n",
       "      <td>-417.399361</td>\n",
       "      <td>209.154630</td>\n",
       "      <td>-1056.101919</td>\n",
       "      <td>5228.865755</td>\n",
       "      <td>0.775670</td>\n",
       "      <td>2</td>\n",
       "      <td>0</td>\n",
       "    </tr>\n",
       "    <tr>\n",
       "      <th>203</th>\n",
       "      <td>Logging in Python</td>\n",
       "      <td>Q: What does the exc_info parameter do in logg...</td>\n",
       "      <td>99985def14861364c32ddb3b87ea135b</td>\n",
       "      <td>-1032.039073</td>\n",
       "      <td>145.446747</td>\n",
       "      <td>-1032.039073</td>\n",
       "      <td>8726.804848</td>\n",
       "      <td>0.366186</td>\n",
       "      <td>0</td>\n",
       "      <td>0</td>\n",
       "    </tr>\n",
       "    <tr>\n",
       "      <th>204</th>\n",
       "      <td>Logging in Python</td>\n",
       "      <td>Q: What is the primary purpose of TimedRotatin...</td>\n",
       "      <td>faa326e87e35a9c530e145d8221882e1</td>\n",
       "      <td>-955.506192</td>\n",
       "      <td>145.446747</td>\n",
       "      <td>-1032.039073</td>\n",
       "      <td>8726.804848</td>\n",
       "      <td>0.366186</td>\n",
       "      <td>1</td>\n",
       "      <td>0</td>\n",
       "    </tr>\n",
       "    <tr>\n",
       "      <th>205</th>\n",
       "      <td>Logging in Python</td>\n",
       "      <td>Q: In TimedRotatingFileHandler from the loggin...</td>\n",
       "      <td>d53f8f76d58dd27e3ded74f30a190cb4</td>\n",
       "      <td>-684.090813</td>\n",
       "      <td>145.446747</td>\n",
       "      <td>-1032.039073</td>\n",
       "      <td>8726.804848</td>\n",
       "      <td>0.366186</td>\n",
       "      <td>2</td>\n",
       "      <td>0</td>\n",
       "    </tr>\n",
       "    <tr>\n",
       "      <th>33</th>\n",
       "      <td>Email Auth and Security</td>\n",
       "      <td>Identifier Alignment\\n\\nEnsuring that the doma...</td>\n",
       "      <td>74a89604ca7b2e38b605e5efbb01fe47</td>\n",
       "      <td>-897.347883</td>\n",
       "      <td>180.989785</td>\n",
       "      <td>-897.347883</td>\n",
       "      <td>2352.867210</td>\n",
       "      <td>0.596759</td>\n",
       "      <td>0</td>\n",
       "      <td>0</td>\n",
       "    </tr>\n",
       "  </tbody>\n",
       "</table>\n",
       "</div>"
      ],
      "text/plain": [
       "                        head  \\\n",
       "113     Home Network Project   \n",
       "114     Home Network Project   \n",
       "115     Home Network Project   \n",
       "153  Azure Functions + PP365   \n",
       "154  Azure Functions + PP365   \n",
       "155  Azure Functions + PP365   \n",
       "203        Logging in Python   \n",
       "204        Logging in Python   \n",
       "205        Logging in Python   \n",
       "33   Email Auth and Security   \n",
       "\n",
       "                                                  body  \\\n",
       "113  Front: What is TLS Termination and why is it u...   \n",
       "114  Front: Explain the difference between a Docker...   \n",
       "115  What is the command to update and upgrade pack...   \n",
       "153  Azure SDK for Python\\nA collection of librarie...   \n",
       "154  Managed Identity Credential Acquisition\\nThe p...   \n",
       "155  Environment Variables\\nVariables set in the op...   \n",
       "203  Q: What does the exc_info parameter do in logg...   \n",
       "204  Q: What is the primary purpose of TimedRotatin...   \n",
       "205  Q: In TimedRotatingFileHandler from the loggin...   \n",
       "33   Identifier Alignment\\n\\nEnsuring that the doma...   \n",
       "\n",
       "                                 hash          age  subject_mean_age  \\\n",
       "113  5297051eea9892af904815d3794faf15 -1198.906245        291.703848   \n",
       "114  cae03ba26ac3afa5df9d5bb453b94dfd  -795.326212        291.703848   \n",
       "115  d0a754737eef42e651e9fff08f6a6292  -525.319246        291.703848   \n",
       "153  80100a754471176d4959736d67f857f0 -1056.101919        209.154630   \n",
       "154  ce72b3d8456df269fc6040c655b72f2a  -680.468950        209.154630   \n",
       "155  06639ebf4c2d551971c41702ef6dfed2  -417.399361        209.154630   \n",
       "203  99985def14861364c32ddb3b87ea135b -1032.039073        145.446747   \n",
       "204  faa326e87e35a9c530e145d8221882e1  -955.506192        145.446747   \n",
       "205  d53f8f76d58dd27e3ded74f30a190cb4  -684.090813        145.446747   \n",
       "33   74a89604ca7b2e38b605e5efbb01fe47  -897.347883        180.989785   \n",
       "\n",
       "     subject_highest_age  subject_age_sum  head_random_roll  count  n_fold  \n",
       "113         -1198.906245      5542.373112          0.996185      0       0  \n",
       "114         -1198.906245      5542.373112          0.996185      1       0  \n",
       "115         -1198.906245      5542.373112          0.996185      2       0  \n",
       "153         -1056.101919      5228.865755          0.775670      0       0  \n",
       "154         -1056.101919      5228.865755          0.775670      1       0  \n",
       "155         -1056.101919      5228.865755          0.775670      2       0  \n",
       "203         -1032.039073      8726.804848          0.366186      0       0  \n",
       "204         -1032.039073      8726.804848          0.366186      1       0  \n",
       "205         -1032.039073      8726.804848          0.366186      2       0  \n",
       "33           -897.347883      2352.867210          0.596759      0       0  "
      ]
     },
     "execution_count": 160,
     "metadata": {},
     "output_type": "execute_result"
    }
   ],
   "source": [
    "n = 3\n",
    "existing_cards['count'] = existing_cards.sort_values('age', ascending=False).groupby('head').cumcount()\n",
    "existing_cards['n_fold'] = existing_cards['count'] // n\n",
    "\n",
    "if existing_cards['age'].sum() > 0:\n",
    "    existing_cards['subject_highest_age'] = existing_cards['subject_highest_age'] *-1\n",
    "    existing_cards['age'] = existing_cards['age'] *-1\n",
    "existing_cards.sort_values(['n_fold', 'subject_highest_age', 'age'], inplace=True)\n",
    "\n",
    "remake_card_document(existing_cards=existing_cards)\n",
    "existing_cards.head(10)\n"
   ]
  },
  {
   "cell_type": "markdown",
   "metadata": {},
   "source": [
    "## Card Count"
   ]
  },
  {
   "cell_type": "code",
   "execution_count": 161,
   "metadata": {},
   "outputs": [],
   "source": [
    "# n=10\n",
    "# existing_cards['frequency']  = existing_cards.groupby('head').transform('count')['body']\n",
    "# existing_cards['count'] = existing_cards.sort_values('age', ascending=False).groupby('head').cumcount()\n",
    "# existing_cards['n_fold'] = existing_cards['count'] // n\n",
    "\n",
    "# if existing_cards['age'].sum() > 0:\n",
    "#     existing_cards['subject_highest_age'] = existing_cards['subject_highest_age'] *-1\n",
    "#     existing_cards['age'] = existing_cards['age'] *-1\n",
    "# existing_cards.sort_values(['n_fold', 'frequency', 'age'], inplace=True)\n",
    "# remake_card_document(existing_cards=existing_cards)\n",
    "\n",
    "# existing_cards.head(10)\n",
    "\n"
   ]
  },
  {
   "cell_type": "markdown",
   "metadata": {},
   "source": [
    "\n",
    "## Random"
   ]
  },
  {
   "cell_type": "code",
   "execution_count": 162,
   "metadata": {},
   "outputs": [],
   "source": [
    "# n = 3\n",
    "# existing_cards['count'] = existing_cards.sort_values('age', ascending=False).groupby('head').cumcount()\n",
    "# existing_cards['n_fold'] = existing_cards['count'] % n\n",
    "# existing_cards['age'] *= -1\n",
    "# existing_cards.sort_values(['n_fold', 'head_random_roll', 'age'], inplace=True)\n",
    "# remake_card_document(existing_cards=existing_cards)\n",
    "# existing_cards.head(10)"
   ]
  },
  {
   "cell_type": "code",
   "execution_count": 163,
   "metadata": {},
   "outputs": [
    {
     "data": {
      "application/vnd.microsoft.datawrangler.viewer.v0+json": {
       "columns": [
        {
         "name": "index",
         "rawType": "int64",
         "type": "integer"
        },
        {
         "name": "head",
         "rawType": "object",
         "type": "string"
        },
        {
         "name": "body",
         "rawType": "object",
         "type": "string"
        },
        {
         "name": "hash",
         "rawType": "object",
         "type": "string"
        },
        {
         "name": "age",
         "rawType": "float64",
         "type": "float"
        },
        {
         "name": "subject_mean_age",
         "rawType": "float64",
         "type": "float"
        },
        {
         "name": "subject_highest_age",
         "rawType": "float64",
         "type": "float"
        },
        {
         "name": "subject_age_sum",
         "rawType": "float64",
         "type": "float"
        },
        {
         "name": "head_random_roll",
         "rawType": "float64",
         "type": "float"
        },
        {
         "name": "count",
         "rawType": "int64",
         "type": "integer"
        },
        {
         "name": "n_fold",
         "rawType": "int64",
         "type": "integer"
        }
       ],
       "conversionMethod": "pd.DataFrame",
       "ref": "4b40d192-dad3-4704-a8df-589d85a4656b",
       "rows": [
        [
         "113",
         "Home Network Project",
         "Front: What is TLS Termination and why is it used in reverse proxies?\n\nBack: TLS Termination refers to the process of decrypting incoming TLS/SSL encrypted traffic at the reverse proxy level before forwarding it to backend servers. It offloads the computationally intensive decryption task from backend servers, improves performance, and allows for centralized management of SSL certificates.",
         "5297051eea9892af904815d3794faf15",
         "-1198.9062448650388",
         "291.70384800294835",
         "-1198.9062448650388",
         "5542.373112056019",
         "0.9961846092805701",
         "0",
         "0"
        ],
        [
         "114",
         "Home Network Project",
         "Front: Explain the difference between a Docker Image and a Docker Container.\n\nBack:\nDocker Image: A read-only template that contains the application and all its dependencies required to run it. Images are built from Dockerfiles and serve as the blueprint for containers.\nDocker Container: A runnable instance of a Docker image. Containers are created from images and can be started, stopped, moved, and deleted independently.",
         "cae03ba26ac3afa5df9d5bb453b94dfd",
         "-795.3262124370588",
         "291.70384800294835",
         "-1198.9062448650388",
         "5542.373112056019",
         "0.9961846092805701",
         "1",
         "0"
        ],
        [
         "115",
         "Home Network Project",
         "What is the command to update and upgrade packages on a Debian-based system like Raspberry Pi OS?\n\nbash\nsudo apt update && sudo apt upgrade -y",
         "d0a754737eef42e651e9fff08f6a6292",
         "-525.3192460800416",
         "291.70384800294835",
         "-1198.9062448650388",
         "5542.373112056019",
         "0.9961846092805701",
         "2",
         "0"
        ],
        [
         "153",
         "Azure Functions + PP365",
         "Azure SDK for Python\nA collection of libraries provided by Microsoft to interact with Azure services using Python. The Azure SDK for Python simplifies the integration of Azure Functions with services like Azure Storage, Cosmos DB, and Azure Key Vault, providing robust and consistent APIs for developers.",
         "80100a754471176d4959736d67f857f0",
         "-1056.1019194344478",
         "209.15463019686115",
         "-1056.1019194344478",
         "5228.865754921529",
         "0.775670342213831",
         "0",
         "0"
        ],
        [
         "154",
         "Azure Functions + PP365",
         "Managed Identity Credential Acquisition\nThe process by which an Azure service with a managed identity obtains an access token from Azure AD. This token is used to authenticate requests to other Azure services, ensuring secure and seamless communication without the need for manual credential management.",
         "ce72b3d8456df269fc6040c655b72f2a",
         "-680.4689498743187",
         "209.15463019686115",
         "-1056.1019194344478",
         "5228.865754921529",
         "0.775670342213831",
         "1",
         "0"
        ],
        [
         "155",
         "Azure Functions + PP365",
         "Environment Variables\nVariables set in the operating environment that can be accessed by applications. In Python Azure Functions, environment variables are used to store configuration data, secrets, and connection strings securely, allowing functions to adapt to different environments without code changes.",
         "06639ebf4c2d551971c41702ef6dfed2",
         "-417.39936141663804",
         "209.15463019686115",
         "-1056.1019194344478",
         "5228.865754921529",
         "0.775670342213831",
         "2",
         "0"
        ],
        [
         "203",
         "Logging in Python",
         "Q: What does the exc_info parameter do in logging methods like logger.error() from the logging module?\n\nA: exc_info=True\nThis includes exception traceback information in the log message, aiding in debugging.",
         "99985def14861364c32ddb3b87ea135b",
         "-1032.039073429598",
         "145.44674747242186",
         "-1032.039073429598",
         "8726.804848345311",
         "0.3661864663362062",
         "0",
         "0"
        ],
        [
         "204",
         "Logging in Python",
         "Q: What is the primary purpose of TimedRotatingFileHandler from the logging.handlers module?\n\nA: To rotate log files at specific timed intervals, such as daily or hourly (when='midnight').\nThis ensures that log files are segmented based on time, facilitating organized log management.",
         "faa326e87e35a9c530e145d8221882e1",
         "-955.5061916810472",
         "145.44674747242186",
         "-1032.039073429598",
         "8726.804848345311",
         "0.3661864663362062",
         "1",
         "0"
        ],
        [
         "205",
         "Logging in Python",
         "Q: In TimedRotatingFileHandler from the logging.handlers module, what does the when parameter specify?\n\nA: when='midnight'\nThis parameter sets the interval type for rotating logs, such as daily at midnight.",
         "d53f8f76d58dd27e3ded74f30a190cb4",
         "-684.0908126210982",
         "145.44674747242186",
         "-1032.039073429598",
         "8726.804848345311",
         "0.3661864663362062",
         "2",
         "0"
        ],
        [
         "33",
         "Email Auth and Security",
         "Identifier Alignment\n\nEnsuring that the domains used in SPF and DKIM authentication align with the domain in the email's \"From\" header.\nCritical for DMARC to function correctly.\nCan be achieved through relaxed alignment (subdomains are allowed) or strict alignment (exact match required).",
         "74a89604ca7b2e38b605e5efbb01fe47",
         "-897.3478829589826",
         "180.989785394364",
         "-897.3478829589826",
         "2352.867210126732",
         "0.5967585162730006",
         "0",
         "0"
        ]
       ],
       "shape": {
        "columns": 10,
        "rows": 10
       }
      },
      "text/html": [
       "<div>\n",
       "<style scoped>\n",
       "    .dataframe tbody tr th:only-of-type {\n",
       "        vertical-align: middle;\n",
       "    }\n",
       "\n",
       "    .dataframe tbody tr th {\n",
       "        vertical-align: top;\n",
       "    }\n",
       "\n",
       "    .dataframe thead th {\n",
       "        text-align: right;\n",
       "    }\n",
       "</style>\n",
       "<table border=\"1\" class=\"dataframe\">\n",
       "  <thead>\n",
       "    <tr style=\"text-align: right;\">\n",
       "      <th></th>\n",
       "      <th>head</th>\n",
       "      <th>body</th>\n",
       "      <th>hash</th>\n",
       "      <th>age</th>\n",
       "      <th>subject_mean_age</th>\n",
       "      <th>subject_highest_age</th>\n",
       "      <th>subject_age_sum</th>\n",
       "      <th>head_random_roll</th>\n",
       "      <th>count</th>\n",
       "      <th>n_fold</th>\n",
       "    </tr>\n",
       "  </thead>\n",
       "  <tbody>\n",
       "    <tr>\n",
       "      <th>113</th>\n",
       "      <td>Home Network Project</td>\n",
       "      <td>Front: What is TLS Termination and why is it u...</td>\n",
       "      <td>5297051eea9892af904815d3794faf15</td>\n",
       "      <td>-1198.906245</td>\n",
       "      <td>291.703848</td>\n",
       "      <td>-1198.906245</td>\n",
       "      <td>5542.373112</td>\n",
       "      <td>0.996185</td>\n",
       "      <td>0</td>\n",
       "      <td>0</td>\n",
       "    </tr>\n",
       "    <tr>\n",
       "      <th>114</th>\n",
       "      <td>Home Network Project</td>\n",
       "      <td>Front: Explain the difference between a Docker...</td>\n",
       "      <td>cae03ba26ac3afa5df9d5bb453b94dfd</td>\n",
       "      <td>-795.326212</td>\n",
       "      <td>291.703848</td>\n",
       "      <td>-1198.906245</td>\n",
       "      <td>5542.373112</td>\n",
       "      <td>0.996185</td>\n",
       "      <td>1</td>\n",
       "      <td>0</td>\n",
       "    </tr>\n",
       "    <tr>\n",
       "      <th>115</th>\n",
       "      <td>Home Network Project</td>\n",
       "      <td>What is the command to update and upgrade pack...</td>\n",
       "      <td>d0a754737eef42e651e9fff08f6a6292</td>\n",
       "      <td>-525.319246</td>\n",
       "      <td>291.703848</td>\n",
       "      <td>-1198.906245</td>\n",
       "      <td>5542.373112</td>\n",
       "      <td>0.996185</td>\n",
       "      <td>2</td>\n",
       "      <td>0</td>\n",
       "    </tr>\n",
       "    <tr>\n",
       "      <th>153</th>\n",
       "      <td>Azure Functions + PP365</td>\n",
       "      <td>Azure SDK for Python\\nA collection of librarie...</td>\n",
       "      <td>80100a754471176d4959736d67f857f0</td>\n",
       "      <td>-1056.101919</td>\n",
       "      <td>209.154630</td>\n",
       "      <td>-1056.101919</td>\n",
       "      <td>5228.865755</td>\n",
       "      <td>0.775670</td>\n",
       "      <td>0</td>\n",
       "      <td>0</td>\n",
       "    </tr>\n",
       "    <tr>\n",
       "      <th>154</th>\n",
       "      <td>Azure Functions + PP365</td>\n",
       "      <td>Managed Identity Credential Acquisition\\nThe p...</td>\n",
       "      <td>ce72b3d8456df269fc6040c655b72f2a</td>\n",
       "      <td>-680.468950</td>\n",
       "      <td>209.154630</td>\n",
       "      <td>-1056.101919</td>\n",
       "      <td>5228.865755</td>\n",
       "      <td>0.775670</td>\n",
       "      <td>1</td>\n",
       "      <td>0</td>\n",
       "    </tr>\n",
       "    <tr>\n",
       "      <th>155</th>\n",
       "      <td>Azure Functions + PP365</td>\n",
       "      <td>Environment Variables\\nVariables set in the op...</td>\n",
       "      <td>06639ebf4c2d551971c41702ef6dfed2</td>\n",
       "      <td>-417.399361</td>\n",
       "      <td>209.154630</td>\n",
       "      <td>-1056.101919</td>\n",
       "      <td>5228.865755</td>\n",
       "      <td>0.775670</td>\n",
       "      <td>2</td>\n",
       "      <td>0</td>\n",
       "    </tr>\n",
       "    <tr>\n",
       "      <th>203</th>\n",
       "      <td>Logging in Python</td>\n",
       "      <td>Q: What does the exc_info parameter do in logg...</td>\n",
       "      <td>99985def14861364c32ddb3b87ea135b</td>\n",
       "      <td>-1032.039073</td>\n",
       "      <td>145.446747</td>\n",
       "      <td>-1032.039073</td>\n",
       "      <td>8726.804848</td>\n",
       "      <td>0.366186</td>\n",
       "      <td>0</td>\n",
       "      <td>0</td>\n",
       "    </tr>\n",
       "    <tr>\n",
       "      <th>204</th>\n",
       "      <td>Logging in Python</td>\n",
       "      <td>Q: What is the primary purpose of TimedRotatin...</td>\n",
       "      <td>faa326e87e35a9c530e145d8221882e1</td>\n",
       "      <td>-955.506192</td>\n",
       "      <td>145.446747</td>\n",
       "      <td>-1032.039073</td>\n",
       "      <td>8726.804848</td>\n",
       "      <td>0.366186</td>\n",
       "      <td>1</td>\n",
       "      <td>0</td>\n",
       "    </tr>\n",
       "    <tr>\n",
       "      <th>205</th>\n",
       "      <td>Logging in Python</td>\n",
       "      <td>Q: In TimedRotatingFileHandler from the loggin...</td>\n",
       "      <td>d53f8f76d58dd27e3ded74f30a190cb4</td>\n",
       "      <td>-684.090813</td>\n",
       "      <td>145.446747</td>\n",
       "      <td>-1032.039073</td>\n",
       "      <td>8726.804848</td>\n",
       "      <td>0.366186</td>\n",
       "      <td>2</td>\n",
       "      <td>0</td>\n",
       "    </tr>\n",
       "    <tr>\n",
       "      <th>33</th>\n",
       "      <td>Email Auth and Security</td>\n",
       "      <td>Identifier Alignment\\n\\nEnsuring that the doma...</td>\n",
       "      <td>74a89604ca7b2e38b605e5efbb01fe47</td>\n",
       "      <td>-897.347883</td>\n",
       "      <td>180.989785</td>\n",
       "      <td>-897.347883</td>\n",
       "      <td>2352.867210</td>\n",
       "      <td>0.596759</td>\n",
       "      <td>0</td>\n",
       "      <td>0</td>\n",
       "    </tr>\n",
       "  </tbody>\n",
       "</table>\n",
       "</div>"
      ],
      "text/plain": [
       "                        head  \\\n",
       "113     Home Network Project   \n",
       "114     Home Network Project   \n",
       "115     Home Network Project   \n",
       "153  Azure Functions + PP365   \n",
       "154  Azure Functions + PP365   \n",
       "155  Azure Functions + PP365   \n",
       "203        Logging in Python   \n",
       "204        Logging in Python   \n",
       "205        Logging in Python   \n",
       "33   Email Auth and Security   \n",
       "\n",
       "                                                  body  \\\n",
       "113  Front: What is TLS Termination and why is it u...   \n",
       "114  Front: Explain the difference between a Docker...   \n",
       "115  What is the command to update and upgrade pack...   \n",
       "153  Azure SDK for Python\\nA collection of librarie...   \n",
       "154  Managed Identity Credential Acquisition\\nThe p...   \n",
       "155  Environment Variables\\nVariables set in the op...   \n",
       "203  Q: What does the exc_info parameter do in logg...   \n",
       "204  Q: What is the primary purpose of TimedRotatin...   \n",
       "205  Q: In TimedRotatingFileHandler from the loggin...   \n",
       "33   Identifier Alignment\\n\\nEnsuring that the doma...   \n",
       "\n",
       "                                 hash          age  subject_mean_age  \\\n",
       "113  5297051eea9892af904815d3794faf15 -1198.906245        291.703848   \n",
       "114  cae03ba26ac3afa5df9d5bb453b94dfd  -795.326212        291.703848   \n",
       "115  d0a754737eef42e651e9fff08f6a6292  -525.319246        291.703848   \n",
       "153  80100a754471176d4959736d67f857f0 -1056.101919        209.154630   \n",
       "154  ce72b3d8456df269fc6040c655b72f2a  -680.468950        209.154630   \n",
       "155  06639ebf4c2d551971c41702ef6dfed2  -417.399361        209.154630   \n",
       "203  99985def14861364c32ddb3b87ea135b -1032.039073        145.446747   \n",
       "204  faa326e87e35a9c530e145d8221882e1  -955.506192        145.446747   \n",
       "205  d53f8f76d58dd27e3ded74f30a190cb4  -684.090813        145.446747   \n",
       "33   74a89604ca7b2e38b605e5efbb01fe47  -897.347883        180.989785   \n",
       "\n",
       "     subject_highest_age  subject_age_sum  head_random_roll  count  n_fold  \n",
       "113         -1198.906245      5542.373112          0.996185      0       0  \n",
       "114         -1198.906245      5542.373112          0.996185      1       0  \n",
       "115         -1198.906245      5542.373112          0.996185      2       0  \n",
       "153         -1056.101919      5228.865755          0.775670      0       0  \n",
       "154         -1056.101919      5228.865755          0.775670      1       0  \n",
       "155         -1056.101919      5228.865755          0.775670      2       0  \n",
       "203         -1032.039073      8726.804848          0.366186      0       0  \n",
       "204         -1032.039073      8726.804848          0.366186      1       0  \n",
       "205         -1032.039073      8726.804848          0.366186      2       0  \n",
       "33           -897.347883      2352.867210          0.596759      0       0  "
      ]
     },
     "execution_count": 163,
     "metadata": {},
     "output_type": "execute_result"
    }
   ],
   "source": [
    "existing_cards.head(10)"
   ]
  },
  {
   "cell_type": "code",
   "execution_count": 164,
   "metadata": {},
   "outputs": [
    {
     "data": {
      "text/plain": [
       "-139.11574299379853"
      ]
     },
     "execution_count": 164,
     "metadata": {},
     "output_type": "execute_result"
    }
   ],
   "source": [
    "existing_cards['age'].mean()"
   ]
  }
 ],
 "metadata": {
  "kernelspec": {
   "display_name": "Python 3",
   "language": "python",
   "name": "python3"
  },
  "language_info": {
   "codemirror_mode": {
    "name": "ipython",
    "version": 3
   },
   "file_extension": ".py",
   "mimetype": "text/x-python",
   "name": "python",
   "nbconvert_exporter": "python",
   "pygments_lexer": "ipython3",
   "version": "3.10.10"
  }
 },
 "nbformat": 4,
 "nbformat_minor": 2
}
