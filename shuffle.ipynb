{
 "cells": [
  {
   "cell_type": "code",
   "execution_count": 73,
   "metadata": {},
   "outputs": [],
   "source": [
    "import re\n",
    "import random\n",
    "import pandas as pd\n",
    "import hashlib"
   ]
  },
  {
   "cell_type": "code",
   "execution_count": 74,
   "metadata": {},
   "outputs": [],
   "source": [
    "with open('certcards2.txt', mode='r', encoding='utf8') as f:\n",
    "    all_cards = f.read()\n",
    "    \n",
    "card_split_pattern = r'\\n\\n\\n\\d+\\n'\n",
    "all_cards = re.split(card_split_pattern, all_cards)\n",
    "# Use re.DOTALL to allow . to match newline characters\n",
    "card_pattern = re.compile(r'(.+?)\\n([\\s\\S]+)', re.DOTALL)\n",
    "cards = [(match.group(1), match.group(2)) for cstring in all_cards if (match := re.search(card_pattern, cstring))]\n",
    "\n",
    "# removing the cards that have no content and trimming\n",
    "cards = [(subject, stripped_content) for subject, content in cards if len(stripped_content := content.strip()) > 5]\n",
    "\n",
    "def hash_string_md5(s):\n",
    "    \"\"\"\n",
    "    Hashes a string using MD5 and returns a truncated hash for efficiency.\n",
    "\n",
    "    Parameters:\n",
    "    - s (str): The input string to hash.\n",
    "\n",
    "    Returns:\n",
    "    - str: The truncated hexadecimal hash string.\n",
    "    \"\"\"\n",
    "    if pd.isnull(s):\n",
    "        return None  # Handle NaN values gracefully\n",
    "    return hashlib.md5(s.encode('utf-8')).hexdigest()\n",
    "\n",
    "\n",
    "def remake_card_document(existing_cards: pd.DataFrame, filename: str='certcards2.txt'):\n",
    "    with open(filename, mode='w', encoding='utf8') as f:\n",
    "        i = 1\n",
    "        for _, row in existing_cards.iterrows():\n",
    "            f.write('\\n'*6)\n",
    "            f.write(str(i)+'\\n')  \n",
    "            f.write(row['head']+'\\n')\n",
    "            f.write(row['body'])\n",
    "            i+=1\n",
    "    print(F\"Cards found: {existing_cards.shape[0]}\")\n",
    "    print(F\"Total card age: {abs(existing_cards['age'].sum()):.2f}\")\n",
    "\n",
    "\n",
    "existing_cards = pd.DataFrame(cards, columns=['head', 'body'])\n",
    "\n",
    "\n",
    "# existing_cards['age'] = [random.random() for _ in existing_cards.index]\n",
    "existing_cards['hash'] = existing_cards['body'].apply(hash_string_md5)\n",
    "existing_cards\n",
    "\n",
    "card_ages = pd.read_json('card_ages.json')\n",
    "card_ages = card_ages.drop_duplicates(subset=['hash'], keep='first')\n",
    "\n",
    "cards_to_age = pd.merge(\n",
    "    left=existing_cards,\n",
    "    right=card_ages[['hash', 'age']],\n",
    "    left_on='hash', right_on='hash',\n",
    "    how='left'\n",
    ")\n",
    "\n",
    "cards_to_age['head'] = cards_to_age['head'].str.strip()\n",
    "\n",
    "if cards_to_age['age'].sum() > 2e4: age_factor = .5\n",
    "else: age_factor = 1.5\n",
    "\n",
    "cards_to_age['age'] = cards_to_age['age'].fillna(0)\n",
    "# cards_to_age['age'] = cards_to_age['age'] * age_factor\n",
    "cards_to_age['age'] = cards_to_age['age'] + [random.expovariate(.60) for _ in cards_to_age.index]\n",
    "# cards_to_age['age'] = cards_to_age['age'] * [random.expovariate(1/age_factor) for _ in cards_to_age.index]\n",
    "\n",
    "# Adding priority age growth to cards for upcoming certifications\n",
    "priority_headers = ['Azure Developer Associate']\n",
    "priority_cards_mask = cards_to_age['head'].isin(priority_headers)\n",
    "cards_to_age.loc[priority_cards_mask, 'age'] = cards_to_age.loc[priority_cards_mask, 'age'] * 1.05\n",
    "\n",
    "cards_to_age = cards_to_age.drop_duplicates(subset=['hash'], keep='first')\n",
    "\n",
    "cards_to_age['subject_mean_age'] = cards_to_age.groupby('head')['age'].transform('mean')\n",
    "cards_to_age['subject_highest_age'] = cards_to_age.groupby('head')['age'].transform('max')\n",
    "cards_to_age['subject_age_sum'] = cards_to_age.groupby('head')['age'].transform('sum')\n",
    "cards_to_age['head_random_roll'] = cards_to_age.groupby('head')['head'].transform(lambda x: random.random())\n",
    "\n",
    "\n",
    "cards_to_age.sort_values('hash')[['age', 'head', 'hash']].to_json('card_ages.json', indent=2)\n",
    "\n",
    "existing_cards = cards_to_age"
   ]
  },
  {
   "cell_type": "code",
   "execution_count": 75,
   "metadata": {},
   "outputs": [
    {
     "data": {
      "text/html": [
       "<div>\n",
       "<style scoped>\n",
       "    .dataframe tbody tr th:only-of-type {\n",
       "        vertical-align: middle;\n",
       "    }\n",
       "\n",
       "    .dataframe tbody tr th {\n",
       "        vertical-align: top;\n",
       "    }\n",
       "\n",
       "    .dataframe thead th {\n",
       "        text-align: right;\n",
       "    }\n",
       "</style>\n",
       "<table border=\"1\" class=\"dataframe\">\n",
       "  <thead>\n",
       "    <tr style=\"text-align: right;\">\n",
       "      <th></th>\n",
       "      <th>age_sum</th>\n",
       "      <th>age_mean</th>\n",
       "      <th>age_max</th>\n",
       "      <th>head_count</th>\n",
       "    </tr>\n",
       "  </thead>\n",
       "  <tbody>\n",
       "    <tr>\n",
       "      <th>Azure AD Authentication</th>\n",
       "      <td>366.256381</td>\n",
       "      <td>28.173568</td>\n",
       "      <td>38.813765</td>\n",
       "      <td>13</td>\n",
       "    </tr>\n",
       "    <tr>\n",
       "      <th>RAG Project</th>\n",
       "      <td>667.920219</td>\n",
       "      <td>27.830009</td>\n",
       "      <td>38.557929</td>\n",
       "      <td>24</td>\n",
       "    </tr>\n",
       "    <tr>\n",
       "      <th>Azure DevOps Pipelines</th>\n",
       "      <td>716.543235</td>\n",
       "      <td>27.559355</td>\n",
       "      <td>37.312428</td>\n",
       "      <td>26</td>\n",
       "    </tr>\n",
       "    <tr>\n",
       "      <th>SharePoint</th>\n",
       "      <td>1119.580672</td>\n",
       "      <td>124.397852</td>\n",
       "      <td>275.028551</td>\n",
       "      <td>9</td>\n",
       "    </tr>\n",
       "    <tr>\n",
       "      <th>Email Auth and Security</th>\n",
       "      <td>1652.617680</td>\n",
       "      <td>137.718140</td>\n",
       "      <td>501.126081</td>\n",
       "      <td>12</td>\n",
       "    </tr>\n",
       "    <tr>\n",
       "      <th>Audit Report Tracker (Sharepoint List)</th>\n",
       "      <td>1792.542805</td>\n",
       "      <td>149.378567</td>\n",
       "      <td>382.692976</td>\n",
       "      <td>12</td>\n",
       "    </tr>\n",
       "    <tr>\n",
       "      <th>WSL + Kali Linux</th>\n",
       "      <td>2135.186427</td>\n",
       "      <td>152.513316</td>\n",
       "      <td>471.696576</td>\n",
       "      <td>14</td>\n",
       "    </tr>\n",
       "    <tr>\n",
       "      <th>Azure Functions + Visual Studio</th>\n",
       "      <td>2394.981191</td>\n",
       "      <td>184.229322</td>\n",
       "      <td>532.161235</td>\n",
       "      <td>13</td>\n",
       "    </tr>\n",
       "    <tr>\n",
       "      <th>IW Migration</th>\n",
       "      <td>2654.539571</td>\n",
       "      <td>189.609969</td>\n",
       "      <td>549.770392</td>\n",
       "      <td>14</td>\n",
       "    </tr>\n",
       "    <tr>\n",
       "      <th>Todd Ideas</th>\n",
       "      <td>2752.315801</td>\n",
       "      <td>183.487720</td>\n",
       "      <td>586.881407</td>\n",
       "      <td>15</td>\n",
       "    </tr>\n",
       "    <tr>\n",
       "      <th>Open Source/GitHub</th>\n",
       "      <td>2791.807144</td>\n",
       "      <td>174.487946</td>\n",
       "      <td>639.906530</td>\n",
       "      <td>16</td>\n",
       "    </tr>\n",
       "    <tr>\n",
       "      <th>Debugging in VS Code</th>\n",
       "      <td>2914.595684</td>\n",
       "      <td>145.729784</td>\n",
       "      <td>389.622894</td>\n",
       "      <td>20</td>\n",
       "    </tr>\n",
       "    <tr>\n",
       "      <th>Terraform</th>\n",
       "      <td>3189.793601</td>\n",
       "      <td>127.591744</td>\n",
       "      <td>407.525247</td>\n",
       "      <td>25</td>\n",
       "    </tr>\n",
       "    <tr>\n",
       "      <th>Azure Functions + PP365</th>\n",
       "      <td>3753.815136</td>\n",
       "      <td>178.753102</td>\n",
       "      <td>620.689231</td>\n",
       "      <td>21</td>\n",
       "    </tr>\n",
       "    <tr>\n",
       "      <th>Python</th>\n",
       "      <td>4005.782929</td>\n",
       "      <td>85.229424</td>\n",
       "      <td>190.613929</td>\n",
       "      <td>47</td>\n",
       "    </tr>\n",
       "    <tr>\n",
       "      <th>Logging in Python</th>\n",
       "      <td>4669.419842</td>\n",
       "      <td>126.200536</td>\n",
       "      <td>417.147881</td>\n",
       "      <td>37</td>\n",
       "    </tr>\n",
       "    <tr>\n",
       "      <th>FSLogix</th>\n",
       "      <td>4801.836627</td>\n",
       "      <td>200.076526</td>\n",
       "      <td>570.499427</td>\n",
       "      <td>24</td>\n",
       "    </tr>\n",
       "    <tr>\n",
       "      <th>PnP PowerShell</th>\n",
       "      <td>5543.773185</td>\n",
       "      <td>76.996850</td>\n",
       "      <td>577.671451</td>\n",
       "      <td>72</td>\n",
       "    </tr>\n",
       "    <tr>\n",
       "      <th>Powershell Modules</th>\n",
       "      <td>5992.317678</td>\n",
       "      <td>127.496121</td>\n",
       "      <td>566.358435</td>\n",
       "      <td>47</td>\n",
       "    </tr>\n",
       "    <tr>\n",
       "      <th>JavaScript Concepts</th>\n",
       "      <td>6431.649076</td>\n",
       "      <td>121.351869</td>\n",
       "      <td>645.606656</td>\n",
       "      <td>53</td>\n",
       "    </tr>\n",
       "    <tr>\n",
       "      <th>Vocab</th>\n",
       "      <td>7226.078242</td>\n",
       "      <td>118.460299</td>\n",
       "      <td>509.248758</td>\n",
       "      <td>61</td>\n",
       "    </tr>\n",
       "    <tr>\n",
       "      <th>Azure Developer Associate</th>\n",
       "      <td>9716.523775</td>\n",
       "      <td>154.230536</td>\n",
       "      <td>680.102091</td>\n",
       "      <td>63</td>\n",
       "    </tr>\n",
       "  </tbody>\n",
       "</table>\n",
       "</div>"
      ],
      "text/plain": [
       "                                            age_sum    age_mean     age_max  \\\n",
       "Azure AD Authentication                  366.256381   28.173568   38.813765   \n",
       "RAG Project                              667.920219   27.830009   38.557929   \n",
       "Azure DevOps Pipelines                   716.543235   27.559355   37.312428   \n",
       "SharePoint                              1119.580672  124.397852  275.028551   \n",
       "Email Auth and Security                 1652.617680  137.718140  501.126081   \n",
       "Audit Report Tracker (Sharepoint List)  1792.542805  149.378567  382.692976   \n",
       "WSL + Kali Linux                        2135.186427  152.513316  471.696576   \n",
       "Azure Functions + Visual Studio         2394.981191  184.229322  532.161235   \n",
       "IW Migration                            2654.539571  189.609969  549.770392   \n",
       "Todd Ideas                              2752.315801  183.487720  586.881407   \n",
       "Open Source/GitHub                      2791.807144  174.487946  639.906530   \n",
       "Debugging in VS Code                    2914.595684  145.729784  389.622894   \n",
       "Terraform                               3189.793601  127.591744  407.525247   \n",
       "Azure Functions + PP365                 3753.815136  178.753102  620.689231   \n",
       "Python                                  4005.782929   85.229424  190.613929   \n",
       "Logging in Python                       4669.419842  126.200536  417.147881   \n",
       "FSLogix                                 4801.836627  200.076526  570.499427   \n",
       "PnP PowerShell                          5543.773185   76.996850  577.671451   \n",
       "Powershell Modules                      5992.317678  127.496121  566.358435   \n",
       "JavaScript Concepts                     6431.649076  121.351869  645.606656   \n",
       "Vocab                                   7226.078242  118.460299  509.248758   \n",
       "Azure Developer Associate               9716.523775  154.230536  680.102091   \n",
       "\n",
       "                                        head_count  \n",
       "Azure AD Authentication                         13  \n",
       "RAG Project                                     24  \n",
       "Azure DevOps Pipelines                          26  \n",
       "SharePoint                                       9  \n",
       "Email Auth and Security                         12  \n",
       "Audit Report Tracker (Sharepoint List)          12  \n",
       "WSL + Kali Linux                                14  \n",
       "Azure Functions + Visual Studio                 13  \n",
       "IW Migration                                    14  \n",
       "Todd Ideas                                      15  \n",
       "Open Source/GitHub                              16  \n",
       "Debugging in VS Code                            20  \n",
       "Terraform                                       25  \n",
       "Azure Functions + PP365                         21  \n",
       "Python                                          47  \n",
       "Logging in Python                               37  \n",
       "FSLogix                                         24  \n",
       "PnP PowerShell                                  72  \n",
       "Powershell Modules                              47  \n",
       "JavaScript Concepts                             53  \n",
       "Vocab                                           61  \n",
       "Azure Developer Associate                       63  "
      ]
     },
     "execution_count": 75,
     "metadata": {},
     "output_type": "execute_result"
    }
   ],
   "source": [
    "stats = existing_cards.groupby('head').agg({'age': ['sum', 'mean', 'max'], 'head': 'count'}).sort_values(('age', 'sum'))\n",
    "stats.columns = stats.columns.to_flat_index()\n",
    "stats.columns = ['_'.join(col).strip() for col in stats.columns]\n",
    "stats.index.name = None\n",
    "stats"
   ]
  },
  {
   "cell_type": "markdown",
   "metadata": {},
   "source": [
    "# Histogram"
   ]
  },
  {
   "cell_type": "code",
   "execution_count": null,
   "metadata": {},
   "outputs": [
    {
     "name": "stdout",
     "output_type": "stream",
     "text": [
      "sum of ages: ~ 77289.88\n"
     ]
    },
    {
     "data": {
      "text/plain": [
       "<Axes: >"
      ]
     },
     "execution_count": 76,
     "metadata": {},
     "output_type": "execute_result"
    },
    {
     "data": {
      "image/png": "[encoded data removed]",
      "text/plain": [
       "<Figure size 640x480 with 1 Axes>"
      ]
     },
     "metadata": {},
     "output_type": "display_data"
    }
   ],
   "source": [
    "print(f\"sum of ages: ~{existing_cards['age'].sum(0):.2f}\")\n",
    "existing_cards['age'].hist(bins=20)"
   ]
  },
  {
   "cell_type": "markdown",
   "metadata": {},
   "source": [
    "# Completely Random Shuffle"
   ]
  },
  {
   "cell_type": "code",
   "execution_count": 77,
   "metadata": {},
   "outputs": [],
   "source": [
    "# existing_cards = existing_cards.sample(frac=1)\n",
    "# remake_card_document(filename='certcards2.txt', existing_cards = existing_cards)"
   ]
  },
  {
   "cell_type": "markdown",
   "metadata": {},
   "source": [
    "# Age Sort"
   ]
  },
  {
   "cell_type": "code",
   "execution_count": 78,
   "metadata": {},
   "outputs": [],
   "source": [
    "# existing_cards = existing_cards.sort_values('age', ascending=False)\n",
    "# remake_card_document(filename='certcards2.txt', existing_cards=existing_cards)\n",
    "# existing_cards.head(10)"
   ]
  },
  {
   "cell_type": "markdown",
   "metadata": {},
   "source": [
    "# Headers with fewest notes first"
   ]
  },
  {
   "cell_type": "code",
   "execution_count": 79,
   "metadata": {},
   "outputs": [],
   "source": [
    "# frequency = existing_cards['head'].value_counts(ascending=True)\n",
    "\n",
    "# existing_cards = pd.merge(\n",
    "#     left=existing_cards,\n",
    "#     right=frequency.rename('frequency'),\n",
    "#     left_on='head', right_index=True,\n",
    "#     how='left'\n",
    "# )\n",
    "# existing_cards['oldest'] = existing_cards.groupby('head')['age'].transform('max')\n",
    "# existing_cards['subject_highest_age'] = existing_cards['subject_highest_age'] * -1\n",
    "# existing_cards['age'] = existing_cards['age'] * -1\n",
    "\n",
    "\n",
    "# existing_cards.sort_values(['frequency', 'subject_highest_age', 'age'], ascending=True, inplace=True)\n",
    "\n",
    "# remake_card_document(filename='certcards2.txt', existing_cards=existing_cards)\n",
    "\n",
    "# existing_cards.head(10)"
   ]
  },
  {
   "cell_type": "markdown",
   "metadata": {},
   "source": [
    "# Focus on one header"
   ]
  },
  {
   "cell_type": "code",
   "execution_count": 80,
   "metadata": {},
   "outputs": [],
   "source": [
    "# heads = existing_cards['head'].value_counts()\n",
    "# heads = heads[heads > 5].index.tolist()\n",
    "# one_header = random.sample(heads, 1)[0]\n",
    "# existing_cards['pick_head'] = existing_cards['head'].apply(\n",
    "#     lambda h: 0 if h == one_header else 1 \n",
    "# )\n",
    "\n",
    "# remake_card_document(existing_cards=existing_cards.sort_values('pick_head'))"
   ]
  },
  {
   "cell_type": "markdown",
   "metadata": {},
   "source": [
    "## Header with oldest cards first"
   ]
  },
  {
   "cell_type": "code",
   "execution_count": 81,
   "metadata": {},
   "outputs": [],
   "source": [
    "# existing_cards['oldest'] = existing_cards.groupby('head')['age'].transform('max')\n",
    "# existing_cards.sort_values(['oldest', 'age'], ascending=False, inplace=True)\n",
    "# remake_card_document(existing_cards)"
   ]
  },
  {
   "cell_type": "markdown",
   "metadata": {},
   "source": [
    "## Headers with greatest mean card age first"
   ]
  },
  {
   "cell_type": "code",
   "execution_count": 82,
   "metadata": {},
   "outputs": [],
   "source": [
    "# existing_cards.sort_values(['subject_mean_age', 'age'], ascending=False, inplace=True)\n",
    "# remake_card_document(existing_cards)"
   ]
  },
  {
   "cell_type": "markdown",
   "metadata": {},
   "source": [
    "## Headers with greatest age sum first"
   ]
  },
  {
   "cell_type": "code",
   "execution_count": 83,
   "metadata": {},
   "outputs": [],
   "source": [
    "# existing_cards.sort_values(['subject_age_sum', 'age'], ascending=False, inplace=True)\n",
    "# remake_card_document(existing_cards)"
   ]
  },
  {
   "cell_type": "markdown",
   "metadata": {},
   "source": [
    "# N-fold shuffle\n"
   ]
  },
  {
   "cell_type": "markdown",
   "metadata": {},
   "source": [
    "## Age Sum"
   ]
  },
  {
   "cell_type": "code",
   "execution_count": 84,
   "metadata": {},
   "outputs": [
    {
     "name": "stdout",
     "output_type": "stream",
     "text": [
      "Cards found: 638\n",
      "Total card age: 77289.88\n"
     ]
    },
    {
     "data": {
      "text/html": [
       "<div>\n",
       "<style scoped>\n",
       "    .dataframe tbody tr th:only-of-type {\n",
       "        vertical-align: middle;\n",
       "    }\n",
       "\n",
       "    .dataframe tbody tr th {\n",
       "        vertical-align: top;\n",
       "    }\n",
       "\n",
       "    .dataframe thead th {\n",
       "        text-align: right;\n",
       "    }\n",
       "</style>\n",
       "<table border=\"1\" class=\"dataframe\">\n",
       "  <thead>\n",
       "    <tr style=\"text-align: right;\">\n",
       "      <th></th>\n",
       "      <th>head</th>\n",
       "      <th>body</th>\n",
       "      <th>hash</th>\n",
       "      <th>age</th>\n",
       "      <th>subject_mean_age</th>\n",
       "      <th>subject_highest_age</th>\n",
       "      <th>subject_age_sum</th>\n",
       "      <th>head_random_roll</th>\n",
       "      <th>count</th>\n",
       "      <th>n_fold</th>\n",
       "    </tr>\n",
       "  </thead>\n",
       "  <tbody>\n",
       "    <tr>\n",
       "      <th>0</th>\n",
       "      <td>Azure Developer Associate</td>\n",
       "      <td>Azure blob rule filter type:\\nblobIndexMatch\\n...</td>\n",
       "      <td>0f381af5a8962db3640b1cdb8454d0b9</td>\n",
       "      <td>-680.102091</td>\n",
       "      <td>154.230536</td>\n",
       "      <td>680.102091</td>\n",
       "      <td>-9716.523775</td>\n",
       "      <td>0.744213</td>\n",
       "      <td>0</td>\n",
       "      <td>0</td>\n",
       "    </tr>\n",
       "    <tr>\n",
       "      <th>1</th>\n",
       "      <td>Azure Developer Associate</td>\n",
       "      <td>Rehydration priority options include:\\n\\nHigh ...</td>\n",
       "      <td>c5266ab09964c6f01f10a5b69ce64613</td>\n",
       "      <td>-485.667335</td>\n",
       "      <td>154.230536</td>\n",
       "      <td>680.102091</td>\n",
       "      <td>-9716.523775</td>\n",
       "      <td>0.744213</td>\n",
       "      <td>3</td>\n",
       "      <td>0</td>\n",
       "    </tr>\n",
       "    <tr>\n",
       "      <th>2</th>\n",
       "      <td>Azure Developer Associate</td>\n",
       "      <td>Q: Which Azure Cache for Redis tiers support b...</td>\n",
       "      <td>955ceb84f952f9d479cdfd7dc37d5dd1</td>\n",
       "      <td>-340.241406</td>\n",
       "      <td>154.230536</td>\n",
       "      <td>680.102091</td>\n",
       "      <td>-9716.523775</td>\n",
       "      <td>0.744213</td>\n",
       "      <td>6</td>\n",
       "      <td>0</td>\n",
       "    </tr>\n",
       "    <tr>\n",
       "      <th>3</th>\n",
       "      <td>Azure Developer Associate</td>\n",
       "      <td>Q: Which Azure Cache for Redis tier allows SSD...</td>\n",
       "      <td>0c706a15353adabd89cc81778a2b54c0</td>\n",
       "      <td>-286.522713</td>\n",
       "      <td>154.230536</td>\n",
       "      <td>680.102091</td>\n",
       "      <td>-9716.523775</td>\n",
       "      <td>0.744213</td>\n",
       "      <td>9</td>\n",
       "      <td>0</td>\n",
       "    </tr>\n",
       "    <tr>\n",
       "      <th>4</th>\n",
       "      <td>Azure Developer Associate</td>\n",
       "      <td>What Azure App Service feature allows zero-dow...</td>\n",
       "      <td>28e3c8ebd28e87964bb8f152769fa636</td>\n",
       "      <td>-258.399322</td>\n",
       "      <td>154.230536</td>\n",
       "      <td>680.102091</td>\n",
       "      <td>-9716.523775</td>\n",
       "      <td>0.744213</td>\n",
       "      <td>12</td>\n",
       "      <td>0</td>\n",
       "    </tr>\n",
       "    <tr>\n",
       "      <th>5</th>\n",
       "      <td>Azure Developer Associate</td>\n",
       "      <td>In Azure App Service, what should you configur...</td>\n",
       "      <td>1e19ba3a62ce310bdbb21334e1297fd9</td>\n",
       "      <td>-218.625415</td>\n",
       "      <td>154.230536</td>\n",
       "      <td>680.102091</td>\n",
       "      <td>-9716.523775</td>\n",
       "      <td>0.744213</td>\n",
       "      <td>15</td>\n",
       "      <td>0</td>\n",
       "    </tr>\n",
       "    <tr>\n",
       "      <th>6</th>\n",
       "      <td>Azure Developer Associate</td>\n",
       "      <td>Azure blob storage rule actions:\\n  tierToCool...</td>\n",
       "      <td>3cf2cc6364bbcf82c4b5303d3639b345</td>\n",
       "      <td>-201.110772</td>\n",
       "      <td>154.230536</td>\n",
       "      <td>680.102091</td>\n",
       "      <td>-9716.523775</td>\n",
       "      <td>0.744213</td>\n",
       "      <td>18</td>\n",
       "      <td>0</td>\n",
       "    </tr>\n",
       "    <tr>\n",
       "      <th>7</th>\n",
       "      <td>Azure Developer Associate</td>\n",
       "      <td>What unique benefit does App Service Environme...</td>\n",
       "      <td>16e419ddde857690240cdad3434c3005</td>\n",
       "      <td>-173.267646</td>\n",
       "      <td>154.230536</td>\n",
       "      <td>680.102091</td>\n",
       "      <td>-9716.523775</td>\n",
       "      <td>0.744213</td>\n",
       "      <td>21</td>\n",
       "      <td>0</td>\n",
       "    </tr>\n",
       "    <tr>\n",
       "      <th>439</th>\n",
       "      <td>Azure Developer Associate</td>\n",
       "      <td>How does horizontal scaling in App Service wor...</td>\n",
       "      <td>4c477daadf4e8ea271021d8218ad8613</td>\n",
       "      <td>-144.114510</td>\n",
       "      <td>154.230536</td>\n",
       "      <td>680.102091</td>\n",
       "      <td>-9716.523775</td>\n",
       "      <td>0.744213</td>\n",
       "      <td>24</td>\n",
       "      <td>0</td>\n",
       "    </tr>\n",
       "    <tr>\n",
       "      <th>9</th>\n",
       "      <td>Azure Developer Associate</td>\n",
       "      <td>Which service provides centralized telemetry a...</td>\n",
       "      <td>79d60158ab1f570660aa3dd1233b149a</td>\n",
       "      <td>-123.352280</td>\n",
       "      <td>154.230536</td>\n",
       "      <td>680.102091</td>\n",
       "      <td>-9716.523775</td>\n",
       "      <td>0.744213</td>\n",
       "      <td>27</td>\n",
       "      <td>0</td>\n",
       "    </tr>\n",
       "  </tbody>\n",
       "</table>\n",
       "</div>"
      ],
      "text/plain": [
       "                          head  \\\n",
       "0    Azure Developer Associate   \n",
       "1    Azure Developer Associate   \n",
       "2    Azure Developer Associate   \n",
       "3    Azure Developer Associate   \n",
       "4    Azure Developer Associate   \n",
       "5    Azure Developer Associate   \n",
       "6    Azure Developer Associate   \n",
       "7    Azure Developer Associate   \n",
       "439  Azure Developer Associate   \n",
       "9    Azure Developer Associate   \n",
       "\n",
       "                                                  body  \\\n",
       "0    Azure blob rule filter type:\\nblobIndexMatch\\n...   \n",
       "1    Rehydration priority options include:\\n\\nHigh ...   \n",
       "2    Q: Which Azure Cache for Redis tiers support b...   \n",
       "3    Q: Which Azure Cache for Redis tier allows SSD...   \n",
       "4    What Azure App Service feature allows zero-dow...   \n",
       "5    In Azure App Service, what should you configur...   \n",
       "6    Azure blob storage rule actions:\\n  tierToCool...   \n",
       "7    What unique benefit does App Service Environme...   \n",
       "439  How does horizontal scaling in App Service wor...   \n",
       "9    Which service provides centralized telemetry a...   \n",
       "\n",
       "                                 hash         age  subject_mean_age  \\\n",
       "0    0f381af5a8962db3640b1cdb8454d0b9 -680.102091        154.230536   \n",
       "1    c5266ab09964c6f01f10a5b69ce64613 -485.667335        154.230536   \n",
       "2    955ceb84f952f9d479cdfd7dc37d5dd1 -340.241406        154.230536   \n",
       "3    0c706a15353adabd89cc81778a2b54c0 -286.522713        154.230536   \n",
       "4    28e3c8ebd28e87964bb8f152769fa636 -258.399322        154.230536   \n",
       "5    1e19ba3a62ce310bdbb21334e1297fd9 -218.625415        154.230536   \n",
       "6    3cf2cc6364bbcf82c4b5303d3639b345 -201.110772        154.230536   \n",
       "7    16e419ddde857690240cdad3434c3005 -173.267646        154.230536   \n",
       "439  4c477daadf4e8ea271021d8218ad8613 -144.114510        154.230536   \n",
       "9    79d60158ab1f570660aa3dd1233b149a -123.352280        154.230536   \n",
       "\n",
       "     subject_highest_age  subject_age_sum  head_random_roll  count  n_fold  \n",
       "0             680.102091     -9716.523775          0.744213      0       0  \n",
       "1             680.102091     -9716.523775          0.744213      3       0  \n",
       "2             680.102091     -9716.523775          0.744213      6       0  \n",
       "3             680.102091     -9716.523775          0.744213      9       0  \n",
       "4             680.102091     -9716.523775          0.744213     12       0  \n",
       "5             680.102091     -9716.523775          0.744213     15       0  \n",
       "6             680.102091     -9716.523775          0.744213     18       0  \n",
       "7             680.102091     -9716.523775          0.744213     21       0  \n",
       "439           680.102091     -9716.523775          0.744213     24       0  \n",
       "9             680.102091     -9716.523775          0.744213     27       0  "
      ]
     },
     "execution_count": 84,
     "metadata": {},
     "output_type": "execute_result"
    }
   ],
   "source": [
    "n=3\n",
    "existing_cards['count'] = existing_cards.sort_values('age', ascending=False).groupby('head').cumcount()\n",
    "existing_cards['n_fold'] = existing_cards['count'] % n\n",
    "\n",
    "existing_cards['subject_age_sum'] = existing_cards['subject_age_sum'] *-1\n",
    "existing_cards['age'] = existing_cards['age'] *-1\n",
    "existing_cards.sort_values(['n_fold', 'subject_age_sum', 'age'], inplace=True)\n",
    "\n",
    "remake_card_document(existing_cards=existing_cards)\n",
    "existing_cards.head(10)\n"
   ]
  },
  {
   "cell_type": "markdown",
   "metadata": {},
   "source": [
    "## Age Mean"
   ]
  },
  {
   "cell_type": "code",
   "execution_count": 85,
   "metadata": {},
   "outputs": [],
   "source": [
    "# n=3\n",
    "# existing_cards['count'] = existing_cards.sort_values('age', ascending=False).groupby('head').cumcount()\n",
    "# existing_cards['n_fold'] = existing_cards['count'] % n\n",
    "\n",
    "# existing_cards['subject_mean_age'] = existing_cards['subject_mean_age'] *-1\n",
    "# existing_cards['age'] = existing_cards['age'] *-1\n",
    "# existing_cards.sort_values(['n_fold', 'subject_mean_age', 'age'], inplace=True)\n",
    "# remake_card_document(existing_cards=existing_cards)\n",
    "\n",
    "# existing_cards.head(10)\n",
    "\n"
   ]
  },
  {
   "cell_type": "markdown",
   "metadata": {},
   "source": [
    "## Age Max"
   ]
  },
  {
   "cell_type": "code",
   "execution_count": 86,
   "metadata": {},
   "outputs": [],
   "source": [
    "# n = 1\n",
    "# existing_cards['count'] = existing_cards.sort_values('age', ascending=False).groupby('head').cumcount()\n",
    "# existing_cards['n_fold'] = existing_cards['count'] // n\n",
    "\n",
    "# if existing_cards['age'].sum() > 0:\n",
    "#     existing_cards['subject_highest_age'] = existing_cards['subject_highest_age'] *-1\n",
    "#     existing_cards['age'] = existing_cards['age'] *-1\n",
    "# # existing_cards.sort_values(['n_fold', 'subject_highest_age', 'age'], inplace=True)\n",
    "# existing_cards.sort_values(['age'], inplace=True)\n",
    "\n",
    "# remake_card_document(existing_cards=existing_cards)\n",
    "# existing_cards.head(10)\n"
   ]
  },
  {
   "cell_type": "markdown",
   "metadata": {},
   "source": [
    "## Card Count"
   ]
  },
  {
   "cell_type": "code",
   "execution_count": 87,
   "metadata": {},
   "outputs": [],
   "source": [
    "# n=10\n",
    "# existing_cards['frequency']  = existing_cards.groupby('head').transform('count')['body']\n",
    "# existing_cards['count'] = existing_cards.sort_values('age', ascending=False).groupby('head').cumcount()\n",
    "# existing_cards['n_fold'] = existing_cards['count'] // n\n",
    "\n",
    "# if existing_cards['age'].sum() > 0:\n",
    "#     # existing_cards['neg_subject_highest_age'] = existing_cards['subject_highest_age'] *-1\n",
    "#     existing_cards['neg_age'] = existing_cards['age'] *-1\n",
    "# existing_cards.sort_values(['n_fold', 'frequency', 'neg_age'], inplace=True)\n",
    "# remake_card_document(existing_cards=existing_cards)\n",
    "\n",
    "# existing_cards.head(10)\n",
    "\n"
   ]
  },
  {
   "cell_type": "markdown",
   "metadata": {},
   "source": [
    "\n",
    "## Random"
   ]
  },
  {
   "cell_type": "code",
   "execution_count": 88,
   "metadata": {},
   "outputs": [],
   "source": [
    "# n = 3\n",
    "# existing_cards['count'] = existing_cards.sort_values('age', ascending=False).groupby('head').cumcount()\n",
    "# existing_cards['n_fold'] = existing_cards['count'] % n\n",
    "# existing_cards['age'] *= -1\n",
    "# existing_cards.sort_values(['n_fold', 'head_random_roll', 'age'], inplace=True)\n",
    "# remake_card_document(existing_cards=existing_cards)\n",
    "# existing_cards.head(10)"
   ]
  },
  {
   "cell_type": "code",
   "execution_count": 89,
   "metadata": {},
   "outputs": [
    {
     "data": {
      "text/plain": [
       "head                   Azure Developer AssociateAzure Developer Assoc...\n",
       "body                   Azure blob rule filter type:\\nblobIndexMatch\\n...\n",
       "hash                   0f381af5a8962db3640b1cdb8454d0b9c5266ab09964c6...\n",
       "age                                                          -2911.40349\n",
       "subject_mean_age                                             1542.305361\n",
       "subject_highest_age                                          6801.020913\n",
       "subject_age_sum                                            -97165.237751\n",
       "head_random_roll                                                7.442131\n",
       "count                                                                135\n",
       "n_fold                                                                 0\n",
       "dtype: object"
      ]
     },
     "execution_count": 89,
     "metadata": {},
     "output_type": "execute_result"
    }
   ],
   "source": [
    "existing_cards.head(10).sum()"
   ]
  },
  {
   "cell_type": "code",
   "execution_count": 90,
   "metadata": {},
   "outputs": [
    {
     "data": {
      "text/plain": [
       "-121.1440076823563"
      ]
     },
     "execution_count": 90,
     "metadata": {},
     "output_type": "execute_result"
    }
   ],
   "source": [
    "existing_cards['age'].mean()"
   ]
  }
 ],
 "metadata": {
  "kernelspec": {
   "display_name": "Python 3",
   "language": "python",
   "name": "python3"
  },
  "language_info": {
   "codemirror_mode": {
    "name": "ipython",
    "version": 3
   },
   "file_extension": ".py",
   "mimetype": "text/x-python",
   "name": "python",
   "nbconvert_exporter": "python",
   "pygments_lexer": "ipython3",
   "version": "3.10.10"
  }
 },
 "nbformat": 4,
 "nbformat_minor": 2
}
