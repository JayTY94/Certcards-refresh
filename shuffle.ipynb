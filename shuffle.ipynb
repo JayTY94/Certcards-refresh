{
 "cells": [
  {
   "cell_type": "code",
   "execution_count": 1,
   "metadata": {},
   "outputs": [],
   "source": [
    "import re\n",
    "import random\n",
    "import pandas as pd\n",
    "import hashlib"
   ]
  },
  {
   "cell_type": "code",
   "execution_count": 2,
   "metadata": {},
   "outputs": [],
   "source": [
    "with open('certcards2.txt', mode='r', encoding='utf8') as f:\n",
    "    all_cards = f.read()\n",
    "    \n",
    "card_split_pattern = r'\\n\\n\\n\\d+\\n'\n",
    "all_cards = re.split(card_split_pattern, all_cards)\n",
    "# Use re.DOTALL to allow . to match newline characters\n",
    "card_pattern = re.compile(r'(.+?)\\n([\\s\\S]+)', re.DOTALL)\n",
    "cards = [(match.group(1), match.group(2)) for cstring in all_cards if (match := re.search(card_pattern, cstring))]\n",
    "\n",
    "# removing the cards that have no content and trimming\n",
    "cards = [(subject, stripped_content) for subject, content in cards if len(stripped_content := content.strip()) > 5]\n",
    "\n",
    "def hash_string_md5(s):\n",
    "    \"\"\"\n",
    "    Hashes a string using MD5 and returns a truncated hash for efficiency.\n",
    "\n",
    "    Parameters:\n",
    "    - s (str): The input string to hash.\n",
    "\n",
    "    Returns:\n",
    "    - str: The truncated hexadecimal hash string.\n",
    "    \"\"\"\n",
    "    if pd.isnull(s):\n",
    "        return None  # Handle NaN values gracefully\n",
    "    return hashlib.md5(s.encode('utf-8')).hexdigest()\n",
    "\n",
    "\n",
    "def remake_card_document(existing_cards: pd.DataFrame, filename: str='certcards2.txt'):\n",
    "    with open(filename, mode='w', encoding='utf8') as f:\n",
    "        i = 1\n",
    "        for _, row in existing_cards.iterrows():\n",
    "            f.write('\\n'*6)\n",
    "            f.write(str(i)+'\\n')  \n",
    "            f.write(row['head']+'\\n')\n",
    "            f.write(row['body'])\n",
    "            i+=1\n",
    "    print(F\"Cards found: {existing_cards.shape[0]}\")\n",
    "    print(F\"Total card age: {abs(existing_cards['age'].sum()):.2f}\")\n",
    "\n",
    "\n",
    "existing_cards = pd.DataFrame(cards, columns=['head', 'body'])\n",
    "\n",
    "\n",
    "# existing_cards['age'] = [random.random() for _ in existing_cards.index]\n",
    "existing_cards['hash'] = existing_cards['body'].apply(hash_string_md5)\n",
    "existing_cards\n",
    "\n",
    "card_ages = pd.read_json('card_ages.json')\n",
    "card_ages = card_ages.drop_duplicates(subset=['hash'], keep='first')\n",
    "\n",
    "cards_to_age = pd.merge(\n",
    "    left=existing_cards,\n",
    "    right=card_ages[['hash', 'age']],\n",
    "    left_on='hash', right_on='hash',\n",
    "    how='left'\n",
    ")\n",
    "\n",
    "cards_to_age['head'] = cards_to_age['head'].str.strip()\n",
    "\n",
    "if cards_to_age['age'].sum() > 2e4: age_factor = .5\n",
    "else: age_factor = 1.5\n",
    "\n",
    "cards_to_age['age'] = cards_to_age['age'].fillna(0)\n",
    "# cards_to_age['age'] = cards_to_age['age'] * age_factor\n",
    "cards_to_age['age'] = cards_to_age['age'] + [random.expovariate(.60) for _ in cards_to_age.index]\n",
    "# cards_to_age['age'] = cards_to_age['age'] * [random.expovariate(1/age_factor) for _ in cards_to_age.index]\n",
    "\n",
    "# Adding priority age growth to cards for upcoming certifications\n",
    "priority_headers = ['Azure Developer Associate']\n",
    "priority_cards_mask = cards_to_age['head'].isin(priority_headers)\n",
    "cards_to_age.loc[priority_cards_mask, 'age'] = cards_to_age.loc[priority_cards_mask, 'age'] * 1.05\n",
    "\n",
    "cards_to_age = cards_to_age.drop_duplicates(subset=['hash'], keep='first')\n",
    "\n",
    "cards_to_age['subject_mean_age'] = cards_to_age.groupby('head')['age'].transform('mean')\n",
    "cards_to_age['subject_highest_age'] = cards_to_age.groupby('head')['age'].transform('max')\n",
    "cards_to_age['subject_age_sum'] = cards_to_age.groupby('head')['age'].transform('sum')\n",
    "cards_to_age['head_random_roll'] = cards_to_age.groupby('head')['head'].transform(lambda x: random.random())\n",
    "\n",
    "\n",
    "cards_to_age.sort_values('hash')[['age', 'head', 'hash']].to_json('card_ages.json', indent=2)\n",
    "\n",
    "existing_cards = cards_to_age"
   ]
  },
  {
   "cell_type": "code",
   "execution_count": 3,
   "metadata": {},
   "outputs": [
    {
     "data": {
      "text/html": [
       "<div>\n",
       "<style scoped>\n",
       "    .dataframe tbody tr th:only-of-type {\n",
       "        vertical-align: middle;\n",
       "    }\n",
       "\n",
       "    .dataframe tbody tr th {\n",
       "        vertical-align: top;\n",
       "    }\n",
       "\n",
       "    .dataframe thead th {\n",
       "        text-align: right;\n",
       "    }\n",
       "</style>\n",
       "<table border=\"1\" class=\"dataframe\">\n",
       "  <thead>\n",
       "    <tr style=\"text-align: right;\">\n",
       "      <th></th>\n",
       "      <th>age_sum</th>\n",
       "      <th>age_mean</th>\n",
       "      <th>age_max</th>\n",
       "      <th>head_count</th>\n",
       "    </tr>\n",
       "  </thead>\n",
       "  <tbody>\n",
       "    <tr>\n",
       "      <th>Azure AD Authentication</th>\n",
       "      <td>295.601651</td>\n",
       "      <td>22.738589</td>\n",
       "      <td>27.897550</td>\n",
       "      <td>13</td>\n",
       "    </tr>\n",
       "    <tr>\n",
       "      <th>Home Network Project</th>\n",
       "      <td>383.004078</td>\n",
       "      <td>127.668026</td>\n",
       "      <td>137.614991</td>\n",
       "      <td>3</td>\n",
       "    </tr>\n",
       "    <tr>\n",
       "      <th>Azure DevOps Pipelines</th>\n",
       "      <td>568.235186</td>\n",
       "      <td>21.855199</td>\n",
       "      <td>31.717680</td>\n",
       "      <td>26</td>\n",
       "    </tr>\n",
       "    <tr>\n",
       "      <th>RAG Project</th>\n",
       "      <td>568.300030</td>\n",
       "      <td>23.679168</td>\n",
       "      <td>34.812698</td>\n",
       "      <td>24</td>\n",
       "    </tr>\n",
       "    <tr>\n",
       "      <th>Email Auth and Security</th>\n",
       "      <td>1605.042243</td>\n",
       "      <td>133.753520</td>\n",
       "      <td>498.434353</td>\n",
       "      <td>12</td>\n",
       "    </tr>\n",
       "    <tr>\n",
       "      <th>SharePoint</th>\n",
       "      <td>1888.997337</td>\n",
       "      <td>171.727031</td>\n",
       "      <td>459.833408</td>\n",
       "      <td>11</td>\n",
       "    </tr>\n",
       "    <tr>\n",
       "      <th>WSL + Kali Linux</th>\n",
       "      <td>2068.266650</td>\n",
       "      <td>147.733332</td>\n",
       "      <td>464.582696</td>\n",
       "      <td>14</td>\n",
       "    </tr>\n",
       "    <tr>\n",
       "      <th>Audit Report Tracker (Sharepoint List)</th>\n",
       "      <td>2412.643996</td>\n",
       "      <td>185.588000</td>\n",
       "      <td>666.495412</td>\n",
       "      <td>13</td>\n",
       "    </tr>\n",
       "    <tr>\n",
       "      <th>IW Migration</th>\n",
       "      <td>2586.242435</td>\n",
       "      <td>184.731603</td>\n",
       "      <td>542.213235</td>\n",
       "      <td>14</td>\n",
       "    </tr>\n",
       "    <tr>\n",
       "      <th>Todd Ideas</th>\n",
       "      <td>2680.047421</td>\n",
       "      <td>178.669828</td>\n",
       "      <td>580.559741</td>\n",
       "      <td>15</td>\n",
       "    </tr>\n",
       "    <tr>\n",
       "      <th>Open Source/GitHub</th>\n",
       "      <td>2710.124643</td>\n",
       "      <td>169.382790</td>\n",
       "      <td>632.001478</td>\n",
       "      <td>16</td>\n",
       "    </tr>\n",
       "    <tr>\n",
       "      <th>Debugging in VS Code</th>\n",
       "      <td>2826.047329</td>\n",
       "      <td>141.302366</td>\n",
       "      <td>387.236065</td>\n",
       "      <td>20</td>\n",
       "    </tr>\n",
       "    <tr>\n",
       "      <th>Azure Functions + Visual Studio</th>\n",
       "      <td>2978.439732</td>\n",
       "      <td>212.745695</td>\n",
       "      <td>646.665764</td>\n",
       "      <td>14</td>\n",
       "    </tr>\n",
       "    <tr>\n",
       "      <th>Terraform</th>\n",
       "      <td>3053.818832</td>\n",
       "      <td>122.152753</td>\n",
       "      <td>405.641629</td>\n",
       "      <td>25</td>\n",
       "    </tr>\n",
       "    <tr>\n",
       "      <th>Python</th>\n",
       "      <td>3773.061299</td>\n",
       "      <td>80.277900</td>\n",
       "      <td>188.100280</td>\n",
       "      <td>47</td>\n",
       "    </tr>\n",
       "    <tr>\n",
       "      <th>Azure Functions + PP365</th>\n",
       "      <td>4330.330646</td>\n",
       "      <td>196.833211</td>\n",
       "      <td>690.683675</td>\n",
       "      <td>22</td>\n",
       "    </tr>\n",
       "    <tr>\n",
       "      <th>Logging in Python</th>\n",
       "      <td>4453.042102</td>\n",
       "      <td>120.352489</td>\n",
       "      <td>415.214893</td>\n",
       "      <td>37</td>\n",
       "    </tr>\n",
       "    <tr>\n",
       "      <th>FSLogix</th>\n",
       "      <td>4675.803702</td>\n",
       "      <td>194.825154</td>\n",
       "      <td>561.447048</td>\n",
       "      <td>24</td>\n",
       "    </tr>\n",
       "    <tr>\n",
       "      <th>PnP Powershell</th>\n",
       "      <td>5307.432385</td>\n",
       "      <td>196.571570</td>\n",
       "      <td>572.386039</td>\n",
       "      <td>27</td>\n",
       "    </tr>\n",
       "    <tr>\n",
       "      <th>Powershell Modules</th>\n",
       "      <td>5735.335051</td>\n",
       "      <td>122.028405</td>\n",
       "      <td>563.528463</td>\n",
       "      <td>47</td>\n",
       "    </tr>\n",
       "    <tr>\n",
       "      <th>JavaScript Concepts</th>\n",
       "      <td>6187.538213</td>\n",
       "      <td>116.746004</td>\n",
       "      <td>636.993474</td>\n",
       "      <td>53</td>\n",
       "    </tr>\n",
       "    <tr>\n",
       "      <th>Vocab</th>\n",
       "      <td>7594.418684</td>\n",
       "      <td>122.490624</td>\n",
       "      <td>653.323319</td>\n",
       "      <td>62</td>\n",
       "    </tr>\n",
       "    <tr>\n",
       "      <th>Azure Developer Associate</th>\n",
       "      <td>8979.441358</td>\n",
       "      <td>140.303771</td>\n",
       "      <td>897.283528</td>\n",
       "      <td>64</td>\n",
       "    </tr>\n",
       "  </tbody>\n",
       "</table>\n",
       "</div>"
      ],
      "text/plain": [
       "                                            age_sum    age_mean     age_max  \\\n",
       "Azure AD Authentication                  295.601651   22.738589   27.897550   \n",
       "Home Network Project                     383.004078  127.668026  137.614991   \n",
       "Azure DevOps Pipelines                   568.235186   21.855199   31.717680   \n",
       "RAG Project                              568.300030   23.679168   34.812698   \n",
       "Email Auth and Security                 1605.042243  133.753520  498.434353   \n",
       "SharePoint                              1888.997337  171.727031  459.833408   \n",
       "WSL + Kali Linux                        2068.266650  147.733332  464.582696   \n",
       "Audit Report Tracker (Sharepoint List)  2412.643996  185.588000  666.495412   \n",
       "IW Migration                            2586.242435  184.731603  542.213235   \n",
       "Todd Ideas                              2680.047421  178.669828  580.559741   \n",
       "Open Source/GitHub                      2710.124643  169.382790  632.001478   \n",
       "Debugging in VS Code                    2826.047329  141.302366  387.236065   \n",
       "Azure Functions + Visual Studio         2978.439732  212.745695  646.665764   \n",
       "Terraform                               3053.818832  122.152753  405.641629   \n",
       "Python                                  3773.061299   80.277900  188.100280   \n",
       "Azure Functions + PP365                 4330.330646  196.833211  690.683675   \n",
       "Logging in Python                       4453.042102  120.352489  415.214893   \n",
       "FSLogix                                 4675.803702  194.825154  561.447048   \n",
       "PnP Powershell                          5307.432385  196.571570  572.386039   \n",
       "Powershell Modules                      5735.335051  122.028405  563.528463   \n",
       "JavaScript Concepts                     6187.538213  116.746004  636.993474   \n",
       "Vocab                                   7594.418684  122.490624  653.323319   \n",
       "Azure Developer Associate               8979.441358  140.303771  897.283528   \n",
       "\n",
       "                                        head_count  \n",
       "Azure AD Authentication                         13  \n",
       "Home Network Project                             3  \n",
       "Azure DevOps Pipelines                          26  \n",
       "RAG Project                                     24  \n",
       "Email Auth and Security                         12  \n",
       "SharePoint                                      11  \n",
       "WSL + Kali Linux                                14  \n",
       "Audit Report Tracker (Sharepoint List)          13  \n",
       "IW Migration                                    14  \n",
       "Todd Ideas                                      15  \n",
       "Open Source/GitHub                              16  \n",
       "Debugging in VS Code                            20  \n",
       "Azure Functions + Visual Studio                 14  \n",
       "Terraform                                       25  \n",
       "Python                                          47  \n",
       "Azure Functions + PP365                         22  \n",
       "Logging in Python                               37  \n",
       "FSLogix                                         24  \n",
       "PnP Powershell                                  27  \n",
       "Powershell Modules                              47  \n",
       "JavaScript Concepts                             53  \n",
       "Vocab                                           62  \n",
       "Azure Developer Associate                       64  "
      ]
     },
     "execution_count": 3,
     "metadata": {},
     "output_type": "execute_result"
    }
   ],
   "source": [
    "stats = existing_cards.groupby('head').agg({'age': ['sum', 'mean', 'max'], 'head': 'count'}).sort_values(('age', 'sum'))\n",
    "stats.columns = stats.columns.to_flat_index()\n",
    "stats.columns = ['_'.join(col).strip() for col in stats.columns]\n",
    "stats.index.name = None\n",
    "stats"
   ]
  },
  {
   "cell_type": "markdown",
   "metadata": {},
   "source": [
    "# Histogram"
   ]
  },
  {
   "cell_type": "code",
   "execution_count": 4,
   "metadata": {},
   "outputs": [
    {
     "name": "stdout",
     "output_type": "stream",
     "text": [
      "sum of ages: ~ 77661.22\n"
     ]
    },
    {
     "data": {
      "text/plain": [
       "<Axes: >"
      ]
     },
     "execution_count": 4,
     "metadata": {},
     "output_type": "execute_result"
    },
    {
     "data": {
      "image/png": "[encoded data removed]",
      "text/plain": [
       "<Figure size 640x480 with 1 Axes>"
      ]
     },
     "metadata": {},
     "output_type": "display_data"
    }
   ],
   "source": [
    "print(f\"sum of ages: ~ {existing_cards['age'].sum(0):.2f}\")\n",
    "existing_cards['age'].hist(bins=20)"
   ]
  },
  {
   "cell_type": "markdown",
   "metadata": {},
   "source": [
    "# Completely Random Shuffle"
   ]
  },
  {
   "cell_type": "code",
   "execution_count": 5,
   "metadata": {},
   "outputs": [],
   "source": [
    "# existing_cards = existing_cards.sample(frac=1)\n",
    "# remake_card_document(filename='certcards2.txt', existing_cards = existing_cards)"
   ]
  },
  {
   "cell_type": "markdown",
   "metadata": {},
   "source": [
    "# Age Sort"
   ]
  },
  {
   "cell_type": "code",
   "execution_count": 6,
   "metadata": {},
   "outputs": [],
   "source": [
    "# existing_cards = existing_cards.sort_values('age', ascending=False)\n",
    "# remake_card_document(filename='certcards2.txt', existing_cards=existing_cards)\n",
    "# existing_cards.head(10)"
   ]
  },
  {
   "cell_type": "markdown",
   "metadata": {},
   "source": [
    "# Headers with fewest notes first"
   ]
  },
  {
   "cell_type": "code",
   "execution_count": 7,
   "metadata": {},
   "outputs": [],
   "source": [
    "# frequency = existing_cards['head'].value_counts(ascending=True)\n",
    "\n",
    "# existing_cards = pd.merge(\n",
    "#     left=existing_cards,\n",
    "#     right=frequency.rename('frequency'),\n",
    "#     left_on='head', right_index=True,\n",
    "#     how='left'\n",
    "# )\n",
    "# existing_cards['oldest'] = existing_cards.groupby('head')['age'].transform('max')\n",
    "# existing_cards['subject_highest_age'] = existing_cards['subject_highest_age'] * -1\n",
    "# existing_cards['age'] = existing_cards['age'] * -1\n",
    "\n",
    "\n",
    "# existing_cards.sort_values(['frequency', 'subject_highest_age', 'age'], ascending=True, inplace=True)\n",
    "\n",
    "# remake_card_document(filename='certcards2.txt', existing_cards=existing_cards)\n",
    "\n",
    "# existing_cards.head(10)"
   ]
  },
  {
   "cell_type": "markdown",
   "metadata": {},
   "source": [
    "# Focus on one header"
   ]
  },
  {
   "cell_type": "code",
   "execution_count": 8,
   "metadata": {},
   "outputs": [],
   "source": [
    "# heads = existing_cards['head'].value_counts()\n",
    "# heads = heads[heads > 5].index.tolist()\n",
    "# one_header = random.sample(heads, 1)[0]\n",
    "# existing_cards['pick_head'] = existing_cards['head'].apply(\n",
    "#     lambda h: 0 if h == one_header else 1 \n",
    "# )\n",
    "\n",
    "# remake_card_document(existing_cards=existing_cards.sort_values('pick_head'))"
   ]
  },
  {
   "cell_type": "markdown",
   "metadata": {},
   "source": [
    "## Header with oldest cards first"
   ]
  },
  {
   "cell_type": "code",
   "execution_count": 9,
   "metadata": {},
   "outputs": [],
   "source": [
    "# existing_cards['oldest'] = existing_cards.groupby('head')['age'].transform('max')\n",
    "# existing_cards.sort_values(['oldest', 'age'], ascending=False, inplace=True)\n",
    "# remake_card_document(existing_cards)"
   ]
  },
  {
   "cell_type": "markdown",
   "metadata": {},
   "source": [
    "## Headers with greatest mean card age first"
   ]
  },
  {
   "cell_type": "code",
   "execution_count": 10,
   "metadata": {},
   "outputs": [],
   "source": [
    "# existing_cards.sort_values(['subject_mean_age', 'age'], ascending=False, inplace=True)\n",
    "# remake_card_document(existing_cards)"
   ]
  },
  {
   "cell_type": "markdown",
   "metadata": {},
   "source": [
    "## Headers with greatest age sum first"
   ]
  },
  {
   "cell_type": "code",
   "execution_count": 11,
   "metadata": {},
   "outputs": [],
   "source": [
    "# existing_cards.sort_values(['subject_age_sum', 'age'], ascending=False, inplace=True)\n",
    "# remake_card_document(existing_cards)"
   ]
  },
  {
   "cell_type": "markdown",
   "metadata": {},
   "source": [
    "# N-fold shuffle\n"
   ]
  },
  {
   "cell_type": "markdown",
   "metadata": {},
   "source": [
    "## Age Sum"
   ]
  },
  {
   "cell_type": "code",
   "execution_count": 12,
   "metadata": {},
   "outputs": [],
   "source": [
    "# n=3\n",
    "# existing_cards['count'] = existing_cards.sort_values('age', ascending=False).groupby('head').cumcount()\n",
    "# existing_cards['n_fold'] = existing_cards['count'] % n\n",
    "\n",
    "# existing_cards['subject_age_sum'] = existing_cards['subject_age_sum'] *-1\n",
    "# existing_cards['age'] = existing_cards['age'] *-1\n",
    "# existing_cards.sort_values(['n_fold', 'subject_age_sum', 'age'], inplace=True)\n",
    "\n",
    "# remake_card_document(existing_cards=existing_cards)\n",
    "# existing_cards.head(10)\n"
   ]
  },
  {
   "cell_type": "markdown",
   "metadata": {},
   "source": [
    "## Age Mean"
   ]
  },
  {
   "cell_type": "code",
   "execution_count": 13,
   "metadata": {},
   "outputs": [],
   "source": [
    "# n=3\n",
    "# existing_cards['count'] = existing_cards.sort_values('age', ascending=False).groupby('head').cumcount()\n",
    "# existing_cards['n_fold'] = existing_cards['count'] % n\n",
    "\n",
    "# existing_cards['subject_mean_age'] = existing_cards['subject_mean_age'] *-1\n",
    "# existing_cards['age'] = existing_cards['age'] *-1\n",
    "# existing_cards.sort_values(['n_fold', 'subject_mean_age', 'age'], inplace=True)\n",
    "# remake_card_document(existing_cards=existing_cards)\n",
    "\n",
    "# existing_cards.head(10)\n",
    "\n"
   ]
  },
  {
   "cell_type": "markdown",
   "metadata": {},
   "source": [
    "## Age Max"
   ]
  },
  {
   "cell_type": "code",
   "execution_count": 14,
   "metadata": {},
   "outputs": [
    {
     "name": "stdout",
     "output_type": "stream",
     "text": [
      "Cards found: 603\n",
      "Total card age: 77661.22\n"
     ]
    },
    {
     "data": {
      "text/html": [
       "<div>\n",
       "<style scoped>\n",
       "    .dataframe tbody tr th:only-of-type {\n",
       "        vertical-align: middle;\n",
       "    }\n",
       "\n",
       "    .dataframe tbody tr th {\n",
       "        vertical-align: top;\n",
       "    }\n",
       "\n",
       "    .dataframe thead th {\n",
       "        text-align: right;\n",
       "    }\n",
       "</style>\n",
       "<table border=\"1\" class=\"dataframe\">\n",
       "  <thead>\n",
       "    <tr style=\"text-align: right;\">\n",
       "      <th></th>\n",
       "      <th>head</th>\n",
       "      <th>body</th>\n",
       "      <th>hash</th>\n",
       "      <th>age</th>\n",
       "      <th>subject_mean_age</th>\n",
       "      <th>subject_highest_age</th>\n",
       "      <th>subject_age_sum</th>\n",
       "      <th>head_random_roll</th>\n",
       "      <th>count</th>\n",
       "      <th>n_fold</th>\n",
       "    </tr>\n",
       "  </thead>\n",
       "  <tbody>\n",
       "    <tr>\n",
       "      <th>61</th>\n",
       "      <td>Azure Developer Associate</td>\n",
       "      <td>Azure blob rule filter type:\\nprefixMatch\\t\\n ...</td>\n",
       "      <td>3e0db9d7f80b3b781b1705f9dea8cc28</td>\n",
       "      <td>-897.283528</td>\n",
       "      <td>140.303771</td>\n",
       "      <td>-897.283528</td>\n",
       "      <td>8979.441358</td>\n",
       "      <td>0.437594</td>\n",
       "      <td>0</td>\n",
       "      <td>0</td>\n",
       "    </tr>\n",
       "    <tr>\n",
       "      <th>8</th>\n",
       "      <td>Azure Functions + PP365</td>\n",
       "      <td>Function App Plan\\nThe hosting plan for Azure ...</td>\n",
       "      <td>7921bc987fbefd3f592746dac4bd95d3</td>\n",
       "      <td>-690.683675</td>\n",
       "      <td>196.833211</td>\n",
       "      <td>-690.683675</td>\n",
       "      <td>4330.330646</td>\n",
       "      <td>0.673170</td>\n",
       "      <td>0</td>\n",
       "      <td>0</td>\n",
       "    </tr>\n",
       "    <tr>\n",
       "      <th>24</th>\n",
       "      <td>Audit Report Tracker (Sharepoint List)</td>\n",
       "      <td>Permissions (SharePoint Permissions)\\nDefiniti...</td>\n",
       "      <td>478e966342056d5e8f7733388947e310</td>\n",
       "      <td>-666.495412</td>\n",
       "      <td>185.588000</td>\n",
       "      <td>-666.495412</td>\n",
       "      <td>2412.643996</td>\n",
       "      <td>0.739734</td>\n",
       "      <td>0</td>\n",
       "      <td>0</td>\n",
       "    </tr>\n",
       "    <tr>\n",
       "      <th>97</th>\n",
       "      <td>Vocab</td>\n",
       "      <td>Jane Eyre\\nArrogate\\n(AIR-uh-gate) To seize or...</td>\n",
       "      <td>abdee2768765b5649d80a35cf8a997b5</td>\n",
       "      <td>-653.323319</td>\n",
       "      <td>122.490624</td>\n",
       "      <td>-653.323319</td>\n",
       "      <td>7594.418684</td>\n",
       "      <td>0.387422</td>\n",
       "      <td>0</td>\n",
       "      <td>0</td>\n",
       "    </tr>\n",
       "    <tr>\n",
       "      <th>3</th>\n",
       "      <td>Azure Functions + Visual Studio</td>\n",
       "      <td>ASP.NET provides comprehensive authentication ...</td>\n",
       "      <td>330fd2097e621b0c3632fdb5da8f9714</td>\n",
       "      <td>-646.665764</td>\n",
       "      <td>212.745695</td>\n",
       "      <td>-646.665764</td>\n",
       "      <td>2978.439732</td>\n",
       "      <td>0.673210</td>\n",
       "      <td>0</td>\n",
       "      <td>0</td>\n",
       "    </tr>\n",
       "    <tr>\n",
       "      <th>147</th>\n",
       "      <td>JavaScript Concepts</td>\n",
       "      <td>GraphQL: A query language for APIs that allows...</td>\n",
       "      <td>7e7b34d3208558b7ef2938d10bb39b64</td>\n",
       "      <td>-636.993474</td>\n",
       "      <td>116.746004</td>\n",
       "      <td>-636.993474</td>\n",
       "      <td>6187.538213</td>\n",
       "      <td>0.513482</td>\n",
       "      <td>0</td>\n",
       "      <td>0</td>\n",
       "    </tr>\n",
       "    <tr>\n",
       "      <th>43</th>\n",
       "      <td>Open Source/GitHub</td>\n",
       "      <td>Contributor\\n\\nAn individual who contributes c...</td>\n",
       "      <td>38bb149465fee49766142779308d79d1</td>\n",
       "      <td>-632.001478</td>\n",
       "      <td>169.382790</td>\n",
       "      <td>-632.001478</td>\n",
       "      <td>2710.124643</td>\n",
       "      <td>0.756338</td>\n",
       "      <td>0</td>\n",
       "      <td>0</td>\n",
       "    </tr>\n",
       "    <tr>\n",
       "      <th>220</th>\n",
       "      <td>Azure Functions + PP365</td>\n",
       "      <td>Function Proxies\\nA feature in Azure Functions...</td>\n",
       "      <td>bf413ded3c5197d25ae6a124a6fa1574</td>\n",
       "      <td>-616.548321</td>\n",
       "      <td>196.833211</td>\n",
       "      <td>-690.683675</td>\n",
       "      <td>4330.330646</td>\n",
       "      <td>0.673170</td>\n",
       "      <td>1</td>\n",
       "      <td>1</td>\n",
       "    </tr>\n",
       "    <tr>\n",
       "      <th>424</th>\n",
       "      <td>Azure Functions + PP365</td>\n",
       "      <td>HTTP Triggers\\nA type of function trigger that...</td>\n",
       "      <td>b9e42ab2e8e591023bd1aa43b8509bfc</td>\n",
       "      <td>-610.724220</td>\n",
       "      <td>196.833211</td>\n",
       "      <td>-690.683675</td>\n",
       "      <td>4330.330646</td>\n",
       "      <td>0.673170</td>\n",
       "      <td>2</td>\n",
       "      <td>2</td>\n",
       "    </tr>\n",
       "    <tr>\n",
       "      <th>270</th>\n",
       "      <td>Azure Developer Associate</td>\n",
       "      <td>Azure blob rule filter type:\\nblobIndexMatch\\n...</td>\n",
       "      <td>0f381af5a8962db3640b1cdb8454d0b9</td>\n",
       "      <td>-585.199014</td>\n",
       "      <td>140.303771</td>\n",
       "      <td>-897.283528</td>\n",
       "      <td>8979.441358</td>\n",
       "      <td>0.437594</td>\n",
       "      <td>1</td>\n",
       "      <td>1</td>\n",
       "    </tr>\n",
       "  </tbody>\n",
       "</table>\n",
       "</div>"
      ],
      "text/plain": [
       "                                       head  \\\n",
       "61                Azure Developer Associate   \n",
       "8                   Azure Functions + PP365   \n",
       "24   Audit Report Tracker (Sharepoint List)   \n",
       "97                                    Vocab   \n",
       "3           Azure Functions + Visual Studio   \n",
       "147                     JavaScript Concepts   \n",
       "43                       Open Source/GitHub   \n",
       "220                 Azure Functions + PP365   \n",
       "424                 Azure Functions + PP365   \n",
       "270               Azure Developer Associate   \n",
       "\n",
       "                                                  body  \\\n",
       "61   Azure blob rule filter type:\\nprefixMatch\\t\\n ...   \n",
       "8    Function App Plan\\nThe hosting plan for Azure ...   \n",
       "24   Permissions (SharePoint Permissions)\\nDefiniti...   \n",
       "97   Jane Eyre\\nArrogate\\n(AIR-uh-gate) To seize or...   \n",
       "3    ASP.NET provides comprehensive authentication ...   \n",
       "147  GraphQL: A query language for APIs that allows...   \n",
       "43   Contributor\\n\\nAn individual who contributes c...   \n",
       "220  Function Proxies\\nA feature in Azure Functions...   \n",
       "424  HTTP Triggers\\nA type of function trigger that...   \n",
       "270  Azure blob rule filter type:\\nblobIndexMatch\\n...   \n",
       "\n",
       "                                 hash         age  subject_mean_age  \\\n",
       "61   3e0db9d7f80b3b781b1705f9dea8cc28 -897.283528        140.303771   \n",
       "8    7921bc987fbefd3f592746dac4bd95d3 -690.683675        196.833211   \n",
       "24   478e966342056d5e8f7733388947e310 -666.495412        185.588000   \n",
       "97   abdee2768765b5649d80a35cf8a997b5 -653.323319        122.490624   \n",
       "3    330fd2097e621b0c3632fdb5da8f9714 -646.665764        212.745695   \n",
       "147  7e7b34d3208558b7ef2938d10bb39b64 -636.993474        116.746004   \n",
       "43   38bb149465fee49766142779308d79d1 -632.001478        169.382790   \n",
       "220  bf413ded3c5197d25ae6a124a6fa1574 -616.548321        196.833211   \n",
       "424  b9e42ab2e8e591023bd1aa43b8509bfc -610.724220        196.833211   \n",
       "270  0f381af5a8962db3640b1cdb8454d0b9 -585.199014        140.303771   \n",
       "\n",
       "     subject_highest_age  subject_age_sum  head_random_roll  count  n_fold  \n",
       "61           -897.283528      8979.441358          0.437594      0       0  \n",
       "8            -690.683675      4330.330646          0.673170      0       0  \n",
       "24           -666.495412      2412.643996          0.739734      0       0  \n",
       "97           -653.323319      7594.418684          0.387422      0       0  \n",
       "3            -646.665764      2978.439732          0.673210      0       0  \n",
       "147          -636.993474      6187.538213          0.513482      0       0  \n",
       "43           -632.001478      2710.124643          0.756338      0       0  \n",
       "220          -690.683675      4330.330646          0.673170      1       1  \n",
       "424          -690.683675      4330.330646          0.673170      2       2  \n",
       "270          -897.283528      8979.441358          0.437594      1       1  "
      ]
     },
     "execution_count": 14,
     "metadata": {},
     "output_type": "execute_result"
    }
   ],
   "source": [
    "n = 1\n",
    "existing_cards['count'] = existing_cards.sort_values('age', ascending=False).groupby('head').cumcount()\n",
    "existing_cards['n_fold'] = existing_cards['count'] // n\n",
    "\n",
    "if existing_cards['age'].sum() > 0:\n",
    "    existing_cards['subject_highest_age'] = existing_cards['subject_highest_age'] *-1\n",
    "    existing_cards['age'] = existing_cards['age'] *-1\n",
    "# existing_cards.sort_values(['n_fold', 'subject_highest_age', 'age'], inplace=True)\n",
    "existing_cards.sort_values(['age'], inplace=True)\n",
    "\n",
    "remake_card_document(existing_cards=existing_cards)\n",
    "existing_cards.head(10)\n"
   ]
  },
  {
   "cell_type": "markdown",
   "metadata": {},
   "source": [
    "## Card Count"
   ]
  },
  {
   "cell_type": "code",
   "execution_count": 15,
   "metadata": {},
   "outputs": [],
   "source": [
    "# n=10\n",
    "# existing_cards['frequency']  = existing_cards.groupby('head').transform('count')['body']\n",
    "# existing_cards['count'] = existing_cards.sort_values('age', ascending=False).groupby('head').cumcount()\n",
    "# existing_cards['n_fold'] = existing_cards['count'] // n\n",
    "\n",
    "# if existing_cards['age'].sum() > 0:\n",
    "#     # existing_cards['neg_subject_highest_age'] = existing_cards['subject_highest_age'] *-1\n",
    "#     existing_cards['neg_age'] = existing_cards['age'] *-1\n",
    "# existing_cards.sort_values(['n_fold', 'frequency', 'neg_age'], inplace=True)\n",
    "# remake_card_document(existing_cards=existing_cards)\n",
    "\n",
    "# existing_cards.head(10)\n",
    "\n"
   ]
  },
  {
   "cell_type": "markdown",
   "metadata": {},
   "source": [
    "\n",
    "## Random"
   ]
  },
  {
   "cell_type": "code",
   "execution_count": 16,
   "metadata": {},
   "outputs": [],
   "source": [
    "# n = 3\n",
    "# existing_cards['count'] = existing_cards.sort_values('age', ascending=False).groupby('head').cumcount()\n",
    "# existing_cards['n_fold'] = existing_cards['count'] % n\n",
    "# existing_cards['age'] *= -1\n",
    "# existing_cards.sort_values(['n_fold', 'head_random_roll', 'age'], inplace=True)\n",
    "# remake_card_document(existing_cards=existing_cards)\n",
    "# existing_cards.head(10)"
   ]
  },
  {
   "cell_type": "code",
   "execution_count": 17,
   "metadata": {},
   "outputs": [
    {
     "data": {
      "text/plain": [
       "head                   Azure Developer AssociateAzure Functions + PP3...\n",
       "body                   Azure blob rule filter type:\\nprefixMatch\\t\\n ...\n",
       "hash                   3e0db9d7f80b3b781b1705f9dea8cc287921bc987fbefd...\n",
       "age                                                         -6635.918204\n",
       "subject_mean_age                                             1678.060289\n",
       "subject_highest_age                                         -7102.097527\n",
       "subject_age_sum                                             52833.039921\n",
       "head_random_roll                                                5.964884\n",
       "count                                                                  4\n",
       "n_fold                                                                 4\n",
       "dtype: object"
      ]
     },
     "execution_count": 17,
     "metadata": {},
     "output_type": "execute_result"
    }
   ],
   "source": [
    "existing_cards.head(10).sum()"
   ]
  },
  {
   "cell_type": "code",
   "execution_count": 18,
   "metadata": {},
   "outputs": [
    {
     "data": {
      "text/plain": [
       "-128.79140133296875"
      ]
     },
     "execution_count": 18,
     "metadata": {},
     "output_type": "execute_result"
    }
   ],
   "source": [
    "existing_cards['age'].mean()"
   ]
  }
 ],
 "metadata": {
  "kernelspec": {
   "display_name": "Python 3",
   "language": "python",
   "name": "python3"
  },
  "language_info": {
   "codemirror_mode": {
    "name": "ipython",
    "version": 3
   },
   "file_extension": ".py",
   "mimetype": "text/x-python",
   "name": "python",
   "nbconvert_exporter": "python",
   "pygments_lexer": "ipython3",
   "version": "3.10.10"
  }
 },
 "nbformat": 4,
 "nbformat_minor": 2
}
