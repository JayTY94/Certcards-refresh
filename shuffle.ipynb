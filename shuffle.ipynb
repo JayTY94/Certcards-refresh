{
 "cells": [
  {
   "cell_type": "code",
   "execution_count": 1,
   "metadata": {},
   "outputs": [],
   "source": [
    "import re\n",
    "import random\n",
    "import pandas as pd\n",
    "import hashlib"
   ]
  },
  {
   "cell_type": "code",
   "execution_count": 2,
   "metadata": {},
   "outputs": [],
   "source": [
    "with open('certcards2.txt', mode='r', encoding='utf8') as f:\n",
    "    all_cards = f.read()\n",
    "    \n",
    "card_split_pattern = r'\\n\\n\\n\\d+\\n'\n",
    "all_cards = re.split(card_split_pattern, all_cards)\n",
    "# Use re.DOTALL to allow . to match newline characters\n",
    "card_pattern = re.compile(r'(.+?)\\n([\\s\\S]+)', re.DOTALL)\n",
    "cards = [(match.group(1), match.group(2)) for cstring in all_cards if (match := re.search(card_pattern, cstring))]\n",
    "\n",
    "# removing the cards that have no content and trimming\n",
    "cards = [(subject, stripped_content) for subject, content in cards if len(stripped_content := content.strip()) > 5]\n",
    "\n",
    "def hash_string_md5(s):\n",
    "    \"\"\"\n",
    "    Hashes a string using MD5 and returns a truncated hash for efficiency.\n",
    "\n",
    "    Parameters:\n",
    "    - s (str): The input string to hash.\n",
    "\n",
    "    Returns:\n",
    "    - str: The truncated hexadecimal hash string.\n",
    "    \"\"\"\n",
    "    if pd.isnull(s):\n",
    "        return None  # Handle NaN values gracefully\n",
    "    return hashlib.md5(s.encode('utf-8')).hexdigest()\n",
    "\n",
    "\n",
    "def remake_card_document(existing_cards: pd.DataFrame, filename: str='certcards2.txt'):\n",
    "    with open(filename, mode='w', encoding='utf8') as f:\n",
    "        i = 1\n",
    "        for _, row in existing_cards.iterrows():\n",
    "            f.write('\\n'*6)\n",
    "            f.write(str(i)+'\\n')  \n",
    "            f.write(row['head']+'\\n')\n",
    "            f.write(row['body'])\n",
    "            i+=1\n",
    "    print(F\"Cards found: {existing_cards.shape[0]}\")\n",
    "\n",
    "\n",
    "existing_cards = pd.DataFrame(cards, columns=['head', 'body'])\n",
    "\n",
    "\n",
    "# existing_cards['age'] = [random.random() for _ in existing_cards.index]\n",
    "existing_cards['hash'] = existing_cards['body'].apply(hash_string_md5)\n",
    "existing_cards\n",
    "\n",
    "card_ages = pd.read_json('card_ages.json')\n",
    "card_ages = card_ages.drop_duplicates(subset=['hash'], keep='first')\n",
    "\n",
    "cards_to_age = pd.merge(\n",
    "    left=existing_cards,\n",
    "    right=card_ages[['hash', 'age']],\n",
    "    left_on='hash', right_on='hash',\n",
    "    how='left'\n",
    ")\n",
    "\n",
    "cards_to_age['head'] = cards_to_age['head'].str.strip()\n",
    "\n",
    "if cards_to_age['age'].sum() > 2e4: age_factor = .5\n",
    "else: age_factor = 1\n",
    "\n",
    "cards_to_age['age'] = cards_to_age['age'].fillna(0)\n",
    "# cards_to_age['age'] = cards_to_age['age'] * age_factor\n",
    "cards_to_age['age'] = cards_to_age['age'] + [random.expovariate(.60) for _ in cards_to_age.index]\n",
    "# cards_to_age['age'] = cards_to_age['age'] * [random.expovariate(1/age_factor) for _ in cards_to_age.index]\n",
    "\n",
    "# Adding priority age growth to cards for upcoming certifications\n",
    "priority_headers = ['Azure Developer Associate']\n",
    "priority_cards_mask = cards_to_age['head'].isin(priority_headers)\n",
    "cards_to_age.loc[priority_cards_mask, 'age'] = cards_to_age.loc[priority_cards_mask, 'age'] * 1.1\n",
    "\n",
    "\n",
    "cards_to_age = cards_to_age.drop_duplicates(subset=['hash'], keep='first')\n",
    "\n",
    "cards_to_age['subject_mean_age'] = cards_to_age.groupby('head')['age'].transform('mean')\n",
    "cards_to_age['subject_highest_age'] = cards_to_age.groupby('head')['age'].transform('max')\n",
    "cards_to_age['subject_age_sum'] = cards_to_age.groupby('head')['age'].transform('sum')\n",
    "cards_to_age['head_random_roll'] = cards_to_age.groupby('head')['head'].transform(lambda x: random.random())\n",
    "\n",
    "\n",
    "cards_to_age.sort_values('hash')[['age', 'head', 'hash']].to_json('card_ages.json', indent=2)\n",
    "\n",
    "existing_cards = cards_to_age"
   ]
  },
  {
   "cell_type": "code",
   "execution_count": 3,
   "metadata": {},
   "outputs": [
    {
     "data": {
      "application/vnd.microsoft.datawrangler.viewer.v0+json": {
       "columns": [
        {
         "name": "index",
         "rawType": "object",
         "type": "string"
        },
        {
         "name": "age_sum",
         "rawType": "float64",
         "type": "float"
        },
        {
         "name": "age_mean",
         "rawType": "float64",
         "type": "float"
        },
        {
         "name": "age_max",
         "rawType": "float64",
         "type": "float"
        },
        {
         "name": "head_count",
         "rawType": "int64",
         "type": "integer"
        }
       ],
       "conversionMethod": "pd.DataFrame",
       "ref": "0f364024-819a-436d-96a9-a105af9dc612",
       "rows": [
        [
         "Azure AD Authentication",
         "29.092883200257106",
         "2.2379140923274696",
         "5.8866999597955685",
         "13"
        ],
        [
         "Azure DevOps Pipelines",
         "38.82168890663448",
         "1.493141881024403",
         "5.874818607158304",
         "26"
        ],
        [
         "RAG Project",
         "44.87690709367615",
         "1.869871128903173",
         "6.336291156727753",
         "24"
        ],
        [
         "Email Auth and Security",
         "1313.3981176386048",
         "109.4498431365504",
         "477.88404563672674",
         "12"
        ],
        [
         "Home Network Project",
         "1754.8655981599488",
         "194.98506646221654",
         "397.1851781587597",
         "9"
        ],
        [
         "WSL + Kali Linux",
         "1803.2676107471177",
         "128.80482933907984",
         "449.2644584297792",
         "14"
        ],
        [
         "Audit Report Tracker (Sharepoint List)",
         "2180.4683522047476",
         "167.72833478498058",
         "647.6249574049785",
         "13"
        ],
        [
         "IW Migration",
         "2251.6685259145843",
         "160.83346613675602",
         "520.6502919879229",
         "14"
        ],
        [
         "Todd Ideas",
         "2322.418179650465",
         "154.82787864336433",
         "552.1614214912545",
         "15"
        ],
        [
         "Open Source/GitHub",
         "2341.1650441687884",
         "146.32281526054928",
         "611.0269565452141",
         "16"
        ],
        [
         "Debugging in VS Code",
         "2342.374286935859",
         "117.11871434679294",
         "369.81945997279416",
         "20"
        ],
        [
         "Terraform",
         "2525.1420664383722",
         "101.00568265753489",
         "378.829724454932",
         "25"
        ],
        [
         "DNS",
         "2545.1871083030173",
         "254.51871083030173",
         "665.3907085905014",
         "10"
        ],
        [
         "Python",
         "2698.826442516037",
         "57.42183920246887",
         "170.69616786801865",
         "47"
        ],
        [
         "Azure Functions + Visual Studio",
         "2739.4956142444894",
         "195.67825816032067",
         "633.3793398499034",
         "14"
        ],
        [
         "SharePoint",
         "2864.871539022578",
         "238.73929491854815",
         "1238.270540173974",
         "12"
        ],
        [
         "FSLogix",
         "4154.712133805035",
         "173.11300557520977",
         "534.1082970490754",
         "24"
        ],
        [
         "Azure Functions + PP365",
         "4716.534571840989",
         "205.06672051482562",
         "853.6848207032655",
         "23"
        ],
        [
         "Logging in Python",
         "5603.461464452522",
         "119.22258435005365",
         "608.6526654393222",
         "47"
        ],
        [
         "Powershell Modules",
         "6458.0021186128015",
         "131.7959616043429",
         "914.446917110615",
         "49"
        ],
        [
         "Vocab",
         "7174.813388682176",
         "113.88592680447898",
         "941.1785865312673",
         "63"
        ],
        [
         "PnP Powershell",
         "7273.545663016085",
         "196.58231521665095",
         "580.9035792245897",
         "37"
        ],
        [
         "Azure Developer Associate",
         "7792.044475042356",
         "123.68324563559295",
         "548.036771301999",
         "63"
        ],
        [
         "JavaScript Concepts",
         "8169.056820757021",
         "133.91896427470527",
         "855.7518389782936",
         "61"
        ]
       ],
       "shape": {
        "columns": 4,
        "rows": 24
       }
      },
      "text/html": [
       "<div>\n",
       "<style scoped>\n",
       "    .dataframe tbody tr th:only-of-type {\n",
       "        vertical-align: middle;\n",
       "    }\n",
       "\n",
       "    .dataframe tbody tr th {\n",
       "        vertical-align: top;\n",
       "    }\n",
       "\n",
       "    .dataframe thead th {\n",
       "        text-align: right;\n",
       "    }\n",
       "</style>\n",
       "<table border=\"1\" class=\"dataframe\">\n",
       "  <thead>\n",
       "    <tr style=\"text-align: right;\">\n",
       "      <th></th>\n",
       "      <th>age_sum</th>\n",
       "      <th>age_mean</th>\n",
       "      <th>age_max</th>\n",
       "      <th>head_count</th>\n",
       "    </tr>\n",
       "  </thead>\n",
       "  <tbody>\n",
       "    <tr>\n",
       "      <th>Azure AD Authentication</th>\n",
       "      <td>29.092883</td>\n",
       "      <td>2.237914</td>\n",
       "      <td>5.886700</td>\n",
       "      <td>13</td>\n",
       "    </tr>\n",
       "    <tr>\n",
       "      <th>Azure DevOps Pipelines</th>\n",
       "      <td>38.821689</td>\n",
       "      <td>1.493142</td>\n",
       "      <td>5.874819</td>\n",
       "      <td>26</td>\n",
       "    </tr>\n",
       "    <tr>\n",
       "      <th>RAG Project</th>\n",
       "      <td>44.876907</td>\n",
       "      <td>1.869871</td>\n",
       "      <td>6.336291</td>\n",
       "      <td>24</td>\n",
       "    </tr>\n",
       "    <tr>\n",
       "      <th>Email Auth and Security</th>\n",
       "      <td>1313.398118</td>\n",
       "      <td>109.449843</td>\n",
       "      <td>477.884046</td>\n",
       "      <td>12</td>\n",
       "    </tr>\n",
       "    <tr>\n",
       "      <th>Home Network Project</th>\n",
       "      <td>1754.865598</td>\n",
       "      <td>194.985066</td>\n",
       "      <td>397.185178</td>\n",
       "      <td>9</td>\n",
       "    </tr>\n",
       "    <tr>\n",
       "      <th>WSL + Kali Linux</th>\n",
       "      <td>1803.267611</td>\n",
       "      <td>128.804829</td>\n",
       "      <td>449.264458</td>\n",
       "      <td>14</td>\n",
       "    </tr>\n",
       "    <tr>\n",
       "      <th>Audit Report Tracker (Sharepoint List)</th>\n",
       "      <td>2180.468352</td>\n",
       "      <td>167.728335</td>\n",
       "      <td>647.624957</td>\n",
       "      <td>13</td>\n",
       "    </tr>\n",
       "    <tr>\n",
       "      <th>IW Migration</th>\n",
       "      <td>2251.668526</td>\n",
       "      <td>160.833466</td>\n",
       "      <td>520.650292</td>\n",
       "      <td>14</td>\n",
       "    </tr>\n",
       "    <tr>\n",
       "      <th>Todd Ideas</th>\n",
       "      <td>2322.418180</td>\n",
       "      <td>154.827879</td>\n",
       "      <td>552.161421</td>\n",
       "      <td>15</td>\n",
       "    </tr>\n",
       "    <tr>\n",
       "      <th>Open Source/GitHub</th>\n",
       "      <td>2341.165044</td>\n",
       "      <td>146.322815</td>\n",
       "      <td>611.026957</td>\n",
       "      <td>16</td>\n",
       "    </tr>\n",
       "    <tr>\n",
       "      <th>Debugging in VS Code</th>\n",
       "      <td>2342.374287</td>\n",
       "      <td>117.118714</td>\n",
       "      <td>369.819460</td>\n",
       "      <td>20</td>\n",
       "    </tr>\n",
       "    <tr>\n",
       "      <th>Terraform</th>\n",
       "      <td>2525.142066</td>\n",
       "      <td>101.005683</td>\n",
       "      <td>378.829724</td>\n",
       "      <td>25</td>\n",
       "    </tr>\n",
       "    <tr>\n",
       "      <th>DNS</th>\n",
       "      <td>2545.187108</td>\n",
       "      <td>254.518711</td>\n",
       "      <td>665.390709</td>\n",
       "      <td>10</td>\n",
       "    </tr>\n",
       "    <tr>\n",
       "      <th>Python</th>\n",
       "      <td>2698.826443</td>\n",
       "      <td>57.421839</td>\n",
       "      <td>170.696168</td>\n",
       "      <td>47</td>\n",
       "    </tr>\n",
       "    <tr>\n",
       "      <th>Azure Functions + Visual Studio</th>\n",
       "      <td>2739.495614</td>\n",
       "      <td>195.678258</td>\n",
       "      <td>633.379340</td>\n",
       "      <td>14</td>\n",
       "    </tr>\n",
       "    <tr>\n",
       "      <th>SharePoint</th>\n",
       "      <td>2864.871539</td>\n",
       "      <td>238.739295</td>\n",
       "      <td>1238.270540</td>\n",
       "      <td>12</td>\n",
       "    </tr>\n",
       "    <tr>\n",
       "      <th>FSLogix</th>\n",
       "      <td>4154.712134</td>\n",
       "      <td>173.113006</td>\n",
       "      <td>534.108297</td>\n",
       "      <td>24</td>\n",
       "    </tr>\n",
       "    <tr>\n",
       "      <th>Azure Functions + PP365</th>\n",
       "      <td>4716.534572</td>\n",
       "      <td>205.066721</td>\n",
       "      <td>853.684821</td>\n",
       "      <td>23</td>\n",
       "    </tr>\n",
       "    <tr>\n",
       "      <th>Logging in Python</th>\n",
       "      <td>5603.461464</td>\n",
       "      <td>119.222584</td>\n",
       "      <td>608.652665</td>\n",
       "      <td>47</td>\n",
       "    </tr>\n",
       "    <tr>\n",
       "      <th>Powershell Modules</th>\n",
       "      <td>6458.002119</td>\n",
       "      <td>131.795962</td>\n",
       "      <td>914.446917</td>\n",
       "      <td>49</td>\n",
       "    </tr>\n",
       "    <tr>\n",
       "      <th>Vocab</th>\n",
       "      <td>7174.813389</td>\n",
       "      <td>113.885927</td>\n",
       "      <td>941.178587</td>\n",
       "      <td>63</td>\n",
       "    </tr>\n",
       "    <tr>\n",
       "      <th>PnP Powershell</th>\n",
       "      <td>7273.545663</td>\n",
       "      <td>196.582315</td>\n",
       "      <td>580.903579</td>\n",
       "      <td>37</td>\n",
       "    </tr>\n",
       "    <tr>\n",
       "      <th>Azure Developer Associate</th>\n",
       "      <td>7792.044475</td>\n",
       "      <td>123.683246</td>\n",
       "      <td>548.036771</td>\n",
       "      <td>63</td>\n",
       "    </tr>\n",
       "    <tr>\n",
       "      <th>JavaScript Concepts</th>\n",
       "      <td>8169.056821</td>\n",
       "      <td>133.918964</td>\n",
       "      <td>855.751839</td>\n",
       "      <td>61</td>\n",
       "    </tr>\n",
       "  </tbody>\n",
       "</table>\n",
       "</div>"
      ],
      "text/plain": [
       "                                            age_sum    age_mean      age_max  \\\n",
       "Azure AD Authentication                   29.092883    2.237914     5.886700   \n",
       "Azure DevOps Pipelines                    38.821689    1.493142     5.874819   \n",
       "RAG Project                               44.876907    1.869871     6.336291   \n",
       "Email Auth and Security                 1313.398118  109.449843   477.884046   \n",
       "Home Network Project                    1754.865598  194.985066   397.185178   \n",
       "WSL + Kali Linux                        1803.267611  128.804829   449.264458   \n",
       "Audit Report Tracker (Sharepoint List)  2180.468352  167.728335   647.624957   \n",
       "IW Migration                            2251.668526  160.833466   520.650292   \n",
       "Todd Ideas                              2322.418180  154.827879   552.161421   \n",
       "Open Source/GitHub                      2341.165044  146.322815   611.026957   \n",
       "Debugging in VS Code                    2342.374287  117.118714   369.819460   \n",
       "Terraform                               2525.142066  101.005683   378.829724   \n",
       "DNS                                     2545.187108  254.518711   665.390709   \n",
       "Python                                  2698.826443   57.421839   170.696168   \n",
       "Azure Functions + Visual Studio         2739.495614  195.678258   633.379340   \n",
       "SharePoint                              2864.871539  238.739295  1238.270540   \n",
       "FSLogix                                 4154.712134  173.113006   534.108297   \n",
       "Azure Functions + PP365                 4716.534572  205.066721   853.684821   \n",
       "Logging in Python                       5603.461464  119.222584   608.652665   \n",
       "Powershell Modules                      6458.002119  131.795962   914.446917   \n",
       "Vocab                                   7174.813389  113.885927   941.178587   \n",
       "PnP Powershell                          7273.545663  196.582315   580.903579   \n",
       "Azure Developer Associate               7792.044475  123.683246   548.036771   \n",
       "JavaScript Concepts                     8169.056821  133.918964   855.751839   \n",
       "\n",
       "                                        head_count  \n",
       "Azure AD Authentication                         13  \n",
       "Azure DevOps Pipelines                          26  \n",
       "RAG Project                                     24  \n",
       "Email Auth and Security                         12  \n",
       "Home Network Project                             9  \n",
       "WSL + Kali Linux                                14  \n",
       "Audit Report Tracker (Sharepoint List)          13  \n",
       "IW Migration                                    14  \n",
       "Todd Ideas                                      15  \n",
       "Open Source/GitHub                              16  \n",
       "Debugging in VS Code                            20  \n",
       "Terraform                                       25  \n",
       "DNS                                             10  \n",
       "Python                                          47  \n",
       "Azure Functions + Visual Studio                 14  \n",
       "SharePoint                                      12  \n",
       "FSLogix                                         24  \n",
       "Azure Functions + PP365                         23  \n",
       "Logging in Python                               47  \n",
       "Powershell Modules                              49  \n",
       "Vocab                                           63  \n",
       "PnP Powershell                                  37  \n",
       "Azure Developer Associate                       63  \n",
       "JavaScript Concepts                             61  "
      ]
     },
     "execution_count": 3,
     "metadata": {},
     "output_type": "execute_result"
    }
   ],
   "source": [
    "stats = existing_cards.groupby('head').agg({'age': ['sum', 'mean', 'max'], 'head': 'count'}).sort_values(('age', 'sum'))\n",
    "stats.columns = stats.columns.to_flat_index()\n",
    "stats.columns = ['_'.join(col).strip() for col in stats.columns]\n",
    "stats.index.name = None\n",
    "stats"
   ]
  },
  {
   "cell_type": "markdown",
   "metadata": {},
   "source": [
    "# Histogram"
   ]
  },
  {
   "cell_type": "code",
   "execution_count": 4,
   "metadata": {},
   "outputs": [
    {
     "name": "stdout",
     "output_type": "stream",
     "text": [
      "81138.11\n"
     ]
    },
    {
     "data": {
      "text/plain": [
       "<Axes: >"
      ]
     },
     "execution_count": 4,
     "metadata": {},
     "output_type": "execute_result"
    },
    {
     "data": {
      "image/png": "[encoded data removed]",
      "text/plain": [
       "<Figure size 640x480 with 1 Axes>"
      ]
     },
     "metadata": {},
     "output_type": "display_data"
    }
   ],
   "source": [
    "print(f\"{existing_cards['age'].sum(0):.2f}\")\n",
    "existing_cards['age'].hist(bins=20)"
   ]
  },
  {
   "cell_type": "markdown",
   "metadata": {},
   "source": [
    "# Completely Random Shuffle"
   ]
  },
  {
   "cell_type": "code",
   "execution_count": 5,
   "metadata": {},
   "outputs": [],
   "source": [
    "# existing_cards = existing_cards.sample(frac=1)\n",
    "# remake_card_document(filename='certcards2.txt', existing_cards = existing_cards)"
   ]
  },
  {
   "cell_type": "markdown",
   "metadata": {},
   "source": [
    "# Age Sort"
   ]
  },
  {
   "cell_type": "code",
   "execution_count": 6,
   "metadata": {},
   "outputs": [],
   "source": [
    "# existing_cards = existing_cards.sort_values('age', ascending=False)\n",
    "# remake_card_document(filename='certcards2.txt', existing_cards=existing_cards)\n",
    "# existing_cards.head(10)"
   ]
  },
  {
   "cell_type": "markdown",
   "metadata": {},
   "source": [
    "# Headers with fewest notes first"
   ]
  },
  {
   "cell_type": "code",
   "execution_count": 7,
   "metadata": {},
   "outputs": [],
   "source": [
    "# frequency = existing_cards['head'].value_counts(ascending=True)\n",
    "\n",
    "# existing_cards = pd.merge(\n",
    "#     left=existing_cards,\n",
    "#     right=frequency.rename('frequency'),\n",
    "#     left_on='head', right_index=True,\n",
    "#     how='left'\n",
    "# )\n",
    "# existing_cards['oldest'] = existing_cards.groupby('head')['age'].transform('max')\n",
    "# existing_cards['subject_highest_age'] = existing_cards['subject_highest_age'] * -1\n",
    "# existing_cards['age'] = existing_cards['age'] * -1\n",
    "\n",
    "\n",
    "# existing_cards.sort_values(['frequency', 'subject_highest_age', 'age'], ascending=True, inplace=True)\n",
    "\n",
    "# remake_card_document(filename='certcards2.txt', existing_cards=existing_cards)\n",
    "\n",
    "# existing_cards.head(10)"
   ]
  },
  {
   "cell_type": "markdown",
   "metadata": {},
   "source": [
    "# Focus on one header"
   ]
  },
  {
   "cell_type": "code",
   "execution_count": 8,
   "metadata": {},
   "outputs": [],
   "source": [
    "# heads = existing_cards['head'].value_counts()\n",
    "# heads = heads[heads > 5].index.tolist()\n",
    "# one_header = random.sample(heads, 1)[0]\n",
    "# existing_cards['pick_head'] = existing_cards['head'].apply(\n",
    "#     lambda h: 0 if h == one_header else 1 \n",
    "# )\n",
    "\n",
    "# remake_card_document(existing_cards=existing_cards.sort_values('pick_head'))"
   ]
  },
  {
   "cell_type": "markdown",
   "metadata": {},
   "source": [
    "## Header with oldest cards first"
   ]
  },
  {
   "cell_type": "code",
   "execution_count": 9,
   "metadata": {},
   "outputs": [],
   "source": [
    "# existing_cards['oldest'] = existing_cards.groupby('head')['age'].transform('max')\n",
    "# existing_cards.sort_values(['oldest', 'age'], ascending=False, inplace=True)\n",
    "# remake_card_document(existing_cards)"
   ]
  },
  {
   "cell_type": "markdown",
   "metadata": {},
   "source": [
    "## Headers with greatest mean card age first"
   ]
  },
  {
   "cell_type": "code",
   "execution_count": 10,
   "metadata": {},
   "outputs": [],
   "source": [
    "# existing_cards.sort_values(['subject_mean_age', 'age'], ascending=False, inplace=True)\n",
    "# remake_card_document(existing_cards)"
   ]
  },
  {
   "cell_type": "markdown",
   "metadata": {},
   "source": [
    "## Headers with greatest age sum first"
   ]
  },
  {
   "cell_type": "code",
   "execution_count": 11,
   "metadata": {},
   "outputs": [],
   "source": [
    "# existing_cards.sort_values(['subject_age_sum', 'age'], ascending=False, inplace=True)\n",
    "# remake_card_document(existing_cards)"
   ]
  },
  {
   "cell_type": "markdown",
   "metadata": {},
   "source": [
    "# N-fold shuffle\n"
   ]
  },
  {
   "cell_type": "markdown",
   "metadata": {},
   "source": [
    "## Age Sum"
   ]
  },
  {
   "cell_type": "code",
   "execution_count": 12,
   "metadata": {},
   "outputs": [
    {
     "name": "stdout",
     "output_type": "stream",
     "text": [
      "Cards found: 651\n"
     ]
    },
    {
     "data": {
      "application/vnd.microsoft.datawrangler.viewer.v0+json": {
       "columns": [
        {
         "name": "index",
         "rawType": "int64",
         "type": "integer"
        },
        {
         "name": "head",
         "rawType": "object",
         "type": "string"
        },
        {
         "name": "body",
         "rawType": "object",
         "type": "string"
        },
        {
         "name": "hash",
         "rawType": "object",
         "type": "string"
        },
        {
         "name": "age",
         "rawType": "float64",
         "type": "float"
        },
        {
         "name": "subject_mean_age",
         "rawType": "float64",
         "type": "float"
        },
        {
         "name": "subject_highest_age",
         "rawType": "float64",
         "type": "float"
        },
        {
         "name": "subject_age_sum",
         "rawType": "float64",
         "type": "float"
        },
        {
         "name": "head_random_roll",
         "rawType": "float64",
         "type": "float"
        },
        {
         "name": "count",
         "rawType": "int64",
         "type": "integer"
        },
        {
         "name": "n_fold",
         "rawType": "int64",
         "type": "integer"
        }
       ],
       "conversionMethod": "pd.DataFrame",
       "ref": "a6ee44ec-08ec-4fd4-922b-918b0b4bbd92",
       "rows": [
        [
         "32",
         "JavaScript Concepts",
         "Fetch API / Axios: Tools for making HTTP requests from the browser, allowing communication with backend services and APIs.",
         "4d9b07853e56c49e129ed710afd1c818",
         "-855.7518389782936",
         "133.91896427470527",
         "855.7518389782936",
         "-8169.056820757021",
         "0.34465145430326494",
         "0",
         "0"
        ],
        [
         "33",
         "JavaScript Concepts",
         "Prototype-Based Inheritance: JavaScript's inheritance model where objects inherit properties and methods from a prototype object, enabling dynamic property sharing.",
         "fab9f5f235a15404e60e2a2184f09e59",
         "-468.0608027765958",
         "133.91896427470527",
         "855.7518389782936",
         "-8169.056820757021",
         "0.34465145430326494",
         "3",
         "0"
        ],
        [
         "34",
         "JavaScript Concepts",
         "Express.js: A minimalist web framework for Node.js, facilitating routing, middleware integration, and handling HTTP requests/responses.",
         "425c10164d26897fdad3f9d7c2c6f523",
         "-316.2896713125734",
         "133.91896427470527",
         "855.7518389782936",
         "-8169.056820757021",
         "0.34465145430326494",
         "6",
         "0"
        ],
        [
         "35",
         "JavaScript Concepts",
         "TypeScript: A superset of JavaScript that adds static typing, enhancing code quality, maintainability, and developer tooling through type checking.",
         "4fcceedc99389c5811c1850f5889b0de",
         "-221.70492100220835",
         "133.91896427470527",
         "855.7518389782936",
         "-8169.056820757021",
         "0.34465145430326494",
         "9",
         "0"
        ],
        [
         "36",
         "JavaScript Concepts",
         "Parcel: A zero-configuration bundler that automatically handles various file types, offering faster builds with minimal setup.",
         "8853aee1ab1aab7096a1a8e936fedec1",
         "-201.5487611867827",
         "133.91896427470527",
         "855.7518389782936",
         "-8169.056820757021",
         "0.34465145430326494",
         "12",
         "0"
        ],
        [
         "37",
         "JavaScript Concepts",
         "Hot Module Replacement (HMR): A feature in bundlers like Webpack and Vite that allows modules to be replaced without a full page reload during development.",
         "62eed610b799097eb68b6e656481e34c",
         "-164.27552446045578",
         "133.91896427470527",
         "855.7518389782936",
         "-8169.056820757021",
         "0.34465145430326494",
         "15",
         "0"
        ],
        [
         "38",
         "JavaScript Concepts",
         "Variable Declarations (let, const, var): Keywords to declare variables with different scopes and mutability. let and const are block-scoped, while var is function-scoped.",
         "8ef2df41d4a62761f70ef8e99d0b45a0",
         "-139.58748347077707",
         "133.91896427470527",
         "855.7518389782936",
         "-8169.056820757021",
         "0.34465145430326494",
         "18",
         "0"
        ],
        [
         "242",
         "JavaScript Concepts",
         "Next.js: A React framework for server-side rendering and static site generation, enhancing performance and SEO for React applications.",
         "40c226db8cbea474702cb58287fa1296",
         "-117.16602431599925",
         "133.91896427470527",
         "855.7518389782936",
         "-8169.056820757021",
         "0.34465145430326494",
         "21",
         "0"
        ],
        [
         "40",
         "JavaScript Concepts",
         "Destructuring: Syntax for unpacking values from arrays or properties from objects into distinct variables, improving code readability and conciseness.",
         "cf45c67e3fe6d2cc720996005c958996",
         "-110.54519015622891",
         "133.91896427470527",
         "855.7518389782936",
         "-8169.056820757021",
         "0.34465145430326494",
         "24",
         "0"
        ],
        [
         "41",
         "JavaScript Concepts",
         "Single-Page Application (SPA): A web application that loads a single HTML page and dynamically updates content without full page reloads.",
         "a44b9857d13e32140d5324ea393be65d",
         "-89.00840026792983",
         "133.91896427470527",
         "855.7518389782936",
         "-8169.056820757021",
         "0.34465145430326494",
         "27",
         "0"
        ]
       ],
       "shape": {
        "columns": 10,
        "rows": 10
       }
      },
      "text/html": [
       "<div>\n",
       "<style scoped>\n",
       "    .dataframe tbody tr th:only-of-type {\n",
       "        vertical-align: middle;\n",
       "    }\n",
       "\n",
       "    .dataframe tbody tr th {\n",
       "        vertical-align: top;\n",
       "    }\n",
       "\n",
       "    .dataframe thead th {\n",
       "        text-align: right;\n",
       "    }\n",
       "</style>\n",
       "<table border=\"1\" class=\"dataframe\">\n",
       "  <thead>\n",
       "    <tr style=\"text-align: right;\">\n",
       "      <th></th>\n",
       "      <th>head</th>\n",
       "      <th>body</th>\n",
       "      <th>hash</th>\n",
       "      <th>age</th>\n",
       "      <th>subject_mean_age</th>\n",
       "      <th>subject_highest_age</th>\n",
       "      <th>subject_age_sum</th>\n",
       "      <th>head_random_roll</th>\n",
       "      <th>count</th>\n",
       "      <th>n_fold</th>\n",
       "    </tr>\n",
       "  </thead>\n",
       "  <tbody>\n",
       "    <tr>\n",
       "      <th>32</th>\n",
       "      <td>JavaScript Concepts</td>\n",
       "      <td>Fetch API / Axios: Tools for making HTTP reque...</td>\n",
       "      <td>4d9b07853e56c49e129ed710afd1c818</td>\n",
       "      <td>-855.751839</td>\n",
       "      <td>133.918964</td>\n",
       "      <td>855.751839</td>\n",
       "      <td>-8169.056821</td>\n",
       "      <td>0.344651</td>\n",
       "      <td>0</td>\n",
       "      <td>0</td>\n",
       "    </tr>\n",
       "    <tr>\n",
       "      <th>33</th>\n",
       "      <td>JavaScript Concepts</td>\n",
       "      <td>Prototype-Based Inheritance: JavaScript's inhe...</td>\n",
       "      <td>fab9f5f235a15404e60e2a2184f09e59</td>\n",
       "      <td>-468.060803</td>\n",
       "      <td>133.918964</td>\n",
       "      <td>855.751839</td>\n",
       "      <td>-8169.056821</td>\n",
       "      <td>0.344651</td>\n",
       "      <td>3</td>\n",
       "      <td>0</td>\n",
       "    </tr>\n",
       "    <tr>\n",
       "      <th>34</th>\n",
       "      <td>JavaScript Concepts</td>\n",
       "      <td>Express.js: A minimalist web framework for Nod...</td>\n",
       "      <td>425c10164d26897fdad3f9d7c2c6f523</td>\n",
       "      <td>-316.289671</td>\n",
       "      <td>133.918964</td>\n",
       "      <td>855.751839</td>\n",
       "      <td>-8169.056821</td>\n",
       "      <td>0.344651</td>\n",
       "      <td>6</td>\n",
       "      <td>0</td>\n",
       "    </tr>\n",
       "    <tr>\n",
       "      <th>35</th>\n",
       "      <td>JavaScript Concepts</td>\n",
       "      <td>TypeScript: A superset of JavaScript that adds...</td>\n",
       "      <td>4fcceedc99389c5811c1850f5889b0de</td>\n",
       "      <td>-221.704921</td>\n",
       "      <td>133.918964</td>\n",
       "      <td>855.751839</td>\n",
       "      <td>-8169.056821</td>\n",
       "      <td>0.344651</td>\n",
       "      <td>9</td>\n",
       "      <td>0</td>\n",
       "    </tr>\n",
       "    <tr>\n",
       "      <th>36</th>\n",
       "      <td>JavaScript Concepts</td>\n",
       "      <td>Parcel: A zero-configuration bundler that auto...</td>\n",
       "      <td>8853aee1ab1aab7096a1a8e936fedec1</td>\n",
       "      <td>-201.548761</td>\n",
       "      <td>133.918964</td>\n",
       "      <td>855.751839</td>\n",
       "      <td>-8169.056821</td>\n",
       "      <td>0.344651</td>\n",
       "      <td>12</td>\n",
       "      <td>0</td>\n",
       "    </tr>\n",
       "    <tr>\n",
       "      <th>37</th>\n",
       "      <td>JavaScript Concepts</td>\n",
       "      <td>Hot Module Replacement (HMR): A feature in bun...</td>\n",
       "      <td>62eed610b799097eb68b6e656481e34c</td>\n",
       "      <td>-164.275524</td>\n",
       "      <td>133.918964</td>\n",
       "      <td>855.751839</td>\n",
       "      <td>-8169.056821</td>\n",
       "      <td>0.344651</td>\n",
       "      <td>15</td>\n",
       "      <td>0</td>\n",
       "    </tr>\n",
       "    <tr>\n",
       "      <th>38</th>\n",
       "      <td>JavaScript Concepts</td>\n",
       "      <td>Variable Declarations (let, const, var): Keywo...</td>\n",
       "      <td>8ef2df41d4a62761f70ef8e99d0b45a0</td>\n",
       "      <td>-139.587483</td>\n",
       "      <td>133.918964</td>\n",
       "      <td>855.751839</td>\n",
       "      <td>-8169.056821</td>\n",
       "      <td>0.344651</td>\n",
       "      <td>18</td>\n",
       "      <td>0</td>\n",
       "    </tr>\n",
       "    <tr>\n",
       "      <th>242</th>\n",
       "      <td>JavaScript Concepts</td>\n",
       "      <td>Next.js: A React framework for server-side ren...</td>\n",
       "      <td>40c226db8cbea474702cb58287fa1296</td>\n",
       "      <td>-117.166024</td>\n",
       "      <td>133.918964</td>\n",
       "      <td>855.751839</td>\n",
       "      <td>-8169.056821</td>\n",
       "      <td>0.344651</td>\n",
       "      <td>21</td>\n",
       "      <td>0</td>\n",
       "    </tr>\n",
       "    <tr>\n",
       "      <th>40</th>\n",
       "      <td>JavaScript Concepts</td>\n",
       "      <td>Destructuring: Syntax for unpacking values fro...</td>\n",
       "      <td>cf45c67e3fe6d2cc720996005c958996</td>\n",
       "      <td>-110.545190</td>\n",
       "      <td>133.918964</td>\n",
       "      <td>855.751839</td>\n",
       "      <td>-8169.056821</td>\n",
       "      <td>0.344651</td>\n",
       "      <td>24</td>\n",
       "      <td>0</td>\n",
       "    </tr>\n",
       "    <tr>\n",
       "      <th>41</th>\n",
       "      <td>JavaScript Concepts</td>\n",
       "      <td>Single-Page Application (SPA): A web applicati...</td>\n",
       "      <td>a44b9857d13e32140d5324ea393be65d</td>\n",
       "      <td>-89.008400</td>\n",
       "      <td>133.918964</td>\n",
       "      <td>855.751839</td>\n",
       "      <td>-8169.056821</td>\n",
       "      <td>0.344651</td>\n",
       "      <td>27</td>\n",
       "      <td>0</td>\n",
       "    </tr>\n",
       "  </tbody>\n",
       "</table>\n",
       "</div>"
      ],
      "text/plain": [
       "                    head                                               body  \\\n",
       "32   JavaScript Concepts  Fetch API / Axios: Tools for making HTTP reque...   \n",
       "33   JavaScript Concepts  Prototype-Based Inheritance: JavaScript's inhe...   \n",
       "34   JavaScript Concepts  Express.js: A minimalist web framework for Nod...   \n",
       "35   JavaScript Concepts  TypeScript: A superset of JavaScript that adds...   \n",
       "36   JavaScript Concepts  Parcel: A zero-configuration bundler that auto...   \n",
       "37   JavaScript Concepts  Hot Module Replacement (HMR): A feature in bun...   \n",
       "38   JavaScript Concepts  Variable Declarations (let, const, var): Keywo...   \n",
       "242  JavaScript Concepts  Next.js: A React framework for server-side ren...   \n",
       "40   JavaScript Concepts  Destructuring: Syntax for unpacking values fro...   \n",
       "41   JavaScript Concepts  Single-Page Application (SPA): A web applicati...   \n",
       "\n",
       "                                 hash         age  subject_mean_age  \\\n",
       "32   4d9b07853e56c49e129ed710afd1c818 -855.751839        133.918964   \n",
       "33   fab9f5f235a15404e60e2a2184f09e59 -468.060803        133.918964   \n",
       "34   425c10164d26897fdad3f9d7c2c6f523 -316.289671        133.918964   \n",
       "35   4fcceedc99389c5811c1850f5889b0de -221.704921        133.918964   \n",
       "36   8853aee1ab1aab7096a1a8e936fedec1 -201.548761        133.918964   \n",
       "37   62eed610b799097eb68b6e656481e34c -164.275524        133.918964   \n",
       "38   8ef2df41d4a62761f70ef8e99d0b45a0 -139.587483        133.918964   \n",
       "242  40c226db8cbea474702cb58287fa1296 -117.166024        133.918964   \n",
       "40   cf45c67e3fe6d2cc720996005c958996 -110.545190        133.918964   \n",
       "41   a44b9857d13e32140d5324ea393be65d  -89.008400        133.918964   \n",
       "\n",
       "     subject_highest_age  subject_age_sum  head_random_roll  count  n_fold  \n",
       "32            855.751839     -8169.056821          0.344651      0       0  \n",
       "33            855.751839     -8169.056821          0.344651      3       0  \n",
       "34            855.751839     -8169.056821          0.344651      6       0  \n",
       "35            855.751839     -8169.056821          0.344651      9       0  \n",
       "36            855.751839     -8169.056821          0.344651     12       0  \n",
       "37            855.751839     -8169.056821          0.344651     15       0  \n",
       "38            855.751839     -8169.056821          0.344651     18       0  \n",
       "242           855.751839     -8169.056821          0.344651     21       0  \n",
       "40            855.751839     -8169.056821          0.344651     24       0  \n",
       "41            855.751839     -8169.056821          0.344651     27       0  "
      ]
     },
     "execution_count": 12,
     "metadata": {},
     "output_type": "execute_result"
    }
   ],
   "source": [
    "n=3\n",
    "existing_cards['count'] = existing_cards.sort_values('age', ascending=False).groupby('head').cumcount()\n",
    "existing_cards['n_fold'] = existing_cards['count'] % n\n",
    "\n",
    "existing_cards['subject_age_sum'] = existing_cards['subject_age_sum'] *-1\n",
    "existing_cards['age'] = existing_cards['age'] *-1\n",
    "existing_cards.sort_values(['n_fold', 'subject_age_sum', 'age'], inplace=True)\n",
    "\n",
    "remake_card_document(existing_cards=existing_cards)\n",
    "existing_cards.head(10)\n"
   ]
  },
  {
   "cell_type": "markdown",
   "metadata": {},
   "source": [
    "## Age Mean"
   ]
  },
  {
   "cell_type": "code",
   "execution_count": 13,
   "metadata": {},
   "outputs": [],
   "source": [
    "# n=3\n",
    "# existing_cards['count'] = existing_cards.sort_values('age', ascending=False).groupby('head').cumcount()\n",
    "# existing_cards['n_fold'] = existing_cards['count'] % n\n",
    "\n",
    "# existing_cards['subject_mean_age'] = existing_cards['subject_mean_age'] *-1\n",
    "# existing_cards['age'] = existing_cards['age'] *-1\n",
    "# existing_cards.sort_values(['n_fold', 'subject_mean_age', 'age'], inplace=True)\n",
    "# remake_card_document(existing_cards=existing_cards)\n",
    "\n",
    "# existing_cards.head(10)\n",
    "\n"
   ]
  },
  {
   "cell_type": "markdown",
   "metadata": {},
   "source": [
    "## Age Max"
   ]
  },
  {
   "cell_type": "code",
   "execution_count": 14,
   "metadata": {},
   "outputs": [],
   "source": [
    "# n = 1\n",
    "# existing_cards['count'] = existing_cards.sort_values('age', ascending=False).groupby('head').cumcount()\n",
    "# existing_cards['n_fold'] = existing_cards['count'] // n\n",
    "\n",
    "# if existing_cards['age'].sum() > 0:\n",
    "#     existing_cards['subject_highest_age'] = existing_cards['subject_highest_age'] *-1\n",
    "#     existing_cards['age'] = existing_cards['age'] *-1\n",
    "# existing_cards.sort_values(['n_fold', 'subject_highest_age', 'age'], inplace=True)\n",
    "\n",
    "# remake_card_document(existing_cards=existing_cards)\n",
    "# existing_cards.head(10)\n"
   ]
  },
  {
   "cell_type": "markdown",
   "metadata": {},
   "source": [
    "## Card Count"
   ]
  },
  {
   "cell_type": "code",
   "execution_count": 15,
   "metadata": {},
   "outputs": [],
   "source": [
    "# n=10\n",
    "# existing_cards['frequency']  = existing_cards.groupby('head').transform('count')['body']\n",
    "# existing_cards['count'] = existing_cards.sort_values('age', ascending=False).groupby('head').cumcount()\n",
    "# existing_cards['n_fold'] = existing_cards['count'] // n\n",
    "\n",
    "# if existing_cards['age'].sum() > 0:\n",
    "#     # existing_cards['neg_subject_highest_age'] = existing_cards['subject_highest_age'] *-1\n",
    "#     existing_cards['neg_age'] = existing_cards['age'] *-1\n",
    "# existing_cards.sort_values(['n_fold', 'frequency', 'neg_age'], inplace=True)\n",
    "# remake_card_document(existing_cards=existing_cards)\n",
    "\n",
    "# existing_cards.head(10)\n",
    "\n"
   ]
  },
  {
   "cell_type": "markdown",
   "metadata": {},
   "source": [
    "\n",
    "## Random"
   ]
  },
  {
   "cell_type": "code",
   "execution_count": 16,
   "metadata": {},
   "outputs": [],
   "source": [
    "# n = 3\n",
    "# existing_cards['count'] = existing_cards.sort_values('age', ascending=False).groupby('head').cumcount()\n",
    "# existing_cards['n_fold'] = existing_cards['count'] % n\n",
    "# existing_cards['age'] *= -1\n",
    "# existing_cards.sort_values(['n_fold', 'head_random_roll', 'age'], inplace=True)\n",
    "# remake_card_document(existing_cards=existing_cards)\n",
    "# existing_cards.head(10)"
   ]
  },
  {
   "cell_type": "code",
   "execution_count": 17,
   "metadata": {},
   "outputs": [
    {
     "data": {
      "text/plain": [
       "head                   JavaScript ConceptsJavaScript ConceptsJavaScri...\n",
       "body                   Fetch API / Axios: Tools for making HTTP reque...\n",
       "hash                   4d9b07853e56c49e129ed710afd1c818fab9f5f235a154...\n",
       "age                                                         -2683.938618\n",
       "subject_mean_age                                             1339.189643\n",
       "subject_highest_age                                           8557.51839\n",
       "subject_age_sum                                            -81690.568208\n",
       "head_random_roll                                                3.446515\n",
       "count                                                                135\n",
       "n_fold                                                                 0\n",
       "dtype: object"
      ]
     },
     "execution_count": 17,
     "metadata": {},
     "output_type": "execute_result"
    }
   ],
   "source": [
    "existing_cards.head(10).sum()"
   ]
  },
  {
   "cell_type": "code",
   "execution_count": 18,
   "metadata": {},
   "outputs": [
    {
     "data": {
      "text/plain": [
       "-124.63611459501406"
      ]
     },
     "execution_count": 18,
     "metadata": {},
     "output_type": "execute_result"
    }
   ],
   "source": [
    "existing_cards['age'].mean()"
   ]
  }
 ],
 "metadata": {
  "kernelspec": {
   "display_name": "Python 3",
   "language": "python",
   "name": "python3"
  },
  "language_info": {
   "codemirror_mode": {
    "name": "ipython",
    "version": 3
   },
   "file_extension": ".py",
   "mimetype": "text/x-python",
   "name": "python",
   "nbconvert_exporter": "python",
   "pygments_lexer": "ipython3",
   "version": "3.10.10"
  }
 },
 "nbformat": 4,
 "nbformat_minor": 2
}
