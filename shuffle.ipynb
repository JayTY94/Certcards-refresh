{
 "cells": [
  {
   "cell_type": "code",
   "execution_count": 1,
   "metadata": {},
   "outputs": [],
   "source": [
    "import re\n",
    "import random\n",
    "import pandas as pd\n",
    "import hashlib"
   ]
  },
  {
   "cell_type": "code",
   "execution_count": 2,
   "metadata": {},
   "outputs": [],
   "source": [
    "with open('certcards2.txt', mode='r', encoding='utf8') as f:\n",
    "    all_cards = f.read()\n",
    "    \n",
    "card_split_pattern = r'\\n\\n\\n\\d+\\n'\n",
    "all_cards = re.split(card_split_pattern, all_cards)\n",
    "# Use re.DOTALL to allow . to match newline characters\n",
    "card_pattern = re.compile(r'(.+?)\\n([\\s\\S]+)', re.DOTALL)\n",
    "cards = [(match.group(1), match.group(2)) for cstring in all_cards if (match := re.search(card_pattern, cstring))]\n",
    "\n",
    "# removing the cards that have no content and trimming\n",
    "cards = [(subject, stripped_content) for subject, content in cards if len(stripped_content := content.strip()) > 5]\n",
    "\n",
    "def hash_string_md5(s):\n",
    "    \"\"\"\n",
    "    Hashes a string using MD5 and returns a truncated hash for efficiency.\n",
    "\n",
    "    Parameters:\n",
    "    - s (str): The input string to hash.\n",
    "\n",
    "    Returns:\n",
    "    - str: The truncated hexadecimal hash string.\n",
    "    \"\"\"\n",
    "    if pd.isnull(s):\n",
    "        return None  # Handle NaN values gracefully\n",
    "    return hashlib.md5(s.encode('utf-8')).hexdigest()\n",
    "\n",
    "\n",
    "def remake_card_document(existing_cards: pd.DataFrame, filename: str='certcards2.txt'):\n",
    "    with open(filename, mode='w', encoding='utf8') as f:\n",
    "        i = 1\n",
    "        for _, row in existing_cards.iterrows():\n",
    "            f.write('\\n'*6)\n",
    "            f.write(str(i)+'\\n')  \n",
    "            f.write(row['head']+'\\n')\n",
    "            f.write(row['body'])\n",
    "            i+=1\n",
    "    print(F\"Cards found: {existing_cards.shape[0]}\")\n",
    "    print(F\"Total card age: {abs(existing_cards['age'].sum()):.2f}\")\n",
    "\n",
    "\n",
    "existing_cards = pd.DataFrame(cards, columns=['head', 'body'])\n",
    "\n",
    "\n",
    "# existing_cards['age'] = [random.random() for _ in existing_cards.index]\n",
    "existing_cards['hash'] = existing_cards['body'].apply(hash_string_md5)\n",
    "existing_cards\n",
    "\n",
    "card_ages = pd.read_json('card_ages.json')\n",
    "card_ages = card_ages.drop_duplicates(subset=['hash'], keep='first')\n",
    "\n",
    "cards_to_age = pd.merge(\n",
    "    left=existing_cards,\n",
    "    right=card_ages[['hash', 'age']],\n",
    "    left_on='hash', right_on='hash',\n",
    "    how='left'\n",
    ")\n",
    "\n",
    "cards_to_age['head'] = cards_to_age['head'].str.strip()\n",
    "\n",
    "if cards_to_age['age'].mean() > 80: age_factor = .5\n",
    "else: age_factor = 1\n",
    "\n",
    "cards_to_age['age'] = cards_to_age['age'].fillna(0)\n",
    "# cards_to_age['age'] = cards_to_age['age'] * age_factor\n",
    "cards_to_age['age'] = cards_to_age['age'] + [random.expovariate(.60) for _ in cards_to_age.index]\n",
    "# cards_to_age['age'] = cards_to_age['age'] * [random.expovariate(1/age_factor) for _ in cards_to_age.index]\n",
    "\n",
    "# Adding priority age growth to cards for upcoming certifications\n",
    "priority_headers = ['Azure Developer Associate']\n",
    "priority_cards_mask = cards_to_age['head'].isin(priority_headers)\n",
    "cards_to_age.loc[priority_cards_mask, 'age'] = cards_to_age.loc[priority_cards_mask, 'age'] * 1.05\n",
    "\n",
    "cards_to_age = cards_to_age.drop_duplicates(subset=['hash'], keep='first')\n",
    "\n",
    "cards_to_age['subject_mean_age'] = cards_to_age.groupby('head')['age'].transform('mean')\n",
    "cards_to_age['subject_highest_age'] = cards_to_age.groupby('head')['age'].transform('max')\n",
    "cards_to_age['subject_age_sum'] = cards_to_age.groupby('head')['age'].transform('sum')\n",
    "cards_to_age['head_random_roll'] = cards_to_age.groupby('head')['head'].transform(lambda x: random.random())\n",
    "\n",
    "\n",
    "cards_to_age.sort_values('hash')[['age', 'head', 'hash']].to_json('card_ages.json', indent=2)\n",
    "\n",
    "existing_cards = cards_to_age"
   ]
  },
  {
   "cell_type": "code",
   "execution_count": 3,
   "metadata": {},
   "outputs": [
    {
     "data": {
      "text/html": [
       "<div>\n",
       "<style scoped>\n",
       "    .dataframe tbody tr th:only-of-type {\n",
       "        vertical-align: middle;\n",
       "    }\n",
       "\n",
       "    .dataframe tbody tr th {\n",
       "        vertical-align: top;\n",
       "    }\n",
       "\n",
       "    .dataframe thead th {\n",
       "        text-align: right;\n",
       "    }\n",
       "</style>\n",
       "<table border=\"1\" class=\"dataframe\">\n",
       "  <thead>\n",
       "    <tr style=\"text-align: right;\">\n",
       "      <th></th>\n",
       "      <th>age_sum</th>\n",
       "      <th>age_mean</th>\n",
       "      <th>age_max</th>\n",
       "      <th>head_count</th>\n",
       "    </tr>\n",
       "  </thead>\n",
       "  <tbody>\n",
       "    <tr>\n",
       "      <th>SharePoint</th>\n",
       "      <td>106.315335</td>\n",
       "      <td>26.578834</td>\n",
       "      <td>36.257616</td>\n",
       "      <td>4</td>\n",
       "    </tr>\n",
       "    <tr>\n",
       "      <th>RAG Project</th>\n",
       "      <td>267.826694</td>\n",
       "      <td>16.739168</td>\n",
       "      <td>36.738708</td>\n",
       "      <td>16</td>\n",
       "    </tr>\n",
       "    <tr>\n",
       "      <th>Asynchronous Python</th>\n",
       "      <td>392.814212</td>\n",
       "      <td>8.539439</td>\n",
       "      <td>21.036484</td>\n",
       "      <td>46</td>\n",
       "    </tr>\n",
       "    <tr>\n",
       "      <th>Azure AD Authentication</th>\n",
       "      <td>505.015982</td>\n",
       "      <td>38.847383</td>\n",
       "      <td>92.333552</td>\n",
       "      <td>13</td>\n",
       "    </tr>\n",
       "    <tr>\n",
       "      <th>Azure DevOps Pipelines</th>\n",
       "      <td>597.478985</td>\n",
       "      <td>22.979961</td>\n",
       "      <td>93.308887</td>\n",
       "      <td>26</td>\n",
       "    </tr>\n",
       "    <tr>\n",
       "      <th>Azure Functions + Visual Studio</th>\n",
       "      <td>760.910717</td>\n",
       "      <td>58.531594</td>\n",
       "      <td>261.810082</td>\n",
       "      <td>13</td>\n",
       "    </tr>\n",
       "    <tr>\n",
       "      <th>Email Auth and Security</th>\n",
       "      <td>787.434568</td>\n",
       "      <td>65.619547</td>\n",
       "      <td>181.295785</td>\n",
       "      <td>12</td>\n",
       "    </tr>\n",
       "    <tr>\n",
       "      <th>Open Source/GitHub</th>\n",
       "      <td>828.474424</td>\n",
       "      <td>51.779652</td>\n",
       "      <td>161.838767</td>\n",
       "      <td>16</td>\n",
       "    </tr>\n",
       "    <tr>\n",
       "      <th>Audit Report Tracker (Sharepoint List)</th>\n",
       "      <td>1015.105808</td>\n",
       "      <td>84.592151</td>\n",
       "      <td>359.846870</td>\n",
       "      <td>12</td>\n",
       "    </tr>\n",
       "    <tr>\n",
       "      <th>WSL + Kali Linux</th>\n",
       "      <td>1214.900358</td>\n",
       "      <td>86.778597</td>\n",
       "      <td>301.008208</td>\n",
       "      <td>14</td>\n",
       "    </tr>\n",
       "    <tr>\n",
       "      <th>Debugging in VS Code</th>\n",
       "      <td>1260.011073</td>\n",
       "      <td>66.316372</td>\n",
       "      <td>387.076576</td>\n",
       "      <td>19</td>\n",
       "    </tr>\n",
       "    <tr>\n",
       "      <th>Azure Functions + PP365</th>\n",
       "      <td>1393.056618</td>\n",
       "      <td>66.336029</td>\n",
       "      <td>178.958273</td>\n",
       "      <td>21</td>\n",
       "    </tr>\n",
       "    <tr>\n",
       "      <th>Terraform</th>\n",
       "      <td>1520.588532</td>\n",
       "      <td>60.823541</td>\n",
       "      <td>295.108230</td>\n",
       "      <td>25</td>\n",
       "    </tr>\n",
       "    <tr>\n",
       "      <th>Todd Ideas</th>\n",
       "      <td>1613.260593</td>\n",
       "      <td>107.550706</td>\n",
       "      <td>390.839346</td>\n",
       "      <td>15</td>\n",
       "    </tr>\n",
       "    <tr>\n",
       "      <th>IW Migration</th>\n",
       "      <td>1852.665463</td>\n",
       "      <td>132.333247</td>\n",
       "      <td>599.730653</td>\n",
       "      <td>14</td>\n",
       "    </tr>\n",
       "    <tr>\n",
       "      <th>FSLogix</th>\n",
       "      <td>1980.546709</td>\n",
       "      <td>86.110726</td>\n",
       "      <td>303.933284</td>\n",
       "      <td>23</td>\n",
       "    </tr>\n",
       "    <tr>\n",
       "      <th>Python</th>\n",
       "      <td>2359.712151</td>\n",
       "      <td>50.206642</td>\n",
       "      <td>146.280309</td>\n",
       "      <td>47</td>\n",
       "    </tr>\n",
       "    <tr>\n",
       "      <th>PnP PowerShell</th>\n",
       "      <td>2845.858666</td>\n",
       "      <td>39.525815</td>\n",
       "      <td>394.470465</td>\n",
       "      <td>72</td>\n",
       "    </tr>\n",
       "    <tr>\n",
       "      <th>JavaScript Concepts</th>\n",
       "      <td>3407.589473</td>\n",
       "      <td>64.294141</td>\n",
       "      <td>322.251798</td>\n",
       "      <td>53</td>\n",
       "    </tr>\n",
       "    <tr>\n",
       "      <th>Vocab</th>\n",
       "      <td>3628.414490</td>\n",
       "      <td>42.687229</td>\n",
       "      <td>327.145157</td>\n",
       "      <td>85</td>\n",
       "    </tr>\n",
       "    <tr>\n",
       "      <th>Logging in Python</th>\n",
       "      <td>4116.155099</td>\n",
       "      <td>111.247435</td>\n",
       "      <td>465.100212</td>\n",
       "      <td>37</td>\n",
       "    </tr>\n",
       "    <tr>\n",
       "      <th>Powershell Modules</th>\n",
       "      <td>4602.702942</td>\n",
       "      <td>97.929850</td>\n",
       "      <td>813.825507</td>\n",
       "      <td>47</td>\n",
       "    </tr>\n",
       "    <tr>\n",
       "      <th>Azure Developer Associate</th>\n",
       "      <td>4850.148274</td>\n",
       "      <td>62.181388</td>\n",
       "      <td>601.518613</td>\n",
       "      <td>78</td>\n",
       "    </tr>\n",
       "  </tbody>\n",
       "</table>\n",
       "</div>"
      ],
      "text/plain": [
       "                                            age_sum    age_mean     age_max  \\\n",
       "SharePoint                               106.315335   26.578834   36.257616   \n",
       "RAG Project                              267.826694   16.739168   36.738708   \n",
       "Asynchronous Python                      392.814212    8.539439   21.036484   \n",
       "Azure AD Authentication                  505.015982   38.847383   92.333552   \n",
       "Azure DevOps Pipelines                   597.478985   22.979961   93.308887   \n",
       "Azure Functions + Visual Studio          760.910717   58.531594  261.810082   \n",
       "Email Auth and Security                  787.434568   65.619547  181.295785   \n",
       "Open Source/GitHub                       828.474424   51.779652  161.838767   \n",
       "Audit Report Tracker (Sharepoint List)  1015.105808   84.592151  359.846870   \n",
       "WSL + Kali Linux                        1214.900358   86.778597  301.008208   \n",
       "Debugging in VS Code                    1260.011073   66.316372  387.076576   \n",
       "Azure Functions + PP365                 1393.056618   66.336029  178.958273   \n",
       "Terraform                               1520.588532   60.823541  295.108230   \n",
       "Todd Ideas                              1613.260593  107.550706  390.839346   \n",
       "IW Migration                            1852.665463  132.333247  599.730653   \n",
       "FSLogix                                 1980.546709   86.110726  303.933284   \n",
       "Python                                  2359.712151   50.206642  146.280309   \n",
       "PnP PowerShell                          2845.858666   39.525815  394.470465   \n",
       "JavaScript Concepts                     3407.589473   64.294141  322.251798   \n",
       "Vocab                                   3628.414490   42.687229  327.145157   \n",
       "Logging in Python                       4116.155099  111.247435  465.100212   \n",
       "Powershell Modules                      4602.702942   97.929850  813.825507   \n",
       "Azure Developer Associate               4850.148274   62.181388  601.518613   \n",
       "\n",
       "                                        head_count  \n",
       "SharePoint                                       4  \n",
       "RAG Project                                     16  \n",
       "Asynchronous Python                             46  \n",
       "Azure AD Authentication                         13  \n",
       "Azure DevOps Pipelines                          26  \n",
       "Azure Functions + Visual Studio                 13  \n",
       "Email Auth and Security                         12  \n",
       "Open Source/GitHub                              16  \n",
       "Audit Report Tracker (Sharepoint List)          12  \n",
       "WSL + Kali Linux                                14  \n",
       "Debugging in VS Code                            19  \n",
       "Azure Functions + PP365                         21  \n",
       "Terraform                                       25  \n",
       "Todd Ideas                                      15  \n",
       "IW Migration                                    14  \n",
       "FSLogix                                         23  \n",
       "Python                                          47  \n",
       "PnP PowerShell                                  72  \n",
       "JavaScript Concepts                             53  \n",
       "Vocab                                           85  \n",
       "Logging in Python                               37  \n",
       "Powershell Modules                              47  \n",
       "Azure Developer Associate                       78  "
      ]
     },
     "execution_count": 3,
     "metadata": {},
     "output_type": "execute_result"
    }
   ],
   "source": [
    "stats = existing_cards.groupby('head').agg({'age': ['sum', 'mean', 'max'], 'head': 'count'}).sort_values(('age', 'sum'))\n",
    "stats.columns = stats.columns.to_flat_index()\n",
    "stats.columns = ['_'.join(col).strip() for col in stats.columns]\n",
    "stats.index.name = None\n",
    "stats"
   ]
  },
  {
   "cell_type": "markdown",
   "metadata": {},
   "source": [
    "# Histogram"
   ]
  },
  {
   "cell_type": "code",
   "execution_count": 4,
   "metadata": {},
   "outputs": [
    {
     "name": "stdout",
     "output_type": "stream",
     "text": [
      "sum of ages: ~41906.99\n"
     ]
    },
    {
     "data": {
      "text/plain": [
       "<Axes: >"
      ]
     },
     "execution_count": 4,
     "metadata": {},
     "output_type": "execute_result"
    },
    {
     "data": {
      "image/png": "[encoded data removed]",
      "text/plain": [
       "<Figure size 640x480 with 1 Axes>"
      ]
     },
     "metadata": {},
     "output_type": "display_data"
    }
   ],
   "source": [
    "print(f\"sum of ages: ~{existing_cards['age'].sum(0):.2f}\")\n",
    "existing_cards['age'].hist(bins=20)"
   ]
  },
  {
   "cell_type": "markdown",
   "metadata": {},
   "source": [
    "# Completely Random Shuffle"
   ]
  },
  {
   "cell_type": "code",
   "execution_count": 5,
   "metadata": {},
   "outputs": [],
   "source": [
    "# existing_cards = existing_cards.sample(frac=1)\n",
    "# remake_card_document(filename='certcards2.txt', existing_cards = existing_cards)"
   ]
  },
  {
   "cell_type": "markdown",
   "metadata": {},
   "source": [
    "# Age Sort"
   ]
  },
  {
   "cell_type": "code",
   "execution_count": 6,
   "metadata": {},
   "outputs": [],
   "source": [
    "# existing_cards = existing_cards.sort_values('age', ascending=False)\n",
    "# remake_card_document(filename='certcards2.txt', existing_cards=existing_cards)\n",
    "# existing_cards.head(10)"
   ]
  },
  {
   "cell_type": "markdown",
   "metadata": {},
   "source": [
    "# Headers with fewest notes first"
   ]
  },
  {
   "cell_type": "code",
   "execution_count": 7,
   "metadata": {},
   "outputs": [],
   "source": [
    "# frequency = existing_cards['head'].value_counts(ascending=True)\n",
    "\n",
    "# existing_cards = pd.merge(\n",
    "#     left=existing_cards,\n",
    "#     right=frequency.rename('frequency'),\n",
    "#     left_on='head', right_index=True,\n",
    "#     how='left'\n",
    "# )\n",
    "# existing_cards['oldest'] = existing_cards.groupby('head')['age'].transform('max')\n",
    "# existing_cards['subject_highest_age'] = existing_cards['subject_highest_age'] * -1\n",
    "# existing_cards['age'] = existing_cards['age'] * -1\n",
    "\n",
    "\n",
    "# existing_cards.sort_values(['frequency', 'subject_highest_age', 'age'], ascending=True, inplace=True)\n",
    "\n",
    "# remake_card_document(filename='certcards2.txt', existing_cards=existing_cards)\n",
    "\n",
    "# existing_cards.head(10)"
   ]
  },
  {
   "cell_type": "markdown",
   "metadata": {},
   "source": [
    "# Focus on one header"
   ]
  },
  {
   "cell_type": "code",
   "execution_count": 8,
   "metadata": {},
   "outputs": [],
   "source": [
    "# heads = existing_cards['head'].value_counts()\n",
    "# heads = heads[heads > 5].index.tolist()\n",
    "# one_header = random.sample(heads, 1)[0]\n",
    "# existing_cards['pick_head'] = existing_cards['head'].apply(\n",
    "#     lambda h: 0 if h == one_header else 1 \n",
    "# )\n",
    "\n",
    "# remake_card_document(existing_cards=existing_cards.sort_values('pick_head'))"
   ]
  },
  {
   "cell_type": "markdown",
   "metadata": {},
   "source": [
    "## Header with oldest cards first"
   ]
  },
  {
   "cell_type": "code",
   "execution_count": 9,
   "metadata": {},
   "outputs": [],
   "source": [
    "# existing_cards['oldest'] = existing_cards.groupby('head')['age'].transform('max')\n",
    "# existing_cards.sort_values(['oldest', 'age'], ascending=False, inplace=True)\n",
    "# remake_card_document(existing_cards)"
   ]
  },
  {
   "cell_type": "markdown",
   "metadata": {},
   "source": [
    "## Headers with greatest mean card age first"
   ]
  },
  {
   "cell_type": "code",
   "execution_count": 10,
   "metadata": {},
   "outputs": [],
   "source": [
    "# existing_cards.sort_values(['subject_mean_age', 'age'], ascending=False, inplace=True)\n",
    "# remake_card_document(existing_cards)"
   ]
  },
  {
   "cell_type": "markdown",
   "metadata": {},
   "source": [
    "## Headers with greatest age sum first"
   ]
  },
  {
   "cell_type": "code",
   "execution_count": 11,
   "metadata": {},
   "outputs": [],
   "source": [
    "# existing_cards.sort_values(['subject_age_sum', 'age'], ascending=False, inplace=True)\n",
    "# remake_card_document(existing_cards)"
   ]
  },
  {
   "cell_type": "markdown",
   "metadata": {},
   "source": [
    "# N-fold shuffle\n"
   ]
  },
  {
   "cell_type": "markdown",
   "metadata": {},
   "source": [
    "## Age Sum"
   ]
  },
  {
   "cell_type": "code",
   "execution_count": 12,
   "metadata": {},
   "outputs": [
    {
     "name": "stdout",
     "output_type": "stream",
     "text": [
      "Cards found: 708\n",
      "Total card age: 41906.99\n"
     ]
    },
    {
     "data": {
      "text/html": [
       "<div>\n",
       "<style scoped>\n",
       "    .dataframe tbody tr th:only-of-type {\n",
       "        vertical-align: middle;\n",
       "    }\n",
       "\n",
       "    .dataframe tbody tr th {\n",
       "        vertical-align: top;\n",
       "    }\n",
       "\n",
       "    .dataframe thead th {\n",
       "        text-align: right;\n",
       "    }\n",
       "</style>\n",
       "<table border=\"1\" class=\"dataframe\">\n",
       "  <thead>\n",
       "    <tr style=\"text-align: right;\">\n",
       "      <th></th>\n",
       "      <th>head</th>\n",
       "      <th>body</th>\n",
       "      <th>hash</th>\n",
       "      <th>age</th>\n",
       "      <th>subject_mean_age</th>\n",
       "      <th>subject_highest_age</th>\n",
       "      <th>subject_age_sum</th>\n",
       "      <th>head_random_roll</th>\n",
       "      <th>count</th>\n",
       "      <th>n_fold</th>\n",
       "    </tr>\n",
       "  </thead>\n",
       "  <tbody>\n",
       "    <tr>\n",
       "      <th>16</th>\n",
       "      <td>Azure Developer Associate</td>\n",
       "      <td>Q: Name 3 common use cases for Azure Cache for...</td>\n",
       "      <td>74aa9e7423c38eb295931eeaecc4677f</td>\n",
       "      <td>-601.518613</td>\n",
       "      <td>62.181388</td>\n",
       "      <td>601.518613</td>\n",
       "      <td>-4850.148274</td>\n",
       "      <td>0.179123</td>\n",
       "      <td>0</td>\n",
       "      <td>0</td>\n",
       "    </tr>\n",
       "    <tr>\n",
       "      <th>17</th>\n",
       "      <td>Azure Developer Associate</td>\n",
       "      <td>Q: Which Azure Cache for Redis tiers support V...</td>\n",
       "      <td>f4d192cbca85bd21a1ceccc88f2403bd</td>\n",
       "      <td>-294.471837</td>\n",
       "      <td>62.181388</td>\n",
       "      <td>601.518613</td>\n",
       "      <td>-4850.148274</td>\n",
       "      <td>0.179123</td>\n",
       "      <td>3</td>\n",
       "      <td>0</td>\n",
       "    </tr>\n",
       "    <tr>\n",
       "      <th>18</th>\n",
       "      <td>Azure Developer Associate</td>\n",
       "      <td>What is the purpose of App Insights Profiler?\\...</td>\n",
       "      <td>94652eb5e22f603bdf47dc2f951c5678</td>\n",
       "      <td>-235.027356</td>\n",
       "      <td>62.181388</td>\n",
       "      <td>601.518613</td>\n",
       "      <td>-4850.148274</td>\n",
       "      <td>0.179123</td>\n",
       "      <td>6</td>\n",
       "      <td>0</td>\n",
       "    </tr>\n",
       "    <tr>\n",
       "      <th>19</th>\n",
       "      <td>Azure Developer Associate</td>\n",
       "      <td>Q: Does Redis support multiple programming lan...</td>\n",
       "      <td>807852827a83cd7d62194d7875ff60ce</td>\n",
       "      <td>-129.048391</td>\n",
       "      <td>62.181388</td>\n",
       "      <td>601.518613</td>\n",
       "      <td>-4850.148274</td>\n",
       "      <td>0.179123</td>\n",
       "      <td>9</td>\n",
       "      <td>0</td>\n",
       "    </tr>\n",
       "    <tr>\n",
       "      <th>20</th>\n",
       "      <td>Azure Developer Associate</td>\n",
       "      <td>Front: Name ways to authenticate applications ...</td>\n",
       "      <td>c7e94c9ab9246d745b4a2dac747a0eca</td>\n",
       "      <td>-99.601543</td>\n",
       "      <td>62.181388</td>\n",
       "      <td>601.518613</td>\n",
       "      <td>-4850.148274</td>\n",
       "      <td>0.179123</td>\n",
       "      <td>12</td>\n",
       "      <td>0</td>\n",
       "    </tr>\n",
       "    <tr>\n",
       "      <th>21</th>\n",
       "      <td>Azure Developer Associate</td>\n",
       "      <td>Azure blob storage rule run conditions\\n  days...</td>\n",
       "      <td>9b65acd2c12562c6b9d76c845b519a63</td>\n",
       "      <td>-70.354869</td>\n",
       "      <td>62.181388</td>\n",
       "      <td>601.518613</td>\n",
       "      <td>-4850.148274</td>\n",
       "      <td>0.179123</td>\n",
       "      <td>15</td>\n",
       "      <td>0</td>\n",
       "    </tr>\n",
       "    <tr>\n",
       "      <th>484</th>\n",
       "      <td>Azure Developer Associate</td>\n",
       "      <td>While a blob is in the archive access tier, it...</td>\n",
       "      <td>88c9f2eaa8008903987984ddcf6c227b</td>\n",
       "      <td>-54.381824</td>\n",
       "      <td>62.181388</td>\n",
       "      <td>601.518613</td>\n",
       "      <td>-4850.148274</td>\n",
       "      <td>0.179123</td>\n",
       "      <td>18</td>\n",
       "      <td>0</td>\n",
       "    </tr>\n",
       "    <tr>\n",
       "      <th>485</th>\n",
       "      <td>Azure Developer Associate</td>\n",
       "      <td>Front: Describe the difference between Bounded...</td>\n",
       "      <td>b5a99631d7a76729cd12eb9727c92941</td>\n",
       "      <td>-47.210374</td>\n",
       "      <td>62.181388</td>\n",
       "      <td>601.518613</td>\n",
       "      <td>-4850.148274</td>\n",
       "      <td>0.179123</td>\n",
       "      <td>21</td>\n",
       "      <td>0</td>\n",
       "    </tr>\n",
       "    <tr>\n",
       "      <th>487</th>\n",
       "      <td>Azure Developer Associate</td>\n",
       "      <td>How can you keep an Azure App Service always w...</td>\n",
       "      <td>7cfdc39b86ced2f8da8b14d344a73163</td>\n",
       "      <td>-44.918313</td>\n",
       "      <td>62.181388</td>\n",
       "      <td>601.518613</td>\n",
       "      <td>-4850.148274</td>\n",
       "      <td>0.179123</td>\n",
       "      <td>24</td>\n",
       "      <td>0</td>\n",
       "    </tr>\n",
       "    <tr>\n",
       "      <th>25</th>\n",
       "      <td>Azure Developer Associate</td>\n",
       "      <td>Q: What is Azure Cache for Redis?\\nA: A fully ...</td>\n",
       "      <td>5bc9505ae30a8c09e1c0c220c2b6d7b3</td>\n",
       "      <td>-38.703769</td>\n",
       "      <td>62.181388</td>\n",
       "      <td>601.518613</td>\n",
       "      <td>-4850.148274</td>\n",
       "      <td>0.179123</td>\n",
       "      <td>27</td>\n",
       "      <td>0</td>\n",
       "    </tr>\n",
       "  </tbody>\n",
       "</table>\n",
       "</div>"
      ],
      "text/plain": [
       "                          head  \\\n",
       "16   Azure Developer Associate   \n",
       "17   Azure Developer Associate   \n",
       "18   Azure Developer Associate   \n",
       "19   Azure Developer Associate   \n",
       "20   Azure Developer Associate   \n",
       "21   Azure Developer Associate   \n",
       "484  Azure Developer Associate   \n",
       "485  Azure Developer Associate   \n",
       "487  Azure Developer Associate   \n",
       "25   Azure Developer Associate   \n",
       "\n",
       "                                                  body  \\\n",
       "16   Q: Name 3 common use cases for Azure Cache for...   \n",
       "17   Q: Which Azure Cache for Redis tiers support V...   \n",
       "18   What is the purpose of App Insights Profiler?\\...   \n",
       "19   Q: Does Redis support multiple programming lan...   \n",
       "20   Front: Name ways to authenticate applications ...   \n",
       "21   Azure blob storage rule run conditions\\n  days...   \n",
       "484  While a blob is in the archive access tier, it...   \n",
       "485  Front: Describe the difference between Bounded...   \n",
       "487  How can you keep an Azure App Service always w...   \n",
       "25   Q: What is Azure Cache for Redis?\\nA: A fully ...   \n",
       "\n",
       "                                 hash         age  subject_mean_age  \\\n",
       "16   74aa9e7423c38eb295931eeaecc4677f -601.518613         62.181388   \n",
       "17   f4d192cbca85bd21a1ceccc88f2403bd -294.471837         62.181388   \n",
       "18   94652eb5e22f603bdf47dc2f951c5678 -235.027356         62.181388   \n",
       "19   807852827a83cd7d62194d7875ff60ce -129.048391         62.181388   \n",
       "20   c7e94c9ab9246d745b4a2dac747a0eca  -99.601543         62.181388   \n",
       "21   9b65acd2c12562c6b9d76c845b519a63  -70.354869         62.181388   \n",
       "484  88c9f2eaa8008903987984ddcf6c227b  -54.381824         62.181388   \n",
       "485  b5a99631d7a76729cd12eb9727c92941  -47.210374         62.181388   \n",
       "487  7cfdc39b86ced2f8da8b14d344a73163  -44.918313         62.181388   \n",
       "25   5bc9505ae30a8c09e1c0c220c2b6d7b3  -38.703769         62.181388   \n",
       "\n",
       "     subject_highest_age  subject_age_sum  head_random_roll  count  n_fold  \n",
       "16            601.518613     -4850.148274          0.179123      0       0  \n",
       "17            601.518613     -4850.148274          0.179123      3       0  \n",
       "18            601.518613     -4850.148274          0.179123      6       0  \n",
       "19            601.518613     -4850.148274          0.179123      9       0  \n",
       "20            601.518613     -4850.148274          0.179123     12       0  \n",
       "21            601.518613     -4850.148274          0.179123     15       0  \n",
       "484           601.518613     -4850.148274          0.179123     18       0  \n",
       "485           601.518613     -4850.148274          0.179123     21       0  \n",
       "487           601.518613     -4850.148274          0.179123     24       0  \n",
       "25            601.518613     -4850.148274          0.179123     27       0  "
      ]
     },
     "execution_count": 12,
     "metadata": {},
     "output_type": "execute_result"
    }
   ],
   "source": [
    "n=3\n",
    "existing_cards['count'] = existing_cards.sort_values('age', ascending=False).groupby('head').cumcount()\n",
    "existing_cards['n_fold'] = existing_cards['count'] % n\n",
    "\n",
    "existing_cards['subject_age_sum'] = existing_cards['subject_age_sum'] *-1\n",
    "existing_cards['age'] = existing_cards['age'] *-1\n",
    "existing_cards.sort_values(['n_fold', 'subject_age_sum', 'age'], inplace=True)\n",
    "\n",
    "remake_card_document(existing_cards=existing_cards)\n",
    "existing_cards.head(10)\n"
   ]
  },
  {
   "cell_type": "markdown",
   "metadata": {},
   "source": [
    "## Age Mean"
   ]
  },
  {
   "cell_type": "code",
   "execution_count": 13,
   "metadata": {},
   "outputs": [],
   "source": [
    "# n=3\n",
    "# existing_cards['count'] = existing_cards.sort_values('age', ascending=False).groupby('head').cumcount()\n",
    "# existing_cards['n_fold'] = existing_cards['count'] % n\n",
    "\n",
    "# existing_cards['subject_mean_age'] = existing_cards['subject_mean_age'] *-1\n",
    "# existing_cards['age'] = existing_cards['age'] *-1\n",
    "# existing_cards.sort_values(['n_fold', 'subject_mean_age', 'age'], inplace=True)\n",
    "# remake_card_document(existing_cards=existing_cards)\n",
    "\n",
    "# existing_cards.head(10)\n",
    "\n"
   ]
  },
  {
   "cell_type": "markdown",
   "metadata": {},
   "source": [
    "## Age Max"
   ]
  },
  {
   "cell_type": "code",
   "execution_count": 14,
   "metadata": {},
   "outputs": [],
   "source": [
    "# n = 1\n",
    "# existing_cards['count'] = existing_cards.sort_values('age', ascending=False).groupby('head').cumcount()\n",
    "# existing_cards['n_fold'] = existing_cards['count'] // n\n",
    "\n",
    "# if existing_cards['age'].sum() > 0:\n",
    "#     existing_cards['subject_highest_age'] = existing_cards['subject_highest_age'] *-1\n",
    "#     existing_cards['age'] = existing_cards['age'] *-1\n",
    "# # existing_cards.sort_values(['n_fold', 'subject_highest_age', 'age'], inplace=True)\n",
    "# existing_cards.sort_values(['age'], inplace=True)\n",
    "\n",
    "# remake_card_document(existing_cards=existing_cards)\n",
    "# existing_cards.head(10)\n"
   ]
  },
  {
   "cell_type": "markdown",
   "metadata": {},
   "source": [
    "## Card Count"
   ]
  },
  {
   "cell_type": "code",
   "execution_count": 15,
   "metadata": {},
   "outputs": [],
   "source": [
    "# n=10\n",
    "# existing_cards['frequency']  = existing_cards.groupby('head').transform('count')['body']\n",
    "# existing_cards['count'] = existing_cards.sort_values('age', ascending=False).groupby('head').cumcount()\n",
    "# existing_cards['n_fold'] = existing_cards['count'] // n\n",
    "\n",
    "# if existing_cards['age'].sum() > 0:\n",
    "#     # existing_cards['neg_subject_highest_age'] = existing_cards['subject_highest_age'] *-1\n",
    "#     existing_cards['neg_age'] = existing_cards['age'] *-1\n",
    "# existing_cards.sort_values(['n_fold', 'frequency', 'neg_age'], inplace=True)\n",
    "# remake_card_document(existing_cards=existing_cards)\n",
    "\n",
    "# existing_cards.head(10)\n",
    "\n"
   ]
  },
  {
   "cell_type": "markdown",
   "metadata": {},
   "source": [
    "\n",
    "## Random"
   ]
  },
  {
   "cell_type": "code",
   "execution_count": 16,
   "metadata": {},
   "outputs": [],
   "source": [
    "# n = 3\n",
    "# existing_cards['count'] = existing_cards.sort_values('age', ascending=False).groupby('head').cumcount()\n",
    "# existing_cards['n_fold'] = existing_cards['count'] % n\n",
    "# existing_cards['age'] *= -1\n",
    "# existing_cards.sort_values(['n_fold', 'head_random_roll', 'age'], inplace=True)\n",
    "# remake_card_document(existing_cards=existing_cards)\n",
    "# existing_cards.head(10)"
   ]
  },
  {
   "cell_type": "code",
   "execution_count": 17,
   "metadata": {},
   "outputs": [
    {
     "data": {
      "text/plain": [
       "head                   Azure Developer AssociateAzure Developer Assoc...\n",
       "body                   Q: Name 3 common use cases for Azure Cache for...\n",
       "hash                   74aa9e7423c38eb295931eeaecc4677ff4d192cbca85bd...\n",
       "age                                                         -1615.236888\n",
       "subject_mean_age                                              621.813881\n",
       "subject_highest_age                                          6015.186127\n",
       "subject_age_sum                                            -48501.482735\n",
       "head_random_roll                                                1.791231\n",
       "count                                                                135\n",
       "n_fold                                                                 0\n",
       "dtype: object"
      ]
     },
     "execution_count": 17,
     "metadata": {},
     "output_type": "execute_result"
    }
   ],
   "source": [
    "existing_cards.head(10).sum()"
   ]
  },
  {
   "cell_type": "code",
   "execution_count": 18,
   "metadata": {},
   "outputs": [
    {
     "data": {
      "text/plain": [
       "-59.190659836199536"
      ]
     },
     "execution_count": 18,
     "metadata": {},
     "output_type": "execute_result"
    }
   ],
   "source": [
    "existing_cards['age'].mean()"
   ]
  }
 ],
 "metadata": {
  "kernelspec": {
   "display_name": "Python 3",
   "language": "python",
   "name": "python3"
  },
  "language_info": {
   "codemirror_mode": {
    "name": "ipython",
    "version": 3
   },
   "file_extension": ".py",
   "mimetype": "text/x-python",
   "name": "python",
   "nbconvert_exporter": "python",
   "pygments_lexer": "ipython3",
   "version": "3.10.10"
  }
 },
 "nbformat": 4,
 "nbformat_minor": 2
}
