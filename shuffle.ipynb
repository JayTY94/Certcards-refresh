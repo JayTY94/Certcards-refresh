{
 "cells": [
  {
   "cell_type": "code",
   "execution_count": 19,
   "metadata": {},
   "outputs": [],
   "source": [
    "import re\n",
    "import random\n",
    "import pandas as pd\n",
    "import hashlib"
   ]
  },
  {
   "cell_type": "code",
   "execution_count": 20,
   "metadata": {},
   "outputs": [],
   "source": [
    "with open('certcards2.txt', mode='r', encoding='utf8') as f:\n",
    "    all_cards = f.read()\n",
    "    \n",
    "card_split_pattern = r'\\n\\n\\n\\d+\\n'\n",
    "all_cards = re.split(card_split_pattern, all_cards)\n",
    "# Use re.DOTALL to allow . to match newline characters\n",
    "card_pattern = re.compile(r'(.+?)\\n([\\s\\S]+)', re.DOTALL)\n",
    "cards = [(match.group(1), match.group(2)) for cstring in all_cards if (match := re.search(card_pattern, cstring))]\n",
    "\n",
    "# removing the cards that have no content and trimming\n",
    "cards = [(subject, stripped_content) for subject, content in cards if len(stripped_content := content.strip()) > 5]\n",
    "\n",
    "def hash_string_md5(s):\n",
    "    \"\"\"\n",
    "    Hashes a string using MD5 and returns a truncated hash for efficiency.\n",
    "\n",
    "    Parameters:\n",
    "    - s (str): The input string to hash.\n",
    "\n",
    "    Returns:\n",
    "    - str: The truncated hexadecimal hash string.\n",
    "    \"\"\"\n",
    "    if pd.isnull(s):\n",
    "        return None  # Handle NaN values gracefully\n",
    "    return hashlib.md5(s.encode('utf-8')).hexdigest()  # Truncate to first 12 characters\n",
    "\n",
    "\n",
    "def remake_card_document(existing_cards: pd.DataFrame, filename: str='certcards2.txt'):\n",
    "    with open(filename, mode='w', encoding='utf8') as f:\n",
    "        i = 1\n",
    "        for _, row in existing_cards.iterrows():\n",
    "            f.write('\\n'*6)\n",
    "            f.write(str(i)+'\\n')  \n",
    "            f.write(row['head']+'\\n')\n",
    "            f.write(row['body'])\n",
    "            i+=1\n",
    "    print(F\"Cards found: {existing_cards.shape[0]}\")\n",
    "\n",
    "\n",
    "existing_cards = pd.DataFrame(cards, columns=['head', 'body'])\n",
    "\n",
    "\n",
    "# existing_cards['age'] = [random.random() for _ in existing_cards.index]\n",
    "existing_cards['hash'] = existing_cards['body'].apply(hash_string_md5)\n",
    "existing_cards\n",
    "\n",
    "card_ages = pd.read_json('card_ages.json')\n",
    "card_ages = card_ages.drop_duplicates(subset=['hash'], keep='first')\n",
    "\n",
    "cards_to_age = pd.merge(\n",
    "    left=existing_cards,\n",
    "    right=card_ages[['hash', 'age']],\n",
    "    left_on='hash', right_on='hash',\n",
    "    how='left'\n",
    ")\n",
    "\n",
    "cards_to_age['head'] = cards_to_age['head'].str.strip()\n",
    "\n",
    "if cards_to_age['age'].sum() > 2e4: age_factor = 1\n",
    "else: age_factor = 1.00\n",
    "\n",
    "cards_to_age['age'] = cards_to_age['age'].fillna(0)\n",
    "cards_to_age['age'] = cards_to_age['age'] * age_factor\n",
    "cards_to_age['age'] = cards_to_age['age'] + [random.expovariate(.60) for _ in cards_to_age.index]\n",
    "# cards_to_age['age'] = cards_to_age['age'] * [random.expovariate(.5) for _ in cards_to_age.index]\n",
    "\n",
    "\n",
    "cards_to_age = cards_to_age.drop_duplicates(subset=['hash'], keep='first')\n",
    "\n",
    "cards_to_age['subject_mean_age'] = cards_to_age.groupby('head')['age'].transform('mean')\n",
    "cards_to_age['subject_highest_age'] = cards_to_age.groupby('head')['age'].transform('max')\n",
    "cards_to_age['subject_age_sum'] = cards_to_age.groupby('head')['age'].transform('sum')\n",
    "cards_to_age['head_random_roll'] = cards_to_age.groupby('head')['head'].transform(lambda x: random.random())\n",
    "\n",
    "\n",
    "cards_to_age.sort_values('age')[['age', 'head', 'hash']].to_json('card_ages.json', indent=2)\n",
    "\n",
    "existing_cards = cards_to_age"
   ]
  },
  {
   "cell_type": "code",
   "execution_count": 21,
   "metadata": {},
   "outputs": [
    {
     "data": {
      "application/vnd.microsoft.datawrangler.viewer.v0+json": {
       "columns": [
        {
         "name": "index",
         "rawType": "object",
         "type": "string"
        },
        {
         "name": "age_sum",
         "rawType": "float64",
         "type": "float"
        },
        {
         "name": "age_mean",
         "rawType": "float64",
         "type": "float"
        },
        {
         "name": "head_count",
         "rawType": "int64",
         "type": "integer"
        }
       ],
       "conversionMethod": "pd.DataFrame",
       "ref": "14414fc8-03e8-440a-99c6-aa8f0b41f647",
       "rows": [
        [
         "Powershell",
         "222.1196467872946",
         "44.423929357458924",
         "5"
        ],
        [
         "Todd Ideas",
         "362.24307543162473",
         "24.149538362108316",
         "15"
        ],
        [
         "Azure Functions",
         "821.6095743110886",
         "74.69177948282623",
         "11"
        ],
        [
         "Terraform",
         "842.8361793384123",
         "33.713447173536494",
         "25"
        ],
        [
         "SharePoint",
         "1087.1951914710733",
         "90.5995992892561",
         "12"
        ],
        [
         "Email Auth and Security",
         "1306.8614583307",
         "100.52780448697693",
         "13"
        ],
        [
         "Azure Functions + Visual Studio",
         "1358.3052987553044",
         "97.02180705395031",
         "14"
        ],
        [
         "FSLogix",
         "1383.8968105369215",
         "57.662367105705066",
         "24"
        ],
        [
         "Audit Report Tracker (Sharepoint List)",
         "1409.335470502239",
         "88.08346690638994",
         "16"
        ],
        [
         "IW Migration",
         "1533.939599152905",
         "109.5671142252075",
         "14"
        ],
        [
         "OData",
         "1534.3582568185084",
         "102.29055045456722",
         "15"
        ],
        [
         "Azure AI Search",
         "1607.9340140901359",
         "114.85242957786684",
         "14"
        ],
        [
         "DNS",
         "1620.2441837637907",
         "101.26526148523692",
         "16"
        ],
        [
         "PEP 8",
         "1626.820355075424",
         "135.568362922952",
         "12"
        ],
        [
         "Home Network Project",
         "1739.018070843344",
         "91.52726688649179",
         "19"
        ],
        [
         "Debugging in VS Code",
         "2022.6279424967722",
         "87.94034532594662",
         "23"
        ],
        [
         "Open Source/GitHub",
         "2148.492725863448",
         "107.4246362931724",
         "20"
        ],
        [
         "Azure Functions + PP365",
         "2271.2946209434504",
         "90.85178483773801",
         "25"
        ],
        [
         "JavaScript Concepts",
         "2779.5313082784573",
         "45.566087020958314",
         "61"
        ],
        [
         "WSL + Kali Linux",
         "2791.5486697687425",
         "126.8885758985792",
         "22"
        ],
        [
         "Vocab",
         "2832.768963976991",
         "42.92074187843926",
         "66"
        ],
        [
         "Powershell Modules",
         "2911.73333008924",
         "97.05777766964134",
         "30"
        ],
        [
         "PnP Powershell",
         "3172.5046088723525",
         "83.4869633913777",
         "38"
        ],
        [
         "Logging in Python",
         "3185.2438379968853",
         "53.08739729994809",
         "60"
        ]
       ],
       "shape": {
        "columns": 3,
        "rows": 24
       }
      },
      "text/html": [
       "<div>\n",
       "<style scoped>\n",
       "    .dataframe tbody tr th:only-of-type {\n",
       "        vertical-align: middle;\n",
       "    }\n",
       "\n",
       "    .dataframe tbody tr th {\n",
       "        vertical-align: top;\n",
       "    }\n",
       "\n",
       "    .dataframe thead th {\n",
       "        text-align: right;\n",
       "    }\n",
       "</style>\n",
       "<table border=\"1\" class=\"dataframe\">\n",
       "  <thead>\n",
       "    <tr style=\"text-align: right;\">\n",
       "      <th></th>\n",
       "      <th>age_sum</th>\n",
       "      <th>age_mean</th>\n",
       "      <th>head_count</th>\n",
       "    </tr>\n",
       "  </thead>\n",
       "  <tbody>\n",
       "    <tr>\n",
       "      <th>Powershell</th>\n",
       "      <td>222.119647</td>\n",
       "      <td>44.423929</td>\n",
       "      <td>5</td>\n",
       "    </tr>\n",
       "    <tr>\n",
       "      <th>Todd Ideas</th>\n",
       "      <td>362.243075</td>\n",
       "      <td>24.149538</td>\n",
       "      <td>15</td>\n",
       "    </tr>\n",
       "    <tr>\n",
       "      <th>Azure Functions</th>\n",
       "      <td>821.609574</td>\n",
       "      <td>74.691779</td>\n",
       "      <td>11</td>\n",
       "    </tr>\n",
       "    <tr>\n",
       "      <th>Terraform</th>\n",
       "      <td>842.836179</td>\n",
       "      <td>33.713447</td>\n",
       "      <td>25</td>\n",
       "    </tr>\n",
       "    <tr>\n",
       "      <th>SharePoint</th>\n",
       "      <td>1087.195191</td>\n",
       "      <td>90.599599</td>\n",
       "      <td>12</td>\n",
       "    </tr>\n",
       "    <tr>\n",
       "      <th>Email Auth and Security</th>\n",
       "      <td>1306.861458</td>\n",
       "      <td>100.527804</td>\n",
       "      <td>13</td>\n",
       "    </tr>\n",
       "    <tr>\n",
       "      <th>Azure Functions + Visual Studio</th>\n",
       "      <td>1358.305299</td>\n",
       "      <td>97.021807</td>\n",
       "      <td>14</td>\n",
       "    </tr>\n",
       "    <tr>\n",
       "      <th>FSLogix</th>\n",
       "      <td>1383.896811</td>\n",
       "      <td>57.662367</td>\n",
       "      <td>24</td>\n",
       "    </tr>\n",
       "    <tr>\n",
       "      <th>Audit Report Tracker (Sharepoint List)</th>\n",
       "      <td>1409.335471</td>\n",
       "      <td>88.083467</td>\n",
       "      <td>16</td>\n",
       "    </tr>\n",
       "    <tr>\n",
       "      <th>IW Migration</th>\n",
       "      <td>1533.939599</td>\n",
       "      <td>109.567114</td>\n",
       "      <td>14</td>\n",
       "    </tr>\n",
       "    <tr>\n",
       "      <th>OData</th>\n",
       "      <td>1534.358257</td>\n",
       "      <td>102.290550</td>\n",
       "      <td>15</td>\n",
       "    </tr>\n",
       "    <tr>\n",
       "      <th>Azure AI Search</th>\n",
       "      <td>1607.934014</td>\n",
       "      <td>114.852430</td>\n",
       "      <td>14</td>\n",
       "    </tr>\n",
       "    <tr>\n",
       "      <th>DNS</th>\n",
       "      <td>1620.244184</td>\n",
       "      <td>101.265261</td>\n",
       "      <td>16</td>\n",
       "    </tr>\n",
       "    <tr>\n",
       "      <th>PEP 8</th>\n",
       "      <td>1626.820355</td>\n",
       "      <td>135.568363</td>\n",
       "      <td>12</td>\n",
       "    </tr>\n",
       "    <tr>\n",
       "      <th>Home Network Project</th>\n",
       "      <td>1739.018071</td>\n",
       "      <td>91.527267</td>\n",
       "      <td>19</td>\n",
       "    </tr>\n",
       "    <tr>\n",
       "      <th>Debugging in VS Code</th>\n",
       "      <td>2022.627942</td>\n",
       "      <td>87.940345</td>\n",
       "      <td>23</td>\n",
       "    </tr>\n",
       "    <tr>\n",
       "      <th>Open Source/GitHub</th>\n",
       "      <td>2148.492726</td>\n",
       "      <td>107.424636</td>\n",
       "      <td>20</td>\n",
       "    </tr>\n",
       "    <tr>\n",
       "      <th>Azure Functions + PP365</th>\n",
       "      <td>2271.294621</td>\n",
       "      <td>90.851785</td>\n",
       "      <td>25</td>\n",
       "    </tr>\n",
       "    <tr>\n",
       "      <th>JavaScript Concepts</th>\n",
       "      <td>2779.531308</td>\n",
       "      <td>45.566087</td>\n",
       "      <td>61</td>\n",
       "    </tr>\n",
       "    <tr>\n",
       "      <th>WSL + Kali Linux</th>\n",
       "      <td>2791.548670</td>\n",
       "      <td>126.888576</td>\n",
       "      <td>22</td>\n",
       "    </tr>\n",
       "    <tr>\n",
       "      <th>Vocab</th>\n",
       "      <td>2832.768964</td>\n",
       "      <td>42.920742</td>\n",
       "      <td>66</td>\n",
       "    </tr>\n",
       "    <tr>\n",
       "      <th>Powershell Modules</th>\n",
       "      <td>2911.733330</td>\n",
       "      <td>97.057778</td>\n",
       "      <td>30</td>\n",
       "    </tr>\n",
       "    <tr>\n",
       "      <th>PnP Powershell</th>\n",
       "      <td>3172.504609</td>\n",
       "      <td>83.486963</td>\n",
       "      <td>38</td>\n",
       "    </tr>\n",
       "    <tr>\n",
       "      <th>Logging in Python</th>\n",
       "      <td>3185.243838</td>\n",
       "      <td>53.087397</td>\n",
       "      <td>60</td>\n",
       "    </tr>\n",
       "  </tbody>\n",
       "</table>\n",
       "</div>"
      ],
      "text/plain": [
       "                                            age_sum    age_mean  head_count\n",
       "Powershell                               222.119647   44.423929           5\n",
       "Todd Ideas                               362.243075   24.149538          15\n",
       "Azure Functions                          821.609574   74.691779          11\n",
       "Terraform                                842.836179   33.713447          25\n",
       "SharePoint                              1087.195191   90.599599          12\n",
       "Email Auth and Security                 1306.861458  100.527804          13\n",
       "Azure Functions + Visual Studio         1358.305299   97.021807          14\n",
       "FSLogix                                 1383.896811   57.662367          24\n",
       "Audit Report Tracker (Sharepoint List)  1409.335471   88.083467          16\n",
       "IW Migration                            1533.939599  109.567114          14\n",
       "OData                                   1534.358257  102.290550          15\n",
       "Azure AI Search                         1607.934014  114.852430          14\n",
       "DNS                                     1620.244184  101.265261          16\n",
       "PEP 8                                   1626.820355  135.568363          12\n",
       "Home Network Project                    1739.018071   91.527267          19\n",
       "Debugging in VS Code                    2022.627942   87.940345          23\n",
       "Open Source/GitHub                      2148.492726  107.424636          20\n",
       "Azure Functions + PP365                 2271.294621   90.851785          25\n",
       "JavaScript Concepts                     2779.531308   45.566087          61\n",
       "WSL + Kali Linux                        2791.548670  126.888576          22\n",
       "Vocab                                   2832.768964   42.920742          66\n",
       "Powershell Modules                      2911.733330   97.057778          30\n",
       "PnP Powershell                          3172.504609   83.486963          38\n",
       "Logging in Python                       3185.243838   53.087397          60"
      ]
     },
     "execution_count": 21,
     "metadata": {},
     "output_type": "execute_result"
    }
   ],
   "source": [
    "stats = existing_cards.groupby('head').agg({'age': ['sum', 'mean'], 'head': 'count'}).sort_values(('age', 'sum'))\n",
    "stats.columns = stats.columns.to_flat_index()\n",
    "stats.columns = ['_'.join(col).strip() for col in stats.columns]\n",
    "stats.index.name = None\n",
    "stats"
   ]
  },
  {
   "cell_type": "markdown",
   "metadata": {},
   "source": [
    "# Histogram"
   ]
  },
  {
   "cell_type": "code",
   "execution_count": 22,
   "metadata": {},
   "outputs": [
    {
     "name": "stdout",
     "output_type": "stream",
     "text": [
      "42572.46\n"
     ]
    },
    {
     "data": {
      "text/plain": [
       "<Axes: >"
      ]
     },
     "execution_count": 22,
     "metadata": {},
     "output_type": "execute_result"
    },
    {
     "data": {
      "image/png": "[encoded data removed]",
      "text/plain": [
       "<Figure size 640x480 with 1 Axes>"
      ]
     },
     "metadata": {},
     "output_type": "display_data"
    }
   ],
   "source": [
    "print(f\"{existing_cards['age'].sum(0):.2f}\")\n",
    "existing_cards['age'].hist(bins=20)"
   ]
  },
  {
   "cell_type": "markdown",
   "metadata": {},
   "source": [
    "# Completely Random Shuffle"
   ]
  },
  {
   "cell_type": "code",
   "execution_count": 23,
   "metadata": {},
   "outputs": [],
   "source": [
    "# existing_cards = existing_cards.sample(frac=1)\n",
    "# remake_card_document(filename='certcards2.txt', existing_cards = existing_cards)"
   ]
  },
  {
   "cell_type": "markdown",
   "metadata": {},
   "source": [
    "# Age Sort"
   ]
  },
  {
   "cell_type": "code",
   "execution_count": 24,
   "metadata": {},
   "outputs": [],
   "source": [
    "# existing_cards = existing_cards.sort_values('age', ascending=False)\n",
    "# remake_card_document(filename='certcards2.txt', existing_cards=existing_cards)\n",
    "# existing_cards.head(10)"
   ]
  },
  {
   "cell_type": "markdown",
   "metadata": {},
   "source": [
    "# Headers with fewest notes first"
   ]
  },
  {
   "cell_type": "code",
   "execution_count": 25,
   "metadata": {},
   "outputs": [],
   "source": [
    "# frequency = existing_cards['head'].value_counts(ascending=True)\n",
    "\n",
    "# existing_cards = pd.merge(\n",
    "#     left=existing_cards,\n",
    "#     right=frequency.rename('frequency'),\n",
    "#     left_on='head', right_index=True,\n",
    "#     how='left'\n",
    "# )\n",
    "# existing_cards['oldest'] = existing_cards.groupby('head')['age'].transform('max')\n",
    "# existing_cards['subject_highest_age'] = existing_cards['subject_highest_age'] * -1\n",
    "# existing_cards['age'] = existing_cards['age'] * -1\n",
    "\n",
    "\n",
    "# existing_cards.sort_values(['frequency', 'subject_highest_age', 'age'], ascending=True, inplace=True)\n",
    "\n",
    "# remake_card_document(filename='certcards2.txt', existing_cards=existing_cards)\n",
    "\n",
    "# existing_cards.head(10)"
   ]
  },
  {
   "cell_type": "markdown",
   "metadata": {},
   "source": [
    "# Focus on one header"
   ]
  },
  {
   "cell_type": "code",
   "execution_count": 26,
   "metadata": {},
   "outputs": [],
   "source": [
    "# heads = existing_cards['head'].value_counts()\n",
    "# heads = heads[heads > 5].index.tolist()\n",
    "# one_header = random.sample(heads, 1)[0]\n",
    "# existing_cards['pick_head'] = existing_cards['head'].apply(\n",
    "#     lambda h: 0 if h == one_header else 1 \n",
    "# )\n",
    "\n",
    "# remake_card_document(existing_cards=existing_cards.sort_values('pick_head'))"
   ]
  },
  {
   "cell_type": "markdown",
   "metadata": {},
   "source": [
    "## Header with oldest cards first"
   ]
  },
  {
   "cell_type": "code",
   "execution_count": 27,
   "metadata": {},
   "outputs": [],
   "source": [
    "# existing_cards['oldest'] = existing_cards.groupby('head')['age'].transform('max')\n",
    "# existing_cards.sort_values(['oldest', 'age'], ascending=False, inplace=True)\n",
    "# remake_card_document(existing_cards)"
   ]
  },
  {
   "cell_type": "markdown",
   "metadata": {},
   "source": [
    "## Headers with greatest mean card age first"
   ]
  },
  {
   "cell_type": "code",
   "execution_count": 28,
   "metadata": {},
   "outputs": [],
   "source": [
    "# existing_cards.sort_values(['subject_mean_age', 'age'], ascending=False, inplace=True)\n",
    "# remake_card_document(existing_cards)"
   ]
  },
  {
   "cell_type": "markdown",
   "metadata": {},
   "source": [
    "## Headers with greatest age sum first"
   ]
  },
  {
   "cell_type": "code",
   "execution_count": 29,
   "metadata": {},
   "outputs": [],
   "source": [
    "# existing_cards.sort_values(['subject_age_sum', 'age'], ascending=False, inplace=True)\n",
    "# remake_card_document(existing_cards)"
   ]
  },
  {
   "cell_type": "markdown",
   "metadata": {},
   "source": [
    "# N-fold shuffle\n"
   ]
  },
  {
   "cell_type": "markdown",
   "metadata": {},
   "source": [
    "## Age Sum"
   ]
  },
  {
   "cell_type": "code",
   "execution_count": 30,
   "metadata": {},
   "outputs": [],
   "source": [
    "# n=10\n",
    "# existing_cards['count'] = existing_cards.sort_values('age', ascending=False).groupby('head').cumcount()\n",
    "# existing_cards['n_fold'] = existing_cards['count'] // n\n",
    "\n",
    "# existing_cards['subject_age_sum'] = existing_cards['subject_age_sum'] *-1\n",
    "# existing_cards['age'] = existing_cards['age'] *-1\n",
    "# existing_cards.sort_values(['n_fold', 'subject_age_sum', 'age'], inplace=True)\n",
    "\n",
    "# remake_card_document(existing_cards=existing_cards)\n",
    "# existing_cards.head(10)\n"
   ]
  },
  {
   "cell_type": "markdown",
   "metadata": {},
   "source": [
    "## Age Mean"
   ]
  },
  {
   "cell_type": "code",
   "execution_count": 31,
   "metadata": {},
   "outputs": [
    {
     "name": "stdout",
     "output_type": "stream",
     "text": [
      "Cards found: 570\n"
     ]
    },
    {
     "data": {
      "application/vnd.microsoft.datawrangler.viewer.v0+json": {
       "columns": [
        {
         "name": "index",
         "rawType": "int64",
         "type": "integer"
        },
        {
         "name": "head",
         "rawType": "object",
         "type": "string"
        },
        {
         "name": "body",
         "rawType": "object",
         "type": "string"
        },
        {
         "name": "hash",
         "rawType": "object",
         "type": "string"
        },
        {
         "name": "age",
         "rawType": "float64",
         "type": "float"
        },
        {
         "name": "subject_mean_age",
         "rawType": "float64",
         "type": "float"
        },
        {
         "name": "subject_highest_age",
         "rawType": "float64",
         "type": "float"
        },
        {
         "name": "subject_age_sum",
         "rawType": "float64",
         "type": "float"
        },
        {
         "name": "head_random_roll",
         "rawType": "float64",
         "type": "float"
        },
        {
         "name": "count",
         "rawType": "int64",
         "type": "integer"
        },
        {
         "name": "n_fold",
         "rawType": "int64",
         "type": "integer"
        }
       ],
       "conversionMethod": "pd.DataFrame",
       "ref": "2b6fd6d1-c84a-48ba-abfe-f6aa2674fd1d",
       "rows": [
        [
         "90",
         "PEP 8",
         "Blank Lines for Separation: Use blank lines to separate top-level functions and class definitions, typically two blank lines. Within classes, use one blank line to separate methods. This separation improves code organization and readability.",
         "7c029b5df756435bad5045b7f7c6a6aa",
         "-332.4643402909466",
         "-135.568362922952",
         "332.4643402909466",
         "1626.820355075424",
         "0.7435083819215803",
         "0",
         "0"
        ],
        [
         "93",
         "PEP 8",
         "Remove Unused Imports: Regularly clean your code by eliminating imports that are not utilized. Unused imports clutter the codebase, increase memory usage, and can lead to longer load times. Utilize linters like flake8 or pylint to identify and remove them.",
         "eeb7137cb622fb828d3a8abb101f0a96",
         "-173.152086156607",
         "-135.568362922952",
         "332.4643402909466",
         "1626.820355075424",
         "0.7435083819215803",
         "3",
         "0"
        ],
        [
         "96",
         "PEP 8",
         "Organize Imports by Group: Group import statements into three categories separated by blank lines: Standard Library Imports, Third-Party Imports, and Local Application Imports. This clear separation helps in quickly identifying the source of each import.",
         "4f5c9d8fe601c5f61c4e78d81ab91002",
         "-93.22942308190484",
         "-135.568362922952",
         "332.4643402909466",
         "1626.820355075424",
         "0.7435083819215803",
         "6",
         "0"
        ],
        [
         "99",
         "PEP 8",
         "Automate Import Management: Employ tools such as isort to automatically sort and organize your import statements according to PEP 8 guidelines. Integrate these tools with your development workflow to maintain consistent and error-free import structures across your projects.",
         "c42f31015b2c99bccb9c7cc0aa3ea8ab",
         "-64.18763479756774",
         "-135.568362922952",
         "332.4643402909466",
         "1626.820355075424",
         "0.7435083819215803",
         "9",
         "0"
        ],
        [
         "31",
         "WSL + Kali Linux",
         "wsl with Docker\nDocker can run on WSL 2, which enables you to run Linux containers directly on Windows. Docker Desktop for Windows integrates with WSL 2 to provide a seamless environment for both Docker and WSL.",
         "35482ece9a9fc66928fea68605960010",
         "-238.67984492225628",
         "-126.8885758985792",
         "238.67984492225628",
         "2791.5486697687425",
         "0.8413835691624006",
         "0",
         "0"
        ],
        [
         "33",
         "WSL + Kali Linux",
         "X11 (X Window System)\nA graphical windowing system for Unix-like operating systems, providing the foundation for graphical user interfaces. X11 is typically used with Linux systems to handle display rendering and interaction.",
         "7f12a8a48e2528038d5ff93886dfcd09",
         "-215.14855937000976",
         "-126.8885758985792",
         "238.67984492225628",
         "2791.5486697687425",
         "0.8413835691624006",
         "3",
         "0"
        ],
        [
         "36",
         "WSL + Kali Linux",
         "12. wsl --mount\nA feature introduced with WSL 2, this allows you to mount physical disks in WSL as Linux file systems. Useful for accessing raw disks like external drives directly within WSL.\n13. wsl --no-launch\nPrevents WSL from automatically launching the default Linux shell after a distribution is installed.",
         "e2b2421dc6e68e8799e0313e062ef742",
         "-170.57107794356648",
         "-126.8885758985792",
         "238.67984492225628",
         "2791.5486697687425",
         "0.8413835691624006",
         "6",
         "0"
        ],
        [
         "39",
         "WSL + Kali Linux",
         "wsl Command\nThe primary command-line interface for interacting with WSL instances. It is used to manage and run Linux distributions on Windows.\nCommon options:\nwsl --set-default <distro>: Sets the default Linux distribution for running wsl commands.\nwsl --terminate <distro>: Terminates a running WSL distribution.\nwsl --shutdown: Stops all running WSL instances.",
         "9b93a39837c69c7db3c9152b97cebefd",
         "-124.18706097928957",
         "-126.8885758985792",
         "238.67984492225628",
         "2791.5486697687425",
         "0.8413835691624006",
         "9",
         "0"
        ],
        [
         "267",
         "WSL + Kali Linux",
         "wsl --update\nUpdates the WSL 2 Linux kernel, ensuring you are running the latest version with improved features, security fixes, and bug resolutions.",
         "ca31a4ff6b4b1feaa1d34462308ee8cb",
         "-102.8563223092817",
         "-126.8885758985792",
         "238.67984492225628",
         "2791.5486697687425",
         "0.8413835691624006",
         "12",
         "0"
        ],
        [
         "270",
         "WSL + Kali Linux",
         "WSL File System Performance\nThe file system in WSL 2 is optimized for Linux applications but has some overhead when accessing files stored on Windows drives (/mnt/c, /mnt/d). It's recommended to store Linux-specific files in the WSL file system (/home, etc.) for better performance.",
         "b0312406e43d296e4ab374a81ae068ec",
         "-83.62414943562489",
         "-126.8885758985792",
         "238.67984492225628",
         "2791.5486697687425",
         "0.8413835691624006",
         "15",
         "0"
        ]
       ],
       "shape": {
        "columns": 10,
        "rows": 10
       }
      },
      "text/html": [
       "<div>\n",
       "<style scoped>\n",
       "    .dataframe tbody tr th:only-of-type {\n",
       "        vertical-align: middle;\n",
       "    }\n",
       "\n",
       "    .dataframe tbody tr th {\n",
       "        vertical-align: top;\n",
       "    }\n",
       "\n",
       "    .dataframe thead th {\n",
       "        text-align: right;\n",
       "    }\n",
       "</style>\n",
       "<table border=\"1\" class=\"dataframe\">\n",
       "  <thead>\n",
       "    <tr style=\"text-align: right;\">\n",
       "      <th></th>\n",
       "      <th>head</th>\n",
       "      <th>body</th>\n",
       "      <th>hash</th>\n",
       "      <th>age</th>\n",
       "      <th>subject_mean_age</th>\n",
       "      <th>subject_highest_age</th>\n",
       "      <th>subject_age_sum</th>\n",
       "      <th>head_random_roll</th>\n",
       "      <th>count</th>\n",
       "      <th>n_fold</th>\n",
       "    </tr>\n",
       "  </thead>\n",
       "  <tbody>\n",
       "    <tr>\n",
       "      <th>90</th>\n",
       "      <td>PEP 8</td>\n",
       "      <td>Blank Lines for Separation: Use blank lines to...</td>\n",
       "      <td>7c029b5df756435bad5045b7f7c6a6aa</td>\n",
       "      <td>-332.464340</td>\n",
       "      <td>-135.568363</td>\n",
       "      <td>332.464340</td>\n",
       "      <td>1626.820355</td>\n",
       "      <td>0.743508</td>\n",
       "      <td>0</td>\n",
       "      <td>0</td>\n",
       "    </tr>\n",
       "    <tr>\n",
       "      <th>93</th>\n",
       "      <td>PEP 8</td>\n",
       "      <td>Remove Unused Imports: Regularly clean your co...</td>\n",
       "      <td>eeb7137cb622fb828d3a8abb101f0a96</td>\n",
       "      <td>-173.152086</td>\n",
       "      <td>-135.568363</td>\n",
       "      <td>332.464340</td>\n",
       "      <td>1626.820355</td>\n",
       "      <td>0.743508</td>\n",
       "      <td>3</td>\n",
       "      <td>0</td>\n",
       "    </tr>\n",
       "    <tr>\n",
       "      <th>96</th>\n",
       "      <td>PEP 8</td>\n",
       "      <td>Organize Imports by Group: Group import statem...</td>\n",
       "      <td>4f5c9d8fe601c5f61c4e78d81ab91002</td>\n",
       "      <td>-93.229423</td>\n",
       "      <td>-135.568363</td>\n",
       "      <td>332.464340</td>\n",
       "      <td>1626.820355</td>\n",
       "      <td>0.743508</td>\n",
       "      <td>6</td>\n",
       "      <td>0</td>\n",
       "    </tr>\n",
       "    <tr>\n",
       "      <th>99</th>\n",
       "      <td>PEP 8</td>\n",
       "      <td>Automate Import Management: Employ tools such ...</td>\n",
       "      <td>c42f31015b2c99bccb9c7cc0aa3ea8ab</td>\n",
       "      <td>-64.187635</td>\n",
       "      <td>-135.568363</td>\n",
       "      <td>332.464340</td>\n",
       "      <td>1626.820355</td>\n",
       "      <td>0.743508</td>\n",
       "      <td>9</td>\n",
       "      <td>0</td>\n",
       "    </tr>\n",
       "    <tr>\n",
       "      <th>31</th>\n",
       "      <td>WSL + Kali Linux</td>\n",
       "      <td>wsl with Docker\\nDocker can run on WSL 2, whic...</td>\n",
       "      <td>35482ece9a9fc66928fea68605960010</td>\n",
       "      <td>-238.679845</td>\n",
       "      <td>-126.888576</td>\n",
       "      <td>238.679845</td>\n",
       "      <td>2791.548670</td>\n",
       "      <td>0.841384</td>\n",
       "      <td>0</td>\n",
       "      <td>0</td>\n",
       "    </tr>\n",
       "    <tr>\n",
       "      <th>33</th>\n",
       "      <td>WSL + Kali Linux</td>\n",
       "      <td>X11 (X Window System)\\nA graphical windowing s...</td>\n",
       "      <td>7f12a8a48e2528038d5ff93886dfcd09</td>\n",
       "      <td>-215.148559</td>\n",
       "      <td>-126.888576</td>\n",
       "      <td>238.679845</td>\n",
       "      <td>2791.548670</td>\n",
       "      <td>0.841384</td>\n",
       "      <td>3</td>\n",
       "      <td>0</td>\n",
       "    </tr>\n",
       "    <tr>\n",
       "      <th>36</th>\n",
       "      <td>WSL + Kali Linux</td>\n",
       "      <td>12. wsl --mount\\nA feature introduced with WSL...</td>\n",
       "      <td>e2b2421dc6e68e8799e0313e062ef742</td>\n",
       "      <td>-170.571078</td>\n",
       "      <td>-126.888576</td>\n",
       "      <td>238.679845</td>\n",
       "      <td>2791.548670</td>\n",
       "      <td>0.841384</td>\n",
       "      <td>6</td>\n",
       "      <td>0</td>\n",
       "    </tr>\n",
       "    <tr>\n",
       "      <th>39</th>\n",
       "      <td>WSL + Kali Linux</td>\n",
       "      <td>wsl Command\\nThe primary command-line interfac...</td>\n",
       "      <td>9b93a39837c69c7db3c9152b97cebefd</td>\n",
       "      <td>-124.187061</td>\n",
       "      <td>-126.888576</td>\n",
       "      <td>238.679845</td>\n",
       "      <td>2791.548670</td>\n",
       "      <td>0.841384</td>\n",
       "      <td>9</td>\n",
       "      <td>0</td>\n",
       "    </tr>\n",
       "    <tr>\n",
       "      <th>267</th>\n",
       "      <td>WSL + Kali Linux</td>\n",
       "      <td>wsl --update\\nUpdates the WSL 2 Linux kernel, ...</td>\n",
       "      <td>ca31a4ff6b4b1feaa1d34462308ee8cb</td>\n",
       "      <td>-102.856322</td>\n",
       "      <td>-126.888576</td>\n",
       "      <td>238.679845</td>\n",
       "      <td>2791.548670</td>\n",
       "      <td>0.841384</td>\n",
       "      <td>12</td>\n",
       "      <td>0</td>\n",
       "    </tr>\n",
       "    <tr>\n",
       "      <th>270</th>\n",
       "      <td>WSL + Kali Linux</td>\n",
       "      <td>WSL File System Performance\\nThe file system i...</td>\n",
       "      <td>b0312406e43d296e4ab374a81ae068ec</td>\n",
       "      <td>-83.624149</td>\n",
       "      <td>-126.888576</td>\n",
       "      <td>238.679845</td>\n",
       "      <td>2791.548670</td>\n",
       "      <td>0.841384</td>\n",
       "      <td>15</td>\n",
       "      <td>0</td>\n",
       "    </tr>\n",
       "  </tbody>\n",
       "</table>\n",
       "</div>"
      ],
      "text/plain": [
       "                 head                                               body  \\\n",
       "90              PEP 8  Blank Lines for Separation: Use blank lines to...   \n",
       "93              PEP 8  Remove Unused Imports: Regularly clean your co...   \n",
       "96              PEP 8  Organize Imports by Group: Group import statem...   \n",
       "99              PEP 8  Automate Import Management: Employ tools such ...   \n",
       "31   WSL + Kali Linux  wsl with Docker\\nDocker can run on WSL 2, whic...   \n",
       "33   WSL + Kali Linux  X11 (X Window System)\\nA graphical windowing s...   \n",
       "36   WSL + Kali Linux  12. wsl --mount\\nA feature introduced with WSL...   \n",
       "39   WSL + Kali Linux  wsl Command\\nThe primary command-line interfac...   \n",
       "267  WSL + Kali Linux  wsl --update\\nUpdates the WSL 2 Linux kernel, ...   \n",
       "270  WSL + Kali Linux  WSL File System Performance\\nThe file system i...   \n",
       "\n",
       "                                 hash         age  subject_mean_age  \\\n",
       "90   7c029b5df756435bad5045b7f7c6a6aa -332.464340       -135.568363   \n",
       "93   eeb7137cb622fb828d3a8abb101f0a96 -173.152086       -135.568363   \n",
       "96   4f5c9d8fe601c5f61c4e78d81ab91002  -93.229423       -135.568363   \n",
       "99   c42f31015b2c99bccb9c7cc0aa3ea8ab  -64.187635       -135.568363   \n",
       "31   35482ece9a9fc66928fea68605960010 -238.679845       -126.888576   \n",
       "33   7f12a8a48e2528038d5ff93886dfcd09 -215.148559       -126.888576   \n",
       "36   e2b2421dc6e68e8799e0313e062ef742 -170.571078       -126.888576   \n",
       "39   9b93a39837c69c7db3c9152b97cebefd -124.187061       -126.888576   \n",
       "267  ca31a4ff6b4b1feaa1d34462308ee8cb -102.856322       -126.888576   \n",
       "270  b0312406e43d296e4ab374a81ae068ec  -83.624149       -126.888576   \n",
       "\n",
       "     subject_highest_age  subject_age_sum  head_random_roll  count  n_fold  \n",
       "90            332.464340      1626.820355          0.743508      0       0  \n",
       "93            332.464340      1626.820355          0.743508      3       0  \n",
       "96            332.464340      1626.820355          0.743508      6       0  \n",
       "99            332.464340      1626.820355          0.743508      9       0  \n",
       "31            238.679845      2791.548670          0.841384      0       0  \n",
       "33            238.679845      2791.548670          0.841384      3       0  \n",
       "36            238.679845      2791.548670          0.841384      6       0  \n",
       "39            238.679845      2791.548670          0.841384      9       0  \n",
       "267           238.679845      2791.548670          0.841384     12       0  \n",
       "270           238.679845      2791.548670          0.841384     15       0  "
      ]
     },
     "execution_count": 31,
     "metadata": {},
     "output_type": "execute_result"
    }
   ],
   "source": [
    "n=3\n",
    "existing_cards['count'] = existing_cards.sort_values('age', ascending=False).groupby('head').cumcount()\n",
    "existing_cards['n_fold'] = existing_cards['count'] % n\n",
    "\n",
    "existing_cards['subject_mean_age'] = existing_cards['subject_mean_age'] *-1\n",
    "existing_cards['age'] = existing_cards['age'] *-1\n",
    "existing_cards.sort_values(['n_fold', 'subject_mean_age', 'age'], inplace=True)\n",
    "remake_card_document(existing_cards=existing_cards)\n",
    "\n",
    "existing_cards.head(10)\n",
    "\n"
   ]
  },
  {
   "cell_type": "markdown",
   "metadata": {},
   "source": [
    "## Age Max"
   ]
  },
  {
   "cell_type": "code",
   "execution_count": 32,
   "metadata": {},
   "outputs": [],
   "source": [
    "# n = 5\n",
    "# existing_cards['count'] = existing_cards.sort_values('age', ascending=False).groupby('head').cumcount()\n",
    "# existing_cards['n_fold'] = existing_cards['count'] // n\n",
    "\n",
    "# existing_cards['subject_highest_age'] = existing_cards['subject_highest_age'] *-1\n",
    "# existing_cards['age'] = existing_cards['age'] *-1\n",
    "# existing_cards.sort_values(['n_fold', 'subject_highest_age', 'age'], inplace=True)\n",
    "\n",
    "# remake_card_document(existing_cards=existing_cards)\n",
    "# existing_cards.head(10)\n"
   ]
  },
  {
   "cell_type": "markdown",
   "metadata": {},
   "source": [
    "## Card Count"
   ]
  },
  {
   "cell_type": "code",
   "execution_count": 33,
   "metadata": {},
   "outputs": [],
   "source": [
    "# n=10\n",
    "# existing_cards['frequency']  = existing_cards.groupby('head').transform('count')['body']\n",
    "# existing_cards['count'] = existing_cards.sort_values('age', ascending=False).groupby('head').cumcount()\n",
    "# existing_cards['n_fold'] = existing_cards['count'] // n\n",
    "\n",
    "# existing_cards['subject_mean_age'] = existing_cards['subject_mean_age'] *-1\n",
    "# existing_cards['age'] = existing_cards['age'] *-1\n",
    "# existing_cards.sort_values(['n_fold', 'frequency', 'age'], inplace=True)\n",
    "# remake_card_document(existing_cards=existing_cards)\n",
    "\n",
    "# existing_cards.head(10)\n",
    "\n"
   ]
  },
  {
   "cell_type": "markdown",
   "metadata": {},
   "source": [
    "\n",
    "## Random"
   ]
  },
  {
   "cell_type": "code",
   "execution_count": 34,
   "metadata": {},
   "outputs": [],
   "source": [
    "# n = 3\n",
    "# existing_cards['count'] = existing_cards.sort_values('age', ascending=False).groupby('head').cumcount()\n",
    "# existing_cards['n_fold'] = existing_cards['count'] % n\n",
    "# existing_cards['age'] *= -1\n",
    "# existing_cards.sort_values(['n_fold', 'head_random_roll', 'age'], inplace=True)\n",
    "# remake_card_document(existing_cards=existing_cards)\n",
    "# existing_cards.head(10)"
   ]
  },
  {
   "cell_type": "code",
   "execution_count": 35,
   "metadata": {},
   "outputs": [
    {
     "data": {
      "application/vnd.microsoft.datawrangler.viewer.v0+json": {
       "columns": [
        {
         "name": "index",
         "rawType": "int64",
         "type": "integer"
        },
        {
         "name": "head",
         "rawType": "object",
         "type": "string"
        },
        {
         "name": "body",
         "rawType": "object",
         "type": "string"
        },
        {
         "name": "hash",
         "rawType": "object",
         "type": "string"
        },
        {
         "name": "age",
         "rawType": "float64",
         "type": "float"
        },
        {
         "name": "subject_mean_age",
         "rawType": "float64",
         "type": "float"
        },
        {
         "name": "subject_highest_age",
         "rawType": "float64",
         "type": "float"
        },
        {
         "name": "subject_age_sum",
         "rawType": "float64",
         "type": "float"
        },
        {
         "name": "head_random_roll",
         "rawType": "float64",
         "type": "float"
        },
        {
         "name": "count",
         "rawType": "int64",
         "type": "integer"
        },
        {
         "name": "n_fold",
         "rawType": "int64",
         "type": "integer"
        }
       ],
       "conversionMethod": "pd.DataFrame",
       "ref": "f095a82a-8cf8-4221-bd56-077b983d4a53",
       "rows": [
        [
         "90",
         "PEP 8",
         "Blank Lines for Separation: Use blank lines to separate top-level functions and class definitions, typically two blank lines. Within classes, use one blank line to separate methods. This separation improves code organization and readability.",
         "7c029b5df756435bad5045b7f7c6a6aa",
         "-332.4643402909466",
         "-135.568362922952",
         "332.4643402909466",
         "1626.820355075424",
         "0.7435083819215803",
         "0",
         "0"
        ],
        [
         "93",
         "PEP 8",
         "Remove Unused Imports: Regularly clean your code by eliminating imports that are not utilized. Unused imports clutter the codebase, increase memory usage, and can lead to longer load times. Utilize linters like flake8 or pylint to identify and remove them.",
         "eeb7137cb622fb828d3a8abb101f0a96",
         "-173.152086156607",
         "-135.568362922952",
         "332.4643402909466",
         "1626.820355075424",
         "0.7435083819215803",
         "3",
         "0"
        ],
        [
         "96",
         "PEP 8",
         "Organize Imports by Group: Group import statements into three categories separated by blank lines: Standard Library Imports, Third-Party Imports, and Local Application Imports. This clear separation helps in quickly identifying the source of each import.",
         "4f5c9d8fe601c5f61c4e78d81ab91002",
         "-93.22942308190484",
         "-135.568362922952",
         "332.4643402909466",
         "1626.820355075424",
         "0.7435083819215803",
         "6",
         "0"
        ],
        [
         "99",
         "PEP 8",
         "Automate Import Management: Employ tools such as isort to automatically sort and organize your import statements according to PEP 8 guidelines. Integrate these tools with your development workflow to maintain consistent and error-free import structures across your projects.",
         "c42f31015b2c99bccb9c7cc0aa3ea8ab",
         "-64.18763479756774",
         "-135.568362922952",
         "332.4643402909466",
         "1626.820355075424",
         "0.7435083819215803",
         "9",
         "0"
        ],
        [
         "31",
         "WSL + Kali Linux",
         "wsl with Docker\nDocker can run on WSL 2, which enables you to run Linux containers directly on Windows. Docker Desktop for Windows integrates with WSL 2 to provide a seamless environment for both Docker and WSL.",
         "35482ece9a9fc66928fea68605960010",
         "-238.67984492225628",
         "-126.8885758985792",
         "238.67984492225628",
         "2791.5486697687425",
         "0.8413835691624006",
         "0",
         "0"
        ],
        [
         "33",
         "WSL + Kali Linux",
         "X11 (X Window System)\nA graphical windowing system for Unix-like operating systems, providing the foundation for graphical user interfaces. X11 is typically used with Linux systems to handle display rendering and interaction.",
         "7f12a8a48e2528038d5ff93886dfcd09",
         "-215.14855937000976",
         "-126.8885758985792",
         "238.67984492225628",
         "2791.5486697687425",
         "0.8413835691624006",
         "3",
         "0"
        ],
        [
         "36",
         "WSL + Kali Linux",
         "12. wsl --mount\nA feature introduced with WSL 2, this allows you to mount physical disks in WSL as Linux file systems. Useful for accessing raw disks like external drives directly within WSL.\n13. wsl --no-launch\nPrevents WSL from automatically launching the default Linux shell after a distribution is installed.",
         "e2b2421dc6e68e8799e0313e062ef742",
         "-170.57107794356648",
         "-126.8885758985792",
         "238.67984492225628",
         "2791.5486697687425",
         "0.8413835691624006",
         "6",
         "0"
        ],
        [
         "39",
         "WSL + Kali Linux",
         "wsl Command\nThe primary command-line interface for interacting with WSL instances. It is used to manage and run Linux distributions on Windows.\nCommon options:\nwsl --set-default <distro>: Sets the default Linux distribution for running wsl commands.\nwsl --terminate <distro>: Terminates a running WSL distribution.\nwsl --shutdown: Stops all running WSL instances.",
         "9b93a39837c69c7db3c9152b97cebefd",
         "-124.18706097928957",
         "-126.8885758985792",
         "238.67984492225628",
         "2791.5486697687425",
         "0.8413835691624006",
         "9",
         "0"
        ],
        [
         "267",
         "WSL + Kali Linux",
         "wsl --update\nUpdates the WSL 2 Linux kernel, ensuring you are running the latest version with improved features, security fixes, and bug resolutions.",
         "ca31a4ff6b4b1feaa1d34462308ee8cb",
         "-102.8563223092817",
         "-126.8885758985792",
         "238.67984492225628",
         "2791.5486697687425",
         "0.8413835691624006",
         "12",
         "0"
        ],
        [
         "270",
         "WSL + Kali Linux",
         "WSL File System Performance\nThe file system in WSL 2 is optimized for Linux applications but has some overhead when accessing files stored on Windows drives (/mnt/c, /mnt/d). It's recommended to store Linux-specific files in the WSL file system (/home, etc.) for better performance.",
         "b0312406e43d296e4ab374a81ae068ec",
         "-83.62414943562489",
         "-126.8885758985792",
         "238.67984492225628",
         "2791.5486697687425",
         "0.8413835691624006",
         "15",
         "0"
        ]
       ],
       "shape": {
        "columns": 10,
        "rows": 10
       }
      },
      "text/html": [
       "<div>\n",
       "<style scoped>\n",
       "    .dataframe tbody tr th:only-of-type {\n",
       "        vertical-align: middle;\n",
       "    }\n",
       "\n",
       "    .dataframe tbody tr th {\n",
       "        vertical-align: top;\n",
       "    }\n",
       "\n",
       "    .dataframe thead th {\n",
       "        text-align: right;\n",
       "    }\n",
       "</style>\n",
       "<table border=\"1\" class=\"dataframe\">\n",
       "  <thead>\n",
       "    <tr style=\"text-align: right;\">\n",
       "      <th></th>\n",
       "      <th>head</th>\n",
       "      <th>body</th>\n",
       "      <th>hash</th>\n",
       "      <th>age</th>\n",
       "      <th>subject_mean_age</th>\n",
       "      <th>subject_highest_age</th>\n",
       "      <th>subject_age_sum</th>\n",
       "      <th>head_random_roll</th>\n",
       "      <th>count</th>\n",
       "      <th>n_fold</th>\n",
       "    </tr>\n",
       "  </thead>\n",
       "  <tbody>\n",
       "    <tr>\n",
       "      <th>90</th>\n",
       "      <td>PEP 8</td>\n",
       "      <td>Blank Lines for Separation: Use blank lines to...</td>\n",
       "      <td>7c029b5df756435bad5045b7f7c6a6aa</td>\n",
       "      <td>-332.464340</td>\n",
       "      <td>-135.568363</td>\n",
       "      <td>332.464340</td>\n",
       "      <td>1626.820355</td>\n",
       "      <td>0.743508</td>\n",
       "      <td>0</td>\n",
       "      <td>0</td>\n",
       "    </tr>\n",
       "    <tr>\n",
       "      <th>93</th>\n",
       "      <td>PEP 8</td>\n",
       "      <td>Remove Unused Imports: Regularly clean your co...</td>\n",
       "      <td>eeb7137cb622fb828d3a8abb101f0a96</td>\n",
       "      <td>-173.152086</td>\n",
       "      <td>-135.568363</td>\n",
       "      <td>332.464340</td>\n",
       "      <td>1626.820355</td>\n",
       "      <td>0.743508</td>\n",
       "      <td>3</td>\n",
       "      <td>0</td>\n",
       "    </tr>\n",
       "    <tr>\n",
       "      <th>96</th>\n",
       "      <td>PEP 8</td>\n",
       "      <td>Organize Imports by Group: Group import statem...</td>\n",
       "      <td>4f5c9d8fe601c5f61c4e78d81ab91002</td>\n",
       "      <td>-93.229423</td>\n",
       "      <td>-135.568363</td>\n",
       "      <td>332.464340</td>\n",
       "      <td>1626.820355</td>\n",
       "      <td>0.743508</td>\n",
       "      <td>6</td>\n",
       "      <td>0</td>\n",
       "    </tr>\n",
       "    <tr>\n",
       "      <th>99</th>\n",
       "      <td>PEP 8</td>\n",
       "      <td>Automate Import Management: Employ tools such ...</td>\n",
       "      <td>c42f31015b2c99bccb9c7cc0aa3ea8ab</td>\n",
       "      <td>-64.187635</td>\n",
       "      <td>-135.568363</td>\n",
       "      <td>332.464340</td>\n",
       "      <td>1626.820355</td>\n",
       "      <td>0.743508</td>\n",
       "      <td>9</td>\n",
       "      <td>0</td>\n",
       "    </tr>\n",
       "    <tr>\n",
       "      <th>31</th>\n",
       "      <td>WSL + Kali Linux</td>\n",
       "      <td>wsl with Docker\\nDocker can run on WSL 2, whic...</td>\n",
       "      <td>35482ece9a9fc66928fea68605960010</td>\n",
       "      <td>-238.679845</td>\n",
       "      <td>-126.888576</td>\n",
       "      <td>238.679845</td>\n",
       "      <td>2791.548670</td>\n",
       "      <td>0.841384</td>\n",
       "      <td>0</td>\n",
       "      <td>0</td>\n",
       "    </tr>\n",
       "    <tr>\n",
       "      <th>33</th>\n",
       "      <td>WSL + Kali Linux</td>\n",
       "      <td>X11 (X Window System)\\nA graphical windowing s...</td>\n",
       "      <td>7f12a8a48e2528038d5ff93886dfcd09</td>\n",
       "      <td>-215.148559</td>\n",
       "      <td>-126.888576</td>\n",
       "      <td>238.679845</td>\n",
       "      <td>2791.548670</td>\n",
       "      <td>0.841384</td>\n",
       "      <td>3</td>\n",
       "      <td>0</td>\n",
       "    </tr>\n",
       "    <tr>\n",
       "      <th>36</th>\n",
       "      <td>WSL + Kali Linux</td>\n",
       "      <td>12. wsl --mount\\nA feature introduced with WSL...</td>\n",
       "      <td>e2b2421dc6e68e8799e0313e062ef742</td>\n",
       "      <td>-170.571078</td>\n",
       "      <td>-126.888576</td>\n",
       "      <td>238.679845</td>\n",
       "      <td>2791.548670</td>\n",
       "      <td>0.841384</td>\n",
       "      <td>6</td>\n",
       "      <td>0</td>\n",
       "    </tr>\n",
       "    <tr>\n",
       "      <th>39</th>\n",
       "      <td>WSL + Kali Linux</td>\n",
       "      <td>wsl Command\\nThe primary command-line interfac...</td>\n",
       "      <td>9b93a39837c69c7db3c9152b97cebefd</td>\n",
       "      <td>-124.187061</td>\n",
       "      <td>-126.888576</td>\n",
       "      <td>238.679845</td>\n",
       "      <td>2791.548670</td>\n",
       "      <td>0.841384</td>\n",
       "      <td>9</td>\n",
       "      <td>0</td>\n",
       "    </tr>\n",
       "    <tr>\n",
       "      <th>267</th>\n",
       "      <td>WSL + Kali Linux</td>\n",
       "      <td>wsl --update\\nUpdates the WSL 2 Linux kernel, ...</td>\n",
       "      <td>ca31a4ff6b4b1feaa1d34462308ee8cb</td>\n",
       "      <td>-102.856322</td>\n",
       "      <td>-126.888576</td>\n",
       "      <td>238.679845</td>\n",
       "      <td>2791.548670</td>\n",
       "      <td>0.841384</td>\n",
       "      <td>12</td>\n",
       "      <td>0</td>\n",
       "    </tr>\n",
       "    <tr>\n",
       "      <th>270</th>\n",
       "      <td>WSL + Kali Linux</td>\n",
       "      <td>WSL File System Performance\\nThe file system i...</td>\n",
       "      <td>b0312406e43d296e4ab374a81ae068ec</td>\n",
       "      <td>-83.624149</td>\n",
       "      <td>-126.888576</td>\n",
       "      <td>238.679845</td>\n",
       "      <td>2791.548670</td>\n",
       "      <td>0.841384</td>\n",
       "      <td>15</td>\n",
       "      <td>0</td>\n",
       "    </tr>\n",
       "  </tbody>\n",
       "</table>\n",
       "</div>"
      ],
      "text/plain": [
       "                 head                                               body  \\\n",
       "90              PEP 8  Blank Lines for Separation: Use blank lines to...   \n",
       "93              PEP 8  Remove Unused Imports: Regularly clean your co...   \n",
       "96              PEP 8  Organize Imports by Group: Group import statem...   \n",
       "99              PEP 8  Automate Import Management: Employ tools such ...   \n",
       "31   WSL + Kali Linux  wsl with Docker\\nDocker can run on WSL 2, whic...   \n",
       "33   WSL + Kali Linux  X11 (X Window System)\\nA graphical windowing s...   \n",
       "36   WSL + Kali Linux  12. wsl --mount\\nA feature introduced with WSL...   \n",
       "39   WSL + Kali Linux  wsl Command\\nThe primary command-line interfac...   \n",
       "267  WSL + Kali Linux  wsl --update\\nUpdates the WSL 2 Linux kernel, ...   \n",
       "270  WSL + Kali Linux  WSL File System Performance\\nThe file system i...   \n",
       "\n",
       "                                 hash         age  subject_mean_age  \\\n",
       "90   7c029b5df756435bad5045b7f7c6a6aa -332.464340       -135.568363   \n",
       "93   eeb7137cb622fb828d3a8abb101f0a96 -173.152086       -135.568363   \n",
       "96   4f5c9d8fe601c5f61c4e78d81ab91002  -93.229423       -135.568363   \n",
       "99   c42f31015b2c99bccb9c7cc0aa3ea8ab  -64.187635       -135.568363   \n",
       "31   35482ece9a9fc66928fea68605960010 -238.679845       -126.888576   \n",
       "33   7f12a8a48e2528038d5ff93886dfcd09 -215.148559       -126.888576   \n",
       "36   e2b2421dc6e68e8799e0313e062ef742 -170.571078       -126.888576   \n",
       "39   9b93a39837c69c7db3c9152b97cebefd -124.187061       -126.888576   \n",
       "267  ca31a4ff6b4b1feaa1d34462308ee8cb -102.856322       -126.888576   \n",
       "270  b0312406e43d296e4ab374a81ae068ec  -83.624149       -126.888576   \n",
       "\n",
       "     subject_highest_age  subject_age_sum  head_random_roll  count  n_fold  \n",
       "90            332.464340      1626.820355          0.743508      0       0  \n",
       "93            332.464340      1626.820355          0.743508      3       0  \n",
       "96            332.464340      1626.820355          0.743508      6       0  \n",
       "99            332.464340      1626.820355          0.743508      9       0  \n",
       "31            238.679845      2791.548670          0.841384      0       0  \n",
       "33            238.679845      2791.548670          0.841384      3       0  \n",
       "36            238.679845      2791.548670          0.841384      6       0  \n",
       "39            238.679845      2791.548670          0.841384      9       0  \n",
       "267           238.679845      2791.548670          0.841384     12       0  \n",
       "270           238.679845      2791.548670          0.841384     15       0  "
      ]
     },
     "execution_count": 35,
     "metadata": {},
     "output_type": "execute_result"
    }
   ],
   "source": [
    "existing_cards.head(10)"
   ]
  },
  {
   "cell_type": "code",
   "execution_count": 36,
   "metadata": {},
   "outputs": [
    {
     "data": {
      "text/plain": [
       "-74.68853191841247"
      ]
     },
     "execution_count": 36,
     "metadata": {},
     "output_type": "execute_result"
    }
   ],
   "source": [
    "existing_cards['age'].mean()"
   ]
  }
 ],
 "metadata": {
  "kernelspec": {
   "display_name": "Python 3",
   "language": "python",
   "name": "python3"
  },
  "language_info": {
   "codemirror_mode": {
    "name": "ipython",
    "version": 3
   },
   "file_extension": ".py",
   "mimetype": "text/x-python",
   "name": "python",
   "nbconvert_exporter": "python",
   "pygments_lexer": "ipython3",
   "version": "3.10.10"
  }
 },
 "nbformat": 4,
 "nbformat_minor": 2
}
