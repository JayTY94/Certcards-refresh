{
 "cells": [
  {
   "cell_type": "code",
   "execution_count": 2,
   "metadata": {},
   "outputs": [],
   "source": [
    "import re\n",
    "import random\n",
    "import pandas as pd\n",
    "import hashlib"
   ]
  },
  {
   "cell_type": "code",
   "execution_count": 3,
   "metadata": {},
   "outputs": [],
   "source": [
    "with open('certcards2.txt', mode='r', encoding='utf8') as f:\n",
    "    all_cards = f.read()\n",
    "    \n",
    "card_split_pattern = r'\\n\\n\\n\\d+\\n'\n",
    "all_cards = re.split(card_split_pattern, all_cards)\n",
    "# Use re.DOTALL to allow . to match newline characters\n",
    "card_pattern = re.compile(r'(.+?)\\n([\\s\\S]+)', re.DOTALL)\n",
    "cards = [(match.group(1), match.group(2)) for cstring in all_cards if (match := re.search(card_pattern, cstring))]\n",
    "\n",
    "# removing the cards that have no content and trimming\n",
    "cards = [(subject, stripped_content) for subject, content in cards if len(stripped_content := content.strip()) > 5]\n",
    "\n",
    "def hash_string_md5(s):\n",
    "    \"\"\"\n",
    "    Hashes a string using MD5 and returns a truncated hash for efficiency.\n",
    "\n",
    "    Parameters:\n",
    "    - s (str): The input string to hash.\n",
    "\n",
    "    Returns:\n",
    "    - str: The truncated hexadecimal hash string.\n",
    "    \"\"\"\n",
    "    if pd.isnull(s):\n",
    "        return None  # Handle NaN values gracefully\n",
    "    return hashlib.md5(s.encode('utf-8')).hexdigest()\n",
    "\n",
    "\n",
    "def remake_card_document(existing_cards: pd.DataFrame, filename: str='certcards2.txt'):\n",
    "    with open(filename, mode='w', encoding='utf8') as f:\n",
    "        i = 1\n",
    "        for _, row in existing_cards.iterrows():\n",
    "            f.write('\\n'*6)\n",
    "            f.write(str(i)+'\\n')  \n",
    "            f.write(row['head']+'\\n')\n",
    "            f.write(row['body'])\n",
    "            i+=1\n",
    "    print(F\"Cards found: {existing_cards.shape[0]}\")\n",
    "\n",
    "\n",
    "existing_cards = pd.DataFrame(cards, columns=['head', 'body'])\n",
    "\n",
    "\n",
    "# existing_cards['age'] = [random.random() for _ in existing_cards.index]\n",
    "existing_cards['hash'] = existing_cards['body'].apply(hash_string_md5)\n",
    "existing_cards\n",
    "\n",
    "card_ages = pd.read_json('card_ages.json')\n",
    "card_ages = card_ages.drop_duplicates(subset=['hash'], keep='first')\n",
    "\n",
    "cards_to_age = pd.merge(\n",
    "    left=existing_cards,\n",
    "    right=card_ages[['hash', 'age']],\n",
    "    left_on='hash', right_on='hash',\n",
    "    how='left'\n",
    ")\n",
    "\n",
    "cards_to_age['head'] = cards_to_age['head'].str.strip()\n",
    "\n",
    "if cards_to_age['age'].sum() > 2e4: age_factor = 1\n",
    "else: age_factor = 1.00\n",
    "\n",
    "cards_to_age['age'] = cards_to_age['age'].fillna(0)\n",
    "cards_to_age['age'] = cards_to_age['age'] * age_factor\n",
    "cards_to_age['age'] = cards_to_age['age'] + [random.expovariate(.60) for _ in cards_to_age.index]\n",
    "# cards_to_age['age'] = cards_to_age['age'] * [random.expovariate(.5) for _ in cards_to_age.index]\n",
    "\n",
    "# Adding priority age growth to cards for upcoming certifications\n",
    "priority_headers = ['Azure Developer Associate']\n",
    "priority_cards_mask = cards_to_age['head'].isin(priority_headers)\n",
    "cards_to_age.loc[priority_cards_mask, 'age'] = cards_to_age.loc[priority_cards_mask, 'age'] * 1.1\n",
    "\n",
    "\n",
    "cards_to_age = cards_to_age.drop_duplicates(subset=['hash'], keep='first')\n",
    "\n",
    "cards_to_age['subject_mean_age'] = cards_to_age.groupby('head')['age'].transform('mean')\n",
    "cards_to_age['subject_highest_age'] = cards_to_age.groupby('head')['age'].transform('max')\n",
    "cards_to_age['subject_age_sum'] = cards_to_age.groupby('head')['age'].transform('sum')\n",
    "cards_to_age['head_random_roll'] = cards_to_age.groupby('head')['head'].transform(lambda x: random.random())\n",
    "\n",
    "\n",
    "cards_to_age.sort_values('hash')[['age', 'head', 'hash']].to_json('card_ages.json', indent=2)\n",
    "\n",
    "existing_cards = cards_to_age"
   ]
  },
  {
   "cell_type": "code",
   "execution_count": 4,
   "metadata": {},
   "outputs": [
    {
     "data": {
      "application/vnd.microsoft.datawrangler.viewer.v0+json": {
       "columns": [
        {
         "name": "index",
         "rawType": "object",
         "type": "string"
        },
        {
         "name": "age_sum",
         "rawType": "float64",
         "type": "float"
        },
        {
         "name": "age_mean",
         "rawType": "float64",
         "type": "float"
        },
        {
         "name": "age_max",
         "rawType": "float64",
         "type": "float"
        },
        {
         "name": "head_count",
         "rawType": "int64",
         "type": "integer"
        }
       ],
       "conversionMethod": "pd.DataFrame",
       "ref": "c69f35cf-8301-438b-80ed-48a729bd5ae9",
       "rows": [
        [
         "Azure Developer Associate",
         "121.92301816837877",
         "8.128201211225251",
         "12.875780646646701",
         "15"
        ],
        [
         "PEP 8",
         "274.94762754557",
         "91.64920918185668",
         "113.10300168314625",
         "3"
        ],
        [
         "Python",
         "704.1968805872892",
         "14.982912352921048",
         "26.394653518364304",
         "47"
        ],
        [
         "Todd Ideas",
         "1067.2080292584903",
         "71.14720195056603",
         "158.1806742342347",
         "15"
        ],
        [
         "OData",
         "1748.4328444086307",
         "291.4054740681051",
         "564.4180231280795",
         "6"
        ],
        [
         "SharePoint",
         "1767.4040696604643",
         "147.28367247170536",
         "589.2607017335587",
         "12"
        ],
        [
         "Audit Report Tracker (Sharepoint List)",
         "1879.6109117842993",
         "144.5854547526384",
         "374.65516056594254",
         "13"
        ],
        [
         "Azure Functions + Visual Studio",
         "2047.6693747630068",
         "146.26209819735763",
         "489.4508129398636",
         "14"
        ],
        [
         "Debugging in VS Code",
         "2088.0876115621963",
         "104.40438057810982",
         "273.33509202577125",
         "20"
        ],
        [
         "IW Migration",
         "2241.746171451871",
         "160.1247265322765",
         "474.49067789722267",
         "14"
        ],
        [
         "Terraform",
         "2265.35016382481",
         "90.6140065529924",
         "262.15731395575284",
         "25"
        ],
        [
         "Open Source/GitHub",
         "2405.0408024120147",
         "150.31505015075092",
         "373.45741014045734",
         "16"
        ],
        [
         "Email Auth and Security",
         "2417.951485183782",
         "185.99626809106016",
         "901.5736288760144",
         "13"
        ],
        [
         "FSLogix",
         "2596.2865928887354",
         "108.17860803703064",
         "266.63348496546524",
         "24"
        ],
        [
         "Azure Functions",
         "2987.1996463160017",
         "271.56360421054563",
         "751.683701498816",
         "11"
        ],
        [
         "Home Network Project",
         "3115.4837677404985",
         "194.71773548378115",
         "467.08979926597885",
         "16"
        ],
        [
         "DNS",
         "3260.1977068583415",
         "203.76235667864634",
         "408.5430448163414",
         "16"
        ],
        [
         "WSL + Kali Linux",
         "3439.543623572976",
         "181.02861176699872",
         "413.4081255715237",
         "19"
        ],
        [
         "Azure Functions + PP365",
         "3652.8633057568013",
         "158.8201437285566",
         "427.23747836110687",
         "23"
        ],
        [
         "Azure AI Search",
         "3870.0279024510473",
         "276.43056446078907",
         "733.0949585960209",
         "14"
        ],
        [
         "Powershell Modules",
         "4981.448700441809",
         "166.04829001472697",
         "683.6268052430958",
         "30"
        ],
        [
         "PnP Powershell",
         "6937.919778686677",
         "182.57683628122834",
         "664.6373395727184",
         "38"
        ],
        [
         "Vocab",
         "7098.173789589935",
         "107.54808772105962",
         "872.0506442350295",
         "66"
        ],
        [
         "JavaScript Concepts",
         "7491.450140548542",
         "122.81065804177938",
         "441.0634247253588",
         "61"
        ],
        [
         "Logging in Python",
         "9103.013846340933",
         "151.71689743901555",
         "1033.0566884075304",
         "60"
        ]
       ],
       "shape": {
        "columns": 4,
        "rows": 25
       }
      },
      "text/html": [
       "<div>\n",
       "<style scoped>\n",
       "    .dataframe tbody tr th:only-of-type {\n",
       "        vertical-align: middle;\n",
       "    }\n",
       "\n",
       "    .dataframe tbody tr th {\n",
       "        vertical-align: top;\n",
       "    }\n",
       "\n",
       "    .dataframe thead th {\n",
       "        text-align: right;\n",
       "    }\n",
       "</style>\n",
       "<table border=\"1\" class=\"dataframe\">\n",
       "  <thead>\n",
       "    <tr style=\"text-align: right;\">\n",
       "      <th></th>\n",
       "      <th>age_sum</th>\n",
       "      <th>age_mean</th>\n",
       "      <th>age_max</th>\n",
       "      <th>head_count</th>\n",
       "    </tr>\n",
       "  </thead>\n",
       "  <tbody>\n",
       "    <tr>\n",
       "      <th>Azure Developer Associate</th>\n",
       "      <td>121.923018</td>\n",
       "      <td>8.128201</td>\n",
       "      <td>12.875781</td>\n",
       "      <td>15</td>\n",
       "    </tr>\n",
       "    <tr>\n",
       "      <th>PEP 8</th>\n",
       "      <td>274.947628</td>\n",
       "      <td>91.649209</td>\n",
       "      <td>113.103002</td>\n",
       "      <td>3</td>\n",
       "    </tr>\n",
       "    <tr>\n",
       "      <th>Python</th>\n",
       "      <td>704.196881</td>\n",
       "      <td>14.982912</td>\n",
       "      <td>26.394654</td>\n",
       "      <td>47</td>\n",
       "    </tr>\n",
       "    <tr>\n",
       "      <th>Todd Ideas</th>\n",
       "      <td>1067.208029</td>\n",
       "      <td>71.147202</td>\n",
       "      <td>158.180674</td>\n",
       "      <td>15</td>\n",
       "    </tr>\n",
       "    <tr>\n",
       "      <th>OData</th>\n",
       "      <td>1748.432844</td>\n",
       "      <td>291.405474</td>\n",
       "      <td>564.418023</td>\n",
       "      <td>6</td>\n",
       "    </tr>\n",
       "    <tr>\n",
       "      <th>SharePoint</th>\n",
       "      <td>1767.404070</td>\n",
       "      <td>147.283672</td>\n",
       "      <td>589.260702</td>\n",
       "      <td>12</td>\n",
       "    </tr>\n",
       "    <tr>\n",
       "      <th>Audit Report Tracker (Sharepoint List)</th>\n",
       "      <td>1879.610912</td>\n",
       "      <td>144.585455</td>\n",
       "      <td>374.655161</td>\n",
       "      <td>13</td>\n",
       "    </tr>\n",
       "    <tr>\n",
       "      <th>Azure Functions + Visual Studio</th>\n",
       "      <td>2047.669375</td>\n",
       "      <td>146.262098</td>\n",
       "      <td>489.450813</td>\n",
       "      <td>14</td>\n",
       "    </tr>\n",
       "    <tr>\n",
       "      <th>Debugging in VS Code</th>\n",
       "      <td>2088.087612</td>\n",
       "      <td>104.404381</td>\n",
       "      <td>273.335092</td>\n",
       "      <td>20</td>\n",
       "    </tr>\n",
       "    <tr>\n",
       "      <th>IW Migration</th>\n",
       "      <td>2241.746171</td>\n",
       "      <td>160.124727</td>\n",
       "      <td>474.490678</td>\n",
       "      <td>14</td>\n",
       "    </tr>\n",
       "    <tr>\n",
       "      <th>Terraform</th>\n",
       "      <td>2265.350164</td>\n",
       "      <td>90.614007</td>\n",
       "      <td>262.157314</td>\n",
       "      <td>25</td>\n",
       "    </tr>\n",
       "    <tr>\n",
       "      <th>Open Source/GitHub</th>\n",
       "      <td>2405.040802</td>\n",
       "      <td>150.315050</td>\n",
       "      <td>373.457410</td>\n",
       "      <td>16</td>\n",
       "    </tr>\n",
       "    <tr>\n",
       "      <th>Email Auth and Security</th>\n",
       "      <td>2417.951485</td>\n",
       "      <td>185.996268</td>\n",
       "      <td>901.573629</td>\n",
       "      <td>13</td>\n",
       "    </tr>\n",
       "    <tr>\n",
       "      <th>FSLogix</th>\n",
       "      <td>2596.286593</td>\n",
       "      <td>108.178608</td>\n",
       "      <td>266.633485</td>\n",
       "      <td>24</td>\n",
       "    </tr>\n",
       "    <tr>\n",
       "      <th>Azure Functions</th>\n",
       "      <td>2987.199646</td>\n",
       "      <td>271.563604</td>\n",
       "      <td>751.683701</td>\n",
       "      <td>11</td>\n",
       "    </tr>\n",
       "    <tr>\n",
       "      <th>Home Network Project</th>\n",
       "      <td>3115.483768</td>\n",
       "      <td>194.717735</td>\n",
       "      <td>467.089799</td>\n",
       "      <td>16</td>\n",
       "    </tr>\n",
       "    <tr>\n",
       "      <th>DNS</th>\n",
       "      <td>3260.197707</td>\n",
       "      <td>203.762357</td>\n",
       "      <td>408.543045</td>\n",
       "      <td>16</td>\n",
       "    </tr>\n",
       "    <tr>\n",
       "      <th>WSL + Kali Linux</th>\n",
       "      <td>3439.543624</td>\n",
       "      <td>181.028612</td>\n",
       "      <td>413.408126</td>\n",
       "      <td>19</td>\n",
       "    </tr>\n",
       "    <tr>\n",
       "      <th>Azure Functions + PP365</th>\n",
       "      <td>3652.863306</td>\n",
       "      <td>158.820144</td>\n",
       "      <td>427.237478</td>\n",
       "      <td>23</td>\n",
       "    </tr>\n",
       "    <tr>\n",
       "      <th>Azure AI Search</th>\n",
       "      <td>3870.027902</td>\n",
       "      <td>276.430564</td>\n",
       "      <td>733.094959</td>\n",
       "      <td>14</td>\n",
       "    </tr>\n",
       "    <tr>\n",
       "      <th>Powershell Modules</th>\n",
       "      <td>4981.448700</td>\n",
       "      <td>166.048290</td>\n",
       "      <td>683.626805</td>\n",
       "      <td>30</td>\n",
       "    </tr>\n",
       "    <tr>\n",
       "      <th>PnP Powershell</th>\n",
       "      <td>6937.919779</td>\n",
       "      <td>182.576836</td>\n",
       "      <td>664.637340</td>\n",
       "      <td>38</td>\n",
       "    </tr>\n",
       "    <tr>\n",
       "      <th>Vocab</th>\n",
       "      <td>7098.173790</td>\n",
       "      <td>107.548088</td>\n",
       "      <td>872.050644</td>\n",
       "      <td>66</td>\n",
       "    </tr>\n",
       "    <tr>\n",
       "      <th>JavaScript Concepts</th>\n",
       "      <td>7491.450141</td>\n",
       "      <td>122.810658</td>\n",
       "      <td>441.063425</td>\n",
       "      <td>61</td>\n",
       "    </tr>\n",
       "    <tr>\n",
       "      <th>Logging in Python</th>\n",
       "      <td>9103.013846</td>\n",
       "      <td>151.716897</td>\n",
       "      <td>1033.056688</td>\n",
       "      <td>60</td>\n",
       "    </tr>\n",
       "  </tbody>\n",
       "</table>\n",
       "</div>"
      ],
      "text/plain": [
       "                                            age_sum    age_mean      age_max  \\\n",
       "Azure Developer Associate                121.923018    8.128201    12.875781   \n",
       "PEP 8                                    274.947628   91.649209   113.103002   \n",
       "Python                                   704.196881   14.982912    26.394654   \n",
       "Todd Ideas                              1067.208029   71.147202   158.180674   \n",
       "OData                                   1748.432844  291.405474   564.418023   \n",
       "SharePoint                              1767.404070  147.283672   589.260702   \n",
       "Audit Report Tracker (Sharepoint List)  1879.610912  144.585455   374.655161   \n",
       "Azure Functions + Visual Studio         2047.669375  146.262098   489.450813   \n",
       "Debugging in VS Code                    2088.087612  104.404381   273.335092   \n",
       "IW Migration                            2241.746171  160.124727   474.490678   \n",
       "Terraform                               2265.350164   90.614007   262.157314   \n",
       "Open Source/GitHub                      2405.040802  150.315050   373.457410   \n",
       "Email Auth and Security                 2417.951485  185.996268   901.573629   \n",
       "FSLogix                                 2596.286593  108.178608   266.633485   \n",
       "Azure Functions                         2987.199646  271.563604   751.683701   \n",
       "Home Network Project                    3115.483768  194.717735   467.089799   \n",
       "DNS                                     3260.197707  203.762357   408.543045   \n",
       "WSL + Kali Linux                        3439.543624  181.028612   413.408126   \n",
       "Azure Functions + PP365                 3652.863306  158.820144   427.237478   \n",
       "Azure AI Search                         3870.027902  276.430564   733.094959   \n",
       "Powershell Modules                      4981.448700  166.048290   683.626805   \n",
       "PnP Powershell                          6937.919779  182.576836   664.637340   \n",
       "Vocab                                   7098.173790  107.548088   872.050644   \n",
       "JavaScript Concepts                     7491.450141  122.810658   441.063425   \n",
       "Logging in Python                       9103.013846  151.716897  1033.056688   \n",
       "\n",
       "                                        head_count  \n",
       "Azure Developer Associate                       15  \n",
       "PEP 8                                            3  \n",
       "Python                                          47  \n",
       "Todd Ideas                                      15  \n",
       "OData                                            6  \n",
       "SharePoint                                      12  \n",
       "Audit Report Tracker (Sharepoint List)          13  \n",
       "Azure Functions + Visual Studio                 14  \n",
       "Debugging in VS Code                            20  \n",
       "IW Migration                                    14  \n",
       "Terraform                                       25  \n",
       "Open Source/GitHub                              16  \n",
       "Email Auth and Security                         13  \n",
       "FSLogix                                         24  \n",
       "Azure Functions                                 11  \n",
       "Home Network Project                            16  \n",
       "DNS                                             16  \n",
       "WSL + Kali Linux                                19  \n",
       "Azure Functions + PP365                         23  \n",
       "Azure AI Search                                 14  \n",
       "Powershell Modules                              30  \n",
       "PnP Powershell                                  38  \n",
       "Vocab                                           66  \n",
       "JavaScript Concepts                             61  \n",
       "Logging in Python                               60  "
      ]
     },
     "execution_count": 4,
     "metadata": {},
     "output_type": "execute_result"
    }
   ],
   "source": [
    "stats = existing_cards.groupby('head').agg({'age': ['sum', 'mean', 'max'], 'head': 'count'}).sort_values(('age', 'sum'))\n",
    "stats.columns = stats.columns.to_flat_index()\n",
    "stats.columns = ['_'.join(col).strip() for col in stats.columns]\n",
    "stats.index.name = None\n",
    "stats"
   ]
  },
  {
   "cell_type": "code",
   "execution_count": null,
   "metadata": {},
   "outputs": [],
   "source": []
  },
  {
   "cell_type": "markdown",
   "metadata": {},
   "source": [
    "# Histogram"
   ]
  },
  {
   "cell_type": "code",
   "execution_count": 5,
   "metadata": {},
   "outputs": [
    {
     "name": "stdout",
     "output_type": "stream",
     "text": [
      "79563.18\n"
     ]
    },
    {
     "data": {
      "text/plain": [
       "<Axes: >"
      ]
     },
     "execution_count": 5,
     "metadata": {},
     "output_type": "execute_result"
    },
    {
     "data": {
      "image/png": "[encoded data removed]",
      "text/plain": [
       "<Figure size 640x480 with 1 Axes>"
      ]
     },
     "metadata": {},
     "output_type": "display_data"
    }
   ],
   "source": [
    "print(f\"{existing_cards['age'].sum(0):.2f}\")\n",
    "existing_cards['age'].hist(bins=20)"
   ]
  },
  {
   "cell_type": "markdown",
   "metadata": {},
   "source": [
    "# Completely Random Shuffle"
   ]
  },
  {
   "cell_type": "code",
   "execution_count": 6,
   "metadata": {},
   "outputs": [],
   "source": [
    "# existing_cards = existing_cards.sample(frac=1)\n",
    "# remake_card_document(filename='certcards2.txt', existing_cards = existing_cards)"
   ]
  },
  {
   "cell_type": "markdown",
   "metadata": {},
   "source": [
    "# Age Sort"
   ]
  },
  {
   "cell_type": "code",
   "execution_count": 7,
   "metadata": {},
   "outputs": [],
   "source": [
    "# existing_cards = existing_cards.sort_values('age', ascending=False)\n",
    "# remake_card_document(filename='certcards2.txt', existing_cards=existing_cards)\n",
    "# existing_cards.head(10)"
   ]
  },
  {
   "cell_type": "markdown",
   "metadata": {},
   "source": [
    "# Headers with fewest notes first"
   ]
  },
  {
   "cell_type": "code",
   "execution_count": 8,
   "metadata": {},
   "outputs": [],
   "source": [
    "# frequency = existing_cards['head'].value_counts(ascending=True)\n",
    "\n",
    "# existing_cards = pd.merge(\n",
    "#     left=existing_cards,\n",
    "#     right=frequency.rename('frequency'),\n",
    "#     left_on='head', right_index=True,\n",
    "#     how='left'\n",
    "# )\n",
    "# existing_cards['oldest'] = existing_cards.groupby('head')['age'].transform('max')\n",
    "# existing_cards['subject_highest_age'] = existing_cards['subject_highest_age'] * -1\n",
    "# existing_cards['age'] = existing_cards['age'] * -1\n",
    "\n",
    "\n",
    "# existing_cards.sort_values(['frequency', 'subject_highest_age', 'age'], ascending=True, inplace=True)\n",
    "\n",
    "# remake_card_document(filename='certcards2.txt', existing_cards=existing_cards)\n",
    "\n",
    "# existing_cards.head(10)"
   ]
  },
  {
   "cell_type": "markdown",
   "metadata": {},
   "source": [
    "# Focus on one header"
   ]
  },
  {
   "cell_type": "code",
   "execution_count": 9,
   "metadata": {},
   "outputs": [],
   "source": [
    "# heads = existing_cards['head'].value_counts()\n",
    "# heads = heads[heads > 5].index.tolist()\n",
    "# one_header = random.sample(heads, 1)[0]\n",
    "# existing_cards['pick_head'] = existing_cards['head'].apply(\n",
    "#     lambda h: 0 if h == one_header else 1 \n",
    "# )\n",
    "\n",
    "# remake_card_document(existing_cards=existing_cards.sort_values('pick_head'))"
   ]
  },
  {
   "cell_type": "markdown",
   "metadata": {},
   "source": [
    "## Header with oldest cards first"
   ]
  },
  {
   "cell_type": "code",
   "execution_count": 10,
   "metadata": {},
   "outputs": [],
   "source": [
    "# existing_cards['oldest'] = existing_cards.groupby('head')['age'].transform('max')\n",
    "# existing_cards.sort_values(['oldest', 'age'], ascending=False, inplace=True)\n",
    "# remake_card_document(existing_cards)"
   ]
  },
  {
   "cell_type": "markdown",
   "metadata": {},
   "source": [
    "## Headers with greatest mean card age first"
   ]
  },
  {
   "cell_type": "code",
   "execution_count": 11,
   "metadata": {},
   "outputs": [],
   "source": [
    "# existing_cards.sort_values(['subject_mean_age', 'age'], ascending=False, inplace=True)\n",
    "# remake_card_document(existing_cards)"
   ]
  },
  {
   "cell_type": "markdown",
   "metadata": {},
   "source": [
    "## Headers with greatest age sum first"
   ]
  },
  {
   "cell_type": "code",
   "execution_count": 12,
   "metadata": {},
   "outputs": [],
   "source": [
    "# existing_cards.sort_values(['subject_age_sum', 'age'], ascending=False, inplace=True)\n",
    "# remake_card_document(existing_cards)"
   ]
  },
  {
   "cell_type": "markdown",
   "metadata": {},
   "source": [
    "# N-fold shuffle\n"
   ]
  },
  {
   "cell_type": "markdown",
   "metadata": {},
   "source": [
    "## Age Sum"
   ]
  },
  {
   "cell_type": "code",
   "execution_count": 13,
   "metadata": {},
   "outputs": [],
   "source": [
    "# n=3\n",
    "# existing_cards['count'] = existing_cards.sort_values('age', ascending=False).groupby('head').cumcount()\n",
    "# existing_cards['n_fold'] = existing_cards['count'] % n\n",
    "\n",
    "# existing_cards['subject_age_sum'] = existing_cards['subject_age_sum'] *-1\n",
    "# existing_cards['age'] = existing_cards['age'] *-1\n",
    "# existing_cards.sort_values(['n_fold', 'subject_age_sum', 'age'], inplace=True)\n",
    "\n",
    "# remake_card_document(existing_cards=existing_cards)\n",
    "# existing_cards.head(10)\n"
   ]
  },
  {
   "cell_type": "markdown",
   "metadata": {},
   "source": [
    "## Age Mean"
   ]
  },
  {
   "cell_type": "code",
   "execution_count": 14,
   "metadata": {},
   "outputs": [],
   "source": [
    "# n=3\n",
    "# existing_cards['count'] = existing_cards.sort_values('age', ascending=False).groupby('head').cumcount()\n",
    "# existing_cards['n_fold'] = existing_cards['count'] % n\n",
    "\n",
    "# existing_cards['subject_mean_age'] = existing_cards['subject_mean_age'] *-1\n",
    "# existing_cards['age'] = existing_cards['age'] *-1\n",
    "# existing_cards.sort_values(['n_fold', 'subject_mean_age', 'age'], inplace=True)\n",
    "# remake_card_document(existing_cards=existing_cards)\n",
    "\n",
    "# existing_cards.head(10)\n",
    "\n"
   ]
  },
  {
   "cell_type": "markdown",
   "metadata": {},
   "source": [
    "## Age Max"
   ]
  },
  {
   "cell_type": "code",
   "execution_count": 15,
   "metadata": {},
   "outputs": [
    {
     "name": "stdout",
     "output_type": "stream",
     "text": [
      "Cards found: 591\n"
     ]
    },
    {
     "data": {
      "application/vnd.microsoft.datawrangler.viewer.v0+json": {
       "columns": [
        {
         "name": "index",
         "rawType": "int64",
         "type": "integer"
        },
        {
         "name": "head",
         "rawType": "object",
         "type": "string"
        },
        {
         "name": "body",
         "rawType": "object",
         "type": "string"
        },
        {
         "name": "hash",
         "rawType": "object",
         "type": "string"
        },
        {
         "name": "age",
         "rawType": "float64",
         "type": "float"
        },
        {
         "name": "subject_mean_age",
         "rawType": "float64",
         "type": "float"
        },
        {
         "name": "subject_highest_age",
         "rawType": "float64",
         "type": "float"
        },
        {
         "name": "subject_age_sum",
         "rawType": "float64",
         "type": "float"
        },
        {
         "name": "head_random_roll",
         "rawType": "float64",
         "type": "float"
        },
        {
         "name": "count",
         "rawType": "int64",
         "type": "integer"
        },
        {
         "name": "n_fold",
         "rawType": "int64",
         "type": "integer"
        }
       ],
       "conversionMethod": "pd.DataFrame",
       "ref": "b3f63fdc-5465-4d40-a67b-9073b131ab15",
       "rows": [
        [
         "69",
         "Logging in Python",
         "Q: What does the exc_info parameter do in logging methods like logger.error() from the logging module?\n\nA: exc_info=True\nThis includes exception traceback information in the log message, aiding in debugging.",
         "99985def14861364c32ddb3b87ea135b",
         "-1033.0566884075304",
         "151.71689743901555",
         "-1033.0566884075304",
         "9103.013846340933",
         "0.42969902322947096",
         "0",
         "0"
        ],
        [
         "21",
         "Email Auth and Security",
         "Identifier Alignment\n\nEnsuring that the domains used in SPF and DKIM authentication align with the domain in the email's \"From\" header.\nCritical for DMARC to function correctly.\nCan be achieved through relaxed alignment (subdomains are allowed) or strict alignment (exact match required).",
         "74a89604ca7b2e38b605e5efbb01fe47",
         "-901.5736288760144",
         "185.99626809106016",
         "-901.5736288760144",
         "2417.951485183782",
         "0.15111992348290204",
         "0",
         "0"
        ],
        [
         "138",
         "Vocab",
         "Boustrophedonic\nadjective\nSPA: boo-struh-fee-DON-ik\nIPA: /ˌbʊsˌtrɒfəˈdɒnɪk/\n\nOf or relating to a style of writing in which the direction alternates from left to right on one line and right to left on the next, continuing in this manner throughout the text.\nExample: The ancient script was written in a boustrophedonic manner, making it challenging to read for modern scholars.",
         "c778949e7f683ddbc9ae9910ad5c565c",
         "-872.0506442350295",
         "107.54808772105962",
         "-872.0506442350295",
         "7098.173789589935",
         "0.13630236913341254",
         "0",
         "0"
        ],
        [
         "5",
         "Azure Functions",
         "2. Suppose your Azure Function has a blob trigger associated with it and you want it to execute only when png images are uploaded. Which of the following blob trigger Path values should you use? \n\nsamples-workitems/{name}.png\nThe Path tells the blob trigger where it should monitor for changes, and if there are any filters applied. Adding a file extension to the Path specifies that uploaded files must have that file extension in order for the trigger to invoke the function.",
         "fc5054fcf13b3189012cf676692c4f29",
         "-751.683701498816",
         "271.56360421054563",
         "-751.683701498816",
         "2987.1996463160017",
         "0.7243185766523821",
         "0",
         "0"
        ],
        [
         "0",
         "Azure AI Search",
         "After the first indexer run, you can rerun it on demand or set up a schedule.\n\nYou can monitor indexer status in the Azure portal or through Get Indexer Status API. You should also run queries on the index to verify the result is what you expected.",
         "32962e9b2ebb8fe8f74b47cd3080634c",
         "-733.0949585960209",
         "276.43056446078907",
         "-733.0949585960209",
         "3870.0279024510473",
         "0.5437657505831478",
         "0",
         "0"
        ],
        [
         "46",
         "Powershell Modules",
         "PowerShell Gallery\n\nDefinition: The central repository for PowerShell modules, scripts, and other resources.\nExplanation: Accessible via the Find-Module and Install-Module cmdlets. Website: PowerShell Gallery.",
         "92931a76329cd1bec63d78a358648c4d",
         "-683.6268052430958",
         "166.04829001472697",
         "-683.6268052430958",
         "4981.448700441809",
         "0.08281215488277194",
         "0",
         "0"
        ],
        [
         "26",
         "PnP Powershell",
         "SharePoint REST API\nA set of web services provided by SharePoint to perform operations like CRUD actions on lists, libraries, and other SharePoint objects using standard HTTP methods.",
         "143745e569af1c6a779118128bf12b60",
         "-664.6373395727184",
         "182.57683628122834",
         "-664.6373395727184",
         "6937.919778686677",
         "0.7199491387180488",
         "0",
         "0"
        ],
        [
         "95",
         "SharePoint",
         "How can you retrieve the metadata of a specific file, including its properties, using the SharePoint REST API?\n\nGET /_api/web/GetFileByServerRelativeUrl('/Documents/Report.docx')?$expand=ListItemAllFields",
         "a9bef1ae5a68637d2ee73d72c0aa7e47",
         "-589.2607017335587",
         "147.28367247170536",
         "-589.2607017335587",
         "1767.4040696604643",
         "0.8179811201517033",
         "0",
         "0"
        ],
        [
         "203",
         "OData",
         "Namespaces\n\nDefinition: Unique identifiers (like MyCompany.CRM) that group related schemas and prevent naming conflicts in OData models.\nContext: Used to differentiate entities, actions, and functions that may share common names but serve different domains or versions.",
         "c37dc59fe7d7fe68df3c7d713fa0d170",
         "-564.4180231280795",
         "291.4054740681051",
         "-564.4180231280795",
         "1748.4328444086307",
         "0.08178504662817343",
         "0",
         "0"
        ],
        [
         "99",
         "Azure Functions + Visual Studio",
         "ASP.NET includes a variety of built-in security features such as request validation, input sanitization, SQL injection prevention, and protection against cross-site scripting (XSS) and cross-site request forgery (CSRF). HTTPS and encryption are also supported for secure communication.",
         "22f41dbaa7f06bfee2174c4754c8f951",
         "-489.4508129398636",
         "146.26209819735763",
         "-489.4508129398636",
         "2047.6693747630068",
         "0.277725033935721",
         "0",
         "0"
        ]
       ],
       "shape": {
        "columns": 10,
        "rows": 10
       }
      },
      "text/html": [
       "<div>\n",
       "<style scoped>\n",
       "    .dataframe tbody tr th:only-of-type {\n",
       "        vertical-align: middle;\n",
       "    }\n",
       "\n",
       "    .dataframe tbody tr th {\n",
       "        vertical-align: top;\n",
       "    }\n",
       "\n",
       "    .dataframe thead th {\n",
       "        text-align: right;\n",
       "    }\n",
       "</style>\n",
       "<table border=\"1\" class=\"dataframe\">\n",
       "  <thead>\n",
       "    <tr style=\"text-align: right;\">\n",
       "      <th></th>\n",
       "      <th>head</th>\n",
       "      <th>body</th>\n",
       "      <th>hash</th>\n",
       "      <th>age</th>\n",
       "      <th>subject_mean_age</th>\n",
       "      <th>subject_highest_age</th>\n",
       "      <th>subject_age_sum</th>\n",
       "      <th>head_random_roll</th>\n",
       "      <th>count</th>\n",
       "      <th>n_fold</th>\n",
       "    </tr>\n",
       "  </thead>\n",
       "  <tbody>\n",
       "    <tr>\n",
       "      <th>69</th>\n",
       "      <td>Logging in Python</td>\n",
       "      <td>Q: What does the exc_info parameter do in logg...</td>\n",
       "      <td>99985def14861364c32ddb3b87ea135b</td>\n",
       "      <td>-1033.056688</td>\n",
       "      <td>151.716897</td>\n",
       "      <td>-1033.056688</td>\n",
       "      <td>9103.013846</td>\n",
       "      <td>0.429699</td>\n",
       "      <td>0</td>\n",
       "      <td>0</td>\n",
       "    </tr>\n",
       "    <tr>\n",
       "      <th>21</th>\n",
       "      <td>Email Auth and Security</td>\n",
       "      <td>Identifier Alignment\\n\\nEnsuring that the doma...</td>\n",
       "      <td>74a89604ca7b2e38b605e5efbb01fe47</td>\n",
       "      <td>-901.573629</td>\n",
       "      <td>185.996268</td>\n",
       "      <td>-901.573629</td>\n",
       "      <td>2417.951485</td>\n",
       "      <td>0.151120</td>\n",
       "      <td>0</td>\n",
       "      <td>0</td>\n",
       "    </tr>\n",
       "    <tr>\n",
       "      <th>138</th>\n",
       "      <td>Vocab</td>\n",
       "      <td>Boustrophedonic\\nadjective\\nSPA: boo-struh-fee...</td>\n",
       "      <td>c778949e7f683ddbc9ae9910ad5c565c</td>\n",
       "      <td>-872.050644</td>\n",
       "      <td>107.548088</td>\n",
       "      <td>-872.050644</td>\n",
       "      <td>7098.173790</td>\n",
       "      <td>0.136302</td>\n",
       "      <td>0</td>\n",
       "      <td>0</td>\n",
       "    </tr>\n",
       "    <tr>\n",
       "      <th>5</th>\n",
       "      <td>Azure Functions</td>\n",
       "      <td>2. Suppose your Azure Function has a blob trig...</td>\n",
       "      <td>fc5054fcf13b3189012cf676692c4f29</td>\n",
       "      <td>-751.683701</td>\n",
       "      <td>271.563604</td>\n",
       "      <td>-751.683701</td>\n",
       "      <td>2987.199646</td>\n",
       "      <td>0.724319</td>\n",
       "      <td>0</td>\n",
       "      <td>0</td>\n",
       "    </tr>\n",
       "    <tr>\n",
       "      <th>0</th>\n",
       "      <td>Azure AI Search</td>\n",
       "      <td>After the first indexer run, you can rerun it ...</td>\n",
       "      <td>32962e9b2ebb8fe8f74b47cd3080634c</td>\n",
       "      <td>-733.094959</td>\n",
       "      <td>276.430564</td>\n",
       "      <td>-733.094959</td>\n",
       "      <td>3870.027902</td>\n",
       "      <td>0.543766</td>\n",
       "      <td>0</td>\n",
       "      <td>0</td>\n",
       "    </tr>\n",
       "    <tr>\n",
       "      <th>46</th>\n",
       "      <td>Powershell Modules</td>\n",
       "      <td>PowerShell Gallery\\n\\nDefinition: The central ...</td>\n",
       "      <td>92931a76329cd1bec63d78a358648c4d</td>\n",
       "      <td>-683.626805</td>\n",
       "      <td>166.048290</td>\n",
       "      <td>-683.626805</td>\n",
       "      <td>4981.448700</td>\n",
       "      <td>0.082812</td>\n",
       "      <td>0</td>\n",
       "      <td>0</td>\n",
       "    </tr>\n",
       "    <tr>\n",
       "      <th>26</th>\n",
       "      <td>PnP Powershell</td>\n",
       "      <td>SharePoint REST API\\nA set of web services pro...</td>\n",
       "      <td>143745e569af1c6a779118128bf12b60</td>\n",
       "      <td>-664.637340</td>\n",
       "      <td>182.576836</td>\n",
       "      <td>-664.637340</td>\n",
       "      <td>6937.919779</td>\n",
       "      <td>0.719949</td>\n",
       "      <td>0</td>\n",
       "      <td>0</td>\n",
       "    </tr>\n",
       "    <tr>\n",
       "      <th>95</th>\n",
       "      <td>SharePoint</td>\n",
       "      <td>How can you retrieve the metadata of a specifi...</td>\n",
       "      <td>a9bef1ae5a68637d2ee73d72c0aa7e47</td>\n",
       "      <td>-589.260702</td>\n",
       "      <td>147.283672</td>\n",
       "      <td>-589.260702</td>\n",
       "      <td>1767.404070</td>\n",
       "      <td>0.817981</td>\n",
       "      <td>0</td>\n",
       "      <td>0</td>\n",
       "    </tr>\n",
       "    <tr>\n",
       "      <th>203</th>\n",
       "      <td>OData</td>\n",
       "      <td>Namespaces\\n\\nDefinition: Unique identifiers (...</td>\n",
       "      <td>c37dc59fe7d7fe68df3c7d713fa0d170</td>\n",
       "      <td>-564.418023</td>\n",
       "      <td>291.405474</td>\n",
       "      <td>-564.418023</td>\n",
       "      <td>1748.432844</td>\n",
       "      <td>0.081785</td>\n",
       "      <td>0</td>\n",
       "      <td>0</td>\n",
       "    </tr>\n",
       "    <tr>\n",
       "      <th>99</th>\n",
       "      <td>Azure Functions + Visual Studio</td>\n",
       "      <td>ASP.NET includes a variety of built-in securit...</td>\n",
       "      <td>22f41dbaa7f06bfee2174c4754c8f951</td>\n",
       "      <td>-489.450813</td>\n",
       "      <td>146.262098</td>\n",
       "      <td>-489.450813</td>\n",
       "      <td>2047.669375</td>\n",
       "      <td>0.277725</td>\n",
       "      <td>0</td>\n",
       "      <td>0</td>\n",
       "    </tr>\n",
       "  </tbody>\n",
       "</table>\n",
       "</div>"
      ],
      "text/plain": [
       "                                head  \\\n",
       "69                 Logging in Python   \n",
       "21           Email Auth and Security   \n",
       "138                            Vocab   \n",
       "5                    Azure Functions   \n",
       "0                    Azure AI Search   \n",
       "46                Powershell Modules   \n",
       "26                    PnP Powershell   \n",
       "95                        SharePoint   \n",
       "203                            OData   \n",
       "99   Azure Functions + Visual Studio   \n",
       "\n",
       "                                                  body  \\\n",
       "69   Q: What does the exc_info parameter do in logg...   \n",
       "21   Identifier Alignment\\n\\nEnsuring that the doma...   \n",
       "138  Boustrophedonic\\nadjective\\nSPA: boo-struh-fee...   \n",
       "5    2. Suppose your Azure Function has a blob trig...   \n",
       "0    After the first indexer run, you can rerun it ...   \n",
       "46   PowerShell Gallery\\n\\nDefinition: The central ...   \n",
       "26   SharePoint REST API\\nA set of web services pro...   \n",
       "95   How can you retrieve the metadata of a specifi...   \n",
       "203  Namespaces\\n\\nDefinition: Unique identifiers (...   \n",
       "99   ASP.NET includes a variety of built-in securit...   \n",
       "\n",
       "                                 hash          age  subject_mean_age  \\\n",
       "69   99985def14861364c32ddb3b87ea135b -1033.056688        151.716897   \n",
       "21   74a89604ca7b2e38b605e5efbb01fe47  -901.573629        185.996268   \n",
       "138  c778949e7f683ddbc9ae9910ad5c565c  -872.050644        107.548088   \n",
       "5    fc5054fcf13b3189012cf676692c4f29  -751.683701        271.563604   \n",
       "0    32962e9b2ebb8fe8f74b47cd3080634c  -733.094959        276.430564   \n",
       "46   92931a76329cd1bec63d78a358648c4d  -683.626805        166.048290   \n",
       "26   143745e569af1c6a779118128bf12b60  -664.637340        182.576836   \n",
       "95   a9bef1ae5a68637d2ee73d72c0aa7e47  -589.260702        147.283672   \n",
       "203  c37dc59fe7d7fe68df3c7d713fa0d170  -564.418023        291.405474   \n",
       "99   22f41dbaa7f06bfee2174c4754c8f951  -489.450813        146.262098   \n",
       "\n",
       "     subject_highest_age  subject_age_sum  head_random_roll  count  n_fold  \n",
       "69          -1033.056688      9103.013846          0.429699      0       0  \n",
       "21           -901.573629      2417.951485          0.151120      0       0  \n",
       "138          -872.050644      7098.173790          0.136302      0       0  \n",
       "5            -751.683701      2987.199646          0.724319      0       0  \n",
       "0            -733.094959      3870.027902          0.543766      0       0  \n",
       "46           -683.626805      4981.448700          0.082812      0       0  \n",
       "26           -664.637340      6937.919779          0.719949      0       0  \n",
       "95           -589.260702      1767.404070          0.817981      0       0  \n",
       "203          -564.418023      1748.432844          0.081785      0       0  \n",
       "99           -489.450813      2047.669375          0.277725      0       0  "
      ]
     },
     "execution_count": 15,
     "metadata": {},
     "output_type": "execute_result"
    }
   ],
   "source": [
    "n = 1\n",
    "existing_cards['count'] = existing_cards.sort_values('age', ascending=False).groupby('head').cumcount()\n",
    "existing_cards['n_fold'] = existing_cards['count'] // n\n",
    "\n",
    "if existing_cards['age'].sum() > 0:\n",
    "    existing_cards['subject_highest_age'] = existing_cards['subject_highest_age'] *-1\n",
    "    existing_cards['age'] = existing_cards['age'] *-1\n",
    "existing_cards.sort_values(['n_fold', 'subject_highest_age', 'age'], inplace=True)\n",
    "\n",
    "remake_card_document(existing_cards=existing_cards)\n",
    "existing_cards.head(10)\n"
   ]
  },
  {
   "cell_type": "markdown",
   "metadata": {},
   "source": [
    "## Card Count"
   ]
  },
  {
   "cell_type": "code",
   "execution_count": 16,
   "metadata": {},
   "outputs": [],
   "source": [
    "# n=10\n",
    "# existing_cards['frequency']  = existing_cards.groupby('head').transform('count')['body']\n",
    "# existing_cards['count'] = existing_cards.sort_values('age', ascending=False).groupby('head').cumcount()\n",
    "# existing_cards['n_fold'] = existing_cards['count'] // n\n",
    "\n",
    "# if existing_cards['age'].sum() > 0:\n",
    "#     existing_cards['subject_highest_age'] = existing_cards['subject_highest_age'] *-1\n",
    "#     existing_cards['age'] = existing_cards['age'] *-1\n",
    "# existing_cards.sort_values(['n_fold', 'frequency', 'age'], inplace=True)\n",
    "# remake_card_document(existing_cards=existing_cards)\n",
    "\n",
    "# existing_cards.head(10)\n",
    "\n"
   ]
  },
  {
   "cell_type": "markdown",
   "metadata": {},
   "source": [
    "\n",
    "## Random"
   ]
  },
  {
   "cell_type": "code",
   "execution_count": 17,
   "metadata": {},
   "outputs": [],
   "source": [
    "# n = 3\n",
    "# existing_cards['count'] = existing_cards.sort_values('age', ascending=False).groupby('head').cumcount()\n",
    "# existing_cards['n_fold'] = existing_cards['count'] % n\n",
    "# existing_cards['age'] *= -1\n",
    "# existing_cards.sort_values(['n_fold', 'head_random_roll', 'age'], inplace=True)\n",
    "# remake_card_document(existing_cards=existing_cards)\n",
    "# existing_cards.head(10)"
   ]
  },
  {
   "cell_type": "code",
   "execution_count": 18,
   "metadata": {},
   "outputs": [
    {
     "data": {
      "application/vnd.microsoft.datawrangler.viewer.v0+json": {
       "columns": [
        {
         "name": "index",
         "rawType": "int64",
         "type": "integer"
        },
        {
         "name": "head",
         "rawType": "object",
         "type": "string"
        },
        {
         "name": "body",
         "rawType": "object",
         "type": "string"
        },
        {
         "name": "hash",
         "rawType": "object",
         "type": "string"
        },
        {
         "name": "age",
         "rawType": "float64",
         "type": "float"
        },
        {
         "name": "subject_mean_age",
         "rawType": "float64",
         "type": "float"
        },
        {
         "name": "subject_highest_age",
         "rawType": "float64",
         "type": "float"
        },
        {
         "name": "subject_age_sum",
         "rawType": "float64",
         "type": "float"
        },
        {
         "name": "head_random_roll",
         "rawType": "float64",
         "type": "float"
        },
        {
         "name": "count",
         "rawType": "int64",
         "type": "integer"
        },
        {
         "name": "n_fold",
         "rawType": "int64",
         "type": "integer"
        }
       ],
       "conversionMethod": "pd.DataFrame",
       "ref": "65c553e2-081c-4467-b85f-b1639577768e",
       "rows": [
        [
         "69",
         "Logging in Python",
         "Q: What does the exc_info parameter do in logging methods like logger.error() from the logging module?\n\nA: exc_info=True\nThis includes exception traceback information in the log message, aiding in debugging.",
         "99985def14861364c32ddb3b87ea135b",
         "-1033.0566884075304",
         "151.71689743901555",
         "-1033.0566884075304",
         "9103.013846340933",
         "0.42969902322947096",
         "0",
         "0"
        ],
        [
         "21",
         "Email Auth and Security",
         "Identifier Alignment\n\nEnsuring that the domains used in SPF and DKIM authentication align with the domain in the email's \"From\" header.\nCritical for DMARC to function correctly.\nCan be achieved through relaxed alignment (subdomains are allowed) or strict alignment (exact match required).",
         "74a89604ca7b2e38b605e5efbb01fe47",
         "-901.5736288760144",
         "185.99626809106016",
         "-901.5736288760144",
         "2417.951485183782",
         "0.15111992348290204",
         "0",
         "0"
        ],
        [
         "138",
         "Vocab",
         "Boustrophedonic\nadjective\nSPA: boo-struh-fee-DON-ik\nIPA: /ˌbʊsˌtrɒfəˈdɒnɪk/\n\nOf or relating to a style of writing in which the direction alternates from left to right on one line and right to left on the next, continuing in this manner throughout the text.\nExample: The ancient script was written in a boustrophedonic manner, making it challenging to read for modern scholars.",
         "c778949e7f683ddbc9ae9910ad5c565c",
         "-872.0506442350295",
         "107.54808772105962",
         "-872.0506442350295",
         "7098.173789589935",
         "0.13630236913341254",
         "0",
         "0"
        ],
        [
         "5",
         "Azure Functions",
         "2. Suppose your Azure Function has a blob trigger associated with it and you want it to execute only when png images are uploaded. Which of the following blob trigger Path values should you use? \n\nsamples-workitems/{name}.png\nThe Path tells the blob trigger where it should monitor for changes, and if there are any filters applied. Adding a file extension to the Path specifies that uploaded files must have that file extension in order for the trigger to invoke the function.",
         "fc5054fcf13b3189012cf676692c4f29",
         "-751.683701498816",
         "271.56360421054563",
         "-751.683701498816",
         "2987.1996463160017",
         "0.7243185766523821",
         "0",
         "0"
        ],
        [
         "0",
         "Azure AI Search",
         "After the first indexer run, you can rerun it on demand or set up a schedule.\n\nYou can monitor indexer status in the Azure portal or through Get Indexer Status API. You should also run queries on the index to verify the result is what you expected.",
         "32962e9b2ebb8fe8f74b47cd3080634c",
         "-733.0949585960209",
         "276.43056446078907",
         "-733.0949585960209",
         "3870.0279024510473",
         "0.5437657505831478",
         "0",
         "0"
        ],
        [
         "46",
         "Powershell Modules",
         "PowerShell Gallery\n\nDefinition: The central repository for PowerShell modules, scripts, and other resources.\nExplanation: Accessible via the Find-Module and Install-Module cmdlets. Website: PowerShell Gallery.",
         "92931a76329cd1bec63d78a358648c4d",
         "-683.6268052430958",
         "166.04829001472697",
         "-683.6268052430958",
         "4981.448700441809",
         "0.08281215488277194",
         "0",
         "0"
        ],
        [
         "26",
         "PnP Powershell",
         "SharePoint REST API\nA set of web services provided by SharePoint to perform operations like CRUD actions on lists, libraries, and other SharePoint objects using standard HTTP methods.",
         "143745e569af1c6a779118128bf12b60",
         "-664.6373395727184",
         "182.57683628122834",
         "-664.6373395727184",
         "6937.919778686677",
         "0.7199491387180488",
         "0",
         "0"
        ],
        [
         "95",
         "SharePoint",
         "How can you retrieve the metadata of a specific file, including its properties, using the SharePoint REST API?\n\nGET /_api/web/GetFileByServerRelativeUrl('/Documents/Report.docx')?$expand=ListItemAllFields",
         "a9bef1ae5a68637d2ee73d72c0aa7e47",
         "-589.2607017335587",
         "147.28367247170536",
         "-589.2607017335587",
         "1767.4040696604643",
         "0.8179811201517033",
         "0",
         "0"
        ],
        [
         "203",
         "OData",
         "Namespaces\n\nDefinition: Unique identifiers (like MyCompany.CRM) that group related schemas and prevent naming conflicts in OData models.\nContext: Used to differentiate entities, actions, and functions that may share common names but serve different domains or versions.",
         "c37dc59fe7d7fe68df3c7d713fa0d170",
         "-564.4180231280795",
         "291.4054740681051",
         "-564.4180231280795",
         "1748.4328444086307",
         "0.08178504662817343",
         "0",
         "0"
        ],
        [
         "99",
         "Azure Functions + Visual Studio",
         "ASP.NET includes a variety of built-in security features such as request validation, input sanitization, SQL injection prevention, and protection against cross-site scripting (XSS) and cross-site request forgery (CSRF). HTTPS and encryption are also supported for secure communication.",
         "22f41dbaa7f06bfee2174c4754c8f951",
         "-489.4508129398636",
         "146.26209819735763",
         "-489.4508129398636",
         "2047.6693747630068",
         "0.277725033935721",
         "0",
         "0"
        ]
       ],
       "shape": {
        "columns": 10,
        "rows": 10
       }
      },
      "text/html": [
       "<div>\n",
       "<style scoped>\n",
       "    .dataframe tbody tr th:only-of-type {\n",
       "        vertical-align: middle;\n",
       "    }\n",
       "\n",
       "    .dataframe tbody tr th {\n",
       "        vertical-align: top;\n",
       "    }\n",
       "\n",
       "    .dataframe thead th {\n",
       "        text-align: right;\n",
       "    }\n",
       "</style>\n",
       "<table border=\"1\" class=\"dataframe\">\n",
       "  <thead>\n",
       "    <tr style=\"text-align: right;\">\n",
       "      <th></th>\n",
       "      <th>head</th>\n",
       "      <th>body</th>\n",
       "      <th>hash</th>\n",
       "      <th>age</th>\n",
       "      <th>subject_mean_age</th>\n",
       "      <th>subject_highest_age</th>\n",
       "      <th>subject_age_sum</th>\n",
       "      <th>head_random_roll</th>\n",
       "      <th>count</th>\n",
       "      <th>n_fold</th>\n",
       "    </tr>\n",
       "  </thead>\n",
       "  <tbody>\n",
       "    <tr>\n",
       "      <th>69</th>\n",
       "      <td>Logging in Python</td>\n",
       "      <td>Q: What does the exc_info parameter do in logg...</td>\n",
       "      <td>99985def14861364c32ddb3b87ea135b</td>\n",
       "      <td>-1033.056688</td>\n",
       "      <td>151.716897</td>\n",
       "      <td>-1033.056688</td>\n",
       "      <td>9103.013846</td>\n",
       "      <td>0.429699</td>\n",
       "      <td>0</td>\n",
       "      <td>0</td>\n",
       "    </tr>\n",
       "    <tr>\n",
       "      <th>21</th>\n",
       "      <td>Email Auth and Security</td>\n",
       "      <td>Identifier Alignment\\n\\nEnsuring that the doma...</td>\n",
       "      <td>74a89604ca7b2e38b605e5efbb01fe47</td>\n",
       "      <td>-901.573629</td>\n",
       "      <td>185.996268</td>\n",
       "      <td>-901.573629</td>\n",
       "      <td>2417.951485</td>\n",
       "      <td>0.151120</td>\n",
       "      <td>0</td>\n",
       "      <td>0</td>\n",
       "    </tr>\n",
       "    <tr>\n",
       "      <th>138</th>\n",
       "      <td>Vocab</td>\n",
       "      <td>Boustrophedonic\\nadjective\\nSPA: boo-struh-fee...</td>\n",
       "      <td>c778949e7f683ddbc9ae9910ad5c565c</td>\n",
       "      <td>-872.050644</td>\n",
       "      <td>107.548088</td>\n",
       "      <td>-872.050644</td>\n",
       "      <td>7098.173790</td>\n",
       "      <td>0.136302</td>\n",
       "      <td>0</td>\n",
       "      <td>0</td>\n",
       "    </tr>\n",
       "    <tr>\n",
       "      <th>5</th>\n",
       "      <td>Azure Functions</td>\n",
       "      <td>2. Suppose your Azure Function has a blob trig...</td>\n",
       "      <td>fc5054fcf13b3189012cf676692c4f29</td>\n",
       "      <td>-751.683701</td>\n",
       "      <td>271.563604</td>\n",
       "      <td>-751.683701</td>\n",
       "      <td>2987.199646</td>\n",
       "      <td>0.724319</td>\n",
       "      <td>0</td>\n",
       "      <td>0</td>\n",
       "    </tr>\n",
       "    <tr>\n",
       "      <th>0</th>\n",
       "      <td>Azure AI Search</td>\n",
       "      <td>After the first indexer run, you can rerun it ...</td>\n",
       "      <td>32962e9b2ebb8fe8f74b47cd3080634c</td>\n",
       "      <td>-733.094959</td>\n",
       "      <td>276.430564</td>\n",
       "      <td>-733.094959</td>\n",
       "      <td>3870.027902</td>\n",
       "      <td>0.543766</td>\n",
       "      <td>0</td>\n",
       "      <td>0</td>\n",
       "    </tr>\n",
       "    <tr>\n",
       "      <th>46</th>\n",
       "      <td>Powershell Modules</td>\n",
       "      <td>PowerShell Gallery\\n\\nDefinition: The central ...</td>\n",
       "      <td>92931a76329cd1bec63d78a358648c4d</td>\n",
       "      <td>-683.626805</td>\n",
       "      <td>166.048290</td>\n",
       "      <td>-683.626805</td>\n",
       "      <td>4981.448700</td>\n",
       "      <td>0.082812</td>\n",
       "      <td>0</td>\n",
       "      <td>0</td>\n",
       "    </tr>\n",
       "    <tr>\n",
       "      <th>26</th>\n",
       "      <td>PnP Powershell</td>\n",
       "      <td>SharePoint REST API\\nA set of web services pro...</td>\n",
       "      <td>143745e569af1c6a779118128bf12b60</td>\n",
       "      <td>-664.637340</td>\n",
       "      <td>182.576836</td>\n",
       "      <td>-664.637340</td>\n",
       "      <td>6937.919779</td>\n",
       "      <td>0.719949</td>\n",
       "      <td>0</td>\n",
       "      <td>0</td>\n",
       "    </tr>\n",
       "    <tr>\n",
       "      <th>95</th>\n",
       "      <td>SharePoint</td>\n",
       "      <td>How can you retrieve the metadata of a specifi...</td>\n",
       "      <td>a9bef1ae5a68637d2ee73d72c0aa7e47</td>\n",
       "      <td>-589.260702</td>\n",
       "      <td>147.283672</td>\n",
       "      <td>-589.260702</td>\n",
       "      <td>1767.404070</td>\n",
       "      <td>0.817981</td>\n",
       "      <td>0</td>\n",
       "      <td>0</td>\n",
       "    </tr>\n",
       "    <tr>\n",
       "      <th>203</th>\n",
       "      <td>OData</td>\n",
       "      <td>Namespaces\\n\\nDefinition: Unique identifiers (...</td>\n",
       "      <td>c37dc59fe7d7fe68df3c7d713fa0d170</td>\n",
       "      <td>-564.418023</td>\n",
       "      <td>291.405474</td>\n",
       "      <td>-564.418023</td>\n",
       "      <td>1748.432844</td>\n",
       "      <td>0.081785</td>\n",
       "      <td>0</td>\n",
       "      <td>0</td>\n",
       "    </tr>\n",
       "    <tr>\n",
       "      <th>99</th>\n",
       "      <td>Azure Functions + Visual Studio</td>\n",
       "      <td>ASP.NET includes a variety of built-in securit...</td>\n",
       "      <td>22f41dbaa7f06bfee2174c4754c8f951</td>\n",
       "      <td>-489.450813</td>\n",
       "      <td>146.262098</td>\n",
       "      <td>-489.450813</td>\n",
       "      <td>2047.669375</td>\n",
       "      <td>0.277725</td>\n",
       "      <td>0</td>\n",
       "      <td>0</td>\n",
       "    </tr>\n",
       "  </tbody>\n",
       "</table>\n",
       "</div>"
      ],
      "text/plain": [
       "                                head  \\\n",
       "69                 Logging in Python   \n",
       "21           Email Auth and Security   \n",
       "138                            Vocab   \n",
       "5                    Azure Functions   \n",
       "0                    Azure AI Search   \n",
       "46                Powershell Modules   \n",
       "26                    PnP Powershell   \n",
       "95                        SharePoint   \n",
       "203                            OData   \n",
       "99   Azure Functions + Visual Studio   \n",
       "\n",
       "                                                  body  \\\n",
       "69   Q: What does the exc_info parameter do in logg...   \n",
       "21   Identifier Alignment\\n\\nEnsuring that the doma...   \n",
       "138  Boustrophedonic\\nadjective\\nSPA: boo-struh-fee...   \n",
       "5    2. Suppose your Azure Function has a blob trig...   \n",
       "0    After the first indexer run, you can rerun it ...   \n",
       "46   PowerShell Gallery\\n\\nDefinition: The central ...   \n",
       "26   SharePoint REST API\\nA set of web services pro...   \n",
       "95   How can you retrieve the metadata of a specifi...   \n",
       "203  Namespaces\\n\\nDefinition: Unique identifiers (...   \n",
       "99   ASP.NET includes a variety of built-in securit...   \n",
       "\n",
       "                                 hash          age  subject_mean_age  \\\n",
       "69   99985def14861364c32ddb3b87ea135b -1033.056688        151.716897   \n",
       "21   74a89604ca7b2e38b605e5efbb01fe47  -901.573629        185.996268   \n",
       "138  c778949e7f683ddbc9ae9910ad5c565c  -872.050644        107.548088   \n",
       "5    fc5054fcf13b3189012cf676692c4f29  -751.683701        271.563604   \n",
       "0    32962e9b2ebb8fe8f74b47cd3080634c  -733.094959        276.430564   \n",
       "46   92931a76329cd1bec63d78a358648c4d  -683.626805        166.048290   \n",
       "26   143745e569af1c6a779118128bf12b60  -664.637340        182.576836   \n",
       "95   a9bef1ae5a68637d2ee73d72c0aa7e47  -589.260702        147.283672   \n",
       "203  c37dc59fe7d7fe68df3c7d713fa0d170  -564.418023        291.405474   \n",
       "99   22f41dbaa7f06bfee2174c4754c8f951  -489.450813        146.262098   \n",
       "\n",
       "     subject_highest_age  subject_age_sum  head_random_roll  count  n_fold  \n",
       "69          -1033.056688      9103.013846          0.429699      0       0  \n",
       "21           -901.573629      2417.951485          0.151120      0       0  \n",
       "138          -872.050644      7098.173790          0.136302      0       0  \n",
       "5            -751.683701      2987.199646          0.724319      0       0  \n",
       "0            -733.094959      3870.027902          0.543766      0       0  \n",
       "46           -683.626805      4981.448700          0.082812      0       0  \n",
       "26           -664.637340      6937.919779          0.719949      0       0  \n",
       "95           -589.260702      1767.404070          0.817981      0       0  \n",
       "203          -564.418023      1748.432844          0.081785      0       0  \n",
       "99           -489.450813      2047.669375          0.277725      0       0  "
      ]
     },
     "execution_count": 18,
     "metadata": {},
     "output_type": "execute_result"
    }
   ],
   "source": [
    "existing_cards.head(10)"
   ]
  },
  {
   "cell_type": "code",
   "execution_count": 19,
   "metadata": {},
   "outputs": [
    {
     "data": {
      "text/plain": [
       "-134.62466631438764"
      ]
     },
     "execution_count": 19,
     "metadata": {},
     "output_type": "execute_result"
    }
   ],
   "source": [
    "existing_cards['age'].mean()"
   ]
  }
 ],
 "metadata": {
  "kernelspec": {
   "display_name": "Python 3",
   "language": "python",
   "name": "python3"
  },
  "language_info": {
   "codemirror_mode": {
    "name": "ipython",
    "version": 3
   },
   "file_extension": ".py",
   "mimetype": "text/x-python",
   "name": "python",
   "nbconvert_exporter": "python",
   "pygments_lexer": "ipython3",
   "version": "3.10.10"
  }
 },
 "nbformat": 4,
 "nbformat_minor": 2
}
