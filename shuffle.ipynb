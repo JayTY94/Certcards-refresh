{
 "cells": [
  {
   "cell_type": "code",
   "execution_count": 1,
   "metadata": {},
   "outputs": [],
   "source": [
    "import re\n",
    "import random\n",
    "import pandas as pd\n",
    "import hashlib"
   ]
  },
  {
   "cell_type": "code",
   "execution_count": 2,
   "metadata": {},
   "outputs": [],
   "source": [
    "with open('certcards2.txt', mode='r', encoding='utf8') as f:\n",
    "    all_cards = f.read()\n",
    "    \n",
    "card_split_pattern = r'\\n\\n\\n\\d+\\n'\n",
    "all_cards = re.split(card_split_pattern, all_cards)\n",
    "# Use re.DOTALL to allow . to match newline characters\n",
    "card_pattern = re.compile(r'(.+?)\\n([\\s\\S]+)', re.DOTALL)\n",
    "cards = [(match.group(1), match.group(2)) for cstring in all_cards if (match := re.search(card_pattern, cstring))]\n",
    "\n",
    "# removing the cards that have no content and trimming\n",
    "cards = [(subject, stripped_content) for subject, content in cards if len(stripped_content := content.strip()) > 5]\n",
    "\n",
    "def hash_string_md5(s):\n",
    "    \"\"\"\n",
    "    Hashes a string using MD5 and returns a truncated hash for efficiency.\n",
    "\n",
    "    Parameters:\n",
    "    - s (str): The input string to hash.\n",
    "\n",
    "    Returns:\n",
    "    - str: The truncated hexadecimal hash string.\n",
    "    \"\"\"\n",
    "    if pd.isnull(s):\n",
    "        return None  # Handle NaN values gracefully\n",
    "    return hashlib.md5(s.encode('utf-8')).hexdigest()\n",
    "\n",
    "\n",
    "def remake_card_document(existing_cards: pd.DataFrame, filename: str='certcards2.txt'):\n",
    "    with open(filename, mode='w', encoding='utf8') as f:\n",
    "        i = 1\n",
    "        for _, row in existing_cards.iterrows():\n",
    "            f.write('\\n'*6)\n",
    "            f.write(str(i)+'\\n')  \n",
    "            f.write(row['head']+'\\n')\n",
    "            f.write(row['body'])\n",
    "            i+=1\n",
    "    print(F\"Cards found: {existing_cards.shape[0]}\")\n",
    "\n",
    "\n",
    "existing_cards = pd.DataFrame(cards, columns=['head', 'body'])\n",
    "\n",
    "\n",
    "# existing_cards['age'] = [random.random() for _ in existing_cards.index]\n",
    "existing_cards['hash'] = existing_cards['body'].apply(hash_string_md5)\n",
    "existing_cards\n",
    "\n",
    "card_ages = pd.read_json('card_ages.json')\n",
    "card_ages = card_ages.drop_duplicates(subset=['hash'], keep='first')\n",
    "\n",
    "cards_to_age = pd.merge(\n",
    "    left=existing_cards,\n",
    "    right=card_ages[['hash', 'age']],\n",
    "    left_on='hash', right_on='hash',\n",
    "    how='left'\n",
    ")\n",
    "\n",
    "cards_to_age['head'] = cards_to_age['head'].str.strip()\n",
    "\n",
    "if cards_to_age['age'].sum() > 2e4: age_factor = 1\n",
    "else: age_factor = 1.00\n",
    "\n",
    "cards_to_age['age'] = cards_to_age['age'].fillna(0)\n",
    "cards_to_age['age'] = cards_to_age['age'] * age_factor\n",
    "cards_to_age['age'] = cards_to_age['age'] + [random.expovariate(.60) for _ in cards_to_age.index]\n",
    "# cards_to_age['age'] = cards_to_age['age'] * [random.expovariate(.5) for _ in cards_to_age.index]\n",
    "\n",
    "# Adding priority age growth to cards for upcoming certifications\n",
    "priority_headers = ['Azure Developer Associate']\n",
    "priority_cards_mask = cards_to_age['head'].isin(priority_headers)\n",
    "cards_to_age.loc[priority_cards_mask, 'age'] = cards_to_age.loc[priority_cards_mask, 'age'] * 1.1\n",
    "\n",
    "\n",
    "cards_to_age = cards_to_age.drop_duplicates(subset=['hash'], keep='first')\n",
    "\n",
    "cards_to_age['subject_mean_age'] = cards_to_age.groupby('head')['age'].transform('mean')\n",
    "cards_to_age['subject_highest_age'] = cards_to_age.groupby('head')['age'].transform('max')\n",
    "cards_to_age['subject_age_sum'] = cards_to_age.groupby('head')['age'].transform('sum')\n",
    "cards_to_age['head_random_roll'] = cards_to_age.groupby('head')['head'].transform(lambda x: random.random())\n",
    "\n",
    "\n",
    "cards_to_age.sort_values('hash')[['age', 'head', 'hash']].to_json('card_ages.json', indent=2)\n",
    "\n",
    "existing_cards = cards_to_age"
   ]
  },
  {
   "cell_type": "code",
   "execution_count": 3,
   "metadata": {},
   "outputs": [
    {
     "data": {
      "application/vnd.microsoft.datawrangler.viewer.v0+json": {
       "columns": [
        {
         "name": "index",
         "rawType": "object",
         "type": "string"
        },
        {
         "name": "age_sum",
         "rawType": "float64",
         "type": "float"
        },
        {
         "name": "age_mean",
         "rawType": "float64",
         "type": "float"
        },
        {
         "name": "age_max",
         "rawType": "float64",
         "type": "float"
        },
        {
         "name": "head_count",
         "rawType": "int64",
         "type": "integer"
        }
       ],
       "conversionMethod": "pd.DataFrame",
       "ref": "3e48baff-f11b-40b1-9ed6-d9e5d23b5aaa",
       "rows": [
        [
         "Todd Ideas",
         "1425.4803098592697",
         "95.03202065728465",
         "177.56539928038274",
         "15"
        ],
        [
         "Email Auth and Security",
         "1819.4346381068538",
         "151.61955317557116",
         "513.4620141997531",
         "12"
        ],
        [
         "Azure AI Search",
         "1847.842504339546",
         "230.98031304244324",
         "445.3261701352521",
         "8"
        ],
        [
         "Python",
         "1977.7334404577553",
         "42.07943490335649",
         "64.85311093466807",
         "47"
        ],
        [
         "SharePoint",
         "2093.890262835235",
         "174.49085523626957",
         "610.2374877133882",
         "12"
        ],
        [
         "Home Network Project",
         "2197.6661339689595",
         "219.76661339689593",
         "435.0595129282688",
         "10"
        ],
        [
         "Audit Report Tracker (Sharepoint List)",
         "2215.943171664532",
         "170.45716705111786",
         "410.9634385930539",
         "13"
        ],
        [
         "Azure Functions + Visual Studio",
         "2416.4882602393714",
         "172.60630430281225",
         "527.7769975288871",
         "14"
        ],
        [
         "IW Migration",
         "2572.156768374675",
         "183.72548345533392",
         "496.9879622481325",
         "14"
        ],
        [
         "Debugging in VS Code",
         "2626.1489804401867",
         "131.30744902200934",
         "297.94852510377183",
         "20"
        ],
        [
         "Open Source/GitHub",
         "2821.723987815033",
         "176.35774923843957",
         "405.80692398620596",
         "16"
        ],
        [
         "Terraform",
         "2948.588968060075",
         "117.943558722403",
         "306.7807304196756",
         "25"
        ],
        [
         "FSLogix",
         "3228.6996397809",
         "134.52915165753748",
         "299.67388164578216",
         "24"
        ],
        [
         "Azure Developer Associate",
         "3377.7095861821526",
         "53.614437875907186",
         "147.25632484314633",
         "63"
        ],
        [
         "DNS",
         "3706.8751618748493",
         "231.67969761717808",
         "452.2661579348119",
         "16"
        ],
        [
         "WSL + Kali Linux",
         "3940.5297996159716",
         "207.39630524294589",
         "443.242997305779",
         "19"
        ],
        [
         "Azure Functions + PP365",
         "4252.0906346541415",
         "184.87350585452788",
         "450.37125365810505",
         "23"
        ],
        [
         "Powershell Modules",
         "5062.446650445508",
         "174.5671258774313",
         "510.7801315117524",
         "29"
        ],
        [
         "Logging in Python",
         "5932.888190944053",
         "123.60183731133445",
         "674.463337344704",
         "48"
        ],
        [
         "Vocab",
         "6209.507767121724",
         "98.56361535113848",
         "520.3825472204472",
         "63"
        ],
        [
         "JavaScript Concepts",
         "6922.78149692246",
         "113.48822126102394",
         "464.90363615885406",
         "61"
        ],
        [
         "PnP Powershell",
         "7277.351941224376",
         "196.68518760065882",
         "485.804416920476",
         "37"
        ]
       ],
       "shape": {
        "columns": 4,
        "rows": 22
       }
      },
      "text/html": [
       "<div>\n",
       "<style scoped>\n",
       "    .dataframe tbody tr th:only-of-type {\n",
       "        vertical-align: middle;\n",
       "    }\n",
       "\n",
       "    .dataframe tbody tr th {\n",
       "        vertical-align: top;\n",
       "    }\n",
       "\n",
       "    .dataframe thead th {\n",
       "        text-align: right;\n",
       "    }\n",
       "</style>\n",
       "<table border=\"1\" class=\"dataframe\">\n",
       "  <thead>\n",
       "    <tr style=\"text-align: right;\">\n",
       "      <th></th>\n",
       "      <th>age_sum</th>\n",
       "      <th>age_mean</th>\n",
       "      <th>age_max</th>\n",
       "      <th>head_count</th>\n",
       "    </tr>\n",
       "  </thead>\n",
       "  <tbody>\n",
       "    <tr>\n",
       "      <th>Todd Ideas</th>\n",
       "      <td>1425.480310</td>\n",
       "      <td>95.032021</td>\n",
       "      <td>177.565399</td>\n",
       "      <td>15</td>\n",
       "    </tr>\n",
       "    <tr>\n",
       "      <th>Email Auth and Security</th>\n",
       "      <td>1819.434638</td>\n",
       "      <td>151.619553</td>\n",
       "      <td>513.462014</td>\n",
       "      <td>12</td>\n",
       "    </tr>\n",
       "    <tr>\n",
       "      <th>Azure AI Search</th>\n",
       "      <td>1847.842504</td>\n",
       "      <td>230.980313</td>\n",
       "      <td>445.326170</td>\n",
       "      <td>8</td>\n",
       "    </tr>\n",
       "    <tr>\n",
       "      <th>Python</th>\n",
       "      <td>1977.733440</td>\n",
       "      <td>42.079435</td>\n",
       "      <td>64.853111</td>\n",
       "      <td>47</td>\n",
       "    </tr>\n",
       "    <tr>\n",
       "      <th>SharePoint</th>\n",
       "      <td>2093.890263</td>\n",
       "      <td>174.490855</td>\n",
       "      <td>610.237488</td>\n",
       "      <td>12</td>\n",
       "    </tr>\n",
       "    <tr>\n",
       "      <th>Home Network Project</th>\n",
       "      <td>2197.666134</td>\n",
       "      <td>219.766613</td>\n",
       "      <td>435.059513</td>\n",
       "      <td>10</td>\n",
       "    </tr>\n",
       "    <tr>\n",
       "      <th>Audit Report Tracker (Sharepoint List)</th>\n",
       "      <td>2215.943172</td>\n",
       "      <td>170.457167</td>\n",
       "      <td>410.963439</td>\n",
       "      <td>13</td>\n",
       "    </tr>\n",
       "    <tr>\n",
       "      <th>Azure Functions + Visual Studio</th>\n",
       "      <td>2416.488260</td>\n",
       "      <td>172.606304</td>\n",
       "      <td>527.776998</td>\n",
       "      <td>14</td>\n",
       "    </tr>\n",
       "    <tr>\n",
       "      <th>IW Migration</th>\n",
       "      <td>2572.156768</td>\n",
       "      <td>183.725483</td>\n",
       "      <td>496.987962</td>\n",
       "      <td>14</td>\n",
       "    </tr>\n",
       "    <tr>\n",
       "      <th>Debugging in VS Code</th>\n",
       "      <td>2626.148980</td>\n",
       "      <td>131.307449</td>\n",
       "      <td>297.948525</td>\n",
       "      <td>20</td>\n",
       "    </tr>\n",
       "    <tr>\n",
       "      <th>Open Source/GitHub</th>\n",
       "      <td>2821.723988</td>\n",
       "      <td>176.357749</td>\n",
       "      <td>405.806924</td>\n",
       "      <td>16</td>\n",
       "    </tr>\n",
       "    <tr>\n",
       "      <th>Terraform</th>\n",
       "      <td>2948.588968</td>\n",
       "      <td>117.943559</td>\n",
       "      <td>306.780730</td>\n",
       "      <td>25</td>\n",
       "    </tr>\n",
       "    <tr>\n",
       "      <th>FSLogix</th>\n",
       "      <td>3228.699640</td>\n",
       "      <td>134.529152</td>\n",
       "      <td>299.673882</td>\n",
       "      <td>24</td>\n",
       "    </tr>\n",
       "    <tr>\n",
       "      <th>Azure Developer Associate</th>\n",
       "      <td>3377.709586</td>\n",
       "      <td>53.614438</td>\n",
       "      <td>147.256325</td>\n",
       "      <td>63</td>\n",
       "    </tr>\n",
       "    <tr>\n",
       "      <th>DNS</th>\n",
       "      <td>3706.875162</td>\n",
       "      <td>231.679698</td>\n",
       "      <td>452.266158</td>\n",
       "      <td>16</td>\n",
       "    </tr>\n",
       "    <tr>\n",
       "      <th>WSL + Kali Linux</th>\n",
       "      <td>3940.529800</td>\n",
       "      <td>207.396305</td>\n",
       "      <td>443.242997</td>\n",
       "      <td>19</td>\n",
       "    </tr>\n",
       "    <tr>\n",
       "      <th>Azure Functions + PP365</th>\n",
       "      <td>4252.090635</td>\n",
       "      <td>184.873506</td>\n",
       "      <td>450.371254</td>\n",
       "      <td>23</td>\n",
       "    </tr>\n",
       "    <tr>\n",
       "      <th>Powershell Modules</th>\n",
       "      <td>5062.446650</td>\n",
       "      <td>174.567126</td>\n",
       "      <td>510.780132</td>\n",
       "      <td>29</td>\n",
       "    </tr>\n",
       "    <tr>\n",
       "      <th>Logging in Python</th>\n",
       "      <td>5932.888191</td>\n",
       "      <td>123.601837</td>\n",
       "      <td>674.463337</td>\n",
       "      <td>48</td>\n",
       "    </tr>\n",
       "    <tr>\n",
       "      <th>Vocab</th>\n",
       "      <td>6209.507767</td>\n",
       "      <td>98.563615</td>\n",
       "      <td>520.382547</td>\n",
       "      <td>63</td>\n",
       "    </tr>\n",
       "    <tr>\n",
       "      <th>JavaScript Concepts</th>\n",
       "      <td>6922.781497</td>\n",
       "      <td>113.488221</td>\n",
       "      <td>464.903636</td>\n",
       "      <td>61</td>\n",
       "    </tr>\n",
       "    <tr>\n",
       "      <th>PnP Powershell</th>\n",
       "      <td>7277.351941</td>\n",
       "      <td>196.685188</td>\n",
       "      <td>485.804417</td>\n",
       "      <td>37</td>\n",
       "    </tr>\n",
       "  </tbody>\n",
       "</table>\n",
       "</div>"
      ],
      "text/plain": [
       "                                            age_sum    age_mean     age_max  \\\n",
       "Todd Ideas                              1425.480310   95.032021  177.565399   \n",
       "Email Auth and Security                 1819.434638  151.619553  513.462014   \n",
       "Azure AI Search                         1847.842504  230.980313  445.326170   \n",
       "Python                                  1977.733440   42.079435   64.853111   \n",
       "SharePoint                              2093.890263  174.490855  610.237488   \n",
       "Home Network Project                    2197.666134  219.766613  435.059513   \n",
       "Audit Report Tracker (Sharepoint List)  2215.943172  170.457167  410.963439   \n",
       "Azure Functions + Visual Studio         2416.488260  172.606304  527.776998   \n",
       "IW Migration                            2572.156768  183.725483  496.987962   \n",
       "Debugging in VS Code                    2626.148980  131.307449  297.948525   \n",
       "Open Source/GitHub                      2821.723988  176.357749  405.806924   \n",
       "Terraform                               2948.588968  117.943559  306.780730   \n",
       "FSLogix                                 3228.699640  134.529152  299.673882   \n",
       "Azure Developer Associate               3377.709586   53.614438  147.256325   \n",
       "DNS                                     3706.875162  231.679698  452.266158   \n",
       "WSL + Kali Linux                        3940.529800  207.396305  443.242997   \n",
       "Azure Functions + PP365                 4252.090635  184.873506  450.371254   \n",
       "Powershell Modules                      5062.446650  174.567126  510.780132   \n",
       "Logging in Python                       5932.888191  123.601837  674.463337   \n",
       "Vocab                                   6209.507767   98.563615  520.382547   \n",
       "JavaScript Concepts                     6922.781497  113.488221  464.903636   \n",
       "PnP Powershell                          7277.351941  196.685188  485.804417   \n",
       "\n",
       "                                        head_count  \n",
       "Todd Ideas                                      15  \n",
       "Email Auth and Security                         12  \n",
       "Azure AI Search                                  8  \n",
       "Python                                          47  \n",
       "SharePoint                                      12  \n",
       "Home Network Project                            10  \n",
       "Audit Report Tracker (Sharepoint List)          13  \n",
       "Azure Functions + Visual Studio                 14  \n",
       "IW Migration                                    14  \n",
       "Debugging in VS Code                            20  \n",
       "Open Source/GitHub                              16  \n",
       "Terraform                                       25  \n",
       "FSLogix                                         24  \n",
       "Azure Developer Associate                       63  \n",
       "DNS                                             16  \n",
       "WSL + Kali Linux                                19  \n",
       "Azure Functions + PP365                         23  \n",
       "Powershell Modules                              29  \n",
       "Logging in Python                               48  \n",
       "Vocab                                           63  \n",
       "JavaScript Concepts                             61  \n",
       "PnP Powershell                                  37  "
      ]
     },
     "execution_count": 3,
     "metadata": {},
     "output_type": "execute_result"
    }
   ],
   "source": [
    "stats = existing_cards.groupby('head').agg({'age': ['sum', 'mean', 'max'], 'head': 'count'}).sort_values(('age', 'sum'))\n",
    "stats.columns = stats.columns.to_flat_index()\n",
    "stats.columns = ['_'.join(col).strip() for col in stats.columns]\n",
    "stats.index.name = None\n",
    "stats"
   ]
  },
  {
   "cell_type": "markdown",
   "metadata": {},
   "source": [
    "# Histogram"
   ]
  },
  {
   "cell_type": "code",
   "execution_count": 4,
   "metadata": {},
   "outputs": [
    {
     "name": "stdout",
     "output_type": "stream",
     "text": [
      "76873.98\n"
     ]
    },
    {
     "data": {
      "text/plain": [
       "<Axes: >"
      ]
     },
     "execution_count": 4,
     "metadata": {},
     "output_type": "execute_result"
    },
    {
     "data": {
      "image/png": "[encoded data removed]",
      "text/plain": [
       "<Figure size 640x480 with 1 Axes>"
      ]
     },
     "metadata": {},
     "output_type": "display_data"
    }
   ],
   "source": [
    "print(f\"{existing_cards['age'].sum(0):.2f}\")\n",
    "existing_cards['age'].hist(bins=20)"
   ]
  },
  {
   "cell_type": "markdown",
   "metadata": {},
   "source": [
    "# Completely Random Shuffle"
   ]
  },
  {
   "cell_type": "code",
   "execution_count": 5,
   "metadata": {},
   "outputs": [],
   "source": [
    "# existing_cards = existing_cards.sample(frac=1)\n",
    "# remake_card_document(filename='certcards2.txt', existing_cards = existing_cards)"
   ]
  },
  {
   "cell_type": "markdown",
   "metadata": {},
   "source": [
    "# Age Sort"
   ]
  },
  {
   "cell_type": "code",
   "execution_count": 6,
   "metadata": {},
   "outputs": [],
   "source": [
    "# existing_cards = existing_cards.sort_values('age', ascending=False)\n",
    "# remake_card_document(filename='certcards2.txt', existing_cards=existing_cards)\n",
    "# existing_cards.head(10)"
   ]
  },
  {
   "cell_type": "markdown",
   "metadata": {},
   "source": [
    "# Headers with fewest notes first"
   ]
  },
  {
   "cell_type": "code",
   "execution_count": 7,
   "metadata": {},
   "outputs": [],
   "source": [
    "# frequency = existing_cards['head'].value_counts(ascending=True)\n",
    "\n",
    "# existing_cards = pd.merge(\n",
    "#     left=existing_cards,\n",
    "#     right=frequency.rename('frequency'),\n",
    "#     left_on='head', right_index=True,\n",
    "#     how='left'\n",
    "# )\n",
    "# existing_cards['oldest'] = existing_cards.groupby('head')['age'].transform('max')\n",
    "# existing_cards['subject_highest_age'] = existing_cards['subject_highest_age'] * -1\n",
    "# existing_cards['age'] = existing_cards['age'] * -1\n",
    "\n",
    "\n",
    "# existing_cards.sort_values(['frequency', 'subject_highest_age', 'age'], ascending=True, inplace=True)\n",
    "\n",
    "# remake_card_document(filename='certcards2.txt', existing_cards=existing_cards)\n",
    "\n",
    "# existing_cards.head(10)"
   ]
  },
  {
   "cell_type": "markdown",
   "metadata": {},
   "source": [
    "# Focus on one header"
   ]
  },
  {
   "cell_type": "code",
   "execution_count": 8,
   "metadata": {},
   "outputs": [],
   "source": [
    "# heads = existing_cards['head'].value_counts()\n",
    "# heads = heads[heads > 5].index.tolist()\n",
    "# one_header = random.sample(heads, 1)[0]\n",
    "# existing_cards['pick_head'] = existing_cards['head'].apply(\n",
    "#     lambda h: 0 if h == one_header else 1 \n",
    "# )\n",
    "\n",
    "# remake_card_document(existing_cards=existing_cards.sort_values('pick_head'))"
   ]
  },
  {
   "cell_type": "markdown",
   "metadata": {},
   "source": [
    "## Header with oldest cards first"
   ]
  },
  {
   "cell_type": "code",
   "execution_count": 9,
   "metadata": {},
   "outputs": [],
   "source": [
    "# existing_cards['oldest'] = existing_cards.groupby('head')['age'].transform('max')\n",
    "# existing_cards.sort_values(['oldest', 'age'], ascending=False, inplace=True)\n",
    "# remake_card_document(existing_cards)"
   ]
  },
  {
   "cell_type": "markdown",
   "metadata": {},
   "source": [
    "## Headers with greatest mean card age first"
   ]
  },
  {
   "cell_type": "code",
   "execution_count": 10,
   "metadata": {},
   "outputs": [],
   "source": [
    "# existing_cards.sort_values(['subject_mean_age', 'age'], ascending=False, inplace=True)\n",
    "# remake_card_document(existing_cards)"
   ]
  },
  {
   "cell_type": "markdown",
   "metadata": {},
   "source": [
    "## Headers with greatest age sum first"
   ]
  },
  {
   "cell_type": "code",
   "execution_count": 11,
   "metadata": {},
   "outputs": [],
   "source": [
    "# existing_cards.sort_values(['subject_age_sum', 'age'], ascending=False, inplace=True)\n",
    "# remake_card_document(existing_cards)"
   ]
  },
  {
   "cell_type": "markdown",
   "metadata": {},
   "source": [
    "# N-fold shuffle\n"
   ]
  },
  {
   "cell_type": "markdown",
   "metadata": {},
   "source": [
    "## Age Sum"
   ]
  },
  {
   "cell_type": "code",
   "execution_count": 12,
   "metadata": {},
   "outputs": [],
   "source": [
    "# n=3\n",
    "# existing_cards['count'] = existing_cards.sort_values('age', ascending=False).groupby('head').cumcount()\n",
    "# existing_cards['n_fold'] = existing_cards['count'] % n\n",
    "\n",
    "# existing_cards['subject_age_sum'] = existing_cards['subject_age_sum'] *-1\n",
    "# existing_cards['age'] = existing_cards['age'] *-1\n",
    "# existing_cards.sort_values(['n_fold', 'subject_age_sum', 'age'], inplace=True)\n",
    "\n",
    "# remake_card_document(existing_cards=existing_cards)\n",
    "# existing_cards.head(10)\n"
   ]
  },
  {
   "cell_type": "markdown",
   "metadata": {},
   "source": [
    "## Age Mean"
   ]
  },
  {
   "cell_type": "code",
   "execution_count": 13,
   "metadata": {},
   "outputs": [
    {
     "name": "stdout",
     "output_type": "stream",
     "text": [
      "Cards found: 589\n"
     ]
    },
    {
     "data": {
      "application/vnd.microsoft.datawrangler.viewer.v0+json": {
       "columns": [
        {
         "name": "index",
         "rawType": "int64",
         "type": "integer"
        },
        {
         "name": "head",
         "rawType": "object",
         "type": "string"
        },
        {
         "name": "body",
         "rawType": "object",
         "type": "string"
        },
        {
         "name": "hash",
         "rawType": "object",
         "type": "string"
        },
        {
         "name": "age",
         "rawType": "float64",
         "type": "float"
        },
        {
         "name": "subject_mean_age",
         "rawType": "float64",
         "type": "float"
        },
        {
         "name": "subject_highest_age",
         "rawType": "float64",
         "type": "float"
        },
        {
         "name": "subject_age_sum",
         "rawType": "float64",
         "type": "float"
        },
        {
         "name": "head_random_roll",
         "rawType": "float64",
         "type": "float"
        },
        {
         "name": "count",
         "rawType": "int64",
         "type": "integer"
        },
        {
         "name": "n_fold",
         "rawType": "int64",
         "type": "integer"
        }
       ],
       "conversionMethod": "pd.DataFrame",
       "ref": "e73afc40-9f5e-48fe-8563-95e0f0d9f9a2",
       "rows": [
        [
         "90",
         "DNS",
         "Securing Zone Transfers\nMeasures taken to protect DNS zone data during transfers between DNS servers. This includes restricting transfers to authorized IP addresses and using security protocols like TSIG or IPsec to authenticate and encrypt the data, ensuring integrity and confidentiality.",
         "29d80ddfc54d4c7ce2121c00053c35cd",
         "-452.2661579348119",
         "-231.67969761717808",
         "452.2661579348119",
         "3706.8751618748493",
         "0.9857115816740387",
         "0",
         "0"
        ],
        [
         "91",
         "DNS",
         "SRV (Service) Records\nDNS records that specify the location (hostname and port) of servers for particular services within a domain. Essential for services like SIP (VoIP) or LDAP, they enable clients to discover service endpoints automatically.",
         "4193eaf48f50e71d6283bb58427c6f60",
         "-332.21352788937173",
         "-231.67969761717808",
         "452.2661579348119",
         "3706.8751618748493",
         "0.9857115816740387",
         "3",
         "0"
        ],
        [
         "92",
         "DNS",
         "DNS Policies\nA feature in Windows DNS Server that allows administrators to define rules for how DNS queries are handled. Policies can filter queries or provide different responses based on criteria like client IP addresses, enabling scenarios like split-brain DNS.",
         "e14697957838c2353f653a56dac9ac16",
         "-302.4491814438556",
         "-231.67969761717808",
         "452.2661579348119",
         "3706.8751618748493",
         "0.9857115816740387",
         "6",
         "0"
        ],
        [
         "93",
         "DNS",
         "DNS Zone Types\nDifferent types of DNS zones include Primary, Secondary, Stub, and Active Directory-Integrated zones. Each type serves distinct roles in DNS management, such as data storage, redundancy, delegation, and integration with directory services.",
         "fce7107d54abe9418805d1b01937805d",
         "-163.58885601070153",
         "-231.67969761717808",
         "452.2661579348119",
         "3706.8751618748493",
         "0.9857115816740387",
         "9",
         "0"
        ],
        [
         "94",
         "DNS",
         "DNS Manager\nA graphical administrative tool in Windows Server used to manage DNS settings and zones. DNS Manager provides interfaces for creating and modifying DNS records, configuring zone properties, setting up forwarders, and implementing security measures.",
         "ec33258f7f93c84f4574e71178066c9b",
         "-103.8233877399789",
         "-231.67969761717808",
         "452.2661579348119",
         "3706.8751618748493",
         "0.9857115816740387",
         "12",
         "0"
        ],
        [
         "95",
         "DNS",
         "Stub Zone\nA DNS zone that contains only essential information about another zone's authoritative DNS servers. It facilitates efficient DNS resolution by allowing a DNS server to know where to forward queries for that specific zone without storing all DNS records.",
         "ff86ccf34dc4e0d3a75966d5f4942595",
         "-59.929545645662614",
         "-231.67969761717808",
         "452.2661579348119",
         "3706.8751618748493",
         "0.9857115816740387",
         "15",
         "0"
        ],
        [
         "186",
         "Azure AI Search",
         "Push model is an approach that uses APIs to upload documents into an existing search index. You can upload documents in batches of up to 1000 per batch, or 16 MB per batch, whichever limit comes first.",
         "e260075e27bc86ab26b7859dd5dc4058",
         "-445.3261701352521",
         "-230.98031304244324",
         "445.3261701352521",
         "1847.842504339546",
         "0.021182461720415935",
         "0",
         "0"
        ],
        [
         "187",
         "Azure AI Search",
         "Indexers don't have dedicated processing resources. Based on this, indexers' status may show as idle before running (depending on other jobs in the queue) and run times may not be predictable. Other factors define indexer performance as well, such as document size, document complexity, image analysis, among others.",
         "c554c36d80ef8038cf5470f97ed43e20",
         "-291.57258394831376",
         "-230.98031304244324",
         "445.3261701352521",
         "1847.842504339546",
         "0.021182461720415935",
         "3",
         "0"
        ],
        [
         "188",
         "Azure AI Search",
         "Whether you use the REST API or an Azure SDK, the following document operations are supported for data import:\n    Upload (think upsert)\n    merge\n    mergeOrUpload\n    delete",
         "bdbe2a4a955a155903f9cf19afab85cc",
         "-105.33071315220772",
         "-230.98031304244324",
         "445.3261701352521",
         "1847.842504339546",
         "0.021182461720415935",
         "6",
         "0"
        ],
        [
         "162",
         "Home Network Project",
         "Front: What is Service Mesh and how does it enhance microservices architecture?\n\nBack: A Service Mesh is a dedicated infrastructure layer that manages service-to-service communication within a microservices architecture. It provides features like load balancing, service discovery, traffic management, security (encryption and authentication), and observability (monitoring and tracing), enhancing the reliability and efficiency of microservices interactions.",
         "03bc4df7d1342e00025df2324d97907e",
         "-435.0595129282688",
         "-219.76661339689593",
         "435.0595129282688",
         "2197.6661339689595",
         "0.9755984786387755",
         "0",
         "0"
        ]
       ],
       "shape": {
        "columns": 10,
        "rows": 10
       }
      },
      "text/html": [
       "<div>\n",
       "<style scoped>\n",
       "    .dataframe tbody tr th:only-of-type {\n",
       "        vertical-align: middle;\n",
       "    }\n",
       "\n",
       "    .dataframe tbody tr th {\n",
       "        vertical-align: top;\n",
       "    }\n",
       "\n",
       "    .dataframe thead th {\n",
       "        text-align: right;\n",
       "    }\n",
       "</style>\n",
       "<table border=\"1\" class=\"dataframe\">\n",
       "  <thead>\n",
       "    <tr style=\"text-align: right;\">\n",
       "      <th></th>\n",
       "      <th>head</th>\n",
       "      <th>body</th>\n",
       "      <th>hash</th>\n",
       "      <th>age</th>\n",
       "      <th>subject_mean_age</th>\n",
       "      <th>subject_highest_age</th>\n",
       "      <th>subject_age_sum</th>\n",
       "      <th>head_random_roll</th>\n",
       "      <th>count</th>\n",
       "      <th>n_fold</th>\n",
       "    </tr>\n",
       "  </thead>\n",
       "  <tbody>\n",
       "    <tr>\n",
       "      <th>90</th>\n",
       "      <td>DNS</td>\n",
       "      <td>Securing Zone Transfers\\nMeasures taken to pro...</td>\n",
       "      <td>29d80ddfc54d4c7ce2121c00053c35cd</td>\n",
       "      <td>-452.266158</td>\n",
       "      <td>-231.679698</td>\n",
       "      <td>452.266158</td>\n",
       "      <td>3706.875162</td>\n",
       "      <td>0.985712</td>\n",
       "      <td>0</td>\n",
       "      <td>0</td>\n",
       "    </tr>\n",
       "    <tr>\n",
       "      <th>91</th>\n",
       "      <td>DNS</td>\n",
       "      <td>SRV (Service) Records\\nDNS records that specif...</td>\n",
       "      <td>4193eaf48f50e71d6283bb58427c6f60</td>\n",
       "      <td>-332.213528</td>\n",
       "      <td>-231.679698</td>\n",
       "      <td>452.266158</td>\n",
       "      <td>3706.875162</td>\n",
       "      <td>0.985712</td>\n",
       "      <td>3</td>\n",
       "      <td>0</td>\n",
       "    </tr>\n",
       "    <tr>\n",
       "      <th>92</th>\n",
       "      <td>DNS</td>\n",
       "      <td>DNS Policies\\nA feature in Windows DNS Server ...</td>\n",
       "      <td>e14697957838c2353f653a56dac9ac16</td>\n",
       "      <td>-302.449181</td>\n",
       "      <td>-231.679698</td>\n",
       "      <td>452.266158</td>\n",
       "      <td>3706.875162</td>\n",
       "      <td>0.985712</td>\n",
       "      <td>6</td>\n",
       "      <td>0</td>\n",
       "    </tr>\n",
       "    <tr>\n",
       "      <th>93</th>\n",
       "      <td>DNS</td>\n",
       "      <td>DNS Zone Types\\nDifferent types of DNS zones i...</td>\n",
       "      <td>fce7107d54abe9418805d1b01937805d</td>\n",
       "      <td>-163.588856</td>\n",
       "      <td>-231.679698</td>\n",
       "      <td>452.266158</td>\n",
       "      <td>3706.875162</td>\n",
       "      <td>0.985712</td>\n",
       "      <td>9</td>\n",
       "      <td>0</td>\n",
       "    </tr>\n",
       "    <tr>\n",
       "      <th>94</th>\n",
       "      <td>DNS</td>\n",
       "      <td>DNS Manager\\nA graphical administrative tool i...</td>\n",
       "      <td>ec33258f7f93c84f4574e71178066c9b</td>\n",
       "      <td>-103.823388</td>\n",
       "      <td>-231.679698</td>\n",
       "      <td>452.266158</td>\n",
       "      <td>3706.875162</td>\n",
       "      <td>0.985712</td>\n",
       "      <td>12</td>\n",
       "      <td>0</td>\n",
       "    </tr>\n",
       "    <tr>\n",
       "      <th>95</th>\n",
       "      <td>DNS</td>\n",
       "      <td>Stub Zone\\nA DNS zone that contains only essen...</td>\n",
       "      <td>ff86ccf34dc4e0d3a75966d5f4942595</td>\n",
       "      <td>-59.929546</td>\n",
       "      <td>-231.679698</td>\n",
       "      <td>452.266158</td>\n",
       "      <td>3706.875162</td>\n",
       "      <td>0.985712</td>\n",
       "      <td>15</td>\n",
       "      <td>0</td>\n",
       "    </tr>\n",
       "    <tr>\n",
       "      <th>186</th>\n",
       "      <td>Azure AI Search</td>\n",
       "      <td>Push model is an approach that uses APIs to up...</td>\n",
       "      <td>e260075e27bc86ab26b7859dd5dc4058</td>\n",
       "      <td>-445.326170</td>\n",
       "      <td>-230.980313</td>\n",
       "      <td>445.326170</td>\n",
       "      <td>1847.842504</td>\n",
       "      <td>0.021182</td>\n",
       "      <td>0</td>\n",
       "      <td>0</td>\n",
       "    </tr>\n",
       "    <tr>\n",
       "      <th>187</th>\n",
       "      <td>Azure AI Search</td>\n",
       "      <td>Indexers don't have dedicated processing resou...</td>\n",
       "      <td>c554c36d80ef8038cf5470f97ed43e20</td>\n",
       "      <td>-291.572584</td>\n",
       "      <td>-230.980313</td>\n",
       "      <td>445.326170</td>\n",
       "      <td>1847.842504</td>\n",
       "      <td>0.021182</td>\n",
       "      <td>3</td>\n",
       "      <td>0</td>\n",
       "    </tr>\n",
       "    <tr>\n",
       "      <th>188</th>\n",
       "      <td>Azure AI Search</td>\n",
       "      <td>Whether you use the REST API or an Azure SDK, ...</td>\n",
       "      <td>bdbe2a4a955a155903f9cf19afab85cc</td>\n",
       "      <td>-105.330713</td>\n",
       "      <td>-230.980313</td>\n",
       "      <td>445.326170</td>\n",
       "      <td>1847.842504</td>\n",
       "      <td>0.021182</td>\n",
       "      <td>6</td>\n",
       "      <td>0</td>\n",
       "    </tr>\n",
       "    <tr>\n",
       "      <th>162</th>\n",
       "      <td>Home Network Project</td>\n",
       "      <td>Front: What is Service Mesh and how does it en...</td>\n",
       "      <td>03bc4df7d1342e00025df2324d97907e</td>\n",
       "      <td>-435.059513</td>\n",
       "      <td>-219.766613</td>\n",
       "      <td>435.059513</td>\n",
       "      <td>2197.666134</td>\n",
       "      <td>0.975598</td>\n",
       "      <td>0</td>\n",
       "      <td>0</td>\n",
       "    </tr>\n",
       "  </tbody>\n",
       "</table>\n",
       "</div>"
      ],
      "text/plain": [
       "                     head                                               body  \\\n",
       "90                    DNS  Securing Zone Transfers\\nMeasures taken to pro...   \n",
       "91                    DNS  SRV (Service) Records\\nDNS records that specif...   \n",
       "92                    DNS  DNS Policies\\nA feature in Windows DNS Server ...   \n",
       "93                    DNS  DNS Zone Types\\nDifferent types of DNS zones i...   \n",
       "94                    DNS  DNS Manager\\nA graphical administrative tool i...   \n",
       "95                    DNS  Stub Zone\\nA DNS zone that contains only essen...   \n",
       "186       Azure AI Search  Push model is an approach that uses APIs to up...   \n",
       "187       Azure AI Search  Indexers don't have dedicated processing resou...   \n",
       "188       Azure AI Search  Whether you use the REST API or an Azure SDK, ...   \n",
       "162  Home Network Project  Front: What is Service Mesh and how does it en...   \n",
       "\n",
       "                                 hash         age  subject_mean_age  \\\n",
       "90   29d80ddfc54d4c7ce2121c00053c35cd -452.266158       -231.679698   \n",
       "91   4193eaf48f50e71d6283bb58427c6f60 -332.213528       -231.679698   \n",
       "92   e14697957838c2353f653a56dac9ac16 -302.449181       -231.679698   \n",
       "93   fce7107d54abe9418805d1b01937805d -163.588856       -231.679698   \n",
       "94   ec33258f7f93c84f4574e71178066c9b -103.823388       -231.679698   \n",
       "95   ff86ccf34dc4e0d3a75966d5f4942595  -59.929546       -231.679698   \n",
       "186  e260075e27bc86ab26b7859dd5dc4058 -445.326170       -230.980313   \n",
       "187  c554c36d80ef8038cf5470f97ed43e20 -291.572584       -230.980313   \n",
       "188  bdbe2a4a955a155903f9cf19afab85cc -105.330713       -230.980313   \n",
       "162  03bc4df7d1342e00025df2324d97907e -435.059513       -219.766613   \n",
       "\n",
       "     subject_highest_age  subject_age_sum  head_random_roll  count  n_fold  \n",
       "90            452.266158      3706.875162          0.985712      0       0  \n",
       "91            452.266158      3706.875162          0.985712      3       0  \n",
       "92            452.266158      3706.875162          0.985712      6       0  \n",
       "93            452.266158      3706.875162          0.985712      9       0  \n",
       "94            452.266158      3706.875162          0.985712     12       0  \n",
       "95            452.266158      3706.875162          0.985712     15       0  \n",
       "186           445.326170      1847.842504          0.021182      0       0  \n",
       "187           445.326170      1847.842504          0.021182      3       0  \n",
       "188           445.326170      1847.842504          0.021182      6       0  \n",
       "162           435.059513      2197.666134          0.975598      0       0  "
      ]
     },
     "execution_count": 13,
     "metadata": {},
     "output_type": "execute_result"
    }
   ],
   "source": [
    "n=3\n",
    "existing_cards['count'] = existing_cards.sort_values('age', ascending=False).groupby('head').cumcount()\n",
    "existing_cards['n_fold'] = existing_cards['count'] % n\n",
    "\n",
    "existing_cards['subject_mean_age'] = existing_cards['subject_mean_age'] *-1\n",
    "existing_cards['age'] = existing_cards['age'] *-1\n",
    "existing_cards.sort_values(['n_fold', 'subject_mean_age', 'age'], inplace=True)\n",
    "remake_card_document(existing_cards=existing_cards)\n",
    "\n",
    "existing_cards.head(10)\n",
    "\n"
   ]
  },
  {
   "cell_type": "markdown",
   "metadata": {},
   "source": [
    "## Age Max"
   ]
  },
  {
   "cell_type": "code",
   "execution_count": 14,
   "metadata": {},
   "outputs": [],
   "source": [
    "# n = 1\n",
    "# existing_cards['count'] = existing_cards.sort_values('age', ascending=False).groupby('head').cumcount()\n",
    "# existing_cards['n_fold'] = existing_cards['count'] // n\n",
    "\n",
    "# if existing_cards['age'].sum() > 0:\n",
    "#     existing_cards['subject_highest_age'] = existing_cards['subject_highest_age'] *-1\n",
    "#     existing_cards['age'] = existing_cards['age'] *-1\n",
    "# existing_cards.sort_values(['n_fold', 'subject_highest_age', 'age'], inplace=True)\n",
    "\n",
    "# remake_card_document(existing_cards=existing_cards)\n",
    "# existing_cards.head(10)\n"
   ]
  },
  {
   "cell_type": "markdown",
   "metadata": {},
   "source": [
    "## Card Count"
   ]
  },
  {
   "cell_type": "code",
   "execution_count": 15,
   "metadata": {},
   "outputs": [],
   "source": [
    "# n=10\n",
    "# existing_cards['frequency']  = existing_cards.groupby('head').transform('count')['body']\n",
    "# existing_cards['count'] = existing_cards.sort_values('age', ascending=False).groupby('head').cumcount()\n",
    "# existing_cards['n_fold'] = existing_cards['count'] // n\n",
    "\n",
    "# if existing_cards['age'].sum() > 0:\n",
    "#     # existing_cards['neg_subject_highest_age'] = existing_cards['subject_highest_age'] *-1\n",
    "#     existing_cards['neg_age'] = existing_cards['age'] *-1\n",
    "# existing_cards.sort_values(['n_fold', 'frequency', 'neg_age'], inplace=True)\n",
    "# remake_card_document(existing_cards=existing_cards)\n",
    "\n",
    "# existing_cards.head(10)\n",
    "\n"
   ]
  },
  {
   "cell_type": "markdown",
   "metadata": {},
   "source": [
    "\n",
    "## Random"
   ]
  },
  {
   "cell_type": "code",
   "execution_count": 16,
   "metadata": {},
   "outputs": [],
   "source": [
    "# n = 3\n",
    "# existing_cards['count'] = existing_cards.sort_values('age', ascending=False).groupby('head').cumcount()\n",
    "# existing_cards['n_fold'] = existing_cards['count'] % n\n",
    "# existing_cards['age'] *= -1\n",
    "# existing_cards.sort_values(['n_fold', 'head_random_roll', 'age'], inplace=True)\n",
    "# remake_card_document(existing_cards=existing_cards)\n",
    "# existing_cards.head(10)"
   ]
  },
  {
   "cell_type": "code",
   "execution_count": 17,
   "metadata": {},
   "outputs": [
    {
     "data": {
      "text/plain": [
       "head                   DNSDNSDNSDNSDNSDNSAzure AI SearchAzure AI Sear...\n",
       "body                   Securing Zone Transfers\\nMeasures taken to pro...\n",
       "hash                   29d80ddfc54d4c7ce2121c00053c35cd4193eaf48f50e7...\n",
       "age                                                         -2691.559637\n",
       "subject_mean_age                                            -2302.785738\n",
       "subject_highest_age                                          4484.634971\n",
       "subject_age_sum                                             29982.444618\n",
       "head_random_roll                                                6.953415\n",
       "count                                                                 54\n",
       "n_fold                                                                 0\n",
       "dtype: object"
      ]
     },
     "execution_count": 17,
     "metadata": {},
     "output_type": "execute_result"
    }
   ],
   "source": [
    "existing_cards.head(10).sum()"
   ]
  },
  {
   "cell_type": "code",
   "execution_count": 18,
   "metadata": {},
   "outputs": [
    {
     "data": {
      "text/plain": [
       "np.float64(-130.51609218154096)"
      ]
     },
     "execution_count": 18,
     "metadata": {},
     "output_type": "execute_result"
    }
   ],
   "source": [
    "existing_cards['age'].mean()"
   ]
  }
 ],
 "metadata": {
  "kernelspec": {
   "display_name": "Python 3",
   "language": "python",
   "name": "python3"
  },
  "language_info": {
   "codemirror_mode": {
    "name": "ipython",
    "version": 3
   },
   "file_extension": ".py",
   "mimetype": "text/x-python",
   "name": "python",
   "nbconvert_exporter": "python",
   "pygments_lexer": "ipython3",
   "version": "3.11.9"
  }
 },
 "nbformat": 4,
 "nbformat_minor": 2
}
