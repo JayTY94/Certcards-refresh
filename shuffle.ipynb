{
 "cells": [
  {
   "cell_type": "code",
   "execution_count": 59,
   "metadata": {},
   "outputs": [],
   "source": [
    "import re\n",
    "import random\n",
    "import pandas as pd\n",
    "import hashlib"
   ]
  },
  {
   "cell_type": "code",
   "execution_count": 60,
   "metadata": {},
   "outputs": [],
   "source": [
    "with open('certcards2.txt', mode='r', encoding='utf8') as f:\n",
    "    all_cards = f.read()\n",
    "    \n",
    "card_split_pattern = r'\\n\\n\\n\\d+\\n'\n",
    "all_cards = re.split(card_split_pattern, all_cards)\n",
    "# Use re.DOTALL to allow . to match newline characters\n",
    "card_pattern = re.compile(r'(.+?)\\n([\\s\\S]+)', re.DOTALL)\n",
    "cards = [(match.group(1), match.group(2)) for cstring in all_cards if (match := re.search(card_pattern, cstring))]\n",
    "\n",
    "# removing the cards that have no content and trimming\n",
    "cards = [(subject, stripped_content) for subject, content in cards if len(stripped_content := content.strip()) > 5]\n",
    "\n",
    "def hash_string_md5(s):\n",
    "    \"\"\"\n",
    "    Hashes a string using MD5 and returns a truncated hash for efficiency.\n",
    "\n",
    "    Parameters:\n",
    "    - s (str): The input string to hash.\n",
    "\n",
    "    Returns:\n",
    "    - str: The truncated hexadecimal hash string.\n",
    "    \"\"\"\n",
    "    if pd.isnull(s):\n",
    "        return None  # Handle NaN values gracefully\n",
    "    return hashlib.md5(s.encode('utf-8')).hexdigest()\n",
    "\n",
    "\n",
    "def remake_card_document(existing_cards: pd.DataFrame, filename: str='certcards2.txt'):\n",
    "    with open(filename, mode='w', encoding='utf8') as f:\n",
    "        i = 1\n",
    "        for _, row in existing_cards.iterrows():\n",
    "            f.write('\\n'*6)\n",
    "            f.write(str(i)+'\\n')  \n",
    "            f.write(row['head']+'\\n')\n",
    "            f.write(row['body'])\n",
    "            i+=1\n",
    "    print(F\"Cards found: {existing_cards.shape[0]}\")\n",
    "    print(F\"Total card age: {abs(existing_cards['age'].sum()):.2f}\")\n",
    "\n",
    "\n",
    "existing_cards = pd.DataFrame(cards, columns=['head', 'body'])\n",
    "\n",
    "\n",
    "# existing_cards['age'] = [random.random() for _ in existing_cards.index]\n",
    "existing_cards['hash'] = existing_cards['body'].apply(hash_string_md5)\n",
    "existing_cards\n",
    "\n",
    "card_ages = pd.read_json('card_ages.json')\n",
    "card_ages = card_ages.drop_duplicates(subset=['hash'], keep='first')\n",
    "\n",
    "cards_to_age = pd.merge(\n",
    "    left=existing_cards,\n",
    "    right=card_ages[['hash', 'age']],\n",
    "    left_on='hash', right_on='hash',\n",
    "    how='left'\n",
    ")\n",
    "\n",
    "cards_to_age['head'] = cards_to_age['head'].str.strip()\n",
    "\n",
    "if cards_to_age['age'].mean() > 80: age_factor = .5\n",
    "else: age_factor = 1\n",
    "\n",
    "cards_to_age['age'] = cards_to_age['age'].fillna(0)\n",
    "# cards_to_age['age'] = cards_to_age['age'] * age_factor\n",
    "cards_to_age['age'] = cards_to_age['age'] + [random.expovariate(.60) for _ in cards_to_age.index]\n",
    "# cards_to_age['age'] = cards_to_age['age'] * [random.expovariate(1/age_factor) for _ in cards_to_age.index]\n",
    "\n",
    "# Adding priority age growth to cards for upcoming certifications\n",
    "priority_headers = ['Azure Developer Associate']\n",
    "priority_cards_mask = cards_to_age['head'].isin(priority_headers)\n",
    "cards_to_age.loc[priority_cards_mask, 'age'] = cards_to_age.loc[priority_cards_mask, 'age'] * 1.05\n",
    "\n",
    "cards_to_age = cards_to_age.drop_duplicates(subset=['hash'], keep='first')\n",
    "\n",
    "cards_to_age['subject_mean_age'] = cards_to_age.groupby('head')['age'].transform('mean')\n",
    "cards_to_age['subject_highest_age'] = cards_to_age.groupby('head')['age'].transform('max')\n",
    "cards_to_age['subject_age_sum'] = cards_to_age.groupby('head')['age'].transform('sum')\n",
    "cards_to_age['head_random_roll'] = cards_to_age.groupby('head')['head'].transform(lambda x: random.random())\n",
    "\n",
    "\n",
    "cards_to_age.sort_values('hash')[['age', 'head', 'hash']].to_json('card_ages.json', indent=2)\n",
    "\n",
    "existing_cards = cards_to_age"
   ]
  },
  {
   "cell_type": "code",
   "execution_count": 61,
   "metadata": {},
   "outputs": [
    {
     "data": {
      "text/html": [
       "<div>\n",
       "<style scoped>\n",
       "    .dataframe tbody tr th:only-of-type {\n",
       "        vertical-align: middle;\n",
       "    }\n",
       "\n",
       "    .dataframe tbody tr th {\n",
       "        vertical-align: top;\n",
       "    }\n",
       "\n",
       "    .dataframe thead th {\n",
       "        text-align: right;\n",
       "    }\n",
       "</style>\n",
       "<table border=\"1\" class=\"dataframe\">\n",
       "  <thead>\n",
       "    <tr style=\"text-align: right;\">\n",
       "      <th></th>\n",
       "      <th>age_sum</th>\n",
       "      <th>age_mean</th>\n",
       "      <th>age_max</th>\n",
       "      <th>head_count</th>\n",
       "    </tr>\n",
       "  </thead>\n",
       "  <tbody>\n",
       "    <tr>\n",
       "      <th>SharePoint</th>\n",
       "      <td>124.350162</td>\n",
       "      <td>31.087540</td>\n",
       "      <td>38.782406</td>\n",
       "      <td>4</td>\n",
       "    </tr>\n",
       "    <tr>\n",
       "      <th>RAG Project</th>\n",
       "      <td>326.921638</td>\n",
       "      <td>20.432602</td>\n",
       "      <td>38.328028</td>\n",
       "      <td>16</td>\n",
       "    </tr>\n",
       "    <tr>\n",
       "      <th>Azure AD Authentication</th>\n",
       "      <td>566.477336</td>\n",
       "      <td>43.575180</td>\n",
       "      <td>100.238224</td>\n",
       "      <td>13</td>\n",
       "    </tr>\n",
       "    <tr>\n",
       "      <th>IW Migration</th>\n",
       "      <td>591.170146</td>\n",
       "      <td>73.896268</td>\n",
       "      <td>235.038478</td>\n",
       "      <td>8</td>\n",
       "    </tr>\n",
       "    <tr>\n",
       "      <th>Asynchronous Python</th>\n",
       "      <td>621.544146</td>\n",
       "      <td>13.511829</td>\n",
       "      <td>27.692349</td>\n",
       "      <td>46</td>\n",
       "    </tr>\n",
       "    <tr>\n",
       "      <th>Azure DevOps Pipelines</th>\n",
       "      <td>730.299487</td>\n",
       "      <td>28.088442</td>\n",
       "      <td>96.118293</td>\n",
       "      <td>26</td>\n",
       "    </tr>\n",
       "    <tr>\n",
       "      <th>Azure Functions + Visual Studio</th>\n",
       "      <td>816.762182</td>\n",
       "      <td>62.827860</td>\n",
       "      <td>267.689625</td>\n",
       "      <td>13</td>\n",
       "    </tr>\n",
       "    <tr>\n",
       "      <th>Email Auth and Security</th>\n",
       "      <td>855.006665</td>\n",
       "      <td>71.250555</td>\n",
       "      <td>185.621280</td>\n",
       "      <td>12</td>\n",
       "    </tr>\n",
       "    <tr>\n",
       "      <th>Open Source/GitHub</th>\n",
       "      <td>903.746094</td>\n",
       "      <td>56.484131</td>\n",
       "      <td>170.547924</td>\n",
       "      <td>16</td>\n",
       "    </tr>\n",
       "    <tr>\n",
       "      <th>Audit Report Tracker (Sharepoint List)</th>\n",
       "      <td>1073.891570</td>\n",
       "      <td>89.490964</td>\n",
       "      <td>363.337475</td>\n",
       "      <td>12</td>\n",
       "    </tr>\n",
       "    <tr>\n",
       "      <th>WSL + Kali Linux</th>\n",
       "      <td>1271.789408</td>\n",
       "      <td>90.842101</td>\n",
       "      <td>302.801148</td>\n",
       "      <td>14</td>\n",
       "    </tr>\n",
       "    <tr>\n",
       "      <th>Debugging in VS Code</th>\n",
       "      <td>1355.307838</td>\n",
       "      <td>71.331991</td>\n",
       "      <td>389.814634</td>\n",
       "      <td>19</td>\n",
       "    </tr>\n",
       "    <tr>\n",
       "      <th>Azure Functions + PP365</th>\n",
       "      <td>1504.525040</td>\n",
       "      <td>71.644050</td>\n",
       "      <td>186.124053</td>\n",
       "      <td>21</td>\n",
       "    </tr>\n",
       "    <tr>\n",
       "      <th>Terraform</th>\n",
       "      <td>1654.146281</td>\n",
       "      <td>66.165851</td>\n",
       "      <td>298.034773</td>\n",
       "      <td>25</td>\n",
       "    </tr>\n",
       "    <tr>\n",
       "      <th>Todd Ideas</th>\n",
       "      <td>1693.694547</td>\n",
       "      <td>112.912970</td>\n",
       "      <td>395.797846</td>\n",
       "      <td>15</td>\n",
       "    </tr>\n",
       "    <tr>\n",
       "      <th>FSLogix</th>\n",
       "      <td>2097.683433</td>\n",
       "      <td>91.203628</td>\n",
       "      <td>307.372952</td>\n",
       "      <td>23</td>\n",
       "    </tr>\n",
       "    <tr>\n",
       "      <th>Python</th>\n",
       "      <td>2610.443000</td>\n",
       "      <td>55.541340</td>\n",
       "      <td>151.890327</td>\n",
       "      <td>47</td>\n",
       "    </tr>\n",
       "    <tr>\n",
       "      <th>Powershell Modules</th>\n",
       "      <td>2784.379244</td>\n",
       "      <td>63.281346</td>\n",
       "      <td>214.021620</td>\n",
       "      <td>44</td>\n",
       "    </tr>\n",
       "    <tr>\n",
       "      <th>PnP PowerShell</th>\n",
       "      <td>3200.991604</td>\n",
       "      <td>44.458217</td>\n",
       "      <td>398.449396</td>\n",
       "      <td>72</td>\n",
       "    </tr>\n",
       "    <tr>\n",
       "      <th>Logging in Python</th>\n",
       "      <td>3387.467036</td>\n",
       "      <td>96.784772</td>\n",
       "      <td>370.918050</td>\n",
       "      <td>35</td>\n",
       "    </tr>\n",
       "    <tr>\n",
       "      <th>Azure Developer Associate</th>\n",
       "      <td>3651.566906</td>\n",
       "      <td>52.165242</td>\n",
       "      <td>360.019017</td>\n",
       "      <td>70</td>\n",
       "    </tr>\n",
       "    <tr>\n",
       "      <th>JavaScript Concepts</th>\n",
       "      <td>3688.530012</td>\n",
       "      <td>69.594906</td>\n",
       "      <td>323.459958</td>\n",
       "      <td>53</td>\n",
       "    </tr>\n",
       "    <tr>\n",
       "      <th>Vocab</th>\n",
       "      <td>4047.232356</td>\n",
       "      <td>47.614498</td>\n",
       "      <td>330.558447</td>\n",
       "      <td>85</td>\n",
       "    </tr>\n",
       "  </tbody>\n",
       "</table>\n",
       "</div>"
      ],
      "text/plain": [
       "                                            age_sum    age_mean     age_max  \\\n",
       "SharePoint                               124.350162   31.087540   38.782406   \n",
       "RAG Project                              326.921638   20.432602   38.328028   \n",
       "Azure AD Authentication                  566.477336   43.575180  100.238224   \n",
       "IW Migration                             591.170146   73.896268  235.038478   \n",
       "Asynchronous Python                      621.544146   13.511829   27.692349   \n",
       "Azure DevOps Pipelines                   730.299487   28.088442   96.118293   \n",
       "Azure Functions + Visual Studio          816.762182   62.827860  267.689625   \n",
       "Email Auth and Security                  855.006665   71.250555  185.621280   \n",
       "Open Source/GitHub                       903.746094   56.484131  170.547924   \n",
       "Audit Report Tracker (Sharepoint List)  1073.891570   89.490964  363.337475   \n",
       "WSL + Kali Linux                        1271.789408   90.842101  302.801148   \n",
       "Debugging in VS Code                    1355.307838   71.331991  389.814634   \n",
       "Azure Functions + PP365                 1504.525040   71.644050  186.124053   \n",
       "Terraform                               1654.146281   66.165851  298.034773   \n",
       "Todd Ideas                              1693.694547  112.912970  395.797846   \n",
       "FSLogix                                 2097.683433   91.203628  307.372952   \n",
       "Python                                  2610.443000   55.541340  151.890327   \n",
       "Powershell Modules                      2784.379244   63.281346  214.021620   \n",
       "PnP PowerShell                          3200.991604   44.458217  398.449396   \n",
       "Logging in Python                       3387.467036   96.784772  370.918050   \n",
       "Azure Developer Associate               3651.566906   52.165242  360.019017   \n",
       "JavaScript Concepts                     3688.530012   69.594906  323.459958   \n",
       "Vocab                                   4047.232356   47.614498  330.558447   \n",
       "\n",
       "                                        head_count  \n",
       "SharePoint                                       4  \n",
       "RAG Project                                     16  \n",
       "Azure AD Authentication                         13  \n",
       "IW Migration                                     8  \n",
       "Asynchronous Python                             46  \n",
       "Azure DevOps Pipelines                          26  \n",
       "Azure Functions + Visual Studio                 13  \n",
       "Email Auth and Security                         12  \n",
       "Open Source/GitHub                              16  \n",
       "Audit Report Tracker (Sharepoint List)          12  \n",
       "WSL + Kali Linux                                14  \n",
       "Debugging in VS Code                            19  \n",
       "Azure Functions + PP365                         21  \n",
       "Terraform                                       25  \n",
       "Todd Ideas                                      15  \n",
       "FSLogix                                         23  \n",
       "Python                                          47  \n",
       "Powershell Modules                              44  \n",
       "PnP PowerShell                                  72  \n",
       "Logging in Python                               35  \n",
       "Azure Developer Associate                       70  \n",
       "JavaScript Concepts                             53  \n",
       "Vocab                                           85  "
      ]
     },
     "execution_count": 61,
     "metadata": {},
     "output_type": "execute_result"
    }
   ],
   "source": [
    "stats = existing_cards.groupby('head').agg({'age': ['sum', 'mean', 'max'], 'head': 'count'}).sort_values(('age', 'sum'))\n",
    "stats.columns = stats.columns.to_flat_index()\n",
    "stats.columns = ['_'.join(col).strip() for col in stats.columns]\n",
    "stats.index.name = None\n",
    "stats"
   ]
  },
  {
   "cell_type": "markdown",
   "metadata": {},
   "source": [
    "# Histogram"
   ]
  },
  {
   "cell_type": "code",
   "execution_count": 62,
   "metadata": {},
   "outputs": [
    {
     "name": "stdout",
     "output_type": "stream",
     "text": [
      "sum of ages: ~39557.93\n"
     ]
    },
    {
     "data": {
      "text/plain": [
       "<Axes: >"
      ]
     },
     "execution_count": 62,
     "metadata": {},
     "output_type": "execute_result"
    },
    {
     "data": {
      "image/png": "[encoded data removed]",
      "text/plain": [
       "<Figure size 640x480 with 1 Axes>"
      ]
     },
     "metadata": {},
     "output_type": "display_data"
    }
   ],
   "source": [
    "print(f\"sum of ages: ~{existing_cards['age'].sum(0):.2f}\")\n",
    "existing_cards['age'].hist(bins=20)"
   ]
  },
  {
   "cell_type": "markdown",
   "metadata": {},
   "source": [
    "# Completely Random Shuffle"
   ]
  },
  {
   "cell_type": "code",
   "execution_count": 63,
   "metadata": {},
   "outputs": [],
   "source": [
    "# existing_cards = existing_cards.sample(frac=1)\n",
    "# remake_card_document(filename='certcards2.txt', existing_cards = existing_cards)"
   ]
  },
  {
   "cell_type": "markdown",
   "metadata": {},
   "source": [
    "# Age Sort"
   ]
  },
  {
   "cell_type": "code",
   "execution_count": 64,
   "metadata": {},
   "outputs": [],
   "source": [
    "# existing_cards = existing_cards.sort_values('age', ascending=False)\n",
    "# remake_card_document(filename='certcards2.txt', existing_cards=existing_cards)\n",
    "# existing_cards.head(10)"
   ]
  },
  {
   "cell_type": "markdown",
   "metadata": {},
   "source": [
    "# Headers with fewest notes first"
   ]
  },
  {
   "cell_type": "code",
   "execution_count": 65,
   "metadata": {},
   "outputs": [],
   "source": [
    "# frequency = existing_cards['head'].value_counts(ascending=True)\n",
    "\n",
    "# existing_cards = pd.merge(\n",
    "#     left=existing_cards,\n",
    "#     right=frequency.rename('frequency'),\n",
    "#     left_on='head', right_index=True,\n",
    "#     how='left'\n",
    "# )\n",
    "# existing_cards['oldest'] = existing_cards.groupby('head')['age'].transform('max')\n",
    "# existing_cards['subject_highest_age'] = existing_cards['subject_highest_age'] * -1\n",
    "# existing_cards['age'] = existing_cards['age'] * -1\n",
    "\n",
    "\n",
    "# existing_cards.sort_values(['frequency', 'subject_highest_age', 'age'], ascending=True, inplace=True)\n",
    "\n",
    "# remake_card_document(filename='certcards2.txt', existing_cards=existing_cards)\n",
    "\n",
    "# existing_cards.head(10)"
   ]
  },
  {
   "cell_type": "markdown",
   "metadata": {},
   "source": [
    "# Focus on one header"
   ]
  },
  {
   "cell_type": "code",
   "execution_count": 66,
   "metadata": {},
   "outputs": [],
   "source": [
    "# heads = existing_cards['head'].value_counts()\n",
    "# heads = heads[heads > 5].index.tolist()\n",
    "# one_header = random.sample(heads, 1)[0]\n",
    "# existing_cards['pick_head'] = existing_cards['head'].apply(\n",
    "#     lambda h: 0 if h == one_header else 1 \n",
    "# )\n",
    "\n",
    "# remake_card_document(existing_cards=existing_cards.sort_values('pick_head'))"
   ]
  },
  {
   "cell_type": "markdown",
   "metadata": {},
   "source": [
    "## Header with oldest cards first"
   ]
  },
  {
   "cell_type": "code",
   "execution_count": 67,
   "metadata": {},
   "outputs": [],
   "source": [
    "# existing_cards['oldest'] = existing_cards.groupby('head')['age'].transform('max')\n",
    "# existing_cards.sort_values(['oldest', 'age'], ascending=False, inplace=True)\n",
    "# remake_card_document(existing_cards)"
   ]
  },
  {
   "cell_type": "markdown",
   "metadata": {},
   "source": [
    "## Headers with greatest mean card age first"
   ]
  },
  {
   "cell_type": "code",
   "execution_count": 68,
   "metadata": {},
   "outputs": [],
   "source": [
    "# existing_cards.sort_values(['subject_mean_age', 'age'], ascending=False, inplace=True)\n",
    "# remake_card_document(existing_cards)"
   ]
  },
  {
   "cell_type": "markdown",
   "metadata": {},
   "source": [
    "## Headers with greatest age sum first"
   ]
  },
  {
   "cell_type": "code",
   "execution_count": 69,
   "metadata": {},
   "outputs": [],
   "source": [
    "# existing_cards.sort_values(['subject_age_sum', 'age'], ascending=False, inplace=True)\n",
    "# remake_card_document(existing_cards)"
   ]
  },
  {
   "cell_type": "markdown",
   "metadata": {},
   "source": [
    "# N-fold shuffle\n"
   ]
  },
  {
   "cell_type": "markdown",
   "metadata": {},
   "source": [
    "## Age Sum"
   ]
  },
  {
   "cell_type": "code",
   "execution_count": 70,
   "metadata": {},
   "outputs": [
    {
     "name": "stdout",
     "output_type": "stream",
     "text": [
      "Cards found: 689\n",
      "Total card age: 39557.93\n"
     ]
    },
    {
     "data": {
      "text/html": [
       "<div>\n",
       "<style scoped>\n",
       "    .dataframe tbody tr th:only-of-type {\n",
       "        vertical-align: middle;\n",
       "    }\n",
       "\n",
       "    .dataframe tbody tr th {\n",
       "        vertical-align: top;\n",
       "    }\n",
       "\n",
       "    .dataframe thead th {\n",
       "        text-align: right;\n",
       "    }\n",
       "</style>\n",
       "<table border=\"1\" class=\"dataframe\">\n",
       "  <thead>\n",
       "    <tr style=\"text-align: right;\">\n",
       "      <th></th>\n",
       "      <th>head</th>\n",
       "      <th>body</th>\n",
       "      <th>hash</th>\n",
       "      <th>age</th>\n",
       "      <th>subject_mean_age</th>\n",
       "      <th>subject_highest_age</th>\n",
       "      <th>subject_age_sum</th>\n",
       "      <th>head_random_roll</th>\n",
       "      <th>count</th>\n",
       "      <th>n_fold</th>\n",
       "    </tr>\n",
       "  </thead>\n",
       "  <tbody>\n",
       "    <tr>\n",
       "      <th>7</th>\n",
       "      <td>Vocab</td>\n",
       "      <td>Do Androids Dream of Electric Sheep?\\nVagus ne...</td>\n",
       "      <td>0ae5fe88c3f89aa19da80865de73c5f4</td>\n",
       "      <td>-330.558447</td>\n",
       "      <td>47.614498</td>\n",
       "      <td>330.558447</td>\n",
       "      <td>-4047.232356</td>\n",
       "      <td>0.009891</td>\n",
       "      <td>0</td>\n",
       "      <td>0</td>\n",
       "    </tr>\n",
       "    <tr>\n",
       "      <th>34</th>\n",
       "      <td>Vocab</td>\n",
       "      <td>Interval Funds Offer Limited Liquidity:\\nInter...</td>\n",
       "      <td>257eeaf3b558fa10a1da09d98c109906</td>\n",
       "      <td>-210.160438</td>\n",
       "      <td>47.614498</td>\n",
       "      <td>330.558447</td>\n",
       "      <td>-4047.232356</td>\n",
       "      <td>0.009891</td>\n",
       "      <td>3</td>\n",
       "      <td>0</td>\n",
       "    </tr>\n",
       "    <tr>\n",
       "      <th>83</th>\n",
       "      <td>Vocab</td>\n",
       "      <td>Do Androids Dream of Electric Sheep?\\nBucolic ...</td>\n",
       "      <td>0e5ceb6a0c8c8198d7c41cdccdbda588</td>\n",
       "      <td>-121.331647</td>\n",
       "      <td>47.614498</td>\n",
       "      <td>330.558447</td>\n",
       "      <td>-4047.232356</td>\n",
       "      <td>0.009891</td>\n",
       "      <td>6</td>\n",
       "      <td>0</td>\n",
       "    </tr>\n",
       "    <tr>\n",
       "      <th>117</th>\n",
       "      <td>Vocab</td>\n",
       "      <td>Lost in a Good Book\\n(Chicken) vol-au-vent: A ...</td>\n",
       "      <td>4c9ab672758c153bcb451ce303b71ddb</td>\n",
       "      <td>-89.311990</td>\n",
       "      <td>47.614498</td>\n",
       "      <td>330.558447</td>\n",
       "      <td>-4047.232356</td>\n",
       "      <td>0.009891</td>\n",
       "      <td>9</td>\n",
       "      <td>0</td>\n",
       "    </tr>\n",
       "    <tr>\n",
       "      <th>127</th>\n",
       "      <td>Vocab</td>\n",
       "      <td>Jane Eyre\\nPost-chaise\\n(POST-shayz) A lightwe...</td>\n",
       "      <td>2f83ab3b803d1836d46fcab26d6169b3</td>\n",
       "      <td>-84.558057</td>\n",
       "      <td>47.614498</td>\n",
       "      <td>330.558447</td>\n",
       "      <td>-4047.232356</td>\n",
       "      <td>0.009891</td>\n",
       "      <td>12</td>\n",
       "      <td>0</td>\n",
       "    </tr>\n",
       "    <tr>\n",
       "      <th>137</th>\n",
       "      <td>Vocab</td>\n",
       "      <td>Scriptorium\\nnoun\\nSPA: skrip-TOR-ee-um\\nIPA: ...</td>\n",
       "      <td>d72ce0387b7ae9f9f32fe40224182d7a</td>\n",
       "      <td>-79.624554</td>\n",
       "      <td>47.614498</td>\n",
       "      <td>330.558447</td>\n",
       "      <td>-4047.232356</td>\n",
       "      <td>0.009891</td>\n",
       "      <td>15</td>\n",
       "      <td>0</td>\n",
       "    </tr>\n",
       "    <tr>\n",
       "      <th>166</th>\n",
       "      <td>Vocab</td>\n",
       "      <td>Do Androids Dream of Electric Sheep?\\nInguinal...</td>\n",
       "      <td>e5852f5933ec959f9081d52468f7a464</td>\n",
       "      <td>-71.012451</td>\n",
       "      <td>47.614498</td>\n",
       "      <td>330.558447</td>\n",
       "      <td>-4047.232356</td>\n",
       "      <td>0.009891</td>\n",
       "      <td>18</td>\n",
       "      <td>0</td>\n",
       "    </tr>\n",
       "    <tr>\n",
       "      <th>181</th>\n",
       "      <td>Vocab</td>\n",
       "      <td>Do Androids Dream of Electric Sheep?\\nCephalic...</td>\n",
       "      <td>bed98a72b73c56d09cdc7a0dc5285350</td>\n",
       "      <td>-67.357461</td>\n",
       "      <td>47.614498</td>\n",
       "      <td>330.558447</td>\n",
       "      <td>-4047.232356</td>\n",
       "      <td>0.009891</td>\n",
       "      <td>21</td>\n",
       "      <td>0</td>\n",
       "    </tr>\n",
       "    <tr>\n",
       "      <th>206</th>\n",
       "      <td>Vocab</td>\n",
       "      <td>Lost in a Good Book\\nImpresario: A manager or ...</td>\n",
       "      <td>56358120163d93a4e7e6b8277ba3efcf</td>\n",
       "      <td>-57.664516</td>\n",
       "      <td>47.614498</td>\n",
       "      <td>330.558447</td>\n",
       "      <td>-4047.232356</td>\n",
       "      <td>0.009891</td>\n",
       "      <td>24</td>\n",
       "      <td>0</td>\n",
       "    </tr>\n",
       "    <tr>\n",
       "      <th>252</th>\n",
       "      <td>Vocab</td>\n",
       "      <td>Interval Funds Invest in Less Liquid Assets:\\n...</td>\n",
       "      <td>fc0e10d964e802208a47de090926af3f</td>\n",
       "      <td>-47.547911</td>\n",
       "      <td>47.614498</td>\n",
       "      <td>330.558447</td>\n",
       "      <td>-4047.232356</td>\n",
       "      <td>0.009891</td>\n",
       "      <td>27</td>\n",
       "      <td>0</td>\n",
       "    </tr>\n",
       "  </tbody>\n",
       "</table>\n",
       "</div>"
      ],
      "text/plain": [
       "      head                                               body  \\\n",
       "7    Vocab  Do Androids Dream of Electric Sheep?\\nVagus ne...   \n",
       "34   Vocab  Interval Funds Offer Limited Liquidity:\\nInter...   \n",
       "83   Vocab  Do Androids Dream of Electric Sheep?\\nBucolic ...   \n",
       "117  Vocab  Lost in a Good Book\\n(Chicken) vol-au-vent: A ...   \n",
       "127  Vocab  Jane Eyre\\nPost-chaise\\n(POST-shayz) A lightwe...   \n",
       "137  Vocab  Scriptorium\\nnoun\\nSPA: skrip-TOR-ee-um\\nIPA: ...   \n",
       "166  Vocab  Do Androids Dream of Electric Sheep?\\nInguinal...   \n",
       "181  Vocab  Do Androids Dream of Electric Sheep?\\nCephalic...   \n",
       "206  Vocab  Lost in a Good Book\\nImpresario: A manager or ...   \n",
       "252  Vocab  Interval Funds Invest in Less Liquid Assets:\\n...   \n",
       "\n",
       "                                 hash         age  subject_mean_age  \\\n",
       "7    0ae5fe88c3f89aa19da80865de73c5f4 -330.558447         47.614498   \n",
       "34   257eeaf3b558fa10a1da09d98c109906 -210.160438         47.614498   \n",
       "83   0e5ceb6a0c8c8198d7c41cdccdbda588 -121.331647         47.614498   \n",
       "117  4c9ab672758c153bcb451ce303b71ddb  -89.311990         47.614498   \n",
       "127  2f83ab3b803d1836d46fcab26d6169b3  -84.558057         47.614498   \n",
       "137  d72ce0387b7ae9f9f32fe40224182d7a  -79.624554         47.614498   \n",
       "166  e5852f5933ec959f9081d52468f7a464  -71.012451         47.614498   \n",
       "181  bed98a72b73c56d09cdc7a0dc5285350  -67.357461         47.614498   \n",
       "206  56358120163d93a4e7e6b8277ba3efcf  -57.664516         47.614498   \n",
       "252  fc0e10d964e802208a47de090926af3f  -47.547911         47.614498   \n",
       "\n",
       "     subject_highest_age  subject_age_sum  head_random_roll  count  n_fold  \n",
       "7             330.558447     -4047.232356          0.009891      0       0  \n",
       "34            330.558447     -4047.232356          0.009891      3       0  \n",
       "83            330.558447     -4047.232356          0.009891      6       0  \n",
       "117           330.558447     -4047.232356          0.009891      9       0  \n",
       "127           330.558447     -4047.232356          0.009891     12       0  \n",
       "137           330.558447     -4047.232356          0.009891     15       0  \n",
       "166           330.558447     -4047.232356          0.009891     18       0  \n",
       "181           330.558447     -4047.232356          0.009891     21       0  \n",
       "206           330.558447     -4047.232356          0.009891     24       0  \n",
       "252           330.558447     -4047.232356          0.009891     27       0  "
      ]
     },
     "execution_count": 70,
     "metadata": {},
     "output_type": "execute_result"
    }
   ],
   "source": [
    "n=3\n",
    "existing_cards['count'] = existing_cards.sort_values('age', ascending=False).groupby('head').cumcount()\n",
    "existing_cards['n_fold'] = existing_cards['count'] % n\n",
    "\n",
    "existing_cards['subject_age_sum'] = existing_cards['subject_age_sum'] *-1\n",
    "existing_cards['age'] = existing_cards['age'] *-1\n",
    "existing_cards.sort_values(['n_fold', 'subject_age_sum', 'age'], inplace=True)\n",
    "\n",
    "remake_card_document(existing_cards=existing_cards)\n",
    "existing_cards.head(10)\n"
   ]
  },
  {
   "cell_type": "markdown",
   "metadata": {},
   "source": [
    "## Age Mean"
   ]
  },
  {
   "cell_type": "code",
   "execution_count": 71,
   "metadata": {},
   "outputs": [],
   "source": [
    "# n=3\n",
    "# existing_cards['count'] = existing_cards.sort_values('age', ascending=False).groupby('head').cumcount()\n",
    "# existing_cards['n_fold'] = existing_cards['count'] % n\n",
    "\n",
    "# existing_cards['subject_mean_age'] = existing_cards['subject_mean_age'] *-1\n",
    "# existing_cards['age'] = existing_cards['age'] *-1\n",
    "# existing_cards.sort_values(['n_fold', 'subject_mean_age', 'age'], inplace=True)\n",
    "# remake_card_document(existing_cards=existing_cards)\n",
    "\n",
    "# existing_cards.head(10)\n",
    "\n"
   ]
  },
  {
   "cell_type": "markdown",
   "metadata": {},
   "source": [
    "## Age Max"
   ]
  },
  {
   "cell_type": "code",
   "execution_count": 72,
   "metadata": {},
   "outputs": [],
   "source": [
    "# n = 1\n",
    "# existing_cards['count'] = existing_cards.sort_values('age', ascending=False).groupby('head').cumcount()\n",
    "# existing_cards['n_fold'] = existing_cards['count'] // n\n",
    "\n",
    "# if existing_cards['age'].sum() > 0:\n",
    "#     existing_cards['subject_highest_age'] = existing_cards['subject_highest_age'] *-1\n",
    "#     existing_cards['age'] = existing_cards['age'] *-1\n",
    "# # existing_cards.sort_values(['n_fold', 'subject_highest_age', 'age'], inplace=True)\n",
    "# existing_cards.sort_values(['age'], inplace=True)\n",
    "\n",
    "# remake_card_document(existing_cards=existing_cards)\n",
    "# existing_cards.head(10)\n"
   ]
  },
  {
   "cell_type": "markdown",
   "metadata": {},
   "source": [
    "## Card Count"
   ]
  },
  {
   "cell_type": "code",
   "execution_count": 73,
   "metadata": {},
   "outputs": [],
   "source": [
    "# n=10\n",
    "# existing_cards['frequency']  = existing_cards.groupby('head').transform('count')['body']\n",
    "# existing_cards['count'] = existing_cards.sort_values('age', ascending=False).groupby('head').cumcount()\n",
    "# existing_cards['n_fold'] = existing_cards['count'] // n\n",
    "\n",
    "# if existing_cards['age'].sum() > 0:\n",
    "#     # existing_cards['neg_subject_highest_age'] = existing_cards['subject_highest_age'] *-1\n",
    "#     existing_cards['neg_age'] = existing_cards['age'] *-1\n",
    "# existing_cards.sort_values(['n_fold', 'frequency', 'neg_age'], inplace=True)\n",
    "# remake_card_document(existing_cards=existing_cards)\n",
    "\n",
    "# existing_cards.head(10)\n",
    "\n"
   ]
  },
  {
   "cell_type": "markdown",
   "metadata": {},
   "source": [
    "\n",
    "## Random"
   ]
  },
  {
   "cell_type": "code",
   "execution_count": 74,
   "metadata": {},
   "outputs": [],
   "source": [
    "# n = 3\n",
    "# existing_cards['count'] = existing_cards.sort_values('age', ascending=False).groupby('head').cumcount()\n",
    "# existing_cards['n_fold'] = existing_cards['count'] % n\n",
    "# existing_cards['age'] *= -1\n",
    "# existing_cards.sort_values(['n_fold', 'head_random_roll', 'age'], inplace=True)\n",
    "# remake_card_document(existing_cards=existing_cards)\n",
    "# existing_cards.head(10)"
   ]
  },
  {
   "cell_type": "code",
   "execution_count": 75,
   "metadata": {},
   "outputs": [
    {
     "data": {
      "text/plain": [
       "head                   VocabVocabVocabVocabVocabVocabVocabVocabVocabV...\n",
       "body                   Do Androids Dream of Electric Sheep?\\nVagus ne...\n",
       "hash                   0ae5fe88c3f89aa19da80865de73c5f4257eeaf3b558fa...\n",
       "age                                                         -1159.127473\n",
       "subject_mean_age                                              476.144983\n",
       "subject_highest_age                                          3305.584472\n",
       "subject_age_sum                                            -40472.323559\n",
       "head_random_roll                                                0.098906\n",
       "count                                                                135\n",
       "n_fold                                                                 0\n",
       "dtype: object"
      ]
     },
     "execution_count": 75,
     "metadata": {},
     "output_type": "execute_result"
    }
   ],
   "source": [
    "existing_cards.head(10).sum()"
   ]
  },
  {
   "cell_type": "code",
   "execution_count": 76,
   "metadata": {},
   "outputs": [
    {
     "data": {
      "text/plain": [
       "-57.4135357487324"
      ]
     },
     "execution_count": 76,
     "metadata": {},
     "output_type": "execute_result"
    }
   ],
   "source": [
    "existing_cards['age'].mean()"
   ]
  }
 ],
 "metadata": {
  "kernelspec": {
   "display_name": "Python 3",
   "language": "python",
   "name": "python3"
  },
  "language_info": {
   "codemirror_mode": {
    "name": "ipython",
    "version": 3
   },
   "file_extension": ".py",
   "mimetype": "text/x-python",
   "name": "python",
   "nbconvert_exporter": "python",
   "pygments_lexer": "ipython3",
   "version": "3.10.10"
  }
 },
 "nbformat": 4,
 "nbformat_minor": 2
}
