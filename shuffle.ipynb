{
 "cells": [
  {
   "cell_type": "code",
   "execution_count": 3,
   "metadata": {},
   "outputs": [],
   "source": [
    "import re\n",
    "import random\n",
    "import pandas as pd\n",
    "import hashlib"
   ]
  },
  {
   "cell_type": "code",
   "execution_count": 129,
   "metadata": {},
   "outputs": [],
   "source": [
    "with open('certcards2.txt', mode='r', encoding='utf8') as f:\n",
    "    all_cards = f.read()\n",
    "    \n",
    "card_split_pattern = r'\\n\\n\\n\\d+\\n'\n",
    "all_cards = re.split(card_split_pattern, all_cards)\n",
    "# Use re.DOTALL to allow . to match newline characters\n",
    "card_pattern = re.compile(r'(.+?)\\n([\\s\\S]+)', re.DOTALL)\n",
    "cards = [(match.group(1), match.group(2)) for cstring in all_cards if (match := re.search(card_pattern, cstring))]\n",
    "\n",
    "# removing the cards that have no content and trimming\n",
    "cards = [(subject, stripped_content) for subject, content in cards if len(stripped_content := content.strip()) > 5]\n",
    "\n",
    "def hash_string_md5(s):\n",
    "    \"\"\"\n",
    "    Hashes a string using MD5 and returns a truncated hash for efficiency.\n",
    "\n",
    "    Parameters:\n",
    "    - s (str): The input string to hash.\n",
    "\n",
    "    Returns:\n",
    "    - str: The truncated hexadecimal hash string.\n",
    "    \"\"\"\n",
    "    if pd.isnull(s):\n",
    "        return None  # Handle NaN values gracefully\n",
    "    return hashlib.md5(s.encode('utf-8')).hexdigest()  # Truncate to first 12 characters\n",
    "\n",
    "\n",
    "def remake_card_document(existing_cards: pd.DataFrame, filename: str='certcards2.txt'):\n",
    "    with open(filename, mode='w', encoding='utf8') as f:\n",
    "        i = 1\n",
    "        for _, row in existing_cards.iterrows():\n",
    "            f.write('\\n'*6)\n",
    "            f.write(str(i)+'\\n')  \n",
    "            f.write(row['head']+'\\n')\n",
    "            f.write(row['body'])\n",
    "            i+=1\n",
    "    print(F\"Cards found: {existing_cards.shape[0]}\")\n",
    "\n",
    "\n",
    "existing_cards = pd.DataFrame(cards, columns=['head', 'body'])\n",
    "\n",
    "\n",
    "# existing_cards['age'] = [random.random() for _ in existing_cards.index]\n",
    "existing_cards['hash'] = existing_cards['body'].apply(hash_string_md5)\n",
    "existing_cards\n",
    "\n",
    "card_ages = pd.read_json('card_ages.json')\n",
    "card_ages = card_ages.drop_duplicates(subset=['hash'], keep='first')\n",
    "\n",
    "cards_to_age = pd.merge(\n",
    "    left=existing_cards,\n",
    "    right=card_ages[['hash', 'age']],\n",
    "    left_on='hash', right_on='hash',\n",
    "    how='left'\n",
    ")\n",
    "\n",
    "cards_to_age['head'] = cards_to_age['head'].str.strip()\n",
    "\n",
    "if cards_to_age['age'].sum() > 2e4: age_factor = 1\n",
    "else: age_factor = 1.00\n",
    "\n",
    "cards_to_age['age'] = cards_to_age['age'].fillna(0)\n",
    "cards_to_age['age'] = cards_to_age['age'] * age_factor\n",
    "cards_to_age['age'] = cards_to_age['age'] + [random.expovariate(.75) for _ in cards_to_age.index]\n",
    "\n",
    "cards_to_age = cards_to_age.drop_duplicates(subset=['hash'], keep='first')\n",
    "\n",
    "cards_to_age['subject_mean_age'] = cards_to_age.groupby('head')['age'].transform('mean')\n",
    "cards_to_age['subject_highest_age'] = cards_to_age.groupby('head')['age'].transform('max')\n",
    "cards_to_age['subject_age_sum'] = cards_to_age.groupby('head')['age'].transform('sum')\n",
    "cards_to_age['head_random_roll'] = cards_to_age.groupby('head')['head'].transform(lambda x: random.random())\n",
    "\n",
    "\n",
    "cards_to_age.sort_values('age')[['age', 'head', 'hash']].to_json('card_ages.json', indent=2)\n",
    "\n",
    "existing_cards = cards_to_age"
   ]
  },
  {
   "cell_type": "code",
   "execution_count": 29,
   "metadata": {},
   "outputs": [
    {
     "data": {
      "text/plain": [
       "<Axes: >"
      ]
     },
     "execution_count": 29,
     "metadata": {},
     "output_type": "execute_result"
    },
    {
     "data": {
      "image/png": "[encoded data removed]",
      "text/plain": [
       "<Figure size 640x480 with 1 Axes>"
      ]
     },
     "metadata": {},
     "output_type": "display_data"
    }
   ],
   "source": [
    "pd.Series([random.expovariate(.75) for x in range(440)]).hist()"
   ]
  },
  {
   "cell_type": "code",
   "execution_count": 130,
   "metadata": {},
   "outputs": [
    {
     "data": {
      "text/html": [
       "<div>\n",
       "<style scoped>\n",
       "    .dataframe tbody tr th:only-of-type {\n",
       "        vertical-align: middle;\n",
       "    }\n",
       "\n",
       "    .dataframe tbody tr th {\n",
       "        vertical-align: top;\n",
       "    }\n",
       "\n",
       "    .dataframe thead th {\n",
       "        text-align: right;\n",
       "    }\n",
       "</style>\n",
       "<table border=\"1\" class=\"dataframe\">\n",
       "  <thead>\n",
       "    <tr style=\"text-align: right;\">\n",
       "      <th></th>\n",
       "      <th>age_sum</th>\n",
       "      <th>age_mean</th>\n",
       "      <th>head_count</th>\n",
       "    </tr>\n",
       "  </thead>\n",
       "  <tbody>\n",
       "    <tr>\n",
       "      <th>DNS Policies</th>\n",
       "      <td>0.784151</td>\n",
       "      <td>0.784151</td>\n",
       "      <td>1</td>\n",
       "    </tr>\n",
       "    <tr>\n",
       "      <th>CDK Global Ransomeware, June 2024</th>\n",
       "      <td>57.698264</td>\n",
       "      <td>7.212283</td>\n",
       "      <td>8</td>\n",
       "    </tr>\n",
       "    <tr>\n",
       "      <th>Finance Junk</th>\n",
       "      <td>65.771448</td>\n",
       "      <td>8.221431</td>\n",
       "      <td>8</td>\n",
       "    </tr>\n",
       "    <tr>\n",
       "      <th>Azure AI Foundry</th>\n",
       "      <td>164.614770</td>\n",
       "      <td>10.974318</td>\n",
       "      <td>15</td>\n",
       "    </tr>\n",
       "    <tr>\n",
       "      <th>Workera.ai</th>\n",
       "      <td>341.241860</td>\n",
       "      <td>85.310465</td>\n",
       "      <td>4</td>\n",
       "    </tr>\n",
       "    <tr>\n",
       "      <th>IW Migration</th>\n",
       "      <td>405.867275</td>\n",
       "      <td>16.911136</td>\n",
       "      <td>24</td>\n",
       "    </tr>\n",
       "    <tr>\n",
       "      <th>Email Auth and Security</th>\n",
       "      <td>427.300876</td>\n",
       "      <td>19.422767</td>\n",
       "      <td>22</td>\n",
       "    </tr>\n",
       "    <tr>\n",
       "      <th>Azure OpenAI</th>\n",
       "      <td>518.920126</td>\n",
       "      <td>86.486688</td>\n",
       "      <td>6</td>\n",
       "    </tr>\n",
       "    <tr>\n",
       "      <th>Dataverse Plugins</th>\n",
       "      <td>526.252452</td>\n",
       "      <td>75.178922</td>\n",
       "      <td>7</td>\n",
       "    </tr>\n",
       "    <tr>\n",
       "      <th>Jane Eyre</th>\n",
       "      <td>535.276674</td>\n",
       "      <td>18.457816</td>\n",
       "      <td>29</td>\n",
       "    </tr>\n",
       "    <tr>\n",
       "      <th>AKS</th>\n",
       "      <td>553.408433</td>\n",
       "      <td>69.176054</td>\n",
       "      <td>8</td>\n",
       "    </tr>\n",
       "    <tr>\n",
       "      <th>pandas</th>\n",
       "      <td>555.422596</td>\n",
       "      <td>69.427825</td>\n",
       "      <td>8</td>\n",
       "    </tr>\n",
       "    <tr>\n",
       "      <th>Dataverse Queries</th>\n",
       "      <td>627.491378</td>\n",
       "      <td>89.641625</td>\n",
       "      <td>7</td>\n",
       "    </tr>\n",
       "    <tr>\n",
       "      <th>Conditional Access</th>\n",
       "      <td>629.464522</td>\n",
       "      <td>89.923503</td>\n",
       "      <td>7</td>\n",
       "    </tr>\n",
       "    <tr>\n",
       "      <th>Power BI</th>\n",
       "      <td>763.461287</td>\n",
       "      <td>95.432661</td>\n",
       "      <td>8</td>\n",
       "    </tr>\n",
       "    <tr>\n",
       "      <th>Diffusers from Hugging Face</th>\n",
       "      <td>771.398331</td>\n",
       "      <td>77.139833</td>\n",
       "      <td>10</td>\n",
       "    </tr>\n",
       "    <tr>\n",
       "      <th>Kali Linux</th>\n",
       "      <td>789.664306</td>\n",
       "      <td>78.966431</td>\n",
       "      <td>10</td>\n",
       "    </tr>\n",
       "    <tr>\n",
       "      <th>OData</th>\n",
       "      <td>846.561004</td>\n",
       "      <td>49.797706</td>\n",
       "      <td>17</td>\n",
       "    </tr>\n",
       "    <tr>\n",
       "      <th>sklearn</th>\n",
       "      <td>971.642444</td>\n",
       "      <td>80.970204</td>\n",
       "      <td>12</td>\n",
       "    </tr>\n",
       "    <tr>\n",
       "      <th>MS Identity Platform</th>\n",
       "      <td>983.807746</td>\n",
       "      <td>89.437068</td>\n",
       "      <td>11</td>\n",
       "    </tr>\n",
       "    <tr>\n",
       "      <th>PP365</th>\n",
       "      <td>1005.089024</td>\n",
       "      <td>55.838279</td>\n",
       "      <td>18</td>\n",
       "    </tr>\n",
       "    <tr>\n",
       "      <th>DNS</th>\n",
       "      <td>1137.767710</td>\n",
       "      <td>47.406988</td>\n",
       "      <td>24</td>\n",
       "    </tr>\n",
       "    <tr>\n",
       "      <th>Home Network Project</th>\n",
       "      <td>1261.752210</td>\n",
       "      <td>35.048673</td>\n",
       "      <td>36</td>\n",
       "    </tr>\n",
       "    <tr>\n",
       "      <th>Azure Functions</th>\n",
       "      <td>1265.738158</td>\n",
       "      <td>46.879191</td>\n",
       "      <td>27</td>\n",
       "    </tr>\n",
       "    <tr>\n",
       "      <th>Search Engine Optimization</th>\n",
       "      <td>1377.479802</td>\n",
       "      <td>55.099192</td>\n",
       "      <td>25</td>\n",
       "    </tr>\n",
       "    <tr>\n",
       "      <th>Diffusers Library</th>\n",
       "      <td>1452.912377</td>\n",
       "      <td>90.807024</td>\n",
       "      <td>16</td>\n",
       "    </tr>\n",
       "    <tr>\n",
       "      <th>Python</th>\n",
       "      <td>1456.721472</td>\n",
       "      <td>72.836074</td>\n",
       "      <td>20</td>\n",
       "    </tr>\n",
       "    <tr>\n",
       "      <th>Azure Kubernetes Learning Path</th>\n",
       "      <td>1468.389306</td>\n",
       "      <td>47.367397</td>\n",
       "      <td>31</td>\n",
       "    </tr>\n",
       "  </tbody>\n",
       "</table>\n",
       "</div>"
      ],
      "text/plain": [
       "                                       age_sum   age_mean  head_count\n",
       "DNS Policies                          0.784151   0.784151           1\n",
       "CDK Global Ransomeware, June 2024    57.698264   7.212283           8\n",
       "Finance Junk                         65.771448   8.221431           8\n",
       "Azure AI Foundry                    164.614770  10.974318          15\n",
       "Workera.ai                          341.241860  85.310465           4\n",
       "IW Migration                        405.867275  16.911136          24\n",
       "Email Auth and Security             427.300876  19.422767          22\n",
       "Azure OpenAI                        518.920126  86.486688           6\n",
       "Dataverse Plugins                   526.252452  75.178922           7\n",
       "Jane Eyre                           535.276674  18.457816          29\n",
       "AKS                                 553.408433  69.176054           8\n",
       "pandas                              555.422596  69.427825           8\n",
       "Dataverse Queries                   627.491378  89.641625           7\n",
       "Conditional Access                  629.464522  89.923503           7\n",
       "Power BI                            763.461287  95.432661           8\n",
       "Diffusers from Hugging Face         771.398331  77.139833          10\n",
       "Kali Linux                          789.664306  78.966431          10\n",
       "OData                               846.561004  49.797706          17\n",
       "sklearn                             971.642444  80.970204          12\n",
       "MS Identity Platform                983.807746  89.437068          11\n",
       "PP365                              1005.089024  55.838279          18\n",
       "DNS                                1137.767710  47.406988          24\n",
       "Home Network Project               1261.752210  35.048673          36\n",
       "Azure Functions                    1265.738158  46.879191          27\n",
       "Search Engine Optimization         1377.479802  55.099192          25\n",
       "Diffusers Library                  1452.912377  90.807024          16\n",
       "Python                             1456.721472  72.836074          20\n",
       "Azure Kubernetes Learning Path     1468.389306  47.367397          31"
      ]
     },
     "execution_count": 130,
     "metadata": {},
     "output_type": "execute_result"
    }
   ],
   "source": [
    "stats = existing_cards.groupby('head').agg({'age': ['sum', 'mean'], 'head': 'count'}).sort_values(('age', 'sum'))\n",
    "stats.columns = stats.columns.to_flat_index()\n",
    "stats.columns = ['_'.join(col).strip() for col in stats.columns]\n",
    "stats.index.name = None\n",
    "stats"
   ]
  },
  {
   "cell_type": "code",
   "execution_count": 131,
   "metadata": {},
   "outputs": [
    {
     "name": "stdout",
     "output_type": "stream",
     "text": [
      "20961.90\n"
     ]
    },
    {
     "data": {
      "text/plain": [
       "<Axes: >"
      ]
     },
     "execution_count": 131,
     "metadata": {},
     "output_type": "execute_result"
    },
    {
     "data": {
      "image/png": "[encoded data removed]",
      "text/plain": [
       "<Figure size 640x480 with 1 Axes>"
      ]
     },
     "metadata": {},
     "output_type": "display_data"
    }
   ],
   "source": [
    "print(f\"{existing_cards['age'].sum(0):.2f}\")\n",
    "existing_cards['age'].hist(bins=20)"
   ]
  },
  {
   "cell_type": "markdown",
   "metadata": {},
   "source": [
    "# Completely Random Shuffle"
   ]
  },
  {
   "cell_type": "code",
   "execution_count": 132,
   "metadata": {},
   "outputs": [],
   "source": [
    "# existing_cards = existing_cards.sample(frac=1)\n",
    "# remake_card_document(filename='certcards2.txt', existing_cards = existing_cards)"
   ]
  },
  {
   "cell_type": "markdown",
   "metadata": {},
   "source": [
    "# Age Sort"
   ]
  },
  {
   "cell_type": "code",
   "execution_count": 133,
   "metadata": {},
   "outputs": [],
   "source": [
    "# existing_cards = existing_cards.sort_values('age', ascending=False)\n",
    "# remake_card_document(filename='certcards2.txt', existing_cards=existing_cards)"
   ]
  },
  {
   "cell_type": "markdown",
   "metadata": {},
   "source": [
    "# Headers with fewest notes first"
   ]
  },
  {
   "cell_type": "code",
   "execution_count": 134,
   "metadata": {},
   "outputs": [],
   "source": [
    "# frequency = existing_cards['head'].value_counts(ascending=True)\n",
    "\n",
    "# existing_cards = pd.merge(\n",
    "#     left=existing_cards,\n",
    "#     right=frequency.rename('frequency'),\n",
    "#     left_on='head', right_index=True,\n",
    "#     how='left'\n",
    "# )\n",
    "# existing_cards['oldest'] = existing_cards.groupby('head')['age'].transform('max')\n",
    "# existing_cards['subject_highest_age'] = existing_cards['subject_highest_age'] * -1\n",
    "# existing_cards['age'] = existing_cards['age'] * -1\n",
    "\n",
    "\n",
    "# existing_cards.sort_values(['frequency', 'subject_highest_age', 'age'], ascending=True, inplace=True)\n",
    "\n",
    "# remake_card_document(filename='certcards2.txt', existing_cards=existing_cards)"
   ]
  },
  {
   "cell_type": "markdown",
   "metadata": {},
   "source": [
    "# Focus on one header"
   ]
  },
  {
   "cell_type": "code",
   "execution_count": 135,
   "metadata": {},
   "outputs": [],
   "source": [
    "# heads = existing_cards['head'].value_counts()\n",
    "# heads = heads[heads > 5].index.tolist()\n",
    "# one_header = random.sample(heads, 1)[0]\n",
    "# existing_cards['pick_head'] = existing_cards['head'].apply(\n",
    "#     lambda h: 0 if h == one_header else 1 \n",
    "# )\n",
    "\n",
    "# remake_card_document(existing_cards=existing_cards.sort_values('pick_head'))"
   ]
  },
  {
   "cell_type": "markdown",
   "metadata": {},
   "source": [
    "## Header with oldest cards first"
   ]
  },
  {
   "cell_type": "code",
   "execution_count": 136,
   "metadata": {},
   "outputs": [],
   "source": [
    "# existing_cards['oldest'] = existing_cards.groupby('head')['age'].transform('max')\n",
    "# existing_cards.sort_values(['oldest', 'age'], ascending=False, inplace=True)\n",
    "# remake_card_document(existing_cards)"
   ]
  },
  {
   "cell_type": "markdown",
   "metadata": {},
   "source": [
    "## Headers with greatest mean card age first"
   ]
  },
  {
   "cell_type": "code",
   "execution_count": 137,
   "metadata": {},
   "outputs": [],
   "source": [
    "# existing_cards.sort_values(['subject_mean_age', 'age'], ascending=False, inplace=True)\n",
    "# remake_card_document(existing_cards)"
   ]
  },
  {
   "cell_type": "markdown",
   "metadata": {},
   "source": [
    "# Headers with greatest age sum first"
   ]
  },
  {
   "cell_type": "code",
   "execution_count": 138,
   "metadata": {},
   "outputs": [],
   "source": [
    "# existing_cards.sort_values(['subject_age_sum', 'age'], ascending=False, inplace=True)\n",
    "# remake_card_document(existing_cards)"
   ]
  },
  {
   "cell_type": "markdown",
   "metadata": {},
   "source": [
    "# N-fold shuffle\n",
    "\n",
    "## Random"
   ]
  },
  {
   "cell_type": "code",
   "execution_count": 139,
   "metadata": {},
   "outputs": [],
   "source": [
    "# n = 2\n",
    "# existing_cards['count'] = existing_cards.sort_values('age', ascending=False).groupby('head').cumcount()\n",
    "# existing_cards['n_fold'] = existing_cards['count'] // n\n",
    "# existing_cards.sort_values(['n_fold', 'head_random_roll', 'age'], inplace=True)\n",
    "# remake_card_document(existing_cards=existing_cards)\n",
    "# existing_cards.head(10)"
   ]
  },
  {
   "cell_type": "markdown",
   "metadata": {},
   "source": [
    "## Age Sum"
   ]
  },
  {
   "cell_type": "code",
   "execution_count": 140,
   "metadata": {},
   "outputs": [],
   "source": [
    "# n=5\n",
    "# existing_cards['count'] = existing_cards.sort_values('age', ascending=False).groupby('head').cumcount()\n",
    "# existing_cards['n_fold'] = existing_cards['count'] // n\n",
    "\n",
    "# existing_cards['subject_age_sum'] = existing_cards['subject_age_sum'] *-1\n",
    "# existing_cards['age'] = existing_cards['age'] *-1\n",
    "# existing_cards.sort_values(['n_fold', 'subject_age_sum', 'age'], inplace=True)\n",
    "# existing_cards.head(10)\n",
    "\n",
    "# remake_card_document(existing_cards=existing_cards)"
   ]
  },
  {
   "cell_type": "markdown",
   "metadata": {},
   "source": [
    "## Age max"
   ]
  },
  {
   "cell_type": "code",
   "execution_count": 141,
   "metadata": {},
   "outputs": [
    {
     "name": "stdout",
     "output_type": "stream",
     "text": [
      "Cards found: 419\n"
     ]
    }
   ],
   "source": [
    "n=4\n",
    "existing_cards['count'] = existing_cards.sort_values('age', ascending=False).groupby('head').cumcount()\n",
    "existing_cards['n_fold'] = existing_cards['count'] // n\n",
    "\n",
    "existing_cards['subject_highest_age'] = existing_cards['subject_highest_age'] *-1\n",
    "existing_cards['age'] = existing_cards['age'] *-1\n",
    "existing_cards.sort_values(['n_fold', 'subject_highest_age', 'age'], inplace=True)\n",
    "existing_cards.head(10)\n",
    "\n",
    "remake_card_document(existing_cards=existing_cards)"
   ]
  },
  {
   "cell_type": "code",
   "execution_count": 142,
   "metadata": {},
   "outputs": [
    {
     "data": {
      "text/html": [
       "<div>\n",
       "<style scoped>\n",
       "    .dataframe tbody tr th:only-of-type {\n",
       "        vertical-align: middle;\n",
       "    }\n",
       "\n",
       "    .dataframe tbody tr th {\n",
       "        vertical-align: top;\n",
       "    }\n",
       "\n",
       "    .dataframe thead th {\n",
       "        text-align: right;\n",
       "    }\n",
       "</style>\n",
       "<table border=\"1\" class=\"dataframe\">\n",
       "  <thead>\n",
       "    <tr style=\"text-align: right;\">\n",
       "      <th></th>\n",
       "      <th>head</th>\n",
       "      <th>body</th>\n",
       "      <th>hash</th>\n",
       "      <th>age</th>\n",
       "      <th>subject_mean_age</th>\n",
       "      <th>subject_highest_age</th>\n",
       "      <th>subject_age_sum</th>\n",
       "      <th>head_random_roll</th>\n",
       "      <th>count</th>\n",
       "      <th>n_fold</th>\n",
       "    </tr>\n",
       "  </thead>\n",
       "  <tbody>\n",
       "    <tr>\n",
       "      <th>0</th>\n",
       "      <td>OData</td>\n",
       "      <td>$expand\\nThe $expand query option is used to i...</td>\n",
       "      <td>7741c10c4a0ee31e9e53a05e703ce0fa</td>\n",
       "      <td>-102.067045</td>\n",
       "      <td>49.797706</td>\n",
       "      <td>-102.067045</td>\n",
       "      <td>846.561004</td>\n",
       "      <td>0.393921</td>\n",
       "      <td>0</td>\n",
       "      <td>0</td>\n",
       "    </tr>\n",
       "    <tr>\n",
       "      <th>1</th>\n",
       "      <td>OData</td>\n",
       "      <td>Metadata Document\\nIn OData, the metadata docu...</td>\n",
       "      <td>c785fe2bbeca22b4949bfbf94a89fbff</td>\n",
       "      <td>-95.876683</td>\n",
       "      <td>49.797706</td>\n",
       "      <td>-102.067045</td>\n",
       "      <td>846.561004</td>\n",
       "      <td>0.393921</td>\n",
       "      <td>1</td>\n",
       "      <td>0</td>\n",
       "    </tr>\n",
       "    <tr>\n",
       "      <th>3</th>\n",
       "      <td>OData</td>\n",
       "      <td>Serialization is the process of converting obj...</td>\n",
       "      <td>d7c71208f54e197b6474af847d54bf25</td>\n",
       "      <td>-48.294911</td>\n",
       "      <td>49.797706</td>\n",
       "      <td>-102.067045</td>\n",
       "      <td>846.561004</td>\n",
       "      <td>0.393921</td>\n",
       "      <td>2</td>\n",
       "      <td>0</td>\n",
       "    </tr>\n",
       "    <tr>\n",
       "      <th>2</th>\n",
       "      <td>OData</td>\n",
       "      <td>A Many-to-Many relationship allows multiple re...</td>\n",
       "      <td>258f682e81411875fe0bc7ba6b4dfce3</td>\n",
       "      <td>-48.288075</td>\n",
       "      <td>49.797706</td>\n",
       "      <td>-102.067045</td>\n",
       "      <td>846.561004</td>\n",
       "      <td>0.393921</td>\n",
       "      <td>3</td>\n",
       "      <td>0</td>\n",
       "    </tr>\n",
       "    <tr>\n",
       "      <th>12</th>\n",
       "      <td>PP365</td>\n",
       "      <td>You can set a sandbox, production, or trial (s...</td>\n",
       "      <td>33ef725508500650fca45dcdaaabb868</td>\n",
       "      <td>-101.565510</td>\n",
       "      <td>55.838279</td>\n",
       "      <td>-101.565510</td>\n",
       "      <td>1005.089024</td>\n",
       "      <td>0.139926</td>\n",
       "      <td>0</td>\n",
       "      <td>0</td>\n",
       "    </tr>\n",
       "    <tr>\n",
       "      <th>14</th>\n",
       "      <td>PP365</td>\n",
       "      <td>Workflow in the context of Microsoft Dataverse...</td>\n",
       "      <td>232977ce805e82b6bdf3ae0f62cbdc4d</td>\n",
       "      <td>-99.979053</td>\n",
       "      <td>55.838279</td>\n",
       "      <td>-101.565510</td>\n",
       "      <td>1005.089024</td>\n",
       "      <td>0.139926</td>\n",
       "      <td>1</td>\n",
       "      <td>0</td>\n",
       "    </tr>\n",
       "    <tr>\n",
       "      <th>13</th>\n",
       "      <td>PP365</td>\n",
       "      <td>Syntax for using the web api to get specific s...</td>\n",
       "      <td>37d2329f16107277a0416409bdbcae5a</td>\n",
       "      <td>-99.401052</td>\n",
       "      <td>55.838279</td>\n",
       "      <td>-101.565510</td>\n",
       "      <td>1005.089024</td>\n",
       "      <td>0.139926</td>\n",
       "      <td>2</td>\n",
       "      <td>0</td>\n",
       "    </tr>\n",
       "    <tr>\n",
       "      <th>15</th>\n",
       "      <td>PP365</td>\n",
       "      <td>Background operations (optional)\\tSelect to di...</td>\n",
       "      <td>3b26d9446d82006da773fec8b8c68920</td>\n",
       "      <td>-98.034167</td>\n",
       "      <td>55.838279</td>\n",
       "      <td>-101.565510</td>\n",
       "      <td>1005.089024</td>\n",
       "      <td>0.139926</td>\n",
       "      <td>3</td>\n",
       "      <td>0</td>\n",
       "    </tr>\n",
       "    <tr>\n",
       "      <th>4</th>\n",
       "      <td>Azure Functions</td>\n",
       "      <td>Serverless workflow. A series of functions can...</td>\n",
       "      <td>7a1aa7e379fef734217ef83475e6a316</td>\n",
       "      <td>-101.529270</td>\n",
       "      <td>46.879191</td>\n",
       "      <td>-101.529270</td>\n",
       "      <td>1265.738158</td>\n",
       "      <td>0.012387</td>\n",
       "      <td>0</td>\n",
       "      <td>0</td>\n",
       "    </tr>\n",
       "    <tr>\n",
       "      <th>5</th>\n",
       "      <td>Azure Functions</td>\n",
       "      <td>Irregular but important business flows. Gettin...</td>\n",
       "      <td>06063e9779d63605847da524a3dd4317</td>\n",
       "      <td>-100.196713</td>\n",
       "      <td>46.879191</td>\n",
       "      <td>-101.529270</td>\n",
       "      <td>1265.738158</td>\n",
       "      <td>0.012387</td>\n",
       "      <td>1</td>\n",
       "      <td>0</td>\n",
       "    </tr>\n",
       "  </tbody>\n",
       "</table>\n",
       "</div>"
      ],
      "text/plain": [
       "               head                                               body  \\\n",
       "0             OData  $expand\\nThe $expand query option is used to i...   \n",
       "1             OData  Metadata Document\\nIn OData, the metadata docu...   \n",
       "3             OData  Serialization is the process of converting obj...   \n",
       "2             OData  A Many-to-Many relationship allows multiple re...   \n",
       "12            PP365  You can set a sandbox, production, or trial (s...   \n",
       "14            PP365  Workflow in the context of Microsoft Dataverse...   \n",
       "13            PP365  Syntax for using the web api to get specific s...   \n",
       "15            PP365  Background operations (optional)\\tSelect to di...   \n",
       "4   Azure Functions  Serverless workflow. A series of functions can...   \n",
       "5   Azure Functions  Irregular but important business flows. Gettin...   \n",
       "\n",
       "                                hash         age  subject_mean_age  \\\n",
       "0   7741c10c4a0ee31e9e53a05e703ce0fa -102.067045         49.797706   \n",
       "1   c785fe2bbeca22b4949bfbf94a89fbff  -95.876683         49.797706   \n",
       "3   d7c71208f54e197b6474af847d54bf25  -48.294911         49.797706   \n",
       "2   258f682e81411875fe0bc7ba6b4dfce3  -48.288075         49.797706   \n",
       "12  33ef725508500650fca45dcdaaabb868 -101.565510         55.838279   \n",
       "14  232977ce805e82b6bdf3ae0f62cbdc4d  -99.979053         55.838279   \n",
       "13  37d2329f16107277a0416409bdbcae5a  -99.401052         55.838279   \n",
       "15  3b26d9446d82006da773fec8b8c68920  -98.034167         55.838279   \n",
       "4   7a1aa7e379fef734217ef83475e6a316 -101.529270         46.879191   \n",
       "5   06063e9779d63605847da524a3dd4317 -100.196713         46.879191   \n",
       "\n",
       "    subject_highest_age  subject_age_sum  head_random_roll  count  n_fold  \n",
       "0           -102.067045       846.561004          0.393921      0       0  \n",
       "1           -102.067045       846.561004          0.393921      1       0  \n",
       "3           -102.067045       846.561004          0.393921      2       0  \n",
       "2           -102.067045       846.561004          0.393921      3       0  \n",
       "12          -101.565510      1005.089024          0.139926      0       0  \n",
       "14          -101.565510      1005.089024          0.139926      1       0  \n",
       "13          -101.565510      1005.089024          0.139926      2       0  \n",
       "15          -101.565510      1005.089024          0.139926      3       0  \n",
       "4           -101.529270      1265.738158          0.012387      0       0  \n",
       "5           -101.529270      1265.738158          0.012387      1       0  "
      ]
     },
     "execution_count": 142,
     "metadata": {},
     "output_type": "execute_result"
    }
   ],
   "source": [
    "existing_cards.head(10)"
   ]
  },
  {
   "cell_type": "code",
   "execution_count": null,
   "metadata": {},
   "outputs": [],
   "source": []
  }
 ],
 "metadata": {
  "kernelspec": {
   "display_name": "Python 3",
   "language": "python",
   "name": "python3"
  },
  "language_info": {
   "codemirror_mode": {
    "name": "ipython",
    "version": 3
   },
   "file_extension": ".py",
   "mimetype": "text/x-python",
   "name": "python",
   "nbconvert_exporter": "python",
   "pygments_lexer": "ipython3",
   "version": "3.10.10"
  }
 },
 "nbformat": 4,
 "nbformat_minor": 2
}
