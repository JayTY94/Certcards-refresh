{
 "cells": [
  {
   "cell_type": "code",
   "execution_count": 28,
   "metadata": {},
   "outputs": [],
   "source": [
    "import re\n",
    "import random\n",
    "import pandas as pd\n",
    "import hashlib"
   ]
  },
  {
   "cell_type": "code",
   "execution_count": 29,
   "metadata": {},
   "outputs": [],
   "source": [
    "with open('certcards2.txt', mode='r', encoding='utf8') as f:\n",
    "    all_cards = f.read()\n",
    "    \n",
    "card_split_pattern = r'\\n\\n\\n\\d+\\n'\n",
    "all_cards = re.split(card_split_pattern, all_cards)\n",
    "# Use re.DOTALL to allow . to match newline characters\n",
    "card_pattern = re.compile(r'(.+?)\\n([\\s\\S]+)', re.DOTALL)\n",
    "cards = [(match.group(1), match.group(2)) for cstring in all_cards if (match := re.search(card_pattern, cstring))]\n",
    "\n",
    "# removing the cards that have no content and trimming\n",
    "cards = [(subject, stripped_content) for subject, content in cards if len(stripped_content := content.strip()) > 5]\n",
    "\n",
    "def hash_string_md5(s):\n",
    "    \"\"\"\n",
    "    Hashes a string using MD5 and returns a truncated hash for efficiency.\n",
    "\n",
    "    Parameters:\n",
    "    - s (str): The input string to hash.\n",
    "\n",
    "    Returns:\n",
    "    - str: The truncated hexadecimal hash string.\n",
    "    \"\"\"\n",
    "    if pd.isnull(s):\n",
    "        return None  # Handle NaN values gracefully\n",
    "    return hashlib.md5(s.encode('utf-8')).hexdigest()\n",
    "\n",
    "\n",
    "def remake_card_document(existing_cards: pd.DataFrame, filename: str='certcards2.txt'):\n",
    "    with open(filename, mode='w', encoding='utf8') as f:\n",
    "        i = 1\n",
    "        for _, row in existing_cards.iterrows():\n",
    "            f.write('\\n'*6)\n",
    "            f.write(str(i)+'\\n')  \n",
    "            f.write(row['head']+'\\n')\n",
    "            f.write(row['body'])\n",
    "            i+=1\n",
    "    print(F\"Cards found: {existing_cards.shape[0]}\")\n",
    "\n",
    "\n",
    "existing_cards = pd.DataFrame(cards, columns=['head', 'body'])\n",
    "\n",
    "\n",
    "# existing_cards['age'] = [random.random() for _ in existing_cards.index]\n",
    "existing_cards['hash'] = existing_cards['body'].apply(hash_string_md5)\n",
    "existing_cards\n",
    "\n",
    "card_ages = pd.read_json('card_ages.json')\n",
    "card_ages = card_ages.drop_duplicates(subset=['hash'], keep='first')\n",
    "\n",
    "cards_to_age = pd.merge(\n",
    "    left=existing_cards,\n",
    "    right=card_ages[['hash', 'age']],\n",
    "    left_on='hash', right_on='hash',\n",
    "    how='left'\n",
    ")\n",
    "\n",
    "cards_to_age['head'] = cards_to_age['head'].str.strip()\n",
    "\n",
    "if cards_to_age['age'].sum() > 2e4: age_factor = 1\n",
    "else: age_factor = 1.00\n",
    "\n",
    "cards_to_age['age'] = cards_to_age['age'].fillna(0)\n",
    "cards_to_age['age'] = cards_to_age['age'] * age_factor\n",
    "cards_to_age['age'] = cards_to_age['age'] + [random.expovariate(.60) for _ in cards_to_age.index]\n",
    "# cards_to_age['age'] = cards_to_age['age'] * [random.expovariate(.5) for _ in cards_to_age.index]\n",
    "\n",
    "# Adding priority age growth to cards for upcoming certifications\n",
    "priority_headers = ['Azure Developer Associate']\n",
    "priority_cards_mask = cards_to_age['head'].isin(priority_headers)\n",
    "cards_to_age.loc[priority_cards_mask, 'age'] = cards_to_age.loc[priority_cards_mask, 'age'] * 1.1\n",
    "\n",
    "\n",
    "cards_to_age = cards_to_age.drop_duplicates(subset=['hash'], keep='first')\n",
    "\n",
    "cards_to_age['subject_mean_age'] = cards_to_age.groupby('head')['age'].transform('mean')\n",
    "cards_to_age['subject_highest_age'] = cards_to_age.groupby('head')['age'].transform('max')\n",
    "cards_to_age['subject_age_sum'] = cards_to_age.groupby('head')['age'].transform('sum')\n",
    "cards_to_age['head_random_roll'] = cards_to_age.groupby('head')['head'].transform(lambda x: random.random())\n",
    "\n",
    "\n",
    "cards_to_age.sort_values('hash')[['age', 'head', 'hash']].to_json('card_ages.json', indent=2)\n",
    "\n",
    "existing_cards = cards_to_age"
   ]
  },
  {
   "cell_type": "code",
   "execution_count": 30,
   "metadata": {},
   "outputs": [
    {
     "data": {
      "application/vnd.microsoft.datawrangler.viewer.v0+json": {
       "columns": [
        {
         "name": "index",
         "rawType": "object",
         "type": "string"
        },
        {
         "name": "age_sum",
         "rawType": "float64",
         "type": "float"
        },
        {
         "name": "age_mean",
         "rawType": "float64",
         "type": "float"
        },
        {
         "name": "age_max",
         "rawType": "float64",
         "type": "float"
        },
        {
         "name": "head_count",
         "rawType": "int64",
         "type": "integer"
        }
       ],
       "conversionMethod": "pd.DataFrame",
       "ref": "0d987d01-189d-4fd4-87c8-5b38125c7d69",
       "rows": [
        [
         "Todd Ideas",
         "1285.35438856192",
         "85.69029257079465",
         "174.12597801859624",
         "15"
        ],
        [
         "Azure Developer Associate",
         "1443.6403853778186",
         "33.573032218088805",
         "75.85741800902018",
         "43"
        ],
        [
         "Python",
         "1517.3496000381585",
         "32.284034043365075",
         "51.47892913555451",
         "47"
        ],
        [
         "Email Auth and Security",
         "1699.5405463000313",
         "141.62837885833594",
         "502.16268892672787",
         "12"
        ],
        [
         "Azure AI Search",
         "1760.044919918424",
         "220.005614989803",
         "425.49698168866854",
         "8"
        ],
        [
         "SharePoint",
         "1976.436167256463",
         "164.7030139380386",
         "605.7050473205537",
         "12"
        ],
        [
         "Audit Report Tracker (Sharepoint List)",
         "2099.601906954",
         "161.50783899646152",
         "403.7692601727913",
         "13"
        ],
        [
         "Azure Functions + Visual Studio",
         "2277.8700628883926",
         "162.70500449202805",
         "514.1607721714958",
         "14"
        ],
        [
         "Azure Functions",
         "2386.5930037882504",
         "238.65930037882504",
         "659.8494933891826",
         "10"
        ],
        [
         "Debugging in VS Code",
         "2427.4480102634516",
         "121.37240051317258",
         "288.45386143687665",
         "20"
        ],
        [
         "IW Migration",
         "2444.206516082178",
         "174.58617972015557",
         "488.1515490485725",
         "14"
        ],
        [
         "Open Source/GitHub",
         "2663.364339137585",
         "166.46027119609906",
         "395.71423974620996",
         "16"
        ],
        [
         "Terraform",
         "2679.541331499892",
         "107.18165325999567",
         "283.69647350031664",
         "25"
        ],
        [
         "FSLogix",
         "3011.720813646422",
         "125.48836723526757",
         "292.1115527603357",
         "24"
        ],
        [
         "Home Network Project",
         "3397.2495123653107",
         "212.32809452283192",
         "487.69416728713406",
         "16"
        ],
        [
         "DNS",
         "3563.2726659052605",
         "222.70454161907878",
         "435.9590614495241",
         "16"
        ],
        [
         "WSL + Kali Linux",
         "3736.6570373014083",
         "196.66615985796886",
         "436.6382261552805",
         "19"
        ],
        [
         "Azure Functions + PP365",
         "4024.028298136815",
         "174.957752092905",
         "439.40712135014314",
         "23"
        ],
        [
         "Powershell Modules",
         "5466.388369174807",
         "182.21294563916024",
         "699.3546969449533",
         "30"
        ],
        [
         "Logging in Python",
         "6171.666163069375",
         "125.9523706748852",
         "702.7599168938981",
         "49"
        ],
        [
         "JavaScript Concepts",
         "6353.984743081601",
         "104.16368431281313",
         "449.953109881213",
         "61"
        ],
        [
         "Vocab",
         "7514.936658206699",
         "102.94433778365341",
         "568.4248488983878",
         "73"
        ],
        [
         "PnP Powershell",
         "7553.090576573505",
         "198.76554148877645",
         "677.7647295976906",
         "38"
        ]
       ],
       "shape": {
        "columns": 4,
        "rows": 23
       }
      },
      "text/html": [
       "<div>\n",
       "<style scoped>\n",
       "    .dataframe tbody tr th:only-of-type {\n",
       "        vertical-align: middle;\n",
       "    }\n",
       "\n",
       "    .dataframe tbody tr th {\n",
       "        vertical-align: top;\n",
       "    }\n",
       "\n",
       "    .dataframe thead th {\n",
       "        text-align: right;\n",
       "    }\n",
       "</style>\n",
       "<table border=\"1\" class=\"dataframe\">\n",
       "  <thead>\n",
       "    <tr style=\"text-align: right;\">\n",
       "      <th></th>\n",
       "      <th>age_sum</th>\n",
       "      <th>age_mean</th>\n",
       "      <th>age_max</th>\n",
       "      <th>head_count</th>\n",
       "    </tr>\n",
       "  </thead>\n",
       "  <tbody>\n",
       "    <tr>\n",
       "      <th>Todd Ideas</th>\n",
       "      <td>1285.354389</td>\n",
       "      <td>85.690293</td>\n",
       "      <td>174.125978</td>\n",
       "      <td>15</td>\n",
       "    </tr>\n",
       "    <tr>\n",
       "      <th>Azure Developer Associate</th>\n",
       "      <td>1443.640385</td>\n",
       "      <td>33.573032</td>\n",
       "      <td>75.857418</td>\n",
       "      <td>43</td>\n",
       "    </tr>\n",
       "    <tr>\n",
       "      <th>Python</th>\n",
       "      <td>1517.349600</td>\n",
       "      <td>32.284034</td>\n",
       "      <td>51.478929</td>\n",
       "      <td>47</td>\n",
       "    </tr>\n",
       "    <tr>\n",
       "      <th>Email Auth and Security</th>\n",
       "      <td>1699.540546</td>\n",
       "      <td>141.628379</td>\n",
       "      <td>502.162689</td>\n",
       "      <td>12</td>\n",
       "    </tr>\n",
       "    <tr>\n",
       "      <th>Azure AI Search</th>\n",
       "      <td>1760.044920</td>\n",
       "      <td>220.005615</td>\n",
       "      <td>425.496982</td>\n",
       "      <td>8</td>\n",
       "    </tr>\n",
       "    <tr>\n",
       "      <th>SharePoint</th>\n",
       "      <td>1976.436167</td>\n",
       "      <td>164.703014</td>\n",
       "      <td>605.705047</td>\n",
       "      <td>12</td>\n",
       "    </tr>\n",
       "    <tr>\n",
       "      <th>Audit Report Tracker (Sharepoint List)</th>\n",
       "      <td>2099.601907</td>\n",
       "      <td>161.507839</td>\n",
       "      <td>403.769260</td>\n",
       "      <td>13</td>\n",
       "    </tr>\n",
       "    <tr>\n",
       "      <th>Azure Functions + Visual Studio</th>\n",
       "      <td>2277.870063</td>\n",
       "      <td>162.705004</td>\n",
       "      <td>514.160772</td>\n",
       "      <td>14</td>\n",
       "    </tr>\n",
       "    <tr>\n",
       "      <th>Azure Functions</th>\n",
       "      <td>2386.593004</td>\n",
       "      <td>238.659300</td>\n",
       "      <td>659.849493</td>\n",
       "      <td>10</td>\n",
       "    </tr>\n",
       "    <tr>\n",
       "      <th>Debugging in VS Code</th>\n",
       "      <td>2427.448010</td>\n",
       "      <td>121.372401</td>\n",
       "      <td>288.453861</td>\n",
       "      <td>20</td>\n",
       "    </tr>\n",
       "    <tr>\n",
       "      <th>IW Migration</th>\n",
       "      <td>2444.206516</td>\n",
       "      <td>174.586180</td>\n",
       "      <td>488.151549</td>\n",
       "      <td>14</td>\n",
       "    </tr>\n",
       "    <tr>\n",
       "      <th>Open Source/GitHub</th>\n",
       "      <td>2663.364339</td>\n",
       "      <td>166.460271</td>\n",
       "      <td>395.714240</td>\n",
       "      <td>16</td>\n",
       "    </tr>\n",
       "    <tr>\n",
       "      <th>Terraform</th>\n",
       "      <td>2679.541331</td>\n",
       "      <td>107.181653</td>\n",
       "      <td>283.696474</td>\n",
       "      <td>25</td>\n",
       "    </tr>\n",
       "    <tr>\n",
       "      <th>FSLogix</th>\n",
       "      <td>3011.720814</td>\n",
       "      <td>125.488367</td>\n",
       "      <td>292.111553</td>\n",
       "      <td>24</td>\n",
       "    </tr>\n",
       "    <tr>\n",
       "      <th>Home Network Project</th>\n",
       "      <td>3397.249512</td>\n",
       "      <td>212.328095</td>\n",
       "      <td>487.694167</td>\n",
       "      <td>16</td>\n",
       "    </tr>\n",
       "    <tr>\n",
       "      <th>DNS</th>\n",
       "      <td>3563.272666</td>\n",
       "      <td>222.704542</td>\n",
       "      <td>435.959061</td>\n",
       "      <td>16</td>\n",
       "    </tr>\n",
       "    <tr>\n",
       "      <th>WSL + Kali Linux</th>\n",
       "      <td>3736.657037</td>\n",
       "      <td>196.666160</td>\n",
       "      <td>436.638226</td>\n",
       "      <td>19</td>\n",
       "    </tr>\n",
       "    <tr>\n",
       "      <th>Azure Functions + PP365</th>\n",
       "      <td>4024.028298</td>\n",
       "      <td>174.957752</td>\n",
       "      <td>439.407121</td>\n",
       "      <td>23</td>\n",
       "    </tr>\n",
       "    <tr>\n",
       "      <th>Powershell Modules</th>\n",
       "      <td>5466.388369</td>\n",
       "      <td>182.212946</td>\n",
       "      <td>699.354697</td>\n",
       "      <td>30</td>\n",
       "    </tr>\n",
       "    <tr>\n",
       "      <th>Logging in Python</th>\n",
       "      <td>6171.666163</td>\n",
       "      <td>125.952371</td>\n",
       "      <td>702.759917</td>\n",
       "      <td>49</td>\n",
       "    </tr>\n",
       "    <tr>\n",
       "      <th>JavaScript Concepts</th>\n",
       "      <td>6353.984743</td>\n",
       "      <td>104.163684</td>\n",
       "      <td>449.953110</td>\n",
       "      <td>61</td>\n",
       "    </tr>\n",
       "    <tr>\n",
       "      <th>Vocab</th>\n",
       "      <td>7514.936658</td>\n",
       "      <td>102.944338</td>\n",
       "      <td>568.424849</td>\n",
       "      <td>73</td>\n",
       "    </tr>\n",
       "    <tr>\n",
       "      <th>PnP Powershell</th>\n",
       "      <td>7553.090577</td>\n",
       "      <td>198.765541</td>\n",
       "      <td>677.764730</td>\n",
       "      <td>38</td>\n",
       "    </tr>\n",
       "  </tbody>\n",
       "</table>\n",
       "</div>"
      ],
      "text/plain": [
       "                                            age_sum    age_mean     age_max  \\\n",
       "Todd Ideas                              1285.354389   85.690293  174.125978   \n",
       "Azure Developer Associate               1443.640385   33.573032   75.857418   \n",
       "Python                                  1517.349600   32.284034   51.478929   \n",
       "Email Auth and Security                 1699.540546  141.628379  502.162689   \n",
       "Azure AI Search                         1760.044920  220.005615  425.496982   \n",
       "SharePoint                              1976.436167  164.703014  605.705047   \n",
       "Audit Report Tracker (Sharepoint List)  2099.601907  161.507839  403.769260   \n",
       "Azure Functions + Visual Studio         2277.870063  162.705004  514.160772   \n",
       "Azure Functions                         2386.593004  238.659300  659.849493   \n",
       "Debugging in VS Code                    2427.448010  121.372401  288.453861   \n",
       "IW Migration                            2444.206516  174.586180  488.151549   \n",
       "Open Source/GitHub                      2663.364339  166.460271  395.714240   \n",
       "Terraform                               2679.541331  107.181653  283.696474   \n",
       "FSLogix                                 3011.720814  125.488367  292.111553   \n",
       "Home Network Project                    3397.249512  212.328095  487.694167   \n",
       "DNS                                     3563.272666  222.704542  435.959061   \n",
       "WSL + Kali Linux                        3736.657037  196.666160  436.638226   \n",
       "Azure Functions + PP365                 4024.028298  174.957752  439.407121   \n",
       "Powershell Modules                      5466.388369  182.212946  699.354697   \n",
       "Logging in Python                       6171.666163  125.952371  702.759917   \n",
       "JavaScript Concepts                     6353.984743  104.163684  449.953110   \n",
       "Vocab                                   7514.936658  102.944338  568.424849   \n",
       "PnP Powershell                          7553.090577  198.765541  677.764730   \n",
       "\n",
       "                                        head_count  \n",
       "Todd Ideas                                      15  \n",
       "Azure Developer Associate                       43  \n",
       "Python                                          47  \n",
       "Email Auth and Security                         12  \n",
       "Azure AI Search                                  8  \n",
       "SharePoint                                      12  \n",
       "Audit Report Tracker (Sharepoint List)          13  \n",
       "Azure Functions + Visual Studio                 14  \n",
       "Azure Functions                                 10  \n",
       "Debugging in VS Code                            20  \n",
       "IW Migration                                    14  \n",
       "Open Source/GitHub                              16  \n",
       "Terraform                                       25  \n",
       "FSLogix                                         24  \n",
       "Home Network Project                            16  \n",
       "DNS                                             16  \n",
       "WSL + Kali Linux                                19  \n",
       "Azure Functions + PP365                         23  \n",
       "Powershell Modules                              30  \n",
       "Logging in Python                               49  \n",
       "JavaScript Concepts                             61  \n",
       "Vocab                                           73  \n",
       "PnP Powershell                                  38  "
      ]
     },
     "execution_count": 30,
     "metadata": {},
     "output_type": "execute_result"
    }
   ],
   "source": [
    "stats = existing_cards.groupby('head').agg({'age': ['sum', 'mean', 'max'], 'head': 'count'}).sort_values(('age', 'sum'))\n",
    "stats.columns = stats.columns.to_flat_index()\n",
    "stats.columns = ['_'.join(col).strip() for col in stats.columns]\n",
    "stats.index.name = None\n",
    "stats"
   ]
  },
  {
   "cell_type": "markdown",
   "metadata": {},
   "source": [
    "# Histogram"
   ]
  },
  {
   "cell_type": "code",
   "execution_count": 31,
   "metadata": {},
   "outputs": [
    {
     "name": "stdout",
     "output_type": "stream",
     "text": [
      "77453.99\n"
     ]
    },
    {
     "data": {
      "text/plain": [
       "<Axes: >"
      ]
     },
     "execution_count": 31,
     "metadata": {},
     "output_type": "execute_result"
    },
    {
     "data": {
      "image/png": "[encoded data removed]",
      "text/plain": [
       "<Figure size 640x480 with 1 Axes>"
      ]
     },
     "metadata": {},
     "output_type": "display_data"
    }
   ],
   "source": [
    "print(f\"{existing_cards['age'].sum(0):.2f}\")\n",
    "existing_cards['age'].hist(bins=20)"
   ]
  },
  {
   "cell_type": "markdown",
   "metadata": {},
   "source": [
    "# Completely Random Shuffle"
   ]
  },
  {
   "cell_type": "code",
   "execution_count": 32,
   "metadata": {},
   "outputs": [],
   "source": [
    "# existing_cards = existing_cards.sample(frac=1)\n",
    "# remake_card_document(filename='certcards2.txt', existing_cards = existing_cards)"
   ]
  },
  {
   "cell_type": "markdown",
   "metadata": {},
   "source": [
    "# Age Sort"
   ]
  },
  {
   "cell_type": "code",
   "execution_count": 33,
   "metadata": {},
   "outputs": [],
   "source": [
    "# existing_cards = existing_cards.sort_values('age', ascending=False)\n",
    "# remake_card_document(filename='certcards2.txt', existing_cards=existing_cards)\n",
    "# existing_cards.head(10)"
   ]
  },
  {
   "cell_type": "markdown",
   "metadata": {},
   "source": [
    "# Headers with fewest notes first"
   ]
  },
  {
   "cell_type": "code",
   "execution_count": 34,
   "metadata": {},
   "outputs": [],
   "source": [
    "# frequency = existing_cards['head'].value_counts(ascending=True)\n",
    "\n",
    "# existing_cards = pd.merge(\n",
    "#     left=existing_cards,\n",
    "#     right=frequency.rename('frequency'),\n",
    "#     left_on='head', right_index=True,\n",
    "#     how='left'\n",
    "# )\n",
    "# existing_cards['oldest'] = existing_cards.groupby('head')['age'].transform('max')\n",
    "# existing_cards['subject_highest_age'] = existing_cards['subject_highest_age'] * -1\n",
    "# existing_cards['age'] = existing_cards['age'] * -1\n",
    "\n",
    "\n",
    "# existing_cards.sort_values(['frequency', 'subject_highest_age', 'age'], ascending=True, inplace=True)\n",
    "\n",
    "# remake_card_document(filename='certcards2.txt', existing_cards=existing_cards)\n",
    "\n",
    "# existing_cards.head(10)"
   ]
  },
  {
   "cell_type": "markdown",
   "metadata": {},
   "source": [
    "# Focus on one header"
   ]
  },
  {
   "cell_type": "code",
   "execution_count": 35,
   "metadata": {},
   "outputs": [],
   "source": [
    "# heads = existing_cards['head'].value_counts()\n",
    "# heads = heads[heads > 5].index.tolist()\n",
    "# one_header = random.sample(heads, 1)[0]\n",
    "# existing_cards['pick_head'] = existing_cards['head'].apply(\n",
    "#     lambda h: 0 if h == one_header else 1 \n",
    "# )\n",
    "\n",
    "# remake_card_document(existing_cards=existing_cards.sort_values('pick_head'))"
   ]
  },
  {
   "cell_type": "markdown",
   "metadata": {},
   "source": [
    "## Header with oldest cards first"
   ]
  },
  {
   "cell_type": "code",
   "execution_count": 36,
   "metadata": {},
   "outputs": [],
   "source": [
    "# existing_cards['oldest'] = existing_cards.groupby('head')['age'].transform('max')\n",
    "# existing_cards.sort_values(['oldest', 'age'], ascending=False, inplace=True)\n",
    "# remake_card_document(existing_cards)"
   ]
  },
  {
   "cell_type": "markdown",
   "metadata": {},
   "source": [
    "## Headers with greatest mean card age first"
   ]
  },
  {
   "cell_type": "code",
   "execution_count": 37,
   "metadata": {},
   "outputs": [],
   "source": [
    "# existing_cards.sort_values(['subject_mean_age', 'age'], ascending=False, inplace=True)\n",
    "# remake_card_document(existing_cards)"
   ]
  },
  {
   "cell_type": "markdown",
   "metadata": {},
   "source": [
    "## Headers with greatest age sum first"
   ]
  },
  {
   "cell_type": "code",
   "execution_count": 38,
   "metadata": {},
   "outputs": [],
   "source": [
    "# existing_cards.sort_values(['subject_age_sum', 'age'], ascending=False, inplace=True)\n",
    "# remake_card_document(existing_cards)"
   ]
  },
  {
   "cell_type": "markdown",
   "metadata": {},
   "source": [
    "# N-fold shuffle\n"
   ]
  },
  {
   "cell_type": "markdown",
   "metadata": {},
   "source": [
    "## Age Sum"
   ]
  },
  {
   "cell_type": "code",
   "execution_count": 39,
   "metadata": {},
   "outputs": [],
   "source": [
    "# n=3\n",
    "# existing_cards['count'] = existing_cards.sort_values('age', ascending=False).groupby('head').cumcount()\n",
    "# existing_cards['n_fold'] = existing_cards['count'] % n\n",
    "\n",
    "# existing_cards['subject_age_sum'] = existing_cards['subject_age_sum'] *-1\n",
    "# existing_cards['age'] = existing_cards['age'] *-1\n",
    "# existing_cards.sort_values(['n_fold', 'subject_age_sum', 'age'], inplace=True)\n",
    "\n",
    "# remake_card_document(existing_cards=existing_cards)\n",
    "# existing_cards.head(10)\n"
   ]
  },
  {
   "cell_type": "markdown",
   "metadata": {},
   "source": [
    "## Age Mean"
   ]
  },
  {
   "cell_type": "code",
   "execution_count": 40,
   "metadata": {},
   "outputs": [
    {
     "name": "stdout",
     "output_type": "stream",
     "text": [
      "Cards found: 598\n"
     ]
    },
    {
     "data": {
      "application/vnd.microsoft.datawrangler.viewer.v0+json": {
       "columns": [
        {
         "name": "index",
         "rawType": "int64",
         "type": "integer"
        },
        {
         "name": "head",
         "rawType": "object",
         "type": "string"
        },
        {
         "name": "body",
         "rawType": "object",
         "type": "string"
        },
        {
         "name": "hash",
         "rawType": "object",
         "type": "string"
        },
        {
         "name": "age",
         "rawType": "float64",
         "type": "float"
        },
        {
         "name": "subject_mean_age",
         "rawType": "float64",
         "type": "float"
        },
        {
         "name": "subject_highest_age",
         "rawType": "float64",
         "type": "float"
        },
        {
         "name": "subject_age_sum",
         "rawType": "float64",
         "type": "float"
        },
        {
         "name": "head_random_roll",
         "rawType": "float64",
         "type": "float"
        },
        {
         "name": "count",
         "rawType": "int64",
         "type": "integer"
        },
        {
         "name": "n_fold",
         "rawType": "int64",
         "type": "integer"
        }
       ],
       "conversionMethod": "pd.DataFrame",
       "ref": "de6de5fb-5cc4-4255-989b-54968303fab3",
       "rows": [
        [
         "141",
         "Azure Functions",
         "There are two types of managed identities:\n\nSystem-assigned. Some Azure resources, such as virtual machines allow you to enable a managed identity directly on the resource.\nUser-assigned. You may also create a managed identity as a standalone Azure resource. You can create a user-assigned managed identity and assign it to one or more Azure Resources.",
         "f67cf9c04025c3a0f40df04e39e17716",
         "-659.8494933891826",
         "-238.65930037882504",
         "659.8494933891826",
         "2386.5930037882504",
         "0.5940910975191855",
         "0",
         "0"
        ],
        [
         "142",
         "Azure Functions",
         "Fan out/fan in: This pattern runs multiple functions in parallel and waits for all the functions to finish. You can aggregate the results of the parallel executions or use them to compute a final result.",
         "27d702948647d6ee02788bbddca6e1e1",
         "-264.4261855921877",
         "-238.65930037882504",
         "659.8494933891826",
         "2386.5930037882504",
         "0.5940910975191855",
         "3",
         "0"
        ],
        [
         "143",
         "Azure Functions",
         "The name of the system-assigned service principal is always the same as the name of the Azure resource it's created for. For a deployment slot, the name of its system-assigned identity is <app-name>/slots/<slot-name>.",
         "d123e4accbea5aa0b487db8bb37e393e",
         "-126.03974076290402",
         "-238.65930037882504",
         "659.8494933891826",
         "2386.5930037882504",
         "0.5940910975191855",
         "6",
         "0"
        ],
        [
         "144",
         "Azure Functions",
         "2. Which of the following best describes the role of the Orchestrator function in a workflow? \nThe Orchestrator Function is written in code. The function is used for describing how actions are executed and the order in which actions are executed.",
         "a0d590c3ccb5acb4ac074724839b549d",
         "-36.39905069342162",
         "-238.65930037882504",
         "659.8494933891826",
         "2386.5930037882504",
         "0.5940910975191855",
         "9",
         "0"
        ],
        [
         "94",
         "DNS",
         "Securing Zone Transfers\nMeasures taken to protect DNS zone data during transfers between DNS servers. This includes restricting transfers to authorized IP addresses and using security protocols like TSIG or IPsec to authenticate and encrypt the data, ensuring integrity and confidentiality.",
         "29d80ddfc54d4c7ce2121c00053c35cd",
         "-435.9590614495241",
         "-222.70454161907878",
         "435.9590614495241",
         "3563.2726659052605",
         "0.2558794832548421",
         "0",
         "0"
        ],
        [
         "95",
         "DNS",
         "SRV (Service) Records\nDNS records that specify the location (hostname and port) of servers for particular services within a domain. Essential for services like SIP (VoIP) or LDAP, they enable clients to discover service endpoints automatically.",
         "4193eaf48f50e71d6283bb58427c6f60",
         "-326.5526272969747",
         "-222.70454161907878",
         "435.9590614495241",
         "3563.2726659052605",
         "0.2558794832548421",
         "3",
         "0"
        ],
        [
         "96",
         "DNS",
         "DNS Policies\nA feature in Windows DNS Server that allows administrators to define rules for how DNS queries are handled. Policies can filter queries or provide different responses based on criteria like client IP addresses, enabling scenarios like split-brain DNS.",
         "e14697957838c2353f653a56dac9ac16",
         "-295.5937284132816",
         "-222.70454161907878",
         "435.9590614495241",
         "3563.2726659052605",
         "0.2558794832548421",
         "6",
         "0"
        ],
        [
         "97",
         "DNS",
         "DNS Zone Types\nDifferent types of DNS zones include Primary, Secondary, Stub, and Active Directory-Integrated zones. Each type serves distinct roles in DNS management, such as data storage, redundancy, delegation, and integration with directory services.",
         "fce7107d54abe9418805d1b01937805d",
         "-155.33864939343118",
         "-222.70454161907878",
         "435.9590614495241",
         "3563.2726659052605",
         "0.2558794832548421",
         "9",
         "0"
        ],
        [
         "98",
         "DNS",
         "Conditional Forwarding\nA DNS configuration that directs queries for specific domain names to designated DNS servers instead of using default forwarders. It's useful for managing inter-office DNS resolution or directing queries for partner domains to their respective DNS servers.",
         "307c5eb4cae4981eb5b4f0a6f1646b77",
         "-94.20374971796583",
         "-222.70454161907878",
         "435.9590614495241",
         "3563.2726659052605",
         "0.2558794832548421",
         "12",
         "0"
        ],
        [
         "99",
         "DNS",
         "Stub Zone\nA DNS zone that contains only essential information about another zone's authoritative DNS servers. It facilitates efficient DNS resolution by allowing a DNS server to know where to forward queries for that specific zone without storing all DNS records.",
         "ff86ccf34dc4e0d3a75966d5f4942595",
         "-47.12453810645504",
         "-222.70454161907878",
         "435.9590614495241",
         "3563.2726659052605",
         "0.2558794832548421",
         "15",
         "0"
        ]
       ],
       "shape": {
        "columns": 10,
        "rows": 10
       }
      },
      "text/html": [
       "<div>\n",
       "<style scoped>\n",
       "    .dataframe tbody tr th:only-of-type {\n",
       "        vertical-align: middle;\n",
       "    }\n",
       "\n",
       "    .dataframe tbody tr th {\n",
       "        vertical-align: top;\n",
       "    }\n",
       "\n",
       "    .dataframe thead th {\n",
       "        text-align: right;\n",
       "    }\n",
       "</style>\n",
       "<table border=\"1\" class=\"dataframe\">\n",
       "  <thead>\n",
       "    <tr style=\"text-align: right;\">\n",
       "      <th></th>\n",
       "      <th>head</th>\n",
       "      <th>body</th>\n",
       "      <th>hash</th>\n",
       "      <th>age</th>\n",
       "      <th>subject_mean_age</th>\n",
       "      <th>subject_highest_age</th>\n",
       "      <th>subject_age_sum</th>\n",
       "      <th>head_random_roll</th>\n",
       "      <th>count</th>\n",
       "      <th>n_fold</th>\n",
       "    </tr>\n",
       "  </thead>\n",
       "  <tbody>\n",
       "    <tr>\n",
       "      <th>141</th>\n",
       "      <td>Azure Functions</td>\n",
       "      <td>There are two types of managed identities:\\n\\n...</td>\n",
       "      <td>f67cf9c04025c3a0f40df04e39e17716</td>\n",
       "      <td>-659.849493</td>\n",
       "      <td>-238.659300</td>\n",
       "      <td>659.849493</td>\n",
       "      <td>2386.593004</td>\n",
       "      <td>0.594091</td>\n",
       "      <td>0</td>\n",
       "      <td>0</td>\n",
       "    </tr>\n",
       "    <tr>\n",
       "      <th>142</th>\n",
       "      <td>Azure Functions</td>\n",
       "      <td>Fan out/fan in: This pattern runs multiple fun...</td>\n",
       "      <td>27d702948647d6ee02788bbddca6e1e1</td>\n",
       "      <td>-264.426186</td>\n",
       "      <td>-238.659300</td>\n",
       "      <td>659.849493</td>\n",
       "      <td>2386.593004</td>\n",
       "      <td>0.594091</td>\n",
       "      <td>3</td>\n",
       "      <td>0</td>\n",
       "    </tr>\n",
       "    <tr>\n",
       "      <th>143</th>\n",
       "      <td>Azure Functions</td>\n",
       "      <td>The name of the system-assigned service princi...</td>\n",
       "      <td>d123e4accbea5aa0b487db8bb37e393e</td>\n",
       "      <td>-126.039741</td>\n",
       "      <td>-238.659300</td>\n",
       "      <td>659.849493</td>\n",
       "      <td>2386.593004</td>\n",
       "      <td>0.594091</td>\n",
       "      <td>6</td>\n",
       "      <td>0</td>\n",
       "    </tr>\n",
       "    <tr>\n",
       "      <th>144</th>\n",
       "      <td>Azure Functions</td>\n",
       "      <td>2. Which of the following best describes the r...</td>\n",
       "      <td>a0d590c3ccb5acb4ac074724839b549d</td>\n",
       "      <td>-36.399051</td>\n",
       "      <td>-238.659300</td>\n",
       "      <td>659.849493</td>\n",
       "      <td>2386.593004</td>\n",
       "      <td>0.594091</td>\n",
       "      <td>9</td>\n",
       "      <td>0</td>\n",
       "    </tr>\n",
       "    <tr>\n",
       "      <th>94</th>\n",
       "      <td>DNS</td>\n",
       "      <td>Securing Zone Transfers\\nMeasures taken to pro...</td>\n",
       "      <td>29d80ddfc54d4c7ce2121c00053c35cd</td>\n",
       "      <td>-435.959061</td>\n",
       "      <td>-222.704542</td>\n",
       "      <td>435.959061</td>\n",
       "      <td>3563.272666</td>\n",
       "      <td>0.255879</td>\n",
       "      <td>0</td>\n",
       "      <td>0</td>\n",
       "    </tr>\n",
       "    <tr>\n",
       "      <th>95</th>\n",
       "      <td>DNS</td>\n",
       "      <td>SRV (Service) Records\\nDNS records that specif...</td>\n",
       "      <td>4193eaf48f50e71d6283bb58427c6f60</td>\n",
       "      <td>-326.552627</td>\n",
       "      <td>-222.704542</td>\n",
       "      <td>435.959061</td>\n",
       "      <td>3563.272666</td>\n",
       "      <td>0.255879</td>\n",
       "      <td>3</td>\n",
       "      <td>0</td>\n",
       "    </tr>\n",
       "    <tr>\n",
       "      <th>96</th>\n",
       "      <td>DNS</td>\n",
       "      <td>DNS Policies\\nA feature in Windows DNS Server ...</td>\n",
       "      <td>e14697957838c2353f653a56dac9ac16</td>\n",
       "      <td>-295.593728</td>\n",
       "      <td>-222.704542</td>\n",
       "      <td>435.959061</td>\n",
       "      <td>3563.272666</td>\n",
       "      <td>0.255879</td>\n",
       "      <td>6</td>\n",
       "      <td>0</td>\n",
       "    </tr>\n",
       "    <tr>\n",
       "      <th>97</th>\n",
       "      <td>DNS</td>\n",
       "      <td>DNS Zone Types\\nDifferent types of DNS zones i...</td>\n",
       "      <td>fce7107d54abe9418805d1b01937805d</td>\n",
       "      <td>-155.338649</td>\n",
       "      <td>-222.704542</td>\n",
       "      <td>435.959061</td>\n",
       "      <td>3563.272666</td>\n",
       "      <td>0.255879</td>\n",
       "      <td>9</td>\n",
       "      <td>0</td>\n",
       "    </tr>\n",
       "    <tr>\n",
       "      <th>98</th>\n",
       "      <td>DNS</td>\n",
       "      <td>Conditional Forwarding\\nA DNS configuration th...</td>\n",
       "      <td>307c5eb4cae4981eb5b4f0a6f1646b77</td>\n",
       "      <td>-94.203750</td>\n",
       "      <td>-222.704542</td>\n",
       "      <td>435.959061</td>\n",
       "      <td>3563.272666</td>\n",
       "      <td>0.255879</td>\n",
       "      <td>12</td>\n",
       "      <td>0</td>\n",
       "    </tr>\n",
       "    <tr>\n",
       "      <th>99</th>\n",
       "      <td>DNS</td>\n",
       "      <td>Stub Zone\\nA DNS zone that contains only essen...</td>\n",
       "      <td>ff86ccf34dc4e0d3a75966d5f4942595</td>\n",
       "      <td>-47.124538</td>\n",
       "      <td>-222.704542</td>\n",
       "      <td>435.959061</td>\n",
       "      <td>3563.272666</td>\n",
       "      <td>0.255879</td>\n",
       "      <td>15</td>\n",
       "      <td>0</td>\n",
       "    </tr>\n",
       "  </tbody>\n",
       "</table>\n",
       "</div>"
      ],
      "text/plain": [
       "                head                                               body  \\\n",
       "141  Azure Functions  There are two types of managed identities:\\n\\n...   \n",
       "142  Azure Functions  Fan out/fan in: This pattern runs multiple fun...   \n",
       "143  Azure Functions  The name of the system-assigned service princi...   \n",
       "144  Azure Functions  2. Which of the following best describes the r...   \n",
       "94               DNS  Securing Zone Transfers\\nMeasures taken to pro...   \n",
       "95               DNS  SRV (Service) Records\\nDNS records that specif...   \n",
       "96               DNS  DNS Policies\\nA feature in Windows DNS Server ...   \n",
       "97               DNS  DNS Zone Types\\nDifferent types of DNS zones i...   \n",
       "98               DNS  Conditional Forwarding\\nA DNS configuration th...   \n",
       "99               DNS  Stub Zone\\nA DNS zone that contains only essen...   \n",
       "\n",
       "                                 hash         age  subject_mean_age  \\\n",
       "141  f67cf9c04025c3a0f40df04e39e17716 -659.849493       -238.659300   \n",
       "142  27d702948647d6ee02788bbddca6e1e1 -264.426186       -238.659300   \n",
       "143  d123e4accbea5aa0b487db8bb37e393e -126.039741       -238.659300   \n",
       "144  a0d590c3ccb5acb4ac074724839b549d  -36.399051       -238.659300   \n",
       "94   29d80ddfc54d4c7ce2121c00053c35cd -435.959061       -222.704542   \n",
       "95   4193eaf48f50e71d6283bb58427c6f60 -326.552627       -222.704542   \n",
       "96   e14697957838c2353f653a56dac9ac16 -295.593728       -222.704542   \n",
       "97   fce7107d54abe9418805d1b01937805d -155.338649       -222.704542   \n",
       "98   307c5eb4cae4981eb5b4f0a6f1646b77  -94.203750       -222.704542   \n",
       "99   ff86ccf34dc4e0d3a75966d5f4942595  -47.124538       -222.704542   \n",
       "\n",
       "     subject_highest_age  subject_age_sum  head_random_roll  count  n_fold  \n",
       "141           659.849493      2386.593004          0.594091      0       0  \n",
       "142           659.849493      2386.593004          0.594091      3       0  \n",
       "143           659.849493      2386.593004          0.594091      6       0  \n",
       "144           659.849493      2386.593004          0.594091      9       0  \n",
       "94            435.959061      3563.272666          0.255879      0       0  \n",
       "95            435.959061      3563.272666          0.255879      3       0  \n",
       "96            435.959061      3563.272666          0.255879      6       0  \n",
       "97            435.959061      3563.272666          0.255879      9       0  \n",
       "98            435.959061      3563.272666          0.255879     12       0  \n",
       "99            435.959061      3563.272666          0.255879     15       0  "
      ]
     },
     "execution_count": 40,
     "metadata": {},
     "output_type": "execute_result"
    }
   ],
   "source": [
    "n=3\n",
    "existing_cards['count'] = existing_cards.sort_values('age', ascending=False).groupby('head').cumcount()\n",
    "existing_cards['n_fold'] = existing_cards['count'] % n\n",
    "\n",
    "existing_cards['subject_mean_age'] = existing_cards['subject_mean_age'] *-1\n",
    "existing_cards['age'] = existing_cards['age'] *-1\n",
    "existing_cards.sort_values(['n_fold', 'subject_mean_age', 'age'], inplace=True)\n",
    "remake_card_document(existing_cards=existing_cards)\n",
    "\n",
    "existing_cards.head(10)\n",
    "\n"
   ]
  },
  {
   "cell_type": "markdown",
   "metadata": {},
   "source": [
    "## Age Max"
   ]
  },
  {
   "cell_type": "code",
   "execution_count": 41,
   "metadata": {},
   "outputs": [],
   "source": [
    "# n = 1\n",
    "# existing_cards['count'] = existing_cards.sort_values('age', ascending=False).groupby('head').cumcount()\n",
    "# existing_cards['n_fold'] = existing_cards['count'] // n\n",
    "\n",
    "# if existing_cards['age'].sum() > 0:\n",
    "#     existing_cards['subject_highest_age'] = existing_cards['subject_highest_age'] *-1\n",
    "#     existing_cards['age'] = existing_cards['age'] *-1\n",
    "# existing_cards.sort_values(['n_fold', 'subject_highest_age', 'age'], inplace=True)\n",
    "\n",
    "# remake_card_document(existing_cards=existing_cards)\n",
    "# existing_cards.head(10)\n"
   ]
  },
  {
   "cell_type": "markdown",
   "metadata": {},
   "source": [
    "## Card Count"
   ]
  },
  {
   "cell_type": "code",
   "execution_count": 42,
   "metadata": {},
   "outputs": [],
   "source": [
    "# n=10\n",
    "# existing_cards['frequency']  = existing_cards.groupby('head').transform('count')['body']\n",
    "# existing_cards['count'] = existing_cards.sort_values('age', ascending=False).groupby('head').cumcount()\n",
    "# existing_cards['n_fold'] = existing_cards['count'] // n\n",
    "\n",
    "# if existing_cards['age'].sum() > 0:\n",
    "#     # existing_cards['neg_subject_highest_age'] = existing_cards['subject_highest_age'] *-1\n",
    "#     existing_cards['neg_age'] = existing_cards['age'] *-1\n",
    "# existing_cards.sort_values(['n_fold', 'frequency', 'neg_age'], inplace=True)\n",
    "# remake_card_document(existing_cards=existing_cards)\n",
    "\n",
    "# existing_cards.head(10)\n",
    "\n"
   ]
  },
  {
   "cell_type": "markdown",
   "metadata": {},
   "source": [
    "\n",
    "## Random"
   ]
  },
  {
   "cell_type": "code",
   "execution_count": 43,
   "metadata": {},
   "outputs": [],
   "source": [
    "# n = 3\n",
    "# existing_cards['count'] = existing_cards.sort_values('age', ascending=False).groupby('head').cumcount()\n",
    "# existing_cards['n_fold'] = existing_cards['count'] % n\n",
    "# existing_cards['age'] *= -1\n",
    "# existing_cards.sort_values(['n_fold', 'head_random_roll', 'age'], inplace=True)\n",
    "# remake_card_document(existing_cards=existing_cards)\n",
    "# existing_cards.head(10)"
   ]
  },
  {
   "cell_type": "code",
   "execution_count": 44,
   "metadata": {},
   "outputs": [
    {
     "data": {
      "text/plain": [
       "head                   Azure FunctionsAzure FunctionsAzure FunctionsA...\n",
       "body                   There are two types of managed identities:\\n\\n...\n",
       "hash                   f67cf9c04025c3a0f40df04e39e1771627d702948647d6...\n",
       "age                                                         -2441.486825\n",
       "subject_mean_age                                            -2290.864451\n",
       "subject_highest_age                                          5255.152342\n",
       "subject_age_sum                                             30926.008011\n",
       "head_random_roll                                                3.911641\n",
       "count                                                                 63\n",
       "n_fold                                                                 0\n",
       "dtype: object"
      ]
     },
     "execution_count": 44,
     "metadata": {},
     "output_type": "execute_result"
    }
   ],
   "source": [
    "existing_cards.head(10).sum()"
   ]
  },
  {
   "cell_type": "code",
   "execution_count": 45,
   "metadata": {},
   "outputs": [
    {
     "data": {
      "text/plain": [
       "-129.52171574502972"
      ]
     },
     "execution_count": 45,
     "metadata": {},
     "output_type": "execute_result"
    }
   ],
   "source": [
    "existing_cards['age'].mean()"
   ]
  }
 ],
 "metadata": {
  "kernelspec": {
   "display_name": "Python 3",
   "language": "python",
   "name": "python3"
  },
  "language_info": {
   "codemirror_mode": {
    "name": "ipython",
    "version": 3
   },
   "file_extension": ".py",
   "mimetype": "text/x-python",
   "name": "python",
   "nbconvert_exporter": "python",
   "pygments_lexer": "ipython3",
   "version": "3.10.10"
  }
 },
 "nbformat": 4,
 "nbformat_minor": 2
}
