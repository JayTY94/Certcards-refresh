{
 "cells": [
  {
   "cell_type": "code",
   "execution_count": 37,
   "metadata": {},
   "outputs": [],
   "source": [
    "import re\n",
    "import random\n",
    "import pandas as pd\n",
    "import hashlib"
   ]
  },
  {
   "cell_type": "code",
   "execution_count": 38,
   "metadata": {},
   "outputs": [],
   "source": [
    "with open('certcards2.txt', mode='r', encoding='utf8') as f:\n",
    "    all_cards = f.read()\n",
    "    \n",
    "card_split_pattern = r'\\n\\n\\n\\d+\\n'\n",
    "all_cards = re.split(card_split_pattern, all_cards)\n",
    "# Use re.DOTALL to allow . to match newline characters\n",
    "card_pattern = re.compile(r'(.+?)\\n([\\s\\S]+)', re.DOTALL)\n",
    "cards = [(match.group(1), match.group(2)) for cstring in all_cards if (match := re.search(card_pattern, cstring))]\n",
    "\n",
    "# removing the cards that have no content and trimming\n",
    "cards = [(subject, stripped_content) for subject, content in cards if len(stripped_content := content.strip()) > 5]\n",
    "\n",
    "def hash_string_md5(s):\n",
    "    \"\"\"\n",
    "    Hashes a string using MD5 and returns a truncated hash for efficiency.\n",
    "\n",
    "    Parameters:\n",
    "    - s (str): The input string to hash.\n",
    "\n",
    "    Returns:\n",
    "    - str: The truncated hexadecimal hash string.\n",
    "    \"\"\"\n",
    "    if pd.isnull(s):\n",
    "        return None  # Handle NaN values gracefully\n",
    "    return hashlib.md5(s.encode('utf-8')).hexdigest()\n",
    "\n",
    "\n",
    "def remake_card_document(existing_cards: pd.DataFrame, filename: str='certcards2.txt'):\n",
    "    with open(filename, mode='w', encoding='utf8') as f:\n",
    "        i = 1\n",
    "        for _, row in existing_cards.iterrows():\n",
    "            f.write('\\n'*6)\n",
    "            f.write(str(i)+'\\n')  \n",
    "            f.write(row['head']+'\\n')\n",
    "            f.write(row['body'])\n",
    "            i+=1\n",
    "    print(F\"Cards found: {existing_cards.shape[0]}\")\n",
    "\n",
    "\n",
    "existing_cards = pd.DataFrame(cards, columns=['head', 'body'])\n",
    "\n",
    "\n",
    "# existing_cards['age'] = [random.random() for _ in existing_cards.index]\n",
    "existing_cards['hash'] = existing_cards['body'].apply(hash_string_md5)\n",
    "existing_cards\n",
    "\n",
    "card_ages = pd.read_json('card_ages.json')\n",
    "card_ages = card_ages.drop_duplicates(subset=['hash'], keep='first')\n",
    "\n",
    "cards_to_age = pd.merge(\n",
    "    left=existing_cards,\n",
    "    right=card_ages[['hash', 'age']],\n",
    "    left_on='hash', right_on='hash',\n",
    "    how='left'\n",
    ")\n",
    "\n",
    "cards_to_age['head'] = cards_to_age['head'].str.strip()\n",
    "\n",
    "if cards_to_age['age'].sum() > 2e4: age_factor = 1\n",
    "else: age_factor = 1.00\n",
    "\n",
    "cards_to_age['age'] = cards_to_age['age'].fillna(0)\n",
    "cards_to_age['age'] = cards_to_age['age'] * age_factor\n",
    "cards_to_age['age'] = cards_to_age['age'] + [random.expovariate(.60) for _ in cards_to_age.index]\n",
    "# cards_to_age['age'] = cards_to_age['age'] * [random.expovariate(.5) for _ in cards_to_age.index]\n",
    "\n",
    "# Adding priority age growth to cards for upcoming certifications\n",
    "priority_headers = ['Azure Developer Associate']\n",
    "priority_cards_mask = cards_to_age['head'].isin(priority_headers)\n",
    "cards_to_age.loc[priority_cards_mask, 'age'] = cards_to_age.loc[priority_cards_mask, 'age'] * 1.1\n",
    "\n",
    "\n",
    "cards_to_age = cards_to_age.drop_duplicates(subset=['hash'], keep='first')\n",
    "\n",
    "cards_to_age['subject_mean_age'] = cards_to_age.groupby('head')['age'].transform('mean')\n",
    "cards_to_age['subject_highest_age'] = cards_to_age.groupby('head')['age'].transform('max')\n",
    "cards_to_age['subject_age_sum'] = cards_to_age.groupby('head')['age'].transform('sum')\n",
    "cards_to_age['head_random_roll'] = cards_to_age.groupby('head')['head'].transform(lambda x: random.random())\n",
    "\n",
    "\n",
    "cards_to_age.sort_values('hash')[['age', 'head', 'hash']].to_json('card_ages.json', indent=2)\n",
    "\n",
    "existing_cards = cards_to_age"
   ]
  },
  {
   "cell_type": "code",
   "execution_count": 39,
   "metadata": {},
   "outputs": [
    {
     "data": {
      "application/vnd.microsoft.datawrangler.viewer.v0+json": {
       "columns": [
        {
         "name": "index",
         "rawType": "object",
         "type": "string"
        },
        {
         "name": "age_sum",
         "rawType": "float64",
         "type": "float"
        },
        {
         "name": "age_mean",
         "rawType": "float64",
         "type": "float"
        },
        {
         "name": "age_max",
         "rawType": "float64",
         "type": "float"
        },
        {
         "name": "head_count",
         "rawType": "int64",
         "type": "integer"
        }
       ],
       "conversionMethod": "pd.DataFrame",
       "ref": "e8a1fa37-f0ba-446d-99cd-15b0d89745af",
       "rows": [
        [
         "Todd Ideas",
         "1400.3657751715773",
         "93.35771834477183",
         "176.9905247203692",
         "15"
        ],
        [
         "Email Auth and Security",
         "1804.886867582736",
         "150.407238965228",
         "513.2679600454055",
         "12"
        ],
        [
         "Azure AI Search",
         "1829.381662253886",
         "228.67270778173574",
         "437.570059058201",
         "8"
        ],
        [
         "Python",
         "1893.70180294965",
         "40.29152772233298",
         "64.04218800732633",
         "47"
        ],
        [
         "SharePoint",
         "2072.8300391856787",
         "172.73583659880657",
         "609.5928890638792",
         "12"
        ],
        [
         "Home Network Project",
         "2169.6065068498947",
         "216.96065068498947",
         "431.0837421529113",
         "10"
        ],
        [
         "Audit Report Tracker (Sharepoint List)",
         "2191.219995974985",
         "168.5553843057681",
         "410.09566595535347",
         "13"
        ],
        [
         "Azure Functions + Visual Studio",
         "2394.6803087163353",
         "171.04859347973823",
         "526.5524920787498",
         "14"
        ],
        [
         "IW Migration",
         "2550.8844372135372",
         "182.20603122953838",
         "496.9491861489598",
         "14"
        ],
        [
         "Debugging in VS Code",
         "2595.6721483762367",
         "129.78360741881184",
         "296.4000124033299",
         "20"
        ],
        [
         "Open Source/GitHub",
         "2799.2807312406717",
         "174.95504570254198",
         "404.39590714885696",
         "16"
        ],
        [
         "Terraform",
         "2897.328002698473",
         "115.89312010793893",
         "303.6763597739844",
         "25"
        ],
        [
         "Azure Developer Associate",
         "2978.4154584654416",
         "47.276435848657805",
         "133.54387879228042",
         "63"
        ],
        [
         "FSLogix",
         "3192.0815985972854",
         "133.00339994155357",
         "297.41628209927455",
         "24"
        ],
        [
         "DNS",
         "3685.1674783440244",
         "230.32296739650153",
         "448.0435981580059",
         "16"
        ],
        [
         "WSL + Kali Linux",
         "3905.3558767504255",
         "205.54504614475923",
         "443.10528290597574",
         "19"
        ],
        [
         "Azure Functions + PP365",
         "4221.652399840338",
         "183.55010434088427",
         "449.57945529655336",
         "23"
        ],
        [
         "Powershell Modules",
         "5015.462513026623",
         "172.94698320781458",
         "510.54179763599797",
         "29"
        ],
        [
         "Logging in Python",
         "5853.590427234513",
         "121.9498005673857",
         "672.9836442120557",
         "48"
        ],
        [
         "JavaScript Concepts",
         "6834.56847922235",
         "112.04210621675983",
         "463.7610758690454",
         "61"
        ],
        [
         "PnP Powershell",
         "7205.347284440169",
         "194.73911579568022",
         "483.3749203515603",
         "37"
        ],
        [
         "Vocab",
         "8139.629890578696",
         "111.50177932299584",
         "573.3934074730823",
         "73"
        ]
       ],
       "shape": {
        "columns": 4,
        "rows": 22
       }
      },
      "text/html": [
       "<div>\n",
       "<style scoped>\n",
       "    .dataframe tbody tr th:only-of-type {\n",
       "        vertical-align: middle;\n",
       "    }\n",
       "\n",
       "    .dataframe tbody tr th {\n",
       "        vertical-align: top;\n",
       "    }\n",
       "\n",
       "    .dataframe thead th {\n",
       "        text-align: right;\n",
       "    }\n",
       "</style>\n",
       "<table border=\"1\" class=\"dataframe\">\n",
       "  <thead>\n",
       "    <tr style=\"text-align: right;\">\n",
       "      <th></th>\n",
       "      <th>age_sum</th>\n",
       "      <th>age_mean</th>\n",
       "      <th>age_max</th>\n",
       "      <th>head_count</th>\n",
       "    </tr>\n",
       "  </thead>\n",
       "  <tbody>\n",
       "    <tr>\n",
       "      <th>Todd Ideas</th>\n",
       "      <td>1400.365775</td>\n",
       "      <td>93.357718</td>\n",
       "      <td>176.990525</td>\n",
       "      <td>15</td>\n",
       "    </tr>\n",
       "    <tr>\n",
       "      <th>Email Auth and Security</th>\n",
       "      <td>1804.886868</td>\n",
       "      <td>150.407239</td>\n",
       "      <td>513.267960</td>\n",
       "      <td>12</td>\n",
       "    </tr>\n",
       "    <tr>\n",
       "      <th>Azure AI Search</th>\n",
       "      <td>1829.381662</td>\n",
       "      <td>228.672708</td>\n",
       "      <td>437.570059</td>\n",
       "      <td>8</td>\n",
       "    </tr>\n",
       "    <tr>\n",
       "      <th>Python</th>\n",
       "      <td>1893.701803</td>\n",
       "      <td>40.291528</td>\n",
       "      <td>64.042188</td>\n",
       "      <td>47</td>\n",
       "    </tr>\n",
       "    <tr>\n",
       "      <th>SharePoint</th>\n",
       "      <td>2072.830039</td>\n",
       "      <td>172.735837</td>\n",
       "      <td>609.592889</td>\n",
       "      <td>12</td>\n",
       "    </tr>\n",
       "    <tr>\n",
       "      <th>Home Network Project</th>\n",
       "      <td>2169.606507</td>\n",
       "      <td>216.960651</td>\n",
       "      <td>431.083742</td>\n",
       "      <td>10</td>\n",
       "    </tr>\n",
       "    <tr>\n",
       "      <th>Audit Report Tracker (Sharepoint List)</th>\n",
       "      <td>2191.219996</td>\n",
       "      <td>168.555384</td>\n",
       "      <td>410.095666</td>\n",
       "      <td>13</td>\n",
       "    </tr>\n",
       "    <tr>\n",
       "      <th>Azure Functions + Visual Studio</th>\n",
       "      <td>2394.680309</td>\n",
       "      <td>171.048593</td>\n",
       "      <td>526.552492</td>\n",
       "      <td>14</td>\n",
       "    </tr>\n",
       "    <tr>\n",
       "      <th>IW Migration</th>\n",
       "      <td>2550.884437</td>\n",
       "      <td>182.206031</td>\n",
       "      <td>496.949186</td>\n",
       "      <td>14</td>\n",
       "    </tr>\n",
       "    <tr>\n",
       "      <th>Debugging in VS Code</th>\n",
       "      <td>2595.672148</td>\n",
       "      <td>129.783607</td>\n",
       "      <td>296.400012</td>\n",
       "      <td>20</td>\n",
       "    </tr>\n",
       "    <tr>\n",
       "      <th>Open Source/GitHub</th>\n",
       "      <td>2799.280731</td>\n",
       "      <td>174.955046</td>\n",
       "      <td>404.395907</td>\n",
       "      <td>16</td>\n",
       "    </tr>\n",
       "    <tr>\n",
       "      <th>Terraform</th>\n",
       "      <td>2897.328003</td>\n",
       "      <td>115.893120</td>\n",
       "      <td>303.676360</td>\n",
       "      <td>25</td>\n",
       "    </tr>\n",
       "    <tr>\n",
       "      <th>Azure Developer Associate</th>\n",
       "      <td>2978.415458</td>\n",
       "      <td>47.276436</td>\n",
       "      <td>133.543879</td>\n",
       "      <td>63</td>\n",
       "    </tr>\n",
       "    <tr>\n",
       "      <th>FSLogix</th>\n",
       "      <td>3192.081599</td>\n",
       "      <td>133.003400</td>\n",
       "      <td>297.416282</td>\n",
       "      <td>24</td>\n",
       "    </tr>\n",
       "    <tr>\n",
       "      <th>DNS</th>\n",
       "      <td>3685.167478</td>\n",
       "      <td>230.322967</td>\n",
       "      <td>448.043598</td>\n",
       "      <td>16</td>\n",
       "    </tr>\n",
       "    <tr>\n",
       "      <th>WSL + Kali Linux</th>\n",
       "      <td>3905.355877</td>\n",
       "      <td>205.545046</td>\n",
       "      <td>443.105283</td>\n",
       "      <td>19</td>\n",
       "    </tr>\n",
       "    <tr>\n",
       "      <th>Azure Functions + PP365</th>\n",
       "      <td>4221.652400</td>\n",
       "      <td>183.550104</td>\n",
       "      <td>449.579455</td>\n",
       "      <td>23</td>\n",
       "    </tr>\n",
       "    <tr>\n",
       "      <th>Powershell Modules</th>\n",
       "      <td>5015.462513</td>\n",
       "      <td>172.946983</td>\n",
       "      <td>510.541798</td>\n",
       "      <td>29</td>\n",
       "    </tr>\n",
       "    <tr>\n",
       "      <th>Logging in Python</th>\n",
       "      <td>5853.590427</td>\n",
       "      <td>121.949801</td>\n",
       "      <td>672.983644</td>\n",
       "      <td>48</td>\n",
       "    </tr>\n",
       "    <tr>\n",
       "      <th>JavaScript Concepts</th>\n",
       "      <td>6834.568479</td>\n",
       "      <td>112.042106</td>\n",
       "      <td>463.761076</td>\n",
       "      <td>61</td>\n",
       "    </tr>\n",
       "    <tr>\n",
       "      <th>PnP Powershell</th>\n",
       "      <td>7205.347284</td>\n",
       "      <td>194.739116</td>\n",
       "      <td>483.374920</td>\n",
       "      <td>37</td>\n",
       "    </tr>\n",
       "    <tr>\n",
       "      <th>Vocab</th>\n",
       "      <td>8139.629891</td>\n",
       "      <td>111.501779</td>\n",
       "      <td>573.393407</td>\n",
       "      <td>73</td>\n",
       "    </tr>\n",
       "  </tbody>\n",
       "</table>\n",
       "</div>"
      ],
      "text/plain": [
       "                                            age_sum    age_mean     age_max  \\\n",
       "Todd Ideas                              1400.365775   93.357718  176.990525   \n",
       "Email Auth and Security                 1804.886868  150.407239  513.267960   \n",
       "Azure AI Search                         1829.381662  228.672708  437.570059   \n",
       "Python                                  1893.701803   40.291528   64.042188   \n",
       "SharePoint                              2072.830039  172.735837  609.592889   \n",
       "Home Network Project                    2169.606507  216.960651  431.083742   \n",
       "Audit Report Tracker (Sharepoint List)  2191.219996  168.555384  410.095666   \n",
       "Azure Functions + Visual Studio         2394.680309  171.048593  526.552492   \n",
       "IW Migration                            2550.884437  182.206031  496.949186   \n",
       "Debugging in VS Code                    2595.672148  129.783607  296.400012   \n",
       "Open Source/GitHub                      2799.280731  174.955046  404.395907   \n",
       "Terraform                               2897.328003  115.893120  303.676360   \n",
       "Azure Developer Associate               2978.415458   47.276436  133.543879   \n",
       "FSLogix                                 3192.081599  133.003400  297.416282   \n",
       "DNS                                     3685.167478  230.322967  448.043598   \n",
       "WSL + Kali Linux                        3905.355877  205.545046  443.105283   \n",
       "Azure Functions + PP365                 4221.652400  183.550104  449.579455   \n",
       "Powershell Modules                      5015.462513  172.946983  510.541798   \n",
       "Logging in Python                       5853.590427  121.949801  672.983644   \n",
       "JavaScript Concepts                     6834.568479  112.042106  463.761076   \n",
       "PnP Powershell                          7205.347284  194.739116  483.374920   \n",
       "Vocab                                   8139.629891  111.501779  573.393407   \n",
       "\n",
       "                                        head_count  \n",
       "Todd Ideas                                      15  \n",
       "Email Auth and Security                         12  \n",
       "Azure AI Search                                  8  \n",
       "Python                                          47  \n",
       "SharePoint                                      12  \n",
       "Home Network Project                            10  \n",
       "Audit Report Tracker (Sharepoint List)          13  \n",
       "Azure Functions + Visual Studio                 14  \n",
       "IW Migration                                    14  \n",
       "Debugging in VS Code                            20  \n",
       "Open Source/GitHub                              16  \n",
       "Terraform                                       25  \n",
       "Azure Developer Associate                       63  \n",
       "FSLogix                                         24  \n",
       "DNS                                             16  \n",
       "WSL + Kali Linux                                19  \n",
       "Azure Functions + PP365                         23  \n",
       "Powershell Modules                              29  \n",
       "Logging in Python                               48  \n",
       "JavaScript Concepts                             61  \n",
       "PnP Powershell                                  37  \n",
       "Vocab                                           73  "
      ]
     },
     "execution_count": 39,
     "metadata": {},
     "output_type": "execute_result"
    }
   ],
   "source": [
    "stats = existing_cards.groupby('head').agg({'age': ['sum', 'mean', 'max'], 'head': 'count'}).sort_values(('age', 'sum'))\n",
    "stats.columns = stats.columns.to_flat_index()\n",
    "stats.columns = ['_'.join(col).strip() for col in stats.columns]\n",
    "stats.index.name = None\n",
    "stats"
   ]
  },
  {
   "cell_type": "markdown",
   "metadata": {},
   "source": [
    "# Histogram"
   ]
  },
  {
   "cell_type": "code",
   "execution_count": 40,
   "metadata": {},
   "outputs": [
    {
     "name": "stdout",
     "output_type": "stream",
     "text": [
      "77631.11\n"
     ]
    },
    {
     "data": {
      "text/plain": [
       "<Axes: >"
      ]
     },
     "execution_count": 40,
     "metadata": {},
     "output_type": "execute_result"
    },
    {
     "data": {
      "image/png": "[encoded data removed]",
      "text/plain": [
       "<Figure size 640x480 with 1 Axes>"
      ]
     },
     "metadata": {},
     "output_type": "display_data"
    }
   ],
   "source": [
    "print(f\"{existing_cards['age'].sum(0):.2f}\")\n",
    "existing_cards['age'].hist(bins=20)"
   ]
  },
  {
   "cell_type": "markdown",
   "metadata": {},
   "source": [
    "# Completely Random Shuffle"
   ]
  },
  {
   "cell_type": "code",
   "execution_count": 41,
   "metadata": {},
   "outputs": [],
   "source": [
    "# existing_cards = existing_cards.sample(frac=1)\n",
    "# remake_card_document(filename='certcards2.txt', existing_cards = existing_cards)"
   ]
  },
  {
   "cell_type": "markdown",
   "metadata": {},
   "source": [
    "# Age Sort"
   ]
  },
  {
   "cell_type": "code",
   "execution_count": 42,
   "metadata": {},
   "outputs": [],
   "source": [
    "# existing_cards = existing_cards.sort_values('age', ascending=False)\n",
    "# remake_card_document(filename='certcards2.txt', existing_cards=existing_cards)\n",
    "# existing_cards.head(10)"
   ]
  },
  {
   "cell_type": "markdown",
   "metadata": {},
   "source": [
    "# Headers with fewest notes first"
   ]
  },
  {
   "cell_type": "code",
   "execution_count": 43,
   "metadata": {},
   "outputs": [],
   "source": [
    "# frequency = existing_cards['head'].value_counts(ascending=True)\n",
    "\n",
    "# existing_cards = pd.merge(\n",
    "#     left=existing_cards,\n",
    "#     right=frequency.rename('frequency'),\n",
    "#     left_on='head', right_index=True,\n",
    "#     how='left'\n",
    "# )\n",
    "# existing_cards['oldest'] = existing_cards.groupby('head')['age'].transform('max')\n",
    "# existing_cards['subject_highest_age'] = existing_cards['subject_highest_age'] * -1\n",
    "# existing_cards['age'] = existing_cards['age'] * -1\n",
    "\n",
    "\n",
    "# existing_cards.sort_values(['frequency', 'subject_highest_age', 'age'], ascending=True, inplace=True)\n",
    "\n",
    "# remake_card_document(filename='certcards2.txt', existing_cards=existing_cards)\n",
    "\n",
    "# existing_cards.head(10)"
   ]
  },
  {
   "cell_type": "markdown",
   "metadata": {},
   "source": [
    "# Focus on one header"
   ]
  },
  {
   "cell_type": "code",
   "execution_count": 44,
   "metadata": {},
   "outputs": [],
   "source": [
    "# heads = existing_cards['head'].value_counts()\n",
    "# heads = heads[heads > 5].index.tolist()\n",
    "# one_header = random.sample(heads, 1)[0]\n",
    "# existing_cards['pick_head'] = existing_cards['head'].apply(\n",
    "#     lambda h: 0 if h == one_header else 1 \n",
    "# )\n",
    "\n",
    "# remake_card_document(existing_cards=existing_cards.sort_values('pick_head'))"
   ]
  },
  {
   "cell_type": "markdown",
   "metadata": {},
   "source": [
    "## Header with oldest cards first"
   ]
  },
  {
   "cell_type": "code",
   "execution_count": 45,
   "metadata": {},
   "outputs": [],
   "source": [
    "# existing_cards['oldest'] = existing_cards.groupby('head')['age'].transform('max')\n",
    "# existing_cards.sort_values(['oldest', 'age'], ascending=False, inplace=True)\n",
    "# remake_card_document(existing_cards)"
   ]
  },
  {
   "cell_type": "markdown",
   "metadata": {},
   "source": [
    "## Headers with greatest mean card age first"
   ]
  },
  {
   "cell_type": "code",
   "execution_count": 46,
   "metadata": {},
   "outputs": [],
   "source": [
    "# existing_cards.sort_values(['subject_mean_age', 'age'], ascending=False, inplace=True)\n",
    "# remake_card_document(existing_cards)"
   ]
  },
  {
   "cell_type": "markdown",
   "metadata": {},
   "source": [
    "## Headers with greatest age sum first"
   ]
  },
  {
   "cell_type": "code",
   "execution_count": 47,
   "metadata": {},
   "outputs": [],
   "source": [
    "# existing_cards.sort_values(['subject_age_sum', 'age'], ascending=False, inplace=True)\n",
    "# remake_card_document(existing_cards)"
   ]
  },
  {
   "cell_type": "markdown",
   "metadata": {},
   "source": [
    "# N-fold shuffle\n"
   ]
  },
  {
   "cell_type": "markdown",
   "metadata": {},
   "source": [
    "## Age Sum"
   ]
  },
  {
   "cell_type": "code",
   "execution_count": 48,
   "metadata": {},
   "outputs": [
    {
     "name": "stdout",
     "output_type": "stream",
     "text": [
      "Cards found: 599\n"
     ]
    },
    {
     "data": {
      "application/vnd.microsoft.datawrangler.viewer.v0+json": {
       "columns": [
        {
         "name": "index",
         "rawType": "int64",
         "type": "integer"
        },
        {
         "name": "head",
         "rawType": "object",
         "type": "string"
        },
        {
         "name": "body",
         "rawType": "object",
         "type": "string"
        },
        {
         "name": "hash",
         "rawType": "object",
         "type": "string"
        },
        {
         "name": "age",
         "rawType": "float64",
         "type": "float"
        },
        {
         "name": "subject_mean_age",
         "rawType": "float64",
         "type": "float"
        },
        {
         "name": "subject_highest_age",
         "rawType": "float64",
         "type": "float"
        },
        {
         "name": "subject_age_sum",
         "rawType": "float64",
         "type": "float"
        },
        {
         "name": "head_random_roll",
         "rawType": "float64",
         "type": "float"
        },
        {
         "name": "count",
         "rawType": "int64",
         "type": "integer"
        },
        {
         "name": "n_fold",
         "rawType": "int64",
         "type": "integer"
        }
       ],
       "conversionMethod": "pd.DataFrame",
       "ref": "e06c74e2-3ff8-4bc5-a619-4ba9ebeb34d1",
       "rows": [
        [
         "95",
         "Vocab",
         "Hieratic\nadjective\nSPA: hi-uh-RAT-ik\nIPA: /ˌhaɪəˈrætɪk/\n\nRelating to the simplified, cursive form of Egyptian hieroglyphs, used by priests in ancient Egypt for religious texts.\nExample: The hieratic script was employed for everyday purposes in ancient Egypt, in contrast to the more elaborate hieroglyphic script.",
         "ca40d5a4cd7caf50cb01f3c6d0964e6d",
         "-573.3934074730823",
         "111.50177932299584",
         "573.3934074730823",
         "-8139.629890578696",
         "0.02023069494340901",
         "0",
         "0"
        ],
        [
         "96",
         "Vocab",
         "Jane Eyre\nMerino (muh-REE-noh)\nA breed of sheep prized for its soft, fine wool, ideal for high-quality textiles. The term also refers to fabrics or garments made from this wool, valued for their warmth and luxurious texture.",
         "037c9dca3ca7d0e30bfc177987bb7c81",
         "-269.788564564701",
         "111.50177932299584",
         "573.3934074730823",
         "-8139.629890578696",
         "0.02023069494340901",
         "3",
         "0"
        ],
        [
         "97",
         "Vocab",
         "Jane Eyre\nBattledore and Shuttlecock\n(BAT-uhl-door and SHUT-l-kok) A predecessor to badminton, where players use paddles to hit a feathered object (shuttlecock) back and forth without letting it fall.",
         "942fe3d62addffa5ad77f939bb8ebaf0",
         "-248.0709378104898",
         "111.50177932299584",
         "573.3934074730823",
         "-8139.629890578696",
         "0.02023069494340901",
         "6",
         "0"
        ],
        [
         "305",
         "Vocab",
         "Jane Eyre\nHabergeon\n(HAB-er-juhn) A sleeveless, lightweight coat of mail armor, typically covering the torso and sometimes the upper arms, used for protection in medieval combat.",
         "7069c1e5e92d6d308943e287b0666bbb",
         "-186.1207755770497",
         "111.50177932299584",
         "573.3934074730823",
         "-8139.629890578696",
         "0.02023069494340901",
         "9",
         "0"
        ],
        [
         "99",
         "Vocab",
         "Intercalation\nnoun\nSPA: in-ter-kay-LAY-shun\nIPA: /ˌɪntəkəˈleɪʃən/\n\nThe insertion of an additional element, such as a day or month, into a calendar or text to maintain alignment or consistency.\nExample: The intercalation of a leap day every four years ensures that the calendar stays synchronized with Earth's orbit.",
         "23caa6b2b1c7d643d2da9e49a7b7a430",
         "-162.39138439686877",
         "111.50177932299584",
         "573.3934074730823",
         "-8139.629890578696",
         "0.02023069494340901",
         "12",
         "0"
        ],
        [
         "100",
         "Vocab",
         "Paleography\nnoun\nSPA: pay-lee-AW-gruh-fee\nIPA: /ˌpæliˈɒɡrəfi/\n\nThe study of ancient or historical handwriting, particularly as it pertains to deciphering, reading, and dating manuscripts.\nExample: The paleography of medieval texts helps historians understand the evolution of written language.",
         "64a0661b437833d32aae401f79372d49",
         "-154.2964026067386",
         "111.50177932299584",
         "573.3934074730823",
         "-8139.629890578696",
         "0.02023069494340901",
         "15",
         "0"
        ],
        [
         "101",
         "Vocab",
         "Do Androids Dream of Electric Sheep?\nMawkish (MAW-kish): Excessively sentimental, often in a way that is sickening or insipid.",
         "a437d563286118443fc91e1a6e39c0f5",
         "-128.13693405749737",
         "111.50177932299584",
         "573.3934074730823",
         "-8139.629890578696",
         "0.02023069494340901",
         "18",
         "0"
        ],
        [
         "102",
         "Vocab",
         "Jane Eyre\nDiablerie\n(dee-AH-bluh-ree) Mischievous, devilish behavior or sorcery; also refers to artwork, literature, or activities evoking dark, supernatural themes.",
         "5fd9ed86d208bdab1012a14b180dc9e3",
         "-119.56719978765737",
         "111.50177932299584",
         "573.3934074730823",
         "-8139.629890578696",
         "0.02023069494340901",
         "21",
         "0"
        ],
        [
         "310",
         "Vocab",
         "Do Androids Dream of Electric Sheep?\nCatalepsy (KAT-uh-lep-see): A medical condition characterized by a trance or seizure with a loss of sensation and consciousness, accompanied by rigidity of the body.",
         "a11dd02b1af092b0cbaa9a7563362942",
         "-105.84670550570411",
         "111.50177932299584",
         "573.3934074730823",
         "-8139.629890578696",
         "0.02023069494340901",
         "24",
         "0"
        ],
        [
         "508",
         "Vocab",
         "Lost in a Good Book\nHaggard and Hergé (authors): H. Rider Haggard, known for adventure novels like King Solomon's Mines, and Hergé, Belgian creator of The Adventures of Tintin comics.",
         "bd12caebdc972ca43ad1a11384d79187",
         "-102.0142063931873",
         "111.50177932299584",
         "573.3934074730823",
         "-8139.629890578696",
         "0.02023069494340901",
         "27",
         "0"
        ]
       ],
       "shape": {
        "columns": 10,
        "rows": 10
       }
      },
      "text/html": [
       "<div>\n",
       "<style scoped>\n",
       "    .dataframe tbody tr th:only-of-type {\n",
       "        vertical-align: middle;\n",
       "    }\n",
       "\n",
       "    .dataframe tbody tr th {\n",
       "        vertical-align: top;\n",
       "    }\n",
       "\n",
       "    .dataframe thead th {\n",
       "        text-align: right;\n",
       "    }\n",
       "</style>\n",
       "<table border=\"1\" class=\"dataframe\">\n",
       "  <thead>\n",
       "    <tr style=\"text-align: right;\">\n",
       "      <th></th>\n",
       "      <th>head</th>\n",
       "      <th>body</th>\n",
       "      <th>hash</th>\n",
       "      <th>age</th>\n",
       "      <th>subject_mean_age</th>\n",
       "      <th>subject_highest_age</th>\n",
       "      <th>subject_age_sum</th>\n",
       "      <th>head_random_roll</th>\n",
       "      <th>count</th>\n",
       "      <th>n_fold</th>\n",
       "    </tr>\n",
       "  </thead>\n",
       "  <tbody>\n",
       "    <tr>\n",
       "      <th>95</th>\n",
       "      <td>Vocab</td>\n",
       "      <td>Hieratic\\nadjective\\nSPA: hi-uh-RAT-ik\\nIPA: /...</td>\n",
       "      <td>ca40d5a4cd7caf50cb01f3c6d0964e6d</td>\n",
       "      <td>-573.393407</td>\n",
       "      <td>111.501779</td>\n",
       "      <td>573.393407</td>\n",
       "      <td>-8139.629891</td>\n",
       "      <td>0.020231</td>\n",
       "      <td>0</td>\n",
       "      <td>0</td>\n",
       "    </tr>\n",
       "    <tr>\n",
       "      <th>96</th>\n",
       "      <td>Vocab</td>\n",
       "      <td>Jane Eyre\\nMerino (muh-REE-noh)\\nA breed of sh...</td>\n",
       "      <td>037c9dca3ca7d0e30bfc177987bb7c81</td>\n",
       "      <td>-269.788565</td>\n",
       "      <td>111.501779</td>\n",
       "      <td>573.393407</td>\n",
       "      <td>-8139.629891</td>\n",
       "      <td>0.020231</td>\n",
       "      <td>3</td>\n",
       "      <td>0</td>\n",
       "    </tr>\n",
       "    <tr>\n",
       "      <th>97</th>\n",
       "      <td>Vocab</td>\n",
       "      <td>Jane Eyre\\nBattledore and Shuttlecock\\n(BAT-uh...</td>\n",
       "      <td>942fe3d62addffa5ad77f939bb8ebaf0</td>\n",
       "      <td>-248.070938</td>\n",
       "      <td>111.501779</td>\n",
       "      <td>573.393407</td>\n",
       "      <td>-8139.629891</td>\n",
       "      <td>0.020231</td>\n",
       "      <td>6</td>\n",
       "      <td>0</td>\n",
       "    </tr>\n",
       "    <tr>\n",
       "      <th>305</th>\n",
       "      <td>Vocab</td>\n",
       "      <td>Jane Eyre\\nHabergeon\\n(HAB-er-juhn) A sleevele...</td>\n",
       "      <td>7069c1e5e92d6d308943e287b0666bbb</td>\n",
       "      <td>-186.120776</td>\n",
       "      <td>111.501779</td>\n",
       "      <td>573.393407</td>\n",
       "      <td>-8139.629891</td>\n",
       "      <td>0.020231</td>\n",
       "      <td>9</td>\n",
       "      <td>0</td>\n",
       "    </tr>\n",
       "    <tr>\n",
       "      <th>99</th>\n",
       "      <td>Vocab</td>\n",
       "      <td>Intercalation\\nnoun\\nSPA: in-ter-kay-LAY-shun\\...</td>\n",
       "      <td>23caa6b2b1c7d643d2da9e49a7b7a430</td>\n",
       "      <td>-162.391384</td>\n",
       "      <td>111.501779</td>\n",
       "      <td>573.393407</td>\n",
       "      <td>-8139.629891</td>\n",
       "      <td>0.020231</td>\n",
       "      <td>12</td>\n",
       "      <td>0</td>\n",
       "    </tr>\n",
       "    <tr>\n",
       "      <th>100</th>\n",
       "      <td>Vocab</td>\n",
       "      <td>Paleography\\nnoun\\nSPA: pay-lee-AW-gruh-fee\\nI...</td>\n",
       "      <td>64a0661b437833d32aae401f79372d49</td>\n",
       "      <td>-154.296403</td>\n",
       "      <td>111.501779</td>\n",
       "      <td>573.393407</td>\n",
       "      <td>-8139.629891</td>\n",
       "      <td>0.020231</td>\n",
       "      <td>15</td>\n",
       "      <td>0</td>\n",
       "    </tr>\n",
       "    <tr>\n",
       "      <th>101</th>\n",
       "      <td>Vocab</td>\n",
       "      <td>Do Androids Dream of Electric Sheep?\\nMawkish ...</td>\n",
       "      <td>a437d563286118443fc91e1a6e39c0f5</td>\n",
       "      <td>-128.136934</td>\n",
       "      <td>111.501779</td>\n",
       "      <td>573.393407</td>\n",
       "      <td>-8139.629891</td>\n",
       "      <td>0.020231</td>\n",
       "      <td>18</td>\n",
       "      <td>0</td>\n",
       "    </tr>\n",
       "    <tr>\n",
       "      <th>102</th>\n",
       "      <td>Vocab</td>\n",
       "      <td>Jane Eyre\\nDiablerie\\n(dee-AH-bluh-ree) Mischi...</td>\n",
       "      <td>5fd9ed86d208bdab1012a14b180dc9e3</td>\n",
       "      <td>-119.567200</td>\n",
       "      <td>111.501779</td>\n",
       "      <td>573.393407</td>\n",
       "      <td>-8139.629891</td>\n",
       "      <td>0.020231</td>\n",
       "      <td>21</td>\n",
       "      <td>0</td>\n",
       "    </tr>\n",
       "    <tr>\n",
       "      <th>310</th>\n",
       "      <td>Vocab</td>\n",
       "      <td>Do Androids Dream of Electric Sheep?\\nCataleps...</td>\n",
       "      <td>a11dd02b1af092b0cbaa9a7563362942</td>\n",
       "      <td>-105.846706</td>\n",
       "      <td>111.501779</td>\n",
       "      <td>573.393407</td>\n",
       "      <td>-8139.629891</td>\n",
       "      <td>0.020231</td>\n",
       "      <td>24</td>\n",
       "      <td>0</td>\n",
       "    </tr>\n",
       "    <tr>\n",
       "      <th>508</th>\n",
       "      <td>Vocab</td>\n",
       "      <td>Lost in a Good Book\\nHaggard and Hergé (author...</td>\n",
       "      <td>bd12caebdc972ca43ad1a11384d79187</td>\n",
       "      <td>-102.014206</td>\n",
       "      <td>111.501779</td>\n",
       "      <td>573.393407</td>\n",
       "      <td>-8139.629891</td>\n",
       "      <td>0.020231</td>\n",
       "      <td>27</td>\n",
       "      <td>0</td>\n",
       "    </tr>\n",
       "  </tbody>\n",
       "</table>\n",
       "</div>"
      ],
      "text/plain": [
       "      head                                               body  \\\n",
       "95   Vocab  Hieratic\\nadjective\\nSPA: hi-uh-RAT-ik\\nIPA: /...   \n",
       "96   Vocab  Jane Eyre\\nMerino (muh-REE-noh)\\nA breed of sh...   \n",
       "97   Vocab  Jane Eyre\\nBattledore and Shuttlecock\\n(BAT-uh...   \n",
       "305  Vocab  Jane Eyre\\nHabergeon\\n(HAB-er-juhn) A sleevele...   \n",
       "99   Vocab  Intercalation\\nnoun\\nSPA: in-ter-kay-LAY-shun\\...   \n",
       "100  Vocab  Paleography\\nnoun\\nSPA: pay-lee-AW-gruh-fee\\nI...   \n",
       "101  Vocab  Do Androids Dream of Electric Sheep?\\nMawkish ...   \n",
       "102  Vocab  Jane Eyre\\nDiablerie\\n(dee-AH-bluh-ree) Mischi...   \n",
       "310  Vocab  Do Androids Dream of Electric Sheep?\\nCataleps...   \n",
       "508  Vocab  Lost in a Good Book\\nHaggard and Hergé (author...   \n",
       "\n",
       "                                 hash         age  subject_mean_age  \\\n",
       "95   ca40d5a4cd7caf50cb01f3c6d0964e6d -573.393407        111.501779   \n",
       "96   037c9dca3ca7d0e30bfc177987bb7c81 -269.788565        111.501779   \n",
       "97   942fe3d62addffa5ad77f939bb8ebaf0 -248.070938        111.501779   \n",
       "305  7069c1e5e92d6d308943e287b0666bbb -186.120776        111.501779   \n",
       "99   23caa6b2b1c7d643d2da9e49a7b7a430 -162.391384        111.501779   \n",
       "100  64a0661b437833d32aae401f79372d49 -154.296403        111.501779   \n",
       "101  a437d563286118443fc91e1a6e39c0f5 -128.136934        111.501779   \n",
       "102  5fd9ed86d208bdab1012a14b180dc9e3 -119.567200        111.501779   \n",
       "310  a11dd02b1af092b0cbaa9a7563362942 -105.846706        111.501779   \n",
       "508  bd12caebdc972ca43ad1a11384d79187 -102.014206        111.501779   \n",
       "\n",
       "     subject_highest_age  subject_age_sum  head_random_roll  count  n_fold  \n",
       "95            573.393407     -8139.629891          0.020231      0       0  \n",
       "96            573.393407     -8139.629891          0.020231      3       0  \n",
       "97            573.393407     -8139.629891          0.020231      6       0  \n",
       "305           573.393407     -8139.629891          0.020231      9       0  \n",
       "99            573.393407     -8139.629891          0.020231     12       0  \n",
       "100           573.393407     -8139.629891          0.020231     15       0  \n",
       "101           573.393407     -8139.629891          0.020231     18       0  \n",
       "102           573.393407     -8139.629891          0.020231     21       0  \n",
       "310           573.393407     -8139.629891          0.020231     24       0  \n",
       "508           573.393407     -8139.629891          0.020231     27       0  "
      ]
     },
     "execution_count": 48,
     "metadata": {},
     "output_type": "execute_result"
    }
   ],
   "source": [
    "n=3\n",
    "existing_cards['count'] = existing_cards.sort_values('age', ascending=False).groupby('head').cumcount()\n",
    "existing_cards['n_fold'] = existing_cards['count'] % n\n",
    "\n",
    "existing_cards['subject_age_sum'] = existing_cards['subject_age_sum'] *-1\n",
    "existing_cards['age'] = existing_cards['age'] *-1\n",
    "existing_cards.sort_values(['n_fold', 'subject_age_sum', 'age'], inplace=True)\n",
    "\n",
    "remake_card_document(existing_cards=existing_cards)\n",
    "existing_cards.head(10)\n"
   ]
  },
  {
   "cell_type": "markdown",
   "metadata": {},
   "source": [
    "## Age Mean"
   ]
  },
  {
   "cell_type": "code",
   "execution_count": 49,
   "metadata": {},
   "outputs": [],
   "source": [
    "# n=3\n",
    "# existing_cards['count'] = existing_cards.sort_values('age', ascending=False).groupby('head').cumcount()\n",
    "# existing_cards['n_fold'] = existing_cards['count'] % n\n",
    "\n",
    "# existing_cards['subject_mean_age'] = existing_cards['subject_mean_age'] *-1\n",
    "# existing_cards['age'] = existing_cards['age'] *-1\n",
    "# existing_cards.sort_values(['n_fold', 'subject_mean_age', 'age'], inplace=True)\n",
    "# remake_card_document(existing_cards=existing_cards)\n",
    "\n",
    "# existing_cards.head(10)\n",
    "\n"
   ]
  },
  {
   "cell_type": "markdown",
   "metadata": {},
   "source": [
    "## Age Max"
   ]
  },
  {
   "cell_type": "code",
   "execution_count": 50,
   "metadata": {},
   "outputs": [],
   "source": [
    "# n = 1\n",
    "# existing_cards['count'] = existing_cards.sort_values('age', ascending=False).groupby('head').cumcount()\n",
    "# existing_cards['n_fold'] = existing_cards['count'] // n\n",
    "\n",
    "# if existing_cards['age'].sum() > 0:\n",
    "#     existing_cards['subject_highest_age'] = existing_cards['subject_highest_age'] *-1\n",
    "#     existing_cards['age'] = existing_cards['age'] *-1\n",
    "# existing_cards.sort_values(['n_fold', 'subject_highest_age', 'age'], inplace=True)\n",
    "\n",
    "# remake_card_document(existing_cards=existing_cards)\n",
    "# existing_cards.head(10)\n"
   ]
  },
  {
   "cell_type": "markdown",
   "metadata": {},
   "source": [
    "## Card Count"
   ]
  },
  {
   "cell_type": "code",
   "execution_count": 51,
   "metadata": {},
   "outputs": [],
   "source": [
    "# n=10\n",
    "# existing_cards['frequency']  = existing_cards.groupby('head').transform('count')['body']\n",
    "# existing_cards['count'] = existing_cards.sort_values('age', ascending=False).groupby('head').cumcount()\n",
    "# existing_cards['n_fold'] = existing_cards['count'] // n\n",
    "\n",
    "# if existing_cards['age'].sum() > 0:\n",
    "#     # existing_cards['neg_subject_highest_age'] = existing_cards['subject_highest_age'] *-1\n",
    "#     existing_cards['neg_age'] = existing_cards['age'] *-1\n",
    "# existing_cards.sort_values(['n_fold', 'frequency', 'neg_age'], inplace=True)\n",
    "# remake_card_document(existing_cards=existing_cards)\n",
    "\n",
    "# existing_cards.head(10)\n",
    "\n"
   ]
  },
  {
   "cell_type": "markdown",
   "metadata": {},
   "source": [
    "\n",
    "## Random"
   ]
  },
  {
   "cell_type": "code",
   "execution_count": 52,
   "metadata": {},
   "outputs": [],
   "source": [
    "# n = 3\n",
    "# existing_cards['count'] = existing_cards.sort_values('age', ascending=False).groupby('head').cumcount()\n",
    "# existing_cards['n_fold'] = existing_cards['count'] % n\n",
    "# existing_cards['age'] *= -1\n",
    "# existing_cards.sort_values(['n_fold', 'head_random_roll', 'age'], inplace=True)\n",
    "# remake_card_document(existing_cards=existing_cards)\n",
    "# existing_cards.head(10)"
   ]
  },
  {
   "cell_type": "code",
   "execution_count": 53,
   "metadata": {},
   "outputs": [
    {
     "data": {
      "text/plain": [
       "head                   VocabVocabVocabVocabVocabVocabVocabVocabVocabV...\n",
       "body                   Hieratic\\nadjective\\nSPA: hi-uh-RAT-ik\\nIPA: /...\n",
       "hash                   ca40d5a4cd7caf50cb01f3c6d0964e6d037c9dca3ca7d0...\n",
       "age                                                         -2049.626518\n",
       "subject_mean_age                                             1115.017793\n",
       "subject_highest_age                                          5733.934075\n",
       "subject_age_sum                                            -81396.298906\n",
       "head_random_roll                                                0.202307\n",
       "count                                                                135\n",
       "n_fold                                                                 0\n",
       "dtype: object"
      ]
     },
     "execution_count": 53,
     "metadata": {},
     "output_type": "execute_result"
    }
   ],
   "source": [
    "existing_cards.head(10).sum()"
   ]
  },
  {
   "cell_type": "code",
   "execution_count": 54,
   "metadata": {},
   "outputs": [
    {
     "data": {
      "text/plain": [
       "-129.6011847824934"
      ]
     },
     "execution_count": 54,
     "metadata": {},
     "output_type": "execute_result"
    }
   ],
   "source": [
    "existing_cards['age'].mean()"
   ]
  }
 ],
 "metadata": {
  "kernelspec": {
   "display_name": "Python 3",
   "language": "python",
   "name": "python3"
  },
  "language_info": {
   "codemirror_mode": {
    "name": "ipython",
    "version": 3
   },
   "file_extension": ".py",
   "mimetype": "text/x-python",
   "name": "python",
   "nbconvert_exporter": "python",
   "pygments_lexer": "ipython3",
   "version": "3.11.9"
  }
 },
 "nbformat": 4,
 "nbformat_minor": 2
}
