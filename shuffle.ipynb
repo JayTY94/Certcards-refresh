{
 "cells": [
  {
   "cell_type": "code",
   "execution_count": 1,
   "metadata": {},
   "outputs": [],
   "source": [
    "import re\n",
    "import random\n",
    "import pandas as pd\n",
    "import hashlib"
   ]
  },
  {
   "cell_type": "code",
   "execution_count": 2,
   "metadata": {},
   "outputs": [],
   "source": [
    "with open('certcards2.txt', mode='r', encoding='utf8') as f:\n",
    "    all_cards = f.read()\n",
    "    \n",
    "card_split_pattern = r'\\n\\n\\n\\d+\\n'\n",
    "all_cards = re.split(card_split_pattern, all_cards)\n",
    "# Use re.DOTALL to allow . to match newline characters\n",
    "card_pattern = re.compile(r'(.+?)\\n([\\s\\S]+)', re.DOTALL)\n",
    "cards = [(match.group(1), match.group(2)) for cstring in all_cards if (match := re.search(card_pattern, cstring))]\n",
    "\n",
    "# removing the cards that have no content and trimming\n",
    "cards = [(subject, stripped_content) for subject, content in cards if len(stripped_content := content.strip()) > 5]\n",
    "\n",
    "def hash_string_md5(s):\n",
    "    \"\"\"\n",
    "    Hashes a string using MD5 and returns a truncated hash for efficiency.\n",
    "\n",
    "    Parameters:\n",
    "    - s (str): The input string to hash.\n",
    "\n",
    "    Returns:\n",
    "    - str: The truncated hexadecimal hash string.\n",
    "    \"\"\"\n",
    "    if pd.isnull(s):\n",
    "        return None  # Handle NaN values gracefully\n",
    "    return hashlib.md5(s.encode('utf-8')).hexdigest()\n",
    "\n",
    "\n",
    "def remake_card_document(existing_cards: pd.DataFrame, filename: str='certcards2.txt'):\n",
    "    with open(filename, mode='w', encoding='utf8') as f:\n",
    "        i = 1\n",
    "        for _, row in existing_cards.iterrows():\n",
    "            f.write('\\n'*6)\n",
    "            f.write(str(i)+'\\n')  \n",
    "            f.write(row['head']+'\\n')\n",
    "            f.write(row['body'])\n",
    "            i+=1\n",
    "    print(F\"Cards found: {existing_cards.shape[0]}\")\n",
    "\n",
    "\n",
    "existing_cards = pd.DataFrame(cards, columns=['head', 'body'])\n",
    "\n",
    "\n",
    "# existing_cards['age'] = [random.random() for _ in existing_cards.index]\n",
    "existing_cards['hash'] = existing_cards['body'].apply(hash_string_md5)\n",
    "existing_cards\n",
    "\n",
    "card_ages = pd.read_json('card_ages.json')\n",
    "card_ages = card_ages.drop_duplicates(subset=['hash'], keep='first')\n",
    "\n",
    "cards_to_age = pd.merge(\n",
    "    left=existing_cards,\n",
    "    right=card_ages[['hash', 'age']],\n",
    "    left_on='hash', right_on='hash',\n",
    "    how='left'\n",
    ")\n",
    "\n",
    "cards_to_age['head'] = cards_to_age['head'].str.strip()\n",
    "\n",
    "if cards_to_age['age'].sum() > 2e4: age_factor = 1\n",
    "else: age_factor = 1.00\n",
    "\n",
    "cards_to_age['age'] = cards_to_age['age'].fillna(0)\n",
    "cards_to_age['age'] = cards_to_age['age'] * age_factor\n",
    "cards_to_age['age'] = cards_to_age['age'] + [random.expovariate(.60) for _ in cards_to_age.index]\n",
    "# cards_to_age['age'] = cards_to_age['age'] * [random.expovariate(.5) for _ in cards_to_age.index]\n",
    "\n",
    "# Adding priority age growth to cards for upcoming certifications\n",
    "priority_headers = ['Azure Developer Associate']\n",
    "priority_cards_mask = cards_to_age['head'].isin(priority_headers)\n",
    "cards_to_age.loc[priority_cards_mask, 'age'] = cards_to_age.loc[priority_cards_mask, 'age'] * 1.1\n",
    "\n",
    "\n",
    "cards_to_age = cards_to_age.drop_duplicates(subset=['hash'], keep='first')\n",
    "\n",
    "cards_to_age['subject_mean_age'] = cards_to_age.groupby('head')['age'].transform('mean')\n",
    "cards_to_age['subject_highest_age'] = cards_to_age.groupby('head')['age'].transform('max')\n",
    "cards_to_age['subject_age_sum'] = cards_to_age.groupby('head')['age'].transform('sum')\n",
    "cards_to_age['head_random_roll'] = cards_to_age.groupby('head')['head'].transform(lambda x: random.random())\n",
    "\n",
    "\n",
    "cards_to_age.sort_values('hash')[['age', 'head', 'hash']].to_json('card_ages.json', indent=2)\n",
    "\n",
    "existing_cards = cards_to_age"
   ]
  },
  {
   "cell_type": "code",
   "execution_count": 3,
   "metadata": {},
   "outputs": [
    {
     "data": {
      "application/vnd.microsoft.datawrangler.viewer.v0+json": {
       "columns": [
        {
         "name": "index",
         "rawType": "object",
         "type": "string"
        },
        {
         "name": "age_sum",
         "rawType": "float64",
         "type": "float"
        },
        {
         "name": "age_mean",
         "rawType": "float64",
         "type": "float"
        },
        {
         "name": "age_max",
         "rawType": "float64",
         "type": "float"
        },
        {
         "name": "head_count",
         "rawType": "int64",
         "type": "integer"
        }
       ],
       "conversionMethod": "pd.DataFrame",
       "ref": "2236b2fe-d360-450c-abb5-d2c91b3f42cc",
       "rows": [
        [
         "Azure Developer Associate",
         "673.3106972752748",
         "15.658388308727321",
         "41.90560883293855",
         "43"
        ],
        [
         "OData",
         "774.5983613890121",
         "193.64959034725302",
         "295.23117050371656",
         "4"
        ],
        [
         "Todd Ideas",
         "1190.3151694948838",
         "79.35434463299225",
         "165.33693162119232",
         "15"
        ],
        [
         "Python",
         "1192.833999179378",
         "25.379446791050597",
         "37.82653577029723",
         "47"
        ],
        [
         "Email Auth and Security",
         "1612.1729289906525",
         "134.34774408255439",
         "494.91587960744164",
         "12"
        ],
        [
         "SharePoint",
         "1882.7622973371654",
         "156.89685811143045",
         "598.416536657767",
         "12"
        ],
        [
         "Audit Report Tracker (Sharepoint List)",
         "2015.9406841917464",
         "155.07236032244202",
         "389.8371383341397",
         "13"
        ],
        [
         "Azure Functions + Visual Studio",
         "2177.9528352959337",
         "155.56805966399526",
         "499.4771354368843",
         "14"
        ],
        [
         "Debugging in VS Code",
         "2275.8513166112166",
         "113.79256583056083",
         "279.0723376438009",
         "20"
        ],
        [
         "IW Migration",
         "2350.0682189204836",
         "167.8620156371774",
         "480.2317903443924",
         "14"
        ],
        [
         "Azure AI Search",
         "2398.3542318659765",
         "266.48380354066404",
         "702.9451875374054",
         "9"
        ],
        [
         "Terraform",
         "2519.344405594012",
         "100.77377622376049",
         "276.8621866105991",
         "25"
        ],
        [
         "Open Source/GitHub",
         "2558.3565969098904",
         "159.89728730686815",
         "381.94612467957353",
         "16"
        ],
        [
         "FSLogix",
         "2845.213207741464",
         "118.550550322561",
         "281.12610266687454",
         "24"
        ],
        [
         "Azure Functions",
         "3097.747757694757",
         "281.6134325177052",
         "767.8455914422076",
         "11"
        ],
        [
         "Home Network Project",
         "3272.690921262837",
         "204.54318257892731",
         "479.141857776378",
         "16"
        ],
        [
         "DNS",
         "3457.410482338139",
         "216.0881551461337",
         "424.30440154961866",
         "16"
        ],
        [
         "WSL + Kali Linux",
         "3626.1457646552817",
         "190.8497770871201",
         "426.2215382653537",
         "19"
        ],
        [
         "Azure Functions + PP365",
         "3870.030795307373",
         "168.2622084916249",
         "436.4352122516046",
         "23"
        ],
        [
         "Powershell Modules",
         "5259.196294632894",
         "175.3065431544298",
         "695.6653268260776",
         "30"
        ],
        [
         "Logging in Python",
         "5844.701854847594",
         "119.27962969076724",
         "694.8683952352305",
         "49"
        ],
        [
         "PnP Powershell",
         "7290.572856548542",
         "191.85718043548795",
         "673.596561371688",
         "38"
        ],
        [
         "Vocab",
         "7906.090090297375",
         "106.83905527428885",
         "883.0940190689753",
         "74"
        ],
        [
         "JavaScript Concepts",
         "8095.671347921429",
         "132.71592373641687",
         "449.682336338046",
         "61"
        ]
       ],
       "shape": {
        "columns": 4,
        "rows": 24
       }
      },
      "text/html": [
       "<div>\n",
       "<style scoped>\n",
       "    .dataframe tbody tr th:only-of-type {\n",
       "        vertical-align: middle;\n",
       "    }\n",
       "\n",
       "    .dataframe tbody tr th {\n",
       "        vertical-align: top;\n",
       "    }\n",
       "\n",
       "    .dataframe thead th {\n",
       "        text-align: right;\n",
       "    }\n",
       "</style>\n",
       "<table border=\"1\" class=\"dataframe\">\n",
       "  <thead>\n",
       "    <tr style=\"text-align: right;\">\n",
       "      <th></th>\n",
       "      <th>age_sum</th>\n",
       "      <th>age_mean</th>\n",
       "      <th>age_max</th>\n",
       "      <th>head_count</th>\n",
       "    </tr>\n",
       "  </thead>\n",
       "  <tbody>\n",
       "    <tr>\n",
       "      <th>Azure Developer Associate</th>\n",
       "      <td>673.310697</td>\n",
       "      <td>15.658388</td>\n",
       "      <td>41.905609</td>\n",
       "      <td>43</td>\n",
       "    </tr>\n",
       "    <tr>\n",
       "      <th>OData</th>\n",
       "      <td>774.598361</td>\n",
       "      <td>193.649590</td>\n",
       "      <td>295.231171</td>\n",
       "      <td>4</td>\n",
       "    </tr>\n",
       "    <tr>\n",
       "      <th>Todd Ideas</th>\n",
       "      <td>1190.315169</td>\n",
       "      <td>79.354345</td>\n",
       "      <td>165.336932</td>\n",
       "      <td>15</td>\n",
       "    </tr>\n",
       "    <tr>\n",
       "      <th>Python</th>\n",
       "      <td>1192.833999</td>\n",
       "      <td>25.379447</td>\n",
       "      <td>37.826536</td>\n",
       "      <td>47</td>\n",
       "    </tr>\n",
       "    <tr>\n",
       "      <th>Email Auth and Security</th>\n",
       "      <td>1612.172929</td>\n",
       "      <td>134.347744</td>\n",
       "      <td>494.915880</td>\n",
       "      <td>12</td>\n",
       "    </tr>\n",
       "    <tr>\n",
       "      <th>SharePoint</th>\n",
       "      <td>1882.762297</td>\n",
       "      <td>156.896858</td>\n",
       "      <td>598.416537</td>\n",
       "      <td>12</td>\n",
       "    </tr>\n",
       "    <tr>\n",
       "      <th>Audit Report Tracker (Sharepoint List)</th>\n",
       "      <td>2015.940684</td>\n",
       "      <td>155.072360</td>\n",
       "      <td>389.837138</td>\n",
       "      <td>13</td>\n",
       "    </tr>\n",
       "    <tr>\n",
       "      <th>Azure Functions + Visual Studio</th>\n",
       "      <td>2177.952835</td>\n",
       "      <td>155.568060</td>\n",
       "      <td>499.477135</td>\n",
       "      <td>14</td>\n",
       "    </tr>\n",
       "    <tr>\n",
       "      <th>Debugging in VS Code</th>\n",
       "      <td>2275.851317</td>\n",
       "      <td>113.792566</td>\n",
       "      <td>279.072338</td>\n",
       "      <td>20</td>\n",
       "    </tr>\n",
       "    <tr>\n",
       "      <th>IW Migration</th>\n",
       "      <td>2350.068219</td>\n",
       "      <td>167.862016</td>\n",
       "      <td>480.231790</td>\n",
       "      <td>14</td>\n",
       "    </tr>\n",
       "    <tr>\n",
       "      <th>Azure AI Search</th>\n",
       "      <td>2398.354232</td>\n",
       "      <td>266.483804</td>\n",
       "      <td>702.945188</td>\n",
       "      <td>9</td>\n",
       "    </tr>\n",
       "    <tr>\n",
       "      <th>Terraform</th>\n",
       "      <td>2519.344406</td>\n",
       "      <td>100.773776</td>\n",
       "      <td>276.862187</td>\n",
       "      <td>25</td>\n",
       "    </tr>\n",
       "    <tr>\n",
       "      <th>Open Source/GitHub</th>\n",
       "      <td>2558.356597</td>\n",
       "      <td>159.897287</td>\n",
       "      <td>381.946125</td>\n",
       "      <td>16</td>\n",
       "    </tr>\n",
       "    <tr>\n",
       "      <th>FSLogix</th>\n",
       "      <td>2845.213208</td>\n",
       "      <td>118.550550</td>\n",
       "      <td>281.126103</td>\n",
       "      <td>24</td>\n",
       "    </tr>\n",
       "    <tr>\n",
       "      <th>Azure Functions</th>\n",
       "      <td>3097.747758</td>\n",
       "      <td>281.613433</td>\n",
       "      <td>767.845591</td>\n",
       "      <td>11</td>\n",
       "    </tr>\n",
       "    <tr>\n",
       "      <th>Home Network Project</th>\n",
       "      <td>3272.690921</td>\n",
       "      <td>204.543183</td>\n",
       "      <td>479.141858</td>\n",
       "      <td>16</td>\n",
       "    </tr>\n",
       "    <tr>\n",
       "      <th>DNS</th>\n",
       "      <td>3457.410482</td>\n",
       "      <td>216.088155</td>\n",
       "      <td>424.304402</td>\n",
       "      <td>16</td>\n",
       "    </tr>\n",
       "    <tr>\n",
       "      <th>WSL + Kali Linux</th>\n",
       "      <td>3626.145765</td>\n",
       "      <td>190.849777</td>\n",
       "      <td>426.221538</td>\n",
       "      <td>19</td>\n",
       "    </tr>\n",
       "    <tr>\n",
       "      <th>Azure Functions + PP365</th>\n",
       "      <td>3870.030795</td>\n",
       "      <td>168.262208</td>\n",
       "      <td>436.435212</td>\n",
       "      <td>23</td>\n",
       "    </tr>\n",
       "    <tr>\n",
       "      <th>Powershell Modules</th>\n",
       "      <td>5259.196295</td>\n",
       "      <td>175.306543</td>\n",
       "      <td>695.665327</td>\n",
       "      <td>30</td>\n",
       "    </tr>\n",
       "    <tr>\n",
       "      <th>Logging in Python</th>\n",
       "      <td>5844.701855</td>\n",
       "      <td>119.279630</td>\n",
       "      <td>694.868395</td>\n",
       "      <td>49</td>\n",
       "    </tr>\n",
       "    <tr>\n",
       "      <th>PnP Powershell</th>\n",
       "      <td>7290.572857</td>\n",
       "      <td>191.857180</td>\n",
       "      <td>673.596561</td>\n",
       "      <td>38</td>\n",
       "    </tr>\n",
       "    <tr>\n",
       "      <th>Vocab</th>\n",
       "      <td>7906.090090</td>\n",
       "      <td>106.839055</td>\n",
       "      <td>883.094019</td>\n",
       "      <td>74</td>\n",
       "    </tr>\n",
       "    <tr>\n",
       "      <th>JavaScript Concepts</th>\n",
       "      <td>8095.671348</td>\n",
       "      <td>132.715924</td>\n",
       "      <td>449.682336</td>\n",
       "      <td>61</td>\n",
       "    </tr>\n",
       "  </tbody>\n",
       "</table>\n",
       "</div>"
      ],
      "text/plain": [
       "                                            age_sum    age_mean     age_max  \\\n",
       "Azure Developer Associate                673.310697   15.658388   41.905609   \n",
       "OData                                    774.598361  193.649590  295.231171   \n",
       "Todd Ideas                              1190.315169   79.354345  165.336932   \n",
       "Python                                  1192.833999   25.379447   37.826536   \n",
       "Email Auth and Security                 1612.172929  134.347744  494.915880   \n",
       "SharePoint                              1882.762297  156.896858  598.416537   \n",
       "Audit Report Tracker (Sharepoint List)  2015.940684  155.072360  389.837138   \n",
       "Azure Functions + Visual Studio         2177.952835  155.568060  499.477135   \n",
       "Debugging in VS Code                    2275.851317  113.792566  279.072338   \n",
       "IW Migration                            2350.068219  167.862016  480.231790   \n",
       "Azure AI Search                         2398.354232  266.483804  702.945188   \n",
       "Terraform                               2519.344406  100.773776  276.862187   \n",
       "Open Source/GitHub                      2558.356597  159.897287  381.946125   \n",
       "FSLogix                                 2845.213208  118.550550  281.126103   \n",
       "Azure Functions                         3097.747758  281.613433  767.845591   \n",
       "Home Network Project                    3272.690921  204.543183  479.141858   \n",
       "DNS                                     3457.410482  216.088155  424.304402   \n",
       "WSL + Kali Linux                        3626.145765  190.849777  426.221538   \n",
       "Azure Functions + PP365                 3870.030795  168.262208  436.435212   \n",
       "Powershell Modules                      5259.196295  175.306543  695.665327   \n",
       "Logging in Python                       5844.701855  119.279630  694.868395   \n",
       "PnP Powershell                          7290.572857  191.857180  673.596561   \n",
       "Vocab                                   7906.090090  106.839055  883.094019   \n",
       "JavaScript Concepts                     8095.671348  132.715924  449.682336   \n",
       "\n",
       "                                        head_count  \n",
       "Azure Developer Associate                       43  \n",
       "OData                                            4  \n",
       "Todd Ideas                                      15  \n",
       "Python                                          47  \n",
       "Email Auth and Security                         12  \n",
       "SharePoint                                      12  \n",
       "Audit Report Tracker (Sharepoint List)          13  \n",
       "Azure Functions + Visual Studio                 14  \n",
       "Debugging in VS Code                            20  \n",
       "IW Migration                                    14  \n",
       "Azure AI Search                                  9  \n",
       "Terraform                                       25  \n",
       "Open Source/GitHub                              16  \n",
       "FSLogix                                         24  \n",
       "Azure Functions                                 11  \n",
       "Home Network Project                            16  \n",
       "DNS                                             16  \n",
       "WSL + Kali Linux                                19  \n",
       "Azure Functions + PP365                         23  \n",
       "Powershell Modules                              30  \n",
       "Logging in Python                               49  \n",
       "PnP Powershell                                  38  \n",
       "Vocab                                           74  \n",
       "JavaScript Concepts                             61  "
      ]
     },
     "execution_count": 3,
     "metadata": {},
     "output_type": "execute_result"
    }
   ],
   "source": [
    "stats = existing_cards.groupby('head').agg({'age': ['sum', 'mean', 'max'], 'head': 'count'}).sort_values(('age', 'sum'))\n",
    "stats.columns = stats.columns.to_flat_index()\n",
    "stats.columns = ['_'.join(col).strip() for col in stats.columns]\n",
    "stats.index.name = None\n",
    "stats"
   ]
  },
  {
   "cell_type": "markdown",
   "metadata": {},
   "source": [
    "# Histogram"
   ]
  },
  {
   "cell_type": "code",
   "execution_count": 4,
   "metadata": {},
   "outputs": [
    {
     "name": "stdout",
     "output_type": "stream",
     "text": [
      "78187.33\n"
     ]
    },
    {
     "data": {
      "text/plain": [
       "<Axes: >"
      ]
     },
     "execution_count": 4,
     "metadata": {},
     "output_type": "execute_result"
    },
    {
     "data": {
      "image/png": "[encoded data removed]",
      "text/plain": [
       "<Figure size 640x480 with 1 Axes>"
      ]
     },
     "metadata": {},
     "output_type": "display_data"
    }
   ],
   "source": [
    "print(f\"{existing_cards['age'].sum(0):.2f}\")\n",
    "existing_cards['age'].hist(bins=20)"
   ]
  },
  {
   "cell_type": "markdown",
   "metadata": {},
   "source": [
    "# Completely Random Shuffle"
   ]
  },
  {
   "cell_type": "code",
   "execution_count": 5,
   "metadata": {},
   "outputs": [],
   "source": [
    "# existing_cards = existing_cards.sample(frac=1)\n",
    "# remake_card_document(filename='certcards2.txt', existing_cards = existing_cards)"
   ]
  },
  {
   "cell_type": "markdown",
   "metadata": {},
   "source": [
    "# Age Sort"
   ]
  },
  {
   "cell_type": "code",
   "execution_count": 6,
   "metadata": {},
   "outputs": [],
   "source": [
    "# existing_cards = existing_cards.sort_values('age', ascending=False)\n",
    "# remake_card_document(filename='certcards2.txt', existing_cards=existing_cards)\n",
    "# existing_cards.head(10)"
   ]
  },
  {
   "cell_type": "markdown",
   "metadata": {},
   "source": [
    "# Headers with fewest notes first"
   ]
  },
  {
   "cell_type": "code",
   "execution_count": 7,
   "metadata": {},
   "outputs": [],
   "source": [
    "# frequency = existing_cards['head'].value_counts(ascending=True)\n",
    "\n",
    "# existing_cards = pd.merge(\n",
    "#     left=existing_cards,\n",
    "#     right=frequency.rename('frequency'),\n",
    "#     left_on='head', right_index=True,\n",
    "#     how='left'\n",
    "# )\n",
    "# existing_cards['oldest'] = existing_cards.groupby('head')['age'].transform('max')\n",
    "# existing_cards['subject_highest_age'] = existing_cards['subject_highest_age'] * -1\n",
    "# existing_cards['age'] = existing_cards['age'] * -1\n",
    "\n",
    "\n",
    "# existing_cards.sort_values(['frequency', 'subject_highest_age', 'age'], ascending=True, inplace=True)\n",
    "\n",
    "# remake_card_document(filename='certcards2.txt', existing_cards=existing_cards)\n",
    "\n",
    "# existing_cards.head(10)"
   ]
  },
  {
   "cell_type": "markdown",
   "metadata": {},
   "source": [
    "# Focus on one header"
   ]
  },
  {
   "cell_type": "code",
   "execution_count": 8,
   "metadata": {},
   "outputs": [],
   "source": [
    "# heads = existing_cards['head'].value_counts()\n",
    "# heads = heads[heads > 5].index.tolist()\n",
    "# one_header = random.sample(heads, 1)[0]\n",
    "# existing_cards['pick_head'] = existing_cards['head'].apply(\n",
    "#     lambda h: 0 if h == one_header else 1 \n",
    "# )\n",
    "\n",
    "# remake_card_document(existing_cards=existing_cards.sort_values('pick_head'))"
   ]
  },
  {
   "cell_type": "markdown",
   "metadata": {},
   "source": [
    "## Header with oldest cards first"
   ]
  },
  {
   "cell_type": "code",
   "execution_count": 9,
   "metadata": {},
   "outputs": [],
   "source": [
    "# existing_cards['oldest'] = existing_cards.groupby('head')['age'].transform('max')\n",
    "# existing_cards.sort_values(['oldest', 'age'], ascending=False, inplace=True)\n",
    "# remake_card_document(existing_cards)"
   ]
  },
  {
   "cell_type": "markdown",
   "metadata": {},
   "source": [
    "## Headers with greatest mean card age first"
   ]
  },
  {
   "cell_type": "code",
   "execution_count": 10,
   "metadata": {},
   "outputs": [],
   "source": [
    "# existing_cards.sort_values(['subject_mean_age', 'age'], ascending=False, inplace=True)\n",
    "# remake_card_document(existing_cards)"
   ]
  },
  {
   "cell_type": "markdown",
   "metadata": {},
   "source": [
    "## Headers with greatest age sum first"
   ]
  },
  {
   "cell_type": "code",
   "execution_count": 11,
   "metadata": {},
   "outputs": [],
   "source": [
    "# existing_cards.sort_values(['subject_age_sum', 'age'], ascending=False, inplace=True)\n",
    "# remake_card_document(existing_cards)"
   ]
  },
  {
   "cell_type": "markdown",
   "metadata": {},
   "source": [
    "# N-fold shuffle\n"
   ]
  },
  {
   "cell_type": "markdown",
   "metadata": {},
   "source": [
    "## Age Sum"
   ]
  },
  {
   "cell_type": "code",
   "execution_count": 12,
   "metadata": {},
   "outputs": [],
   "source": [
    "# n=3\n",
    "# existing_cards['count'] = existing_cards.sort_values('age', ascending=False).groupby('head').cumcount()\n",
    "# existing_cards['n_fold'] = existing_cards['count'] % n\n",
    "\n",
    "# existing_cards['subject_age_sum'] = existing_cards['subject_age_sum'] *-1\n",
    "# existing_cards['age'] = existing_cards['age'] *-1\n",
    "# existing_cards.sort_values(['n_fold', 'subject_age_sum', 'age'], inplace=True)\n",
    "\n",
    "# remake_card_document(existing_cards=existing_cards)\n",
    "# existing_cards.head(10)\n"
   ]
  },
  {
   "cell_type": "markdown",
   "metadata": {},
   "source": [
    "## Age Mean"
   ]
  },
  {
   "cell_type": "code",
   "execution_count": 13,
   "metadata": {},
   "outputs": [],
   "source": [
    "# n=3\n",
    "# existing_cards['count'] = existing_cards.sort_values('age', ascending=False).groupby('head').cumcount()\n",
    "# existing_cards['n_fold'] = existing_cards['count'] % n\n",
    "\n",
    "# existing_cards['subject_mean_age'] = existing_cards['subject_mean_age'] *-1\n",
    "# existing_cards['age'] = existing_cards['age'] *-1\n",
    "# existing_cards.sort_values(['n_fold', 'subject_mean_age', 'age'], inplace=True)\n",
    "# remake_card_document(existing_cards=existing_cards)\n",
    "\n",
    "# existing_cards.head(10)\n",
    "\n"
   ]
  },
  {
   "cell_type": "markdown",
   "metadata": {},
   "source": [
    "## Age Max"
   ]
  },
  {
   "cell_type": "code",
   "execution_count": null,
   "metadata": {},
   "outputs": [
    {
     "name": "stdout",
     "output_type": "stream",
     "text": [
      "Cards found: 605\n"
     ]
    },
    {
     "data": {
      "application/vnd.microsoft.datawrangler.viewer.v0+json": {
       "columns": [
        {
         "name": "index",
         "rawType": "int64",
         "type": "integer"
        },
        {
         "name": "head",
         "rawType": "object",
         "type": "string"
        },
        {
         "name": "body",
         "rawType": "object",
         "type": "string"
        },
        {
         "name": "hash",
         "rawType": "object",
         "type": "string"
        },
        {
         "name": "age",
         "rawType": "float64",
         "type": "float"
        },
        {
         "name": "subject_mean_age",
         "rawType": "float64",
         "type": "float"
        },
        {
         "name": "subject_highest_age",
         "rawType": "float64",
         "type": "float"
        },
        {
         "name": "subject_age_sum",
         "rawType": "float64",
         "type": "float"
        },
        {
         "name": "head_random_roll",
         "rawType": "float64",
         "type": "float"
        },
        {
         "name": "count",
         "rawType": "int64",
         "type": "integer"
        },
        {
         "name": "n_fold",
         "rawType": "int64",
         "type": "integer"
        }
       ],
       "conversionMethod": "pd.DataFrame",
       "ref": "e79c07d2-834f-4367-9756-3c8e3d95b85a",
       "rows": [
        [
         "138",
         "Vocab",
         "Boustrophedonic\nadjective\nSPA: boo-struh-fee-DON-ik\nIPA: /ˌbʊsˌtrɒfəˈdɒnɪk/\n\nOf or relating to a style of writing in which the direction alternates from left to right on one line and right to left on the next, continuing in this manner throughout the text.\nExample: The ancient script was written in a boustrophedonic manner, making it challenging to read for modern scholars.",
         "c778949e7f683ddbc9ae9910ad5c565c",
         "-883.0940190689753",
         "106.83905527428885",
         "-883.0940190689753",
         "7906.090090297375",
         "0.9654673529037627",
         "0",
         "0"
        ],
        [
         "0",
         "Azure Functions",
         "2. Suppose your Azure Function has a blob trigger associated with it and you want it to execute only when png images are uploaded. Which of the following blob trigger Path values should you use? \n\nsamples-workitems/{name}.png\nThe Path tells the blob trigger where it should monitor for changes, and if there are any filters applied. Adding a file extension to the Path specifies that uploaded files must have that file extension in order for the trigger to invoke the function.",
         "fc5054fcf13b3189012cf676692c4f29",
         "-767.8455914422076",
         "281.6134325177052",
         "-767.8455914422076",
         "3097.747757694757",
         "0.6364588495795536",
         "0",
         "0"
        ],
        [
         "208",
         "Azure AI Search",
         "If you include a skillset, you'll need to specify output field mappings in the indexer definition. The output of a skillset is manifested internally as a tree structure referred to as an enriched document. Output field mappings allow you to select which parts of this tree to map into fields in your index.",
         "9e291c2452d2e6788d57e9973c39d8f9",
         "-702.9451875374054",
         "266.48380354066404",
         "-702.9451875374054",
         "2398.3542318659765",
         "0.3083455920240529",
         "0",
         "0"
        ],
        [
         "38",
         "Powershell Modules",
         "PowerShell Gallery\n\nDefinition: The central repository for PowerShell modules, scripts, and other resources.\nExplanation: Accessible via the Find-Module and Install-Module cmdlets. Website: PowerShell Gallery.",
         "92931a76329cd1bec63d78a358648c4d",
         "-695.6653268260776",
         "175.3065431544298",
         "-695.6653268260776",
         "5259.196294632894",
         "0.6221056045815873",
         "0",
         "0"
        ],
        [
         "106",
         "Logging in Python",
         "Q: In TimedRotatingFileHandler from the logging.handlers module, what does the when parameter specify?\n\nA: when='midnight'\nThis parameter sets the interval type for rotating logs, such as daily at midnight.",
         "d53f8f76d58dd27e3ded74f30a190cb4",
         "-694.8683952352305",
         "119.27962969076724",
         "-694.8683952352305",
         "5844.701854847594",
         "0.00792876123798747",
         "0",
         "0"
        ],
        [
         "18",
         "PnP Powershell",
         "SharePoint REST API\nA set of web services provided by SharePoint to perform operations like CRUD actions on lists, libraries, and other SharePoint objects using standard HTTP methods.",
         "143745e569af1c6a779118128bf12b60",
         "-673.596561371688",
         "191.85718043548795",
         "-673.596561371688",
         "7290.572856548542",
         "0.7084564045592538",
         "0",
         "0"
        ],
        [
         "67",
         "SharePoint",
         "How can you retrieve the metadata of a specific file, including its properties, using the SharePoint REST API?\n\nGET /_api/web/GetFileByServerRelativeUrl('/Documents/Report.docx')?$expand=ListItemAllFields",
         "a9bef1ae5a68637d2ee73d72c0aa7e47",
         "-598.416536657767",
         "156.89685811143045",
         "-598.416536657767",
         "1882.7622973371654",
         "0.9682508647257803",
         "0",
         "0"
        ],
        [
         "71",
         "Azure Functions + Visual Studio",
         "ASP.NET includes a variety of built-in security features such as request validation, input sanitization, SQL injection prevention, and protection against cross-site scripting (XSS) and cross-site request forgery (CSRF). HTTPS and encryption are also supported for secure communication.",
         "22f41dbaa7f06bfee2174c4754c8f951",
         "-499.4771354368843",
         "155.56805966399526",
         "-499.4771354368843",
         "2177.9528352959337",
         "0.6215758516800063",
         "0",
         "0"
        ],
        [
         "81",
         "Email Auth and Security",
         "MUA (Mail User Agent)\n\nAn email client used by end-users to send, receive, and manage their emails.\nProvides the interface for users to interact with their email accounts.\nExamples include Microsoft Outlook, Mozilla Thunderbird, and Gmail.",
         "728b4872797d6311a0966fa924d6341d",
         "-494.91587960744164",
         "134.34774408255439",
         "-494.91587960744164",
         "1612.1729289906525",
         "0.6470071146100498",
         "0",
         "0"
        ],
        [
         "56",
         "IW Migration",
         "Linked Server (SQL Server)\nA configuration that allows SQL Server to run queries against remote data sources as if they were local tables. This enables federated queries, joining data across different servers and even different database platforms.",
         "fa3ffa381d1fcef8e1ca182752dc366d",
         "-480.2317903443924",
         "167.8620156371774",
         "-480.2317903443924",
         "2350.0682189204836",
         "0.5293580942192062",
         "0",
         "0"
        ]
       ],
       "shape": {
        "columns": 10,
        "rows": 10
       }
      },
      "text/html": [
       "<div>\n",
       "<style scoped>\n",
       "    .dataframe tbody tr th:only-of-type {\n",
       "        vertical-align: middle;\n",
       "    }\n",
       "\n",
       "    .dataframe tbody tr th {\n",
       "        vertical-align: top;\n",
       "    }\n",
       "\n",
       "    .dataframe thead th {\n",
       "        text-align: right;\n",
       "    }\n",
       "</style>\n",
       "<table border=\"1\" class=\"dataframe\">\n",
       "  <thead>\n",
       "    <tr style=\"text-align: right;\">\n",
       "      <th></th>\n",
       "      <th>head</th>\n",
       "      <th>body</th>\n",
       "      <th>hash</th>\n",
       "      <th>age</th>\n",
       "      <th>subject_mean_age</th>\n",
       "      <th>subject_highest_age</th>\n",
       "      <th>subject_age_sum</th>\n",
       "      <th>head_random_roll</th>\n",
       "      <th>count</th>\n",
       "      <th>n_fold</th>\n",
       "    </tr>\n",
       "  </thead>\n",
       "  <tbody>\n",
       "    <tr>\n",
       "      <th>138</th>\n",
       "      <td>Vocab</td>\n",
       "      <td>Boustrophedonic\\nadjective\\nSPA: boo-struh-fee...</td>\n",
       "      <td>c778949e7f683ddbc9ae9910ad5c565c</td>\n",
       "      <td>-883.094019</td>\n",
       "      <td>106.839055</td>\n",
       "      <td>-883.094019</td>\n",
       "      <td>7906.090090</td>\n",
       "      <td>0.965467</td>\n",
       "      <td>0</td>\n",
       "      <td>0</td>\n",
       "    </tr>\n",
       "    <tr>\n",
       "      <th>0</th>\n",
       "      <td>Azure Functions</td>\n",
       "      <td>2. Suppose your Azure Function has a blob trig...</td>\n",
       "      <td>fc5054fcf13b3189012cf676692c4f29</td>\n",
       "      <td>-767.845591</td>\n",
       "      <td>281.613433</td>\n",
       "      <td>-767.845591</td>\n",
       "      <td>3097.747758</td>\n",
       "      <td>0.636459</td>\n",
       "      <td>0</td>\n",
       "      <td>0</td>\n",
       "    </tr>\n",
       "    <tr>\n",
       "      <th>208</th>\n",
       "      <td>Azure AI Search</td>\n",
       "      <td>If you include a skillset, you'll need to spec...</td>\n",
       "      <td>9e291c2452d2e6788d57e9973c39d8f9</td>\n",
       "      <td>-702.945188</td>\n",
       "      <td>266.483804</td>\n",
       "      <td>-702.945188</td>\n",
       "      <td>2398.354232</td>\n",
       "      <td>0.308346</td>\n",
       "      <td>0</td>\n",
       "      <td>0</td>\n",
       "    </tr>\n",
       "    <tr>\n",
       "      <th>38</th>\n",
       "      <td>Powershell Modules</td>\n",
       "      <td>PowerShell Gallery\\n\\nDefinition: The central ...</td>\n",
       "      <td>92931a76329cd1bec63d78a358648c4d</td>\n",
       "      <td>-695.665327</td>\n",
       "      <td>175.306543</td>\n",
       "      <td>-695.665327</td>\n",
       "      <td>5259.196295</td>\n",
       "      <td>0.622106</td>\n",
       "      <td>0</td>\n",
       "      <td>0</td>\n",
       "    </tr>\n",
       "    <tr>\n",
       "      <th>106</th>\n",
       "      <td>Logging in Python</td>\n",
       "      <td>Q: In TimedRotatingFileHandler from the loggin...</td>\n",
       "      <td>d53f8f76d58dd27e3ded74f30a190cb4</td>\n",
       "      <td>-694.868395</td>\n",
       "      <td>119.279630</td>\n",
       "      <td>-694.868395</td>\n",
       "      <td>5844.701855</td>\n",
       "      <td>0.007929</td>\n",
       "      <td>0</td>\n",
       "      <td>0</td>\n",
       "    </tr>\n",
       "    <tr>\n",
       "      <th>18</th>\n",
       "      <td>PnP Powershell</td>\n",
       "      <td>SharePoint REST API\\nA set of web services pro...</td>\n",
       "      <td>143745e569af1c6a779118128bf12b60</td>\n",
       "      <td>-673.596561</td>\n",
       "      <td>191.857180</td>\n",
       "      <td>-673.596561</td>\n",
       "      <td>7290.572857</td>\n",
       "      <td>0.708456</td>\n",
       "      <td>0</td>\n",
       "      <td>0</td>\n",
       "    </tr>\n",
       "    <tr>\n",
       "      <th>67</th>\n",
       "      <td>SharePoint</td>\n",
       "      <td>How can you retrieve the metadata of a specifi...</td>\n",
       "      <td>a9bef1ae5a68637d2ee73d72c0aa7e47</td>\n",
       "      <td>-598.416537</td>\n",
       "      <td>156.896858</td>\n",
       "      <td>-598.416537</td>\n",
       "      <td>1882.762297</td>\n",
       "      <td>0.968251</td>\n",
       "      <td>0</td>\n",
       "      <td>0</td>\n",
       "    </tr>\n",
       "    <tr>\n",
       "      <th>71</th>\n",
       "      <td>Azure Functions + Visual Studio</td>\n",
       "      <td>ASP.NET includes a variety of built-in securit...</td>\n",
       "      <td>22f41dbaa7f06bfee2174c4754c8f951</td>\n",
       "      <td>-499.477135</td>\n",
       "      <td>155.568060</td>\n",
       "      <td>-499.477135</td>\n",
       "      <td>2177.952835</td>\n",
       "      <td>0.621576</td>\n",
       "      <td>0</td>\n",
       "      <td>0</td>\n",
       "    </tr>\n",
       "    <tr>\n",
       "      <th>81</th>\n",
       "      <td>Email Auth and Security</td>\n",
       "      <td>MUA (Mail User Agent)\\n\\nAn email client used ...</td>\n",
       "      <td>728b4872797d6311a0966fa924d6341d</td>\n",
       "      <td>-494.915880</td>\n",
       "      <td>134.347744</td>\n",
       "      <td>-494.915880</td>\n",
       "      <td>1612.172929</td>\n",
       "      <td>0.647007</td>\n",
       "      <td>0</td>\n",
       "      <td>0</td>\n",
       "    </tr>\n",
       "    <tr>\n",
       "      <th>56</th>\n",
       "      <td>IW Migration</td>\n",
       "      <td>Linked Server (SQL Server)\\nA configuration th...</td>\n",
       "      <td>fa3ffa381d1fcef8e1ca182752dc366d</td>\n",
       "      <td>-480.231790</td>\n",
       "      <td>167.862016</td>\n",
       "      <td>-480.231790</td>\n",
       "      <td>2350.068219</td>\n",
       "      <td>0.529358</td>\n",
       "      <td>0</td>\n",
       "      <td>0</td>\n",
       "    </tr>\n",
       "  </tbody>\n",
       "</table>\n",
       "</div>"
      ],
      "text/plain": [
       "                                head  \\\n",
       "138                            Vocab   \n",
       "0                    Azure Functions   \n",
       "208                  Azure AI Search   \n",
       "38                Powershell Modules   \n",
       "106                Logging in Python   \n",
       "18                    PnP Powershell   \n",
       "67                        SharePoint   \n",
       "71   Azure Functions + Visual Studio   \n",
       "81           Email Auth and Security   \n",
       "56                      IW Migration   \n",
       "\n",
       "                                                  body  \\\n",
       "138  Boustrophedonic\\nadjective\\nSPA: boo-struh-fee...   \n",
       "0    2. Suppose your Azure Function has a blob trig...   \n",
       "208  If you include a skillset, you'll need to spec...   \n",
       "38   PowerShell Gallery\\n\\nDefinition: The central ...   \n",
       "106  Q: In TimedRotatingFileHandler from the loggin...   \n",
       "18   SharePoint REST API\\nA set of web services pro...   \n",
       "67   How can you retrieve the metadata of a specifi...   \n",
       "71   ASP.NET includes a variety of built-in securit...   \n",
       "81   MUA (Mail User Agent)\\n\\nAn email client used ...   \n",
       "56   Linked Server (SQL Server)\\nA configuration th...   \n",
       "\n",
       "                                 hash         age  subject_mean_age  \\\n",
       "138  c778949e7f683ddbc9ae9910ad5c565c -883.094019        106.839055   \n",
       "0    fc5054fcf13b3189012cf676692c4f29 -767.845591        281.613433   \n",
       "208  9e291c2452d2e6788d57e9973c39d8f9 -702.945188        266.483804   \n",
       "38   92931a76329cd1bec63d78a358648c4d -695.665327        175.306543   \n",
       "106  d53f8f76d58dd27e3ded74f30a190cb4 -694.868395        119.279630   \n",
       "18   143745e569af1c6a779118128bf12b60 -673.596561        191.857180   \n",
       "67   a9bef1ae5a68637d2ee73d72c0aa7e47 -598.416537        156.896858   \n",
       "71   22f41dbaa7f06bfee2174c4754c8f951 -499.477135        155.568060   \n",
       "81   728b4872797d6311a0966fa924d6341d -494.915880        134.347744   \n",
       "56   fa3ffa381d1fcef8e1ca182752dc366d -480.231790        167.862016   \n",
       "\n",
       "     subject_highest_age  subject_age_sum  head_random_roll  count  n_fold  \n",
       "138          -883.094019      7906.090090          0.965467      0       0  \n",
       "0            -767.845591      3097.747758          0.636459      0       0  \n",
       "208          -702.945188      2398.354232          0.308346      0       0  \n",
       "38           -695.665327      5259.196295          0.622106      0       0  \n",
       "106          -694.868395      5844.701855          0.007929      0       0  \n",
       "18           -673.596561      7290.572857          0.708456      0       0  \n",
       "67           -598.416537      1882.762297          0.968251      0       0  \n",
       "71           -499.477135      2177.952835          0.621576      0       0  \n",
       "81           -494.915880      1612.172929          0.647007      0       0  \n",
       "56           -480.231790      2350.068219          0.529358      0       0  "
      ]
     },
     "execution_count": 14,
     "metadata": {},
     "output_type": "execute_result"
    }
   ],
   "source": [
    "n = 1\n",
    "existing_cards['count'] = existing_cards.sort_values('age', ascending=False).groupby('head').cumcount()\n",
    "existing_cards['n_fold'] = existing_cards['count'] // n\n",
    "\n",
    "if existing_cards['age'].sum() > 0:\n",
    "    existing_cards['subject_highest_age'] = existing_cards['subject_highest_age'] *-1\n",
    "    existing_cards['age'] = existing_cards['age'] *-1\n",
    "existing_cards.sort_values(['n_fold', 'subject_highest_age', 'age'], inplace=True)\n",
    "\n",
    "remake_card_document(existing_cards=existing_cards)\n",
    "existing_cards.head(10)\n"
   ]
  },
  {
   "cell_type": "markdown",
   "metadata": {},
   "source": [
    "## Card Count"
   ]
  },
  {
   "cell_type": "code",
   "execution_count": 15,
   "metadata": {},
   "outputs": [],
   "source": [
    "# n=10\n",
    "# existing_cards['frequency']  = existing_cards.groupby('head').transform('count')['body']\n",
    "# existing_cards['count'] = existing_cards.sort_values('age', ascending=False).groupby('head').cumcount()\n",
    "# existing_cards['n_fold'] = existing_cards['count'] // n\n",
    "\n",
    "# if existing_cards['age'].sum() > 0:\n",
    "#     # existing_cards['neg_subject_highest_age'] = existing_cards['subject_highest_age'] *-1\n",
    "#     existing_cards['neg_age'] = existing_cards['age'] *-1\n",
    "# existing_cards.sort_values(['n_fold', 'frequency', 'neg_age'], inplace=True)\n",
    "# remake_card_document(existing_cards=existing_cards)\n",
    "\n",
    "# existing_cards.head(10)\n",
    "\n"
   ]
  },
  {
   "cell_type": "markdown",
   "metadata": {},
   "source": [
    "\n",
    "## Random"
   ]
  },
  {
   "cell_type": "code",
   "execution_count": 16,
   "metadata": {},
   "outputs": [],
   "source": [
    "# n = 3\n",
    "# existing_cards['count'] = existing_cards.sort_values('age', ascending=False).groupby('head').cumcount()\n",
    "# existing_cards['n_fold'] = existing_cards['count'] % n\n",
    "# existing_cards['age'] *= -1\n",
    "# existing_cards.sort_values(['n_fold', 'head_random_roll', 'age'], inplace=True)\n",
    "# remake_card_document(existing_cards=existing_cards)\n",
    "# existing_cards.head(10)"
   ]
  },
  {
   "cell_type": "code",
   "execution_count": 17,
   "metadata": {},
   "outputs": [
    {
     "data": {
      "application/vnd.microsoft.datawrangler.viewer.v0+json": {
       "columns": [
        {
         "name": "index",
         "rawType": "int64",
         "type": "integer"
        },
        {
         "name": "head",
         "rawType": "object",
         "type": "string"
        },
        {
         "name": "body",
         "rawType": "object",
         "type": "string"
        },
        {
         "name": "hash",
         "rawType": "object",
         "type": "string"
        },
        {
         "name": "age",
         "rawType": "float64",
         "type": "float"
        },
        {
         "name": "subject_mean_age",
         "rawType": "float64",
         "type": "float"
        },
        {
         "name": "subject_highest_age",
         "rawType": "float64",
         "type": "float"
        },
        {
         "name": "subject_age_sum",
         "rawType": "float64",
         "type": "float"
        },
        {
         "name": "head_random_roll",
         "rawType": "float64",
         "type": "float"
        },
        {
         "name": "count",
         "rawType": "int64",
         "type": "integer"
        },
        {
         "name": "n_fold",
         "rawType": "int64",
         "type": "integer"
        }
       ],
       "conversionMethod": "pd.DataFrame",
       "ref": "592bba6c-edc4-448d-84eb-ac6081cbba55",
       "rows": [
        [
         "138",
         "Vocab",
         "Boustrophedonic\nadjective\nSPA: boo-struh-fee-DON-ik\nIPA: /ˌbʊsˌtrɒfəˈdɒnɪk/\n\nOf or relating to a style of writing in which the direction alternates from left to right on one line and right to left on the next, continuing in this manner throughout the text.\nExample: The ancient script was written in a boustrophedonic manner, making it challenging to read for modern scholars.",
         "c778949e7f683ddbc9ae9910ad5c565c",
         "-883.0940190689753",
         "106.83905527428885",
         "-883.0940190689753",
         "7906.090090297375",
         "0.9654673529037627",
         "0",
         "0"
        ],
        [
         "0",
         "Azure Functions",
         "2. Suppose your Azure Function has a blob trigger associated with it and you want it to execute only when png images are uploaded. Which of the following blob trigger Path values should you use? \n\nsamples-workitems/{name}.png\nThe Path tells the blob trigger where it should monitor for changes, and if there are any filters applied. Adding a file extension to the Path specifies that uploaded files must have that file extension in order for the trigger to invoke the function.",
         "fc5054fcf13b3189012cf676692c4f29",
         "-767.8455914422076",
         "281.6134325177052",
         "-767.8455914422076",
         "3097.747757694757",
         "0.6364588495795536",
         "0",
         "0"
        ],
        [
         "208",
         "Azure AI Search",
         "If you include a skillset, you'll need to specify output field mappings in the indexer definition. The output of a skillset is manifested internally as a tree structure referred to as an enriched document. Output field mappings allow you to select which parts of this tree to map into fields in your index.",
         "9e291c2452d2e6788d57e9973c39d8f9",
         "-702.9451875374054",
         "266.48380354066404",
         "-702.9451875374054",
         "2398.3542318659765",
         "0.3083455920240529",
         "0",
         "0"
        ],
        [
         "38",
         "Powershell Modules",
         "PowerShell Gallery\n\nDefinition: The central repository for PowerShell modules, scripts, and other resources.\nExplanation: Accessible via the Find-Module and Install-Module cmdlets. Website: PowerShell Gallery.",
         "92931a76329cd1bec63d78a358648c4d",
         "-695.6653268260776",
         "175.3065431544298",
         "-695.6653268260776",
         "5259.196294632894",
         "0.6221056045815873",
         "0",
         "0"
        ],
        [
         "106",
         "Logging in Python",
         "Q: In TimedRotatingFileHandler from the logging.handlers module, what does the when parameter specify?\n\nA: when='midnight'\nThis parameter sets the interval type for rotating logs, such as daily at midnight.",
         "d53f8f76d58dd27e3ded74f30a190cb4",
         "-694.8683952352305",
         "119.27962969076724",
         "-694.8683952352305",
         "5844.701854847594",
         "0.00792876123798747",
         "0",
         "0"
        ],
        [
         "18",
         "PnP Powershell",
         "SharePoint REST API\nA set of web services provided by SharePoint to perform operations like CRUD actions on lists, libraries, and other SharePoint objects using standard HTTP methods.",
         "143745e569af1c6a779118128bf12b60",
         "-673.596561371688",
         "191.85718043548795",
         "-673.596561371688",
         "7290.572856548542",
         "0.7084564045592538",
         "0",
         "0"
        ],
        [
         "67",
         "SharePoint",
         "How can you retrieve the metadata of a specific file, including its properties, using the SharePoint REST API?\n\nGET /_api/web/GetFileByServerRelativeUrl('/Documents/Report.docx')?$expand=ListItemAllFields",
         "a9bef1ae5a68637d2ee73d72c0aa7e47",
         "-598.416536657767",
         "156.89685811143045",
         "-598.416536657767",
         "1882.7622973371654",
         "0.9682508647257803",
         "0",
         "0"
        ],
        [
         "71",
         "Azure Functions + Visual Studio",
         "ASP.NET includes a variety of built-in security features such as request validation, input sanitization, SQL injection prevention, and protection against cross-site scripting (XSS) and cross-site request forgery (CSRF). HTTPS and encryption are also supported for secure communication.",
         "22f41dbaa7f06bfee2174c4754c8f951",
         "-499.4771354368843",
         "155.56805966399526",
         "-499.4771354368843",
         "2177.9528352959337",
         "0.6215758516800063",
         "0",
         "0"
        ],
        [
         "81",
         "Email Auth and Security",
         "MUA (Mail User Agent)\n\nAn email client used by end-users to send, receive, and manage their emails.\nProvides the interface for users to interact with their email accounts.\nExamples include Microsoft Outlook, Mozilla Thunderbird, and Gmail.",
         "728b4872797d6311a0966fa924d6341d",
         "-494.91587960744164",
         "134.34774408255439",
         "-494.91587960744164",
         "1612.1729289906525",
         "0.6470071146100498",
         "0",
         "0"
        ],
        [
         "56",
         "IW Migration",
         "Linked Server (SQL Server)\nA configuration that allows SQL Server to run queries against remote data sources as if they were local tables. This enables federated queries, joining data across different servers and even different database platforms.",
         "fa3ffa381d1fcef8e1ca182752dc366d",
         "-480.2317903443924",
         "167.8620156371774",
         "-480.2317903443924",
         "2350.0682189204836",
         "0.5293580942192062",
         "0",
         "0"
        ]
       ],
       "shape": {
        "columns": 10,
        "rows": 10
       }
      },
      "text/html": [
       "<div>\n",
       "<style scoped>\n",
       "    .dataframe tbody tr th:only-of-type {\n",
       "        vertical-align: middle;\n",
       "    }\n",
       "\n",
       "    .dataframe tbody tr th {\n",
       "        vertical-align: top;\n",
       "    }\n",
       "\n",
       "    .dataframe thead th {\n",
       "        text-align: right;\n",
       "    }\n",
       "</style>\n",
       "<table border=\"1\" class=\"dataframe\">\n",
       "  <thead>\n",
       "    <tr style=\"text-align: right;\">\n",
       "      <th></th>\n",
       "      <th>head</th>\n",
       "      <th>body</th>\n",
       "      <th>hash</th>\n",
       "      <th>age</th>\n",
       "      <th>subject_mean_age</th>\n",
       "      <th>subject_highest_age</th>\n",
       "      <th>subject_age_sum</th>\n",
       "      <th>head_random_roll</th>\n",
       "      <th>count</th>\n",
       "      <th>n_fold</th>\n",
       "    </tr>\n",
       "  </thead>\n",
       "  <tbody>\n",
       "    <tr>\n",
       "      <th>138</th>\n",
       "      <td>Vocab</td>\n",
       "      <td>Boustrophedonic\\nadjective\\nSPA: boo-struh-fee...</td>\n",
       "      <td>c778949e7f683ddbc9ae9910ad5c565c</td>\n",
       "      <td>-883.094019</td>\n",
       "      <td>106.839055</td>\n",
       "      <td>-883.094019</td>\n",
       "      <td>7906.090090</td>\n",
       "      <td>0.965467</td>\n",
       "      <td>0</td>\n",
       "      <td>0</td>\n",
       "    </tr>\n",
       "    <tr>\n",
       "      <th>0</th>\n",
       "      <td>Azure Functions</td>\n",
       "      <td>2. Suppose your Azure Function has a blob trig...</td>\n",
       "      <td>fc5054fcf13b3189012cf676692c4f29</td>\n",
       "      <td>-767.845591</td>\n",
       "      <td>281.613433</td>\n",
       "      <td>-767.845591</td>\n",
       "      <td>3097.747758</td>\n",
       "      <td>0.636459</td>\n",
       "      <td>0</td>\n",
       "      <td>0</td>\n",
       "    </tr>\n",
       "    <tr>\n",
       "      <th>208</th>\n",
       "      <td>Azure AI Search</td>\n",
       "      <td>If you include a skillset, you'll need to spec...</td>\n",
       "      <td>9e291c2452d2e6788d57e9973c39d8f9</td>\n",
       "      <td>-702.945188</td>\n",
       "      <td>266.483804</td>\n",
       "      <td>-702.945188</td>\n",
       "      <td>2398.354232</td>\n",
       "      <td>0.308346</td>\n",
       "      <td>0</td>\n",
       "      <td>0</td>\n",
       "    </tr>\n",
       "    <tr>\n",
       "      <th>38</th>\n",
       "      <td>Powershell Modules</td>\n",
       "      <td>PowerShell Gallery\\n\\nDefinition: The central ...</td>\n",
       "      <td>92931a76329cd1bec63d78a358648c4d</td>\n",
       "      <td>-695.665327</td>\n",
       "      <td>175.306543</td>\n",
       "      <td>-695.665327</td>\n",
       "      <td>5259.196295</td>\n",
       "      <td>0.622106</td>\n",
       "      <td>0</td>\n",
       "      <td>0</td>\n",
       "    </tr>\n",
       "    <tr>\n",
       "      <th>106</th>\n",
       "      <td>Logging in Python</td>\n",
       "      <td>Q: In TimedRotatingFileHandler from the loggin...</td>\n",
       "      <td>d53f8f76d58dd27e3ded74f30a190cb4</td>\n",
       "      <td>-694.868395</td>\n",
       "      <td>119.279630</td>\n",
       "      <td>-694.868395</td>\n",
       "      <td>5844.701855</td>\n",
       "      <td>0.007929</td>\n",
       "      <td>0</td>\n",
       "      <td>0</td>\n",
       "    </tr>\n",
       "    <tr>\n",
       "      <th>18</th>\n",
       "      <td>PnP Powershell</td>\n",
       "      <td>SharePoint REST API\\nA set of web services pro...</td>\n",
       "      <td>143745e569af1c6a779118128bf12b60</td>\n",
       "      <td>-673.596561</td>\n",
       "      <td>191.857180</td>\n",
       "      <td>-673.596561</td>\n",
       "      <td>7290.572857</td>\n",
       "      <td>0.708456</td>\n",
       "      <td>0</td>\n",
       "      <td>0</td>\n",
       "    </tr>\n",
       "    <tr>\n",
       "      <th>67</th>\n",
       "      <td>SharePoint</td>\n",
       "      <td>How can you retrieve the metadata of a specifi...</td>\n",
       "      <td>a9bef1ae5a68637d2ee73d72c0aa7e47</td>\n",
       "      <td>-598.416537</td>\n",
       "      <td>156.896858</td>\n",
       "      <td>-598.416537</td>\n",
       "      <td>1882.762297</td>\n",
       "      <td>0.968251</td>\n",
       "      <td>0</td>\n",
       "      <td>0</td>\n",
       "    </tr>\n",
       "    <tr>\n",
       "      <th>71</th>\n",
       "      <td>Azure Functions + Visual Studio</td>\n",
       "      <td>ASP.NET includes a variety of built-in securit...</td>\n",
       "      <td>22f41dbaa7f06bfee2174c4754c8f951</td>\n",
       "      <td>-499.477135</td>\n",
       "      <td>155.568060</td>\n",
       "      <td>-499.477135</td>\n",
       "      <td>2177.952835</td>\n",
       "      <td>0.621576</td>\n",
       "      <td>0</td>\n",
       "      <td>0</td>\n",
       "    </tr>\n",
       "    <tr>\n",
       "      <th>81</th>\n",
       "      <td>Email Auth and Security</td>\n",
       "      <td>MUA (Mail User Agent)\\n\\nAn email client used ...</td>\n",
       "      <td>728b4872797d6311a0966fa924d6341d</td>\n",
       "      <td>-494.915880</td>\n",
       "      <td>134.347744</td>\n",
       "      <td>-494.915880</td>\n",
       "      <td>1612.172929</td>\n",
       "      <td>0.647007</td>\n",
       "      <td>0</td>\n",
       "      <td>0</td>\n",
       "    </tr>\n",
       "    <tr>\n",
       "      <th>56</th>\n",
       "      <td>IW Migration</td>\n",
       "      <td>Linked Server (SQL Server)\\nA configuration th...</td>\n",
       "      <td>fa3ffa381d1fcef8e1ca182752dc366d</td>\n",
       "      <td>-480.231790</td>\n",
       "      <td>167.862016</td>\n",
       "      <td>-480.231790</td>\n",
       "      <td>2350.068219</td>\n",
       "      <td>0.529358</td>\n",
       "      <td>0</td>\n",
       "      <td>0</td>\n",
       "    </tr>\n",
       "  </tbody>\n",
       "</table>\n",
       "</div>"
      ],
      "text/plain": [
       "                                head  \\\n",
       "138                            Vocab   \n",
       "0                    Azure Functions   \n",
       "208                  Azure AI Search   \n",
       "38                Powershell Modules   \n",
       "106                Logging in Python   \n",
       "18                    PnP Powershell   \n",
       "67                        SharePoint   \n",
       "71   Azure Functions + Visual Studio   \n",
       "81           Email Auth and Security   \n",
       "56                      IW Migration   \n",
       "\n",
       "                                                  body  \\\n",
       "138  Boustrophedonic\\nadjective\\nSPA: boo-struh-fee...   \n",
       "0    2. Suppose your Azure Function has a blob trig...   \n",
       "208  If you include a skillset, you'll need to spec...   \n",
       "38   PowerShell Gallery\\n\\nDefinition: The central ...   \n",
       "106  Q: In TimedRotatingFileHandler from the loggin...   \n",
       "18   SharePoint REST API\\nA set of web services pro...   \n",
       "67   How can you retrieve the metadata of a specifi...   \n",
       "71   ASP.NET includes a variety of built-in securit...   \n",
       "81   MUA (Mail User Agent)\\n\\nAn email client used ...   \n",
       "56   Linked Server (SQL Server)\\nA configuration th...   \n",
       "\n",
       "                                 hash         age  subject_mean_age  \\\n",
       "138  c778949e7f683ddbc9ae9910ad5c565c -883.094019        106.839055   \n",
       "0    fc5054fcf13b3189012cf676692c4f29 -767.845591        281.613433   \n",
       "208  9e291c2452d2e6788d57e9973c39d8f9 -702.945188        266.483804   \n",
       "38   92931a76329cd1bec63d78a358648c4d -695.665327        175.306543   \n",
       "106  d53f8f76d58dd27e3ded74f30a190cb4 -694.868395        119.279630   \n",
       "18   143745e569af1c6a779118128bf12b60 -673.596561        191.857180   \n",
       "67   a9bef1ae5a68637d2ee73d72c0aa7e47 -598.416537        156.896858   \n",
       "71   22f41dbaa7f06bfee2174c4754c8f951 -499.477135        155.568060   \n",
       "81   728b4872797d6311a0966fa924d6341d -494.915880        134.347744   \n",
       "56   fa3ffa381d1fcef8e1ca182752dc366d -480.231790        167.862016   \n",
       "\n",
       "     subject_highest_age  subject_age_sum  head_random_roll  count  n_fold  \n",
       "138          -883.094019      7906.090090          0.965467      0       0  \n",
       "0            -767.845591      3097.747758          0.636459      0       0  \n",
       "208          -702.945188      2398.354232          0.308346      0       0  \n",
       "38           -695.665327      5259.196295          0.622106      0       0  \n",
       "106          -694.868395      5844.701855          0.007929      0       0  \n",
       "18           -673.596561      7290.572857          0.708456      0       0  \n",
       "67           -598.416537      1882.762297          0.968251      0       0  \n",
       "71           -499.477135      2177.952835          0.621576      0       0  \n",
       "81           -494.915880      1612.172929          0.647007      0       0  \n",
       "56           -480.231790      2350.068219          0.529358      0       0  "
      ]
     },
     "execution_count": 17,
     "metadata": {},
     "output_type": "execute_result"
    }
   ],
   "source": [
    "existing_cards.head(10)"
   ]
  },
  {
   "cell_type": "code",
   "execution_count": 18,
   "metadata": {},
   "outputs": [
    {
     "data": {
      "text/plain": [
       "-129.23526134926166"
      ]
     },
     "execution_count": 18,
     "metadata": {},
     "output_type": "execute_result"
    }
   ],
   "source": [
    "existing_cards['age'].mean()"
   ]
  }
 ],
 "metadata": {
  "kernelspec": {
   "display_name": "Python 3",
   "language": "python",
   "name": "python3"
  },
  "language_info": {
   "codemirror_mode": {
    "name": "ipython",
    "version": 3
   },
   "file_extension": ".py",
   "mimetype": "text/x-python",
   "name": "python",
   "nbconvert_exporter": "python",
   "pygments_lexer": "ipython3",
   "version": "3.10.10"
  }
 },
 "nbformat": 4,
 "nbformat_minor": 2
}
