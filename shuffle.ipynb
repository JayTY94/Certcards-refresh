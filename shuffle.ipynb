{
 "cells": [
  {
   "cell_type": "code",
   "execution_count": 73,
   "metadata": {},
   "outputs": [],
   "source": [
    "import re\n",
    "import random\n",
    "import pandas as pd\n",
    "import hashlib"
   ]
  },
  {
   "cell_type": "code",
   "execution_count": 74,
   "metadata": {},
   "outputs": [],
   "source": [
    "with open('certcards2.txt', mode='r', encoding='utf8') as f:\n",
    "    all_cards = f.read()\n",
    "    \n",
    "card_split_pattern = r'\\n\\n\\n\\d+\\n'\n",
    "all_cards = re.split(card_split_pattern, all_cards)\n",
    "# Use re.DOTALL to allow . to match newline characters\n",
    "card_pattern = re.compile(r'(.+?)\\n([\\s\\S]+)', re.DOTALL)\n",
    "cards = [(match.group(1), match.group(2)) for cstring in all_cards if (match := re.search(card_pattern, cstring))]\n",
    "\n",
    "# removing the cards that have no content and trimming\n",
    "cards = [(subject, stripped_content) for subject, content in cards if len(stripped_content := content.strip()) > 5]\n",
    "\n",
    "def hash_string_md5(s):\n",
    "    \"\"\"\n",
    "    Hashes a string using MD5 and returns a truncated hash for efficiency.\n",
    "\n",
    "    Parameters:\n",
    "    - s (str): The input string to hash.\n",
    "\n",
    "    Returns:\n",
    "    - str: The truncated hexadecimal hash string.\n",
    "    \"\"\"\n",
    "    if pd.isnull(s):\n",
    "        return None  # Handle NaN values gracefully\n",
    "    return hashlib.md5(s.encode('utf-8')).hexdigest()  # Truncate to first 12 characters\n",
    "\n",
    "\n",
    "def remake_card_document(existing_cards: pd.DataFrame, filename: str='certcards2.txt'):\n",
    "    with open(filename, mode='w', encoding='utf8') as f:\n",
    "        i = 1\n",
    "        for _, row in existing_cards.iterrows():\n",
    "            f.write('\\n'*6)\n",
    "            f.write(str(i)+'\\n')  \n",
    "            f.write(row['head']+'\\n')\n",
    "            f.write(row['body'])\n",
    "            i+=1\n",
    "    print(F\"Cards found: {existing_cards.shape[0]}\")\n",
    "\n",
    "\n",
    "existing_cards = pd.DataFrame(cards, columns=['head', 'body'])\n",
    "\n",
    "\n",
    "# existing_cards['age'] = [random.random() for _ in existing_cards.index]\n",
    "existing_cards['hash'] = existing_cards['body'].apply(hash_string_md5)\n",
    "existing_cards\n",
    "\n",
    "card_ages = pd.read_json('card_ages.json')\n",
    "card_ages = card_ages.drop_duplicates(subset=['hash'], keep='first')\n",
    "\n",
    "cards_to_age = pd.merge(\n",
    "    left=existing_cards,\n",
    "    right=card_ages[['hash', 'age']],\n",
    "    left_on='hash', right_on='hash',\n",
    "    how='left'\n",
    ")\n",
    "\n",
    "cards_to_age['head'] = cards_to_age['head'].str.strip()\n",
    "\n",
    "if cards_to_age['age'].sum() > 2e4: age_factor = 1\n",
    "else: age_factor = 1.00\n",
    "\n",
    "cards_to_age['age'] = cards_to_age['age'].fillna(0)\n",
    "cards_to_age['age'] = cards_to_age['age'] * age_factor\n",
    "cards_to_age['age'] = cards_to_age['age'] + [random.expovariate(.60) for _ in cards_to_age.index]\n",
    "# cards_to_age['age'] = cards_to_age['age'] * [random.expovariate(.5) for _ in cards_to_age.index]\n",
    "\n",
    "\n",
    "cards_to_age = cards_to_age.drop_duplicates(subset=['hash'], keep='first')\n",
    "\n",
    "cards_to_age['subject_mean_age'] = cards_to_age.groupby('head')['age'].transform('mean')\n",
    "cards_to_age['subject_highest_age'] = cards_to_age.groupby('head')['age'].transform('max')\n",
    "cards_to_age['subject_age_sum'] = cards_to_age.groupby('head')['age'].transform('sum')\n",
    "cards_to_age['head_random_roll'] = cards_to_age.groupby('head')['head'].transform(lambda x: random.random())\n",
    "\n",
    "\n",
    "cards_to_age.sort_values('age')[['age', 'head', 'hash']].to_json('card_ages.json', indent=2)\n",
    "\n",
    "existing_cards = cards_to_age"
   ]
  },
  {
   "cell_type": "code",
   "execution_count": 75,
   "metadata": {},
   "outputs": [
    {
     "data": {
      "application/vnd.microsoft.datawrangler.viewer.v0+json": {
       "columns": [
        {
         "name": "index",
         "rawType": "object",
         "type": "string"
        },
        {
         "name": "age_sum",
         "rawType": "float64",
         "type": "float"
        },
        {
         "name": "age_mean",
         "rawType": "float64",
         "type": "float"
        },
        {
         "name": "head_count",
         "rawType": "int64",
         "type": "integer"
        }
       ],
       "conversionMethod": "pd.DataFrame",
       "ref": "395cec8b-1c6c-4949-b1ef-59316fe2014f",
       "rows": [
        [
         "Todd Ideas",
         "269.94656776342197",
         "17.996437850894797",
         "15"
        ],
        [
         "Powershell",
         "523.2374829579982",
         "52.32374829579982",
         "10"
        ],
        [
         "Terraform",
         "688.6140060761201",
         "27.544560243044803",
         "25"
        ],
        [
         "Azure Functions",
         "763.1530246506077",
         "69.37754769550979",
         "11"
        ],
        [
         "Email Auth and Security",
         "1221.2694274567104",
         "93.94380211205466",
         "13"
        ],
        [
         "FSLogix",
         "1234.7788880666894",
         "51.44912033611206",
         "24"
        ],
        [
         "Azure Functions + Visual Studio",
         "1263.638662184538",
         "90.25990444175271",
         "14"
        ],
        [
         "Audit Report Tracker (Sharepoint List)",
         "1280.9997953484167",
         "80.06248720927604",
         "16"
        ],
        [
         "IW Migration",
         "1438.0082482952969",
         "102.71487487823549",
         "14"
        ],
        [
         "OData",
         "1464.7035943742433",
         "97.64690629161622",
         "15"
        ],
        [
         "DNS",
         "1510.8463218557597",
         "94.42789511598498",
         "16"
        ],
        [
         "Azure AI Search",
         "1527.2502784036644",
         "109.08930560026174",
         "14"
        ],
        [
         "PEP 8",
         "1563.3694131221491",
         "130.28078442684577",
         "12"
        ],
        [
         "Home Network Project",
         "1613.9780534533497",
         "84.94621333964999",
         "19"
        ],
        [
         "Debugging in VS Code",
         "1875.1248672305205",
         "81.52716814045742",
         "23"
        ],
        [
         "Open Source/GitHub",
         "2016.8315004146561",
         "100.8415750207328",
         "20"
        ],
        [
         "Azure Functions + PP365",
         "2077.454855625235",
         "83.0981942250094",
         "25"
        ],
        [
         "SharePoint",
         "2120.3595741050635",
         "124.7270337708861",
         "17"
        ],
        [
         "Vocab",
         "2419.0124735948293",
         "43.19665131419338",
         "56"
        ],
        [
         "WSL + Kali Linux",
         "2624.8480080337404",
         "119.31127309244275",
         "22"
        ],
        [
         "Powershell Modules",
         "2709.15912178873",
         "90.30530405962433",
         "30"
        ],
        [
         "Logging in Python",
         "2838.1236495474936",
         "113.52494598189975",
         "25"
        ],
        [
         "PnP Powershell",
         "2912.60583400738",
         "76.64752194756264",
         "38"
        ],
        [
         "JavaScript Concepts",
         "2957.8829286655523",
         "41.66032293895144",
         "71"
        ]
       ],
       "shape": {
        "columns": 3,
        "rows": 24
       }
      },
      "text/html": [
       "<div>\n",
       "<style scoped>\n",
       "    .dataframe tbody tr th:only-of-type {\n",
       "        vertical-align: middle;\n",
       "    }\n",
       "\n",
       "    .dataframe tbody tr th {\n",
       "        vertical-align: top;\n",
       "    }\n",
       "\n",
       "    .dataframe thead th {\n",
       "        text-align: right;\n",
       "    }\n",
       "</style>\n",
       "<table border=\"1\" class=\"dataframe\">\n",
       "  <thead>\n",
       "    <tr style=\"text-align: right;\">\n",
       "      <th></th>\n",
       "      <th>age_sum</th>\n",
       "      <th>age_mean</th>\n",
       "      <th>head_count</th>\n",
       "    </tr>\n",
       "  </thead>\n",
       "  <tbody>\n",
       "    <tr>\n",
       "      <th>Todd Ideas</th>\n",
       "      <td>269.946568</td>\n",
       "      <td>17.996438</td>\n",
       "      <td>15</td>\n",
       "    </tr>\n",
       "    <tr>\n",
       "      <th>Powershell</th>\n",
       "      <td>523.237483</td>\n",
       "      <td>52.323748</td>\n",
       "      <td>10</td>\n",
       "    </tr>\n",
       "    <tr>\n",
       "      <th>Terraform</th>\n",
       "      <td>688.614006</td>\n",
       "      <td>27.544560</td>\n",
       "      <td>25</td>\n",
       "    </tr>\n",
       "    <tr>\n",
       "      <th>Azure Functions</th>\n",
       "      <td>763.153025</td>\n",
       "      <td>69.377548</td>\n",
       "      <td>11</td>\n",
       "    </tr>\n",
       "    <tr>\n",
       "      <th>Email Auth and Security</th>\n",
       "      <td>1221.269427</td>\n",
       "      <td>93.943802</td>\n",
       "      <td>13</td>\n",
       "    </tr>\n",
       "    <tr>\n",
       "      <th>FSLogix</th>\n",
       "      <td>1234.778888</td>\n",
       "      <td>51.449120</td>\n",
       "      <td>24</td>\n",
       "    </tr>\n",
       "    <tr>\n",
       "      <th>Azure Functions + Visual Studio</th>\n",
       "      <td>1263.638662</td>\n",
       "      <td>90.259904</td>\n",
       "      <td>14</td>\n",
       "    </tr>\n",
       "    <tr>\n",
       "      <th>Audit Report Tracker (Sharepoint List)</th>\n",
       "      <td>1280.999795</td>\n",
       "      <td>80.062487</td>\n",
       "      <td>16</td>\n",
       "    </tr>\n",
       "    <tr>\n",
       "      <th>IW Migration</th>\n",
       "      <td>1438.008248</td>\n",
       "      <td>102.714875</td>\n",
       "      <td>14</td>\n",
       "    </tr>\n",
       "    <tr>\n",
       "      <th>OData</th>\n",
       "      <td>1464.703594</td>\n",
       "      <td>97.646906</td>\n",
       "      <td>15</td>\n",
       "    </tr>\n",
       "    <tr>\n",
       "      <th>DNS</th>\n",
       "      <td>1510.846322</td>\n",
       "      <td>94.427895</td>\n",
       "      <td>16</td>\n",
       "    </tr>\n",
       "    <tr>\n",
       "      <th>Azure AI Search</th>\n",
       "      <td>1527.250278</td>\n",
       "      <td>109.089306</td>\n",
       "      <td>14</td>\n",
       "    </tr>\n",
       "    <tr>\n",
       "      <th>PEP 8</th>\n",
       "      <td>1563.369413</td>\n",
       "      <td>130.280784</td>\n",
       "      <td>12</td>\n",
       "    </tr>\n",
       "    <tr>\n",
       "      <th>Home Network Project</th>\n",
       "      <td>1613.978053</td>\n",
       "      <td>84.946213</td>\n",
       "      <td>19</td>\n",
       "    </tr>\n",
       "    <tr>\n",
       "      <th>Debugging in VS Code</th>\n",
       "      <td>1875.124867</td>\n",
       "      <td>81.527168</td>\n",
       "      <td>23</td>\n",
       "    </tr>\n",
       "    <tr>\n",
       "      <th>Open Source/GitHub</th>\n",
       "      <td>2016.831500</td>\n",
       "      <td>100.841575</td>\n",
       "      <td>20</td>\n",
       "    </tr>\n",
       "    <tr>\n",
       "      <th>Azure Functions + PP365</th>\n",
       "      <td>2077.454856</td>\n",
       "      <td>83.098194</td>\n",
       "      <td>25</td>\n",
       "    </tr>\n",
       "    <tr>\n",
       "      <th>SharePoint</th>\n",
       "      <td>2120.359574</td>\n",
       "      <td>124.727034</td>\n",
       "      <td>17</td>\n",
       "    </tr>\n",
       "    <tr>\n",
       "      <th>Vocab</th>\n",
       "      <td>2419.012474</td>\n",
       "      <td>43.196651</td>\n",
       "      <td>56</td>\n",
       "    </tr>\n",
       "    <tr>\n",
       "      <th>WSL + Kali Linux</th>\n",
       "      <td>2624.848008</td>\n",
       "      <td>119.311273</td>\n",
       "      <td>22</td>\n",
       "    </tr>\n",
       "    <tr>\n",
       "      <th>Powershell Modules</th>\n",
       "      <td>2709.159122</td>\n",
       "      <td>90.305304</td>\n",
       "      <td>30</td>\n",
       "    </tr>\n",
       "    <tr>\n",
       "      <th>Logging in Python</th>\n",
       "      <td>2838.123650</td>\n",
       "      <td>113.524946</td>\n",
       "      <td>25</td>\n",
       "    </tr>\n",
       "    <tr>\n",
       "      <th>PnP Powershell</th>\n",
       "      <td>2912.605834</td>\n",
       "      <td>76.647522</td>\n",
       "      <td>38</td>\n",
       "    </tr>\n",
       "    <tr>\n",
       "      <th>JavaScript Concepts</th>\n",
       "      <td>2957.882929</td>\n",
       "      <td>41.660323</td>\n",
       "      <td>71</td>\n",
       "    </tr>\n",
       "  </tbody>\n",
       "</table>\n",
       "</div>"
      ],
      "text/plain": [
       "                                            age_sum    age_mean  head_count\n",
       "Todd Ideas                               269.946568   17.996438          15\n",
       "Powershell                               523.237483   52.323748          10\n",
       "Terraform                                688.614006   27.544560          25\n",
       "Azure Functions                          763.153025   69.377548          11\n",
       "Email Auth and Security                 1221.269427   93.943802          13\n",
       "FSLogix                                 1234.778888   51.449120          24\n",
       "Azure Functions + Visual Studio         1263.638662   90.259904          14\n",
       "Audit Report Tracker (Sharepoint List)  1280.999795   80.062487          16\n",
       "IW Migration                            1438.008248  102.714875          14\n",
       "OData                                   1464.703594   97.646906          15\n",
       "DNS                                     1510.846322   94.427895          16\n",
       "Azure AI Search                         1527.250278  109.089306          14\n",
       "PEP 8                                   1563.369413  130.280784          12\n",
       "Home Network Project                    1613.978053   84.946213          19\n",
       "Debugging in VS Code                    1875.124867   81.527168          23\n",
       "Open Source/GitHub                      2016.831500  100.841575          20\n",
       "Azure Functions + PP365                 2077.454856   83.098194          25\n",
       "SharePoint                              2120.359574  124.727034          17\n",
       "Vocab                                   2419.012474   43.196651          56\n",
       "WSL + Kali Linux                        2624.848008  119.311273          22\n",
       "Powershell Modules                      2709.159122   90.305304          30\n",
       "Logging in Python                       2838.123650  113.524946          25\n",
       "PnP Powershell                          2912.605834   76.647522          38\n",
       "JavaScript Concepts                     2957.882929   41.660323          71"
      ]
     },
     "execution_count": 75,
     "metadata": {},
     "output_type": "execute_result"
    }
   ],
   "source": [
    "stats = existing_cards.groupby('head').agg({'age': ['sum', 'mean'], 'head': 'count'}).sort_values(('age', 'sum'))\n",
    "stats.columns = stats.columns.to_flat_index()\n",
    "stats.columns = ['_'.join(col).strip() for col in stats.columns]\n",
    "stats.index.name = None\n",
    "stats"
   ]
  },
  {
   "cell_type": "markdown",
   "metadata": {},
   "source": [
    "# Histogram"
   ]
  },
  {
   "cell_type": "code",
   "execution_count": 76,
   "metadata": {},
   "outputs": [
    {
     "name": "stdout",
     "output_type": "stream",
     "text": [
      "40915.20\n"
     ]
    },
    {
     "data": {
      "text/plain": [
       "<Axes: >"
      ]
     },
     "execution_count": 76,
     "metadata": {},
     "output_type": "execute_result"
    },
    {
     "data": {
      "image/png": "[encoded data removed]",
      "text/plain": [
       "<Figure size 640x480 with 1 Axes>"
      ]
     },
     "metadata": {},
     "output_type": "display_data"
    }
   ],
   "source": [
    "print(f\"{existing_cards['age'].sum(0):.2f}\")\n",
    "existing_cards['age'].hist(bins=20)"
   ]
  },
  {
   "cell_type": "markdown",
   "metadata": {},
   "source": [
    "# Completely Random Shuffle"
   ]
  },
  {
   "cell_type": "code",
   "execution_count": 77,
   "metadata": {},
   "outputs": [],
   "source": [
    "# existing_cards = existing_cards.sample(frac=1)\n",
    "# remake_card_document(filename='certcards2.txt', existing_cards = existing_cards)"
   ]
  },
  {
   "cell_type": "markdown",
   "metadata": {},
   "source": [
    "# Age Sort"
   ]
  },
  {
   "cell_type": "code",
   "execution_count": 78,
   "metadata": {},
   "outputs": [],
   "source": [
    "# existing_cards = existing_cards.sort_values('age', ascending=False)\n",
    "# remake_card_document(filename='certcards2.txt', existing_cards=existing_cards)\n",
    "# existing_cards.head(10)"
   ]
  },
  {
   "cell_type": "markdown",
   "metadata": {},
   "source": [
    "# Headers with fewest notes first"
   ]
  },
  {
   "cell_type": "code",
   "execution_count": 79,
   "metadata": {},
   "outputs": [],
   "source": [
    "# frequency = existing_cards['head'].value_counts(ascending=True)\n",
    "\n",
    "# existing_cards = pd.merge(\n",
    "#     left=existing_cards,\n",
    "#     right=frequency.rename('frequency'),\n",
    "#     left_on='head', right_index=True,\n",
    "#     how='left'\n",
    "# )\n",
    "# existing_cards['oldest'] = existing_cards.groupby('head')['age'].transform('max')\n",
    "# existing_cards['subject_highest_age'] = existing_cards['subject_highest_age'] * -1\n",
    "# existing_cards['age'] = existing_cards['age'] * -1\n",
    "\n",
    "\n",
    "# existing_cards.sort_values(['frequency', 'subject_highest_age', 'age'], ascending=True, inplace=True)\n",
    "\n",
    "# remake_card_document(filename='certcards2.txt', existing_cards=existing_cards)\n",
    "\n",
    "# existing_cards.head(10)"
   ]
  },
  {
   "cell_type": "markdown",
   "metadata": {},
   "source": [
    "# Focus on one header"
   ]
  },
  {
   "cell_type": "code",
   "execution_count": 80,
   "metadata": {},
   "outputs": [],
   "source": [
    "# heads = existing_cards['head'].value_counts()\n",
    "# heads = heads[heads > 5].index.tolist()\n",
    "# one_header = random.sample(heads, 1)[0]\n",
    "# existing_cards['pick_head'] = existing_cards['head'].apply(\n",
    "#     lambda h: 0 if h == one_header else 1 \n",
    "# )\n",
    "\n",
    "# remake_card_document(existing_cards=existing_cards.sort_values('pick_head'))"
   ]
  },
  {
   "cell_type": "markdown",
   "metadata": {},
   "source": [
    "## Header with oldest cards first"
   ]
  },
  {
   "cell_type": "code",
   "execution_count": 81,
   "metadata": {},
   "outputs": [],
   "source": [
    "# existing_cards['oldest'] = existing_cards.groupby('head')['age'].transform('max')\n",
    "# existing_cards.sort_values(['oldest', 'age'], ascending=False, inplace=True)\n",
    "# remake_card_document(existing_cards)"
   ]
  },
  {
   "cell_type": "markdown",
   "metadata": {},
   "source": [
    "## Headers with greatest mean card age first"
   ]
  },
  {
   "cell_type": "code",
   "execution_count": 82,
   "metadata": {},
   "outputs": [],
   "source": [
    "# existing_cards.sort_values(['subject_mean_age', 'age'], ascending=False, inplace=True)\n",
    "# remake_card_document(existing_cards)"
   ]
  },
  {
   "cell_type": "markdown",
   "metadata": {},
   "source": [
    "## Headers with greatest age sum first"
   ]
  },
  {
   "cell_type": "code",
   "execution_count": 83,
   "metadata": {},
   "outputs": [],
   "source": [
    "# existing_cards.sort_values(['subject_age_sum', 'age'], ascending=False, inplace=True)\n",
    "# remake_card_document(existing_cards)"
   ]
  },
  {
   "cell_type": "markdown",
   "metadata": {},
   "source": [
    "# N-fold shuffle\n"
   ]
  },
  {
   "cell_type": "markdown",
   "metadata": {},
   "source": [
    "## Age Sum"
   ]
  },
  {
   "cell_type": "code",
   "execution_count": 84,
   "metadata": {},
   "outputs": [],
   "source": [
    "# n=5\n",
    "# existing_cards['count'] = existing_cards.sort_values('age', ascending=False).groupby('head').cumcount()\n",
    "# existing_cards['n_fold'] = existing_cards['count'] // n\n",
    "\n",
    "# existing_cards['subject_age_sum'] = existing_cards['subject_age_sum'] *-1\n",
    "# existing_cards['age'] = existing_cards['age'] *-1\n",
    "# existing_cards.sort_values(['n_fold', 'subject_age_sum', 'age'], inplace=True)\n",
    "\n",
    "# remake_card_document(existing_cards=existing_cards)\n",
    "# existing_cards.head(10)\n"
   ]
  },
  {
   "cell_type": "markdown",
   "metadata": {},
   "source": [
    "## Age Mean"
   ]
  },
  {
   "cell_type": "code",
   "execution_count": 85,
   "metadata": {},
   "outputs": [],
   "source": [
    "# n=3\n",
    "# existing_cards['count'] = existing_cards.sort_values('age', ascending=False).groupby('head').cumcount()\n",
    "# existing_cards['n_fold'] = existing_cards['count'] % n\n",
    "\n",
    "# existing_cards['subject_mean_age'] = existing_cards['subject_mean_age'] *-1\n",
    "# existing_cards['age'] = existing_cards['age'] *-1\n",
    "# existing_cards.sort_values(['n_fold', 'subject_mean_age', 'age'], inplace=True)\n",
    "# remake_card_document(existing_cards=existing_cards)\n",
    "\n",
    "# existing_cards.head(10)\n",
    "\n"
   ]
  },
  {
   "cell_type": "markdown",
   "metadata": {},
   "source": [
    "## Age Max"
   ]
  },
  {
   "cell_type": "code",
   "execution_count": 86,
   "metadata": {},
   "outputs": [
    {
     "name": "stdout",
     "output_type": "stream",
     "text": [
      "Cards found: 545\n"
     ]
    },
    {
     "data": {
      "application/vnd.microsoft.datawrangler.viewer.v0+json": {
       "columns": [
        {
         "name": "index",
         "rawType": "int64",
         "type": "integer"
        },
        {
         "name": "head",
         "rawType": "object",
         "type": "string"
        },
        {
         "name": "body",
         "rawType": "object",
         "type": "string"
        },
        {
         "name": "hash",
         "rawType": "object",
         "type": "string"
        },
        {
         "name": "age",
         "rawType": "float64",
         "type": "float"
        },
        {
         "name": "subject_mean_age",
         "rawType": "float64",
         "type": "float"
        },
        {
         "name": "subject_highest_age",
         "rawType": "float64",
         "type": "float"
        },
        {
         "name": "subject_age_sum",
         "rawType": "float64",
         "type": "float"
        },
        {
         "name": "head_random_roll",
         "rawType": "float64",
         "type": "float"
        },
        {
         "name": "count",
         "rawType": "int64",
         "type": "integer"
        },
        {
         "name": "n_fold",
         "rawType": "int64",
         "type": "integer"
        }
       ],
       "conversionMethod": "pd.DataFrame",
       "ref": "3b7df42f-f26b-41e8-ab80-44922b491531",
       "rows": [
        [
         "0",
         "SharePoint",
         "How can you delete a file named \"OldReport.docx\" from the \"Documents\" library using the SharePoint REST API?\n\nDELETE /_api/web/lists/getByTitle('Documents')/files('OldReport.docx')",
         "2a6301873609e19313c38a87765ebb41",
         "-416.28587733396336",
         "124.7270337708861",
         "-416.28587733396336",
         "2120.3595741050635",
         "0.6547453189290204",
         "0",
         "0"
        ],
        [
         "193",
         "SharePoint",
         "When checking if a file exists, which HTTP status code indicates that the file was found?\n\n<resposne code> 200 OK\n\nExplanation:\nA 200 OK status code indicates that the request was successful and the file exists. If the file does not exist, SharePoint typically returns a 404 Not Found status code.",
         "918859f52342bb48b57a491947e75ae8",
         "-202.27055743601252",
         "124.7270337708861",
         "-416.28587733396336",
         "2120.3595741050635",
         "0.6547453189290204",
         "1",
         "0"
        ],
        [
         "377",
         "SharePoint",
         "The SharePoint REST API can return data in both JSON and XML formats. By default, it often returns JSON, but you can specify the desired format using the Accept header.",
         "ad2910642ea169b00e6873d03131baca",
         "-166.6706229273764",
         "124.7270337708861",
         "-416.28587733396336",
         "2120.3595741050635",
         "0.6547453189290204",
         "2",
         "0"
        ],
        [
         "1",
         "SharePoint",
         "Whenever possible, the URI for these REST endpoints closely mimics the API signature of the resource in the SharePoint client object model. The main entry points for the REST service represent the site collection and site of the specified context. \n\nTo access a specific site, use the following construction:\n\nhttps://{site_url}/_api/web",
         "9837f7465e8ca357b13ad53bca3256ec",
         "-165.86639297742457",
         "124.7270337708861",
         "-416.28587733396336",
         "2120.3595741050635",
         "0.6547453189290204",
         "3",
         "0"
        ],
        [
         "194",
         "SharePoint",
         "Authentication and Authorization\nOAuth is commonly used. When building client applications, you'll typically register your app in Azure Active Directory to obtain the necessary credentials and permissions to interact with SharePoint.",
         "8eb43c6969264863afc5484e79e9bed7",
         "-157.10682375770193",
         "124.7270337708861",
         "-416.28587733396336",
         "2120.3595741050635",
         "0.6547453189290204",
         "4",
         "0"
        ],
        [
         "33",
         "Open Source/GitHub",
         "Maintainer\n\nA person or group responsible for overseeing a repository, managing contributions, reviewing pull requests, and ensuring the project’s direction and quality.",
         "d4673a197b962884ef9e2d6ac76ec73d",
         "-346.58858166603915",
         "100.8415750207328",
         "-346.58858166603915",
         "2016.8315004146561",
         "0.9715215265155892",
         "0",
         "0"
        ],
        [
         "224",
         "Open Source/GitHub",
         "Issue Triage\n\nThe process of reviewing and categorizing issues in the issue tracker, often involving labeling, prioritizing, and assigning tasks to contributors.",
         "4e8e6cbb60b0aa8c8c04b50c2c542664",
         "-200.80926475694915",
         "100.8415750207328",
         "-346.58858166603915",
         "2016.8315004146561",
         "0.9715215265155892",
         "1",
         "0"
        ],
        [
         "405",
         "Open Source/GitHub",
         "Issue Tracker\n\nA system within a repository where bugs, feature requests, and tasks are reported, tracked, and managed by contributors and maintainers.",
         "d49a9757f974d033bda963e7cc309367",
         "-173.272311930202",
         "100.8415750207328",
         "-346.58858166603915",
         "2016.8315004146561",
         "0.9715215265155892",
         "2",
         "0"
        ],
        [
         "34",
         "Open Source/GitHub",
         "Virtual Environment\n\nAn isolated environment in Python that allows you to manage dependencies and packages for a project without affecting the global Python installation.",
         "ed33c5559aaffc546cd7af5a3a55aaba",
         "-162.95297246549373",
         "100.8415750207328",
         "-346.58858166603915",
         "2016.8315004146561",
         "0.9715215265155892",
         "3",
         "0"
        ],
        [
         "225",
         "Open Source/GitHub",
         "Downstream Repository\n\nA fork or clone of an upstream repository, where contributors can make changes independently before contributing back.",
         "31f044e0e9f013c3f84452e9d3446f43",
         "-130.631844314032",
         "100.8415750207328",
         "-346.58858166603915",
         "2016.8315004146561",
         "0.9715215265155892",
         "4",
         "0"
        ]
       ],
       "shape": {
        "columns": 10,
        "rows": 10
       }
      },
      "text/html": [
       "<div>\n",
       "<style scoped>\n",
       "    .dataframe tbody tr th:only-of-type {\n",
       "        vertical-align: middle;\n",
       "    }\n",
       "\n",
       "    .dataframe tbody tr th {\n",
       "        vertical-align: top;\n",
       "    }\n",
       "\n",
       "    .dataframe thead th {\n",
       "        text-align: right;\n",
       "    }\n",
       "</style>\n",
       "<table border=\"1\" class=\"dataframe\">\n",
       "  <thead>\n",
       "    <tr style=\"text-align: right;\">\n",
       "      <th></th>\n",
       "      <th>head</th>\n",
       "      <th>body</th>\n",
       "      <th>hash</th>\n",
       "      <th>age</th>\n",
       "      <th>subject_mean_age</th>\n",
       "      <th>subject_highest_age</th>\n",
       "      <th>subject_age_sum</th>\n",
       "      <th>head_random_roll</th>\n",
       "      <th>count</th>\n",
       "      <th>n_fold</th>\n",
       "    </tr>\n",
       "  </thead>\n",
       "  <tbody>\n",
       "    <tr>\n",
       "      <th>0</th>\n",
       "      <td>SharePoint</td>\n",
       "      <td>How can you delete a file named \"OldReport.doc...</td>\n",
       "      <td>2a6301873609e19313c38a87765ebb41</td>\n",
       "      <td>-416.285877</td>\n",
       "      <td>124.727034</td>\n",
       "      <td>-416.285877</td>\n",
       "      <td>2120.359574</td>\n",
       "      <td>0.654745</td>\n",
       "      <td>0</td>\n",
       "      <td>0</td>\n",
       "    </tr>\n",
       "    <tr>\n",
       "      <th>193</th>\n",
       "      <td>SharePoint</td>\n",
       "      <td>When checking if a file exists, which HTTP sta...</td>\n",
       "      <td>918859f52342bb48b57a491947e75ae8</td>\n",
       "      <td>-202.270557</td>\n",
       "      <td>124.727034</td>\n",
       "      <td>-416.285877</td>\n",
       "      <td>2120.359574</td>\n",
       "      <td>0.654745</td>\n",
       "      <td>1</td>\n",
       "      <td>0</td>\n",
       "    </tr>\n",
       "    <tr>\n",
       "      <th>377</th>\n",
       "      <td>SharePoint</td>\n",
       "      <td>The SharePoint REST API can return data in bot...</td>\n",
       "      <td>ad2910642ea169b00e6873d03131baca</td>\n",
       "      <td>-166.670623</td>\n",
       "      <td>124.727034</td>\n",
       "      <td>-416.285877</td>\n",
       "      <td>2120.359574</td>\n",
       "      <td>0.654745</td>\n",
       "      <td>2</td>\n",
       "      <td>0</td>\n",
       "    </tr>\n",
       "    <tr>\n",
       "      <th>1</th>\n",
       "      <td>SharePoint</td>\n",
       "      <td>Whenever possible, the URI for these REST endp...</td>\n",
       "      <td>9837f7465e8ca357b13ad53bca3256ec</td>\n",
       "      <td>-165.866393</td>\n",
       "      <td>124.727034</td>\n",
       "      <td>-416.285877</td>\n",
       "      <td>2120.359574</td>\n",
       "      <td>0.654745</td>\n",
       "      <td>3</td>\n",
       "      <td>0</td>\n",
       "    </tr>\n",
       "    <tr>\n",
       "      <th>194</th>\n",
       "      <td>SharePoint</td>\n",
       "      <td>Authentication and Authorization\\nOAuth is com...</td>\n",
       "      <td>8eb43c6969264863afc5484e79e9bed7</td>\n",
       "      <td>-157.106824</td>\n",
       "      <td>124.727034</td>\n",
       "      <td>-416.285877</td>\n",
       "      <td>2120.359574</td>\n",
       "      <td>0.654745</td>\n",
       "      <td>4</td>\n",
       "      <td>0</td>\n",
       "    </tr>\n",
       "    <tr>\n",
       "      <th>33</th>\n",
       "      <td>Open Source/GitHub</td>\n",
       "      <td>Maintainer\\n\\nA person or group responsible fo...</td>\n",
       "      <td>d4673a197b962884ef9e2d6ac76ec73d</td>\n",
       "      <td>-346.588582</td>\n",
       "      <td>100.841575</td>\n",
       "      <td>-346.588582</td>\n",
       "      <td>2016.831500</td>\n",
       "      <td>0.971522</td>\n",
       "      <td>0</td>\n",
       "      <td>0</td>\n",
       "    </tr>\n",
       "    <tr>\n",
       "      <th>224</th>\n",
       "      <td>Open Source/GitHub</td>\n",
       "      <td>Issue Triage\\n\\nThe process of reviewing and c...</td>\n",
       "      <td>4e8e6cbb60b0aa8c8c04b50c2c542664</td>\n",
       "      <td>-200.809265</td>\n",
       "      <td>100.841575</td>\n",
       "      <td>-346.588582</td>\n",
       "      <td>2016.831500</td>\n",
       "      <td>0.971522</td>\n",
       "      <td>1</td>\n",
       "      <td>0</td>\n",
       "    </tr>\n",
       "    <tr>\n",
       "      <th>405</th>\n",
       "      <td>Open Source/GitHub</td>\n",
       "      <td>Issue Tracker\\n\\nA system within a repository ...</td>\n",
       "      <td>d49a9757f974d033bda963e7cc309367</td>\n",
       "      <td>-173.272312</td>\n",
       "      <td>100.841575</td>\n",
       "      <td>-346.588582</td>\n",
       "      <td>2016.831500</td>\n",
       "      <td>0.971522</td>\n",
       "      <td>2</td>\n",
       "      <td>0</td>\n",
       "    </tr>\n",
       "    <tr>\n",
       "      <th>34</th>\n",
       "      <td>Open Source/GitHub</td>\n",
       "      <td>Virtual Environment\\n\\nAn isolated environment...</td>\n",
       "      <td>ed33c5559aaffc546cd7af5a3a55aaba</td>\n",
       "      <td>-162.952972</td>\n",
       "      <td>100.841575</td>\n",
       "      <td>-346.588582</td>\n",
       "      <td>2016.831500</td>\n",
       "      <td>0.971522</td>\n",
       "      <td>3</td>\n",
       "      <td>0</td>\n",
       "    </tr>\n",
       "    <tr>\n",
       "      <th>225</th>\n",
       "      <td>Open Source/GitHub</td>\n",
       "      <td>Downstream Repository\\n\\nA fork or clone of an...</td>\n",
       "      <td>31f044e0e9f013c3f84452e9d3446f43</td>\n",
       "      <td>-130.631844</td>\n",
       "      <td>100.841575</td>\n",
       "      <td>-346.588582</td>\n",
       "      <td>2016.831500</td>\n",
       "      <td>0.971522</td>\n",
       "      <td>4</td>\n",
       "      <td>0</td>\n",
       "    </tr>\n",
       "  </tbody>\n",
       "</table>\n",
       "</div>"
      ],
      "text/plain": [
       "                   head                                               body  \\\n",
       "0            SharePoint  How can you delete a file named \"OldReport.doc...   \n",
       "193          SharePoint  When checking if a file exists, which HTTP sta...   \n",
       "377          SharePoint  The SharePoint REST API can return data in bot...   \n",
       "1            SharePoint  Whenever possible, the URI for these REST endp...   \n",
       "194          SharePoint  Authentication and Authorization\\nOAuth is com...   \n",
       "33   Open Source/GitHub  Maintainer\\n\\nA person or group responsible fo...   \n",
       "224  Open Source/GitHub  Issue Triage\\n\\nThe process of reviewing and c...   \n",
       "405  Open Source/GitHub  Issue Tracker\\n\\nA system within a repository ...   \n",
       "34   Open Source/GitHub  Virtual Environment\\n\\nAn isolated environment...   \n",
       "225  Open Source/GitHub  Downstream Repository\\n\\nA fork or clone of an...   \n",
       "\n",
       "                                 hash         age  subject_mean_age  \\\n",
       "0    2a6301873609e19313c38a87765ebb41 -416.285877        124.727034   \n",
       "193  918859f52342bb48b57a491947e75ae8 -202.270557        124.727034   \n",
       "377  ad2910642ea169b00e6873d03131baca -166.670623        124.727034   \n",
       "1    9837f7465e8ca357b13ad53bca3256ec -165.866393        124.727034   \n",
       "194  8eb43c6969264863afc5484e79e9bed7 -157.106824        124.727034   \n",
       "33   d4673a197b962884ef9e2d6ac76ec73d -346.588582        100.841575   \n",
       "224  4e8e6cbb60b0aa8c8c04b50c2c542664 -200.809265        100.841575   \n",
       "405  d49a9757f974d033bda963e7cc309367 -173.272312        100.841575   \n",
       "34   ed33c5559aaffc546cd7af5a3a55aaba -162.952972        100.841575   \n",
       "225  31f044e0e9f013c3f84452e9d3446f43 -130.631844        100.841575   \n",
       "\n",
       "     subject_highest_age  subject_age_sum  head_random_roll  count  n_fold  \n",
       "0            -416.285877      2120.359574          0.654745      0       0  \n",
       "193          -416.285877      2120.359574          0.654745      1       0  \n",
       "377          -416.285877      2120.359574          0.654745      2       0  \n",
       "1            -416.285877      2120.359574          0.654745      3       0  \n",
       "194          -416.285877      2120.359574          0.654745      4       0  \n",
       "33           -346.588582      2016.831500          0.971522      0       0  \n",
       "224          -346.588582      2016.831500          0.971522      1       0  \n",
       "405          -346.588582      2016.831500          0.971522      2       0  \n",
       "34           -346.588582      2016.831500          0.971522      3       0  \n",
       "225          -346.588582      2016.831500          0.971522      4       0  "
      ]
     },
     "execution_count": 86,
     "metadata": {},
     "output_type": "execute_result"
    }
   ],
   "source": [
    "n = 5\n",
    "existing_cards['count'] = existing_cards.sort_values('age', ascending=False).groupby('head').cumcount()\n",
    "existing_cards['n_fold'] = existing_cards['count'] // n\n",
    "\n",
    "existing_cards['subject_highest_age'] = existing_cards['subject_highest_age'] *-1\n",
    "existing_cards['age'] = existing_cards['age'] *-1\n",
    "existing_cards.sort_values(['n_fold', 'subject_highest_age', 'age'], inplace=True)\n",
    "\n",
    "remake_card_document(existing_cards=existing_cards)\n",
    "existing_cards.head(10)\n"
   ]
  },
  {
   "cell_type": "markdown",
   "metadata": {},
   "source": [
    "## Card Count"
   ]
  },
  {
   "cell_type": "code",
   "execution_count": 87,
   "metadata": {},
   "outputs": [],
   "source": [
    "# n=10\n",
    "# existing_cards['frequency']  = existing_cards.groupby('head').transform('count')['body']\n",
    "# existing_cards['count'] = existing_cards.sort_values('age', ascending=False).groupby('head').cumcount()\n",
    "# existing_cards['n_fold'] = existing_cards['count'] // n\n",
    "\n",
    "# existing_cards['subject_mean_age'] = existing_cards['subject_mean_age'] *-1\n",
    "# existing_cards['age'] = existing_cards['age'] *-1\n",
    "# existing_cards.sort_values(['n_fold', 'frequency', 'age'], inplace=True)\n",
    "# remake_card_document(existing_cards=existing_cards)\n",
    "\n",
    "# existing_cards.head(10)\n",
    "\n"
   ]
  },
  {
   "cell_type": "markdown",
   "metadata": {},
   "source": [
    "\n",
    "## Random"
   ]
  },
  {
   "cell_type": "code",
   "execution_count": 88,
   "metadata": {},
   "outputs": [],
   "source": [
    "# n = 3\n",
    "# existing_cards['count'] = existing_cards.sort_values('age', ascending=False).groupby('head').cumcount()\n",
    "# existing_cards['n_fold'] = existing_cards['count'] % n\n",
    "# existing_cards['age'] *= -1\n",
    "# existing_cards.sort_values(['n_fold', 'head_random_roll', 'age'], inplace=True)\n",
    "# remake_card_document(existing_cards=existing_cards)\n",
    "# existing_cards.head(10)"
   ]
  },
  {
   "cell_type": "code",
   "execution_count": 92,
   "metadata": {},
   "outputs": [
    {
     "data": {
      "application/vnd.microsoft.datawrangler.viewer.v0+json": {
       "columns": [
        {
         "name": "index",
         "rawType": "int64",
         "type": "integer"
        },
        {
         "name": "head",
         "rawType": "object",
         "type": "string"
        },
        {
         "name": "body",
         "rawType": "object",
         "type": "string"
        },
        {
         "name": "hash",
         "rawType": "object",
         "type": "string"
        },
        {
         "name": "age",
         "rawType": "float64",
         "type": "float"
        },
        {
         "name": "subject_mean_age",
         "rawType": "float64",
         "type": "float"
        },
        {
         "name": "subject_highest_age",
         "rawType": "float64",
         "type": "float"
        },
        {
         "name": "subject_age_sum",
         "rawType": "float64",
         "type": "float"
        },
        {
         "name": "head_random_roll",
         "rawType": "float64",
         "type": "float"
        },
        {
         "name": "count",
         "rawType": "int64",
         "type": "integer"
        },
        {
         "name": "n_fold",
         "rawType": "int64",
         "type": "integer"
        }
       ],
       "conversionMethod": "pd.DataFrame",
       "ref": "b2d7dc57-218b-42f6-bb09-d9ea2c6ee56e",
       "rows": [
        [
         "0",
         "SharePoint",
         "How can you delete a file named \"OldReport.docx\" from the \"Documents\" library using the SharePoint REST API?\n\nDELETE /_api/web/lists/getByTitle('Documents')/files('OldReport.docx')",
         "2a6301873609e19313c38a87765ebb41",
         "-416.28587733396336",
         "124.7270337708861",
         "-416.28587733396336",
         "2120.3595741050635",
         "0.6547453189290204",
         "0",
         "0"
        ],
        [
         "193",
         "SharePoint",
         "When checking if a file exists, which HTTP status code indicates that the file was found?\n\n<resposne code> 200 OK\n\nExplanation:\nA 200 OK status code indicates that the request was successful and the file exists. If the file does not exist, SharePoint typically returns a 404 Not Found status code.",
         "918859f52342bb48b57a491947e75ae8",
         "-202.27055743601252",
         "124.7270337708861",
         "-416.28587733396336",
         "2120.3595741050635",
         "0.6547453189290204",
         "1",
         "0"
        ],
        [
         "377",
         "SharePoint",
         "The SharePoint REST API can return data in both JSON and XML formats. By default, it often returns JSON, but you can specify the desired format using the Accept header.",
         "ad2910642ea169b00e6873d03131baca",
         "-166.6706229273764",
         "124.7270337708861",
         "-416.28587733396336",
         "2120.3595741050635",
         "0.6547453189290204",
         "2",
         "0"
        ],
        [
         "1",
         "SharePoint",
         "Whenever possible, the URI for these REST endpoints closely mimics the API signature of the resource in the SharePoint client object model. The main entry points for the REST service represent the site collection and site of the specified context. \n\nTo access a specific site, use the following construction:\n\nhttps://{site_url}/_api/web",
         "9837f7465e8ca357b13ad53bca3256ec",
         "-165.86639297742457",
         "124.7270337708861",
         "-416.28587733396336",
         "2120.3595741050635",
         "0.6547453189290204",
         "3",
         "0"
        ],
        [
         "194",
         "SharePoint",
         "Authentication and Authorization\nOAuth is commonly used. When building client applications, you'll typically register your app in Azure Active Directory to obtain the necessary credentials and permissions to interact with SharePoint.",
         "8eb43c6969264863afc5484e79e9bed7",
         "-157.10682375770193",
         "124.7270337708861",
         "-416.28587733396336",
         "2120.3595741050635",
         "0.6547453189290204",
         "4",
         "0"
        ],
        [
         "33",
         "Open Source/GitHub",
         "Maintainer\n\nA person or group responsible for overseeing a repository, managing contributions, reviewing pull requests, and ensuring the project’s direction and quality.",
         "d4673a197b962884ef9e2d6ac76ec73d",
         "-346.58858166603915",
         "100.8415750207328",
         "-346.58858166603915",
         "2016.8315004146561",
         "0.9715215265155892",
         "0",
         "0"
        ],
        [
         "224",
         "Open Source/GitHub",
         "Issue Triage\n\nThe process of reviewing and categorizing issues in the issue tracker, often involving labeling, prioritizing, and assigning tasks to contributors.",
         "4e8e6cbb60b0aa8c8c04b50c2c542664",
         "-200.80926475694915",
         "100.8415750207328",
         "-346.58858166603915",
         "2016.8315004146561",
         "0.9715215265155892",
         "1",
         "0"
        ],
        [
         "405",
         "Open Source/GitHub",
         "Issue Tracker\n\nA system within a repository where bugs, feature requests, and tasks are reported, tracked, and managed by contributors and maintainers.",
         "d49a9757f974d033bda963e7cc309367",
         "-173.272311930202",
         "100.8415750207328",
         "-346.58858166603915",
         "2016.8315004146561",
         "0.9715215265155892",
         "2",
         "0"
        ],
        [
         "34",
         "Open Source/GitHub",
         "Virtual Environment\n\nAn isolated environment in Python that allows you to manage dependencies and packages for a project without affecting the global Python installation.",
         "ed33c5559aaffc546cd7af5a3a55aaba",
         "-162.95297246549373",
         "100.8415750207328",
         "-346.58858166603915",
         "2016.8315004146561",
         "0.9715215265155892",
         "3",
         "0"
        ],
        [
         "225",
         "Open Source/GitHub",
         "Downstream Repository\n\nA fork or clone of an upstream repository, where contributors can make changes independently before contributing back.",
         "31f044e0e9f013c3f84452e9d3446f43",
         "-130.631844314032",
         "100.8415750207328",
         "-346.58858166603915",
         "2016.8315004146561",
         "0.9715215265155892",
         "4",
         "0"
        ]
       ],
       "shape": {
        "columns": 10,
        "rows": 10
       }
      },
      "text/html": [
       "<div>\n",
       "<style scoped>\n",
       "    .dataframe tbody tr th:only-of-type {\n",
       "        vertical-align: middle;\n",
       "    }\n",
       "\n",
       "    .dataframe tbody tr th {\n",
       "        vertical-align: top;\n",
       "    }\n",
       "\n",
       "    .dataframe thead th {\n",
       "        text-align: right;\n",
       "    }\n",
       "</style>\n",
       "<table border=\"1\" class=\"dataframe\">\n",
       "  <thead>\n",
       "    <tr style=\"text-align: right;\">\n",
       "      <th></th>\n",
       "      <th>head</th>\n",
       "      <th>body</th>\n",
       "      <th>hash</th>\n",
       "      <th>age</th>\n",
       "      <th>subject_mean_age</th>\n",
       "      <th>subject_highest_age</th>\n",
       "      <th>subject_age_sum</th>\n",
       "      <th>head_random_roll</th>\n",
       "      <th>count</th>\n",
       "      <th>n_fold</th>\n",
       "    </tr>\n",
       "  </thead>\n",
       "  <tbody>\n",
       "    <tr>\n",
       "      <th>0</th>\n",
       "      <td>SharePoint</td>\n",
       "      <td>How can you delete a file named \"OldReport.doc...</td>\n",
       "      <td>2a6301873609e19313c38a87765ebb41</td>\n",
       "      <td>-416.285877</td>\n",
       "      <td>124.727034</td>\n",
       "      <td>-416.285877</td>\n",
       "      <td>2120.359574</td>\n",
       "      <td>0.654745</td>\n",
       "      <td>0</td>\n",
       "      <td>0</td>\n",
       "    </tr>\n",
       "    <tr>\n",
       "      <th>193</th>\n",
       "      <td>SharePoint</td>\n",
       "      <td>When checking if a file exists, which HTTP sta...</td>\n",
       "      <td>918859f52342bb48b57a491947e75ae8</td>\n",
       "      <td>-202.270557</td>\n",
       "      <td>124.727034</td>\n",
       "      <td>-416.285877</td>\n",
       "      <td>2120.359574</td>\n",
       "      <td>0.654745</td>\n",
       "      <td>1</td>\n",
       "      <td>0</td>\n",
       "    </tr>\n",
       "    <tr>\n",
       "      <th>377</th>\n",
       "      <td>SharePoint</td>\n",
       "      <td>The SharePoint REST API can return data in bot...</td>\n",
       "      <td>ad2910642ea169b00e6873d03131baca</td>\n",
       "      <td>-166.670623</td>\n",
       "      <td>124.727034</td>\n",
       "      <td>-416.285877</td>\n",
       "      <td>2120.359574</td>\n",
       "      <td>0.654745</td>\n",
       "      <td>2</td>\n",
       "      <td>0</td>\n",
       "    </tr>\n",
       "    <tr>\n",
       "      <th>1</th>\n",
       "      <td>SharePoint</td>\n",
       "      <td>Whenever possible, the URI for these REST endp...</td>\n",
       "      <td>9837f7465e8ca357b13ad53bca3256ec</td>\n",
       "      <td>-165.866393</td>\n",
       "      <td>124.727034</td>\n",
       "      <td>-416.285877</td>\n",
       "      <td>2120.359574</td>\n",
       "      <td>0.654745</td>\n",
       "      <td>3</td>\n",
       "      <td>0</td>\n",
       "    </tr>\n",
       "    <tr>\n",
       "      <th>194</th>\n",
       "      <td>SharePoint</td>\n",
       "      <td>Authentication and Authorization\\nOAuth is com...</td>\n",
       "      <td>8eb43c6969264863afc5484e79e9bed7</td>\n",
       "      <td>-157.106824</td>\n",
       "      <td>124.727034</td>\n",
       "      <td>-416.285877</td>\n",
       "      <td>2120.359574</td>\n",
       "      <td>0.654745</td>\n",
       "      <td>4</td>\n",
       "      <td>0</td>\n",
       "    </tr>\n",
       "    <tr>\n",
       "      <th>33</th>\n",
       "      <td>Open Source/GitHub</td>\n",
       "      <td>Maintainer\\n\\nA person or group responsible fo...</td>\n",
       "      <td>d4673a197b962884ef9e2d6ac76ec73d</td>\n",
       "      <td>-346.588582</td>\n",
       "      <td>100.841575</td>\n",
       "      <td>-346.588582</td>\n",
       "      <td>2016.831500</td>\n",
       "      <td>0.971522</td>\n",
       "      <td>0</td>\n",
       "      <td>0</td>\n",
       "    </tr>\n",
       "    <tr>\n",
       "      <th>224</th>\n",
       "      <td>Open Source/GitHub</td>\n",
       "      <td>Issue Triage\\n\\nThe process of reviewing and c...</td>\n",
       "      <td>4e8e6cbb60b0aa8c8c04b50c2c542664</td>\n",
       "      <td>-200.809265</td>\n",
       "      <td>100.841575</td>\n",
       "      <td>-346.588582</td>\n",
       "      <td>2016.831500</td>\n",
       "      <td>0.971522</td>\n",
       "      <td>1</td>\n",
       "      <td>0</td>\n",
       "    </tr>\n",
       "    <tr>\n",
       "      <th>405</th>\n",
       "      <td>Open Source/GitHub</td>\n",
       "      <td>Issue Tracker\\n\\nA system within a repository ...</td>\n",
       "      <td>d49a9757f974d033bda963e7cc309367</td>\n",
       "      <td>-173.272312</td>\n",
       "      <td>100.841575</td>\n",
       "      <td>-346.588582</td>\n",
       "      <td>2016.831500</td>\n",
       "      <td>0.971522</td>\n",
       "      <td>2</td>\n",
       "      <td>0</td>\n",
       "    </tr>\n",
       "    <tr>\n",
       "      <th>34</th>\n",
       "      <td>Open Source/GitHub</td>\n",
       "      <td>Virtual Environment\\n\\nAn isolated environment...</td>\n",
       "      <td>ed33c5559aaffc546cd7af5a3a55aaba</td>\n",
       "      <td>-162.952972</td>\n",
       "      <td>100.841575</td>\n",
       "      <td>-346.588582</td>\n",
       "      <td>2016.831500</td>\n",
       "      <td>0.971522</td>\n",
       "      <td>3</td>\n",
       "      <td>0</td>\n",
       "    </tr>\n",
       "    <tr>\n",
       "      <th>225</th>\n",
       "      <td>Open Source/GitHub</td>\n",
       "      <td>Downstream Repository\\n\\nA fork or clone of an...</td>\n",
       "      <td>31f044e0e9f013c3f84452e9d3446f43</td>\n",
       "      <td>-130.631844</td>\n",
       "      <td>100.841575</td>\n",
       "      <td>-346.588582</td>\n",
       "      <td>2016.831500</td>\n",
       "      <td>0.971522</td>\n",
       "      <td>4</td>\n",
       "      <td>0</td>\n",
       "    </tr>\n",
       "  </tbody>\n",
       "</table>\n",
       "</div>"
      ],
      "text/plain": [
       "                   head                                               body  \\\n",
       "0            SharePoint  How can you delete a file named \"OldReport.doc...   \n",
       "193          SharePoint  When checking if a file exists, which HTTP sta...   \n",
       "377          SharePoint  The SharePoint REST API can return data in bot...   \n",
       "1            SharePoint  Whenever possible, the URI for these REST endp...   \n",
       "194          SharePoint  Authentication and Authorization\\nOAuth is com...   \n",
       "33   Open Source/GitHub  Maintainer\\n\\nA person or group responsible fo...   \n",
       "224  Open Source/GitHub  Issue Triage\\n\\nThe process of reviewing and c...   \n",
       "405  Open Source/GitHub  Issue Tracker\\n\\nA system within a repository ...   \n",
       "34   Open Source/GitHub  Virtual Environment\\n\\nAn isolated environment...   \n",
       "225  Open Source/GitHub  Downstream Repository\\n\\nA fork or clone of an...   \n",
       "\n",
       "                                 hash         age  subject_mean_age  \\\n",
       "0    2a6301873609e19313c38a87765ebb41 -416.285877        124.727034   \n",
       "193  918859f52342bb48b57a491947e75ae8 -202.270557        124.727034   \n",
       "377  ad2910642ea169b00e6873d03131baca -166.670623        124.727034   \n",
       "1    9837f7465e8ca357b13ad53bca3256ec -165.866393        124.727034   \n",
       "194  8eb43c6969264863afc5484e79e9bed7 -157.106824        124.727034   \n",
       "33   d4673a197b962884ef9e2d6ac76ec73d -346.588582        100.841575   \n",
       "224  4e8e6cbb60b0aa8c8c04b50c2c542664 -200.809265        100.841575   \n",
       "405  d49a9757f974d033bda963e7cc309367 -173.272312        100.841575   \n",
       "34   ed33c5559aaffc546cd7af5a3a55aaba -162.952972        100.841575   \n",
       "225  31f044e0e9f013c3f84452e9d3446f43 -130.631844        100.841575   \n",
       "\n",
       "     subject_highest_age  subject_age_sum  head_random_roll  count  n_fold  \n",
       "0            -416.285877      2120.359574          0.654745      0       0  \n",
       "193          -416.285877      2120.359574          0.654745      1       0  \n",
       "377          -416.285877      2120.359574          0.654745      2       0  \n",
       "1            -416.285877      2120.359574          0.654745      3       0  \n",
       "194          -416.285877      2120.359574          0.654745      4       0  \n",
       "33           -346.588582      2016.831500          0.971522      0       0  \n",
       "224          -346.588582      2016.831500          0.971522      1       0  \n",
       "405          -346.588582      2016.831500          0.971522      2       0  \n",
       "34           -346.588582      2016.831500          0.971522      3       0  \n",
       "225          -346.588582      2016.831500          0.971522      4       0  "
      ]
     },
     "execution_count": 92,
     "metadata": {},
     "output_type": "execute_result"
    }
   ],
   "source": [
    "existing_cards.head(10)"
   ]
  },
  {
   "cell_type": "code",
   "execution_count": 90,
   "metadata": {},
   "outputs": [
    {
     "data": {
      "text/plain": [
       "-75.07375518719664"
      ]
     },
     "execution_count": 90,
     "metadata": {},
     "output_type": "execute_result"
    }
   ],
   "source": [
    "existing_cards['age'].mean()"
   ]
  }
 ],
 "metadata": {
  "kernelspec": {
   "display_name": "Python 3",
   "language": "python",
   "name": "python3"
  },
  "language_info": {
   "codemirror_mode": {
    "name": "ipython",
    "version": 3
   },
   "file_extension": ".py",
   "mimetype": "text/x-python",
   "name": "python",
   "nbconvert_exporter": "python",
   "pygments_lexer": "ipython3",
   "version": "3.10.10"
  }
 },
 "nbformat": 4,
 "nbformat_minor": 2
}
