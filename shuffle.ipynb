{
 "cells": [
  {
   "cell_type": "code",
   "execution_count": 46,
   "metadata": {},
   "outputs": [],
   "source": [
    "import re\n",
    "import random\n",
    "import pandas as pd\n",
    "import hashlib"
   ]
  },
  {
   "cell_type": "code",
   "execution_count": 47,
   "metadata": {},
   "outputs": [],
   "source": [
    "with open('certcards2.txt', mode='r', encoding='utf8') as f:\n",
    "    all_cards = f.read()\n",
    "    \n",
    "card_split_pattern = r'\\n\\n\\n\\d+\\n'\n",
    "all_cards = re.split(card_split_pattern, all_cards)\n",
    "# Use re.DOTALL to allow . to match newline characters\n",
    "card_pattern = re.compile(r'(.+?)\\n([\\s\\S]+)', re.DOTALL)\n",
    "cards = [(match.group(1), match.group(2)) for cstring in all_cards if (match := re.search(card_pattern, cstring))]\n",
    "\n",
    "# removing the cards that have no content and trimming\n",
    "cards = [(subject, stripped_content) for subject, content in cards if len(stripped_content := content.strip()) > 5]\n",
    "\n",
    "def hash_string_md5(s):\n",
    "    \"\"\"\n",
    "    Hashes a string using MD5 and returns a truncated hash for efficiency.\n",
    "\n",
    "    Parameters:\n",
    "    - s (str): The input string to hash.\n",
    "\n",
    "    Returns:\n",
    "    - str: The truncated hexadecimal hash string.\n",
    "    \"\"\"\n",
    "    if pd.isnull(s):\n",
    "        return None  # Handle NaN values gracefully\n",
    "    return hashlib.md5(s.encode('utf-8')).hexdigest()\n",
    "\n",
    "\n",
    "def remake_card_document(existing_cards: pd.DataFrame, filename: str='certcards2.txt'):\n",
    "    with open(filename, mode='w', encoding='utf8') as f:\n",
    "        i = 1\n",
    "        for _, row in existing_cards.iterrows():\n",
    "            f.write('\\n'*6)\n",
    "            f.write(str(i)+'\\n')  \n",
    "            f.write(row['head']+'\\n')\n",
    "            f.write(row['body'])\n",
    "            i+=1\n",
    "    print(F\"Cards found: {existing_cards.shape[0]}\")\n",
    "\n",
    "\n",
    "existing_cards = pd.DataFrame(cards, columns=['head', 'body'])\n",
    "\n",
    "\n",
    "# existing_cards['age'] = [random.random() for _ in existing_cards.index]\n",
    "existing_cards['hash'] = existing_cards['body'].apply(hash_string_md5)\n",
    "existing_cards\n",
    "\n",
    "card_ages = pd.read_json('card_ages.json')\n",
    "card_ages = card_ages.drop_duplicates(subset=['hash'], keep='first')\n",
    "\n",
    "cards_to_age = pd.merge(\n",
    "    left=existing_cards,\n",
    "    right=card_ages[['hash', 'age']],\n",
    "    left_on='hash', right_on='hash',\n",
    "    how='left'\n",
    ")\n",
    "\n",
    "cards_to_age['head'] = cards_to_age['head'].str.strip()\n",
    "\n",
    "if cards_to_age['age'].sum() > 2e4: age_factor = 1\n",
    "else: age_factor = 1.00\n",
    "\n",
    "cards_to_age['age'] = cards_to_age['age'].fillna(0)\n",
    "cards_to_age['age'] = cards_to_age['age'] * age_factor\n",
    "cards_to_age['age'] = cards_to_age['age'] + [random.expovariate(.60) for _ in cards_to_age.index]\n",
    "# cards_to_age['age'] = cards_to_age['age'] * [random.expovariate(.5) for _ in cards_to_age.index]\n",
    "\n",
    "# Adding priority age growth to cards for upcoming certifications\n",
    "priority_headers = ['Azure Developer Associate']\n",
    "priority_cards_mask = cards_to_age['head'].isin(priority_headers)\n",
    "cards_to_age.loc[priority_cards_mask, 'age'] = cards_to_age.loc[priority_cards_mask, 'age'] * 1.1\n",
    "\n",
    "\n",
    "cards_to_age = cards_to_age.drop_duplicates(subset=['hash'], keep='first')\n",
    "\n",
    "cards_to_age['subject_mean_age'] = cards_to_age.groupby('head')['age'].transform('mean')\n",
    "cards_to_age['subject_highest_age'] = cards_to_age.groupby('head')['age'].transform('max')\n",
    "cards_to_age['subject_age_sum'] = cards_to_age.groupby('head')['age'].transform('sum')\n",
    "cards_to_age['head_random_roll'] = cards_to_age.groupby('head')['head'].transform(lambda x: random.random())\n",
    "\n",
    "\n",
    "cards_to_age.sort_values('hash')[['age', 'head', 'hash']].to_json('card_ages.json', indent=2)\n",
    "\n",
    "existing_cards = cards_to_age"
   ]
  },
  {
   "cell_type": "code",
   "execution_count": 48,
   "metadata": {},
   "outputs": [
    {
     "data": {
      "application/vnd.microsoft.datawrangler.viewer.v0+json": {
       "columns": [
        {
         "name": "index",
         "rawType": "object",
         "type": "string"
        },
        {
         "name": "age_sum",
         "rawType": "float64",
         "type": "float"
        },
        {
         "name": "age_mean",
         "rawType": "float64",
         "type": "float"
        },
        {
         "name": "age_max",
         "rawType": "float64",
         "type": "float"
        },
        {
         "name": "head_count",
         "rawType": "int64",
         "type": "integer"
        }
       ],
       "conversionMethod": "pd.DataFrame",
       "ref": "10ddceff-ad24-40cb-ae9e-57264882b2e5",
       "rows": [
        [
         "Todd Ideas",
         "1307.4532489830908",
         "87.16354993220605",
         "174.47094150217822",
         "15"
        ],
        [
         "Python",
         "1594.8317069516193",
         "33.93258950960892",
         "54.40532142816828",
         "47"
        ],
        [
         "Azure Developer Associate",
         "1678.3713033550189",
         "26.640814338968553",
         "83.5559216283169",
         "63"
        ],
        [
         "Email Auth and Security",
         "1727.5592442298002",
         "143.96327035248336",
         "504.275763069809",
         "12"
        ],
        [
         "Azure AI Search",
         "1782.2615726150677",
         "222.78269657688347",
         "430.2219650550782",
         "8"
        ],
        [
         "SharePoint",
         "1993.7904868019482",
         "166.14920723349567",
         "607.7142140513869",
         "12"
        ],
        [
         "Audit Report Tracker (Sharepoint List)",
         "2121.428321444353",
         "163.18679395725792",
         "408.64931860544897",
         "13"
        ],
        [
         "Azure Functions + Visual Studio",
         "2302.853321122887",
         "164.48952293734905",
         "514.8643966177754",
         "14"
        ],
        [
         "Azure Functions",
         "2404.590251796624",
         "240.45902517966243",
         "663.0682712730855",
         "10"
        ],
        [
         "IW Migration",
         "2463.9988685959784",
         "175.99991918542702",
         "489.99794195040096",
         "14"
        ],
        [
         "Debugging in VS Code",
         "2468.0889230215494",
         "123.40444615107747",
         "294.1002391001942",
         "20"
        ],
        [
         "Open Source/GitHub",
         "2695.9796688271645",
         "168.49872930169778",
         "398.2243838253803",
         "16"
        ],
        [
         "Terraform",
         "2718.2028813016254",
         "108.72811525206502",
         "290.0333170852337",
         "25"
        ],
        [
         "FSLogix",
         "3045.985573643707",
         "126.9160655684878",
         "294.5414983522289",
         "24"
        ],
        [
         "Home Network Project",
         "3433.9491496245323",
         "214.62182185153327",
         "490.4654822487383",
         "16"
        ],
        [
         "DNS",
         "3587.7169816074947",
         "224.23231135046842",
         "437.43089955073316",
         "16"
        ],
        [
         "WSL + Kali Linux",
         "3771.962900285884",
         "198.52436317294126",
         "437.14351667061635",
         "19"
        ],
        [
         "Azure Functions + PP365",
         "4068.1300076531206",
         "176.87521772404872",
         "440.1197333644749",
         "23"
        ],
        [
         "Powershell Modules",
         "5525.541189972579",
         "184.1847063324193",
         "700.9019546893486",
         "30"
        ],
        [
         "Logging in Python",
         "6250.337622334373",
         "127.55791065988517",
         "702.9145066601943",
         "49"
        ],
        [
         "JavaScript Concepts",
         "6454.084024309442",
         "105.80465613622036",
         "451.2971033860834",
         "61"
        ],
        [
         "Vocab",
         "7631.674845942327",
         "104.54349104030585",
         "570.1617879950977",
         "73"
        ],
        [
         "PnP Powershell",
         "7639.418600446915",
         "201.03733159070828",
         "678.1153250780021",
         "38"
        ]
       ],
       "shape": {
        "columns": 4,
        "rows": 23
       }
      },
      "text/html": [
       "<div>\n",
       "<style scoped>\n",
       "    .dataframe tbody tr th:only-of-type {\n",
       "        vertical-align: middle;\n",
       "    }\n",
       "\n",
       "    .dataframe tbody tr th {\n",
       "        vertical-align: top;\n",
       "    }\n",
       "\n",
       "    .dataframe thead th {\n",
       "        text-align: right;\n",
       "    }\n",
       "</style>\n",
       "<table border=\"1\" class=\"dataframe\">\n",
       "  <thead>\n",
       "    <tr style=\"text-align: right;\">\n",
       "      <th></th>\n",
       "      <th>age_sum</th>\n",
       "      <th>age_mean</th>\n",
       "      <th>age_max</th>\n",
       "      <th>head_count</th>\n",
       "    </tr>\n",
       "  </thead>\n",
       "  <tbody>\n",
       "    <tr>\n",
       "      <th>Todd Ideas</th>\n",
       "      <td>1307.453249</td>\n",
       "      <td>87.163550</td>\n",
       "      <td>174.470942</td>\n",
       "      <td>15</td>\n",
       "    </tr>\n",
       "    <tr>\n",
       "      <th>Python</th>\n",
       "      <td>1594.831707</td>\n",
       "      <td>33.932590</td>\n",
       "      <td>54.405321</td>\n",
       "      <td>47</td>\n",
       "    </tr>\n",
       "    <tr>\n",
       "      <th>Azure Developer Associate</th>\n",
       "      <td>1678.371303</td>\n",
       "      <td>26.640814</td>\n",
       "      <td>83.555922</td>\n",
       "      <td>63</td>\n",
       "    </tr>\n",
       "    <tr>\n",
       "      <th>Email Auth and Security</th>\n",
       "      <td>1727.559244</td>\n",
       "      <td>143.963270</td>\n",
       "      <td>504.275763</td>\n",
       "      <td>12</td>\n",
       "    </tr>\n",
       "    <tr>\n",
       "      <th>Azure AI Search</th>\n",
       "      <td>1782.261573</td>\n",
       "      <td>222.782697</td>\n",
       "      <td>430.221965</td>\n",
       "      <td>8</td>\n",
       "    </tr>\n",
       "    <tr>\n",
       "      <th>SharePoint</th>\n",
       "      <td>1993.790487</td>\n",
       "      <td>166.149207</td>\n",
       "      <td>607.714214</td>\n",
       "      <td>12</td>\n",
       "    </tr>\n",
       "    <tr>\n",
       "      <th>Audit Report Tracker (Sharepoint List)</th>\n",
       "      <td>2121.428321</td>\n",
       "      <td>163.186794</td>\n",
       "      <td>408.649319</td>\n",
       "      <td>13</td>\n",
       "    </tr>\n",
       "    <tr>\n",
       "      <th>Azure Functions + Visual Studio</th>\n",
       "      <td>2302.853321</td>\n",
       "      <td>164.489523</td>\n",
       "      <td>514.864397</td>\n",
       "      <td>14</td>\n",
       "    </tr>\n",
       "    <tr>\n",
       "      <th>Azure Functions</th>\n",
       "      <td>2404.590252</td>\n",
       "      <td>240.459025</td>\n",
       "      <td>663.068271</td>\n",
       "      <td>10</td>\n",
       "    </tr>\n",
       "    <tr>\n",
       "      <th>IW Migration</th>\n",
       "      <td>2463.998869</td>\n",
       "      <td>175.999919</td>\n",
       "      <td>489.997942</td>\n",
       "      <td>14</td>\n",
       "    </tr>\n",
       "    <tr>\n",
       "      <th>Debugging in VS Code</th>\n",
       "      <td>2468.088923</td>\n",
       "      <td>123.404446</td>\n",
       "      <td>294.100239</td>\n",
       "      <td>20</td>\n",
       "    </tr>\n",
       "    <tr>\n",
       "      <th>Open Source/GitHub</th>\n",
       "      <td>2695.979669</td>\n",
       "      <td>168.498729</td>\n",
       "      <td>398.224384</td>\n",
       "      <td>16</td>\n",
       "    </tr>\n",
       "    <tr>\n",
       "      <th>Terraform</th>\n",
       "      <td>2718.202881</td>\n",
       "      <td>108.728115</td>\n",
       "      <td>290.033317</td>\n",
       "      <td>25</td>\n",
       "    </tr>\n",
       "    <tr>\n",
       "      <th>FSLogix</th>\n",
       "      <td>3045.985574</td>\n",
       "      <td>126.916066</td>\n",
       "      <td>294.541498</td>\n",
       "      <td>24</td>\n",
       "    </tr>\n",
       "    <tr>\n",
       "      <th>Home Network Project</th>\n",
       "      <td>3433.949150</td>\n",
       "      <td>214.621822</td>\n",
       "      <td>490.465482</td>\n",
       "      <td>16</td>\n",
       "    </tr>\n",
       "    <tr>\n",
       "      <th>DNS</th>\n",
       "      <td>3587.716982</td>\n",
       "      <td>224.232311</td>\n",
       "      <td>437.430900</td>\n",
       "      <td>16</td>\n",
       "    </tr>\n",
       "    <tr>\n",
       "      <th>WSL + Kali Linux</th>\n",
       "      <td>3771.962900</td>\n",
       "      <td>198.524363</td>\n",
       "      <td>437.143517</td>\n",
       "      <td>19</td>\n",
       "    </tr>\n",
       "    <tr>\n",
       "      <th>Azure Functions + PP365</th>\n",
       "      <td>4068.130008</td>\n",
       "      <td>176.875218</td>\n",
       "      <td>440.119733</td>\n",
       "      <td>23</td>\n",
       "    </tr>\n",
       "    <tr>\n",
       "      <th>Powershell Modules</th>\n",
       "      <td>5525.541190</td>\n",
       "      <td>184.184706</td>\n",
       "      <td>700.901955</td>\n",
       "      <td>30</td>\n",
       "    </tr>\n",
       "    <tr>\n",
       "      <th>Logging in Python</th>\n",
       "      <td>6250.337622</td>\n",
       "      <td>127.557911</td>\n",
       "      <td>702.914507</td>\n",
       "      <td>49</td>\n",
       "    </tr>\n",
       "    <tr>\n",
       "      <th>JavaScript Concepts</th>\n",
       "      <td>6454.084024</td>\n",
       "      <td>105.804656</td>\n",
       "      <td>451.297103</td>\n",
       "      <td>61</td>\n",
       "    </tr>\n",
       "    <tr>\n",
       "      <th>Vocab</th>\n",
       "      <td>7631.674846</td>\n",
       "      <td>104.543491</td>\n",
       "      <td>570.161788</td>\n",
       "      <td>73</td>\n",
       "    </tr>\n",
       "    <tr>\n",
       "      <th>PnP Powershell</th>\n",
       "      <td>7639.418600</td>\n",
       "      <td>201.037332</td>\n",
       "      <td>678.115325</td>\n",
       "      <td>38</td>\n",
       "    </tr>\n",
       "  </tbody>\n",
       "</table>\n",
       "</div>"
      ],
      "text/plain": [
       "                                            age_sum    age_mean     age_max  \\\n",
       "Todd Ideas                              1307.453249   87.163550  174.470942   \n",
       "Python                                  1594.831707   33.932590   54.405321   \n",
       "Azure Developer Associate               1678.371303   26.640814   83.555922   \n",
       "Email Auth and Security                 1727.559244  143.963270  504.275763   \n",
       "Azure AI Search                         1782.261573  222.782697  430.221965   \n",
       "SharePoint                              1993.790487  166.149207  607.714214   \n",
       "Audit Report Tracker (Sharepoint List)  2121.428321  163.186794  408.649319   \n",
       "Azure Functions + Visual Studio         2302.853321  164.489523  514.864397   \n",
       "Azure Functions                         2404.590252  240.459025  663.068271   \n",
       "IW Migration                            2463.998869  175.999919  489.997942   \n",
       "Debugging in VS Code                    2468.088923  123.404446  294.100239   \n",
       "Open Source/GitHub                      2695.979669  168.498729  398.224384   \n",
       "Terraform                               2718.202881  108.728115  290.033317   \n",
       "FSLogix                                 3045.985574  126.916066  294.541498   \n",
       "Home Network Project                    3433.949150  214.621822  490.465482   \n",
       "DNS                                     3587.716982  224.232311  437.430900   \n",
       "WSL + Kali Linux                        3771.962900  198.524363  437.143517   \n",
       "Azure Functions + PP365                 4068.130008  176.875218  440.119733   \n",
       "Powershell Modules                      5525.541190  184.184706  700.901955   \n",
       "Logging in Python                       6250.337622  127.557911  702.914507   \n",
       "JavaScript Concepts                     6454.084024  105.804656  451.297103   \n",
       "Vocab                                   7631.674846  104.543491  570.161788   \n",
       "PnP Powershell                          7639.418600  201.037332  678.115325   \n",
       "\n",
       "                                        head_count  \n",
       "Todd Ideas                                      15  \n",
       "Python                                          47  \n",
       "Azure Developer Associate                       63  \n",
       "Email Auth and Security                         12  \n",
       "Azure AI Search                                  8  \n",
       "SharePoint                                      12  \n",
       "Audit Report Tracker (Sharepoint List)          13  \n",
       "Azure Functions + Visual Studio                 14  \n",
       "Azure Functions                                 10  \n",
       "IW Migration                                    14  \n",
       "Debugging in VS Code                            20  \n",
       "Open Source/GitHub                              16  \n",
       "Terraform                                       25  \n",
       "FSLogix                                         24  \n",
       "Home Network Project                            16  \n",
       "DNS                                             16  \n",
       "WSL + Kali Linux                                19  \n",
       "Azure Functions + PP365                         23  \n",
       "Powershell Modules                              30  \n",
       "Logging in Python                               49  \n",
       "JavaScript Concepts                             61  \n",
       "Vocab                                           73  \n",
       "PnP Powershell                                  38  "
      ]
     },
     "execution_count": 48,
     "metadata": {},
     "output_type": "execute_result"
    }
   ],
   "source": [
    "stats = existing_cards.groupby('head').agg({'age': ['sum', 'mean', 'max'], 'head': 'count'}).sort_values(('age', 'sum'))\n",
    "stats.columns = stats.columns.to_flat_index()\n",
    "stats.columns = ['_'.join(col).strip() for col in stats.columns]\n",
    "stats.index.name = None\n",
    "stats"
   ]
  },
  {
   "cell_type": "markdown",
   "metadata": {},
   "source": [
    "# Histogram"
   ]
  },
  {
   "cell_type": "code",
   "execution_count": 49,
   "metadata": {},
   "outputs": [
    {
     "name": "stdout",
     "output_type": "stream",
     "text": [
      "78668.21\n"
     ]
    },
    {
     "data": {
      "text/plain": [
       "<Axes: >"
      ]
     },
     "execution_count": 49,
     "metadata": {},
     "output_type": "execute_result"
    },
    {
     "data": {
      "image/png": "[encoded data removed]",
      "text/plain": [
       "<Figure size 640x480 with 1 Axes>"
      ]
     },
     "metadata": {},
     "output_type": "display_data"
    }
   ],
   "source": [
    "print(f\"{existing_cards['age'].sum(0):.2f}\")\n",
    "existing_cards['age'].hist(bins=20)"
   ]
  },
  {
   "cell_type": "markdown",
   "metadata": {},
   "source": [
    "# Completely Random Shuffle"
   ]
  },
  {
   "cell_type": "code",
   "execution_count": 50,
   "metadata": {},
   "outputs": [],
   "source": [
    "# existing_cards = existing_cards.sample(frac=1)\n",
    "# remake_card_document(filename='certcards2.txt', existing_cards = existing_cards)"
   ]
  },
  {
   "cell_type": "markdown",
   "metadata": {},
   "source": [
    "# Age Sort"
   ]
  },
  {
   "cell_type": "code",
   "execution_count": 51,
   "metadata": {},
   "outputs": [],
   "source": [
    "# existing_cards = existing_cards.sort_values('age', ascending=False)\n",
    "# remake_card_document(filename='certcards2.txt', existing_cards=existing_cards)\n",
    "# existing_cards.head(10)"
   ]
  },
  {
   "cell_type": "markdown",
   "metadata": {},
   "source": [
    "# Headers with fewest notes first"
   ]
  },
  {
   "cell_type": "code",
   "execution_count": 52,
   "metadata": {},
   "outputs": [],
   "source": [
    "# frequency = existing_cards['head'].value_counts(ascending=True)\n",
    "\n",
    "# existing_cards = pd.merge(\n",
    "#     left=existing_cards,\n",
    "#     right=frequency.rename('frequency'),\n",
    "#     left_on='head', right_index=True,\n",
    "#     how='left'\n",
    "# )\n",
    "# existing_cards['oldest'] = existing_cards.groupby('head')['age'].transform('max')\n",
    "# existing_cards['subject_highest_age'] = existing_cards['subject_highest_age'] * -1\n",
    "# existing_cards['age'] = existing_cards['age'] * -1\n",
    "\n",
    "\n",
    "# existing_cards.sort_values(['frequency', 'subject_highest_age', 'age'], ascending=True, inplace=True)\n",
    "\n",
    "# remake_card_document(filename='certcards2.txt', existing_cards=existing_cards)\n",
    "\n",
    "# existing_cards.head(10)"
   ]
  },
  {
   "cell_type": "markdown",
   "metadata": {},
   "source": [
    "# Focus on one header"
   ]
  },
  {
   "cell_type": "code",
   "execution_count": 53,
   "metadata": {},
   "outputs": [],
   "source": [
    "# heads = existing_cards['head'].value_counts()\n",
    "# heads = heads[heads > 5].index.tolist()\n",
    "# one_header = random.sample(heads, 1)[0]\n",
    "# existing_cards['pick_head'] = existing_cards['head'].apply(\n",
    "#     lambda h: 0 if h == one_header else 1 \n",
    "# )\n",
    "\n",
    "# remake_card_document(existing_cards=existing_cards.sort_values('pick_head'))"
   ]
  },
  {
   "cell_type": "markdown",
   "metadata": {},
   "source": [
    "## Header with oldest cards first"
   ]
  },
  {
   "cell_type": "code",
   "execution_count": 54,
   "metadata": {},
   "outputs": [],
   "source": [
    "# existing_cards['oldest'] = existing_cards.groupby('head')['age'].transform('max')\n",
    "# existing_cards.sort_values(['oldest', 'age'], ascending=False, inplace=True)\n",
    "# remake_card_document(existing_cards)"
   ]
  },
  {
   "cell_type": "markdown",
   "metadata": {},
   "source": [
    "## Headers with greatest mean card age first"
   ]
  },
  {
   "cell_type": "code",
   "execution_count": 55,
   "metadata": {},
   "outputs": [],
   "source": [
    "# existing_cards.sort_values(['subject_mean_age', 'age'], ascending=False, inplace=True)\n",
    "# remake_card_document(existing_cards)"
   ]
  },
  {
   "cell_type": "markdown",
   "metadata": {},
   "source": [
    "## Headers with greatest age sum first"
   ]
  },
  {
   "cell_type": "code",
   "execution_count": 56,
   "metadata": {},
   "outputs": [],
   "source": [
    "# existing_cards.sort_values(['subject_age_sum', 'age'], ascending=False, inplace=True)\n",
    "# remake_card_document(existing_cards)"
   ]
  },
  {
   "cell_type": "markdown",
   "metadata": {},
   "source": [
    "# N-fold shuffle\n"
   ]
  },
  {
   "cell_type": "markdown",
   "metadata": {},
   "source": [
    "## Age Sum"
   ]
  },
  {
   "cell_type": "code",
   "execution_count": 57,
   "metadata": {},
   "outputs": [],
   "source": [
    "# n=3\n",
    "# existing_cards['count'] = existing_cards.sort_values('age', ascending=False).groupby('head').cumcount()\n",
    "# existing_cards['n_fold'] = existing_cards['count'] % n\n",
    "\n",
    "# existing_cards['subject_age_sum'] = existing_cards['subject_age_sum'] *-1\n",
    "# existing_cards['age'] = existing_cards['age'] *-1\n",
    "# existing_cards.sort_values(['n_fold', 'subject_age_sum', 'age'], inplace=True)\n",
    "\n",
    "# remake_card_document(existing_cards=existing_cards)\n",
    "# existing_cards.head(10)\n"
   ]
  },
  {
   "cell_type": "markdown",
   "metadata": {},
   "source": [
    "## Age Mean"
   ]
  },
  {
   "cell_type": "code",
   "execution_count": 58,
   "metadata": {},
   "outputs": [
    {
     "name": "stdout",
     "output_type": "stream",
     "text": [
      "Cards found: 618\n"
     ]
    },
    {
     "data": {
      "application/vnd.microsoft.datawrangler.viewer.v0+json": {
       "columns": [
        {
         "name": "index",
         "rawType": "int64",
         "type": "integer"
        },
        {
         "name": "head",
         "rawType": "object",
         "type": "string"
        },
        {
         "name": "body",
         "rawType": "object",
         "type": "string"
        },
        {
         "name": "hash",
         "rawType": "object",
         "type": "string"
        },
        {
         "name": "age",
         "rawType": "float64",
         "type": "float"
        },
        {
         "name": "subject_mean_age",
         "rawType": "float64",
         "type": "float"
        },
        {
         "name": "subject_highest_age",
         "rawType": "float64",
         "type": "float"
        },
        {
         "name": "subject_age_sum",
         "rawType": "float64",
         "type": "float"
        },
        {
         "name": "head_random_roll",
         "rawType": "float64",
         "type": "float"
        },
        {
         "name": "count",
         "rawType": "int64",
         "type": "integer"
        },
        {
         "name": "n_fold",
         "rawType": "int64",
         "type": "integer"
        }
       ],
       "conversionMethod": "pd.DataFrame",
       "ref": "a5c3e3ff-c2e0-42d2-9bad-354afc72e9cb",
       "rows": [
        [
         "0",
         "Azure Functions",
         "There are two types of managed identities:\n\nSystem-assigned. Some Azure resources, such as virtual machines allow you to enable a managed identity directly on the resource.\nUser-assigned. You may also create a managed identity as a standalone Azure resource. You can create a user-assigned managed identity and assign it to one or more Azure Resources.",
         "f67cf9c04025c3a0f40df04e39e17716",
         "-663.0682712730855",
         "-240.45902517966243",
         "663.0682712730855",
         "2404.590251796624",
         "0.4651066866901816",
         "0",
         "0"
        ],
        [
         "1",
         "Azure Functions",
         "Fan out/fan in: This pattern runs multiple functions in parallel and waits for all the functions to finish. You can aggregate the results of the parallel executions or use them to compute a final result.",
         "27d702948647d6ee02788bbddca6e1e1",
         "-264.92228673963723",
         "-240.45902517966243",
         "663.0682712730855",
         "2404.590251796624",
         "0.4651066866901816",
         "3",
         "0"
        ],
        [
         "2",
         "Azure Functions",
         "The name of the system-assigned service principal is always the same as the name of the Azure resource it's created for. For a deployment slot, the name of its system-assigned identity is <app-name>/slots/<slot-name>.",
         "d123e4accbea5aa0b487db8bb37e393e",
         "-129.97798131748328",
         "-240.45902517966243",
         "663.0682712730855",
         "2404.590251796624",
         "0.4651066866901816",
         "6",
         "0"
        ],
        [
         "3",
         "Azure Functions",
         "2. Which of the following best describes the role of the Orchestrator function in a workflow? \nThe Orchestrator Function is written in code. The function is used for describing how actions are executed and the order in which actions are executed.",
         "a0d590c3ccb5acb4ac074724839b549d",
         "-36.82651353301824",
         "-240.45902517966243",
         "663.0682712730855",
         "2404.590251796624",
         "0.4651066866901816",
         "9",
         "0"
        ],
        [
         "4",
         "DNS",
         "Securing Zone Transfers\nMeasures taken to protect DNS zone data during transfers between DNS servers. This includes restricting transfers to authorized IP addresses and using security protocols like TSIG or IPsec to authenticate and encrypt the data, ensuring integrity and confidentiality.",
         "29d80ddfc54d4c7ce2121c00053c35cd",
         "-437.43089955073316",
         "-224.23231135046842",
         "437.43089955073316",
         "3587.7169816074947",
         "0.21454398680116604",
         "0",
         "0"
        ],
        [
         "5",
         "DNS",
         "SRV (Service) Records\nDNS records that specify the location (hostname and port) of servers for particular services within a domain. Essential for services like SIP (VoIP) or LDAP, they enable clients to discover service endpoints automatically.",
         "4193eaf48f50e71d6283bb58427c6f60",
         "-328.49358262541205",
         "-224.23231135046842",
         "437.43089955073316",
         "3587.7169816074947",
         "0.21454398680116604",
         "3",
         "0"
        ],
        [
         "6",
         "DNS",
         "DNS Policies\nA feature in Windows DNS Server that allows administrators to define rules for how DNS queries are handled. Policies can filter queries or provide different responses based on criteria like client IP addresses, enabling scenarios like split-brain DNS.",
         "e14697957838c2353f653a56dac9ac16",
         "-296.0629358286991",
         "-224.23231135046842",
         "437.43089955073316",
         "3587.7169816074947",
         "0.21454398680116604",
         "6",
         "0"
        ],
        [
         "7",
         "DNS",
         "DNS Zone Types\nDifferent types of DNS zones include Primary, Secondary, Stub, and Active Directory-Integrated zones. Each type serves distinct roles in DNS management, such as data storage, redundancy, delegation, and integration with directory services.",
         "fce7107d54abe9418805d1b01937805d",
         "-155.42595453585568",
         "-224.23231135046842",
         "437.43089955073316",
         "3587.7169816074947",
         "0.21454398680116604",
         "9",
         "0"
        ],
        [
         "8",
         "DNS",
         "Conditional Forwarding\nA DNS configuration that directs queries for specific domain names to designated DNS servers instead of using default forwarders. It's useful for managing inter-office DNS resolution or directing queries for partner domains to their respective DNS servers.",
         "307c5eb4cae4981eb5b4f0a6f1646b77",
         "-94.83816565031691",
         "-224.23231135046842",
         "437.43089955073316",
         "3587.7169816074947",
         "0.21454398680116604",
         "12",
         "0"
        ],
        [
         "9",
         "DNS",
         "Stub Zone\nA DNS zone that contains only essential information about another zone's authoritative DNS servers. It facilitates efficient DNS resolution by allowing a DNS server to know where to forward queries for that specific zone without storing all DNS records.",
         "ff86ccf34dc4e0d3a75966d5f4942595",
         "-52.24370078990007",
         "-224.23231135046842",
         "437.43089955073316",
         "3587.7169816074947",
         "0.21454398680116604",
         "15",
         "0"
        ]
       ],
       "shape": {
        "columns": 10,
        "rows": 10
       }
      },
      "text/html": [
       "<div>\n",
       "<style scoped>\n",
       "    .dataframe tbody tr th:only-of-type {\n",
       "        vertical-align: middle;\n",
       "    }\n",
       "\n",
       "    .dataframe tbody tr th {\n",
       "        vertical-align: top;\n",
       "    }\n",
       "\n",
       "    .dataframe thead th {\n",
       "        text-align: right;\n",
       "    }\n",
       "</style>\n",
       "<table border=\"1\" class=\"dataframe\">\n",
       "  <thead>\n",
       "    <tr style=\"text-align: right;\">\n",
       "      <th></th>\n",
       "      <th>head</th>\n",
       "      <th>body</th>\n",
       "      <th>hash</th>\n",
       "      <th>age</th>\n",
       "      <th>subject_mean_age</th>\n",
       "      <th>subject_highest_age</th>\n",
       "      <th>subject_age_sum</th>\n",
       "      <th>head_random_roll</th>\n",
       "      <th>count</th>\n",
       "      <th>n_fold</th>\n",
       "    </tr>\n",
       "  </thead>\n",
       "  <tbody>\n",
       "    <tr>\n",
       "      <th>0</th>\n",
       "      <td>Azure Functions</td>\n",
       "      <td>There are two types of managed identities:\\n\\n...</td>\n",
       "      <td>f67cf9c04025c3a0f40df04e39e17716</td>\n",
       "      <td>-663.068271</td>\n",
       "      <td>-240.459025</td>\n",
       "      <td>663.068271</td>\n",
       "      <td>2404.590252</td>\n",
       "      <td>0.465107</td>\n",
       "      <td>0</td>\n",
       "      <td>0</td>\n",
       "    </tr>\n",
       "    <tr>\n",
       "      <th>1</th>\n",
       "      <td>Azure Functions</td>\n",
       "      <td>Fan out/fan in: This pattern runs multiple fun...</td>\n",
       "      <td>27d702948647d6ee02788bbddca6e1e1</td>\n",
       "      <td>-264.922287</td>\n",
       "      <td>-240.459025</td>\n",
       "      <td>663.068271</td>\n",
       "      <td>2404.590252</td>\n",
       "      <td>0.465107</td>\n",
       "      <td>3</td>\n",
       "      <td>0</td>\n",
       "    </tr>\n",
       "    <tr>\n",
       "      <th>2</th>\n",
       "      <td>Azure Functions</td>\n",
       "      <td>The name of the system-assigned service princi...</td>\n",
       "      <td>d123e4accbea5aa0b487db8bb37e393e</td>\n",
       "      <td>-129.977981</td>\n",
       "      <td>-240.459025</td>\n",
       "      <td>663.068271</td>\n",
       "      <td>2404.590252</td>\n",
       "      <td>0.465107</td>\n",
       "      <td>6</td>\n",
       "      <td>0</td>\n",
       "    </tr>\n",
       "    <tr>\n",
       "      <th>3</th>\n",
       "      <td>Azure Functions</td>\n",
       "      <td>2. Which of the following best describes the r...</td>\n",
       "      <td>a0d590c3ccb5acb4ac074724839b549d</td>\n",
       "      <td>-36.826514</td>\n",
       "      <td>-240.459025</td>\n",
       "      <td>663.068271</td>\n",
       "      <td>2404.590252</td>\n",
       "      <td>0.465107</td>\n",
       "      <td>9</td>\n",
       "      <td>0</td>\n",
       "    </tr>\n",
       "    <tr>\n",
       "      <th>4</th>\n",
       "      <td>DNS</td>\n",
       "      <td>Securing Zone Transfers\\nMeasures taken to pro...</td>\n",
       "      <td>29d80ddfc54d4c7ce2121c00053c35cd</td>\n",
       "      <td>-437.430900</td>\n",
       "      <td>-224.232311</td>\n",
       "      <td>437.430900</td>\n",
       "      <td>3587.716982</td>\n",
       "      <td>0.214544</td>\n",
       "      <td>0</td>\n",
       "      <td>0</td>\n",
       "    </tr>\n",
       "    <tr>\n",
       "      <th>5</th>\n",
       "      <td>DNS</td>\n",
       "      <td>SRV (Service) Records\\nDNS records that specif...</td>\n",
       "      <td>4193eaf48f50e71d6283bb58427c6f60</td>\n",
       "      <td>-328.493583</td>\n",
       "      <td>-224.232311</td>\n",
       "      <td>437.430900</td>\n",
       "      <td>3587.716982</td>\n",
       "      <td>0.214544</td>\n",
       "      <td>3</td>\n",
       "      <td>0</td>\n",
       "    </tr>\n",
       "    <tr>\n",
       "      <th>6</th>\n",
       "      <td>DNS</td>\n",
       "      <td>DNS Policies\\nA feature in Windows DNS Server ...</td>\n",
       "      <td>e14697957838c2353f653a56dac9ac16</td>\n",
       "      <td>-296.062936</td>\n",
       "      <td>-224.232311</td>\n",
       "      <td>437.430900</td>\n",
       "      <td>3587.716982</td>\n",
       "      <td>0.214544</td>\n",
       "      <td>6</td>\n",
       "      <td>0</td>\n",
       "    </tr>\n",
       "    <tr>\n",
       "      <th>7</th>\n",
       "      <td>DNS</td>\n",
       "      <td>DNS Zone Types\\nDifferent types of DNS zones i...</td>\n",
       "      <td>fce7107d54abe9418805d1b01937805d</td>\n",
       "      <td>-155.425955</td>\n",
       "      <td>-224.232311</td>\n",
       "      <td>437.430900</td>\n",
       "      <td>3587.716982</td>\n",
       "      <td>0.214544</td>\n",
       "      <td>9</td>\n",
       "      <td>0</td>\n",
       "    </tr>\n",
       "    <tr>\n",
       "      <th>8</th>\n",
       "      <td>DNS</td>\n",
       "      <td>Conditional Forwarding\\nA DNS configuration th...</td>\n",
       "      <td>307c5eb4cae4981eb5b4f0a6f1646b77</td>\n",
       "      <td>-94.838166</td>\n",
       "      <td>-224.232311</td>\n",
       "      <td>437.430900</td>\n",
       "      <td>3587.716982</td>\n",
       "      <td>0.214544</td>\n",
       "      <td>12</td>\n",
       "      <td>0</td>\n",
       "    </tr>\n",
       "    <tr>\n",
       "      <th>9</th>\n",
       "      <td>DNS</td>\n",
       "      <td>Stub Zone\\nA DNS zone that contains only essen...</td>\n",
       "      <td>ff86ccf34dc4e0d3a75966d5f4942595</td>\n",
       "      <td>-52.243701</td>\n",
       "      <td>-224.232311</td>\n",
       "      <td>437.430900</td>\n",
       "      <td>3587.716982</td>\n",
       "      <td>0.214544</td>\n",
       "      <td>15</td>\n",
       "      <td>0</td>\n",
       "    </tr>\n",
       "  </tbody>\n",
       "</table>\n",
       "</div>"
      ],
      "text/plain": [
       "              head                                               body  \\\n",
       "0  Azure Functions  There are two types of managed identities:\\n\\n...   \n",
       "1  Azure Functions  Fan out/fan in: This pattern runs multiple fun...   \n",
       "2  Azure Functions  The name of the system-assigned service princi...   \n",
       "3  Azure Functions  2. Which of the following best describes the r...   \n",
       "4              DNS  Securing Zone Transfers\\nMeasures taken to pro...   \n",
       "5              DNS  SRV (Service) Records\\nDNS records that specif...   \n",
       "6              DNS  DNS Policies\\nA feature in Windows DNS Server ...   \n",
       "7              DNS  DNS Zone Types\\nDifferent types of DNS zones i...   \n",
       "8              DNS  Conditional Forwarding\\nA DNS configuration th...   \n",
       "9              DNS  Stub Zone\\nA DNS zone that contains only essen...   \n",
       "\n",
       "                               hash         age  subject_mean_age  \\\n",
       "0  f67cf9c04025c3a0f40df04e39e17716 -663.068271       -240.459025   \n",
       "1  27d702948647d6ee02788bbddca6e1e1 -264.922287       -240.459025   \n",
       "2  d123e4accbea5aa0b487db8bb37e393e -129.977981       -240.459025   \n",
       "3  a0d590c3ccb5acb4ac074724839b549d  -36.826514       -240.459025   \n",
       "4  29d80ddfc54d4c7ce2121c00053c35cd -437.430900       -224.232311   \n",
       "5  4193eaf48f50e71d6283bb58427c6f60 -328.493583       -224.232311   \n",
       "6  e14697957838c2353f653a56dac9ac16 -296.062936       -224.232311   \n",
       "7  fce7107d54abe9418805d1b01937805d -155.425955       -224.232311   \n",
       "8  307c5eb4cae4981eb5b4f0a6f1646b77  -94.838166       -224.232311   \n",
       "9  ff86ccf34dc4e0d3a75966d5f4942595  -52.243701       -224.232311   \n",
       "\n",
       "   subject_highest_age  subject_age_sum  head_random_roll  count  n_fold  \n",
       "0           663.068271      2404.590252          0.465107      0       0  \n",
       "1           663.068271      2404.590252          0.465107      3       0  \n",
       "2           663.068271      2404.590252          0.465107      6       0  \n",
       "3           663.068271      2404.590252          0.465107      9       0  \n",
       "4           437.430900      3587.716982          0.214544      0       0  \n",
       "5           437.430900      3587.716982          0.214544      3       0  \n",
       "6           437.430900      3587.716982          0.214544      6       0  \n",
       "7           437.430900      3587.716982          0.214544      9       0  \n",
       "8           437.430900      3587.716982          0.214544     12       0  \n",
       "9           437.430900      3587.716982          0.214544     15       0  "
      ]
     },
     "execution_count": 58,
     "metadata": {},
     "output_type": "execute_result"
    }
   ],
   "source": [
    "n=3\n",
    "existing_cards['count'] = existing_cards.sort_values('age', ascending=False).groupby('head').cumcount()\n",
    "existing_cards['n_fold'] = existing_cards['count'] % n\n",
    "\n",
    "existing_cards['subject_mean_age'] = existing_cards['subject_mean_age'] *-1\n",
    "existing_cards['age'] = existing_cards['age'] *-1\n",
    "existing_cards.sort_values(['n_fold', 'subject_mean_age', 'age'], inplace=True)\n",
    "remake_card_document(existing_cards=existing_cards)\n",
    "\n",
    "existing_cards.head(10)\n",
    "\n"
   ]
  },
  {
   "cell_type": "markdown",
   "metadata": {},
   "source": [
    "## Age Max"
   ]
  },
  {
   "cell_type": "code",
   "execution_count": 59,
   "metadata": {},
   "outputs": [],
   "source": [
    "# n = 1\n",
    "# existing_cards['count'] = existing_cards.sort_values('age', ascending=False).groupby('head').cumcount()\n",
    "# existing_cards['n_fold'] = existing_cards['count'] // n\n",
    "\n",
    "# if existing_cards['age'].sum() > 0:\n",
    "#     existing_cards['subject_highest_age'] = existing_cards['subject_highest_age'] *-1\n",
    "#     existing_cards['age'] = existing_cards['age'] *-1\n",
    "# existing_cards.sort_values(['n_fold', 'subject_highest_age', 'age'], inplace=True)\n",
    "\n",
    "# remake_card_document(existing_cards=existing_cards)\n",
    "# existing_cards.head(10)\n"
   ]
  },
  {
   "cell_type": "markdown",
   "metadata": {},
   "source": [
    "## Card Count"
   ]
  },
  {
   "cell_type": "code",
   "execution_count": 60,
   "metadata": {},
   "outputs": [],
   "source": [
    "# n=10\n",
    "# existing_cards['frequency']  = existing_cards.groupby('head').transform('count')['body']\n",
    "# existing_cards['count'] = existing_cards.sort_values('age', ascending=False).groupby('head').cumcount()\n",
    "# existing_cards['n_fold'] = existing_cards['count'] // n\n",
    "\n",
    "# if existing_cards['age'].sum() > 0:\n",
    "#     # existing_cards['neg_subject_highest_age'] = existing_cards['subject_highest_age'] *-1\n",
    "#     existing_cards['neg_age'] = existing_cards['age'] *-1\n",
    "# existing_cards.sort_values(['n_fold', 'frequency', 'neg_age'], inplace=True)\n",
    "# remake_card_document(existing_cards=existing_cards)\n",
    "\n",
    "# existing_cards.head(10)\n",
    "\n"
   ]
  },
  {
   "cell_type": "markdown",
   "metadata": {},
   "source": [
    "\n",
    "## Random"
   ]
  },
  {
   "cell_type": "code",
   "execution_count": 61,
   "metadata": {},
   "outputs": [],
   "source": [
    "# n = 3\n",
    "# existing_cards['count'] = existing_cards.sort_values('age', ascending=False).groupby('head').cumcount()\n",
    "# existing_cards['n_fold'] = existing_cards['count'] % n\n",
    "# existing_cards['age'] *= -1\n",
    "# existing_cards.sort_values(['n_fold', 'head_random_roll', 'age'], inplace=True)\n",
    "# remake_card_document(existing_cards=existing_cards)\n",
    "# existing_cards.head(10)"
   ]
  },
  {
   "cell_type": "code",
   "execution_count": 62,
   "metadata": {},
   "outputs": [
    {
     "data": {
      "text/plain": [
       "head                   Azure FunctionsAzure FunctionsAzure FunctionsA...\n",
       "body                   There are two types of managed identities:\\n\\n...\n",
       "hash                   f67cf9c04025c3a0f40df04e39e1771627d702948647d6...\n",
       "age                                                         -2459.290292\n",
       "subject_mean_age                                            -2307.229969\n",
       "subject_highest_age                                          5276.858482\n",
       "subject_age_sum                                             31144.662897\n",
       "head_random_roll                                                3.147691\n",
       "count                                                                 63\n",
       "n_fold                                                                 0\n",
       "dtype: object"
      ]
     },
     "execution_count": 62,
     "metadata": {},
     "output_type": "execute_result"
    }
   ],
   "source": [
    "existing_cards.head(10).sum()"
   ]
  },
  {
   "cell_type": "code",
   "execution_count": 63,
   "metadata": {},
   "outputs": [
    {
     "data": {
      "text/plain": [
       "-127.29483931208269"
      ]
     },
     "execution_count": 63,
     "metadata": {},
     "output_type": "execute_result"
    }
   ],
   "source": [
    "existing_cards['age'].mean()"
   ]
  }
 ],
 "metadata": {
  "kernelspec": {
   "display_name": "Python 3",
   "language": "python",
   "name": "python3"
  },
  "language_info": {
   "codemirror_mode": {
    "name": "ipython",
    "version": 3
   },
   "file_extension": ".py",
   "mimetype": "text/x-python",
   "name": "python",
   "nbconvert_exporter": "python",
   "pygments_lexer": "ipython3",
   "version": "3.10.10"
  }
 },
 "nbformat": 4,
 "nbformat_minor": 2
}
