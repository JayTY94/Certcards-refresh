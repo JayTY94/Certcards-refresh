{
 "cells": [
  {
   "cell_type": "code",
   "execution_count": 19,
   "metadata": {},
   "outputs": [],
   "source": [
    "import re\n",
    "import random\n",
    "import pandas as pd\n",
    "import hashlib"
   ]
  },
  {
   "cell_type": "code",
   "execution_count": 20,
   "metadata": {},
   "outputs": [],
   "source": [
    "with open('certcards2.txt', mode='r', encoding='utf8') as f:\n",
    "    all_cards = f.read()\n",
    "    \n",
    "card_split_pattern = r'\\n\\n\\n\\d+\\n'\n",
    "all_cards = re.split(card_split_pattern, all_cards)\n",
    "# Use re.DOTALL to allow . to match newline characters\n",
    "card_pattern = re.compile(r'(.+?)\\n([\\s\\S]+)', re.DOTALL)\n",
    "cards = [(match.group(1), match.group(2)) for cstring in all_cards if (match := re.search(card_pattern, cstring))]\n",
    "\n",
    "# removing the cards that have no content and trimming\n",
    "cards = [(subject, stripped_content) for subject, content in cards if len(stripped_content := content.strip()) > 5]\n",
    "\n",
    "def hash_string_md5(s):\n",
    "    \"\"\"\n",
    "    Hashes a string using MD5 and returns a truncated hash for efficiency.\n",
    "\n",
    "    Parameters:\n",
    "    - s (str): The input string to hash.\n",
    "\n",
    "    Returns:\n",
    "    - str: The truncated hexadecimal hash string.\n",
    "    \"\"\"\n",
    "    if pd.isnull(s):\n",
    "        return None  # Handle NaN values gracefully\n",
    "    return hashlib.md5(s.encode('utf-8')).hexdigest()\n",
    "\n",
    "\n",
    "def remake_card_document(existing_cards: pd.DataFrame, filename: str='certcards2.txt'):\n",
    "    with open(filename, mode='w', encoding='utf8') as f:\n",
    "        i = 1\n",
    "        for _, row in existing_cards.iterrows():\n",
    "            f.write('\\n'*6)\n",
    "            f.write(str(i)+'\\n')  \n",
    "            f.write(row['head']+'\\n')\n",
    "            f.write(row['body'])\n",
    "            i+=1\n",
    "    print(F\"Cards found: {existing_cards.shape[0]}\")\n",
    "\n",
    "\n",
    "existing_cards = pd.DataFrame(cards, columns=['head', 'body'])\n",
    "\n",
    "\n",
    "# existing_cards['age'] = [random.random() for _ in existing_cards.index]\n",
    "existing_cards['hash'] = existing_cards['body'].apply(hash_string_md5)\n",
    "existing_cards\n",
    "\n",
    "card_ages = pd.read_json('card_ages.json')\n",
    "card_ages = card_ages.drop_duplicates(subset=['hash'], keep='first')\n",
    "\n",
    "cards_to_age = pd.merge(\n",
    "    left=existing_cards,\n",
    "    right=card_ages[['hash', 'age']],\n",
    "    left_on='hash', right_on='hash',\n",
    "    how='left'\n",
    ")\n",
    "\n",
    "cards_to_age['head'] = cards_to_age['head'].str.strip()\n",
    "\n",
    "if cards_to_age['age'].sum() > 2e4: age_factor = 1\n",
    "else: age_factor = 1.00\n",
    "\n",
    "cards_to_age['age'] = cards_to_age['age'].fillna(0)\n",
    "cards_to_age['age'] = cards_to_age['age'] * age_factor\n",
    "cards_to_age['age'] = cards_to_age['age'] + [random.expovariate(.60) for _ in cards_to_age.index]\n",
    "# cards_to_age['age'] = cards_to_age['age'] * [random.expovariate(.5) for _ in cards_to_age.index]\n",
    "\n",
    "# Adding priority age growth to cards for upcoming certifications\n",
    "priority_headers = ['Azure Developer Associate']\n",
    "priority_cards_mask = cards_to_age['head'].isin(priority_headers)\n",
    "cards_to_age.loc[priority_cards_mask, 'age'] = cards_to_age.loc[priority_cards_mask, 'age'] * 1.1\n",
    "\n",
    "\n",
    "cards_to_age = cards_to_age.drop_duplicates(subset=['hash'], keep='first')\n",
    "\n",
    "cards_to_age['subject_mean_age'] = cards_to_age.groupby('head')['age'].transform('mean')\n",
    "cards_to_age['subject_highest_age'] = cards_to_age.groupby('head')['age'].transform('max')\n",
    "cards_to_age['subject_age_sum'] = cards_to_age.groupby('head')['age'].transform('sum')\n",
    "cards_to_age['head_random_roll'] = cards_to_age.groupby('head')['head'].transform(lambda x: random.random())\n",
    "\n",
    "\n",
    "cards_to_age.sort_values('hash')[['age', 'head', 'hash']].to_json('card_ages.json', indent=2)\n",
    "\n",
    "existing_cards = cards_to_age"
   ]
  },
  {
   "cell_type": "code",
   "execution_count": 21,
   "metadata": {},
   "outputs": [
    {
     "data": {
      "application/vnd.microsoft.datawrangler.viewer.v0+json": {
       "columns": [
        {
         "name": "index",
         "rawType": "object",
         "type": "string"
        },
        {
         "name": "age_sum",
         "rawType": "float64",
         "type": "float"
        },
        {
         "name": "age_mean",
         "rawType": "float64",
         "type": "float"
        },
        {
         "name": "age_max",
         "rawType": "float64",
         "type": "float"
        },
        {
         "name": "head_count",
         "rawType": "int64",
         "type": "integer"
        }
       ],
       "conversionMethod": "pd.DataFrame",
       "ref": "f8da36ad-de01-42c9-853e-82d5e992b15b",
       "rows": [
        [
         "Todd Ideas",
         "1383.7185698675114",
         "92.2479046578341",
         "176.67534882158049",
         "15"
        ],
        [
         "Email Auth and Security",
         "1779.4485586365847",
         "148.28737988638207",
         "507.37453965568625",
         "12"
        ],
        [
         "Azure AI Search",
         "1812.640005160177",
         "226.58000064502212",
         "435.3461236528577",
         "8"
        ],
        [
         "Python",
         "1828.2081209651692",
         "38.8980451269185",
         "59.95405534531029",
         "47"
        ],
        [
         "SharePoint",
         "2061.2246610995385",
         "171.76872175829487",
         "608.9002159200202",
         "12"
        ],
        [
         "Audit Report Tracker (Sharepoint List)",
         "2175.069212848112",
         "167.31301637293168",
         "410.0420479885854",
         "13"
        ],
        [
         "Azure Functions + Visual Studio",
         "2381.5011116977253",
         "170.10722226412324",
         "526.4552556604015",
         "14"
        ],
        [
         "IW Migration",
         "2522.645529797458",
         "180.18896641410416",
         "493.293939265391",
         "14"
        ],
        [
         "Debugging in VS Code",
         "2573.1385722916675",
         "128.65692861458336",
         "296.0835481976255",
         "20"
        ],
        [
         "Azure Developer Associate",
         "2608.2896878342735",
         "41.40142361641704",
         "119.85668526817044",
         "63"
        ],
        [
         "Open Source/GitHub",
         "2768.4422497924925",
         "173.02764061203078",
         "403.84585812740215",
         "16"
        ],
        [
         "Terraform",
         "2850.738037723366",
         "114.02952150893464",
         "299.9397629410097",
         "25"
        ],
        [
         "FSLogix",
         "3157.509984353141",
         "131.5629160147142",
         "297.3161070803644",
         "24"
        ],
        [
         "Home Network Project",
         "3516.134724571104",
         "219.758420285694",
         "493.7455351630104",
         "16"
        ],
        [
         "DNS",
         "3663.103787521598",
         "228.94398672009987",
         "446.3831501243236",
         "16"
        ],
        [
         "WSL + Kali Linux",
         "3882.9186564243673",
         "204.3641398118088",
         "442.13692762718006",
         "19"
        ],
        [
         "Azure Functions + PP365",
         "4177.756034765816",
         "181.64156672894853",
         "445.8664307916931",
         "23"
        ],
        [
         "Powershell Modules",
         "4960.062185956097",
         "171.03662710193439",
         "509.09078745685395",
         "29"
        ],
        [
         "Logging in Python",
         "5781.372987719434",
         "120.4452705774882",
         "672.750555367824",
         "48"
        ],
        [
         "JavaScript Concepts",
         "6733.862211740712",
         "110.39118379902807",
         "459.0829872071211",
         "61"
        ],
        [
         "PnP Powershell",
         "7147.853045626994",
         "193.1852174493782",
         "481.96351255725074",
         "37"
        ],
        [
         "Vocab",
         "8009.643363144155",
         "109.72114196087884",
         "571.0922716436928",
         "73"
        ]
       ],
       "shape": {
        "columns": 4,
        "rows": 22
       }
      },
      "text/html": [
       "<div>\n",
       "<style scoped>\n",
       "    .dataframe tbody tr th:only-of-type {\n",
       "        vertical-align: middle;\n",
       "    }\n",
       "\n",
       "    .dataframe tbody tr th {\n",
       "        vertical-align: top;\n",
       "    }\n",
       "\n",
       "    .dataframe thead th {\n",
       "        text-align: right;\n",
       "    }\n",
       "</style>\n",
       "<table border=\"1\" class=\"dataframe\">\n",
       "  <thead>\n",
       "    <tr style=\"text-align: right;\">\n",
       "      <th></th>\n",
       "      <th>age_sum</th>\n",
       "      <th>age_mean</th>\n",
       "      <th>age_max</th>\n",
       "      <th>head_count</th>\n",
       "    </tr>\n",
       "  </thead>\n",
       "  <tbody>\n",
       "    <tr>\n",
       "      <th>Todd Ideas</th>\n",
       "      <td>1383.718570</td>\n",
       "      <td>92.247905</td>\n",
       "      <td>176.675349</td>\n",
       "      <td>15</td>\n",
       "    </tr>\n",
       "    <tr>\n",
       "      <th>Email Auth and Security</th>\n",
       "      <td>1779.448559</td>\n",
       "      <td>148.287380</td>\n",
       "      <td>507.374540</td>\n",
       "      <td>12</td>\n",
       "    </tr>\n",
       "    <tr>\n",
       "      <th>Azure AI Search</th>\n",
       "      <td>1812.640005</td>\n",
       "      <td>226.580001</td>\n",
       "      <td>435.346124</td>\n",
       "      <td>8</td>\n",
       "    </tr>\n",
       "    <tr>\n",
       "      <th>Python</th>\n",
       "      <td>1828.208121</td>\n",
       "      <td>38.898045</td>\n",
       "      <td>59.954055</td>\n",
       "      <td>47</td>\n",
       "    </tr>\n",
       "    <tr>\n",
       "      <th>SharePoint</th>\n",
       "      <td>2061.224661</td>\n",
       "      <td>171.768722</td>\n",
       "      <td>608.900216</td>\n",
       "      <td>12</td>\n",
       "    </tr>\n",
       "    <tr>\n",
       "      <th>Audit Report Tracker (Sharepoint List)</th>\n",
       "      <td>2175.069213</td>\n",
       "      <td>167.313016</td>\n",
       "      <td>410.042048</td>\n",
       "      <td>13</td>\n",
       "    </tr>\n",
       "    <tr>\n",
       "      <th>Azure Functions + Visual Studio</th>\n",
       "      <td>2381.501112</td>\n",
       "      <td>170.107222</td>\n",
       "      <td>526.455256</td>\n",
       "      <td>14</td>\n",
       "    </tr>\n",
       "    <tr>\n",
       "      <th>IW Migration</th>\n",
       "      <td>2522.645530</td>\n",
       "      <td>180.188966</td>\n",
       "      <td>493.293939</td>\n",
       "      <td>14</td>\n",
       "    </tr>\n",
       "    <tr>\n",
       "      <th>Debugging in VS Code</th>\n",
       "      <td>2573.138572</td>\n",
       "      <td>128.656929</td>\n",
       "      <td>296.083548</td>\n",
       "      <td>20</td>\n",
       "    </tr>\n",
       "    <tr>\n",
       "      <th>Azure Developer Associate</th>\n",
       "      <td>2608.289688</td>\n",
       "      <td>41.401424</td>\n",
       "      <td>119.856685</td>\n",
       "      <td>63</td>\n",
       "    </tr>\n",
       "    <tr>\n",
       "      <th>Open Source/GitHub</th>\n",
       "      <td>2768.442250</td>\n",
       "      <td>173.027641</td>\n",
       "      <td>403.845858</td>\n",
       "      <td>16</td>\n",
       "    </tr>\n",
       "    <tr>\n",
       "      <th>Terraform</th>\n",
       "      <td>2850.738038</td>\n",
       "      <td>114.029522</td>\n",
       "      <td>299.939763</td>\n",
       "      <td>25</td>\n",
       "    </tr>\n",
       "    <tr>\n",
       "      <th>FSLogix</th>\n",
       "      <td>3157.509984</td>\n",
       "      <td>131.562916</td>\n",
       "      <td>297.316107</td>\n",
       "      <td>24</td>\n",
       "    </tr>\n",
       "    <tr>\n",
       "      <th>Home Network Project</th>\n",
       "      <td>3516.134725</td>\n",
       "      <td>219.758420</td>\n",
       "      <td>493.745535</td>\n",
       "      <td>16</td>\n",
       "    </tr>\n",
       "    <tr>\n",
       "      <th>DNS</th>\n",
       "      <td>3663.103788</td>\n",
       "      <td>228.943987</td>\n",
       "      <td>446.383150</td>\n",
       "      <td>16</td>\n",
       "    </tr>\n",
       "    <tr>\n",
       "      <th>WSL + Kali Linux</th>\n",
       "      <td>3882.918656</td>\n",
       "      <td>204.364140</td>\n",
       "      <td>442.136928</td>\n",
       "      <td>19</td>\n",
       "    </tr>\n",
       "    <tr>\n",
       "      <th>Azure Functions + PP365</th>\n",
       "      <td>4177.756035</td>\n",
       "      <td>181.641567</td>\n",
       "      <td>445.866431</td>\n",
       "      <td>23</td>\n",
       "    </tr>\n",
       "    <tr>\n",
       "      <th>Powershell Modules</th>\n",
       "      <td>4960.062186</td>\n",
       "      <td>171.036627</td>\n",
       "      <td>509.090787</td>\n",
       "      <td>29</td>\n",
       "    </tr>\n",
       "    <tr>\n",
       "      <th>Logging in Python</th>\n",
       "      <td>5781.372988</td>\n",
       "      <td>120.445271</td>\n",
       "      <td>672.750555</td>\n",
       "      <td>48</td>\n",
       "    </tr>\n",
       "    <tr>\n",
       "      <th>JavaScript Concepts</th>\n",
       "      <td>6733.862212</td>\n",
       "      <td>110.391184</td>\n",
       "      <td>459.082987</td>\n",
       "      <td>61</td>\n",
       "    </tr>\n",
       "    <tr>\n",
       "      <th>PnP Powershell</th>\n",
       "      <td>7147.853046</td>\n",
       "      <td>193.185217</td>\n",
       "      <td>481.963513</td>\n",
       "      <td>37</td>\n",
       "    </tr>\n",
       "    <tr>\n",
       "      <th>Vocab</th>\n",
       "      <td>8009.643363</td>\n",
       "      <td>109.721142</td>\n",
       "      <td>571.092272</td>\n",
       "      <td>73</td>\n",
       "    </tr>\n",
       "  </tbody>\n",
       "</table>\n",
       "</div>"
      ],
      "text/plain": [
       "                                            age_sum    age_mean     age_max  \\\n",
       "Todd Ideas                              1383.718570   92.247905  176.675349   \n",
       "Email Auth and Security                 1779.448559  148.287380  507.374540   \n",
       "Azure AI Search                         1812.640005  226.580001  435.346124   \n",
       "Python                                  1828.208121   38.898045   59.954055   \n",
       "SharePoint                              2061.224661  171.768722  608.900216   \n",
       "Audit Report Tracker (Sharepoint List)  2175.069213  167.313016  410.042048   \n",
       "Azure Functions + Visual Studio         2381.501112  170.107222  526.455256   \n",
       "IW Migration                            2522.645530  180.188966  493.293939   \n",
       "Debugging in VS Code                    2573.138572  128.656929  296.083548   \n",
       "Azure Developer Associate               2608.289688   41.401424  119.856685   \n",
       "Open Source/GitHub                      2768.442250  173.027641  403.845858   \n",
       "Terraform                               2850.738038  114.029522  299.939763   \n",
       "FSLogix                                 3157.509984  131.562916  297.316107   \n",
       "Home Network Project                    3516.134725  219.758420  493.745535   \n",
       "DNS                                     3663.103788  228.943987  446.383150   \n",
       "WSL + Kali Linux                        3882.918656  204.364140  442.136928   \n",
       "Azure Functions + PP365                 4177.756035  181.641567  445.866431   \n",
       "Powershell Modules                      4960.062186  171.036627  509.090787   \n",
       "Logging in Python                       5781.372988  120.445271  672.750555   \n",
       "JavaScript Concepts                     6733.862212  110.391184  459.082987   \n",
       "PnP Powershell                          7147.853046  193.185217  481.963513   \n",
       "Vocab                                   8009.643363  109.721142  571.092272   \n",
       "\n",
       "                                        head_count  \n",
       "Todd Ideas                                      15  \n",
       "Email Auth and Security                         12  \n",
       "Azure AI Search                                  8  \n",
       "Python                                          47  \n",
       "SharePoint                                      12  \n",
       "Audit Report Tracker (Sharepoint List)          13  \n",
       "Azure Functions + Visual Studio                 14  \n",
       "IW Migration                                    14  \n",
       "Debugging in VS Code                            20  \n",
       "Azure Developer Associate                       63  \n",
       "Open Source/GitHub                              16  \n",
       "Terraform                                       25  \n",
       "FSLogix                                         24  \n",
       "Home Network Project                            16  \n",
       "DNS                                             16  \n",
       "WSL + Kali Linux                                19  \n",
       "Azure Functions + PP365                         23  \n",
       "Powershell Modules                              29  \n",
       "Logging in Python                               48  \n",
       "JavaScript Concepts                             61  \n",
       "PnP Powershell                                  37  \n",
       "Vocab                                           73  "
      ]
     },
     "execution_count": 21,
     "metadata": {},
     "output_type": "execute_result"
    }
   ],
   "source": [
    "stats = existing_cards.groupby('head').agg({'age': ['sum', 'mean', 'max'], 'head': 'count'}).sort_values(('age', 'sum'))\n",
    "stats.columns = stats.columns.to_flat_index()\n",
    "stats.columns = ['_'.join(col).strip() for col in stats.columns]\n",
    "stats.index.name = None\n",
    "stats"
   ]
  },
  {
   "cell_type": "markdown",
   "metadata": {},
   "source": [
    "# Histogram"
   ]
  },
  {
   "cell_type": "code",
   "execution_count": 22,
   "metadata": {},
   "outputs": [
    {
     "name": "stdout",
     "output_type": "stream",
     "text": [
      "77775.28\n"
     ]
    },
    {
     "data": {
      "text/plain": [
       "<Axes: >"
      ]
     },
     "execution_count": 22,
     "metadata": {},
     "output_type": "execute_result"
    },
    {
     "data": {
      "image/png": "[encoded data removed]",
      "text/plain": [
       "<Figure size 640x480 with 1 Axes>"
      ]
     },
     "metadata": {},
     "output_type": "display_data"
    }
   ],
   "source": [
    "print(f\"{existing_cards['age'].sum(0):.2f}\")\n",
    "existing_cards['age'].hist(bins=20)"
   ]
  },
  {
   "cell_type": "markdown",
   "metadata": {},
   "source": [
    "# Completely Random Shuffle"
   ]
  },
  {
   "cell_type": "code",
   "execution_count": 23,
   "metadata": {},
   "outputs": [],
   "source": [
    "# existing_cards = existing_cards.sample(frac=1)\n",
    "# remake_card_document(filename='certcards2.txt', existing_cards = existing_cards)"
   ]
  },
  {
   "cell_type": "markdown",
   "metadata": {},
   "source": [
    "# Age Sort"
   ]
  },
  {
   "cell_type": "code",
   "execution_count": 24,
   "metadata": {},
   "outputs": [],
   "source": [
    "# existing_cards = existing_cards.sort_values('age', ascending=False)\n",
    "# remake_card_document(filename='certcards2.txt', existing_cards=existing_cards)\n",
    "# existing_cards.head(10)"
   ]
  },
  {
   "cell_type": "markdown",
   "metadata": {},
   "source": [
    "# Headers with fewest notes first"
   ]
  },
  {
   "cell_type": "code",
   "execution_count": 25,
   "metadata": {},
   "outputs": [],
   "source": [
    "# frequency = existing_cards['head'].value_counts(ascending=True)\n",
    "\n",
    "# existing_cards = pd.merge(\n",
    "#     left=existing_cards,\n",
    "#     right=frequency.rename('frequency'),\n",
    "#     left_on='head', right_index=True,\n",
    "#     how='left'\n",
    "# )\n",
    "# existing_cards['oldest'] = existing_cards.groupby('head')['age'].transform('max')\n",
    "# existing_cards['subject_highest_age'] = existing_cards['subject_highest_age'] * -1\n",
    "# existing_cards['age'] = existing_cards['age'] * -1\n",
    "\n",
    "\n",
    "# existing_cards.sort_values(['frequency', 'subject_highest_age', 'age'], ascending=True, inplace=True)\n",
    "\n",
    "# remake_card_document(filename='certcards2.txt', existing_cards=existing_cards)\n",
    "\n",
    "# existing_cards.head(10)"
   ]
  },
  {
   "cell_type": "markdown",
   "metadata": {},
   "source": [
    "# Focus on one header"
   ]
  },
  {
   "cell_type": "code",
   "execution_count": 26,
   "metadata": {},
   "outputs": [],
   "source": [
    "# heads = existing_cards['head'].value_counts()\n",
    "# heads = heads[heads > 5].index.tolist()\n",
    "# one_header = random.sample(heads, 1)[0]\n",
    "# existing_cards['pick_head'] = existing_cards['head'].apply(\n",
    "#     lambda h: 0 if h == one_header else 1 \n",
    "# )\n",
    "\n",
    "# remake_card_document(existing_cards=existing_cards.sort_values('pick_head'))"
   ]
  },
  {
   "cell_type": "markdown",
   "metadata": {},
   "source": [
    "## Header with oldest cards first"
   ]
  },
  {
   "cell_type": "code",
   "execution_count": 27,
   "metadata": {},
   "outputs": [],
   "source": [
    "# existing_cards['oldest'] = existing_cards.groupby('head')['age'].transform('max')\n",
    "# existing_cards.sort_values(['oldest', 'age'], ascending=False, inplace=True)\n",
    "# remake_card_document(existing_cards)"
   ]
  },
  {
   "cell_type": "markdown",
   "metadata": {},
   "source": [
    "## Headers with greatest mean card age first"
   ]
  },
  {
   "cell_type": "code",
   "execution_count": 28,
   "metadata": {},
   "outputs": [],
   "source": [
    "# existing_cards.sort_values(['subject_mean_age', 'age'], ascending=False, inplace=True)\n",
    "# remake_card_document(existing_cards)"
   ]
  },
  {
   "cell_type": "markdown",
   "metadata": {},
   "source": [
    "## Headers with greatest age sum first"
   ]
  },
  {
   "cell_type": "code",
   "execution_count": 29,
   "metadata": {},
   "outputs": [],
   "source": [
    "# existing_cards.sort_values(['subject_age_sum', 'age'], ascending=False, inplace=True)\n",
    "# remake_card_document(existing_cards)"
   ]
  },
  {
   "cell_type": "markdown",
   "metadata": {},
   "source": [
    "# N-fold shuffle\n"
   ]
  },
  {
   "cell_type": "markdown",
   "metadata": {},
   "source": [
    "## Age Sum"
   ]
  },
  {
   "cell_type": "code",
   "execution_count": 30,
   "metadata": {},
   "outputs": [],
   "source": [
    "# n=3\n",
    "# existing_cards['count'] = existing_cards.sort_values('age', ascending=False).groupby('head').cumcount()\n",
    "# existing_cards['n_fold'] = existing_cards['count'] % n\n",
    "\n",
    "# existing_cards['subject_age_sum'] = existing_cards['subject_age_sum'] *-1\n",
    "# existing_cards['age'] = existing_cards['age'] *-1\n",
    "# existing_cards.sort_values(['n_fold', 'subject_age_sum', 'age'], inplace=True)\n",
    "\n",
    "# remake_card_document(existing_cards=existing_cards)\n",
    "# existing_cards.head(10)\n"
   ]
  },
  {
   "cell_type": "markdown",
   "metadata": {},
   "source": [
    "## Age Mean"
   ]
  },
  {
   "cell_type": "code",
   "execution_count": 31,
   "metadata": {},
   "outputs": [],
   "source": [
    "# n=3\n",
    "# existing_cards['count'] = existing_cards.sort_values('age', ascending=False).groupby('head').cumcount()\n",
    "# existing_cards['n_fold'] = existing_cards['count'] % n\n",
    "\n",
    "# existing_cards['subject_mean_age'] = existing_cards['subject_mean_age'] *-1\n",
    "# existing_cards['age'] = existing_cards['age'] *-1\n",
    "# existing_cards.sort_values(['n_fold', 'subject_mean_age', 'age'], inplace=True)\n",
    "# remake_card_document(existing_cards=existing_cards)\n",
    "\n",
    "# existing_cards.head(10)\n",
    "\n"
   ]
  },
  {
   "cell_type": "markdown",
   "metadata": {},
   "source": [
    "## Age Max"
   ]
  },
  {
   "cell_type": "code",
   "execution_count": 32,
   "metadata": {},
   "outputs": [],
   "source": [
    "# n = 1\n",
    "# existing_cards['count'] = existing_cards.sort_values('age', ascending=False).groupby('head').cumcount()\n",
    "# existing_cards['n_fold'] = existing_cards['count'] // n\n",
    "\n",
    "# if existing_cards['age'].sum() > 0:\n",
    "#     existing_cards['subject_highest_age'] = existing_cards['subject_highest_age'] *-1\n",
    "#     existing_cards['age'] = existing_cards['age'] *-1\n",
    "# existing_cards.sort_values(['n_fold', 'subject_highest_age', 'age'], inplace=True)\n",
    "\n",
    "# remake_card_document(existing_cards=existing_cards)\n",
    "# existing_cards.head(10)\n"
   ]
  },
  {
   "cell_type": "markdown",
   "metadata": {},
   "source": [
    "## Card Count"
   ]
  },
  {
   "cell_type": "code",
   "execution_count": 33,
   "metadata": {},
   "outputs": [],
   "source": [
    "# n=10\n",
    "# existing_cards['frequency']  = existing_cards.groupby('head').transform('count')['body']\n",
    "# existing_cards['count'] = existing_cards.sort_values('age', ascending=False).groupby('head').cumcount()\n",
    "# existing_cards['n_fold'] = existing_cards['count'] // n\n",
    "\n",
    "# if existing_cards['age'].sum() > 0:\n",
    "#     # existing_cards['neg_subject_highest_age'] = existing_cards['subject_highest_age'] *-1\n",
    "#     existing_cards['neg_age'] = existing_cards['age'] *-1\n",
    "# existing_cards.sort_values(['n_fold', 'frequency', 'neg_age'], inplace=True)\n",
    "# remake_card_document(existing_cards=existing_cards)\n",
    "\n",
    "# existing_cards.head(10)\n",
    "\n"
   ]
  },
  {
   "cell_type": "markdown",
   "metadata": {},
   "source": [
    "\n",
    "## Random"
   ]
  },
  {
   "cell_type": "code",
   "execution_count": 34,
   "metadata": {},
   "outputs": [
    {
     "name": "stdout",
     "output_type": "stream",
     "text": [
      "Cards found: 605\n"
     ]
    },
    {
     "data": {
      "application/vnd.microsoft.datawrangler.viewer.v0+json": {
       "columns": [
        {
         "name": "index",
         "rawType": "int64",
         "type": "integer"
        },
        {
         "name": "head",
         "rawType": "object",
         "type": "string"
        },
        {
         "name": "body",
         "rawType": "object",
         "type": "string"
        },
        {
         "name": "hash",
         "rawType": "object",
         "type": "string"
        },
        {
         "name": "age",
         "rawType": "float64",
         "type": "float"
        },
        {
         "name": "subject_mean_age",
         "rawType": "float64",
         "type": "float"
        },
        {
         "name": "subject_highest_age",
         "rawType": "float64",
         "type": "float"
        },
        {
         "name": "subject_age_sum",
         "rawType": "float64",
         "type": "float"
        },
        {
         "name": "head_random_roll",
         "rawType": "float64",
         "type": "float"
        },
        {
         "name": "count",
         "rawType": "int64",
         "type": "integer"
        },
        {
         "name": "n_fold",
         "rawType": "int64",
         "type": "integer"
        }
       ],
       "conversionMethod": "pd.DataFrame",
       "ref": "147c8e6a-03e9-4e39-8486-41b7452c08d8",
       "rows": [
        [
         "68",
         "Home Network Project",
         "Front: What is Bandwidth and how does it differ from Throughput?\n\nBack:\n\nBandwidth: The maximum rate of data transfer across a network path, typically measured in Mbps or Gbps. It represents the network's capacity.\nThroughput: The actual rate of successful data transfer achieved, often lower than the bandwidth due to factors like network congestion and protocol overhead.",
         "8d6d825a0008723089184f0a0131e2d6",
         "-493.7455351630104",
         "219.758420285694",
         "493.7455351630104",
         "3516.134724571104",
         "0.02102426472713459",
         "0",
         "0"
        ],
        [
         "76",
         "Home Network Project",
         "Front: What is Rate Limiting and how does it help in preventing attacks?\n\nBack: Rate Limiting restricts the number of requests a user or IP address can make to a service within a specific time frame. It helps prevent various attacks, such as brute-force attacks, denial-of-service (DoS) attacks, and abuse of APIs, by limiting the potential impact of malicious activities.",
         "8178df4fba6be87bebbac33e10e32135",
         "-339.98726958317684",
         "219.758420285694",
         "493.7455351630104",
         "3516.134724571104",
         "0.02102426472713459",
         "3",
         "0"
        ],
        [
         "86",
         "Home Network Project",
         "Front: What is Fail2Ban and how does it protect a network?\n\nBack: Fail2Ban is an intrusion prevention software that monitors log files for suspicious activity, such as repeated failed login attempts. When such patterns are detected, Fail2Ban automatically updates firewall rules to temporarily or permanently ban offending IP addresses, protecting the network from brute-force attacks and unauthorized access.",
         "d7fc83e3380f6d95ec44141a17d86066",
         "-220.97377655291336",
         "219.758420285694",
         "493.7455351630104",
         "3516.134724571104",
         "0.02102426472713459",
         "6",
         "0"
        ],
        [
         "96",
         "Home Network Project",
         "Front: What is DNS over HTTPS (DoH) and its advantages?\n\nBack: DNS over HTTPS (DoH) is a protocol that encrypts DNS queries by sending them over HTTPS. Advantages include:\n\nPrivacy: Prevents eavesdropping and manipulation of DNS traffic.\nSecurity: Protects against DNS spoofing and man-in-the-middle attacks.\nCensorship Resistance: Makes it harder for third parties to block or redirect DNS queries.",
         "ae05acdc87227852d13c339b506df2fe",
         "-135.71746261908763",
         "219.758420285694",
         "493.7455351630104",
         "3516.134724571104",
         "0.02102426472713459",
         "9",
         "0"
        ],
        [
         "242",
         "Home Network Project",
         "Front: What is SSL Certificate and why is it important for web services?\n\nBack: An SSL Certificate is a digital certificate that authenticates the identity of a website and enables encrypted connections via SSL/TLS protocols. It ensures secure data transmission between the user's browser and the web server, protecting sensitive information from interception and tampering.",
         "2bd06eb3ed2c4e2ce68ffc7ae7de10e3",
         "-111.18011305697091",
         "219.758420285694",
         "493.7455351630104",
         "3516.134724571104",
         "0.02102426472713459",
         "12",
         "0"
        ],
        [
         "253",
         "Home Network Project",
         "Front: Describe the primary function of Grafana in a monitoring stack.\n\nBack: Grafana is an open-source platform for data visualization and analytics. It connects to various data sources like Prometheus, enabling users to create interactive and customizable dashboards to visualize metrics, monitor system performance, and gain insights into network and application behavior.",
         "05858536d9f6e45ac3298ed4081ec7b9",
         "-57.689784489596946",
         "219.758420285694",
         "493.7455351630104",
         "3516.134724571104",
         "0.02102426472713459",
         "15",
         "0"
        ],
        [
         "158",
         "PnP Powershell",
         "Invoke-RestMethod (Microsoft.PowerShell.Utility)\nSends HTTP and HTTPS requests to RESTful APIs and processes the responses. Commonly used for interacting directly with SharePoint REST API in PowerShell scripts.",
         "178d8c43f16d97225067ce4d3dcc87af",
         "-481.96351255725074",
         "193.1852174493782",
         "481.96351255725074",
         "7147.853045626994",
         "0.03818341703063988",
         "0",
         "0"
        ],
        [
         "161",
         "PnP Powershell",
         "Add-PnPUserToGroup (PnP.PowerShell)\nAdds a user to a specified SharePoint group. Facilitates automated user management and access control within SharePoint environments.",
         "b8f7511b225190bc4ee6b99cecb324ab",
         "-367.0597595224602",
         "193.1852174493782",
         "481.96351255725074",
         "7147.853045626994",
         "0.03818341703063988",
         "3",
         "0"
        ],
        [
         "164",
         "PnP Powershell",
         "Invoke-RestMethod Parameters\nKey parameters include -Method (HTTP method), -Uri (API endpoint), -Headers (authentication and content type), and -Body (data payload), crucial for API interactions.",
         "e6a04d0a76f2a4a9cba720d23ffea2c8",
         "-292.32037307924196",
         "193.1852174493782",
         "481.96351255725074",
         "7147.853045626994",
         "0.03818341703063988",
         "6",
         "0"
        ],
        [
         "166",
         "PnP Powershell",
         "Set-PnPFileCheckedIn (PnP.PowerShell)\nChecks in a previously uploaded file in SharePoint, optionally adding comments. Essential for managing document versions and maintaining collaboration workflows.",
         "1f8bc1d42ae35f96f440ff5a1b1a7fc7",
         "-268.2817752205603",
         "193.1852174493782",
         "481.96351255725074",
         "7147.853045626994",
         "0.03818341703063988",
         "9",
         "0"
        ]
       ],
       "shape": {
        "columns": 10,
        "rows": 10
       }
      },
      "text/html": [
       "<div>\n",
       "<style scoped>\n",
       "    .dataframe tbody tr th:only-of-type {\n",
       "        vertical-align: middle;\n",
       "    }\n",
       "\n",
       "    .dataframe tbody tr th {\n",
       "        vertical-align: top;\n",
       "    }\n",
       "\n",
       "    .dataframe thead th {\n",
       "        text-align: right;\n",
       "    }\n",
       "</style>\n",
       "<table border=\"1\" class=\"dataframe\">\n",
       "  <thead>\n",
       "    <tr style=\"text-align: right;\">\n",
       "      <th></th>\n",
       "      <th>head</th>\n",
       "      <th>body</th>\n",
       "      <th>hash</th>\n",
       "      <th>age</th>\n",
       "      <th>subject_mean_age</th>\n",
       "      <th>subject_highest_age</th>\n",
       "      <th>subject_age_sum</th>\n",
       "      <th>head_random_roll</th>\n",
       "      <th>count</th>\n",
       "      <th>n_fold</th>\n",
       "    </tr>\n",
       "  </thead>\n",
       "  <tbody>\n",
       "    <tr>\n",
       "      <th>68</th>\n",
       "      <td>Home Network Project</td>\n",
       "      <td>Front: What is Bandwidth and how does it diffe...</td>\n",
       "      <td>8d6d825a0008723089184f0a0131e2d6</td>\n",
       "      <td>-493.745535</td>\n",
       "      <td>219.758420</td>\n",
       "      <td>493.745535</td>\n",
       "      <td>3516.134725</td>\n",
       "      <td>0.021024</td>\n",
       "      <td>0</td>\n",
       "      <td>0</td>\n",
       "    </tr>\n",
       "    <tr>\n",
       "      <th>76</th>\n",
       "      <td>Home Network Project</td>\n",
       "      <td>Front: What is Rate Limiting and how does it h...</td>\n",
       "      <td>8178df4fba6be87bebbac33e10e32135</td>\n",
       "      <td>-339.987270</td>\n",
       "      <td>219.758420</td>\n",
       "      <td>493.745535</td>\n",
       "      <td>3516.134725</td>\n",
       "      <td>0.021024</td>\n",
       "      <td>3</td>\n",
       "      <td>0</td>\n",
       "    </tr>\n",
       "    <tr>\n",
       "      <th>86</th>\n",
       "      <td>Home Network Project</td>\n",
       "      <td>Front: What is Fail2Ban and how does it protec...</td>\n",
       "      <td>d7fc83e3380f6d95ec44141a17d86066</td>\n",
       "      <td>-220.973777</td>\n",
       "      <td>219.758420</td>\n",
       "      <td>493.745535</td>\n",
       "      <td>3516.134725</td>\n",
       "      <td>0.021024</td>\n",
       "      <td>6</td>\n",
       "      <td>0</td>\n",
       "    </tr>\n",
       "    <tr>\n",
       "      <th>96</th>\n",
       "      <td>Home Network Project</td>\n",
       "      <td>Front: What is DNS over HTTPS (DoH) and its ad...</td>\n",
       "      <td>ae05acdc87227852d13c339b506df2fe</td>\n",
       "      <td>-135.717463</td>\n",
       "      <td>219.758420</td>\n",
       "      <td>493.745535</td>\n",
       "      <td>3516.134725</td>\n",
       "      <td>0.021024</td>\n",
       "      <td>9</td>\n",
       "      <td>0</td>\n",
       "    </tr>\n",
       "    <tr>\n",
       "      <th>242</th>\n",
       "      <td>Home Network Project</td>\n",
       "      <td>Front: What is SSL Certificate and why is it i...</td>\n",
       "      <td>2bd06eb3ed2c4e2ce68ffc7ae7de10e3</td>\n",
       "      <td>-111.180113</td>\n",
       "      <td>219.758420</td>\n",
       "      <td>493.745535</td>\n",
       "      <td>3516.134725</td>\n",
       "      <td>0.021024</td>\n",
       "      <td>12</td>\n",
       "      <td>0</td>\n",
       "    </tr>\n",
       "    <tr>\n",
       "      <th>253</th>\n",
       "      <td>Home Network Project</td>\n",
       "      <td>Front: Describe the primary function of Grafan...</td>\n",
       "      <td>05858536d9f6e45ac3298ed4081ec7b9</td>\n",
       "      <td>-57.689784</td>\n",
       "      <td>219.758420</td>\n",
       "      <td>493.745535</td>\n",
       "      <td>3516.134725</td>\n",
       "      <td>0.021024</td>\n",
       "      <td>15</td>\n",
       "      <td>0</td>\n",
       "    </tr>\n",
       "    <tr>\n",
       "      <th>158</th>\n",
       "      <td>PnP Powershell</td>\n",
       "      <td>Invoke-RestMethod (Microsoft.PowerShell.Utilit...</td>\n",
       "      <td>178d8c43f16d97225067ce4d3dcc87af</td>\n",
       "      <td>-481.963513</td>\n",
       "      <td>193.185217</td>\n",
       "      <td>481.963513</td>\n",
       "      <td>7147.853046</td>\n",
       "      <td>0.038183</td>\n",
       "      <td>0</td>\n",
       "      <td>0</td>\n",
       "    </tr>\n",
       "    <tr>\n",
       "      <th>161</th>\n",
       "      <td>PnP Powershell</td>\n",
       "      <td>Add-PnPUserToGroup (PnP.PowerShell)\\nAdds a us...</td>\n",
       "      <td>b8f7511b225190bc4ee6b99cecb324ab</td>\n",
       "      <td>-367.059760</td>\n",
       "      <td>193.185217</td>\n",
       "      <td>481.963513</td>\n",
       "      <td>7147.853046</td>\n",
       "      <td>0.038183</td>\n",
       "      <td>3</td>\n",
       "      <td>0</td>\n",
       "    </tr>\n",
       "    <tr>\n",
       "      <th>164</th>\n",
       "      <td>PnP Powershell</td>\n",
       "      <td>Invoke-RestMethod Parameters\\nKey parameters i...</td>\n",
       "      <td>e6a04d0a76f2a4a9cba720d23ffea2c8</td>\n",
       "      <td>-292.320373</td>\n",
       "      <td>193.185217</td>\n",
       "      <td>481.963513</td>\n",
       "      <td>7147.853046</td>\n",
       "      <td>0.038183</td>\n",
       "      <td>6</td>\n",
       "      <td>0</td>\n",
       "    </tr>\n",
       "    <tr>\n",
       "      <th>166</th>\n",
       "      <td>PnP Powershell</td>\n",
       "      <td>Set-PnPFileCheckedIn (PnP.PowerShell)\\nChecks ...</td>\n",
       "      <td>1f8bc1d42ae35f96f440ff5a1b1a7fc7</td>\n",
       "      <td>-268.281775</td>\n",
       "      <td>193.185217</td>\n",
       "      <td>481.963513</td>\n",
       "      <td>7147.853046</td>\n",
       "      <td>0.038183</td>\n",
       "      <td>9</td>\n",
       "      <td>0</td>\n",
       "    </tr>\n",
       "  </tbody>\n",
       "</table>\n",
       "</div>"
      ],
      "text/plain": [
       "                     head                                               body  \\\n",
       "68   Home Network Project  Front: What is Bandwidth and how does it diffe...   \n",
       "76   Home Network Project  Front: What is Rate Limiting and how does it h...   \n",
       "86   Home Network Project  Front: What is Fail2Ban and how does it protec...   \n",
       "96   Home Network Project  Front: What is DNS over HTTPS (DoH) and its ad...   \n",
       "242  Home Network Project  Front: What is SSL Certificate and why is it i...   \n",
       "253  Home Network Project  Front: Describe the primary function of Grafan...   \n",
       "158        PnP Powershell  Invoke-RestMethod (Microsoft.PowerShell.Utilit...   \n",
       "161        PnP Powershell  Add-PnPUserToGroup (PnP.PowerShell)\\nAdds a us...   \n",
       "164        PnP Powershell  Invoke-RestMethod Parameters\\nKey parameters i...   \n",
       "166        PnP Powershell  Set-PnPFileCheckedIn (PnP.PowerShell)\\nChecks ...   \n",
       "\n",
       "                                 hash         age  subject_mean_age  \\\n",
       "68   8d6d825a0008723089184f0a0131e2d6 -493.745535        219.758420   \n",
       "76   8178df4fba6be87bebbac33e10e32135 -339.987270        219.758420   \n",
       "86   d7fc83e3380f6d95ec44141a17d86066 -220.973777        219.758420   \n",
       "96   ae05acdc87227852d13c339b506df2fe -135.717463        219.758420   \n",
       "242  2bd06eb3ed2c4e2ce68ffc7ae7de10e3 -111.180113        219.758420   \n",
       "253  05858536d9f6e45ac3298ed4081ec7b9  -57.689784        219.758420   \n",
       "158  178d8c43f16d97225067ce4d3dcc87af -481.963513        193.185217   \n",
       "161  b8f7511b225190bc4ee6b99cecb324ab -367.059760        193.185217   \n",
       "164  e6a04d0a76f2a4a9cba720d23ffea2c8 -292.320373        193.185217   \n",
       "166  1f8bc1d42ae35f96f440ff5a1b1a7fc7 -268.281775        193.185217   \n",
       "\n",
       "     subject_highest_age  subject_age_sum  head_random_roll  count  n_fold  \n",
       "68            493.745535      3516.134725          0.021024      0       0  \n",
       "76            493.745535      3516.134725          0.021024      3       0  \n",
       "86            493.745535      3516.134725          0.021024      6       0  \n",
       "96            493.745535      3516.134725          0.021024      9       0  \n",
       "242           493.745535      3516.134725          0.021024     12       0  \n",
       "253           493.745535      3516.134725          0.021024     15       0  \n",
       "158           481.963513      7147.853046          0.038183      0       0  \n",
       "161           481.963513      7147.853046          0.038183      3       0  \n",
       "164           481.963513      7147.853046          0.038183      6       0  \n",
       "166           481.963513      7147.853046          0.038183      9       0  "
      ]
     },
     "execution_count": 34,
     "metadata": {},
     "output_type": "execute_result"
    }
   ],
   "source": [
    "n = 3\n",
    "existing_cards['count'] = existing_cards.sort_values('age', ascending=False).groupby('head').cumcount()\n",
    "existing_cards['n_fold'] = existing_cards['count'] % n\n",
    "existing_cards['age'] *= -1\n",
    "existing_cards.sort_values(['n_fold', 'head_random_roll', 'age'], inplace=True)\n",
    "remake_card_document(existing_cards=existing_cards)\n",
    "existing_cards.head(10)"
   ]
  },
  {
   "cell_type": "code",
   "execution_count": 35,
   "metadata": {},
   "outputs": [
    {
     "data": {
      "text/plain": [
       "head                   Home Network ProjectHome Network ProjectHome N...\n",
       "body                   Front: What is Bandwidth and how does it diffe...\n",
       "hash                   8d6d825a0008723089184f0a0131e2d68178df4fba6be8...\n",
       "age                                                         -2768.919362\n",
       "subject_mean_age                                             2091.291392\n",
       "subject_highest_age                                          4890.327261\n",
       "subject_age_sum                                              49688.22053\n",
       "head_random_roll                                                0.278879\n",
       "count                                                                 63\n",
       "n_fold                                                                 0\n",
       "dtype: object"
      ]
     },
     "execution_count": 35,
     "metadata": {},
     "output_type": "execute_result"
    }
   ],
   "source": [
    "existing_cards.head(10).sum()"
   ]
  },
  {
   "cell_type": "code",
   "execution_count": 36,
   "metadata": {},
   "outputs": [
    {
     "data": {
      "text/plain": [
       "-128.55418396617767"
      ]
     },
     "execution_count": 36,
     "metadata": {},
     "output_type": "execute_result"
    }
   ],
   "source": [
    "existing_cards['age'].mean()"
   ]
  }
 ],
 "metadata": {
  "kernelspec": {
   "display_name": "Python 3",
   "language": "python",
   "name": "python3"
  },
  "language_info": {
   "codemirror_mode": {
    "name": "ipython",
    "version": 3
   },
   "file_extension": ".py",
   "mimetype": "text/x-python",
   "name": "python",
   "nbconvert_exporter": "python",
   "pygments_lexer": "ipython3",
   "version": "3.11.9"
  }
 },
 "nbformat": 4,
 "nbformat_minor": 2
}
