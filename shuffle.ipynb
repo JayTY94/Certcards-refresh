{
 "cells": [
  {
   "cell_type": "code",
   "execution_count": 20,
   "metadata": {},
   "outputs": [],
   "source": [
    "import re\n",
    "import random\n",
    "import pandas as pd\n",
    "import hashlib"
   ]
  },
  {
   "cell_type": "code",
   "execution_count": 21,
   "metadata": {},
   "outputs": [],
   "source": [
    "with open('certcards2.txt', mode='r', encoding='utf8') as f:\n",
    "    all_cards = f.read()\n",
    "    \n",
    "card_split_pattern = r'\\n\\n\\n\\d+\\n'\n",
    "all_cards = re.split(card_split_pattern, all_cards)\n",
    "# Use re.DOTALL to allow . to match newline characters\n",
    "card_pattern = re.compile(r'(.+?)\\n([\\s\\S]+)', re.DOTALL)\n",
    "cards = [(match.group(1), match.group(2)) for cstring in all_cards if (match := re.search(card_pattern, cstring))]\n",
    "\n",
    "# removing the cards that have no content and trimming\n",
    "cards = [(subject, stripped_content) for subject, content in cards if len(stripped_content := content.strip()) > 5]\n",
    "\n",
    "def hash_string_md5(s):\n",
    "    \"\"\"\n",
    "    Hashes a string using MD5 and returns a truncated hash for efficiency.\n",
    "\n",
    "    Parameters:\n",
    "    - s (str): The input string to hash.\n",
    "\n",
    "    Returns:\n",
    "    - str: The truncated hexadecimal hash string.\n",
    "    \"\"\"\n",
    "    if pd.isnull(s):\n",
    "        return None  # Handle NaN values gracefully\n",
    "    return hashlib.md5(s.encode('utf-8')).hexdigest()  # Truncate to first 12 characters\n",
    "\n",
    "\n",
    "def remake_card_document(existing_cards: pd.DataFrame, filename: str='certcards2.txt'):\n",
    "    with open(filename, mode='w', encoding='utf8') as f:\n",
    "        i = 1\n",
    "        for _, row in existing_cards.iterrows():\n",
    "            f.write('\\n'*6)\n",
    "            f.write(str(i)+'\\n')  \n",
    "            f.write(row['head']+'\\n')\n",
    "            f.write(row['body'])\n",
    "            i+=1\n",
    "    print(F\"Cards found: {existing_cards.shape[0]}\")\n",
    "\n",
    "\n",
    "existing_cards = pd.DataFrame(cards, columns=['head', 'body'])\n",
    "\n",
    "\n",
    "# existing_cards['age'] = [random.random() for _ in existing_cards.index]\n",
    "existing_cards['hash'] = existing_cards['body'].apply(hash_string_md5)\n",
    "existing_cards\n",
    "\n",
    "card_ages = pd.read_json('card_ages.json')\n",
    "card_ages = card_ages.drop_duplicates(subset=['hash'], keep='first')\n",
    "\n",
    "cards_to_age = pd.merge(\n",
    "    left=existing_cards,\n",
    "    right=card_ages[['hash', 'age']],\n",
    "    left_on='hash', right_on='hash',\n",
    "    how='left'\n",
    ")\n",
    "\n",
    "cards_to_age['head'] = cards_to_age['head'].str.strip()\n",
    "\n",
    "if cards_to_age['age'].sum() > 2e4: age_factor = 1\n",
    "else: age_factor = 1.00\n",
    "\n",
    "cards_to_age['age'] = cards_to_age['age'].fillna(0)\n",
    "cards_to_age['age'] = cards_to_age['age'] * age_factor\n",
    "cards_to_age['age'] = cards_to_age['age'] + [random.expovariate(.60) for _ in cards_to_age.index]\n",
    "# cards_to_age['age'] = cards_to_age['age'] * [random.expovariate(.5) for _ in cards_to_age.index]\n",
    "\n",
    "\n",
    "cards_to_age = cards_to_age.drop_duplicates(subset=['hash'], keep='first')\n",
    "\n",
    "cards_to_age['subject_mean_age'] = cards_to_age.groupby('head')['age'].transform('mean')\n",
    "cards_to_age['subject_highest_age'] = cards_to_age.groupby('head')['age'].transform('max')\n",
    "cards_to_age['subject_age_sum'] = cards_to_age.groupby('head')['age'].transform('sum')\n",
    "cards_to_age['head_random_roll'] = cards_to_age.groupby('head')['head'].transform(lambda x: random.random())\n",
    "\n",
    "\n",
    "cards_to_age.sort_values('age')[['age', 'head', 'hash']].to_json('card_ages.json', indent=2)\n",
    "\n",
    "existing_cards = cards_to_age"
   ]
  },
  {
   "cell_type": "code",
   "execution_count": 22,
   "metadata": {},
   "outputs": [
    {
     "data": {
      "application/vnd.microsoft.datawrangler.viewer.v0+json": {
       "columns": [
        {
         "name": "index",
         "rawType": "object",
         "type": "string"
        },
        {
         "name": "age_sum",
         "rawType": "float64",
         "type": "float"
        },
        {
         "name": "age_mean",
         "rawType": "float64",
         "type": "float"
        },
        {
         "name": "head_count",
         "rawType": "int64",
         "type": "integer"
        }
       ],
       "conversionMethod": "pd.DataFrame",
       "ref": "6cf7dfb4-e26d-4c4e-8de6-e51db8532a45",
       "rows": [
        [
         "Powershell",
         "454.13752096901334",
         "90.82750419380267",
         "5"
        ],
        [
         "Todd Ideas",
         "804.949777814562",
         "53.663318520970805",
         "15"
        ],
        [
         "PEP 8",
         "1320.6189806524578",
         "165.07737258155723",
         "8"
        ],
        [
         "SharePoint",
         "1546.7326127014917",
         "128.89438439179096",
         "12"
        ],
        [
         "Debugging in VS Code",
         "1749.1757430859855",
         "87.45878715429927",
         "20"
        ],
        [
         "Terraform",
         "1789.3950666189437",
         "71.57580266475775",
         "25"
        ],
        [
         "Azure Functions + Visual Studio",
         "1821.1216018915231",
         "130.0801144208231",
         "14"
        ],
        [
         "IW Migration",
         "1975.3666530469968",
         "141.0976180747855",
         "14"
        ],
        [
         "Open Source/GitHub",
         "2121.0682212381175",
         "132.56676382738235",
         "16"
        ],
        [
         "FSLogix",
         "2148.075277920222",
         "89.50313658000925",
         "24"
        ],
        [
         "Email Auth and Security",
         "2228.9462299163324",
         "171.45740230125634",
         "13"
        ],
        [
         "Azure Functions",
         "2759.3820388309405",
         "250.8529126209946",
         "11"
        ],
        [
         "DNS",
         "2944.895814000963",
         "184.0559883750602",
         "16"
        ],
        [
         "Azure AI Search",
         "3633.253323281509",
         "259.5180945201078",
         "14"
        ],
        [
         "Audit Report Tracker (Sharepoint List)",
         "3664.416517590535",
         "229.02603234940844",
         "16"
        ],
        [
         "Powershell Modules",
         "4437.983850373327",
         "147.93279501244425",
         "30"
        ],
        [
         "Azure Functions + PP365",
         "4941.272205884555",
         "197.65088823538218",
         "25"
        ],
        [
         "OData",
         "5141.50428184132",
         "342.7669521227547",
         "15"
        ],
        [
         "Home Network Project",
         "5311.843595737767",
         "279.57071556514563",
         "19"
        ],
        [
         "WSL + Kali Linux",
         "5765.3392268285625",
         "262.06087394675285",
         "22"
        ],
        [
         "Vocab",
         "5860.695829495543",
         "88.79842165902338",
         "66"
        ],
        [
         "PnP Powershell",
         "6250.749493567121",
         "164.49340772545057",
         "38"
        ],
        [
         "JavaScript Concepts",
         "6434.723247419438",
         "105.48726635113833",
         "61"
        ],
        [
         "Logging in Python",
         "7967.104109665136",
         "132.78506849441894",
         "60"
        ]
       ],
       "shape": {
        "columns": 3,
        "rows": 24
       }
      },
      "text/html": [
       "<div>\n",
       "<style scoped>\n",
       "    .dataframe tbody tr th:only-of-type {\n",
       "        vertical-align: middle;\n",
       "    }\n",
       "\n",
       "    .dataframe tbody tr th {\n",
       "        vertical-align: top;\n",
       "    }\n",
       "\n",
       "    .dataframe thead th {\n",
       "        text-align: right;\n",
       "    }\n",
       "</style>\n",
       "<table border=\"1\" class=\"dataframe\">\n",
       "  <thead>\n",
       "    <tr style=\"text-align: right;\">\n",
       "      <th></th>\n",
       "      <th>age_sum</th>\n",
       "      <th>age_mean</th>\n",
       "      <th>head_count</th>\n",
       "    </tr>\n",
       "  </thead>\n",
       "  <tbody>\n",
       "    <tr>\n",
       "      <th>Powershell</th>\n",
       "      <td>454.137521</td>\n",
       "      <td>90.827504</td>\n",
       "      <td>5</td>\n",
       "    </tr>\n",
       "    <tr>\n",
       "      <th>Todd Ideas</th>\n",
       "      <td>804.949778</td>\n",
       "      <td>53.663319</td>\n",
       "      <td>15</td>\n",
       "    </tr>\n",
       "    <tr>\n",
       "      <th>PEP 8</th>\n",
       "      <td>1320.618981</td>\n",
       "      <td>165.077373</td>\n",
       "      <td>8</td>\n",
       "    </tr>\n",
       "    <tr>\n",
       "      <th>SharePoint</th>\n",
       "      <td>1546.732613</td>\n",
       "      <td>128.894384</td>\n",
       "      <td>12</td>\n",
       "    </tr>\n",
       "    <tr>\n",
       "      <th>Debugging in VS Code</th>\n",
       "      <td>1749.175743</td>\n",
       "      <td>87.458787</td>\n",
       "      <td>20</td>\n",
       "    </tr>\n",
       "    <tr>\n",
       "      <th>Terraform</th>\n",
       "      <td>1789.395067</td>\n",
       "      <td>71.575803</td>\n",
       "      <td>25</td>\n",
       "    </tr>\n",
       "    <tr>\n",
       "      <th>Azure Functions + Visual Studio</th>\n",
       "      <td>1821.121602</td>\n",
       "      <td>130.080114</td>\n",
       "      <td>14</td>\n",
       "    </tr>\n",
       "    <tr>\n",
       "      <th>IW Migration</th>\n",
       "      <td>1975.366653</td>\n",
       "      <td>141.097618</td>\n",
       "      <td>14</td>\n",
       "    </tr>\n",
       "    <tr>\n",
       "      <th>Open Source/GitHub</th>\n",
       "      <td>2121.068221</td>\n",
       "      <td>132.566764</td>\n",
       "      <td>16</td>\n",
       "    </tr>\n",
       "    <tr>\n",
       "      <th>FSLogix</th>\n",
       "      <td>2148.075278</td>\n",
       "      <td>89.503137</td>\n",
       "      <td>24</td>\n",
       "    </tr>\n",
       "    <tr>\n",
       "      <th>Email Auth and Security</th>\n",
       "      <td>2228.946230</td>\n",
       "      <td>171.457402</td>\n",
       "      <td>13</td>\n",
       "    </tr>\n",
       "    <tr>\n",
       "      <th>Azure Functions</th>\n",
       "      <td>2759.382039</td>\n",
       "      <td>250.852913</td>\n",
       "      <td>11</td>\n",
       "    </tr>\n",
       "    <tr>\n",
       "      <th>DNS</th>\n",
       "      <td>2944.895814</td>\n",
       "      <td>184.055988</td>\n",
       "      <td>16</td>\n",
       "    </tr>\n",
       "    <tr>\n",
       "      <th>Azure AI Search</th>\n",
       "      <td>3633.253323</td>\n",
       "      <td>259.518095</td>\n",
       "      <td>14</td>\n",
       "    </tr>\n",
       "    <tr>\n",
       "      <th>Audit Report Tracker (Sharepoint List)</th>\n",
       "      <td>3664.416518</td>\n",
       "      <td>229.026032</td>\n",
       "      <td>16</td>\n",
       "    </tr>\n",
       "    <tr>\n",
       "      <th>Powershell Modules</th>\n",
       "      <td>4437.983850</td>\n",
       "      <td>147.932795</td>\n",
       "      <td>30</td>\n",
       "    </tr>\n",
       "    <tr>\n",
       "      <th>Azure Functions + PP365</th>\n",
       "      <td>4941.272206</td>\n",
       "      <td>197.650888</td>\n",
       "      <td>25</td>\n",
       "    </tr>\n",
       "    <tr>\n",
       "      <th>OData</th>\n",
       "      <td>5141.504282</td>\n",
       "      <td>342.766952</td>\n",
       "      <td>15</td>\n",
       "    </tr>\n",
       "    <tr>\n",
       "      <th>Home Network Project</th>\n",
       "      <td>5311.843596</td>\n",
       "      <td>279.570716</td>\n",
       "      <td>19</td>\n",
       "    </tr>\n",
       "    <tr>\n",
       "      <th>WSL + Kali Linux</th>\n",
       "      <td>5765.339227</td>\n",
       "      <td>262.060874</td>\n",
       "      <td>22</td>\n",
       "    </tr>\n",
       "    <tr>\n",
       "      <th>Vocab</th>\n",
       "      <td>5860.695829</td>\n",
       "      <td>88.798422</td>\n",
       "      <td>66</td>\n",
       "    </tr>\n",
       "    <tr>\n",
       "      <th>PnP Powershell</th>\n",
       "      <td>6250.749494</td>\n",
       "      <td>164.493408</td>\n",
       "      <td>38</td>\n",
       "    </tr>\n",
       "    <tr>\n",
       "      <th>JavaScript Concepts</th>\n",
       "      <td>6434.723247</td>\n",
       "      <td>105.487266</td>\n",
       "      <td>61</td>\n",
       "    </tr>\n",
       "    <tr>\n",
       "      <th>Logging in Python</th>\n",
       "      <td>7967.104110</td>\n",
       "      <td>132.785068</td>\n",
       "      <td>60</td>\n",
       "    </tr>\n",
       "  </tbody>\n",
       "</table>\n",
       "</div>"
      ],
      "text/plain": [
       "                                            age_sum    age_mean  head_count\n",
       "Powershell                               454.137521   90.827504           5\n",
       "Todd Ideas                               804.949778   53.663319          15\n",
       "PEP 8                                   1320.618981  165.077373           8\n",
       "SharePoint                              1546.732613  128.894384          12\n",
       "Debugging in VS Code                    1749.175743   87.458787          20\n",
       "Terraform                               1789.395067   71.575803          25\n",
       "Azure Functions + Visual Studio         1821.121602  130.080114          14\n",
       "IW Migration                            1975.366653  141.097618          14\n",
       "Open Source/GitHub                      2121.068221  132.566764          16\n",
       "FSLogix                                 2148.075278   89.503137          24\n",
       "Email Auth and Security                 2228.946230  171.457402          13\n",
       "Azure Functions                         2759.382039  250.852913          11\n",
       "DNS                                     2944.895814  184.055988          16\n",
       "Azure AI Search                         3633.253323  259.518095          14\n",
       "Audit Report Tracker (Sharepoint List)  3664.416518  229.026032          16\n",
       "Powershell Modules                      4437.983850  147.932795          30\n",
       "Azure Functions + PP365                 4941.272206  197.650888          25\n",
       "OData                                   5141.504282  342.766952          15\n",
       "Home Network Project                    5311.843596  279.570716          19\n",
       "WSL + Kali Linux                        5765.339227  262.060874          22\n",
       "Vocab                                   5860.695829   88.798422          66\n",
       "PnP Powershell                          6250.749494  164.493408          38\n",
       "JavaScript Concepts                     6434.723247  105.487266          61\n",
       "Logging in Python                       7967.104110  132.785068          60"
      ]
     },
     "execution_count": 22,
     "metadata": {},
     "output_type": "execute_result"
    }
   ],
   "source": [
    "stats = existing_cards.groupby('head').agg({'age': ['sum', 'mean'], 'head': 'count'}).sort_values(('age', 'sum'))\n",
    "stats.columns = stats.columns.to_flat_index()\n",
    "stats.columns = ['_'.join(col).strip() for col in stats.columns]\n",
    "stats.index.name = None\n",
    "stats"
   ]
  },
  {
   "cell_type": "markdown",
   "metadata": {},
   "source": [
    "# Histogram"
   ]
  },
  {
   "cell_type": "code",
   "execution_count": 23,
   "metadata": {},
   "outputs": [
    {
     "name": "stdout",
     "output_type": "stream",
     "text": [
      "83072.75\n"
     ]
    },
    {
     "data": {
      "text/plain": [
       "<Axes: >"
      ]
     },
     "execution_count": 23,
     "metadata": {},
     "output_type": "execute_result"
    },
    {
     "data": {
      "image/png": "[encoded data removed]",
      "text/plain": [
       "<Figure size 640x480 with 1 Axes>"
      ]
     },
     "metadata": {},
     "output_type": "display_data"
    }
   ],
   "source": [
    "print(f\"{existing_cards['age'].sum(0):.2f}\")\n",
    "existing_cards['age'].hist(bins=20)"
   ]
  },
  {
   "cell_type": "markdown",
   "metadata": {},
   "source": [
    "# Completely Random Shuffle"
   ]
  },
  {
   "cell_type": "code",
   "execution_count": 24,
   "metadata": {},
   "outputs": [],
   "source": [
    "# existing_cards = existing_cards.sample(frac=1)\n",
    "# remake_card_document(filename='certcards2.txt', existing_cards = existing_cards)"
   ]
  },
  {
   "cell_type": "markdown",
   "metadata": {},
   "source": [
    "# Age Sort"
   ]
  },
  {
   "cell_type": "code",
   "execution_count": 25,
   "metadata": {},
   "outputs": [],
   "source": [
    "# existing_cards = existing_cards.sort_values('age', ascending=False)\n",
    "# remake_card_document(filename='certcards2.txt', existing_cards=existing_cards)\n",
    "# existing_cards.head(10)"
   ]
  },
  {
   "cell_type": "markdown",
   "metadata": {},
   "source": [
    "# Headers with fewest notes first"
   ]
  },
  {
   "cell_type": "code",
   "execution_count": 26,
   "metadata": {},
   "outputs": [],
   "source": [
    "# frequency = existing_cards['head'].value_counts(ascending=True)\n",
    "\n",
    "# existing_cards = pd.merge(\n",
    "#     left=existing_cards,\n",
    "#     right=frequency.rename('frequency'),\n",
    "#     left_on='head', right_index=True,\n",
    "#     how='left'\n",
    "# )\n",
    "# existing_cards['oldest'] = existing_cards.groupby('head')['age'].transform('max')\n",
    "# existing_cards['subject_highest_age'] = existing_cards['subject_highest_age'] * -1\n",
    "# existing_cards['age'] = existing_cards['age'] * -1\n",
    "\n",
    "\n",
    "# existing_cards.sort_values(['frequency', 'subject_highest_age', 'age'], ascending=True, inplace=True)\n",
    "\n",
    "# remake_card_document(filename='certcards2.txt', existing_cards=existing_cards)\n",
    "\n",
    "# existing_cards.head(10)"
   ]
  },
  {
   "cell_type": "markdown",
   "metadata": {},
   "source": [
    "# Focus on one header"
   ]
  },
  {
   "cell_type": "code",
   "execution_count": 27,
   "metadata": {},
   "outputs": [],
   "source": [
    "# heads = existing_cards['head'].value_counts()\n",
    "# heads = heads[heads > 5].index.tolist()\n",
    "# one_header = random.sample(heads, 1)[0]\n",
    "# existing_cards['pick_head'] = existing_cards['head'].apply(\n",
    "#     lambda h: 0 if h == one_header else 1 \n",
    "# )\n",
    "\n",
    "# remake_card_document(existing_cards=existing_cards.sort_values('pick_head'))"
   ]
  },
  {
   "cell_type": "markdown",
   "metadata": {},
   "source": [
    "## Header with oldest cards first"
   ]
  },
  {
   "cell_type": "code",
   "execution_count": 28,
   "metadata": {},
   "outputs": [],
   "source": [
    "# existing_cards['oldest'] = existing_cards.groupby('head')['age'].transform('max')\n",
    "# existing_cards.sort_values(['oldest', 'age'], ascending=False, inplace=True)\n",
    "# remake_card_document(existing_cards)"
   ]
  },
  {
   "cell_type": "markdown",
   "metadata": {},
   "source": [
    "## Headers with greatest mean card age first"
   ]
  },
  {
   "cell_type": "code",
   "execution_count": 29,
   "metadata": {},
   "outputs": [],
   "source": [
    "# existing_cards.sort_values(['subject_mean_age', 'age'], ascending=False, inplace=True)\n",
    "# remake_card_document(existing_cards)"
   ]
  },
  {
   "cell_type": "markdown",
   "metadata": {},
   "source": [
    "## Headers with greatest age sum first"
   ]
  },
  {
   "cell_type": "code",
   "execution_count": 30,
   "metadata": {},
   "outputs": [],
   "source": [
    "# existing_cards.sort_values(['subject_age_sum', 'age'], ascending=False, inplace=True)\n",
    "# remake_card_document(existing_cards)"
   ]
  },
  {
   "cell_type": "markdown",
   "metadata": {},
   "source": [
    "# N-fold shuffle\n"
   ]
  },
  {
   "cell_type": "markdown",
   "metadata": {},
   "source": [
    "## Age Sum"
   ]
  },
  {
   "cell_type": "code",
   "execution_count": 31,
   "metadata": {},
   "outputs": [],
   "source": [
    "# n=10\n",
    "# existing_cards['count'] = existing_cards.sort_values('age', ascending=False).groupby('head').cumcount()\n",
    "# existing_cards['n_fold'] = existing_cards['count'] // n\n",
    "\n",
    "# existing_cards['subject_age_sum'] = existing_cards['subject_age_sum'] *-1\n",
    "# existing_cards['age'] = existing_cards['age'] *-1\n",
    "# existing_cards.sort_values(['n_fold', 'subject_age_sum', 'age'], inplace=True)\n",
    "\n",
    "# remake_card_document(existing_cards=existing_cards)\n",
    "# existing_cards.head(10)\n"
   ]
  },
  {
   "cell_type": "markdown",
   "metadata": {},
   "source": [
    "## Age Mean"
   ]
  },
  {
   "cell_type": "code",
   "execution_count": 32,
   "metadata": {},
   "outputs": [],
   "source": [
    "# n=3\n",
    "# existing_cards['count'] = existing_cards.sort_values('age', ascending=False).groupby('head').cumcount()\n",
    "# existing_cards['n_fold'] = existing_cards['count'] % n\n",
    "\n",
    "# existing_cards['subject_mean_age'] = existing_cards['subject_mean_age'] *-1\n",
    "# existing_cards['age'] = existing_cards['age'] *-1\n",
    "# existing_cards.sort_values(['n_fold', 'subject_mean_age', 'age'], inplace=True)\n",
    "# remake_card_document(existing_cards=existing_cards)\n",
    "\n",
    "# existing_cards.head(10)\n",
    "\n"
   ]
  },
  {
   "cell_type": "markdown",
   "metadata": {},
   "source": [
    "## Age Max"
   ]
  },
  {
   "cell_type": "code",
   "execution_count": 33,
   "metadata": {},
   "outputs": [
    {
     "name": "stdout",
     "output_type": "stream",
     "text": [
      "Cards found: 559\n"
     ]
    },
    {
     "data": {
      "application/vnd.microsoft.datawrangler.viewer.v0+json": {
       "columns": [
        {
         "name": "index",
         "rawType": "int64",
         "type": "integer"
        },
        {
         "name": "head",
         "rawType": "object",
         "type": "string"
        },
        {
         "name": "body",
         "rawType": "object",
         "type": "string"
        },
        {
         "name": "hash",
         "rawType": "object",
         "type": "string"
        },
        {
         "name": "age",
         "rawType": "float64",
         "type": "float"
        },
        {
         "name": "subject_mean_age",
         "rawType": "float64",
         "type": "float"
        },
        {
         "name": "subject_highest_age",
         "rawType": "float64",
         "type": "float"
        },
        {
         "name": "subject_age_sum",
         "rawType": "float64",
         "type": "float"
        },
        {
         "name": "head_random_roll",
         "rawType": "float64",
         "type": "float"
        },
        {
         "name": "count",
         "rawType": "int64",
         "type": "integer"
        },
        {
         "name": "n_fold",
         "rawType": "int64",
         "type": "integer"
        }
       ],
       "conversionMethod": "pd.DataFrame",
       "ref": "4d59c574-74dc-42e9-a672-14565ca6605c",
       "rows": [
        [
         "0",
         "Audit Report Tracker (Sharepoint List)",
         "Power Automate (Flow) Owner\nDefinition: A user who has full control over a Flow, including the ability to edit, run, and manage its settings.\nContext: Necessary to inspect and modify automation workflows in Power Automate that are tied to SharePoint lists.",
         "8d5e063ee69a83e11e260335f0b685e8",
         "-1236.1048265467164",
         "229.02603234940844",
         "-1236.1048265467164",
         "3664.416517590535",
         "0.33703727345005896",
         "0",
         "0"
        ],
        [
         "1",
         "Audit Report Tracker (Sharepoint List)",
         "Permissions Endpoint (for managing list permissions in SharePoint):\n\nEndpoint: GET https://graph.microsoft.com/v1.0/sites/{site-id}/lists/{list-id}/permissions\nDescription: Retrieves the permissions set for a specific SharePoint list.",
         "eda0eb7c1a3a9b0ebba749a597e46d22",
         "-421.14593386804967",
         "229.02603234940844",
         "-1236.1048265467164",
         "3664.416517590535",
         "0.33703727345005896",
         "1",
         "0"
        ],
        [
         "2",
         "Audit Report Tracker (Sharepoint List)",
         "Site Collection Administrator\nDefinition: A user with full control over a SharePoint site collection, including managing permissions, lists, libraries, and settings.\nContext: Required to access and modify the structure, permissions, and content of a SharePoint site and its associated lists.",
         "c0359d229e67636a45dddedfe736bc8c",
         "-389.57775522382434",
         "229.02603234940844",
         "-1236.1048265467164",
         "3664.416517590535",
         "0.33703727345005896",
         "2",
         "0"
        ],
        [
         "72",
         "Audit Report Tracker (Sharepoint List)",
         "View (SharePoint View)\nDefinition: A pre-defined display of list data, which can filter, sort, and group information in a specific way.\nContext: Views can be customized to show only specific columns, items, or data based on user needs.",
         "c9375efcef5b15bae0f26f4f8d80a3f7",
         "-351.4327480589283",
         "229.02603234940844",
         "-1236.1048265467164",
         "3664.416517590535",
         "0.33703727345005896",
         "3",
         "0"
        ],
        [
         "73",
         "Audit Report Tracker (Sharepoint List)",
         "List Administrator\nDefinition: A user with permissions to manage a specific SharePoint list, including adding columns, modifying views, and setting list-specific permissions.\nContext: Has permissions to edit and configure a specific list within a site.",
         "c04d54d96d16dfd514a229d890d7b6b4",
         "-220.27239703815462",
         "229.02603234940844",
         "-1236.1048265467164",
         "3664.416517590535",
         "0.33703727345005896",
         "4",
         "0"
        ],
        [
         "3",
         "WSL + Kali Linux",
         "wsl.exe and .bashrc\n.bashrc is a script that runs every time you launch a new terminal in WSL. You can use it to set environment variables, customize the prompt, or configure any other startup behavior you want.",
         "fec70ed50be50483db47053b6024bbb4",
         "-1216.2408948418365",
         "262.06087394675285",
         "-1216.2408948418365",
         "5765.3392268285625",
         "0.24616677247213126",
         "0",
         "0"
        ],
        [
         "4",
         "WSL + Kali Linux",
         "wsl Command\nThe primary command-line interface for interacting with WSL instances. It is used to manage and run Linux distributions on Windows.\nCommon options:\nwsl --set-default <distro>: Sets the default Linux distribution for running wsl commands.\nwsl --terminate <distro>: Terminates a running WSL distribution.\nwsl --shutdown: Stops all running WSL instances.",
         "9b93a39837c69c7db3c9152b97cebefd",
         "-729.6841059060079",
         "262.06087394675285",
         "-1216.2408948418365",
         "5765.3392268285625",
         "0.24616677247213126",
         "1",
         "0"
        ],
        [
         "5",
         "WSL + Kali Linux",
         "WSL Performance Tuning\nFor better performance, particularly when running heavier workloads or containers, use a .wslconfig file to adjust resource allocation for WSL 2 (memory, CPU, etc.).\nExample .wslconfig:\nmakefile\nCopy code\n[wsl2]\nmemory=4GB\nprocessors=2",
         "03fec1baebb903eda82ea95f03fe0716",
         "-714.3965455573807",
         "262.06087394675285",
         "-1216.2408948418365",
         "5765.3392268285625",
         "0.24616677247213126",
         "2",
         "0"
        ],
        [
         "75",
         "WSL + Kali Linux",
         "wsl Command\nThe primary command-line interface for interacting with WSL instances. It is used to manage and run Linux distributions on Windows.\nCommon options:\nwsl --list or wsl -l: Lists installed distributions.\nwsl --set-version <distro> 2: Changes the version of a distribution to WSL 2.",
         "2ff6ec8cc28c0d5a7cf021f5b6848f5d",
         "-400.4212416097243",
         "262.06087394675285",
         "-1216.2408948418365",
         "5765.3392268285625",
         "0.24616677247213126",
         "3",
         "0"
        ],
        [
         "76",
         "WSL + Kali Linux",
         "Xorg\nThe open-source implementation of the X Window System (X11). It provides the graphical server for Unix-like operating systems, handling input, output, and screen display for graphical applications.",
         "a9445cafce144bd9f3ea44bda5d2fece",
         "-303.3537128272736",
         "262.06087394675285",
         "-1216.2408948418365",
         "5765.3392268285625",
         "0.24616677247213126",
         "4",
         "0"
        ]
       ],
       "shape": {
        "columns": 10,
        "rows": 10
       }
      },
      "text/html": [
       "<div>\n",
       "<style scoped>\n",
       "    .dataframe tbody tr th:only-of-type {\n",
       "        vertical-align: middle;\n",
       "    }\n",
       "\n",
       "    .dataframe tbody tr th {\n",
       "        vertical-align: top;\n",
       "    }\n",
       "\n",
       "    .dataframe thead th {\n",
       "        text-align: right;\n",
       "    }\n",
       "</style>\n",
       "<table border=\"1\" class=\"dataframe\">\n",
       "  <thead>\n",
       "    <tr style=\"text-align: right;\">\n",
       "      <th></th>\n",
       "      <th>head</th>\n",
       "      <th>body</th>\n",
       "      <th>hash</th>\n",
       "      <th>age</th>\n",
       "      <th>subject_mean_age</th>\n",
       "      <th>subject_highest_age</th>\n",
       "      <th>subject_age_sum</th>\n",
       "      <th>head_random_roll</th>\n",
       "      <th>count</th>\n",
       "      <th>n_fold</th>\n",
       "    </tr>\n",
       "  </thead>\n",
       "  <tbody>\n",
       "    <tr>\n",
       "      <th>0</th>\n",
       "      <td>Audit Report Tracker (Sharepoint List)</td>\n",
       "      <td>Power Automate (Flow) Owner\\nDefinition: A use...</td>\n",
       "      <td>8d5e063ee69a83e11e260335f0b685e8</td>\n",
       "      <td>-1236.104827</td>\n",
       "      <td>229.026032</td>\n",
       "      <td>-1236.104827</td>\n",
       "      <td>3664.416518</td>\n",
       "      <td>0.337037</td>\n",
       "      <td>0</td>\n",
       "      <td>0</td>\n",
       "    </tr>\n",
       "    <tr>\n",
       "      <th>1</th>\n",
       "      <td>Audit Report Tracker (Sharepoint List)</td>\n",
       "      <td>Permissions Endpoint (for managing list permis...</td>\n",
       "      <td>eda0eb7c1a3a9b0ebba749a597e46d22</td>\n",
       "      <td>-421.145934</td>\n",
       "      <td>229.026032</td>\n",
       "      <td>-1236.104827</td>\n",
       "      <td>3664.416518</td>\n",
       "      <td>0.337037</td>\n",
       "      <td>1</td>\n",
       "      <td>0</td>\n",
       "    </tr>\n",
       "    <tr>\n",
       "      <th>2</th>\n",
       "      <td>Audit Report Tracker (Sharepoint List)</td>\n",
       "      <td>Site Collection Administrator\\nDefinition: A u...</td>\n",
       "      <td>c0359d229e67636a45dddedfe736bc8c</td>\n",
       "      <td>-389.577755</td>\n",
       "      <td>229.026032</td>\n",
       "      <td>-1236.104827</td>\n",
       "      <td>3664.416518</td>\n",
       "      <td>0.337037</td>\n",
       "      <td>2</td>\n",
       "      <td>0</td>\n",
       "    </tr>\n",
       "    <tr>\n",
       "      <th>72</th>\n",
       "      <td>Audit Report Tracker (Sharepoint List)</td>\n",
       "      <td>View (SharePoint View)\\nDefinition: A pre-defi...</td>\n",
       "      <td>c9375efcef5b15bae0f26f4f8d80a3f7</td>\n",
       "      <td>-351.432748</td>\n",
       "      <td>229.026032</td>\n",
       "      <td>-1236.104827</td>\n",
       "      <td>3664.416518</td>\n",
       "      <td>0.337037</td>\n",
       "      <td>3</td>\n",
       "      <td>0</td>\n",
       "    </tr>\n",
       "    <tr>\n",
       "      <th>73</th>\n",
       "      <td>Audit Report Tracker (Sharepoint List)</td>\n",
       "      <td>List Administrator\\nDefinition: A user with pe...</td>\n",
       "      <td>c04d54d96d16dfd514a229d890d7b6b4</td>\n",
       "      <td>-220.272397</td>\n",
       "      <td>229.026032</td>\n",
       "      <td>-1236.104827</td>\n",
       "      <td>3664.416518</td>\n",
       "      <td>0.337037</td>\n",
       "      <td>4</td>\n",
       "      <td>0</td>\n",
       "    </tr>\n",
       "    <tr>\n",
       "      <th>3</th>\n",
       "      <td>WSL + Kali Linux</td>\n",
       "      <td>wsl.exe and .bashrc\\n.bashrc is a script that ...</td>\n",
       "      <td>fec70ed50be50483db47053b6024bbb4</td>\n",
       "      <td>-1216.240895</td>\n",
       "      <td>262.060874</td>\n",
       "      <td>-1216.240895</td>\n",
       "      <td>5765.339227</td>\n",
       "      <td>0.246167</td>\n",
       "      <td>0</td>\n",
       "      <td>0</td>\n",
       "    </tr>\n",
       "    <tr>\n",
       "      <th>4</th>\n",
       "      <td>WSL + Kali Linux</td>\n",
       "      <td>wsl Command\\nThe primary command-line interfac...</td>\n",
       "      <td>9b93a39837c69c7db3c9152b97cebefd</td>\n",
       "      <td>-729.684106</td>\n",
       "      <td>262.060874</td>\n",
       "      <td>-1216.240895</td>\n",
       "      <td>5765.339227</td>\n",
       "      <td>0.246167</td>\n",
       "      <td>1</td>\n",
       "      <td>0</td>\n",
       "    </tr>\n",
       "    <tr>\n",
       "      <th>5</th>\n",
       "      <td>WSL + Kali Linux</td>\n",
       "      <td>WSL Performance Tuning\\nFor better performance...</td>\n",
       "      <td>03fec1baebb903eda82ea95f03fe0716</td>\n",
       "      <td>-714.396546</td>\n",
       "      <td>262.060874</td>\n",
       "      <td>-1216.240895</td>\n",
       "      <td>5765.339227</td>\n",
       "      <td>0.246167</td>\n",
       "      <td>2</td>\n",
       "      <td>0</td>\n",
       "    </tr>\n",
       "    <tr>\n",
       "      <th>75</th>\n",
       "      <td>WSL + Kali Linux</td>\n",
       "      <td>wsl Command\\nThe primary command-line interfac...</td>\n",
       "      <td>2ff6ec8cc28c0d5a7cf021f5b6848f5d</td>\n",
       "      <td>-400.421242</td>\n",
       "      <td>262.060874</td>\n",
       "      <td>-1216.240895</td>\n",
       "      <td>5765.339227</td>\n",
       "      <td>0.246167</td>\n",
       "      <td>3</td>\n",
       "      <td>0</td>\n",
       "    </tr>\n",
       "    <tr>\n",
       "      <th>76</th>\n",
       "      <td>WSL + Kali Linux</td>\n",
       "      <td>Xorg\\nThe open-source implementation of the X ...</td>\n",
       "      <td>a9445cafce144bd9f3ea44bda5d2fece</td>\n",
       "      <td>-303.353713</td>\n",
       "      <td>262.060874</td>\n",
       "      <td>-1216.240895</td>\n",
       "      <td>5765.339227</td>\n",
       "      <td>0.246167</td>\n",
       "      <td>4</td>\n",
       "      <td>0</td>\n",
       "    </tr>\n",
       "  </tbody>\n",
       "</table>\n",
       "</div>"
      ],
      "text/plain": [
       "                                      head  \\\n",
       "0   Audit Report Tracker (Sharepoint List)   \n",
       "1   Audit Report Tracker (Sharepoint List)   \n",
       "2   Audit Report Tracker (Sharepoint List)   \n",
       "72  Audit Report Tracker (Sharepoint List)   \n",
       "73  Audit Report Tracker (Sharepoint List)   \n",
       "3                         WSL + Kali Linux   \n",
       "4                         WSL + Kali Linux   \n",
       "5                         WSL + Kali Linux   \n",
       "75                        WSL + Kali Linux   \n",
       "76                        WSL + Kali Linux   \n",
       "\n",
       "                                                 body  \\\n",
       "0   Power Automate (Flow) Owner\\nDefinition: A use...   \n",
       "1   Permissions Endpoint (for managing list permis...   \n",
       "2   Site Collection Administrator\\nDefinition: A u...   \n",
       "72  View (SharePoint View)\\nDefinition: A pre-defi...   \n",
       "73  List Administrator\\nDefinition: A user with pe...   \n",
       "3   wsl.exe and .bashrc\\n.bashrc is a script that ...   \n",
       "4   wsl Command\\nThe primary command-line interfac...   \n",
       "5   WSL Performance Tuning\\nFor better performance...   \n",
       "75  wsl Command\\nThe primary command-line interfac...   \n",
       "76  Xorg\\nThe open-source implementation of the X ...   \n",
       "\n",
       "                                hash          age  subject_mean_age  \\\n",
       "0   8d5e063ee69a83e11e260335f0b685e8 -1236.104827        229.026032   \n",
       "1   eda0eb7c1a3a9b0ebba749a597e46d22  -421.145934        229.026032   \n",
       "2   c0359d229e67636a45dddedfe736bc8c  -389.577755        229.026032   \n",
       "72  c9375efcef5b15bae0f26f4f8d80a3f7  -351.432748        229.026032   \n",
       "73  c04d54d96d16dfd514a229d890d7b6b4  -220.272397        229.026032   \n",
       "3   fec70ed50be50483db47053b6024bbb4 -1216.240895        262.060874   \n",
       "4   9b93a39837c69c7db3c9152b97cebefd  -729.684106        262.060874   \n",
       "5   03fec1baebb903eda82ea95f03fe0716  -714.396546        262.060874   \n",
       "75  2ff6ec8cc28c0d5a7cf021f5b6848f5d  -400.421242        262.060874   \n",
       "76  a9445cafce144bd9f3ea44bda5d2fece  -303.353713        262.060874   \n",
       "\n",
       "    subject_highest_age  subject_age_sum  head_random_roll  count  n_fold  \n",
       "0          -1236.104827      3664.416518          0.337037      0       0  \n",
       "1          -1236.104827      3664.416518          0.337037      1       0  \n",
       "2          -1236.104827      3664.416518          0.337037      2       0  \n",
       "72         -1236.104827      3664.416518          0.337037      3       0  \n",
       "73         -1236.104827      3664.416518          0.337037      4       0  \n",
       "3          -1216.240895      5765.339227          0.246167      0       0  \n",
       "4          -1216.240895      5765.339227          0.246167      1       0  \n",
       "5          -1216.240895      5765.339227          0.246167      2       0  \n",
       "75         -1216.240895      5765.339227          0.246167      3       0  \n",
       "76         -1216.240895      5765.339227          0.246167      4       0  "
      ]
     },
     "execution_count": 33,
     "metadata": {},
     "output_type": "execute_result"
    }
   ],
   "source": [
    "n = 5\n",
    "existing_cards['count'] = existing_cards.sort_values('age', ascending=False).groupby('head').cumcount()\n",
    "existing_cards['n_fold'] = existing_cards['count'] // n\n",
    "\n",
    "existing_cards['subject_highest_age'] = existing_cards['subject_highest_age'] *-1\n",
    "existing_cards['age'] = existing_cards['age'] *-1\n",
    "existing_cards.sort_values(['n_fold', 'subject_highest_age', 'age'], inplace=True)\n",
    "\n",
    "remake_card_document(existing_cards=existing_cards)\n",
    "existing_cards.head(10)\n"
   ]
  },
  {
   "cell_type": "markdown",
   "metadata": {},
   "source": [
    "## Card Count"
   ]
  },
  {
   "cell_type": "code",
   "execution_count": 34,
   "metadata": {},
   "outputs": [],
   "source": [
    "# n=10\n",
    "# existing_cards['frequency']  = existing_cards.groupby('head').transform('count')['body']\n",
    "# existing_cards['count'] = existing_cards.sort_values('age', ascending=False).groupby('head').cumcount()\n",
    "# existing_cards['n_fold'] = existing_cards['count'] // n\n",
    "\n",
    "# existing_cards['subject_mean_age'] = existing_cards['subject_mean_age'] *-1\n",
    "# existing_cards['age'] = existing_cards['age'] *-1\n",
    "# existing_cards.sort_values(['n_fold', 'frequency', 'age'], inplace=True)\n",
    "# remake_card_document(existing_cards=existing_cards)\n",
    "\n",
    "# existing_cards.head(10)\n",
    "\n"
   ]
  },
  {
   "cell_type": "markdown",
   "metadata": {},
   "source": [
    "\n",
    "## Random"
   ]
  },
  {
   "cell_type": "code",
   "execution_count": 35,
   "metadata": {},
   "outputs": [],
   "source": [
    "# n = 3\n",
    "# existing_cards['count'] = existing_cards.sort_values('age', ascending=False).groupby('head').cumcount()\n",
    "# existing_cards['n_fold'] = existing_cards['count'] % n\n",
    "# existing_cards['age'] *= -1\n",
    "# existing_cards.sort_values(['n_fold', 'head_random_roll', 'age'], inplace=True)\n",
    "# remake_card_document(existing_cards=existing_cards)\n",
    "# existing_cards.head(10)"
   ]
  },
  {
   "cell_type": "code",
   "execution_count": 36,
   "metadata": {},
   "outputs": [
    {
     "data": {
      "application/vnd.microsoft.datawrangler.viewer.v0+json": {
       "columns": [
        {
         "name": "index",
         "rawType": "int64",
         "type": "integer"
        },
        {
         "name": "head",
         "rawType": "object",
         "type": "string"
        },
        {
         "name": "body",
         "rawType": "object",
         "type": "string"
        },
        {
         "name": "hash",
         "rawType": "object",
         "type": "string"
        },
        {
         "name": "age",
         "rawType": "float64",
         "type": "float"
        },
        {
         "name": "subject_mean_age",
         "rawType": "float64",
         "type": "float"
        },
        {
         "name": "subject_highest_age",
         "rawType": "float64",
         "type": "float"
        },
        {
         "name": "subject_age_sum",
         "rawType": "float64",
         "type": "float"
        },
        {
         "name": "head_random_roll",
         "rawType": "float64",
         "type": "float"
        },
        {
         "name": "count",
         "rawType": "int64",
         "type": "integer"
        },
        {
         "name": "n_fold",
         "rawType": "int64",
         "type": "integer"
        }
       ],
       "conversionMethod": "pd.DataFrame",
       "ref": "acc6881d-2456-4c64-9afc-c8545b1100e4",
       "rows": [
        [
         "0",
         "Audit Report Tracker (Sharepoint List)",
         "Power Automate (Flow) Owner\nDefinition: A user who has full control over a Flow, including the ability to edit, run, and manage its settings.\nContext: Necessary to inspect and modify automation workflows in Power Automate that are tied to SharePoint lists.",
         "8d5e063ee69a83e11e260335f0b685e8",
         "-1236.1048265467164",
         "229.02603234940844",
         "-1236.1048265467164",
         "3664.416517590535",
         "0.33703727345005896",
         "0",
         "0"
        ],
        [
         "1",
         "Audit Report Tracker (Sharepoint List)",
         "Permissions Endpoint (for managing list permissions in SharePoint):\n\nEndpoint: GET https://graph.microsoft.com/v1.0/sites/{site-id}/lists/{list-id}/permissions\nDescription: Retrieves the permissions set for a specific SharePoint list.",
         "eda0eb7c1a3a9b0ebba749a597e46d22",
         "-421.14593386804967",
         "229.02603234940844",
         "-1236.1048265467164",
         "3664.416517590535",
         "0.33703727345005896",
         "1",
         "0"
        ],
        [
         "2",
         "Audit Report Tracker (Sharepoint List)",
         "Site Collection Administrator\nDefinition: A user with full control over a SharePoint site collection, including managing permissions, lists, libraries, and settings.\nContext: Required to access and modify the structure, permissions, and content of a SharePoint site and its associated lists.",
         "c0359d229e67636a45dddedfe736bc8c",
         "-389.57775522382434",
         "229.02603234940844",
         "-1236.1048265467164",
         "3664.416517590535",
         "0.33703727345005896",
         "2",
         "0"
        ],
        [
         "72",
         "Audit Report Tracker (Sharepoint List)",
         "View (SharePoint View)\nDefinition: A pre-defined display of list data, which can filter, sort, and group information in a specific way.\nContext: Views can be customized to show only specific columns, items, or data based on user needs.",
         "c9375efcef5b15bae0f26f4f8d80a3f7",
         "-351.4327480589283",
         "229.02603234940844",
         "-1236.1048265467164",
         "3664.416517590535",
         "0.33703727345005896",
         "3",
         "0"
        ],
        [
         "73",
         "Audit Report Tracker (Sharepoint List)",
         "List Administrator\nDefinition: A user with permissions to manage a specific SharePoint list, including adding columns, modifying views, and setting list-specific permissions.\nContext: Has permissions to edit and configure a specific list within a site.",
         "c04d54d96d16dfd514a229d890d7b6b4",
         "-220.27239703815462",
         "229.02603234940844",
         "-1236.1048265467164",
         "3664.416517590535",
         "0.33703727345005896",
         "4",
         "0"
        ],
        [
         "3",
         "WSL + Kali Linux",
         "wsl.exe and .bashrc\n.bashrc is a script that runs every time you launch a new terminal in WSL. You can use it to set environment variables, customize the prompt, or configure any other startup behavior you want.",
         "fec70ed50be50483db47053b6024bbb4",
         "-1216.2408948418365",
         "262.06087394675285",
         "-1216.2408948418365",
         "5765.3392268285625",
         "0.24616677247213126",
         "0",
         "0"
        ],
        [
         "4",
         "WSL + Kali Linux",
         "wsl Command\nThe primary command-line interface for interacting with WSL instances. It is used to manage and run Linux distributions on Windows.\nCommon options:\nwsl --set-default <distro>: Sets the default Linux distribution for running wsl commands.\nwsl --terminate <distro>: Terminates a running WSL distribution.\nwsl --shutdown: Stops all running WSL instances.",
         "9b93a39837c69c7db3c9152b97cebefd",
         "-729.6841059060079",
         "262.06087394675285",
         "-1216.2408948418365",
         "5765.3392268285625",
         "0.24616677247213126",
         "1",
         "0"
        ],
        [
         "5",
         "WSL + Kali Linux",
         "WSL Performance Tuning\nFor better performance, particularly when running heavier workloads or containers, use a .wslconfig file to adjust resource allocation for WSL 2 (memory, CPU, etc.).\nExample .wslconfig:\nmakefile\nCopy code\n[wsl2]\nmemory=4GB\nprocessors=2",
         "03fec1baebb903eda82ea95f03fe0716",
         "-714.3965455573807",
         "262.06087394675285",
         "-1216.2408948418365",
         "5765.3392268285625",
         "0.24616677247213126",
         "2",
         "0"
        ],
        [
         "75",
         "WSL + Kali Linux",
         "wsl Command\nThe primary command-line interface for interacting with WSL instances. It is used to manage and run Linux distributions on Windows.\nCommon options:\nwsl --list or wsl -l: Lists installed distributions.\nwsl --set-version <distro> 2: Changes the version of a distribution to WSL 2.",
         "2ff6ec8cc28c0d5a7cf021f5b6848f5d",
         "-400.4212416097243",
         "262.06087394675285",
         "-1216.2408948418365",
         "5765.3392268285625",
         "0.24616677247213126",
         "3",
         "0"
        ],
        [
         "76",
         "WSL + Kali Linux",
         "Xorg\nThe open-source implementation of the X Window System (X11). It provides the graphical server for Unix-like operating systems, handling input, output, and screen display for graphical applications.",
         "a9445cafce144bd9f3ea44bda5d2fece",
         "-303.3537128272736",
         "262.06087394675285",
         "-1216.2408948418365",
         "5765.3392268285625",
         "0.24616677247213126",
         "4",
         "0"
        ]
       ],
       "shape": {
        "columns": 10,
        "rows": 10
       }
      },
      "text/html": [
       "<div>\n",
       "<style scoped>\n",
       "    .dataframe tbody tr th:only-of-type {\n",
       "        vertical-align: middle;\n",
       "    }\n",
       "\n",
       "    .dataframe tbody tr th {\n",
       "        vertical-align: top;\n",
       "    }\n",
       "\n",
       "    .dataframe thead th {\n",
       "        text-align: right;\n",
       "    }\n",
       "</style>\n",
       "<table border=\"1\" class=\"dataframe\">\n",
       "  <thead>\n",
       "    <tr style=\"text-align: right;\">\n",
       "      <th></th>\n",
       "      <th>head</th>\n",
       "      <th>body</th>\n",
       "      <th>hash</th>\n",
       "      <th>age</th>\n",
       "      <th>subject_mean_age</th>\n",
       "      <th>subject_highest_age</th>\n",
       "      <th>subject_age_sum</th>\n",
       "      <th>head_random_roll</th>\n",
       "      <th>count</th>\n",
       "      <th>n_fold</th>\n",
       "    </tr>\n",
       "  </thead>\n",
       "  <tbody>\n",
       "    <tr>\n",
       "      <th>0</th>\n",
       "      <td>Audit Report Tracker (Sharepoint List)</td>\n",
       "      <td>Power Automate (Flow) Owner\\nDefinition: A use...</td>\n",
       "      <td>8d5e063ee69a83e11e260335f0b685e8</td>\n",
       "      <td>-1236.104827</td>\n",
       "      <td>229.026032</td>\n",
       "      <td>-1236.104827</td>\n",
       "      <td>3664.416518</td>\n",
       "      <td>0.337037</td>\n",
       "      <td>0</td>\n",
       "      <td>0</td>\n",
       "    </tr>\n",
       "    <tr>\n",
       "      <th>1</th>\n",
       "      <td>Audit Report Tracker (Sharepoint List)</td>\n",
       "      <td>Permissions Endpoint (for managing list permis...</td>\n",
       "      <td>eda0eb7c1a3a9b0ebba749a597e46d22</td>\n",
       "      <td>-421.145934</td>\n",
       "      <td>229.026032</td>\n",
       "      <td>-1236.104827</td>\n",
       "      <td>3664.416518</td>\n",
       "      <td>0.337037</td>\n",
       "      <td>1</td>\n",
       "      <td>0</td>\n",
       "    </tr>\n",
       "    <tr>\n",
       "      <th>2</th>\n",
       "      <td>Audit Report Tracker (Sharepoint List)</td>\n",
       "      <td>Site Collection Administrator\\nDefinition: A u...</td>\n",
       "      <td>c0359d229e67636a45dddedfe736bc8c</td>\n",
       "      <td>-389.577755</td>\n",
       "      <td>229.026032</td>\n",
       "      <td>-1236.104827</td>\n",
       "      <td>3664.416518</td>\n",
       "      <td>0.337037</td>\n",
       "      <td>2</td>\n",
       "      <td>0</td>\n",
       "    </tr>\n",
       "    <tr>\n",
       "      <th>72</th>\n",
       "      <td>Audit Report Tracker (Sharepoint List)</td>\n",
       "      <td>View (SharePoint View)\\nDefinition: A pre-defi...</td>\n",
       "      <td>c9375efcef5b15bae0f26f4f8d80a3f7</td>\n",
       "      <td>-351.432748</td>\n",
       "      <td>229.026032</td>\n",
       "      <td>-1236.104827</td>\n",
       "      <td>3664.416518</td>\n",
       "      <td>0.337037</td>\n",
       "      <td>3</td>\n",
       "      <td>0</td>\n",
       "    </tr>\n",
       "    <tr>\n",
       "      <th>73</th>\n",
       "      <td>Audit Report Tracker (Sharepoint List)</td>\n",
       "      <td>List Administrator\\nDefinition: A user with pe...</td>\n",
       "      <td>c04d54d96d16dfd514a229d890d7b6b4</td>\n",
       "      <td>-220.272397</td>\n",
       "      <td>229.026032</td>\n",
       "      <td>-1236.104827</td>\n",
       "      <td>3664.416518</td>\n",
       "      <td>0.337037</td>\n",
       "      <td>4</td>\n",
       "      <td>0</td>\n",
       "    </tr>\n",
       "    <tr>\n",
       "      <th>3</th>\n",
       "      <td>WSL + Kali Linux</td>\n",
       "      <td>wsl.exe and .bashrc\\n.bashrc is a script that ...</td>\n",
       "      <td>fec70ed50be50483db47053b6024bbb4</td>\n",
       "      <td>-1216.240895</td>\n",
       "      <td>262.060874</td>\n",
       "      <td>-1216.240895</td>\n",
       "      <td>5765.339227</td>\n",
       "      <td>0.246167</td>\n",
       "      <td>0</td>\n",
       "      <td>0</td>\n",
       "    </tr>\n",
       "    <tr>\n",
       "      <th>4</th>\n",
       "      <td>WSL + Kali Linux</td>\n",
       "      <td>wsl Command\\nThe primary command-line interfac...</td>\n",
       "      <td>9b93a39837c69c7db3c9152b97cebefd</td>\n",
       "      <td>-729.684106</td>\n",
       "      <td>262.060874</td>\n",
       "      <td>-1216.240895</td>\n",
       "      <td>5765.339227</td>\n",
       "      <td>0.246167</td>\n",
       "      <td>1</td>\n",
       "      <td>0</td>\n",
       "    </tr>\n",
       "    <tr>\n",
       "      <th>5</th>\n",
       "      <td>WSL + Kali Linux</td>\n",
       "      <td>WSL Performance Tuning\\nFor better performance...</td>\n",
       "      <td>03fec1baebb903eda82ea95f03fe0716</td>\n",
       "      <td>-714.396546</td>\n",
       "      <td>262.060874</td>\n",
       "      <td>-1216.240895</td>\n",
       "      <td>5765.339227</td>\n",
       "      <td>0.246167</td>\n",
       "      <td>2</td>\n",
       "      <td>0</td>\n",
       "    </tr>\n",
       "    <tr>\n",
       "      <th>75</th>\n",
       "      <td>WSL + Kali Linux</td>\n",
       "      <td>wsl Command\\nThe primary command-line interfac...</td>\n",
       "      <td>2ff6ec8cc28c0d5a7cf021f5b6848f5d</td>\n",
       "      <td>-400.421242</td>\n",
       "      <td>262.060874</td>\n",
       "      <td>-1216.240895</td>\n",
       "      <td>5765.339227</td>\n",
       "      <td>0.246167</td>\n",
       "      <td>3</td>\n",
       "      <td>0</td>\n",
       "    </tr>\n",
       "    <tr>\n",
       "      <th>76</th>\n",
       "      <td>WSL + Kali Linux</td>\n",
       "      <td>Xorg\\nThe open-source implementation of the X ...</td>\n",
       "      <td>a9445cafce144bd9f3ea44bda5d2fece</td>\n",
       "      <td>-303.353713</td>\n",
       "      <td>262.060874</td>\n",
       "      <td>-1216.240895</td>\n",
       "      <td>5765.339227</td>\n",
       "      <td>0.246167</td>\n",
       "      <td>4</td>\n",
       "      <td>0</td>\n",
       "    </tr>\n",
       "  </tbody>\n",
       "</table>\n",
       "</div>"
      ],
      "text/plain": [
       "                                      head  \\\n",
       "0   Audit Report Tracker (Sharepoint List)   \n",
       "1   Audit Report Tracker (Sharepoint List)   \n",
       "2   Audit Report Tracker (Sharepoint List)   \n",
       "72  Audit Report Tracker (Sharepoint List)   \n",
       "73  Audit Report Tracker (Sharepoint List)   \n",
       "3                         WSL + Kali Linux   \n",
       "4                         WSL + Kali Linux   \n",
       "5                         WSL + Kali Linux   \n",
       "75                        WSL + Kali Linux   \n",
       "76                        WSL + Kali Linux   \n",
       "\n",
       "                                                 body  \\\n",
       "0   Power Automate (Flow) Owner\\nDefinition: A use...   \n",
       "1   Permissions Endpoint (for managing list permis...   \n",
       "2   Site Collection Administrator\\nDefinition: A u...   \n",
       "72  View (SharePoint View)\\nDefinition: A pre-defi...   \n",
       "73  List Administrator\\nDefinition: A user with pe...   \n",
       "3   wsl.exe and .bashrc\\n.bashrc is a script that ...   \n",
       "4   wsl Command\\nThe primary command-line interfac...   \n",
       "5   WSL Performance Tuning\\nFor better performance...   \n",
       "75  wsl Command\\nThe primary command-line interfac...   \n",
       "76  Xorg\\nThe open-source implementation of the X ...   \n",
       "\n",
       "                                hash          age  subject_mean_age  \\\n",
       "0   8d5e063ee69a83e11e260335f0b685e8 -1236.104827        229.026032   \n",
       "1   eda0eb7c1a3a9b0ebba749a597e46d22  -421.145934        229.026032   \n",
       "2   c0359d229e67636a45dddedfe736bc8c  -389.577755        229.026032   \n",
       "72  c9375efcef5b15bae0f26f4f8d80a3f7  -351.432748        229.026032   \n",
       "73  c04d54d96d16dfd514a229d890d7b6b4  -220.272397        229.026032   \n",
       "3   fec70ed50be50483db47053b6024bbb4 -1216.240895        262.060874   \n",
       "4   9b93a39837c69c7db3c9152b97cebefd  -729.684106        262.060874   \n",
       "5   03fec1baebb903eda82ea95f03fe0716  -714.396546        262.060874   \n",
       "75  2ff6ec8cc28c0d5a7cf021f5b6848f5d  -400.421242        262.060874   \n",
       "76  a9445cafce144bd9f3ea44bda5d2fece  -303.353713        262.060874   \n",
       "\n",
       "    subject_highest_age  subject_age_sum  head_random_roll  count  n_fold  \n",
       "0          -1236.104827      3664.416518          0.337037      0       0  \n",
       "1          -1236.104827      3664.416518          0.337037      1       0  \n",
       "2          -1236.104827      3664.416518          0.337037      2       0  \n",
       "72         -1236.104827      3664.416518          0.337037      3       0  \n",
       "73         -1236.104827      3664.416518          0.337037      4       0  \n",
       "3          -1216.240895      5765.339227          0.246167      0       0  \n",
       "4          -1216.240895      5765.339227          0.246167      1       0  \n",
       "5          -1216.240895      5765.339227          0.246167      2       0  \n",
       "75         -1216.240895      5765.339227          0.246167      3       0  \n",
       "76         -1216.240895      5765.339227          0.246167      4       0  "
      ]
     },
     "execution_count": 36,
     "metadata": {},
     "output_type": "execute_result"
    }
   ],
   "source": [
    "existing_cards.head(10)"
   ]
  },
  {
   "cell_type": "code",
   "execution_count": 37,
   "metadata": {},
   "outputs": [
    {
     "data": {
      "text/plain": [
       "-148.60957284503107"
      ]
     },
     "execution_count": 37,
     "metadata": {},
     "output_type": "execute_result"
    }
   ],
   "source": [
    "existing_cards['age'].mean()"
   ]
  }
 ],
 "metadata": {
  "kernelspec": {
   "display_name": "Python 3",
   "language": "python",
   "name": "python3"
  },
  "language_info": {
   "codemirror_mode": {
    "name": "ipython",
    "version": 3
   },
   "file_extension": ".py",
   "mimetype": "text/x-python",
   "name": "python",
   "nbconvert_exporter": "python",
   "pygments_lexer": "ipython3",
   "version": "3.10.10"
  }
 },
 "nbformat": 4,
 "nbformat_minor": 2
}
