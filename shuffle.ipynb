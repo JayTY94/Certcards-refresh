{
 "cells": [
  {
   "cell_type": "code",
   "execution_count": 19,
   "metadata": {},
   "outputs": [],
   "source": [
    "import re\n",
    "import random\n",
    "import pandas as pd\n",
    "import hashlib"
   ]
  },
  {
   "cell_type": "code",
   "execution_count": 20,
   "metadata": {},
   "outputs": [],
   "source": [
    "with open('certcards2.txt', mode='r', encoding='utf8') as f:\n",
    "    all_cards = f.read()\n",
    "    \n",
    "card_split_pattern = r'\\n\\n\\n\\d+\\n'\n",
    "all_cards = re.split(card_split_pattern, all_cards)\n",
    "# Use re.DOTALL to allow . to match newline characters\n",
    "card_pattern = re.compile(r'(.+?)\\n([\\s\\S]+)', re.DOTALL)\n",
    "cards = [(match.group(1), match.group(2)) for cstring in all_cards if (match := re.search(card_pattern, cstring))]\n",
    "\n",
    "# removing the cards that have no content and trimming\n",
    "cards = [(subject, stripped_content) for subject, content in cards if len(stripped_content := content.strip()) > 5]\n",
    "\n",
    "def hash_string_md5(s):\n",
    "    \"\"\"\n",
    "    Hashes a string using MD5 and returns a truncated hash for efficiency.\n",
    "\n",
    "    Parameters:\n",
    "    - s (str): The input string to hash.\n",
    "\n",
    "    Returns:\n",
    "    - str: The truncated hexadecimal hash string.\n",
    "    \"\"\"\n",
    "    if pd.isnull(s):\n",
    "        return None  # Handle NaN values gracefully\n",
    "    return hashlib.md5(s.encode('utf-8')).hexdigest()  # Truncate to first 12 characters\n",
    "\n",
    "\n",
    "def remake_card_document(existing_cards: pd.DataFrame, filename: str='certcards2.txt'):\n",
    "    with open(filename, mode='w', encoding='utf8') as f:\n",
    "        i = 1\n",
    "        for _, row in existing_cards.iterrows():\n",
    "            f.write('\\n'*6)\n",
    "            f.write(str(i)+'\\n')  \n",
    "            f.write(row['head']+'\\n')\n",
    "            f.write(row['body'])\n",
    "            i+=1\n",
    "    print(F\"Cards found: {existing_cards.shape[0]}\")\n",
    "\n",
    "\n",
    "existing_cards = pd.DataFrame(cards, columns=['head', 'body'])\n",
    "\n",
    "\n",
    "# existing_cards['age'] = [random.random() for _ in existing_cards.index]\n",
    "existing_cards['hash'] = existing_cards['body'].apply(hash_string_md5)\n",
    "existing_cards\n",
    "\n",
    "card_ages = pd.read_json('card_ages.json')\n",
    "card_ages = card_ages.drop_duplicates(subset=['hash'], keep='first')\n",
    "\n",
    "cards_to_age = pd.merge(\n",
    "    left=existing_cards,\n",
    "    right=card_ages[['hash', 'age']],\n",
    "    left_on='hash', right_on='hash',\n",
    "    how='left'\n",
    ")\n",
    "\n",
    "cards_to_age['head'] = cards_to_age['head'].str.strip()\n",
    "\n",
    "if cards_to_age['age'].sum() > 2e4: age_factor = 1\n",
    "else: age_factor = 1.00\n",
    "\n",
    "cards_to_age['age'] = cards_to_age['age'].fillna(0)\n",
    "cards_to_age['age'] = cards_to_age['age'] * age_factor\n",
    "cards_to_age['age'] = cards_to_age['age'] + [random.expovariate(.60) for _ in cards_to_age.index]\n",
    "# cards_to_age['age'] = cards_to_age['age'] * [random.expovariate(.5) for _ in cards_to_age.index]\n",
    "\n",
    "\n",
    "cards_to_age = cards_to_age.drop_duplicates(subset=['hash'], keep='first')\n",
    "\n",
    "cards_to_age['subject_mean_age'] = cards_to_age.groupby('head')['age'].transform('mean')\n",
    "cards_to_age['subject_highest_age'] = cards_to_age.groupby('head')['age'].transform('max')\n",
    "cards_to_age['subject_age_sum'] = cards_to_age.groupby('head')['age'].transform('sum')\n",
    "cards_to_age['head_random_roll'] = cards_to_age.groupby('head')['head'].transform(lambda x: random.random())\n",
    "\n",
    "\n",
    "cards_to_age.sort_values('age')[['age', 'head', 'hash']].to_json('card_ages.json', indent=2)\n",
    "\n",
    "existing_cards = cards_to_age"
   ]
  },
  {
   "cell_type": "code",
   "execution_count": 21,
   "metadata": {},
   "outputs": [
    {
     "data": {
      "application/vnd.microsoft.datawrangler.viewer.v0+json": {
       "columns": [
        {
         "name": "index",
         "rawType": "object",
         "type": "string"
        },
        {
         "name": "age_sum",
         "rawType": "float64",
         "type": "float"
        },
        {
         "name": "age_mean",
         "rawType": "float64",
         "type": "float"
        },
        {
         "name": "head_count",
         "rawType": "int64",
         "type": "integer"
        }
       ],
       "conversionMethod": "pd.DataFrame",
       "ref": "ccd59e99-9e1f-40bd-869b-999f4360a52b",
       "rows": [
        [
         "Search Engine Optimization",
         "94.17634503471618",
         "47.08817251735809",
         "2"
        ],
        [
         "Todd Ideas",
         "102.01132521699779",
         "6.800755014466519",
         "15"
        ],
        [
         "Terraform",
         "406.8911670390915",
         "16.27564668156366",
         "25"
        ],
        [
         "Powershell",
         "427.6141642068686",
         "42.761416420686864",
         "10"
        ],
        [
         "FSLogix",
         "965.8275457549884",
         "40.242814406457846",
         "24"
        ],
        [
         "Email Auth and Security",
         "1088.182574073529",
         "83.70635185180991",
         "13"
        ],
        [
         "Azure Functions + Visual Studio",
         "1100.4120642729117",
         "78.60086173377941",
         "14"
        ],
        [
         "Audit Report Tracker (Sharepoint List)",
         "1111.095651467835",
         "69.44347821673969",
         "16"
        ],
        [
         "OData",
         "1279.2583552143421",
         "85.28389034762282",
         "15"
        ],
        [
         "DNS",
         "1281.386760930936",
         "80.0866725581835",
         "16"
        ],
        [
         "Azure AI Search",
         "1368.3059259048741",
         "97.73613756463386",
         "14"
        ],
        [
         "Home Network Project",
         "1408.4409782597136",
         "74.12847253998493",
         "19"
        ],
        [
         "Debugging in VS Code",
         "1607.3142873221202",
         "69.88322988357045",
         "23"
        ],
        [
         "Azure Functions + PP365",
         "1743.1468019567012",
         "69.72587207826805",
         "25"
        ],
        [
         "Vocab",
         "1785.6759480475814",
         "31.887070500849667",
         "56"
        ],
        [
         "Open Source/GitHub",
         "1804.6200307670629",
         "90.23100153835314",
         "20"
        ],
        [
         "SharePoint",
         "1928.566371141387",
         "113.4450806553757",
         "17"
        ],
        [
         "Azure Functions",
         "2042.6434305457442",
         "127.66521440910901",
         "16"
        ],
        [
         "IW Migration",
         "2054.208260571527",
         "102.71041302857634",
         "20"
        ],
        [
         "JavaScript Concepts",
         "2124.8083612673126",
         "29.92687832770863",
         "71"
        ],
        [
         "Powershell Modules",
         "2354.6166819999567",
         "78.48722273333189",
         "30"
        ],
        [
         "WSL + Kali Linux",
         "2365.9830549172802",
         "107.54468431442183",
         "22"
        ],
        [
         "PEP 8",
         "2436.9732751626475",
         "128.26175132434986",
         "19"
        ],
        [
         "PnP Powershell",
         "2456.3415936821934",
         "64.64056825479456",
         "38"
        ],
        [
         "Logging in Python",
         "2578.9017391737934",
         "103.15606956695174",
         "25"
        ],
        [
         "Network Mapping",
         "2746.830509274721",
         "137.34152546373605",
         "20"
        ]
       ],
       "shape": {
        "columns": 3,
        "rows": 26
       }
      },
      "text/html": [
       "<div>\n",
       "<style scoped>\n",
       "    .dataframe tbody tr th:only-of-type {\n",
       "        vertical-align: middle;\n",
       "    }\n",
       "\n",
       "    .dataframe tbody tr th {\n",
       "        vertical-align: top;\n",
       "    }\n",
       "\n",
       "    .dataframe thead th {\n",
       "        text-align: right;\n",
       "    }\n",
       "</style>\n",
       "<table border=\"1\" class=\"dataframe\">\n",
       "  <thead>\n",
       "    <tr style=\"text-align: right;\">\n",
       "      <th></th>\n",
       "      <th>age_sum</th>\n",
       "      <th>age_mean</th>\n",
       "      <th>head_count</th>\n",
       "    </tr>\n",
       "  </thead>\n",
       "  <tbody>\n",
       "    <tr>\n",
       "      <th>Search Engine Optimization</th>\n",
       "      <td>94.176345</td>\n",
       "      <td>47.088173</td>\n",
       "      <td>2</td>\n",
       "    </tr>\n",
       "    <tr>\n",
       "      <th>Todd Ideas</th>\n",
       "      <td>102.011325</td>\n",
       "      <td>6.800755</td>\n",
       "      <td>15</td>\n",
       "    </tr>\n",
       "    <tr>\n",
       "      <th>Terraform</th>\n",
       "      <td>406.891167</td>\n",
       "      <td>16.275647</td>\n",
       "      <td>25</td>\n",
       "    </tr>\n",
       "    <tr>\n",
       "      <th>Powershell</th>\n",
       "      <td>427.614164</td>\n",
       "      <td>42.761416</td>\n",
       "      <td>10</td>\n",
       "    </tr>\n",
       "    <tr>\n",
       "      <th>FSLogix</th>\n",
       "      <td>965.827546</td>\n",
       "      <td>40.242814</td>\n",
       "      <td>24</td>\n",
       "    </tr>\n",
       "    <tr>\n",
       "      <th>Email Auth and Security</th>\n",
       "      <td>1088.182574</td>\n",
       "      <td>83.706352</td>\n",
       "      <td>13</td>\n",
       "    </tr>\n",
       "    <tr>\n",
       "      <th>Azure Functions + Visual Studio</th>\n",
       "      <td>1100.412064</td>\n",
       "      <td>78.600862</td>\n",
       "      <td>14</td>\n",
       "    </tr>\n",
       "    <tr>\n",
       "      <th>Audit Report Tracker (Sharepoint List)</th>\n",
       "      <td>1111.095651</td>\n",
       "      <td>69.443478</td>\n",
       "      <td>16</td>\n",
       "    </tr>\n",
       "    <tr>\n",
       "      <th>OData</th>\n",
       "      <td>1279.258355</td>\n",
       "      <td>85.283890</td>\n",
       "      <td>15</td>\n",
       "    </tr>\n",
       "    <tr>\n",
       "      <th>DNS</th>\n",
       "      <td>1281.386761</td>\n",
       "      <td>80.086673</td>\n",
       "      <td>16</td>\n",
       "    </tr>\n",
       "    <tr>\n",
       "      <th>Azure AI Search</th>\n",
       "      <td>1368.305926</td>\n",
       "      <td>97.736138</td>\n",
       "      <td>14</td>\n",
       "    </tr>\n",
       "    <tr>\n",
       "      <th>Home Network Project</th>\n",
       "      <td>1408.440978</td>\n",
       "      <td>74.128473</td>\n",
       "      <td>19</td>\n",
       "    </tr>\n",
       "    <tr>\n",
       "      <th>Debugging in VS Code</th>\n",
       "      <td>1607.314287</td>\n",
       "      <td>69.883230</td>\n",
       "      <td>23</td>\n",
       "    </tr>\n",
       "    <tr>\n",
       "      <th>Azure Functions + PP365</th>\n",
       "      <td>1743.146802</td>\n",
       "      <td>69.725872</td>\n",
       "      <td>25</td>\n",
       "    </tr>\n",
       "    <tr>\n",
       "      <th>Vocab</th>\n",
       "      <td>1785.675948</td>\n",
       "      <td>31.887071</td>\n",
       "      <td>56</td>\n",
       "    </tr>\n",
       "    <tr>\n",
       "      <th>Open Source/GitHub</th>\n",
       "      <td>1804.620031</td>\n",
       "      <td>90.231002</td>\n",
       "      <td>20</td>\n",
       "    </tr>\n",
       "    <tr>\n",
       "      <th>SharePoint</th>\n",
       "      <td>1928.566371</td>\n",
       "      <td>113.445081</td>\n",
       "      <td>17</td>\n",
       "    </tr>\n",
       "    <tr>\n",
       "      <th>Azure Functions</th>\n",
       "      <td>2042.643431</td>\n",
       "      <td>127.665214</td>\n",
       "      <td>16</td>\n",
       "    </tr>\n",
       "    <tr>\n",
       "      <th>IW Migration</th>\n",
       "      <td>2054.208261</td>\n",
       "      <td>102.710413</td>\n",
       "      <td>20</td>\n",
       "    </tr>\n",
       "    <tr>\n",
       "      <th>JavaScript Concepts</th>\n",
       "      <td>2124.808361</td>\n",
       "      <td>29.926878</td>\n",
       "      <td>71</td>\n",
       "    </tr>\n",
       "    <tr>\n",
       "      <th>Powershell Modules</th>\n",
       "      <td>2354.616682</td>\n",
       "      <td>78.487223</td>\n",
       "      <td>30</td>\n",
       "    </tr>\n",
       "    <tr>\n",
       "      <th>WSL + Kali Linux</th>\n",
       "      <td>2365.983055</td>\n",
       "      <td>107.544684</td>\n",
       "      <td>22</td>\n",
       "    </tr>\n",
       "    <tr>\n",
       "      <th>PEP 8</th>\n",
       "      <td>2436.973275</td>\n",
       "      <td>128.261751</td>\n",
       "      <td>19</td>\n",
       "    </tr>\n",
       "    <tr>\n",
       "      <th>PnP Powershell</th>\n",
       "      <td>2456.341594</td>\n",
       "      <td>64.640568</td>\n",
       "      <td>38</td>\n",
       "    </tr>\n",
       "    <tr>\n",
       "      <th>Logging in Python</th>\n",
       "      <td>2578.901739</td>\n",
       "      <td>103.156070</td>\n",
       "      <td>25</td>\n",
       "    </tr>\n",
       "    <tr>\n",
       "      <th>Network Mapping</th>\n",
       "      <td>2746.830509</td>\n",
       "      <td>137.341525</td>\n",
       "      <td>20</td>\n",
       "    </tr>\n",
       "  </tbody>\n",
       "</table>\n",
       "</div>"
      ],
      "text/plain": [
       "                                            age_sum    age_mean  head_count\n",
       "Search Engine Optimization                94.176345   47.088173           2\n",
       "Todd Ideas                               102.011325    6.800755          15\n",
       "Terraform                                406.891167   16.275647          25\n",
       "Powershell                               427.614164   42.761416          10\n",
       "FSLogix                                  965.827546   40.242814          24\n",
       "Email Auth and Security                 1088.182574   83.706352          13\n",
       "Azure Functions + Visual Studio         1100.412064   78.600862          14\n",
       "Audit Report Tracker (Sharepoint List)  1111.095651   69.443478          16\n",
       "OData                                   1279.258355   85.283890          15\n",
       "DNS                                     1281.386761   80.086673          16\n",
       "Azure AI Search                         1368.305926   97.736138          14\n",
       "Home Network Project                    1408.440978   74.128473          19\n",
       "Debugging in VS Code                    1607.314287   69.883230          23\n",
       "Azure Functions + PP365                 1743.146802   69.725872          25\n",
       "Vocab                                   1785.675948   31.887071          56\n",
       "Open Source/GitHub                      1804.620031   90.231002          20\n",
       "SharePoint                              1928.566371  113.445081          17\n",
       "Azure Functions                         2042.643431  127.665214          16\n",
       "IW Migration                            2054.208261  102.710413          20\n",
       "JavaScript Concepts                     2124.808361   29.926878          71\n",
       "Powershell Modules                      2354.616682   78.487223          30\n",
       "WSL + Kali Linux                        2365.983055  107.544684          22\n",
       "PEP 8                                   2436.973275  128.261751          19\n",
       "PnP Powershell                          2456.341594   64.640568          38\n",
       "Logging in Python                       2578.901739  103.156070          25\n",
       "Network Mapping                         2746.830509  137.341525          20"
      ]
     },
     "execution_count": 21,
     "metadata": {},
     "output_type": "execute_result"
    }
   ],
   "source": [
    "stats = existing_cards.groupby('head').agg({'age': ['sum', 'mean'], 'head': 'count'}).sort_values(('age', 'sum'))\n",
    "stats.columns = stats.columns.to_flat_index()\n",
    "stats.columns = ['_'.join(col).strip() for col in stats.columns]\n",
    "stats.index.name = None\n",
    "stats"
   ]
  },
  {
   "cell_type": "markdown",
   "metadata": {},
   "source": [
    "# Histogram"
   ]
  },
  {
   "cell_type": "code",
   "execution_count": 22,
   "metadata": {},
   "outputs": [
    {
     "name": "stdout",
     "output_type": "stream",
     "text": [
      "40664.23\n"
     ]
    },
    {
     "data": {
      "text/plain": [
       "<Axes: >"
      ]
     },
     "execution_count": 22,
     "metadata": {},
     "output_type": "execute_result"
    },
    {
     "data": {
      "image/png": "[encoded data removed]",
      "text/plain": [
       "<Figure size 640x480 with 1 Axes>"
      ]
     },
     "metadata": {},
     "output_type": "display_data"
    }
   ],
   "source": [
    "print(f\"{existing_cards['age'].sum(0):.2f}\")\n",
    "existing_cards['age'].hist(bins=20)"
   ]
  },
  {
   "cell_type": "markdown",
   "metadata": {},
   "source": [
    "# Completely Random Shuffle"
   ]
  },
  {
   "cell_type": "code",
   "execution_count": 23,
   "metadata": {},
   "outputs": [],
   "source": [
    "# existing_cards = existing_cards.sample(frac=1)\n",
    "# remake_card_document(filename='certcards2.txt', existing_cards = existing_cards)"
   ]
  },
  {
   "cell_type": "markdown",
   "metadata": {},
   "source": [
    "# Age Sort"
   ]
  },
  {
   "cell_type": "code",
   "execution_count": 24,
   "metadata": {},
   "outputs": [],
   "source": [
    "# existing_cards = existing_cards.sort_values('age', ascending=False)\n",
    "# remake_card_document(filename='certcards2.txt', existing_cards=existing_cards)\n",
    "# existing_cards.head(10)"
   ]
  },
  {
   "cell_type": "markdown",
   "metadata": {},
   "source": [
    "# Headers with fewest notes first"
   ]
  },
  {
   "cell_type": "code",
   "execution_count": 25,
   "metadata": {},
   "outputs": [],
   "source": [
    "# frequency = existing_cards['head'].value_counts(ascending=True)\n",
    "\n",
    "# existing_cards = pd.merge(\n",
    "#     left=existing_cards,\n",
    "#     right=frequency.rename('frequency'),\n",
    "#     left_on='head', right_index=True,\n",
    "#     how='left'\n",
    "# )\n",
    "# existing_cards['oldest'] = existing_cards.groupby('head')['age'].transform('max')\n",
    "# existing_cards['subject_highest_age'] = existing_cards['subject_highest_age'] * -1\n",
    "# existing_cards['age'] = existing_cards['age'] * -1\n",
    "\n",
    "\n",
    "# existing_cards.sort_values(['frequency', 'subject_highest_age', 'age'], ascending=True, inplace=True)\n",
    "\n",
    "# remake_card_document(filename='certcards2.txt', existing_cards=existing_cards)\n",
    "\n",
    "# existing_cards.head(10)"
   ]
  },
  {
   "cell_type": "markdown",
   "metadata": {},
   "source": [
    "# Focus on one header"
   ]
  },
  {
   "cell_type": "code",
   "execution_count": 26,
   "metadata": {},
   "outputs": [],
   "source": [
    "# heads = existing_cards['head'].value_counts()\n",
    "# heads = heads[heads > 5].index.tolist()\n",
    "# one_header = random.sample(heads, 1)[0]\n",
    "# existing_cards['pick_head'] = existing_cards['head'].apply(\n",
    "#     lambda h: 0 if h == one_header else 1 \n",
    "# )\n",
    "\n",
    "# remake_card_document(existing_cards=existing_cards.sort_values('pick_head'))"
   ]
  },
  {
   "cell_type": "markdown",
   "metadata": {},
   "source": [
    "## Header with oldest cards first"
   ]
  },
  {
   "cell_type": "code",
   "execution_count": 27,
   "metadata": {},
   "outputs": [],
   "source": [
    "# existing_cards['oldest'] = existing_cards.groupby('head')['age'].transform('max')\n",
    "# existing_cards.sort_values(['oldest', 'age'], ascending=False, inplace=True)\n",
    "# remake_card_document(existing_cards)"
   ]
  },
  {
   "cell_type": "markdown",
   "metadata": {},
   "source": [
    "## Headers with greatest mean card age first"
   ]
  },
  {
   "cell_type": "code",
   "execution_count": 28,
   "metadata": {},
   "outputs": [],
   "source": [
    "# existing_cards.sort_values(['subject_mean_age', 'age'], ascending=False, inplace=True)\n",
    "# remake_card_document(existing_cards)"
   ]
  },
  {
   "cell_type": "markdown",
   "metadata": {},
   "source": [
    "## Headers with greatest age sum first"
   ]
  },
  {
   "cell_type": "code",
   "execution_count": 29,
   "metadata": {},
   "outputs": [],
   "source": [
    "# existing_cards.sort_values(['subject_age_sum', 'age'], ascending=False, inplace=True)\n",
    "# remake_card_document(existing_cards)"
   ]
  },
  {
   "cell_type": "markdown",
   "metadata": {},
   "source": [
    "# N-fold shuffle\n"
   ]
  },
  {
   "cell_type": "markdown",
   "metadata": {},
   "source": [
    "## Age Sum"
   ]
  },
  {
   "cell_type": "code",
   "execution_count": 31,
   "metadata": {},
   "outputs": [],
   "source": [
    "# n=5\n",
    "# existing_cards['count'] = existing_cards.sort_values('age', ascending=False).groupby('head').cumcount()\n",
    "# existing_cards['n_fold'] = existing_cards['count'] // n\n",
    "\n",
    "# existing_cards['subject_age_sum'] = existing_cards['subject_age_sum'] *-1\n",
    "# existing_cards['age'] = existing_cards['age'] *-1\n",
    "# existing_cards.sort_values(['n_fold', 'subject_age_sum', 'age'], inplace=True)\n",
    "\n",
    "# remake_card_document(existing_cards=existing_cards)\n",
    "# existing_cards.head(10)\n"
   ]
  },
  {
   "cell_type": "markdown",
   "metadata": {},
   "source": [
    "## Age Mean"
   ]
  },
  {
   "cell_type": "code",
   "execution_count": 32,
   "metadata": {},
   "outputs": [
    {
     "name": "stdout",
     "output_type": "stream",
     "text": [
      "Cards found: 585\n"
     ]
    },
    {
     "data": {
      "application/vnd.microsoft.datawrangler.viewer.v0+json": {
       "columns": [
        {
         "name": "index",
         "rawType": "int64",
         "type": "integer"
        },
        {
         "name": "head",
         "rawType": "object",
         "type": "string"
        },
        {
         "name": "body",
         "rawType": "object",
         "type": "string"
        },
        {
         "name": "hash",
         "rawType": "object",
         "type": "string"
        },
        {
         "name": "age",
         "rawType": "float64",
         "type": "float"
        },
        {
         "name": "subject_mean_age",
         "rawType": "float64",
         "type": "float"
        },
        {
         "name": "subject_highest_age",
         "rawType": "float64",
         "type": "float"
        },
        {
         "name": "subject_age_sum",
         "rawType": "float64",
         "type": "float"
        },
        {
         "name": "head_random_roll",
         "rawType": "float64",
         "type": "float"
        },
        {
         "name": "count",
         "rawType": "int64",
         "type": "integer"
        },
        {
         "name": "n_fold",
         "rawType": "int64",
         "type": "integer"
        }
       ],
       "conversionMethod": "pd.DataFrame",
       "ref": "f0448d2f-9831-41ad-a592-f2aba987c17d",
       "rows": [
        [
         "34",
         "Network Mapping",
         "Buffer Overflow\n\nDefinition: A vulnerability where an application writes more data to a buffer than it can hold, causing adjacent memory to be overwritten, potentially allowing arbitrary code execution or system crashes.",
         "aa8e33713e937f14d63eb8a62f42596f",
         "-503.97460296338517",
         "-137.34152546373605",
         "503.97460296338517",
         "2746.830509274721",
         "0.2296676574542339",
         "0",
         "0"
        ],
        [
         "111",
         "Network Mapping",
         "Payload (Metasploit)\n\nDefinition: Code that runs on a target system after a successful exploit, performing actions like opening a command shell, creating a reverse connection, or executing other malicious activities.",
         "5d91fcc79557c8e6a7cca0fc05748069",
         "-220.51401782769042",
         "-137.34152546373605",
         "503.97460296338517",
         "2746.830509274721",
         "0.2296676574542339",
         "3",
         "0"
        ],
        [
         "186",
         "Network Mapping",
         "CDP (Cisco Discovery Protocol)\n\nDefinition: A Cisco proprietary protocol that enables network devices to share information about themselves and their connected neighbors, aiding in network mapping and management.",
         "f43c8dd8184eebad65175c9c589ec7cb",
         "-166.6352574012646",
         "-137.34152546373605",
         "503.97460296338517",
         "2746.830509274721",
         "0.2296676574542339",
         "6",
         "0"
        ],
        [
         "261",
         "Network Mapping",
         "Service Map\n\nDefinition: A visual representation illustrating the relationships, dependencies, and interactions between various network services and applications within an organization, aiding in management and troubleshooting.",
         "baa6b856257eb1992a6670a440693926",
         "-94.97741545212132",
         "-137.34152546373605",
         "503.97460296338517",
         "2746.830509274721",
         "0.2296676574542339",
         "9",
         "0"
        ],
        [
         "329",
         "Network Mapping",
         "Logical Topology (Service Map)\n\nDefinition: An abstract representation within a Service Map showing how services interact and depend on each other, focusing on data flow and service relationships rather than physical connections.",
         "b1312ca8fec6da59963799e6f5938aa3",
         "-58.565347167063834",
         "-137.34152546373605",
         "503.97460296338517",
         "2746.830509274721",
         "0.2296676574542339",
         "12",
         "0"
        ],
        [
         "380",
         "Network Mapping",
         "Shellcode Injection\n\nDefinition: A technique where an attacker injects shellcode—a small piece of code providing control over a compromised system—into a vulnerable application to execute arbitrary commands or establish unauthorized access.",
         "fb28627eff38f048cd2ad28289c39e3c",
         "-41.967323000650715",
         "-137.34152546373605",
         "503.97460296338517",
         "2746.830509274721",
         "0.2296676574542339",
         "15",
         "0"
        ],
        [
         "386",
         "Network Mapping",
         "Metasploit Framework\n\nDefinition: An open-source penetration testing platform that provides a wide range of exploit modules, payloads, and auxiliary tools for developing, testing, and executing exploits against target systems.",
         "369ff02cdeeaf0545596cd4b2fedf258",
         "-29.222897215991733",
         "-137.34152546373605",
         "503.97460296338517",
         "2746.830509274721",
         "0.2296676574542339",
         "18",
         "0"
        ],
        [
         "28",
         "PEP 8",
         "No Trailing Whitespace: Ensure that there are no unnecessary spaces at the end of lines. Trailing whitespace can clutter the codebase and cause issues with version control diffs. Most editors can be configured to remove trailing spaces automatically.",
         "722b5f984403e1f6cd11dcc77696eecf",
         "-395.10513225616074",
         "-128.26175132434986",
         "395.10513225616074",
         "2436.9732751626475",
         "0.3201840667921705",
         "0",
         "0"
        ],
        [
         "105",
         "PEP 8",
         "No Spaces Around = for Keyword Arguments: Do not use spaces around the = sign when passing keyword arguments in function calls. This rule differentiates keyword arguments from assignment statements.\n\npython\nCopy code\nmy_function(param1=value1, param2=value2)",
         "cdb0fcd9b19b266842b0c49519d735a6",
         "-196.3060593713519",
         "-128.26175132434986",
         "395.10513225616074",
         "2436.9732751626475",
         "0.3201840667921705",
         "3",
         "0"
        ],
        [
         "180",
         "PEP 8",
         "Spaces in Slices and Function Parameters: Do not add spaces inside slicing brackets or between function parameters unless necessary for clarity. Proper spacing maintains clean syntax.\n\npython\nmy_list[1:5]",
         "cd398c511bdf367e157ed38768447784",
         "-149.40349094671143",
         "-128.26175132434986",
         "395.10513225616074",
         "2436.9732751626475",
         "0.3201840667921705",
         "6",
         "0"
        ]
       ],
       "shape": {
        "columns": 10,
        "rows": 10
       }
      },
      "text/html": [
       "<div>\n",
       "<style scoped>\n",
       "    .dataframe tbody tr th:only-of-type {\n",
       "        vertical-align: middle;\n",
       "    }\n",
       "\n",
       "    .dataframe tbody tr th {\n",
       "        vertical-align: top;\n",
       "    }\n",
       "\n",
       "    .dataframe thead th {\n",
       "        text-align: right;\n",
       "    }\n",
       "</style>\n",
       "<table border=\"1\" class=\"dataframe\">\n",
       "  <thead>\n",
       "    <tr style=\"text-align: right;\">\n",
       "      <th></th>\n",
       "      <th>head</th>\n",
       "      <th>body</th>\n",
       "      <th>hash</th>\n",
       "      <th>age</th>\n",
       "      <th>subject_mean_age</th>\n",
       "      <th>subject_highest_age</th>\n",
       "      <th>subject_age_sum</th>\n",
       "      <th>head_random_roll</th>\n",
       "      <th>count</th>\n",
       "      <th>n_fold</th>\n",
       "    </tr>\n",
       "  </thead>\n",
       "  <tbody>\n",
       "    <tr>\n",
       "      <th>34</th>\n",
       "      <td>Network Mapping</td>\n",
       "      <td>Buffer Overflow\\n\\nDefinition: A vulnerability...</td>\n",
       "      <td>aa8e33713e937f14d63eb8a62f42596f</td>\n",
       "      <td>-503.974603</td>\n",
       "      <td>-137.341525</td>\n",
       "      <td>503.974603</td>\n",
       "      <td>2746.830509</td>\n",
       "      <td>0.229668</td>\n",
       "      <td>0</td>\n",
       "      <td>0</td>\n",
       "    </tr>\n",
       "    <tr>\n",
       "      <th>111</th>\n",
       "      <td>Network Mapping</td>\n",
       "      <td>Payload (Metasploit)\\n\\nDefinition: Code that ...</td>\n",
       "      <td>5d91fcc79557c8e6a7cca0fc05748069</td>\n",
       "      <td>-220.514018</td>\n",
       "      <td>-137.341525</td>\n",
       "      <td>503.974603</td>\n",
       "      <td>2746.830509</td>\n",
       "      <td>0.229668</td>\n",
       "      <td>3</td>\n",
       "      <td>0</td>\n",
       "    </tr>\n",
       "    <tr>\n",
       "      <th>186</th>\n",
       "      <td>Network Mapping</td>\n",
       "      <td>CDP (Cisco Discovery Protocol)\\n\\nDefinition: ...</td>\n",
       "      <td>f43c8dd8184eebad65175c9c589ec7cb</td>\n",
       "      <td>-166.635257</td>\n",
       "      <td>-137.341525</td>\n",
       "      <td>503.974603</td>\n",
       "      <td>2746.830509</td>\n",
       "      <td>0.229668</td>\n",
       "      <td>6</td>\n",
       "      <td>0</td>\n",
       "    </tr>\n",
       "    <tr>\n",
       "      <th>261</th>\n",
       "      <td>Network Mapping</td>\n",
       "      <td>Service Map\\n\\nDefinition: A visual representa...</td>\n",
       "      <td>baa6b856257eb1992a6670a440693926</td>\n",
       "      <td>-94.977415</td>\n",
       "      <td>-137.341525</td>\n",
       "      <td>503.974603</td>\n",
       "      <td>2746.830509</td>\n",
       "      <td>0.229668</td>\n",
       "      <td>9</td>\n",
       "      <td>0</td>\n",
       "    </tr>\n",
       "    <tr>\n",
       "      <th>329</th>\n",
       "      <td>Network Mapping</td>\n",
       "      <td>Logical Topology (Service Map)\\n\\nDefinition: ...</td>\n",
       "      <td>b1312ca8fec6da59963799e6f5938aa3</td>\n",
       "      <td>-58.565347</td>\n",
       "      <td>-137.341525</td>\n",
       "      <td>503.974603</td>\n",
       "      <td>2746.830509</td>\n",
       "      <td>0.229668</td>\n",
       "      <td>12</td>\n",
       "      <td>0</td>\n",
       "    </tr>\n",
       "    <tr>\n",
       "      <th>380</th>\n",
       "      <td>Network Mapping</td>\n",
       "      <td>Shellcode Injection\\n\\nDefinition: A technique...</td>\n",
       "      <td>fb28627eff38f048cd2ad28289c39e3c</td>\n",
       "      <td>-41.967323</td>\n",
       "      <td>-137.341525</td>\n",
       "      <td>503.974603</td>\n",
       "      <td>2746.830509</td>\n",
       "      <td>0.229668</td>\n",
       "      <td>15</td>\n",
       "      <td>0</td>\n",
       "    </tr>\n",
       "    <tr>\n",
       "      <th>386</th>\n",
       "      <td>Network Mapping</td>\n",
       "      <td>Metasploit Framework\\n\\nDefinition: An open-so...</td>\n",
       "      <td>369ff02cdeeaf0545596cd4b2fedf258</td>\n",
       "      <td>-29.222897</td>\n",
       "      <td>-137.341525</td>\n",
       "      <td>503.974603</td>\n",
       "      <td>2746.830509</td>\n",
       "      <td>0.229668</td>\n",
       "      <td>18</td>\n",
       "      <td>0</td>\n",
       "    </tr>\n",
       "    <tr>\n",
       "      <th>28</th>\n",
       "      <td>PEP 8</td>\n",
       "      <td>No Trailing Whitespace: Ensure that there are ...</td>\n",
       "      <td>722b5f984403e1f6cd11dcc77696eecf</td>\n",
       "      <td>-395.105132</td>\n",
       "      <td>-128.261751</td>\n",
       "      <td>395.105132</td>\n",
       "      <td>2436.973275</td>\n",
       "      <td>0.320184</td>\n",
       "      <td>0</td>\n",
       "      <td>0</td>\n",
       "    </tr>\n",
       "    <tr>\n",
       "      <th>105</th>\n",
       "      <td>PEP 8</td>\n",
       "      <td>No Spaces Around = for Keyword Arguments: Do n...</td>\n",
       "      <td>cdb0fcd9b19b266842b0c49519d735a6</td>\n",
       "      <td>-196.306059</td>\n",
       "      <td>-128.261751</td>\n",
       "      <td>395.105132</td>\n",
       "      <td>2436.973275</td>\n",
       "      <td>0.320184</td>\n",
       "      <td>3</td>\n",
       "      <td>0</td>\n",
       "    </tr>\n",
       "    <tr>\n",
       "      <th>180</th>\n",
       "      <td>PEP 8</td>\n",
       "      <td>Spaces in Slices and Function Parameters: Do n...</td>\n",
       "      <td>cd398c511bdf367e157ed38768447784</td>\n",
       "      <td>-149.403491</td>\n",
       "      <td>-128.261751</td>\n",
       "      <td>395.105132</td>\n",
       "      <td>2436.973275</td>\n",
       "      <td>0.320184</td>\n",
       "      <td>6</td>\n",
       "      <td>0</td>\n",
       "    </tr>\n",
       "  </tbody>\n",
       "</table>\n",
       "</div>"
      ],
      "text/plain": [
       "                head                                               body  \\\n",
       "34   Network Mapping  Buffer Overflow\\n\\nDefinition: A vulnerability...   \n",
       "111  Network Mapping  Payload (Metasploit)\\n\\nDefinition: Code that ...   \n",
       "186  Network Mapping  CDP (Cisco Discovery Protocol)\\n\\nDefinition: ...   \n",
       "261  Network Mapping  Service Map\\n\\nDefinition: A visual representa...   \n",
       "329  Network Mapping  Logical Topology (Service Map)\\n\\nDefinition: ...   \n",
       "380  Network Mapping  Shellcode Injection\\n\\nDefinition: A technique...   \n",
       "386  Network Mapping  Metasploit Framework\\n\\nDefinition: An open-so...   \n",
       "28             PEP 8  No Trailing Whitespace: Ensure that there are ...   \n",
       "105            PEP 8  No Spaces Around = for Keyword Arguments: Do n...   \n",
       "180            PEP 8  Spaces in Slices and Function Parameters: Do n...   \n",
       "\n",
       "                                 hash         age  subject_mean_age  \\\n",
       "34   aa8e33713e937f14d63eb8a62f42596f -503.974603       -137.341525   \n",
       "111  5d91fcc79557c8e6a7cca0fc05748069 -220.514018       -137.341525   \n",
       "186  f43c8dd8184eebad65175c9c589ec7cb -166.635257       -137.341525   \n",
       "261  baa6b856257eb1992a6670a440693926  -94.977415       -137.341525   \n",
       "329  b1312ca8fec6da59963799e6f5938aa3  -58.565347       -137.341525   \n",
       "380  fb28627eff38f048cd2ad28289c39e3c  -41.967323       -137.341525   \n",
       "386  369ff02cdeeaf0545596cd4b2fedf258  -29.222897       -137.341525   \n",
       "28   722b5f984403e1f6cd11dcc77696eecf -395.105132       -128.261751   \n",
       "105  cdb0fcd9b19b266842b0c49519d735a6 -196.306059       -128.261751   \n",
       "180  cd398c511bdf367e157ed38768447784 -149.403491       -128.261751   \n",
       "\n",
       "     subject_highest_age  subject_age_sum  head_random_roll  count  n_fold  \n",
       "34            503.974603      2746.830509          0.229668      0       0  \n",
       "111           503.974603      2746.830509          0.229668      3       0  \n",
       "186           503.974603      2746.830509          0.229668      6       0  \n",
       "261           503.974603      2746.830509          0.229668      9       0  \n",
       "329           503.974603      2746.830509          0.229668     12       0  \n",
       "380           503.974603      2746.830509          0.229668     15       0  \n",
       "386           503.974603      2746.830509          0.229668     18       0  \n",
       "28            395.105132      2436.973275          0.320184      0       0  \n",
       "105           395.105132      2436.973275          0.320184      3       0  \n",
       "180           395.105132      2436.973275          0.320184      6       0  "
      ]
     },
     "execution_count": 32,
     "metadata": {},
     "output_type": "execute_result"
    }
   ],
   "source": [
    "n=3\n",
    "existing_cards['count'] = existing_cards.sort_values('age', ascending=False).groupby('head').cumcount()\n",
    "existing_cards['n_fold'] = existing_cards['count'] % n\n",
    "\n",
    "existing_cards['subject_mean_age'] = existing_cards['subject_mean_age'] *-1\n",
    "existing_cards['age'] = existing_cards['age'] *-1\n",
    "existing_cards.sort_values(['n_fold', 'subject_mean_age', 'age'], inplace=True)\n",
    "remake_card_document(existing_cards=existing_cards)\n",
    "\n",
    "existing_cards.head(10)\n",
    "\n"
   ]
  },
  {
   "cell_type": "markdown",
   "metadata": {},
   "source": [
    "## Age Max"
   ]
  },
  {
   "cell_type": "code",
   "execution_count": null,
   "metadata": {},
   "outputs": [],
   "source": [
    "# n = 5\n",
    "# existing_cards['count'] = existing_cards.sort_values('age', ascending=False).groupby('head').cumcount()\n",
    "# existing_cards['n_fold'] = existing_cards['count'] // n\n",
    "\n",
    "# existing_cards['subject_highest_age'] = existing_cards['subject_highest_age'] *-1\n",
    "# existing_cards['age'] = existing_cards['age'] *-1\n",
    "# existing_cards.sort_values(['n_fold', 'subject_highest_age', 'age'], inplace=True)\n",
    "\n",
    "# remake_card_document(existing_cards=existing_cards)\n",
    "# existing_cards.head(10)\n"
   ]
  },
  {
   "cell_type": "markdown",
   "metadata": {},
   "source": [
    "## Card Count"
   ]
  },
  {
   "cell_type": "code",
   "execution_count": null,
   "metadata": {},
   "outputs": [],
   "source": [
    "# n=3\n",
    "# existing_cards['frequency']  = existing_cards.groupby('head').transform('count')['body']\n",
    "# existing_cards['count'] = existing_cards.sort_values('age', ascending=False).groupby('head').cumcount()\n",
    "# existing_cards['n_fold'] = existing_cards['count'] // n\n",
    "\n",
    "# existing_cards['subject_mean_age'] = existing_cards['subject_mean_age'] *-1\n",
    "# existing_cards['age'] = existing_cards['age'] *-1\n",
    "# existing_cards.sort_values(['n_fold', 'frequency', 'age'], inplace=True)\n",
    "# remake_card_document(existing_cards=existing_cards)\n",
    "\n",
    "# existing_cards.head(10)\n",
    "\n"
   ]
  },
  {
   "cell_type": "markdown",
   "metadata": {},
   "source": [
    "\n",
    "## Random"
   ]
  },
  {
   "cell_type": "code",
   "execution_count": null,
   "metadata": {},
   "outputs": [],
   "source": [
    "# n = 3\n",
    "# existing_cards['count'] = existing_cards.sort_values('age', ascending=False).groupby('head').cumcount()\n",
    "# existing_cards['n_fold'] = existing_cards['count'] % n\n",
    "# existing_cards['age'] *= -1\n",
    "# existing_cards.sort_values(['n_fold', 'head_random_roll', 'age'], inplace=True)\n",
    "# remake_card_document(existing_cards=existing_cards)\n",
    "# existing_cards.head(10)"
   ]
  },
  {
   "cell_type": "code",
   "execution_count": 35,
   "metadata": {},
   "outputs": [
    {
     "data": {
      "application/vnd.microsoft.datawrangler.viewer.v0+json": {
       "columns": [
        {
         "name": "index",
         "rawType": "int64",
         "type": "integer"
        },
        {
         "name": "head",
         "rawType": "object",
         "type": "string"
        },
        {
         "name": "body",
         "rawType": "object",
         "type": "string"
        },
        {
         "name": "hash",
         "rawType": "object",
         "type": "string"
        },
        {
         "name": "age",
         "rawType": "float64",
         "type": "float"
        },
        {
         "name": "subject_mean_age",
         "rawType": "float64",
         "type": "float"
        },
        {
         "name": "subject_highest_age",
         "rawType": "float64",
         "type": "float"
        },
        {
         "name": "subject_age_sum",
         "rawType": "float64",
         "type": "float"
        },
        {
         "name": "head_random_roll",
         "rawType": "float64",
         "type": "float"
        },
        {
         "name": "count",
         "rawType": "int64",
         "type": "integer"
        },
        {
         "name": "n_fold",
         "rawType": "int64",
         "type": "integer"
        }
       ],
       "conversionMethod": "pd.DataFrame",
       "ref": "abef1f81-af49-460d-8b5a-46c50f5a31f8",
       "rows": [
        [
         "34",
         "Network Mapping",
         "Buffer Overflow\n\nDefinition: A vulnerability where an application writes more data to a buffer than it can hold, causing adjacent memory to be overwritten, potentially allowing arbitrary code execution or system crashes.",
         "aa8e33713e937f14d63eb8a62f42596f",
         "-503.97460296338517",
         "-137.34152546373605",
         "503.97460296338517",
         "2746.830509274721",
         "0.2296676574542339",
         "0",
         "0"
        ],
        [
         "111",
         "Network Mapping",
         "Payload (Metasploit)\n\nDefinition: Code that runs on a target system after a successful exploit, performing actions like opening a command shell, creating a reverse connection, or executing other malicious activities.",
         "5d91fcc79557c8e6a7cca0fc05748069",
         "-220.51401782769042",
         "-137.34152546373605",
         "503.97460296338517",
         "2746.830509274721",
         "0.2296676574542339",
         "3",
         "0"
        ],
        [
         "186",
         "Network Mapping",
         "CDP (Cisco Discovery Protocol)\n\nDefinition: A Cisco proprietary protocol that enables network devices to share information about themselves and their connected neighbors, aiding in network mapping and management.",
         "f43c8dd8184eebad65175c9c589ec7cb",
         "-166.6352574012646",
         "-137.34152546373605",
         "503.97460296338517",
         "2746.830509274721",
         "0.2296676574542339",
         "6",
         "0"
        ],
        [
         "261",
         "Network Mapping",
         "Service Map\n\nDefinition: A visual representation illustrating the relationships, dependencies, and interactions between various network services and applications within an organization, aiding in management and troubleshooting.",
         "baa6b856257eb1992a6670a440693926",
         "-94.97741545212132",
         "-137.34152546373605",
         "503.97460296338517",
         "2746.830509274721",
         "0.2296676574542339",
         "9",
         "0"
        ],
        [
         "329",
         "Network Mapping",
         "Logical Topology (Service Map)\n\nDefinition: An abstract representation within a Service Map showing how services interact and depend on each other, focusing on data flow and service relationships rather than physical connections.",
         "b1312ca8fec6da59963799e6f5938aa3",
         "-58.565347167063834",
         "-137.34152546373605",
         "503.97460296338517",
         "2746.830509274721",
         "0.2296676574542339",
         "12",
         "0"
        ],
        [
         "380",
         "Network Mapping",
         "Shellcode Injection\n\nDefinition: A technique where an attacker injects shellcode—a small piece of code providing control over a compromised system—into a vulnerable application to execute arbitrary commands or establish unauthorized access.",
         "fb28627eff38f048cd2ad28289c39e3c",
         "-41.967323000650715",
         "-137.34152546373605",
         "503.97460296338517",
         "2746.830509274721",
         "0.2296676574542339",
         "15",
         "0"
        ],
        [
         "386",
         "Network Mapping",
         "Metasploit Framework\n\nDefinition: An open-source penetration testing platform that provides a wide range of exploit modules, payloads, and auxiliary tools for developing, testing, and executing exploits against target systems.",
         "369ff02cdeeaf0545596cd4b2fedf258",
         "-29.222897215991733",
         "-137.34152546373605",
         "503.97460296338517",
         "2746.830509274721",
         "0.2296676574542339",
         "18",
         "0"
        ],
        [
         "28",
         "PEP 8",
         "No Trailing Whitespace: Ensure that there are no unnecessary spaces at the end of lines. Trailing whitespace can clutter the codebase and cause issues with version control diffs. Most editors can be configured to remove trailing spaces automatically.",
         "722b5f984403e1f6cd11dcc77696eecf",
         "-395.10513225616074",
         "-128.26175132434986",
         "395.10513225616074",
         "2436.9732751626475",
         "0.3201840667921705",
         "0",
         "0"
        ],
        [
         "105",
         "PEP 8",
         "No Spaces Around = for Keyword Arguments: Do not use spaces around the = sign when passing keyword arguments in function calls. This rule differentiates keyword arguments from assignment statements.\n\npython\nCopy code\nmy_function(param1=value1, param2=value2)",
         "cdb0fcd9b19b266842b0c49519d735a6",
         "-196.3060593713519",
         "-128.26175132434986",
         "395.10513225616074",
         "2436.9732751626475",
         "0.3201840667921705",
         "3",
         "0"
        ],
        [
         "180",
         "PEP 8",
         "Spaces in Slices and Function Parameters: Do not add spaces inside slicing brackets or between function parameters unless necessary for clarity. Proper spacing maintains clean syntax.\n\npython\nmy_list[1:5]",
         "cd398c511bdf367e157ed38768447784",
         "-149.40349094671143",
         "-128.26175132434986",
         "395.10513225616074",
         "2436.9732751626475",
         "0.3201840667921705",
         "6",
         "0"
        ]
       ],
       "shape": {
        "columns": 10,
        "rows": 10
       }
      },
      "text/html": [
       "<div>\n",
       "<style scoped>\n",
       "    .dataframe tbody tr th:only-of-type {\n",
       "        vertical-align: middle;\n",
       "    }\n",
       "\n",
       "    .dataframe tbody tr th {\n",
       "        vertical-align: top;\n",
       "    }\n",
       "\n",
       "    .dataframe thead th {\n",
       "        text-align: right;\n",
       "    }\n",
       "</style>\n",
       "<table border=\"1\" class=\"dataframe\">\n",
       "  <thead>\n",
       "    <tr style=\"text-align: right;\">\n",
       "      <th></th>\n",
       "      <th>head</th>\n",
       "      <th>body</th>\n",
       "      <th>hash</th>\n",
       "      <th>age</th>\n",
       "      <th>subject_mean_age</th>\n",
       "      <th>subject_highest_age</th>\n",
       "      <th>subject_age_sum</th>\n",
       "      <th>head_random_roll</th>\n",
       "      <th>count</th>\n",
       "      <th>n_fold</th>\n",
       "    </tr>\n",
       "  </thead>\n",
       "  <tbody>\n",
       "    <tr>\n",
       "      <th>34</th>\n",
       "      <td>Network Mapping</td>\n",
       "      <td>Buffer Overflow\\n\\nDefinition: A vulnerability...</td>\n",
       "      <td>aa8e33713e937f14d63eb8a62f42596f</td>\n",
       "      <td>-503.974603</td>\n",
       "      <td>-137.341525</td>\n",
       "      <td>503.974603</td>\n",
       "      <td>2746.830509</td>\n",
       "      <td>0.229668</td>\n",
       "      <td>0</td>\n",
       "      <td>0</td>\n",
       "    </tr>\n",
       "    <tr>\n",
       "      <th>111</th>\n",
       "      <td>Network Mapping</td>\n",
       "      <td>Payload (Metasploit)\\n\\nDefinition: Code that ...</td>\n",
       "      <td>5d91fcc79557c8e6a7cca0fc05748069</td>\n",
       "      <td>-220.514018</td>\n",
       "      <td>-137.341525</td>\n",
       "      <td>503.974603</td>\n",
       "      <td>2746.830509</td>\n",
       "      <td>0.229668</td>\n",
       "      <td>3</td>\n",
       "      <td>0</td>\n",
       "    </tr>\n",
       "    <tr>\n",
       "      <th>186</th>\n",
       "      <td>Network Mapping</td>\n",
       "      <td>CDP (Cisco Discovery Protocol)\\n\\nDefinition: ...</td>\n",
       "      <td>f43c8dd8184eebad65175c9c589ec7cb</td>\n",
       "      <td>-166.635257</td>\n",
       "      <td>-137.341525</td>\n",
       "      <td>503.974603</td>\n",
       "      <td>2746.830509</td>\n",
       "      <td>0.229668</td>\n",
       "      <td>6</td>\n",
       "      <td>0</td>\n",
       "    </tr>\n",
       "    <tr>\n",
       "      <th>261</th>\n",
       "      <td>Network Mapping</td>\n",
       "      <td>Service Map\\n\\nDefinition: A visual representa...</td>\n",
       "      <td>baa6b856257eb1992a6670a440693926</td>\n",
       "      <td>-94.977415</td>\n",
       "      <td>-137.341525</td>\n",
       "      <td>503.974603</td>\n",
       "      <td>2746.830509</td>\n",
       "      <td>0.229668</td>\n",
       "      <td>9</td>\n",
       "      <td>0</td>\n",
       "    </tr>\n",
       "    <tr>\n",
       "      <th>329</th>\n",
       "      <td>Network Mapping</td>\n",
       "      <td>Logical Topology (Service Map)\\n\\nDefinition: ...</td>\n",
       "      <td>b1312ca8fec6da59963799e6f5938aa3</td>\n",
       "      <td>-58.565347</td>\n",
       "      <td>-137.341525</td>\n",
       "      <td>503.974603</td>\n",
       "      <td>2746.830509</td>\n",
       "      <td>0.229668</td>\n",
       "      <td>12</td>\n",
       "      <td>0</td>\n",
       "    </tr>\n",
       "    <tr>\n",
       "      <th>380</th>\n",
       "      <td>Network Mapping</td>\n",
       "      <td>Shellcode Injection\\n\\nDefinition: A technique...</td>\n",
       "      <td>fb28627eff38f048cd2ad28289c39e3c</td>\n",
       "      <td>-41.967323</td>\n",
       "      <td>-137.341525</td>\n",
       "      <td>503.974603</td>\n",
       "      <td>2746.830509</td>\n",
       "      <td>0.229668</td>\n",
       "      <td>15</td>\n",
       "      <td>0</td>\n",
       "    </tr>\n",
       "    <tr>\n",
       "      <th>386</th>\n",
       "      <td>Network Mapping</td>\n",
       "      <td>Metasploit Framework\\n\\nDefinition: An open-so...</td>\n",
       "      <td>369ff02cdeeaf0545596cd4b2fedf258</td>\n",
       "      <td>-29.222897</td>\n",
       "      <td>-137.341525</td>\n",
       "      <td>503.974603</td>\n",
       "      <td>2746.830509</td>\n",
       "      <td>0.229668</td>\n",
       "      <td>18</td>\n",
       "      <td>0</td>\n",
       "    </tr>\n",
       "    <tr>\n",
       "      <th>28</th>\n",
       "      <td>PEP 8</td>\n",
       "      <td>No Trailing Whitespace: Ensure that there are ...</td>\n",
       "      <td>722b5f984403e1f6cd11dcc77696eecf</td>\n",
       "      <td>-395.105132</td>\n",
       "      <td>-128.261751</td>\n",
       "      <td>395.105132</td>\n",
       "      <td>2436.973275</td>\n",
       "      <td>0.320184</td>\n",
       "      <td>0</td>\n",
       "      <td>0</td>\n",
       "    </tr>\n",
       "    <tr>\n",
       "      <th>105</th>\n",
       "      <td>PEP 8</td>\n",
       "      <td>No Spaces Around = for Keyword Arguments: Do n...</td>\n",
       "      <td>cdb0fcd9b19b266842b0c49519d735a6</td>\n",
       "      <td>-196.306059</td>\n",
       "      <td>-128.261751</td>\n",
       "      <td>395.105132</td>\n",
       "      <td>2436.973275</td>\n",
       "      <td>0.320184</td>\n",
       "      <td>3</td>\n",
       "      <td>0</td>\n",
       "    </tr>\n",
       "    <tr>\n",
       "      <th>180</th>\n",
       "      <td>PEP 8</td>\n",
       "      <td>Spaces in Slices and Function Parameters: Do n...</td>\n",
       "      <td>cd398c511bdf367e157ed38768447784</td>\n",
       "      <td>-149.403491</td>\n",
       "      <td>-128.261751</td>\n",
       "      <td>395.105132</td>\n",
       "      <td>2436.973275</td>\n",
       "      <td>0.320184</td>\n",
       "      <td>6</td>\n",
       "      <td>0</td>\n",
       "    </tr>\n",
       "  </tbody>\n",
       "</table>\n",
       "</div>"
      ],
      "text/plain": [
       "                head                                               body  \\\n",
       "34   Network Mapping  Buffer Overflow\\n\\nDefinition: A vulnerability...   \n",
       "111  Network Mapping  Payload (Metasploit)\\n\\nDefinition: Code that ...   \n",
       "186  Network Mapping  CDP (Cisco Discovery Protocol)\\n\\nDefinition: ...   \n",
       "261  Network Mapping  Service Map\\n\\nDefinition: A visual representa...   \n",
       "329  Network Mapping  Logical Topology (Service Map)\\n\\nDefinition: ...   \n",
       "380  Network Mapping  Shellcode Injection\\n\\nDefinition: A technique...   \n",
       "386  Network Mapping  Metasploit Framework\\n\\nDefinition: An open-so...   \n",
       "28             PEP 8  No Trailing Whitespace: Ensure that there are ...   \n",
       "105            PEP 8  No Spaces Around = for Keyword Arguments: Do n...   \n",
       "180            PEP 8  Spaces in Slices and Function Parameters: Do n...   \n",
       "\n",
       "                                 hash         age  subject_mean_age  \\\n",
       "34   aa8e33713e937f14d63eb8a62f42596f -503.974603       -137.341525   \n",
       "111  5d91fcc79557c8e6a7cca0fc05748069 -220.514018       -137.341525   \n",
       "186  f43c8dd8184eebad65175c9c589ec7cb -166.635257       -137.341525   \n",
       "261  baa6b856257eb1992a6670a440693926  -94.977415       -137.341525   \n",
       "329  b1312ca8fec6da59963799e6f5938aa3  -58.565347       -137.341525   \n",
       "380  fb28627eff38f048cd2ad28289c39e3c  -41.967323       -137.341525   \n",
       "386  369ff02cdeeaf0545596cd4b2fedf258  -29.222897       -137.341525   \n",
       "28   722b5f984403e1f6cd11dcc77696eecf -395.105132       -128.261751   \n",
       "105  cdb0fcd9b19b266842b0c49519d735a6 -196.306059       -128.261751   \n",
       "180  cd398c511bdf367e157ed38768447784 -149.403491       -128.261751   \n",
       "\n",
       "     subject_highest_age  subject_age_sum  head_random_roll  count  n_fold  \n",
       "34            503.974603      2746.830509          0.229668      0       0  \n",
       "111           503.974603      2746.830509          0.229668      3       0  \n",
       "186           503.974603      2746.830509          0.229668      6       0  \n",
       "261           503.974603      2746.830509          0.229668      9       0  \n",
       "329           503.974603      2746.830509          0.229668     12       0  \n",
       "380           503.974603      2746.830509          0.229668     15       0  \n",
       "386           503.974603      2746.830509          0.229668     18       0  \n",
       "28            395.105132      2436.973275          0.320184      0       0  \n",
       "105           395.105132      2436.973275          0.320184      3       0  \n",
       "180           395.105132      2436.973275          0.320184      6       0  "
      ]
     },
     "execution_count": 35,
     "metadata": {},
     "output_type": "execute_result"
    }
   ],
   "source": [
    "existing_cards.head(10)"
   ]
  },
  {
   "cell_type": "code",
   "execution_count": 36,
   "metadata": {},
   "outputs": [
    {
     "data": {
      "text/plain": [
       "-69.51150974907151"
      ]
     },
     "execution_count": 36,
     "metadata": {},
     "output_type": "execute_result"
    }
   ],
   "source": [
    "existing_cards['age'].mean()"
   ]
  }
 ],
 "metadata": {
  "kernelspec": {
   "display_name": "Python 3",
   "language": "python",
   "name": "python3"
  },
  "language_info": {
   "codemirror_mode": {
    "name": "ipython",
    "version": 3
   },
   "file_extension": ".py",
   "mimetype": "text/x-python",
   "name": "python",
   "nbconvert_exporter": "python",
   "pygments_lexer": "ipython3",
   "version": "3.11.9"
  }
 },
 "nbformat": 4,
 "nbformat_minor": 2
}
