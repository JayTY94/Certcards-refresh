{
 "cells": [
  {
   "cell_type": "code",
   "execution_count": 163,
   "metadata": {},
   "outputs": [],
   "source": [
    "import re\n",
    "import random\n",
    "import pandas as pd\n",
    "import hashlib"
   ]
  },
  {
   "cell_type": "code",
   "execution_count": 164,
   "metadata": {},
   "outputs": [],
   "source": [
    "with open('certcards2.txt', mode='r', encoding='utf8') as f:\n",
    "    all_cards = f.read()\n",
    "    \n",
    "card_split_pattern = r'\\n\\n\\n\\d+\\n'\n",
    "all_cards = re.split(card_split_pattern, all_cards)\n",
    "# Use re.DOTALL to allow . to match newline characters\n",
    "card_pattern = re.compile(r'(.+?)\\n([\\s\\S]+)', re.DOTALL)\n",
    "cards = [(match.group(1), match.group(2)) for cstring in all_cards if (match := re.search(card_pattern, cstring))]\n",
    "\n",
    "# removing the cards that have no content and trimming\n",
    "cards = [(subject, stripped_content) for subject, content in cards if len(stripped_content := content.strip()) > 5]\n",
    "\n",
    "def hash_string_md5(s):\n",
    "    \"\"\"\n",
    "    Hashes a string using MD5 and returns a truncated hash for efficiency.\n",
    "\n",
    "    Parameters:\n",
    "    - s (str): The input string to hash.\n",
    "\n",
    "    Returns:\n",
    "    - str: The truncated hexadecimal hash string.\n",
    "    \"\"\"\n",
    "    if pd.isnull(s):\n",
    "        return None  # Handle NaN values gracefully\n",
    "    return hashlib.md5(s.encode('utf-8')).hexdigest()\n",
    "\n",
    "\n",
    "def remake_card_document(existing_cards: pd.DataFrame, filename: str='certcards2.txt'):\n",
    "    with open(filename, mode='w', encoding='utf8') as f:\n",
    "        i = 1\n",
    "        for _, row in existing_cards.iterrows():\n",
    "            f.write('\\n'*6)\n",
    "            f.write(str(i)+'\\n')  \n",
    "            f.write(row['head']+'\\n')\n",
    "            f.write(row['body'])\n",
    "            i+=1\n",
    "    print(F\"Cards found: {existing_cards.shape[0]}\")\n",
    "    print(F\"Total card age: {abs(existing_cards['age'].sum()):.2f}\")\n",
    "\n",
    "\n",
    "existing_cards = pd.DataFrame(cards, columns=['head', 'body'])\n",
    "\n",
    "\n",
    "# existing_cards['age'] = [random.random() for _ in existing_cards.index]\n",
    "existing_cards['hash'] = existing_cards['body'].apply(hash_string_md5)\n",
    "existing_cards\n",
    "\n",
    "card_ages = pd.read_json('card_ages.json')\n",
    "card_ages = card_ages.drop_duplicates(subset=['hash'], keep='first')\n",
    "\n",
    "cards_to_age = pd.merge(\n",
    "    left=existing_cards,\n",
    "    right=card_ages[['hash', 'age']],\n",
    "    left_on='hash', right_on='hash',\n",
    "    how='left'\n",
    ")\n",
    "\n",
    "cards_to_age['head'] = cards_to_age['head'].str.strip()\n",
    "\n",
    "if cards_to_age['age'].sum() > 2e4: age_factor = .5\n",
    "else: age_factor = 1.5\n",
    "\n",
    "cards_to_age['age'] = cards_to_age['age'].fillna(0)\n",
    "# cards_to_age['age'] = cards_to_age['age'] * age_factor\n",
    "cards_to_age['age'] = cards_to_age['age'] + [random.expovariate(.60) for _ in cards_to_age.index]\n",
    "# cards_to_age['age'] = cards_to_age['age'] * [random.expovariate(1/age_factor) for _ in cards_to_age.index]\n",
    "\n",
    "# Adding priority age growth to cards for upcoming certifications\n",
    "priority_headers = ['Azure Developer Associate']\n",
    "priority_cards_mask = cards_to_age['head'].isin(priority_headers)\n",
    "cards_to_age.loc[priority_cards_mask, 'age'] = cards_to_age.loc[priority_cards_mask, 'age'] * 1.05\n",
    "\n",
    "cards_to_age = cards_to_age.drop_duplicates(subset=['hash'], keep='first')\n",
    "\n",
    "cards_to_age['subject_mean_age'] = cards_to_age.groupby('head')['age'].transform('mean')\n",
    "cards_to_age['subject_highest_age'] = cards_to_age.groupby('head')['age'].transform('max')\n",
    "cards_to_age['subject_age_sum'] = cards_to_age.groupby('head')['age'].transform('sum')\n",
    "cards_to_age['head_random_roll'] = cards_to_age.groupby('head')['head'].transform(lambda x: random.random())\n",
    "\n",
    "\n",
    "cards_to_age.sort_values('hash')[['age', 'head', 'hash']].to_json('card_ages.json', indent=2)\n",
    "\n",
    "existing_cards = cards_to_age"
   ]
  },
  {
   "cell_type": "code",
   "execution_count": 165,
   "metadata": {},
   "outputs": [
    {
     "data": {
      "text/html": [
       "<div>\n",
       "<style scoped>\n",
       "    .dataframe tbody tr th:only-of-type {\n",
       "        vertical-align: middle;\n",
       "    }\n",
       "\n",
       "    .dataframe tbody tr th {\n",
       "        vertical-align: top;\n",
       "    }\n",
       "\n",
       "    .dataframe thead th {\n",
       "        text-align: right;\n",
       "    }\n",
       "</style>\n",
       "<table border=\"1\" class=\"dataframe\">\n",
       "  <thead>\n",
       "    <tr style=\"text-align: right;\">\n",
       "      <th></th>\n",
       "      <th>age_sum</th>\n",
       "      <th>age_mean</th>\n",
       "      <th>age_max</th>\n",
       "      <th>head_count</th>\n",
       "    </tr>\n",
       "  </thead>\n",
       "  <tbody>\n",
       "    <tr>\n",
       "      <th>Azure AD Authentication</th>\n",
       "      <td>268.827020</td>\n",
       "      <td>20.679002</td>\n",
       "      <td>26.867566</td>\n",
       "      <td>13</td>\n",
       "    </tr>\n",
       "    <tr>\n",
       "      <th>Home Network Project</th>\n",
       "      <td>380.638551</td>\n",
       "      <td>126.879517</td>\n",
       "      <td>137.529931</td>\n",
       "      <td>3</td>\n",
       "    </tr>\n",
       "    <tr>\n",
       "      <th>Azure DevOps Pipelines</th>\n",
       "      <td>524.701569</td>\n",
       "      <td>20.180830</td>\n",
       "      <td>30.573380</td>\n",
       "      <td>26</td>\n",
       "    </tr>\n",
       "    <tr>\n",
       "      <th>RAG Project</th>\n",
       "      <td>524.882864</td>\n",
       "      <td>21.870119</td>\n",
       "      <td>32.123450</td>\n",
       "      <td>24</td>\n",
       "    </tr>\n",
       "    <tr>\n",
       "      <th>Email Auth and Security</th>\n",
       "      <td>1566.355109</td>\n",
       "      <td>130.529592</td>\n",
       "      <td>496.345290</td>\n",
       "      <td>12</td>\n",
       "    </tr>\n",
       "    <tr>\n",
       "      <th>SharePoint</th>\n",
       "      <td>1861.497892</td>\n",
       "      <td>169.227081</td>\n",
       "      <td>459.350952</td>\n",
       "      <td>11</td>\n",
       "    </tr>\n",
       "    <tr>\n",
       "      <th>WSL + Kali Linux</th>\n",
       "      <td>2042.952579</td>\n",
       "      <td>145.925184</td>\n",
       "      <td>462.600218</td>\n",
       "      <td>14</td>\n",
       "    </tr>\n",
       "    <tr>\n",
       "      <th>Audit Report Tracker (Sharepoint List)</th>\n",
       "      <td>2395.084217</td>\n",
       "      <td>184.237247</td>\n",
       "      <td>664.828327</td>\n",
       "      <td>13</td>\n",
       "    </tr>\n",
       "    <tr>\n",
       "      <th>IW Migration</th>\n",
       "      <td>2551.061463</td>\n",
       "      <td>182.218676</td>\n",
       "      <td>539.794547</td>\n",
       "      <td>14</td>\n",
       "    </tr>\n",
       "    <tr>\n",
       "      <th>Todd Ideas</th>\n",
       "      <td>2647.123169</td>\n",
       "      <td>176.474878</td>\n",
       "      <td>580.167296</td>\n",
       "      <td>15</td>\n",
       "    </tr>\n",
       "    <tr>\n",
       "      <th>Open Source/GitHub</th>\n",
       "      <td>2684.716788</td>\n",
       "      <td>167.794799</td>\n",
       "      <td>631.980911</td>\n",
       "      <td>16</td>\n",
       "    </tr>\n",
       "    <tr>\n",
       "      <th>Debugging in VS Code</th>\n",
       "      <td>2771.154428</td>\n",
       "      <td>138.557721</td>\n",
       "      <td>383.972680</td>\n",
       "      <td>20</td>\n",
       "    </tr>\n",
       "    <tr>\n",
       "      <th>Azure Functions + Visual Studio</th>\n",
       "      <td>2962.281306</td>\n",
       "      <td>211.591522</td>\n",
       "      <td>645.862541</td>\n",
       "      <td>14</td>\n",
       "    </tr>\n",
       "    <tr>\n",
       "      <th>Terraform</th>\n",
       "      <td>3018.419461</td>\n",
       "      <td>120.736778</td>\n",
       "      <td>402.169179</td>\n",
       "      <td>25</td>\n",
       "    </tr>\n",
       "    <tr>\n",
       "      <th>Python</th>\n",
       "      <td>3699.491125</td>\n",
       "      <td>78.712577</td>\n",
       "      <td>187.333387</td>\n",
       "      <td>47</td>\n",
       "    </tr>\n",
       "    <tr>\n",
       "      <th>Azure Functions + PP365</th>\n",
       "      <td>4300.053346</td>\n",
       "      <td>195.456970</td>\n",
       "      <td>689.345200</td>\n",
       "      <td>22</td>\n",
       "    </tr>\n",
       "    <tr>\n",
       "      <th>Logging in Python</th>\n",
       "      <td>4408.425417</td>\n",
       "      <td>119.146633</td>\n",
       "      <td>413.960153</td>\n",
       "      <td>37</td>\n",
       "    </tr>\n",
       "    <tr>\n",
       "      <th>FSLogix</th>\n",
       "      <td>4629.619481</td>\n",
       "      <td>192.900812</td>\n",
       "      <td>558.675677</td>\n",
       "      <td>24</td>\n",
       "    </tr>\n",
       "    <tr>\n",
       "      <th>Powershell Modules</th>\n",
       "      <td>5631.338169</td>\n",
       "      <td>119.815706</td>\n",
       "      <td>562.667289</td>\n",
       "      <td>47</td>\n",
       "    </tr>\n",
       "    <tr>\n",
       "      <th>JavaScript Concepts</th>\n",
       "      <td>6090.172338</td>\n",
       "      <td>114.908912</td>\n",
       "      <td>636.309012</td>\n",
       "      <td>53</td>\n",
       "    </tr>\n",
       "    <tr>\n",
       "      <th>Vocab</th>\n",
       "      <td>7479.606748</td>\n",
       "      <td>120.638819</td>\n",
       "      <td>647.197984</td>\n",
       "      <td>62</td>\n",
       "    </tr>\n",
       "    <tr>\n",
       "      <th>PnP Powershell</th>\n",
       "      <td>8049.360372</td>\n",
       "      <td>217.550280</td>\n",
       "      <td>601.235473</td>\n",
       "      <td>37</td>\n",
       "    </tr>\n",
       "    <tr>\n",
       "      <th>Azure Developer Associate</th>\n",
       "      <td>8421.893152</td>\n",
       "      <td>131.592080</td>\n",
       "      <td>848.356951</td>\n",
       "      <td>64</td>\n",
       "    </tr>\n",
       "  </tbody>\n",
       "</table>\n",
       "</div>"
      ],
      "text/plain": [
       "                                            age_sum    age_mean     age_max  \\\n",
       "Azure AD Authentication                  268.827020   20.679002   26.867566   \n",
       "Home Network Project                     380.638551  126.879517  137.529931   \n",
       "Azure DevOps Pipelines                   524.701569   20.180830   30.573380   \n",
       "RAG Project                              524.882864   21.870119   32.123450   \n",
       "Email Auth and Security                 1566.355109  130.529592  496.345290   \n",
       "SharePoint                              1861.497892  169.227081  459.350952   \n",
       "WSL + Kali Linux                        2042.952579  145.925184  462.600218   \n",
       "Audit Report Tracker (Sharepoint List)  2395.084217  184.237247  664.828327   \n",
       "IW Migration                            2551.061463  182.218676  539.794547   \n",
       "Todd Ideas                              2647.123169  176.474878  580.167296   \n",
       "Open Source/GitHub                      2684.716788  167.794799  631.980911   \n",
       "Debugging in VS Code                    2771.154428  138.557721  383.972680   \n",
       "Azure Functions + Visual Studio         2962.281306  211.591522  645.862541   \n",
       "Terraform                               3018.419461  120.736778  402.169179   \n",
       "Python                                  3699.491125   78.712577  187.333387   \n",
       "Azure Functions + PP365                 4300.053346  195.456970  689.345200   \n",
       "Logging in Python                       4408.425417  119.146633  413.960153   \n",
       "FSLogix                                 4629.619481  192.900812  558.675677   \n",
       "Powershell Modules                      5631.338169  119.815706  562.667289   \n",
       "JavaScript Concepts                     6090.172338  114.908912  636.309012   \n",
       "Vocab                                   7479.606748  120.638819  647.197984   \n",
       "PnP Powershell                          8049.360372  217.550280  601.235473   \n",
       "Azure Developer Associate               8421.893152  131.592080  848.356951   \n",
       "\n",
       "                                        head_count  \n",
       "Azure AD Authentication                         13  \n",
       "Home Network Project                             3  \n",
       "Azure DevOps Pipelines                          26  \n",
       "RAG Project                                     24  \n",
       "Email Auth and Security                         12  \n",
       "SharePoint                                      11  \n",
       "WSL + Kali Linux                                14  \n",
       "Audit Report Tracker (Sharepoint List)          13  \n",
       "IW Migration                                    14  \n",
       "Todd Ideas                                      15  \n",
       "Open Source/GitHub                              16  \n",
       "Debugging in VS Code                            20  \n",
       "Azure Functions + Visual Studio                 14  \n",
       "Terraform                                       25  \n",
       "Python                                          47  \n",
       "Azure Functions + PP365                         22  \n",
       "Logging in Python                               37  \n",
       "FSLogix                                         24  \n",
       "Powershell Modules                              47  \n",
       "JavaScript Concepts                             53  \n",
       "Vocab                                           62  \n",
       "PnP Powershell                                  37  \n",
       "Azure Developer Associate                       64  "
      ]
     },
     "execution_count": 165,
     "metadata": {},
     "output_type": "execute_result"
    }
   ],
   "source": [
    "stats = existing_cards.groupby('head').agg({'age': ['sum', 'mean', 'max'], 'head': 'count'}).sort_values(('age', 'sum'))\n",
    "stats.columns = stats.columns.to_flat_index()\n",
    "stats.columns = ['_'.join(col).strip() for col in stats.columns]\n",
    "stats.index.name = None\n",
    "stats"
   ]
  },
  {
   "cell_type": "markdown",
   "metadata": {},
   "source": [
    "# Histogram"
   ]
  },
  {
   "cell_type": "code",
   "execution_count": null,
   "metadata": {},
   "outputs": [
    {
     "name": "stdout",
     "output_type": "stream",
     "text": [
      "sum of ages: ~ -78909.66\n"
     ]
    },
    {
     "data": {
      "text/plain": [
       "<Axes: >"
      ]
     },
     "execution_count": 184,
     "metadata": {},
     "output_type": "execute_result"
    },
    {
     "data": {
      "image/png": "[encoded data removed]",
      "text/plain": [
       "<Figure size 640x480 with 1 Axes>"
      ]
     },
     "metadata": {},
     "output_type": "display_data"
    },
    {
     "ename": "",
     "evalue": "",
     "output_type": "error",
     "traceback": [
      "\u001b[1;31mThe Kernel crashed while executing code in the current cell or a previous cell. \n",
      "\u001b[1;31mPlease review the code in the cell(s) to identify a possible cause of the failure. \n",
      "\u001b[1;31mClick <a href='https://aka.ms/vscodeJupyterKernelCrash'>here</a> for more info. \n",
      "\u001b[1;31mView Jupyter <a href='command:jupyter.viewOutput'>log</a> for further details."
     ]
    }
   ],
   "source": [
    "print(f\"sum of ages: ~ {existing_cards['age'].sum(0):.2f}\")\n",
    "existing_cards['age'].hist(bins=20)"
   ]
  },
  {
   "cell_type": "markdown",
   "metadata": {},
   "source": [
    "# Completely Random Shuffle"
   ]
  },
  {
   "cell_type": "code",
   "execution_count": 167,
   "metadata": {},
   "outputs": [],
   "source": [
    "# existing_cards = existing_cards.sample(frac=1)\n",
    "# remake_card_document(filename='certcards2.txt', existing_cards = existing_cards)"
   ]
  },
  {
   "cell_type": "markdown",
   "metadata": {},
   "source": [
    "# Age Sort"
   ]
  },
  {
   "cell_type": "code",
   "execution_count": 168,
   "metadata": {},
   "outputs": [],
   "source": [
    "# existing_cards = existing_cards.sort_values('age', ascending=False)\n",
    "# remake_card_document(filename='certcards2.txt', existing_cards=existing_cards)\n",
    "# existing_cards.head(10)"
   ]
  },
  {
   "cell_type": "markdown",
   "metadata": {},
   "source": [
    "# Headers with fewest notes first"
   ]
  },
  {
   "cell_type": "code",
   "execution_count": 169,
   "metadata": {},
   "outputs": [],
   "source": [
    "# frequency = existing_cards['head'].value_counts(ascending=True)\n",
    "\n",
    "# existing_cards = pd.merge(\n",
    "#     left=existing_cards,\n",
    "#     right=frequency.rename('frequency'),\n",
    "#     left_on='head', right_index=True,\n",
    "#     how='left'\n",
    "# )\n",
    "# existing_cards['oldest'] = existing_cards.groupby('head')['age'].transform('max')\n",
    "# existing_cards['subject_highest_age'] = existing_cards['subject_highest_age'] * -1\n",
    "# existing_cards['age'] = existing_cards['age'] * -1\n",
    "\n",
    "\n",
    "# existing_cards.sort_values(['frequency', 'subject_highest_age', 'age'], ascending=True, inplace=True)\n",
    "\n",
    "# remake_card_document(filename='certcards2.txt', existing_cards=existing_cards)\n",
    "\n",
    "# existing_cards.head(10)"
   ]
  },
  {
   "cell_type": "markdown",
   "metadata": {},
   "source": [
    "# Focus on one header"
   ]
  },
  {
   "cell_type": "code",
   "execution_count": 170,
   "metadata": {},
   "outputs": [],
   "source": [
    "# heads = existing_cards['head'].value_counts()\n",
    "# heads = heads[heads > 5].index.tolist()\n",
    "# one_header = random.sample(heads, 1)[0]\n",
    "# existing_cards['pick_head'] = existing_cards['head'].apply(\n",
    "#     lambda h: 0 if h == one_header else 1 \n",
    "# )\n",
    "\n",
    "# remake_card_document(existing_cards=existing_cards.sort_values('pick_head'))"
   ]
  },
  {
   "cell_type": "markdown",
   "metadata": {},
   "source": [
    "## Header with oldest cards first"
   ]
  },
  {
   "cell_type": "code",
   "execution_count": 171,
   "metadata": {},
   "outputs": [],
   "source": [
    "# existing_cards['oldest'] = existing_cards.groupby('head')['age'].transform('max')\n",
    "# existing_cards.sort_values(['oldest', 'age'], ascending=False, inplace=True)\n",
    "# remake_card_document(existing_cards)"
   ]
  },
  {
   "cell_type": "markdown",
   "metadata": {},
   "source": [
    "## Headers with greatest mean card age first"
   ]
  },
  {
   "cell_type": "code",
   "execution_count": 172,
   "metadata": {},
   "outputs": [],
   "source": [
    "# existing_cards.sort_values(['subject_mean_age', 'age'], ascending=False, inplace=True)\n",
    "# remake_card_document(existing_cards)"
   ]
  },
  {
   "cell_type": "markdown",
   "metadata": {},
   "source": [
    "## Headers with greatest age sum first"
   ]
  },
  {
   "cell_type": "code",
   "execution_count": 173,
   "metadata": {},
   "outputs": [],
   "source": [
    "# existing_cards.sort_values(['subject_age_sum', 'age'], ascending=False, inplace=True)\n",
    "# remake_card_document(existing_cards)"
   ]
  },
  {
   "cell_type": "markdown",
   "metadata": {},
   "source": [
    "# N-fold shuffle\n"
   ]
  },
  {
   "cell_type": "markdown",
   "metadata": {},
   "source": [
    "## Age Sum"
   ]
  },
  {
   "cell_type": "code",
   "execution_count": 174,
   "metadata": {},
   "outputs": [],
   "source": [
    "# n=3\n",
    "# existing_cards['count'] = existing_cards.sort_values('age', ascending=False).groupby('head').cumcount()\n",
    "# existing_cards['n_fold'] = existing_cards['count'] % n\n",
    "\n",
    "# existing_cards['subject_age_sum'] = existing_cards['subject_age_sum'] *-1\n",
    "# existing_cards['age'] = existing_cards['age'] *-1\n",
    "# existing_cards.sort_values(['n_fold', 'subject_age_sum', 'age'], inplace=True)\n",
    "\n",
    "# remake_card_document(existing_cards=existing_cards)\n",
    "# existing_cards.head(10)\n"
   ]
  },
  {
   "cell_type": "markdown",
   "metadata": {},
   "source": [
    "## Age Mean"
   ]
  },
  {
   "cell_type": "code",
   "execution_count": 175,
   "metadata": {},
   "outputs": [
    {
     "name": "stdout",
     "output_type": "stream",
     "text": [
      "Cards found: 613\n",
      "Total card age: 78909.66\n"
     ]
    },
    {
     "data": {
      "text/html": [
       "<div>\n",
       "<style scoped>\n",
       "    .dataframe tbody tr th:only-of-type {\n",
       "        vertical-align: middle;\n",
       "    }\n",
       "\n",
       "    .dataframe tbody tr th {\n",
       "        vertical-align: top;\n",
       "    }\n",
       "\n",
       "    .dataframe thead th {\n",
       "        text-align: right;\n",
       "    }\n",
       "</style>\n",
       "<table border=\"1\" class=\"dataframe\">\n",
       "  <thead>\n",
       "    <tr style=\"text-align: right;\">\n",
       "      <th></th>\n",
       "      <th>head</th>\n",
       "      <th>body</th>\n",
       "      <th>hash</th>\n",
       "      <th>age</th>\n",
       "      <th>subject_mean_age</th>\n",
       "      <th>subject_highest_age</th>\n",
       "      <th>subject_age_sum</th>\n",
       "      <th>head_random_roll</th>\n",
       "      <th>count</th>\n",
       "      <th>n_fold</th>\n",
       "    </tr>\n",
       "  </thead>\n",
       "  <tbody>\n",
       "    <tr>\n",
       "      <th>11</th>\n",
       "      <td>PnP Powershell</td>\n",
       "      <td>Add-PnPListItem (PnP.PowerShell)\\nAdds a new i...</td>\n",
       "      <td>1b19623e7f0a8132e0b14ee435854917</td>\n",
       "      <td>-601.235473</td>\n",
       "      <td>-217.55028</td>\n",
       "      <td>601.235473</td>\n",
       "      <td>8049.360372</td>\n",
       "      <td>0.56217</td>\n",
       "      <td>0</td>\n",
       "      <td>0</td>\n",
       "    </tr>\n",
       "    <tr>\n",
       "      <th>12</th>\n",
       "      <td>PnP Powershell</td>\n",
       "      <td>Get-PnPFile (PnP.PowerShell)\\nRetrieves a file...</td>\n",
       "      <td>7c1a84f2507eec8ad806e3e4de6327db</td>\n",
       "      <td>-560.505814</td>\n",
       "      <td>-217.55028</td>\n",
       "      <td>601.235473</td>\n",
       "      <td>8049.360372</td>\n",
       "      <td>0.56217</td>\n",
       "      <td>3</td>\n",
       "      <td>0</td>\n",
       "    </tr>\n",
       "    <tr>\n",
       "      <th>13</th>\n",
       "      <td>PnP Powershell</td>\n",
       "      <td>API Permissions\\nPermissions granted to an app...</td>\n",
       "      <td>fe4ab733665e874394bc505d2adf334c</td>\n",
       "      <td>-500.672597</td>\n",
       "      <td>-217.55028</td>\n",
       "      <td>601.235473</td>\n",
       "      <td>8049.360372</td>\n",
       "      <td>0.56217</td>\n",
       "      <td>6</td>\n",
       "      <td>0</td>\n",
       "    </tr>\n",
       "    <tr>\n",
       "      <th>14</th>\n",
       "      <td>PnP Powershell</td>\n",
       "      <td>Add-PnPUserToGroup (PnP.PowerShell)\\nAdds a us...</td>\n",
       "      <td>b8f7511b225190bc4ee6b99cecb324ab</td>\n",
       "      <td>-362.655321</td>\n",
       "      <td>-217.55028</td>\n",
       "      <td>601.235473</td>\n",
       "      <td>8049.360372</td>\n",
       "      <td>0.56217</td>\n",
       "      <td>9</td>\n",
       "      <td>0</td>\n",
       "    </tr>\n",
       "    <tr>\n",
       "      <th>15</th>\n",
       "      <td>PnP Powershell</td>\n",
       "      <td>Get-PnPConnection (PnP.PowerShell)\\nRetrieves ...</td>\n",
       "      <td>14e937b75107f9334b02955afa8cd665</td>\n",
       "      <td>-225.537275</td>\n",
       "      <td>-217.55028</td>\n",
       "      <td>601.235473</td>\n",
       "      <td>8049.360372</td>\n",
       "      <td>0.56217</td>\n",
       "      <td>12</td>\n",
       "      <td>0</td>\n",
       "    </tr>\n",
       "    <tr>\n",
       "      <th>232</th>\n",
       "      <td>PnP Powershell</td>\n",
       "      <td>Scopes\\nDefine the level of access an applicat...</td>\n",
       "      <td>0467628b771a9487e6c1b01ba0a5cc5e</td>\n",
       "      <td>-176.974351</td>\n",
       "      <td>-217.55028</td>\n",
       "      <td>601.235473</td>\n",
       "      <td>8049.360372</td>\n",
       "      <td>0.56217</td>\n",
       "      <td>15</td>\n",
       "      <td>0</td>\n",
       "    </tr>\n",
       "    <tr>\n",
       "      <th>17</th>\n",
       "      <td>PnP Powershell</td>\n",
       "      <td>System.IO.File (System.IO)\\nA PowerShell class...</td>\n",
       "      <td>b5552704acfa274093e87ec1e438ae1d</td>\n",
       "      <td>-140.112450</td>\n",
       "      <td>-217.55028</td>\n",
       "      <td>601.235473</td>\n",
       "      <td>8049.360372</td>\n",
       "      <td>0.56217</td>\n",
       "      <td>18</td>\n",
       "      <td>0</td>\n",
       "    </tr>\n",
       "    <tr>\n",
       "      <th>234</th>\n",
       "      <td>PnP Powershell</td>\n",
       "      <td>Client ID (client_id)\\nA unique identifier ass...</td>\n",
       "      <td>f2758e81dfac5624a2c2e051c002982a</td>\n",
       "      <td>-94.927942</td>\n",
       "      <td>-217.55028</td>\n",
       "      <td>601.235473</td>\n",
       "      <td>8049.360372</td>\n",
       "      <td>0.56217</td>\n",
       "      <td>21</td>\n",
       "      <td>0</td>\n",
       "    </tr>\n",
       "    <tr>\n",
       "      <th>19</th>\n",
       "      <td>PnP Powershell</td>\n",
       "      <td>Azure AD App Registration\\nThe process of regi...</td>\n",
       "      <td>c7b6783bfda3cc255344cfce06d00172</td>\n",
       "      <td>-75.975711</td>\n",
       "      <td>-217.55028</td>\n",
       "      <td>601.235473</td>\n",
       "      <td>8049.360372</td>\n",
       "      <td>0.56217</td>\n",
       "      <td>24</td>\n",
       "      <td>0</td>\n",
       "    </tr>\n",
       "    <tr>\n",
       "      <th>20</th>\n",
       "      <td>PnP Powershell</td>\n",
       "      <td>Get-PnPSite (PnP.PowerShell)\\nFetches informat...</td>\n",
       "      <td>7b4008baa2f375b03d9cddc9ee86d409</td>\n",
       "      <td>-53.384295</td>\n",
       "      <td>-217.55028</td>\n",
       "      <td>601.235473</td>\n",
       "      <td>8049.360372</td>\n",
       "      <td>0.56217</td>\n",
       "      <td>27</td>\n",
       "      <td>0</td>\n",
       "    </tr>\n",
       "  </tbody>\n",
       "</table>\n",
       "</div>"
      ],
      "text/plain": [
       "               head                                               body  \\\n",
       "11   PnP Powershell  Add-PnPListItem (PnP.PowerShell)\\nAdds a new i...   \n",
       "12   PnP Powershell  Get-PnPFile (PnP.PowerShell)\\nRetrieves a file...   \n",
       "13   PnP Powershell  API Permissions\\nPermissions granted to an app...   \n",
       "14   PnP Powershell  Add-PnPUserToGroup (PnP.PowerShell)\\nAdds a us...   \n",
       "15   PnP Powershell  Get-PnPConnection (PnP.PowerShell)\\nRetrieves ...   \n",
       "232  PnP Powershell  Scopes\\nDefine the level of access an applicat...   \n",
       "17   PnP Powershell  System.IO.File (System.IO)\\nA PowerShell class...   \n",
       "234  PnP Powershell  Client ID (client_id)\\nA unique identifier ass...   \n",
       "19   PnP Powershell  Azure AD App Registration\\nThe process of regi...   \n",
       "20   PnP Powershell  Get-PnPSite (PnP.PowerShell)\\nFetches informat...   \n",
       "\n",
       "                                 hash         age  subject_mean_age  \\\n",
       "11   1b19623e7f0a8132e0b14ee435854917 -601.235473        -217.55028   \n",
       "12   7c1a84f2507eec8ad806e3e4de6327db -560.505814        -217.55028   \n",
       "13   fe4ab733665e874394bc505d2adf334c -500.672597        -217.55028   \n",
       "14   b8f7511b225190bc4ee6b99cecb324ab -362.655321        -217.55028   \n",
       "15   14e937b75107f9334b02955afa8cd665 -225.537275        -217.55028   \n",
       "232  0467628b771a9487e6c1b01ba0a5cc5e -176.974351        -217.55028   \n",
       "17   b5552704acfa274093e87ec1e438ae1d -140.112450        -217.55028   \n",
       "234  f2758e81dfac5624a2c2e051c002982a  -94.927942        -217.55028   \n",
       "19   c7b6783bfda3cc255344cfce06d00172  -75.975711        -217.55028   \n",
       "20   7b4008baa2f375b03d9cddc9ee86d409  -53.384295        -217.55028   \n",
       "\n",
       "     subject_highest_age  subject_age_sum  head_random_roll  count  n_fold  \n",
       "11            601.235473      8049.360372           0.56217      0       0  \n",
       "12            601.235473      8049.360372           0.56217      3       0  \n",
       "13            601.235473      8049.360372           0.56217      6       0  \n",
       "14            601.235473      8049.360372           0.56217      9       0  \n",
       "15            601.235473      8049.360372           0.56217     12       0  \n",
       "232           601.235473      8049.360372           0.56217     15       0  \n",
       "17            601.235473      8049.360372           0.56217     18       0  \n",
       "234           601.235473      8049.360372           0.56217     21       0  \n",
       "19            601.235473      8049.360372           0.56217     24       0  \n",
       "20            601.235473      8049.360372           0.56217     27       0  "
      ]
     },
     "execution_count": 175,
     "metadata": {},
     "output_type": "execute_result"
    }
   ],
   "source": [
    "n=3\n",
    "existing_cards['count'] = existing_cards.sort_values('age', ascending=False).groupby('head').cumcount()\n",
    "existing_cards['n_fold'] = existing_cards['count'] % n\n",
    "\n",
    "existing_cards['subject_mean_age'] = existing_cards['subject_mean_age'] *-1\n",
    "existing_cards['age'] = existing_cards['age'] *-1\n",
    "existing_cards.sort_values(['n_fold', 'subject_mean_age', 'age'], inplace=True)\n",
    "remake_card_document(existing_cards=existing_cards)\n",
    "\n",
    "existing_cards.head(10)\n",
    "\n"
   ]
  },
  {
   "cell_type": "markdown",
   "metadata": {},
   "source": [
    "## Age Max"
   ]
  },
  {
   "cell_type": "code",
   "execution_count": 176,
   "metadata": {},
   "outputs": [],
   "source": [
    "# n = 2\n",
    "# existing_cards['count'] = existing_cards.sort_values('age', ascending=False).groupby('head').cumcount()\n",
    "# existing_cards['n_fold'] = existing_cards['count'] // n\n",
    "\n",
    "# if existing_cards['age'].sum() > 0:\n",
    "#     existing_cards['subject_highest_age'] = existing_cards['subject_highest_age'] *-1\n",
    "#     existing_cards['age'] = existing_cards['age'] *-1\n",
    "# # existing_cards.sort_values(['n_fold', 'subject_highest_age', 'age'], inplace=True)\n",
    "# existing_cards.sort_values(['age'], inplace=True)\n",
    "\n",
    "# remake_card_document(existing_cards=existing_cards)\n",
    "# existing_cards.head(10)\n"
   ]
  },
  {
   "cell_type": "markdown",
   "metadata": {},
   "source": [
    "## Card Count"
   ]
  },
  {
   "cell_type": "code",
   "execution_count": 177,
   "metadata": {},
   "outputs": [],
   "source": [
    "# n=10\n",
    "# existing_cards['frequency']  = existing_cards.groupby('head').transform('count')['body']\n",
    "# existing_cards['count'] = existing_cards.sort_values('age', ascending=False).groupby('head').cumcount()\n",
    "# existing_cards['n_fold'] = existing_cards['count'] // n\n",
    "\n",
    "# if existing_cards['age'].sum() > 0:\n",
    "#     # existing_cards['neg_subject_highest_age'] = existing_cards['subject_highest_age'] *-1\n",
    "#     existing_cards['neg_age'] = existing_cards['age'] *-1\n",
    "# existing_cards.sort_values(['n_fold', 'frequency', 'neg_age'], inplace=True)\n",
    "# remake_card_document(existing_cards=existing_cards)\n",
    "\n",
    "# existing_cards.head(10)\n",
    "\n"
   ]
  },
  {
   "cell_type": "markdown",
   "metadata": {},
   "source": [
    "\n",
    "## Random"
   ]
  },
  {
   "cell_type": "code",
   "execution_count": 178,
   "metadata": {},
   "outputs": [],
   "source": [
    "# n = 3\n",
    "# existing_cards['count'] = existing_cards.sort_values('age', ascending=False).groupby('head').cumcount()\n",
    "# existing_cards['n_fold'] = existing_cards['count'] % n\n",
    "# existing_cards['age'] *= -1\n",
    "# existing_cards.sort_values(['n_fold', 'head_random_roll', 'age'], inplace=True)\n",
    "# remake_card_document(existing_cards=existing_cards)\n",
    "# existing_cards.head(10)"
   ]
  },
  {
   "cell_type": "code",
   "execution_count": 179,
   "metadata": {},
   "outputs": [
    {
     "data": {
      "text/plain": [
       "head                   PnP PowershellPnP PowershellPnP PowershellPnP ...\n",
       "body                   Add-PnPListItem (PnP.PowerShell)\\nAdds a new i...\n",
       "hash                   1b19623e7f0a8132e0b14ee4358549177c1a84f2507eec...\n",
       "age                                                         -2791.981229\n",
       "subject_mean_age                                            -2175.502803\n",
       "subject_highest_age                                           6012.35473\n",
       "subject_age_sum                                             80493.603722\n",
       "head_random_roll                                                5.621696\n",
       "count                                                                135\n",
       "n_fold                                                                 0\n",
       "dtype: object"
      ]
     },
     "execution_count": 179,
     "metadata": {},
     "output_type": "execute_result"
    }
   ],
   "source": [
    "existing_cards.head(10).sum()"
   ]
  },
  {
   "cell_type": "code",
   "execution_count": 180,
   "metadata": {},
   "outputs": [
    {
     "data": {
      "text/plain": [
       "-128.72700907797756"
      ]
     },
     "execution_count": 180,
     "metadata": {},
     "output_type": "execute_result"
    }
   ],
   "source": [
    "existing_cards['age'].mean()"
   ]
  }
 ],
 "metadata": {
  "kernelspec": {
   "display_name": "Python 3",
   "language": "python",
   "name": "python3"
  },
  "language_info": {
   "codemirror_mode": {
    "name": "ipython",
    "version": 3
   },
   "file_extension": ".py",
   "mimetype": "text/x-python",
   "name": "python",
   "nbconvert_exporter": "python",
   "pygments_lexer": "ipython3",
   "version": "3.11.9"
  }
 },
 "nbformat": 4,
 "nbformat_minor": 2
}
