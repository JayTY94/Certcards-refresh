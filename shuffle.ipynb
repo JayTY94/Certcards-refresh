{
 "cells": [
  {
   "cell_type": "code",
   "execution_count": 37,
   "metadata": {},
   "outputs": [],
   "source": [
    "import re\n",
    "import random\n",
    "import pandas as pd\n",
    "import hashlib"
   ]
  },
  {
   "cell_type": "code",
   "execution_count": 38,
   "metadata": {},
   "outputs": [],
   "source": [
    "with open('certcards2.txt', mode='r', encoding='utf8') as f:\n",
    "    all_cards = f.read()\n",
    "    \n",
    "card_split_pattern = r'\\n\\n\\n\\d+\\n'\n",
    "all_cards = re.split(card_split_pattern, all_cards)\n",
    "# Use re.DOTALL to allow . to match newline characters\n",
    "card_pattern = re.compile(r'(.+?)\\n([\\s\\S]+)', re.DOTALL)\n",
    "cards = [(match.group(1), match.group(2)) for cstring in all_cards if (match := re.search(card_pattern, cstring))]\n",
    "\n",
    "# removing the cards that have no content and trimming\n",
    "cards = [(subject, stripped_content) for subject, content in cards if len(stripped_content := content.strip()) > 5]\n",
    "\n",
    "def hash_string_md5(s):\n",
    "    \"\"\"\n",
    "    Hashes a string using MD5 and returns a truncated hash for efficiency.\n",
    "\n",
    "    Parameters:\n",
    "    - s (str): The input string to hash.\n",
    "\n",
    "    Returns:\n",
    "    - str: The truncated hexadecimal hash string.\n",
    "    \"\"\"\n",
    "    if pd.isnull(s):\n",
    "        return None  # Handle NaN values gracefully\n",
    "    return hashlib.md5(s.encode('utf-8')).hexdigest()  # Truncate to first 12 characters\n",
    "\n",
    "\n",
    "def remake_card_document(existing_cards: pd.DataFrame, filename: str='certcards2.txt'):\n",
    "    with open(filename, mode='w', encoding='utf8') as f:\n",
    "        i = 1\n",
    "        for _, row in existing_cards.iterrows():\n",
    "            f.write('\\n'*6)\n",
    "            f.write(str(i)+'\\n')  \n",
    "            f.write(row['head']+'\\n')\n",
    "            f.write(row['body'])\n",
    "            i+=1\n",
    "    print(F\"Cards found: {existing_cards.shape[0]}\")\n",
    "\n",
    "\n",
    "existing_cards = pd.DataFrame(cards, columns=['head', 'body'])\n",
    "\n",
    "\n",
    "# existing_cards['age'] = [random.random() for _ in existing_cards.index]\n",
    "existing_cards['hash'] = existing_cards['body'].apply(hash_string_md5)\n",
    "existing_cards\n",
    "\n",
    "card_ages = pd.read_json('card_ages.json')\n",
    "card_ages = card_ages.drop_duplicates(subset=['hash'], keep='first')\n",
    "\n",
    "cards_to_age = pd.merge(\n",
    "    left=existing_cards,\n",
    "    right=card_ages[['hash', 'age']],\n",
    "    left_on='hash', right_on='hash',\n",
    "    how='left'\n",
    ")\n",
    "\n",
    "cards_to_age['head'] = cards_to_age['head'].str.strip()\n",
    "\n",
    "if cards_to_age['age'].sum() > 2e4: age_factor = 1\n",
    "else: age_factor = 1.00\n",
    "\n",
    "cards_to_age['age'] = cards_to_age['age'].fillna(0)\n",
    "cards_to_age['age'] = cards_to_age['age'] * age_factor\n",
    "cards_to_age['age'] = cards_to_age['age'] + [random.expovariate(.60) for _ in cards_to_age.index]\n",
    "# cards_to_age['age'] = cards_to_age['age'] * [random.expovariate(.5) for _ in cards_to_age.index]\n",
    "\n",
    "\n",
    "cards_to_age = cards_to_age.drop_duplicates(subset=['hash'], keep='first')\n",
    "\n",
    "cards_to_age['subject_mean_age'] = cards_to_age.groupby('head')['age'].transform('mean')\n",
    "cards_to_age['subject_highest_age'] = cards_to_age.groupby('head')['age'].transform('max')\n",
    "cards_to_age['subject_age_sum'] = cards_to_age.groupby('head')['age'].transform('sum')\n",
    "cards_to_age['head_random_roll'] = cards_to_age.groupby('head')['head'].transform(lambda x: random.random())\n",
    "\n",
    "\n",
    "cards_to_age.sort_values('age')[['age', 'head', 'hash']].to_json('card_ages.json', indent=2)\n",
    "\n",
    "existing_cards = cards_to_age"
   ]
  },
  {
   "cell_type": "code",
   "execution_count": 39,
   "metadata": {},
   "outputs": [
    {
     "data": {
      "application/vnd.microsoft.datawrangler.viewer.v0+json": {
       "columns": [
        {
         "name": "index",
         "rawType": "object",
         "type": "string"
        },
        {
         "name": "age_sum",
         "rawType": "float64",
         "type": "float"
        },
        {
         "name": "age_mean",
         "rawType": "float64",
         "type": "float"
        },
        {
         "name": "head_count",
         "rawType": "int64",
         "type": "integer"
        }
       ],
       "conversionMethod": "pd.DataFrame",
       "ref": "13412063-ba3f-4224-9d5d-cda69c8e2ea9",
       "rows": [
        [
         "Network Mapping",
         "212.02212083844196",
         "42.40442416768839",
         "5"
        ],
        [
         "Todd Ideas",
         "228.21560901318114",
         "15.214373934212075",
         "15"
        ],
        [
         "Powershell",
         "500.8532502247496",
         "50.08532502247496",
         "10"
        ],
        [
         "Terraform",
         "622.7803059466597",
         "24.91121223786639",
         "25"
        ],
        [
         "Azure Functions",
         "724.6504530054727",
         "65.87731390958844",
         "11"
        ],
        [
         "FSLogix",
         "1164.4991210822106",
         "48.52079671175878",
         "24"
        ],
        [
         "Email Auth and Security",
         "1181.6576179893298",
         "90.89673984533306",
         "13"
        ],
        [
         "Azure Functions + Visual Studio",
         "1210.9513865274216",
         "86.49652760910155",
         "14"
        ],
        [
         "Audit Report Tracker (Sharepoint List)",
         "1231.6234285117782",
         "76.97646428198614",
         "16"
        ],
        [
         "IW Migration",
         "1407.4953221279115",
         "100.53538015199368",
         "14"
        ],
        [
         "OData",
         "1411.5883536164679",
         "94.10589024109785",
         "15"
        ],
        [
         "DNS",
         "1440.8021108091737",
         "90.05013192557335",
         "16"
        ],
        [
         "Azure AI Search",
         "1484.1077956944123",
         "106.00769969245802",
         "14"
        ],
        [
         "Home Network Project",
         "1570.583831220682",
         "82.66230690635169",
         "19"
        ],
        [
         "Debugging in VS Code",
         "1816.6013581760883",
         "78.98266774678645",
         "23"
        ],
        [
         "Open Source/GitHub",
         "1959.8828203585892",
         "97.99414101792946",
         "20"
        ],
        [
         "Azure Functions + PP365",
         "1986.591356260037",
         "79.46365425040148",
         "25"
        ],
        [
         "SharePoint",
         "2063.336953760433",
         "121.37276198590783",
         "17"
        ],
        [
         "Vocab",
         "2249.8753519455167",
         "40.17634557045566",
         "56"
        ],
        [
         "WSL + Kali Linux",
         "2551.7285628397717",
         "115.98766194726235",
         "22"
        ],
        [
         "PEP 8",
         "2558.747743095291",
         "134.67093384712058",
         "19"
        ],
        [
         "Powershell Modules",
         "2591.778157309358",
         "86.39260524364526",
         "30"
        ],
        [
         "JavaScript Concepts",
         "2722.917476546985",
         "38.3509503739012",
         "71"
        ],
        [
         "Logging in Python",
         "2744.7527597540875",
         "109.7901103901635",
         "25"
        ],
        [
         "PnP Powershell",
         "2783.083576964453",
         "73.23904149906456",
         "38"
        ]
       ],
       "shape": {
        "columns": 3,
        "rows": 25
       }
      },
      "text/html": [
       "<div>\n",
       "<style scoped>\n",
       "    .dataframe tbody tr th:only-of-type {\n",
       "        vertical-align: middle;\n",
       "    }\n",
       "\n",
       "    .dataframe tbody tr th {\n",
       "        vertical-align: top;\n",
       "    }\n",
       "\n",
       "    .dataframe thead th {\n",
       "        text-align: right;\n",
       "    }\n",
       "</style>\n",
       "<table border=\"1\" class=\"dataframe\">\n",
       "  <thead>\n",
       "    <tr style=\"text-align: right;\">\n",
       "      <th></th>\n",
       "      <th>age_sum</th>\n",
       "      <th>age_mean</th>\n",
       "      <th>head_count</th>\n",
       "    </tr>\n",
       "  </thead>\n",
       "  <tbody>\n",
       "    <tr>\n",
       "      <th>Network Mapping</th>\n",
       "      <td>212.022121</td>\n",
       "      <td>42.404424</td>\n",
       "      <td>5</td>\n",
       "    </tr>\n",
       "    <tr>\n",
       "      <th>Todd Ideas</th>\n",
       "      <td>228.215609</td>\n",
       "      <td>15.214374</td>\n",
       "      <td>15</td>\n",
       "    </tr>\n",
       "    <tr>\n",
       "      <th>Powershell</th>\n",
       "      <td>500.853250</td>\n",
       "      <td>50.085325</td>\n",
       "      <td>10</td>\n",
       "    </tr>\n",
       "    <tr>\n",
       "      <th>Terraform</th>\n",
       "      <td>622.780306</td>\n",
       "      <td>24.911212</td>\n",
       "      <td>25</td>\n",
       "    </tr>\n",
       "    <tr>\n",
       "      <th>Azure Functions</th>\n",
       "      <td>724.650453</td>\n",
       "      <td>65.877314</td>\n",
       "      <td>11</td>\n",
       "    </tr>\n",
       "    <tr>\n",
       "      <th>FSLogix</th>\n",
       "      <td>1164.499121</td>\n",
       "      <td>48.520797</td>\n",
       "      <td>24</td>\n",
       "    </tr>\n",
       "    <tr>\n",
       "      <th>Email Auth and Security</th>\n",
       "      <td>1181.657618</td>\n",
       "      <td>90.896740</td>\n",
       "      <td>13</td>\n",
       "    </tr>\n",
       "    <tr>\n",
       "      <th>Azure Functions + Visual Studio</th>\n",
       "      <td>1210.951387</td>\n",
       "      <td>86.496528</td>\n",
       "      <td>14</td>\n",
       "    </tr>\n",
       "    <tr>\n",
       "      <th>Audit Report Tracker (Sharepoint List)</th>\n",
       "      <td>1231.623429</td>\n",
       "      <td>76.976464</td>\n",
       "      <td>16</td>\n",
       "    </tr>\n",
       "    <tr>\n",
       "      <th>IW Migration</th>\n",
       "      <td>1407.495322</td>\n",
       "      <td>100.535380</td>\n",
       "      <td>14</td>\n",
       "    </tr>\n",
       "    <tr>\n",
       "      <th>OData</th>\n",
       "      <td>1411.588354</td>\n",
       "      <td>94.105890</td>\n",
       "      <td>15</td>\n",
       "    </tr>\n",
       "    <tr>\n",
       "      <th>DNS</th>\n",
       "      <td>1440.802111</td>\n",
       "      <td>90.050132</td>\n",
       "      <td>16</td>\n",
       "    </tr>\n",
       "    <tr>\n",
       "      <th>Azure AI Search</th>\n",
       "      <td>1484.107796</td>\n",
       "      <td>106.007700</td>\n",
       "      <td>14</td>\n",
       "    </tr>\n",
       "    <tr>\n",
       "      <th>Home Network Project</th>\n",
       "      <td>1570.583831</td>\n",
       "      <td>82.662307</td>\n",
       "      <td>19</td>\n",
       "    </tr>\n",
       "    <tr>\n",
       "      <th>Debugging in VS Code</th>\n",
       "      <td>1816.601358</td>\n",
       "      <td>78.982668</td>\n",
       "      <td>23</td>\n",
       "    </tr>\n",
       "    <tr>\n",
       "      <th>Open Source/GitHub</th>\n",
       "      <td>1959.882820</td>\n",
       "      <td>97.994141</td>\n",
       "      <td>20</td>\n",
       "    </tr>\n",
       "    <tr>\n",
       "      <th>Azure Functions + PP365</th>\n",
       "      <td>1986.591356</td>\n",
       "      <td>79.463654</td>\n",
       "      <td>25</td>\n",
       "    </tr>\n",
       "    <tr>\n",
       "      <th>SharePoint</th>\n",
       "      <td>2063.336954</td>\n",
       "      <td>121.372762</td>\n",
       "      <td>17</td>\n",
       "    </tr>\n",
       "    <tr>\n",
       "      <th>Vocab</th>\n",
       "      <td>2249.875352</td>\n",
       "      <td>40.176346</td>\n",
       "      <td>56</td>\n",
       "    </tr>\n",
       "    <tr>\n",
       "      <th>WSL + Kali Linux</th>\n",
       "      <td>2551.728563</td>\n",
       "      <td>115.987662</td>\n",
       "      <td>22</td>\n",
       "    </tr>\n",
       "    <tr>\n",
       "      <th>PEP 8</th>\n",
       "      <td>2558.747743</td>\n",
       "      <td>134.670934</td>\n",
       "      <td>19</td>\n",
       "    </tr>\n",
       "    <tr>\n",
       "      <th>Powershell Modules</th>\n",
       "      <td>2591.778157</td>\n",
       "      <td>86.392605</td>\n",
       "      <td>30</td>\n",
       "    </tr>\n",
       "    <tr>\n",
       "      <th>JavaScript Concepts</th>\n",
       "      <td>2722.917477</td>\n",
       "      <td>38.350950</td>\n",
       "      <td>71</td>\n",
       "    </tr>\n",
       "    <tr>\n",
       "      <th>Logging in Python</th>\n",
       "      <td>2744.752760</td>\n",
       "      <td>109.790110</td>\n",
       "      <td>25</td>\n",
       "    </tr>\n",
       "    <tr>\n",
       "      <th>PnP Powershell</th>\n",
       "      <td>2783.083577</td>\n",
       "      <td>73.239041</td>\n",
       "      <td>38</td>\n",
       "    </tr>\n",
       "  </tbody>\n",
       "</table>\n",
       "</div>"
      ],
      "text/plain": [
       "                                            age_sum    age_mean  head_count\n",
       "Network Mapping                          212.022121   42.404424           5\n",
       "Todd Ideas                               228.215609   15.214374          15\n",
       "Powershell                               500.853250   50.085325          10\n",
       "Terraform                                622.780306   24.911212          25\n",
       "Azure Functions                          724.650453   65.877314          11\n",
       "FSLogix                                 1164.499121   48.520797          24\n",
       "Email Auth and Security                 1181.657618   90.896740          13\n",
       "Azure Functions + Visual Studio         1210.951387   86.496528          14\n",
       "Audit Report Tracker (Sharepoint List)  1231.623429   76.976464          16\n",
       "IW Migration                            1407.495322  100.535380          14\n",
       "OData                                   1411.588354   94.105890          15\n",
       "DNS                                     1440.802111   90.050132          16\n",
       "Azure AI Search                         1484.107796  106.007700          14\n",
       "Home Network Project                    1570.583831   82.662307          19\n",
       "Debugging in VS Code                    1816.601358   78.982668          23\n",
       "Open Source/GitHub                      1959.882820   97.994141          20\n",
       "Azure Functions + PP365                 1986.591356   79.463654          25\n",
       "SharePoint                              2063.336954  121.372762          17\n",
       "Vocab                                   2249.875352   40.176346          56\n",
       "WSL + Kali Linux                        2551.728563  115.987662          22\n",
       "PEP 8                                   2558.747743  134.670934          19\n",
       "Powershell Modules                      2591.778157   86.392605          30\n",
       "JavaScript Concepts                     2722.917477   38.350950          71\n",
       "Logging in Python                       2744.752760  109.790110          25\n",
       "PnP Powershell                          2783.083577   73.239041          38"
      ]
     },
     "execution_count": 39,
     "metadata": {},
     "output_type": "execute_result"
    }
   ],
   "source": [
    "stats = existing_cards.groupby('head').agg({'age': ['sum', 'mean'], 'head': 'count'}).sort_values(('age', 'sum'))\n",
    "stats.columns = stats.columns.to_flat_index()\n",
    "stats.columns = ['_'.join(col).strip() for col in stats.columns]\n",
    "stats.index.name = None\n",
    "stats"
   ]
  },
  {
   "cell_type": "markdown",
   "metadata": {},
   "source": [
    "# Histogram"
   ]
  },
  {
   "cell_type": "code",
   "execution_count": 40,
   "metadata": {},
   "outputs": [
    {
     "name": "stdout",
     "output_type": "stream",
     "text": [
      "40421.13\n"
     ]
    },
    {
     "data": {
      "text/plain": [
       "<Axes: >"
      ]
     },
     "execution_count": 40,
     "metadata": {},
     "output_type": "execute_result"
    },
    {
     "data": {
      "image/png": "[encoded data removed]",
      "text/plain": [
       "<Figure size 640x480 with 1 Axes>"
      ]
     },
     "metadata": {},
     "output_type": "display_data"
    }
   ],
   "source": [
    "print(f\"{existing_cards['age'].sum(0):.2f}\")\n",
    "existing_cards['age'].hist(bins=20)"
   ]
  },
  {
   "cell_type": "markdown",
   "metadata": {},
   "source": [
    "# Completely Random Shuffle"
   ]
  },
  {
   "cell_type": "code",
   "execution_count": 41,
   "metadata": {},
   "outputs": [],
   "source": [
    "# existing_cards = existing_cards.sample(frac=1)\n",
    "# remake_card_document(filename='certcards2.txt', existing_cards = existing_cards)"
   ]
  },
  {
   "cell_type": "markdown",
   "metadata": {},
   "source": [
    "# Age Sort"
   ]
  },
  {
   "cell_type": "code",
   "execution_count": 42,
   "metadata": {},
   "outputs": [],
   "source": [
    "# existing_cards = existing_cards.sort_values('age', ascending=False)\n",
    "# remake_card_document(filename='certcards2.txt', existing_cards=existing_cards)\n",
    "# existing_cards.head(10)"
   ]
  },
  {
   "cell_type": "markdown",
   "metadata": {},
   "source": [
    "# Headers with fewest notes first"
   ]
  },
  {
   "cell_type": "code",
   "execution_count": 43,
   "metadata": {},
   "outputs": [],
   "source": [
    "# frequency = existing_cards['head'].value_counts(ascending=True)\n",
    "\n",
    "# existing_cards = pd.merge(\n",
    "#     left=existing_cards,\n",
    "#     right=frequency.rename('frequency'),\n",
    "#     left_on='head', right_index=True,\n",
    "#     how='left'\n",
    "# )\n",
    "# existing_cards['oldest'] = existing_cards.groupby('head')['age'].transform('max')\n",
    "# existing_cards['subject_highest_age'] = existing_cards['subject_highest_age'] * -1\n",
    "# existing_cards['age'] = existing_cards['age'] * -1\n",
    "\n",
    "\n",
    "# existing_cards.sort_values(['frequency', 'subject_highest_age', 'age'], ascending=True, inplace=True)\n",
    "\n",
    "# remake_card_document(filename='certcards2.txt', existing_cards=existing_cards)\n",
    "\n",
    "# existing_cards.head(10)"
   ]
  },
  {
   "cell_type": "markdown",
   "metadata": {},
   "source": [
    "# Focus on one header"
   ]
  },
  {
   "cell_type": "code",
   "execution_count": 44,
   "metadata": {},
   "outputs": [],
   "source": [
    "# heads = existing_cards['head'].value_counts()\n",
    "# heads = heads[heads > 5].index.tolist()\n",
    "# one_header = random.sample(heads, 1)[0]\n",
    "# existing_cards['pick_head'] = existing_cards['head'].apply(\n",
    "#     lambda h: 0 if h == one_header else 1 \n",
    "# )\n",
    "\n",
    "# remake_card_document(existing_cards=existing_cards.sort_values('pick_head'))"
   ]
  },
  {
   "cell_type": "markdown",
   "metadata": {},
   "source": [
    "## Header with oldest cards first"
   ]
  },
  {
   "cell_type": "code",
   "execution_count": 45,
   "metadata": {},
   "outputs": [],
   "source": [
    "# existing_cards['oldest'] = existing_cards.groupby('head')['age'].transform('max')\n",
    "# existing_cards.sort_values(['oldest', 'age'], ascending=False, inplace=True)\n",
    "# remake_card_document(existing_cards)"
   ]
  },
  {
   "cell_type": "markdown",
   "metadata": {},
   "source": [
    "## Headers with greatest mean card age first"
   ]
  },
  {
   "cell_type": "code",
   "execution_count": 46,
   "metadata": {},
   "outputs": [],
   "source": [
    "# existing_cards.sort_values(['subject_mean_age', 'age'], ascending=False, inplace=True)\n",
    "# remake_card_document(existing_cards)"
   ]
  },
  {
   "cell_type": "markdown",
   "metadata": {},
   "source": [
    "## Headers with greatest age sum first"
   ]
  },
  {
   "cell_type": "code",
   "execution_count": 47,
   "metadata": {},
   "outputs": [],
   "source": [
    "# existing_cards.sort_values(['subject_age_sum', 'age'], ascending=False, inplace=True)\n",
    "# remake_card_document(existing_cards)"
   ]
  },
  {
   "cell_type": "markdown",
   "metadata": {},
   "source": [
    "# N-fold shuffle\n"
   ]
  },
  {
   "cell_type": "markdown",
   "metadata": {},
   "source": [
    "## Age Sum"
   ]
  },
  {
   "cell_type": "code",
   "execution_count": 48,
   "metadata": {},
   "outputs": [],
   "source": [
    "# n=5\n",
    "# existing_cards['count'] = existing_cards.sort_values('age', ascending=False).groupby('head').cumcount()\n",
    "# existing_cards['n_fold'] = existing_cards['count'] // n\n",
    "\n",
    "# existing_cards['subject_age_sum'] = existing_cards['subject_age_sum'] *-1\n",
    "# existing_cards['age'] = existing_cards['age'] *-1\n",
    "# existing_cards.sort_values(['n_fold', 'subject_age_sum', 'age'], inplace=True)\n",
    "\n",
    "# remake_card_document(existing_cards=existing_cards)\n",
    "# existing_cards.head(10)\n"
   ]
  },
  {
   "cell_type": "markdown",
   "metadata": {},
   "source": [
    "## Age Mean"
   ]
  },
  {
   "cell_type": "code",
   "execution_count": 49,
   "metadata": {},
   "outputs": [],
   "source": [
    "# n=3\n",
    "# existing_cards['count'] = existing_cards.sort_values('age', ascending=False).groupby('head').cumcount()\n",
    "# existing_cards['n_fold'] = existing_cards['count'] % n\n",
    "\n",
    "# existing_cards['subject_mean_age'] = existing_cards['subject_mean_age'] *-1\n",
    "# existing_cards['age'] = existing_cards['age'] *-1\n",
    "# existing_cards.sort_values(['n_fold', 'subject_mean_age', 'age'], inplace=True)\n",
    "# remake_card_document(existing_cards=existing_cards)\n",
    "\n",
    "# existing_cards.head(10)\n",
    "\n"
   ]
  },
  {
   "cell_type": "markdown",
   "metadata": {},
   "source": [
    "## Age Max"
   ]
  },
  {
   "cell_type": "code",
   "execution_count": 50,
   "metadata": {},
   "outputs": [],
   "source": [
    "# n = 5\n",
    "# existing_cards['count'] = existing_cards.sort_values('age', ascending=False).groupby('head').cumcount()\n",
    "# existing_cards['n_fold'] = existing_cards['count'] // n\n",
    "\n",
    "# existing_cards['subject_highest_age'] = existing_cards['subject_highest_age'] *-1\n",
    "# existing_cards['age'] = existing_cards['age'] *-1\n",
    "# existing_cards.sort_values(['n_fold', 'subject_highest_age', 'age'], inplace=True)\n",
    "\n",
    "# remake_card_document(existing_cards=existing_cards)\n",
    "# existing_cards.head(10)\n"
   ]
  },
  {
   "cell_type": "markdown",
   "metadata": {},
   "source": [
    "## Card Count"
   ]
  },
  {
   "cell_type": "code",
   "execution_count": 51,
   "metadata": {},
   "outputs": [
    {
     "name": "stdout",
     "output_type": "stream",
     "text": [
      "Cards found: 557\n"
     ]
    },
    {
     "data": {
      "application/vnd.microsoft.datawrangler.viewer.v0+json": {
       "columns": [
        {
         "name": "index",
         "rawType": "int64",
         "type": "integer"
        },
        {
         "name": "head",
         "rawType": "object",
         "type": "string"
        },
        {
         "name": "body",
         "rawType": "object",
         "type": "string"
        },
        {
         "name": "hash",
         "rawType": "object",
         "type": "string"
        },
        {
         "name": "age",
         "rawType": "float64",
         "type": "float"
        },
        {
         "name": "subject_mean_age",
         "rawType": "float64",
         "type": "float"
        },
        {
         "name": "subject_highest_age",
         "rawType": "float64",
         "type": "float"
        },
        {
         "name": "subject_age_sum",
         "rawType": "float64",
         "type": "float"
        },
        {
         "name": "head_random_roll",
         "rawType": "float64",
         "type": "float"
        },
        {
         "name": "frequency",
         "rawType": "int64",
         "type": "integer"
        },
        {
         "name": "count",
         "rawType": "int64",
         "type": "integer"
        },
        {
         "name": "n_fold",
         "rawType": "int64",
         "type": "integer"
        }
       ],
       "conversionMethod": "pd.DataFrame",
       "ref": "43c3a601-d933-407e-a3b4-4253ea66f6ff",
       "rows": [
        [
         "105",
         "Network Mapping",
         "NetFlow\n\nDefinition: A network protocol developed by Cisco for collecting and monitoring IP traffic data, providing insights into bandwidth usage, traffic patterns, and network performance.",
         "f43c5cf90b1dc5e507343a4d03c36a9f",
         "-62.375893805560466",
         "-42.40442416768839",
         "62.375893805560466",
         "212.02212083844196",
         "0.40112632927347514",
         "5",
         "0",
         "0"
        ],
        [
         "106",
         "Network Mapping",
         "Metasploit Exploit Modules\n\nDefinition: Components of the Metasploit Framework designed to exploit specific vulnerabilities in target systems, enabling unauthorized access or execution of malicious actions.",
         "f37c6e846b3cd7a569639346d36e5790",
         "-54.525565574739375",
         "-42.40442416768839",
         "62.375893805560466",
         "212.02212083844196",
         "0.40112632927347514",
         "5",
         "1",
         "0"
        ],
        [
         "107",
         "Network Mapping",
         "Exploit Buffers\n\nDefinition: Memory buffers within applications susceptible to buffer overflow attacks, allowing attackers to inject and execute malicious code by overwriting adjacent memory areas.",
         "e8dc3f804688ea403bc8e667999037eb",
         "-36.97642391163721",
         "-42.40442416768839",
         "62.375893805560466",
         "212.02212083844196",
         "0.40112632927347514",
         "5",
         "2",
         "0"
        ],
        [
         "108",
         "Network Mapping",
         "Control Plane (in SDN)\n\nDefinition: The centralized component in Software-Defined Networking responsible for maintaining a global network view and making routing decisions, communicating instructions to the Data Plane.",
         "f47c05ce57bd8959e4c808465bd01dbc",
         "-35.82927229407892",
         "-42.40442416768839",
         "62.375893805560466",
         "212.02212083844196",
         "0.40112632927347514",
         "5",
         "3",
         "0"
        ],
        [
         "109",
         "Network Mapping",
         "IEEE 802.15.4\n\nDefinition: A standard for low-rate wireless personal area networks (LR-WPANs), forming the basis for protocols like Zigbee and Thread, commonly used in IoT and home automation.",
         "8fd69bb841ba3f7fbc2e515f8a6962d2",
         "-22.314965252425992",
         "-42.40442416768839",
         "62.375893805560466",
         "212.02212083844196",
         "0.40112632927347514",
         "5",
         "4",
         "0"
        ],
        [
         "90",
         "Powershell",
         "Service Manager (services.msc)\nA GUI tool for managing Windows services. You can start, stop, or restart services like Docker Desktop directly from this interface.",
         "31d581d8ea24442605e5c1c662d447b5",
         "-117.96737316509102",
         "-50.08532502247496",
         "117.96737316509102",
         "500.8532502247496",
         "0.3309410690025423",
         "10",
         "0",
         "0"
        ],
        [
         "91",
         "Powershell",
         "Install-Module\nInstalls PowerShell modules from the PowerShell Gallery, such as AzureRM or PowerShellGet. Often used to add functionality or manage cloud resources.",
         "5df0ccb8a5096dd0d5e30b87a25f1345",
         "-88.99935075258806",
         "-50.08532502247496",
         "117.96737316509102",
         "500.8532502247496",
         "0.3309410690025423",
         "10",
         "1",
         "0"
        ],
        [
         "216",
         "Powershell",
         "/i (msiexec argument)\nIndicates installation mode for .msi files when using msiexec. Required for executing software setups from command-line tools or scripts.",
         "a1d240247e0beadefce88e5fb631725d",
         "-42.196396686413486",
         "-50.08532502247496",
         "117.96737316509102",
         "500.8532502247496",
         "0.3309410690025423",
         "10",
         "2",
         "0"
        ],
        [
         "92",
         "Powershell",
         "docker build\nCreates a Docker image from a Dockerfile and dependencies. This image can be used to run containerized applications on any compatible host.",
         "a1e0e72839f32b6040e3ad3ef1c5c3e6",
         "-41.94229446686827",
         "-50.08532502247496",
         "117.96737316509102",
         "500.8532502247496",
         "0.3309410690025423",
         "10",
         "3",
         "0"
        ],
        [
         "94",
         "Powershell",
         "Set-Content\nWrites or replaces the content of a file. Useful for creating files with specific content or initializing an empty file.",
         "1308516db1ce3834a2dde42ab99c3c5e",
         "-41.16425478148912",
         "-50.08532502247496",
         "117.96737316509102",
         "500.8532502247496",
         "0.3309410690025423",
         "10",
         "4",
         "0"
        ]
       ],
       "shape": {
        "columns": 11,
        "rows": 10
       }
      },
      "text/html": [
       "<div>\n",
       "<style scoped>\n",
       "    .dataframe tbody tr th:only-of-type {\n",
       "        vertical-align: middle;\n",
       "    }\n",
       "\n",
       "    .dataframe tbody tr th {\n",
       "        vertical-align: top;\n",
       "    }\n",
       "\n",
       "    .dataframe thead th {\n",
       "        text-align: right;\n",
       "    }\n",
       "</style>\n",
       "<table border=\"1\" class=\"dataframe\">\n",
       "  <thead>\n",
       "    <tr style=\"text-align: right;\">\n",
       "      <th></th>\n",
       "      <th>head</th>\n",
       "      <th>body</th>\n",
       "      <th>hash</th>\n",
       "      <th>age</th>\n",
       "      <th>subject_mean_age</th>\n",
       "      <th>subject_highest_age</th>\n",
       "      <th>subject_age_sum</th>\n",
       "      <th>head_random_roll</th>\n",
       "      <th>frequency</th>\n",
       "      <th>count</th>\n",
       "      <th>n_fold</th>\n",
       "    </tr>\n",
       "  </thead>\n",
       "  <tbody>\n",
       "    <tr>\n",
       "      <th>105</th>\n",
       "      <td>Network Mapping</td>\n",
       "      <td>NetFlow\\n\\nDefinition: A network protocol deve...</td>\n",
       "      <td>f43c5cf90b1dc5e507343a4d03c36a9f</td>\n",
       "      <td>-62.375894</td>\n",
       "      <td>-42.404424</td>\n",
       "      <td>62.375894</td>\n",
       "      <td>212.022121</td>\n",
       "      <td>0.401126</td>\n",
       "      <td>5</td>\n",
       "      <td>0</td>\n",
       "      <td>0</td>\n",
       "    </tr>\n",
       "    <tr>\n",
       "      <th>106</th>\n",
       "      <td>Network Mapping</td>\n",
       "      <td>Metasploit Exploit Modules\\n\\nDefinition: Comp...</td>\n",
       "      <td>f37c6e846b3cd7a569639346d36e5790</td>\n",
       "      <td>-54.525566</td>\n",
       "      <td>-42.404424</td>\n",
       "      <td>62.375894</td>\n",
       "      <td>212.022121</td>\n",
       "      <td>0.401126</td>\n",
       "      <td>5</td>\n",
       "      <td>1</td>\n",
       "      <td>0</td>\n",
       "    </tr>\n",
       "    <tr>\n",
       "      <th>107</th>\n",
       "      <td>Network Mapping</td>\n",
       "      <td>Exploit Buffers\\n\\nDefinition: Memory buffers ...</td>\n",
       "      <td>e8dc3f804688ea403bc8e667999037eb</td>\n",
       "      <td>-36.976424</td>\n",
       "      <td>-42.404424</td>\n",
       "      <td>62.375894</td>\n",
       "      <td>212.022121</td>\n",
       "      <td>0.401126</td>\n",
       "      <td>5</td>\n",
       "      <td>2</td>\n",
       "      <td>0</td>\n",
       "    </tr>\n",
       "    <tr>\n",
       "      <th>108</th>\n",
       "      <td>Network Mapping</td>\n",
       "      <td>Control Plane (in SDN)\\n\\nDefinition: The cent...</td>\n",
       "      <td>f47c05ce57bd8959e4c808465bd01dbc</td>\n",
       "      <td>-35.829272</td>\n",
       "      <td>-42.404424</td>\n",
       "      <td>62.375894</td>\n",
       "      <td>212.022121</td>\n",
       "      <td>0.401126</td>\n",
       "      <td>5</td>\n",
       "      <td>3</td>\n",
       "      <td>0</td>\n",
       "    </tr>\n",
       "    <tr>\n",
       "      <th>109</th>\n",
       "      <td>Network Mapping</td>\n",
       "      <td>IEEE 802.15.4\\n\\nDefinition: A standard for lo...</td>\n",
       "      <td>8fd69bb841ba3f7fbc2e515f8a6962d2</td>\n",
       "      <td>-22.314965</td>\n",
       "      <td>-42.404424</td>\n",
       "      <td>62.375894</td>\n",
       "      <td>212.022121</td>\n",
       "      <td>0.401126</td>\n",
       "      <td>5</td>\n",
       "      <td>4</td>\n",
       "      <td>0</td>\n",
       "    </tr>\n",
       "    <tr>\n",
       "      <th>90</th>\n",
       "      <td>Powershell</td>\n",
       "      <td>Service Manager (services.msc)\\nA GUI tool for...</td>\n",
       "      <td>31d581d8ea24442605e5c1c662d447b5</td>\n",
       "      <td>-117.967373</td>\n",
       "      <td>-50.085325</td>\n",
       "      <td>117.967373</td>\n",
       "      <td>500.853250</td>\n",
       "      <td>0.330941</td>\n",
       "      <td>10</td>\n",
       "      <td>0</td>\n",
       "      <td>0</td>\n",
       "    </tr>\n",
       "    <tr>\n",
       "      <th>91</th>\n",
       "      <td>Powershell</td>\n",
       "      <td>Install-Module\\nInstalls PowerShell modules fr...</td>\n",
       "      <td>5df0ccb8a5096dd0d5e30b87a25f1345</td>\n",
       "      <td>-88.999351</td>\n",
       "      <td>-50.085325</td>\n",
       "      <td>117.967373</td>\n",
       "      <td>500.853250</td>\n",
       "      <td>0.330941</td>\n",
       "      <td>10</td>\n",
       "      <td>1</td>\n",
       "      <td>0</td>\n",
       "    </tr>\n",
       "    <tr>\n",
       "      <th>216</th>\n",
       "      <td>Powershell</td>\n",
       "      <td>/i (msiexec argument)\\nIndicates installation ...</td>\n",
       "      <td>a1d240247e0beadefce88e5fb631725d</td>\n",
       "      <td>-42.196397</td>\n",
       "      <td>-50.085325</td>\n",
       "      <td>117.967373</td>\n",
       "      <td>500.853250</td>\n",
       "      <td>0.330941</td>\n",
       "      <td>10</td>\n",
       "      <td>2</td>\n",
       "      <td>0</td>\n",
       "    </tr>\n",
       "    <tr>\n",
       "      <th>92</th>\n",
       "      <td>Powershell</td>\n",
       "      <td>docker build\\nCreates a Docker image from a Do...</td>\n",
       "      <td>a1e0e72839f32b6040e3ad3ef1c5c3e6</td>\n",
       "      <td>-41.942294</td>\n",
       "      <td>-50.085325</td>\n",
       "      <td>117.967373</td>\n",
       "      <td>500.853250</td>\n",
       "      <td>0.330941</td>\n",
       "      <td>10</td>\n",
       "      <td>3</td>\n",
       "      <td>0</td>\n",
       "    </tr>\n",
       "    <tr>\n",
       "      <th>94</th>\n",
       "      <td>Powershell</td>\n",
       "      <td>Set-Content\\nWrites or replaces the content of...</td>\n",
       "      <td>1308516db1ce3834a2dde42ab99c3c5e</td>\n",
       "      <td>-41.164255</td>\n",
       "      <td>-50.085325</td>\n",
       "      <td>117.967373</td>\n",
       "      <td>500.853250</td>\n",
       "      <td>0.330941</td>\n",
       "      <td>10</td>\n",
       "      <td>4</td>\n",
       "      <td>0</td>\n",
       "    </tr>\n",
       "  </tbody>\n",
       "</table>\n",
       "</div>"
      ],
      "text/plain": [
       "                head                                               body  \\\n",
       "105  Network Mapping  NetFlow\\n\\nDefinition: A network protocol deve...   \n",
       "106  Network Mapping  Metasploit Exploit Modules\\n\\nDefinition: Comp...   \n",
       "107  Network Mapping  Exploit Buffers\\n\\nDefinition: Memory buffers ...   \n",
       "108  Network Mapping  Control Plane (in SDN)\\n\\nDefinition: The cent...   \n",
       "109  Network Mapping  IEEE 802.15.4\\n\\nDefinition: A standard for lo...   \n",
       "90        Powershell  Service Manager (services.msc)\\nA GUI tool for...   \n",
       "91        Powershell  Install-Module\\nInstalls PowerShell modules fr...   \n",
       "216       Powershell  /i (msiexec argument)\\nIndicates installation ...   \n",
       "92        Powershell  docker build\\nCreates a Docker image from a Do...   \n",
       "94        Powershell  Set-Content\\nWrites or replaces the content of...   \n",
       "\n",
       "                                 hash         age  subject_mean_age  \\\n",
       "105  f43c5cf90b1dc5e507343a4d03c36a9f  -62.375894        -42.404424   \n",
       "106  f37c6e846b3cd7a569639346d36e5790  -54.525566        -42.404424   \n",
       "107  e8dc3f804688ea403bc8e667999037eb  -36.976424        -42.404424   \n",
       "108  f47c05ce57bd8959e4c808465bd01dbc  -35.829272        -42.404424   \n",
       "109  8fd69bb841ba3f7fbc2e515f8a6962d2  -22.314965        -42.404424   \n",
       "90   31d581d8ea24442605e5c1c662d447b5 -117.967373        -50.085325   \n",
       "91   5df0ccb8a5096dd0d5e30b87a25f1345  -88.999351        -50.085325   \n",
       "216  a1d240247e0beadefce88e5fb631725d  -42.196397        -50.085325   \n",
       "92   a1e0e72839f32b6040e3ad3ef1c5c3e6  -41.942294        -50.085325   \n",
       "94   1308516db1ce3834a2dde42ab99c3c5e  -41.164255        -50.085325   \n",
       "\n",
       "     subject_highest_age  subject_age_sum  head_random_roll  frequency  count  \\\n",
       "105            62.375894       212.022121          0.401126          5      0   \n",
       "106            62.375894       212.022121          0.401126          5      1   \n",
       "107            62.375894       212.022121          0.401126          5      2   \n",
       "108            62.375894       212.022121          0.401126          5      3   \n",
       "109            62.375894       212.022121          0.401126          5      4   \n",
       "90            117.967373       500.853250          0.330941         10      0   \n",
       "91            117.967373       500.853250          0.330941         10      1   \n",
       "216           117.967373       500.853250          0.330941         10      2   \n",
       "92            117.967373       500.853250          0.330941         10      3   \n",
       "94            117.967373       500.853250          0.330941         10      4   \n",
       "\n",
       "     n_fold  \n",
       "105       0  \n",
       "106       0  \n",
       "107       0  \n",
       "108       0  \n",
       "109       0  \n",
       "90        0  \n",
       "91        0  \n",
       "216       0  \n",
       "92        0  \n",
       "94        0  "
      ]
     },
     "execution_count": 51,
     "metadata": {},
     "output_type": "execute_result"
    }
   ],
   "source": [
    "n=10\n",
    "existing_cards['frequency']  = existing_cards.groupby('head').transform('count')['body']\n",
    "existing_cards['count'] = existing_cards.sort_values('age', ascending=False).groupby('head').cumcount()\n",
    "existing_cards['n_fold'] = existing_cards['count'] // n\n",
    "\n",
    "existing_cards['subject_mean_age'] = existing_cards['subject_mean_age'] *-1\n",
    "existing_cards['age'] = existing_cards['age'] *-1\n",
    "existing_cards.sort_values(['n_fold', 'frequency', 'age'], inplace=True)\n",
    "remake_card_document(existing_cards=existing_cards)\n",
    "\n",
    "existing_cards.head(10)\n",
    "\n"
   ]
  },
  {
   "cell_type": "markdown",
   "metadata": {},
   "source": [
    "\n",
    "## Random"
   ]
  },
  {
   "cell_type": "code",
   "execution_count": 52,
   "metadata": {},
   "outputs": [],
   "source": [
    "# n = 3\n",
    "# existing_cards['count'] = existing_cards.sort_values('age', ascending=False).groupby('head').cumcount()\n",
    "# existing_cards['n_fold'] = existing_cards['count'] % n\n",
    "# existing_cards['age'] *= -1\n",
    "# existing_cards.sort_values(['n_fold', 'head_random_roll', 'age'], inplace=True)\n",
    "# remake_card_document(existing_cards=existing_cards)\n",
    "# existing_cards.head(10)"
   ]
  },
  {
   "cell_type": "code",
   "execution_count": 53,
   "metadata": {},
   "outputs": [
    {
     "data": {
      "application/vnd.microsoft.datawrangler.viewer.v0+json": {
       "columns": [
        {
         "name": "index",
         "rawType": "int64",
         "type": "integer"
        },
        {
         "name": "head",
         "rawType": "object",
         "type": "string"
        },
        {
         "name": "body",
         "rawType": "object",
         "type": "string"
        },
        {
         "name": "hash",
         "rawType": "object",
         "type": "string"
        },
        {
         "name": "age",
         "rawType": "float64",
         "type": "float"
        },
        {
         "name": "subject_mean_age",
         "rawType": "float64",
         "type": "float"
        },
        {
         "name": "subject_highest_age",
         "rawType": "float64",
         "type": "float"
        },
        {
         "name": "subject_age_sum",
         "rawType": "float64",
         "type": "float"
        },
        {
         "name": "head_random_roll",
         "rawType": "float64",
         "type": "float"
        },
        {
         "name": "frequency",
         "rawType": "int64",
         "type": "integer"
        },
        {
         "name": "count",
         "rawType": "int64",
         "type": "integer"
        },
        {
         "name": "n_fold",
         "rawType": "int64",
         "type": "integer"
        }
       ],
       "conversionMethod": "pd.DataFrame",
       "ref": "e59afb50-df54-424d-816f-b58870483b1a",
       "rows": [
        [
         "105",
         "Network Mapping",
         "NetFlow\n\nDefinition: A network protocol developed by Cisco for collecting and monitoring IP traffic data, providing insights into bandwidth usage, traffic patterns, and network performance.",
         "f43c5cf90b1dc5e507343a4d03c36a9f",
         "-62.375893805560466",
         "-42.40442416768839",
         "62.375893805560466",
         "212.02212083844196",
         "0.40112632927347514",
         "5",
         "0",
         "0"
        ],
        [
         "106",
         "Network Mapping",
         "Metasploit Exploit Modules\n\nDefinition: Components of the Metasploit Framework designed to exploit specific vulnerabilities in target systems, enabling unauthorized access or execution of malicious actions.",
         "f37c6e846b3cd7a569639346d36e5790",
         "-54.525565574739375",
         "-42.40442416768839",
         "62.375893805560466",
         "212.02212083844196",
         "0.40112632927347514",
         "5",
         "1",
         "0"
        ],
        [
         "107",
         "Network Mapping",
         "Exploit Buffers\n\nDefinition: Memory buffers within applications susceptible to buffer overflow attacks, allowing attackers to inject and execute malicious code by overwriting adjacent memory areas.",
         "e8dc3f804688ea403bc8e667999037eb",
         "-36.97642391163721",
         "-42.40442416768839",
         "62.375893805560466",
         "212.02212083844196",
         "0.40112632927347514",
         "5",
         "2",
         "0"
        ],
        [
         "108",
         "Network Mapping",
         "Control Plane (in SDN)\n\nDefinition: The centralized component in Software-Defined Networking responsible for maintaining a global network view and making routing decisions, communicating instructions to the Data Plane.",
         "f47c05ce57bd8959e4c808465bd01dbc",
         "-35.82927229407892",
         "-42.40442416768839",
         "62.375893805560466",
         "212.02212083844196",
         "0.40112632927347514",
         "5",
         "3",
         "0"
        ],
        [
         "109",
         "Network Mapping",
         "IEEE 802.15.4\n\nDefinition: A standard for low-rate wireless personal area networks (LR-WPANs), forming the basis for protocols like Zigbee and Thread, commonly used in IoT and home automation.",
         "8fd69bb841ba3f7fbc2e515f8a6962d2",
         "-22.314965252425992",
         "-42.40442416768839",
         "62.375893805560466",
         "212.02212083844196",
         "0.40112632927347514",
         "5",
         "4",
         "0"
        ],
        [
         "90",
         "Powershell",
         "Service Manager (services.msc)\nA GUI tool for managing Windows services. You can start, stop, or restart services like Docker Desktop directly from this interface.",
         "31d581d8ea24442605e5c1c662d447b5",
         "-117.96737316509102",
         "-50.08532502247496",
         "117.96737316509102",
         "500.8532502247496",
         "0.3309410690025423",
         "10",
         "0",
         "0"
        ],
        [
         "91",
         "Powershell",
         "Install-Module\nInstalls PowerShell modules from the PowerShell Gallery, such as AzureRM or PowerShellGet. Often used to add functionality or manage cloud resources.",
         "5df0ccb8a5096dd0d5e30b87a25f1345",
         "-88.99935075258806",
         "-50.08532502247496",
         "117.96737316509102",
         "500.8532502247496",
         "0.3309410690025423",
         "10",
         "1",
         "0"
        ],
        [
         "216",
         "Powershell",
         "/i (msiexec argument)\nIndicates installation mode for .msi files when using msiexec. Required for executing software setups from command-line tools or scripts.",
         "a1d240247e0beadefce88e5fb631725d",
         "-42.196396686413486",
         "-50.08532502247496",
         "117.96737316509102",
         "500.8532502247496",
         "0.3309410690025423",
         "10",
         "2",
         "0"
        ],
        [
         "92",
         "Powershell",
         "docker build\nCreates a Docker image from a Dockerfile and dependencies. This image can be used to run containerized applications on any compatible host.",
         "a1e0e72839f32b6040e3ad3ef1c5c3e6",
         "-41.94229446686827",
         "-50.08532502247496",
         "117.96737316509102",
         "500.8532502247496",
         "0.3309410690025423",
         "10",
         "3",
         "0"
        ],
        [
         "94",
         "Powershell",
         "Set-Content\nWrites or replaces the content of a file. Useful for creating files with specific content or initializing an empty file.",
         "1308516db1ce3834a2dde42ab99c3c5e",
         "-41.16425478148912",
         "-50.08532502247496",
         "117.96737316509102",
         "500.8532502247496",
         "0.3309410690025423",
         "10",
         "4",
         "0"
        ]
       ],
       "shape": {
        "columns": 11,
        "rows": 10
       }
      },
      "text/html": [
       "<div>\n",
       "<style scoped>\n",
       "    .dataframe tbody tr th:only-of-type {\n",
       "        vertical-align: middle;\n",
       "    }\n",
       "\n",
       "    .dataframe tbody tr th {\n",
       "        vertical-align: top;\n",
       "    }\n",
       "\n",
       "    .dataframe thead th {\n",
       "        text-align: right;\n",
       "    }\n",
       "</style>\n",
       "<table border=\"1\" class=\"dataframe\">\n",
       "  <thead>\n",
       "    <tr style=\"text-align: right;\">\n",
       "      <th></th>\n",
       "      <th>head</th>\n",
       "      <th>body</th>\n",
       "      <th>hash</th>\n",
       "      <th>age</th>\n",
       "      <th>subject_mean_age</th>\n",
       "      <th>subject_highest_age</th>\n",
       "      <th>subject_age_sum</th>\n",
       "      <th>head_random_roll</th>\n",
       "      <th>frequency</th>\n",
       "      <th>count</th>\n",
       "      <th>n_fold</th>\n",
       "    </tr>\n",
       "  </thead>\n",
       "  <tbody>\n",
       "    <tr>\n",
       "      <th>105</th>\n",
       "      <td>Network Mapping</td>\n",
       "      <td>NetFlow\\n\\nDefinition: A network protocol deve...</td>\n",
       "      <td>f43c5cf90b1dc5e507343a4d03c36a9f</td>\n",
       "      <td>-62.375894</td>\n",
       "      <td>-42.404424</td>\n",
       "      <td>62.375894</td>\n",
       "      <td>212.022121</td>\n",
       "      <td>0.401126</td>\n",
       "      <td>5</td>\n",
       "      <td>0</td>\n",
       "      <td>0</td>\n",
       "    </tr>\n",
       "    <tr>\n",
       "      <th>106</th>\n",
       "      <td>Network Mapping</td>\n",
       "      <td>Metasploit Exploit Modules\\n\\nDefinition: Comp...</td>\n",
       "      <td>f37c6e846b3cd7a569639346d36e5790</td>\n",
       "      <td>-54.525566</td>\n",
       "      <td>-42.404424</td>\n",
       "      <td>62.375894</td>\n",
       "      <td>212.022121</td>\n",
       "      <td>0.401126</td>\n",
       "      <td>5</td>\n",
       "      <td>1</td>\n",
       "      <td>0</td>\n",
       "    </tr>\n",
       "    <tr>\n",
       "      <th>107</th>\n",
       "      <td>Network Mapping</td>\n",
       "      <td>Exploit Buffers\\n\\nDefinition: Memory buffers ...</td>\n",
       "      <td>e8dc3f804688ea403bc8e667999037eb</td>\n",
       "      <td>-36.976424</td>\n",
       "      <td>-42.404424</td>\n",
       "      <td>62.375894</td>\n",
       "      <td>212.022121</td>\n",
       "      <td>0.401126</td>\n",
       "      <td>5</td>\n",
       "      <td>2</td>\n",
       "      <td>0</td>\n",
       "    </tr>\n",
       "    <tr>\n",
       "      <th>108</th>\n",
       "      <td>Network Mapping</td>\n",
       "      <td>Control Plane (in SDN)\\n\\nDefinition: The cent...</td>\n",
       "      <td>f47c05ce57bd8959e4c808465bd01dbc</td>\n",
       "      <td>-35.829272</td>\n",
       "      <td>-42.404424</td>\n",
       "      <td>62.375894</td>\n",
       "      <td>212.022121</td>\n",
       "      <td>0.401126</td>\n",
       "      <td>5</td>\n",
       "      <td>3</td>\n",
       "      <td>0</td>\n",
       "    </tr>\n",
       "    <tr>\n",
       "      <th>109</th>\n",
       "      <td>Network Mapping</td>\n",
       "      <td>IEEE 802.15.4\\n\\nDefinition: A standard for lo...</td>\n",
       "      <td>8fd69bb841ba3f7fbc2e515f8a6962d2</td>\n",
       "      <td>-22.314965</td>\n",
       "      <td>-42.404424</td>\n",
       "      <td>62.375894</td>\n",
       "      <td>212.022121</td>\n",
       "      <td>0.401126</td>\n",
       "      <td>5</td>\n",
       "      <td>4</td>\n",
       "      <td>0</td>\n",
       "    </tr>\n",
       "    <tr>\n",
       "      <th>90</th>\n",
       "      <td>Powershell</td>\n",
       "      <td>Service Manager (services.msc)\\nA GUI tool for...</td>\n",
       "      <td>31d581d8ea24442605e5c1c662d447b5</td>\n",
       "      <td>-117.967373</td>\n",
       "      <td>-50.085325</td>\n",
       "      <td>117.967373</td>\n",
       "      <td>500.853250</td>\n",
       "      <td>0.330941</td>\n",
       "      <td>10</td>\n",
       "      <td>0</td>\n",
       "      <td>0</td>\n",
       "    </tr>\n",
       "    <tr>\n",
       "      <th>91</th>\n",
       "      <td>Powershell</td>\n",
       "      <td>Install-Module\\nInstalls PowerShell modules fr...</td>\n",
       "      <td>5df0ccb8a5096dd0d5e30b87a25f1345</td>\n",
       "      <td>-88.999351</td>\n",
       "      <td>-50.085325</td>\n",
       "      <td>117.967373</td>\n",
       "      <td>500.853250</td>\n",
       "      <td>0.330941</td>\n",
       "      <td>10</td>\n",
       "      <td>1</td>\n",
       "      <td>0</td>\n",
       "    </tr>\n",
       "    <tr>\n",
       "      <th>216</th>\n",
       "      <td>Powershell</td>\n",
       "      <td>/i (msiexec argument)\\nIndicates installation ...</td>\n",
       "      <td>a1d240247e0beadefce88e5fb631725d</td>\n",
       "      <td>-42.196397</td>\n",
       "      <td>-50.085325</td>\n",
       "      <td>117.967373</td>\n",
       "      <td>500.853250</td>\n",
       "      <td>0.330941</td>\n",
       "      <td>10</td>\n",
       "      <td>2</td>\n",
       "      <td>0</td>\n",
       "    </tr>\n",
       "    <tr>\n",
       "      <th>92</th>\n",
       "      <td>Powershell</td>\n",
       "      <td>docker build\\nCreates a Docker image from a Do...</td>\n",
       "      <td>a1e0e72839f32b6040e3ad3ef1c5c3e6</td>\n",
       "      <td>-41.942294</td>\n",
       "      <td>-50.085325</td>\n",
       "      <td>117.967373</td>\n",
       "      <td>500.853250</td>\n",
       "      <td>0.330941</td>\n",
       "      <td>10</td>\n",
       "      <td>3</td>\n",
       "      <td>0</td>\n",
       "    </tr>\n",
       "    <tr>\n",
       "      <th>94</th>\n",
       "      <td>Powershell</td>\n",
       "      <td>Set-Content\\nWrites or replaces the content of...</td>\n",
       "      <td>1308516db1ce3834a2dde42ab99c3c5e</td>\n",
       "      <td>-41.164255</td>\n",
       "      <td>-50.085325</td>\n",
       "      <td>117.967373</td>\n",
       "      <td>500.853250</td>\n",
       "      <td>0.330941</td>\n",
       "      <td>10</td>\n",
       "      <td>4</td>\n",
       "      <td>0</td>\n",
       "    </tr>\n",
       "  </tbody>\n",
       "</table>\n",
       "</div>"
      ],
      "text/plain": [
       "                head                                               body  \\\n",
       "105  Network Mapping  NetFlow\\n\\nDefinition: A network protocol deve...   \n",
       "106  Network Mapping  Metasploit Exploit Modules\\n\\nDefinition: Comp...   \n",
       "107  Network Mapping  Exploit Buffers\\n\\nDefinition: Memory buffers ...   \n",
       "108  Network Mapping  Control Plane (in SDN)\\n\\nDefinition: The cent...   \n",
       "109  Network Mapping  IEEE 802.15.4\\n\\nDefinition: A standard for lo...   \n",
       "90        Powershell  Service Manager (services.msc)\\nA GUI tool for...   \n",
       "91        Powershell  Install-Module\\nInstalls PowerShell modules fr...   \n",
       "216       Powershell  /i (msiexec argument)\\nIndicates installation ...   \n",
       "92        Powershell  docker build\\nCreates a Docker image from a Do...   \n",
       "94        Powershell  Set-Content\\nWrites or replaces the content of...   \n",
       "\n",
       "                                 hash         age  subject_mean_age  \\\n",
       "105  f43c5cf90b1dc5e507343a4d03c36a9f  -62.375894        -42.404424   \n",
       "106  f37c6e846b3cd7a569639346d36e5790  -54.525566        -42.404424   \n",
       "107  e8dc3f804688ea403bc8e667999037eb  -36.976424        -42.404424   \n",
       "108  f47c05ce57bd8959e4c808465bd01dbc  -35.829272        -42.404424   \n",
       "109  8fd69bb841ba3f7fbc2e515f8a6962d2  -22.314965        -42.404424   \n",
       "90   31d581d8ea24442605e5c1c662d447b5 -117.967373        -50.085325   \n",
       "91   5df0ccb8a5096dd0d5e30b87a25f1345  -88.999351        -50.085325   \n",
       "216  a1d240247e0beadefce88e5fb631725d  -42.196397        -50.085325   \n",
       "92   a1e0e72839f32b6040e3ad3ef1c5c3e6  -41.942294        -50.085325   \n",
       "94   1308516db1ce3834a2dde42ab99c3c5e  -41.164255        -50.085325   \n",
       "\n",
       "     subject_highest_age  subject_age_sum  head_random_roll  frequency  count  \\\n",
       "105            62.375894       212.022121          0.401126          5      0   \n",
       "106            62.375894       212.022121          0.401126          5      1   \n",
       "107            62.375894       212.022121          0.401126          5      2   \n",
       "108            62.375894       212.022121          0.401126          5      3   \n",
       "109            62.375894       212.022121          0.401126          5      4   \n",
       "90            117.967373       500.853250          0.330941         10      0   \n",
       "91            117.967373       500.853250          0.330941         10      1   \n",
       "216           117.967373       500.853250          0.330941         10      2   \n",
       "92            117.967373       500.853250          0.330941         10      3   \n",
       "94            117.967373       500.853250          0.330941         10      4   \n",
       "\n",
       "     n_fold  \n",
       "105       0  \n",
       "106       0  \n",
       "107       0  \n",
       "108       0  \n",
       "109       0  \n",
       "90        0  \n",
       "91        0  \n",
       "216       0  \n",
       "92        0  \n",
       "94        0  "
      ]
     },
     "execution_count": 53,
     "metadata": {},
     "output_type": "execute_result"
    }
   ],
   "source": [
    "existing_cards.head(10)"
   ]
  },
  {
   "cell_type": "code",
   "execution_count": 54,
   "metadata": {},
   "outputs": [
    {
     "data": {
      "text/plain": [
       "-72.5693479777711"
      ]
     },
     "execution_count": 54,
     "metadata": {},
     "output_type": "execute_result"
    }
   ],
   "source": [
    "existing_cards['age'].mean()"
   ]
  }
 ],
 "metadata": {
  "kernelspec": {
   "display_name": "Python 3",
   "language": "python",
   "name": "python3"
  },
  "language_info": {
   "codemirror_mode": {
    "name": "ipython",
    "version": 3
   },
   "file_extension": ".py",
   "mimetype": "text/x-python",
   "name": "python",
   "nbconvert_exporter": "python",
   "pygments_lexer": "ipython3",
   "version": "3.10.10"
  }
 },
 "nbformat": 4,
 "nbformat_minor": 2
}
