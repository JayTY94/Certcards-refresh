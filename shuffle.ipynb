{
 "cells": [
  {
   "cell_type": "code",
   "execution_count": 127,
   "metadata": {},
   "outputs": [],
   "source": [
    "import re\n",
    "import random\n",
    "import pandas as pd\n",
    "import hashlib"
   ]
  },
  {
   "cell_type": "code",
   "execution_count": null,
   "metadata": {},
   "outputs": [],
   "source": [
    "with open('certcards2.txt', mode='r', encoding='utf8') as f:\n",
    "    all_cards = f.read()\n",
    "    \n",
    "card_split_pattern = r'\\n\\n\\n\\d+\\n'\n",
    "all_cards = re.split(card_split_pattern, all_cards)\n",
    "# Use re.DOTALL to allow . to match newline characters\n",
    "card_pattern = re.compile(r'(.+?)\\n([\\s\\S]+)', re.DOTALL)\n",
    "cards = [(match.group(1), match.group(2)) for cstring in all_cards if (match := re.search(card_pattern, cstring))]\n",
    "\n",
    "# removing the cards that have no content and trimming\n",
    "cards = [(subject, stripped_content) for subject, content in cards if len(stripped_content := content.strip()) > 5]\n",
    "\n",
    "def hash_string_md5(s):\n",
    "    \"\"\"\n",
    "    Hashes a string using MD5 and returns a truncated hash for efficiency.\n",
    "\n",
    "    Parameters:\n",
    "    - s (str): The input string to hash.\n",
    "\n",
    "    Returns:\n",
    "    - str: The truncated hexadecimal hash string.\n",
    "    \"\"\"\n",
    "    if pd.isnull(s):\n",
    "        return None  # Handle NaN values gracefully\n",
    "    return hashlib.md5(s.encode('utf-8')).hexdigest()\n",
    "\n",
    "\n",
    "def remake_card_document(existing_cards: pd.DataFrame, filename: str='certcards2.txt'):\n",
    "    with open(filename, mode='w', encoding='utf8') as f:\n",
    "        i = 1\n",
    "        for _, row in existing_cards.iterrows():\n",
    "            f.write('\\n'*6)\n",
    "            f.write(str(i)+'\\n')  \n",
    "            f.write(row['head']+'\\n')\n",
    "            f.write(row['body'])\n",
    "            i+=1\n",
    "    print(F\"Cards found: {existing_cards.shape[0]}\")\n",
    "    print(F\"Total card age: {abs(existing_cards['age'].sum()):.2f}\")\n",
    "\n",
    "\n",
    "existing_cards = pd.DataFrame(cards, columns=['head', 'body'])\n",
    "\n",
    "\n",
    "# existing_cards['age'] = [random.random() for _ in existing_cards.index]\n",
    "existing_cards['hash'] = existing_cards['body'].apply(hash_string_md5)\n",
    "existing_cards\n",
    "\n",
    "card_ages = pd.read_json('card_ages.json')\n",
    "card_ages = card_ages.drop_duplicates(subset=['hash'], keep='first')\n",
    "\n",
    "cards_to_age = pd.merge(\n",
    "    left=existing_cards,\n",
    "    right=card_ages[['hash', 'age']],\n",
    "    left_on='hash', right_on='hash',\n",
    "    how='left'\n",
    ")\n",
    "\n",
    "cards_to_age['head'] = cards_to_age['head'].str.strip()\n",
    "\n",
    "if cards_to_age['age'].sum() > 2e4: age_factor = .5\n",
    "else: age_factor = 1.5\n",
    "\n",
    "cards_to_age['age'] = cards_to_age['age'].fillna(0)\n",
    "# cards_to_age['age'] = cards_to_age['age'] * age_factor\n",
    "cards_to_age['age'] = cards_to_age['age'] + [random.expovariate(.60) for _ in cards_to_age.index]\n",
    "# cards_to_age['age'] = cards_to_age['age'] * [random.expovariate(1/age_factor) for _ in cards_to_age.index]\n",
    "\n",
    "# Adding priority age growth to cards for upcoming certifications\n",
    "priority_headers = ['Azure Developer Associate']\n",
    "priority_cards_mask = cards_to_age['head'].isin(priority_headers)\n",
    "cards_to_age.loc[priority_cards_mask, 'age'] = cards_to_age.loc[priority_cards_mask, 'age'] * 1.05\n",
    "\n",
    "cards_to_age = cards_to_age.drop_duplicates(subset=['hash'], keep='first')\n",
    "\n",
    "cards_to_age['subject_mean_age'] = cards_to_age.groupby('head')['age'].transform('mean')\n",
    "cards_to_age['subject_highest_age'] = cards_to_age.groupby('head')['age'].transform('max')\n",
    "cards_to_age['subject_age_sum'] = cards_to_age.groupby('head')['age'].transform('sum')\n",
    "cards_to_age['head_random_roll'] = cards_to_age.groupby('head')['head'].transform(lambda x: random.random())\n",
    "\n",
    "\n",
    "cards_to_age.sort_values('hash')[['age', 'head', 'hash']].to_json('card_ages.json', indent=2)\n",
    "\n",
    "existing_cards = cards_to_age"
   ]
  },
  {
   "cell_type": "code",
   "execution_count": 129,
   "metadata": {},
   "outputs": [
    {
     "data": {
      "text/html": [
       "<div>\n",
       "<style scoped>\n",
       "    .dataframe tbody tr th:only-of-type {\n",
       "        vertical-align: middle;\n",
       "    }\n",
       "\n",
       "    .dataframe tbody tr th {\n",
       "        vertical-align: top;\n",
       "    }\n",
       "\n",
       "    .dataframe thead th {\n",
       "        text-align: right;\n",
       "    }\n",
       "</style>\n",
       "<table border=\"1\" class=\"dataframe\">\n",
       "  <thead>\n",
       "    <tr style=\"text-align: right;\">\n",
       "      <th></th>\n",
       "      <th>age_sum</th>\n",
       "      <th>age_mean</th>\n",
       "      <th>age_max</th>\n",
       "      <th>head_count</th>\n",
       "    </tr>\n",
       "  </thead>\n",
       "  <tbody>\n",
       "    <tr>\n",
       "      <th>Asynchronous Python</th>\n",
       "      <td>87.372417</td>\n",
       "      <td>1.899400</td>\n",
       "      <td>7.864891</td>\n",
       "      <td>46</td>\n",
       "    </tr>\n",
       "    <tr>\n",
       "      <th>RAG Project</th>\n",
       "      <td>290.335818</td>\n",
       "      <td>12.097326</td>\n",
       "      <td>55.916502</td>\n",
       "      <td>24</td>\n",
       "    </tr>\n",
       "    <tr>\n",
       "      <th>Azure AD Authentication</th>\n",
       "      <td>408.613115</td>\n",
       "      <td>31.431778</td>\n",
       "      <td>89.798484</td>\n",
       "      <td>13</td>\n",
       "    </tr>\n",
       "    <tr>\n",
       "      <th>Azure DevOps Pipelines</th>\n",
       "      <td>409.116708</td>\n",
       "      <td>15.735258</td>\n",
       "      <td>91.535167</td>\n",
       "      <td>26</td>\n",
       "    </tr>\n",
       "    <tr>\n",
       "      <th>Azure Functions + Visual Studio</th>\n",
       "      <td>669.336872</td>\n",
       "      <td>51.487452</td>\n",
       "      <td>253.337711</td>\n",
       "      <td>13</td>\n",
       "    </tr>\n",
       "    <tr>\n",
       "      <th>Email Auth and Security</th>\n",
       "      <td>716.804703</td>\n",
       "      <td>59.733725</td>\n",
       "      <td>177.504897</td>\n",
       "      <td>12</td>\n",
       "    </tr>\n",
       "    <tr>\n",
       "      <th>Open Source/GitHub</th>\n",
       "      <td>719.329189</td>\n",
       "      <td>44.958074</td>\n",
       "      <td>154.145529</td>\n",
       "      <td>16</td>\n",
       "    </tr>\n",
       "    <tr>\n",
       "      <th>SharePoint</th>\n",
       "      <td>825.305814</td>\n",
       "      <td>91.700646</td>\n",
       "      <td>545.242920</td>\n",
       "      <td>9</td>\n",
       "    </tr>\n",
       "    <tr>\n",
       "      <th>Audit Report Tracker (Sharepoint List)</th>\n",
       "      <td>934.426837</td>\n",
       "      <td>77.868903</td>\n",
       "      <td>357.959495</td>\n",
       "      <td>12</td>\n",
       "    </tr>\n",
       "    <tr>\n",
       "      <th>WSL + Kali Linux</th>\n",
       "      <td>1110.334696</td>\n",
       "      <td>79.309621</td>\n",
       "      <td>293.819727</td>\n",
       "      <td>14</td>\n",
       "    </tr>\n",
       "    <tr>\n",
       "      <th>Azure Functions + PP365</th>\n",
       "      <td>1254.457077</td>\n",
       "      <td>59.736051</td>\n",
       "      <td>174.768930</td>\n",
       "      <td>21</td>\n",
       "    </tr>\n",
       "    <tr>\n",
       "      <th>Terraform</th>\n",
       "      <td>1364.694881</td>\n",
       "      <td>54.587795</td>\n",
       "      <td>284.378618</td>\n",
       "      <td>25</td>\n",
       "    </tr>\n",
       "    <tr>\n",
       "      <th>Todd Ideas</th>\n",
       "      <td>1523.917901</td>\n",
       "      <td>101.594527</td>\n",
       "      <td>388.088120</td>\n",
       "      <td>15</td>\n",
       "    </tr>\n",
       "    <tr>\n",
       "      <th>IW Migration</th>\n",
       "      <td>1756.943136</td>\n",
       "      <td>125.495938</td>\n",
       "      <td>594.378981</td>\n",
       "      <td>14</td>\n",
       "    </tr>\n",
       "    <tr>\n",
       "      <th>Python</th>\n",
       "      <td>2038.282021</td>\n",
       "      <td>43.367703</td>\n",
       "      <td>138.900500</td>\n",
       "      <td>47</td>\n",
       "    </tr>\n",
       "    <tr>\n",
       "      <th>Debugging in VS Code</th>\n",
       "      <td>2300.448178</td>\n",
       "      <td>115.022409</td>\n",
       "      <td>1171.805410</td>\n",
       "      <td>20</td>\n",
       "    </tr>\n",
       "    <tr>\n",
       "      <th>PnP PowerShell</th>\n",
       "      <td>2374.113412</td>\n",
       "      <td>32.973797</td>\n",
       "      <td>379.603690</td>\n",
       "      <td>72</td>\n",
       "    </tr>\n",
       "    <tr>\n",
       "      <th>JavaScript Concepts</th>\n",
       "      <td>3038.808553</td>\n",
       "      <td>57.336010</td>\n",
       "      <td>318.705129</td>\n",
       "      <td>53</td>\n",
       "    </tr>\n",
       "    <tr>\n",
       "      <th>Vocab</th>\n",
       "      <td>3162.283946</td>\n",
       "      <td>51.840720</td>\n",
       "      <td>316.737082</td>\n",
       "      <td>61</td>\n",
       "    </tr>\n",
       "    <tr>\n",
       "      <th>FSLogix</th>\n",
       "      <td>3270.446721</td>\n",
       "      <td>136.268613</td>\n",
       "      <td>1449.031175</td>\n",
       "      <td>24</td>\n",
       "    </tr>\n",
       "    <tr>\n",
       "      <th>Logging in Python</th>\n",
       "      <td>3857.545976</td>\n",
       "      <td>104.257999</td>\n",
       "      <td>460.874001</td>\n",
       "      <td>37</td>\n",
       "    </tr>\n",
       "    <tr>\n",
       "      <th>Powershell Modules</th>\n",
       "      <td>4362.128963</td>\n",
       "      <td>92.811255</td>\n",
       "      <td>804.380900</td>\n",
       "      <td>47</td>\n",
       "    </tr>\n",
       "    <tr>\n",
       "      <th>Azure Developer Associate</th>\n",
       "      <td>4382.062806</td>\n",
       "      <td>79.673869</td>\n",
       "      <td>884.865455</td>\n",
       "      <td>55</td>\n",
       "    </tr>\n",
       "  </tbody>\n",
       "</table>\n",
       "</div>"
      ],
      "text/plain": [
       "                                            age_sum    age_mean      age_max  \\\n",
       "Asynchronous Python                       87.372417    1.899400     7.864891   \n",
       "RAG Project                              290.335818   12.097326    55.916502   \n",
       "Azure AD Authentication                  408.613115   31.431778    89.798484   \n",
       "Azure DevOps Pipelines                   409.116708   15.735258    91.535167   \n",
       "Azure Functions + Visual Studio          669.336872   51.487452   253.337711   \n",
       "Email Auth and Security                  716.804703   59.733725   177.504897   \n",
       "Open Source/GitHub                       719.329189   44.958074   154.145529   \n",
       "SharePoint                               825.305814   91.700646   545.242920   \n",
       "Audit Report Tracker (Sharepoint List)   934.426837   77.868903   357.959495   \n",
       "WSL + Kali Linux                        1110.334696   79.309621   293.819727   \n",
       "Azure Functions + PP365                 1254.457077   59.736051   174.768930   \n",
       "Terraform                               1364.694881   54.587795   284.378618   \n",
       "Todd Ideas                              1523.917901  101.594527   388.088120   \n",
       "IW Migration                            1756.943136  125.495938   594.378981   \n",
       "Python                                  2038.282021   43.367703   138.900500   \n",
       "Debugging in VS Code                    2300.448178  115.022409  1171.805410   \n",
       "PnP PowerShell                          2374.113412   32.973797   379.603690   \n",
       "JavaScript Concepts                     3038.808553   57.336010   318.705129   \n",
       "Vocab                                   3162.283946   51.840720   316.737082   \n",
       "FSLogix                                 3270.446721  136.268613  1449.031175   \n",
       "Logging in Python                       3857.545976  104.257999   460.874001   \n",
       "Powershell Modules                      4362.128963   92.811255   804.380900   \n",
       "Azure Developer Associate               4382.062806   79.673869   884.865455   \n",
       "\n",
       "                                        head_count  \n",
       "Asynchronous Python                             46  \n",
       "RAG Project                                     24  \n",
       "Azure AD Authentication                         13  \n",
       "Azure DevOps Pipelines                          26  \n",
       "Azure Functions + Visual Studio                 13  \n",
       "Email Auth and Security                         12  \n",
       "Open Source/GitHub                              16  \n",
       "SharePoint                                       9  \n",
       "Audit Report Tracker (Sharepoint List)          12  \n",
       "WSL + Kali Linux                                14  \n",
       "Azure Functions + PP365                         21  \n",
       "Terraform                                       25  \n",
       "Todd Ideas                                      15  \n",
       "IW Migration                                    14  \n",
       "Python                                          47  \n",
       "Debugging in VS Code                            20  \n",
       "PnP PowerShell                                  72  \n",
       "JavaScript Concepts                             53  \n",
       "Vocab                                           61  \n",
       "FSLogix                                         24  \n",
       "Logging in Python                               37  \n",
       "Powershell Modules                              47  \n",
       "Azure Developer Associate                       55  "
      ]
     },
     "execution_count": 129,
     "metadata": {},
     "output_type": "execute_result"
    }
   ],
   "source": [
    "stats = existing_cards.groupby('head').agg({'age': ['sum', 'mean', 'max'], 'head': 'count'}).sort_values(('age', 'sum'))\n",
    "stats.columns = stats.columns.to_flat_index()\n",
    "stats.columns = ['_'.join(col).strip() for col in stats.columns]\n",
    "stats.index.name = None\n",
    "stats"
   ]
  },
  {
   "cell_type": "markdown",
   "metadata": {},
   "source": [
    "# Histogram"
   ]
  },
  {
   "cell_type": "code",
   "execution_count": 130,
   "metadata": {},
   "outputs": [
    {
     "name": "stdout",
     "output_type": "stream",
     "text": [
      "sum of ages: ~40857.11\n"
     ]
    },
    {
     "data": {
      "text/plain": [
       "<Axes: >"
      ]
     },
     "execution_count": 130,
     "metadata": {},
     "output_type": "execute_result"
    },
    {
     "data": {
      "image/png": "[encoded data removed]",
      "text/plain": [
       "<Figure size 640x480 with 1 Axes>"
      ]
     },
     "metadata": {},
     "output_type": "display_data"
    }
   ],
   "source": [
    "print(f\"sum of ages: ~{existing_cards['age'].sum(0):.2f}\")\n",
    "existing_cards['age'].hist(bins=20)"
   ]
  },
  {
   "cell_type": "markdown",
   "metadata": {},
   "source": [
    "# Completely Random Shuffle"
   ]
  },
  {
   "cell_type": "code",
   "execution_count": 131,
   "metadata": {},
   "outputs": [],
   "source": [
    "# existing_cards = existing_cards.sample(frac=1)\n",
    "# remake_card_document(filename='certcards2.txt', existing_cards = existing_cards)"
   ]
  },
  {
   "cell_type": "markdown",
   "metadata": {},
   "source": [
    "# Age Sort"
   ]
  },
  {
   "cell_type": "code",
   "execution_count": 132,
   "metadata": {},
   "outputs": [],
   "source": [
    "# existing_cards = existing_cards.sort_values('age', ascending=False)\n",
    "# remake_card_document(filename='certcards2.txt', existing_cards=existing_cards)\n",
    "# existing_cards.head(10)"
   ]
  },
  {
   "cell_type": "markdown",
   "metadata": {},
   "source": [
    "# Headers with fewest notes first"
   ]
  },
  {
   "cell_type": "code",
   "execution_count": 133,
   "metadata": {},
   "outputs": [],
   "source": [
    "# frequency = existing_cards['head'].value_counts(ascending=True)\n",
    "\n",
    "# existing_cards = pd.merge(\n",
    "#     left=existing_cards,\n",
    "#     right=frequency.rename('frequency'),\n",
    "#     left_on='head', right_index=True,\n",
    "#     how='left'\n",
    "# )\n",
    "# existing_cards['oldest'] = existing_cards.groupby('head')['age'].transform('max')\n",
    "# existing_cards['subject_highest_age'] = existing_cards['subject_highest_age'] * -1\n",
    "# existing_cards['age'] = existing_cards['age'] * -1\n",
    "\n",
    "\n",
    "# existing_cards.sort_values(['frequency', 'subject_highest_age', 'age'], ascending=True, inplace=True)\n",
    "\n",
    "# remake_card_document(filename='certcards2.txt', existing_cards=existing_cards)\n",
    "\n",
    "# existing_cards.head(10)"
   ]
  },
  {
   "cell_type": "markdown",
   "metadata": {},
   "source": [
    "# Focus on one header"
   ]
  },
  {
   "cell_type": "code",
   "execution_count": 134,
   "metadata": {},
   "outputs": [],
   "source": [
    "# heads = existing_cards['head'].value_counts()\n",
    "# heads = heads[heads > 5].index.tolist()\n",
    "# one_header = random.sample(heads, 1)[0]\n",
    "# existing_cards['pick_head'] = existing_cards['head'].apply(\n",
    "#     lambda h: 0 if h == one_header else 1 \n",
    "# )\n",
    "\n",
    "# remake_card_document(existing_cards=existing_cards.sort_values('pick_head'))"
   ]
  },
  {
   "cell_type": "markdown",
   "metadata": {},
   "source": [
    "## Header with oldest cards first"
   ]
  },
  {
   "cell_type": "code",
   "execution_count": 135,
   "metadata": {},
   "outputs": [],
   "source": [
    "# existing_cards['oldest'] = existing_cards.groupby('head')['age'].transform('max')\n",
    "# existing_cards.sort_values(['oldest', 'age'], ascending=False, inplace=True)\n",
    "# remake_card_document(existing_cards)"
   ]
  },
  {
   "cell_type": "markdown",
   "metadata": {},
   "source": [
    "## Headers with greatest mean card age first"
   ]
  },
  {
   "cell_type": "code",
   "execution_count": 136,
   "metadata": {},
   "outputs": [],
   "source": [
    "# existing_cards.sort_values(['subject_mean_age', 'age'], ascending=False, inplace=True)\n",
    "# remake_card_document(existing_cards)"
   ]
  },
  {
   "cell_type": "markdown",
   "metadata": {},
   "source": [
    "## Headers with greatest age sum first"
   ]
  },
  {
   "cell_type": "code",
   "execution_count": 137,
   "metadata": {},
   "outputs": [],
   "source": [
    "# existing_cards.sort_values(['subject_age_sum', 'age'], ascending=False, inplace=True)\n",
    "# remake_card_document(existing_cards)"
   ]
  },
  {
   "cell_type": "markdown",
   "metadata": {},
   "source": [
    "# N-fold shuffle\n"
   ]
  },
  {
   "cell_type": "markdown",
   "metadata": {},
   "source": [
    "## Age Sum"
   ]
  },
  {
   "cell_type": "code",
   "execution_count": 138,
   "metadata": {},
   "outputs": [],
   "source": [
    "# n=3\n",
    "# existing_cards['count'] = existing_cards.sort_values('age', ascending=False).groupby('head').cumcount()\n",
    "# existing_cards['n_fold'] = existing_cards['count'] % n\n",
    "\n",
    "# existing_cards['subject_age_sum'] = existing_cards['subject_age_sum'] *-1\n",
    "# existing_cards['age'] = existing_cards['age'] *-1\n",
    "# existing_cards.sort_values(['n_fold', 'subject_age_sum', 'age'], inplace=True)\n",
    "\n",
    "# remake_card_document(existing_cards=existing_cards)\n",
    "# existing_cards.head(10)\n"
   ]
  },
  {
   "cell_type": "markdown",
   "metadata": {},
   "source": [
    "## Age Mean"
   ]
  },
  {
   "cell_type": "code",
   "execution_count": 139,
   "metadata": {},
   "outputs": [],
   "source": [
    "# n=3\n",
    "# existing_cards['count'] = existing_cards.sort_values('age', ascending=False).groupby('head').cumcount()\n",
    "# existing_cards['n_fold'] = existing_cards['count'] % n\n",
    "\n",
    "# existing_cards['subject_mean_age'] = existing_cards['subject_mean_age'] *-1\n",
    "# existing_cards['age'] = existing_cards['age'] *-1\n",
    "# existing_cards.sort_values(['n_fold', 'subject_mean_age', 'age'], inplace=True)\n",
    "# remake_card_document(existing_cards=existing_cards)\n",
    "\n",
    "# existing_cards.head(10)\n",
    "\n"
   ]
  },
  {
   "cell_type": "markdown",
   "metadata": {},
   "source": [
    "## Age Max"
   ]
  },
  {
   "cell_type": "code",
   "execution_count": 140,
   "metadata": {},
   "outputs": [
    {
     "name": "stdout",
     "output_type": "stream",
     "text": [
      "Cards found: 676\n",
      "Total card age: 40857.11\n"
     ]
    },
    {
     "data": {
      "text/html": [
       "<div>\n",
       "<style scoped>\n",
       "    .dataframe tbody tr th:only-of-type {\n",
       "        vertical-align: middle;\n",
       "    }\n",
       "\n",
       "    .dataframe tbody tr th {\n",
       "        vertical-align: top;\n",
       "    }\n",
       "\n",
       "    .dataframe thead th {\n",
       "        text-align: right;\n",
       "    }\n",
       "</style>\n",
       "<table border=\"1\" class=\"dataframe\">\n",
       "  <thead>\n",
       "    <tr style=\"text-align: right;\">\n",
       "      <th></th>\n",
       "      <th>head</th>\n",
       "      <th>body</th>\n",
       "      <th>hash</th>\n",
       "      <th>age</th>\n",
       "      <th>subject_mean_age</th>\n",
       "      <th>subject_highest_age</th>\n",
       "      <th>subject_age_sum</th>\n",
       "      <th>head_random_roll</th>\n",
       "      <th>count</th>\n",
       "      <th>n_fold</th>\n",
       "    </tr>\n",
       "  </thead>\n",
       "  <tbody>\n",
       "    <tr>\n",
       "      <th>8</th>\n",
       "      <td>FSLogix</td>\n",
       "      <td>Q: What is the maximum supported size of a VHD...</td>\n",
       "      <td>93b72e810536a43d93f24f282a7be65c</td>\n",
       "      <td>-1449.031175</td>\n",
       "      <td>136.268613</td>\n",
       "      <td>-1449.031175</td>\n",
       "      <td>3270.446721</td>\n",
       "      <td>0.740567</td>\n",
       "      <td>0</td>\n",
       "      <td>0</td>\n",
       "    </tr>\n",
       "    <tr>\n",
       "      <th>46</th>\n",
       "      <td>Debugging in VS Code</td>\n",
       "      <td>Variable Inspection\\nThe process of viewing an...</td>\n",
       "      <td>25787b761b33ceb1bf8cb6aaf8dcbd8d</td>\n",
       "      <td>-1171.805410</td>\n",
       "      <td>115.022409</td>\n",
       "      <td>-1171.805410</td>\n",
       "      <td>2300.448178</td>\n",
       "      <td>0.811073</td>\n",
       "      <td>0</td>\n",
       "      <td>0</td>\n",
       "    </tr>\n",
       "    <tr>\n",
       "      <th>6</th>\n",
       "      <td>Azure Developer Associate</td>\n",
       "      <td>Q: What kind of database is Redis?\\nA: Redis i...</td>\n",
       "      <td>8f2e58ba1883836a7ebb06d96d602bd1</td>\n",
       "      <td>-884.865455</td>\n",
       "      <td>79.673869</td>\n",
       "      <td>-884.865455</td>\n",
       "      <td>4382.062806</td>\n",
       "      <td>0.048546</td>\n",
       "      <td>0</td>\n",
       "      <td>0</td>\n",
       "    </tr>\n",
       "    <tr>\n",
       "      <th>59</th>\n",
       "      <td>Powershell Modules</td>\n",
       "      <td>Dot Sourcing\\n\\nDefinition: A method to load f...</td>\n",
       "      <td>a223ab01f0d9ca18a35c9f28bb74e4c6</td>\n",
       "      <td>-804.380900</td>\n",
       "      <td>92.811255</td>\n",
       "      <td>-804.380900</td>\n",
       "      <td>4362.128963</td>\n",
       "      <td>0.858817</td>\n",
       "      <td>0</td>\n",
       "      <td>0</td>\n",
       "    </tr>\n",
       "    <tr>\n",
       "      <th>18</th>\n",
       "      <td>Powershell Modules</td>\n",
       "      <td>Directory Path for Modules\\n\\nDefinition: The ...</td>\n",
       "      <td>e466e074d98d536d01e0a699281e8fe1</td>\n",
       "      <td>-792.117778</td>\n",
       "      <td>92.811255</td>\n",
       "      <td>-804.380900</td>\n",
       "      <td>4362.128963</td>\n",
       "      <td>0.858817</td>\n",
       "      <td>1</td>\n",
       "      <td>1</td>\n",
       "    </tr>\n",
       "    <tr>\n",
       "      <th>42</th>\n",
       "      <td>IW Migration</td>\n",
       "      <td>Linked Table Manager (in Access)\\nA feature in...</td>\n",
       "      <td>5c59183063f46f48886078e49c5fa8ff</td>\n",
       "      <td>-594.378981</td>\n",
       "      <td>125.495938</td>\n",
       "      <td>-594.378981</td>\n",
       "      <td>1756.943136</td>\n",
       "      <td>0.896726</td>\n",
       "      <td>0</td>\n",
       "      <td>0</td>\n",
       "    </tr>\n",
       "    <tr>\n",
       "      <th>68</th>\n",
       "      <td>SharePoint</td>\n",
       "      <td>Which REST API endpoint would you use to check...</td>\n",
       "      <td>423efb21ffa13578c8f3d5fd95719ec1</td>\n",
       "      <td>-545.242920</td>\n",
       "      <td>91.700646</td>\n",
       "      <td>-545.242920</td>\n",
       "      <td>825.305814</td>\n",
       "      <td>0.737018</td>\n",
       "      <td>0</td>\n",
       "      <td>0</td>\n",
       "    </tr>\n",
       "    <tr>\n",
       "      <th>40</th>\n",
       "      <td>Azure Developer Associate</td>\n",
       "      <td>Q: Name 3 common use cases for Azure Cache for...</td>\n",
       "      <td>74aa9e7423c38eb295931eeaecc4677f</td>\n",
       "      <td>-486.232090</td>\n",
       "      <td>79.673869</td>\n",
       "      <td>-884.865455</td>\n",
       "      <td>4382.062806</td>\n",
       "      <td>0.048546</td>\n",
       "      <td>1</td>\n",
       "      <td>1</td>\n",
       "    </tr>\n",
       "    <tr>\n",
       "      <th>92</th>\n",
       "      <td>Logging in Python</td>\n",
       "      <td>Q: Why is it important to include timestamps i...</td>\n",
       "      <td>0e1d061a4c370db29ac13f252a5f6a6d</td>\n",
       "      <td>-460.874001</td>\n",
       "      <td>104.257999</td>\n",
       "      <td>-460.874001</td>\n",
       "      <td>3857.545976</td>\n",
       "      <td>0.206574</td>\n",
       "      <td>0</td>\n",
       "      <td>0</td>\n",
       "    </tr>\n",
       "    <tr>\n",
       "      <th>36</th>\n",
       "      <td>IW Migration</td>\n",
       "      <td>Check Constraints and Computed Columns (SQL Se...</td>\n",
       "      <td>d96d6d64c901f0c15fbd29df26d25d0a</td>\n",
       "      <td>-456.671294</td>\n",
       "      <td>125.495938</td>\n",
       "      <td>-594.378981</td>\n",
       "      <td>1756.943136</td>\n",
       "      <td>0.896726</td>\n",
       "      <td>1</td>\n",
       "      <td>1</td>\n",
       "    </tr>\n",
       "  </tbody>\n",
       "</table>\n",
       "</div>"
      ],
      "text/plain": [
       "                         head  \\\n",
       "8                     FSLogix   \n",
       "46       Debugging in VS Code   \n",
       "6   Azure Developer Associate   \n",
       "59         Powershell Modules   \n",
       "18         Powershell Modules   \n",
       "42               IW Migration   \n",
       "68                 SharePoint   \n",
       "40  Azure Developer Associate   \n",
       "92          Logging in Python   \n",
       "36               IW Migration   \n",
       "\n",
       "                                                 body  \\\n",
       "8   Q: What is the maximum supported size of a VHD...   \n",
       "46  Variable Inspection\\nThe process of viewing an...   \n",
       "6   Q: What kind of database is Redis?\\nA: Redis i...   \n",
       "59  Dot Sourcing\\n\\nDefinition: A method to load f...   \n",
       "18  Directory Path for Modules\\n\\nDefinition: The ...   \n",
       "42  Linked Table Manager (in Access)\\nA feature in...   \n",
       "68  Which REST API endpoint would you use to check...   \n",
       "40  Q: Name 3 common use cases for Azure Cache for...   \n",
       "92  Q: Why is it important to include timestamps i...   \n",
       "36  Check Constraints and Computed Columns (SQL Se...   \n",
       "\n",
       "                                hash          age  subject_mean_age  \\\n",
       "8   93b72e810536a43d93f24f282a7be65c -1449.031175        136.268613   \n",
       "46  25787b761b33ceb1bf8cb6aaf8dcbd8d -1171.805410        115.022409   \n",
       "6   8f2e58ba1883836a7ebb06d96d602bd1  -884.865455         79.673869   \n",
       "59  a223ab01f0d9ca18a35c9f28bb74e4c6  -804.380900         92.811255   \n",
       "18  e466e074d98d536d01e0a699281e8fe1  -792.117778         92.811255   \n",
       "42  5c59183063f46f48886078e49c5fa8ff  -594.378981        125.495938   \n",
       "68  423efb21ffa13578c8f3d5fd95719ec1  -545.242920         91.700646   \n",
       "40  74aa9e7423c38eb295931eeaecc4677f  -486.232090         79.673869   \n",
       "92  0e1d061a4c370db29ac13f252a5f6a6d  -460.874001        104.257999   \n",
       "36  d96d6d64c901f0c15fbd29df26d25d0a  -456.671294        125.495938   \n",
       "\n",
       "    subject_highest_age  subject_age_sum  head_random_roll  count  n_fold  \n",
       "8          -1449.031175      3270.446721          0.740567      0       0  \n",
       "46         -1171.805410      2300.448178          0.811073      0       0  \n",
       "6           -884.865455      4382.062806          0.048546      0       0  \n",
       "59          -804.380900      4362.128963          0.858817      0       0  \n",
       "18          -804.380900      4362.128963          0.858817      1       1  \n",
       "42          -594.378981      1756.943136          0.896726      0       0  \n",
       "68          -545.242920       825.305814          0.737018      0       0  \n",
       "40          -884.865455      4382.062806          0.048546      1       1  \n",
       "92          -460.874001      3857.545976          0.206574      0       0  \n",
       "36          -594.378981      1756.943136          0.896726      1       1  "
      ]
     },
     "execution_count": 140,
     "metadata": {},
     "output_type": "execute_result"
    }
   ],
   "source": [
    "n = 1\n",
    "existing_cards['count'] = existing_cards.sort_values('age', ascending=False).groupby('head').cumcount()\n",
    "existing_cards['n_fold'] = existing_cards['count'] // n\n",
    "\n",
    "if existing_cards['age'].sum() > 0:\n",
    "    existing_cards['subject_highest_age'] = existing_cards['subject_highest_age'] *-1\n",
    "    existing_cards['age'] = existing_cards['age'] *-1\n",
    "# existing_cards.sort_values(['n_fold', 'subject_highest_age', 'age'], inplace=True)\n",
    "existing_cards.sort_values(['age'], inplace=True)\n",
    "\n",
    "remake_card_document(existing_cards=existing_cards)\n",
    "existing_cards.head(10)\n"
   ]
  },
  {
   "cell_type": "markdown",
   "metadata": {},
   "source": [
    "## Card Count"
   ]
  },
  {
   "cell_type": "code",
   "execution_count": 141,
   "metadata": {},
   "outputs": [],
   "source": [
    "# n=10\n",
    "# existing_cards['frequency']  = existing_cards.groupby('head').transform('count')['body']\n",
    "# existing_cards['count'] = existing_cards.sort_values('age', ascending=False).groupby('head').cumcount()\n",
    "# existing_cards['n_fold'] = existing_cards['count'] // n\n",
    "\n",
    "# if existing_cards['age'].sum() > 0:\n",
    "#     # existing_cards['neg_subject_highest_age'] = existing_cards['subject_highest_age'] *-1\n",
    "#     existing_cards['neg_age'] = existing_cards['age'] *-1\n",
    "# existing_cards.sort_values(['n_fold', 'frequency', 'neg_age'], inplace=True)\n",
    "# remake_card_document(existing_cards=existing_cards)\n",
    "\n",
    "# existing_cards.head(10)\n",
    "\n"
   ]
  },
  {
   "cell_type": "markdown",
   "metadata": {},
   "source": [
    "\n",
    "## Random"
   ]
  },
  {
   "cell_type": "code",
   "execution_count": 142,
   "metadata": {},
   "outputs": [],
   "source": [
    "# n = 3\n",
    "# existing_cards['count'] = existing_cards.sort_values('age', ascending=False).groupby('head').cumcount()\n",
    "# existing_cards['n_fold'] = existing_cards['count'] % n\n",
    "# existing_cards['age'] *= -1\n",
    "# existing_cards.sort_values(['n_fold', 'head_random_roll', 'age'], inplace=True)\n",
    "# remake_card_document(existing_cards=existing_cards)\n",
    "# existing_cards.head(10)"
   ]
  },
  {
   "cell_type": "code",
   "execution_count": 143,
   "metadata": {},
   "outputs": [
    {
     "data": {
      "text/plain": [
       "head                   FSLogixDebugging in VS CodeAzure Developer Ass...\n",
       "body                   Q: What is the maximum supported size of a VHD...\n",
       "hash                   93b72e810536a43d93f24f282a7be65c25787b761b33ce...\n",
       "age                                                         -7645.600003\n",
       "subject_mean_age                                             1043.211792\n",
       "subject_highest_age                                         -8194.204177\n",
       "subject_age_sum                                             31256.016497\n",
       "head_random_roll                                                6.103411\n",
       "count                                                                  3\n",
       "n_fold                                                                 3\n",
       "dtype: object"
      ]
     },
     "execution_count": 143,
     "metadata": {},
     "output_type": "execute_result"
    }
   ],
   "source": [
    "existing_cards.head(10).sum()"
   ]
  },
  {
   "cell_type": "code",
   "execution_count": 144,
   "metadata": {},
   "outputs": [
    {
     "data": {
      "text/plain": [
       "-60.43951144689683"
      ]
     },
     "execution_count": 144,
     "metadata": {},
     "output_type": "execute_result"
    }
   ],
   "source": [
    "existing_cards['age'].mean()"
   ]
  }
 ],
 "metadata": {
  "kernelspec": {
   "display_name": "Python 3",
   "language": "python",
   "name": "python3"
  },
  "language_info": {
   "codemirror_mode": {
    "name": "ipython",
    "version": 3
   },
   "file_extension": ".py",
   "mimetype": "text/x-python",
   "name": "python",
   "nbconvert_exporter": "python",
   "pygments_lexer": "ipython3",
   "version": "3.10.10"
  }
 },
 "nbformat": 4,
 "nbformat_minor": 2
}
