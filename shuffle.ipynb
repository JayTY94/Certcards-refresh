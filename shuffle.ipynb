{
 "cells": [
  {
   "cell_type": "code",
   "execution_count": 1,
   "metadata": {},
   "outputs": [],
   "source": [
    "import re\n",
    "import random\n",
    "import pandas as pd\n",
    "import hashlib"
   ]
  },
  {
   "cell_type": "code",
   "execution_count": 2,
   "metadata": {},
   "outputs": [],
   "source": [
    "with open('certcards2.txt', mode='r', encoding='utf8') as f:\n",
    "    all_cards = f.read()\n",
    "    \n",
    "card_split_pattern = r'\\n\\n\\n\\d+\\n'\n",
    "all_cards = re.split(card_split_pattern, all_cards)\n",
    "# Use re.DOTALL to allow . to match newline characters\n",
    "card_pattern = re.compile(r'(.+?)\\n([\\s\\S]+)', re.DOTALL)\n",
    "cards = [(match.group(1), match.group(2)) for cstring in all_cards if (match := re.search(card_pattern, cstring))]\n",
    "\n",
    "# removing the cards that have no content and trimming\n",
    "cards = [(subject, stripped_content) for subject, content in cards if len(stripped_content := content.strip()) > 5]\n",
    "\n",
    "def hash_string_md5(s):\n",
    "    \"\"\"\n",
    "    Hashes a string using MD5 and returns a truncated hash for efficiency.\n",
    "\n",
    "    Parameters:\n",
    "    - s (str): The input string to hash.\n",
    "\n",
    "    Returns:\n",
    "    - str: The truncated hexadecimal hash string.\n",
    "    \"\"\"\n",
    "    if pd.isnull(s):\n",
    "        return None  # Handle NaN values gracefully\n",
    "    return hashlib.md5(s.encode('utf-8')).hexdigest()\n",
    "\n",
    "\n",
    "def remake_card_document(existing_cards: pd.DataFrame, filename: str='certcards2.txt'):\n",
    "    with open(filename, mode='w', encoding='utf8') as f:\n",
    "        i = 1\n",
    "        for _, row in existing_cards.iterrows():\n",
    "            f.write('\\n'*6)\n",
    "            f.write(str(i)+'\\n')  \n",
    "            f.write(row['head']+'\\n')\n",
    "            f.write(row['body'])\n",
    "            i+=1\n",
    "    print(F\"Cards found: {existing_cards.shape[0]}\")\n",
    "\n",
    "\n",
    "existing_cards = pd.DataFrame(cards, columns=['head', 'body'])\n",
    "\n",
    "\n",
    "# existing_cards['age'] = [random.random() for _ in existing_cards.index]\n",
    "existing_cards['hash'] = existing_cards['body'].apply(hash_string_md5)\n",
    "existing_cards\n",
    "\n",
    "card_ages = pd.read_json('card_ages.json')\n",
    "card_ages = card_ages.drop_duplicates(subset=['hash'], keep='first')\n",
    "\n",
    "cards_to_age = pd.merge(\n",
    "    left=existing_cards,\n",
    "    right=card_ages[['hash', 'age']],\n",
    "    left_on='hash', right_on='hash',\n",
    "    how='left'\n",
    ")\n",
    "\n",
    "cards_to_age['head'] = cards_to_age['head'].str.strip()\n",
    "\n",
    "if cards_to_age['age'].sum() > 2e4: age_factor = .5\n",
    "else: age_factor = 2\n",
    "\n",
    "cards_to_age['age'] = cards_to_age['age'].fillna(0)\n",
    "cards_to_age['age'] = cards_to_age['age'] * age_factor\n",
    "cards_to_age['age'] = cards_to_age['age'] + [random.expovariate(.60) for _ in cards_to_age.index]\n",
    "# cards_to_age['age'] = cards_to_age['age'] * [random.expovariate(age_factor) for _ in cards_to_age.index]\n",
    "\n",
    "# Adding priority age growth to cards for upcoming certifications\n",
    "priority_headers = ['Azure Developer Associate']\n",
    "priority_cards_mask = cards_to_age['head'].isin(priority_headers)\n",
    "cards_to_age.loc[priority_cards_mask, 'age'] = cards_to_age.loc[priority_cards_mask, 'age'] * 1.1\n",
    "\n",
    "\n",
    "cards_to_age = cards_to_age.drop_duplicates(subset=['hash'], keep='first')\n",
    "\n",
    "cards_to_age['subject_mean_age'] = cards_to_age.groupby('head')['age'].transform('mean')\n",
    "cards_to_age['subject_highest_age'] = cards_to_age.groupby('head')['age'].transform('max')\n",
    "cards_to_age['subject_age_sum'] = cards_to_age.groupby('head')['age'].transform('sum')\n",
    "cards_to_age['head_random_roll'] = cards_to_age.groupby('head')['head'].transform(lambda x: random.random())\n",
    "\n",
    "\n",
    "cards_to_age.sort_values('hash')[['age', 'head', 'hash']].to_json('card_ages.json', indent=2)\n",
    "\n",
    "existing_cards = cards_to_age"
   ]
  },
  {
   "cell_type": "code",
   "execution_count": 3,
   "metadata": {},
   "outputs": [
    {
     "data": {
      "application/vnd.microsoft.datawrangler.viewer.v0+json": {
       "columns": [
        {
         "name": "index",
         "rawType": "object",
         "type": "string"
        },
        {
         "name": "age_sum",
         "rawType": "float64",
         "type": "float"
        },
        {
         "name": "age_mean",
         "rawType": "float64",
         "type": "float"
        },
        {
         "name": "age_max",
         "rawType": "float64",
         "type": "float"
        },
        {
         "name": "head_count",
         "rawType": "int64",
         "type": "integer"
        }
       ],
       "conversionMethod": "pd.DataFrame",
       "ref": "b978c561-19aa-4ef0-90ac-263c037ad6a3",
       "rows": [
        [
         "Azure AI Search",
         "287.1254277315114",
         "57.425085546302284",
         "153.99331910579696",
         "5"
        ],
        [
         "Email Auth and Security",
         "1272.377255275044",
         "106.03143793958701",
         "472.59266655337785",
         "12"
        ],
        [
         "Home Network Project",
         "1715.849241094857",
         "190.64991567720634",
         "387.1178112617939",
         "9"
        ],
        [
         "Audit Report Tracker (Sharepoint List)",
         "2120.7999957799475",
         "163.1384612138421",
         "641.5059078886334",
         "13"
        ],
        [
         "IW Migration",
         "2180.3529067733366",
         "155.7394933409526",
         "512.6175407613277",
         "14"
        ],
        [
         "Todd Ideas",
         "2242.7794889767883",
         "149.51863259845257",
         "540.146366400449",
         "15"
        ],
        [
         "Debugging in VS Code",
         "2257.9063136183463",
         "112.89531568091732",
         "364.3108854451881",
         "20"
        ],
        [
         "Open Source/GitHub",
         "2267.0102386830686",
         "141.68813991769179",
         "604.8486403273313",
         "16"
        ],
        [
         "Terraform",
         "2402.8987241638665",
         "96.11594896655465",
         "376.11039267144866",
         "25"
        ],
        [
         "Python",
         "2475.657876917164",
         "52.673571849301354",
         "166.42403162994935",
         "47"
        ],
        [
         "DNS",
         "2503.805774253016",
         "250.3805774253016",
         "661.1507970139006",
         "10"
        ],
        [
         "Azure Functions + Visual Studio",
         "2670.5688154844615",
         "190.75491539174726",
         "626.556392571702",
         "14"
        ],
        [
         "SharePoint",
         "2821.394955181585",
         "235.11624626513208",
         "1232.2196201366805",
         "12"
        ],
        [
         "WSL + Kali Linux",
         "3116.1453360503338",
         "164.00764926580703",
         "819.5260585098931",
         "19"
        ],
        [
         "FSLogix",
         "4032.754169672109",
         "168.03142373633787",
         "530.1388246572732",
         "24"
        ],
        [
         "Azure Functions + PP365",
         "4623.360251767177",
         "201.01566312031204",
         "850.2190635177056",
         "23"
        ],
        [
         "Logging in Python",
         "5368.9703903126465",
         "114.23341255984354",
         "607.2617950801373",
         "47"
        ],
        [
         "Azure Developer Associate",
         "5558.532742977832",
         "88.23067845996559",
         "402.50204576961517",
         "63"
        ],
        [
         "Powershell Modules",
         "6213.605370301744",
         "126.8082728633009",
         "908.5739608440455",
         "49"
        ],
        [
         "Vocab",
         "6898.999859328278",
         "109.50793427505204",
         "935.749824608278",
         "63"
        ],
        [
         "PnP Powershell",
         "7095.7787442878835",
         "191.77780389967253",
         "570.9544395168751",
         "37"
        ],
        [
         "JavaScript Concepts",
         "7866.726845306453",
         "128.96273516895823",
         "848.2516449091352",
         "61"
        ]
       ],
       "shape": {
        "columns": 4,
        "rows": 22
       }
      },
      "text/html": [
       "<div>\n",
       "<style scoped>\n",
       "    .dataframe tbody tr th:only-of-type {\n",
       "        vertical-align: middle;\n",
       "    }\n",
       "\n",
       "    .dataframe tbody tr th {\n",
       "        vertical-align: top;\n",
       "    }\n",
       "\n",
       "    .dataframe thead th {\n",
       "        text-align: right;\n",
       "    }\n",
       "</style>\n",
       "<table border=\"1\" class=\"dataframe\">\n",
       "  <thead>\n",
       "    <tr style=\"text-align: right;\">\n",
       "      <th></th>\n",
       "      <th>age_sum</th>\n",
       "      <th>age_mean</th>\n",
       "      <th>age_max</th>\n",
       "      <th>head_count</th>\n",
       "    </tr>\n",
       "  </thead>\n",
       "  <tbody>\n",
       "    <tr>\n",
       "      <th>Azure AI Search</th>\n",
       "      <td>287.125428</td>\n",
       "      <td>57.425086</td>\n",
       "      <td>153.993319</td>\n",
       "      <td>5</td>\n",
       "    </tr>\n",
       "    <tr>\n",
       "      <th>Email Auth and Security</th>\n",
       "      <td>1272.377255</td>\n",
       "      <td>106.031438</td>\n",
       "      <td>472.592667</td>\n",
       "      <td>12</td>\n",
       "    </tr>\n",
       "    <tr>\n",
       "      <th>Home Network Project</th>\n",
       "      <td>1715.849241</td>\n",
       "      <td>190.649916</td>\n",
       "      <td>387.117811</td>\n",
       "      <td>9</td>\n",
       "    </tr>\n",
       "    <tr>\n",
       "      <th>Audit Report Tracker (Sharepoint List)</th>\n",
       "      <td>2120.799996</td>\n",
       "      <td>163.138461</td>\n",
       "      <td>641.505908</td>\n",
       "      <td>13</td>\n",
       "    </tr>\n",
       "    <tr>\n",
       "      <th>IW Migration</th>\n",
       "      <td>2180.352907</td>\n",
       "      <td>155.739493</td>\n",
       "      <td>512.617541</td>\n",
       "      <td>14</td>\n",
       "    </tr>\n",
       "    <tr>\n",
       "      <th>Todd Ideas</th>\n",
       "      <td>2242.779489</td>\n",
       "      <td>149.518633</td>\n",
       "      <td>540.146366</td>\n",
       "      <td>15</td>\n",
       "    </tr>\n",
       "    <tr>\n",
       "      <th>Debugging in VS Code</th>\n",
       "      <td>2257.906314</td>\n",
       "      <td>112.895316</td>\n",
       "      <td>364.310885</td>\n",
       "      <td>20</td>\n",
       "    </tr>\n",
       "    <tr>\n",
       "      <th>Open Source/GitHub</th>\n",
       "      <td>2267.010239</td>\n",
       "      <td>141.688140</td>\n",
       "      <td>604.848640</td>\n",
       "      <td>16</td>\n",
       "    </tr>\n",
       "    <tr>\n",
       "      <th>Terraform</th>\n",
       "      <td>2402.898724</td>\n",
       "      <td>96.115949</td>\n",
       "      <td>376.110393</td>\n",
       "      <td>25</td>\n",
       "    </tr>\n",
       "    <tr>\n",
       "      <th>Python</th>\n",
       "      <td>2475.657877</td>\n",
       "      <td>52.673572</td>\n",
       "      <td>166.424032</td>\n",
       "      <td>47</td>\n",
       "    </tr>\n",
       "    <tr>\n",
       "      <th>DNS</th>\n",
       "      <td>2503.805774</td>\n",
       "      <td>250.380577</td>\n",
       "      <td>661.150797</td>\n",
       "      <td>10</td>\n",
       "    </tr>\n",
       "    <tr>\n",
       "      <th>Azure Functions + Visual Studio</th>\n",
       "      <td>2670.568815</td>\n",
       "      <td>190.754915</td>\n",
       "      <td>626.556393</td>\n",
       "      <td>14</td>\n",
       "    </tr>\n",
       "    <tr>\n",
       "      <th>SharePoint</th>\n",
       "      <td>2821.394955</td>\n",
       "      <td>235.116246</td>\n",
       "      <td>1232.219620</td>\n",
       "      <td>12</td>\n",
       "    </tr>\n",
       "    <tr>\n",
       "      <th>WSL + Kali Linux</th>\n",
       "      <td>3116.145336</td>\n",
       "      <td>164.007649</td>\n",
       "      <td>819.526059</td>\n",
       "      <td>19</td>\n",
       "    </tr>\n",
       "    <tr>\n",
       "      <th>FSLogix</th>\n",
       "      <td>4032.754170</td>\n",
       "      <td>168.031424</td>\n",
       "      <td>530.138825</td>\n",
       "      <td>24</td>\n",
       "    </tr>\n",
       "    <tr>\n",
       "      <th>Azure Functions + PP365</th>\n",
       "      <td>4623.360252</td>\n",
       "      <td>201.015663</td>\n",
       "      <td>850.219064</td>\n",
       "      <td>23</td>\n",
       "    </tr>\n",
       "    <tr>\n",
       "      <th>Logging in Python</th>\n",
       "      <td>5368.970390</td>\n",
       "      <td>114.233413</td>\n",
       "      <td>607.261795</td>\n",
       "      <td>47</td>\n",
       "    </tr>\n",
       "    <tr>\n",
       "      <th>Azure Developer Associate</th>\n",
       "      <td>5558.532743</td>\n",
       "      <td>88.230678</td>\n",
       "      <td>402.502046</td>\n",
       "      <td>63</td>\n",
       "    </tr>\n",
       "    <tr>\n",
       "      <th>Powershell Modules</th>\n",
       "      <td>6213.605370</td>\n",
       "      <td>126.808273</td>\n",
       "      <td>908.573961</td>\n",
       "      <td>49</td>\n",
       "    </tr>\n",
       "    <tr>\n",
       "      <th>Vocab</th>\n",
       "      <td>6898.999859</td>\n",
       "      <td>109.507934</td>\n",
       "      <td>935.749825</td>\n",
       "      <td>63</td>\n",
       "    </tr>\n",
       "    <tr>\n",
       "      <th>PnP Powershell</th>\n",
       "      <td>7095.778744</td>\n",
       "      <td>191.777804</td>\n",
       "      <td>570.954440</td>\n",
       "      <td>37</td>\n",
       "    </tr>\n",
       "    <tr>\n",
       "      <th>JavaScript Concepts</th>\n",
       "      <td>7866.726845</td>\n",
       "      <td>128.962735</td>\n",
       "      <td>848.251645</td>\n",
       "      <td>61</td>\n",
       "    </tr>\n",
       "  </tbody>\n",
       "</table>\n",
       "</div>"
      ],
      "text/plain": [
       "                                            age_sum    age_mean      age_max  \\\n",
       "Azure AI Search                          287.125428   57.425086   153.993319   \n",
       "Email Auth and Security                 1272.377255  106.031438   472.592667   \n",
       "Home Network Project                    1715.849241  190.649916   387.117811   \n",
       "Audit Report Tracker (Sharepoint List)  2120.799996  163.138461   641.505908   \n",
       "IW Migration                            2180.352907  155.739493   512.617541   \n",
       "Todd Ideas                              2242.779489  149.518633   540.146366   \n",
       "Debugging in VS Code                    2257.906314  112.895316   364.310885   \n",
       "Open Source/GitHub                      2267.010239  141.688140   604.848640   \n",
       "Terraform                               2402.898724   96.115949   376.110393   \n",
       "Python                                  2475.657877   52.673572   166.424032   \n",
       "DNS                                     2503.805774  250.380577   661.150797   \n",
       "Azure Functions + Visual Studio         2670.568815  190.754915   626.556393   \n",
       "SharePoint                              2821.394955  235.116246  1232.219620   \n",
       "WSL + Kali Linux                        3116.145336  164.007649   819.526059   \n",
       "FSLogix                                 4032.754170  168.031424   530.138825   \n",
       "Azure Functions + PP365                 4623.360252  201.015663   850.219064   \n",
       "Logging in Python                       5368.970390  114.233413   607.261795   \n",
       "Azure Developer Associate               5558.532743   88.230678   402.502046   \n",
       "Powershell Modules                      6213.605370  126.808273   908.573961   \n",
       "Vocab                                   6898.999859  109.507934   935.749825   \n",
       "PnP Powershell                          7095.778744  191.777804   570.954440   \n",
       "JavaScript Concepts                     7866.726845  128.962735   848.251645   \n",
       "\n",
       "                                        head_count  \n",
       "Azure AI Search                                  5  \n",
       "Email Auth and Security                         12  \n",
       "Home Network Project                             9  \n",
       "Audit Report Tracker (Sharepoint List)          13  \n",
       "IW Migration                                    14  \n",
       "Todd Ideas                                      15  \n",
       "Debugging in VS Code                            20  \n",
       "Open Source/GitHub                              16  \n",
       "Terraform                                       25  \n",
       "Python                                          47  \n",
       "DNS                                             10  \n",
       "Azure Functions + Visual Studio                 14  \n",
       "SharePoint                                      12  \n",
       "WSL + Kali Linux                                19  \n",
       "FSLogix                                         24  \n",
       "Azure Functions + PP365                         23  \n",
       "Logging in Python                               47  \n",
       "Azure Developer Associate                       63  \n",
       "Powershell Modules                              49  \n",
       "Vocab                                           63  \n",
       "PnP Powershell                                  37  \n",
       "JavaScript Concepts                             61  "
      ]
     },
     "execution_count": 3,
     "metadata": {},
     "output_type": "execute_result"
    }
   ],
   "source": [
    "stats = existing_cards.groupby('head').agg({'age': ['sum', 'mean', 'max'], 'head': 'count'}).sort_values(('age', 'sum'))\n",
    "stats.columns = stats.columns.to_flat_index()\n",
    "stats.columns = ['_'.join(col).strip() for col in stats.columns]\n",
    "stats.index.name = None\n",
    "stats"
   ]
  },
  {
   "cell_type": "markdown",
   "metadata": {},
   "source": [
    "# Histogram"
   ]
  },
  {
   "cell_type": "code",
   "execution_count": 4,
   "metadata": {},
   "outputs": [
    {
     "name": "stdout",
     "output_type": "stream",
     "text": [
      "77993.40\n"
     ]
    },
    {
     "data": {
      "text/plain": [
       "<Axes: >"
      ]
     },
     "execution_count": 4,
     "metadata": {},
     "output_type": "execute_result"
    },
    {
     "data": {
      "image/png": "[encoded data removed]",
      "text/plain": [
       "<Figure size 640x480 with 1 Axes>"
      ]
     },
     "metadata": {},
     "output_type": "display_data"
    }
   ],
   "source": [
    "print(f\"{existing_cards['age'].sum(0):.2f}\")\n",
    "existing_cards['age'].hist(bins=20)"
   ]
  },
  {
   "cell_type": "markdown",
   "metadata": {},
   "source": [
    "# Completely Random Shuffle"
   ]
  },
  {
   "cell_type": "code",
   "execution_count": 5,
   "metadata": {},
   "outputs": [],
   "source": [
    "# existing_cards = existing_cards.sample(frac=1)\n",
    "# remake_card_document(filename='certcards2.txt', existing_cards = existing_cards)"
   ]
  },
  {
   "cell_type": "markdown",
   "metadata": {},
   "source": [
    "# Age Sort"
   ]
  },
  {
   "cell_type": "code",
   "execution_count": 6,
   "metadata": {},
   "outputs": [],
   "source": [
    "# existing_cards = existing_cards.sort_values('age', ascending=False)\n",
    "# remake_card_document(filename='certcards2.txt', existing_cards=existing_cards)\n",
    "# existing_cards.head(10)"
   ]
  },
  {
   "cell_type": "markdown",
   "metadata": {},
   "source": [
    "# Headers with fewest notes first"
   ]
  },
  {
   "cell_type": "code",
   "execution_count": 7,
   "metadata": {},
   "outputs": [],
   "source": [
    "# frequency = existing_cards['head'].value_counts(ascending=True)\n",
    "\n",
    "# existing_cards = pd.merge(\n",
    "#     left=existing_cards,\n",
    "#     right=frequency.rename('frequency'),\n",
    "#     left_on='head', right_index=True,\n",
    "#     how='left'\n",
    "# )\n",
    "# existing_cards['oldest'] = existing_cards.groupby('head')['age'].transform('max')\n",
    "# existing_cards['subject_highest_age'] = existing_cards['subject_highest_age'] * -1\n",
    "# existing_cards['age'] = existing_cards['age'] * -1\n",
    "\n",
    "\n",
    "# existing_cards.sort_values(['frequency', 'subject_highest_age', 'age'], ascending=True, inplace=True)\n",
    "\n",
    "# remake_card_document(filename='certcards2.txt', existing_cards=existing_cards)\n",
    "\n",
    "# existing_cards.head(10)"
   ]
  },
  {
   "cell_type": "markdown",
   "metadata": {},
   "source": [
    "# Focus on one header"
   ]
  },
  {
   "cell_type": "code",
   "execution_count": 8,
   "metadata": {},
   "outputs": [],
   "source": [
    "# heads = existing_cards['head'].value_counts()\n",
    "# heads = heads[heads > 5].index.tolist()\n",
    "# one_header = random.sample(heads, 1)[0]\n",
    "# existing_cards['pick_head'] = existing_cards['head'].apply(\n",
    "#     lambda h: 0 if h == one_header else 1 \n",
    "# )\n",
    "\n",
    "# remake_card_document(existing_cards=existing_cards.sort_values('pick_head'))"
   ]
  },
  {
   "cell_type": "markdown",
   "metadata": {},
   "source": [
    "## Header with oldest cards first"
   ]
  },
  {
   "cell_type": "code",
   "execution_count": 9,
   "metadata": {},
   "outputs": [],
   "source": [
    "# existing_cards['oldest'] = existing_cards.groupby('head')['age'].transform('max')\n",
    "# existing_cards.sort_values(['oldest', 'age'], ascending=False, inplace=True)\n",
    "# remake_card_document(existing_cards)"
   ]
  },
  {
   "cell_type": "markdown",
   "metadata": {},
   "source": [
    "## Headers with greatest mean card age first"
   ]
  },
  {
   "cell_type": "code",
   "execution_count": 10,
   "metadata": {},
   "outputs": [],
   "source": [
    "# existing_cards.sort_values(['subject_mean_age', 'age'], ascending=False, inplace=True)\n",
    "# remake_card_document(existing_cards)"
   ]
  },
  {
   "cell_type": "markdown",
   "metadata": {},
   "source": [
    "## Headers with greatest age sum first"
   ]
  },
  {
   "cell_type": "code",
   "execution_count": 11,
   "metadata": {},
   "outputs": [],
   "source": [
    "# existing_cards.sort_values(['subject_age_sum', 'age'], ascending=False, inplace=True)\n",
    "# remake_card_document(existing_cards)"
   ]
  },
  {
   "cell_type": "markdown",
   "metadata": {},
   "source": [
    "# N-fold shuffle\n"
   ]
  },
  {
   "cell_type": "markdown",
   "metadata": {},
   "source": [
    "## Age Sum"
   ]
  },
  {
   "cell_type": "code",
   "execution_count": 12,
   "metadata": {},
   "outputs": [],
   "source": [
    "# n=3\n",
    "# existing_cards['count'] = existing_cards.sort_values('age', ascending=False).groupby('head').cumcount()\n",
    "# existing_cards['n_fold'] = existing_cards['count'] % n\n",
    "\n",
    "# existing_cards['subject_age_sum'] = existing_cards['subject_age_sum'] *-1\n",
    "# existing_cards['age'] = existing_cards['age'] *-1\n",
    "# existing_cards.sort_values(['n_fold', 'subject_age_sum', 'age'], inplace=True)\n",
    "\n",
    "# remake_card_document(existing_cards=existing_cards)\n",
    "# existing_cards.head(10)\n"
   ]
  },
  {
   "cell_type": "markdown",
   "metadata": {},
   "source": [
    "## Age Mean"
   ]
  },
  {
   "cell_type": "code",
   "execution_count": 13,
   "metadata": {},
   "outputs": [],
   "source": [
    "# n=3\n",
    "# existing_cards['count'] = existing_cards.sort_values('age', ascending=False).groupby('head').cumcount()\n",
    "# existing_cards['n_fold'] = existing_cards['count'] % n\n",
    "\n",
    "# existing_cards['subject_mean_age'] = existing_cards['subject_mean_age'] *-1\n",
    "# existing_cards['age'] = existing_cards['age'] *-1\n",
    "# existing_cards.sort_values(['n_fold', 'subject_mean_age', 'age'], inplace=True)\n",
    "# remake_card_document(existing_cards=existing_cards)\n",
    "\n",
    "# existing_cards.head(10)\n",
    "\n"
   ]
  },
  {
   "cell_type": "markdown",
   "metadata": {},
   "source": [
    "## Age Max"
   ]
  },
  {
   "cell_type": "code",
   "execution_count": 14,
   "metadata": {},
   "outputs": [],
   "source": [
    "# n = 1\n",
    "# existing_cards['count'] = existing_cards.sort_values('age', ascending=False).groupby('head').cumcount()\n",
    "# existing_cards['n_fold'] = existing_cards['count'] // n\n",
    "\n",
    "# if existing_cards['age'].sum() > 0:\n",
    "#     existing_cards['subject_highest_age'] = existing_cards['subject_highest_age'] *-1\n",
    "#     existing_cards['age'] = existing_cards['age'] *-1\n",
    "# existing_cards.sort_values(['n_fold', 'subject_highest_age', 'age'], inplace=True)\n",
    "\n",
    "# remake_card_document(existing_cards=existing_cards)\n",
    "# existing_cards.head(10)\n"
   ]
  },
  {
   "cell_type": "markdown",
   "metadata": {},
   "source": [
    "## Card Count"
   ]
  },
  {
   "cell_type": "code",
   "execution_count": 15,
   "metadata": {},
   "outputs": [
    {
     "name": "stdout",
     "output_type": "stream",
     "text": [
      "Cards found: 598\n"
     ]
    },
    {
     "data": {
      "application/vnd.microsoft.datawrangler.viewer.v0+json": {
       "columns": [
        {
         "name": "index",
         "rawType": "int64",
         "type": "integer"
        },
        {
         "name": "head",
         "rawType": "object",
         "type": "string"
        },
        {
         "name": "body",
         "rawType": "object",
         "type": "string"
        },
        {
         "name": "hash",
         "rawType": "object",
         "type": "string"
        },
        {
         "name": "age",
         "rawType": "float64",
         "type": "float"
        },
        {
         "name": "subject_mean_age",
         "rawType": "float64",
         "type": "float"
        },
        {
         "name": "subject_highest_age",
         "rawType": "float64",
         "type": "float"
        },
        {
         "name": "subject_age_sum",
         "rawType": "float64",
         "type": "float"
        },
        {
         "name": "head_random_roll",
         "rawType": "float64",
         "type": "float"
        },
        {
         "name": "frequency",
         "rawType": "int64",
         "type": "integer"
        },
        {
         "name": "count",
         "rawType": "int64",
         "type": "integer"
        },
        {
         "name": "n_fold",
         "rawType": "int64",
         "type": "integer"
        },
        {
         "name": "neg_age",
         "rawType": "float64",
         "type": "float"
        }
       ],
       "conversionMethod": "pd.DataFrame",
       "ref": "fdea9a50-c4c1-4f1a-b988-07c047ebeeea",
       "rows": [
        [
         "19",
         "Azure AI Search",
         "Depending on the data source, the indexer will try different operations to extract potentially indexable content:\n\nWhen the document is a file with embedded images, such as a PDF, the indexer extracts text, images, and metadata. Indexers can open files from Azure Blob Storage, Azure Data Lake Storage Gen2, and SharePoint.",
         "174152a2bbcf47a98c775881c08cb859",
         "153.99331910579696",
         "57.425085546302284",
         "153.99331910579696",
         "287.1254277315114",
         "0.8313167904656925",
         "5",
         "0",
         "0",
         "-153.99331910579696"
        ],
        [
         "63",
         "Azure AI Search",
         "You can have multiple indexers writing into the same index, and you can reuse the same data source for multiple indexers. However, an indexer can only consume one data source at a time, and can only write to a single index.",
         "6fa6b72701d75c9f0303f4cb1e41a727",
         "62.13969410420197",
         "57.425085546302284",
         "153.99331910579696",
         "287.1254277315114",
         "0.8313167904656925",
         "5",
         "1",
         "0",
         "-62.13969410420197"
        ],
        [
         "41",
         "Azure AI Search",
         "Indexers accept flattened row sets, such as a table or view, or items in a container or folder. In most cases, it creates one search document per row, record, or item.",
         "db6319092d57fbee73b4303162210c87",
         "58.334300296856206",
         "57.425085546302284",
         "153.99331910579696",
         "287.1254277315114",
         "0.8313167904656925",
         "5",
         "2",
         "0",
         "-58.334300296856206"
        ],
        [
         "85",
         "Azure AI Search",
         "Indexers drive skillset execution and AI enrichment, where you can configure skills to integrate extra processing of content en route to an index. A few examples are OCR over image files, text split skill for data chunking, and calling embedding models to generate vectors for vector search.",
         "00f9445dabceaa6785a03a2fe9ca3e6a",
         "9.660862796982975",
         "57.425085546302284",
         "153.99331910579696",
         "287.1254277315114",
         "0.8313167904656925",
         "5",
         "3",
         "0",
         "-9.660862796982975"
        ],
        [
         "107",
         "Azure AI Search",
         "If AI enrichment or integrated vectorization are solution requirements, you must use the pull model (indexers) to load an index. Skillsets are attached to indexers and don't run independently.",
         "962099b4170c82661ee91a2305499892",
         "2.997251427673292",
         "57.425085546302284",
         "153.99331910579696",
         "287.1254277315114",
         "0.8313167904656925",
         "5",
         "4",
         "0",
         "-2.997251427673292"
        ],
        [
         "21",
         "Home Network Project",
         "Front: What is Prometheus and what is its role in network monitoring?\n\nBack: Prometheus is an open-source monitoring and alerting toolkit designed for reliability and scalability. It collects and stores metrics from various services and systems, allowing users to query and analyze performance data to monitor the health and performance of their network and applications.",
         "755ebd6f02228677a75b6d5c6a3a262b",
         "387.1178112617939",
         "190.64991567720634",
         "387.1178112617939",
         "1715.849241094857",
         "0.6706219555603878",
         "9",
         "0",
         "0",
         "-387.1178112617939"
        ],
        [
         "43",
         "Home Network Project",
         "Front: What is Snort and how is it used in network security?\n\nBack: Snort is an open-source network intrusion detection and prevention system (IDS/IPS). It analyzes network traffic in real-time, using predefined rules to detect malicious activities such as exploits, port scans, and unauthorized access attempts. Snort can be integrated into pfSense to enhance network security by identifying and responding to potential threats.",
         "683e252e6cd1d5d4c6a922595ea870c2",
         "335.59108099801256",
         "190.64991567720634",
         "387.1178112617939",
         "1715.849241094857",
         "0.6706219555603878",
         "9",
         "1",
         "0",
         "-335.59108099801256"
        ],
        [
         "65",
         "Home Network Project",
         "Front: Explain the purpose of AllowedIPs in WireGuard configuration.\n\nBack: AllowedIPs defines the IP addresses that are permitted to be routed through the VPN tunnel for a specific peer. It acts as both an access control list and routing rule, determining which traffic should be encrypted and sent through the VPN and which should bypass it.\n\nThe -f flag indicates the name of the Dockerfile to use.\nThe -t flag specifies the name of the image to be created; in this example, myapp:v1.\nThe final parameter, ., provides the build context for the source files for the COPY command: the set of files on the host computer needed during the build process.",
         "d14e782be9a841023c501edfae03db9b",
         "257.3019906448331",
         "190.64991567720634",
         "387.1178112617939",
         "1715.849241094857",
         "0.6706219555603878",
         "9",
         "2",
         "0",
         "-257.3019906448331"
        ],
        [
         "87",
         "Home Network Project",
         "Front: What is Network Latency and how can it affect network performance?\n\nBack: Network Latency refers to the time it takes for data to travel from the source to the destination across a network. High latency can result in delays, slow application performance, lag in real-time communications, and poor user experiences, especially in activities like gaming, video conferencing, and streaming.",
         "bd0bb233271b734d83628f3d11673db1",
         "157.16678225616064",
         "190.64991567720634",
         "387.1178112617939",
         "1715.849241094857",
         "0.6706219555603878",
         "9",
         "3",
         "0",
         "-157.16678225616064"
        ],
        [
         "109",
         "Home Network Project",
         "Front: What are Service Discovery and its importance in containerized environments?\n\nBack: Service Discovery is the process of automatically detecting and locating services within a network, particularly in dynamic environments like container orchestration platforms. It enables containers to find and communicate with each other without manual configuration, facilitating scalability and efficient resource management.",
         "2a29803f26c8c989a48a460c5f0d864b",
         "145.55832253843167",
         "190.64991567720634",
         "387.1178112617939",
         "1715.849241094857",
         "0.6706219555603878",
         "9",
         "4",
         "0",
         "-145.55832253843167"
        ]
       ],
       "shape": {
        "columns": 12,
        "rows": 10
       }
      },
      "text/html": [
       "<div>\n",
       "<style scoped>\n",
       "    .dataframe tbody tr th:only-of-type {\n",
       "        vertical-align: middle;\n",
       "    }\n",
       "\n",
       "    .dataframe tbody tr th {\n",
       "        vertical-align: top;\n",
       "    }\n",
       "\n",
       "    .dataframe thead th {\n",
       "        text-align: right;\n",
       "    }\n",
       "</style>\n",
       "<table border=\"1\" class=\"dataframe\">\n",
       "  <thead>\n",
       "    <tr style=\"text-align: right;\">\n",
       "      <th></th>\n",
       "      <th>head</th>\n",
       "      <th>body</th>\n",
       "      <th>hash</th>\n",
       "      <th>age</th>\n",
       "      <th>subject_mean_age</th>\n",
       "      <th>subject_highest_age</th>\n",
       "      <th>subject_age_sum</th>\n",
       "      <th>head_random_roll</th>\n",
       "      <th>frequency</th>\n",
       "      <th>count</th>\n",
       "      <th>n_fold</th>\n",
       "      <th>neg_age</th>\n",
       "    </tr>\n",
       "  </thead>\n",
       "  <tbody>\n",
       "    <tr>\n",
       "      <th>19</th>\n",
       "      <td>Azure AI Search</td>\n",
       "      <td>Depending on the data source, the indexer will...</td>\n",
       "      <td>174152a2bbcf47a98c775881c08cb859</td>\n",
       "      <td>153.993319</td>\n",
       "      <td>57.425086</td>\n",
       "      <td>153.993319</td>\n",
       "      <td>287.125428</td>\n",
       "      <td>0.831317</td>\n",
       "      <td>5</td>\n",
       "      <td>0</td>\n",
       "      <td>0</td>\n",
       "      <td>-153.993319</td>\n",
       "    </tr>\n",
       "    <tr>\n",
       "      <th>63</th>\n",
       "      <td>Azure AI Search</td>\n",
       "      <td>You can have multiple indexers writing into th...</td>\n",
       "      <td>6fa6b72701d75c9f0303f4cb1e41a727</td>\n",
       "      <td>62.139694</td>\n",
       "      <td>57.425086</td>\n",
       "      <td>153.993319</td>\n",
       "      <td>287.125428</td>\n",
       "      <td>0.831317</td>\n",
       "      <td>5</td>\n",
       "      <td>1</td>\n",
       "      <td>0</td>\n",
       "      <td>-62.139694</td>\n",
       "    </tr>\n",
       "    <tr>\n",
       "      <th>41</th>\n",
       "      <td>Azure AI Search</td>\n",
       "      <td>Indexers accept flattened row sets, such as a ...</td>\n",
       "      <td>db6319092d57fbee73b4303162210c87</td>\n",
       "      <td>58.334300</td>\n",
       "      <td>57.425086</td>\n",
       "      <td>153.993319</td>\n",
       "      <td>287.125428</td>\n",
       "      <td>0.831317</td>\n",
       "      <td>5</td>\n",
       "      <td>2</td>\n",
       "      <td>0</td>\n",
       "      <td>-58.334300</td>\n",
       "    </tr>\n",
       "    <tr>\n",
       "      <th>85</th>\n",
       "      <td>Azure AI Search</td>\n",
       "      <td>Indexers drive skillset execution and AI enric...</td>\n",
       "      <td>00f9445dabceaa6785a03a2fe9ca3e6a</td>\n",
       "      <td>9.660863</td>\n",
       "      <td>57.425086</td>\n",
       "      <td>153.993319</td>\n",
       "      <td>287.125428</td>\n",
       "      <td>0.831317</td>\n",
       "      <td>5</td>\n",
       "      <td>3</td>\n",
       "      <td>0</td>\n",
       "      <td>-9.660863</td>\n",
       "    </tr>\n",
       "    <tr>\n",
       "      <th>107</th>\n",
       "      <td>Azure AI Search</td>\n",
       "      <td>If AI enrichment or integrated vectorization a...</td>\n",
       "      <td>962099b4170c82661ee91a2305499892</td>\n",
       "      <td>2.997251</td>\n",
       "      <td>57.425086</td>\n",
       "      <td>153.993319</td>\n",
       "      <td>287.125428</td>\n",
       "      <td>0.831317</td>\n",
       "      <td>5</td>\n",
       "      <td>4</td>\n",
       "      <td>0</td>\n",
       "      <td>-2.997251</td>\n",
       "    </tr>\n",
       "    <tr>\n",
       "      <th>21</th>\n",
       "      <td>Home Network Project</td>\n",
       "      <td>Front: What is Prometheus and what is its role...</td>\n",
       "      <td>755ebd6f02228677a75b6d5c6a3a262b</td>\n",
       "      <td>387.117811</td>\n",
       "      <td>190.649916</td>\n",
       "      <td>387.117811</td>\n",
       "      <td>1715.849241</td>\n",
       "      <td>0.670622</td>\n",
       "      <td>9</td>\n",
       "      <td>0</td>\n",
       "      <td>0</td>\n",
       "      <td>-387.117811</td>\n",
       "    </tr>\n",
       "    <tr>\n",
       "      <th>43</th>\n",
       "      <td>Home Network Project</td>\n",
       "      <td>Front: What is Snort and how is it used in net...</td>\n",
       "      <td>683e252e6cd1d5d4c6a922595ea870c2</td>\n",
       "      <td>335.591081</td>\n",
       "      <td>190.649916</td>\n",
       "      <td>387.117811</td>\n",
       "      <td>1715.849241</td>\n",
       "      <td>0.670622</td>\n",
       "      <td>9</td>\n",
       "      <td>1</td>\n",
       "      <td>0</td>\n",
       "      <td>-335.591081</td>\n",
       "    </tr>\n",
       "    <tr>\n",
       "      <th>65</th>\n",
       "      <td>Home Network Project</td>\n",
       "      <td>Front: Explain the purpose of AllowedIPs in Wi...</td>\n",
       "      <td>d14e782be9a841023c501edfae03db9b</td>\n",
       "      <td>257.301991</td>\n",
       "      <td>190.649916</td>\n",
       "      <td>387.117811</td>\n",
       "      <td>1715.849241</td>\n",
       "      <td>0.670622</td>\n",
       "      <td>9</td>\n",
       "      <td>2</td>\n",
       "      <td>0</td>\n",
       "      <td>-257.301991</td>\n",
       "    </tr>\n",
       "    <tr>\n",
       "      <th>87</th>\n",
       "      <td>Home Network Project</td>\n",
       "      <td>Front: What is Network Latency and how can it ...</td>\n",
       "      <td>bd0bb233271b734d83628f3d11673db1</td>\n",
       "      <td>157.166782</td>\n",
       "      <td>190.649916</td>\n",
       "      <td>387.117811</td>\n",
       "      <td>1715.849241</td>\n",
       "      <td>0.670622</td>\n",
       "      <td>9</td>\n",
       "      <td>3</td>\n",
       "      <td>0</td>\n",
       "      <td>-157.166782</td>\n",
       "    </tr>\n",
       "    <tr>\n",
       "      <th>109</th>\n",
       "      <td>Home Network Project</td>\n",
       "      <td>Front: What are Service Discovery and its impo...</td>\n",
       "      <td>2a29803f26c8c989a48a460c5f0d864b</td>\n",
       "      <td>145.558323</td>\n",
       "      <td>190.649916</td>\n",
       "      <td>387.117811</td>\n",
       "      <td>1715.849241</td>\n",
       "      <td>0.670622</td>\n",
       "      <td>9</td>\n",
       "      <td>4</td>\n",
       "      <td>0</td>\n",
       "      <td>-145.558323</td>\n",
       "    </tr>\n",
       "  </tbody>\n",
       "</table>\n",
       "</div>"
      ],
      "text/plain": [
       "                     head                                               body  \\\n",
       "19        Azure AI Search  Depending on the data source, the indexer will...   \n",
       "63        Azure AI Search  You can have multiple indexers writing into th...   \n",
       "41        Azure AI Search  Indexers accept flattened row sets, such as a ...   \n",
       "85        Azure AI Search  Indexers drive skillset execution and AI enric...   \n",
       "107       Azure AI Search  If AI enrichment or integrated vectorization a...   \n",
       "21   Home Network Project  Front: What is Prometheus and what is its role...   \n",
       "43   Home Network Project  Front: What is Snort and how is it used in net...   \n",
       "65   Home Network Project  Front: Explain the purpose of AllowedIPs in Wi...   \n",
       "87   Home Network Project  Front: What is Network Latency and how can it ...   \n",
       "109  Home Network Project  Front: What are Service Discovery and its impo...   \n",
       "\n",
       "                                 hash         age  subject_mean_age  \\\n",
       "19   174152a2bbcf47a98c775881c08cb859  153.993319         57.425086   \n",
       "63   6fa6b72701d75c9f0303f4cb1e41a727   62.139694         57.425086   \n",
       "41   db6319092d57fbee73b4303162210c87   58.334300         57.425086   \n",
       "85   00f9445dabceaa6785a03a2fe9ca3e6a    9.660863         57.425086   \n",
       "107  962099b4170c82661ee91a2305499892    2.997251         57.425086   \n",
       "21   755ebd6f02228677a75b6d5c6a3a262b  387.117811        190.649916   \n",
       "43   683e252e6cd1d5d4c6a922595ea870c2  335.591081        190.649916   \n",
       "65   d14e782be9a841023c501edfae03db9b  257.301991        190.649916   \n",
       "87   bd0bb233271b734d83628f3d11673db1  157.166782        190.649916   \n",
       "109  2a29803f26c8c989a48a460c5f0d864b  145.558323        190.649916   \n",
       "\n",
       "     subject_highest_age  subject_age_sum  head_random_roll  frequency  count  \\\n",
       "19            153.993319       287.125428          0.831317          5      0   \n",
       "63            153.993319       287.125428          0.831317          5      1   \n",
       "41            153.993319       287.125428          0.831317          5      2   \n",
       "85            153.993319       287.125428          0.831317          5      3   \n",
       "107           153.993319       287.125428          0.831317          5      4   \n",
       "21            387.117811      1715.849241          0.670622          9      0   \n",
       "43            387.117811      1715.849241          0.670622          9      1   \n",
       "65            387.117811      1715.849241          0.670622          9      2   \n",
       "87            387.117811      1715.849241          0.670622          9      3   \n",
       "109           387.117811      1715.849241          0.670622          9      4   \n",
       "\n",
       "     n_fold     neg_age  \n",
       "19        0 -153.993319  \n",
       "63        0  -62.139694  \n",
       "41        0  -58.334300  \n",
       "85        0   -9.660863  \n",
       "107       0   -2.997251  \n",
       "21        0 -387.117811  \n",
       "43        0 -335.591081  \n",
       "65        0 -257.301991  \n",
       "87        0 -157.166782  \n",
       "109       0 -145.558323  "
      ]
     },
     "execution_count": 15,
     "metadata": {},
     "output_type": "execute_result"
    }
   ],
   "source": [
    "n=10\n",
    "existing_cards['frequency']  = existing_cards.groupby('head').transform('count')['body']\n",
    "existing_cards['count'] = existing_cards.sort_values('age', ascending=False).groupby('head').cumcount()\n",
    "existing_cards['n_fold'] = existing_cards['count'] // n\n",
    "\n",
    "if existing_cards['age'].sum() > 0:\n",
    "    # existing_cards['neg_subject_highest_age'] = existing_cards['subject_highest_age'] *-1\n",
    "    existing_cards['neg_age'] = existing_cards['age'] *-1\n",
    "existing_cards.sort_values(['n_fold', 'frequency', 'neg_age'], inplace=True)\n",
    "remake_card_document(existing_cards=existing_cards)\n",
    "\n",
    "existing_cards.head(10)\n",
    "\n"
   ]
  },
  {
   "cell_type": "markdown",
   "metadata": {},
   "source": [
    "\n",
    "## Random"
   ]
  },
  {
   "cell_type": "code",
   "execution_count": 16,
   "metadata": {},
   "outputs": [],
   "source": [
    "# n = 3\n",
    "# existing_cards['count'] = existing_cards.sort_values('age', ascending=False).groupby('head').cumcount()\n",
    "# existing_cards['n_fold'] = existing_cards['count'] % n\n",
    "# existing_cards['age'] *= -1\n",
    "# existing_cards.sort_values(['n_fold', 'head_random_roll', 'age'], inplace=True)\n",
    "# remake_card_document(existing_cards=existing_cards)\n",
    "# existing_cards.head(10)"
   ]
  },
  {
   "cell_type": "code",
   "execution_count": 17,
   "metadata": {},
   "outputs": [
    {
     "data": {
      "text/plain": [
       "head                   Azure AI SearchAzure AI SearchAzure AI SearchA...\n",
       "body                   Depending on the data source, the indexer will...\n",
       "hash                   174152a2bbcf47a98c775881c08cb8596fa6b72701d75c...\n",
       "age                                                          1569.861415\n",
       "subject_mean_age                                             1240.375006\n",
       "subject_highest_age                                          2705.555652\n",
       "subject_age_sum                                             10014.873344\n",
       "head_random_roll                                                7.509694\n",
       "frequency                                                             70\n",
       "count                                                                 20\n",
       "n_fold                                                                 0\n",
       "neg_age                                                     -1569.861415\n",
       "dtype: object"
      ]
     },
     "execution_count": 17,
     "metadata": {},
     "output_type": "execute_result"
    }
   ],
   "source": [
    "existing_cards.head(10).sum()"
   ]
  },
  {
   "cell_type": "code",
   "execution_count": 18,
   "metadata": {},
   "outputs": [
    {
     "data": {
      "text/plain": [
       "130.42374702999572"
      ]
     },
     "execution_count": 18,
     "metadata": {},
     "output_type": "execute_result"
    }
   ],
   "source": [
    "existing_cards['age'].mean()"
   ]
  }
 ],
 "metadata": {
  "kernelspec": {
   "display_name": "Python 3",
   "language": "python",
   "name": "python3"
  },
  "language_info": {
   "codemirror_mode": {
    "name": "ipython",
    "version": 3
   },
   "file_extension": ".py",
   "mimetype": "text/x-python",
   "name": "python",
   "nbconvert_exporter": "python",
   "pygments_lexer": "ipython3",
   "version": "3.10.10"
  }
 },
 "nbformat": 4,
 "nbformat_minor": 2
}
