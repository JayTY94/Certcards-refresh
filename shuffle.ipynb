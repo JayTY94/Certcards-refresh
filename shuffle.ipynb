{
 "cells": [
  {
   "cell_type": "code",
   "execution_count": 18,
   "metadata": {},
   "outputs": [],
   "source": [
    "import re\n",
    "import random\n",
    "import pandas as pd\n",
    "import hashlib"
   ]
  },
  {
   "cell_type": "code",
   "execution_count": 19,
   "metadata": {},
   "outputs": [],
   "source": [
    "with open('certcards2.txt', mode='r', encoding='utf8') as f:\n",
    "    all_cards = f.read()\n",
    "    \n",
    "card_split_pattern = r'\\n\\n\\n\\d+\\n'\n",
    "all_cards = re.split(card_split_pattern, all_cards)\n",
    "# Use re.DOTALL to allow . to match newline characters\n",
    "card_pattern = re.compile(r'(.+?)\\n([\\s\\S]+)', re.DOTALL)\n",
    "cards = [(match.group(1), match.group(2)) for cstring in all_cards if (match := re.search(card_pattern, cstring))]\n",
    "\n",
    "# removing the cards that have no content and trimming\n",
    "cards = [(subject, stripped_content) for subject, content in cards if len(stripped_content := content.strip()) > 5]\n",
    "\n",
    "def hash_string_md5(s):\n",
    "    \"\"\"\n",
    "    Hashes a string using MD5 and returns a truncated hash for efficiency.\n",
    "\n",
    "    Parameters:\n",
    "    - s (str): The input string to hash.\n",
    "\n",
    "    Returns:\n",
    "    - str: The truncated hexadecimal hash string.\n",
    "    \"\"\"\n",
    "    if pd.isnull(s):\n",
    "        return None  # Handle NaN values gracefully\n",
    "    return hashlib.md5(s.encode('utf-8')).hexdigest()  # Truncate to first 12 characters\n",
    "\n",
    "\n",
    "def remake_card_document(existing_cards: pd.DataFrame, filename: str='certcards2.txt'):\n",
    "    with open(filename, mode='w', encoding='utf8') as f:\n",
    "        i = 1\n",
    "        for _, row in existing_cards.iterrows():\n",
    "            f.write('\\n'*6)\n",
    "            f.write(str(i)+'\\n')  \n",
    "            f.write(row['head']+'\\n')\n",
    "            f.write(row['body'])\n",
    "            i+=1\n",
    "    print(F\"Cards found: {existing_cards.shape[0]}\")\n",
    "\n",
    "\n",
    "existing_cards = pd.DataFrame(cards, columns=['head', 'body'])\n",
    "\n",
    "\n",
    "# existing_cards['age'] = [random.random() for _ in existing_cards.index]\n",
    "existing_cards['hash'] = existing_cards['body'].apply(hash_string_md5)\n",
    "existing_cards\n",
    "\n",
    "card_ages = pd.read_json('card_ages.json')\n",
    "card_ages = card_ages.drop_duplicates(subset=['hash'], keep='first')\n",
    "\n",
    "cards_to_age = pd.merge(\n",
    "    left=existing_cards,\n",
    "    right=card_ages[['hash', 'age']],\n",
    "    left_on='hash', right_on='hash',\n",
    "    how='left'\n",
    ")\n",
    "\n",
    "cards_to_age['head'] = cards_to_age['head'].str.strip()\n",
    "\n",
    "if cards_to_age['age'].sum() > 2e4: age_factor = 1\n",
    "else: age_factor = 1.00\n",
    "\n",
    "cards_to_age['age'] = cards_to_age['age'].fillna(0)\n",
    "cards_to_age['age'] = cards_to_age['age'] * age_factor\n",
    "cards_to_age['age'] = cards_to_age['age'] + [random.expovariate(.75) for _ in cards_to_age.index]\n",
    "# cards_to_age['age'] = cards_to_age['age'] * [random.expovariate(.75) for _ in cards_to_age.index]\n",
    "\n",
    "\n",
    "cards_to_age = cards_to_age.drop_duplicates(subset=['hash'], keep='first')\n",
    "\n",
    "cards_to_age['subject_mean_age'] = cards_to_age.groupby('head')['age'].transform('mean')\n",
    "cards_to_age['subject_highest_age'] = cards_to_age.groupby('head')['age'].transform('max')\n",
    "cards_to_age['subject_age_sum'] = cards_to_age.groupby('head')['age'].transform('sum')\n",
    "cards_to_age['head_random_roll'] = cards_to_age.groupby('head')['head'].transform(lambda x: random.random())\n",
    "\n",
    "\n",
    "cards_to_age.sort_values('age')[['age', 'head', 'hash']].to_json('card_ages.json', indent=2)\n",
    "\n",
    "existing_cards = cards_to_age"
   ]
  },
  {
   "cell_type": "code",
   "execution_count": 20,
   "metadata": {},
   "outputs": [
    {
     "data": {
      "text/html": [
       "<div>\n",
       "<style scoped>\n",
       "    .dataframe tbody tr th:only-of-type {\n",
       "        vertical-align: middle;\n",
       "    }\n",
       "\n",
       "    .dataframe tbody tr th {\n",
       "        vertical-align: top;\n",
       "    }\n",
       "\n",
       "    .dataframe thead th {\n",
       "        text-align: right;\n",
       "    }\n",
       "</style>\n",
       "<table border=\"1\" class=\"dataframe\">\n",
       "  <thead>\n",
       "    <tr style=\"text-align: right;\">\n",
       "      <th></th>\n",
       "      <th>age_sum</th>\n",
       "      <th>age_mean</th>\n",
       "      <th>head_count</th>\n",
       "    </tr>\n",
       "  </thead>\n",
       "  <tbody>\n",
       "    <tr>\n",
       "      <th>Azure AI Search</th>\n",
       "      <td>212.622431</td>\n",
       "      <td>15.187316</td>\n",
       "      <td>14</td>\n",
       "    </tr>\n",
       "    <tr>\n",
       "      <th>AKS</th>\n",
       "      <td>214.413119</td>\n",
       "      <td>71.471040</td>\n",
       "      <td>3</td>\n",
       "    </tr>\n",
       "    <tr>\n",
       "      <th>Network Mapping</th>\n",
       "      <td>333.586346</td>\n",
       "      <td>15.885064</td>\n",
       "      <td>21</td>\n",
       "    </tr>\n",
       "    <tr>\n",
       "      <th>Lost in a Good Book</th>\n",
       "      <td>364.575511</td>\n",
       "      <td>18.228776</td>\n",
       "      <td>20</td>\n",
       "    </tr>\n",
       "    <tr>\n",
       "      <th>MS Identity Platform</th>\n",
       "      <td>646.656006</td>\n",
       "      <td>92.379429</td>\n",
       "      <td>7</td>\n",
       "    </tr>\n",
       "    <tr>\n",
       "      <th>Taxes</th>\n",
       "      <td>794.288316</td>\n",
       "      <td>79.428832</td>\n",
       "      <td>10</td>\n",
       "    </tr>\n",
       "    <tr>\n",
       "      <th>sklearn</th>\n",
       "      <td>856.618102</td>\n",
       "      <td>171.323620</td>\n",
       "      <td>5</td>\n",
       "    </tr>\n",
       "    <tr>\n",
       "      <th>Finance Junk</th>\n",
       "      <td>962.047890</td>\n",
       "      <td>120.255986</td>\n",
       "      <td>8</td>\n",
       "    </tr>\n",
       "    <tr>\n",
       "      <th>Search Engine Optimization</th>\n",
       "      <td>1016.870691</td>\n",
       "      <td>59.815923</td>\n",
       "      <td>17</td>\n",
       "    </tr>\n",
       "    <tr>\n",
       "      <th>Open Source/GitHub</th>\n",
       "      <td>1155.448436</td>\n",
       "      <td>50.236889</td>\n",
       "      <td>23</td>\n",
       "    </tr>\n",
       "    <tr>\n",
       "      <th>PP365</th>\n",
       "      <td>1220.318563</td>\n",
       "      <td>122.031856</td>\n",
       "      <td>10</td>\n",
       "    </tr>\n",
       "    <tr>\n",
       "      <th>PEP 8</th>\n",
       "      <td>1223.044613</td>\n",
       "      <td>42.173952</td>\n",
       "      <td>29</td>\n",
       "    </tr>\n",
       "    <tr>\n",
       "      <th>Python</th>\n",
       "      <td>1363.536534</td>\n",
       "      <td>170.442067</td>\n",
       "      <td>8</td>\n",
       "    </tr>\n",
       "    <tr>\n",
       "      <th>WSL + Kali Linux</th>\n",
       "      <td>1418.132777</td>\n",
       "      <td>41.709788</td>\n",
       "      <td>34</td>\n",
       "    </tr>\n",
       "    <tr>\n",
       "      <th>Email Auth and Security</th>\n",
       "      <td>1630.175235</td>\n",
       "      <td>95.892661</td>\n",
       "      <td>17</td>\n",
       "    </tr>\n",
       "    <tr>\n",
       "      <th>Diffusers Library</th>\n",
       "      <td>1646.218919</td>\n",
       "      <td>164.621892</td>\n",
       "      <td>10</td>\n",
       "    </tr>\n",
       "    <tr>\n",
       "      <th>Azure AI Foundry</th>\n",
       "      <td>1650.937064</td>\n",
       "      <td>110.062471</td>\n",
       "      <td>15</td>\n",
       "    </tr>\n",
       "    <tr>\n",
       "      <th>Diffusers from Hugging Face</th>\n",
       "      <td>1928.514171</td>\n",
       "      <td>192.851417</td>\n",
       "      <td>10</td>\n",
       "    </tr>\n",
       "    <tr>\n",
       "      <th>OData</th>\n",
       "      <td>2316.150235</td>\n",
       "      <td>89.082701</td>\n",
       "      <td>26</td>\n",
       "    </tr>\n",
       "    <tr>\n",
       "      <th>Azure Functions</th>\n",
       "      <td>2348.732788</td>\n",
       "      <td>102.118817</td>\n",
       "      <td>23</td>\n",
       "    </tr>\n",
       "    <tr>\n",
       "      <th>Powershell</th>\n",
       "      <td>2509.778451</td>\n",
       "      <td>119.513260</td>\n",
       "      <td>21</td>\n",
       "    </tr>\n",
       "    <tr>\n",
       "      <th>Jane Eyre</th>\n",
       "      <td>2659.651287</td>\n",
       "      <td>110.818804</td>\n",
       "      <td>24</td>\n",
       "    </tr>\n",
       "    <tr>\n",
       "      <th>IW Migration</th>\n",
       "      <td>2719.612893</td>\n",
       "      <td>123.618768</td>\n",
       "      <td>22</td>\n",
       "    </tr>\n",
       "    <tr>\n",
       "      <th>Home Network Project</th>\n",
       "      <td>3093.116641</td>\n",
       "      <td>147.291269</td>\n",
       "      <td>21</td>\n",
       "    </tr>\n",
       "    <tr>\n",
       "      <th>DNS</th>\n",
       "      <td>3339.215598</td>\n",
       "      <td>151.782527</td>\n",
       "      <td>22</td>\n",
       "    </tr>\n",
       "    <tr>\n",
       "      <th>Azure Kubernetes Learning Path</th>\n",
       "      <td>3380.278629</td>\n",
       "      <td>153.649029</td>\n",
       "      <td>22</td>\n",
       "    </tr>\n",
       "  </tbody>\n",
       "</table>\n",
       "</div>"
      ],
      "text/plain": [
       "                                    age_sum    age_mean  head_count\n",
       "Azure AI Search                  212.622431   15.187316          14\n",
       "AKS                              214.413119   71.471040           3\n",
       "Network Mapping                  333.586346   15.885064          21\n",
       "Lost in a Good Book              364.575511   18.228776          20\n",
       "MS Identity Platform             646.656006   92.379429           7\n",
       "Taxes                            794.288316   79.428832          10\n",
       "sklearn                          856.618102  171.323620           5\n",
       "Finance Junk                     962.047890  120.255986           8\n",
       "Search Engine Optimization      1016.870691   59.815923          17\n",
       "Open Source/GitHub              1155.448436   50.236889          23\n",
       "PP365                           1220.318563  122.031856          10\n",
       "PEP 8                           1223.044613   42.173952          29\n",
       "Python                          1363.536534  170.442067           8\n",
       "WSL + Kali Linux                1418.132777   41.709788          34\n",
       "Email Auth and Security         1630.175235   95.892661          17\n",
       "Diffusers Library               1646.218919  164.621892          10\n",
       "Azure AI Foundry                1650.937064  110.062471          15\n",
       "Diffusers from Hugging Face     1928.514171  192.851417          10\n",
       "OData                           2316.150235   89.082701          26\n",
       "Azure Functions                 2348.732788  102.118817          23\n",
       "Powershell                      2509.778451  119.513260          21\n",
       "Jane Eyre                       2659.651287  110.818804          24\n",
       "IW Migration                    2719.612893  123.618768          22\n",
       "Home Network Project            3093.116641  147.291269          21\n",
       "DNS                             3339.215598  151.782527          22\n",
       "Azure Kubernetes Learning Path  3380.278629  153.649029          22"
      ]
     },
     "execution_count": 20,
     "metadata": {},
     "output_type": "execute_result"
    }
   ],
   "source": [
    "stats = existing_cards.groupby('head').agg({'age': ['sum', 'mean'], 'head': 'count'}).sort_values(('age', 'sum'))\n",
    "stats.columns = stats.columns.to_flat_index()\n",
    "stats.columns = ['_'.join(col).strip() for col in stats.columns]\n",
    "stats.index.name = None\n",
    "stats"
   ]
  },
  {
   "cell_type": "markdown",
   "metadata": {},
   "source": [
    "# Histogram"
   ]
  },
  {
   "cell_type": "code",
   "execution_count": 21,
   "metadata": {},
   "outputs": [
    {
     "name": "stdout",
     "output_type": "stream",
     "text": [
      "41004.54\n"
     ]
    },
    {
     "data": {
      "text/plain": [
       "<Axes: >"
      ]
     },
     "execution_count": 21,
     "metadata": {},
     "output_type": "execute_result"
    },
    {
     "data": {
      "image/png": "[encoded data removed]",
      "text/plain": [
       "<Figure size 640x480 with 1 Axes>"
      ]
     },
     "metadata": {},
     "output_type": "display_data"
    }
   ],
   "source": [
    "print(f\"{existing_cards['age'].sum(0):.2f}\")\n",
    "existing_cards['age'].hist(bins=20)"
   ]
  },
  {
   "cell_type": "markdown",
   "metadata": {},
   "source": [
    "# Completely Random Shuffle"
   ]
  },
  {
   "cell_type": "code",
   "execution_count": 22,
   "metadata": {},
   "outputs": [],
   "source": [
    "# existing_cards = existing_cards.sample(frac=1)\n",
    "# remake_card_document(filename='certcards2.txt', existing_cards = existing_cards)"
   ]
  },
  {
   "cell_type": "markdown",
   "metadata": {},
   "source": [
    "# Age Sort"
   ]
  },
  {
   "cell_type": "code",
   "execution_count": 23,
   "metadata": {},
   "outputs": [],
   "source": [
    "# existing_cards = existing_cards.sort_values('age', ascending=False)\n",
    "# remake_card_document(filename='certcards2.txt', existing_cards=existing_cards)\n",
    "# existing_cards.head(10)"
   ]
  },
  {
   "cell_type": "markdown",
   "metadata": {},
   "source": [
    "# Headers with fewest notes first"
   ]
  },
  {
   "cell_type": "code",
   "execution_count": 24,
   "metadata": {},
   "outputs": [
    {
     "name": "stdout",
     "output_type": "stream",
     "text": [
      "Cards found: 442\n"
     ]
    }
   ],
   "source": [
    "frequency = existing_cards['head'].value_counts(ascending=True)\n",
    "\n",
    "existing_cards = pd.merge(\n",
    "    left=existing_cards,\n",
    "    right=frequency.rename('frequency'),\n",
    "    left_on='head', right_index=True,\n",
    "    how='left'\n",
    ")\n",
    "existing_cards['oldest'] = existing_cards.groupby('head')['age'].transform('max')\n",
    "existing_cards['subject_highest_age'] = existing_cards['subject_highest_age'] * -1\n",
    "existing_cards['age'] = existing_cards['age'] * -1\n",
    "\n",
    "\n",
    "existing_cards.sort_values(['frequency', 'subject_highest_age', 'age'], ascending=True, inplace=True)\n",
    "\n",
    "remake_card_document(filename='certcards2.txt', existing_cards=existing_cards)"
   ]
  },
  {
   "cell_type": "markdown",
   "metadata": {},
   "source": [
    "# Focus on one header"
   ]
  },
  {
   "cell_type": "code",
   "execution_count": 25,
   "metadata": {},
   "outputs": [],
   "source": [
    "# heads = existing_cards['head'].value_counts()\n",
    "# heads = heads[heads > 5].index.tolist()\n",
    "# one_header = random.sample(heads, 1)[0]\n",
    "# existing_cards['pick_head'] = existing_cards['head'].apply(\n",
    "#     lambda h: 0 if h == one_header else 1 \n",
    "# )\n",
    "\n",
    "# remake_card_document(existing_cards=existing_cards.sort_values('pick_head'))"
   ]
  },
  {
   "cell_type": "markdown",
   "metadata": {},
   "source": [
    "## Header with oldest cards first"
   ]
  },
  {
   "cell_type": "code",
   "execution_count": 26,
   "metadata": {},
   "outputs": [],
   "source": [
    "# existing_cards['oldest'] = existing_cards.groupby('head')['age'].transform('max')\n",
    "# existing_cards.sort_values(['oldest', 'age'], ascending=False, inplace=True)\n",
    "# remake_card_document(existing_cards)"
   ]
  },
  {
   "cell_type": "markdown",
   "metadata": {},
   "source": [
    "## Headers with greatest mean card age first"
   ]
  },
  {
   "cell_type": "code",
   "execution_count": 27,
   "metadata": {},
   "outputs": [],
   "source": [
    "# existing_cards.sort_values(['subject_mean_age', 'age'], ascending=False, inplace=True)\n",
    "# remake_card_document(existing_cards)"
   ]
  },
  {
   "cell_type": "markdown",
   "metadata": {},
   "source": [
    "## Headers with greatest age sum first"
   ]
  },
  {
   "cell_type": "code",
   "execution_count": 28,
   "metadata": {},
   "outputs": [],
   "source": [
    "# existing_cards.sort_values(['subject_age_sum', 'age'], ascending=False, inplace=True)\n",
    "# remake_card_document(existing_cards)"
   ]
  },
  {
   "cell_type": "markdown",
   "metadata": {},
   "source": [
    "# N-fold shuffle\n",
    "\n",
    "## Random"
   ]
  },
  {
   "cell_type": "code",
   "execution_count": 29,
   "metadata": {},
   "outputs": [],
   "source": [
    "# n = 3\n",
    "# existing_cards['count'] = existing_cards.sort_values('age', ascending=False).groupby('head').cumcount()\n",
    "# existing_cards['n_fold'] = existing_cards['count'] % n\n",
    "# existing_cards['age'] *= -1\n",
    "# existing_cards.sort_values(['n_fold', 'head_random_roll', 'age'], inplace=True)\n",
    "# remake_card_document(existing_cards=existing_cards)\n",
    "# existing_cards.head(10)"
   ]
  },
  {
   "cell_type": "markdown",
   "metadata": {},
   "source": [
    "## Age Sum"
   ]
  },
  {
   "cell_type": "code",
   "execution_count": 30,
   "metadata": {},
   "outputs": [],
   "source": [
    "# n=4\n",
    "# existing_cards['count'] = existing_cards.sort_values('age', ascending=False).groupby('head').cumcount()\n",
    "# existing_cards['n_fold'] = existing_cards['count'] % n\n",
    "\n",
    "# existing_cards['subject_age_sum'] = existing_cards['subject_age_sum'] *-1\n",
    "# existing_cards['age'] = existing_cards['age'] *-1\n",
    "# existing_cards.sort_values(['n_fold', 'subject_age_sum', 'age'], inplace=True)\n",
    "# existing_cards.head(10)\n",
    "\n",
    "# remake_card_document(existing_cards=existing_cards)"
   ]
  },
  {
   "cell_type": "markdown",
   "metadata": {},
   "source": [
    "## Age max"
   ]
  },
  {
   "cell_type": "code",
   "execution_count": 31,
   "metadata": {},
   "outputs": [],
   "source": [
    "# n = 3\n",
    "# existing_cards['count'] = existing_cards.sort_values('age', ascending=False).groupby('head').cumcount()\n",
    "# existing_cards['n_fold'] = existing_cards['count'] // n\n",
    "\n",
    "# existing_cards['subject_highest_age'] = existing_cards['subject_highest_age'] *-1\n",
    "# existing_cards['age'] = existing_cards['age'] *-1\n",
    "# existing_cards.sort_values(['n_fold', 'subject_highest_age', 'age'], inplace=True)\n",
    "\n",
    "# remake_card_document(existing_cards=existing_cards)\n",
    "# existing_cards.head(10)\n"
   ]
  },
  {
   "cell_type": "markdown",
   "metadata": {},
   "source": [
    "## Age Mean"
   ]
  },
  {
   "cell_type": "code",
   "execution_count": 32,
   "metadata": {},
   "outputs": [],
   "source": [
    "# n=3\n",
    "# existing_cards['count'] = existing_cards.sort_values('age', ascending=False).groupby('head').cumcount()\n",
    "# existing_cards['n_fold'] = existing_cards['count'] // n\n",
    "\n",
    "# existing_cards['subject_mean_age'] = existing_cards['subject_mean_age'] *-1\n",
    "# existing_cards['age'] = existing_cards['age'] *-1\n",
    "# existing_cards.sort_values(['n_fold', 'subject_mean_age', 'age'], inplace=True)\n",
    "# existing_cards.head(10)\n",
    "\n",
    "# remake_card_document(existing_cards=existing_cards)\n"
   ]
  },
  {
   "cell_type": "code",
   "execution_count": 33,
   "metadata": {},
   "outputs": [
    {
     "data": {
      "text/html": [
       "<div>\n",
       "<style scoped>\n",
       "    .dataframe tbody tr th:only-of-type {\n",
       "        vertical-align: middle;\n",
       "    }\n",
       "\n",
       "    .dataframe tbody tr th {\n",
       "        vertical-align: top;\n",
       "    }\n",
       "\n",
       "    .dataframe thead th {\n",
       "        text-align: right;\n",
       "    }\n",
       "</style>\n",
       "<table border=\"1\" class=\"dataframe\">\n",
       "  <thead>\n",
       "    <tr style=\"text-align: right;\">\n",
       "      <th></th>\n",
       "      <th>head</th>\n",
       "      <th>body</th>\n",
       "      <th>hash</th>\n",
       "      <th>age</th>\n",
       "      <th>subject_mean_age</th>\n",
       "      <th>subject_highest_age</th>\n",
       "      <th>subject_age_sum</th>\n",
       "      <th>head_random_roll</th>\n",
       "      <th>frequency</th>\n",
       "      <th>oldest</th>\n",
       "    </tr>\n",
       "  </thead>\n",
       "  <tbody>\n",
       "    <tr>\n",
       "      <th>106</th>\n",
       "      <td>AKS</td>\n",
       "      <td>Azure Container Apps is a fully managed Kubern...</td>\n",
       "      <td>333fbfd74901f0ea37fa70efee8504d7</td>\n",
       "      <td>-128.547850</td>\n",
       "      <td>71.471040</td>\n",
       "      <td>-128.547850</td>\n",
       "      <td>214.413119</td>\n",
       "      <td>0.780418</td>\n",
       "      <td>3</td>\n",
       "      <td>128.547850</td>\n",
       "    </tr>\n",
       "    <tr>\n",
       "      <th>222</th>\n",
       "      <td>AKS</td>\n",
       "      <td>Application scalability in AKS is the sole res...</td>\n",
       "      <td>dcea0b623cfcf77aefceed357cc1e1ce</td>\n",
       "      <td>-55.930697</td>\n",
       "      <td>71.471040</td>\n",
       "      <td>-128.547850</td>\n",
       "      <td>214.413119</td>\n",
       "      <td>0.780418</td>\n",
       "      <td>3</td>\n",
       "      <td>128.547850</td>\n",
       "    </tr>\n",
       "    <tr>\n",
       "      <th>328</th>\n",
       "      <td>AKS</td>\n",
       "      <td>Web App for Containers and Container Apps heal...</td>\n",
       "      <td>dcc021cdff518cc37a7dbefe205c30e8</td>\n",
       "      <td>-29.934572</td>\n",
       "      <td>71.471040</td>\n",
       "      <td>-128.547850</td>\n",
       "      <td>214.413119</td>\n",
       "      <td>0.780418</td>\n",
       "      <td>3</td>\n",
       "      <td>128.547850</td>\n",
       "    </tr>\n",
       "    <tr>\n",
       "      <th>64</th>\n",
       "      <td>sklearn</td>\n",
       "      <td>The classes in sklearn.neighbors can handle ei...</td>\n",
       "      <td>116b9942881e3e6fb092c4256fe3e256</td>\n",
       "      <td>-254.645334</td>\n",
       "      <td>171.323620</td>\n",
       "      <td>-254.645334</td>\n",
       "      <td>856.618102</td>\n",
       "      <td>0.013708</td>\n",
       "      <td>5</td>\n",
       "      <td>254.645334</td>\n",
       "    </tr>\n",
       "    <tr>\n",
       "      <th>184</th>\n",
       "      <td>sklearn</td>\n",
       "      <td>permutation_test_score: This function assesses...</td>\n",
       "      <td>ffe33ee61bc3c28e006c3d7bad803ea6</td>\n",
       "      <td>-190.128674</td>\n",
       "      <td>171.323620</td>\n",
       "      <td>-254.645334</td>\n",
       "      <td>856.618102</td>\n",
       "      <td>0.013708</td>\n",
       "      <td>5</td>\n",
       "      <td>254.645334</td>\n",
       "    </tr>\n",
       "    <tr>\n",
       "      <th>395</th>\n",
       "      <td>sklearn</td>\n",
       "      <td>The cv_results_ attribute contains useful info...</td>\n",
       "      <td>8a7a297394f51006e3ff94f439923c56</td>\n",
       "      <td>-175.316573</td>\n",
       "      <td>171.323620</td>\n",
       "      <td>-254.645334</td>\n",
       "      <td>856.618102</td>\n",
       "      <td>0.013708</td>\n",
       "      <td>5</td>\n",
       "      <td>254.645334</td>\n",
       "    </tr>\n",
       "    <tr>\n",
       "      <th>292</th>\n",
       "      <td>sklearn</td>\n",
       "      <td>When evaluating the resulting model it is impo...</td>\n",
       "      <td>84ceb3bed96b3bcffa7a6c0319dcfe13</td>\n",
       "      <td>-174.164112</td>\n",
       "      <td>171.323620</td>\n",
       "      <td>-254.645334</td>\n",
       "      <td>856.618102</td>\n",
       "      <td>0.013708</td>\n",
       "      <td>5</td>\n",
       "      <td>254.645334</td>\n",
       "    </tr>\n",
       "    <tr>\n",
       "      <th>65</th>\n",
       "      <td>sklearn</td>\n",
       "      <td>Data leakage occurs when information from the ...</td>\n",
       "      <td>12ebe5ce4aba16177ff0f112bd6d272f</td>\n",
       "      <td>-62.363409</td>\n",
       "      <td>171.323620</td>\n",
       "      <td>-254.645334</td>\n",
       "      <td>856.618102</td>\n",
       "      <td>0.013708</td>\n",
       "      <td>5</td>\n",
       "      <td>254.645334</td>\n",
       "    </tr>\n",
       "    <tr>\n",
       "      <th>104</th>\n",
       "      <td>MS Identity Platform</td>\n",
       "      <td>Authorization server - The Microsoft identity ...</td>\n",
       "      <td>a97445a5661ae54e36d4b6479e48e6da</td>\n",
       "      <td>-153.542049</td>\n",
       "      <td>92.379429</td>\n",
       "      <td>-153.542049</td>\n",
       "      <td>646.656006</td>\n",
       "      <td>0.701187</td>\n",
       "      <td>7</td>\n",
       "      <td>153.542049</td>\n",
       "    </tr>\n",
       "    <tr>\n",
       "      <th>220</th>\n",
       "      <td>MS Identity Platform</td>\n",
       "      <td>Resource owner - The resource owner in an auth...</td>\n",
       "      <td>f2fdca585a326c43df53333f7233874b</td>\n",
       "      <td>-147.370556</td>\n",
       "      <td>92.379429</td>\n",
       "      <td>-153.542049</td>\n",
       "      <td>646.656006</td>\n",
       "      <td>0.701187</td>\n",
       "      <td>7</td>\n",
       "      <td>153.542049</td>\n",
       "    </tr>\n",
       "  </tbody>\n",
       "</table>\n",
       "</div>"
      ],
      "text/plain": [
       "                     head                                               body  \\\n",
       "106                   AKS  Azure Container Apps is a fully managed Kubern...   \n",
       "222                   AKS  Application scalability in AKS is the sole res...   \n",
       "328                   AKS  Web App for Containers and Container Apps heal...   \n",
       "64                sklearn  The classes in sklearn.neighbors can handle ei...   \n",
       "184               sklearn  permutation_test_score: This function assesses...   \n",
       "395               sklearn  The cv_results_ attribute contains useful info...   \n",
       "292               sklearn  When evaluating the resulting model it is impo...   \n",
       "65                sklearn  Data leakage occurs when information from the ...   \n",
       "104  MS Identity Platform  Authorization server - The Microsoft identity ...   \n",
       "220  MS Identity Platform  Resource owner - The resource owner in an auth...   \n",
       "\n",
       "                                 hash         age  subject_mean_age  \\\n",
       "106  333fbfd74901f0ea37fa70efee8504d7 -128.547850         71.471040   \n",
       "222  dcea0b623cfcf77aefceed357cc1e1ce  -55.930697         71.471040   \n",
       "328  dcc021cdff518cc37a7dbefe205c30e8  -29.934572         71.471040   \n",
       "64   116b9942881e3e6fb092c4256fe3e256 -254.645334        171.323620   \n",
       "184  ffe33ee61bc3c28e006c3d7bad803ea6 -190.128674        171.323620   \n",
       "395  8a7a297394f51006e3ff94f439923c56 -175.316573        171.323620   \n",
       "292  84ceb3bed96b3bcffa7a6c0319dcfe13 -174.164112        171.323620   \n",
       "65   12ebe5ce4aba16177ff0f112bd6d272f  -62.363409        171.323620   \n",
       "104  a97445a5661ae54e36d4b6479e48e6da -153.542049         92.379429   \n",
       "220  f2fdca585a326c43df53333f7233874b -147.370556         92.379429   \n",
       "\n",
       "     subject_highest_age  subject_age_sum  head_random_roll  frequency  \\\n",
       "106          -128.547850       214.413119          0.780418          3   \n",
       "222          -128.547850       214.413119          0.780418          3   \n",
       "328          -128.547850       214.413119          0.780418          3   \n",
       "64           -254.645334       856.618102          0.013708          5   \n",
       "184          -254.645334       856.618102          0.013708          5   \n",
       "395          -254.645334       856.618102          0.013708          5   \n",
       "292          -254.645334       856.618102          0.013708          5   \n",
       "65           -254.645334       856.618102          0.013708          5   \n",
       "104          -153.542049       646.656006          0.701187          7   \n",
       "220          -153.542049       646.656006          0.701187          7   \n",
       "\n",
       "         oldest  \n",
       "106  128.547850  \n",
       "222  128.547850  \n",
       "328  128.547850  \n",
       "64   254.645334  \n",
       "184  254.645334  \n",
       "395  254.645334  \n",
       "292  254.645334  \n",
       "65   254.645334  \n",
       "104  153.542049  \n",
       "220  153.542049  "
      ]
     },
     "execution_count": 33,
     "metadata": {},
     "output_type": "execute_result"
    }
   ],
   "source": [
    "existing_cards.head(10)"
   ]
  },
  {
   "cell_type": "code",
   "execution_count": 34,
   "metadata": {},
   "outputs": [
    {
     "data": {
      "text/plain": [
       "-1371.9438269967957"
      ]
     },
     "execution_count": 34,
     "metadata": {},
     "output_type": "execute_result"
    }
   ],
   "source": [
    "existing_cards.head(10)['age'].sum()"
   ]
  }
 ],
 "metadata": {
  "kernelspec": {
   "display_name": "Python 3",
   "language": "python",
   "name": "python3"
  },
  "language_info": {
   "codemirror_mode": {
    "name": "ipython",
    "version": 3
   },
   "file_extension": ".py",
   "mimetype": "text/x-python",
   "name": "python",
   "nbconvert_exporter": "python",
   "pygments_lexer": "ipython3",
   "version": "3.10.10"
  }
 },
 "nbformat": 4,
 "nbformat_minor": 2
}
