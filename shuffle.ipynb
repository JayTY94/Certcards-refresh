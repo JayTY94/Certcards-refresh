{
 "cells": [
  {
   "cell_type": "code",
   "execution_count": 20,
   "metadata": {},
   "outputs": [],
   "source": [
    "import re\n",
    "import random\n",
    "import pandas as pd\n",
    "import hashlib"
   ]
  },
  {
   "cell_type": "code",
   "execution_count": 21,
   "metadata": {},
   "outputs": [],
   "source": [
    "with open('certcards2.txt', mode='r', encoding='utf8') as f:\n",
    "    all_cards = f.read()\n",
    "    \n",
    "card_split_pattern = r'\\n\\n\\n\\d+\\n'\n",
    "all_cards = re.split(card_split_pattern, all_cards)\n",
    "# Use re.DOTALL to allow . to match newline characters\n",
    "card_pattern = re.compile(r'(.+?)\\n([\\s\\S]+)', re.DOTALL)\n",
    "cards = [(match.group(1), match.group(2)) for cstring in all_cards if (match := re.search(card_pattern, cstring))]\n",
    "\n",
    "# removing the cards that have no content and trimming\n",
    "cards = [(subject, stripped_content) for subject, content in cards if len(stripped_content := content.strip()) > 5]\n",
    "\n",
    "def hash_string_md5(s):\n",
    "    \"\"\"\n",
    "    Hashes a string using MD5 and returns a truncated hash for efficiency.\n",
    "\n",
    "    Parameters:\n",
    "    - s (str): The input string to hash.\n",
    "\n",
    "    Returns:\n",
    "    - str: The truncated hexadecimal hash string.\n",
    "    \"\"\"\n",
    "    if pd.isnull(s):\n",
    "        return None  # Handle NaN values gracefully\n",
    "    return hashlib.md5(s.encode('utf-8')).hexdigest()\n",
    "\n",
    "\n",
    "def remake_card_document(existing_cards: pd.DataFrame, filename: str='certcards2.txt'):\n",
    "    with open(filename, mode='w', encoding='utf8') as f:\n",
    "        i = 1\n",
    "        for _, row in existing_cards.iterrows():\n",
    "            f.write('\\n'*6)\n",
    "            f.write(str(i)+'\\n')  \n",
    "            f.write(row['head']+'\\n')\n",
    "            f.write(row['body'])\n",
    "            i+=1\n",
    "    print(F\"Cards found: {existing_cards.shape[0]}\")\n",
    "\n",
    "\n",
    "existing_cards = pd.DataFrame(cards, columns=['head', 'body'])\n",
    "\n",
    "\n",
    "# existing_cards['age'] = [random.random() for _ in existing_cards.index]\n",
    "existing_cards['hash'] = existing_cards['body'].apply(hash_string_md5)\n",
    "existing_cards\n",
    "\n",
    "card_ages = pd.read_json('card_ages.json')\n",
    "card_ages = card_ages.drop_duplicates(subset=['hash'], keep='first')\n",
    "\n",
    "cards_to_age = pd.merge(\n",
    "    left=existing_cards,\n",
    "    right=card_ages[['hash', 'age']],\n",
    "    left_on='hash', right_on='hash',\n",
    "    how='left'\n",
    ")\n",
    "\n",
    "cards_to_age['head'] = cards_to_age['head'].str.strip()\n",
    "\n",
    "if cards_to_age['age'].sum() > 2e4: age_factor = 1\n",
    "else: age_factor = 1.00\n",
    "\n",
    "cards_to_age['age'] = cards_to_age['age'].fillna(0)\n",
    "cards_to_age['age'] = cards_to_age['age'] * age_factor\n",
    "cards_to_age['age'] = cards_to_age['age'] + [random.expovariate(.60) for _ in cards_to_age.index]\n",
    "# cards_to_age['age'] = cards_to_age['age'] * [random.expovariate(.5) for _ in cards_to_age.index]\n",
    "\n",
    "# Adding priority age growth to cards for upcoming certifications\n",
    "priority_headers = ['Azure Developer Associate']\n",
    "priority_cards_mask = cards_to_age['head'].isin(priority_headers)\n",
    "cards_to_age.loc[priority_cards_mask, 'age'] = cards_to_age.loc[priority_cards_mask, 'age'] * 1.1\n",
    "\n",
    "\n",
    "cards_to_age = cards_to_age.drop_duplicates(subset=['hash'], keep='first')\n",
    "\n",
    "cards_to_age['subject_mean_age'] = cards_to_age.groupby('head')['age'].transform('mean')\n",
    "cards_to_age['subject_highest_age'] = cards_to_age.groupby('head')['age'].transform('max')\n",
    "cards_to_age['subject_age_sum'] = cards_to_age.groupby('head')['age'].transform('sum')\n",
    "cards_to_age['head_random_roll'] = cards_to_age.groupby('head')['head'].transform(lambda x: random.random())\n",
    "\n",
    "\n",
    "cards_to_age.sort_values('hash')[['age', 'head', 'hash']].to_json('card_ages.json', indent=2)\n",
    "\n",
    "existing_cards = cards_to_age"
   ]
  },
  {
   "cell_type": "code",
   "execution_count": 22,
   "metadata": {},
   "outputs": [
    {
     "data": {
      "application/vnd.microsoft.datawrangler.viewer.v0+json": {
       "columns": [
        {
         "name": "index",
         "rawType": "object",
         "type": "string"
        },
        {
         "name": "age_sum",
         "rawType": "float64",
         "type": "float"
        },
        {
         "name": "age_mean",
         "rawType": "float64",
         "type": "float"
        },
        {
         "name": "age_max",
         "rawType": "float64",
         "type": "float"
        },
        {
         "name": "head_count",
         "rawType": "int64",
         "type": "integer"
        }
       ],
       "conversionMethod": "pd.DataFrame",
       "ref": "d3d6bb25-c737-49f7-ac5a-22f65cd0dd17",
       "rows": [
        [
         "Azure Developer Associate",
         "171.37467789617787",
         "11.424978526411858",
         "20.1884501215849",
         "15"
        ],
        [
         "PEP 8",
         "276.2530194898986",
         "92.0843398299662",
         "113.14871379399742",
         "3"
        ],
        [
         "Python",
         "798.1706060338595",
         "16.98235331986935",
         "29.530205587982955",
         "47"
        ],
        [
         "Todd Ideas",
         "1084.4871751741468",
         "72.2991450116098",
         "159.52732055169932",
         "15"
        ],
        [
         "Email Auth and Security",
         "1537.3642655770361",
         "128.11368879808634",
         "490.388674624267",
         "12"
        ],
        [
         "OData",
         "1752.623008629244",
         "292.1038347715407",
         "565.5156481691598",
         "6"
        ],
        [
         "SharePoint",
         "1784.4158969910093",
         "148.70132474925077",
         "590.4315723391445",
         "12"
        ],
        [
         "Audit Report Tracker (Sharepoint List)",
         "1896.4325012215606",
         "145.87942317088928",
         "375.519409277689",
         "13"
        ],
        [
         "Azure Functions + Visual Studio",
         "2082.417709863215",
         "148.7441221330868",
         "492.39955244984804",
         "14"
        ],
        [
         "Debugging in VS Code",
         "2102.934581586418",
         "105.1467290793209",
         "273.57524977437396",
         "20"
        ],
        [
         "IW Migration",
         "2259.9550206875656",
         "161.4253586205404",
         "474.5695758923568",
         "14"
        ],
        [
         "Terraform",
         "2314.854402796334",
         "92.59417611185336",
         "263.1038693646621",
         "25"
        ],
        [
         "Open Source/GitHub",
         "2425.8656672363336",
         "151.61660420227085",
         "374.6041592359028",
         "16"
        ],
        [
         "FSLogix",
         "2633.03840428499",
         "109.70993351187458",
         "270.65582016242945",
         "24"
        ],
        [
         "Azure Functions",
         "3001.646504528631",
         "272.87695495714826",
         "754.0795062039009",
         "11"
        ],
        [
         "Home Network Project",
         "3134.636958623525",
         "195.91480991397032",
         "468.3153748603251",
         "16"
        ],
        [
         "DNS",
         "3287.0451595823056",
         "205.4403224738941",
         "414.1493635862075",
         "16"
        ],
        [
         "WSL + Kali Linux",
         "3477.932462313235",
         "183.04907696385447",
         "417.3650517612571",
         "19"
        ],
        [
         "Azure Functions + PP365",
         "3693.282775150738",
         "160.57751196307555",
         "428.6288965754601",
         "23"
        ],
        [
         "Azure AI Search",
         "3905.327025483398",
         "278.9519303916713",
         "735.2371539406053",
         "14"
        ],
        [
         "Powershell Modules",
         "5032.710436823221",
         "167.75701456077405",
         "685.0590699611539",
         "30"
        ],
        [
         "PnP Powershell",
         "6990.152687377137",
         "183.95138650992467",
         "666.1272886955761",
         "38"
        ],
        [
         "Vocab",
         "7229.932190778433",
         "109.54442713300656",
         "873.837852062763",
         "66"
        ],
        [
         "JavaScript Concepts",
         "7591.368546666703",
         "124.44866469945414",
         "442.15669532214645",
         "61"
        ],
        [
         "Logging in Python",
         "8154.842886823373",
         "138.2176760478538",
         "961.4884440443748",
         "59"
        ]
       ],
       "shape": {
        "columns": 4,
        "rows": 25
       }
      },
      "text/html": [
       "<div>\n",
       "<style scoped>\n",
       "    .dataframe tbody tr th:only-of-type {\n",
       "        vertical-align: middle;\n",
       "    }\n",
       "\n",
       "    .dataframe tbody tr th {\n",
       "        vertical-align: top;\n",
       "    }\n",
       "\n",
       "    .dataframe thead th {\n",
       "        text-align: right;\n",
       "    }\n",
       "</style>\n",
       "<table border=\"1\" class=\"dataframe\">\n",
       "  <thead>\n",
       "    <tr style=\"text-align: right;\">\n",
       "      <th></th>\n",
       "      <th>age_sum</th>\n",
       "      <th>age_mean</th>\n",
       "      <th>age_max</th>\n",
       "      <th>head_count</th>\n",
       "    </tr>\n",
       "  </thead>\n",
       "  <tbody>\n",
       "    <tr>\n",
       "      <th>Azure Developer Associate</th>\n",
       "      <td>171.374678</td>\n",
       "      <td>11.424979</td>\n",
       "      <td>20.188450</td>\n",
       "      <td>15</td>\n",
       "    </tr>\n",
       "    <tr>\n",
       "      <th>PEP 8</th>\n",
       "      <td>276.253019</td>\n",
       "      <td>92.084340</td>\n",
       "      <td>113.148714</td>\n",
       "      <td>3</td>\n",
       "    </tr>\n",
       "    <tr>\n",
       "      <th>Python</th>\n",
       "      <td>798.170606</td>\n",
       "      <td>16.982353</td>\n",
       "      <td>29.530206</td>\n",
       "      <td>47</td>\n",
       "    </tr>\n",
       "    <tr>\n",
       "      <th>Todd Ideas</th>\n",
       "      <td>1084.487175</td>\n",
       "      <td>72.299145</td>\n",
       "      <td>159.527321</td>\n",
       "      <td>15</td>\n",
       "    </tr>\n",
       "    <tr>\n",
       "      <th>Email Auth and Security</th>\n",
       "      <td>1537.364266</td>\n",
       "      <td>128.113689</td>\n",
       "      <td>490.388675</td>\n",
       "      <td>12</td>\n",
       "    </tr>\n",
       "    <tr>\n",
       "      <th>OData</th>\n",
       "      <td>1752.623009</td>\n",
       "      <td>292.103835</td>\n",
       "      <td>565.515648</td>\n",
       "      <td>6</td>\n",
       "    </tr>\n",
       "    <tr>\n",
       "      <th>SharePoint</th>\n",
       "      <td>1784.415897</td>\n",
       "      <td>148.701325</td>\n",
       "      <td>590.431572</td>\n",
       "      <td>12</td>\n",
       "    </tr>\n",
       "    <tr>\n",
       "      <th>Audit Report Tracker (Sharepoint List)</th>\n",
       "      <td>1896.432501</td>\n",
       "      <td>145.879423</td>\n",
       "      <td>375.519409</td>\n",
       "      <td>13</td>\n",
       "    </tr>\n",
       "    <tr>\n",
       "      <th>Azure Functions + Visual Studio</th>\n",
       "      <td>2082.417710</td>\n",
       "      <td>148.744122</td>\n",
       "      <td>492.399552</td>\n",
       "      <td>14</td>\n",
       "    </tr>\n",
       "    <tr>\n",
       "      <th>Debugging in VS Code</th>\n",
       "      <td>2102.934582</td>\n",
       "      <td>105.146729</td>\n",
       "      <td>273.575250</td>\n",
       "      <td>20</td>\n",
       "    </tr>\n",
       "    <tr>\n",
       "      <th>IW Migration</th>\n",
       "      <td>2259.955021</td>\n",
       "      <td>161.425359</td>\n",
       "      <td>474.569576</td>\n",
       "      <td>14</td>\n",
       "    </tr>\n",
       "    <tr>\n",
       "      <th>Terraform</th>\n",
       "      <td>2314.854403</td>\n",
       "      <td>92.594176</td>\n",
       "      <td>263.103869</td>\n",
       "      <td>25</td>\n",
       "    </tr>\n",
       "    <tr>\n",
       "      <th>Open Source/GitHub</th>\n",
       "      <td>2425.865667</td>\n",
       "      <td>151.616604</td>\n",
       "      <td>374.604159</td>\n",
       "      <td>16</td>\n",
       "    </tr>\n",
       "    <tr>\n",
       "      <th>FSLogix</th>\n",
       "      <td>2633.038404</td>\n",
       "      <td>109.709934</td>\n",
       "      <td>270.655820</td>\n",
       "      <td>24</td>\n",
       "    </tr>\n",
       "    <tr>\n",
       "      <th>Azure Functions</th>\n",
       "      <td>3001.646505</td>\n",
       "      <td>272.876955</td>\n",
       "      <td>754.079506</td>\n",
       "      <td>11</td>\n",
       "    </tr>\n",
       "    <tr>\n",
       "      <th>Home Network Project</th>\n",
       "      <td>3134.636959</td>\n",
       "      <td>195.914810</td>\n",
       "      <td>468.315375</td>\n",
       "      <td>16</td>\n",
       "    </tr>\n",
       "    <tr>\n",
       "      <th>DNS</th>\n",
       "      <td>3287.045160</td>\n",
       "      <td>205.440322</td>\n",
       "      <td>414.149364</td>\n",
       "      <td>16</td>\n",
       "    </tr>\n",
       "    <tr>\n",
       "      <th>WSL + Kali Linux</th>\n",
       "      <td>3477.932462</td>\n",
       "      <td>183.049077</td>\n",
       "      <td>417.365052</td>\n",
       "      <td>19</td>\n",
       "    </tr>\n",
       "    <tr>\n",
       "      <th>Azure Functions + PP365</th>\n",
       "      <td>3693.282775</td>\n",
       "      <td>160.577512</td>\n",
       "      <td>428.628897</td>\n",
       "      <td>23</td>\n",
       "    </tr>\n",
       "    <tr>\n",
       "      <th>Azure AI Search</th>\n",
       "      <td>3905.327025</td>\n",
       "      <td>278.951930</td>\n",
       "      <td>735.237154</td>\n",
       "      <td>14</td>\n",
       "    </tr>\n",
       "    <tr>\n",
       "      <th>Powershell Modules</th>\n",
       "      <td>5032.710437</td>\n",
       "      <td>167.757015</td>\n",
       "      <td>685.059070</td>\n",
       "      <td>30</td>\n",
       "    </tr>\n",
       "    <tr>\n",
       "      <th>PnP Powershell</th>\n",
       "      <td>6990.152687</td>\n",
       "      <td>183.951387</td>\n",
       "      <td>666.127289</td>\n",
       "      <td>38</td>\n",
       "    </tr>\n",
       "    <tr>\n",
       "      <th>Vocab</th>\n",
       "      <td>7229.932191</td>\n",
       "      <td>109.544427</td>\n",
       "      <td>873.837852</td>\n",
       "      <td>66</td>\n",
       "    </tr>\n",
       "    <tr>\n",
       "      <th>JavaScript Concepts</th>\n",
       "      <td>7591.368547</td>\n",
       "      <td>124.448665</td>\n",
       "      <td>442.156695</td>\n",
       "      <td>61</td>\n",
       "    </tr>\n",
       "    <tr>\n",
       "      <th>Logging in Python</th>\n",
       "      <td>8154.842887</td>\n",
       "      <td>138.217676</td>\n",
       "      <td>961.488444</td>\n",
       "      <td>59</td>\n",
       "    </tr>\n",
       "  </tbody>\n",
       "</table>\n",
       "</div>"
      ],
      "text/plain": [
       "                                            age_sum    age_mean     age_max  \\\n",
       "Azure Developer Associate                171.374678   11.424979   20.188450   \n",
       "PEP 8                                    276.253019   92.084340  113.148714   \n",
       "Python                                   798.170606   16.982353   29.530206   \n",
       "Todd Ideas                              1084.487175   72.299145  159.527321   \n",
       "Email Auth and Security                 1537.364266  128.113689  490.388675   \n",
       "OData                                   1752.623009  292.103835  565.515648   \n",
       "SharePoint                              1784.415897  148.701325  590.431572   \n",
       "Audit Report Tracker (Sharepoint List)  1896.432501  145.879423  375.519409   \n",
       "Azure Functions + Visual Studio         2082.417710  148.744122  492.399552   \n",
       "Debugging in VS Code                    2102.934582  105.146729  273.575250   \n",
       "IW Migration                            2259.955021  161.425359  474.569576   \n",
       "Terraform                               2314.854403   92.594176  263.103869   \n",
       "Open Source/GitHub                      2425.865667  151.616604  374.604159   \n",
       "FSLogix                                 2633.038404  109.709934  270.655820   \n",
       "Azure Functions                         3001.646505  272.876955  754.079506   \n",
       "Home Network Project                    3134.636959  195.914810  468.315375   \n",
       "DNS                                     3287.045160  205.440322  414.149364   \n",
       "WSL + Kali Linux                        3477.932462  183.049077  417.365052   \n",
       "Azure Functions + PP365                 3693.282775  160.577512  428.628897   \n",
       "Azure AI Search                         3905.327025  278.951930  735.237154   \n",
       "Powershell Modules                      5032.710437  167.757015  685.059070   \n",
       "PnP Powershell                          6990.152687  183.951387  666.127289   \n",
       "Vocab                                   7229.932191  109.544427  873.837852   \n",
       "JavaScript Concepts                     7591.368547  124.448665  442.156695   \n",
       "Logging in Python                       8154.842887  138.217676  961.488444   \n",
       "\n",
       "                                        head_count  \n",
       "Azure Developer Associate                       15  \n",
       "PEP 8                                            3  \n",
       "Python                                          47  \n",
       "Todd Ideas                                      15  \n",
       "Email Auth and Security                         12  \n",
       "OData                                            6  \n",
       "SharePoint                                      12  \n",
       "Audit Report Tracker (Sharepoint List)          13  \n",
       "Azure Functions + Visual Studio                 14  \n",
       "Debugging in VS Code                            20  \n",
       "IW Migration                                    14  \n",
       "Terraform                                       25  \n",
       "Open Source/GitHub                              16  \n",
       "FSLogix                                         24  \n",
       "Azure Functions                                 11  \n",
       "Home Network Project                            16  \n",
       "DNS                                             16  \n",
       "WSL + Kali Linux                                19  \n",
       "Azure Functions + PP365                         23  \n",
       "Azure AI Search                                 14  \n",
       "Powershell Modules                              30  \n",
       "PnP Powershell                                  38  \n",
       "Vocab                                           66  \n",
       "JavaScript Concepts                             61  \n",
       "Logging in Python                               59  "
      ]
     },
     "execution_count": 22,
     "metadata": {},
     "output_type": "execute_result"
    }
   ],
   "source": [
    "stats = existing_cards.groupby('head').agg({'age': ['sum', 'mean', 'max'], 'head': 'count'}).sort_values(('age', 'sum'))\n",
    "stats.columns = stats.columns.to_flat_index()\n",
    "stats.columns = ['_'.join(col).strip() for col in stats.columns]\n",
    "stats.index.name = None\n",
    "stats"
   ]
  },
  {
   "cell_type": "code",
   "execution_count": null,
   "metadata": {},
   "outputs": [],
   "source": []
  },
  {
   "cell_type": "markdown",
   "metadata": {},
   "source": [
    "# Histogram"
   ]
  },
  {
   "cell_type": "code",
   "execution_count": 23,
   "metadata": {},
   "outputs": [
    {
     "name": "stdout",
     "output_type": "stream",
     "text": [
      "78619.06\n"
     ]
    },
    {
     "data": {
      "text/plain": [
       "<Axes: >"
      ]
     },
     "execution_count": 23,
     "metadata": {},
     "output_type": "execute_result"
    },
    {
     "data": {
      "image/png": "[encoded data removed]",
      "text/plain": [
       "<Figure size 640x480 with 1 Axes>"
      ]
     },
     "metadata": {},
     "output_type": "display_data"
    }
   ],
   "source": [
    "print(f\"{existing_cards['age'].sum(0):.2f}\")\n",
    "existing_cards['age'].hist(bins=20)"
   ]
  },
  {
   "cell_type": "markdown",
   "metadata": {},
   "source": [
    "# Completely Random Shuffle"
   ]
  },
  {
   "cell_type": "code",
   "execution_count": 24,
   "metadata": {},
   "outputs": [],
   "source": [
    "# existing_cards = existing_cards.sample(frac=1)\n",
    "# remake_card_document(filename='certcards2.txt', existing_cards = existing_cards)"
   ]
  },
  {
   "cell_type": "markdown",
   "metadata": {},
   "source": [
    "# Age Sort"
   ]
  },
  {
   "cell_type": "code",
   "execution_count": 25,
   "metadata": {},
   "outputs": [],
   "source": [
    "# existing_cards = existing_cards.sort_values('age', ascending=False)\n",
    "# remake_card_document(filename='certcards2.txt', existing_cards=existing_cards)\n",
    "# existing_cards.head(10)"
   ]
  },
  {
   "cell_type": "markdown",
   "metadata": {},
   "source": [
    "# Headers with fewest notes first"
   ]
  },
  {
   "cell_type": "code",
   "execution_count": 26,
   "metadata": {},
   "outputs": [],
   "source": [
    "# frequency = existing_cards['head'].value_counts(ascending=True)\n",
    "\n",
    "# existing_cards = pd.merge(\n",
    "#     left=existing_cards,\n",
    "#     right=frequency.rename('frequency'),\n",
    "#     left_on='head', right_index=True,\n",
    "#     how='left'\n",
    "# )\n",
    "# existing_cards['oldest'] = existing_cards.groupby('head')['age'].transform('max')\n",
    "# existing_cards['subject_highest_age'] = existing_cards['subject_highest_age'] * -1\n",
    "# existing_cards['age'] = existing_cards['age'] * -1\n",
    "\n",
    "\n",
    "# existing_cards.sort_values(['frequency', 'subject_highest_age', 'age'], ascending=True, inplace=True)\n",
    "\n",
    "# remake_card_document(filename='certcards2.txt', existing_cards=existing_cards)\n",
    "\n",
    "# existing_cards.head(10)"
   ]
  },
  {
   "cell_type": "markdown",
   "metadata": {},
   "source": [
    "# Focus on one header"
   ]
  },
  {
   "cell_type": "code",
   "execution_count": 27,
   "metadata": {},
   "outputs": [],
   "source": [
    "# heads = existing_cards['head'].value_counts()\n",
    "# heads = heads[heads > 5].index.tolist()\n",
    "# one_header = random.sample(heads, 1)[0]\n",
    "# existing_cards['pick_head'] = existing_cards['head'].apply(\n",
    "#     lambda h: 0 if h == one_header else 1 \n",
    "# )\n",
    "\n",
    "# remake_card_document(existing_cards=existing_cards.sort_values('pick_head'))"
   ]
  },
  {
   "cell_type": "markdown",
   "metadata": {},
   "source": [
    "## Header with oldest cards first"
   ]
  },
  {
   "cell_type": "code",
   "execution_count": 28,
   "metadata": {},
   "outputs": [],
   "source": [
    "# existing_cards['oldest'] = existing_cards.groupby('head')['age'].transform('max')\n",
    "# existing_cards.sort_values(['oldest', 'age'], ascending=False, inplace=True)\n",
    "# remake_card_document(existing_cards)"
   ]
  },
  {
   "cell_type": "markdown",
   "metadata": {},
   "source": [
    "## Headers with greatest mean card age first"
   ]
  },
  {
   "cell_type": "code",
   "execution_count": 29,
   "metadata": {},
   "outputs": [],
   "source": [
    "# existing_cards.sort_values(['subject_mean_age', 'age'], ascending=False, inplace=True)\n",
    "# remake_card_document(existing_cards)"
   ]
  },
  {
   "cell_type": "markdown",
   "metadata": {},
   "source": [
    "## Headers with greatest age sum first"
   ]
  },
  {
   "cell_type": "code",
   "execution_count": 30,
   "metadata": {},
   "outputs": [],
   "source": [
    "# existing_cards.sort_values(['subject_age_sum', 'age'], ascending=False, inplace=True)\n",
    "# remake_card_document(existing_cards)"
   ]
  },
  {
   "cell_type": "markdown",
   "metadata": {},
   "source": [
    "# N-fold shuffle\n"
   ]
  },
  {
   "cell_type": "markdown",
   "metadata": {},
   "source": [
    "## Age Sum"
   ]
  },
  {
   "cell_type": "code",
   "execution_count": 31,
   "metadata": {},
   "outputs": [],
   "source": [
    "# n=3\n",
    "# existing_cards['count'] = existing_cards.sort_values('age', ascending=False).groupby('head').cumcount()\n",
    "# existing_cards['n_fold'] = existing_cards['count'] % n\n",
    "\n",
    "# existing_cards['subject_age_sum'] = existing_cards['subject_age_sum'] *-1\n",
    "# existing_cards['age'] = existing_cards['age'] *-1\n",
    "# existing_cards.sort_values(['n_fold', 'subject_age_sum', 'age'], inplace=True)\n",
    "\n",
    "# remake_card_document(existing_cards=existing_cards)\n",
    "# existing_cards.head(10)\n"
   ]
  },
  {
   "cell_type": "markdown",
   "metadata": {},
   "source": [
    "## Age Mean"
   ]
  },
  {
   "cell_type": "code",
   "execution_count": 32,
   "metadata": {},
   "outputs": [],
   "source": [
    "# n=3\n",
    "# existing_cards['count'] = existing_cards.sort_values('age', ascending=False).groupby('head').cumcount()\n",
    "# existing_cards['n_fold'] = existing_cards['count'] % n\n",
    "\n",
    "# existing_cards['subject_mean_age'] = existing_cards['subject_mean_age'] *-1\n",
    "# existing_cards['age'] = existing_cards['age'] *-1\n",
    "# existing_cards.sort_values(['n_fold', 'subject_mean_age', 'age'], inplace=True)\n",
    "# remake_card_document(existing_cards=existing_cards)\n",
    "\n",
    "# existing_cards.head(10)\n",
    "\n"
   ]
  },
  {
   "cell_type": "markdown",
   "metadata": {},
   "source": [
    "## Age Max"
   ]
  },
  {
   "cell_type": "code",
   "execution_count": 33,
   "metadata": {},
   "outputs": [],
   "source": [
    "# n = 1\n",
    "# existing_cards['count'] = existing_cards.sort_values('age', ascending=False).groupby('head').cumcount()\n",
    "# existing_cards['n_fold'] = existing_cards['count'] // n\n",
    "\n",
    "# if existing_cards['age'].sum() > 0:\n",
    "#     existing_cards['subject_highest_age'] = existing_cards['subject_highest_age'] *-1\n",
    "#     existing_cards['age'] = existing_cards['age'] *-1\n",
    "# existing_cards.sort_values(['n_fold', 'subject_highest_age', 'age'], inplace=True)\n",
    "\n",
    "# remake_card_document(existing_cards=existing_cards)\n",
    "# existing_cards.head(10)\n"
   ]
  },
  {
   "cell_type": "markdown",
   "metadata": {},
   "source": [
    "## Card Count"
   ]
  },
  {
   "cell_type": "code",
   "execution_count": 34,
   "metadata": {},
   "outputs": [
    {
     "name": "stdout",
     "output_type": "stream",
     "text": [
      "Cards found: 589\n"
     ]
    },
    {
     "data": {
      "application/vnd.microsoft.datawrangler.viewer.v0+json": {
       "columns": [
        {
         "name": "index",
         "rawType": "int64",
         "type": "integer"
        },
        {
         "name": "head",
         "rawType": "object",
         "type": "string"
        },
        {
         "name": "body",
         "rawType": "object",
         "type": "string"
        },
        {
         "name": "hash",
         "rawType": "object",
         "type": "string"
        },
        {
         "name": "age",
         "rawType": "float64",
         "type": "float"
        },
        {
         "name": "subject_mean_age",
         "rawType": "float64",
         "type": "float"
        },
        {
         "name": "subject_highest_age",
         "rawType": "float64",
         "type": "float"
        },
        {
         "name": "subject_age_sum",
         "rawType": "float64",
         "type": "float"
        },
        {
         "name": "head_random_roll",
         "rawType": "float64",
         "type": "float"
        },
        {
         "name": "frequency",
         "rawType": "int64",
         "type": "integer"
        },
        {
         "name": "count",
         "rawType": "int64",
         "type": "integer"
        },
        {
         "name": "n_fold",
         "rawType": "int64",
         "type": "integer"
        }
       ],
       "conversionMethod": "pd.DataFrame",
       "ref": "e081dc34-55b8-4794-9617-9b912bc51788",
       "rows": [
        [
         "20",
         "PEP 8",
         "Use __all__ to Define Public API: In your modules, define the __all__ list to explicitly specify which objects are public and should be imported when using from module import *. This controls the module's public interface and prevents unintended namespace pollution.",
         "2fdee4bd7881c19b937404d853fbd376",
         "-113.14871379399742",
         "92.0843398299662",
         "-113.14871379399742",
         "276.2530194898986",
         "0.7986978066489336",
         "3",
         "0",
         "0"
        ],
        [
         "45",
         "PEP 8",
         "Spaces After Commas, Colons, and Semicolons: Insert a single space after commas, colons, and semicolons to separate elements and enhance readability. This applies to lists, function arguments, slicing, and control structures.\n\npython\ndef func(a, b, c):\n    pass",
         "7efbfc9eed110ef3e7e7d828bff9ea67",
         "-89.0721650231769",
         "92.0843398299662",
         "-113.14871379399742",
         "276.2530194898986",
         "0.7986978066489336",
         "3",
         "1",
         "0"
        ],
        [
         "70",
         "PEP 8",
         "Alias Imports Judiciously: Use the as keyword to create aliases for long module names or to resolve naming conflicts. Ensure that aliases are clear and widely recognized (e.g., import numpy as np) to maintain code readability and consistency.",
         "cf88b4578103db28cd6bd5ceae73624f",
         "-74.03214067272425",
         "92.0843398299662",
         "-113.14871379399742",
         "276.2530194898986",
         "0.7986978066489336",
         "3",
         "2",
         "0"
        ],
        [
         "6",
         "OData",
         "Namespaces\n\nDefinition: Unique identifiers (like MyCompany.CRM) that group related schemas and prevent naming conflicts in OData models.\nContext: Used to differentiate entities, actions, and functions that may share common names but serve different domains or versions.",
         "c37dc59fe7d7fe68df3c7d713fa0d170",
         "-565.5156481691598",
         "292.1038347715407",
         "-565.5156481691598",
         "1752.623008629244",
         "0.4815531253129598",
         "6",
         "0",
         "0"
        ],
        [
         "31",
         "OData",
         "I found the workflows (actions and functions) in dataverse. I used this querystring.\nhttps://accuity-sandbox.crm.dynamics.com/api/data/v9.2/workflows",
         "2db89204c821bead540580dbf2a8686c",
         "-439.5048205386326",
         "292.1038347715407",
         "-565.5156481691598",
         "1752.623008629244",
         "0.4815531253129598",
         "6",
         "1",
         "0"
        ],
        [
         "56",
         "OData",
         "Type Casting converts an entity from one type to another within inheritance hierarchies. In OData, it is facilitated by the @odata.type annotation, which specifies the target type for the cast, ensuring accurate data interpretation and processing.",
         "0dde439ad1603e99bed556c4b3ccf4fb",
         "-288.5259560347007",
         "292.1038347715407",
         "-565.5156481691598",
         "1752.623008629244",
         "0.4815531253129598",
         "6",
         "2",
         "0"
        ],
        [
         "81",
         "OData",
         "The set of annotations defined within a schema comprise a vocabulary. Shared vocabularies provide a powerful extensibility point for OData.\n\nMetadata annotations can be used to define additional characteristics or capabilities of a metadata element, such as a service, entity type, property, function, action or parameter.",
         "5321c4569cf1b65bf960d41e6662109c",
         "-228.7592601242481",
         "292.1038347715407",
         "-565.5156481691598",
         "1752.623008629244",
         "0.4815531253129598",
         "6",
         "3",
         "0"
        ],
        [
         "105",
         "OData",
         "Instance annotations can be used to define additional information associated with a particular result, entity, property, or error; for example whether a property is read-only for a particular instance.",
         "675d21da61e0a741941229eee5818559",
         "-162.49674970276695",
         "292.1038347715407",
         "-565.5156481691598",
         "1752.623008629244",
         "0.4815531253129598",
         "6",
         "4",
         "0"
        ],
        [
         "129",
         "OData",
         "Actions and Functions extend the set of operations that can be performed on or with a service or resource. Actions can have side-effects. For example, Actions can be used to modify data or to invoke custom operations.",
         "5bf14425855bc24f2c16f4a0d5bc9df8",
         "-67.82057405973575",
         "292.1038347715407",
         "-565.5156481691598",
         "1752.623008629244",
         "0.4815531253129598",
         "6",
         "5",
         "0"
        ],
        [
         "1",
         "Azure Functions",
         "2. Suppose your Azure Function has a blob trigger associated with it and you want it to execute only when png images are uploaded. Which of the following blob trigger Path values should you use? \n\nsamples-workitems/{name}.png\nThe Path tells the blob trigger where it should monitor for changes, and if there are any filters applied. Adding a file extension to the Path specifies that uploaded files must have that file extension in order for the trigger to invoke the function.",
         "fc5054fcf13b3189012cf676692c4f29",
         "-754.0795062039009",
         "272.87695495714826",
         "-754.0795062039009",
         "3001.646504528631",
         "0.671565296041901",
         "11",
         "0",
         "0"
        ]
       ],
       "shape": {
        "columns": 11,
        "rows": 10
       }
      },
      "text/html": [
       "<div>\n",
       "<style scoped>\n",
       "    .dataframe tbody tr th:only-of-type {\n",
       "        vertical-align: middle;\n",
       "    }\n",
       "\n",
       "    .dataframe tbody tr th {\n",
       "        vertical-align: top;\n",
       "    }\n",
       "\n",
       "    .dataframe thead th {\n",
       "        text-align: right;\n",
       "    }\n",
       "</style>\n",
       "<table border=\"1\" class=\"dataframe\">\n",
       "  <thead>\n",
       "    <tr style=\"text-align: right;\">\n",
       "      <th></th>\n",
       "      <th>head</th>\n",
       "      <th>body</th>\n",
       "      <th>hash</th>\n",
       "      <th>age</th>\n",
       "      <th>subject_mean_age</th>\n",
       "      <th>subject_highest_age</th>\n",
       "      <th>subject_age_sum</th>\n",
       "      <th>head_random_roll</th>\n",
       "      <th>frequency</th>\n",
       "      <th>count</th>\n",
       "      <th>n_fold</th>\n",
       "    </tr>\n",
       "  </thead>\n",
       "  <tbody>\n",
       "    <tr>\n",
       "      <th>20</th>\n",
       "      <td>PEP 8</td>\n",
       "      <td>Use __all__ to Define Public API: In your modu...</td>\n",
       "      <td>2fdee4bd7881c19b937404d853fbd376</td>\n",
       "      <td>-113.148714</td>\n",
       "      <td>92.084340</td>\n",
       "      <td>-113.148714</td>\n",
       "      <td>276.253019</td>\n",
       "      <td>0.798698</td>\n",
       "      <td>3</td>\n",
       "      <td>0</td>\n",
       "      <td>0</td>\n",
       "    </tr>\n",
       "    <tr>\n",
       "      <th>45</th>\n",
       "      <td>PEP 8</td>\n",
       "      <td>Spaces After Commas, Colons, and Semicolons: I...</td>\n",
       "      <td>7efbfc9eed110ef3e7e7d828bff9ea67</td>\n",
       "      <td>-89.072165</td>\n",
       "      <td>92.084340</td>\n",
       "      <td>-113.148714</td>\n",
       "      <td>276.253019</td>\n",
       "      <td>0.798698</td>\n",
       "      <td>3</td>\n",
       "      <td>1</td>\n",
       "      <td>0</td>\n",
       "    </tr>\n",
       "    <tr>\n",
       "      <th>70</th>\n",
       "      <td>PEP 8</td>\n",
       "      <td>Alias Imports Judiciously: Use the as keyword ...</td>\n",
       "      <td>cf88b4578103db28cd6bd5ceae73624f</td>\n",
       "      <td>-74.032141</td>\n",
       "      <td>92.084340</td>\n",
       "      <td>-113.148714</td>\n",
       "      <td>276.253019</td>\n",
       "      <td>0.798698</td>\n",
       "      <td>3</td>\n",
       "      <td>2</td>\n",
       "      <td>0</td>\n",
       "    </tr>\n",
       "    <tr>\n",
       "      <th>6</th>\n",
       "      <td>OData</td>\n",
       "      <td>Namespaces\\n\\nDefinition: Unique identifiers (...</td>\n",
       "      <td>c37dc59fe7d7fe68df3c7d713fa0d170</td>\n",
       "      <td>-565.515648</td>\n",
       "      <td>292.103835</td>\n",
       "      <td>-565.515648</td>\n",
       "      <td>1752.623009</td>\n",
       "      <td>0.481553</td>\n",
       "      <td>6</td>\n",
       "      <td>0</td>\n",
       "      <td>0</td>\n",
       "    </tr>\n",
       "    <tr>\n",
       "      <th>31</th>\n",
       "      <td>OData</td>\n",
       "      <td>I found the workflows (actions and functions) ...</td>\n",
       "      <td>2db89204c821bead540580dbf2a8686c</td>\n",
       "      <td>-439.504821</td>\n",
       "      <td>292.103835</td>\n",
       "      <td>-565.515648</td>\n",
       "      <td>1752.623009</td>\n",
       "      <td>0.481553</td>\n",
       "      <td>6</td>\n",
       "      <td>1</td>\n",
       "      <td>0</td>\n",
       "    </tr>\n",
       "    <tr>\n",
       "      <th>56</th>\n",
       "      <td>OData</td>\n",
       "      <td>Type Casting converts an entity from one type ...</td>\n",
       "      <td>0dde439ad1603e99bed556c4b3ccf4fb</td>\n",
       "      <td>-288.525956</td>\n",
       "      <td>292.103835</td>\n",
       "      <td>-565.515648</td>\n",
       "      <td>1752.623009</td>\n",
       "      <td>0.481553</td>\n",
       "      <td>6</td>\n",
       "      <td>2</td>\n",
       "      <td>0</td>\n",
       "    </tr>\n",
       "    <tr>\n",
       "      <th>81</th>\n",
       "      <td>OData</td>\n",
       "      <td>The set of annotations defined within a schema...</td>\n",
       "      <td>5321c4569cf1b65bf960d41e6662109c</td>\n",
       "      <td>-228.759260</td>\n",
       "      <td>292.103835</td>\n",
       "      <td>-565.515648</td>\n",
       "      <td>1752.623009</td>\n",
       "      <td>0.481553</td>\n",
       "      <td>6</td>\n",
       "      <td>3</td>\n",
       "      <td>0</td>\n",
       "    </tr>\n",
       "    <tr>\n",
       "      <th>105</th>\n",
       "      <td>OData</td>\n",
       "      <td>Instance annotations can be used to define add...</td>\n",
       "      <td>675d21da61e0a741941229eee5818559</td>\n",
       "      <td>-162.496750</td>\n",
       "      <td>292.103835</td>\n",
       "      <td>-565.515648</td>\n",
       "      <td>1752.623009</td>\n",
       "      <td>0.481553</td>\n",
       "      <td>6</td>\n",
       "      <td>4</td>\n",
       "      <td>0</td>\n",
       "    </tr>\n",
       "    <tr>\n",
       "      <th>129</th>\n",
       "      <td>OData</td>\n",
       "      <td>Actions and Functions extend the set of operat...</td>\n",
       "      <td>5bf14425855bc24f2c16f4a0d5bc9df8</td>\n",
       "      <td>-67.820574</td>\n",
       "      <td>292.103835</td>\n",
       "      <td>-565.515648</td>\n",
       "      <td>1752.623009</td>\n",
       "      <td>0.481553</td>\n",
       "      <td>6</td>\n",
       "      <td>5</td>\n",
       "      <td>0</td>\n",
       "    </tr>\n",
       "    <tr>\n",
       "      <th>1</th>\n",
       "      <td>Azure Functions</td>\n",
       "      <td>2. Suppose your Azure Function has a blob trig...</td>\n",
       "      <td>fc5054fcf13b3189012cf676692c4f29</td>\n",
       "      <td>-754.079506</td>\n",
       "      <td>272.876955</td>\n",
       "      <td>-754.079506</td>\n",
       "      <td>3001.646505</td>\n",
       "      <td>0.671565</td>\n",
       "      <td>11</td>\n",
       "      <td>0</td>\n",
       "      <td>0</td>\n",
       "    </tr>\n",
       "  </tbody>\n",
       "</table>\n",
       "</div>"
      ],
      "text/plain": [
       "                head                                               body  \\\n",
       "20             PEP 8  Use __all__ to Define Public API: In your modu...   \n",
       "45             PEP 8  Spaces After Commas, Colons, and Semicolons: I...   \n",
       "70             PEP 8  Alias Imports Judiciously: Use the as keyword ...   \n",
       "6              OData  Namespaces\\n\\nDefinition: Unique identifiers (...   \n",
       "31             OData  I found the workflows (actions and functions) ...   \n",
       "56             OData  Type Casting converts an entity from one type ...   \n",
       "81             OData  The set of annotations defined within a schema...   \n",
       "105            OData  Instance annotations can be used to define add...   \n",
       "129            OData  Actions and Functions extend the set of operat...   \n",
       "1    Azure Functions  2. Suppose your Azure Function has a blob trig...   \n",
       "\n",
       "                                 hash         age  subject_mean_age  \\\n",
       "20   2fdee4bd7881c19b937404d853fbd376 -113.148714         92.084340   \n",
       "45   7efbfc9eed110ef3e7e7d828bff9ea67  -89.072165         92.084340   \n",
       "70   cf88b4578103db28cd6bd5ceae73624f  -74.032141         92.084340   \n",
       "6    c37dc59fe7d7fe68df3c7d713fa0d170 -565.515648        292.103835   \n",
       "31   2db89204c821bead540580dbf2a8686c -439.504821        292.103835   \n",
       "56   0dde439ad1603e99bed556c4b3ccf4fb -288.525956        292.103835   \n",
       "81   5321c4569cf1b65bf960d41e6662109c -228.759260        292.103835   \n",
       "105  675d21da61e0a741941229eee5818559 -162.496750        292.103835   \n",
       "129  5bf14425855bc24f2c16f4a0d5bc9df8  -67.820574        292.103835   \n",
       "1    fc5054fcf13b3189012cf676692c4f29 -754.079506        272.876955   \n",
       "\n",
       "     subject_highest_age  subject_age_sum  head_random_roll  frequency  count  \\\n",
       "20           -113.148714       276.253019          0.798698          3      0   \n",
       "45           -113.148714       276.253019          0.798698          3      1   \n",
       "70           -113.148714       276.253019          0.798698          3      2   \n",
       "6            -565.515648      1752.623009          0.481553          6      0   \n",
       "31           -565.515648      1752.623009          0.481553          6      1   \n",
       "56           -565.515648      1752.623009          0.481553          6      2   \n",
       "81           -565.515648      1752.623009          0.481553          6      3   \n",
       "105          -565.515648      1752.623009          0.481553          6      4   \n",
       "129          -565.515648      1752.623009          0.481553          6      5   \n",
       "1            -754.079506      3001.646505          0.671565         11      0   \n",
       "\n",
       "     n_fold  \n",
       "20        0  \n",
       "45        0  \n",
       "70        0  \n",
       "6         0  \n",
       "31        0  \n",
       "56        0  \n",
       "81        0  \n",
       "105       0  \n",
       "129       0  \n",
       "1         0  "
      ]
     },
     "execution_count": 34,
     "metadata": {},
     "output_type": "execute_result"
    }
   ],
   "source": [
    "n=10\n",
    "existing_cards['frequency']  = existing_cards.groupby('head').transform('count')['body']\n",
    "existing_cards['count'] = existing_cards.sort_values('age', ascending=False).groupby('head').cumcount()\n",
    "existing_cards['n_fold'] = existing_cards['count'] // n\n",
    "\n",
    "if existing_cards['age'].sum() > 0:\n",
    "    existing_cards['subject_highest_age'] = existing_cards['subject_highest_age'] *-1\n",
    "    existing_cards['age'] = existing_cards['age'] *-1\n",
    "existing_cards.sort_values(['n_fold', 'frequency', 'age'], inplace=True)\n",
    "remake_card_document(existing_cards=existing_cards)\n",
    "\n",
    "existing_cards.head(10)\n",
    "\n"
   ]
  },
  {
   "cell_type": "markdown",
   "metadata": {},
   "source": [
    "\n",
    "## Random"
   ]
  },
  {
   "cell_type": "code",
   "execution_count": 35,
   "metadata": {},
   "outputs": [],
   "source": [
    "# n = 3\n",
    "# existing_cards['count'] = existing_cards.sort_values('age', ascending=False).groupby('head').cumcount()\n",
    "# existing_cards['n_fold'] = existing_cards['count'] % n\n",
    "# existing_cards['age'] *= -1\n",
    "# existing_cards.sort_values(['n_fold', 'head_random_roll', 'age'], inplace=True)\n",
    "# remake_card_document(existing_cards=existing_cards)\n",
    "# existing_cards.head(10)"
   ]
  },
  {
   "cell_type": "code",
   "execution_count": 36,
   "metadata": {},
   "outputs": [
    {
     "data": {
      "application/vnd.microsoft.datawrangler.viewer.v0+json": {
       "columns": [
        {
         "name": "index",
         "rawType": "int64",
         "type": "integer"
        },
        {
         "name": "head",
         "rawType": "object",
         "type": "string"
        },
        {
         "name": "body",
         "rawType": "object",
         "type": "string"
        },
        {
         "name": "hash",
         "rawType": "object",
         "type": "string"
        },
        {
         "name": "age",
         "rawType": "float64",
         "type": "float"
        },
        {
         "name": "subject_mean_age",
         "rawType": "float64",
         "type": "float"
        },
        {
         "name": "subject_highest_age",
         "rawType": "float64",
         "type": "float"
        },
        {
         "name": "subject_age_sum",
         "rawType": "float64",
         "type": "float"
        },
        {
         "name": "head_random_roll",
         "rawType": "float64",
         "type": "float"
        },
        {
         "name": "frequency",
         "rawType": "int64",
         "type": "integer"
        },
        {
         "name": "count",
         "rawType": "int64",
         "type": "integer"
        },
        {
         "name": "n_fold",
         "rawType": "int64",
         "type": "integer"
        }
       ],
       "conversionMethod": "pd.DataFrame",
       "ref": "7702cae2-5a2e-4796-ad11-8230ec03313a",
       "rows": [
        [
         "20",
         "PEP 8",
         "Use __all__ to Define Public API: In your modules, define the __all__ list to explicitly specify which objects are public and should be imported when using from module import *. This controls the module's public interface and prevents unintended namespace pollution.",
         "2fdee4bd7881c19b937404d853fbd376",
         "-113.14871379399742",
         "92.0843398299662",
         "-113.14871379399742",
         "276.2530194898986",
         "0.7986978066489336",
         "3",
         "0",
         "0"
        ],
        [
         "45",
         "PEP 8",
         "Spaces After Commas, Colons, and Semicolons: Insert a single space after commas, colons, and semicolons to separate elements and enhance readability. This applies to lists, function arguments, slicing, and control structures.\n\npython\ndef func(a, b, c):\n    pass",
         "7efbfc9eed110ef3e7e7d828bff9ea67",
         "-89.0721650231769",
         "92.0843398299662",
         "-113.14871379399742",
         "276.2530194898986",
         "0.7986978066489336",
         "3",
         "1",
         "0"
        ],
        [
         "70",
         "PEP 8",
         "Alias Imports Judiciously: Use the as keyword to create aliases for long module names or to resolve naming conflicts. Ensure that aliases are clear and widely recognized (e.g., import numpy as np) to maintain code readability and consistency.",
         "cf88b4578103db28cd6bd5ceae73624f",
         "-74.03214067272425",
         "92.0843398299662",
         "-113.14871379399742",
         "276.2530194898986",
         "0.7986978066489336",
         "3",
         "2",
         "0"
        ],
        [
         "6",
         "OData",
         "Namespaces\n\nDefinition: Unique identifiers (like MyCompany.CRM) that group related schemas and prevent naming conflicts in OData models.\nContext: Used to differentiate entities, actions, and functions that may share common names but serve different domains or versions.",
         "c37dc59fe7d7fe68df3c7d713fa0d170",
         "-565.5156481691598",
         "292.1038347715407",
         "-565.5156481691598",
         "1752.623008629244",
         "0.4815531253129598",
         "6",
         "0",
         "0"
        ],
        [
         "31",
         "OData",
         "I found the workflows (actions and functions) in dataverse. I used this querystring.\nhttps://accuity-sandbox.crm.dynamics.com/api/data/v9.2/workflows",
         "2db89204c821bead540580dbf2a8686c",
         "-439.5048205386326",
         "292.1038347715407",
         "-565.5156481691598",
         "1752.623008629244",
         "0.4815531253129598",
         "6",
         "1",
         "0"
        ],
        [
         "56",
         "OData",
         "Type Casting converts an entity from one type to another within inheritance hierarchies. In OData, it is facilitated by the @odata.type annotation, which specifies the target type for the cast, ensuring accurate data interpretation and processing.",
         "0dde439ad1603e99bed556c4b3ccf4fb",
         "-288.5259560347007",
         "292.1038347715407",
         "-565.5156481691598",
         "1752.623008629244",
         "0.4815531253129598",
         "6",
         "2",
         "0"
        ],
        [
         "81",
         "OData",
         "The set of annotations defined within a schema comprise a vocabulary. Shared vocabularies provide a powerful extensibility point for OData.\n\nMetadata annotations can be used to define additional characteristics or capabilities of a metadata element, such as a service, entity type, property, function, action or parameter.",
         "5321c4569cf1b65bf960d41e6662109c",
         "-228.7592601242481",
         "292.1038347715407",
         "-565.5156481691598",
         "1752.623008629244",
         "0.4815531253129598",
         "6",
         "3",
         "0"
        ],
        [
         "105",
         "OData",
         "Instance annotations can be used to define additional information associated with a particular result, entity, property, or error; for example whether a property is read-only for a particular instance.",
         "675d21da61e0a741941229eee5818559",
         "-162.49674970276695",
         "292.1038347715407",
         "-565.5156481691598",
         "1752.623008629244",
         "0.4815531253129598",
         "6",
         "4",
         "0"
        ],
        [
         "129",
         "OData",
         "Actions and Functions extend the set of operations that can be performed on or with a service or resource. Actions can have side-effects. For example, Actions can be used to modify data or to invoke custom operations.",
         "5bf14425855bc24f2c16f4a0d5bc9df8",
         "-67.82057405973575",
         "292.1038347715407",
         "-565.5156481691598",
         "1752.623008629244",
         "0.4815531253129598",
         "6",
         "5",
         "0"
        ],
        [
         "1",
         "Azure Functions",
         "2. Suppose your Azure Function has a blob trigger associated with it and you want it to execute only when png images are uploaded. Which of the following blob trigger Path values should you use? \n\nsamples-workitems/{name}.png\nThe Path tells the blob trigger where it should monitor for changes, and if there are any filters applied. Adding a file extension to the Path specifies that uploaded files must have that file extension in order for the trigger to invoke the function.",
         "fc5054fcf13b3189012cf676692c4f29",
         "-754.0795062039009",
         "272.87695495714826",
         "-754.0795062039009",
         "3001.646504528631",
         "0.671565296041901",
         "11",
         "0",
         "0"
        ]
       ],
       "shape": {
        "columns": 11,
        "rows": 10
       }
      },
      "text/html": [
       "<div>\n",
       "<style scoped>\n",
       "    .dataframe tbody tr th:only-of-type {\n",
       "        vertical-align: middle;\n",
       "    }\n",
       "\n",
       "    .dataframe tbody tr th {\n",
       "        vertical-align: top;\n",
       "    }\n",
       "\n",
       "    .dataframe thead th {\n",
       "        text-align: right;\n",
       "    }\n",
       "</style>\n",
       "<table border=\"1\" class=\"dataframe\">\n",
       "  <thead>\n",
       "    <tr style=\"text-align: right;\">\n",
       "      <th></th>\n",
       "      <th>head</th>\n",
       "      <th>body</th>\n",
       "      <th>hash</th>\n",
       "      <th>age</th>\n",
       "      <th>subject_mean_age</th>\n",
       "      <th>subject_highest_age</th>\n",
       "      <th>subject_age_sum</th>\n",
       "      <th>head_random_roll</th>\n",
       "      <th>frequency</th>\n",
       "      <th>count</th>\n",
       "      <th>n_fold</th>\n",
       "    </tr>\n",
       "  </thead>\n",
       "  <tbody>\n",
       "    <tr>\n",
       "      <th>20</th>\n",
       "      <td>PEP 8</td>\n",
       "      <td>Use __all__ to Define Public API: In your modu...</td>\n",
       "      <td>2fdee4bd7881c19b937404d853fbd376</td>\n",
       "      <td>-113.148714</td>\n",
       "      <td>92.084340</td>\n",
       "      <td>-113.148714</td>\n",
       "      <td>276.253019</td>\n",
       "      <td>0.798698</td>\n",
       "      <td>3</td>\n",
       "      <td>0</td>\n",
       "      <td>0</td>\n",
       "    </tr>\n",
       "    <tr>\n",
       "      <th>45</th>\n",
       "      <td>PEP 8</td>\n",
       "      <td>Spaces After Commas, Colons, and Semicolons: I...</td>\n",
       "      <td>7efbfc9eed110ef3e7e7d828bff9ea67</td>\n",
       "      <td>-89.072165</td>\n",
       "      <td>92.084340</td>\n",
       "      <td>-113.148714</td>\n",
       "      <td>276.253019</td>\n",
       "      <td>0.798698</td>\n",
       "      <td>3</td>\n",
       "      <td>1</td>\n",
       "      <td>0</td>\n",
       "    </tr>\n",
       "    <tr>\n",
       "      <th>70</th>\n",
       "      <td>PEP 8</td>\n",
       "      <td>Alias Imports Judiciously: Use the as keyword ...</td>\n",
       "      <td>cf88b4578103db28cd6bd5ceae73624f</td>\n",
       "      <td>-74.032141</td>\n",
       "      <td>92.084340</td>\n",
       "      <td>-113.148714</td>\n",
       "      <td>276.253019</td>\n",
       "      <td>0.798698</td>\n",
       "      <td>3</td>\n",
       "      <td>2</td>\n",
       "      <td>0</td>\n",
       "    </tr>\n",
       "    <tr>\n",
       "      <th>6</th>\n",
       "      <td>OData</td>\n",
       "      <td>Namespaces\\n\\nDefinition: Unique identifiers (...</td>\n",
       "      <td>c37dc59fe7d7fe68df3c7d713fa0d170</td>\n",
       "      <td>-565.515648</td>\n",
       "      <td>292.103835</td>\n",
       "      <td>-565.515648</td>\n",
       "      <td>1752.623009</td>\n",
       "      <td>0.481553</td>\n",
       "      <td>6</td>\n",
       "      <td>0</td>\n",
       "      <td>0</td>\n",
       "    </tr>\n",
       "    <tr>\n",
       "      <th>31</th>\n",
       "      <td>OData</td>\n",
       "      <td>I found the workflows (actions and functions) ...</td>\n",
       "      <td>2db89204c821bead540580dbf2a8686c</td>\n",
       "      <td>-439.504821</td>\n",
       "      <td>292.103835</td>\n",
       "      <td>-565.515648</td>\n",
       "      <td>1752.623009</td>\n",
       "      <td>0.481553</td>\n",
       "      <td>6</td>\n",
       "      <td>1</td>\n",
       "      <td>0</td>\n",
       "    </tr>\n",
       "    <tr>\n",
       "      <th>56</th>\n",
       "      <td>OData</td>\n",
       "      <td>Type Casting converts an entity from one type ...</td>\n",
       "      <td>0dde439ad1603e99bed556c4b3ccf4fb</td>\n",
       "      <td>-288.525956</td>\n",
       "      <td>292.103835</td>\n",
       "      <td>-565.515648</td>\n",
       "      <td>1752.623009</td>\n",
       "      <td>0.481553</td>\n",
       "      <td>6</td>\n",
       "      <td>2</td>\n",
       "      <td>0</td>\n",
       "    </tr>\n",
       "    <tr>\n",
       "      <th>81</th>\n",
       "      <td>OData</td>\n",
       "      <td>The set of annotations defined within a schema...</td>\n",
       "      <td>5321c4569cf1b65bf960d41e6662109c</td>\n",
       "      <td>-228.759260</td>\n",
       "      <td>292.103835</td>\n",
       "      <td>-565.515648</td>\n",
       "      <td>1752.623009</td>\n",
       "      <td>0.481553</td>\n",
       "      <td>6</td>\n",
       "      <td>3</td>\n",
       "      <td>0</td>\n",
       "    </tr>\n",
       "    <tr>\n",
       "      <th>105</th>\n",
       "      <td>OData</td>\n",
       "      <td>Instance annotations can be used to define add...</td>\n",
       "      <td>675d21da61e0a741941229eee5818559</td>\n",
       "      <td>-162.496750</td>\n",
       "      <td>292.103835</td>\n",
       "      <td>-565.515648</td>\n",
       "      <td>1752.623009</td>\n",
       "      <td>0.481553</td>\n",
       "      <td>6</td>\n",
       "      <td>4</td>\n",
       "      <td>0</td>\n",
       "    </tr>\n",
       "    <tr>\n",
       "      <th>129</th>\n",
       "      <td>OData</td>\n",
       "      <td>Actions and Functions extend the set of operat...</td>\n",
       "      <td>5bf14425855bc24f2c16f4a0d5bc9df8</td>\n",
       "      <td>-67.820574</td>\n",
       "      <td>292.103835</td>\n",
       "      <td>-565.515648</td>\n",
       "      <td>1752.623009</td>\n",
       "      <td>0.481553</td>\n",
       "      <td>6</td>\n",
       "      <td>5</td>\n",
       "      <td>0</td>\n",
       "    </tr>\n",
       "    <tr>\n",
       "      <th>1</th>\n",
       "      <td>Azure Functions</td>\n",
       "      <td>2. Suppose your Azure Function has a blob trig...</td>\n",
       "      <td>fc5054fcf13b3189012cf676692c4f29</td>\n",
       "      <td>-754.079506</td>\n",
       "      <td>272.876955</td>\n",
       "      <td>-754.079506</td>\n",
       "      <td>3001.646505</td>\n",
       "      <td>0.671565</td>\n",
       "      <td>11</td>\n",
       "      <td>0</td>\n",
       "      <td>0</td>\n",
       "    </tr>\n",
       "  </tbody>\n",
       "</table>\n",
       "</div>"
      ],
      "text/plain": [
       "                head                                               body  \\\n",
       "20             PEP 8  Use __all__ to Define Public API: In your modu...   \n",
       "45             PEP 8  Spaces After Commas, Colons, and Semicolons: I...   \n",
       "70             PEP 8  Alias Imports Judiciously: Use the as keyword ...   \n",
       "6              OData  Namespaces\\n\\nDefinition: Unique identifiers (...   \n",
       "31             OData  I found the workflows (actions and functions) ...   \n",
       "56             OData  Type Casting converts an entity from one type ...   \n",
       "81             OData  The set of annotations defined within a schema...   \n",
       "105            OData  Instance annotations can be used to define add...   \n",
       "129            OData  Actions and Functions extend the set of operat...   \n",
       "1    Azure Functions  2. Suppose your Azure Function has a blob trig...   \n",
       "\n",
       "                                 hash         age  subject_mean_age  \\\n",
       "20   2fdee4bd7881c19b937404d853fbd376 -113.148714         92.084340   \n",
       "45   7efbfc9eed110ef3e7e7d828bff9ea67  -89.072165         92.084340   \n",
       "70   cf88b4578103db28cd6bd5ceae73624f  -74.032141         92.084340   \n",
       "6    c37dc59fe7d7fe68df3c7d713fa0d170 -565.515648        292.103835   \n",
       "31   2db89204c821bead540580dbf2a8686c -439.504821        292.103835   \n",
       "56   0dde439ad1603e99bed556c4b3ccf4fb -288.525956        292.103835   \n",
       "81   5321c4569cf1b65bf960d41e6662109c -228.759260        292.103835   \n",
       "105  675d21da61e0a741941229eee5818559 -162.496750        292.103835   \n",
       "129  5bf14425855bc24f2c16f4a0d5bc9df8  -67.820574        292.103835   \n",
       "1    fc5054fcf13b3189012cf676692c4f29 -754.079506        272.876955   \n",
       "\n",
       "     subject_highest_age  subject_age_sum  head_random_roll  frequency  count  \\\n",
       "20           -113.148714       276.253019          0.798698          3      0   \n",
       "45           -113.148714       276.253019          0.798698          3      1   \n",
       "70           -113.148714       276.253019          0.798698          3      2   \n",
       "6            -565.515648      1752.623009          0.481553          6      0   \n",
       "31           -565.515648      1752.623009          0.481553          6      1   \n",
       "56           -565.515648      1752.623009          0.481553          6      2   \n",
       "81           -565.515648      1752.623009          0.481553          6      3   \n",
       "105          -565.515648      1752.623009          0.481553          6      4   \n",
       "129          -565.515648      1752.623009          0.481553          6      5   \n",
       "1            -754.079506      3001.646505          0.671565         11      0   \n",
       "\n",
       "     n_fold  \n",
       "20        0  \n",
       "45        0  \n",
       "70        0  \n",
       "6         0  \n",
       "31        0  \n",
       "56        0  \n",
       "81        0  \n",
       "105       0  \n",
       "129       0  \n",
       "1         0  "
      ]
     },
     "execution_count": 36,
     "metadata": {},
     "output_type": "execute_result"
    }
   ],
   "source": [
    "existing_cards.head(10)"
   ]
  },
  {
   "cell_type": "code",
   "execution_count": 37,
   "metadata": {},
   "outputs": [
    {
     "data": {
      "text/plain": [
       "-133.47888721836756"
      ]
     },
     "execution_count": 37,
     "metadata": {},
     "output_type": "execute_result"
    }
   ],
   "source": [
    "existing_cards['age'].mean()"
   ]
  }
 ],
 "metadata": {
  "kernelspec": {
   "display_name": "Python 3",
   "language": "python",
   "name": "python3"
  },
  "language_info": {
   "codemirror_mode": {
    "name": "ipython",
    "version": 3
   },
   "file_extension": ".py",
   "mimetype": "text/x-python",
   "name": "python",
   "nbconvert_exporter": "python",
   "pygments_lexer": "ipython3",
   "version": "3.10.10"
  }
 },
 "nbformat": 4,
 "nbformat_minor": 2
}
