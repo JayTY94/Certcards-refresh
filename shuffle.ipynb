{
 "cells": [
  {
   "cell_type": "code",
   "execution_count": 37,
   "metadata": {},
   "outputs": [],
   "source": [
    "import re\n",
    "import random\n",
    "import pandas as pd\n",
    "import hashlib"
   ]
  },
  {
   "cell_type": "code",
   "execution_count": 38,
   "metadata": {},
   "outputs": [],
   "source": [
    "with open('certcards2.txt', mode='r', encoding='utf8') as f:\n",
    "    all_cards = f.read()\n",
    "    \n",
    "card_split_pattern = r'\\n\\n\\n\\d+\\n'\n",
    "all_cards = re.split(card_split_pattern, all_cards)\n",
    "# Use re.DOTALL to allow . to match newline characters\n",
    "card_pattern = re.compile(r'(.+?)\\n([\\s\\S]+)', re.DOTALL)\n",
    "cards = [(match.group(1), match.group(2)) for cstring in all_cards if (match := re.search(card_pattern, cstring))]\n",
    "\n",
    "# removing the cards that have no content and trimming\n",
    "cards = [(subject, stripped_content) for subject, content in cards if len(stripped_content := content.strip()) > 5]\n",
    "\n",
    "def hash_string_md5(s):\n",
    "    \"\"\"\n",
    "    Hashes a string using MD5 and returns a truncated hash for efficiency.\n",
    "\n",
    "    Parameters:\n",
    "    - s (str): The input string to hash.\n",
    "\n",
    "    Returns:\n",
    "    - str: The truncated hexadecimal hash string.\n",
    "    \"\"\"\n",
    "    if pd.isnull(s):\n",
    "        return None  # Handle NaN values gracefully\n",
    "    return hashlib.md5(s.encode('utf-8')).hexdigest()\n",
    "\n",
    "\n",
    "def remake_card_document(existing_cards: pd.DataFrame, filename: str='certcards2.txt'):\n",
    "    with open(filename, mode='w', encoding='utf8') as f:\n",
    "        i = 1\n",
    "        for _, row in existing_cards.iterrows():\n",
    "            f.write('\\n'*6)\n",
    "            f.write(str(i)+'\\n')  \n",
    "            f.write(row['head']+'\\n')\n",
    "            f.write(row['body'])\n",
    "            i+=1\n",
    "    print(F\"Cards found: {existing_cards.shape[0]}\")\n",
    "    print(F\"Total card age: {abs(existing_cards['age'].sum()):.2f}\")\n",
    "\n",
    "\n",
    "existing_cards = pd.DataFrame(cards, columns=['head', 'body'])\n",
    "\n",
    "\n",
    "# existing_cards['age'] = [random.random() for _ in existing_cards.index]\n",
    "existing_cards['hash'] = existing_cards['body'].apply(hash_string_md5)\n",
    "existing_cards\n",
    "\n",
    "card_ages = pd.read_json('card_ages.json')\n",
    "card_ages = card_ages.drop_duplicates(subset=['hash'], keep='first')\n",
    "\n",
    "cards_to_age = pd.merge(\n",
    "    left=existing_cards,\n",
    "    right=card_ages[['hash', 'age']],\n",
    "    left_on='hash', right_on='hash',\n",
    "    how='left'\n",
    ")\n",
    "\n",
    "cards_to_age['head'] = cards_to_age['head'].str.strip()\n",
    "\n",
    "if cards_to_age['age'].sum() > 2e4: age_factor = .5\n",
    "else: age_factor = 1.5\n",
    "\n",
    "cards_to_age['age'] = cards_to_age['age'].fillna(0)\n",
    "# cards_to_age['age'] = cards_to_age['age'] * age_factor\n",
    "cards_to_age['age'] = cards_to_age['age'] + [random.expovariate(.60) for _ in cards_to_age.index]\n",
    "# cards_to_age['age'] = cards_to_age['age'] * [random.expovariate(1/age_factor) for _ in cards_to_age.index]\n",
    "\n",
    "# Adding priority age growth to cards for upcoming certifications\n",
    "priority_headers = ['Azure Developer Associate']\n",
    "priority_cards_mask = cards_to_age['head'].isin(priority_headers)\n",
    "cards_to_age.loc[priority_cards_mask, 'age'] = cards_to_age.loc[priority_cards_mask, 'age'] * 1.05\n",
    "\n",
    "cards_to_age = cards_to_age.drop_duplicates(subset=['hash'], keep='first')\n",
    "\n",
    "cards_to_age['subject_mean_age'] = cards_to_age.groupby('head')['age'].transform('mean')\n",
    "cards_to_age['subject_highest_age'] = cards_to_age.groupby('head')['age'].transform('max')\n",
    "cards_to_age['subject_age_sum'] = cards_to_age.groupby('head')['age'].transform('sum')\n",
    "cards_to_age['head_random_roll'] = cards_to_age.groupby('head')['head'].transform(lambda x: random.random())\n",
    "\n",
    "\n",
    "cards_to_age.sort_values('hash')[['age', 'head', 'hash']].to_json('card_ages.json', indent=2)\n",
    "\n",
    "existing_cards = cards_to_age"
   ]
  },
  {
   "cell_type": "code",
   "execution_count": 39,
   "metadata": {},
   "outputs": [
    {
     "data": {
      "text/html": [
       "<div>\n",
       "<style scoped>\n",
       "    .dataframe tbody tr th:only-of-type {\n",
       "        vertical-align: middle;\n",
       "    }\n",
       "\n",
       "    .dataframe tbody tr th {\n",
       "        vertical-align: top;\n",
       "    }\n",
       "\n",
       "    .dataframe thead th {\n",
       "        text-align: right;\n",
       "    }\n",
       "</style>\n",
       "<table border=\"1\" class=\"dataframe\">\n",
       "  <thead>\n",
       "    <tr style=\"text-align: right;\">\n",
       "      <th></th>\n",
       "      <th>age_sum</th>\n",
       "      <th>age_mean</th>\n",
       "      <th>age_max</th>\n",
       "      <th>head_count</th>\n",
       "    </tr>\n",
       "  </thead>\n",
       "  <tbody>\n",
       "    <tr>\n",
       "      <th>Azure AD Authentication</th>\n",
       "      <td>338.172697</td>\n",
       "      <td>26.013284</td>\n",
       "      <td>35.997001</td>\n",
       "      <td>13</td>\n",
       "    </tr>\n",
       "    <tr>\n",
       "      <th>RAG Project</th>\n",
       "      <td>632.167993</td>\n",
       "      <td>26.340333</td>\n",
       "      <td>36.635332</td>\n",
       "      <td>24</td>\n",
       "    </tr>\n",
       "    <tr>\n",
       "      <th>Azure DevOps Pipelines</th>\n",
       "      <td>670.164257</td>\n",
       "      <td>25.775548</td>\n",
       "      <td>35.927350</td>\n",
       "      <td>26</td>\n",
       "    </tr>\n",
       "    <tr>\n",
       "      <th>SharePoint</th>\n",
       "      <td>1109.105936</td>\n",
       "      <td>123.233993</td>\n",
       "      <td>274.159432</td>\n",
       "      <td>9</td>\n",
       "    </tr>\n",
       "    <tr>\n",
       "      <th>Email Auth and Security</th>\n",
       "      <td>1632.071526</td>\n",
       "      <td>136.005961</td>\n",
       "      <td>499.402416</td>\n",
       "      <td>12</td>\n",
       "    </tr>\n",
       "    <tr>\n",
       "      <th>Audit Report Tracker (Sharepoint List)</th>\n",
       "      <td>1785.750168</td>\n",
       "      <td>148.812514</td>\n",
       "      <td>382.332277</td>\n",
       "      <td>12</td>\n",
       "    </tr>\n",
       "    <tr>\n",
       "      <th>WSL + Kali Linux</th>\n",
       "      <td>2114.403593</td>\n",
       "      <td>151.028828</td>\n",
       "      <td>469.683947</td>\n",
       "      <td>14</td>\n",
       "    </tr>\n",
       "    <tr>\n",
       "      <th>Azure Functions + Visual Studio</th>\n",
       "      <td>2370.845117</td>\n",
       "      <td>182.372701</td>\n",
       "      <td>531.841612</td>\n",
       "      <td>13</td>\n",
       "    </tr>\n",
       "    <tr>\n",
       "      <th>IW Migration</th>\n",
       "      <td>2631.137152</td>\n",
       "      <td>187.938368</td>\n",
       "      <td>546.620746</td>\n",
       "      <td>14</td>\n",
       "    </tr>\n",
       "    <tr>\n",
       "      <th>Todd Ideas</th>\n",
       "      <td>2719.729266</td>\n",
       "      <td>181.315284</td>\n",
       "      <td>583.072550</td>\n",
       "      <td>15</td>\n",
       "    </tr>\n",
       "    <tr>\n",
       "      <th>Open Source/GitHub</th>\n",
       "      <td>2760.147310</td>\n",
       "      <td>172.509207</td>\n",
       "      <td>638.821596</td>\n",
       "      <td>16</td>\n",
       "    </tr>\n",
       "    <tr>\n",
       "      <th>Debugging in VS Code</th>\n",
       "      <td>2884.342048</td>\n",
       "      <td>144.217102</td>\n",
       "      <td>388.421779</td>\n",
       "      <td>20</td>\n",
       "    </tr>\n",
       "    <tr>\n",
       "      <th>Terraform</th>\n",
       "      <td>3138.188488</td>\n",
       "      <td>125.527540</td>\n",
       "      <td>406.966011</td>\n",
       "      <td>25</td>\n",
       "    </tr>\n",
       "    <tr>\n",
       "      <th>Azure Functions + PP365</th>\n",
       "      <td>3712.238311</td>\n",
       "      <td>176.773253</td>\n",
       "      <td>619.552636</td>\n",
       "      <td>21</td>\n",
       "    </tr>\n",
       "    <tr>\n",
       "      <th>Python</th>\n",
       "      <td>3929.249730</td>\n",
       "      <td>83.601058</td>\n",
       "      <td>188.328777</td>\n",
       "      <td>47</td>\n",
       "    </tr>\n",
       "    <tr>\n",
       "      <th>Logging in Python</th>\n",
       "      <td>4597.577975</td>\n",
       "      <td>124.258864</td>\n",
       "      <td>416.030092</td>\n",
       "      <td>37</td>\n",
       "    </tr>\n",
       "    <tr>\n",
       "      <th>FSLogix</th>\n",
       "      <td>4766.287868</td>\n",
       "      <td>198.595328</td>\n",
       "      <td>569.230464</td>\n",
       "      <td>24</td>\n",
       "    </tr>\n",
       "    <tr>\n",
       "      <th>PnP Powershell</th>\n",
       "      <td>5402.299043</td>\n",
       "      <td>200.085150</td>\n",
       "      <td>576.566734</td>\n",
       "      <td>27</td>\n",
       "    </tr>\n",
       "    <tr>\n",
       "      <th>Powershell Modules</th>\n",
       "      <td>5898.935832</td>\n",
       "      <td>125.509273</td>\n",
       "      <td>565.629099</td>\n",
       "      <td>47</td>\n",
       "    </tr>\n",
       "    <tr>\n",
       "      <th>JavaScript Concepts</th>\n",
       "      <td>6360.953337</td>\n",
       "      <td>120.017987</td>\n",
       "      <td>645.381123</td>\n",
       "      <td>53</td>\n",
       "    </tr>\n",
       "    <tr>\n",
       "      <th>Vocab</th>\n",
       "      <td>7103.660916</td>\n",
       "      <td>116.453458</td>\n",
       "      <td>506.879663</td>\n",
       "      <td>61</td>\n",
       "    </tr>\n",
       "    <tr>\n",
       "      <th>Azure Developer Associate</th>\n",
       "      <td>9148.798673</td>\n",
       "      <td>145.219027</td>\n",
       "      <td>647.090396</td>\n",
       "      <td>63</td>\n",
       "    </tr>\n",
       "  </tbody>\n",
       "</table>\n",
       "</div>"
      ],
      "text/plain": [
       "                                            age_sum    age_mean     age_max  \\\n",
       "Azure AD Authentication                  338.172697   26.013284   35.997001   \n",
       "RAG Project                              632.167993   26.340333   36.635332   \n",
       "Azure DevOps Pipelines                   670.164257   25.775548   35.927350   \n",
       "SharePoint                              1109.105936  123.233993  274.159432   \n",
       "Email Auth and Security                 1632.071526  136.005961  499.402416   \n",
       "Audit Report Tracker (Sharepoint List)  1785.750168  148.812514  382.332277   \n",
       "WSL + Kali Linux                        2114.403593  151.028828  469.683947   \n",
       "Azure Functions + Visual Studio         2370.845117  182.372701  531.841612   \n",
       "IW Migration                            2631.137152  187.938368  546.620746   \n",
       "Todd Ideas                              2719.729266  181.315284  583.072550   \n",
       "Open Source/GitHub                      2760.147310  172.509207  638.821596   \n",
       "Debugging in VS Code                    2884.342048  144.217102  388.421779   \n",
       "Terraform                               3138.188488  125.527540  406.966011   \n",
       "Azure Functions + PP365                 3712.238311  176.773253  619.552636   \n",
       "Python                                  3929.249730   83.601058  188.328777   \n",
       "Logging in Python                       4597.577975  124.258864  416.030092   \n",
       "FSLogix                                 4766.287868  198.595328  569.230464   \n",
       "PnP Powershell                          5402.299043  200.085150  576.566734   \n",
       "Powershell Modules                      5898.935832  125.509273  565.629099   \n",
       "JavaScript Concepts                     6360.953337  120.017987  645.381123   \n",
       "Vocab                                   7103.660916  116.453458  506.879663   \n",
       "Azure Developer Associate               9148.798673  145.219027  647.090396   \n",
       "\n",
       "                                        head_count  \n",
       "Azure AD Authentication                         13  \n",
       "RAG Project                                     24  \n",
       "Azure DevOps Pipelines                          26  \n",
       "SharePoint                                       9  \n",
       "Email Auth and Security                         12  \n",
       "Audit Report Tracker (Sharepoint List)          12  \n",
       "WSL + Kali Linux                                14  \n",
       "Azure Functions + Visual Studio                 13  \n",
       "IW Migration                                    14  \n",
       "Todd Ideas                                      15  \n",
       "Open Source/GitHub                              16  \n",
       "Debugging in VS Code                            20  \n",
       "Terraform                                       25  \n",
       "Azure Functions + PP365                         21  \n",
       "Python                                          47  \n",
       "Logging in Python                               37  \n",
       "FSLogix                                         24  \n",
       "PnP Powershell                                  27  \n",
       "Powershell Modules                              47  \n",
       "JavaScript Concepts                             53  \n",
       "Vocab                                           61  \n",
       "Azure Developer Associate                       63  "
      ]
     },
     "execution_count": 39,
     "metadata": {},
     "output_type": "execute_result"
    }
   ],
   "source": [
    "stats = existing_cards.groupby('head').agg({'age': ['sum', 'mean', 'max'], 'head': 'count'}).sort_values(('age', 'sum'))\n",
    "stats.columns = stats.columns.to_flat_index()\n",
    "stats.columns = ['_'.join(col).strip() for col in stats.columns]\n",
    "stats.index.name = None\n",
    "stats"
   ]
  },
  {
   "cell_type": "markdown",
   "metadata": {},
   "source": [
    "# Histogram"
   ]
  },
  {
   "cell_type": "code",
   "execution_count": 40,
   "metadata": {},
   "outputs": [
    {
     "name": "stdout",
     "output_type": "stream",
     "text": [
      "sum of ages: ~ 75706.23\n"
     ]
    },
    {
     "data": {
      "text/plain": [
       "<Axes: >"
      ]
     },
     "execution_count": 40,
     "metadata": {},
     "output_type": "execute_result"
    },
    {
     "data": {
      "image/png": "[encoded data removed]",
      "text/plain": [
       "<Figure size 640x480 with 1 Axes>"
      ]
     },
     "metadata": {},
     "output_type": "display_data"
    }
   ],
   "source": [
    "print(f\"sum of ages: ~ {existing_cards['age'].sum(0):.2f}\")\n",
    "existing_cards['age'].hist(bins=20)"
   ]
  },
  {
   "cell_type": "markdown",
   "metadata": {},
   "source": [
    "# Completely Random Shuffle"
   ]
  },
  {
   "cell_type": "code",
   "execution_count": 41,
   "metadata": {},
   "outputs": [],
   "source": [
    "# existing_cards = existing_cards.sample(frac=1)\n",
    "# remake_card_document(filename='certcards2.txt', existing_cards = existing_cards)"
   ]
  },
  {
   "cell_type": "markdown",
   "metadata": {},
   "source": [
    "# Age Sort"
   ]
  },
  {
   "cell_type": "code",
   "execution_count": 42,
   "metadata": {},
   "outputs": [],
   "source": [
    "# existing_cards = existing_cards.sort_values('age', ascending=False)\n",
    "# remake_card_document(filename='certcards2.txt', existing_cards=existing_cards)\n",
    "# existing_cards.head(10)"
   ]
  },
  {
   "cell_type": "markdown",
   "metadata": {},
   "source": [
    "# Headers with fewest notes first"
   ]
  },
  {
   "cell_type": "code",
   "execution_count": 43,
   "metadata": {},
   "outputs": [],
   "source": [
    "# frequency = existing_cards['head'].value_counts(ascending=True)\n",
    "\n",
    "# existing_cards = pd.merge(\n",
    "#     left=existing_cards,\n",
    "#     right=frequency.rename('frequency'),\n",
    "#     left_on='head', right_index=True,\n",
    "#     how='left'\n",
    "# )\n",
    "# existing_cards['oldest'] = existing_cards.groupby('head')['age'].transform('max')\n",
    "# existing_cards['subject_highest_age'] = existing_cards['subject_highest_age'] * -1\n",
    "# existing_cards['age'] = existing_cards['age'] * -1\n",
    "\n",
    "\n",
    "# existing_cards.sort_values(['frequency', 'subject_highest_age', 'age'], ascending=True, inplace=True)\n",
    "\n",
    "# remake_card_document(filename='certcards2.txt', existing_cards=existing_cards)\n",
    "\n",
    "# existing_cards.head(10)"
   ]
  },
  {
   "cell_type": "markdown",
   "metadata": {},
   "source": [
    "# Focus on one header"
   ]
  },
  {
   "cell_type": "code",
   "execution_count": 44,
   "metadata": {},
   "outputs": [],
   "source": [
    "# heads = existing_cards['head'].value_counts()\n",
    "# heads = heads[heads > 5].index.tolist()\n",
    "# one_header = random.sample(heads, 1)[0]\n",
    "# existing_cards['pick_head'] = existing_cards['head'].apply(\n",
    "#     lambda h: 0 if h == one_header else 1 \n",
    "# )\n",
    "\n",
    "# remake_card_document(existing_cards=existing_cards.sort_values('pick_head'))"
   ]
  },
  {
   "cell_type": "markdown",
   "metadata": {},
   "source": [
    "## Header with oldest cards first"
   ]
  },
  {
   "cell_type": "code",
   "execution_count": 45,
   "metadata": {},
   "outputs": [],
   "source": [
    "# existing_cards['oldest'] = existing_cards.groupby('head')['age'].transform('max')\n",
    "# existing_cards.sort_values(['oldest', 'age'], ascending=False, inplace=True)\n",
    "# remake_card_document(existing_cards)"
   ]
  },
  {
   "cell_type": "markdown",
   "metadata": {},
   "source": [
    "## Headers with greatest mean card age first"
   ]
  },
  {
   "cell_type": "code",
   "execution_count": 46,
   "metadata": {},
   "outputs": [],
   "source": [
    "# existing_cards.sort_values(['subject_mean_age', 'age'], ascending=False, inplace=True)\n",
    "# remake_card_document(existing_cards)"
   ]
  },
  {
   "cell_type": "markdown",
   "metadata": {},
   "source": [
    "## Headers with greatest age sum first"
   ]
  },
  {
   "cell_type": "code",
   "execution_count": 47,
   "metadata": {},
   "outputs": [],
   "source": [
    "# existing_cards.sort_values(['subject_age_sum', 'age'], ascending=False, inplace=True)\n",
    "# remake_card_document(existing_cards)"
   ]
  },
  {
   "cell_type": "markdown",
   "metadata": {},
   "source": [
    "# N-fold shuffle\n"
   ]
  },
  {
   "cell_type": "markdown",
   "metadata": {},
   "source": [
    "## Age Sum"
   ]
  },
  {
   "cell_type": "code",
   "execution_count": 48,
   "metadata": {},
   "outputs": [
    {
     "name": "stdout",
     "output_type": "stream",
     "text": [
      "Cards found: 593\n",
      "Total card age: 75706.23\n"
     ]
    },
    {
     "data": {
      "text/html": [
       "<div>\n",
       "<style scoped>\n",
       "    .dataframe tbody tr th:only-of-type {\n",
       "        vertical-align: middle;\n",
       "    }\n",
       "\n",
       "    .dataframe tbody tr th {\n",
       "        vertical-align: top;\n",
       "    }\n",
       "\n",
       "    .dataframe thead th {\n",
       "        text-align: right;\n",
       "    }\n",
       "</style>\n",
       "<table border=\"1\" class=\"dataframe\">\n",
       "  <thead>\n",
       "    <tr style=\"text-align: right;\">\n",
       "      <th></th>\n",
       "      <th>head</th>\n",
       "      <th>body</th>\n",
       "      <th>hash</th>\n",
       "      <th>age</th>\n",
       "      <th>subject_mean_age</th>\n",
       "      <th>subject_highest_age</th>\n",
       "      <th>subject_age_sum</th>\n",
       "      <th>head_random_roll</th>\n",
       "      <th>count</th>\n",
       "      <th>n_fold</th>\n",
       "    </tr>\n",
       "  </thead>\n",
       "  <tbody>\n",
       "    <tr>\n",
       "      <th>208</th>\n",
       "      <td>Azure Developer Associate</td>\n",
       "      <td>Azure blob rule filter type:\\nblobIndexMatch\\n...</td>\n",
       "      <td>0f381af5a8962db3640b1cdb8454d0b9</td>\n",
       "      <td>-647.090396</td>\n",
       "      <td>145.219027</td>\n",
       "      <td>647.090396</td>\n",
       "      <td>-9148.798673</td>\n",
       "      <td>0.592838</td>\n",
       "      <td>0</td>\n",
       "      <td>0</td>\n",
       "    </tr>\n",
       "    <tr>\n",
       "      <th>211</th>\n",
       "      <td>Azure Developer Associate</td>\n",
       "      <td>Rehydration priority options include:\\n\\nHigh ...</td>\n",
       "      <td>c5266ab09964c6f01f10a5b69ce64613</td>\n",
       "      <td>-461.184234</td>\n",
       "      <td>145.219027</td>\n",
       "      <td>647.090396</td>\n",
       "      <td>-9148.798673</td>\n",
       "      <td>0.592838</td>\n",
       "      <td>3</td>\n",
       "      <td>0</td>\n",
       "    </tr>\n",
       "    <tr>\n",
       "      <th>214</th>\n",
       "      <td>Azure Developer Associate</td>\n",
       "      <td>Q: Which Azure Cache for Redis tiers support b...</td>\n",
       "      <td>955ceb84f952f9d479cdfd7dc37d5dd1</td>\n",
       "      <td>-323.671309</td>\n",
       "      <td>145.219027</td>\n",
       "      <td>647.090396</td>\n",
       "      <td>-9148.798673</td>\n",
       "      <td>0.592838</td>\n",
       "      <td>6</td>\n",
       "      <td>0</td>\n",
       "    </tr>\n",
       "    <tr>\n",
       "      <th>217</th>\n",
       "      <td>Azure Developer Associate</td>\n",
       "      <td>Q: Which Azure Cache for Redis tier allows SSD...</td>\n",
       "      <td>0c706a15353adabd89cc81778a2b54c0</td>\n",
       "      <td>-270.421659</td>\n",
       "      <td>145.219027</td>\n",
       "      <td>647.090396</td>\n",
       "      <td>-9148.798673</td>\n",
       "      <td>0.592838</td>\n",
       "      <td>9</td>\n",
       "      <td>0</td>\n",
       "    </tr>\n",
       "    <tr>\n",
       "      <th>370</th>\n",
       "      <td>Azure Developer Associate</td>\n",
       "      <td>What Azure App Service feature allows zero-dow...</td>\n",
       "      <td>28e3c8ebd28e87964bb8f152769fa636</td>\n",
       "      <td>-244.105523</td>\n",
       "      <td>145.219027</td>\n",
       "      <td>647.090396</td>\n",
       "      <td>-9148.798673</td>\n",
       "      <td>0.592838</td>\n",
       "      <td>12</td>\n",
       "      <td>0</td>\n",
       "    </tr>\n",
       "    <tr>\n",
       "      <th>373</th>\n",
       "      <td>Azure Developer Associate</td>\n",
       "      <td>In Azure App Service, what should you configur...</td>\n",
       "      <td>1e19ba3a62ce310bdbb21334e1297fd9</td>\n",
       "      <td>-206.760143</td>\n",
       "      <td>145.219027</td>\n",
       "      <td>647.090396</td>\n",
       "      <td>-9148.798673</td>\n",
       "      <td>0.592838</td>\n",
       "      <td>15</td>\n",
       "      <td>0</td>\n",
       "    </tr>\n",
       "    <tr>\n",
       "      <th>376</th>\n",
       "      <td>Azure Developer Associate</td>\n",
       "      <td>Azure blob storage rule actions:\\n  tierToCool...</td>\n",
       "      <td>3cf2cc6364bbcf82c4b5303d3639b345</td>\n",
       "      <td>-191.182016</td>\n",
       "      <td>145.219027</td>\n",
       "      <td>647.090396</td>\n",
       "      <td>-9148.798673</td>\n",
       "      <td>0.592838</td>\n",
       "      <td>18</td>\n",
       "      <td>0</td>\n",
       "    </tr>\n",
       "    <tr>\n",
       "      <th>456</th>\n",
       "      <td>Azure Developer Associate</td>\n",
       "      <td>What unique benefit does App Service Environme...</td>\n",
       "      <td>16e419ddde857690240cdad3434c3005</td>\n",
       "      <td>-162.477285</td>\n",
       "      <td>145.219027</td>\n",
       "      <td>647.090396</td>\n",
       "      <td>-9148.798673</td>\n",
       "      <td>0.592838</td>\n",
       "      <td>21</td>\n",
       "      <td>0</td>\n",
       "    </tr>\n",
       "    <tr>\n",
       "      <th>458</th>\n",
       "      <td>Azure Developer Associate</td>\n",
       "      <td>Q: Which Azure Redis tier supports persistence...</td>\n",
       "      <td>c58372069d8ce641766af73c06f8e6a6</td>\n",
       "      <td>-136.249832</td>\n",
       "      <td>145.219027</td>\n",
       "      <td>647.090396</td>\n",
       "      <td>-9148.798673</td>\n",
       "      <td>0.592838</td>\n",
       "      <td>24</td>\n",
       "      <td>0</td>\n",
       "    </tr>\n",
       "    <tr>\n",
       "      <th>463</th>\n",
       "      <td>Azure Developer Associate</td>\n",
       "      <td>Which service provides centralized telemetry a...</td>\n",
       "      <td>79d60158ab1f570660aa3dd1233b149a</td>\n",
       "      <td>-116.096380</td>\n",
       "      <td>145.219027</td>\n",
       "      <td>647.090396</td>\n",
       "      <td>-9148.798673</td>\n",
       "      <td>0.592838</td>\n",
       "      <td>27</td>\n",
       "      <td>0</td>\n",
       "    </tr>\n",
       "  </tbody>\n",
       "</table>\n",
       "</div>"
      ],
      "text/plain": [
       "                          head  \\\n",
       "208  Azure Developer Associate   \n",
       "211  Azure Developer Associate   \n",
       "214  Azure Developer Associate   \n",
       "217  Azure Developer Associate   \n",
       "370  Azure Developer Associate   \n",
       "373  Azure Developer Associate   \n",
       "376  Azure Developer Associate   \n",
       "456  Azure Developer Associate   \n",
       "458  Azure Developer Associate   \n",
       "463  Azure Developer Associate   \n",
       "\n",
       "                                                  body  \\\n",
       "208  Azure blob rule filter type:\\nblobIndexMatch\\n...   \n",
       "211  Rehydration priority options include:\\n\\nHigh ...   \n",
       "214  Q: Which Azure Cache for Redis tiers support b...   \n",
       "217  Q: Which Azure Cache for Redis tier allows SSD...   \n",
       "370  What Azure App Service feature allows zero-dow...   \n",
       "373  In Azure App Service, what should you configur...   \n",
       "376  Azure blob storage rule actions:\\n  tierToCool...   \n",
       "456  What unique benefit does App Service Environme...   \n",
       "458  Q: Which Azure Redis tier supports persistence...   \n",
       "463  Which service provides centralized telemetry a...   \n",
       "\n",
       "                                 hash         age  subject_mean_age  \\\n",
       "208  0f381af5a8962db3640b1cdb8454d0b9 -647.090396        145.219027   \n",
       "211  c5266ab09964c6f01f10a5b69ce64613 -461.184234        145.219027   \n",
       "214  955ceb84f952f9d479cdfd7dc37d5dd1 -323.671309        145.219027   \n",
       "217  0c706a15353adabd89cc81778a2b54c0 -270.421659        145.219027   \n",
       "370  28e3c8ebd28e87964bb8f152769fa636 -244.105523        145.219027   \n",
       "373  1e19ba3a62ce310bdbb21334e1297fd9 -206.760143        145.219027   \n",
       "376  3cf2cc6364bbcf82c4b5303d3639b345 -191.182016        145.219027   \n",
       "456  16e419ddde857690240cdad3434c3005 -162.477285        145.219027   \n",
       "458  c58372069d8ce641766af73c06f8e6a6 -136.249832        145.219027   \n",
       "463  79d60158ab1f570660aa3dd1233b149a -116.096380        145.219027   \n",
       "\n",
       "     subject_highest_age  subject_age_sum  head_random_roll  count  n_fold  \n",
       "208           647.090396     -9148.798673          0.592838      0       0  \n",
       "211           647.090396     -9148.798673          0.592838      3       0  \n",
       "214           647.090396     -9148.798673          0.592838      6       0  \n",
       "217           647.090396     -9148.798673          0.592838      9       0  \n",
       "370           647.090396     -9148.798673          0.592838     12       0  \n",
       "373           647.090396     -9148.798673          0.592838     15       0  \n",
       "376           647.090396     -9148.798673          0.592838     18       0  \n",
       "456           647.090396     -9148.798673          0.592838     21       0  \n",
       "458           647.090396     -9148.798673          0.592838     24       0  \n",
       "463           647.090396     -9148.798673          0.592838     27       0  "
      ]
     },
     "execution_count": 48,
     "metadata": {},
     "output_type": "execute_result"
    }
   ],
   "source": [
    "n=3\n",
    "existing_cards['count'] = existing_cards.sort_values('age', ascending=False).groupby('head').cumcount()\n",
    "existing_cards['n_fold'] = existing_cards['count'] % n\n",
    "\n",
    "existing_cards['subject_age_sum'] = existing_cards['subject_age_sum'] *-1\n",
    "existing_cards['age'] = existing_cards['age'] *-1\n",
    "existing_cards.sort_values(['n_fold', 'subject_age_sum', 'age'], inplace=True)\n",
    "\n",
    "remake_card_document(existing_cards=existing_cards)\n",
    "existing_cards.head(10)\n"
   ]
  },
  {
   "cell_type": "markdown",
   "metadata": {},
   "source": [
    "## Age Mean"
   ]
  },
  {
   "cell_type": "code",
   "execution_count": 49,
   "metadata": {},
   "outputs": [],
   "source": [
    "# n=3\n",
    "# existing_cards['count'] = existing_cards.sort_values('age', ascending=False).groupby('head').cumcount()\n",
    "# existing_cards['n_fold'] = existing_cards['count'] % n\n",
    "\n",
    "# existing_cards['subject_mean_age'] = existing_cards['subject_mean_age'] *-1\n",
    "# existing_cards['age'] = existing_cards['age'] *-1\n",
    "# existing_cards.sort_values(['n_fold', 'subject_mean_age', 'age'], inplace=True)\n",
    "# remake_card_document(existing_cards=existing_cards)\n",
    "\n",
    "# existing_cards.head(10)\n",
    "\n"
   ]
  },
  {
   "cell_type": "markdown",
   "metadata": {},
   "source": [
    "## Age Max"
   ]
  },
  {
   "cell_type": "code",
   "execution_count": 50,
   "metadata": {},
   "outputs": [],
   "source": [
    "# n = 1\n",
    "# existing_cards['count'] = existing_cards.sort_values('age', ascending=False).groupby('head').cumcount()\n",
    "# existing_cards['n_fold'] = existing_cards['count'] // n\n",
    "\n",
    "# if existing_cards['age'].sum() > 0:\n",
    "#     existing_cards['subject_highest_age'] = existing_cards['subject_highest_age'] *-1\n",
    "#     existing_cards['age'] = existing_cards['age'] *-1\n",
    "# # existing_cards.sort_values(['n_fold', 'subject_highest_age', 'age'], inplace=True)\n",
    "# existing_cards.sort_values(['age'], inplace=True)\n",
    "\n",
    "# remake_card_document(existing_cards=existing_cards)\n",
    "# existing_cards.head(10)\n"
   ]
  },
  {
   "cell_type": "markdown",
   "metadata": {},
   "source": [
    "## Card Count"
   ]
  },
  {
   "cell_type": "code",
   "execution_count": 51,
   "metadata": {},
   "outputs": [],
   "source": [
    "# n=10\n",
    "# existing_cards['frequency']  = existing_cards.groupby('head').transform('count')['body']\n",
    "# existing_cards['count'] = existing_cards.sort_values('age', ascending=False).groupby('head').cumcount()\n",
    "# existing_cards['n_fold'] = existing_cards['count'] // n\n",
    "\n",
    "# if existing_cards['age'].sum() > 0:\n",
    "#     # existing_cards['neg_subject_highest_age'] = existing_cards['subject_highest_age'] *-1\n",
    "#     existing_cards['neg_age'] = existing_cards['age'] *-1\n",
    "# existing_cards.sort_values(['n_fold', 'frequency', 'neg_age'], inplace=True)\n",
    "# remake_card_document(existing_cards=existing_cards)\n",
    "\n",
    "# existing_cards.head(10)\n",
    "\n"
   ]
  },
  {
   "cell_type": "markdown",
   "metadata": {},
   "source": [
    "\n",
    "## Random"
   ]
  },
  {
   "cell_type": "code",
   "execution_count": 52,
   "metadata": {},
   "outputs": [],
   "source": [
    "# n = 3\n",
    "# existing_cards['count'] = existing_cards.sort_values('age', ascending=False).groupby('head').cumcount()\n",
    "# existing_cards['n_fold'] = existing_cards['count'] % n\n",
    "# existing_cards['age'] *= -1\n",
    "# existing_cards.sort_values(['n_fold', 'head_random_roll', 'age'], inplace=True)\n",
    "# remake_card_document(existing_cards=existing_cards)\n",
    "# existing_cards.head(10)"
   ]
  },
  {
   "cell_type": "code",
   "execution_count": 53,
   "metadata": {},
   "outputs": [
    {
     "data": {
      "text/plain": [
       "head                   Azure Developer AssociateAzure Developer Assoc...\n",
       "body                   Azure blob rule filter type:\\nblobIndexMatch\\n...\n",
       "hash                   0f381af5a8962db3640b1cdb8454d0b9c5266ab09964c6...\n",
       "age                                                         -2759.238775\n",
       "subject_mean_age                                             1452.190265\n",
       "subject_highest_age                                          6470.903955\n",
       "subject_age_sum                                            -91487.986725\n",
       "head_random_roll                                                 5.92838\n",
       "count                                                                135\n",
       "n_fold                                                                 0\n",
       "dtype: object"
      ]
     },
     "execution_count": 53,
     "metadata": {},
     "output_type": "execute_result"
    }
   ],
   "source": [
    "existing_cards.head(10).sum()"
   ]
  },
  {
   "cell_type": "code",
   "execution_count": 54,
   "metadata": {},
   "outputs": [
    {
     "data": {
      "text/plain": [
       "-127.66648775097008"
      ]
     },
     "execution_count": 54,
     "metadata": {},
     "output_type": "execute_result"
    }
   ],
   "source": [
    "existing_cards['age'].mean()"
   ]
  }
 ],
 "metadata": {
  "kernelspec": {
   "display_name": "Python 3",
   "language": "python",
   "name": "python3"
  },
  "language_info": {
   "codemirror_mode": {
    "name": "ipython",
    "version": 3
   },
   "file_extension": ".py",
   "mimetype": "text/x-python",
   "name": "python",
   "nbconvert_exporter": "python",
   "pygments_lexer": "ipython3",
   "version": "3.10.10"
  }
 },
 "nbformat": 4,
 "nbformat_minor": 2
}
