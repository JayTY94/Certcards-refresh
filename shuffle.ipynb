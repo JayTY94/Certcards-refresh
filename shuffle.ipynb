{
 "cells": [
  {
   "cell_type": "code",
   "execution_count": 1,
   "metadata": {},
   "outputs": [],
   "source": [
    "import re\n",
    "import random\n",
    "import pandas as pd\n",
    "import hashlib"
   ]
  },
  {
   "cell_type": "code",
   "execution_count": 2,
   "metadata": {},
   "outputs": [],
   "source": [
    "with open('certcards2.txt', mode='r', encoding='utf8') as f:\n",
    "    all_cards = f.read()\n",
    "    \n",
    "card_split_pattern = r'\\n\\n\\n\\d+\\n'\n",
    "all_cards = re.split(card_split_pattern, all_cards)\n",
    "# Use re.DOTALL to allow . to match newline characters\n",
    "card_pattern = re.compile(r'(.+?)\\n([\\s\\S]+)', re.DOTALL)\n",
    "cards = [(match.group(1), match.group(2)) for cstring in all_cards if (match := re.search(card_pattern, cstring))]\n",
    "\n",
    "# removing the cards that have no content and trimming\n",
    "cards = [(subject, stripped_content) for subject, content in cards if len(stripped_content := content.strip()) > 5]\n",
    "\n",
    "def hash_string_md5(s):\n",
    "    \"\"\"\n",
    "    Hashes a string using MD5 and returns a truncated hash for efficiency.\n",
    "\n",
    "    Parameters:\n",
    "    - s (str): The input string to hash.\n",
    "\n",
    "    Returns:\n",
    "    - str: The truncated hexadecimal hash string.\n",
    "    \"\"\"\n",
    "    if pd.isnull(s):\n",
    "        return None  # Handle NaN values gracefully\n",
    "    return hashlib.md5(s.encode('utf-8')).hexdigest()\n",
    "\n",
    "\n",
    "def remake_card_document(existing_cards: pd.DataFrame, filename: str='certcards2.txt'):\n",
    "    with open(filename, mode='w', encoding='utf8') as f:\n",
    "        i = 1\n",
    "        for _, row in existing_cards.iterrows():\n",
    "            f.write('\\n'*6)\n",
    "            f.write(str(i)+'\\n')  \n",
    "            f.write(row['head']+'\\n')\n",
    "            f.write(row['body'])\n",
    "            i+=1\n",
    "    print(F\"Cards found: {existing_cards.shape[0]}\")\n",
    "\n",
    "\n",
    "existing_cards = pd.DataFrame(cards, columns=['head', 'body'])\n",
    "\n",
    "\n",
    "# existing_cards['age'] = [random.random() for _ in existing_cards.index]\n",
    "existing_cards['hash'] = existing_cards['body'].apply(hash_string_md5)\n",
    "existing_cards\n",
    "\n",
    "card_ages = pd.read_json('card_ages.json')\n",
    "card_ages = card_ages.drop_duplicates(subset=['hash'], keep='first')\n",
    "\n",
    "cards_to_age = pd.merge(\n",
    "    left=existing_cards,\n",
    "    right=card_ages[['hash', 'age']],\n",
    "    left_on='hash', right_on='hash',\n",
    "    how='left'\n",
    ")\n",
    "\n",
    "cards_to_age['head'] = cards_to_age['head'].str.strip()\n",
    "\n",
    "if cards_to_age['age'].sum() > 2e4: age_factor = 1\n",
    "else: age_factor = 1.00\n",
    "\n",
    "cards_to_age['age'] = cards_to_age['age'].fillna(0)\n",
    "cards_to_age['age'] = cards_to_age['age'] * age_factor\n",
    "cards_to_age['age'] = cards_to_age['age'] + [random.expovariate(.60) for _ in cards_to_age.index]\n",
    "# cards_to_age['age'] = cards_to_age['age'] * [random.expovariate(.5) for _ in cards_to_age.index]\n",
    "\n",
    "# Adding priority age growth to cards for upcoming certifications\n",
    "priority_headers = ['Azure Developer Associate']\n",
    "priority_cards_mask = cards_to_age['head'].isin(priority_headers)\n",
    "cards_to_age.loc[priority_cards_mask, 'age'] = cards_to_age.loc[priority_cards_mask, 'age'] * 1.1\n",
    "\n",
    "\n",
    "cards_to_age = cards_to_age.drop_duplicates(subset=['hash'], keep='first')\n",
    "\n",
    "cards_to_age['subject_mean_age'] = cards_to_age.groupby('head')['age'].transform('mean')\n",
    "cards_to_age['subject_highest_age'] = cards_to_age.groupby('head')['age'].transform('max')\n",
    "cards_to_age['subject_age_sum'] = cards_to_age.groupby('head')['age'].transform('sum')\n",
    "cards_to_age['head_random_roll'] = cards_to_age.groupby('head')['head'].transform(lambda x: random.random())\n",
    "\n",
    "\n",
    "cards_to_age.sort_values('hash')[['age', 'head', 'hash']].to_json('card_ages.json', indent=2)\n",
    "\n",
    "existing_cards = cards_to_age"
   ]
  },
  {
   "cell_type": "code",
   "execution_count": 3,
   "metadata": {},
   "outputs": [
    {
     "data": {
      "application/vnd.microsoft.datawrangler.viewer.v0+json": {
       "columns": [
        {
         "name": "index",
         "rawType": "object",
         "type": "string"
        },
        {
         "name": "age_sum",
         "rawType": "float64",
         "type": "float"
        },
        {
         "name": "age_mean",
         "rawType": "float64",
         "type": "float"
        },
        {
         "name": "age_max",
         "rawType": "float64",
         "type": "float"
        },
        {
         "name": "head_count",
         "rawType": "int64",
         "type": "integer"
        }
       ],
       "conversionMethod": "pd.DataFrame",
       "ref": "c78d57d6-8105-4b1a-a6c1-fd40c8d838b1",
       "rows": [
        [
         "Todd Ideas",
         "1450.6408889800773",
         "96.70939259867183",
         "177.77069833436138",
         "15"
        ],
        [
         "Email Auth and Security",
         "1835.4989091012085",
         "152.9582424251007",
         "515.8881339024927",
         "12"
        ],
        [
         "Azure AI Search",
         "1867.1770628469576",
         "233.3971328558697",
         "446.97569453194296",
         "8"
        ],
        [
         "Python",
         "2048.0620030550235",
         "43.57578729904306",
         "69.30227681209351",
         "47"
        ],
        [
         "SharePoint",
         "2109.0681754624648",
         "175.75568128853874",
         "610.5557957673443",
         "12"
        ],
        [
         "Home Network Project",
         "2219.7168569665714",
         "221.97168569665715",
         "435.601125259106",
         "10"
        ],
        [
         "Audit Report Tracker (Sharepoint List)",
         "2235.942326769195",
         "171.9955635976304",
         "411.4210042111469",
         "13"
        ],
        [
         "Azure Functions + Visual Studio",
         "2435.651273632343",
         "173.9750909737388",
         "530.4513966519423",
         "14"
        ],
        [
         "IW Migration",
         "2594.0437332552738",
         "185.28883808966242",
         "497.2893255758873",
         "14"
        ],
        [
         "Debugging in VS Code",
         "2654.990515996983",
         "132.74952579984915",
         "298.4530320797173",
         "20"
        ],
        [
         "Open Source/GitHub",
         "2863.29575782006",
         "178.95598486375374",
         "409.7469312041977",
         "16"
        ],
        [
         "Terraform",
         "2987.108022364922",
         "119.48432089459688",
         "307.110119948101",
         "25"
        ],
        [
         "FSLogix",
         "3256.3823657301114",
         "135.68259857208798",
         "300.585150915488",
         "24"
        ],
        [
         "DNS",
         "3731.3198248039334",
         "233.20748905024584",
         "452.41405539430144",
         "16"
        ],
        [
         "Azure Developer Associate",
         "3820.3479152834284",
         "60.640443099736956",
         "167.46546470289908",
         "63"
        ],
        [
         "WSL + Kali Linux",
         "3978.884388212338",
         "209.41496780064935",
         "443.381021371373",
         "19"
        ],
        [
         "Azure Functions + PP365",
         "4286.3582891516435",
         "186.3634038761584",
         "451.68022604895",
         "23"
        ],
        [
         "Powershell Modules",
         "5152.124253951516",
         "105.14539293778604",
         "511.7301470199139",
         "49"
        ],
        [
         "Logging in Python",
         "6002.226116205634",
         "125.0463774209507",
         "675.4396541060594",
         "48"
        ],
        [
         "Vocab",
         "6298.878520517363",
         "99.98219873837084",
         "523.0755836632832",
         "63"
        ],
        [
         "JavaScript Concepts",
         "7031.141769521419",
         "115.26461917248227",
         "468.014589750772",
         "61"
        ],
        [
         "PnP Powershell",
         "7347.294403604627",
         "198.57552442174668",
         "487.6991687828907",
         "37"
        ]
       ],
       "shape": {
        "columns": 4,
        "rows": 22
       }
      },
      "text/html": [
       "<div>\n",
       "<style scoped>\n",
       "    .dataframe tbody tr th:only-of-type {\n",
       "        vertical-align: middle;\n",
       "    }\n",
       "\n",
       "    .dataframe tbody tr th {\n",
       "        vertical-align: top;\n",
       "    }\n",
       "\n",
       "    .dataframe thead th {\n",
       "        text-align: right;\n",
       "    }\n",
       "</style>\n",
       "<table border=\"1\" class=\"dataframe\">\n",
       "  <thead>\n",
       "    <tr style=\"text-align: right;\">\n",
       "      <th></th>\n",
       "      <th>age_sum</th>\n",
       "      <th>age_mean</th>\n",
       "      <th>age_max</th>\n",
       "      <th>head_count</th>\n",
       "    </tr>\n",
       "  </thead>\n",
       "  <tbody>\n",
       "    <tr>\n",
       "      <th>Todd Ideas</th>\n",
       "      <td>1450.640889</td>\n",
       "      <td>96.709393</td>\n",
       "      <td>177.770698</td>\n",
       "      <td>15</td>\n",
       "    </tr>\n",
       "    <tr>\n",
       "      <th>Email Auth and Security</th>\n",
       "      <td>1835.498909</td>\n",
       "      <td>152.958242</td>\n",
       "      <td>515.888134</td>\n",
       "      <td>12</td>\n",
       "    </tr>\n",
       "    <tr>\n",
       "      <th>Azure AI Search</th>\n",
       "      <td>1867.177063</td>\n",
       "      <td>233.397133</td>\n",
       "      <td>446.975695</td>\n",
       "      <td>8</td>\n",
       "    </tr>\n",
       "    <tr>\n",
       "      <th>Python</th>\n",
       "      <td>2048.062003</td>\n",
       "      <td>43.575787</td>\n",
       "      <td>69.302277</td>\n",
       "      <td>47</td>\n",
       "    </tr>\n",
       "    <tr>\n",
       "      <th>SharePoint</th>\n",
       "      <td>2109.068175</td>\n",
       "      <td>175.755681</td>\n",
       "      <td>610.555796</td>\n",
       "      <td>12</td>\n",
       "    </tr>\n",
       "    <tr>\n",
       "      <th>Home Network Project</th>\n",
       "      <td>2219.716857</td>\n",
       "      <td>221.971686</td>\n",
       "      <td>435.601125</td>\n",
       "      <td>10</td>\n",
       "    </tr>\n",
       "    <tr>\n",
       "      <th>Audit Report Tracker (Sharepoint List)</th>\n",
       "      <td>2235.942327</td>\n",
       "      <td>171.995564</td>\n",
       "      <td>411.421004</td>\n",
       "      <td>13</td>\n",
       "    </tr>\n",
       "    <tr>\n",
       "      <th>Azure Functions + Visual Studio</th>\n",
       "      <td>2435.651274</td>\n",
       "      <td>173.975091</td>\n",
       "      <td>530.451397</td>\n",
       "      <td>14</td>\n",
       "    </tr>\n",
       "    <tr>\n",
       "      <th>IW Migration</th>\n",
       "      <td>2594.043733</td>\n",
       "      <td>185.288838</td>\n",
       "      <td>497.289326</td>\n",
       "      <td>14</td>\n",
       "    </tr>\n",
       "    <tr>\n",
       "      <th>Debugging in VS Code</th>\n",
       "      <td>2654.990516</td>\n",
       "      <td>132.749526</td>\n",
       "      <td>298.453032</td>\n",
       "      <td>20</td>\n",
       "    </tr>\n",
       "    <tr>\n",
       "      <th>Open Source/GitHub</th>\n",
       "      <td>2863.295758</td>\n",
       "      <td>178.955985</td>\n",
       "      <td>409.746931</td>\n",
       "      <td>16</td>\n",
       "    </tr>\n",
       "    <tr>\n",
       "      <th>Terraform</th>\n",
       "      <td>2987.108022</td>\n",
       "      <td>119.484321</td>\n",
       "      <td>307.110120</td>\n",
       "      <td>25</td>\n",
       "    </tr>\n",
       "    <tr>\n",
       "      <th>FSLogix</th>\n",
       "      <td>3256.382366</td>\n",
       "      <td>135.682599</td>\n",
       "      <td>300.585151</td>\n",
       "      <td>24</td>\n",
       "    </tr>\n",
       "    <tr>\n",
       "      <th>DNS</th>\n",
       "      <td>3731.319825</td>\n",
       "      <td>233.207489</td>\n",
       "      <td>452.414055</td>\n",
       "      <td>16</td>\n",
       "    </tr>\n",
       "    <tr>\n",
       "      <th>Azure Developer Associate</th>\n",
       "      <td>3820.347915</td>\n",
       "      <td>60.640443</td>\n",
       "      <td>167.465465</td>\n",
       "      <td>63</td>\n",
       "    </tr>\n",
       "    <tr>\n",
       "      <th>WSL + Kali Linux</th>\n",
       "      <td>3978.884388</td>\n",
       "      <td>209.414968</td>\n",
       "      <td>443.381021</td>\n",
       "      <td>19</td>\n",
       "    </tr>\n",
       "    <tr>\n",
       "      <th>Azure Functions + PP365</th>\n",
       "      <td>4286.358289</td>\n",
       "      <td>186.363404</td>\n",
       "      <td>451.680226</td>\n",
       "      <td>23</td>\n",
       "    </tr>\n",
       "    <tr>\n",
       "      <th>Powershell Modules</th>\n",
       "      <td>5152.124254</td>\n",
       "      <td>105.145393</td>\n",
       "      <td>511.730147</td>\n",
       "      <td>49</td>\n",
       "    </tr>\n",
       "    <tr>\n",
       "      <th>Logging in Python</th>\n",
       "      <td>6002.226116</td>\n",
       "      <td>125.046377</td>\n",
       "      <td>675.439654</td>\n",
       "      <td>48</td>\n",
       "    </tr>\n",
       "    <tr>\n",
       "      <th>Vocab</th>\n",
       "      <td>6298.878521</td>\n",
       "      <td>99.982199</td>\n",
       "      <td>523.075584</td>\n",
       "      <td>63</td>\n",
       "    </tr>\n",
       "    <tr>\n",
       "      <th>JavaScript Concepts</th>\n",
       "      <td>7031.141770</td>\n",
       "      <td>115.264619</td>\n",
       "      <td>468.014590</td>\n",
       "      <td>61</td>\n",
       "    </tr>\n",
       "    <tr>\n",
       "      <th>PnP Powershell</th>\n",
       "      <td>7347.294404</td>\n",
       "      <td>198.575524</td>\n",
       "      <td>487.699169</td>\n",
       "      <td>37</td>\n",
       "    </tr>\n",
       "  </tbody>\n",
       "</table>\n",
       "</div>"
      ],
      "text/plain": [
       "                                            age_sum    age_mean     age_max  \\\n",
       "Todd Ideas                              1450.640889   96.709393  177.770698   \n",
       "Email Auth and Security                 1835.498909  152.958242  515.888134   \n",
       "Azure AI Search                         1867.177063  233.397133  446.975695   \n",
       "Python                                  2048.062003   43.575787   69.302277   \n",
       "SharePoint                              2109.068175  175.755681  610.555796   \n",
       "Home Network Project                    2219.716857  221.971686  435.601125   \n",
       "Audit Report Tracker (Sharepoint List)  2235.942327  171.995564  411.421004   \n",
       "Azure Functions + Visual Studio         2435.651274  173.975091  530.451397   \n",
       "IW Migration                            2594.043733  185.288838  497.289326   \n",
       "Debugging in VS Code                    2654.990516  132.749526  298.453032   \n",
       "Open Source/GitHub                      2863.295758  178.955985  409.746931   \n",
       "Terraform                               2987.108022  119.484321  307.110120   \n",
       "FSLogix                                 3256.382366  135.682599  300.585151   \n",
       "DNS                                     3731.319825  233.207489  452.414055   \n",
       "Azure Developer Associate               3820.347915   60.640443  167.465465   \n",
       "WSL + Kali Linux                        3978.884388  209.414968  443.381021   \n",
       "Azure Functions + PP365                 4286.358289  186.363404  451.680226   \n",
       "Powershell Modules                      5152.124254  105.145393  511.730147   \n",
       "Logging in Python                       6002.226116  125.046377  675.439654   \n",
       "Vocab                                   6298.878521   99.982199  523.075584   \n",
       "JavaScript Concepts                     7031.141770  115.264619  468.014590   \n",
       "PnP Powershell                          7347.294404  198.575524  487.699169   \n",
       "\n",
       "                                        head_count  \n",
       "Todd Ideas                                      15  \n",
       "Email Auth and Security                         12  \n",
       "Azure AI Search                                  8  \n",
       "Python                                          47  \n",
       "SharePoint                                      12  \n",
       "Home Network Project                            10  \n",
       "Audit Report Tracker (Sharepoint List)          13  \n",
       "Azure Functions + Visual Studio                 14  \n",
       "IW Migration                                    14  \n",
       "Debugging in VS Code                            20  \n",
       "Open Source/GitHub                              16  \n",
       "Terraform                                       25  \n",
       "FSLogix                                         24  \n",
       "DNS                                             16  \n",
       "Azure Developer Associate                       63  \n",
       "WSL + Kali Linux                                19  \n",
       "Azure Functions + PP365                         23  \n",
       "Powershell Modules                              49  \n",
       "Logging in Python                               48  \n",
       "Vocab                                           63  \n",
       "JavaScript Concepts                             61  \n",
       "PnP Powershell                                  37  "
      ]
     },
     "execution_count": 3,
     "metadata": {},
     "output_type": "execute_result"
    }
   ],
   "source": [
    "stats = existing_cards.groupby('head').agg({'age': ['sum', 'mean', 'max'], 'head': 'count'}).sort_values(('age', 'sum'))\n",
    "stats.columns = stats.columns.to_flat_index()\n",
    "stats.columns = ['_'.join(col).strip() for col in stats.columns]\n",
    "stats.index.name = None\n",
    "stats"
   ]
  },
  {
   "cell_type": "markdown",
   "metadata": {},
   "source": [
    "# Histogram"
   ]
  },
  {
   "cell_type": "code",
   "execution_count": 4,
   "metadata": {},
   "outputs": [
    {
     "name": "stdout",
     "output_type": "stream",
     "text": [
      "78206.15\n"
     ]
    },
    {
     "data": {
      "text/plain": [
       "<Axes: >"
      ]
     },
     "execution_count": 4,
     "metadata": {},
     "output_type": "execute_result"
    },
    {
     "data": {
      "image/png": "[encoded data removed]",
      "text/plain": [
       "<Figure size 640x480 with 1 Axes>"
      ]
     },
     "metadata": {},
     "output_type": "display_data"
    }
   ],
   "source": [
    "print(f\"{existing_cards['age'].sum(0):.2f}\")\n",
    "existing_cards['age'].hist(bins=20)"
   ]
  },
  {
   "cell_type": "markdown",
   "metadata": {},
   "source": [
    "# Completely Random Shuffle"
   ]
  },
  {
   "cell_type": "code",
   "execution_count": 5,
   "metadata": {},
   "outputs": [],
   "source": [
    "# existing_cards = existing_cards.sample(frac=1)\n",
    "# remake_card_document(filename='certcards2.txt', existing_cards = existing_cards)"
   ]
  },
  {
   "cell_type": "markdown",
   "metadata": {},
   "source": [
    "# Age Sort"
   ]
  },
  {
   "cell_type": "code",
   "execution_count": 6,
   "metadata": {},
   "outputs": [],
   "source": [
    "# existing_cards = existing_cards.sort_values('age', ascending=False)\n",
    "# remake_card_document(filename='certcards2.txt', existing_cards=existing_cards)\n",
    "# existing_cards.head(10)"
   ]
  },
  {
   "cell_type": "markdown",
   "metadata": {},
   "source": [
    "# Headers with fewest notes first"
   ]
  },
  {
   "cell_type": "code",
   "execution_count": 7,
   "metadata": {},
   "outputs": [],
   "source": [
    "# frequency = existing_cards['head'].value_counts(ascending=True)\n",
    "\n",
    "# existing_cards = pd.merge(\n",
    "#     left=existing_cards,\n",
    "#     right=frequency.rename('frequency'),\n",
    "#     left_on='head', right_index=True,\n",
    "#     how='left'\n",
    "# )\n",
    "# existing_cards['oldest'] = existing_cards.groupby('head')['age'].transform('max')\n",
    "# existing_cards['subject_highest_age'] = existing_cards['subject_highest_age'] * -1\n",
    "# existing_cards['age'] = existing_cards['age'] * -1\n",
    "\n",
    "\n",
    "# existing_cards.sort_values(['frequency', 'subject_highest_age', 'age'], ascending=True, inplace=True)\n",
    "\n",
    "# remake_card_document(filename='certcards2.txt', existing_cards=existing_cards)\n",
    "\n",
    "# existing_cards.head(10)"
   ]
  },
  {
   "cell_type": "markdown",
   "metadata": {},
   "source": [
    "# Focus on one header"
   ]
  },
  {
   "cell_type": "code",
   "execution_count": 8,
   "metadata": {},
   "outputs": [],
   "source": [
    "# heads = existing_cards['head'].value_counts()\n",
    "# heads = heads[heads > 5].index.tolist()\n",
    "# one_header = random.sample(heads, 1)[0]\n",
    "# existing_cards['pick_head'] = existing_cards['head'].apply(\n",
    "#     lambda h: 0 if h == one_header else 1 \n",
    "# )\n",
    "\n",
    "# remake_card_document(existing_cards=existing_cards.sort_values('pick_head'))"
   ]
  },
  {
   "cell_type": "markdown",
   "metadata": {},
   "source": [
    "## Header with oldest cards first"
   ]
  },
  {
   "cell_type": "code",
   "execution_count": 9,
   "metadata": {},
   "outputs": [],
   "source": [
    "# existing_cards['oldest'] = existing_cards.groupby('head')['age'].transform('max')\n",
    "# existing_cards.sort_values(['oldest', 'age'], ascending=False, inplace=True)\n",
    "# remake_card_document(existing_cards)"
   ]
  },
  {
   "cell_type": "markdown",
   "metadata": {},
   "source": [
    "## Headers with greatest mean card age first"
   ]
  },
  {
   "cell_type": "code",
   "execution_count": 10,
   "metadata": {},
   "outputs": [],
   "source": [
    "# existing_cards.sort_values(['subject_mean_age', 'age'], ascending=False, inplace=True)\n",
    "# remake_card_document(existing_cards)"
   ]
  },
  {
   "cell_type": "markdown",
   "metadata": {},
   "source": [
    "## Headers with greatest age sum first"
   ]
  },
  {
   "cell_type": "code",
   "execution_count": 11,
   "metadata": {},
   "outputs": [],
   "source": [
    "# existing_cards.sort_values(['subject_age_sum', 'age'], ascending=False, inplace=True)\n",
    "# remake_card_document(existing_cards)"
   ]
  },
  {
   "cell_type": "markdown",
   "metadata": {},
   "source": [
    "# N-fold shuffle\n"
   ]
  },
  {
   "cell_type": "markdown",
   "metadata": {},
   "source": [
    "## Age Sum"
   ]
  },
  {
   "cell_type": "code",
   "execution_count": 12,
   "metadata": {},
   "outputs": [],
   "source": [
    "# n=3\n",
    "# existing_cards['count'] = existing_cards.sort_values('age', ascending=False).groupby('head').cumcount()\n",
    "# existing_cards['n_fold'] = existing_cards['count'] % n\n",
    "\n",
    "# existing_cards['subject_age_sum'] = existing_cards['subject_age_sum'] *-1\n",
    "# existing_cards['age'] = existing_cards['age'] *-1\n",
    "# existing_cards.sort_values(['n_fold', 'subject_age_sum', 'age'], inplace=True)\n",
    "\n",
    "# remake_card_document(existing_cards=existing_cards)\n",
    "# existing_cards.head(10)\n"
   ]
  },
  {
   "cell_type": "markdown",
   "metadata": {},
   "source": [
    "## Age Mean"
   ]
  },
  {
   "cell_type": "code",
   "execution_count": 13,
   "metadata": {},
   "outputs": [
    {
     "name": "stdout",
     "output_type": "stream",
     "text": [
      "Cards found: 609\n"
     ]
    },
    {
     "data": {
      "application/vnd.microsoft.datawrangler.viewer.v0+json": {
       "columns": [
        {
         "name": "index",
         "rawType": "int64",
         "type": "integer"
        },
        {
         "name": "head",
         "rawType": "object",
         "type": "string"
        },
        {
         "name": "body",
         "rawType": "object",
         "type": "string"
        },
        {
         "name": "hash",
         "rawType": "object",
         "type": "string"
        },
        {
         "name": "age",
         "rawType": "float64",
         "type": "float"
        },
        {
         "name": "subject_mean_age",
         "rawType": "float64",
         "type": "float"
        },
        {
         "name": "subject_highest_age",
         "rawType": "float64",
         "type": "float"
        },
        {
         "name": "subject_age_sum",
         "rawType": "float64",
         "type": "float"
        },
        {
         "name": "head_random_roll",
         "rawType": "float64",
         "type": "float"
        },
        {
         "name": "count",
         "rawType": "int64",
         "type": "integer"
        },
        {
         "name": "n_fold",
         "rawType": "int64",
         "type": "integer"
        }
       ],
       "conversionMethod": "pd.DataFrame",
       "ref": "090bcfe3-76b0-4f46-ad17-ef1c927ddb45",
       "rows": [
        [
         "6",
         "Azure AI Search",
         "Push model is an approach that uses APIs to upload documents into an existing search index. You can upload documents in batches of up to 1000 per batch, or 16 MB per batch, whichever limit comes first.",
         "e260075e27bc86ab26b7859dd5dc4058",
         "-446.97569453194296",
         "-233.3971328558697",
         "446.97569453194296",
         "1867.1770628469576",
         "0.6114765328001168",
         "0",
         "0"
        ],
        [
         "7",
         "Azure AI Search",
         "Indexers don't have dedicated processing resources. Based on this, indexers' status may show as idle before running (depending on other jobs in the queue) and run times may not be predictable. Other factors define indexer performance as well, such as document size, document complexity, image analysis, among others.",
         "c554c36d80ef8038cf5470f97ed43e20",
         "-295.4761253519084",
         "-233.3971328558697",
         "446.97569453194296",
         "1867.1770628469576",
         "0.6114765328001168",
         "3",
         "0"
        ],
        [
         "8",
         "Azure AI Search",
         "Whether you use the REST API or an Azure SDK, the following document operations are supported for data import:\n    Upload (think upsert)\n    merge\n    mergeOrUpload\n    delete",
         "bdbe2a4a955a155903f9cf19afab85cc",
         "-107.31644335403656",
         "-233.3971328558697",
         "446.97569453194296",
         "1867.1770628469576",
         "0.6114765328001168",
         "6",
         "0"
        ],
        [
         "0",
         "DNS",
         "Securing Zone Transfers\nMeasures taken to protect DNS zone data during transfers between DNS servers. This includes restricting transfers to authorized IP addresses and using security protocols like TSIG or IPsec to authenticate and encrypt the data, ensuring integrity and confidentiality.",
         "29d80ddfc54d4c7ce2121c00053c35cd",
         "-452.41405539430144",
         "-233.20748905024584",
         "452.41405539430144",
         "3731.3198248039334",
         "0.047751091635053644",
         "0",
         "0"
        ],
        [
         "1",
         "DNS",
         "SRV (Service) Records\nDNS records that specify the location (hostname and port) of servers for particular services within a domain. Essential for services like SIP (VoIP) or LDAP, they enable clients to discover service endpoints automatically.",
         "4193eaf48f50e71d6283bb58427c6f60",
         "-332.3921957623321",
         "-233.20748905024584",
         "452.41405539430144",
         "3731.3198248039334",
         "0.047751091635053644",
         "3",
         "0"
        ],
        [
         "2",
         "DNS",
         "DNS Policies\nA feature in Windows DNS Server that allows administrators to define rules for how DNS queries are handled. Policies can filter queries or provide different responses based on criteria like client IP addresses, enabling scenarios like split-brain DNS.",
         "e14697957838c2353f653a56dac9ac16",
         "-303.6915209410753",
         "-233.20748905024584",
         "452.41405539430144",
         "3731.3198248039334",
         "0.047751091635053644",
         "6",
         "0"
        ],
        [
         "3",
         "DNS",
         "DNS Zone Types\nDifferent types of DNS zones include Primary, Secondary, Stub, and Active Directory-Integrated zones. Each type serves distinct roles in DNS management, such as data storage, redundancy, delegation, and integration with directory services.",
         "fce7107d54abe9418805d1b01937805d",
         "-164.2176077058022",
         "-233.20748905024584",
         "452.41405539430144",
         "3731.3198248039334",
         "0.047751091635053644",
         "9",
         "0"
        ],
        [
         "4",
         "DNS",
         "DNS Manager\nA graphical administrative tool in Windows Server used to manage DNS settings and zones. DNS Manager provides interfaces for creating and modifying DNS records, configuring zone properties, setting up forwarders, and implementing security measures.",
         "ec33258f7f93c84f4574e71178066c9b",
         "-104.29439351074383",
         "-233.20748905024584",
         "452.41405539430144",
         "3731.3198248039334",
         "0.047751091635053644",
         "12",
         "0"
        ],
        [
         "5",
         "DNS",
         "Stub Zone\nA DNS zone that contains only essential information about another zone's authoritative DNS servers. It facilitates efficient DNS resolution by allowing a DNS server to know where to forward queries for that specific zone without storing all DNS records.",
         "ff86ccf34dc4e0d3a75966d5f4942595",
         "-60.70563236141211",
         "-233.20748905024584",
         "452.41405539430144",
         "3731.3198248039334",
         "0.047751091635053644",
         "15",
         "0"
        ],
        [
         "9",
         "Home Network Project",
         "Front: What is Service Mesh and how does it enhance microservices architecture?\n\nBack: A Service Mesh is a dedicated infrastructure layer that manages service-to-service communication within a microservices architecture. It provides features like load balancing, service discovery, traffic management, security (encryption and authentication), and observability (monitoring and tracing), enhancing the reliability and efficiency of microservices interactions.",
         "03bc4df7d1342e00025df2324d97907e",
         "-435.601125259106",
         "-221.97168569665715",
         "435.601125259106",
         "2219.7168569665714",
         "0.12622475350346574",
         "0",
         "0"
        ]
       ],
       "shape": {
        "columns": 10,
        "rows": 10
       }
      },
      "text/html": [
       "<div>\n",
       "<style scoped>\n",
       "    .dataframe tbody tr th:only-of-type {\n",
       "        vertical-align: middle;\n",
       "    }\n",
       "\n",
       "    .dataframe tbody tr th {\n",
       "        vertical-align: top;\n",
       "    }\n",
       "\n",
       "    .dataframe thead th {\n",
       "        text-align: right;\n",
       "    }\n",
       "</style>\n",
       "<table border=\"1\" class=\"dataframe\">\n",
       "  <thead>\n",
       "    <tr style=\"text-align: right;\">\n",
       "      <th></th>\n",
       "      <th>head</th>\n",
       "      <th>body</th>\n",
       "      <th>hash</th>\n",
       "      <th>age</th>\n",
       "      <th>subject_mean_age</th>\n",
       "      <th>subject_highest_age</th>\n",
       "      <th>subject_age_sum</th>\n",
       "      <th>head_random_roll</th>\n",
       "      <th>count</th>\n",
       "      <th>n_fold</th>\n",
       "    </tr>\n",
       "  </thead>\n",
       "  <tbody>\n",
       "    <tr>\n",
       "      <th>6</th>\n",
       "      <td>Azure AI Search</td>\n",
       "      <td>Push model is an approach that uses APIs to up...</td>\n",
       "      <td>e260075e27bc86ab26b7859dd5dc4058</td>\n",
       "      <td>-446.975695</td>\n",
       "      <td>-233.397133</td>\n",
       "      <td>446.975695</td>\n",
       "      <td>1867.177063</td>\n",
       "      <td>0.611477</td>\n",
       "      <td>0</td>\n",
       "      <td>0</td>\n",
       "    </tr>\n",
       "    <tr>\n",
       "      <th>7</th>\n",
       "      <td>Azure AI Search</td>\n",
       "      <td>Indexers don't have dedicated processing resou...</td>\n",
       "      <td>c554c36d80ef8038cf5470f97ed43e20</td>\n",
       "      <td>-295.476125</td>\n",
       "      <td>-233.397133</td>\n",
       "      <td>446.975695</td>\n",
       "      <td>1867.177063</td>\n",
       "      <td>0.611477</td>\n",
       "      <td>3</td>\n",
       "      <td>0</td>\n",
       "    </tr>\n",
       "    <tr>\n",
       "      <th>8</th>\n",
       "      <td>Azure AI Search</td>\n",
       "      <td>Whether you use the REST API or an Azure SDK, ...</td>\n",
       "      <td>bdbe2a4a955a155903f9cf19afab85cc</td>\n",
       "      <td>-107.316443</td>\n",
       "      <td>-233.397133</td>\n",
       "      <td>446.975695</td>\n",
       "      <td>1867.177063</td>\n",
       "      <td>0.611477</td>\n",
       "      <td>6</td>\n",
       "      <td>0</td>\n",
       "    </tr>\n",
       "    <tr>\n",
       "      <th>0</th>\n",
       "      <td>DNS</td>\n",
       "      <td>Securing Zone Transfers\\nMeasures taken to pro...</td>\n",
       "      <td>29d80ddfc54d4c7ce2121c00053c35cd</td>\n",
       "      <td>-452.414055</td>\n",
       "      <td>-233.207489</td>\n",
       "      <td>452.414055</td>\n",
       "      <td>3731.319825</td>\n",
       "      <td>0.047751</td>\n",
       "      <td>0</td>\n",
       "      <td>0</td>\n",
       "    </tr>\n",
       "    <tr>\n",
       "      <th>1</th>\n",
       "      <td>DNS</td>\n",
       "      <td>SRV (Service) Records\\nDNS records that specif...</td>\n",
       "      <td>4193eaf48f50e71d6283bb58427c6f60</td>\n",
       "      <td>-332.392196</td>\n",
       "      <td>-233.207489</td>\n",
       "      <td>452.414055</td>\n",
       "      <td>3731.319825</td>\n",
       "      <td>0.047751</td>\n",
       "      <td>3</td>\n",
       "      <td>0</td>\n",
       "    </tr>\n",
       "    <tr>\n",
       "      <th>2</th>\n",
       "      <td>DNS</td>\n",
       "      <td>DNS Policies\\nA feature in Windows DNS Server ...</td>\n",
       "      <td>e14697957838c2353f653a56dac9ac16</td>\n",
       "      <td>-303.691521</td>\n",
       "      <td>-233.207489</td>\n",
       "      <td>452.414055</td>\n",
       "      <td>3731.319825</td>\n",
       "      <td>0.047751</td>\n",
       "      <td>6</td>\n",
       "      <td>0</td>\n",
       "    </tr>\n",
       "    <tr>\n",
       "      <th>3</th>\n",
       "      <td>DNS</td>\n",
       "      <td>DNS Zone Types\\nDifferent types of DNS zones i...</td>\n",
       "      <td>fce7107d54abe9418805d1b01937805d</td>\n",
       "      <td>-164.217608</td>\n",
       "      <td>-233.207489</td>\n",
       "      <td>452.414055</td>\n",
       "      <td>3731.319825</td>\n",
       "      <td>0.047751</td>\n",
       "      <td>9</td>\n",
       "      <td>0</td>\n",
       "    </tr>\n",
       "    <tr>\n",
       "      <th>4</th>\n",
       "      <td>DNS</td>\n",
       "      <td>DNS Manager\\nA graphical administrative tool i...</td>\n",
       "      <td>ec33258f7f93c84f4574e71178066c9b</td>\n",
       "      <td>-104.294394</td>\n",
       "      <td>-233.207489</td>\n",
       "      <td>452.414055</td>\n",
       "      <td>3731.319825</td>\n",
       "      <td>0.047751</td>\n",
       "      <td>12</td>\n",
       "      <td>0</td>\n",
       "    </tr>\n",
       "    <tr>\n",
       "      <th>5</th>\n",
       "      <td>DNS</td>\n",
       "      <td>Stub Zone\\nA DNS zone that contains only essen...</td>\n",
       "      <td>ff86ccf34dc4e0d3a75966d5f4942595</td>\n",
       "      <td>-60.705632</td>\n",
       "      <td>-233.207489</td>\n",
       "      <td>452.414055</td>\n",
       "      <td>3731.319825</td>\n",
       "      <td>0.047751</td>\n",
       "      <td>15</td>\n",
       "      <td>0</td>\n",
       "    </tr>\n",
       "    <tr>\n",
       "      <th>9</th>\n",
       "      <td>Home Network Project</td>\n",
       "      <td>Front: What is Service Mesh and how does it en...</td>\n",
       "      <td>03bc4df7d1342e00025df2324d97907e</td>\n",
       "      <td>-435.601125</td>\n",
       "      <td>-221.971686</td>\n",
       "      <td>435.601125</td>\n",
       "      <td>2219.716857</td>\n",
       "      <td>0.126225</td>\n",
       "      <td>0</td>\n",
       "      <td>0</td>\n",
       "    </tr>\n",
       "  </tbody>\n",
       "</table>\n",
       "</div>"
      ],
      "text/plain": [
       "                   head                                               body  \\\n",
       "6       Azure AI Search  Push model is an approach that uses APIs to up...   \n",
       "7       Azure AI Search  Indexers don't have dedicated processing resou...   \n",
       "8       Azure AI Search  Whether you use the REST API or an Azure SDK, ...   \n",
       "0                   DNS  Securing Zone Transfers\\nMeasures taken to pro...   \n",
       "1                   DNS  SRV (Service) Records\\nDNS records that specif...   \n",
       "2                   DNS  DNS Policies\\nA feature in Windows DNS Server ...   \n",
       "3                   DNS  DNS Zone Types\\nDifferent types of DNS zones i...   \n",
       "4                   DNS  DNS Manager\\nA graphical administrative tool i...   \n",
       "5                   DNS  Stub Zone\\nA DNS zone that contains only essen...   \n",
       "9  Home Network Project  Front: What is Service Mesh and how does it en...   \n",
       "\n",
       "                               hash         age  subject_mean_age  \\\n",
       "6  e260075e27bc86ab26b7859dd5dc4058 -446.975695       -233.397133   \n",
       "7  c554c36d80ef8038cf5470f97ed43e20 -295.476125       -233.397133   \n",
       "8  bdbe2a4a955a155903f9cf19afab85cc -107.316443       -233.397133   \n",
       "0  29d80ddfc54d4c7ce2121c00053c35cd -452.414055       -233.207489   \n",
       "1  4193eaf48f50e71d6283bb58427c6f60 -332.392196       -233.207489   \n",
       "2  e14697957838c2353f653a56dac9ac16 -303.691521       -233.207489   \n",
       "3  fce7107d54abe9418805d1b01937805d -164.217608       -233.207489   \n",
       "4  ec33258f7f93c84f4574e71178066c9b -104.294394       -233.207489   \n",
       "5  ff86ccf34dc4e0d3a75966d5f4942595  -60.705632       -233.207489   \n",
       "9  03bc4df7d1342e00025df2324d97907e -435.601125       -221.971686   \n",
       "\n",
       "   subject_highest_age  subject_age_sum  head_random_roll  count  n_fold  \n",
       "6           446.975695      1867.177063          0.611477      0       0  \n",
       "7           446.975695      1867.177063          0.611477      3       0  \n",
       "8           446.975695      1867.177063          0.611477      6       0  \n",
       "0           452.414055      3731.319825          0.047751      0       0  \n",
       "1           452.414055      3731.319825          0.047751      3       0  \n",
       "2           452.414055      3731.319825          0.047751      6       0  \n",
       "3           452.414055      3731.319825          0.047751      9       0  \n",
       "4           452.414055      3731.319825          0.047751     12       0  \n",
       "5           452.414055      3731.319825          0.047751     15       0  \n",
       "9           435.601125      2219.716857          0.126225      0       0  "
      ]
     },
     "execution_count": 13,
     "metadata": {},
     "output_type": "execute_result"
    }
   ],
   "source": [
    "n=3\n",
    "existing_cards['count'] = existing_cards.sort_values('age', ascending=False).groupby('head').cumcount()\n",
    "existing_cards['n_fold'] = existing_cards['count'] % n\n",
    "\n",
    "existing_cards['subject_mean_age'] = existing_cards['subject_mean_age'] *-1\n",
    "existing_cards['age'] = existing_cards['age'] *-1\n",
    "existing_cards.sort_values(['n_fold', 'subject_mean_age', 'age'], inplace=True)\n",
    "remake_card_document(existing_cards=existing_cards)\n",
    "\n",
    "existing_cards.head(10)\n",
    "\n"
   ]
  },
  {
   "cell_type": "markdown",
   "metadata": {},
   "source": [
    "## Age Max"
   ]
  },
  {
   "cell_type": "code",
   "execution_count": 14,
   "metadata": {},
   "outputs": [],
   "source": [
    "# n = 1\n",
    "# existing_cards['count'] = existing_cards.sort_values('age', ascending=False).groupby('head').cumcount()\n",
    "# existing_cards['n_fold'] = existing_cards['count'] // n\n",
    "\n",
    "# if existing_cards['age'].sum() > 0:\n",
    "#     existing_cards['subject_highest_age'] = existing_cards['subject_highest_age'] *-1\n",
    "#     existing_cards['age'] = existing_cards['age'] *-1\n",
    "# existing_cards.sort_values(['n_fold', 'subject_highest_age', 'age'], inplace=True)\n",
    "\n",
    "# remake_card_document(existing_cards=existing_cards)\n",
    "# existing_cards.head(10)\n"
   ]
  },
  {
   "cell_type": "markdown",
   "metadata": {},
   "source": [
    "## Card Count"
   ]
  },
  {
   "cell_type": "code",
   "execution_count": 15,
   "metadata": {},
   "outputs": [],
   "source": [
    "# n=10\n",
    "# existing_cards['frequency']  = existing_cards.groupby('head').transform('count')['body']\n",
    "# existing_cards['count'] = existing_cards.sort_values('age', ascending=False).groupby('head').cumcount()\n",
    "# existing_cards['n_fold'] = existing_cards['count'] // n\n",
    "\n",
    "# if existing_cards['age'].sum() > 0:\n",
    "#     # existing_cards['neg_subject_highest_age'] = existing_cards['subject_highest_age'] *-1\n",
    "#     existing_cards['neg_age'] = existing_cards['age'] *-1\n",
    "# existing_cards.sort_values(['n_fold', 'frequency', 'neg_age'], inplace=True)\n",
    "# remake_card_document(existing_cards=existing_cards)\n",
    "\n",
    "# existing_cards.head(10)\n",
    "\n"
   ]
  },
  {
   "cell_type": "markdown",
   "metadata": {},
   "source": [
    "\n",
    "## Random"
   ]
  },
  {
   "cell_type": "code",
   "execution_count": 16,
   "metadata": {},
   "outputs": [],
   "source": [
    "# n = 3\n",
    "# existing_cards['count'] = existing_cards.sort_values('age', ascending=False).groupby('head').cumcount()\n",
    "# existing_cards['n_fold'] = existing_cards['count'] % n\n",
    "# existing_cards['age'] *= -1\n",
    "# existing_cards.sort_values(['n_fold', 'head_random_roll', 'age'], inplace=True)\n",
    "# remake_card_document(existing_cards=existing_cards)\n",
    "# existing_cards.head(10)"
   ]
  },
  {
   "cell_type": "code",
   "execution_count": 17,
   "metadata": {},
   "outputs": [
    {
     "data": {
      "text/plain": [
       "head                   Azure AI SearchAzure AI SearchAzure AI SearchD...\n",
       "body                   Push model is an approach that uses APIs to up...\n",
       "hash                   e260075e27bc86ab26b7859dd5dc4058c554c36d80ef80...\n",
       "age                                                         -2703.084794\n",
       "subject_mean_age                                            -2321.408019\n",
       "subject_highest_age                                          4491.012541\n",
       "subject_age_sum                                             30209.166994\n",
       "head_random_roll                                                2.247161\n",
       "count                                                                 54\n",
       "n_fold                                                                 0\n",
       "dtype: object"
      ]
     },
     "execution_count": 17,
     "metadata": {},
     "output_type": "execute_result"
    }
   ],
   "source": [
    "existing_cards.head(10).sum()"
   ]
  },
  {
   "cell_type": "code",
   "execution_count": 18,
   "metadata": {},
   "outputs": [
    {
     "data": {
      "text/plain": [
       "-128.41732902008718"
      ]
     },
     "execution_count": 18,
     "metadata": {},
     "output_type": "execute_result"
    }
   ],
   "source": [
    "existing_cards['age'].mean()"
   ]
  }
 ],
 "metadata": {
  "kernelspec": {
   "display_name": "Python 3",
   "language": "python",
   "name": "python3"
  },
  "language_info": {
   "codemirror_mode": {
    "name": "ipython",
    "version": 3
   },
   "file_extension": ".py",
   "mimetype": "text/x-python",
   "name": "python",
   "nbconvert_exporter": "python",
   "pygments_lexer": "ipython3",
   "version": "3.11.9"
  }
 },
 "nbformat": 4,
 "nbformat_minor": 2
}
