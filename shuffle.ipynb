{
 "cells": [
  {
   "cell_type": "code",
   "execution_count": 36,
   "metadata": {},
   "outputs": [],
   "source": [
    "import re\n",
    "import random\n",
    "import pandas as pd\n",
    "import hashlib"
   ]
  },
  {
   "cell_type": "code",
   "execution_count": 37,
   "metadata": {},
   "outputs": [],
   "source": [
    "with open('certcards2.txt', mode='r', encoding='utf8') as f:\n",
    "    all_cards = f.read()\n",
    "    \n",
    "card_split_pattern = r'\\n\\n\\n\\d+\\n'\n",
    "all_cards = re.split(card_split_pattern, all_cards)\n",
    "# Use re.DOTALL to allow . to match newline characters\n",
    "card_pattern = re.compile(r'(.+?)\\n([\\s\\S]+)', re.DOTALL)\n",
    "cards = [(match.group(1), match.group(2)) for cstring in all_cards if (match := re.search(card_pattern, cstring))]\n",
    "\n",
    "# removing the cards that have no content and trimming\n",
    "cards = [(subject, stripped_content) for subject, content in cards if len(stripped_content := content.strip()) > 5]\n",
    "\n",
    "def hash_string_md5(s):\n",
    "    \"\"\"\n",
    "    Hashes a string using MD5 and returns a truncated hash for efficiency.\n",
    "\n",
    "    Parameters:\n",
    "    - s (str): The input string to hash.\n",
    "\n",
    "    Returns:\n",
    "    - str: The truncated hexadecimal hash string.\n",
    "    \"\"\"\n",
    "    if pd.isnull(s):\n",
    "        return None  # Handle NaN values gracefully\n",
    "    return hashlib.md5(s.encode('utf-8')).hexdigest()  # Truncate to first 12 characters\n",
    "\n",
    "\n",
    "def remake_card_document(existing_cards: pd.DataFrame, filename: str='certcards2.txt'):\n",
    "    with open(filename, mode='w', encoding='utf8') as f:\n",
    "        i = 1\n",
    "        for _, row in existing_cards.iterrows():\n",
    "            f.write('\\n'*6)\n",
    "            f.write(str(i)+'\\n')  \n",
    "            f.write(row['head']+'\\n')\n",
    "            f.write(row['body'])\n",
    "            i+=1\n",
    "    print(F\"Cards found: {existing_cards.shape[0]}\")\n",
    "\n",
    "\n",
    "existing_cards = pd.DataFrame(cards, columns=['head', 'body'])\n",
    "\n",
    "\n",
    "# existing_cards['age'] = [random.random() for _ in existing_cards.index]\n",
    "existing_cards['hash'] = existing_cards['body'].apply(hash_string_md5)\n",
    "existing_cards\n",
    "\n",
    "card_ages = pd.read_json('card_ages.json')\n",
    "card_ages = card_ages.drop_duplicates(subset=['hash'], keep='first')\n",
    "\n",
    "cards_to_age = pd.merge(\n",
    "    left=existing_cards,\n",
    "    right=card_ages[['hash', 'age']],\n",
    "    left_on='hash', right_on='hash',\n",
    "    how='left'\n",
    ")\n",
    "\n",
    "cards_to_age['head'] = cards_to_age['head'].str.strip()\n",
    "\n",
    "if cards_to_age['age'].sum() > 2e4: age_factor = 1\n",
    "else: age_factor = 1.00\n",
    "\n",
    "cards_to_age['age'] = cards_to_age['age'].fillna(0)\n",
    "cards_to_age['age'] = cards_to_age['age'] * age_factor\n",
    "cards_to_age['age'] = cards_to_age['age'] + [random.expovariate(.75) for _ in cards_to_age.index]\n",
    "\n",
    "cards_to_age = cards_to_age.drop_duplicates(subset=['hash'], keep='first')\n",
    "\n",
    "cards_to_age['subject_mean_age'] = cards_to_age.groupby('head')['age'].transform('mean')\n",
    "cards_to_age['subject_highest_age'] = cards_to_age.groupby('head')['age'].transform('max')\n",
    "cards_to_age['subject_age_sum'] = cards_to_age.groupby('head')['age'].transform('sum')\n",
    "cards_to_age['head_random_roll'] = cards_to_age.groupby('head')['head'].transform(lambda x: random.random())\n",
    "\n",
    "\n",
    "cards_to_age.sort_values('age')[['age', 'head', 'hash']].to_json('card_ages.json', indent=2)\n",
    "\n",
    "existing_cards = cards_to_age"
   ]
  },
  {
   "cell_type": "code",
   "execution_count": 38,
   "metadata": {},
   "outputs": [
    {
     "data": {
      "text/html": [
       "<div>\n",
       "<style scoped>\n",
       "    .dataframe tbody tr th:only-of-type {\n",
       "        vertical-align: middle;\n",
       "    }\n",
       "\n",
       "    .dataframe tbody tr th {\n",
       "        vertical-align: top;\n",
       "    }\n",
       "\n",
       "    .dataframe thead th {\n",
       "        text-align: right;\n",
       "    }\n",
       "</style>\n",
       "<table border=\"1\" class=\"dataframe\">\n",
       "  <thead>\n",
       "    <tr style=\"text-align: right;\">\n",
       "      <th></th>\n",
       "      <th>age_sum</th>\n",
       "      <th>age_mean</th>\n",
       "      <th>head_count</th>\n",
       "    </tr>\n",
       "  </thead>\n",
       "  <tbody>\n",
       "    <tr>\n",
       "      <th>PEP 8</th>\n",
       "      <td>219.386162</td>\n",
       "      <td>7.565040</td>\n",
       "      <td>29</td>\n",
       "    </tr>\n",
       "    <tr>\n",
       "      <th>Taxes</th>\n",
       "      <td>331.986426</td>\n",
       "      <td>33.198643</td>\n",
       "      <td>10</td>\n",
       "    </tr>\n",
       "    <tr>\n",
       "      <th>WSL + Kali Linux</th>\n",
       "      <td>370.926090</td>\n",
       "      <td>10.909591</td>\n",
       "      <td>34</td>\n",
       "    </tr>\n",
       "    <tr>\n",
       "      <th>CDK Global Ransomeware, June 2024</th>\n",
       "      <td>401.702985</td>\n",
       "      <td>66.950498</td>\n",
       "      <td>6</td>\n",
       "    </tr>\n",
       "    <tr>\n",
       "      <th>Open Source/GitHub</th>\n",
       "      <td>491.721642</td>\n",
       "      <td>21.379202</td>\n",
       "      <td>23</td>\n",
       "    </tr>\n",
       "    <tr>\n",
       "      <th>Finance Junk</th>\n",
       "      <td>513.766672</td>\n",
       "      <td>64.220834</td>\n",
       "      <td>8</td>\n",
       "    </tr>\n",
       "    <tr>\n",
       "      <th>PP365</th>\n",
       "      <td>834.881636</td>\n",
       "      <td>83.488164</td>\n",
       "      <td>10</td>\n",
       "    </tr>\n",
       "    <tr>\n",
       "      <th>sklearn</th>\n",
       "      <td>851.953703</td>\n",
       "      <td>121.707672</td>\n",
       "      <td>7</td>\n",
       "    </tr>\n",
       "    <tr>\n",
       "      <th>Powershell</th>\n",
       "      <td>942.558907</td>\n",
       "      <td>44.883757</td>\n",
       "      <td>21</td>\n",
       "    </tr>\n",
       "    <tr>\n",
       "      <th>Dataverse Plugins</th>\n",
       "      <td>956.706309</td>\n",
       "      <td>136.672330</td>\n",
       "      <td>7</td>\n",
       "    </tr>\n",
       "    <tr>\n",
       "      <th>AKS</th>\n",
       "      <td>1006.025248</td>\n",
       "      <td>125.753156</td>\n",
       "      <td>8</td>\n",
       "    </tr>\n",
       "    <tr>\n",
       "      <th>Azure AI Foundry</th>\n",
       "      <td>1021.206911</td>\n",
       "      <td>68.080461</td>\n",
       "      <td>15</td>\n",
       "    </tr>\n",
       "    <tr>\n",
       "      <th>MS Identity Platform</th>\n",
       "      <td>1152.393395</td>\n",
       "      <td>144.049174</td>\n",
       "      <td>8</td>\n",
       "    </tr>\n",
       "    <tr>\n",
       "      <th>Email Auth and Security</th>\n",
       "      <td>1228.507358</td>\n",
       "      <td>72.265139</td>\n",
       "      <td>17</td>\n",
       "    </tr>\n",
       "    <tr>\n",
       "      <th>Diffusers from Hugging Face</th>\n",
       "      <td>1349.910000</td>\n",
       "      <td>134.991000</td>\n",
       "      <td>10</td>\n",
       "    </tr>\n",
       "    <tr>\n",
       "      <th>Jane Eyre</th>\n",
       "      <td>1634.409127</td>\n",
       "      <td>68.100380</td>\n",
       "      <td>24</td>\n",
       "    </tr>\n",
       "    <tr>\n",
       "      <th>Python</th>\n",
       "      <td>1680.533436</td>\n",
       "      <td>120.038103</td>\n",
       "      <td>14</td>\n",
       "    </tr>\n",
       "    <tr>\n",
       "      <th>IW Migration</th>\n",
       "      <td>1754.666319</td>\n",
       "      <td>73.111097</td>\n",
       "      <td>24</td>\n",
       "    </tr>\n",
       "    <tr>\n",
       "      <th>OData</th>\n",
       "      <td>1788.137176</td>\n",
       "      <td>68.774507</td>\n",
       "      <td>26</td>\n",
       "    </tr>\n",
       "    <tr>\n",
       "      <th>Diffusers Library</th>\n",
       "      <td>1860.850062</td>\n",
       "      <td>143.142312</td>\n",
       "      <td>13</td>\n",
       "    </tr>\n",
       "    <tr>\n",
       "      <th>Azure Functions</th>\n",
       "      <td>2169.172437</td>\n",
       "      <td>94.311845</td>\n",
       "      <td>23</td>\n",
       "    </tr>\n",
       "    <tr>\n",
       "      <th>DNS</th>\n",
       "      <td>2173.525494</td>\n",
       "      <td>98.796613</td>\n",
       "      <td>22</td>\n",
       "    </tr>\n",
       "    <tr>\n",
       "      <th>Search Engine Optimization</th>\n",
       "      <td>2195.553962</td>\n",
       "      <td>109.777698</td>\n",
       "      <td>20</td>\n",
       "    </tr>\n",
       "    <tr>\n",
       "      <th>Azure Kubernetes Learning Path</th>\n",
       "      <td>2308.848022</td>\n",
       "      <td>82.458858</td>\n",
       "      <td>28</td>\n",
       "    </tr>\n",
       "    <tr>\n",
       "      <th>Home Network Project</th>\n",
       "      <td>2636.552915</td>\n",
       "      <td>94.162604</td>\n",
       "      <td>28</td>\n",
       "    </tr>\n",
       "  </tbody>\n",
       "</table>\n",
       "</div>"
      ],
      "text/plain": [
       "                                       age_sum    age_mean  head_count\n",
       "PEP 8                               219.386162    7.565040          29\n",
       "Taxes                               331.986426   33.198643          10\n",
       "WSL + Kali Linux                    370.926090   10.909591          34\n",
       "CDK Global Ransomeware, June 2024   401.702985   66.950498           6\n",
       "Open Source/GitHub                  491.721642   21.379202          23\n",
       "Finance Junk                        513.766672   64.220834           8\n",
       "PP365                               834.881636   83.488164          10\n",
       "sklearn                             851.953703  121.707672           7\n",
       "Powershell                          942.558907   44.883757          21\n",
       "Dataverse Plugins                   956.706309  136.672330           7\n",
       "AKS                                1006.025248  125.753156           8\n",
       "Azure AI Foundry                   1021.206911   68.080461          15\n",
       "MS Identity Platform               1152.393395  144.049174           8\n",
       "Email Auth and Security            1228.507358   72.265139          17\n",
       "Diffusers from Hugging Face        1349.910000  134.991000          10\n",
       "Jane Eyre                          1634.409127   68.100380          24\n",
       "Python                             1680.533436  120.038103          14\n",
       "IW Migration                       1754.666319   73.111097          24\n",
       "OData                              1788.137176   68.774507          26\n",
       "Diffusers Library                  1860.850062  143.142312          13\n",
       "Azure Functions                    2169.172437   94.311845          23\n",
       "DNS                                2173.525494   98.796613          22\n",
       "Search Engine Optimization         2195.553962  109.777698          20\n",
       "Azure Kubernetes Learning Path     2308.848022   82.458858          28\n",
       "Home Network Project               2636.552915   94.162604          28"
      ]
     },
     "execution_count": 38,
     "metadata": {},
     "output_type": "execute_result"
    }
   ],
   "source": [
    "stats = existing_cards.groupby('head').agg({'age': ['sum', 'mean'], 'head': 'count'}).sort_values(('age', 'sum'))\n",
    "stats.columns = stats.columns.to_flat_index()\n",
    "stats.columns = ['_'.join(col).strip() for col in stats.columns]\n",
    "stats.index.name = None\n",
    "stats"
   ]
  },
  {
   "cell_type": "markdown",
   "metadata": {},
   "source": [
    "# Histogram"
   ]
  },
  {
   "cell_type": "code",
   "execution_count": 39,
   "metadata": {},
   "outputs": [
    {
     "name": "stdout",
     "output_type": "stream",
     "text": [
      "31875.88\n"
     ]
    },
    {
     "data": {
      "text/plain": [
       "<Axes: >"
      ]
     },
     "execution_count": 39,
     "metadata": {},
     "output_type": "execute_result"
    },
    {
     "data": {
      "image/png": "[encoded data removed]",
      "text/plain": [
       "<Figure size 640x480 with 1 Axes>"
      ]
     },
     "metadata": {},
     "output_type": "display_data"
    }
   ],
   "source": [
    "print(f\"{existing_cards['age'].sum(0):.2f}\")\n",
    "existing_cards['age'].hist(bins=20)"
   ]
  },
  {
   "cell_type": "markdown",
   "metadata": {},
   "source": [
    "# Completely Random Shuffle"
   ]
  },
  {
   "cell_type": "code",
   "execution_count": 40,
   "metadata": {},
   "outputs": [],
   "source": [
    "# existing_cards = existing_cards.sample(frac=1)\n",
    "# remake_card_document(filename='certcards2.txt', existing_cards = existing_cards)"
   ]
  },
  {
   "cell_type": "markdown",
   "metadata": {},
   "source": [
    "# Age Sort"
   ]
  },
  {
   "cell_type": "code",
   "execution_count": 41,
   "metadata": {},
   "outputs": [],
   "source": [
    "# existing_cards = existing_cards.sort_values('age', ascending=False)\n",
    "# remake_card_document(filename='certcards2.txt', existing_cards=existing_cards)"
   ]
  },
  {
   "cell_type": "markdown",
   "metadata": {},
   "source": [
    "# Headers with fewest notes first"
   ]
  },
  {
   "cell_type": "code",
   "execution_count": 42,
   "metadata": {},
   "outputs": [
    {
     "name": "stdout",
     "output_type": "stream",
     "text": [
      "Cards found: 435\n"
     ]
    }
   ],
   "source": [
    "frequency = existing_cards['head'].value_counts(ascending=True)\n",
    "\n",
    "existing_cards = pd.merge(\n",
    "    left=existing_cards,\n",
    "    right=frequency.rename('frequency'),\n",
    "    left_on='head', right_index=True,\n",
    "    how='left'\n",
    ")\n",
    "existing_cards['oldest'] = existing_cards.groupby('head')['age'].transform('max')\n",
    "existing_cards['subject_highest_age'] = existing_cards['subject_highest_age'] * -1\n",
    "existing_cards['age'] = existing_cards['age'] * -1\n",
    "\n",
    "\n",
    "existing_cards.sort_values(['frequency', 'subject_highest_age', 'age'], ascending=True, inplace=True)\n",
    "\n",
    "remake_card_document(filename='certcards2.txt', existing_cards=existing_cards)"
   ]
  },
  {
   "cell_type": "markdown",
   "metadata": {},
   "source": [
    "# Focus on one header"
   ]
  },
  {
   "cell_type": "code",
   "execution_count": 43,
   "metadata": {},
   "outputs": [],
   "source": [
    "# heads = existing_cards['head'].value_counts()\n",
    "# heads = heads[heads > 5].index.tolist()\n",
    "# one_header = random.sample(heads, 1)[0]\n",
    "# existing_cards['pick_head'] = existing_cards['head'].apply(\n",
    "#     lambda h: 0 if h == one_header else 1 \n",
    "# )\n",
    "\n",
    "# remake_card_document(existing_cards=existing_cards.sort_values('pick_head'))"
   ]
  },
  {
   "cell_type": "markdown",
   "metadata": {},
   "source": [
    "## Header with oldest cards first"
   ]
  },
  {
   "cell_type": "code",
   "execution_count": 44,
   "metadata": {},
   "outputs": [],
   "source": [
    "# existing_cards['oldest'] = existing_cards.groupby('head')['age'].transform('max')\n",
    "# existing_cards.sort_values(['oldest', 'age'], ascending=False, inplace=True)\n",
    "# remake_card_document(existing_cards)"
   ]
  },
  {
   "cell_type": "markdown",
   "metadata": {},
   "source": [
    "## Headers with greatest mean card age first"
   ]
  },
  {
   "cell_type": "code",
   "execution_count": 45,
   "metadata": {},
   "outputs": [],
   "source": [
    "# existing_cards.sort_values(['subject_mean_age', 'age'], ascending=False, inplace=True)\n",
    "# remake_card_document(existing_cards)"
   ]
  },
  {
   "cell_type": "markdown",
   "metadata": {},
   "source": [
    "# Headers with greatest age sum first"
   ]
  },
  {
   "cell_type": "code",
   "execution_count": 46,
   "metadata": {},
   "outputs": [],
   "source": [
    "# existing_cards.sort_values(['subject_age_sum', 'age'], ascending=False, inplace=True)\n",
    "# remake_card_document(existing_cards)"
   ]
  },
  {
   "cell_type": "markdown",
   "metadata": {},
   "source": [
    "# N-fold shuffle\n",
    "\n",
    "## Random"
   ]
  },
  {
   "cell_type": "code",
   "execution_count": 47,
   "metadata": {},
   "outputs": [],
   "source": [
    "# n = 8\n",
    "# existing_cards['count'] = existing_cards.sort_values('age', ascending=False).groupby('head').cumcount()\n",
    "# existing_cards['n_fold'] = existing_cards['count'] // n\n",
    "# existing_cards['age'] *= -1\n",
    "# existing_cards.sort_values(['n_fold', 'head_random_roll', 'age'], inplace=True)\n",
    "# remake_card_document(existing_cards=existing_cards)\n",
    "# existing_cards.head(10)"
   ]
  },
  {
   "cell_type": "markdown",
   "metadata": {},
   "source": [
    "## Age Sum"
   ]
  },
  {
   "cell_type": "code",
   "execution_count": 48,
   "metadata": {},
   "outputs": [],
   "source": [
    "# n=8\n",
    "# existing_cards['count'] = existing_cards.sort_values('age', ascending=False).groupby('head').cumcount()\n",
    "# existing_cards['n_fold'] = existing_cards['count'] // n\n",
    "\n",
    "# existing_cards['subject_age_sum'] = existing_cards['subject_age_sum'] *-1\n",
    "# existing_cards['age'] = existing_cards['age'] *-1\n",
    "# existing_cards.sort_values(['n_fold', 'subject_age_sum', 'age'], inplace=True)\n",
    "# existing_cards.head(10)\n",
    "\n",
    "# remake_card_document(existing_cards=existing_cards)"
   ]
  },
  {
   "cell_type": "markdown",
   "metadata": {},
   "source": [
    "## Age max"
   ]
  },
  {
   "cell_type": "code",
   "execution_count": 49,
   "metadata": {},
   "outputs": [],
   "source": [
    "# n=6\n",
    "# existing_cards['count'] = existing_cards.sort_values('age', ascending=False).groupby('head').cumcount()\n",
    "# existing_cards['n_fold'] = existing_cards['count'] // n\n",
    "\n",
    "# existing_cards['subject_highest_age'] = existing_cards['subject_highest_age'] *-1\n",
    "# existing_cards['age'] = existing_cards['age'] *-1\n",
    "# existing_cards.sort_values(['n_fold', 'subject_highest_age', 'age'], inplace=True)\n",
    "# existing_cards.head(10)\n",
    "\n",
    "# remake_card_document(existing_cards=existing_cards)"
   ]
  },
  {
   "cell_type": "markdown",
   "metadata": {},
   "source": [
    "## Age Mean"
   ]
  },
  {
   "cell_type": "code",
   "execution_count": 50,
   "metadata": {},
   "outputs": [],
   "source": [
    "# n=3\n",
    "# existing_cards['count'] = existing_cards.sort_values('age', ascending=False).groupby('head').cumcount()\n",
    "# existing_cards['n_fold'] = existing_cards['count'] // n\n",
    "\n",
    "# existing_cards['subject_mean_age'] = existing_cards['subject_mean_age'] *-1\n",
    "# existing_cards['age'] = existing_cards['age'] *-1\n",
    "# existing_cards.sort_values(['n_fold', 'subject_mean_age', 'age'], inplace=True)\n",
    "# existing_cards.head(10)\n",
    "\n",
    "# remake_card_document(existing_cards=existing_cards)\n"
   ]
  },
  {
   "cell_type": "code",
   "execution_count": 53,
   "metadata": {},
   "outputs": [
    {
     "data": {
      "text/html": [
       "<div>\n",
       "<style scoped>\n",
       "    .dataframe tbody tr th:only-of-type {\n",
       "        vertical-align: middle;\n",
       "    }\n",
       "\n",
       "    .dataframe tbody tr th {\n",
       "        vertical-align: top;\n",
       "    }\n",
       "\n",
       "    .dataframe thead th {\n",
       "        text-align: right;\n",
       "    }\n",
       "</style>\n",
       "<table border=\"1\" class=\"dataframe\">\n",
       "  <thead>\n",
       "    <tr style=\"text-align: right;\">\n",
       "      <th></th>\n",
       "      <th>head</th>\n",
       "      <th>body</th>\n",
       "      <th>hash</th>\n",
       "      <th>age</th>\n",
       "      <th>subject_mean_age</th>\n",
       "      <th>subject_highest_age</th>\n",
       "      <th>subject_age_sum</th>\n",
       "      <th>head_random_roll</th>\n",
       "      <th>frequency</th>\n",
       "      <th>oldest</th>\n",
       "    </tr>\n",
       "  </thead>\n",
       "  <tbody>\n",
       "    <tr>\n",
       "      <th>106</th>\n",
       "      <td>CDK Global Ransomeware, June 2024</td>\n",
       "      <td>Many security solutions—such as vulnerability ...</td>\n",
       "      <td>d9cc117604fa602a283e0da67195bc38</td>\n",
       "      <td>-79.215256</td>\n",
       "      <td>66.950498</td>\n",
       "      <td>-79.215256</td>\n",
       "      <td>401.702985</td>\n",
       "      <td>0.491412</td>\n",
       "      <td>6</td>\n",
       "      <td>79.215256</td>\n",
       "    </tr>\n",
       "    <tr>\n",
       "      <th>107</th>\n",
       "      <td>CDK Global Ransomeware, June 2024</td>\n",
       "      <td>In the CDK Global ransomware attack, a single ...</td>\n",
       "      <td>d963ebcd504a5625f56ae4e1298cde40</td>\n",
       "      <td>-73.059725</td>\n",
       "      <td>66.950498</td>\n",
       "      <td>-79.215256</td>\n",
       "      <td>401.702985</td>\n",
       "      <td>0.491412</td>\n",
       "      <td>6</td>\n",
       "      <td>79.215256</td>\n",
       "    </tr>\n",
       "    <tr>\n",
       "      <th>108</th>\n",
       "      <td>CDK Global Ransomeware, June 2024</td>\n",
       "      <td>BlackSuit, a rebrand of Royal ransomware linke...</td>\n",
       "      <td>f3086836e2d5507ecd895052dd19cee6</td>\n",
       "      <td>-67.524478</td>\n",
       "      <td>66.950498</td>\n",
       "      <td>-79.215256</td>\n",
       "      <td>401.702985</td>\n",
       "      <td>0.491412</td>\n",
       "      <td>6</td>\n",
       "      <td>79.215256</td>\n",
       "    </tr>\n",
       "    <tr>\n",
       "      <th>110</th>\n",
       "      <td>CDK Global Ransomeware, June 2024</td>\n",
       "      <td>Although it’s U.S. government-hosted, the NVD ...</td>\n",
       "      <td>e532214269f2b7decf4d95b194f6b10b</td>\n",
       "      <td>-62.892327</td>\n",
       "      <td>66.950498</td>\n",
       "      <td>-79.215256</td>\n",
       "      <td>401.702985</td>\n",
       "      <td>0.491412</td>\n",
       "      <td>6</td>\n",
       "      <td>79.215256</td>\n",
       "    </tr>\n",
       "    <tr>\n",
       "      <th>109</th>\n",
       "      <td>CDK Global Ransomeware, June 2024</td>\n",
       "      <td>CVSS (Common Vulnerability Scoring System):\\n\\...</td>\n",
       "      <td>54756ed73c0933ffb77db5a34a95c560</td>\n",
       "      <td>-62.482839</td>\n",
       "      <td>66.950498</td>\n",
       "      <td>-79.215256</td>\n",
       "      <td>401.702985</td>\n",
       "      <td>0.491412</td>\n",
       "      <td>6</td>\n",
       "      <td>79.215256</td>\n",
       "    </tr>\n",
       "  </tbody>\n",
       "</table>\n",
       "</div>"
      ],
      "text/plain": [
       "                                  head  \\\n",
       "106  CDK Global Ransomeware, June 2024   \n",
       "107  CDK Global Ransomeware, June 2024   \n",
       "108  CDK Global Ransomeware, June 2024   \n",
       "110  CDK Global Ransomeware, June 2024   \n",
       "109  CDK Global Ransomeware, June 2024   \n",
       "\n",
       "                                                  body  \\\n",
       "106  Many security solutions—such as vulnerability ...   \n",
       "107  In the CDK Global ransomware attack, a single ...   \n",
       "108  BlackSuit, a rebrand of Royal ransomware linke...   \n",
       "110  Although it’s U.S. government-hosted, the NVD ...   \n",
       "109  CVSS (Common Vulnerability Scoring System):\\n\\...   \n",
       "\n",
       "                                 hash        age  subject_mean_age  \\\n",
       "106  d9cc117604fa602a283e0da67195bc38 -79.215256         66.950498   \n",
       "107  d963ebcd504a5625f56ae4e1298cde40 -73.059725         66.950498   \n",
       "108  f3086836e2d5507ecd895052dd19cee6 -67.524478         66.950498   \n",
       "110  e532214269f2b7decf4d95b194f6b10b -62.892327         66.950498   \n",
       "109  54756ed73c0933ffb77db5a34a95c560 -62.482839         66.950498   \n",
       "\n",
       "     subject_highest_age  subject_age_sum  head_random_roll  frequency  \\\n",
       "106           -79.215256       401.702985          0.491412          6   \n",
       "107           -79.215256       401.702985          0.491412          6   \n",
       "108           -79.215256       401.702985          0.491412          6   \n",
       "110           -79.215256       401.702985          0.491412          6   \n",
       "109           -79.215256       401.702985          0.491412          6   \n",
       "\n",
       "        oldest  \n",
       "106  79.215256  \n",
       "107  79.215256  \n",
       "108  79.215256  \n",
       "110  79.215256  \n",
       "109  79.215256  "
      ]
     },
     "execution_count": 53,
     "metadata": {},
     "output_type": "execute_result"
    }
   ],
   "source": [
    "existing_cards.head()"
   ]
  },
  {
   "cell_type": "code",
   "execution_count": 52,
   "metadata": {},
   "outputs": [
    {
     "data": {
      "text/plain": [
       "np.float64(-976.1376918548576)"
      ]
     },
     "execution_count": 52,
     "metadata": {},
     "output_type": "execute_result"
    }
   ],
   "source": [
    "existing_cards.head(10)['age'].sum()"
   ]
  }
 ],
 "metadata": {
  "kernelspec": {
   "display_name": "Python 3",
   "language": "python",
   "name": "python3"
  },
  "language_info": {
   "codemirror_mode": {
    "name": "ipython",
    "version": 3
   },
   "file_extension": ".py",
   "mimetype": "text/x-python",
   "name": "python",
   "nbconvert_exporter": "python",
   "pygments_lexer": "ipython3",
   "version": "3.11.9"
  }
 },
 "nbformat": 4,
 "nbformat_minor": 2
}
