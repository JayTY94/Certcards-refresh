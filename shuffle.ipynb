{
 "cells": [
  {
   "cell_type": "code",
   "execution_count": 1,
   "metadata": {},
   "outputs": [],
   "source": [
    "import re\n",
    "import random\n",
    "import pandas as pd\n",
    "import hashlib"
   ]
  },
  {
   "cell_type": "code",
   "execution_count": 2,
   "metadata": {},
   "outputs": [],
   "source": [
    "with open('certcards2.txt', mode='r', encoding='utf8') as f:\n",
    "    all_cards = f.read()\n",
    "    \n",
    "card_split_pattern = r'\\n\\n\\n\\d+\\n'\n",
    "all_cards = re.split(card_split_pattern, all_cards)\n",
    "# Use re.DOTALL to allow . to match newline characters\n",
    "card_pattern = re.compile(r'(.+?)\\n([\\s\\S]+)', re.DOTALL)\n",
    "cards = [(match.group(1), match.group(2)) for cstring in all_cards if (match := re.search(card_pattern, cstring))]\n",
    "\n",
    "# removing the cards that have no content and trimming\n",
    "cards = [(subject, stripped_content) for subject, content in cards if len(stripped_content := content.strip()) > 5]\n",
    "\n",
    "def hash_string_md5(s):\n",
    "    \"\"\"\n",
    "    Hashes a string using MD5 and returns a truncated hash for efficiency.\n",
    "\n",
    "    Parameters:\n",
    "    - s (str): The input string to hash.\n",
    "\n",
    "    Returns:\n",
    "    - str: The truncated hexadecimal hash string.\n",
    "    \"\"\"\n",
    "    if pd.isnull(s):\n",
    "        return None  # Handle NaN values gracefully\n",
    "    return hashlib.md5(s.encode('utf-8')).hexdigest()  # Truncate to first 12 characters\n",
    "\n",
    "\n",
    "def remake_card_document(existing_cards: pd.DataFrame, filename: str='certcards2.txt'):\n",
    "    with open(filename, mode='w', encoding='utf8') as f:\n",
    "        i = 1\n",
    "        for _, row in existing_cards.iterrows():\n",
    "            f.write('\\n'*6)\n",
    "            f.write(str(i)+'\\n')  \n",
    "            f.write(row['head']+'\\n')\n",
    "            f.write(row['body'])\n",
    "            i+=1\n",
    "    print(F\"Cards found: {existing_cards.shape[0]}\")\n",
    "\n",
    "\n",
    "existing_cards = pd.DataFrame(cards, columns=['head', 'body'])\n",
    "\n",
    "\n",
    "# existing_cards['age'] = [random.random() for _ in existing_cards.index]\n",
    "existing_cards['hash'] = existing_cards['body'].apply(hash_string_md5)\n",
    "existing_cards\n",
    "\n",
    "card_ages = pd.read_json('card_ages.json')\n",
    "card_ages = card_ages.drop_duplicates(subset=['hash'], keep='first')\n",
    "\n",
    "cards_to_age = pd.merge(\n",
    "    left=existing_cards,\n",
    "    right=card_ages[['hash', 'age']],\n",
    "    left_on='hash', right_on='hash',\n",
    "    how='left'\n",
    ")\n",
    "\n",
    "cards_to_age['head'] = cards_to_age['head'].str.strip()\n",
    "\n",
    "if cards_to_age['age'].sum() > 2e4: age_factor = 1\n",
    "else: age_factor = 1.00\n",
    "\n",
    "cards_to_age['age'] = cards_to_age['age'].fillna(0)\n",
    "cards_to_age['age'] = cards_to_age['age'] * age_factor\n",
    "cards_to_age['age'] = cards_to_age['age'] + [random.expovariate(.75) for _ in cards_to_age.index]\n",
    "\n",
    "cards_to_age = cards_to_age.drop_duplicates(subset=['hash'], keep='first')\n",
    "\n",
    "cards_to_age['subject_mean_age'] = cards_to_age.groupby('head')['age'].transform('mean')\n",
    "cards_to_age['subject_highest_age'] = cards_to_age.groupby('head')['age'].transform('max')\n",
    "cards_to_age['subject_age_sum'] = cards_to_age.groupby('head')['age'].transform('sum')\n",
    "cards_to_age['head_random_roll'] = cards_to_age.groupby('head')['head'].transform(lambda x: random.random())\n",
    "\n",
    "\n",
    "cards_to_age.sort_values('age')[['age', 'head', 'hash']].to_json('card_ages.json', indent=2)\n",
    "\n",
    "existing_cards = cards_to_age"
   ]
  },
  {
   "cell_type": "code",
   "execution_count": 3,
   "metadata": {},
   "outputs": [
    {
     "data": {
      "text/html": [
       "<div>\n",
       "<style scoped>\n",
       "    .dataframe tbody tr th:only-of-type {\n",
       "        vertical-align: middle;\n",
       "    }\n",
       "\n",
       "    .dataframe tbody tr th {\n",
       "        vertical-align: top;\n",
       "    }\n",
       "\n",
       "    .dataframe thead th {\n",
       "        text-align: right;\n",
       "    }\n",
       "</style>\n",
       "<table border=\"1\" class=\"dataframe\">\n",
       "  <thead>\n",
       "    <tr style=\"text-align: right;\">\n",
       "      <th></th>\n",
       "      <th>age_sum</th>\n",
       "      <th>age_mean</th>\n",
       "      <th>head_count</th>\n",
       "    </tr>\n",
       "  </thead>\n",
       "  <tbody>\n",
       "    <tr>\n",
       "      <th>Taxes</th>\n",
       "      <td>39.452910</td>\n",
       "      <td>3.945291</td>\n",
       "      <td>10</td>\n",
       "    </tr>\n",
       "    <tr>\n",
       "      <th>Dataverse Queries</th>\n",
       "      <td>195.162066</td>\n",
       "      <td>97.581033</td>\n",
       "      <td>2</td>\n",
       "    </tr>\n",
       "    <tr>\n",
       "      <th>CDK Global Ransomeware, June 2024</th>\n",
       "      <td>223.351963</td>\n",
       "      <td>37.225327</td>\n",
       "      <td>6</td>\n",
       "    </tr>\n",
       "    <tr>\n",
       "      <th>Powershell</th>\n",
       "      <td>311.459180</td>\n",
       "      <td>14.831390</td>\n",
       "      <td>21</td>\n",
       "    </tr>\n",
       "    <tr>\n",
       "      <th>Finance Junk</th>\n",
       "      <td>317.455181</td>\n",
       "      <td>39.681898</td>\n",
       "      <td>8</td>\n",
       "    </tr>\n",
       "    <tr>\n",
       "      <th>Kali Linux</th>\n",
       "      <td>515.032042</td>\n",
       "      <td>103.006408</td>\n",
       "      <td>5</td>\n",
       "    </tr>\n",
       "    <tr>\n",
       "      <th>Conditional Access</th>\n",
       "      <td>567.416085</td>\n",
       "      <td>113.483217</td>\n",
       "      <td>5</td>\n",
       "    </tr>\n",
       "    <tr>\n",
       "      <th>Azure AI Foundry</th>\n",
       "      <td>593.075491</td>\n",
       "      <td>39.538366</td>\n",
       "      <td>15</td>\n",
       "    </tr>\n",
       "    <tr>\n",
       "      <th>Dataverse Plugins</th>\n",
       "      <td>763.231989</td>\n",
       "      <td>109.033141</td>\n",
       "      <td>7</td>\n",
       "    </tr>\n",
       "    <tr>\n",
       "      <th>AKS</th>\n",
       "      <td>784.750059</td>\n",
       "      <td>98.093757</td>\n",
       "      <td>8</td>\n",
       "    </tr>\n",
       "    <tr>\n",
       "      <th>pandas</th>\n",
       "      <td>811.693811</td>\n",
       "      <td>101.461726</td>\n",
       "      <td>8</td>\n",
       "    </tr>\n",
       "    <tr>\n",
       "      <th>MS Identity Platform</th>\n",
       "      <td>936.742779</td>\n",
       "      <td>117.092847</td>\n",
       "      <td>8</td>\n",
       "    </tr>\n",
       "    <tr>\n",
       "      <th>Jane Eyre</th>\n",
       "      <td>989.643164</td>\n",
       "      <td>41.235132</td>\n",
       "      <td>24</td>\n",
       "    </tr>\n",
       "    <tr>\n",
       "      <th>Email Auth and Security</th>\n",
       "      <td>1051.529595</td>\n",
       "      <td>47.796800</td>\n",
       "      <td>22</td>\n",
       "    </tr>\n",
       "    <tr>\n",
       "      <th>Diffusers from Hugging Face</th>\n",
       "      <td>1060.495526</td>\n",
       "      <td>106.049553</td>\n",
       "      <td>10</td>\n",
       "    </tr>\n",
       "    <tr>\n",
       "      <th>OData</th>\n",
       "      <td>1086.386942</td>\n",
       "      <td>41.784113</td>\n",
       "      <td>26</td>\n",
       "    </tr>\n",
       "    <tr>\n",
       "      <th>IW Migration</th>\n",
       "      <td>1111.137463</td>\n",
       "      <td>46.297394</td>\n",
       "      <td>24</td>\n",
       "    </tr>\n",
       "    <tr>\n",
       "      <th>sklearn</th>\n",
       "      <td>1276.195135</td>\n",
       "      <td>106.349595</td>\n",
       "      <td>12</td>\n",
       "    </tr>\n",
       "    <tr>\n",
       "      <th>PP365</th>\n",
       "      <td>1408.255912</td>\n",
       "      <td>82.838583</td>\n",
       "      <td>17</td>\n",
       "    </tr>\n",
       "    <tr>\n",
       "      <th>Diffusers Library</th>\n",
       "      <td>1498.885562</td>\n",
       "      <td>115.298889</td>\n",
       "      <td>13</td>\n",
       "    </tr>\n",
       "    <tr>\n",
       "      <th>DNS</th>\n",
       "      <td>1554.198926</td>\n",
       "      <td>70.645406</td>\n",
       "      <td>22</td>\n",
       "    </tr>\n",
       "    <tr>\n",
       "      <th>Azure Functions</th>\n",
       "      <td>1560.230569</td>\n",
       "      <td>67.836112</td>\n",
       "      <td>23</td>\n",
       "    </tr>\n",
       "    <tr>\n",
       "      <th>Azure Kubernetes Learning Path</th>\n",
       "      <td>2002.006799</td>\n",
       "      <td>60.666873</td>\n",
       "      <td>33</td>\n",
       "    </tr>\n",
       "    <tr>\n",
       "      <th>Python</th>\n",
       "      <td>2054.277009</td>\n",
       "      <td>102.713850</td>\n",
       "      <td>20</td>\n",
       "    </tr>\n",
       "    <tr>\n",
       "      <th>Search Engine Optimization</th>\n",
       "      <td>2064.941795</td>\n",
       "      <td>82.597672</td>\n",
       "      <td>25</td>\n",
       "    </tr>\n",
       "    <tr>\n",
       "      <th>Home Network Project</th>\n",
       "      <td>2207.590480</td>\n",
       "      <td>66.896681</td>\n",
       "      <td>33</td>\n",
       "    </tr>\n",
       "  </tbody>\n",
       "</table>\n",
       "</div>"
      ],
      "text/plain": [
       "                                       age_sum    age_mean  head_count\n",
       "Taxes                                39.452910    3.945291          10\n",
       "Dataverse Queries                   195.162066   97.581033           2\n",
       "CDK Global Ransomeware, June 2024   223.351963   37.225327           6\n",
       "Powershell                          311.459180   14.831390          21\n",
       "Finance Junk                        317.455181   39.681898           8\n",
       "Kali Linux                          515.032042  103.006408           5\n",
       "Conditional Access                  567.416085  113.483217           5\n",
       "Azure AI Foundry                    593.075491   39.538366          15\n",
       "Dataverse Plugins                   763.231989  109.033141           7\n",
       "AKS                                 784.750059   98.093757           8\n",
       "pandas                              811.693811  101.461726           8\n",
       "MS Identity Platform                936.742779  117.092847           8\n",
       "Jane Eyre                           989.643164   41.235132          24\n",
       "Email Auth and Security            1051.529595   47.796800          22\n",
       "Diffusers from Hugging Face        1060.495526  106.049553          10\n",
       "OData                              1086.386942   41.784113          26\n",
       "IW Migration                       1111.137463   46.297394          24\n",
       "sklearn                            1276.195135  106.349595          12\n",
       "PP365                              1408.255912   82.838583          17\n",
       "Diffusers Library                  1498.885562  115.298889          13\n",
       "DNS                                1554.198926   70.645406          22\n",
       "Azure Functions                    1560.230569   67.836112          23\n",
       "Azure Kubernetes Learning Path     2002.006799   60.666873          33\n",
       "Python                             2054.277009  102.713850          20\n",
       "Search Engine Optimization         2064.941795   82.597672          25\n",
       "Home Network Project               2207.590480   66.896681          33"
      ]
     },
     "execution_count": 3,
     "metadata": {},
     "output_type": "execute_result"
    }
   ],
   "source": [
    "stats = existing_cards.groupby('head').agg({'age': ['sum', 'mean'], 'head': 'count'}).sort_values(('age', 'sum'))\n",
    "stats.columns = stats.columns.to_flat_index()\n",
    "stats.columns = ['_'.join(col).strip() for col in stats.columns]\n",
    "stats.index.name = None\n",
    "stats"
   ]
  },
  {
   "cell_type": "markdown",
   "metadata": {},
   "source": [
    "# Histogram"
   ]
  },
  {
   "cell_type": "code",
   "execution_count": 4,
   "metadata": {},
   "outputs": [
    {
     "name": "stdout",
     "output_type": "stream",
     "text": [
      "26984.60\n"
     ]
    },
    {
     "data": {
      "text/plain": [
       "<Axes: >"
      ]
     },
     "execution_count": 4,
     "metadata": {},
     "output_type": "execute_result"
    },
    {
     "data": {
      "image/png": "[encoded data removed]",
      "text/plain": [
       "<Figure size 640x480 with 1 Axes>"
      ]
     },
     "metadata": {},
     "output_type": "display_data"
    }
   ],
   "source": [
    "print(f\"{existing_cards['age'].sum(0):.2f}\")\n",
    "existing_cards['age'].hist(bins=20)"
   ]
  },
  {
   "cell_type": "markdown",
   "metadata": {},
   "source": [
    "# Completely Random Shuffle"
   ]
  },
  {
   "cell_type": "code",
   "execution_count": 5,
   "metadata": {},
   "outputs": [],
   "source": [
    "# existing_cards = existing_cards.sample(frac=1)\n",
    "# remake_card_document(filename='certcards2.txt', existing_cards = existing_cards)"
   ]
  },
  {
   "cell_type": "markdown",
   "metadata": {},
   "source": [
    "# Age Sort"
   ]
  },
  {
   "cell_type": "code",
   "execution_count": 6,
   "metadata": {},
   "outputs": [],
   "source": [
    "# existing_cards = existing_cards.sort_values('age', ascending=False)\n",
    "# remake_card_document(filename='certcards2.txt', existing_cards=existing_cards)"
   ]
  },
  {
   "cell_type": "markdown",
   "metadata": {},
   "source": [
    "# Headers with fewest notes first"
   ]
  },
  {
   "cell_type": "code",
   "execution_count": 7,
   "metadata": {},
   "outputs": [
    {
     "name": "stdout",
     "output_type": "stream",
     "text": [
      "Cards found: 407\n"
     ]
    }
   ],
   "source": [
    "frequency = existing_cards['head'].value_counts(ascending=True)\n",
    "\n",
    "existing_cards = pd.merge(\n",
    "    left=existing_cards,\n",
    "    right=frequency.rename('frequency'),\n",
    "    left_on='head', right_index=True,\n",
    "    how='left'\n",
    ")\n",
    "existing_cards['oldest'] = existing_cards.groupby('head')['age'].transform('max')\n",
    "existing_cards['subject_highest_age'] = existing_cards['subject_highest_age'] * -1\n",
    "existing_cards['age'] = existing_cards['age'] * -1\n",
    "\n",
    "\n",
    "existing_cards.sort_values(['frequency', 'subject_highest_age', 'age'], ascending=True, inplace=True)\n",
    "\n",
    "remake_card_document(filename='certcards2.txt', existing_cards=existing_cards)"
   ]
  },
  {
   "cell_type": "markdown",
   "metadata": {},
   "source": [
    "# Focus on one header"
   ]
  },
  {
   "cell_type": "code",
   "execution_count": 8,
   "metadata": {},
   "outputs": [],
   "source": [
    "# heads = existing_cards['head'].value_counts()\n",
    "# heads = heads[heads > 5].index.tolist()\n",
    "# one_header = random.sample(heads, 1)[0]\n",
    "# existing_cards['pick_head'] = existing_cards['head'].apply(\n",
    "#     lambda h: 0 if h == one_header else 1 \n",
    "# )\n",
    "\n",
    "# remake_card_document(existing_cards=existing_cards.sort_values('pick_head'))"
   ]
  },
  {
   "cell_type": "markdown",
   "metadata": {},
   "source": [
    "## Header with oldest cards first"
   ]
  },
  {
   "cell_type": "code",
   "execution_count": 9,
   "metadata": {},
   "outputs": [],
   "source": [
    "# existing_cards['oldest'] = existing_cards.groupby('head')['age'].transform('max')\n",
    "# existing_cards.sort_values(['oldest', 'age'], ascending=False, inplace=True)\n",
    "# remake_card_document(existing_cards)"
   ]
  },
  {
   "cell_type": "markdown",
   "metadata": {},
   "source": [
    "## Headers with greatest mean card age first"
   ]
  },
  {
   "cell_type": "code",
   "execution_count": null,
   "metadata": {},
   "outputs": [],
   "source": [
    "# existing_cards.sort_values(['subject_mean_age', 'age'], ascending=False, inplace=True)\n",
    "# remake_card_document(existing_cards)"
   ]
  },
  {
   "cell_type": "markdown",
   "metadata": {},
   "source": [
    "# Headers with greatest age sum first"
   ]
  },
  {
   "cell_type": "code",
   "execution_count": 11,
   "metadata": {},
   "outputs": [],
   "source": [
    "# existing_cards.sort_values(['subject_age_sum', 'age'], ascending=False, inplace=True)\n",
    "# remake_card_document(existing_cards)"
   ]
  },
  {
   "cell_type": "markdown",
   "metadata": {},
   "source": [
    "# N-fold shuffle\n",
    "\n",
    "## Random"
   ]
  },
  {
   "cell_type": "code",
   "execution_count": 12,
   "metadata": {},
   "outputs": [],
   "source": [
    "# n = 5\n",
    "# existing_cards['count'] = existing_cards.sort_values('age', ascending=False).groupby('head').cumcount()\n",
    "# existing_cards['n_fold'] = existing_cards['count'] // n\n",
    "# existing_cards['age'] *= -1\n",
    "# existing_cards.sort_values(['n_fold', 'head_random_roll', 'age'], inplace=True)\n",
    "# remake_card_document(existing_cards=existing_cards)\n",
    "# existing_cards.head(10)"
   ]
  },
  {
   "cell_type": "markdown",
   "metadata": {},
   "source": [
    "## Age Sum"
   ]
  },
  {
   "cell_type": "code",
   "execution_count": 13,
   "metadata": {},
   "outputs": [],
   "source": [
    "# n=5\n",
    "# existing_cards['count'] = existing_cards.sort_values('age', ascending=False).groupby('head').cumcount()\n",
    "# existing_cards['n_fold'] = existing_cards['count'] // n\n",
    "\n",
    "# existing_cards['subject_age_sum'] = existing_cards['subject_age_sum'] *-1\n",
    "# existing_cards['age'] = existing_cards['age'] *-1\n",
    "# existing_cards.sort_values(['n_fold', 'subject_age_sum', 'age'], inplace=True)\n",
    "# existing_cards.head(10)\n",
    "\n",
    "# remake_card_document(existing_cards=existing_cards)"
   ]
  },
  {
   "cell_type": "markdown",
   "metadata": {},
   "source": [
    "## Age max"
   ]
  },
  {
   "cell_type": "code",
   "execution_count": 14,
   "metadata": {},
   "outputs": [],
   "source": [
    "# n=3\n",
    "# existing_cards['count'] = existing_cards.sort_values('age', ascending=False).groupby('head').cumcount()\n",
    "# existing_cards['n_fold'] = existing_cards['count'] // n\n",
    "\n",
    "# existing_cards['subject_highest_age'] = existing_cards['subject_highest_age'] *-1\n",
    "# existing_cards['age'] = existing_cards['age'] *-1\n",
    "# existing_cards.sort_values(['n_fold', 'subject_highest_age', 'age'], inplace=True)\n",
    "# existing_cards.head(10)\n",
    "\n",
    "# remake_card_document(existing_cards=existing_cards)"
   ]
  },
  {
   "cell_type": "markdown",
   "metadata": {},
   "source": [
    "## Age Mean"
   ]
  },
  {
   "cell_type": "code",
   "execution_count": null,
   "metadata": {},
   "outputs": [],
   "source": [
    "# n=3\n",
    "# existing_cards['count'] = existing_cards.sort_values('age', ascending=False).groupby('head').cumcount()\n",
    "# existing_cards['n_fold'] = existing_cards['count'] // n\n",
    "\n",
    "# existing_cards['subject_mean_age'] = existing_cards['subject_mean_age'] *-1\n",
    "# existing_cards['age'] = existing_cards['age'] *-1\n",
    "# existing_cards.sort_values(['n_fold', 'subject_mean_age', 'age'], inplace=True)\n",
    "# existing_cards.head(10)\n",
    "\n",
    "# remake_card_document(existing_cards=existing_cards)\n"
   ]
  },
  {
   "cell_type": "code",
   "execution_count": 16,
   "metadata": {},
   "outputs": [
    {
     "data": {
      "text/html": [
       "<div>\n",
       "<style scoped>\n",
       "    .dataframe tbody tr th:only-of-type {\n",
       "        vertical-align: middle;\n",
       "    }\n",
       "\n",
       "    .dataframe tbody tr th {\n",
       "        vertical-align: top;\n",
       "    }\n",
       "\n",
       "    .dataframe thead th {\n",
       "        text-align: right;\n",
       "    }\n",
       "</style>\n",
       "<table border=\"1\" class=\"dataframe\">\n",
       "  <thead>\n",
       "    <tr style=\"text-align: right;\">\n",
       "      <th></th>\n",
       "      <th>head</th>\n",
       "      <th>body</th>\n",
       "      <th>hash</th>\n",
       "      <th>age</th>\n",
       "      <th>subject_mean_age</th>\n",
       "      <th>subject_highest_age</th>\n",
       "      <th>subject_age_sum</th>\n",
       "      <th>head_random_roll</th>\n",
       "      <th>frequency</th>\n",
       "      <th>oldest</th>\n",
       "    </tr>\n",
       "  </thead>\n",
       "  <tbody>\n",
       "    <tr>\n",
       "      <th>22</th>\n",
       "      <td>Dataverse Queries</td>\n",
       "      <td>Change Tracking\\nDefinition: A feature that al...</td>\n",
       "      <td>3c5e2ca1372ac5e457941ba4e97648a6</td>\n",
       "      <td>-114.909617</td>\n",
       "      <td>97.581033</td>\n",
       "      <td>-114.909617</td>\n",
       "      <td>195.162066</td>\n",
       "      <td>0.398639</td>\n",
       "      <td>2</td>\n",
       "      <td>114.909617</td>\n",
       "    </tr>\n",
       "    <tr>\n",
       "      <th>23</th>\n",
       "      <td>Dataverse Queries</td>\n",
       "      <td>Lookup Field\\nDefinition: A special type of fi...</td>\n",
       "      <td>1dd9f8495a55f324f899ad2ec9466a6a</td>\n",
       "      <td>-80.252449</td>\n",
       "      <td>97.581033</td>\n",
       "      <td>-114.909617</td>\n",
       "      <td>195.162066</td>\n",
       "      <td>0.398639</td>\n",
       "      <td>2</td>\n",
       "      <td>114.909617</td>\n",
       "    </tr>\n",
       "    <tr>\n",
       "      <th>0</th>\n",
       "      <td>Conditional Access</td>\n",
       "      <td>Report-only: Not applied\\t\\nNot all configured...</td>\n",
       "      <td>a5346313cfa4af9df8926096c2ddb977</td>\n",
       "      <td>-119.539443</td>\n",
       "      <td>113.483217</td>\n",
       "      <td>-119.539443</td>\n",
       "      <td>567.416085</td>\n",
       "      <td>0.792539</td>\n",
       "      <td>5</td>\n",
       "      <td>119.539443</td>\n",
       "    </tr>\n",
       "    <tr>\n",
       "      <th>75</th>\n",
       "      <td>Conditional Access</td>\n",
       "      <td>Find more information about the problem by cli...</td>\n",
       "      <td>cd20faf9208b99976b12cef717996ee5</td>\n",
       "      <td>-115.052430</td>\n",
       "      <td>113.483217</td>\n",
       "      <td>-119.539443</td>\n",
       "      <td>567.416085</td>\n",
       "      <td>0.792539</td>\n",
       "      <td>5</td>\n",
       "      <td>119.539443</td>\n",
       "    </tr>\n",
       "    <tr>\n",
       "      <th>76</th>\n",
       "      <td>Conditional Access</td>\n",
       "      <td>Conditional Access: Client certificates can be...</td>\n",
       "      <td>d4a50327fb4f559d5ee237e2e4b86135</td>\n",
       "      <td>-114.979725</td>\n",
       "      <td>113.483217</td>\n",
       "      <td>-119.539443</td>\n",
       "      <td>567.416085</td>\n",
       "      <td>0.792539</td>\n",
       "      <td>5</td>\n",
       "      <td>119.539443</td>\n",
       "    </tr>\n",
       "    <tr>\n",
       "      <th>77</th>\n",
       "      <td>Conditional Access</td>\n",
       "      <td>Conditional Access App Control enables user ap...</td>\n",
       "      <td>6d130db555c30f51a2aed1d6dd38a584</td>\n",
       "      <td>-112.469471</td>\n",
       "      <td>113.483217</td>\n",
       "      <td>-119.539443</td>\n",
       "      <td>567.416085</td>\n",
       "      <td>0.792539</td>\n",
       "      <td>5</td>\n",
       "      <td>119.539443</td>\n",
       "    </tr>\n",
       "    <tr>\n",
       "      <th>149</th>\n",
       "      <td>Conditional Access</td>\n",
       "      <td>Report-only: Success\\t\\nAll configured policy ...</td>\n",
       "      <td>d603a9848356cbd581a4a3e92a19d64e</td>\n",
       "      <td>-105.375016</td>\n",
       "      <td>113.483217</td>\n",
       "      <td>-119.539443</td>\n",
       "      <td>567.416085</td>\n",
       "      <td>0.792539</td>\n",
       "      <td>5</td>\n",
       "      <td>119.539443</td>\n",
       "    </tr>\n",
       "    <tr>\n",
       "      <th>18</th>\n",
       "      <td>Kali Linux</td>\n",
       "      <td>The rockyou.txt file is a renowned wordlist fr...</td>\n",
       "      <td>7b39135ec409cff0f6e32951462f6394</td>\n",
       "      <td>-108.866160</td>\n",
       "      <td>103.006408</td>\n",
       "      <td>-108.866160</td>\n",
       "      <td>515.032042</td>\n",
       "      <td>0.494120</td>\n",
       "      <td>5</td>\n",
       "      <td>108.866160</td>\n",
       "    </tr>\n",
       "    <tr>\n",
       "      <th>16</th>\n",
       "      <td>Kali Linux</td>\n",
       "      <td>The chmod (change mode) command is used to cha...</td>\n",
       "      <td>0e3e0cffaa0ee81bd98675ed13fe1feb</td>\n",
       "      <td>-105.533771</td>\n",
       "      <td>103.006408</td>\n",
       "      <td>-108.866160</td>\n",
       "      <td>515.032042</td>\n",
       "      <td>0.494120</td>\n",
       "      <td>5</td>\n",
       "      <td>108.866160</td>\n",
       "    </tr>\n",
       "    <tr>\n",
       "      <th>17</th>\n",
       "      <td>Kali Linux</td>\n",
       "      <td>The /etc/shadow file stores secure user accoun...</td>\n",
       "      <td>c44b8c6b2bbb1428b7f6ea0883682a38</td>\n",
       "      <td>-105.255292</td>\n",
       "      <td>103.006408</td>\n",
       "      <td>-108.866160</td>\n",
       "      <td>515.032042</td>\n",
       "      <td>0.494120</td>\n",
       "      <td>5</td>\n",
       "      <td>108.866160</td>\n",
       "    </tr>\n",
       "  </tbody>\n",
       "</table>\n",
       "</div>"
      ],
      "text/plain": [
       "                   head                                               body  \\\n",
       "22    Dataverse Queries  Change Tracking\\nDefinition: A feature that al...   \n",
       "23    Dataverse Queries  Lookup Field\\nDefinition: A special type of fi...   \n",
       "0    Conditional Access  Report-only: Not applied\\t\\nNot all configured...   \n",
       "75   Conditional Access  Find more information about the problem by cli...   \n",
       "76   Conditional Access  Conditional Access: Client certificates can be...   \n",
       "77   Conditional Access  Conditional Access App Control enables user ap...   \n",
       "149  Conditional Access  Report-only: Success\\t\\nAll configured policy ...   \n",
       "18           Kali Linux  The rockyou.txt file is a renowned wordlist fr...   \n",
       "16           Kali Linux  The chmod (change mode) command is used to cha...   \n",
       "17           Kali Linux  The /etc/shadow file stores secure user accoun...   \n",
       "\n",
       "                                 hash         age  subject_mean_age  \\\n",
       "22   3c5e2ca1372ac5e457941ba4e97648a6 -114.909617         97.581033   \n",
       "23   1dd9f8495a55f324f899ad2ec9466a6a  -80.252449         97.581033   \n",
       "0    a5346313cfa4af9df8926096c2ddb977 -119.539443        113.483217   \n",
       "75   cd20faf9208b99976b12cef717996ee5 -115.052430        113.483217   \n",
       "76   d4a50327fb4f559d5ee237e2e4b86135 -114.979725        113.483217   \n",
       "77   6d130db555c30f51a2aed1d6dd38a584 -112.469471        113.483217   \n",
       "149  d603a9848356cbd581a4a3e92a19d64e -105.375016        113.483217   \n",
       "18   7b39135ec409cff0f6e32951462f6394 -108.866160        103.006408   \n",
       "16   0e3e0cffaa0ee81bd98675ed13fe1feb -105.533771        103.006408   \n",
       "17   c44b8c6b2bbb1428b7f6ea0883682a38 -105.255292        103.006408   \n",
       "\n",
       "     subject_highest_age  subject_age_sum  head_random_roll  frequency  \\\n",
       "22           -114.909617       195.162066          0.398639          2   \n",
       "23           -114.909617       195.162066          0.398639          2   \n",
       "0            -119.539443       567.416085          0.792539          5   \n",
       "75           -119.539443       567.416085          0.792539          5   \n",
       "76           -119.539443       567.416085          0.792539          5   \n",
       "77           -119.539443       567.416085          0.792539          5   \n",
       "149          -119.539443       567.416085          0.792539          5   \n",
       "18           -108.866160       515.032042          0.494120          5   \n",
       "16           -108.866160       515.032042          0.494120          5   \n",
       "17           -108.866160       515.032042          0.494120          5   \n",
       "\n",
       "         oldest  \n",
       "22   114.909617  \n",
       "23   114.909617  \n",
       "0    119.539443  \n",
       "75   119.539443  \n",
       "76   119.539443  \n",
       "77   119.539443  \n",
       "149  119.539443  \n",
       "18   108.866160  \n",
       "16   108.866160  \n",
       "17   108.866160  "
      ]
     },
     "execution_count": 16,
     "metadata": {},
     "output_type": "execute_result"
    }
   ],
   "source": [
    "existing_cards.head(10)"
   ]
  },
  {
   "cell_type": "code",
   "execution_count": 17,
   "metadata": {},
   "outputs": [
    {
     "data": {
      "text/plain": [
       "np.float64(-1082.233373887841)"
      ]
     },
     "execution_count": 17,
     "metadata": {},
     "output_type": "execute_result"
    }
   ],
   "source": [
    "existing_cards.head(10)['age'].sum()"
   ]
  }
 ],
 "metadata": {
  "kernelspec": {
   "display_name": "Python 3",
   "language": "python",
   "name": "python3"
  },
  "language_info": {
   "codemirror_mode": {
    "name": "ipython",
    "version": 3
   },
   "file_extension": ".py",
   "mimetype": "text/x-python",
   "name": "python",
   "nbconvert_exporter": "python",
   "pygments_lexer": "ipython3",
   "version": "3.11.9"
  }
 },
 "nbformat": 4,
 "nbformat_minor": 2
}
