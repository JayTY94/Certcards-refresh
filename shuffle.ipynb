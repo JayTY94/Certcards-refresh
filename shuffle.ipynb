{
 "cells": [
  {
   "cell_type": "code",
   "execution_count": 52,
   "metadata": {},
   "outputs": [],
   "source": [
    "import re\n",
    "import random\n",
    "import pandas as pd\n",
    "import hashlib"
   ]
  },
  {
   "cell_type": "code",
   "execution_count": 53,
   "metadata": {},
   "outputs": [],
   "source": [
    "with open('certcards2.txt', mode='r', encoding='utf8') as f:\n",
    "    all_cards = f.read()\n",
    "    \n",
    "card_split_pattern = r'\\n\\n\\n\\d+\\n'\n",
    "all_cards = re.split(card_split_pattern, all_cards)\n",
    "# Use re.DOTALL to allow . to match newline characters\n",
    "card_pattern = re.compile(r'(.+?)\\n([\\s\\S]+)', re.DOTALL)\n",
    "cards = [(match.group(1), match.group(2)) for cstring in all_cards if (match := re.search(card_pattern, cstring))]\n",
    "\n",
    "# removing the cards that have no content and trimming\n",
    "cards = [(subject, stripped_content) for subject, content in cards if len(stripped_content := content.strip()) > 5]\n",
    "\n",
    "def hash_string_md5(s):\n",
    "    \"\"\"\n",
    "    Hashes a string using MD5 and returns a truncated hash for efficiency.\n",
    "\n",
    "    Parameters:\n",
    "    - s (str): The input string to hash.\n",
    "\n",
    "    Returns:\n",
    "    - str: The truncated hexadecimal hash string.\n",
    "    \"\"\"\n",
    "    if pd.isnull(s):\n",
    "        return None  # Handle NaN values gracefully\n",
    "    return hashlib.md5(s.encode('utf-8')).hexdigest()  # Truncate to first 12 characters\n",
    "\n",
    "\n",
    "def remake_card_document(existing_cards: pd.DataFrame, filename: str='certcards2.txt'):\n",
    "    with open(filename, mode='w', encoding='utf8') as f:\n",
    "        i = 1\n",
    "        for _, row in existing_cards.iterrows():\n",
    "            f.write('\\n'*6)\n",
    "            f.write(str(i)+'\\n')  \n",
    "            f.write(row['head']+'\\n')\n",
    "            f.write(row['body'])\n",
    "            i+=1\n",
    "    print(F\"Cards found: {existing_cards.shape[0]}\")\n",
    "\n",
    "\n",
    "existing_cards = pd.DataFrame(cards, columns=['head', 'body'])\n",
    "\n",
    "\n",
    "# existing_cards['age'] = [random.random() for _ in existing_cards.index]\n",
    "existing_cards['hash'] = existing_cards['body'].apply(hash_string_md5)\n",
    "existing_cards\n",
    "\n",
    "card_ages = pd.read_json('card_ages.json')\n",
    "card_ages = card_ages.drop_duplicates(subset=['hash'], keep='first')\n",
    "\n",
    "cards_to_age = pd.merge(\n",
    "    left=existing_cards,\n",
    "    right=card_ages[['hash', 'age']],\n",
    "    left_on='hash', right_on='hash',\n",
    "    how='left'\n",
    ")\n",
    "\n",
    "cards_to_age['head'] = cards_to_age['head'].str.strip()\n",
    "\n",
    "if cards_to_age['age'].sum() > 2e4: age_factor = 1\n",
    "else: age_factor = 1.00\n",
    "\n",
    "cards_to_age['age'] = cards_to_age['age'].fillna(0)\n",
    "cards_to_age['age'] = cards_to_age['age'] * age_factor\n",
    "cards_to_age['age'] = cards_to_age['age'] + [random.expovariate(.75) for _ in cards_to_age.index]\n",
    "\n",
    "cards_to_age = cards_to_age.drop_duplicates(subset=['hash'], keep='first')\n",
    "\n",
    "cards_to_age['subject_mean_age'] = cards_to_age.groupby('head')['age'].transform('mean')\n",
    "cards_to_age['subject_highest_age'] = cards_to_age.groupby('head')['age'].transform('max')\n",
    "cards_to_age['subject_age_sum'] = cards_to_age.groupby('head')['age'].transform('sum')\n",
    "cards_to_age['head_random_roll'] = cards_to_age.groupby('head')['head'].transform(lambda x: random.random())\n",
    "\n",
    "\n",
    "cards_to_age.sort_values('age')[['age', 'head', 'hash']].to_json('card_ages.json', indent=2)\n",
    "\n",
    "existing_cards = cards_to_age"
   ]
  },
  {
   "cell_type": "code",
   "execution_count": 54,
   "metadata": {},
   "outputs": [
    {
     "data": {
      "text/html": [
       "<div>\n",
       "<style scoped>\n",
       "    .dataframe tbody tr th:only-of-type {\n",
       "        vertical-align: middle;\n",
       "    }\n",
       "\n",
       "    .dataframe tbody tr th {\n",
       "        vertical-align: top;\n",
       "    }\n",
       "\n",
       "    .dataframe thead th {\n",
       "        text-align: right;\n",
       "    }\n",
       "</style>\n",
       "<table border=\"1\" class=\"dataframe\">\n",
       "  <thead>\n",
       "    <tr style=\"text-align: right;\">\n",
       "      <th></th>\n",
       "      <th>age_sum</th>\n",
       "      <th>age_mean</th>\n",
       "      <th>head_count</th>\n",
       "    </tr>\n",
       "  </thead>\n",
       "  <tbody>\n",
       "    <tr>\n",
       "      <th>Taxes</th>\n",
       "      <td>224.748044</td>\n",
       "      <td>22.474804</td>\n",
       "      <td>10</td>\n",
       "    </tr>\n",
       "    <tr>\n",
       "      <th>Open Source/GitHub</th>\n",
       "      <td>241.038013</td>\n",
       "      <td>10.479914</td>\n",
       "      <td>23</td>\n",
       "    </tr>\n",
       "    <tr>\n",
       "      <th>CDK Global Ransomeware, June 2024</th>\n",
       "      <td>321.941264</td>\n",
       "      <td>53.656877</td>\n",
       "      <td>6</td>\n",
       "    </tr>\n",
       "    <tr>\n",
       "      <th>Finance Junk</th>\n",
       "      <td>426.048068</td>\n",
       "      <td>53.256009</td>\n",
       "      <td>8</td>\n",
       "    </tr>\n",
       "    <tr>\n",
       "      <th>Kali Linux</th>\n",
       "      <td>602.905240</td>\n",
       "      <td>120.581048</td>\n",
       "      <td>5</td>\n",
       "    </tr>\n",
       "    <tr>\n",
       "      <th>Powershell</th>\n",
       "      <td>668.598963</td>\n",
       "      <td>31.838046</td>\n",
       "      <td>21</td>\n",
       "    </tr>\n",
       "    <tr>\n",
       "      <th>PP365</th>\n",
       "      <td>731.337922</td>\n",
       "      <td>73.133792</td>\n",
       "      <td>10</td>\n",
       "    </tr>\n",
       "    <tr>\n",
       "      <th>Azure AI Foundry</th>\n",
       "      <td>837.698620</td>\n",
       "      <td>55.846575</td>\n",
       "      <td>15</td>\n",
       "    </tr>\n",
       "    <tr>\n",
       "      <th>Dataverse Plugins</th>\n",
       "      <td>865.995761</td>\n",
       "      <td>123.713680</td>\n",
       "      <td>7</td>\n",
       "    </tr>\n",
       "    <tr>\n",
       "      <th>AKS</th>\n",
       "      <td>921.621657</td>\n",
       "      <td>115.202707</td>\n",
       "      <td>8</td>\n",
       "    </tr>\n",
       "    <tr>\n",
       "      <th>MS Identity Platform</th>\n",
       "      <td>1051.516750</td>\n",
       "      <td>131.439594</td>\n",
       "      <td>8</td>\n",
       "    </tr>\n",
       "    <tr>\n",
       "      <th>Diffusers from Hugging Face</th>\n",
       "      <td>1207.101056</td>\n",
       "      <td>120.710106</td>\n",
       "      <td>10</td>\n",
       "    </tr>\n",
       "    <tr>\n",
       "      <th>Jane Eyre</th>\n",
       "      <td>1344.880625</td>\n",
       "      <td>56.036693</td>\n",
       "      <td>24</td>\n",
       "    </tr>\n",
       "    <tr>\n",
       "      <th>Email Auth and Security</th>\n",
       "      <td>1413.397985</td>\n",
       "      <td>64.245363</td>\n",
       "      <td>22</td>\n",
       "    </tr>\n",
       "    <tr>\n",
       "      <th>sklearn</th>\n",
       "      <td>1466.766796</td>\n",
       "      <td>122.230566</td>\n",
       "      <td>12</td>\n",
       "    </tr>\n",
       "    <tr>\n",
       "      <th>OData</th>\n",
       "      <td>1468.266494</td>\n",
       "      <td>56.471788</td>\n",
       "      <td>26</td>\n",
       "    </tr>\n",
       "    <tr>\n",
       "      <th>IW Migration</th>\n",
       "      <td>1475.521452</td>\n",
       "      <td>61.480061</td>\n",
       "      <td>24</td>\n",
       "    </tr>\n",
       "    <tr>\n",
       "      <th>Python</th>\n",
       "      <td>1503.132444</td>\n",
       "      <td>107.366603</td>\n",
       "      <td>14</td>\n",
       "    </tr>\n",
       "    <tr>\n",
       "      <th>Diffusers Library</th>\n",
       "      <td>1677.734561</td>\n",
       "      <td>129.056505</td>\n",
       "      <td>13</td>\n",
       "    </tr>\n",
       "    <tr>\n",
       "      <th>DNS</th>\n",
       "      <td>1906.580681</td>\n",
       "      <td>86.662758</td>\n",
       "      <td>22</td>\n",
       "    </tr>\n",
       "    <tr>\n",
       "      <th>Azure Functions</th>\n",
       "      <td>1910.110324</td>\n",
       "      <td>83.048275</td>\n",
       "      <td>23</td>\n",
       "    </tr>\n",
       "    <tr>\n",
       "      <th>Azure Kubernetes Learning Path</th>\n",
       "      <td>1972.017060</td>\n",
       "      <td>70.429181</td>\n",
       "      <td>28</td>\n",
       "    </tr>\n",
       "    <tr>\n",
       "      <th>Home Network Project</th>\n",
       "      <td>2273.775146</td>\n",
       "      <td>81.206255</td>\n",
       "      <td>28</td>\n",
       "    </tr>\n",
       "    <tr>\n",
       "      <th>Search Engine Optimization</th>\n",
       "      <td>2482.169655</td>\n",
       "      <td>99.286786</td>\n",
       "      <td>25</td>\n",
       "    </tr>\n",
       "  </tbody>\n",
       "</table>\n",
       "</div>"
      ],
      "text/plain": [
       "                                       age_sum    age_mean  head_count\n",
       "Taxes                               224.748044   22.474804          10\n",
       "Open Source/GitHub                  241.038013   10.479914          23\n",
       "CDK Global Ransomeware, June 2024   321.941264   53.656877           6\n",
       "Finance Junk                        426.048068   53.256009           8\n",
       "Kali Linux                          602.905240  120.581048           5\n",
       "Powershell                          668.598963   31.838046          21\n",
       "PP365                               731.337922   73.133792          10\n",
       "Azure AI Foundry                    837.698620   55.846575          15\n",
       "Dataverse Plugins                   865.995761  123.713680           7\n",
       "AKS                                 921.621657  115.202707           8\n",
       "MS Identity Platform               1051.516750  131.439594           8\n",
       "Diffusers from Hugging Face        1207.101056  120.710106          10\n",
       "Jane Eyre                          1344.880625   56.036693          24\n",
       "Email Auth and Security            1413.397985   64.245363          22\n",
       "sklearn                            1466.766796  122.230566          12\n",
       "OData                              1468.266494   56.471788          26\n",
       "IW Migration                       1475.521452   61.480061          24\n",
       "Python                             1503.132444  107.366603          14\n",
       "Diffusers Library                  1677.734561  129.056505          13\n",
       "DNS                                1906.580681   86.662758          22\n",
       "Azure Functions                    1910.110324   83.048275          23\n",
       "Azure Kubernetes Learning Path     1972.017060   70.429181          28\n",
       "Home Network Project               2273.775146   81.206255          28\n",
       "Search Engine Optimization         2482.169655   99.286786          25"
      ]
     },
     "execution_count": 54,
     "metadata": {},
     "output_type": "execute_result"
    }
   ],
   "source": [
    "stats = existing_cards.groupby('head').agg({'age': ['sum', 'mean'], 'head': 'count'}).sort_values(('age', 'sum'))\n",
    "stats.columns = stats.columns.to_flat_index()\n",
    "stats.columns = ['_'.join(col).strip() for col in stats.columns]\n",
    "stats.index.name = None\n",
    "stats"
   ]
  },
  {
   "cell_type": "markdown",
   "metadata": {},
   "source": [
    "# Histogram"
   ]
  },
  {
   "cell_type": "code",
   "execution_count": 55,
   "metadata": {},
   "outputs": [
    {
     "name": "stdout",
     "output_type": "stream",
     "text": [
      "28994.90\n"
     ]
    },
    {
     "data": {
      "text/plain": [
       "<Axes: >"
      ]
     },
     "execution_count": 55,
     "metadata": {},
     "output_type": "execute_result"
    },
    {
     "data": {
      "image/png": "[encoded data removed]",
      "text/plain": [
       "<Figure size 640x480 with 1 Axes>"
      ]
     },
     "metadata": {},
     "output_type": "display_data"
    }
   ],
   "source": [
    "print(f\"{existing_cards['age'].sum(0):.2f}\")\n",
    "existing_cards['age'].hist(bins=20)"
   ]
  },
  {
   "cell_type": "markdown",
   "metadata": {},
   "source": [
    "# Completely Random Shuffle"
   ]
  },
  {
   "cell_type": "code",
   "execution_count": 56,
   "metadata": {},
   "outputs": [],
   "source": [
    "# existing_cards = existing_cards.sample(frac=1)\n",
    "# remake_card_document(filename='certcards2.txt', existing_cards = existing_cards)"
   ]
  },
  {
   "cell_type": "markdown",
   "metadata": {},
   "source": [
    "# Age Sort"
   ]
  },
  {
   "cell_type": "code",
   "execution_count": 57,
   "metadata": {},
   "outputs": [],
   "source": [
    "# existing_cards = existing_cards.sort_values('age', ascending=False)\n",
    "# remake_card_document(filename='certcards2.txt', existing_cards=existing_cards)"
   ]
  },
  {
   "cell_type": "markdown",
   "metadata": {},
   "source": [
    "# Headers with fewest notes first"
   ]
  },
  {
   "cell_type": "code",
   "execution_count": 58,
   "metadata": {},
   "outputs": [
    {
     "name": "stdout",
     "output_type": "stream",
     "text": [
      "Cards found: 392\n"
     ]
    }
   ],
   "source": [
    "frequency = existing_cards['head'].value_counts(ascending=True)\n",
    "\n",
    "existing_cards = pd.merge(\n",
    "    left=existing_cards,\n",
    "    right=frequency.rename('frequency'),\n",
    "    left_on='head', right_index=True,\n",
    "    how='left'\n",
    ")\n",
    "existing_cards['oldest'] = existing_cards.groupby('head')['age'].transform('max')\n",
    "existing_cards['subject_highest_age'] = existing_cards['subject_highest_age'] * -1\n",
    "existing_cards['age'] = existing_cards['age'] * -1\n",
    "\n",
    "\n",
    "existing_cards.sort_values(['frequency', 'subject_highest_age', 'age'], ascending=True, inplace=True)\n",
    "\n",
    "remake_card_document(filename='certcards2.txt', existing_cards=existing_cards)"
   ]
  },
  {
   "cell_type": "markdown",
   "metadata": {},
   "source": [
    "# Focus on one header"
   ]
  },
  {
   "cell_type": "code",
   "execution_count": 59,
   "metadata": {},
   "outputs": [],
   "source": [
    "# heads = existing_cards['head'].value_counts()\n",
    "# heads = heads[heads > 5].index.tolist()\n",
    "# one_header = random.sample(heads, 1)[0]\n",
    "# existing_cards['pick_head'] = existing_cards['head'].apply(\n",
    "#     lambda h: 0 if h == one_header else 1 \n",
    "# )\n",
    "\n",
    "# remake_card_document(existing_cards=existing_cards.sort_values('pick_head'))"
   ]
  },
  {
   "cell_type": "markdown",
   "metadata": {},
   "source": [
    "## Header with oldest cards first"
   ]
  },
  {
   "cell_type": "code",
   "execution_count": 60,
   "metadata": {},
   "outputs": [],
   "source": [
    "# existing_cards['oldest'] = existing_cards.groupby('head')['age'].transform('max')\n",
    "# existing_cards.sort_values(['oldest', 'age'], ascending=False, inplace=True)\n",
    "# remake_card_document(existing_cards)"
   ]
  },
  {
   "cell_type": "markdown",
   "metadata": {},
   "source": [
    "## Headers with greatest mean card age first"
   ]
  },
  {
   "cell_type": "code",
   "execution_count": 61,
   "metadata": {},
   "outputs": [],
   "source": [
    "# existing_cards.sort_values(['subject_mean_age', 'age'], ascending=False, inplace=True)\n",
    "# remake_card_document(existing_cards)"
   ]
  },
  {
   "cell_type": "markdown",
   "metadata": {},
   "source": [
    "# Headers with greatest age sum first"
   ]
  },
  {
   "cell_type": "code",
   "execution_count": 62,
   "metadata": {},
   "outputs": [],
   "source": [
    "# existing_cards.sort_values(['subject_age_sum', 'age'], ascending=False, inplace=True)\n",
    "# remake_card_document(existing_cards)"
   ]
  },
  {
   "cell_type": "markdown",
   "metadata": {},
   "source": [
    "# N-fold shuffle\n",
    "\n",
    "## Random"
   ]
  },
  {
   "cell_type": "code",
   "execution_count": 63,
   "metadata": {},
   "outputs": [],
   "source": [
    "# n = 8\n",
    "# existing_cards['count'] = existing_cards.sort_values('age', ascending=False).groupby('head').cumcount()\n",
    "# existing_cards['n_fold'] = existing_cards['count'] // n\n",
    "# existing_cards['age'] *= -1\n",
    "# existing_cards.sort_values(['n_fold', 'head_random_roll', 'age'], inplace=True)\n",
    "# remake_card_document(existing_cards=existing_cards)\n",
    "# existing_cards.head(10)"
   ]
  },
  {
   "cell_type": "markdown",
   "metadata": {},
   "source": [
    "## Age Sum"
   ]
  },
  {
   "cell_type": "code",
   "execution_count": 64,
   "metadata": {},
   "outputs": [],
   "source": [
    "# n=8\n",
    "# existing_cards['count'] = existing_cards.sort_values('age', ascending=False).groupby('head').cumcount()\n",
    "# existing_cards['n_fold'] = existing_cards['count'] // n\n",
    "\n",
    "# existing_cards['subject_age_sum'] = existing_cards['subject_age_sum'] *-1\n",
    "# existing_cards['age'] = existing_cards['age'] *-1\n",
    "# existing_cards.sort_values(['n_fold', 'subject_age_sum', 'age'], inplace=True)\n",
    "# existing_cards.head(10)\n",
    "\n",
    "# remake_card_document(existing_cards=existing_cards)"
   ]
  },
  {
   "cell_type": "markdown",
   "metadata": {},
   "source": [
    "## Age max"
   ]
  },
  {
   "cell_type": "code",
   "execution_count": 65,
   "metadata": {},
   "outputs": [],
   "source": [
    "# n=6\n",
    "# existing_cards['count'] = existing_cards.sort_values('age', ascending=False).groupby('head').cumcount()\n",
    "# existing_cards['n_fold'] = existing_cards['count'] // n\n",
    "\n",
    "# existing_cards['subject_highest_age'] = existing_cards['subject_highest_age'] *-1\n",
    "# existing_cards['age'] = existing_cards['age'] *-1\n",
    "# existing_cards.sort_values(['n_fold', 'subject_highest_age', 'age'], inplace=True)\n",
    "# existing_cards.head(10)\n",
    "\n",
    "# remake_card_document(existing_cards=existing_cards)"
   ]
  },
  {
   "cell_type": "markdown",
   "metadata": {},
   "source": [
    "## Age Mean"
   ]
  },
  {
   "cell_type": "code",
   "execution_count": 66,
   "metadata": {},
   "outputs": [],
   "source": [
    "# n=3\n",
    "# existing_cards['count'] = existing_cards.sort_values('age', ascending=False).groupby('head').cumcount()\n",
    "# existing_cards['n_fold'] = existing_cards['count'] // n\n",
    "\n",
    "# existing_cards['subject_mean_age'] = existing_cards['subject_mean_age'] *-1\n",
    "# existing_cards['age'] = existing_cards['age'] *-1\n",
    "# existing_cards.sort_values(['n_fold', 'subject_mean_age', 'age'], inplace=True)\n",
    "# existing_cards.head(10)\n",
    "\n",
    "# remake_card_document(existing_cards=existing_cards)\n"
   ]
  },
  {
   "cell_type": "code",
   "execution_count": 67,
   "metadata": {},
   "outputs": [
    {
     "data": {
      "text/html": [
       "<div>\n",
       "<style scoped>\n",
       "    .dataframe tbody tr th:only-of-type {\n",
       "        vertical-align: middle;\n",
       "    }\n",
       "\n",
       "    .dataframe tbody tr th {\n",
       "        vertical-align: top;\n",
       "    }\n",
       "\n",
       "    .dataframe thead th {\n",
       "        text-align: right;\n",
       "    }\n",
       "</style>\n",
       "<table border=\"1\" class=\"dataframe\">\n",
       "  <thead>\n",
       "    <tr style=\"text-align: right;\">\n",
       "      <th></th>\n",
       "      <th>head</th>\n",
       "      <th>body</th>\n",
       "      <th>hash</th>\n",
       "      <th>age</th>\n",
       "      <th>subject_mean_age</th>\n",
       "      <th>subject_highest_age</th>\n",
       "      <th>subject_age_sum</th>\n",
       "      <th>head_random_roll</th>\n",
       "      <th>frequency</th>\n",
       "      <th>oldest</th>\n",
       "    </tr>\n",
       "  </thead>\n",
       "  <tbody>\n",
       "    <tr>\n",
       "      <th>151</th>\n",
       "      <td>Kali Linux</td>\n",
       "      <td>Hydra is a popular password-cracking tool in K...</td>\n",
       "      <td>5f02d3fa69b0322224237963ff54e626</td>\n",
       "      <td>-128.912348</td>\n",
       "      <td>120.581048</td>\n",
       "      <td>-128.912348</td>\n",
       "      <td>602.905240</td>\n",
       "      <td>0.673446</td>\n",
       "      <td>5</td>\n",
       "      <td>128.912348</td>\n",
       "    </tr>\n",
       "    <tr>\n",
       "      <th>152</th>\n",
       "      <td>Kali Linux</td>\n",
       "      <td>The rockyou.txt file is a renowned wordlist fr...</td>\n",
       "      <td>7b39135ec409cff0f6e32951462f6394</td>\n",
       "      <td>-123.526206</td>\n",
       "      <td>120.581048</td>\n",
       "      <td>-128.912348</td>\n",
       "      <td>602.905240</td>\n",
       "      <td>0.673446</td>\n",
       "      <td>5</td>\n",
       "      <td>128.912348</td>\n",
       "    </tr>\n",
       "    <tr>\n",
       "      <th>153</th>\n",
       "      <td>Kali Linux</td>\n",
       "      <td>The /etc/shadow file stores secure user accoun...</td>\n",
       "      <td>c44b8c6b2bbb1428b7f6ea0883682a38</td>\n",
       "      <td>-122.099461</td>\n",
       "      <td>120.581048</td>\n",
       "      <td>-128.912348</td>\n",
       "      <td>602.905240</td>\n",
       "      <td>0.673446</td>\n",
       "      <td>5</td>\n",
       "      <td>128.912348</td>\n",
       "    </tr>\n",
       "    <tr>\n",
       "      <th>154</th>\n",
       "      <td>Kali Linux</td>\n",
       "      <td>The chmod (change mode) command is used to cha...</td>\n",
       "      <td>0e3e0cffaa0ee81bd98675ed13fe1feb</td>\n",
       "      <td>-117.302547</td>\n",
       "      <td>120.581048</td>\n",
       "      <td>-128.912348</td>\n",
       "      <td>602.905240</td>\n",
       "      <td>0.673446</td>\n",
       "      <td>5</td>\n",
       "      <td>128.912348</td>\n",
       "    </tr>\n",
       "    <tr>\n",
       "      <th>155</th>\n",
       "      <td>Kali Linux</td>\n",
       "      <td>apt (Advanced Package Tool) is the package man...</td>\n",
       "      <td>42875da42f51438ac261700421f0b85b</td>\n",
       "      <td>-111.064677</td>\n",
       "      <td>120.581048</td>\n",
       "      <td>-128.912348</td>\n",
       "      <td>602.905240</td>\n",
       "      <td>0.673446</td>\n",
       "      <td>5</td>\n",
       "      <td>128.912348</td>\n",
       "    </tr>\n",
       "    <tr>\n",
       "      <th>165</th>\n",
       "      <td>CDK Global Ransomeware, June 2024</td>\n",
       "      <td>Many security solutions—such as vulnerability ...</td>\n",
       "      <td>d9cc117604fa602a283e0da67195bc38</td>\n",
       "      <td>-60.171582</td>\n",
       "      <td>53.656877</td>\n",
       "      <td>-60.171582</td>\n",
       "      <td>321.941264</td>\n",
       "      <td>0.502157</td>\n",
       "      <td>6</td>\n",
       "      <td>60.171582</td>\n",
       "    </tr>\n",
       "    <tr>\n",
       "      <th>164</th>\n",
       "      <td>CDK Global Ransomeware, June 2024</td>\n",
       "      <td>In the CDK Global ransomware attack, a single ...</td>\n",
       "      <td>d963ebcd504a5625f56ae4e1298cde40</td>\n",
       "      <td>-58.967022</td>\n",
       "      <td>53.656877</td>\n",
       "      <td>-60.171582</td>\n",
       "      <td>321.941264</td>\n",
       "      <td>0.502157</td>\n",
       "      <td>6</td>\n",
       "      <td>60.171582</td>\n",
       "    </tr>\n",
       "    <tr>\n",
       "      <th>166</th>\n",
       "      <td>CDK Global Ransomeware, June 2024</td>\n",
       "      <td>BlackSuit, a rebrand of Royal ransomware linke...</td>\n",
       "      <td>f3086836e2d5507ecd895052dd19cee6</td>\n",
       "      <td>-57.181166</td>\n",
       "      <td>53.656877</td>\n",
       "      <td>-60.171582</td>\n",
       "      <td>321.941264</td>\n",
       "      <td>0.502157</td>\n",
       "      <td>6</td>\n",
       "      <td>60.171582</td>\n",
       "    </tr>\n",
       "    <tr>\n",
       "      <th>167</th>\n",
       "      <td>CDK Global Ransomeware, June 2024</td>\n",
       "      <td>Although it’s U.S. government-hosted, the NVD ...</td>\n",
       "      <td>e532214269f2b7decf4d95b194f6b10b</td>\n",
       "      <td>-54.202028</td>\n",
       "      <td>53.656877</td>\n",
       "      <td>-60.171582</td>\n",
       "      <td>321.941264</td>\n",
       "      <td>0.502157</td>\n",
       "      <td>6</td>\n",
       "      <td>60.171582</td>\n",
       "    </tr>\n",
       "    <tr>\n",
       "      <th>168</th>\n",
       "      <td>CDK Global Ransomeware, June 2024</td>\n",
       "      <td>CVSS (Common Vulnerability Scoring System):\\n\\...</td>\n",
       "      <td>54756ed73c0933ffb77db5a34a95c560</td>\n",
       "      <td>-52.688397</td>\n",
       "      <td>53.656877</td>\n",
       "      <td>-60.171582</td>\n",
       "      <td>321.941264</td>\n",
       "      <td>0.502157</td>\n",
       "      <td>6</td>\n",
       "      <td>60.171582</td>\n",
       "    </tr>\n",
       "  </tbody>\n",
       "</table>\n",
       "</div>"
      ],
      "text/plain": [
       "                                  head  \\\n",
       "151                         Kali Linux   \n",
       "152                         Kali Linux   \n",
       "153                         Kali Linux   \n",
       "154                         Kali Linux   \n",
       "155                         Kali Linux   \n",
       "165  CDK Global Ransomeware, June 2024   \n",
       "164  CDK Global Ransomeware, June 2024   \n",
       "166  CDK Global Ransomeware, June 2024   \n",
       "167  CDK Global Ransomeware, June 2024   \n",
       "168  CDK Global Ransomeware, June 2024   \n",
       "\n",
       "                                                  body  \\\n",
       "151  Hydra is a popular password-cracking tool in K...   \n",
       "152  The rockyou.txt file is a renowned wordlist fr...   \n",
       "153  The /etc/shadow file stores secure user accoun...   \n",
       "154  The chmod (change mode) command is used to cha...   \n",
       "155  apt (Advanced Package Tool) is the package man...   \n",
       "165  Many security solutions—such as vulnerability ...   \n",
       "164  In the CDK Global ransomware attack, a single ...   \n",
       "166  BlackSuit, a rebrand of Royal ransomware linke...   \n",
       "167  Although it’s U.S. government-hosted, the NVD ...   \n",
       "168  CVSS (Common Vulnerability Scoring System):\\n\\...   \n",
       "\n",
       "                                 hash         age  subject_mean_age  \\\n",
       "151  5f02d3fa69b0322224237963ff54e626 -128.912348        120.581048   \n",
       "152  7b39135ec409cff0f6e32951462f6394 -123.526206        120.581048   \n",
       "153  c44b8c6b2bbb1428b7f6ea0883682a38 -122.099461        120.581048   \n",
       "154  0e3e0cffaa0ee81bd98675ed13fe1feb -117.302547        120.581048   \n",
       "155  42875da42f51438ac261700421f0b85b -111.064677        120.581048   \n",
       "165  d9cc117604fa602a283e0da67195bc38  -60.171582         53.656877   \n",
       "164  d963ebcd504a5625f56ae4e1298cde40  -58.967022         53.656877   \n",
       "166  f3086836e2d5507ecd895052dd19cee6  -57.181166         53.656877   \n",
       "167  e532214269f2b7decf4d95b194f6b10b  -54.202028         53.656877   \n",
       "168  54756ed73c0933ffb77db5a34a95c560  -52.688397         53.656877   \n",
       "\n",
       "     subject_highest_age  subject_age_sum  head_random_roll  frequency  \\\n",
       "151          -128.912348       602.905240          0.673446          5   \n",
       "152          -128.912348       602.905240          0.673446          5   \n",
       "153          -128.912348       602.905240          0.673446          5   \n",
       "154          -128.912348       602.905240          0.673446          5   \n",
       "155          -128.912348       602.905240          0.673446          5   \n",
       "165           -60.171582       321.941264          0.502157          6   \n",
       "164           -60.171582       321.941264          0.502157          6   \n",
       "166           -60.171582       321.941264          0.502157          6   \n",
       "167           -60.171582       321.941264          0.502157          6   \n",
       "168           -60.171582       321.941264          0.502157          6   \n",
       "\n",
       "         oldest  \n",
       "151  128.912348  \n",
       "152  128.912348  \n",
       "153  128.912348  \n",
       "154  128.912348  \n",
       "155  128.912348  \n",
       "165   60.171582  \n",
       "164   60.171582  \n",
       "166   60.171582  \n",
       "167   60.171582  \n",
       "168   60.171582  "
      ]
     },
     "execution_count": 67,
     "metadata": {},
     "output_type": "execute_result"
    }
   ],
   "source": [
    "existing_cards.head(10)"
   ]
  },
  {
   "cell_type": "code",
   "execution_count": 68,
   "metadata": {},
   "outputs": [
    {
     "data": {
      "text/plain": [
       "np.float64(-886.1154360673803)"
      ]
     },
     "execution_count": 68,
     "metadata": {},
     "output_type": "execute_result"
    }
   ],
   "source": [
    "existing_cards.head(10)['age'].sum()"
   ]
  }
 ],
 "metadata": {
  "kernelspec": {
   "display_name": "Python 3",
   "language": "python",
   "name": "python3"
  },
  "language_info": {
   "codemirror_mode": {
    "name": "ipython",
    "version": 3
   },
   "file_extension": ".py",
   "mimetype": "text/x-python",
   "name": "python",
   "nbconvert_exporter": "python",
   "pygments_lexer": "ipython3",
   "version": "3.11.9"
  }
 },
 "nbformat": 4,
 "nbformat_minor": 2
}
