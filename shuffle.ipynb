{
 "cells": [
  {
   "cell_type": "code",
   "execution_count": 19,
   "metadata": {},
   "outputs": [],
   "source": [
    "import re\n",
    "import random\n",
    "import pandas as pd\n",
    "import hashlib"
   ]
  },
  {
   "cell_type": "code",
   "execution_count": null,
   "metadata": {},
   "outputs": [],
   "source": [
    "with open('certcards2.txt', mode='r', encoding='utf8') as f:\n",
    "    all_cards = f.read()\n",
    "    \n",
    "card_split_pattern = r'\\n\\n\\n\\d+\\n'\n",
    "all_cards = re.split(card_split_pattern, all_cards)\n",
    "# Use re.DOTALL to allow . to match newline characters\n",
    "card_pattern = re.compile(r'(.+?)\\n([\\s\\S]+)', re.DOTALL)\n",
    "cards = [(match.group(1), match.group(2)) for cstring in all_cards if (match := re.search(card_pattern, cstring))]\n",
    "\n",
    "# removing the cards that have no content and trimming\n",
    "cards = [(subject, stripped_content) for subject, content in cards if len(stripped_content := content.strip()) > 5]\n",
    "\n",
    "def hash_string_md5(s):\n",
    "    \"\"\"\n",
    "    Hashes a string using MD5 and returns a truncated hash for efficiency.\n",
    "\n",
    "    Parameters:\n",
    "    - s (str): The input string to hash.\n",
    "\n",
    "    Returns:\n",
    "    - str: The truncated hexadecimal hash string.\n",
    "    \"\"\"\n",
    "    if pd.isnull(s):\n",
    "        return None  # Handle NaN values gracefully\n",
    "    return hashlib.md5(s.encode('utf-8')).hexdigest()\n",
    "\n",
    "\n",
    "def remake_card_document(existing_cards: pd.DataFrame, filename: str='certcards2.txt'):\n",
    "    with open(filename, mode='w', encoding='utf8') as f:\n",
    "        i = 1\n",
    "        for _, row in existing_cards.iterrows():\n",
    "            f.write('\\n'*6)\n",
    "            f.write(str(i)+'\\n')  \n",
    "            f.write(row['head']+'\\n')\n",
    "            f.write(row['body'])\n",
    "            i+=1\n",
    "    print(F\"Cards found: {existing_cards.shape[0]}\")\n",
    "\n",
    "\n",
    "existing_cards = pd.DataFrame(cards, columns=['head', 'body'])\n",
    "\n",
    "\n",
    "# existing_cards['age'] = [random.random() for _ in existing_cards.index]\n",
    "existing_cards['hash'] = existing_cards['body'].apply(hash_string_md5)\n",
    "existing_cards\n",
    "\n",
    "card_ages = pd.read_json('card_ages.json')\n",
    "card_ages = card_ages.drop_duplicates(subset=['hash'], keep='first')\n",
    "\n",
    "cards_to_age = pd.merge(\n",
    "    left=existing_cards,\n",
    "    right=card_ages[['hash', 'age']],\n",
    "    left_on='hash', right_on='hash',\n",
    "    how='left'\n",
    ")\n",
    "\n",
    "cards_to_age['head'] = cards_to_age['head'].str.strip()\n",
    "\n",
    "if cards_to_age['age'].sum() > 2e4: age_factor = .5\n",
    "else: age_factor = 2\n",
    "\n",
    "cards_to_age['age'] = cards_to_age['age'].fillna(0)\n",
    "cards_to_age['age'] = cards_to_age['age'] * age_factor\n",
    "cards_to_age['age'] = cards_to_age['age'] + [random.expovariate(.60) for _ in cards_to_age.index]\n",
    "# cards_to_age['age'] = cards_to_age['age'] * [random.expovariate(age_factor) for _ in cards_to_age.index]\n",
    "\n",
    "# Adding priority age growth to cards for upcoming certifications\n",
    "priority_headers = ['Azure Developer Associate']\n",
    "priority_cards_mask = cards_to_age['head'].isin(priority_headers)\n",
    "cards_to_age.loc[priority_cards_mask, 'age'] = cards_to_age.loc[priority_cards_mask, 'age'] * 1.1\n",
    "\n",
    "\n",
    "cards_to_age = cards_to_age.drop_duplicates(subset=['hash'], keep='first')\n",
    "\n",
    "cards_to_age['subject_mean_age'] = cards_to_age.groupby('head')['age'].transform('mean')\n",
    "cards_to_age['subject_highest_age'] = cards_to_age.groupby('head')['age'].transform('max')\n",
    "cards_to_age['subject_age_sum'] = cards_to_age.groupby('head')['age'].transform('sum')\n",
    "cards_to_age['head_random_roll'] = cards_to_age.groupby('head')['head'].transform(lambda x: random.random())\n",
    "\n",
    "\n",
    "cards_to_age.sort_values('hash')[['age', 'head', 'hash']].to_json('card_ages.json', indent=2)\n",
    "\n",
    "existing_cards = cards_to_age"
   ]
  },
  {
   "cell_type": "code",
   "execution_count": 21,
   "metadata": {},
   "outputs": [
    {
     "data": {
      "application/vnd.microsoft.datawrangler.viewer.v0+json": {
       "columns": [
        {
         "name": "index",
         "rawType": "object",
         "type": "string"
        },
        {
         "name": "age_sum",
         "rawType": "float64",
         "type": "float"
        },
        {
         "name": "age_mean",
         "rawType": "float64",
         "type": "float"
        },
        {
         "name": "age_max",
         "rawType": "float64",
         "type": "float"
        },
        {
         "name": "head_count",
         "rawType": "int64",
         "type": "integer"
        }
       ],
       "conversionMethod": "pd.DataFrame",
       "ref": "7504ed3b-56ad-4244-9d9a-22d5c324c019",
       "rows": [
        [
         "Azure AI Search",
         "541.7490427763294",
         "108.34980855526587",
         "305.670440016529",
         "5"
        ],
        [
         "Email Auth and Security",
         "2502.8649996355593",
         "208.57208330296328",
         "944.1576163004111",
         "12"
        ],
        [
         "Audit Report Tracker (Sharepoint List)",
         "4193.395571774972",
         "322.5688901365363",
         "1282.0486072669328",
         "13"
        ],
        [
         "IW Migration",
         "4297.119968503821",
         "306.93714060741576",
         "1022.5894570860157",
         "14"
        ],
        [
         "Todd Ideas",
         "4420.23107065135",
         "294.68207137675665",
         "1079.5971029608481",
         "15"
        ],
        [
         "Debugging in VS Code",
         "4433.1359070999815",
         "221.65679535499908",
         "723.935715531598",
         "20"
        ],
        [
         "Open Source/GitHub",
         "4487.847021980321",
         "280.4904388737701",
         "1209.0775703326744",
         "16"
        ],
        [
         "Terraform",
         "4734.268055901534",
         "189.37072223606137",
         "750.3254723931523",
         "25"
        ],
        [
         "Python",
         "4818.459191966574",
         "102.52040833971434",
         "332.6705268737005",
         "47"
        ],
        [
         "DNS",
         "4975.382303333898",
         "497.5382303333898",
         "1317.3964268309676",
         "10"
        ],
        [
         "Azure Functions + Visual Studio",
         "5301.618002007977",
         "378.6870001434269",
         "1252.4026314781547",
         "14"
        ],
        [
         "SharePoint",
         "5609.95165522507",
         "467.4959712687558",
         "2463.4403099494316",
         "12"
        ],
        [
         "WSL + Kali Linux",
         "6179.042635570739",
         "325.2127702931968",
         "1635.0474148546662",
         "19"
        ],
        [
         "Home Network Project",
         "6225.9928513107325",
         "622.5992851310732",
         "2834.039454228291",
         "10"
        ],
        [
         "FSLogix",
         "7968.330553589053",
         "332.01377306621055",
         "1057.134528298193",
         "24"
        ],
        [
         "Azure Functions + PP365",
         "9163.98981854556",
         "398.4343399367635",
         "1699.2299420668462",
         "23"
        ],
        [
         "Azure Developer Associate",
         "9906.234837158114",
         "157.24182281203355",
         "730.5874422834064",
         "63"
        ],
        [
         "Powershell Modules",
         "12261.024113302568",
         "250.22498190413404",
         "1815.1852805252072",
         "49"
        ],
        [
         "Vocab",
         "13583.7105299058",
         "215.6144528556476",
         "1868.0052833788698",
         "63"
        ],
        [
         "PnP Powershell",
         "14054.874737520591",
         "379.8614793924484",
         "1139.909533464724",
         "37"
        ],
        [
         "Logging in Python",
         "14101.337249368456",
         "293.77785936184284",
         "3525.6997011482727",
         "48"
        ],
        [
         "JavaScript Concepts",
         "15549.409925022312",
         "254.90835942659527",
         "1689.799952001881",
         "61"
        ]
       ],
       "shape": {
        "columns": 4,
        "rows": 22
       }
      },
      "text/html": [
       "<div>\n",
       "<style scoped>\n",
       "    .dataframe tbody tr th:only-of-type {\n",
       "        vertical-align: middle;\n",
       "    }\n",
       "\n",
       "    .dataframe tbody tr th {\n",
       "        vertical-align: top;\n",
       "    }\n",
       "\n",
       "    .dataframe thead th {\n",
       "        text-align: right;\n",
       "    }\n",
       "</style>\n",
       "<table border=\"1\" class=\"dataframe\">\n",
       "  <thead>\n",
       "    <tr style=\"text-align: right;\">\n",
       "      <th></th>\n",
       "      <th>age_sum</th>\n",
       "      <th>age_mean</th>\n",
       "      <th>age_max</th>\n",
       "      <th>head_count</th>\n",
       "    </tr>\n",
       "  </thead>\n",
       "  <tbody>\n",
       "    <tr>\n",
       "      <th>Azure AI Search</th>\n",
       "      <td>541.749043</td>\n",
       "      <td>108.349809</td>\n",
       "      <td>305.670440</td>\n",
       "      <td>5</td>\n",
       "    </tr>\n",
       "    <tr>\n",
       "      <th>Email Auth and Security</th>\n",
       "      <td>2502.865000</td>\n",
       "      <td>208.572083</td>\n",
       "      <td>944.157616</td>\n",
       "      <td>12</td>\n",
       "    </tr>\n",
       "    <tr>\n",
       "      <th>Audit Report Tracker (Sharepoint List)</th>\n",
       "      <td>4193.395572</td>\n",
       "      <td>322.568890</td>\n",
       "      <td>1282.048607</td>\n",
       "      <td>13</td>\n",
       "    </tr>\n",
       "    <tr>\n",
       "      <th>IW Migration</th>\n",
       "      <td>4297.119969</td>\n",
       "      <td>306.937141</td>\n",
       "      <td>1022.589457</td>\n",
       "      <td>14</td>\n",
       "    </tr>\n",
       "    <tr>\n",
       "      <th>Todd Ideas</th>\n",
       "      <td>4420.231071</td>\n",
       "      <td>294.682071</td>\n",
       "      <td>1079.597103</td>\n",
       "      <td>15</td>\n",
       "    </tr>\n",
       "    <tr>\n",
       "      <th>Debugging in VS Code</th>\n",
       "      <td>4433.135907</td>\n",
       "      <td>221.656795</td>\n",
       "      <td>723.935716</td>\n",
       "      <td>20</td>\n",
       "    </tr>\n",
       "    <tr>\n",
       "      <th>Open Source/GitHub</th>\n",
       "      <td>4487.847022</td>\n",
       "      <td>280.490439</td>\n",
       "      <td>1209.077570</td>\n",
       "      <td>16</td>\n",
       "    </tr>\n",
       "    <tr>\n",
       "      <th>Terraform</th>\n",
       "      <td>4734.268056</td>\n",
       "      <td>189.370722</td>\n",
       "      <td>750.325472</td>\n",
       "      <td>25</td>\n",
       "    </tr>\n",
       "    <tr>\n",
       "      <th>Python</th>\n",
       "      <td>4818.459192</td>\n",
       "      <td>102.520408</td>\n",
       "      <td>332.670527</td>\n",
       "      <td>47</td>\n",
       "    </tr>\n",
       "    <tr>\n",
       "      <th>DNS</th>\n",
       "      <td>4975.382303</td>\n",
       "      <td>497.538230</td>\n",
       "      <td>1317.396427</td>\n",
       "      <td>10</td>\n",
       "    </tr>\n",
       "    <tr>\n",
       "      <th>Azure Functions + Visual Studio</th>\n",
       "      <td>5301.618002</td>\n",
       "      <td>378.687000</td>\n",
       "      <td>1252.402631</td>\n",
       "      <td>14</td>\n",
       "    </tr>\n",
       "    <tr>\n",
       "      <th>SharePoint</th>\n",
       "      <td>5609.951655</td>\n",
       "      <td>467.495971</td>\n",
       "      <td>2463.440310</td>\n",
       "      <td>12</td>\n",
       "    </tr>\n",
       "    <tr>\n",
       "      <th>WSL + Kali Linux</th>\n",
       "      <td>6179.042636</td>\n",
       "      <td>325.212770</td>\n",
       "      <td>1635.047415</td>\n",
       "      <td>19</td>\n",
       "    </tr>\n",
       "    <tr>\n",
       "      <th>Home Network Project</th>\n",
       "      <td>6225.992851</td>\n",
       "      <td>622.599285</td>\n",
       "      <td>2834.039454</td>\n",
       "      <td>10</td>\n",
       "    </tr>\n",
       "    <tr>\n",
       "      <th>FSLogix</th>\n",
       "      <td>7968.330554</td>\n",
       "      <td>332.013773</td>\n",
       "      <td>1057.134528</td>\n",
       "      <td>24</td>\n",
       "    </tr>\n",
       "    <tr>\n",
       "      <th>Azure Functions + PP365</th>\n",
       "      <td>9163.989819</td>\n",
       "      <td>398.434340</td>\n",
       "      <td>1699.229942</td>\n",
       "      <td>23</td>\n",
       "    </tr>\n",
       "    <tr>\n",
       "      <th>Azure Developer Associate</th>\n",
       "      <td>9906.234837</td>\n",
       "      <td>157.241823</td>\n",
       "      <td>730.587442</td>\n",
       "      <td>63</td>\n",
       "    </tr>\n",
       "    <tr>\n",
       "      <th>Powershell Modules</th>\n",
       "      <td>12261.024113</td>\n",
       "      <td>250.224982</td>\n",
       "      <td>1815.185281</td>\n",
       "      <td>49</td>\n",
       "    </tr>\n",
       "    <tr>\n",
       "      <th>Vocab</th>\n",
       "      <td>13583.710530</td>\n",
       "      <td>215.614453</td>\n",
       "      <td>1868.005283</td>\n",
       "      <td>63</td>\n",
       "    </tr>\n",
       "    <tr>\n",
       "      <th>PnP Powershell</th>\n",
       "      <td>14054.874738</td>\n",
       "      <td>379.861479</td>\n",
       "      <td>1139.909533</td>\n",
       "      <td>37</td>\n",
       "    </tr>\n",
       "    <tr>\n",
       "      <th>Logging in Python</th>\n",
       "      <td>14101.337249</td>\n",
       "      <td>293.777859</td>\n",
       "      <td>3525.699701</td>\n",
       "      <td>48</td>\n",
       "    </tr>\n",
       "    <tr>\n",
       "      <th>JavaScript Concepts</th>\n",
       "      <td>15549.409925</td>\n",
       "      <td>254.908359</td>\n",
       "      <td>1689.799952</td>\n",
       "      <td>61</td>\n",
       "    </tr>\n",
       "  </tbody>\n",
       "</table>\n",
       "</div>"
      ],
      "text/plain": [
       "                                             age_sum    age_mean      age_max  \\\n",
       "Azure AI Search                           541.749043  108.349809   305.670440   \n",
       "Email Auth and Security                  2502.865000  208.572083   944.157616   \n",
       "Audit Report Tracker (Sharepoint List)   4193.395572  322.568890  1282.048607   \n",
       "IW Migration                             4297.119969  306.937141  1022.589457   \n",
       "Todd Ideas                               4420.231071  294.682071  1079.597103   \n",
       "Debugging in VS Code                     4433.135907  221.656795   723.935716   \n",
       "Open Source/GitHub                       4487.847022  280.490439  1209.077570   \n",
       "Terraform                                4734.268056  189.370722   750.325472   \n",
       "Python                                   4818.459192  102.520408   332.670527   \n",
       "DNS                                      4975.382303  497.538230  1317.396427   \n",
       "Azure Functions + Visual Studio          5301.618002  378.687000  1252.402631   \n",
       "SharePoint                               5609.951655  467.495971  2463.440310   \n",
       "WSL + Kali Linux                         6179.042636  325.212770  1635.047415   \n",
       "Home Network Project                     6225.992851  622.599285  2834.039454   \n",
       "FSLogix                                  7968.330554  332.013773  1057.134528   \n",
       "Azure Functions + PP365                  9163.989819  398.434340  1699.229942   \n",
       "Azure Developer Associate                9906.234837  157.241823   730.587442   \n",
       "Powershell Modules                      12261.024113  250.224982  1815.185281   \n",
       "Vocab                                   13583.710530  215.614453  1868.005283   \n",
       "PnP Powershell                          14054.874738  379.861479  1139.909533   \n",
       "Logging in Python                       14101.337249  293.777859  3525.699701   \n",
       "JavaScript Concepts                     15549.409925  254.908359  1689.799952   \n",
       "\n",
       "                                        head_count  \n",
       "Azure AI Search                                  5  \n",
       "Email Auth and Security                         12  \n",
       "Audit Report Tracker (Sharepoint List)          13  \n",
       "IW Migration                                    14  \n",
       "Todd Ideas                                      15  \n",
       "Debugging in VS Code                            20  \n",
       "Open Source/GitHub                              16  \n",
       "Terraform                                       25  \n",
       "Python                                          47  \n",
       "DNS                                             10  \n",
       "Azure Functions + Visual Studio                 14  \n",
       "SharePoint                                      12  \n",
       "WSL + Kali Linux                                19  \n",
       "Home Network Project                            10  \n",
       "FSLogix                                         24  \n",
       "Azure Functions + PP365                         23  \n",
       "Azure Developer Associate                       63  \n",
       "Powershell Modules                              49  \n",
       "Vocab                                           63  \n",
       "PnP Powershell                                  37  \n",
       "Logging in Python                               48  \n",
       "JavaScript Concepts                             61  "
      ]
     },
     "execution_count": 21,
     "metadata": {},
     "output_type": "execute_result"
    }
   ],
   "source": [
    "stats = existing_cards.groupby('head').agg({'age': ['sum', 'mean', 'max'], 'head': 'count'}).sort_values(('age', 'sum'))\n",
    "stats.columns = stats.columns.to_flat_index()\n",
    "stats.columns = ['_'.join(col).strip() for col in stats.columns]\n",
    "stats.index.name = None\n",
    "stats"
   ]
  },
  {
   "cell_type": "markdown",
   "metadata": {},
   "source": [
    "# Histogram"
   ]
  },
  {
   "cell_type": "code",
   "execution_count": 22,
   "metadata": {},
   "outputs": [
    {
     "name": "stdout",
     "output_type": "stream",
     "text": [
      "159309.97\n"
     ]
    },
    {
     "data": {
      "text/plain": [
       "<Axes: >"
      ]
     },
     "execution_count": 22,
     "metadata": {},
     "output_type": "execute_result"
    },
    {
     "data": {
      "image/png": "[encoded data removed]",
      "text/plain": [
       "<Figure size 640x480 with 1 Axes>"
      ]
     },
     "metadata": {},
     "output_type": "display_data"
    }
   ],
   "source": [
    "print(f\"{existing_cards['age'].sum(0):.2f}\")\n",
    "existing_cards['age'].hist(bins=20)"
   ]
  },
  {
   "cell_type": "markdown",
   "metadata": {},
   "source": [
    "# Completely Random Shuffle"
   ]
  },
  {
   "cell_type": "code",
   "execution_count": 23,
   "metadata": {},
   "outputs": [],
   "source": [
    "# existing_cards = existing_cards.sample(frac=1)\n",
    "# remake_card_document(filename='certcards2.txt', existing_cards = existing_cards)"
   ]
  },
  {
   "cell_type": "markdown",
   "metadata": {},
   "source": [
    "# Age Sort"
   ]
  },
  {
   "cell_type": "code",
   "execution_count": 24,
   "metadata": {},
   "outputs": [],
   "source": [
    "# existing_cards = existing_cards.sort_values('age', ascending=False)\n",
    "# remake_card_document(filename='certcards2.txt', existing_cards=existing_cards)\n",
    "# existing_cards.head(10)"
   ]
  },
  {
   "cell_type": "markdown",
   "metadata": {},
   "source": [
    "# Headers with fewest notes first"
   ]
  },
  {
   "cell_type": "code",
   "execution_count": 25,
   "metadata": {},
   "outputs": [],
   "source": [
    "# frequency = existing_cards['head'].value_counts(ascending=True)\n",
    "\n",
    "# existing_cards = pd.merge(\n",
    "#     left=existing_cards,\n",
    "#     right=frequency.rename('frequency'),\n",
    "#     left_on='head', right_index=True,\n",
    "#     how='left'\n",
    "# )\n",
    "# existing_cards['oldest'] = existing_cards.groupby('head')['age'].transform('max')\n",
    "# existing_cards['subject_highest_age'] = existing_cards['subject_highest_age'] * -1\n",
    "# existing_cards['age'] = existing_cards['age'] * -1\n",
    "\n",
    "\n",
    "# existing_cards.sort_values(['frequency', 'subject_highest_age', 'age'], ascending=True, inplace=True)\n",
    "\n",
    "# remake_card_document(filename='certcards2.txt', existing_cards=existing_cards)\n",
    "\n",
    "# existing_cards.head(10)"
   ]
  },
  {
   "cell_type": "markdown",
   "metadata": {},
   "source": [
    "# Focus on one header"
   ]
  },
  {
   "cell_type": "code",
   "execution_count": 26,
   "metadata": {},
   "outputs": [],
   "source": [
    "# heads = existing_cards['head'].value_counts()\n",
    "# heads = heads[heads > 5].index.tolist()\n",
    "# one_header = random.sample(heads, 1)[0]\n",
    "# existing_cards['pick_head'] = existing_cards['head'].apply(\n",
    "#     lambda h: 0 if h == one_header else 1 \n",
    "# )\n",
    "\n",
    "# remake_card_document(existing_cards=existing_cards.sort_values('pick_head'))"
   ]
  },
  {
   "cell_type": "markdown",
   "metadata": {},
   "source": [
    "## Header with oldest cards first"
   ]
  },
  {
   "cell_type": "code",
   "execution_count": 27,
   "metadata": {},
   "outputs": [],
   "source": [
    "# existing_cards['oldest'] = existing_cards.groupby('head')['age'].transform('max')\n",
    "# existing_cards.sort_values(['oldest', 'age'], ascending=False, inplace=True)\n",
    "# remake_card_document(existing_cards)"
   ]
  },
  {
   "cell_type": "markdown",
   "metadata": {},
   "source": [
    "## Headers with greatest mean card age first"
   ]
  },
  {
   "cell_type": "code",
   "execution_count": 28,
   "metadata": {},
   "outputs": [],
   "source": [
    "# existing_cards.sort_values(['subject_mean_age', 'age'], ascending=False, inplace=True)\n",
    "# remake_card_document(existing_cards)"
   ]
  },
  {
   "cell_type": "markdown",
   "metadata": {},
   "source": [
    "## Headers with greatest age sum first"
   ]
  },
  {
   "cell_type": "code",
   "execution_count": 29,
   "metadata": {},
   "outputs": [],
   "source": [
    "# existing_cards.sort_values(['subject_age_sum', 'age'], ascending=False, inplace=True)\n",
    "# remake_card_document(existing_cards)"
   ]
  },
  {
   "cell_type": "markdown",
   "metadata": {},
   "source": [
    "# N-fold shuffle\n"
   ]
  },
  {
   "cell_type": "markdown",
   "metadata": {},
   "source": [
    "## Age Sum"
   ]
  },
  {
   "cell_type": "code",
   "execution_count": 30,
   "metadata": {},
   "outputs": [],
   "source": [
    "# n=3\n",
    "# existing_cards['count'] = existing_cards.sort_values('age', ascending=False).groupby('head').cumcount()\n",
    "# existing_cards['n_fold'] = existing_cards['count'] % n\n",
    "\n",
    "# existing_cards['subject_age_sum'] = existing_cards['subject_age_sum'] *-1\n",
    "# existing_cards['age'] = existing_cards['age'] *-1\n",
    "# existing_cards.sort_values(['n_fold', 'subject_age_sum', 'age'], inplace=True)\n",
    "\n",
    "# remake_card_document(existing_cards=existing_cards)\n",
    "# existing_cards.head(10)\n"
   ]
  },
  {
   "cell_type": "markdown",
   "metadata": {},
   "source": [
    "## Age Mean"
   ]
  },
  {
   "cell_type": "code",
   "execution_count": 31,
   "metadata": {},
   "outputs": [],
   "source": [
    "# n=3\n",
    "# existing_cards['count'] = existing_cards.sort_values('age', ascending=False).groupby('head').cumcount()\n",
    "# existing_cards['n_fold'] = existing_cards['count'] % n\n",
    "\n",
    "# existing_cards['subject_mean_age'] = existing_cards['subject_mean_age'] *-1\n",
    "# existing_cards['age'] = existing_cards['age'] *-1\n",
    "# existing_cards.sort_values(['n_fold', 'subject_mean_age', 'age'], inplace=True)\n",
    "# remake_card_document(existing_cards=existing_cards)\n",
    "\n",
    "# existing_cards.head(10)\n",
    "\n"
   ]
  },
  {
   "cell_type": "markdown",
   "metadata": {},
   "source": [
    "## Age Max"
   ]
  },
  {
   "cell_type": "code",
   "execution_count": 32,
   "metadata": {},
   "outputs": [
    {
     "name": "stdout",
     "output_type": "stream",
     "text": [
      "Cards found: 600\n"
     ]
    },
    {
     "data": {
      "application/vnd.microsoft.datawrangler.viewer.v0+json": {
       "columns": [
        {
         "name": "index",
         "rawType": "int64",
         "type": "integer"
        },
        {
         "name": "head",
         "rawType": "object",
         "type": "string"
        },
        {
         "name": "body",
         "rawType": "object",
         "type": "string"
        },
        {
         "name": "hash",
         "rawType": "object",
         "type": "string"
        },
        {
         "name": "age",
         "rawType": "float64",
         "type": "float"
        },
        {
         "name": "subject_mean_age",
         "rawType": "float64",
         "type": "float"
        },
        {
         "name": "subject_highest_age",
         "rawType": "float64",
         "type": "float"
        },
        {
         "name": "subject_age_sum",
         "rawType": "float64",
         "type": "float"
        },
        {
         "name": "head_random_roll",
         "rawType": "float64",
         "type": "float"
        },
        {
         "name": "count",
         "rawType": "int64",
         "type": "integer"
        },
        {
         "name": "n_fold",
         "rawType": "int64",
         "type": "integer"
        }
       ],
       "conversionMethod": "pd.DataFrame",
       "ref": "f1925944-86b2-43f5-84b6-fee28d3ab7ad",
       "rows": [
        [
         "68",
         "Logging in Python",
         "Q: Which parameter in logging.basicConfig() from the logging module specifies the format of log messages?\n\nA: format='%(asctime)s - %(levelname)s - %(message)s'\nThis parameter sets the layout of each log message, including timestamp, severity level, and the message itself.",
         "17389fb76e3f239567cdcca3308d60b2",
         "-3525.6997011482727",
         "293.77785936184284",
         "-3525.6997011482727",
         "14101.337249368456",
         "0.34359693834678495",
         "0",
         "0"
        ],
        [
         "0",
         "Home Network Project",
         "Front: What is Docker Swarm and how does it differ from Kubernetes?\n\nBack: Docker Swarm is Docker’s native clustering and orchestration tool for managing a group of Docker engines (nodes) as a single virtual system. It simplifies deploying and managing containerized applications across multiple hosts. Kubernetes, on the other hand, is a more feature-rich and widely adopted container orchestration platform developed by Google, offering advanced features like automated scaling, rolling updates, and self-healing, but with a steeper learning curve.",
         "e9c23d755d0c0cd08842a9eeead3f3fd",
         "-2834.039454228291",
         "622.5992851310732",
         "-2834.039454228291",
         "6225.9928513107325",
         "0.08484828848096837",
         "0",
         "0"
        ],
        [
         "8",
         "SharePoint",
         "How can you retrieve the metadata of a specific file, including its properties, using the SharePoint REST API?\n\nGET /_api/web/GetFileByServerRelativeUrl('/Documents/Report.docx')?$expand=ListItemAllFields",
         "a9bef1ae5a68637d2ee73d72c0aa7e47",
         "-2463.4403099494316",
         "467.4959712687558",
         "-2463.4403099494316",
         "5609.95165522507",
         "0.9018240796042213",
         "0",
         "0"
        ],
        [
         "135",
         "Vocab",
         "Lost in a Good Book\nBlagged (a ride): British slang meaning to obtain a ride, often by persuading or deceiving someone.",
         "58fe170527f490cd6f8c7008a49b29f1",
         "-1868.0052833788698",
         "215.6144528556476",
         "-1868.0052833788698",
         "13583.7105299058",
         "0.5797167116384411",
         "0",
         "0"
        ],
        [
         "111",
         "Powershell Modules",
         "Force Parameter (-Force)\n\nDefinition: A parameter used with Import-Module to reload a module even if it's already imported.\nExplanation: Useful for ensuring the latest version of a module is loaded or to overwrite existing module imports.",
         "86d61295fcc1174c9a68f619bac74243",
         "-1815.1852805252072",
         "250.22498190413404",
         "-1815.1852805252072",
         "12261.024113302568",
         "0.9067480746681744",
         "0",
         "0"
        ],
        [
         "12",
         "Azure Functions + PP365",
         "Client Credentials Grant\nAn OAuth 2.0 authentication flow where an application uses its own credentials (client ID and secret) to obtain an access token. This grant type is used for server-to-server interactions, allowing applications like Azure Functions to authenticate with Azure AD without user involvement.",
         "1cade23aa0a9cc7dc8067853d5c07f73",
         "-1699.2299420668462",
         "398.4343399367635",
         "-1699.2299420668462",
         "9163.98981854556",
         "0.5874160704074045",
         "0",
         "0"
        ],
        [
         "90",
         "JavaScript Concepts",
         "Fetch API / Axios: Tools for making HTTP requests from the browser, allowing communication with backend services and APIs.",
         "4d9b07853e56c49e129ed710afd1c818",
         "-1689.799952001881",
         "254.90835942659527",
         "-1689.799952001881",
         "15549.409925022312",
         "0.3493701708385921",
         "0",
         "0"
        ],
        [
         "46",
         "WSL + Kali Linux",
         "wsl Command\nThe primary command-line interface for interacting with WSL instances. It is used to manage and run Linux distributions on Windows.\nCommon options:\nwsl --list or wsl -l: Lists installed distributions.\nwsl --set-version <distro> 2: Changes the version of a distribution to WSL 2.",
         "2ff6ec8cc28c0d5a7cf021f5b6848f5d",
         "-1635.0474148546662",
         "325.2127702931968",
         "-1635.0474148546662",
         "6179.042635570739",
         "0.34602759802297745",
         "0",
         "0"
        ],
        [
         "4",
         "DNS",
         "TSIG (Transaction SIGnature)\nA security mechanism used to authenticate DNS messages, ensuring that zone transfers and other DNS communications are from trusted sources. TSIG uses shared secret keys and cryptographic signatures to verify the authenticity of DNS transactions.",
         "9e28948c765ca4a73ba92603308b6f86",
         "-1317.3964268309676",
         "497.5382303333898",
         "-1317.3964268309676",
         "4975.382303333898",
         "0.6709531607071455",
         "0",
         "0"
        ],
        [
         "53",
         "Audit Report Tracker (Sharepoint List)",
         "Permissions (SharePoint Permissions)\nDefinition: Settings that control what users can and cannot do in SharePoint (e.g., View, Edit, Delete).\nContext: Permissions can be set at various levels such as the site, list, or item level.",
         "478e966342056d5e8f7733388947e310",
         "-1282.0486072669328",
         "322.5688901365363",
         "-1282.0486072669328",
         "4193.395571774972",
         "0.5765279454979629",
         "0",
         "0"
        ]
       ],
       "shape": {
        "columns": 10,
        "rows": 10
       }
      },
      "text/html": [
       "<div>\n",
       "<style scoped>\n",
       "    .dataframe tbody tr th:only-of-type {\n",
       "        vertical-align: middle;\n",
       "    }\n",
       "\n",
       "    .dataframe tbody tr th {\n",
       "        vertical-align: top;\n",
       "    }\n",
       "\n",
       "    .dataframe thead th {\n",
       "        text-align: right;\n",
       "    }\n",
       "</style>\n",
       "<table border=\"1\" class=\"dataframe\">\n",
       "  <thead>\n",
       "    <tr style=\"text-align: right;\">\n",
       "      <th></th>\n",
       "      <th>head</th>\n",
       "      <th>body</th>\n",
       "      <th>hash</th>\n",
       "      <th>age</th>\n",
       "      <th>subject_mean_age</th>\n",
       "      <th>subject_highest_age</th>\n",
       "      <th>subject_age_sum</th>\n",
       "      <th>head_random_roll</th>\n",
       "      <th>count</th>\n",
       "      <th>n_fold</th>\n",
       "    </tr>\n",
       "  </thead>\n",
       "  <tbody>\n",
       "    <tr>\n",
       "      <th>68</th>\n",
       "      <td>Logging in Python</td>\n",
       "      <td>Q: Which parameter in logging.basicConfig() fr...</td>\n",
       "      <td>17389fb76e3f239567cdcca3308d60b2</td>\n",
       "      <td>-3525.699701</td>\n",
       "      <td>293.777859</td>\n",
       "      <td>-3525.699701</td>\n",
       "      <td>14101.337249</td>\n",
       "      <td>0.343597</td>\n",
       "      <td>0</td>\n",
       "      <td>0</td>\n",
       "    </tr>\n",
       "    <tr>\n",
       "      <th>0</th>\n",
       "      <td>Home Network Project</td>\n",
       "      <td>Front: What is Docker Swarm and how does it di...</td>\n",
       "      <td>e9c23d755d0c0cd08842a9eeead3f3fd</td>\n",
       "      <td>-2834.039454</td>\n",
       "      <td>622.599285</td>\n",
       "      <td>-2834.039454</td>\n",
       "      <td>6225.992851</td>\n",
       "      <td>0.084848</td>\n",
       "      <td>0</td>\n",
       "      <td>0</td>\n",
       "    </tr>\n",
       "    <tr>\n",
       "      <th>8</th>\n",
       "      <td>SharePoint</td>\n",
       "      <td>How can you retrieve the metadata of a specifi...</td>\n",
       "      <td>a9bef1ae5a68637d2ee73d72c0aa7e47</td>\n",
       "      <td>-2463.440310</td>\n",
       "      <td>467.495971</td>\n",
       "      <td>-2463.440310</td>\n",
       "      <td>5609.951655</td>\n",
       "      <td>0.901824</td>\n",
       "      <td>0</td>\n",
       "      <td>0</td>\n",
       "    </tr>\n",
       "    <tr>\n",
       "      <th>135</th>\n",
       "      <td>Vocab</td>\n",
       "      <td>Lost in a Good Book\\nBlagged (a ride): British...</td>\n",
       "      <td>58fe170527f490cd6f8c7008a49b29f1</td>\n",
       "      <td>-1868.005283</td>\n",
       "      <td>215.614453</td>\n",
       "      <td>-1868.005283</td>\n",
       "      <td>13583.710530</td>\n",
       "      <td>0.579717</td>\n",
       "      <td>0</td>\n",
       "      <td>0</td>\n",
       "    </tr>\n",
       "    <tr>\n",
       "      <th>111</th>\n",
       "      <td>Powershell Modules</td>\n",
       "      <td>Force Parameter (-Force)\\n\\nDefinition: A para...</td>\n",
       "      <td>86d61295fcc1174c9a68f619bac74243</td>\n",
       "      <td>-1815.185281</td>\n",
       "      <td>250.224982</td>\n",
       "      <td>-1815.185281</td>\n",
       "      <td>12261.024113</td>\n",
       "      <td>0.906748</td>\n",
       "      <td>0</td>\n",
       "      <td>0</td>\n",
       "    </tr>\n",
       "    <tr>\n",
       "      <th>12</th>\n",
       "      <td>Azure Functions + PP365</td>\n",
       "      <td>Client Credentials Grant\\nAn OAuth 2.0 authent...</td>\n",
       "      <td>1cade23aa0a9cc7dc8067853d5c07f73</td>\n",
       "      <td>-1699.229942</td>\n",
       "      <td>398.434340</td>\n",
       "      <td>-1699.229942</td>\n",
       "      <td>9163.989819</td>\n",
       "      <td>0.587416</td>\n",
       "      <td>0</td>\n",
       "      <td>0</td>\n",
       "    </tr>\n",
       "    <tr>\n",
       "      <th>90</th>\n",
       "      <td>JavaScript Concepts</td>\n",
       "      <td>Fetch API / Axios: Tools for making HTTP reque...</td>\n",
       "      <td>4d9b07853e56c49e129ed710afd1c818</td>\n",
       "      <td>-1689.799952</td>\n",
       "      <td>254.908359</td>\n",
       "      <td>-1689.799952</td>\n",
       "      <td>15549.409925</td>\n",
       "      <td>0.349370</td>\n",
       "      <td>0</td>\n",
       "      <td>0</td>\n",
       "    </tr>\n",
       "    <tr>\n",
       "      <th>46</th>\n",
       "      <td>WSL + Kali Linux</td>\n",
       "      <td>wsl Command\\nThe primary command-line interfac...</td>\n",
       "      <td>2ff6ec8cc28c0d5a7cf021f5b6848f5d</td>\n",
       "      <td>-1635.047415</td>\n",
       "      <td>325.212770</td>\n",
       "      <td>-1635.047415</td>\n",
       "      <td>6179.042636</td>\n",
       "      <td>0.346028</td>\n",
       "      <td>0</td>\n",
       "      <td>0</td>\n",
       "    </tr>\n",
       "    <tr>\n",
       "      <th>4</th>\n",
       "      <td>DNS</td>\n",
       "      <td>TSIG (Transaction SIGnature)\\nA security mecha...</td>\n",
       "      <td>9e28948c765ca4a73ba92603308b6f86</td>\n",
       "      <td>-1317.396427</td>\n",
       "      <td>497.538230</td>\n",
       "      <td>-1317.396427</td>\n",
       "      <td>4975.382303</td>\n",
       "      <td>0.670953</td>\n",
       "      <td>0</td>\n",
       "      <td>0</td>\n",
       "    </tr>\n",
       "    <tr>\n",
       "      <th>53</th>\n",
       "      <td>Audit Report Tracker (Sharepoint List)</td>\n",
       "      <td>Permissions (SharePoint Permissions)\\nDefiniti...</td>\n",
       "      <td>478e966342056d5e8f7733388947e310</td>\n",
       "      <td>-1282.048607</td>\n",
       "      <td>322.568890</td>\n",
       "      <td>-1282.048607</td>\n",
       "      <td>4193.395572</td>\n",
       "      <td>0.576528</td>\n",
       "      <td>0</td>\n",
       "      <td>0</td>\n",
       "    </tr>\n",
       "  </tbody>\n",
       "</table>\n",
       "</div>"
      ],
      "text/plain": [
       "                                       head  \\\n",
       "68                        Logging in Python   \n",
       "0                      Home Network Project   \n",
       "8                                SharePoint   \n",
       "135                                   Vocab   \n",
       "111                      Powershell Modules   \n",
       "12                  Azure Functions + PP365   \n",
       "90                      JavaScript Concepts   \n",
       "46                         WSL + Kali Linux   \n",
       "4                                       DNS   \n",
       "53   Audit Report Tracker (Sharepoint List)   \n",
       "\n",
       "                                                  body  \\\n",
       "68   Q: Which parameter in logging.basicConfig() fr...   \n",
       "0    Front: What is Docker Swarm and how does it di...   \n",
       "8    How can you retrieve the metadata of a specifi...   \n",
       "135  Lost in a Good Book\\nBlagged (a ride): British...   \n",
       "111  Force Parameter (-Force)\\n\\nDefinition: A para...   \n",
       "12   Client Credentials Grant\\nAn OAuth 2.0 authent...   \n",
       "90   Fetch API / Axios: Tools for making HTTP reque...   \n",
       "46   wsl Command\\nThe primary command-line interfac...   \n",
       "4    TSIG (Transaction SIGnature)\\nA security mecha...   \n",
       "53   Permissions (SharePoint Permissions)\\nDefiniti...   \n",
       "\n",
       "                                 hash          age  subject_mean_age  \\\n",
       "68   17389fb76e3f239567cdcca3308d60b2 -3525.699701        293.777859   \n",
       "0    e9c23d755d0c0cd08842a9eeead3f3fd -2834.039454        622.599285   \n",
       "8    a9bef1ae5a68637d2ee73d72c0aa7e47 -2463.440310        467.495971   \n",
       "135  58fe170527f490cd6f8c7008a49b29f1 -1868.005283        215.614453   \n",
       "111  86d61295fcc1174c9a68f619bac74243 -1815.185281        250.224982   \n",
       "12   1cade23aa0a9cc7dc8067853d5c07f73 -1699.229942        398.434340   \n",
       "90   4d9b07853e56c49e129ed710afd1c818 -1689.799952        254.908359   \n",
       "46   2ff6ec8cc28c0d5a7cf021f5b6848f5d -1635.047415        325.212770   \n",
       "4    9e28948c765ca4a73ba92603308b6f86 -1317.396427        497.538230   \n",
       "53   478e966342056d5e8f7733388947e310 -1282.048607        322.568890   \n",
       "\n",
       "     subject_highest_age  subject_age_sum  head_random_roll  count  n_fold  \n",
       "68          -3525.699701     14101.337249          0.343597      0       0  \n",
       "0           -2834.039454      6225.992851          0.084848      0       0  \n",
       "8           -2463.440310      5609.951655          0.901824      0       0  \n",
       "135         -1868.005283     13583.710530          0.579717      0       0  \n",
       "111         -1815.185281     12261.024113          0.906748      0       0  \n",
       "12          -1699.229942      9163.989819          0.587416      0       0  \n",
       "90          -1689.799952     15549.409925          0.349370      0       0  \n",
       "46          -1635.047415      6179.042636          0.346028      0       0  \n",
       "4           -1317.396427      4975.382303          0.670953      0       0  \n",
       "53          -1282.048607      4193.395572          0.576528      0       0  "
      ]
     },
     "execution_count": 32,
     "metadata": {},
     "output_type": "execute_result"
    }
   ],
   "source": [
    "n = 1\n",
    "existing_cards['count'] = existing_cards.sort_values('age', ascending=False).groupby('head').cumcount()\n",
    "existing_cards['n_fold'] = existing_cards['count'] // n\n",
    "\n",
    "if existing_cards['age'].sum() > 0:\n",
    "    existing_cards['subject_highest_age'] = existing_cards['subject_highest_age'] *-1\n",
    "    existing_cards['age'] = existing_cards['age'] *-1\n",
    "existing_cards.sort_values(['n_fold', 'subject_highest_age', 'age'], inplace=True)\n",
    "\n",
    "remake_card_document(existing_cards=existing_cards)\n",
    "existing_cards.head(10)\n"
   ]
  },
  {
   "cell_type": "markdown",
   "metadata": {},
   "source": [
    "## Card Count"
   ]
  },
  {
   "cell_type": "code",
   "execution_count": 33,
   "metadata": {},
   "outputs": [],
   "source": [
    "# n=10\n",
    "# existing_cards['frequency']  = existing_cards.groupby('head').transform('count')['body']\n",
    "# existing_cards['count'] = existing_cards.sort_values('age', ascending=False).groupby('head').cumcount()\n",
    "# existing_cards['n_fold'] = existing_cards['count'] // n\n",
    "\n",
    "# if existing_cards['age'].sum() > 0:\n",
    "#     # existing_cards['neg_subject_highest_age'] = existing_cards['subject_highest_age'] *-1\n",
    "#     existing_cards['neg_age'] = existing_cards['age'] *-1\n",
    "# existing_cards.sort_values(['n_fold', 'frequency', 'neg_age'], inplace=True)\n",
    "# remake_card_document(existing_cards=existing_cards)\n",
    "\n",
    "# existing_cards.head(10)\n",
    "\n"
   ]
  },
  {
   "cell_type": "markdown",
   "metadata": {},
   "source": [
    "\n",
    "## Random"
   ]
  },
  {
   "cell_type": "code",
   "execution_count": 34,
   "metadata": {},
   "outputs": [],
   "source": [
    "# n = 3\n",
    "# existing_cards['count'] = existing_cards.sort_values('age', ascending=False).groupby('head').cumcount()\n",
    "# existing_cards['n_fold'] = existing_cards['count'] % n\n",
    "# existing_cards['age'] *= -1\n",
    "# existing_cards.sort_values(['n_fold', 'head_random_roll', 'age'], inplace=True)\n",
    "# remake_card_document(existing_cards=existing_cards)\n",
    "# existing_cards.head(10)"
   ]
  },
  {
   "cell_type": "code",
   "execution_count": 35,
   "metadata": {},
   "outputs": [
    {
     "data": {
      "text/plain": [
       "head                   Logging in PythonHome Network ProjectSharePoin...\n",
       "body                   Q: Which parameter in logging.basicConfig() fr...\n",
       "hash                   17389fb76e3f239567cdcca3308d60b2e9c23d755d0c0c...\n",
       "age                                                        -20129.892372\n",
       "subject_mean_age                                             3648.375141\n",
       "subject_highest_age                                        -20129.892372\n",
       "subject_age_sum                                             91843.236653\n",
       "head_random_roll                                                5.347029\n",
       "count                                                                  0\n",
       "n_fold                                                                 0\n",
       "dtype: object"
      ]
     },
     "execution_count": 35,
     "metadata": {},
     "output_type": "execute_result"
    }
   ],
   "source": [
    "existing_cards.head(10).sum()"
   ]
  },
  {
   "cell_type": "code",
   "execution_count": 36,
   "metadata": {},
   "outputs": [
    {
     "data": {
      "text/plain": [
       "-265.5166167369188"
      ]
     },
     "execution_count": 36,
     "metadata": {},
     "output_type": "execute_result"
    }
   ],
   "source": [
    "existing_cards['age'].mean()"
   ]
  }
 ],
 "metadata": {
  "kernelspec": {
   "display_name": "Python 3",
   "language": "python",
   "name": "python3"
  },
  "language_info": {
   "codemirror_mode": {
    "name": "ipython",
    "version": 3
   },
   "file_extension": ".py",
   "mimetype": "text/x-python",
   "name": "python",
   "nbconvert_exporter": "python",
   "pygments_lexer": "ipython3",
   "version": "3.10.10"
  }
 },
 "nbformat": 4,
 "nbformat_minor": 2
}
