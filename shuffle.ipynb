{
 "cells": [
  {
   "cell_type": "code",
   "execution_count": 52,
   "metadata": {},
   "outputs": [],
   "source": [
    "import re\n",
    "import random\n",
    "import pandas as pd\n",
    "import hashlib"
   ]
  },
  {
   "cell_type": "code",
   "execution_count": 53,
   "metadata": {},
   "outputs": [],
   "source": [
    "with open('certcards2.txt', mode='r', encoding='utf8') as f:\n",
    "    all_cards = f.read()\n",
    "    \n",
    "card_split_pattern = r'\\n\\n\\n\\d+\\n'\n",
    "all_cards = re.split(card_split_pattern, all_cards)\n",
    "# Use re.DOTALL to allow . to match newline characters\n",
    "card_pattern = re.compile(r'(.+?)\\n([\\s\\S]+)', re.DOTALL)\n",
    "cards = [(match.group(1), match.group(2)) for cstring in all_cards if (match := re.search(card_pattern, cstring))]\n",
    "\n",
    "# removing the cards that have no content and trimming\n",
    "cards = [(subject, stripped_content) for subject, content in cards if len(stripped_content := content.strip()) > 5]\n",
    "\n",
    "def hash_string_md5(s):\n",
    "    \"\"\"\n",
    "    Hashes a string using MD5 and returns a truncated hash for efficiency.\n",
    "\n",
    "    Parameters:\n",
    "    - s (str): The input string to hash.\n",
    "\n",
    "    Returns:\n",
    "    - str: The truncated hexadecimal hash string.\n",
    "    \"\"\"\n",
    "    if pd.isnull(s):\n",
    "        return None  # Handle NaN values gracefully\n",
    "    return hashlib.md5(s.encode('utf-8')).hexdigest()  # Truncate to first 12 characters\n",
    "\n",
    "\n",
    "def remake_card_document(existing_cards: pd.DataFrame, filename: str='certcards2.txt'):\n",
    "    with open(filename, mode='w', encoding='utf8') as f:\n",
    "        i = 1\n",
    "        for _, row in existing_cards.iterrows():\n",
    "            f.write('\\n'*6)\n",
    "            f.write(str(i)+'\\n')  \n",
    "            f.write(row['head']+'\\n')\n",
    "            f.write(row['body'])\n",
    "            i+=1\n",
    "    print(F\"Cards found: {existing_cards.shape[0]}\")\n",
    "\n",
    "\n",
    "existing_cards = pd.DataFrame(cards, columns=['head', 'body'])\n",
    "\n",
    "\n",
    "# existing_cards['age'] = [random.random() for _ in existing_cards.index]\n",
    "existing_cards['hash'] = existing_cards['body'].apply(hash_string_md5)\n",
    "existing_cards\n",
    "\n",
    "card_ages = pd.read_json('card_ages.json')\n",
    "card_ages = card_ages.drop_duplicates(subset=['hash'], keep='first')\n",
    "\n",
    "cards_to_age = pd.merge(\n",
    "    left=existing_cards,\n",
    "    right=card_ages[['hash', 'age']],\n",
    "    left_on='hash', right_on='hash',\n",
    "    how='left'\n",
    ")\n",
    "\n",
    "cards_to_age['head'] = cards_to_age['head'].str.strip()\n",
    "\n",
    "if cards_to_age['age'].sum() > 2e4: age_factor = 1\n",
    "else: age_factor = 1.00\n",
    "\n",
    "cards_to_age['age'] = cards_to_age['age'].fillna(0)\n",
    "cards_to_age['age'] = cards_to_age['age'] * age_factor\n",
    "cards_to_age['age'] = cards_to_age['age'] + [random.expovariate(.75) for _ in cards_to_age.index]\n",
    "\n",
    "cards_to_age = cards_to_age.drop_duplicates(subset=['hash'], keep='first')\n",
    "\n",
    "cards_to_age['subject_mean_age'] = cards_to_age.groupby('head')['age'].transform('mean')\n",
    "cards_to_age['subject_highest_age'] = cards_to_age.groupby('head')['age'].transform('max')\n",
    "cards_to_age['subject_age_sum'] = cards_to_age.groupby('head')['age'].transform('sum')\n",
    "cards_to_age['head_random_roll'] = cards_to_age.groupby('head')['head'].transform(lambda x: random.random())\n",
    "\n",
    "\n",
    "cards_to_age.sort_values('age')[['age', 'head', 'hash']].to_json('card_ages.json', indent=2)\n",
    "\n",
    "existing_cards = cards_to_age"
   ]
  },
  {
   "cell_type": "code",
   "execution_count": 54,
   "metadata": {},
   "outputs": [
    {
     "data": {
      "text/html": [
       "<div>\n",
       "<style scoped>\n",
       "    .dataframe tbody tr th:only-of-type {\n",
       "        vertical-align: middle;\n",
       "    }\n",
       "\n",
       "    .dataframe tbody tr th {\n",
       "        vertical-align: top;\n",
       "    }\n",
       "\n",
       "    .dataframe thead th {\n",
       "        text-align: right;\n",
       "    }\n",
       "</style>\n",
       "<table border=\"1\" class=\"dataframe\">\n",
       "  <thead>\n",
       "    <tr style=\"text-align: right;\">\n",
       "      <th></th>\n",
       "      <th>age_sum</th>\n",
       "      <th>age_mean</th>\n",
       "      <th>head_count</th>\n",
       "    </tr>\n",
       "  </thead>\n",
       "  <tbody>\n",
       "    <tr>\n",
       "      <th>Taxes</th>\n",
       "      <td>105.075540</td>\n",
       "      <td>10.507554</td>\n",
       "      <td>10</td>\n",
       "    </tr>\n",
       "    <tr>\n",
       "      <th>Conditional Access</th>\n",
       "      <td>110.600791</td>\n",
       "      <td>110.600791</td>\n",
       "      <td>1</td>\n",
       "    </tr>\n",
       "    <tr>\n",
       "      <th>CDK Global Ransomeware, June 2024</th>\n",
       "      <td>255.756900</td>\n",
       "      <td>42.626150</td>\n",
       "      <td>6</td>\n",
       "    </tr>\n",
       "    <tr>\n",
       "      <th>Finance Junk</th>\n",
       "      <td>354.884678</td>\n",
       "      <td>44.360585</td>\n",
       "      <td>8</td>\n",
       "    </tr>\n",
       "    <tr>\n",
       "      <th>Powershell</th>\n",
       "      <td>439.615232</td>\n",
       "      <td>20.934059</td>\n",
       "      <td>21</td>\n",
       "    </tr>\n",
       "    <tr>\n",
       "      <th>Kali Linux</th>\n",
       "      <td>541.569273</td>\n",
       "      <td>108.313855</td>\n",
       "      <td>5</td>\n",
       "    </tr>\n",
       "    <tr>\n",
       "      <th>Azure AI Foundry</th>\n",
       "      <td>676.537290</td>\n",
       "      <td>45.102486</td>\n",
       "      <td>15</td>\n",
       "    </tr>\n",
       "    <tr>\n",
       "      <th>Dataverse Plugins</th>\n",
       "      <td>800.577369</td>\n",
       "      <td>114.368196</td>\n",
       "      <td>7</td>\n",
       "    </tr>\n",
       "    <tr>\n",
       "      <th>AKS</th>\n",
       "      <td>820.712084</td>\n",
       "      <td>102.589011</td>\n",
       "      <td>8</td>\n",
       "    </tr>\n",
       "    <tr>\n",
       "      <th>pandas</th>\n",
       "      <td>836.060744</td>\n",
       "      <td>104.507593</td>\n",
       "      <td>8</td>\n",
       "    </tr>\n",
       "    <tr>\n",
       "      <th>MS Identity Platform</th>\n",
       "      <td>973.070431</td>\n",
       "      <td>121.633804</td>\n",
       "      <td>8</td>\n",
       "    </tr>\n",
       "    <tr>\n",
       "      <th>Jane Eyre</th>\n",
       "      <td>1098.310419</td>\n",
       "      <td>45.762934</td>\n",
       "      <td>24</td>\n",
       "    </tr>\n",
       "    <tr>\n",
       "      <th>Diffusers from Hugging Face</th>\n",
       "      <td>1115.729747</td>\n",
       "      <td>111.572975</td>\n",
       "      <td>10</td>\n",
       "    </tr>\n",
       "    <tr>\n",
       "      <th>Email Auth and Security</th>\n",
       "      <td>1177.833447</td>\n",
       "      <td>53.537884</td>\n",
       "      <td>22</td>\n",
       "    </tr>\n",
       "    <tr>\n",
       "      <th>OData</th>\n",
       "      <td>1197.909862</td>\n",
       "      <td>46.073456</td>\n",
       "      <td>26</td>\n",
       "    </tr>\n",
       "    <tr>\n",
       "      <th>IW Migration</th>\n",
       "      <td>1243.913567</td>\n",
       "      <td>51.829732</td>\n",
       "      <td>24</td>\n",
       "    </tr>\n",
       "    <tr>\n",
       "      <th>sklearn</th>\n",
       "      <td>1337.695029</td>\n",
       "      <td>111.474586</td>\n",
       "      <td>12</td>\n",
       "    </tr>\n",
       "    <tr>\n",
       "      <th>PP365</th>\n",
       "      <td>1505.889128</td>\n",
       "      <td>88.581713</td>\n",
       "      <td>17</td>\n",
       "    </tr>\n",
       "    <tr>\n",
       "      <th>Diffusers Library</th>\n",
       "      <td>1548.574990</td>\n",
       "      <td>119.121153</td>\n",
       "      <td>13</td>\n",
       "    </tr>\n",
       "    <tr>\n",
       "      <th>Azure Functions</th>\n",
       "      <td>1659.228401</td>\n",
       "      <td>72.140365</td>\n",
       "      <td>23</td>\n",
       "    </tr>\n",
       "    <tr>\n",
       "      <th>DNS</th>\n",
       "      <td>1672.198580</td>\n",
       "      <td>76.009026</td>\n",
       "      <td>22</td>\n",
       "    </tr>\n",
       "    <tr>\n",
       "      <th>Home Network Project</th>\n",
       "      <td>1955.697659</td>\n",
       "      <td>69.846345</td>\n",
       "      <td>28</td>\n",
       "    </tr>\n",
       "    <tr>\n",
       "      <th>Python</th>\n",
       "      <td>2153.150208</td>\n",
       "      <td>107.657510</td>\n",
       "      <td>20</td>\n",
       "    </tr>\n",
       "    <tr>\n",
       "      <th>Azure Kubernetes Learning Path</th>\n",
       "      <td>2176.635308</td>\n",
       "      <td>65.958646</td>\n",
       "      <td>33</td>\n",
       "    </tr>\n",
       "    <tr>\n",
       "      <th>Search Engine Optimization</th>\n",
       "      <td>2203.221095</td>\n",
       "      <td>88.128844</td>\n",
       "      <td>25</td>\n",
       "    </tr>\n",
       "  </tbody>\n",
       "</table>\n",
       "</div>"
      ],
      "text/plain": [
       "                                       age_sum    age_mean  head_count\n",
       "Taxes                               105.075540   10.507554          10\n",
       "Conditional Access                  110.600791  110.600791           1\n",
       "CDK Global Ransomeware, June 2024   255.756900   42.626150           6\n",
       "Finance Junk                        354.884678   44.360585           8\n",
       "Powershell                          439.615232   20.934059          21\n",
       "Kali Linux                          541.569273  108.313855           5\n",
       "Azure AI Foundry                    676.537290   45.102486          15\n",
       "Dataverse Plugins                   800.577369  114.368196           7\n",
       "AKS                                 820.712084  102.589011           8\n",
       "pandas                              836.060744  104.507593           8\n",
       "MS Identity Platform                973.070431  121.633804           8\n",
       "Jane Eyre                          1098.310419   45.762934          24\n",
       "Diffusers from Hugging Face        1115.729747  111.572975          10\n",
       "Email Auth and Security            1177.833447   53.537884          22\n",
       "OData                              1197.909862   46.073456          26\n",
       "IW Migration                       1243.913567   51.829732          24\n",
       "sklearn                            1337.695029  111.474586          12\n",
       "PP365                              1505.889128   88.581713          17\n",
       "Diffusers Library                  1548.574990  119.121153          13\n",
       "Azure Functions                    1659.228401   72.140365          23\n",
       "DNS                                1672.198580   76.009026          22\n",
       "Home Network Project               1955.697659   69.846345          28\n",
       "Python                             2153.150208  107.657510          20\n",
       "Azure Kubernetes Learning Path     2176.635308   65.958646          33\n",
       "Search Engine Optimization         2203.221095   88.128844          25"
      ]
     },
     "execution_count": 54,
     "metadata": {},
     "output_type": "execute_result"
    }
   ],
   "source": [
    "stats = existing_cards.groupby('head').agg({'age': ['sum', 'mean'], 'head': 'count'}).sort_values(('age', 'sum'))\n",
    "stats.columns = stats.columns.to_flat_index()\n",
    "stats.columns = ['_'.join(col).strip() for col in stats.columns]\n",
    "stats.index.name = None\n",
    "stats"
   ]
  },
  {
   "cell_type": "markdown",
   "metadata": {},
   "source": [
    "# Histogram"
   ]
  },
  {
   "cell_type": "code",
   "execution_count": 55,
   "metadata": {},
   "outputs": [
    {
     "name": "stdout",
     "output_type": "stream",
     "text": [
      "27960.45\n"
     ]
    },
    {
     "data": {
      "text/plain": [
       "<Axes: >"
      ]
     },
     "execution_count": 55,
     "metadata": {},
     "output_type": "execute_result"
    },
    {
     "data": {
      "image/png": "[encoded data removed]",
      "text/plain": [
       "<Figure size 640x480 with 1 Axes>"
      ]
     },
     "metadata": {},
     "output_type": "display_data"
    }
   ],
   "source": [
    "print(f\"{existing_cards['age'].sum(0):.2f}\")\n",
    "existing_cards['age'].hist(bins=20)"
   ]
  },
  {
   "cell_type": "markdown",
   "metadata": {},
   "source": [
    "# Completely Random Shuffle"
   ]
  },
  {
   "cell_type": "code",
   "execution_count": 56,
   "metadata": {},
   "outputs": [],
   "source": [
    "# existing_cards = existing_cards.sample(frac=1)\n",
    "# remake_card_document(filename='certcards2.txt', existing_cards = existing_cards)"
   ]
  },
  {
   "cell_type": "markdown",
   "metadata": {},
   "source": [
    "# Age Sort"
   ]
  },
  {
   "cell_type": "code",
   "execution_count": 57,
   "metadata": {},
   "outputs": [],
   "source": [
    "# existing_cards = existing_cards.sort_values('age', ascending=False)\n",
    "# remake_card_document(filename='certcards2.txt', existing_cards=existing_cards)"
   ]
  },
  {
   "cell_type": "markdown",
   "metadata": {},
   "source": [
    "# Headers with fewest notes first"
   ]
  },
  {
   "cell_type": "code",
   "execution_count": 58,
   "metadata": {},
   "outputs": [],
   "source": [
    "# frequency = existing_cards['head'].value_counts(ascending=True)\n",
    "\n",
    "# existing_cards = pd.merge(\n",
    "#     left=existing_cards,\n",
    "#     right=frequency.rename('frequency'),\n",
    "#     left_on='head', right_index=True,\n",
    "#     how='left'\n",
    "# )\n",
    "# existing_cards['oldest'] = existing_cards.groupby('head')['age'].transform('max')\n",
    "# existing_cards['subject_highest_age'] = existing_cards['subject_highest_age'] * -1\n",
    "# existing_cards['age'] = existing_cards['age'] * -1\n",
    "\n",
    "\n",
    "# existing_cards.sort_values(['frequency', 'subject_highest_age', 'age'], ascending=True, inplace=True)\n",
    "\n",
    "# remake_card_document(filename='certcards2.txt', existing_cards=existing_cards)"
   ]
  },
  {
   "cell_type": "markdown",
   "metadata": {},
   "source": [
    "# Focus on one header"
   ]
  },
  {
   "cell_type": "code",
   "execution_count": 59,
   "metadata": {},
   "outputs": [],
   "source": [
    "# heads = existing_cards['head'].value_counts()\n",
    "# heads = heads[heads > 5].index.tolist()\n",
    "# one_header = random.sample(heads, 1)[0]\n",
    "# existing_cards['pick_head'] = existing_cards['head'].apply(\n",
    "#     lambda h: 0 if h == one_header else 1 \n",
    "# )\n",
    "\n",
    "# remake_card_document(existing_cards=existing_cards.sort_values('pick_head'))"
   ]
  },
  {
   "cell_type": "markdown",
   "metadata": {},
   "source": [
    "## Header with oldest cards first"
   ]
  },
  {
   "cell_type": "code",
   "execution_count": 60,
   "metadata": {},
   "outputs": [],
   "source": [
    "# existing_cards['oldest'] = existing_cards.groupby('head')['age'].transform('max')\n",
    "# existing_cards.sort_values(['oldest', 'age'], ascending=False, inplace=True)\n",
    "# remake_card_document(existing_cards)"
   ]
  },
  {
   "cell_type": "markdown",
   "metadata": {},
   "source": [
    "## Headers with greatest mean card age first"
   ]
  },
  {
   "cell_type": "code",
   "execution_count": 61,
   "metadata": {},
   "outputs": [],
   "source": [
    "# existing_cards.sort_values(['subject_mean_age', 'age'], ascending=False, inplace=True)\n",
    "# remake_card_document(existing_cards)"
   ]
  },
  {
   "cell_type": "markdown",
   "metadata": {},
   "source": [
    "# Headers with greatest age sum first"
   ]
  },
  {
   "cell_type": "code",
   "execution_count": 62,
   "metadata": {},
   "outputs": [],
   "source": [
    "# existing_cards.sort_values(['subject_age_sum', 'age'], ascending=False, inplace=True)\n",
    "# remake_card_document(existing_cards)"
   ]
  },
  {
   "cell_type": "markdown",
   "metadata": {},
   "source": [
    "# N-fold shuffle\n",
    "\n",
    "## Random"
   ]
  },
  {
   "cell_type": "code",
   "execution_count": 63,
   "metadata": {},
   "outputs": [],
   "source": [
    "# n = 5\n",
    "# existing_cards['count'] = existing_cards.sort_values('age', ascending=False).groupby('head').cumcount()\n",
    "# existing_cards['n_fold'] = existing_cards['count'] // n\n",
    "# existing_cards['age'] *= -1\n",
    "# existing_cards.sort_values(['n_fold', 'head_random_roll', 'age'], inplace=True)\n",
    "# remake_card_document(existing_cards=existing_cards)\n",
    "# existing_cards.head(10)"
   ]
  },
  {
   "cell_type": "markdown",
   "metadata": {},
   "source": [
    "## Age Sum"
   ]
  },
  {
   "cell_type": "code",
   "execution_count": 64,
   "metadata": {},
   "outputs": [],
   "source": [
    "# n=8\n",
    "# existing_cards['count'] = existing_cards.sort_values('age', ascending=False).groupby('head').cumcount()\n",
    "# existing_cards['n_fold'] = existing_cards['count'] // n\n",
    "\n",
    "# existing_cards['subject_age_sum'] = existing_cards['subject_age_sum'] *-1\n",
    "# existing_cards['age'] = existing_cards['age'] *-1\n",
    "# existing_cards.sort_values(['n_fold', 'subject_age_sum', 'age'], inplace=True)\n",
    "# existing_cards.head(10)\n",
    "\n",
    "# remake_card_document(existing_cards=existing_cards)"
   ]
  },
  {
   "cell_type": "markdown",
   "metadata": {},
   "source": [
    "## Age max"
   ]
  },
  {
   "cell_type": "code",
   "execution_count": 65,
   "metadata": {},
   "outputs": [
    {
     "name": "stdout",
     "output_type": "stream",
     "text": [
      "Cards found: 396\n"
     ]
    }
   ],
   "source": [
    "n=4\n",
    "existing_cards['count'] = existing_cards.sort_values('age', ascending=False).groupby('head').cumcount()\n",
    "existing_cards['n_fold'] = existing_cards['count'] // n\n",
    "\n",
    "existing_cards['subject_highest_age'] = existing_cards['subject_highest_age'] *-1\n",
    "existing_cards['age'] = existing_cards['age'] *-1\n",
    "existing_cards.sort_values(['n_fold', 'subject_highest_age', 'age'], inplace=True)\n",
    "existing_cards.head(10)\n",
    "\n",
    "remake_card_document(existing_cards=existing_cards)"
   ]
  },
  {
   "cell_type": "markdown",
   "metadata": {},
   "source": [
    "## Age Mean"
   ]
  },
  {
   "cell_type": "code",
   "execution_count": 66,
   "metadata": {},
   "outputs": [],
   "source": [
    "# n=3\n",
    "# existing_cards['count'] = existing_cards.sort_values('age', ascending=False).groupby('head').cumcount()\n",
    "# existing_cards['n_fold'] = existing_cards['count'] // n\n",
    "\n",
    "# existing_cards['subject_mean_age'] = existing_cards['subject_mean_age'] *-1\n",
    "# existing_cards['age'] = existing_cards['age'] *-1\n",
    "# existing_cards.sort_values(['n_fold', 'subject_mean_age', 'age'], inplace=True)\n",
    "# existing_cards.head(10)\n",
    "\n",
    "# remake_card_document(existing_cards=existing_cards)\n"
   ]
  },
  {
   "cell_type": "code",
   "execution_count": 67,
   "metadata": {},
   "outputs": [
    {
     "data": {
      "text/html": [
       "<div>\n",
       "<style scoped>\n",
       "    .dataframe tbody tr th:only-of-type {\n",
       "        vertical-align: middle;\n",
       "    }\n",
       "\n",
       "    .dataframe tbody tr th {\n",
       "        vertical-align: top;\n",
       "    }\n",
       "\n",
       "    .dataframe thead th {\n",
       "        text-align: right;\n",
       "    }\n",
       "</style>\n",
       "<table border=\"1\" class=\"dataframe\">\n",
       "  <thead>\n",
       "    <tr style=\"text-align: right;\">\n",
       "      <th></th>\n",
       "      <th>head</th>\n",
       "      <th>body</th>\n",
       "      <th>hash</th>\n",
       "      <th>age</th>\n",
       "      <th>subject_mean_age</th>\n",
       "      <th>subject_highest_age</th>\n",
       "      <th>subject_age_sum</th>\n",
       "      <th>head_random_roll</th>\n",
       "      <th>count</th>\n",
       "      <th>n_fold</th>\n",
       "    </tr>\n",
       "  </thead>\n",
       "  <tbody>\n",
       "    <tr>\n",
       "      <th>111</th>\n",
       "      <td>PP365</td>\n",
       "      <td>Syntax for using the web api to get specific s...</td>\n",
       "      <td>37d2329f16107277a0416409bdbcae5a</td>\n",
       "      <td>-140.656884</td>\n",
       "      <td>88.581713</td>\n",
       "      <td>-140.656884</td>\n",
       "      <td>1505.889128</td>\n",
       "      <td>0.067914</td>\n",
       "      <td>0</td>\n",
       "      <td>0</td>\n",
       "    </tr>\n",
       "    <tr>\n",
       "      <th>112</th>\n",
       "      <td>PP365</td>\n",
       "      <td>Background operations (optional)\\tSelect to di...</td>\n",
       "      <td>3b26d9446d82006da773fec8b8c68920</td>\n",
       "      <td>-139.773201</td>\n",
       "      <td>88.581713</td>\n",
       "      <td>-140.656884</td>\n",
       "      <td>1505.889128</td>\n",
       "      <td>0.067914</td>\n",
       "      <td>1</td>\n",
       "      <td>0</td>\n",
       "    </tr>\n",
       "    <tr>\n",
       "      <th>114</th>\n",
       "      <td>PP365</td>\n",
       "      <td>Workflow in the context of Microsoft Dataverse...</td>\n",
       "      <td>232977ce805e82b6bdf3ae0f62cbdc4d</td>\n",
       "      <td>-135.070146</td>\n",
       "      <td>88.581713</td>\n",
       "      <td>-140.656884</td>\n",
       "      <td>1505.889128</td>\n",
       "      <td>0.067914</td>\n",
       "      <td>2</td>\n",
       "      <td>0</td>\n",
       "    </tr>\n",
       "    <tr>\n",
       "      <th>113</th>\n",
       "      <td>PP365</td>\n",
       "      <td>To support offline use, Power Apps allows data...</td>\n",
       "      <td>9d719133b73056252ab4fc277fb37135</td>\n",
       "      <td>-133.738358</td>\n",
       "      <td>88.581713</td>\n",
       "      <td>-140.656884</td>\n",
       "      <td>1505.889128</td>\n",
       "      <td>0.067914</td>\n",
       "      <td>3</td>\n",
       "      <td>0</td>\n",
       "    </tr>\n",
       "    <tr>\n",
       "      <th>19</th>\n",
       "      <td>pandas</td>\n",
       "      <td>Custom Separators and Maximum Depth in json_no...</td>\n",
       "      <td>b7425cd6aefb5d15cc107d16e7be60c0</td>\n",
       "      <td>-140.390577</td>\n",
       "      <td>104.507593</td>\n",
       "      <td>-140.390577</td>\n",
       "      <td>836.060744</td>\n",
       "      <td>0.494886</td>\n",
       "      <td>0</td>\n",
       "      <td>0</td>\n",
       "    </tr>\n",
       "    <tr>\n",
       "      <th>20</th>\n",
       "      <td>pandas</td>\n",
       "      <td>Column-Specific Operation with explode: You ca...</td>\n",
       "      <td>2209d496d4e01dc0fa4f4e1edf4c8abb</td>\n",
       "      <td>-132.191175</td>\n",
       "      <td>104.507593</td>\n",
       "      <td>-140.390577</td>\n",
       "      <td>836.060744</td>\n",
       "      <td>0.494886</td>\n",
       "      <td>1</td>\n",
       "      <td>0</td>\n",
       "    </tr>\n",
       "    <tr>\n",
       "      <th>21</th>\n",
       "      <td>pandas</td>\n",
       "      <td>Error Handling and Performance with json_norma...</td>\n",
       "      <td>e2e87ecb91d52a80fb53edbd36660a5d</td>\n",
       "      <td>-129.052849</td>\n",
       "      <td>104.507593</td>\n",
       "      <td>-140.390577</td>\n",
       "      <td>836.060744</td>\n",
       "      <td>0.494886</td>\n",
       "      <td>2</td>\n",
       "      <td>0</td>\n",
       "    </tr>\n",
       "    <tr>\n",
       "      <th>22</th>\n",
       "      <td>pandas</td>\n",
       "      <td>Exploding Multiple Columns using explode: Star...</td>\n",
       "      <td>f4d23b3a726c224f403df2ffdfe2fffa</td>\n",
       "      <td>-124.314324</td>\n",
       "      <td>104.507593</td>\n",
       "      <td>-140.390577</td>\n",
       "      <td>836.060744</td>\n",
       "      <td>0.494886</td>\n",
       "      <td>3</td>\n",
       "      <td>0</td>\n",
       "    </tr>\n",
       "    <tr>\n",
       "      <th>128</th>\n",
       "      <td>Python</td>\n",
       "      <td>Many popular machine learning algorithms and d...</td>\n",
       "      <td>6c83d1ec0c1f3bc504757ba5f50c5ba7</td>\n",
       "      <td>-139.793072</td>\n",
       "      <td>107.657510</td>\n",
       "      <td>-139.793072</td>\n",
       "      <td>2153.150208</td>\n",
       "      <td>0.683635</td>\n",
       "      <td>0</td>\n",
       "      <td>0</td>\n",
       "    </tr>\n",
       "    <tr>\n",
       "      <th>129</th>\n",
       "      <td>Python</td>\n",
       "      <td>In Python, you can compare sequences of the sa...</td>\n",
       "      <td>d44782380f6e441bc4bd22c2220ec075</td>\n",
       "      <td>-137.053959</td>\n",
       "      <td>107.657510</td>\n",
       "      <td>-139.793072</td>\n",
       "      <td>2153.150208</td>\n",
       "      <td>0.683635</td>\n",
       "      <td>1</td>\n",
       "      <td>0</td>\n",
       "    </tr>\n",
       "  </tbody>\n",
       "</table>\n",
       "</div>"
      ],
      "text/plain": [
       "       head                                               body  \\\n",
       "111   PP365  Syntax for using the web api to get specific s...   \n",
       "112   PP365  Background operations (optional)\\tSelect to di...   \n",
       "114   PP365  Workflow in the context of Microsoft Dataverse...   \n",
       "113   PP365  To support offline use, Power Apps allows data...   \n",
       "19   pandas  Custom Separators and Maximum Depth in json_no...   \n",
       "20   pandas  Column-Specific Operation with explode: You ca...   \n",
       "21   pandas  Error Handling and Performance with json_norma...   \n",
       "22   pandas  Exploding Multiple Columns using explode: Star...   \n",
       "128  Python  Many popular machine learning algorithms and d...   \n",
       "129  Python  In Python, you can compare sequences of the sa...   \n",
       "\n",
       "                                 hash         age  subject_mean_age  \\\n",
       "111  37d2329f16107277a0416409bdbcae5a -140.656884         88.581713   \n",
       "112  3b26d9446d82006da773fec8b8c68920 -139.773201         88.581713   \n",
       "114  232977ce805e82b6bdf3ae0f62cbdc4d -135.070146         88.581713   \n",
       "113  9d719133b73056252ab4fc277fb37135 -133.738358         88.581713   \n",
       "19   b7425cd6aefb5d15cc107d16e7be60c0 -140.390577        104.507593   \n",
       "20   2209d496d4e01dc0fa4f4e1edf4c8abb -132.191175        104.507593   \n",
       "21   e2e87ecb91d52a80fb53edbd36660a5d -129.052849        104.507593   \n",
       "22   f4d23b3a726c224f403df2ffdfe2fffa -124.314324        104.507593   \n",
       "128  6c83d1ec0c1f3bc504757ba5f50c5ba7 -139.793072        107.657510   \n",
       "129  d44782380f6e441bc4bd22c2220ec075 -137.053959        107.657510   \n",
       "\n",
       "     subject_highest_age  subject_age_sum  head_random_roll  count  n_fold  \n",
       "111          -140.656884      1505.889128          0.067914      0       0  \n",
       "112          -140.656884      1505.889128          0.067914      1       0  \n",
       "114          -140.656884      1505.889128          0.067914      2       0  \n",
       "113          -140.656884      1505.889128          0.067914      3       0  \n",
       "19           -140.390577       836.060744          0.494886      0       0  \n",
       "20           -140.390577       836.060744          0.494886      1       0  \n",
       "21           -140.390577       836.060744          0.494886      2       0  \n",
       "22           -140.390577       836.060744          0.494886      3       0  \n",
       "128          -139.793072      2153.150208          0.683635      0       0  \n",
       "129          -139.793072      2153.150208          0.683635      1       0  "
      ]
     },
     "execution_count": 67,
     "metadata": {},
     "output_type": "execute_result"
    }
   ],
   "source": [
    "existing_cards.head(10)"
   ]
  },
  {
   "cell_type": "code",
   "execution_count": 68,
   "metadata": {},
   "outputs": [
    {
     "data": {
      "text/plain": [
       "-1352.0345439552482"
      ]
     },
     "execution_count": 68,
     "metadata": {},
     "output_type": "execute_result"
    }
   ],
   "source": [
    "existing_cards.head(10)['age'].sum()"
   ]
  }
 ],
 "metadata": {
  "kernelspec": {
   "display_name": "Python 3",
   "language": "python",
   "name": "python3"
  },
  "language_info": {
   "codemirror_mode": {
    "name": "ipython",
    "version": 3
   },
   "file_extension": ".py",
   "mimetype": "text/x-python",
   "name": "python",
   "nbconvert_exporter": "python",
   "pygments_lexer": "ipython3",
   "version": "3.10.10"
  }
 },
 "nbformat": 4,
 "nbformat_minor": 2
}
