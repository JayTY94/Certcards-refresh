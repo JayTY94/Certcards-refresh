{
 "cells": [
  {
   "cell_type": "code",
   "execution_count": 37,
   "metadata": {},
   "outputs": [],
   "source": [
    "import re\n",
    "import random\n",
    "import pandas as pd\n",
    "import hashlib"
   ]
  },
  {
   "cell_type": "code",
   "execution_count": 38,
   "metadata": {},
   "outputs": [],
   "source": [
    "with open('certcards2.txt', mode='r', encoding='utf8') as f:\n",
    "    all_cards = f.read()\n",
    "    \n",
    "card_split_pattern = r'\\n\\n\\n\\d+\\n'\n",
    "all_cards = re.split(card_split_pattern, all_cards)\n",
    "# Use re.DOTALL to allow . to match newline characters\n",
    "card_pattern = re.compile(r'(.+?)\\n([\\s\\S]+)', re.DOTALL)\n",
    "cards = [(match.group(1), match.group(2)) for cstring in all_cards if (match := re.search(card_pattern, cstring))]\n",
    "\n",
    "# removing the cards that have no content and trimming\n",
    "cards = [(subject, stripped_content) for subject, content in cards if len(stripped_content := content.strip()) > 5]\n",
    "\n",
    "def hash_string_md5(s):\n",
    "    \"\"\"\n",
    "    Hashes a string using MD5 and returns a truncated hash for efficiency.\n",
    "\n",
    "    Parameters:\n",
    "    - s (str): The input string to hash.\n",
    "\n",
    "    Returns:\n",
    "    - str: The truncated hexadecimal hash string.\n",
    "    \"\"\"\n",
    "    if pd.isnull(s):\n",
    "        return None  # Handle NaN values gracefully\n",
    "    return hashlib.md5(s.encode('utf-8')).hexdigest()\n",
    "\n",
    "\n",
    "def remake_card_document(existing_cards: pd.DataFrame, filename: str='certcards2.txt'):\n",
    "    with open(filename, mode='w', encoding='utf8') as f:\n",
    "        i = 1\n",
    "        for _, row in existing_cards.iterrows():\n",
    "            f.write('\\n'*6)\n",
    "            f.write(str(i)+'\\n')  \n",
    "            f.write(row['head']+'\\n')\n",
    "            f.write(row['body'])\n",
    "            i+=1\n",
    "    print(F\"Cards found: {existing_cards.shape[0]}\")\n",
    "\n",
    "\n",
    "existing_cards = pd.DataFrame(cards, columns=['head', 'body'])\n",
    "\n",
    "\n",
    "# existing_cards['age'] = [random.random() for _ in existing_cards.index]\n",
    "existing_cards['hash'] = existing_cards['body'].apply(hash_string_md5)\n",
    "existing_cards\n",
    "\n",
    "card_ages = pd.read_json('card_ages.json')\n",
    "card_ages = card_ages.drop_duplicates(subset=['hash'], keep='first')\n",
    "\n",
    "cards_to_age = pd.merge(\n",
    "    left=existing_cards,\n",
    "    right=card_ages[['hash', 'age']],\n",
    "    left_on='hash', right_on='hash',\n",
    "    how='left'\n",
    ")\n",
    "\n",
    "cards_to_age['head'] = cards_to_age['head'].str.strip()\n",
    "\n",
    "if cards_to_age['age'].sum() > 2e4: age_factor = 1\n",
    "else: age_factor = 1.00\n",
    "\n",
    "cards_to_age['age'] = cards_to_age['age'].fillna(0)\n",
    "cards_to_age['age'] = cards_to_age['age'] * age_factor\n",
    "cards_to_age['age'] = cards_to_age['age'] + [random.expovariate(.60) for _ in cards_to_age.index]\n",
    "# cards_to_age['age'] = cards_to_age['age'] * [random.expovariate(.5) for _ in cards_to_age.index]\n",
    "\n",
    "# Adding priority age growth to cards for upcoming certifications\n",
    "priority_headers = ['Azure Developer Associate']\n",
    "priority_cards_mask = cards_to_age['head'].isin(priority_headers)\n",
    "cards_to_age.loc[priority_cards_mask, 'age'] = cards_to_age.loc[priority_cards_mask, 'age'] * 1.1\n",
    "\n",
    "\n",
    "cards_to_age = cards_to_age.drop_duplicates(subset=['hash'], keep='first')\n",
    "\n",
    "cards_to_age['subject_mean_age'] = cards_to_age.groupby('head')['age'].transform('mean')\n",
    "cards_to_age['subject_highest_age'] = cards_to_age.groupby('head')['age'].transform('max')\n",
    "cards_to_age['subject_age_sum'] = cards_to_age.groupby('head')['age'].transform('sum')\n",
    "cards_to_age['head_random_roll'] = cards_to_age.groupby('head')['head'].transform(lambda x: random.random())\n",
    "\n",
    "\n",
    "cards_to_age.sort_values('hash')[['age', 'head', 'hash']].to_json('card_ages.json', indent=2)\n",
    "\n",
    "existing_cards = cards_to_age"
   ]
  },
  {
   "cell_type": "code",
   "execution_count": 39,
   "metadata": {},
   "outputs": [
    {
     "data": {
      "application/vnd.microsoft.datawrangler.viewer.v0+json": {
       "columns": [
        {
         "name": "index",
         "rawType": "object",
         "type": "string"
        },
        {
         "name": "age_sum",
         "rawType": "float64",
         "type": "float"
        },
        {
         "name": "age_mean",
         "rawType": "float64",
         "type": "float"
        },
        {
         "name": "age_max",
         "rawType": "float64",
         "type": "float"
        },
        {
         "name": "head_count",
         "rawType": "int64",
         "type": "integer"
        }
       ],
       "conversionMethod": "pd.DataFrame",
       "ref": "88d1781c-fe3e-4fe7-a136-3bf4e025caf1",
       "rows": [
        [
         "Azure Developer Associate",
         "71.91321136938724",
         "4.794214091292483",
         "10.969988603650958",
         "15"
        ],
        [
         "PEP 8",
         "270.71974061192344",
         "90.23991353730781",
         "111.24964677586699",
         "3"
        ],
        [
         "Python",
         "626.735239452419",
         "13.334792328774872",
         "24.057383539510713",
         "47"
        ],
        [
         "Todd Ideas",
         "1031.4249473630675",
         "68.76166315753784",
         "157.42680787754176",
         "15"
        ],
        [
         "SharePoint",
         "1749.3102614782706",
         "145.77585512318922",
         "585.4918840823095",
         "12"
        ],
        [
         "Audit Report Tracker (Sharepoint List)",
         "1863.0955537095529",
         "143.31504259304253",
         "372.21539066757776",
         "13"
        ],
        [
         "Azure Functions + Visual Studio",
         "2031.662054880031",
         "145.1187182057165",
         "488.422044061992",
         "14"
        ],
        [
         "Debugging in VS Code",
         "2061.5344159584724",
         "103.07672079792363",
         "271.6923340116543",
         "20"
        ],
        [
         "IW Migration",
         "2222.3532851186965",
         "158.7395203656212",
         "472.23992821406125",
         "14"
        ],
        [
         "Terraform",
         "2227.576564741923",
         "89.10306258967692",
         "261.4643157426377",
         "25"
        ],
        [
         "Open Source/GitHub",
         "2378.2742535445086",
         "148.6421408465318",
         "371.8610237605514",
         "16"
        ],
        [
         "Email Auth and Security",
         "2402.05700440412",
         "184.77361572339385",
         "900.594413492362",
         "13"
        ],
        [
         "FSLogix",
         "2557.03172830163",
         "106.5429886792346",
         "266.52432725818386",
         "24"
        ],
        [
         "Azure Functions",
         "2965.4418470163746",
         "269.58562245603406",
         "751.2552759978074",
         "11"
        ],
        [
         "Home Network Project",
         "3092.898953797789",
         "193.30618461236182",
         "465.7335679307107",
         "16"
        ],
        [
         "OData",
         "3218.6691119077927",
         "321.86691119077926",
         "876.8656131405851",
         "10"
        ],
        [
         "DNS",
         "3232.0681292802315",
         "202.00425808001447",
         "407.9571820107968",
         "16"
        ],
        [
         "WSL + Kali Linux",
         "3417.84896825393",
         "179.8867878028384",
         "413.35964176451967",
         "19"
        ],
        [
         "Azure Functions + PP365",
         "3604.478658902151",
         "156.7164634305283",
         "422.46781044716886",
         "23"
        ],
        [
         "Azure AI Search",
         "3851.8059201782603",
         "275.12899429844714",
         "732.7358231147548",
         "14"
        ],
        [
         "Powershell Modules",
         "4948.876447199087",
         "164.96254823996958",
         "682.9875796351441",
         "30"
        ],
        [
         "PnP Powershell",
         "6877.857437445013",
         "180.99624835381613",
         "661.621078532147",
         "38"
        ],
        [
         "Vocab",
         "6969.8333745095015",
         "105.60353597741668",
         "867.247047769836",
         "66"
        ],
        [
         "JavaScript Concepts",
         "7392.695574113572",
         "121.19173072317331",
         "440.9265244398531",
         "61"
        ],
        [
         "Logging in Python",
         "8998.352341061385",
         "149.97253901768974",
         "1033.0530260500293",
         "60"
        ]
       ],
       "shape": {
        "columns": 4,
        "rows": 25
       }
      },
      "text/html": [
       "<div>\n",
       "<style scoped>\n",
       "    .dataframe tbody tr th:only-of-type {\n",
       "        vertical-align: middle;\n",
       "    }\n",
       "\n",
       "    .dataframe tbody tr th {\n",
       "        vertical-align: top;\n",
       "    }\n",
       "\n",
       "    .dataframe thead th {\n",
       "        text-align: right;\n",
       "    }\n",
       "</style>\n",
       "<table border=\"1\" class=\"dataframe\">\n",
       "  <thead>\n",
       "    <tr style=\"text-align: right;\">\n",
       "      <th></th>\n",
       "      <th>age_sum</th>\n",
       "      <th>age_mean</th>\n",
       "      <th>age_max</th>\n",
       "      <th>head_count</th>\n",
       "    </tr>\n",
       "  </thead>\n",
       "  <tbody>\n",
       "    <tr>\n",
       "      <th>Azure Developer Associate</th>\n",
       "      <td>71.913211</td>\n",
       "      <td>4.794214</td>\n",
       "      <td>10.969989</td>\n",
       "      <td>15</td>\n",
       "    </tr>\n",
       "    <tr>\n",
       "      <th>PEP 8</th>\n",
       "      <td>270.719741</td>\n",
       "      <td>90.239914</td>\n",
       "      <td>111.249647</td>\n",
       "      <td>3</td>\n",
       "    </tr>\n",
       "    <tr>\n",
       "      <th>Python</th>\n",
       "      <td>626.735239</td>\n",
       "      <td>13.334792</td>\n",
       "      <td>24.057384</td>\n",
       "      <td>47</td>\n",
       "    </tr>\n",
       "    <tr>\n",
       "      <th>Todd Ideas</th>\n",
       "      <td>1031.424947</td>\n",
       "      <td>68.761663</td>\n",
       "      <td>157.426808</td>\n",
       "      <td>15</td>\n",
       "    </tr>\n",
       "    <tr>\n",
       "      <th>SharePoint</th>\n",
       "      <td>1749.310261</td>\n",
       "      <td>145.775855</td>\n",
       "      <td>585.491884</td>\n",
       "      <td>12</td>\n",
       "    </tr>\n",
       "    <tr>\n",
       "      <th>Audit Report Tracker (Sharepoint List)</th>\n",
       "      <td>1863.095554</td>\n",
       "      <td>143.315043</td>\n",
       "      <td>372.215391</td>\n",
       "      <td>13</td>\n",
       "    </tr>\n",
       "    <tr>\n",
       "      <th>Azure Functions + Visual Studio</th>\n",
       "      <td>2031.662055</td>\n",
       "      <td>145.118718</td>\n",
       "      <td>488.422044</td>\n",
       "      <td>14</td>\n",
       "    </tr>\n",
       "    <tr>\n",
       "      <th>Debugging in VS Code</th>\n",
       "      <td>2061.534416</td>\n",
       "      <td>103.076721</td>\n",
       "      <td>271.692334</td>\n",
       "      <td>20</td>\n",
       "    </tr>\n",
       "    <tr>\n",
       "      <th>IW Migration</th>\n",
       "      <td>2222.353285</td>\n",
       "      <td>158.739520</td>\n",
       "      <td>472.239928</td>\n",
       "      <td>14</td>\n",
       "    </tr>\n",
       "    <tr>\n",
       "      <th>Terraform</th>\n",
       "      <td>2227.576565</td>\n",
       "      <td>89.103063</td>\n",
       "      <td>261.464316</td>\n",
       "      <td>25</td>\n",
       "    </tr>\n",
       "    <tr>\n",
       "      <th>Open Source/GitHub</th>\n",
       "      <td>2378.274254</td>\n",
       "      <td>148.642141</td>\n",
       "      <td>371.861024</td>\n",
       "      <td>16</td>\n",
       "    </tr>\n",
       "    <tr>\n",
       "      <th>Email Auth and Security</th>\n",
       "      <td>2402.057004</td>\n",
       "      <td>184.773616</td>\n",
       "      <td>900.594413</td>\n",
       "      <td>13</td>\n",
       "    </tr>\n",
       "    <tr>\n",
       "      <th>FSLogix</th>\n",
       "      <td>2557.031728</td>\n",
       "      <td>106.542989</td>\n",
       "      <td>266.524327</td>\n",
       "      <td>24</td>\n",
       "    </tr>\n",
       "    <tr>\n",
       "      <th>Azure Functions</th>\n",
       "      <td>2965.441847</td>\n",
       "      <td>269.585622</td>\n",
       "      <td>751.255276</td>\n",
       "      <td>11</td>\n",
       "    </tr>\n",
       "    <tr>\n",
       "      <th>Home Network Project</th>\n",
       "      <td>3092.898954</td>\n",
       "      <td>193.306185</td>\n",
       "      <td>465.733568</td>\n",
       "      <td>16</td>\n",
       "    </tr>\n",
       "    <tr>\n",
       "      <th>OData</th>\n",
       "      <td>3218.669112</td>\n",
       "      <td>321.866911</td>\n",
       "      <td>876.865613</td>\n",
       "      <td>10</td>\n",
       "    </tr>\n",
       "    <tr>\n",
       "      <th>DNS</th>\n",
       "      <td>3232.068129</td>\n",
       "      <td>202.004258</td>\n",
       "      <td>407.957182</td>\n",
       "      <td>16</td>\n",
       "    </tr>\n",
       "    <tr>\n",
       "      <th>WSL + Kali Linux</th>\n",
       "      <td>3417.848968</td>\n",
       "      <td>179.886788</td>\n",
       "      <td>413.359642</td>\n",
       "      <td>19</td>\n",
       "    </tr>\n",
       "    <tr>\n",
       "      <th>Azure Functions + PP365</th>\n",
       "      <td>3604.478659</td>\n",
       "      <td>156.716463</td>\n",
       "      <td>422.467810</td>\n",
       "      <td>23</td>\n",
       "    </tr>\n",
       "    <tr>\n",
       "      <th>Azure AI Search</th>\n",
       "      <td>3851.805920</td>\n",
       "      <td>275.128994</td>\n",
       "      <td>732.735823</td>\n",
       "      <td>14</td>\n",
       "    </tr>\n",
       "    <tr>\n",
       "      <th>Powershell Modules</th>\n",
       "      <td>4948.876447</td>\n",
       "      <td>164.962548</td>\n",
       "      <td>682.987580</td>\n",
       "      <td>30</td>\n",
       "    </tr>\n",
       "    <tr>\n",
       "      <th>PnP Powershell</th>\n",
       "      <td>6877.857437</td>\n",
       "      <td>180.996248</td>\n",
       "      <td>661.621079</td>\n",
       "      <td>38</td>\n",
       "    </tr>\n",
       "    <tr>\n",
       "      <th>Vocab</th>\n",
       "      <td>6969.833375</td>\n",
       "      <td>105.603536</td>\n",
       "      <td>867.247048</td>\n",
       "      <td>66</td>\n",
       "    </tr>\n",
       "    <tr>\n",
       "      <th>JavaScript Concepts</th>\n",
       "      <td>7392.695574</td>\n",
       "      <td>121.191731</td>\n",
       "      <td>440.926524</td>\n",
       "      <td>61</td>\n",
       "    </tr>\n",
       "    <tr>\n",
       "      <th>Logging in Python</th>\n",
       "      <td>8998.352341</td>\n",
       "      <td>149.972539</td>\n",
       "      <td>1033.053026</td>\n",
       "      <td>60</td>\n",
       "    </tr>\n",
       "  </tbody>\n",
       "</table>\n",
       "</div>"
      ],
      "text/plain": [
       "                                            age_sum    age_mean      age_max  \\\n",
       "Azure Developer Associate                 71.913211    4.794214    10.969989   \n",
       "PEP 8                                    270.719741   90.239914   111.249647   \n",
       "Python                                   626.735239   13.334792    24.057384   \n",
       "Todd Ideas                              1031.424947   68.761663   157.426808   \n",
       "SharePoint                              1749.310261  145.775855   585.491884   \n",
       "Audit Report Tracker (Sharepoint List)  1863.095554  143.315043   372.215391   \n",
       "Azure Functions + Visual Studio         2031.662055  145.118718   488.422044   \n",
       "Debugging in VS Code                    2061.534416  103.076721   271.692334   \n",
       "IW Migration                            2222.353285  158.739520   472.239928   \n",
       "Terraform                               2227.576565   89.103063   261.464316   \n",
       "Open Source/GitHub                      2378.274254  148.642141   371.861024   \n",
       "Email Auth and Security                 2402.057004  184.773616   900.594413   \n",
       "FSLogix                                 2557.031728  106.542989   266.524327   \n",
       "Azure Functions                         2965.441847  269.585622   751.255276   \n",
       "Home Network Project                    3092.898954  193.306185   465.733568   \n",
       "OData                                   3218.669112  321.866911   876.865613   \n",
       "DNS                                     3232.068129  202.004258   407.957182   \n",
       "WSL + Kali Linux                        3417.848968  179.886788   413.359642   \n",
       "Azure Functions + PP365                 3604.478659  156.716463   422.467810   \n",
       "Azure AI Search                         3851.805920  275.128994   732.735823   \n",
       "Powershell Modules                      4948.876447  164.962548   682.987580   \n",
       "PnP Powershell                          6877.857437  180.996248   661.621079   \n",
       "Vocab                                   6969.833375  105.603536   867.247048   \n",
       "JavaScript Concepts                     7392.695574  121.191731   440.926524   \n",
       "Logging in Python                       8998.352341  149.972539  1033.053026   \n",
       "\n",
       "                                        head_count  \n",
       "Azure Developer Associate                       15  \n",
       "PEP 8                                            3  \n",
       "Python                                          47  \n",
       "Todd Ideas                                      15  \n",
       "SharePoint                                      12  \n",
       "Audit Report Tracker (Sharepoint List)          13  \n",
       "Azure Functions + Visual Studio                 14  \n",
       "Debugging in VS Code                            20  \n",
       "IW Migration                                    14  \n",
       "Terraform                                       25  \n",
       "Open Source/GitHub                              16  \n",
       "Email Auth and Security                         13  \n",
       "FSLogix                                         24  \n",
       "Azure Functions                                 11  \n",
       "Home Network Project                            16  \n",
       "OData                                           10  \n",
       "DNS                                             16  \n",
       "WSL + Kali Linux                                19  \n",
       "Azure Functions + PP365                         23  \n",
       "Azure AI Search                                 14  \n",
       "Powershell Modules                              30  \n",
       "PnP Powershell                                  38  \n",
       "Vocab                                           66  \n",
       "JavaScript Concepts                             61  \n",
       "Logging in Python                               60  "
      ]
     },
     "execution_count": 39,
     "metadata": {},
     "output_type": "execute_result"
    }
   ],
   "source": [
    "stats = existing_cards.groupby('head').agg({'age': ['sum', 'mean', 'max'], 'head': 'count'}).sort_values(('age', 'sum'))\n",
    "stats.columns = stats.columns.to_flat_index()\n",
    "stats.columns = ['_'.join(col).strip() for col in stats.columns]\n",
    "stats.index.name = None\n",
    "stats"
   ]
  },
  {
   "cell_type": "code",
   "execution_count": null,
   "metadata": {},
   "outputs": [],
   "source": []
  },
  {
   "cell_type": "markdown",
   "metadata": {},
   "source": [
    "# Histogram"
   ]
  },
  {
   "cell_type": "code",
   "execution_count": 40,
   "metadata": {},
   "outputs": [
    {
     "name": "stdout",
     "output_type": "stream",
     "text": [
      "80064.52\n"
     ]
    },
    {
     "data": {
      "text/plain": [
       "<Axes: >"
      ]
     },
     "execution_count": 40,
     "metadata": {},
     "output_type": "execute_result"
    },
    {
     "data": {
      "image/png": "[encoded data removed]",
      "text/plain": [
       "<Figure size 640x480 with 1 Axes>"
      ]
     },
     "metadata": {},
     "output_type": "display_data"
    }
   ],
   "source": [
    "print(f\"{existing_cards['age'].sum(0):.2f}\")\n",
    "existing_cards['age'].hist(bins=20)"
   ]
  },
  {
   "cell_type": "markdown",
   "metadata": {},
   "source": [
    "# Completely Random Shuffle"
   ]
  },
  {
   "cell_type": "code",
   "execution_count": 41,
   "metadata": {},
   "outputs": [],
   "source": [
    "# existing_cards = existing_cards.sample(frac=1)\n",
    "# remake_card_document(filename='certcards2.txt', existing_cards = existing_cards)"
   ]
  },
  {
   "cell_type": "markdown",
   "metadata": {},
   "source": [
    "# Age Sort"
   ]
  },
  {
   "cell_type": "code",
   "execution_count": 42,
   "metadata": {},
   "outputs": [],
   "source": [
    "# existing_cards = existing_cards.sort_values('age', ascending=False)\n",
    "# remake_card_document(filename='certcards2.txt', existing_cards=existing_cards)\n",
    "# existing_cards.head(10)"
   ]
  },
  {
   "cell_type": "markdown",
   "metadata": {},
   "source": [
    "# Headers with fewest notes first"
   ]
  },
  {
   "cell_type": "code",
   "execution_count": 43,
   "metadata": {},
   "outputs": [],
   "source": [
    "# frequency = existing_cards['head'].value_counts(ascending=True)\n",
    "\n",
    "# existing_cards = pd.merge(\n",
    "#     left=existing_cards,\n",
    "#     right=frequency.rename('frequency'),\n",
    "#     left_on='head', right_index=True,\n",
    "#     how='left'\n",
    "# )\n",
    "# existing_cards['oldest'] = existing_cards.groupby('head')['age'].transform('max')\n",
    "# existing_cards['subject_highest_age'] = existing_cards['subject_highest_age'] * -1\n",
    "# existing_cards['age'] = existing_cards['age'] * -1\n",
    "\n",
    "\n",
    "# existing_cards.sort_values(['frequency', 'subject_highest_age', 'age'], ascending=True, inplace=True)\n",
    "\n",
    "# remake_card_document(filename='certcards2.txt', existing_cards=existing_cards)\n",
    "\n",
    "# existing_cards.head(10)"
   ]
  },
  {
   "cell_type": "markdown",
   "metadata": {},
   "source": [
    "# Focus on one header"
   ]
  },
  {
   "cell_type": "code",
   "execution_count": 44,
   "metadata": {},
   "outputs": [],
   "source": [
    "# heads = existing_cards['head'].value_counts()\n",
    "# heads = heads[heads > 5].index.tolist()\n",
    "# one_header = random.sample(heads, 1)[0]\n",
    "# existing_cards['pick_head'] = existing_cards['head'].apply(\n",
    "#     lambda h: 0 if h == one_header else 1 \n",
    "# )\n",
    "\n",
    "# remake_card_document(existing_cards=existing_cards.sort_values('pick_head'))"
   ]
  },
  {
   "cell_type": "markdown",
   "metadata": {},
   "source": [
    "## Header with oldest cards first"
   ]
  },
  {
   "cell_type": "code",
   "execution_count": 45,
   "metadata": {},
   "outputs": [],
   "source": [
    "# existing_cards['oldest'] = existing_cards.groupby('head')['age'].transform('max')\n",
    "# existing_cards.sort_values(['oldest', 'age'], ascending=False, inplace=True)\n",
    "# remake_card_document(existing_cards)"
   ]
  },
  {
   "cell_type": "markdown",
   "metadata": {},
   "source": [
    "## Headers with greatest mean card age first"
   ]
  },
  {
   "cell_type": "code",
   "execution_count": 46,
   "metadata": {},
   "outputs": [],
   "source": [
    "# existing_cards.sort_values(['subject_mean_age', 'age'], ascending=False, inplace=True)\n",
    "# remake_card_document(existing_cards)"
   ]
  },
  {
   "cell_type": "markdown",
   "metadata": {},
   "source": [
    "## Headers with greatest age sum first"
   ]
  },
  {
   "cell_type": "code",
   "execution_count": 47,
   "metadata": {},
   "outputs": [],
   "source": [
    "# existing_cards.sort_values(['subject_age_sum', 'age'], ascending=False, inplace=True)\n",
    "# remake_card_document(existing_cards)"
   ]
  },
  {
   "cell_type": "markdown",
   "metadata": {},
   "source": [
    "# N-fold shuffle\n"
   ]
  },
  {
   "cell_type": "markdown",
   "metadata": {},
   "source": [
    "## Age Sum"
   ]
  },
  {
   "cell_type": "code",
   "execution_count": 48,
   "metadata": {},
   "outputs": [],
   "source": [
    "# n=3\n",
    "# existing_cards['count'] = existing_cards.sort_values('age', ascending=False).groupby('head').cumcount()\n",
    "# existing_cards['n_fold'] = existing_cards['count'] % n\n",
    "\n",
    "# existing_cards['subject_age_sum'] = existing_cards['subject_age_sum'] *-1\n",
    "# existing_cards['age'] = existing_cards['age'] *-1\n",
    "# existing_cards.sort_values(['n_fold', 'subject_age_sum', 'age'], inplace=True)\n",
    "\n",
    "# remake_card_document(existing_cards=existing_cards)\n",
    "# existing_cards.head(10)\n"
   ]
  },
  {
   "cell_type": "markdown",
   "metadata": {},
   "source": [
    "## Age Mean"
   ]
  },
  {
   "cell_type": "code",
   "execution_count": 49,
   "metadata": {},
   "outputs": [
    {
     "name": "stdout",
     "output_type": "stream",
     "text": [
      "Cards found: 595\n"
     ]
    },
    {
     "data": {
      "application/vnd.microsoft.datawrangler.viewer.v0+json": {
       "columns": [
        {
         "name": "index",
         "rawType": "int64",
         "type": "integer"
        },
        {
         "name": "head",
         "rawType": "object",
         "type": "string"
        },
        {
         "name": "body",
         "rawType": "object",
         "type": "string"
        },
        {
         "name": "hash",
         "rawType": "object",
         "type": "string"
        },
        {
         "name": "age",
         "rawType": "float64",
         "type": "float"
        },
        {
         "name": "subject_mean_age",
         "rawType": "float64",
         "type": "float"
        },
        {
         "name": "subject_highest_age",
         "rawType": "float64",
         "type": "float"
        },
        {
         "name": "subject_age_sum",
         "rawType": "float64",
         "type": "float"
        },
        {
         "name": "head_random_roll",
         "rawType": "float64",
         "type": "float"
        },
        {
         "name": "count",
         "rawType": "int64",
         "type": "integer"
        },
        {
         "name": "n_fold",
         "rawType": "int64",
         "type": "integer"
        }
       ],
       "conversionMethod": "pd.DataFrame",
       "ref": "d14b2976-e619-4ba0-a380-de9d55bcbd49",
       "rows": [
        [
         "7",
         "OData",
         "Batch Requests\n- Definition: OData feature allowing multiple operations (queries/updates) to be combined into a single HTTP request.\n- Context: Improves efficiency and reduces network overhead.",
         "2d2a252699fd9eabc119d7176626f059",
         "-876.8656131405851",
         "-321.86691119077926",
         "876.8656131405851",
         "3218.6691119077927",
         "0.2673075311225518",
         "0",
         "0"
        ],
        [
         "82",
         "OData",
         "An ETag is a mechanism for concurrency control in OData, representing a version identifier for a resource. It ensures that updates or deletions are performed on the correct version of a record, preventing conflicts and maintaining data integrity.",
         "557d0d7d8e302eee017ebd6bb96d6128",
         "-383.4085580796526",
         "-321.86691119077926",
         "876.8656131405851",
         "3218.6691119077927",
         "0.2673075311225518",
         "3",
         "0"
        ],
        [
         "154",
         "OData",
         "Fully qualified action and function names include a namespace or alias prefix. The Edm, odata and geo namespaces are reserved for the use of this specification.",
         "b07b4512d3b0c8312e62ba534df5f92f",
         "-167.11436530753937",
         "-321.86691119077926",
         "876.8656131405851",
         "3218.6691119077927",
         "0.2673075311225518",
         "6",
         "0"
        ],
        [
         "226",
         "OData",
         "Functions MUST NOT have side-effects. Functions can be invoked from a URL that addresses a resource or within an expression to a $filter or $orderby system query option.",
         "d5261762efa4fd4c67815cd5ed7bb3a7",
         "-50.54065136707755",
         "-321.86691119077926",
         "876.8656131405851",
         "3218.6691119077927",
         "0.2673075311225518",
         "9",
         "0"
        ],
        [
         "16",
         "Azure AI Search",
         "After the first indexer run, you can rerun it on demand or set up a schedule.\n\nYou can monitor indexer status in the Azure portal or through Get Indexer Status API. You should also run queries on the index to verify the result is what you expected.",
         "32962e9b2ebb8fe8f74b47cd3080634c",
         "-732.7358231147548",
         "-275.12899429844714",
         "732.7358231147548",
         "3851.8059201782603",
         "0.06932014092256766",
         "0",
         "0"
        ],
        [
         "91",
         "Azure AI Search",
         "You can run indexers on demand or on a recurring data refresh schedule that runs as often as every five minutes. More frequent updates preclude the use of indexers, requiring that you implement a 'push model' that simultaneously pushes data to both Azure AI Search and your external data source.",
         "d21f788db3aa4c9876a0cd1b9fc6575a",
         "-402.21479891470096",
         "-275.12899429844714",
         "732.7358231147548",
         "3851.8059201782603",
         "0.06932014092256766",
         "3",
         "0"
        ],
        [
         "163",
         "Azure AI Search",
         "A search service runs one indexer job per search unit. If you need concurrent processing, make sure you have sufficient replicas. Indexers don't run in the background, so you might detect more query throttling than usual if the service is under pressure.",
         "8ced20f45d99f3695593df15dc3bb81b",
         "-268.7804131646627",
         "-275.12899429844714",
         "732.7358231147548",
         "3851.8059201782603",
         "0.06932014092256766",
         "6",
         "0"
        ],
        [
         "232",
         "Azure AI Search",
         "Integrated vectorization is an extension of the indexing and query pipelines in Azure AI Search. It adds the following capabilities:\n\nData chunking during indexing\nText-to-vector conversion during indexing\nText-to-vector conversion during queries",
         "fefb72f4e20a03e6f44b64672d721418",
         "-107.16759459372214",
         "-275.12899429844714",
         "732.7358231147548",
         "3851.8059201782603",
         "0.06932014092256766",
         "9",
         "0"
        ],
        [
         "296",
         "Azure AI Search",
         "A quick way to perform a preliminary check on the document upload is to use Search explorer in the Azure portal.\nThe explorer lets you query an index without having to write any code. The search experience is based on default settings, such as the simple syntax and default searchMode query parameter. Results are returned in JSON so that you can inspect the entire document.",
         "9b368be497f64f7521778d6f8408af62",
         "-61.0108408142912",
         "-275.12899429844714",
         "732.7358231147548",
         "3851.8059201782603",
         "0.06932014092256766",
         "12",
         "0"
        ],
        [
         "13",
         "Azure Functions",
         "2. Suppose your Azure Function has a blob trigger associated with it and you want it to execute only when png images are uploaded. Which of the following blob trigger Path values should you use? \n\nsamples-workitems/{name}.png\nThe Path tells the blob trigger where it should monitor for changes, and if there are any filters applied. Adding a file extension to the Path specifies that uploaded files must have that file extension in order for the trigger to invoke the function.",
         "fc5054fcf13b3189012cf676692c4f29",
         "-751.2552759978074",
         "-269.58562245603406",
         "751.2552759978074",
         "2965.4418470163746",
         "0.5691266271588057",
         "0",
         "0"
        ]
       ],
       "shape": {
        "columns": 10,
        "rows": 10
       }
      },
      "text/html": [
       "<div>\n",
       "<style scoped>\n",
       "    .dataframe tbody tr th:only-of-type {\n",
       "        vertical-align: middle;\n",
       "    }\n",
       "\n",
       "    .dataframe tbody tr th {\n",
       "        vertical-align: top;\n",
       "    }\n",
       "\n",
       "    .dataframe thead th {\n",
       "        text-align: right;\n",
       "    }\n",
       "</style>\n",
       "<table border=\"1\" class=\"dataframe\">\n",
       "  <thead>\n",
       "    <tr style=\"text-align: right;\">\n",
       "      <th></th>\n",
       "      <th>head</th>\n",
       "      <th>body</th>\n",
       "      <th>hash</th>\n",
       "      <th>age</th>\n",
       "      <th>subject_mean_age</th>\n",
       "      <th>subject_highest_age</th>\n",
       "      <th>subject_age_sum</th>\n",
       "      <th>head_random_roll</th>\n",
       "      <th>count</th>\n",
       "      <th>n_fold</th>\n",
       "    </tr>\n",
       "  </thead>\n",
       "  <tbody>\n",
       "    <tr>\n",
       "      <th>7</th>\n",
       "      <td>OData</td>\n",
       "      <td>Batch Requests\\n- Definition: OData feature al...</td>\n",
       "      <td>2d2a252699fd9eabc119d7176626f059</td>\n",
       "      <td>-876.865613</td>\n",
       "      <td>-321.866911</td>\n",
       "      <td>876.865613</td>\n",
       "      <td>3218.669112</td>\n",
       "      <td>0.267308</td>\n",
       "      <td>0</td>\n",
       "      <td>0</td>\n",
       "    </tr>\n",
       "    <tr>\n",
       "      <th>82</th>\n",
       "      <td>OData</td>\n",
       "      <td>An ETag is a mechanism for concurrency control...</td>\n",
       "      <td>557d0d7d8e302eee017ebd6bb96d6128</td>\n",
       "      <td>-383.408558</td>\n",
       "      <td>-321.866911</td>\n",
       "      <td>876.865613</td>\n",
       "      <td>3218.669112</td>\n",
       "      <td>0.267308</td>\n",
       "      <td>3</td>\n",
       "      <td>0</td>\n",
       "    </tr>\n",
       "    <tr>\n",
       "      <th>154</th>\n",
       "      <td>OData</td>\n",
       "      <td>Fully qualified action and function names incl...</td>\n",
       "      <td>b07b4512d3b0c8312e62ba534df5f92f</td>\n",
       "      <td>-167.114365</td>\n",
       "      <td>-321.866911</td>\n",
       "      <td>876.865613</td>\n",
       "      <td>3218.669112</td>\n",
       "      <td>0.267308</td>\n",
       "      <td>6</td>\n",
       "      <td>0</td>\n",
       "    </tr>\n",
       "    <tr>\n",
       "      <th>226</th>\n",
       "      <td>OData</td>\n",
       "      <td>Functions MUST NOT have side-effects. Function...</td>\n",
       "      <td>d5261762efa4fd4c67815cd5ed7bb3a7</td>\n",
       "      <td>-50.540651</td>\n",
       "      <td>-321.866911</td>\n",
       "      <td>876.865613</td>\n",
       "      <td>3218.669112</td>\n",
       "      <td>0.267308</td>\n",
       "      <td>9</td>\n",
       "      <td>0</td>\n",
       "    </tr>\n",
       "    <tr>\n",
       "      <th>16</th>\n",
       "      <td>Azure AI Search</td>\n",
       "      <td>After the first indexer run, you can rerun it ...</td>\n",
       "      <td>32962e9b2ebb8fe8f74b47cd3080634c</td>\n",
       "      <td>-732.735823</td>\n",
       "      <td>-275.128994</td>\n",
       "      <td>732.735823</td>\n",
       "      <td>3851.805920</td>\n",
       "      <td>0.069320</td>\n",
       "      <td>0</td>\n",
       "      <td>0</td>\n",
       "    </tr>\n",
       "    <tr>\n",
       "      <th>91</th>\n",
       "      <td>Azure AI Search</td>\n",
       "      <td>You can run indexers on demand or on a recurri...</td>\n",
       "      <td>d21f788db3aa4c9876a0cd1b9fc6575a</td>\n",
       "      <td>-402.214799</td>\n",
       "      <td>-275.128994</td>\n",
       "      <td>732.735823</td>\n",
       "      <td>3851.805920</td>\n",
       "      <td>0.069320</td>\n",
       "      <td>3</td>\n",
       "      <td>0</td>\n",
       "    </tr>\n",
       "    <tr>\n",
       "      <th>163</th>\n",
       "      <td>Azure AI Search</td>\n",
       "      <td>A search service runs one indexer job per sear...</td>\n",
       "      <td>8ced20f45d99f3695593df15dc3bb81b</td>\n",
       "      <td>-268.780413</td>\n",
       "      <td>-275.128994</td>\n",
       "      <td>732.735823</td>\n",
       "      <td>3851.805920</td>\n",
       "      <td>0.069320</td>\n",
       "      <td>6</td>\n",
       "      <td>0</td>\n",
       "    </tr>\n",
       "    <tr>\n",
       "      <th>232</th>\n",
       "      <td>Azure AI Search</td>\n",
       "      <td>Integrated vectorization is an extension of th...</td>\n",
       "      <td>fefb72f4e20a03e6f44b64672d721418</td>\n",
       "      <td>-107.167595</td>\n",
       "      <td>-275.128994</td>\n",
       "      <td>732.735823</td>\n",
       "      <td>3851.805920</td>\n",
       "      <td>0.069320</td>\n",
       "      <td>9</td>\n",
       "      <td>0</td>\n",
       "    </tr>\n",
       "    <tr>\n",
       "      <th>296</th>\n",
       "      <td>Azure AI Search</td>\n",
       "      <td>A quick way to perform a preliminary check on ...</td>\n",
       "      <td>9b368be497f64f7521778d6f8408af62</td>\n",
       "      <td>-61.010841</td>\n",
       "      <td>-275.128994</td>\n",
       "      <td>732.735823</td>\n",
       "      <td>3851.805920</td>\n",
       "      <td>0.069320</td>\n",
       "      <td>12</td>\n",
       "      <td>0</td>\n",
       "    </tr>\n",
       "    <tr>\n",
       "      <th>13</th>\n",
       "      <td>Azure Functions</td>\n",
       "      <td>2. Suppose your Azure Function has a blob trig...</td>\n",
       "      <td>fc5054fcf13b3189012cf676692c4f29</td>\n",
       "      <td>-751.255276</td>\n",
       "      <td>-269.585622</td>\n",
       "      <td>751.255276</td>\n",
       "      <td>2965.441847</td>\n",
       "      <td>0.569127</td>\n",
       "      <td>0</td>\n",
       "      <td>0</td>\n",
       "    </tr>\n",
       "  </tbody>\n",
       "</table>\n",
       "</div>"
      ],
      "text/plain": [
       "                head                                               body  \\\n",
       "7              OData  Batch Requests\\n- Definition: OData feature al...   \n",
       "82             OData  An ETag is a mechanism for concurrency control...   \n",
       "154            OData  Fully qualified action and function names incl...   \n",
       "226            OData  Functions MUST NOT have side-effects. Function...   \n",
       "16   Azure AI Search  After the first indexer run, you can rerun it ...   \n",
       "91   Azure AI Search  You can run indexers on demand or on a recurri...   \n",
       "163  Azure AI Search  A search service runs one indexer job per sear...   \n",
       "232  Azure AI Search  Integrated vectorization is an extension of th...   \n",
       "296  Azure AI Search  A quick way to perform a preliminary check on ...   \n",
       "13   Azure Functions  2. Suppose your Azure Function has a blob trig...   \n",
       "\n",
       "                                 hash         age  subject_mean_age  \\\n",
       "7    2d2a252699fd9eabc119d7176626f059 -876.865613       -321.866911   \n",
       "82   557d0d7d8e302eee017ebd6bb96d6128 -383.408558       -321.866911   \n",
       "154  b07b4512d3b0c8312e62ba534df5f92f -167.114365       -321.866911   \n",
       "226  d5261762efa4fd4c67815cd5ed7bb3a7  -50.540651       -321.866911   \n",
       "16   32962e9b2ebb8fe8f74b47cd3080634c -732.735823       -275.128994   \n",
       "91   d21f788db3aa4c9876a0cd1b9fc6575a -402.214799       -275.128994   \n",
       "163  8ced20f45d99f3695593df15dc3bb81b -268.780413       -275.128994   \n",
       "232  fefb72f4e20a03e6f44b64672d721418 -107.167595       -275.128994   \n",
       "296  9b368be497f64f7521778d6f8408af62  -61.010841       -275.128994   \n",
       "13   fc5054fcf13b3189012cf676692c4f29 -751.255276       -269.585622   \n",
       "\n",
       "     subject_highest_age  subject_age_sum  head_random_roll  count  n_fold  \n",
       "7             876.865613      3218.669112          0.267308      0       0  \n",
       "82            876.865613      3218.669112          0.267308      3       0  \n",
       "154           876.865613      3218.669112          0.267308      6       0  \n",
       "226           876.865613      3218.669112          0.267308      9       0  \n",
       "16            732.735823      3851.805920          0.069320      0       0  \n",
       "91            732.735823      3851.805920          0.069320      3       0  \n",
       "163           732.735823      3851.805920          0.069320      6       0  \n",
       "232           732.735823      3851.805920          0.069320      9       0  \n",
       "296           732.735823      3851.805920          0.069320     12       0  \n",
       "13            751.255276      2965.441847          0.569127      0       0  "
      ]
     },
     "execution_count": 49,
     "metadata": {},
     "output_type": "execute_result"
    }
   ],
   "source": [
    "n=3\n",
    "existing_cards['count'] = existing_cards.sort_values('age', ascending=False).groupby('head').cumcount()\n",
    "existing_cards['n_fold'] = existing_cards['count'] % n\n",
    "\n",
    "existing_cards['subject_mean_age'] = existing_cards['subject_mean_age'] *-1\n",
    "existing_cards['age'] = existing_cards['age'] *-1\n",
    "existing_cards.sort_values(['n_fold', 'subject_mean_age', 'age'], inplace=True)\n",
    "remake_card_document(existing_cards=existing_cards)\n",
    "\n",
    "existing_cards.head(10)\n",
    "\n"
   ]
  },
  {
   "cell_type": "markdown",
   "metadata": {},
   "source": [
    "## Age Max"
   ]
  },
  {
   "cell_type": "code",
   "execution_count": 50,
   "metadata": {},
   "outputs": [],
   "source": [
    "# n = 1\n",
    "# existing_cards['count'] = existing_cards.sort_values('age', ascending=False).groupby('head').cumcount()\n",
    "# existing_cards['n_fold'] = existing_cards['count'] // n\n",
    "\n",
    "# if existing_cards['age'].sum() > 0:\n",
    "#     existing_cards['subject_highest_age'] = existing_cards['subject_highest_age'] *-1\n",
    "#     existing_cards['age'] = existing_cards['age'] *-1\n",
    "# existing_cards.sort_values(['n_fold', 'subject_highest_age', 'age'], inplace=True)\n",
    "\n",
    "# remake_card_document(existing_cards=existing_cards)\n",
    "# existing_cards.head(10)\n"
   ]
  },
  {
   "cell_type": "markdown",
   "metadata": {},
   "source": [
    "## Card Count"
   ]
  },
  {
   "cell_type": "code",
   "execution_count": 51,
   "metadata": {},
   "outputs": [],
   "source": [
    "# n=10\n",
    "# existing_cards['frequency']  = existing_cards.groupby('head').transform('count')['body']\n",
    "# existing_cards['count'] = existing_cards.sort_values('age', ascending=False).groupby('head').cumcount()\n",
    "# existing_cards['n_fold'] = existing_cards['count'] // n\n",
    "\n",
    "# if existing_cards['age'].sum() > 0:\n",
    "#     existing_cards['subject_highest_age'] = existing_cards['subject_highest_age'] *-1\n",
    "#     existing_cards['age'] = existing_cards['age'] *-1\n",
    "# existing_cards.sort_values(['n_fold', 'frequency', 'age'], inplace=True)\n",
    "# remake_card_document(existing_cards=existing_cards)\n",
    "\n",
    "# existing_cards.head(10)\n",
    "\n"
   ]
  },
  {
   "cell_type": "markdown",
   "metadata": {},
   "source": [
    "\n",
    "## Random"
   ]
  },
  {
   "cell_type": "code",
   "execution_count": 52,
   "metadata": {},
   "outputs": [],
   "source": [
    "# n = 3\n",
    "# existing_cards['count'] = existing_cards.sort_values('age', ascending=False).groupby('head').cumcount()\n",
    "# existing_cards['n_fold'] = existing_cards['count'] % n\n",
    "# existing_cards['age'] *= -1\n",
    "# existing_cards.sort_values(['n_fold', 'head_random_roll', 'age'], inplace=True)\n",
    "# remake_card_document(existing_cards=existing_cards)\n",
    "# existing_cards.head(10)"
   ]
  },
  {
   "cell_type": "code",
   "execution_count": 53,
   "metadata": {},
   "outputs": [
    {
     "data": {
      "application/vnd.microsoft.datawrangler.viewer.v0+json": {
       "columns": [
        {
         "name": "index",
         "rawType": "int64",
         "type": "integer"
        },
        {
         "name": "head",
         "rawType": "object",
         "type": "string"
        },
        {
         "name": "body",
         "rawType": "object",
         "type": "string"
        },
        {
         "name": "hash",
         "rawType": "object",
         "type": "string"
        },
        {
         "name": "age",
         "rawType": "float64",
         "type": "float"
        },
        {
         "name": "subject_mean_age",
         "rawType": "float64",
         "type": "float"
        },
        {
         "name": "subject_highest_age",
         "rawType": "float64",
         "type": "float"
        },
        {
         "name": "subject_age_sum",
         "rawType": "float64",
         "type": "float"
        },
        {
         "name": "head_random_roll",
         "rawType": "float64",
         "type": "float"
        },
        {
         "name": "count",
         "rawType": "int64",
         "type": "integer"
        },
        {
         "name": "n_fold",
         "rawType": "int64",
         "type": "integer"
        }
       ],
       "conversionMethod": "pd.DataFrame",
       "ref": "074bf2fd-bbe2-406a-bce1-c203aa6e1467",
       "rows": [
        [
         "7",
         "OData",
         "Batch Requests\n- Definition: OData feature allowing multiple operations (queries/updates) to be combined into a single HTTP request.\n- Context: Improves efficiency and reduces network overhead.",
         "2d2a252699fd9eabc119d7176626f059",
         "-876.8656131405851",
         "-321.86691119077926",
         "876.8656131405851",
         "3218.6691119077927",
         "0.2673075311225518",
         "0",
         "0"
        ],
        [
         "82",
         "OData",
         "An ETag is a mechanism for concurrency control in OData, representing a version identifier for a resource. It ensures that updates or deletions are performed on the correct version of a record, preventing conflicts and maintaining data integrity.",
         "557d0d7d8e302eee017ebd6bb96d6128",
         "-383.4085580796526",
         "-321.86691119077926",
         "876.8656131405851",
         "3218.6691119077927",
         "0.2673075311225518",
         "3",
         "0"
        ],
        [
         "154",
         "OData",
         "Fully qualified action and function names include a namespace or alias prefix. The Edm, odata and geo namespaces are reserved for the use of this specification.",
         "b07b4512d3b0c8312e62ba534df5f92f",
         "-167.11436530753937",
         "-321.86691119077926",
         "876.8656131405851",
         "3218.6691119077927",
         "0.2673075311225518",
         "6",
         "0"
        ],
        [
         "226",
         "OData",
         "Functions MUST NOT have side-effects. Functions can be invoked from a URL that addresses a resource or within an expression to a $filter or $orderby system query option.",
         "d5261762efa4fd4c67815cd5ed7bb3a7",
         "-50.54065136707755",
         "-321.86691119077926",
         "876.8656131405851",
         "3218.6691119077927",
         "0.2673075311225518",
         "9",
         "0"
        ],
        [
         "16",
         "Azure AI Search",
         "After the first indexer run, you can rerun it on demand or set up a schedule.\n\nYou can monitor indexer status in the Azure portal or through Get Indexer Status API. You should also run queries on the index to verify the result is what you expected.",
         "32962e9b2ebb8fe8f74b47cd3080634c",
         "-732.7358231147548",
         "-275.12899429844714",
         "732.7358231147548",
         "3851.8059201782603",
         "0.06932014092256766",
         "0",
         "0"
        ],
        [
         "91",
         "Azure AI Search",
         "You can run indexers on demand or on a recurring data refresh schedule that runs as often as every five minutes. More frequent updates preclude the use of indexers, requiring that you implement a 'push model' that simultaneously pushes data to both Azure AI Search and your external data source.",
         "d21f788db3aa4c9876a0cd1b9fc6575a",
         "-402.21479891470096",
         "-275.12899429844714",
         "732.7358231147548",
         "3851.8059201782603",
         "0.06932014092256766",
         "3",
         "0"
        ],
        [
         "163",
         "Azure AI Search",
         "A search service runs one indexer job per search unit. If you need concurrent processing, make sure you have sufficient replicas. Indexers don't run in the background, so you might detect more query throttling than usual if the service is under pressure.",
         "8ced20f45d99f3695593df15dc3bb81b",
         "-268.7804131646627",
         "-275.12899429844714",
         "732.7358231147548",
         "3851.8059201782603",
         "0.06932014092256766",
         "6",
         "0"
        ],
        [
         "232",
         "Azure AI Search",
         "Integrated vectorization is an extension of the indexing and query pipelines in Azure AI Search. It adds the following capabilities:\n\nData chunking during indexing\nText-to-vector conversion during indexing\nText-to-vector conversion during queries",
         "fefb72f4e20a03e6f44b64672d721418",
         "-107.16759459372214",
         "-275.12899429844714",
         "732.7358231147548",
         "3851.8059201782603",
         "0.06932014092256766",
         "9",
         "0"
        ],
        [
         "296",
         "Azure AI Search",
         "A quick way to perform a preliminary check on the document upload is to use Search explorer in the Azure portal.\nThe explorer lets you query an index without having to write any code. The search experience is based on default settings, such as the simple syntax and default searchMode query parameter. Results are returned in JSON so that you can inspect the entire document.",
         "9b368be497f64f7521778d6f8408af62",
         "-61.0108408142912",
         "-275.12899429844714",
         "732.7358231147548",
         "3851.8059201782603",
         "0.06932014092256766",
         "12",
         "0"
        ],
        [
         "13",
         "Azure Functions",
         "2. Suppose your Azure Function has a blob trigger associated with it and you want it to execute only when png images are uploaded. Which of the following blob trigger Path values should you use? \n\nsamples-workitems/{name}.png\nThe Path tells the blob trigger where it should monitor for changes, and if there are any filters applied. Adding a file extension to the Path specifies that uploaded files must have that file extension in order for the trigger to invoke the function.",
         "fc5054fcf13b3189012cf676692c4f29",
         "-751.2552759978074",
         "-269.58562245603406",
         "751.2552759978074",
         "2965.4418470163746",
         "0.5691266271588057",
         "0",
         "0"
        ]
       ],
       "shape": {
        "columns": 10,
        "rows": 10
       }
      },
      "text/html": [
       "<div>\n",
       "<style scoped>\n",
       "    .dataframe tbody tr th:only-of-type {\n",
       "        vertical-align: middle;\n",
       "    }\n",
       "\n",
       "    .dataframe tbody tr th {\n",
       "        vertical-align: top;\n",
       "    }\n",
       "\n",
       "    .dataframe thead th {\n",
       "        text-align: right;\n",
       "    }\n",
       "</style>\n",
       "<table border=\"1\" class=\"dataframe\">\n",
       "  <thead>\n",
       "    <tr style=\"text-align: right;\">\n",
       "      <th></th>\n",
       "      <th>head</th>\n",
       "      <th>body</th>\n",
       "      <th>hash</th>\n",
       "      <th>age</th>\n",
       "      <th>subject_mean_age</th>\n",
       "      <th>subject_highest_age</th>\n",
       "      <th>subject_age_sum</th>\n",
       "      <th>head_random_roll</th>\n",
       "      <th>count</th>\n",
       "      <th>n_fold</th>\n",
       "    </tr>\n",
       "  </thead>\n",
       "  <tbody>\n",
       "    <tr>\n",
       "      <th>7</th>\n",
       "      <td>OData</td>\n",
       "      <td>Batch Requests\\n- Definition: OData feature al...</td>\n",
       "      <td>2d2a252699fd9eabc119d7176626f059</td>\n",
       "      <td>-876.865613</td>\n",
       "      <td>-321.866911</td>\n",
       "      <td>876.865613</td>\n",
       "      <td>3218.669112</td>\n",
       "      <td>0.267308</td>\n",
       "      <td>0</td>\n",
       "      <td>0</td>\n",
       "    </tr>\n",
       "    <tr>\n",
       "      <th>82</th>\n",
       "      <td>OData</td>\n",
       "      <td>An ETag is a mechanism for concurrency control...</td>\n",
       "      <td>557d0d7d8e302eee017ebd6bb96d6128</td>\n",
       "      <td>-383.408558</td>\n",
       "      <td>-321.866911</td>\n",
       "      <td>876.865613</td>\n",
       "      <td>3218.669112</td>\n",
       "      <td>0.267308</td>\n",
       "      <td>3</td>\n",
       "      <td>0</td>\n",
       "    </tr>\n",
       "    <tr>\n",
       "      <th>154</th>\n",
       "      <td>OData</td>\n",
       "      <td>Fully qualified action and function names incl...</td>\n",
       "      <td>b07b4512d3b0c8312e62ba534df5f92f</td>\n",
       "      <td>-167.114365</td>\n",
       "      <td>-321.866911</td>\n",
       "      <td>876.865613</td>\n",
       "      <td>3218.669112</td>\n",
       "      <td>0.267308</td>\n",
       "      <td>6</td>\n",
       "      <td>0</td>\n",
       "    </tr>\n",
       "    <tr>\n",
       "      <th>226</th>\n",
       "      <td>OData</td>\n",
       "      <td>Functions MUST NOT have side-effects. Function...</td>\n",
       "      <td>d5261762efa4fd4c67815cd5ed7bb3a7</td>\n",
       "      <td>-50.540651</td>\n",
       "      <td>-321.866911</td>\n",
       "      <td>876.865613</td>\n",
       "      <td>3218.669112</td>\n",
       "      <td>0.267308</td>\n",
       "      <td>9</td>\n",
       "      <td>0</td>\n",
       "    </tr>\n",
       "    <tr>\n",
       "      <th>16</th>\n",
       "      <td>Azure AI Search</td>\n",
       "      <td>After the first indexer run, you can rerun it ...</td>\n",
       "      <td>32962e9b2ebb8fe8f74b47cd3080634c</td>\n",
       "      <td>-732.735823</td>\n",
       "      <td>-275.128994</td>\n",
       "      <td>732.735823</td>\n",
       "      <td>3851.805920</td>\n",
       "      <td>0.069320</td>\n",
       "      <td>0</td>\n",
       "      <td>0</td>\n",
       "    </tr>\n",
       "    <tr>\n",
       "      <th>91</th>\n",
       "      <td>Azure AI Search</td>\n",
       "      <td>You can run indexers on demand or on a recurri...</td>\n",
       "      <td>d21f788db3aa4c9876a0cd1b9fc6575a</td>\n",
       "      <td>-402.214799</td>\n",
       "      <td>-275.128994</td>\n",
       "      <td>732.735823</td>\n",
       "      <td>3851.805920</td>\n",
       "      <td>0.069320</td>\n",
       "      <td>3</td>\n",
       "      <td>0</td>\n",
       "    </tr>\n",
       "    <tr>\n",
       "      <th>163</th>\n",
       "      <td>Azure AI Search</td>\n",
       "      <td>A search service runs one indexer job per sear...</td>\n",
       "      <td>8ced20f45d99f3695593df15dc3bb81b</td>\n",
       "      <td>-268.780413</td>\n",
       "      <td>-275.128994</td>\n",
       "      <td>732.735823</td>\n",
       "      <td>3851.805920</td>\n",
       "      <td>0.069320</td>\n",
       "      <td>6</td>\n",
       "      <td>0</td>\n",
       "    </tr>\n",
       "    <tr>\n",
       "      <th>232</th>\n",
       "      <td>Azure AI Search</td>\n",
       "      <td>Integrated vectorization is an extension of th...</td>\n",
       "      <td>fefb72f4e20a03e6f44b64672d721418</td>\n",
       "      <td>-107.167595</td>\n",
       "      <td>-275.128994</td>\n",
       "      <td>732.735823</td>\n",
       "      <td>3851.805920</td>\n",
       "      <td>0.069320</td>\n",
       "      <td>9</td>\n",
       "      <td>0</td>\n",
       "    </tr>\n",
       "    <tr>\n",
       "      <th>296</th>\n",
       "      <td>Azure AI Search</td>\n",
       "      <td>A quick way to perform a preliminary check on ...</td>\n",
       "      <td>9b368be497f64f7521778d6f8408af62</td>\n",
       "      <td>-61.010841</td>\n",
       "      <td>-275.128994</td>\n",
       "      <td>732.735823</td>\n",
       "      <td>3851.805920</td>\n",
       "      <td>0.069320</td>\n",
       "      <td>12</td>\n",
       "      <td>0</td>\n",
       "    </tr>\n",
       "    <tr>\n",
       "      <th>13</th>\n",
       "      <td>Azure Functions</td>\n",
       "      <td>2. Suppose your Azure Function has a blob trig...</td>\n",
       "      <td>fc5054fcf13b3189012cf676692c4f29</td>\n",
       "      <td>-751.255276</td>\n",
       "      <td>-269.585622</td>\n",
       "      <td>751.255276</td>\n",
       "      <td>2965.441847</td>\n",
       "      <td>0.569127</td>\n",
       "      <td>0</td>\n",
       "      <td>0</td>\n",
       "    </tr>\n",
       "  </tbody>\n",
       "</table>\n",
       "</div>"
      ],
      "text/plain": [
       "                head                                               body  \\\n",
       "7              OData  Batch Requests\\n- Definition: OData feature al...   \n",
       "82             OData  An ETag is a mechanism for concurrency control...   \n",
       "154            OData  Fully qualified action and function names incl...   \n",
       "226            OData  Functions MUST NOT have side-effects. Function...   \n",
       "16   Azure AI Search  After the first indexer run, you can rerun it ...   \n",
       "91   Azure AI Search  You can run indexers on demand or on a recurri...   \n",
       "163  Azure AI Search  A search service runs one indexer job per sear...   \n",
       "232  Azure AI Search  Integrated vectorization is an extension of th...   \n",
       "296  Azure AI Search  A quick way to perform a preliminary check on ...   \n",
       "13   Azure Functions  2. Suppose your Azure Function has a blob trig...   \n",
       "\n",
       "                                 hash         age  subject_mean_age  \\\n",
       "7    2d2a252699fd9eabc119d7176626f059 -876.865613       -321.866911   \n",
       "82   557d0d7d8e302eee017ebd6bb96d6128 -383.408558       -321.866911   \n",
       "154  b07b4512d3b0c8312e62ba534df5f92f -167.114365       -321.866911   \n",
       "226  d5261762efa4fd4c67815cd5ed7bb3a7  -50.540651       -321.866911   \n",
       "16   32962e9b2ebb8fe8f74b47cd3080634c -732.735823       -275.128994   \n",
       "91   d21f788db3aa4c9876a0cd1b9fc6575a -402.214799       -275.128994   \n",
       "163  8ced20f45d99f3695593df15dc3bb81b -268.780413       -275.128994   \n",
       "232  fefb72f4e20a03e6f44b64672d721418 -107.167595       -275.128994   \n",
       "296  9b368be497f64f7521778d6f8408af62  -61.010841       -275.128994   \n",
       "13   fc5054fcf13b3189012cf676692c4f29 -751.255276       -269.585622   \n",
       "\n",
       "     subject_highest_age  subject_age_sum  head_random_roll  count  n_fold  \n",
       "7             876.865613      3218.669112          0.267308      0       0  \n",
       "82            876.865613      3218.669112          0.267308      3       0  \n",
       "154           876.865613      3218.669112          0.267308      6       0  \n",
       "226           876.865613      3218.669112          0.267308      9       0  \n",
       "16            732.735823      3851.805920          0.069320      0       0  \n",
       "91            732.735823      3851.805920          0.069320      3       0  \n",
       "163           732.735823      3851.805920          0.069320      6       0  \n",
       "232           732.735823      3851.805920          0.069320      9       0  \n",
       "296           732.735823      3851.805920          0.069320     12       0  \n",
       "13            751.255276      2965.441847          0.569127      0       0  "
      ]
     },
     "execution_count": 53,
     "metadata": {},
     "output_type": "execute_result"
    }
   ],
   "source": [
    "existing_cards.head(10)"
   ]
  },
  {
   "cell_type": "code",
   "execution_count": 54,
   "metadata": {},
   "outputs": [
    {
     "data": {
      "text/plain": [
       "-134.56221012537662"
      ]
     },
     "execution_count": 54,
     "metadata": {},
     "output_type": "execute_result"
    }
   ],
   "source": [
    "existing_cards['age'].mean()"
   ]
  }
 ],
 "metadata": {
  "kernelspec": {
   "display_name": "Python 3",
   "language": "python",
   "name": "python3"
  },
  "language_info": {
   "codemirror_mode": {
    "name": "ipython",
    "version": 3
   },
   "file_extension": ".py",
   "mimetype": "text/x-python",
   "name": "python",
   "nbconvert_exporter": "python",
   "pygments_lexer": "ipython3",
   "version": "3.10.10"
  }
 },
 "nbformat": 4,
 "nbformat_minor": 2
}
