{
 "cells": [
  {
   "cell_type": "code",
   "execution_count": 19,
   "metadata": {},
   "outputs": [],
   "source": [
    "import re\n",
    "import random\n",
    "import pandas as pd\n",
    "import hashlib"
   ]
  },
  {
   "cell_type": "code",
   "execution_count": 20,
   "metadata": {},
   "outputs": [],
   "source": [
    "with open('certcards2.txt', mode='r', encoding='utf8') as f:\n",
    "    all_cards = f.read()\n",
    "    \n",
    "card_split_pattern = r'\\n\\n\\n\\d+\\n'\n",
    "all_cards = re.split(card_split_pattern, all_cards)\n",
    "# Use re.DOTALL to allow . to match newline characters\n",
    "card_pattern = re.compile(r'(.+?)\\n([\\s\\S]+)', re.DOTALL)\n",
    "cards = [(match.group(1), match.group(2)) for cstring in all_cards if (match := re.search(card_pattern, cstring))]\n",
    "\n",
    "# removing the cards that have no content and trimming\n",
    "cards = [(subject, stripped_content) for subject, content in cards if len(stripped_content := content.strip()) > 5]\n",
    "\n",
    "def hash_string_md5(s):\n",
    "    \"\"\"\n",
    "    Hashes a string using MD5 and returns a truncated hash for efficiency.\n",
    "\n",
    "    Parameters:\n",
    "    - s (str): The input string to hash.\n",
    "\n",
    "    Returns:\n",
    "    - str: The truncated hexadecimal hash string.\n",
    "    \"\"\"\n",
    "    if pd.isnull(s):\n",
    "        return None  # Handle NaN values gracefully\n",
    "    return hashlib.md5(s.encode('utf-8')).hexdigest()\n",
    "\n",
    "\n",
    "def remake_card_document(existing_cards: pd.DataFrame, filename: str='certcards2.txt'):\n",
    "    with open(filename, mode='w', encoding='utf8') as f:\n",
    "        i = 1\n",
    "        for _, row in existing_cards.iterrows():\n",
    "            f.write('\\n'*6)\n",
    "            f.write(str(i)+'\\n')  \n",
    "            f.write(row['head']+'\\n')\n",
    "            f.write(row['body'])\n",
    "            i+=1\n",
    "    print(F\"Cards found: {existing_cards.shape[0]}\")\n",
    "\n",
    "\n",
    "existing_cards = pd.DataFrame(cards, columns=['head', 'body'])\n",
    "\n",
    "\n",
    "# existing_cards['age'] = [random.random() for _ in existing_cards.index]\n",
    "existing_cards['hash'] = existing_cards['body'].apply(hash_string_md5)\n",
    "existing_cards\n",
    "\n",
    "card_ages = pd.read_json('card_ages.json')\n",
    "card_ages = card_ages.drop_duplicates(subset=['hash'], keep='first')\n",
    "\n",
    "cards_to_age = pd.merge(\n",
    "    left=existing_cards,\n",
    "    right=card_ages[['hash', 'age']],\n",
    "    left_on='hash', right_on='hash',\n",
    "    how='left'\n",
    ")\n",
    "\n",
    "cards_to_age['head'] = cards_to_age['head'].str.strip()\n",
    "\n",
    "if cards_to_age['age'].sum() > 2e4: age_factor = 1\n",
    "else: age_factor = 1.00\n",
    "\n",
    "cards_to_age['age'] = cards_to_age['age'].fillna(0)\n",
    "cards_to_age['age'] = cards_to_age['age'] * age_factor\n",
    "cards_to_age['age'] = cards_to_age['age'] + [random.expovariate(.60) for _ in cards_to_age.index]\n",
    "# cards_to_age['age'] = cards_to_age['age'] * [random.expovariate(.5) for _ in cards_to_age.index]\n",
    "\n",
    "# Adding priority age growth to cards for upcoming certifications\n",
    "priority_headers = ['Azure Developer Associate']\n",
    "priority_cards_mask = cards_to_age['head'].isin(priority_headers)\n",
    "cards_to_age.loc[priority_cards_mask, 'age'] = cards_to_age.loc[priority_cards_mask, 'age'] * 1.1\n",
    "\n",
    "\n",
    "cards_to_age = cards_to_age.drop_duplicates(subset=['hash'], keep='first')\n",
    "\n",
    "cards_to_age['subject_mean_age'] = cards_to_age.groupby('head')['age'].transform('mean')\n",
    "cards_to_age['subject_highest_age'] = cards_to_age.groupby('head')['age'].transform('max')\n",
    "cards_to_age['subject_age_sum'] = cards_to_age.groupby('head')['age'].transform('sum')\n",
    "cards_to_age['head_random_roll'] = cards_to_age.groupby('head')['head'].transform(lambda x: random.random())\n",
    "\n",
    "\n",
    "cards_to_age.sort_values('hash')[['age', 'head', 'hash']].to_json('card_ages.json', indent=2)\n",
    "\n",
    "existing_cards = cards_to_age"
   ]
  },
  {
   "cell_type": "code",
   "execution_count": 21,
   "metadata": {},
   "outputs": [
    {
     "data": {
      "application/vnd.microsoft.datawrangler.viewer.v0+json": {
       "columns": [
        {
         "name": "index",
         "rawType": "object",
         "type": "string"
        },
        {
         "name": "age_sum",
         "rawType": "float64",
         "type": "float"
        },
        {
         "name": "age_mean",
         "rawType": "float64",
         "type": "float"
        },
        {
         "name": "age_max",
         "rawType": "float64",
         "type": "float"
        },
        {
         "name": "head_count",
         "rawType": "int64",
         "type": "integer"
        }
       ],
       "conversionMethod": "pd.DataFrame",
       "ref": "4484d76e-19f6-49a2-af0e-0c8f61f2e4ee",
       "rows": [
        [
         "Azure Developer Associate",
         "43.04520166178249",
         "2.8696801107854997",
         "8.158649186659906",
         "15"
        ],
        [
         "PEP 8",
         "262.57975447538894",
         "87.52658482512965",
         "109.86044779952225",
         "3"
        ],
        [
         "Python",
         "553.7412740570095",
         "11.78172923525552",
         "21.252431077484523",
         "47"
        ],
        [
         "Todd Ideas",
         "1012.1987394559773",
         "67.47991596373181",
         "156.18407745210436",
         "15"
        ],
        [
         "SharePoint",
         "1729.0049411747382",
         "144.08374509789485",
         "584.2927082619464",
         "12"
        ],
        [
         "Audit Report Tracker (Sharepoint List)",
         "1841.6161881713151",
         "141.66278370548577",
         "367.83660889482593",
         "13"
        ],
        [
         "Azure Functions + Visual Studio",
         "2009.9371156053644",
         "143.5669368289546",
         "485.3698409733064",
         "14"
        ],
        [
         "Debugging in VS Code",
         "2024.5983804353789",
         "101.22991902176895",
         "267.45582819657",
         "20"
        ],
        [
         "Terraform",
         "2169.2496050306772",
         "86.76998420122709",
         "258.667558195149",
         "25"
        ],
        [
         "IW Migration",
         "2203.2800951045497",
         "157.37714965032498",
         "471.8155606630756",
         "14"
        ],
        [
         "Open Source/GitHub",
         "2347.5556263380577",
         "146.7222266461286",
         "370.8409690263315",
         "16"
        ],
        [
         "Email Auth and Security",
         "2382.411844222506",
         "183.26244955557738",
         "900.3890878581983",
         "13"
        ],
        [
         "FSLogix",
         "2526.274080151756",
         "105.26142000632318",
         "265.5058179158693",
         "24"
        ],
        [
         "Azure Functions",
         "2938.2748702055264",
         "267.1158972914115",
         "748.1116605416162",
         "11"
        ],
        [
         "OData",
         "3204.2050087819393",
         "320.42050087819393",
         "876.8473373640581",
         "10"
        ],
        [
         "DNS",
         "3206.6434695214616",
         "200.41521684509135",
         "406.76670500821",
         "16"
        ],
        [
         "WSL + Kali Linux",
         "3397.164004815467",
         "178.79810551660353",
         "412.1557521177071",
         "19"
        ],
        [
         "Azure AI Search",
         "3827.9973107755604",
         "273.42837934111145",
         "728.9767337357388",
         "14"
        ],
        [
         "Powershell Modules",
         "4906.790034804226",
         "163.55966782680753",
         "682.3823226390814",
         "30"
        ],
        [
         "Azure Functions + PP365",
         "5310.540838726866",
         "212.42163354907464",
         "1058.06055585782",
         "25"
        ],
        [
         "Home Network Project",
         "5600.273762632669",
         "294.7512506648773",
         "1200.080702939473",
         "19"
        ],
        [
         "PnP Powershell",
         "6825.339503497144",
         "179.61419746045115",
         "658.0783861733718",
         "38"
        ],
        [
         "Vocab",
         "6874.218130679521",
         "104.15482016181092",
         "864.6541714308506",
         "66"
        ],
        [
         "JavaScript Concepts",
         "7311.223884814488",
         "119.8561292592539",
         "434.3263736998799",
         "61"
        ],
        [
         "Logging in Python",
         "8902.516338558262",
         "148.37527230930436",
         "1032.8980734001593",
         "60"
        ]
       ],
       "shape": {
        "columns": 4,
        "rows": 25
       }
      },
      "text/html": [
       "<div>\n",
       "<style scoped>\n",
       "    .dataframe tbody tr th:only-of-type {\n",
       "        vertical-align: middle;\n",
       "    }\n",
       "\n",
       "    .dataframe tbody tr th {\n",
       "        vertical-align: top;\n",
       "    }\n",
       "\n",
       "    .dataframe thead th {\n",
       "        text-align: right;\n",
       "    }\n",
       "</style>\n",
       "<table border=\"1\" class=\"dataframe\">\n",
       "  <thead>\n",
       "    <tr style=\"text-align: right;\">\n",
       "      <th></th>\n",
       "      <th>age_sum</th>\n",
       "      <th>age_mean</th>\n",
       "      <th>age_max</th>\n",
       "      <th>head_count</th>\n",
       "    </tr>\n",
       "  </thead>\n",
       "  <tbody>\n",
       "    <tr>\n",
       "      <th>Azure Developer Associate</th>\n",
       "      <td>43.045202</td>\n",
       "      <td>2.869680</td>\n",
       "      <td>8.158649</td>\n",
       "      <td>15</td>\n",
       "    </tr>\n",
       "    <tr>\n",
       "      <th>PEP 8</th>\n",
       "      <td>262.579754</td>\n",
       "      <td>87.526585</td>\n",
       "      <td>109.860448</td>\n",
       "      <td>3</td>\n",
       "    </tr>\n",
       "    <tr>\n",
       "      <th>Python</th>\n",
       "      <td>553.741274</td>\n",
       "      <td>11.781729</td>\n",
       "      <td>21.252431</td>\n",
       "      <td>47</td>\n",
       "    </tr>\n",
       "    <tr>\n",
       "      <th>Todd Ideas</th>\n",
       "      <td>1012.198739</td>\n",
       "      <td>67.479916</td>\n",
       "      <td>156.184077</td>\n",
       "      <td>15</td>\n",
       "    </tr>\n",
       "    <tr>\n",
       "      <th>SharePoint</th>\n",
       "      <td>1729.004941</td>\n",
       "      <td>144.083745</td>\n",
       "      <td>584.292708</td>\n",
       "      <td>12</td>\n",
       "    </tr>\n",
       "    <tr>\n",
       "      <th>Audit Report Tracker (Sharepoint List)</th>\n",
       "      <td>1841.616188</td>\n",
       "      <td>141.662784</td>\n",
       "      <td>367.836609</td>\n",
       "      <td>13</td>\n",
       "    </tr>\n",
       "    <tr>\n",
       "      <th>Azure Functions + Visual Studio</th>\n",
       "      <td>2009.937116</td>\n",
       "      <td>143.566937</td>\n",
       "      <td>485.369841</td>\n",
       "      <td>14</td>\n",
       "    </tr>\n",
       "    <tr>\n",
       "      <th>Debugging in VS Code</th>\n",
       "      <td>2024.598380</td>\n",
       "      <td>101.229919</td>\n",
       "      <td>267.455828</td>\n",
       "      <td>20</td>\n",
       "    </tr>\n",
       "    <tr>\n",
       "      <th>Terraform</th>\n",
       "      <td>2169.249605</td>\n",
       "      <td>86.769984</td>\n",
       "      <td>258.667558</td>\n",
       "      <td>25</td>\n",
       "    </tr>\n",
       "    <tr>\n",
       "      <th>IW Migration</th>\n",
       "      <td>2203.280095</td>\n",
       "      <td>157.377150</td>\n",
       "      <td>471.815561</td>\n",
       "      <td>14</td>\n",
       "    </tr>\n",
       "    <tr>\n",
       "      <th>Open Source/GitHub</th>\n",
       "      <td>2347.555626</td>\n",
       "      <td>146.722227</td>\n",
       "      <td>370.840969</td>\n",
       "      <td>16</td>\n",
       "    </tr>\n",
       "    <tr>\n",
       "      <th>Email Auth and Security</th>\n",
       "      <td>2382.411844</td>\n",
       "      <td>183.262450</td>\n",
       "      <td>900.389088</td>\n",
       "      <td>13</td>\n",
       "    </tr>\n",
       "    <tr>\n",
       "      <th>FSLogix</th>\n",
       "      <td>2526.274080</td>\n",
       "      <td>105.261420</td>\n",
       "      <td>265.505818</td>\n",
       "      <td>24</td>\n",
       "    </tr>\n",
       "    <tr>\n",
       "      <th>Azure Functions</th>\n",
       "      <td>2938.274870</td>\n",
       "      <td>267.115897</td>\n",
       "      <td>748.111661</td>\n",
       "      <td>11</td>\n",
       "    </tr>\n",
       "    <tr>\n",
       "      <th>OData</th>\n",
       "      <td>3204.205009</td>\n",
       "      <td>320.420501</td>\n",
       "      <td>876.847337</td>\n",
       "      <td>10</td>\n",
       "    </tr>\n",
       "    <tr>\n",
       "      <th>DNS</th>\n",
       "      <td>3206.643470</td>\n",
       "      <td>200.415217</td>\n",
       "      <td>406.766705</td>\n",
       "      <td>16</td>\n",
       "    </tr>\n",
       "    <tr>\n",
       "      <th>WSL + Kali Linux</th>\n",
       "      <td>3397.164005</td>\n",
       "      <td>178.798106</td>\n",
       "      <td>412.155752</td>\n",
       "      <td>19</td>\n",
       "    </tr>\n",
       "    <tr>\n",
       "      <th>Azure AI Search</th>\n",
       "      <td>3827.997311</td>\n",
       "      <td>273.428379</td>\n",
       "      <td>728.976734</td>\n",
       "      <td>14</td>\n",
       "    </tr>\n",
       "    <tr>\n",
       "      <th>Powershell Modules</th>\n",
       "      <td>4906.790035</td>\n",
       "      <td>163.559668</td>\n",
       "      <td>682.382323</td>\n",
       "      <td>30</td>\n",
       "    </tr>\n",
       "    <tr>\n",
       "      <th>Azure Functions + PP365</th>\n",
       "      <td>5310.540839</td>\n",
       "      <td>212.421634</td>\n",
       "      <td>1058.060556</td>\n",
       "      <td>25</td>\n",
       "    </tr>\n",
       "    <tr>\n",
       "      <th>Home Network Project</th>\n",
       "      <td>5600.273763</td>\n",
       "      <td>294.751251</td>\n",
       "      <td>1200.080703</td>\n",
       "      <td>19</td>\n",
       "    </tr>\n",
       "    <tr>\n",
       "      <th>PnP Powershell</th>\n",
       "      <td>6825.339503</td>\n",
       "      <td>179.614197</td>\n",
       "      <td>658.078386</td>\n",
       "      <td>38</td>\n",
       "    </tr>\n",
       "    <tr>\n",
       "      <th>Vocab</th>\n",
       "      <td>6874.218131</td>\n",
       "      <td>104.154820</td>\n",
       "      <td>864.654171</td>\n",
       "      <td>66</td>\n",
       "    </tr>\n",
       "    <tr>\n",
       "      <th>JavaScript Concepts</th>\n",
       "      <td>7311.223885</td>\n",
       "      <td>119.856129</td>\n",
       "      <td>434.326374</td>\n",
       "      <td>61</td>\n",
       "    </tr>\n",
       "    <tr>\n",
       "      <th>Logging in Python</th>\n",
       "      <td>8902.516339</td>\n",
       "      <td>148.375272</td>\n",
       "      <td>1032.898073</td>\n",
       "      <td>60</td>\n",
       "    </tr>\n",
       "  </tbody>\n",
       "</table>\n",
       "</div>"
      ],
      "text/plain": [
       "                                            age_sum    age_mean      age_max  \\\n",
       "Azure Developer Associate                 43.045202    2.869680     8.158649   \n",
       "PEP 8                                    262.579754   87.526585   109.860448   \n",
       "Python                                   553.741274   11.781729    21.252431   \n",
       "Todd Ideas                              1012.198739   67.479916   156.184077   \n",
       "SharePoint                              1729.004941  144.083745   584.292708   \n",
       "Audit Report Tracker (Sharepoint List)  1841.616188  141.662784   367.836609   \n",
       "Azure Functions + Visual Studio         2009.937116  143.566937   485.369841   \n",
       "Debugging in VS Code                    2024.598380  101.229919   267.455828   \n",
       "Terraform                               2169.249605   86.769984   258.667558   \n",
       "IW Migration                            2203.280095  157.377150   471.815561   \n",
       "Open Source/GitHub                      2347.555626  146.722227   370.840969   \n",
       "Email Auth and Security                 2382.411844  183.262450   900.389088   \n",
       "FSLogix                                 2526.274080  105.261420   265.505818   \n",
       "Azure Functions                         2938.274870  267.115897   748.111661   \n",
       "OData                                   3204.205009  320.420501   876.847337   \n",
       "DNS                                     3206.643470  200.415217   406.766705   \n",
       "WSL + Kali Linux                        3397.164005  178.798106   412.155752   \n",
       "Azure AI Search                         3827.997311  273.428379   728.976734   \n",
       "Powershell Modules                      4906.790035  163.559668   682.382323   \n",
       "Azure Functions + PP365                 5310.540839  212.421634  1058.060556   \n",
       "Home Network Project                    5600.273763  294.751251  1200.080703   \n",
       "PnP Powershell                          6825.339503  179.614197   658.078386   \n",
       "Vocab                                   6874.218131  104.154820   864.654171   \n",
       "JavaScript Concepts                     7311.223885  119.856129   434.326374   \n",
       "Logging in Python                       8902.516339  148.375272  1032.898073   \n",
       "\n",
       "                                        head_count  \n",
       "Azure Developer Associate                       15  \n",
       "PEP 8                                            3  \n",
       "Python                                          47  \n",
       "Todd Ideas                                      15  \n",
       "SharePoint                                      12  \n",
       "Audit Report Tracker (Sharepoint List)          13  \n",
       "Azure Functions + Visual Studio                 14  \n",
       "Debugging in VS Code                            20  \n",
       "Terraform                                       25  \n",
       "IW Migration                                    14  \n",
       "Open Source/GitHub                              16  \n",
       "Email Auth and Security                         13  \n",
       "FSLogix                                         24  \n",
       "Azure Functions                                 11  \n",
       "OData                                           10  \n",
       "DNS                                             16  \n",
       "WSL + Kali Linux                                19  \n",
       "Azure AI Search                                 14  \n",
       "Powershell Modules                              30  \n",
       "Azure Functions + PP365                         25  \n",
       "Home Network Project                            19  \n",
       "PnP Powershell                                  38  \n",
       "Vocab                                           66  \n",
       "JavaScript Concepts                             61  \n",
       "Logging in Python                               60  "
      ]
     },
     "execution_count": 21,
     "metadata": {},
     "output_type": "execute_result"
    }
   ],
   "source": [
    "stats = existing_cards.groupby('head').agg({'age': ['sum', 'mean', 'max'], 'head': 'count'}).sort_values(('age', 'sum'))\n",
    "stats.columns = stats.columns.to_flat_index()\n",
    "stats.columns = ['_'.join(col).strip() for col in stats.columns]\n",
    "stats.index.name = None\n",
    "stats"
   ]
  },
  {
   "cell_type": "code",
   "execution_count": null,
   "metadata": {},
   "outputs": [],
   "source": []
  },
  {
   "cell_type": "markdown",
   "metadata": {},
   "source": [
    "# Histogram"
   ]
  },
  {
   "cell_type": "code",
   "execution_count": 22,
   "metadata": {},
   "outputs": [
    {
     "name": "stdout",
     "output_type": "stream",
     "text": [
      "83410.68\n"
     ]
    },
    {
     "data": {
      "text/plain": [
       "<Axes: >"
      ]
     },
     "execution_count": 22,
     "metadata": {},
     "output_type": "execute_result"
    },
    {
     "data": {
      "image/png": "[encoded data removed]",
      "text/plain": [
       "<Figure size 640x480 with 1 Axes>"
      ]
     },
     "metadata": {},
     "output_type": "display_data"
    }
   ],
   "source": [
    "print(f\"{existing_cards['age'].sum(0):.2f}\")\n",
    "existing_cards['age'].hist(bins=20)"
   ]
  },
  {
   "cell_type": "markdown",
   "metadata": {},
   "source": [
    "# Completely Random Shuffle"
   ]
  },
  {
   "cell_type": "code",
   "execution_count": 23,
   "metadata": {},
   "outputs": [],
   "source": [
    "# existing_cards = existing_cards.sample(frac=1)\n",
    "# remake_card_document(filename='certcards2.txt', existing_cards = existing_cards)"
   ]
  },
  {
   "cell_type": "markdown",
   "metadata": {},
   "source": [
    "# Age Sort"
   ]
  },
  {
   "cell_type": "code",
   "execution_count": 24,
   "metadata": {},
   "outputs": [],
   "source": [
    "# existing_cards = existing_cards.sort_values('age', ascending=False)\n",
    "# remake_card_document(filename='certcards2.txt', existing_cards=existing_cards)\n",
    "# existing_cards.head(10)"
   ]
  },
  {
   "cell_type": "markdown",
   "metadata": {},
   "source": [
    "# Headers with fewest notes first"
   ]
  },
  {
   "cell_type": "code",
   "execution_count": 25,
   "metadata": {},
   "outputs": [],
   "source": [
    "# frequency = existing_cards['head'].value_counts(ascending=True)\n",
    "\n",
    "# existing_cards = pd.merge(\n",
    "#     left=existing_cards,\n",
    "#     right=frequency.rename('frequency'),\n",
    "#     left_on='head', right_index=True,\n",
    "#     how='left'\n",
    "# )\n",
    "# existing_cards['oldest'] = existing_cards.groupby('head')['age'].transform('max')\n",
    "# existing_cards['subject_highest_age'] = existing_cards['subject_highest_age'] * -1\n",
    "# existing_cards['age'] = existing_cards['age'] * -1\n",
    "\n",
    "\n",
    "# existing_cards.sort_values(['frequency', 'subject_highest_age', 'age'], ascending=True, inplace=True)\n",
    "\n",
    "# remake_card_document(filename='certcards2.txt', existing_cards=existing_cards)\n",
    "\n",
    "# existing_cards.head(10)"
   ]
  },
  {
   "cell_type": "markdown",
   "metadata": {},
   "source": [
    "# Focus on one header"
   ]
  },
  {
   "cell_type": "code",
   "execution_count": 26,
   "metadata": {},
   "outputs": [],
   "source": [
    "# heads = existing_cards['head'].value_counts()\n",
    "# heads = heads[heads > 5].index.tolist()\n",
    "# one_header = random.sample(heads, 1)[0]\n",
    "# existing_cards['pick_head'] = existing_cards['head'].apply(\n",
    "#     lambda h: 0 if h == one_header else 1 \n",
    "# )\n",
    "\n",
    "# remake_card_document(existing_cards=existing_cards.sort_values('pick_head'))"
   ]
  },
  {
   "cell_type": "markdown",
   "metadata": {},
   "source": [
    "## Header with oldest cards first"
   ]
  },
  {
   "cell_type": "code",
   "execution_count": 27,
   "metadata": {},
   "outputs": [],
   "source": [
    "# existing_cards['oldest'] = existing_cards.groupby('head')['age'].transform('max')\n",
    "# existing_cards.sort_values(['oldest', 'age'], ascending=False, inplace=True)\n",
    "# remake_card_document(existing_cards)"
   ]
  },
  {
   "cell_type": "markdown",
   "metadata": {},
   "source": [
    "## Headers with greatest mean card age first"
   ]
  },
  {
   "cell_type": "code",
   "execution_count": 28,
   "metadata": {},
   "outputs": [],
   "source": [
    "# existing_cards.sort_values(['subject_mean_age', 'age'], ascending=False, inplace=True)\n",
    "# remake_card_document(existing_cards)"
   ]
  },
  {
   "cell_type": "markdown",
   "metadata": {},
   "source": [
    "## Headers with greatest age sum first"
   ]
  },
  {
   "cell_type": "code",
   "execution_count": 29,
   "metadata": {},
   "outputs": [],
   "source": [
    "# existing_cards.sort_values(['subject_age_sum', 'age'], ascending=False, inplace=True)\n",
    "# remake_card_document(existing_cards)"
   ]
  },
  {
   "cell_type": "markdown",
   "metadata": {},
   "source": [
    "# N-fold shuffle\n"
   ]
  },
  {
   "cell_type": "markdown",
   "metadata": {},
   "source": [
    "## Age Sum"
   ]
  },
  {
   "cell_type": "code",
   "execution_count": 30,
   "metadata": {},
   "outputs": [],
   "source": [
    "# n=3\n",
    "# existing_cards['count'] = existing_cards.sort_values('age', ascending=False).groupby('head').cumcount()\n",
    "# existing_cards['n_fold'] = existing_cards['count'] % n\n",
    "\n",
    "# existing_cards['subject_age_sum'] = existing_cards['subject_age_sum'] *-1\n",
    "# existing_cards['age'] = existing_cards['age'] *-1\n",
    "# existing_cards.sort_values(['n_fold', 'subject_age_sum', 'age'], inplace=True)\n",
    "\n",
    "# remake_card_document(existing_cards=existing_cards)\n",
    "# existing_cards.head(10)\n"
   ]
  },
  {
   "cell_type": "markdown",
   "metadata": {},
   "source": [
    "## Age Mean"
   ]
  },
  {
   "cell_type": "code",
   "execution_count": 31,
   "metadata": {},
   "outputs": [],
   "source": [
    "# n=3\n",
    "# existing_cards['count'] = existing_cards.sort_values('age', ascending=False).groupby('head').cumcount()\n",
    "# existing_cards['n_fold'] = existing_cards['count'] % n\n",
    "\n",
    "# existing_cards['subject_mean_age'] = existing_cards['subject_mean_age'] *-1\n",
    "# existing_cards['age'] = existing_cards['age'] *-1\n",
    "# existing_cards.sort_values(['n_fold', 'subject_mean_age', 'age'], inplace=True)\n",
    "# remake_card_document(existing_cards=existing_cards)\n",
    "\n",
    "# existing_cards.head(10)\n",
    "\n"
   ]
  },
  {
   "cell_type": "markdown",
   "metadata": {},
   "source": [
    "## Age Max"
   ]
  },
  {
   "cell_type": "code",
   "execution_count": 32,
   "metadata": {},
   "outputs": [
    {
     "name": "stdout",
     "output_type": "stream",
     "text": [
      "Cards found: 600\n"
     ]
    },
    {
     "data": {
      "application/vnd.microsoft.datawrangler.viewer.v0+json": {
       "columns": [
        {
         "name": "index",
         "rawType": "int64",
         "type": "integer"
        },
        {
         "name": "head",
         "rawType": "object",
         "type": "string"
        },
        {
         "name": "body",
         "rawType": "object",
         "type": "string"
        },
        {
         "name": "hash",
         "rawType": "object",
         "type": "string"
        },
        {
         "name": "age",
         "rawType": "float64",
         "type": "float"
        },
        {
         "name": "subject_mean_age",
         "rawType": "float64",
         "type": "float"
        },
        {
         "name": "subject_highest_age",
         "rawType": "float64",
         "type": "float"
        },
        {
         "name": "subject_age_sum",
         "rawType": "float64",
         "type": "float"
        },
        {
         "name": "head_random_roll",
         "rawType": "float64",
         "type": "float"
        },
        {
         "name": "count",
         "rawType": "int64",
         "type": "integer"
        },
        {
         "name": "n_fold",
         "rawType": "int64",
         "type": "integer"
        }
       ],
       "conversionMethod": "pd.DataFrame",
       "ref": "319a2a04-e43e-4a85-9953-0ea767e226e4",
       "rows": [
        [
         "0",
         "Home Network Project",
         "Front: What is TLS Termination and why is it used in reverse proxies?\n\nBack: TLS Termination refers to the process of decrypting incoming TLS/SSL encrypted traffic at the reverse proxy level before forwarding it to backend servers. It offloads the computationally intensive decryption task from backend servers, improves performance, and allows for centralized management of SSL certificates.",
         "5297051eea9892af904815d3794faf15",
         "-1200.080702939473",
         "294.7512506648773",
         "-1200.080702939473",
         "5600.273762632669",
         "0.6183637892874703",
         "0",
         "0"
        ],
        [
         "1",
         "Home Network Project",
         "Front: Explain the difference between a Docker Image and a Docker Container.\n\nBack:\nDocker Image: A read-only template that contains the application and all its dependencies required to run it. Images are built from Dockerfiles and serve as the blueprint for containers.\nDocker Container: A runnable instance of a Docker image. Containers are created from images and can be started, stopped, moved, and deleted independently.",
         "cae03ba26ac3afa5df9d5bb453b94dfd",
         "-797.176527053654",
         "294.7512506648773",
         "-1200.080702939473",
         "5600.273762632669",
         "0.6183637892874703",
         "1",
         "0"
        ],
        [
         "2",
         "Home Network Project",
         "What is the command to update and upgrade packages on a Debian-based system like Raspberry Pi OS?\n\nbash\nsudo apt update && sudo apt upgrade -y",
         "d0a754737eef42e651e9fff08f6a6292",
         "-528.2063634517301",
         "294.7512506648773",
         "-1200.080702939473",
         "5600.273762632669",
         "0.6183637892874703",
         "2",
         "0"
        ],
        [
         "3",
         "Azure Functions + PP365",
         "Azure SDK for Python\nA collection of libraries provided by Microsoft to interact with Azure services using Python. The Azure SDK for Python simplifies the integration of Azure Functions with services like Azure Storage, Cosmos DB, and Azure Key Vault, providing robust and consistent APIs for developers.",
         "80100a754471176d4959736d67f857f0",
         "-1058.06055585782",
         "212.42163354907464",
         "-1058.06055585782",
         "5310.540838726866",
         "0.13229631053667923",
         "0",
         "0"
        ],
        [
         "4",
         "Azure Functions + PP365",
         "Managed Identity Credential Acquisition\nThe process by which an Azure service with a managed identity obtains an access token from Azure AD. This token is used to authenticate requests to other Azure services, ensuring secure and seamless communication without the need for manual credential management.",
         "ce72b3d8456df269fc6040c655b72f2a",
         "-681.5228168231374",
         "212.42163354907464",
         "-1058.06055585782",
         "5310.540838726866",
         "0.13229631053667923",
         "1",
         "0"
        ],
        [
         "5",
         "Azure Functions + PP365",
         "Environment Variables\nVariables set in the operating environment that can be accessed by applications. In Python Azure Functions, environment variables are used to store configuration data, secrets, and connection strings securely, allowing functions to adapt to different environments without code changes.",
         "06639ebf4c2d551971c41702ef6dfed2",
         "-421.6638763112851",
         "212.42163354907464",
         "-1058.06055585782",
         "5310.540838726866",
         "0.13229631053667923",
         "2",
         "0"
        ],
        [
         "6",
         "Logging in Python",
         "Q: What does the exc_info parameter do in logging methods like logger.error() from the logging module?\n\nA: exc_info=True\nThis includes exception traceback information in the log message, aiding in debugging.",
         "99985def14861364c32ddb3b87ea135b",
         "-1032.8980734001593",
         "148.37527230930436",
         "-1032.8980734001593",
         "8902.516338558262",
         "0.974539817895531",
         "0",
         "0"
        ],
        [
         "7",
         "Logging in Python",
         "Q: What is the primary purpose of TimedRotatingFileHandler from the logging.handlers module?\n\nA: To rotate log files at specific timed intervals, such as daily or hourly (when='midnight').\nThis ensures that log files are segmented based on time, facilitating organized log management.",
         "faa326e87e35a9c530e145d8221882e1",
         "-956.5543891187732",
         "148.37527230930436",
         "-1032.8980734001593",
         "8902.516338558262",
         "0.974539817895531",
         "1",
         "0"
        ],
        [
         "8",
         "Logging in Python",
         "Q: In TimedRotatingFileHandler from the logging.handlers module, what does the when parameter specify?\n\nA: when='midnight'\nThis parameter sets the interval type for rotating logs, such as daily at midnight.",
         "d53f8f76d58dd27e3ded74f30a190cb4",
         "-687.3832513007213",
         "148.37527230930436",
         "-1032.8980734001593",
         "8902.516338558262",
         "0.974539817895531",
         "2",
         "0"
        ],
        [
         "9",
         "Email Auth and Security",
         "Identifier Alignment\n\nEnsuring that the domains used in SPF and DKIM authentication align with the domain in the email's \"From\" header.\nCritical for DMARC to function correctly.\nCan be achieved through relaxed alignment (subdomains are allowed) or strict alignment (exact match required).",
         "74a89604ca7b2e38b605e5efbb01fe47",
         "-900.3890878581983",
         "183.26244955557738",
         "-900.3890878581983",
         "2382.411844222506",
         "0.3748898059103386",
         "0",
         "0"
        ]
       ],
       "shape": {
        "columns": 10,
        "rows": 10
       }
      },
      "text/html": [
       "<div>\n",
       "<style scoped>\n",
       "    .dataframe tbody tr th:only-of-type {\n",
       "        vertical-align: middle;\n",
       "    }\n",
       "\n",
       "    .dataframe tbody tr th {\n",
       "        vertical-align: top;\n",
       "    }\n",
       "\n",
       "    .dataframe thead th {\n",
       "        text-align: right;\n",
       "    }\n",
       "</style>\n",
       "<table border=\"1\" class=\"dataframe\">\n",
       "  <thead>\n",
       "    <tr style=\"text-align: right;\">\n",
       "      <th></th>\n",
       "      <th>head</th>\n",
       "      <th>body</th>\n",
       "      <th>hash</th>\n",
       "      <th>age</th>\n",
       "      <th>subject_mean_age</th>\n",
       "      <th>subject_highest_age</th>\n",
       "      <th>subject_age_sum</th>\n",
       "      <th>head_random_roll</th>\n",
       "      <th>count</th>\n",
       "      <th>n_fold</th>\n",
       "    </tr>\n",
       "  </thead>\n",
       "  <tbody>\n",
       "    <tr>\n",
       "      <th>0</th>\n",
       "      <td>Home Network Project</td>\n",
       "      <td>Front: What is TLS Termination and why is it u...</td>\n",
       "      <td>5297051eea9892af904815d3794faf15</td>\n",
       "      <td>-1200.080703</td>\n",
       "      <td>294.751251</td>\n",
       "      <td>-1200.080703</td>\n",
       "      <td>5600.273763</td>\n",
       "      <td>0.618364</td>\n",
       "      <td>0</td>\n",
       "      <td>0</td>\n",
       "    </tr>\n",
       "    <tr>\n",
       "      <th>1</th>\n",
       "      <td>Home Network Project</td>\n",
       "      <td>Front: Explain the difference between a Docker...</td>\n",
       "      <td>cae03ba26ac3afa5df9d5bb453b94dfd</td>\n",
       "      <td>-797.176527</td>\n",
       "      <td>294.751251</td>\n",
       "      <td>-1200.080703</td>\n",
       "      <td>5600.273763</td>\n",
       "      <td>0.618364</td>\n",
       "      <td>1</td>\n",
       "      <td>0</td>\n",
       "    </tr>\n",
       "    <tr>\n",
       "      <th>2</th>\n",
       "      <td>Home Network Project</td>\n",
       "      <td>What is the command to update and upgrade pack...</td>\n",
       "      <td>d0a754737eef42e651e9fff08f6a6292</td>\n",
       "      <td>-528.206363</td>\n",
       "      <td>294.751251</td>\n",
       "      <td>-1200.080703</td>\n",
       "      <td>5600.273763</td>\n",
       "      <td>0.618364</td>\n",
       "      <td>2</td>\n",
       "      <td>0</td>\n",
       "    </tr>\n",
       "    <tr>\n",
       "      <th>3</th>\n",
       "      <td>Azure Functions + PP365</td>\n",
       "      <td>Azure SDK for Python\\nA collection of librarie...</td>\n",
       "      <td>80100a754471176d4959736d67f857f0</td>\n",
       "      <td>-1058.060556</td>\n",
       "      <td>212.421634</td>\n",
       "      <td>-1058.060556</td>\n",
       "      <td>5310.540839</td>\n",
       "      <td>0.132296</td>\n",
       "      <td>0</td>\n",
       "      <td>0</td>\n",
       "    </tr>\n",
       "    <tr>\n",
       "      <th>4</th>\n",
       "      <td>Azure Functions + PP365</td>\n",
       "      <td>Managed Identity Credential Acquisition\\nThe p...</td>\n",
       "      <td>ce72b3d8456df269fc6040c655b72f2a</td>\n",
       "      <td>-681.522817</td>\n",
       "      <td>212.421634</td>\n",
       "      <td>-1058.060556</td>\n",
       "      <td>5310.540839</td>\n",
       "      <td>0.132296</td>\n",
       "      <td>1</td>\n",
       "      <td>0</td>\n",
       "    </tr>\n",
       "    <tr>\n",
       "      <th>5</th>\n",
       "      <td>Azure Functions + PP365</td>\n",
       "      <td>Environment Variables\\nVariables set in the op...</td>\n",
       "      <td>06639ebf4c2d551971c41702ef6dfed2</td>\n",
       "      <td>-421.663876</td>\n",
       "      <td>212.421634</td>\n",
       "      <td>-1058.060556</td>\n",
       "      <td>5310.540839</td>\n",
       "      <td>0.132296</td>\n",
       "      <td>2</td>\n",
       "      <td>0</td>\n",
       "    </tr>\n",
       "    <tr>\n",
       "      <th>6</th>\n",
       "      <td>Logging in Python</td>\n",
       "      <td>Q: What does the exc_info parameter do in logg...</td>\n",
       "      <td>99985def14861364c32ddb3b87ea135b</td>\n",
       "      <td>-1032.898073</td>\n",
       "      <td>148.375272</td>\n",
       "      <td>-1032.898073</td>\n",
       "      <td>8902.516339</td>\n",
       "      <td>0.974540</td>\n",
       "      <td>0</td>\n",
       "      <td>0</td>\n",
       "    </tr>\n",
       "    <tr>\n",
       "      <th>7</th>\n",
       "      <td>Logging in Python</td>\n",
       "      <td>Q: What is the primary purpose of TimedRotatin...</td>\n",
       "      <td>faa326e87e35a9c530e145d8221882e1</td>\n",
       "      <td>-956.554389</td>\n",
       "      <td>148.375272</td>\n",
       "      <td>-1032.898073</td>\n",
       "      <td>8902.516339</td>\n",
       "      <td>0.974540</td>\n",
       "      <td>1</td>\n",
       "      <td>0</td>\n",
       "    </tr>\n",
       "    <tr>\n",
       "      <th>8</th>\n",
       "      <td>Logging in Python</td>\n",
       "      <td>Q: In TimedRotatingFileHandler from the loggin...</td>\n",
       "      <td>d53f8f76d58dd27e3ded74f30a190cb4</td>\n",
       "      <td>-687.383251</td>\n",
       "      <td>148.375272</td>\n",
       "      <td>-1032.898073</td>\n",
       "      <td>8902.516339</td>\n",
       "      <td>0.974540</td>\n",
       "      <td>2</td>\n",
       "      <td>0</td>\n",
       "    </tr>\n",
       "    <tr>\n",
       "      <th>9</th>\n",
       "      <td>Email Auth and Security</td>\n",
       "      <td>Identifier Alignment\\n\\nEnsuring that the doma...</td>\n",
       "      <td>74a89604ca7b2e38b605e5efbb01fe47</td>\n",
       "      <td>-900.389088</td>\n",
       "      <td>183.262450</td>\n",
       "      <td>-900.389088</td>\n",
       "      <td>2382.411844</td>\n",
       "      <td>0.374890</td>\n",
       "      <td>0</td>\n",
       "      <td>0</td>\n",
       "    </tr>\n",
       "  </tbody>\n",
       "</table>\n",
       "</div>"
      ],
      "text/plain": [
       "                      head                                               body  \\\n",
       "0     Home Network Project  Front: What is TLS Termination and why is it u...   \n",
       "1     Home Network Project  Front: Explain the difference between a Docker...   \n",
       "2     Home Network Project  What is the command to update and upgrade pack...   \n",
       "3  Azure Functions + PP365  Azure SDK for Python\\nA collection of librarie...   \n",
       "4  Azure Functions + PP365  Managed Identity Credential Acquisition\\nThe p...   \n",
       "5  Azure Functions + PP365  Environment Variables\\nVariables set in the op...   \n",
       "6        Logging in Python  Q: What does the exc_info parameter do in logg...   \n",
       "7        Logging in Python  Q: What is the primary purpose of TimedRotatin...   \n",
       "8        Logging in Python  Q: In TimedRotatingFileHandler from the loggin...   \n",
       "9  Email Auth and Security  Identifier Alignment\\n\\nEnsuring that the doma...   \n",
       "\n",
       "                               hash          age  subject_mean_age  \\\n",
       "0  5297051eea9892af904815d3794faf15 -1200.080703        294.751251   \n",
       "1  cae03ba26ac3afa5df9d5bb453b94dfd  -797.176527        294.751251   \n",
       "2  d0a754737eef42e651e9fff08f6a6292  -528.206363        294.751251   \n",
       "3  80100a754471176d4959736d67f857f0 -1058.060556        212.421634   \n",
       "4  ce72b3d8456df269fc6040c655b72f2a  -681.522817        212.421634   \n",
       "5  06639ebf4c2d551971c41702ef6dfed2  -421.663876        212.421634   \n",
       "6  99985def14861364c32ddb3b87ea135b -1032.898073        148.375272   \n",
       "7  faa326e87e35a9c530e145d8221882e1  -956.554389        148.375272   \n",
       "8  d53f8f76d58dd27e3ded74f30a190cb4  -687.383251        148.375272   \n",
       "9  74a89604ca7b2e38b605e5efbb01fe47  -900.389088        183.262450   \n",
       "\n",
       "   subject_highest_age  subject_age_sum  head_random_roll  count  n_fold  \n",
       "0         -1200.080703      5600.273763          0.618364      0       0  \n",
       "1         -1200.080703      5600.273763          0.618364      1       0  \n",
       "2         -1200.080703      5600.273763          0.618364      2       0  \n",
       "3         -1058.060556      5310.540839          0.132296      0       0  \n",
       "4         -1058.060556      5310.540839          0.132296      1       0  \n",
       "5         -1058.060556      5310.540839          0.132296      2       0  \n",
       "6         -1032.898073      8902.516339          0.974540      0       0  \n",
       "7         -1032.898073      8902.516339          0.974540      1       0  \n",
       "8         -1032.898073      8902.516339          0.974540      2       0  \n",
       "9          -900.389088      2382.411844          0.374890      0       0  "
      ]
     },
     "execution_count": 32,
     "metadata": {},
     "output_type": "execute_result"
    }
   ],
   "source": [
    "n = 3\n",
    "existing_cards['count'] = existing_cards.sort_values('age', ascending=False).groupby('head').cumcount()\n",
    "existing_cards['n_fold'] = existing_cards['count'] // n\n",
    "\n",
    "if existing_cards['age'].sum() > 0:\n",
    "    existing_cards['subject_highest_age'] = existing_cards['subject_highest_age'] *-1\n",
    "    existing_cards['age'] = existing_cards['age'] *-1\n",
    "existing_cards.sort_values(['n_fold', 'subject_highest_age', 'age'], inplace=True)\n",
    "\n",
    "remake_card_document(existing_cards=existing_cards)\n",
    "existing_cards.head(10)\n"
   ]
  },
  {
   "cell_type": "markdown",
   "metadata": {},
   "source": [
    "## Card Count"
   ]
  },
  {
   "cell_type": "code",
   "execution_count": 33,
   "metadata": {},
   "outputs": [],
   "source": [
    "# n=10\n",
    "# existing_cards['frequency']  = existing_cards.groupby('head').transform('count')['body']\n",
    "# existing_cards['count'] = existing_cards.sort_values('age', ascending=False).groupby('head').cumcount()\n",
    "# existing_cards['n_fold'] = existing_cards['count'] // n\n",
    "\n",
    "# if existing_cards['age'].sum() > 0:\n",
    "#     existing_cards['subject_highest_age'] = existing_cards['subject_highest_age'] *-1\n",
    "#     existing_cards['age'] = existing_cards['age'] *-1\n",
    "# existing_cards.sort_values(['n_fold', 'frequency', 'age'], inplace=True)\n",
    "# remake_card_document(existing_cards=existing_cards)\n",
    "\n",
    "# existing_cards.head(10)\n",
    "\n"
   ]
  },
  {
   "cell_type": "markdown",
   "metadata": {},
   "source": [
    "\n",
    "## Random"
   ]
  },
  {
   "cell_type": "code",
   "execution_count": 34,
   "metadata": {},
   "outputs": [],
   "source": [
    "# n = 3\n",
    "# existing_cards['count'] = existing_cards.sort_values('age', ascending=False).groupby('head').cumcount()\n",
    "# existing_cards['n_fold'] = existing_cards['count'] % n\n",
    "# existing_cards['age'] *= -1\n",
    "# existing_cards.sort_values(['n_fold', 'head_random_roll', 'age'], inplace=True)\n",
    "# remake_card_document(existing_cards=existing_cards)\n",
    "# existing_cards.head(10)"
   ]
  },
  {
   "cell_type": "code",
   "execution_count": 35,
   "metadata": {},
   "outputs": [
    {
     "data": {
      "application/vnd.microsoft.datawrangler.viewer.v0+json": {
       "columns": [
        {
         "name": "index",
         "rawType": "int64",
         "type": "integer"
        },
        {
         "name": "head",
         "rawType": "object",
         "type": "string"
        },
        {
         "name": "body",
         "rawType": "object",
         "type": "string"
        },
        {
         "name": "hash",
         "rawType": "object",
         "type": "string"
        },
        {
         "name": "age",
         "rawType": "float64",
         "type": "float"
        },
        {
         "name": "subject_mean_age",
         "rawType": "float64",
         "type": "float"
        },
        {
         "name": "subject_highest_age",
         "rawType": "float64",
         "type": "float"
        },
        {
         "name": "subject_age_sum",
         "rawType": "float64",
         "type": "float"
        },
        {
         "name": "head_random_roll",
         "rawType": "float64",
         "type": "float"
        },
        {
         "name": "count",
         "rawType": "int64",
         "type": "integer"
        },
        {
         "name": "n_fold",
         "rawType": "int64",
         "type": "integer"
        }
       ],
       "conversionMethod": "pd.DataFrame",
       "ref": "ce0e9655-9d9d-4f5f-be03-0e35b1bd3e53",
       "rows": [
        [
         "0",
         "Home Network Project",
         "Front: What is TLS Termination and why is it used in reverse proxies?\n\nBack: TLS Termination refers to the process of decrypting incoming TLS/SSL encrypted traffic at the reverse proxy level before forwarding it to backend servers. It offloads the computationally intensive decryption task from backend servers, improves performance, and allows for centralized management of SSL certificates.",
         "5297051eea9892af904815d3794faf15",
         "-1200.080702939473",
         "294.7512506648773",
         "-1200.080702939473",
         "5600.273762632669",
         "0.6183637892874703",
         "0",
         "0"
        ],
        [
         "1",
         "Home Network Project",
         "Front: Explain the difference between a Docker Image and a Docker Container.\n\nBack:\nDocker Image: A read-only template that contains the application and all its dependencies required to run it. Images are built from Dockerfiles and serve as the blueprint for containers.\nDocker Container: A runnable instance of a Docker image. Containers are created from images and can be started, stopped, moved, and deleted independently.",
         "cae03ba26ac3afa5df9d5bb453b94dfd",
         "-797.176527053654",
         "294.7512506648773",
         "-1200.080702939473",
         "5600.273762632669",
         "0.6183637892874703",
         "1",
         "0"
        ],
        [
         "2",
         "Home Network Project",
         "What is the command to update and upgrade packages on a Debian-based system like Raspberry Pi OS?\n\nbash\nsudo apt update && sudo apt upgrade -y",
         "d0a754737eef42e651e9fff08f6a6292",
         "-528.2063634517301",
         "294.7512506648773",
         "-1200.080702939473",
         "5600.273762632669",
         "0.6183637892874703",
         "2",
         "0"
        ],
        [
         "3",
         "Azure Functions + PP365",
         "Azure SDK for Python\nA collection of libraries provided by Microsoft to interact with Azure services using Python. The Azure SDK for Python simplifies the integration of Azure Functions with services like Azure Storage, Cosmos DB, and Azure Key Vault, providing robust and consistent APIs for developers.",
         "80100a754471176d4959736d67f857f0",
         "-1058.06055585782",
         "212.42163354907464",
         "-1058.06055585782",
         "5310.540838726866",
         "0.13229631053667923",
         "0",
         "0"
        ],
        [
         "4",
         "Azure Functions + PP365",
         "Managed Identity Credential Acquisition\nThe process by which an Azure service with a managed identity obtains an access token from Azure AD. This token is used to authenticate requests to other Azure services, ensuring secure and seamless communication without the need for manual credential management.",
         "ce72b3d8456df269fc6040c655b72f2a",
         "-681.5228168231374",
         "212.42163354907464",
         "-1058.06055585782",
         "5310.540838726866",
         "0.13229631053667923",
         "1",
         "0"
        ],
        [
         "5",
         "Azure Functions + PP365",
         "Environment Variables\nVariables set in the operating environment that can be accessed by applications. In Python Azure Functions, environment variables are used to store configuration data, secrets, and connection strings securely, allowing functions to adapt to different environments without code changes.",
         "06639ebf4c2d551971c41702ef6dfed2",
         "-421.6638763112851",
         "212.42163354907464",
         "-1058.06055585782",
         "5310.540838726866",
         "0.13229631053667923",
         "2",
         "0"
        ],
        [
         "6",
         "Logging in Python",
         "Q: What does the exc_info parameter do in logging methods like logger.error() from the logging module?\n\nA: exc_info=True\nThis includes exception traceback information in the log message, aiding in debugging.",
         "99985def14861364c32ddb3b87ea135b",
         "-1032.8980734001593",
         "148.37527230930436",
         "-1032.8980734001593",
         "8902.516338558262",
         "0.974539817895531",
         "0",
         "0"
        ],
        [
         "7",
         "Logging in Python",
         "Q: What is the primary purpose of TimedRotatingFileHandler from the logging.handlers module?\n\nA: To rotate log files at specific timed intervals, such as daily or hourly (when='midnight').\nThis ensures that log files are segmented based on time, facilitating organized log management.",
         "faa326e87e35a9c530e145d8221882e1",
         "-956.5543891187732",
         "148.37527230930436",
         "-1032.8980734001593",
         "8902.516338558262",
         "0.974539817895531",
         "1",
         "0"
        ],
        [
         "8",
         "Logging in Python",
         "Q: In TimedRotatingFileHandler from the logging.handlers module, what does the when parameter specify?\n\nA: when='midnight'\nThis parameter sets the interval type for rotating logs, such as daily at midnight.",
         "d53f8f76d58dd27e3ded74f30a190cb4",
         "-687.3832513007213",
         "148.37527230930436",
         "-1032.8980734001593",
         "8902.516338558262",
         "0.974539817895531",
         "2",
         "0"
        ],
        [
         "9",
         "Email Auth and Security",
         "Identifier Alignment\n\nEnsuring that the domains used in SPF and DKIM authentication align with the domain in the email's \"From\" header.\nCritical for DMARC to function correctly.\nCan be achieved through relaxed alignment (subdomains are allowed) or strict alignment (exact match required).",
         "74a89604ca7b2e38b605e5efbb01fe47",
         "-900.3890878581983",
         "183.26244955557738",
         "-900.3890878581983",
         "2382.411844222506",
         "0.3748898059103386",
         "0",
         "0"
        ]
       ],
       "shape": {
        "columns": 10,
        "rows": 10
       }
      },
      "text/html": [
       "<div>\n",
       "<style scoped>\n",
       "    .dataframe tbody tr th:only-of-type {\n",
       "        vertical-align: middle;\n",
       "    }\n",
       "\n",
       "    .dataframe tbody tr th {\n",
       "        vertical-align: top;\n",
       "    }\n",
       "\n",
       "    .dataframe thead th {\n",
       "        text-align: right;\n",
       "    }\n",
       "</style>\n",
       "<table border=\"1\" class=\"dataframe\">\n",
       "  <thead>\n",
       "    <tr style=\"text-align: right;\">\n",
       "      <th></th>\n",
       "      <th>head</th>\n",
       "      <th>body</th>\n",
       "      <th>hash</th>\n",
       "      <th>age</th>\n",
       "      <th>subject_mean_age</th>\n",
       "      <th>subject_highest_age</th>\n",
       "      <th>subject_age_sum</th>\n",
       "      <th>head_random_roll</th>\n",
       "      <th>count</th>\n",
       "      <th>n_fold</th>\n",
       "    </tr>\n",
       "  </thead>\n",
       "  <tbody>\n",
       "    <tr>\n",
       "      <th>0</th>\n",
       "      <td>Home Network Project</td>\n",
       "      <td>Front: What is TLS Termination and why is it u...</td>\n",
       "      <td>5297051eea9892af904815d3794faf15</td>\n",
       "      <td>-1200.080703</td>\n",
       "      <td>294.751251</td>\n",
       "      <td>-1200.080703</td>\n",
       "      <td>5600.273763</td>\n",
       "      <td>0.618364</td>\n",
       "      <td>0</td>\n",
       "      <td>0</td>\n",
       "    </tr>\n",
       "    <tr>\n",
       "      <th>1</th>\n",
       "      <td>Home Network Project</td>\n",
       "      <td>Front: Explain the difference between a Docker...</td>\n",
       "      <td>cae03ba26ac3afa5df9d5bb453b94dfd</td>\n",
       "      <td>-797.176527</td>\n",
       "      <td>294.751251</td>\n",
       "      <td>-1200.080703</td>\n",
       "      <td>5600.273763</td>\n",
       "      <td>0.618364</td>\n",
       "      <td>1</td>\n",
       "      <td>0</td>\n",
       "    </tr>\n",
       "    <tr>\n",
       "      <th>2</th>\n",
       "      <td>Home Network Project</td>\n",
       "      <td>What is the command to update and upgrade pack...</td>\n",
       "      <td>d0a754737eef42e651e9fff08f6a6292</td>\n",
       "      <td>-528.206363</td>\n",
       "      <td>294.751251</td>\n",
       "      <td>-1200.080703</td>\n",
       "      <td>5600.273763</td>\n",
       "      <td>0.618364</td>\n",
       "      <td>2</td>\n",
       "      <td>0</td>\n",
       "    </tr>\n",
       "    <tr>\n",
       "      <th>3</th>\n",
       "      <td>Azure Functions + PP365</td>\n",
       "      <td>Azure SDK for Python\\nA collection of librarie...</td>\n",
       "      <td>80100a754471176d4959736d67f857f0</td>\n",
       "      <td>-1058.060556</td>\n",
       "      <td>212.421634</td>\n",
       "      <td>-1058.060556</td>\n",
       "      <td>5310.540839</td>\n",
       "      <td>0.132296</td>\n",
       "      <td>0</td>\n",
       "      <td>0</td>\n",
       "    </tr>\n",
       "    <tr>\n",
       "      <th>4</th>\n",
       "      <td>Azure Functions + PP365</td>\n",
       "      <td>Managed Identity Credential Acquisition\\nThe p...</td>\n",
       "      <td>ce72b3d8456df269fc6040c655b72f2a</td>\n",
       "      <td>-681.522817</td>\n",
       "      <td>212.421634</td>\n",
       "      <td>-1058.060556</td>\n",
       "      <td>5310.540839</td>\n",
       "      <td>0.132296</td>\n",
       "      <td>1</td>\n",
       "      <td>0</td>\n",
       "    </tr>\n",
       "    <tr>\n",
       "      <th>5</th>\n",
       "      <td>Azure Functions + PP365</td>\n",
       "      <td>Environment Variables\\nVariables set in the op...</td>\n",
       "      <td>06639ebf4c2d551971c41702ef6dfed2</td>\n",
       "      <td>-421.663876</td>\n",
       "      <td>212.421634</td>\n",
       "      <td>-1058.060556</td>\n",
       "      <td>5310.540839</td>\n",
       "      <td>0.132296</td>\n",
       "      <td>2</td>\n",
       "      <td>0</td>\n",
       "    </tr>\n",
       "    <tr>\n",
       "      <th>6</th>\n",
       "      <td>Logging in Python</td>\n",
       "      <td>Q: What does the exc_info parameter do in logg...</td>\n",
       "      <td>99985def14861364c32ddb3b87ea135b</td>\n",
       "      <td>-1032.898073</td>\n",
       "      <td>148.375272</td>\n",
       "      <td>-1032.898073</td>\n",
       "      <td>8902.516339</td>\n",
       "      <td>0.974540</td>\n",
       "      <td>0</td>\n",
       "      <td>0</td>\n",
       "    </tr>\n",
       "    <tr>\n",
       "      <th>7</th>\n",
       "      <td>Logging in Python</td>\n",
       "      <td>Q: What is the primary purpose of TimedRotatin...</td>\n",
       "      <td>faa326e87e35a9c530e145d8221882e1</td>\n",
       "      <td>-956.554389</td>\n",
       "      <td>148.375272</td>\n",
       "      <td>-1032.898073</td>\n",
       "      <td>8902.516339</td>\n",
       "      <td>0.974540</td>\n",
       "      <td>1</td>\n",
       "      <td>0</td>\n",
       "    </tr>\n",
       "    <tr>\n",
       "      <th>8</th>\n",
       "      <td>Logging in Python</td>\n",
       "      <td>Q: In TimedRotatingFileHandler from the loggin...</td>\n",
       "      <td>d53f8f76d58dd27e3ded74f30a190cb4</td>\n",
       "      <td>-687.383251</td>\n",
       "      <td>148.375272</td>\n",
       "      <td>-1032.898073</td>\n",
       "      <td>8902.516339</td>\n",
       "      <td>0.974540</td>\n",
       "      <td>2</td>\n",
       "      <td>0</td>\n",
       "    </tr>\n",
       "    <tr>\n",
       "      <th>9</th>\n",
       "      <td>Email Auth and Security</td>\n",
       "      <td>Identifier Alignment\\n\\nEnsuring that the doma...</td>\n",
       "      <td>74a89604ca7b2e38b605e5efbb01fe47</td>\n",
       "      <td>-900.389088</td>\n",
       "      <td>183.262450</td>\n",
       "      <td>-900.389088</td>\n",
       "      <td>2382.411844</td>\n",
       "      <td>0.374890</td>\n",
       "      <td>0</td>\n",
       "      <td>0</td>\n",
       "    </tr>\n",
       "  </tbody>\n",
       "</table>\n",
       "</div>"
      ],
      "text/plain": [
       "                      head                                               body  \\\n",
       "0     Home Network Project  Front: What is TLS Termination and why is it u...   \n",
       "1     Home Network Project  Front: Explain the difference between a Docker...   \n",
       "2     Home Network Project  What is the command to update and upgrade pack...   \n",
       "3  Azure Functions + PP365  Azure SDK for Python\\nA collection of librarie...   \n",
       "4  Azure Functions + PP365  Managed Identity Credential Acquisition\\nThe p...   \n",
       "5  Azure Functions + PP365  Environment Variables\\nVariables set in the op...   \n",
       "6        Logging in Python  Q: What does the exc_info parameter do in logg...   \n",
       "7        Logging in Python  Q: What is the primary purpose of TimedRotatin...   \n",
       "8        Logging in Python  Q: In TimedRotatingFileHandler from the loggin...   \n",
       "9  Email Auth and Security  Identifier Alignment\\n\\nEnsuring that the doma...   \n",
       "\n",
       "                               hash          age  subject_mean_age  \\\n",
       "0  5297051eea9892af904815d3794faf15 -1200.080703        294.751251   \n",
       "1  cae03ba26ac3afa5df9d5bb453b94dfd  -797.176527        294.751251   \n",
       "2  d0a754737eef42e651e9fff08f6a6292  -528.206363        294.751251   \n",
       "3  80100a754471176d4959736d67f857f0 -1058.060556        212.421634   \n",
       "4  ce72b3d8456df269fc6040c655b72f2a  -681.522817        212.421634   \n",
       "5  06639ebf4c2d551971c41702ef6dfed2  -421.663876        212.421634   \n",
       "6  99985def14861364c32ddb3b87ea135b -1032.898073        148.375272   \n",
       "7  faa326e87e35a9c530e145d8221882e1  -956.554389        148.375272   \n",
       "8  d53f8f76d58dd27e3ded74f30a190cb4  -687.383251        148.375272   \n",
       "9  74a89604ca7b2e38b605e5efbb01fe47  -900.389088        183.262450   \n",
       "\n",
       "   subject_highest_age  subject_age_sum  head_random_roll  count  n_fold  \n",
       "0         -1200.080703      5600.273763          0.618364      0       0  \n",
       "1         -1200.080703      5600.273763          0.618364      1       0  \n",
       "2         -1200.080703      5600.273763          0.618364      2       0  \n",
       "3         -1058.060556      5310.540839          0.132296      0       0  \n",
       "4         -1058.060556      5310.540839          0.132296      1       0  \n",
       "5         -1058.060556      5310.540839          0.132296      2       0  \n",
       "6         -1032.898073      8902.516339          0.974540      0       0  \n",
       "7         -1032.898073      8902.516339          0.974540      1       0  \n",
       "8         -1032.898073      8902.516339          0.974540      2       0  \n",
       "9          -900.389088      2382.411844          0.374890      0       0  "
      ]
     },
     "execution_count": 35,
     "metadata": {},
     "output_type": "execute_result"
    }
   ],
   "source": [
    "existing_cards.head(10)"
   ]
  },
  {
   "cell_type": "code",
   "execution_count": 36,
   "metadata": {},
   "outputs": [
    {
     "data": {
      "text/plain": [
       "-139.0178000061627"
      ]
     },
     "execution_count": 36,
     "metadata": {},
     "output_type": "execute_result"
    }
   ],
   "source": [
    "existing_cards['age'].mean()"
   ]
  }
 ],
 "metadata": {
  "kernelspec": {
   "display_name": "Python 3",
   "language": "python",
   "name": "python3"
  },
  "language_info": {
   "codemirror_mode": {
    "name": "ipython",
    "version": 3
   },
   "file_extension": ".py",
   "mimetype": "text/x-python",
   "name": "python",
   "nbconvert_exporter": "python",
   "pygments_lexer": "ipython3",
   "version": "3.10.10"
  }
 },
 "nbformat": 4,
 "nbformat_minor": 2
}
