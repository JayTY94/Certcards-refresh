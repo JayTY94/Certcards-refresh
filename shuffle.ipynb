{
 "cells": [
  {
   "cell_type": "code",
   "execution_count": 74,
   "metadata": {},
   "outputs": [],
   "source": [
    "import re\n",
    "import random\n",
    "import pandas as pd\n",
    "import hashlib"
   ]
  },
  {
   "cell_type": "code",
   "execution_count": 75,
   "metadata": {},
   "outputs": [],
   "source": [
    "with open('certcards2.txt', mode='r', encoding='utf8') as f:\n",
    "    all_cards = f.read()\n",
    "    \n",
    "card_split_pattern = r'\\n\\n\\n\\d+\\n'\n",
    "all_cards = re.split(card_split_pattern, all_cards)\n",
    "# Use re.DOTALL to allow . to match newline characters\n",
    "card_pattern = re.compile(r'(.+?)\\n([\\s\\S]+)', re.DOTALL)\n",
    "cards = [(match.group(1), match.group(2)) for cstring in all_cards if (match := re.search(card_pattern, cstring))]\n",
    "\n",
    "# removing the cards that have no content and trimming\n",
    "cards = [(subject, stripped_content) for subject, content in cards if len(stripped_content := content.strip()) > 5]\n",
    "\n",
    "def hash_string_md5(s):\n",
    "    \"\"\"\n",
    "    Hashes a string using MD5 and returns a truncated hash for efficiency.\n",
    "\n",
    "    Parameters:\n",
    "    - s (str): The input string to hash.\n",
    "\n",
    "    Returns:\n",
    "    - str: The truncated hexadecimal hash string.\n",
    "    \"\"\"\n",
    "    if pd.isnull(s):\n",
    "        return None  # Handle NaN values gracefully\n",
    "    return hashlib.md5(s.encode('utf-8')).hexdigest()  # Truncate to first 12 characters\n",
    "\n",
    "\n",
    "def remake_card_document(existing_cards: pd.DataFrame, filename: str='certcards2.txt'):\n",
    "    with open(filename, mode='w', encoding='utf8') as f:\n",
    "        i = 1\n",
    "        for _, row in existing_cards.iterrows():\n",
    "            f.write('\\n'*6)\n",
    "            f.write(str(i)+'\\n')  \n",
    "            f.write(row['head']+'\\n')\n",
    "            f.write(row['body'])\n",
    "            i+=1\n",
    "    print(F\"Cards found: {existing_cards.shape[0]}\")\n",
    "\n",
    "\n",
    "existing_cards = pd.DataFrame(cards, columns=['head', 'body'])\n",
    "\n",
    "\n",
    "# existing_cards['age'] = [random.random() for _ in existing_cards.index]\n",
    "existing_cards['hash'] = existing_cards['body'].apply(hash_string_md5)\n",
    "existing_cards\n",
    "\n",
    "card_ages = pd.read_json('card_ages.json')\n",
    "card_ages = card_ages.drop_duplicates(subset=['hash'], keep='first')\n",
    "\n",
    "cards_to_age = pd.merge(\n",
    "    left=existing_cards,\n",
    "    right=card_ages[['hash', 'age']],\n",
    "    left_on='hash', right_on='hash',\n",
    "    how='left'\n",
    ")\n",
    "\n",
    "cards_to_age['head'] = cards_to_age['head'].str.strip()\n",
    "\n",
    "if cards_to_age['age'].sum() > 2e4: age_factor = 1\n",
    "else: age_factor = 1.00\n",
    "\n",
    "cards_to_age['age'] = cards_to_age['age'].fillna(0)\n",
    "cards_to_age['age'] = cards_to_age['age'] * age_factor\n",
    "cards_to_age['age'] = cards_to_age['age'] + [random.expovariate(.60) for _ in cards_to_age.index]\n",
    "# cards_to_age['age'] = cards_to_age['age'] * [random.expovariate(.5) for _ in cards_to_age.index]\n",
    "\n",
    "\n",
    "cards_to_age = cards_to_age.drop_duplicates(subset=['hash'], keep='first')\n",
    "\n",
    "cards_to_age['subject_mean_age'] = cards_to_age.groupby('head')['age'].transform('mean')\n",
    "cards_to_age['subject_highest_age'] = cards_to_age.groupby('head')['age'].transform('max')\n",
    "cards_to_age['subject_age_sum'] = cards_to_age.groupby('head')['age'].transform('sum')\n",
    "cards_to_age['head_random_roll'] = cards_to_age.groupby('head')['head'].transform(lambda x: random.random())\n",
    "\n",
    "\n",
    "cards_to_age.sort_values('age')[['age', 'head', 'hash']].to_json('card_ages.json', indent=2)\n",
    "\n",
    "existing_cards = cards_to_age"
   ]
  },
  {
   "cell_type": "code",
   "execution_count": 76,
   "metadata": {},
   "outputs": [
    {
     "data": {
      "application/vnd.microsoft.datawrangler.viewer.v0+json": {
       "columns": [
        {
         "name": "index",
         "rawType": "object",
         "type": "string"
        },
        {
         "name": "age_sum",
         "rawType": "float64",
         "type": "float"
        },
        {
         "name": "age_mean",
         "rawType": "float64",
         "type": "float"
        },
        {
         "name": "head_count",
         "rawType": "int64",
         "type": "integer"
        }
       ],
       "conversionMethod": "pd.DataFrame",
       "ref": "85f87896-fc33-4fd5-8ee0-dafac4a38118",
       "rows": [
        [
         "Powershell",
         "436.1973696798842",
         "87.23947393597685",
         "5"
        ],
        [
         "Todd Ideas",
         "745.9813050657726",
         "49.732087004384844",
         "15"
        ],
        [
         "PEP 8",
         "1295.676957349643",
         "161.9596196687054",
         "8"
        ],
        [
         "SharePoint",
         "1500.6387047416633",
         "125.05322539513861",
         "12"
        ],
        [
         "Terraform",
         "1711.1117713715364",
         "68.44447085486145",
         "25"
        ],
        [
         "Azure Functions + Visual Studio",
         "1771.6631213811256",
         "126.54736581293754",
         "14"
        ],
        [
         "IW Migration",
         "1939.8551392861898",
         "138.561081377585",
         "14"
        ],
        [
         "Open Source/GitHub",
         "2067.2101181267844",
         "129.20063238292403",
         "16"
        ],
        [
         "FSLogix",
         "2086.2944584878624",
         "86.9289357703276",
         "24"
        ],
        [
         "Email Auth and Security",
         "2201.10916246461",
         "169.31608942035461",
         "13"
        ],
        [
         "Azure Functions",
         "2727.372807151824",
         "247.94298246834762",
         "11"
        ],
        [
         "DNS",
         "2892.690834358436",
         "180.79317714740225",
         "16"
        ],
        [
         "Azure AI Search",
         "3586.0600780280683",
         "256.1471484305763",
         "14"
        ],
        [
         "Audit Report Tracker (Sharepoint List)",
         "3608.1058612288234",
         "225.50661632680146",
         "16"
        ],
        [
         "Powershell Modules",
         "4354.159141311822",
         "145.1386380437274",
         "30"
        ],
        [
         "Debugging in VS Code",
         "4394.484390492461",
         "191.06453871706353",
         "23"
        ],
        [
         "Azure Functions + PP365",
         "4842.732366286784",
         "193.70929465147137",
         "25"
        ],
        [
         "OData",
         "5096.250541609049",
         "339.7500361072699",
         "15"
        ],
        [
         "Home Network Project",
         "5232.775710436554",
         "275.40924791771334",
         "19"
        ],
        [
         "Vocab",
         "5638.232133628139",
         "85.42775960042636",
         "66"
        ],
        [
         "WSL + Kali Linux",
         "5708.888373952825",
         "259.49492608876477",
         "22"
        ],
        [
         "PnP Powershell",
         "6139.210790790305",
         "161.558178705008",
         "38"
        ],
        [
         "JavaScript Concepts",
         "6238.003951060978",
         "102.26235985345865",
         "61"
        ],
        [
         "Logging in Python",
         "7760.908728443254",
         "129.34847880738758",
         "60"
        ]
       ],
       "shape": {
        "columns": 3,
        "rows": 24
       }
      },
      "text/html": [
       "<div>\n",
       "<style scoped>\n",
       "    .dataframe tbody tr th:only-of-type {\n",
       "        vertical-align: middle;\n",
       "    }\n",
       "\n",
       "    .dataframe tbody tr th {\n",
       "        vertical-align: top;\n",
       "    }\n",
       "\n",
       "    .dataframe thead th {\n",
       "        text-align: right;\n",
       "    }\n",
       "</style>\n",
       "<table border=\"1\" class=\"dataframe\">\n",
       "  <thead>\n",
       "    <tr style=\"text-align: right;\">\n",
       "      <th></th>\n",
       "      <th>age_sum</th>\n",
       "      <th>age_mean</th>\n",
       "      <th>head_count</th>\n",
       "    </tr>\n",
       "  </thead>\n",
       "  <tbody>\n",
       "    <tr>\n",
       "      <th>Powershell</th>\n",
       "      <td>436.197370</td>\n",
       "      <td>87.239474</td>\n",
       "      <td>5</td>\n",
       "    </tr>\n",
       "    <tr>\n",
       "      <th>Todd Ideas</th>\n",
       "      <td>745.981305</td>\n",
       "      <td>49.732087</td>\n",
       "      <td>15</td>\n",
       "    </tr>\n",
       "    <tr>\n",
       "      <th>PEP 8</th>\n",
       "      <td>1295.676957</td>\n",
       "      <td>161.959620</td>\n",
       "      <td>8</td>\n",
       "    </tr>\n",
       "    <tr>\n",
       "      <th>SharePoint</th>\n",
       "      <td>1500.638705</td>\n",
       "      <td>125.053225</td>\n",
       "      <td>12</td>\n",
       "    </tr>\n",
       "    <tr>\n",
       "      <th>Terraform</th>\n",
       "      <td>1711.111771</td>\n",
       "      <td>68.444471</td>\n",
       "      <td>25</td>\n",
       "    </tr>\n",
       "    <tr>\n",
       "      <th>Azure Functions + Visual Studio</th>\n",
       "      <td>1771.663121</td>\n",
       "      <td>126.547366</td>\n",
       "      <td>14</td>\n",
       "    </tr>\n",
       "    <tr>\n",
       "      <th>IW Migration</th>\n",
       "      <td>1939.855139</td>\n",
       "      <td>138.561081</td>\n",
       "      <td>14</td>\n",
       "    </tr>\n",
       "    <tr>\n",
       "      <th>Open Source/GitHub</th>\n",
       "      <td>2067.210118</td>\n",
       "      <td>129.200632</td>\n",
       "      <td>16</td>\n",
       "    </tr>\n",
       "    <tr>\n",
       "      <th>FSLogix</th>\n",
       "      <td>2086.294458</td>\n",
       "      <td>86.928936</td>\n",
       "      <td>24</td>\n",
       "    </tr>\n",
       "    <tr>\n",
       "      <th>Email Auth and Security</th>\n",
       "      <td>2201.109162</td>\n",
       "      <td>169.316089</td>\n",
       "      <td>13</td>\n",
       "    </tr>\n",
       "    <tr>\n",
       "      <th>Azure Functions</th>\n",
       "      <td>2727.372807</td>\n",
       "      <td>247.942982</td>\n",
       "      <td>11</td>\n",
       "    </tr>\n",
       "    <tr>\n",
       "      <th>DNS</th>\n",
       "      <td>2892.690834</td>\n",
       "      <td>180.793177</td>\n",
       "      <td>16</td>\n",
       "    </tr>\n",
       "    <tr>\n",
       "      <th>Azure AI Search</th>\n",
       "      <td>3586.060078</td>\n",
       "      <td>256.147148</td>\n",
       "      <td>14</td>\n",
       "    </tr>\n",
       "    <tr>\n",
       "      <th>Audit Report Tracker (Sharepoint List)</th>\n",
       "      <td>3608.105861</td>\n",
       "      <td>225.506616</td>\n",
       "      <td>16</td>\n",
       "    </tr>\n",
       "    <tr>\n",
       "      <th>Powershell Modules</th>\n",
       "      <td>4354.159141</td>\n",
       "      <td>145.138638</td>\n",
       "      <td>30</td>\n",
       "    </tr>\n",
       "    <tr>\n",
       "      <th>Debugging in VS Code</th>\n",
       "      <td>4394.484390</td>\n",
       "      <td>191.064539</td>\n",
       "      <td>23</td>\n",
       "    </tr>\n",
       "    <tr>\n",
       "      <th>Azure Functions + PP365</th>\n",
       "      <td>4842.732366</td>\n",
       "      <td>193.709295</td>\n",
       "      <td>25</td>\n",
       "    </tr>\n",
       "    <tr>\n",
       "      <th>OData</th>\n",
       "      <td>5096.250542</td>\n",
       "      <td>339.750036</td>\n",
       "      <td>15</td>\n",
       "    </tr>\n",
       "    <tr>\n",
       "      <th>Home Network Project</th>\n",
       "      <td>5232.775710</td>\n",
       "      <td>275.409248</td>\n",
       "      <td>19</td>\n",
       "    </tr>\n",
       "    <tr>\n",
       "      <th>Vocab</th>\n",
       "      <td>5638.232134</td>\n",
       "      <td>85.427760</td>\n",
       "      <td>66</td>\n",
       "    </tr>\n",
       "    <tr>\n",
       "      <th>WSL + Kali Linux</th>\n",
       "      <td>5708.888374</td>\n",
       "      <td>259.494926</td>\n",
       "      <td>22</td>\n",
       "    </tr>\n",
       "    <tr>\n",
       "      <th>PnP Powershell</th>\n",
       "      <td>6139.210791</td>\n",
       "      <td>161.558179</td>\n",
       "      <td>38</td>\n",
       "    </tr>\n",
       "    <tr>\n",
       "      <th>JavaScript Concepts</th>\n",
       "      <td>6238.003951</td>\n",
       "      <td>102.262360</td>\n",
       "      <td>61</td>\n",
       "    </tr>\n",
       "    <tr>\n",
       "      <th>Logging in Python</th>\n",
       "      <td>7760.908728</td>\n",
       "      <td>129.348479</td>\n",
       "      <td>60</td>\n",
       "    </tr>\n",
       "  </tbody>\n",
       "</table>\n",
       "</div>"
      ],
      "text/plain": [
       "                                            age_sum    age_mean  head_count\n",
       "Powershell                               436.197370   87.239474           5\n",
       "Todd Ideas                               745.981305   49.732087          15\n",
       "PEP 8                                   1295.676957  161.959620           8\n",
       "SharePoint                              1500.638705  125.053225          12\n",
       "Terraform                               1711.111771   68.444471          25\n",
       "Azure Functions + Visual Studio         1771.663121  126.547366          14\n",
       "IW Migration                            1939.855139  138.561081          14\n",
       "Open Source/GitHub                      2067.210118  129.200632          16\n",
       "FSLogix                                 2086.294458   86.928936          24\n",
       "Email Auth and Security                 2201.109162  169.316089          13\n",
       "Azure Functions                         2727.372807  247.942982          11\n",
       "DNS                                     2892.690834  180.793177          16\n",
       "Azure AI Search                         3586.060078  256.147148          14\n",
       "Audit Report Tracker (Sharepoint List)  3608.105861  225.506616          16\n",
       "Powershell Modules                      4354.159141  145.138638          30\n",
       "Debugging in VS Code                    4394.484390  191.064539          23\n",
       "Azure Functions + PP365                 4842.732366  193.709295          25\n",
       "OData                                   5096.250542  339.750036          15\n",
       "Home Network Project                    5232.775710  275.409248          19\n",
       "Vocab                                   5638.232134   85.427760          66\n",
       "WSL + Kali Linux                        5708.888374  259.494926          22\n",
       "PnP Powershell                          6139.210791  161.558179          38\n",
       "JavaScript Concepts                     6238.003951  102.262360          61\n",
       "Logging in Python                       7760.908728  129.348479          60"
      ]
     },
     "execution_count": 76,
     "metadata": {},
     "output_type": "execute_result"
    }
   ],
   "source": [
    "stats = existing_cards.groupby('head').agg({'age': ['sum', 'mean'], 'head': 'count'}).sort_values(('age', 'sum'))\n",
    "stats.columns = stats.columns.to_flat_index()\n",
    "stats.columns = ['_'.join(col).strip() for col in stats.columns]\n",
    "stats.index.name = None\n",
    "stats"
   ]
  },
  {
   "cell_type": "markdown",
   "metadata": {},
   "source": [
    "# Histogram"
   ]
  },
  {
   "cell_type": "code",
   "execution_count": 77,
   "metadata": {},
   "outputs": [
    {
     "name": "stdout",
     "output_type": "stream",
     "text": [
      "83975.61\n"
     ]
    },
    {
     "data": {
      "text/plain": [
       "<Axes: >"
      ]
     },
     "execution_count": 77,
     "metadata": {},
     "output_type": "execute_result"
    },
    {
     "data": {
      "image/png": "[encoded data removed]",
      "text/plain": [
       "<Figure size 640x480 with 1 Axes>"
      ]
     },
     "metadata": {},
     "output_type": "display_data"
    }
   ],
   "source": [
    "print(f\"{existing_cards['age'].sum(0):.2f}\")\n",
    "existing_cards['age'].hist(bins=20)"
   ]
  },
  {
   "cell_type": "markdown",
   "metadata": {},
   "source": [
    "# Completely Random Shuffle"
   ]
  },
  {
   "cell_type": "code",
   "execution_count": 78,
   "metadata": {},
   "outputs": [],
   "source": [
    "# existing_cards = existing_cards.sample(frac=1)\n",
    "# remake_card_document(filename='certcards2.txt', existing_cards = existing_cards)"
   ]
  },
  {
   "cell_type": "markdown",
   "metadata": {},
   "source": [
    "# Age Sort"
   ]
  },
  {
   "cell_type": "code",
   "execution_count": 79,
   "metadata": {},
   "outputs": [],
   "source": [
    "# existing_cards = existing_cards.sort_values('age', ascending=False)\n",
    "# remake_card_document(filename='certcards2.txt', existing_cards=existing_cards)\n",
    "# existing_cards.head(10)"
   ]
  },
  {
   "cell_type": "markdown",
   "metadata": {},
   "source": [
    "# Headers with fewest notes first"
   ]
  },
  {
   "cell_type": "code",
   "execution_count": 80,
   "metadata": {},
   "outputs": [],
   "source": [
    "# frequency = existing_cards['head'].value_counts(ascending=True)\n",
    "\n",
    "# existing_cards = pd.merge(\n",
    "#     left=existing_cards,\n",
    "#     right=frequency.rename('frequency'),\n",
    "#     left_on='head', right_index=True,\n",
    "#     how='left'\n",
    "# )\n",
    "# existing_cards['oldest'] = existing_cards.groupby('head')['age'].transform('max')\n",
    "# existing_cards['subject_highest_age'] = existing_cards['subject_highest_age'] * -1\n",
    "# existing_cards['age'] = existing_cards['age'] * -1\n",
    "\n",
    "\n",
    "# existing_cards.sort_values(['frequency', 'subject_highest_age', 'age'], ascending=True, inplace=True)\n",
    "\n",
    "# remake_card_document(filename='certcards2.txt', existing_cards=existing_cards)\n",
    "\n",
    "# existing_cards.head(10)"
   ]
  },
  {
   "cell_type": "markdown",
   "metadata": {},
   "source": [
    "# Focus on one header"
   ]
  },
  {
   "cell_type": "code",
   "execution_count": 81,
   "metadata": {},
   "outputs": [],
   "source": [
    "# heads = existing_cards['head'].value_counts()\n",
    "# heads = heads[heads > 5].index.tolist()\n",
    "# one_header = random.sample(heads, 1)[0]\n",
    "# existing_cards['pick_head'] = existing_cards['head'].apply(\n",
    "#     lambda h: 0 if h == one_header else 1 \n",
    "# )\n",
    "\n",
    "# remake_card_document(existing_cards=existing_cards.sort_values('pick_head'))"
   ]
  },
  {
   "cell_type": "markdown",
   "metadata": {},
   "source": [
    "## Header with oldest cards first"
   ]
  },
  {
   "cell_type": "code",
   "execution_count": 82,
   "metadata": {},
   "outputs": [],
   "source": [
    "# existing_cards['oldest'] = existing_cards.groupby('head')['age'].transform('max')\n",
    "# existing_cards.sort_values(['oldest', 'age'], ascending=False, inplace=True)\n",
    "# remake_card_document(existing_cards)"
   ]
  },
  {
   "cell_type": "markdown",
   "metadata": {},
   "source": [
    "## Headers with greatest mean card age first"
   ]
  },
  {
   "cell_type": "code",
   "execution_count": 83,
   "metadata": {},
   "outputs": [],
   "source": [
    "# existing_cards.sort_values(['subject_mean_age', 'age'], ascending=False, inplace=True)\n",
    "# remake_card_document(existing_cards)"
   ]
  },
  {
   "cell_type": "markdown",
   "metadata": {},
   "source": [
    "## Headers with greatest age sum first"
   ]
  },
  {
   "cell_type": "code",
   "execution_count": 84,
   "metadata": {},
   "outputs": [],
   "source": [
    "# existing_cards.sort_values(['subject_age_sum', 'age'], ascending=False, inplace=True)\n",
    "# remake_card_document(existing_cards)"
   ]
  },
  {
   "cell_type": "markdown",
   "metadata": {},
   "source": [
    "# N-fold shuffle\n"
   ]
  },
  {
   "cell_type": "markdown",
   "metadata": {},
   "source": [
    "## Age Sum"
   ]
  },
  {
   "cell_type": "code",
   "execution_count": 85,
   "metadata": {},
   "outputs": [],
   "source": [
    "# n=10\n",
    "# existing_cards['count'] = existing_cards.sort_values('age', ascending=False).groupby('head').cumcount()\n",
    "# existing_cards['n_fold'] = existing_cards['count'] // n\n",
    "\n",
    "# existing_cards['subject_age_sum'] = existing_cards['subject_age_sum'] *-1\n",
    "# existing_cards['age'] = existing_cards['age'] *-1\n",
    "# existing_cards.sort_values(['n_fold', 'subject_age_sum', 'age'], inplace=True)\n",
    "\n",
    "# remake_card_document(existing_cards=existing_cards)\n",
    "# existing_cards.head(10)\n"
   ]
  },
  {
   "cell_type": "markdown",
   "metadata": {},
   "source": [
    "## Age Mean"
   ]
  },
  {
   "cell_type": "code",
   "execution_count": 86,
   "metadata": {},
   "outputs": [],
   "source": [
    "# n=3\n",
    "# existing_cards['count'] = existing_cards.sort_values('age', ascending=False).groupby('head').cumcount()\n",
    "# existing_cards['n_fold'] = existing_cards['count'] % n\n",
    "\n",
    "# existing_cards['subject_mean_age'] = existing_cards['subject_mean_age'] *-1\n",
    "# existing_cards['age'] = existing_cards['age'] *-1\n",
    "# existing_cards.sort_values(['n_fold', 'subject_mean_age', 'age'], inplace=True)\n",
    "# remake_card_document(existing_cards=existing_cards)\n",
    "\n",
    "# existing_cards.head(10)\n",
    "\n"
   ]
  },
  {
   "cell_type": "markdown",
   "metadata": {},
   "source": [
    "## Age Max"
   ]
  },
  {
   "cell_type": "code",
   "execution_count": 87,
   "metadata": {},
   "outputs": [
    {
     "name": "stdout",
     "output_type": "stream",
     "text": [
      "Cards found: 562\n"
     ]
    },
    {
     "data": {
      "application/vnd.microsoft.datawrangler.viewer.v0+json": {
       "columns": [
        {
         "name": "index",
         "rawType": "int64",
         "type": "integer"
        },
        {
         "name": "head",
         "rawType": "object",
         "type": "string"
        },
        {
         "name": "body",
         "rawType": "object",
         "type": "string"
        },
        {
         "name": "hash",
         "rawType": "object",
         "type": "string"
        },
        {
         "name": "age",
         "rawType": "float64",
         "type": "float"
        },
        {
         "name": "subject_mean_age",
         "rawType": "float64",
         "type": "float"
        },
        {
         "name": "subject_highest_age",
         "rawType": "float64",
         "type": "float"
        },
        {
         "name": "subject_age_sum",
         "rawType": "float64",
         "type": "float"
        },
        {
         "name": "head_random_roll",
         "rawType": "float64",
         "type": "float"
        },
        {
         "name": "count",
         "rawType": "int64",
         "type": "integer"
        },
        {
         "name": "n_fold",
         "rawType": "int64",
         "type": "integer"
        }
       ],
       "conversionMethod": "pd.DataFrame",
       "ref": "d7082fed-d17d-4d16-ad39-8365191fe9fd",
       "rows": [
        [
         "390",
         "Debugging in VS Code",
         "Tracepoint\nSimilar to a breakpoint, but instead of pausing execution, a tracepoint logs information about the execution of the program, such as variable values or function calls, without interrupting the flow.",
         "8e3dc41e4d0671d1414623cadf998af9",
         "-1698.1731197881331",
         "191.06453871706353",
         "-1698.1731197881331",
         "4394.484390492461",
         "0.8650065343222955",
         "0",
         "0"
        ],
        [
         "389",
         "Debugging in VS Code",
         "Debugger Attach\nA process where the debugger attaches to a running program (either locally or remotely) without stopping it. This is useful for debugging production systems or processes that cannot be restarted.",
         "af357c39bbc7c41fefdc2650a6587279",
         "-558.1697972776011",
         "191.06453871706353",
         "-1698.1731197881331",
         "4394.484390492461",
         "0.8650065343222955",
         "1",
         "0"
        ],
        [
         "388",
         "Debugging in VS Code",
         "Memory Inspection\nThe process of examining the program’s memory during debugging to understand how memory is allocated, used, and released, which can help identify memory-related bugs like leaks or corruption.",
         "bb5c882a35c5c01a517035a1f33346ad",
         "-453.53846930054056",
         "191.06453871706353",
         "-1698.1731197881331",
         "4394.484390492461",
         "0.8650065343222955",
         "2",
         "0"
        ],
        [
         "335",
         "Debugging in VS Code",
         "Reverse Debugging\nA debugging technique where you can move backward through the program’s execution to examine the program's state before an issue occurred, often helpful for tracking down bugs that involve complex states.",
         "53b8a03c463369e71dbcee2709b2f87a",
         "-238.49580977073322",
         "191.06453871706353",
         "-1698.1731197881331",
         "4394.484390492461",
         "0.8650065343222955",
         "3",
         "0"
        ],
        [
         "334",
         "Debugging in VS Code",
         "Variable Inspection\nThe process of viewing and analyzing the values of variables in a program while it's running.",
         "25787b761b33ceb1bf8cb6aaf8dcbd8d",
         "-202.52328659024712",
         "191.06453871706353",
         "-1698.1731197881331",
         "4394.484390492461",
         "0.8650065343222955",
         "4",
         "0"
        ],
        [
         "336",
         "Audit Report Tracker (Sharepoint List)",
         "Power Automate (Flow) Owner\nDefinition: A user who has full control over a Flow, including the ability to edit, run, and manage its settings.\nContext: Necessary to inspect and modify automation workflows in Power Automate that are tied to SharePoint lists.",
         "8d5e063ee69a83e11e260335f0b685e8",
         "-1231.7306080459978",
         "225.50661632680146",
         "-1231.7306080459978",
         "3608.1058612288234",
         "0.19757983311150673",
         "0",
         "0"
        ],
        [
         "242",
         "Audit Report Tracker (Sharepoint List)",
         "Permissions Endpoint (for managing list permissions in SharePoint):\n\nEndpoint: GET https://graph.microsoft.com/v1.0/sites/{site-id}/lists/{list-id}/permissions\nDescription: Retrieves the permissions set for a specific SharePoint list.",
         "eda0eb7c1a3a9b0ebba749a597e46d22",
         "-417.96752365980933",
         "225.50661632680146",
         "-1231.7306080459978",
         "3608.1058612288234",
         "0.19757983311150673",
         "1",
         "0"
        ],
        [
         "241",
         "Audit Report Tracker (Sharepoint List)",
         "Site Collection Administrator\nDefinition: A user with full control over a SharePoint site collection, including managing permissions, lists, libraries, and settings.\nContext: Required to access and modify the structure, permissions, and content of a SharePoint site and its associated lists.",
         "c0359d229e67636a45dddedfe736bc8c",
         "-384.93160041694654",
         "225.50661632680146",
         "-1231.7306080459978",
         "3608.1058612288234",
         "0.19757983311150673",
         "2",
         "0"
        ],
        [
         "240",
         "Audit Report Tracker (Sharepoint List)",
         "View (SharePoint View)\nDefinition: A pre-defined display of list data, which can filter, sort, and group information in a specific way.\nContext: Views can be customized to show only specific columns, items, or data based on user needs.",
         "c9375efcef5b15bae0f26f4f8d80a3f7",
         "-350.52135926039597",
         "225.50661632680146",
         "-1231.7306080459978",
         "3608.1058612288234",
         "0.19757983311150673",
         "3",
         "0"
        ],
        [
         "239",
         "Audit Report Tracker (Sharepoint List)",
         "List Administrator\nDefinition: A user with permissions to manage a specific SharePoint list, including adding columns, modifying views, and setting list-specific permissions.\nContext: Has permissions to edit and configure a specific list within a site.",
         "c04d54d96d16dfd514a229d890d7b6b4",
         "-219.17233278954393",
         "225.50661632680146",
         "-1231.7306080459978",
         "3608.1058612288234",
         "0.19757983311150673",
         "4",
         "0"
        ]
       ],
       "shape": {
        "columns": 10,
        "rows": 10
       }
      },
      "text/html": [
       "<div>\n",
       "<style scoped>\n",
       "    .dataframe tbody tr th:only-of-type {\n",
       "        vertical-align: middle;\n",
       "    }\n",
       "\n",
       "    .dataframe tbody tr th {\n",
       "        vertical-align: top;\n",
       "    }\n",
       "\n",
       "    .dataframe thead th {\n",
       "        text-align: right;\n",
       "    }\n",
       "</style>\n",
       "<table border=\"1\" class=\"dataframe\">\n",
       "  <thead>\n",
       "    <tr style=\"text-align: right;\">\n",
       "      <th></th>\n",
       "      <th>head</th>\n",
       "      <th>body</th>\n",
       "      <th>hash</th>\n",
       "      <th>age</th>\n",
       "      <th>subject_mean_age</th>\n",
       "      <th>subject_highest_age</th>\n",
       "      <th>subject_age_sum</th>\n",
       "      <th>head_random_roll</th>\n",
       "      <th>count</th>\n",
       "      <th>n_fold</th>\n",
       "    </tr>\n",
       "  </thead>\n",
       "  <tbody>\n",
       "    <tr>\n",
       "      <th>390</th>\n",
       "      <td>Debugging in VS Code</td>\n",
       "      <td>Tracepoint\\nSimilar to a breakpoint, but inste...</td>\n",
       "      <td>8e3dc41e4d0671d1414623cadf998af9</td>\n",
       "      <td>-1698.173120</td>\n",
       "      <td>191.064539</td>\n",
       "      <td>-1698.173120</td>\n",
       "      <td>4394.484390</td>\n",
       "      <td>0.865007</td>\n",
       "      <td>0</td>\n",
       "      <td>0</td>\n",
       "    </tr>\n",
       "    <tr>\n",
       "      <th>389</th>\n",
       "      <td>Debugging in VS Code</td>\n",
       "      <td>Debugger Attach\\nA process where the debugger ...</td>\n",
       "      <td>af357c39bbc7c41fefdc2650a6587279</td>\n",
       "      <td>-558.169797</td>\n",
       "      <td>191.064539</td>\n",
       "      <td>-1698.173120</td>\n",
       "      <td>4394.484390</td>\n",
       "      <td>0.865007</td>\n",
       "      <td>1</td>\n",
       "      <td>0</td>\n",
       "    </tr>\n",
       "    <tr>\n",
       "      <th>388</th>\n",
       "      <td>Debugging in VS Code</td>\n",
       "      <td>Memory Inspection\\nThe process of examining th...</td>\n",
       "      <td>bb5c882a35c5c01a517035a1f33346ad</td>\n",
       "      <td>-453.538469</td>\n",
       "      <td>191.064539</td>\n",
       "      <td>-1698.173120</td>\n",
       "      <td>4394.484390</td>\n",
       "      <td>0.865007</td>\n",
       "      <td>2</td>\n",
       "      <td>0</td>\n",
       "    </tr>\n",
       "    <tr>\n",
       "      <th>335</th>\n",
       "      <td>Debugging in VS Code</td>\n",
       "      <td>Reverse Debugging\\nA debugging technique where...</td>\n",
       "      <td>53b8a03c463369e71dbcee2709b2f87a</td>\n",
       "      <td>-238.495810</td>\n",
       "      <td>191.064539</td>\n",
       "      <td>-1698.173120</td>\n",
       "      <td>4394.484390</td>\n",
       "      <td>0.865007</td>\n",
       "      <td>3</td>\n",
       "      <td>0</td>\n",
       "    </tr>\n",
       "    <tr>\n",
       "      <th>334</th>\n",
       "      <td>Debugging in VS Code</td>\n",
       "      <td>Variable Inspection\\nThe process of viewing an...</td>\n",
       "      <td>25787b761b33ceb1bf8cb6aaf8dcbd8d</td>\n",
       "      <td>-202.523287</td>\n",
       "      <td>191.064539</td>\n",
       "      <td>-1698.173120</td>\n",
       "      <td>4394.484390</td>\n",
       "      <td>0.865007</td>\n",
       "      <td>4</td>\n",
       "      <td>0</td>\n",
       "    </tr>\n",
       "    <tr>\n",
       "      <th>336</th>\n",
       "      <td>Audit Report Tracker (Sharepoint List)</td>\n",
       "      <td>Power Automate (Flow) Owner\\nDefinition: A use...</td>\n",
       "      <td>8d5e063ee69a83e11e260335f0b685e8</td>\n",
       "      <td>-1231.730608</td>\n",
       "      <td>225.506616</td>\n",
       "      <td>-1231.730608</td>\n",
       "      <td>3608.105861</td>\n",
       "      <td>0.197580</td>\n",
       "      <td>0</td>\n",
       "      <td>0</td>\n",
       "    </tr>\n",
       "    <tr>\n",
       "      <th>242</th>\n",
       "      <td>Audit Report Tracker (Sharepoint List)</td>\n",
       "      <td>Permissions Endpoint (for managing list permis...</td>\n",
       "      <td>eda0eb7c1a3a9b0ebba749a597e46d22</td>\n",
       "      <td>-417.967524</td>\n",
       "      <td>225.506616</td>\n",
       "      <td>-1231.730608</td>\n",
       "      <td>3608.105861</td>\n",
       "      <td>0.197580</td>\n",
       "      <td>1</td>\n",
       "      <td>0</td>\n",
       "    </tr>\n",
       "    <tr>\n",
       "      <th>241</th>\n",
       "      <td>Audit Report Tracker (Sharepoint List)</td>\n",
       "      <td>Site Collection Administrator\\nDefinition: A u...</td>\n",
       "      <td>c0359d229e67636a45dddedfe736bc8c</td>\n",
       "      <td>-384.931600</td>\n",
       "      <td>225.506616</td>\n",
       "      <td>-1231.730608</td>\n",
       "      <td>3608.105861</td>\n",
       "      <td>0.197580</td>\n",
       "      <td>2</td>\n",
       "      <td>0</td>\n",
       "    </tr>\n",
       "    <tr>\n",
       "      <th>240</th>\n",
       "      <td>Audit Report Tracker (Sharepoint List)</td>\n",
       "      <td>View (SharePoint View)\\nDefinition: A pre-defi...</td>\n",
       "      <td>c9375efcef5b15bae0f26f4f8d80a3f7</td>\n",
       "      <td>-350.521359</td>\n",
       "      <td>225.506616</td>\n",
       "      <td>-1231.730608</td>\n",
       "      <td>3608.105861</td>\n",
       "      <td>0.197580</td>\n",
       "      <td>3</td>\n",
       "      <td>0</td>\n",
       "    </tr>\n",
       "    <tr>\n",
       "      <th>239</th>\n",
       "      <td>Audit Report Tracker (Sharepoint List)</td>\n",
       "      <td>List Administrator\\nDefinition: A user with pe...</td>\n",
       "      <td>c04d54d96d16dfd514a229d890d7b6b4</td>\n",
       "      <td>-219.172333</td>\n",
       "      <td>225.506616</td>\n",
       "      <td>-1231.730608</td>\n",
       "      <td>3608.105861</td>\n",
       "      <td>0.197580</td>\n",
       "      <td>4</td>\n",
       "      <td>0</td>\n",
       "    </tr>\n",
       "  </tbody>\n",
       "</table>\n",
       "</div>"
      ],
      "text/plain": [
       "                                       head  \\\n",
       "390                    Debugging in VS Code   \n",
       "389                    Debugging in VS Code   \n",
       "388                    Debugging in VS Code   \n",
       "335                    Debugging in VS Code   \n",
       "334                    Debugging in VS Code   \n",
       "336  Audit Report Tracker (Sharepoint List)   \n",
       "242  Audit Report Tracker (Sharepoint List)   \n",
       "241  Audit Report Tracker (Sharepoint List)   \n",
       "240  Audit Report Tracker (Sharepoint List)   \n",
       "239  Audit Report Tracker (Sharepoint List)   \n",
       "\n",
       "                                                  body  \\\n",
       "390  Tracepoint\\nSimilar to a breakpoint, but inste...   \n",
       "389  Debugger Attach\\nA process where the debugger ...   \n",
       "388  Memory Inspection\\nThe process of examining th...   \n",
       "335  Reverse Debugging\\nA debugging technique where...   \n",
       "334  Variable Inspection\\nThe process of viewing an...   \n",
       "336  Power Automate (Flow) Owner\\nDefinition: A use...   \n",
       "242  Permissions Endpoint (for managing list permis...   \n",
       "241  Site Collection Administrator\\nDefinition: A u...   \n",
       "240  View (SharePoint View)\\nDefinition: A pre-defi...   \n",
       "239  List Administrator\\nDefinition: A user with pe...   \n",
       "\n",
       "                                 hash          age  subject_mean_age  \\\n",
       "390  8e3dc41e4d0671d1414623cadf998af9 -1698.173120        191.064539   \n",
       "389  af357c39bbc7c41fefdc2650a6587279  -558.169797        191.064539   \n",
       "388  bb5c882a35c5c01a517035a1f33346ad  -453.538469        191.064539   \n",
       "335  53b8a03c463369e71dbcee2709b2f87a  -238.495810        191.064539   \n",
       "334  25787b761b33ceb1bf8cb6aaf8dcbd8d  -202.523287        191.064539   \n",
       "336  8d5e063ee69a83e11e260335f0b685e8 -1231.730608        225.506616   \n",
       "242  eda0eb7c1a3a9b0ebba749a597e46d22  -417.967524        225.506616   \n",
       "241  c0359d229e67636a45dddedfe736bc8c  -384.931600        225.506616   \n",
       "240  c9375efcef5b15bae0f26f4f8d80a3f7  -350.521359        225.506616   \n",
       "239  c04d54d96d16dfd514a229d890d7b6b4  -219.172333        225.506616   \n",
       "\n",
       "     subject_highest_age  subject_age_sum  head_random_roll  count  n_fold  \n",
       "390         -1698.173120      4394.484390          0.865007      0       0  \n",
       "389         -1698.173120      4394.484390          0.865007      1       0  \n",
       "388         -1698.173120      4394.484390          0.865007      2       0  \n",
       "335         -1698.173120      4394.484390          0.865007      3       0  \n",
       "334         -1698.173120      4394.484390          0.865007      4       0  \n",
       "336         -1231.730608      3608.105861          0.197580      0       0  \n",
       "242         -1231.730608      3608.105861          0.197580      1       0  \n",
       "241         -1231.730608      3608.105861          0.197580      2       0  \n",
       "240         -1231.730608      3608.105861          0.197580      3       0  \n",
       "239         -1231.730608      3608.105861          0.197580      4       0  "
      ]
     },
     "execution_count": 87,
     "metadata": {},
     "output_type": "execute_result"
    }
   ],
   "source": [
    "n = 5\n",
    "existing_cards['count'] = existing_cards.sort_values('age', ascending=False).groupby('head').cumcount()\n",
    "existing_cards['n_fold'] = existing_cards['count'] // n\n",
    "\n",
    "existing_cards['subject_highest_age'] = existing_cards['subject_highest_age'] *-1\n",
    "existing_cards['age'] = existing_cards['age'] *-1\n",
    "existing_cards.sort_values(['n_fold', 'subject_highest_age', 'age'], inplace=True)\n",
    "\n",
    "remake_card_document(existing_cards=existing_cards)\n",
    "existing_cards.head(10)\n"
   ]
  },
  {
   "cell_type": "markdown",
   "metadata": {},
   "source": [
    "## Card Count"
   ]
  },
  {
   "cell_type": "code",
   "execution_count": 88,
   "metadata": {},
   "outputs": [],
   "source": [
    "# n=10\n",
    "# existing_cards['frequency']  = existing_cards.groupby('head').transform('count')['body']\n",
    "# existing_cards['count'] = existing_cards.sort_values('age', ascending=False).groupby('head').cumcount()\n",
    "# existing_cards['n_fold'] = existing_cards['count'] // n\n",
    "\n",
    "# existing_cards['subject_mean_age'] = existing_cards['subject_mean_age'] *-1\n",
    "# existing_cards['age'] = existing_cards['age'] *-1\n",
    "# existing_cards.sort_values(['n_fold', 'frequency', 'age'], inplace=True)\n",
    "# remake_card_document(existing_cards=existing_cards)\n",
    "\n",
    "# existing_cards.head(10)\n",
    "\n"
   ]
  },
  {
   "cell_type": "markdown",
   "metadata": {},
   "source": [
    "\n",
    "## Random"
   ]
  },
  {
   "cell_type": "code",
   "execution_count": 89,
   "metadata": {},
   "outputs": [],
   "source": [
    "# n = 3\n",
    "# existing_cards['count'] = existing_cards.sort_values('age', ascending=False).groupby('head').cumcount()\n",
    "# existing_cards['n_fold'] = existing_cards['count'] % n\n",
    "# existing_cards['age'] *= -1\n",
    "# existing_cards.sort_values(['n_fold', 'head_random_roll', 'age'], inplace=True)\n",
    "# remake_card_document(existing_cards=existing_cards)\n",
    "# existing_cards.head(10)"
   ]
  },
  {
   "cell_type": "code",
   "execution_count": 90,
   "metadata": {},
   "outputs": [
    {
     "data": {
      "application/vnd.microsoft.datawrangler.viewer.v0+json": {
       "columns": [
        {
         "name": "index",
         "rawType": "int64",
         "type": "integer"
        },
        {
         "name": "head",
         "rawType": "object",
         "type": "string"
        },
        {
         "name": "body",
         "rawType": "object",
         "type": "string"
        },
        {
         "name": "hash",
         "rawType": "object",
         "type": "string"
        },
        {
         "name": "age",
         "rawType": "float64",
         "type": "float"
        },
        {
         "name": "subject_mean_age",
         "rawType": "float64",
         "type": "float"
        },
        {
         "name": "subject_highest_age",
         "rawType": "float64",
         "type": "float"
        },
        {
         "name": "subject_age_sum",
         "rawType": "float64",
         "type": "float"
        },
        {
         "name": "head_random_roll",
         "rawType": "float64",
         "type": "float"
        },
        {
         "name": "count",
         "rawType": "int64",
         "type": "integer"
        },
        {
         "name": "n_fold",
         "rawType": "int64",
         "type": "integer"
        }
       ],
       "conversionMethod": "pd.DataFrame",
       "ref": "a0f32187-a568-4cc3-802b-0fe27975215b",
       "rows": [
        [
         "390",
         "Debugging in VS Code",
         "Tracepoint\nSimilar to a breakpoint, but instead of pausing execution, a tracepoint logs information about the execution of the program, such as variable values or function calls, without interrupting the flow.",
         "8e3dc41e4d0671d1414623cadf998af9",
         "-1698.1731197881331",
         "191.06453871706353",
         "-1698.1731197881331",
         "4394.484390492461",
         "0.8650065343222955",
         "0",
         "0"
        ],
        [
         "389",
         "Debugging in VS Code",
         "Debugger Attach\nA process where the debugger attaches to a running program (either locally or remotely) without stopping it. This is useful for debugging production systems or processes that cannot be restarted.",
         "af357c39bbc7c41fefdc2650a6587279",
         "-558.1697972776011",
         "191.06453871706353",
         "-1698.1731197881331",
         "4394.484390492461",
         "0.8650065343222955",
         "1",
         "0"
        ],
        [
         "388",
         "Debugging in VS Code",
         "Memory Inspection\nThe process of examining the program’s memory during debugging to understand how memory is allocated, used, and released, which can help identify memory-related bugs like leaks or corruption.",
         "bb5c882a35c5c01a517035a1f33346ad",
         "-453.53846930054056",
         "191.06453871706353",
         "-1698.1731197881331",
         "4394.484390492461",
         "0.8650065343222955",
         "2",
         "0"
        ],
        [
         "335",
         "Debugging in VS Code",
         "Reverse Debugging\nA debugging technique where you can move backward through the program’s execution to examine the program's state before an issue occurred, often helpful for tracking down bugs that involve complex states.",
         "53b8a03c463369e71dbcee2709b2f87a",
         "-238.49580977073322",
         "191.06453871706353",
         "-1698.1731197881331",
         "4394.484390492461",
         "0.8650065343222955",
         "3",
         "0"
        ],
        [
         "334",
         "Debugging in VS Code",
         "Variable Inspection\nThe process of viewing and analyzing the values of variables in a program while it's running.",
         "25787b761b33ceb1bf8cb6aaf8dcbd8d",
         "-202.52328659024712",
         "191.06453871706353",
         "-1698.1731197881331",
         "4394.484390492461",
         "0.8650065343222955",
         "4",
         "0"
        ],
        [
         "336",
         "Audit Report Tracker (Sharepoint List)",
         "Power Automate (Flow) Owner\nDefinition: A user who has full control over a Flow, including the ability to edit, run, and manage its settings.\nContext: Necessary to inspect and modify automation workflows in Power Automate that are tied to SharePoint lists.",
         "8d5e063ee69a83e11e260335f0b685e8",
         "-1231.7306080459978",
         "225.50661632680146",
         "-1231.7306080459978",
         "3608.1058612288234",
         "0.19757983311150673",
         "0",
         "0"
        ],
        [
         "242",
         "Audit Report Tracker (Sharepoint List)",
         "Permissions Endpoint (for managing list permissions in SharePoint):\n\nEndpoint: GET https://graph.microsoft.com/v1.0/sites/{site-id}/lists/{list-id}/permissions\nDescription: Retrieves the permissions set for a specific SharePoint list.",
         "eda0eb7c1a3a9b0ebba749a597e46d22",
         "-417.96752365980933",
         "225.50661632680146",
         "-1231.7306080459978",
         "3608.1058612288234",
         "0.19757983311150673",
         "1",
         "0"
        ],
        [
         "241",
         "Audit Report Tracker (Sharepoint List)",
         "Site Collection Administrator\nDefinition: A user with full control over a SharePoint site collection, including managing permissions, lists, libraries, and settings.\nContext: Required to access and modify the structure, permissions, and content of a SharePoint site and its associated lists.",
         "c0359d229e67636a45dddedfe736bc8c",
         "-384.93160041694654",
         "225.50661632680146",
         "-1231.7306080459978",
         "3608.1058612288234",
         "0.19757983311150673",
         "2",
         "0"
        ],
        [
         "240",
         "Audit Report Tracker (Sharepoint List)",
         "View (SharePoint View)\nDefinition: A pre-defined display of list data, which can filter, sort, and group information in a specific way.\nContext: Views can be customized to show only specific columns, items, or data based on user needs.",
         "c9375efcef5b15bae0f26f4f8d80a3f7",
         "-350.52135926039597",
         "225.50661632680146",
         "-1231.7306080459978",
         "3608.1058612288234",
         "0.19757983311150673",
         "3",
         "0"
        ],
        [
         "239",
         "Audit Report Tracker (Sharepoint List)",
         "List Administrator\nDefinition: A user with permissions to manage a specific SharePoint list, including adding columns, modifying views, and setting list-specific permissions.\nContext: Has permissions to edit and configure a specific list within a site.",
         "c04d54d96d16dfd514a229d890d7b6b4",
         "-219.17233278954393",
         "225.50661632680146",
         "-1231.7306080459978",
         "3608.1058612288234",
         "0.19757983311150673",
         "4",
         "0"
        ]
       ],
       "shape": {
        "columns": 10,
        "rows": 10
       }
      },
      "text/html": [
       "<div>\n",
       "<style scoped>\n",
       "    .dataframe tbody tr th:only-of-type {\n",
       "        vertical-align: middle;\n",
       "    }\n",
       "\n",
       "    .dataframe tbody tr th {\n",
       "        vertical-align: top;\n",
       "    }\n",
       "\n",
       "    .dataframe thead th {\n",
       "        text-align: right;\n",
       "    }\n",
       "</style>\n",
       "<table border=\"1\" class=\"dataframe\">\n",
       "  <thead>\n",
       "    <tr style=\"text-align: right;\">\n",
       "      <th></th>\n",
       "      <th>head</th>\n",
       "      <th>body</th>\n",
       "      <th>hash</th>\n",
       "      <th>age</th>\n",
       "      <th>subject_mean_age</th>\n",
       "      <th>subject_highest_age</th>\n",
       "      <th>subject_age_sum</th>\n",
       "      <th>head_random_roll</th>\n",
       "      <th>count</th>\n",
       "      <th>n_fold</th>\n",
       "    </tr>\n",
       "  </thead>\n",
       "  <tbody>\n",
       "    <tr>\n",
       "      <th>390</th>\n",
       "      <td>Debugging in VS Code</td>\n",
       "      <td>Tracepoint\\nSimilar to a breakpoint, but inste...</td>\n",
       "      <td>8e3dc41e4d0671d1414623cadf998af9</td>\n",
       "      <td>-1698.173120</td>\n",
       "      <td>191.064539</td>\n",
       "      <td>-1698.173120</td>\n",
       "      <td>4394.484390</td>\n",
       "      <td>0.865007</td>\n",
       "      <td>0</td>\n",
       "      <td>0</td>\n",
       "    </tr>\n",
       "    <tr>\n",
       "      <th>389</th>\n",
       "      <td>Debugging in VS Code</td>\n",
       "      <td>Debugger Attach\\nA process where the debugger ...</td>\n",
       "      <td>af357c39bbc7c41fefdc2650a6587279</td>\n",
       "      <td>-558.169797</td>\n",
       "      <td>191.064539</td>\n",
       "      <td>-1698.173120</td>\n",
       "      <td>4394.484390</td>\n",
       "      <td>0.865007</td>\n",
       "      <td>1</td>\n",
       "      <td>0</td>\n",
       "    </tr>\n",
       "    <tr>\n",
       "      <th>388</th>\n",
       "      <td>Debugging in VS Code</td>\n",
       "      <td>Memory Inspection\\nThe process of examining th...</td>\n",
       "      <td>bb5c882a35c5c01a517035a1f33346ad</td>\n",
       "      <td>-453.538469</td>\n",
       "      <td>191.064539</td>\n",
       "      <td>-1698.173120</td>\n",
       "      <td>4394.484390</td>\n",
       "      <td>0.865007</td>\n",
       "      <td>2</td>\n",
       "      <td>0</td>\n",
       "    </tr>\n",
       "    <tr>\n",
       "      <th>335</th>\n",
       "      <td>Debugging in VS Code</td>\n",
       "      <td>Reverse Debugging\\nA debugging technique where...</td>\n",
       "      <td>53b8a03c463369e71dbcee2709b2f87a</td>\n",
       "      <td>-238.495810</td>\n",
       "      <td>191.064539</td>\n",
       "      <td>-1698.173120</td>\n",
       "      <td>4394.484390</td>\n",
       "      <td>0.865007</td>\n",
       "      <td>3</td>\n",
       "      <td>0</td>\n",
       "    </tr>\n",
       "    <tr>\n",
       "      <th>334</th>\n",
       "      <td>Debugging in VS Code</td>\n",
       "      <td>Variable Inspection\\nThe process of viewing an...</td>\n",
       "      <td>25787b761b33ceb1bf8cb6aaf8dcbd8d</td>\n",
       "      <td>-202.523287</td>\n",
       "      <td>191.064539</td>\n",
       "      <td>-1698.173120</td>\n",
       "      <td>4394.484390</td>\n",
       "      <td>0.865007</td>\n",
       "      <td>4</td>\n",
       "      <td>0</td>\n",
       "    </tr>\n",
       "    <tr>\n",
       "      <th>336</th>\n",
       "      <td>Audit Report Tracker (Sharepoint List)</td>\n",
       "      <td>Power Automate (Flow) Owner\\nDefinition: A use...</td>\n",
       "      <td>8d5e063ee69a83e11e260335f0b685e8</td>\n",
       "      <td>-1231.730608</td>\n",
       "      <td>225.506616</td>\n",
       "      <td>-1231.730608</td>\n",
       "      <td>3608.105861</td>\n",
       "      <td>0.197580</td>\n",
       "      <td>0</td>\n",
       "      <td>0</td>\n",
       "    </tr>\n",
       "    <tr>\n",
       "      <th>242</th>\n",
       "      <td>Audit Report Tracker (Sharepoint List)</td>\n",
       "      <td>Permissions Endpoint (for managing list permis...</td>\n",
       "      <td>eda0eb7c1a3a9b0ebba749a597e46d22</td>\n",
       "      <td>-417.967524</td>\n",
       "      <td>225.506616</td>\n",
       "      <td>-1231.730608</td>\n",
       "      <td>3608.105861</td>\n",
       "      <td>0.197580</td>\n",
       "      <td>1</td>\n",
       "      <td>0</td>\n",
       "    </tr>\n",
       "    <tr>\n",
       "      <th>241</th>\n",
       "      <td>Audit Report Tracker (Sharepoint List)</td>\n",
       "      <td>Site Collection Administrator\\nDefinition: A u...</td>\n",
       "      <td>c0359d229e67636a45dddedfe736bc8c</td>\n",
       "      <td>-384.931600</td>\n",
       "      <td>225.506616</td>\n",
       "      <td>-1231.730608</td>\n",
       "      <td>3608.105861</td>\n",
       "      <td>0.197580</td>\n",
       "      <td>2</td>\n",
       "      <td>0</td>\n",
       "    </tr>\n",
       "    <tr>\n",
       "      <th>240</th>\n",
       "      <td>Audit Report Tracker (Sharepoint List)</td>\n",
       "      <td>View (SharePoint View)\\nDefinition: A pre-defi...</td>\n",
       "      <td>c9375efcef5b15bae0f26f4f8d80a3f7</td>\n",
       "      <td>-350.521359</td>\n",
       "      <td>225.506616</td>\n",
       "      <td>-1231.730608</td>\n",
       "      <td>3608.105861</td>\n",
       "      <td>0.197580</td>\n",
       "      <td>3</td>\n",
       "      <td>0</td>\n",
       "    </tr>\n",
       "    <tr>\n",
       "      <th>239</th>\n",
       "      <td>Audit Report Tracker (Sharepoint List)</td>\n",
       "      <td>List Administrator\\nDefinition: A user with pe...</td>\n",
       "      <td>c04d54d96d16dfd514a229d890d7b6b4</td>\n",
       "      <td>-219.172333</td>\n",
       "      <td>225.506616</td>\n",
       "      <td>-1231.730608</td>\n",
       "      <td>3608.105861</td>\n",
       "      <td>0.197580</td>\n",
       "      <td>4</td>\n",
       "      <td>0</td>\n",
       "    </tr>\n",
       "  </tbody>\n",
       "</table>\n",
       "</div>"
      ],
      "text/plain": [
       "                                       head  \\\n",
       "390                    Debugging in VS Code   \n",
       "389                    Debugging in VS Code   \n",
       "388                    Debugging in VS Code   \n",
       "335                    Debugging in VS Code   \n",
       "334                    Debugging in VS Code   \n",
       "336  Audit Report Tracker (Sharepoint List)   \n",
       "242  Audit Report Tracker (Sharepoint List)   \n",
       "241  Audit Report Tracker (Sharepoint List)   \n",
       "240  Audit Report Tracker (Sharepoint List)   \n",
       "239  Audit Report Tracker (Sharepoint List)   \n",
       "\n",
       "                                                  body  \\\n",
       "390  Tracepoint\\nSimilar to a breakpoint, but inste...   \n",
       "389  Debugger Attach\\nA process where the debugger ...   \n",
       "388  Memory Inspection\\nThe process of examining th...   \n",
       "335  Reverse Debugging\\nA debugging technique where...   \n",
       "334  Variable Inspection\\nThe process of viewing an...   \n",
       "336  Power Automate (Flow) Owner\\nDefinition: A use...   \n",
       "242  Permissions Endpoint (for managing list permis...   \n",
       "241  Site Collection Administrator\\nDefinition: A u...   \n",
       "240  View (SharePoint View)\\nDefinition: A pre-defi...   \n",
       "239  List Administrator\\nDefinition: A user with pe...   \n",
       "\n",
       "                                 hash          age  subject_mean_age  \\\n",
       "390  8e3dc41e4d0671d1414623cadf998af9 -1698.173120        191.064539   \n",
       "389  af357c39bbc7c41fefdc2650a6587279  -558.169797        191.064539   \n",
       "388  bb5c882a35c5c01a517035a1f33346ad  -453.538469        191.064539   \n",
       "335  53b8a03c463369e71dbcee2709b2f87a  -238.495810        191.064539   \n",
       "334  25787b761b33ceb1bf8cb6aaf8dcbd8d  -202.523287        191.064539   \n",
       "336  8d5e063ee69a83e11e260335f0b685e8 -1231.730608        225.506616   \n",
       "242  eda0eb7c1a3a9b0ebba749a597e46d22  -417.967524        225.506616   \n",
       "241  c0359d229e67636a45dddedfe736bc8c  -384.931600        225.506616   \n",
       "240  c9375efcef5b15bae0f26f4f8d80a3f7  -350.521359        225.506616   \n",
       "239  c04d54d96d16dfd514a229d890d7b6b4  -219.172333        225.506616   \n",
       "\n",
       "     subject_highest_age  subject_age_sum  head_random_roll  count  n_fold  \n",
       "390         -1698.173120      4394.484390          0.865007      0       0  \n",
       "389         -1698.173120      4394.484390          0.865007      1       0  \n",
       "388         -1698.173120      4394.484390          0.865007      2       0  \n",
       "335         -1698.173120      4394.484390          0.865007      3       0  \n",
       "334         -1698.173120      4394.484390          0.865007      4       0  \n",
       "336         -1231.730608      3608.105861          0.197580      0       0  \n",
       "242         -1231.730608      3608.105861          0.197580      1       0  \n",
       "241         -1231.730608      3608.105861          0.197580      2       0  \n",
       "240         -1231.730608      3608.105861          0.197580      3       0  \n",
       "239         -1231.730608      3608.105861          0.197580      4       0  "
      ]
     },
     "execution_count": 90,
     "metadata": {},
     "output_type": "execute_result"
    }
   ],
   "source": [
    "existing_cards.head(10)"
   ]
  },
  {
   "cell_type": "code",
   "execution_count": 91,
   "metadata": {},
   "outputs": [
    {
     "data": {
      "text/plain": [
       "-149.4228003856484"
      ]
     },
     "execution_count": 91,
     "metadata": {},
     "output_type": "execute_result"
    }
   ],
   "source": [
    "existing_cards['age'].mean()"
   ]
  }
 ],
 "metadata": {
  "kernelspec": {
   "display_name": "Python 3",
   "language": "python",
   "name": "python3"
  },
  "language_info": {
   "codemirror_mode": {
    "name": "ipython",
    "version": 3
   },
   "file_extension": ".py",
   "mimetype": "text/x-python",
   "name": "python",
   "nbconvert_exporter": "python",
   "pygments_lexer": "ipython3",
   "version": "3.10.10"
  }
 },
 "nbformat": 4,
 "nbformat_minor": 2
}
