{
 "cells": [
  {
   "cell_type": "code",
   "execution_count": 26,
   "metadata": {},
   "outputs": [],
   "source": [
    "import time\n",
    "import numpy as np\n",
    "import pygame\n",
    "from tqdm.notebook import tqdm\n",
    "\n",
    "def play_sound(duration):\n",
    "    # Initialize pygame mixer\n",
    "    pygame.mixer.init()\n",
    "    # Generate a simple beep sound\n",
    "    frequency = 440  # Frequency in Hertz (A4 note)\n",
    "    sample_rate = 44100  # Samples per second\n",
    "    t = np.linspace(0, duration, int(sample_rate * duration), endpoint=False)\n",
    "    audio = np.sin(2 * np.pi * frequency * t)\n",
    "    # Save the sound to a temporary file\n",
    "    pygame.mixer.Sound(audio).play()\n",
    "    time.sleep(duration)  # Wait for the sound to finish playing\n",
    "\n",
    "def start_timer(seconds):\n",
    "    min_sec(seconds)\n",
    "    for i in tqdm(range(seconds), desc=\"Timer Progress\"):\n",
    "        time.sleep(1)\n",
    "    play_sound(1)  # Play sound for 1 second\n",
    "    print(\"Time's up!\")\n",
    "\n",
    "# Example usage\n",
    "# start_timer(10)  # Start a timer for 10 seconds\n",
    "\n",
    "def min_sec(t):\n",
    "    minutes = t // 60\n",
    "    seconds = t % 60\n",
    "    print(f\"{minutes:g} minutes, {seconds:.2f} seconds\")"
   ]
  },
  {
   "cell_type": "code",
   "execution_count": null,
   "metadata": {},
   "outputs": [
    {
     "name": "stdout",
     "output_type": "stream",
     "text": [
      "6 minutes, 41.55 seconds\n"
     ]
    }
   ],
   "source": [
    "min_sec(7.15e6/17806)"
   ]
  },
  {
   "cell_type": "code",
   "execution_count": null,
   "metadata": {},
   "outputs": [],
   "source": []
  }
 ],
 "metadata": {
  "kernelspec": {
   "display_name": "Python 3",
   "language": "python",
   "name": "python3"
  },
  "language_info": {
   "codemirror_mode": {
    "name": "ipython",
    "version": 3
   },
   "file_extension": ".py",
   "mimetype": "text/x-python",
   "name": "python",
   "nbconvert_exporter": "python",
   "pygments_lexer": "ipython3",
   "version": "3.10.10"
  }
 },
 "nbformat": 4,
 "nbformat_minor": 2
}
