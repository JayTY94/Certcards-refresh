{
 "cells": [
  {
   "cell_type": "code",
   "execution_count": 2,
   "metadata": {},
   "outputs": [
    {
     "name": "stdout",
     "output_type": "stream",
     "text": [
      "pygame 2.6.1 (SDL 2.28.4, Python 3.11.9)\n",
      "Hello from the pygame community. https://www.pygame.org/contribute.html\n"
     ]
    }
   ],
   "source": [
    "import time\n",
    "import numpy as np\n",
    "import pygame\n",
    "from tqdm.notebook import tqdm\n",
    "\n",
    "def play_sound(duration):\n",
    "    # Initialize pygame mixer\n",
    "    pygame.mixer.init()\n",
    "    # Generate a simple beep sound\n",
    "    frequency = 440  # Frequency in Hertz (A4 note)\n",
    "    sample_rate = 44100  # Samples per second\n",
    "    t = np.linspace(0, duration, int(sample_rate * duration), endpoint=False)\n",
    "    audio = np.sin(2 * np.pi * frequency * t)\n",
    "    # Save the sound to a temporary file\n",
    "    pygame.mixer.Sound(audio).play()\n",
    "    time.sleep(duration)  # Wait for the sound to finish playing\n",
    "\n",
    "def start_timer(seconds):\n",
    "    min_sec(seconds)\n",
    "    for i in tqdm(range(seconds), desc=\"Timer Progress\"):\n",
    "        time.sleep(1)\n",
    "    play_sound(1)  # Play sound for 1 second\n",
    "    print(\"Time's up!\")\n",
    "\n",
    "# Example usage\n",
    "# start_timer(10)  # Start a timer for 10 seconds\n",
    "\n",
    "def min_sec(t):\n",
    "    minutes = t // 60\n",
    "    seconds = t % 60\n",
    "    print(f\"{minutes:g} minutes, {seconds:.2f} seconds\")"
   ]
  },
  {
   "cell_type": "code",
   "execution_count": 3,
   "metadata": {},
   "outputs": [
    {
     "name": "stdout",
     "output_type": "stream",
     "text": [
      "16 minutes, 36.84 seconds\n"
     ]
    }
   ],
   "source": [
    "min_sec(1.26e9/20/63.2e3)"
   ]
  },
  {
   "cell_type": "code",
   "execution_count": null,
   "metadata": {},
   "outputs": [],
   "source": []
  }
 ],
 "metadata": {
  "kernelspec": {
   "display_name": "Python 3",
   "language": "python",
   "name": "python3"
  },
  "language_info": {
   "codemirror_mode": {
    "name": "ipython",
    "version": 3
   },
   "file_extension": ".py",
   "mimetype": "text/x-python",
   "name": "python",
   "nbconvert_exporter": "python",
   "pygments_lexer": "ipython3",
   "version": "3.11.9"
  }
 },
 "nbformat": 4,
 "nbformat_minor": 2
}
